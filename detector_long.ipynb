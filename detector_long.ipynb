{
 "cells": [
  {
   "cell_type": "markdown",
   "id": "boring-knock",
   "metadata": {},
   "source": [
    "## Detection of dolphin whistles on each file & encounter\n",
    "## Use the trained model to extract features and then apply RNN"
   ]
  },
  {
   "cell_type": "code",
   "execution_count": 143,
   "id": "organized-tribe",
   "metadata": {},
   "outputs": [],
   "source": [
    "import os\n",
    "import numpy as np\n",
    "import librosa\n",
    "import tensorflow as tf"
   ]
  },
  {
   "cell_type": "code",
   "execution_count": 144,
   "id": "attached-architect",
   "metadata": {},
   "outputs": [],
   "source": [
    "from math import floor\n",
    "from lib_augment import load_and_normalize\n",
    "from lib_feature import feature_whistleness\n",
    "\n",
    "%matplotlib inline\n",
    "import matplotlib.pyplot as plt\n"
   ]
  },
  {
   "cell_type": "code",
   "execution_count": null,
   "id": "confirmed-bloom",
   "metadata": {},
   "outputs": [],
   "source": [
    "# mapping folder name to species id"
   ]
  },
  {
   "cell_type": "code",
   "execution_count": 145,
   "id": "sticky-chile",
   "metadata": {
    "scrolled": true
   },
   "outputs": [
    {
     "name": "stdout",
     "output_type": "stream",
     "text": [
      "Model: \"model\"\n",
      "__________________________________________________________________________________________________\n",
      "Layer (type)                    Output Shape         Param #     Connected to                     \n",
      "==================================================================================================\n",
      "input_1 (InputLayer)            [(None, 100, 128, 1) 0                                            \n",
      "__________________________________________________________________________________________________\n",
      "conv0 (Conv2D)                  (None, 100, 128, 16) 144         input_1[0][0]                    \n",
      "__________________________________________________________________________________________________\n",
      "bn_conv1 (BatchNormalization)   (None, 100, 128, 16) 64          conv0[0][0]                      \n",
      "__________________________________________________________________________________________________\n",
      "activation (Activation)         (None, 100, 128, 16) 0           bn_conv1[0][0]                   \n",
      "__________________________________________________________________________________________________\n",
      "res2a_branch2a (Conv2D)         (None, 100, 128, 16) 2304        activation[0][0]                 \n",
      "__________________________________________________________________________________________________\n",
      "bn2a_branch2a (BatchNormalizati (None, 100, 128, 16) 64          res2a_branch2a[0][0]             \n",
      "__________________________________________________________________________________________________\n",
      "activation_1 (Activation)       (None, 100, 128, 16) 0           bn2a_branch2a[0][0]              \n",
      "__________________________________________________________________________________________________\n",
      "res2a_branch2b (Conv2D)         (None, 100, 128, 16) 2304        activation_1[0][0]               \n",
      "__________________________________________________________________________________________________\n",
      "res2a_branch1 (Conv2D)          (None, 100, 128, 16) 256         activation[0][0]                 \n",
      "__________________________________________________________________________________________________\n",
      "bn2a_branch2b (BatchNormalizati (None, 100, 128, 16) 64          res2a_branch2b[0][0]             \n",
      "__________________________________________________________________________________________________\n",
      "bn2a_branch1 (BatchNormalizatio (None, 100, 128, 16) 64          res2a_branch1[0][0]              \n",
      "__________________________________________________________________________________________________\n",
      "add (Add)                       (None, 100, 128, 16) 0           bn2a_branch2b[0][0]              \n",
      "                                                                 bn2a_branch1[0][0]               \n",
      "__________________________________________________________________________________________________\n",
      "activation_2 (Activation)       (None, 100, 128, 16) 0           add[0][0]                        \n",
      "__________________________________________________________________________________________________\n",
      "res2b_branch2a (Conv2D)         (None, 100, 128, 16) 2304        activation_2[0][0]               \n",
      "__________________________________________________________________________________________________\n",
      "bn2b_branch2a (BatchNormalizati (None, 100, 128, 16) 64          res2b_branch2a[0][0]             \n",
      "__________________________________________________________________________________________________\n",
      "activation_3 (Activation)       (None, 100, 128, 16) 0           bn2b_branch2a[0][0]              \n",
      "__________________________________________________________________________________________________\n",
      "res2b_branch2b (Conv2D)         (None, 100, 128, 16) 2304        activation_3[0][0]               \n",
      "__________________________________________________________________________________________________\n",
      "bn2b_branch2c (BatchNormalizati (None, 100, 128, 16) 64          res2b_branch2b[0][0]             \n",
      "__________________________________________________________________________________________________\n",
      "add_1 (Add)                     (None, 100, 128, 16) 0           bn2b_branch2c[0][0]              \n",
      "                                                                 activation_2[0][0]               \n",
      "__________________________________________________________________________________________________\n",
      "activation_4 (Activation)       (None, 100, 128, 16) 0           add_1[0][0]                      \n",
      "__________________________________________________________________________________________________\n",
      "res3a_branch2a (Conv2D)         (None, 100, 128, 32) 4608        activation_4[0][0]               \n",
      "__________________________________________________________________________________________________\n",
      "bn3a_branch2a (BatchNormalizati (None, 100, 128, 32) 128         res3a_branch2a[0][0]             \n",
      "__________________________________________________________________________________________________\n",
      "activation_5 (Activation)       (None, 100, 128, 32) 0           bn3a_branch2a[0][0]              \n",
      "__________________________________________________________________________________________________\n",
      "res3a_branch2b (Conv2D)         (None, 50, 64, 32)   9216        activation_5[0][0]               \n",
      "__________________________________________________________________________________________________\n",
      "res3a_branch1 (Conv2D)          (None, 50, 64, 32)   512         activation_4[0][0]               \n",
      "__________________________________________________________________________________________________\n",
      "bn3a_branch2b (BatchNormalizati (None, 50, 64, 32)   128         res3a_branch2b[0][0]             \n",
      "__________________________________________________________________________________________________\n",
      "bn3a_branch1 (BatchNormalizatio (None, 50, 64, 32)   128         res3a_branch1[0][0]              \n",
      "__________________________________________________________________________________________________\n",
      "add_2 (Add)                     (None, 50, 64, 32)   0           bn3a_branch2b[0][0]              \n",
      "                                                                 bn3a_branch1[0][0]               \n",
      "__________________________________________________________________________________________________\n",
      "activation_6 (Activation)       (None, 50, 64, 32)   0           add_2[0][0]                      \n",
      "__________________________________________________________________________________________________\n",
      "res3b_branch2a (Conv2D)         (None, 50, 64, 32)   9216        activation_6[0][0]               \n",
      "__________________________________________________________________________________________________\n",
      "bn3b_branch2a (BatchNormalizati (None, 50, 64, 32)   128         res3b_branch2a[0][0]             \n",
      "__________________________________________________________________________________________________\n",
      "activation_7 (Activation)       (None, 50, 64, 32)   0           bn3b_branch2a[0][0]              \n",
      "__________________________________________________________________________________________________\n",
      "res3b_branch2b (Conv2D)         (None, 50, 64, 32)   9216        activation_7[0][0]               \n",
      "__________________________________________________________________________________________________\n",
      "bn3b_branch2c (BatchNormalizati (None, 50, 64, 32)   128         res3b_branch2b[0][0]             \n",
      "__________________________________________________________________________________________________\n",
      "add_3 (Add)                     (None, 50, 64, 32)   0           bn3b_branch2c[0][0]              \n",
      "                                                                 activation_6[0][0]               \n",
      "__________________________________________________________________________________________________\n",
      "activation_8 (Activation)       (None, 50, 64, 32)   0           add_3[0][0]                      \n",
      "__________________________________________________________________________________________________\n",
      "res4a_branch2a (Conv2D)         (None, 50, 64, 64)   18432       activation_8[0][0]               \n",
      "__________________________________________________________________________________________________\n",
      "bn4a_branch2a (BatchNormalizati (None, 50, 64, 64)   256         res4a_branch2a[0][0]             \n",
      "__________________________________________________________________________________________________\n",
      "activation_9 (Activation)       (None, 50, 64, 64)   0           bn4a_branch2a[0][0]              \n",
      "__________________________________________________________________________________________________\n",
      "res4a_branch2b (Conv2D)         (None, 25, 32, 64)   36864       activation_9[0][0]               \n",
      "__________________________________________________________________________________________________\n",
      "res4a_branch1 (Conv2D)          (None, 25, 32, 64)   2048        activation_8[0][0]               \n",
      "__________________________________________________________________________________________________\n",
      "bn4a_branch2b (BatchNormalizati (None, 25, 32, 64)   256         res4a_branch2b[0][0]             \n",
      "__________________________________________________________________________________________________\n",
      "bn4a_branch1 (BatchNormalizatio (None, 25, 32, 64)   256         res4a_branch1[0][0]              \n",
      "__________________________________________________________________________________________________\n",
      "add_4 (Add)                     (None, 25, 32, 64)   0           bn4a_branch2b[0][0]              \n",
      "                                                                 bn4a_branch1[0][0]               \n",
      "__________________________________________________________________________________________________\n",
      "activation_10 (Activation)      (None, 25, 32, 64)   0           add_4[0][0]                      \n",
      "__________________________________________________________________________________________________\n",
      "res4b_branch2a (Conv2D)         (None, 25, 32, 64)   36864       activation_10[0][0]              \n",
      "__________________________________________________________________________________________________\n",
      "bn4b_branch2a (BatchNormalizati (None, 25, 32, 64)   256         res4b_branch2a[0][0]             \n",
      "__________________________________________________________________________________________________\n",
      "activation_11 (Activation)      (None, 25, 32, 64)   0           bn4b_branch2a[0][0]              \n",
      "__________________________________________________________________________________________________\n",
      "res4b_branch2b (Conv2D)         (None, 25, 32, 64)   36864       activation_11[0][0]              \n",
      "__________________________________________________________________________________________________\n",
      "bn4b_branch2c (BatchNormalizati (None, 25, 32, 64)   256         res4b_branch2b[0][0]             \n",
      "__________________________________________________________________________________________________\n",
      "add_5 (Add)                     (None, 25, 32, 64)   0           bn4b_branch2c[0][0]              \n",
      "                                                                 activation_10[0][0]              \n",
      "__________________________________________________________________________________________________\n",
      "activation_12 (Activation)      (None, 25, 32, 64)   0           add_5[0][0]                      \n",
      "__________________________________________________________________________________________________\n",
      "res5a_branch2a (Conv2D)         (None, 25, 32, 128)  73728       activation_12[0][0]              \n",
      "__________________________________________________________________________________________________\n",
      "bn5a_branch2a (BatchNormalizati (None, 25, 32, 128)  512         res5a_branch2a[0][0]             \n",
      "__________________________________________________________________________________________________\n",
      "activation_13 (Activation)      (None, 25, 32, 128)  0           bn5a_branch2a[0][0]              \n",
      "__________________________________________________________________________________________________\n",
      "res5a_branch2b (Conv2D)         (None, 13, 16, 128)  147456      activation_13[0][0]              \n",
      "__________________________________________________________________________________________________\n",
      "res5a_branch1 (Conv2D)          (None, 13, 16, 128)  8192        activation_12[0][0]              \n",
      "__________________________________________________________________________________________________\n",
      "bn5a_branch2b (BatchNormalizati (None, 13, 16, 128)  512         res5a_branch2b[0][0]             \n",
      "__________________________________________________________________________________________________\n",
      "bn5a_branch1 (BatchNormalizatio (None, 13, 16, 128)  512         res5a_branch1[0][0]              \n",
      "__________________________________________________________________________________________________\n",
      "add_6 (Add)                     (None, 13, 16, 128)  0           bn5a_branch2b[0][0]              \n",
      "                                                                 bn5a_branch1[0][0]               \n",
      "__________________________________________________________________________________________________\n",
      "activation_14 (Activation)      (None, 13, 16, 128)  0           add_6[0][0]                      \n",
      "__________________________________________________________________________________________________\n",
      "res5b_branch2a (Conv2D)         (None, 13, 16, 128)  147456      activation_14[0][0]              \n",
      "__________________________________________________________________________________________________\n",
      "bn5b_branch2a (BatchNormalizati (None, 13, 16, 128)  512         res5b_branch2a[0][0]             \n",
      "__________________________________________________________________________________________________\n",
      "activation_15 (Activation)      (None, 13, 16, 128)  0           bn5b_branch2a[0][0]              \n",
      "__________________________________________________________________________________________________\n",
      "res5b_branch2b (Conv2D)         (None, 13, 16, 128)  147456      activation_15[0][0]              \n",
      "__________________________________________________________________________________________________\n",
      "bn5b_branch2c (BatchNormalizati (None, 13, 16, 128)  512         res5b_branch2b[0][0]             \n",
      "__________________________________________________________________________________________________\n",
      "add_7 (Add)                     (None, 13, 16, 128)  0           bn5b_branch2c[0][0]              \n",
      "                                                                 activation_14[0][0]              \n",
      "__________________________________________________________________________________________________\n",
      "activation_16 (Activation)      (None, 13, 16, 128)  0           add_7[0][0]                      \n",
      "__________________________________________________________________________________________________\n",
      "avg_pool (GlobalAveragePooling2 (None, 128)          0           activation_16[0][0]              \n",
      "__________________________________________________________________________________________________\n",
      "dense (Dense)                   (None, 2)            258         avg_pool[0][0]                   \n",
      "==================================================================================================\n",
      "Total params: 702,866\n",
      "Trainable params: 700,434\n",
      "Non-trainable params: 2,432\n",
      "__________________________________________________________________________________________________\n",
      "Model: \"model\"\n",
      "_________________________________________________________________\n",
      "Layer (type)                 Output Shape              Param #   \n",
      "=================================================================\n",
      "input (InputLayer)           [(None, 100, 128, 1)]     0         \n",
      "_________________________________________________________________\n",
      "conv2d (Conv2D)              (None, 100, 128, 16)      160       \n",
      "_________________________________________________________________\n",
      "batch_normalization (BatchNo (None, 100, 128, 16)      64        \n",
      "_________________________________________________________________\n",
      "activation (Activation)      (None, 100, 128, 16)      0         \n",
      "_________________________________________________________________\n",
      "conv2d_1 (Conv2D)            (None, 100, 128, 16)      2320      \n",
      "_________________________________________________________________\n",
      "batch_normalization_1 (Batch (None, 100, 128, 16)      64        \n",
      "_________________________________________________________________\n",
      "activation_1 (Activation)    (None, 100, 128, 16)      0         \n",
      "_________________________________________________________________\n",
      "max_pooling2d (MaxPooling2D) (None, 50, 64, 16)        0         \n",
      "_________________________________________________________________\n",
      "dropout (Dropout)            (None, 50, 64, 16)        0         \n",
      "_________________________________________________________________\n",
      "conv2d_2 (Conv2D)            (None, 50, 64, 32)        4640      \n",
      "_________________________________________________________________\n",
      "batch_normalization_2 (Batch (None, 50, 64, 32)        128       \n",
      "_________________________________________________________________\n",
      "activation_2 (Activation)    (None, 50, 64, 32)        0         \n",
      "_________________________________________________________________\n",
      "conv2d_3 (Conv2D)            (None, 50, 64, 32)        9248      \n",
      "_________________________________________________________________\n",
      "batch_normalization_3 (Batch (None, 50, 64, 32)        128       \n",
      "_________________________________________________________________\n",
      "activation_3 (Activation)    (None, 50, 64, 32)        0         \n",
      "_________________________________________________________________\n",
      "max_pooling2d_1 (MaxPooling2 (None, 25, 32, 32)        0         \n",
      "_________________________________________________________________\n",
      "dropout_1 (Dropout)          (None, 25, 32, 32)        0         \n",
      "_________________________________________________________________\n",
      "conv2d_4 (Conv2D)            (None, 25, 32, 64)        18496     \n",
      "_________________________________________________________________\n",
      "batch_normalization_4 (Batch (None, 25, 32, 64)        256       \n",
      "_________________________________________________________________\n",
      "activation_4 (Activation)    (None, 25, 32, 64)        0         \n",
      "_________________________________________________________________\n",
      "conv2d_5 (Conv2D)            (None, 25, 32, 64)        36928     \n",
      "_________________________________________________________________\n",
      "batch_normalization_5 (Batch (None, 25, 32, 64)        256       \n",
      "_________________________________________________________________\n",
      "activation_5 (Activation)    (None, 25, 32, 64)        0         \n",
      "_________________________________________________________________\n",
      "max_pooling2d_2 (MaxPooling2 (None, 13, 16, 64)        0         \n",
      "_________________________________________________________________\n",
      "dropout_2 (Dropout)          (None, 13, 16, 64)        0         \n",
      "_________________________________________________________________\n",
      "conv2d_6 (Conv2D)            (None, 13, 16, 128)       73856     \n",
      "_________________________________________________________________\n",
      "batch_normalization_6 (Batch (None, 13, 16, 128)       512       \n",
      "_________________________________________________________________\n",
      "activation_6 (Activation)    (None, 13, 16, 128)       0         \n",
      "_________________________________________________________________\n",
      "conv2d_7 (Conv2D)            (None, 13, 16, 128)       147584    \n",
      "_________________________________________________________________\n",
      "batch_normalization_7 (Batch (None, 13, 16, 128)       512       \n",
      "_________________________________________________________________\n",
      "activation_7 (Activation)    (None, 13, 16, 128)       0         \n",
      "_________________________________________________________________\n",
      "max_pooling2d_3 (MaxPooling2 (None, 7, 8, 128)         0         \n",
      "_________________________________________________________________\n",
      "dropout_3 (Dropout)          (None, 7, 8, 128)         0         \n",
      "_________________________________________________________________\n",
      "conv2d_8 (Conv2D)            (None, 7, 8, 256)         295168    \n",
      "_________________________________________________________________\n",
      "batch_normalization_8 (Batch (None, 7, 8, 256)         1024      \n",
      "_________________________________________________________________\n",
      "activation_8 (Activation)    (None, 7, 8, 256)         0         \n",
      "_________________________________________________________________\n",
      "conv2d_9 (Conv2D)            (None, 7, 8, 256)         590080    \n",
      "_________________________________________________________________\n",
      "batch_normalization_9 (Batch (None, 7, 8, 256)         1024      \n",
      "_________________________________________________________________\n",
      "activation_9 (Activation)    (None, 7, 8, 256)         0         \n",
      "_________________________________________________________________\n",
      "spatial_pyramid_pooling2d (S (None, 21, 256)           0         \n",
      "_________________________________________________________________\n",
      "reshape (Reshape)            (None, 5376)              0         \n",
      "_________________________________________________________________\n",
      "dense (Dense)                (None, 256)               1376512   \n",
      "_________________________________________________________________\n",
      "batch_normalization_10 (Batc (None, 256)               1024      \n",
      "_________________________________________________________________\n",
      "activation_10 (Activation)   (None, 256)               0         \n",
      "_________________________________________________________________\n",
      "dropout_4 (Dropout)          (None, 256)               0         \n",
      "_________________________________________________________________\n",
      "dense_1 (Dense)              (None, 256)               65792     \n",
      "_________________________________________________________________\n",
      "batch_normalization_11 (Batc (None, 256)               1024      \n",
      "_________________________________________________________________\n",
      "activation_11 (Activation)   (None, 256)               0         \n",
      "_________________________________________________________________\n",
      "dropout_5 (Dropout)          (None, 256)               0         \n",
      "_________________________________________________________________\n",
      "dense_2 (Dense)              (None, 256)               65792     \n",
      "_________________________________________________________________\n",
      "batch_normalization_12 (Batc (None, 256)               1024      \n",
      "_________________________________________________________________\n",
      "activation_12 (Activation)   (None, 256)               0         \n",
      "_________________________________________________________________\n",
      "dropout_6 (Dropout)          (None, 256)               0         \n",
      "_________________________________________________________________\n",
      "dense_3 (Dense)              (None, 8)                 2056      \n",
      "=================================================================\n",
      "Total params: 2,695,672\n",
      "Trainable params: 2,692,152\n",
      "Non-trainable params: 3,520\n",
      "_________________________________________________________________\n"
     ]
    }
   ],
   "source": [
    "# loading the trained model\n",
    "from tensorflow.keras.models import load_model\n",
    "import tensorflow_addons.layers.spatial_pyramid_pooling as spp\n",
    "\n",
    "\n",
    "model_whistleness_path = '/home/ys587/__Data/__whistle/__whislte_30_species/__fit_result_whistleness/2021-02-02_200514_resnet18_expt_alldata_run0_f1_lr_0.001/epoch_163_valloss_0.2434_valacc_0.9472.hdf5'\n",
    "model_whistleness = load_model(model_whistleness_path)\n",
    "model_whistleness.summary()\n",
    "\n",
    "# model_path = '/home/ys587/__Data/__whistle/__whislte_30_species/__fit_result_species/20210303_233728/STAR2000/epoch_53_valloss_0.9505_valacc_0.7552.hdf5'\n",
    "# model_path = '/home/ys587/__Data/__whistle/__whislte_30_species/__fit_result_species/20210305_105231/STAR2000/epoch_56_valloss_0.1945_valacc_0.7305.hdf5'\n",
    "model_species_path = '/home/ys587/__Data/__whistle/__whislte_30_species/__fit_result_species/20210310_095616/STAR2000/epoch_48_valloss_0.1938_valacc_0.7403.hdf5'\n",
    "\n",
    "model_species = load_model(model_species_path)\n",
    "model_species.summary()"
   ]
  },
  {
   "cell_type": "code",
   "execution_count": 86,
   "id": "foster-burke",
   "metadata": {},
   "outputs": [],
   "source": [
    "# training"
   ]
  },
  {
   "cell_type": "code",
   "execution_count": 97,
   "id": "turned-hollow",
   "metadata": {},
   "outputs": [],
   "source": [
    "def enounter_features(encounter_folder):\n",
    "    sound_files = os.listdir(encounter_folder)\n",
    "\n",
    "    spec_feas_curr = []\n",
    "    # for ff in sound_files:\n",
    "    for ff in sound_files[:2]:\n",
    "    # for ff in [sound_files[1]]:\n",
    "        print(ff)\n",
    "        samples, _ = librosa.load(os.path.join(encounter_folder, ff), sr=fs)\n",
    "        print('Sound length: '+str(samples.shape[0]/fs))\n",
    "        if samples.ndim >= 2:\n",
    "            samples = samples[:, 0]\n",
    "\n",
    "        for ss in range(floor((samples.shape[0]-win_size)/step_size)+1):\n",
    "            samples_curr = samples[ss*step_size:ss*step_size+win_size]\n",
    "            samples_curr = samples_curr - samples_curr.mean()\n",
    "\n",
    "            spectro = librosa.feature.melspectrogram(samples_curr,sr=fs, hop_length=960)\n",
    "            # spectro = librosa.feature.melspectrogram(samples_curr,sr=fs)\n",
    "            spec_feas_curr.append(feature_whistleness(spectro))\n",
    "    spec_feas = np.stack(spec_feas_curr)\n",
    "    spec_feas = np.expand_dims(spec_feas[:, :100, :], axis=3)\n",
    "    \n",
    "    # score = model_species.predict(spec_feas)\n",
    "    \n",
    "    return spec_feas"
   ]
  },
  {
   "cell_type": "code",
   "execution_count": 278,
   "id": "armed-bunch",
   "metadata": {},
   "outputs": [],
   "source": [
    "# deploy_path_train1 = '/home/ys587/__Data/__whistle/__whislte_30_species/__sound_48k/__whistle_oswald/STAR2003_48kHz'\n",
    "# deploy_path_train1 = '/home/ys587/__Data/__whistle/__whislte_30_species/__sound_48k/__whistle_oswald/STAR2006_48kHz'\n",
    "deploy_path_train1 = '/home/ys587/__Data/__whistle/__whislte_30_species/__sound_48k/__whistle_oswald/HICEAS2002_48kHz'\n",
    "# deploy_path_train1 = '/home/ys587/__Data/__whistle/__whislte_30_species/__sound_48k/__whistle_oswald/PICEAS2005_48kHz'\n",
    "\n",
    "deploy_path_test = '/home/ys587/__Data/__whistle/__whislte_30_species/__sound_48k/__whistle_oswald/STAR2000_48kHz'\n",
    "species_dict = {'BD': 0, 'CD': 1, 'STR': 2, 'SPT': 3, 'SPIN': 4, 'PLT': 5, 'RT': 6,  'FKW': 7}\n",
    "fs = 48000\n",
    "time_reso = 0.02\n",
    "hop_length = int(time_reso*fs)  #\n",
    "\n",
    "step_sec = 0.5\n",
    "# step_size = int(1.0*fs)\n",
    "step_size = int(step_sec*fs)\n",
    "win_size = int(2.0*fs)"
   ]
  },
  {
   "cell_type": "code",
   "execution_count": 279,
   "id": "noticed-boxing",
   "metadata": {},
   "outputs": [],
   "source": [
    "encounter_train1 =  os.listdir(deploy_path_train1)\n",
    "encounter_train1.sort()"
   ]
  },
  {
   "cell_type": "code",
   "execution_count": 280,
   "id": "spare-garden",
   "metadata": {
    "scrolled": true
   },
   "outputs": [
    {
     "data": {
      "text/plain": [
       "['bottlenose s165',\n",
       " 'pilot s219',\n",
       " 'pilot s228',\n",
       " 'pilot s261',\n",
       " 'pilot s317',\n",
       " 'pilot s318',\n",
       " 'roughtoothed s125',\n",
       " 'roughtoothed s167',\n",
       " 'roughtoothed s194',\n",
       " 'roughtoothed s234',\n",
       " 'roughtoothed s245',\n",
       " 'spinner s132',\n",
       " 'spotted s129',\n",
       " 'spotted s138',\n",
       " 'spotted s195',\n",
       " 'spotted s280',\n",
       " 'spotted s296',\n",
       " 'striped s124',\n",
       " 'striped s160',\n",
       " 'striped s189',\n",
       " 'striped s205',\n",
       " 'striped s244']"
      ]
     },
     "execution_count": 280,
     "metadata": {},
     "output_type": "execute_result"
    }
   ],
   "source": [
    "encounter_train1"
   ]
  },
  {
   "cell_type": "code",
   "execution_count": 281,
   "id": "labeled-amount",
   "metadata": {},
   "outputs": [],
   "source": [
    "encounter_test =  os.listdir(deploy_path_test)\n",
    "encounter_test.sort()"
   ]
  },
  {
   "cell_type": "code",
   "execution_count": 282,
   "id": "accompanied-platform",
   "metadata": {
    "scrolled": true
   },
   "outputs": [
    {
     "data": {
      "text/plain": [
       "['bottlenose s352',\n",
       " 'bottlenose s46',\n",
       " 'longbeaked_common s329',\n",
       " 'longbeaked_common s338',\n",
       " 'pilot s288',\n",
       " 'roughtoothed s417',\n",
       " 'shortbeaked_common s282',\n",
       " 'shortbeaked_common s302',\n",
       " 'shortbeaked_common s303',\n",
       " 'shortbeaked_common s313',\n",
       " 'shortbeaked_common s346',\n",
       " 'shortbeaked_common s368',\n",
       " 'shortbeaked_common s374',\n",
       " 'shortbeaked_common s375',\n",
       " 'shortbeaked_common s376',\n",
       " 'shortbeaked_common s377',\n",
       " 'shortbeaked_common s378',\n",
       " 'shortbeaked_common s48',\n",
       " 'shortbeaked_common s515',\n",
       " 'shortbeaked_common s561',\n",
       " 'spinner s111',\n",
       " 'spinner s447',\n",
       " 'spinner s459',\n",
       " 'spinner s522',\n",
       " 'spinner s63',\n",
       " 'spotted s125',\n",
       " 'spotted s394',\n",
       " 'spotted s42',\n",
       " 'spotted s498',\n",
       " 'striped s17',\n",
       " 'striped s274',\n",
       " 'striped s380',\n",
       " 'striped s39',\n",
       " 'striped s395',\n",
       " 'striped s396',\n",
       " 'striped s398',\n",
       " 'striped s399',\n",
       " 'striped s445',\n",
       " 'striped s455',\n",
       " 'striped s472',\n",
       " 'striped s483',\n",
       " 'striped s6',\n",
       " 'striped s88',\n",
       " 'striped s92']"
      ]
     },
     "execution_count": 282,
     "metadata": {},
     "output_type": "execute_result"
    }
   ],
   "source": [
    "encounter_test"
   ]
  },
  {
   "cell_type": "code",
   "execution_count": 292,
   "id": "acceptable-barrel",
   "metadata": {},
   "outputs": [
    {
     "name": "stdout",
     "output_type": "stream",
     "text": [
      "pilot s318\n",
      "\n",
      "HICEAS021204-155619.wav\n",
      "Sound length: 45.32\n",
      "HICEAS021204-160808.wav\n",
      "Sound length: 60.0\n"
     ]
    }
   ],
   "source": [
    "### run on a encounter encounter[0]\n",
    "ee = encounter_train1[5]\n",
    "print(ee+'\\n')\n",
    "\n",
    "encounter_folder = os.path.join(deploy_path_train1, ee)\n",
    "spec_feas = enounter_features(encounter_folder)"
   ]
  },
  {
   "cell_type": "code",
   "execution_count": 293,
   "id": "taken-blind",
   "metadata": {},
   "outputs": [],
   "source": [
    "whistleness = model_whistleness.predict(spec_feas)\n",
    "scores = model_species.predict(spec_feas)"
   ]
  },
  {
   "cell_type": "code",
   "execution_count": 294,
   "id": "japanese-vision",
   "metadata": {},
   "outputs": [],
   "source": [
    "whistleness_bin = whistleness[:, 1]>0.9"
   ]
  },
  {
   "cell_type": "code",
   "execution_count": 295,
   "id": "found-swing",
   "metadata": {},
   "outputs": [],
   "source": [
    "# for those sound clips trained well, extract features in 3 s and re-train"
   ]
  },
  {
   "cell_type": "code",
   "execution_count": 296,
   "id": "emotional-internet",
   "metadata": {},
   "outputs": [
    {
     "data": {
      "image/png": "[encoded data removed]",
      "text/plain": [
       "<Figure size 1440x360 with 10 Axes>"
      ]
     },
     "metadata": {
      "needs_background": "light"
     },
     "output_type": "display_data"
    }
   ],
   "source": [
    "# for tt in range(0, 1800, 100):\n",
    "fig, ax = plt.subplots(10, 1, figsize=(20, 5), sharex=True, sharey=True)\n",
    "# for tt in range(0, min(1000, int(floor(whistleness.shape[0]/100.))*100 ), 100):\n",
    "for ii in range(min(10, int(floor(whistleness_bin.shape[0]/100.)))):\n",
    "    tt = ii*100\n",
    "    ax[ii].plot(np.linspace(0, 100*step_sec, num=100), whistleness_bin[tt:tt+100].T, 'bo')\n",
    "    ax[ii].grid()\n",
    "# plt.colorbar()"
   ]
  },
  {
   "cell_type": "code",
   "execution_count": 297,
   "id": "medieval-seeking",
   "metadata": {},
   "outputs": [
    {
     "data": {
      "text/plain": [
       "(204, 8)"
      ]
     },
     "execution_count": 297,
     "metadata": {},
     "output_type": "execute_result"
    }
   ],
   "source": [
    "scores.shape"
   ]
  },
  {
   "cell_type": "code",
   "execution_count": 298,
   "id": "senior-illinois",
   "metadata": {},
   "outputs": [
    {
     "data": {
      "image/png": "[encoded data removed]",
      "text/plain": [
       "<Figure size 1440x1440 with 10 Axes>"
      ]
     },
     "metadata": {
      "needs_background": "light"
     },
     "output_type": "display_data"
    }
   ],
   "source": [
    "# # for tt in range(0, 1800, 100):\n",
    "# for tt in range(0, min(1000, int(floor(scores.shape[0]/100.))*100 ), 100):\n",
    "#     plt.matshow(scores[tt:tt+100, :].T)\n",
    "# # plt.colorbar()\n",
    "\n",
    "fig, ax = plt.subplots(10, 1, figsize=(20, 20), sharex=True, sharey=True)\n",
    "for ii in range(min(10, int(floor(scores.shape[0]/100.)))):\n",
    "    tt = ii*100\n",
    "    ax[ii].matshow(scores[tt:tt+100, :].T)\n",
    "    ax[ii].grid()\n"
   ]
  },
  {
   "cell_type": "code",
   "execution_count": 299,
   "id": "gorgeous-warrant",
   "metadata": {},
   "outputs": [
    {
     "data": {
      "image/png": "[encoded data removed]",
      "text/plain": [
       "<Figure size 1440x2880 with 20 Axes>"
      ]
     },
     "metadata": {
      "needs_background": "light"
     },
     "output_type": "display_data"
    }
   ],
   "source": [
    "fig, ax = plt.subplots(20, 1, figsize=(20, 40), sharex=True, sharey=True)\n",
    "for ii in range(min(10, int(floor(scores.shape[0]/100.)))):\n",
    "    tt = ii*100\n",
    "    # species\n",
    "    ax[2*ii].matshow(scores[tt:tt+100, :].T)\n",
    "    ax[2*ii].grid()\n",
    "    \n",
    "    # species scores x whistleness\n",
    "    ax[2*ii+1].matshow((scores[tt:tt+100, :]*(np.multiply(whistleness_bin[tt:tt+100].reshape(-1, 1), np.ones((1,8))))).T)\n",
    "    ax[2*ii+1].grid()\n",
    "    "
   ]
  },
  {
   "cell_type": "raw",
   "id": "placed-shuttle",
   "metadata": {},
   "source": [
    "fig, ax = plt.subplots(1, 2, figsize=(14, 6))\n",
    "ave_score = np.sqrt(((scores**2.0)*(np.multiply(whistleness_bin.reshape(-1, 1), np.ones((1,8))))*((scores>0.5))).mean(axis=0))\n",
    "ax[0].bar(list(species_dict.keys()), ave_score)\n",
    "ax[1].bar(list(species_dict.keys()),(scores>0.5).sum(axis=0))"
   ]
  },
  {
   "cell_type": "code",
   "execution_count": null,
   "id": "joint-steps",
   "metadata": {},
   "outputs": [],
   "source": []
  },
  {
   "cell_type": "code",
   "execution_count": null,
   "id": "hazardous-cooling",
   "metadata": {},
   "outputs": [],
   "source": []
  },
  {
   "cell_type": "code",
   "execution_count": 78,
   "id": "charged-coating",
   "metadata": {},
   "outputs": [],
   "source": [
    "# get the model layer before the spatial pyramid pooling"
   ]
  },
  {
   "cell_type": "code",
   "execution_count": 79,
   "id": "joined-arrangement",
   "metadata": {},
   "outputs": [],
   "source": [
    "inputs = tf.keras.Input(shape=(100, 128, 1))"
   ]
  },
  {
   "cell_type": "code",
   "execution_count": 80,
   "id": "significant-amino",
   "metadata": {
    "scrolled": true
   },
   "outputs": [
    {
     "data": {
      "text/plain": [
       "[<tensorflow.python.keras.engine.input_layer.InputLayer at 0x7ff41c045850>,\n",
       " <tensorflow.python.keras.layers.convolutional.Conv2D at 0x7ff460310340>,\n",
       " <tensorflow.python.keras.layers.normalization_v2.BatchNormalization at 0x7ff41c045130>,\n",
       " <tensorflow.python.keras.layers.core.Activation at 0x7ff41c045a60>,\n",
       " <tensorflow.python.keras.layers.convolutional.Conv2D at 0x7ff41c045eb0>,\n",
       " <tensorflow.python.keras.layers.normalization_v2.BatchNormalization at 0x7ff460233790>,\n",
       " <tensorflow.python.keras.layers.core.Activation at 0x7ff4785dfac0>,\n",
       " <tensorflow.python.keras.layers.pooling.MaxPooling2D at 0x7ff4785df220>,\n",
       " <tensorflow.python.keras.layers.core.Dropout at 0x7ff46038bfa0>,\n",
       " <tensorflow.python.keras.layers.convolutional.Conv2D at 0x7ff46038b610>,\n",
       " <tensorflow.python.keras.layers.normalization_v2.BatchNormalization at 0x7ff4603a0580>,\n",
       " <tensorflow.python.keras.layers.core.Activation at 0x7ff46033dcd0>,\n",
       " <tensorflow.python.keras.layers.convolutional.Conv2D at 0x7ff46033d430>,\n",
       " <tensorflow.python.keras.layers.normalization_v2.BatchNormalization at 0x7ff460396d90>,\n",
       " <tensorflow.python.keras.layers.core.Activation at 0x7ff4604223d0>,\n",
       " <tensorflow.python.keras.layers.pooling.MaxPooling2D at 0x7ff460422c10>,\n",
       " <tensorflow.python.keras.layers.core.Dropout at 0x7ff4603376d0>,\n",
       " <tensorflow.python.keras.layers.convolutional.Conv2D at 0x7ff46042bb80>,\n",
       " <tensorflow.python.keras.layers.normalization_v2.BatchNormalization at 0x7ff46042bac0>,\n",
       " <tensorflow.python.keras.layers.core.Activation at 0x7ff46042bbe0>,\n",
       " <tensorflow.python.keras.layers.convolutional.Conv2D at 0x7ff46042b700>,\n",
       " <tensorflow.python.keras.layers.normalization_v2.BatchNormalization at 0x7ff460403910>,\n",
       " <tensorflow.python.keras.layers.core.Activation at 0x7ff460403eb0>,\n",
       " <tensorflow.python.keras.layers.pooling.MaxPooling2D at 0x7ff460403340>,\n",
       " <tensorflow.python.keras.layers.core.Dropout at 0x7ff460463bb0>,\n",
       " <tensorflow.python.keras.layers.convolutional.Conv2D at 0x7ff460463a00>,\n",
       " <tensorflow.python.keras.layers.normalization_v2.BatchNormalization at 0x7ff460463670>,\n",
       " <tensorflow.python.keras.layers.core.Activation at 0x7ff4603bb8b0>,\n",
       " <tensorflow.python.keras.layers.convolutional.Conv2D at 0x7ff4603bbc40>,\n",
       " <tensorflow.python.keras.layers.normalization_v2.BatchNormalization at 0x7ff4603bbcd0>,\n",
       " <tensorflow.python.keras.layers.core.Activation at 0x7ff4603bbb50>,\n",
       " <tensorflow.python.keras.layers.pooling.MaxPooling2D at 0x7ff4603bbc10>,\n",
       " <tensorflow.python.keras.layers.core.Dropout at 0x7ff460401ca0>,\n",
       " <tensorflow.python.keras.layers.convolutional.Conv2D at 0x7ff460401040>,\n",
       " <tensorflow.python.keras.layers.normalization_v2.BatchNormalization at 0x7ff46039b490>,\n",
       " <tensorflow.python.keras.layers.core.Activation at 0x7ff46040a520>,\n",
       " <tensorflow.python.keras.layers.convolutional.Conv2D at 0x7ff46040a730>,\n",
       " <tensorflow.python.keras.layers.normalization_v2.BatchNormalization at 0x7ff46040a0d0>,\n",
       " <tensorflow.python.keras.layers.core.Activation at 0x7ff46040ab50>,\n",
       " <tensorflow_addons.layers.spatial_pyramid_pooling.SpatialPyramidPooling2D at 0x7ff404726fd0>,\n",
       " <tensorflow.python.keras.layers.core.Reshape at 0x7ff46040aac0>,\n",
       " <tensorflow.python.keras.layers.core.Dense at 0x7ff404726df0>,\n",
       " <tensorflow.python.keras.layers.normalization_v2.BatchNormalization at 0x7ff3e0685250>,\n",
       " <tensorflow.python.keras.layers.core.Activation at 0x7ff404650d90>,\n",
       " <tensorflow.python.keras.layers.core.Dropout at 0x7ff404650fa0>,\n",
       " <tensorflow.python.keras.layers.core.Dense at 0x7ff4041c7400>,\n",
       " <tensorflow.python.keras.layers.normalization_v2.BatchNormalization at 0x7ff4041e7af0>,\n",
       " <tensorflow.python.keras.layers.core.Activation at 0x7ff404526430>,\n",
       " <tensorflow.python.keras.layers.core.Dropout at 0x7ff40454b2b0>,\n",
       " <tensorflow.python.keras.layers.core.Dense at 0x7ff479019310>,\n",
       " <tensorflow.python.keras.layers.normalization_v2.BatchNormalization at 0x7ff4603d45e0>,\n",
       " <tensorflow.python.keras.layers.core.Activation at 0x7ff4603d4ac0>,\n",
       " <tensorflow.python.keras.layers.core.Dropout at 0x7ff4603d4760>,\n",
       " <tensorflow.python.keras.layers.core.Dense at 0x7ff4603d4850>]"
      ]
     },
     "execution_count": 80,
     "metadata": {},
     "output_type": "execute_result"
    }
   ],
   "source": [
    "base_model.layers"
   ]
  },
  {
   "cell_type": "code",
   "execution_count": 81,
   "id": "civic-acquisition",
   "metadata": {},
   "outputs": [
    {
     "data": {
      "text/plain": [
       "<tensorflow.python.keras.layers.core.Reshape at 0x7ff46040aac0>"
      ]
     },
     "execution_count": 81,
     "metadata": {},
     "output_type": "execute_result"
    }
   ],
   "source": [
    "base_model.layers[40]"
   ]
  },
  {
   "cell_type": "code",
   "execution_count": 82,
   "id": "settled-procurement",
   "metadata": {},
   "outputs": [],
   "source": [
    "x = base_model.layers[0](inputs)\n",
    "for ii in range(1,40-1):\n",
    "    x = base_model.layers[ii](x)\n",
    "outputs = base_model.layers[39](x)"
   ]
  },
  {
   "cell_type": "code",
   "execution_count": 83,
   "id": "removable-modification",
   "metadata": {},
   "outputs": [],
   "source": [
    "model_new = tf.keras.Model(inputs, outputs)"
   ]
  },
  {
   "cell_type": "code",
   "execution_count": 84,
   "id": "physical-ireland",
   "metadata": {
    "scrolled": true
   },
   "outputs": [
    {
     "name": "stdout",
     "output_type": "stream",
     "text": [
      "Model: \"model_1\"\n",
      "_________________________________________________________________\n",
      "Layer (type)                 Output Shape              Param #   \n",
      "=================================================================\n",
      "input_2 (InputLayer)         [(None, 100, 128, 1)]     0         \n",
      "_________________________________________________________________\n",
      "input (InputLayer)           multiple                  0         \n",
      "_________________________________________________________________\n",
      "conv2d (Conv2D)              (None, 100, 128, 16)      160       \n",
      "_________________________________________________________________\n",
      "batch_normalization (BatchNo (None, 100, 128, 16)      64        \n",
      "_________________________________________________________________\n",
      "activation (Activation)      (None, 100, 128, 16)      0         \n",
      "_________________________________________________________________\n",
      "conv2d_1 (Conv2D)            (None, 100, 128, 16)      2320      \n",
      "_________________________________________________________________\n",
      "batch_normalization_1 (Batch (None, 100, 128, 16)      64        \n",
      "_________________________________________________________________\n",
      "activation_1 (Activation)    (None, 100, 128, 16)      0         \n",
      "_________________________________________________________________\n",
      "max_pooling2d (MaxPooling2D) (None, 50, 64, 16)        0         \n",
      "_________________________________________________________________\n",
      "dropout (Dropout)            (None, 50, 64, 16)        0         \n",
      "_________________________________________________________________\n",
      "conv2d_2 (Conv2D)            (None, 50, 64, 32)        4640      \n",
      "_________________________________________________________________\n",
      "batch_normalization_2 (Batch (None, 50, 64, 32)        128       \n",
      "_________________________________________________________________\n",
      "activation_2 (Activation)    (None, 50, 64, 32)        0         \n",
      "_________________________________________________________________\n",
      "conv2d_3 (Conv2D)            (None, 50, 64, 32)        9248      \n",
      "_________________________________________________________________\n",
      "batch_normalization_3 (Batch (None, 50, 64, 32)        128       \n",
      "_________________________________________________________________\n",
      "activation_3 (Activation)    (None, 50, 64, 32)        0         \n",
      "_________________________________________________________________\n",
      "max_pooling2d_1 (MaxPooling2 (None, 25, 32, 32)        0         \n",
      "_________________________________________________________________\n",
      "dropout_1 (Dropout)          (None, 25, 32, 32)        0         \n",
      "_________________________________________________________________\n",
      "conv2d_4 (Conv2D)            (None, 25, 32, 64)        18496     \n",
      "_________________________________________________________________\n",
      "batch_normalization_4 (Batch (None, 25, 32, 64)        256       \n",
      "_________________________________________________________________\n",
      "activation_4 (Activation)    (None, 25, 32, 64)        0         \n",
      "_________________________________________________________________\n",
      "conv2d_5 (Conv2D)            (None, 25, 32, 64)        36928     \n",
      "_________________________________________________________________\n",
      "batch_normalization_5 (Batch (None, 25, 32, 64)        256       \n",
      "_________________________________________________________________\n",
      "activation_5 (Activation)    (None, 25, 32, 64)        0         \n",
      "_________________________________________________________________\n",
      "max_pooling2d_2 (MaxPooling2 (None, 13, 16, 64)        0         \n",
      "_________________________________________________________________\n",
      "dropout_2 (Dropout)          (None, 13, 16, 64)        0         \n",
      "_________________________________________________________________\n",
      "conv2d_6 (Conv2D)            (None, 13, 16, 128)       73856     \n",
      "_________________________________________________________________\n",
      "batch_normalization_6 (Batch (None, 13, 16, 128)       512       \n",
      "_________________________________________________________________\n",
      "activation_6 (Activation)    (None, 13, 16, 128)       0         \n",
      "_________________________________________________________________\n",
      "conv2d_7 (Conv2D)            (None, 13, 16, 128)       147584    \n",
      "_________________________________________________________________\n",
      "batch_normalization_7 (Batch (None, 13, 16, 128)       512       \n",
      "_________________________________________________________________\n",
      "activation_7 (Activation)    (None, 13, 16, 128)       0         \n",
      "_________________________________________________________________\n",
      "max_pooling2d_3 (MaxPooling2 (None, 7, 8, 128)         0         \n",
      "_________________________________________________________________\n",
      "dropout_3 (Dropout)          (None, 7, 8, 128)         0         \n",
      "_________________________________________________________________\n",
      "conv2d_8 (Conv2D)            (None, 7, 8, 256)         295168    \n",
      "_________________________________________________________________\n",
      "batch_normalization_8 (Batch (None, 7, 8, 256)         1024      \n",
      "_________________________________________________________________\n",
      "activation_8 (Activation)    (None, 7, 8, 256)         0         \n",
      "_________________________________________________________________\n",
      "conv2d_9 (Conv2D)            (None, 7, 8, 256)         590080    \n",
      "_________________________________________________________________\n",
      "batch_normalization_9 (Batch (None, 7, 8, 256)         1024      \n",
      "_________________________________________________________________\n",
      "activation_9 (Activation)    (None, 7, 8, 256)         0         \n",
      "_________________________________________________________________\n",
      "spatial_pyramid_pooling2d (S (None, 21, 256)           0         \n",
      "=================================================================\n",
      "Total params: 1,182,448\n",
      "Trainable params: 1,180,464\n",
      "Non-trainable params: 1,984\n",
      "_________________________________________________________________\n"
     ]
    }
   ],
   "source": [
    "model_new.summary()"
   ]
  },
  {
   "cell_type": "code",
   "execution_count": 85,
   "id": "invisible-change",
   "metadata": {},
   "outputs": [],
   "source": [
    "# Build a new model to combine the features, either by (1) SPP or (2) attention pooling"
   ]
  },
  {
   "cell_type": "code",
   "execution_count": 60,
   "id": "known-helicopter",
   "metadata": {},
   "outputs": [
    {
     "data": {
      "text/plain": [
       "(1588, 8)"
      ]
     },
     "execution_count": 60,
     "metadata": {},
     "output_type": "execute_result"
    }
   ],
   "source": [
    "scores.shape"
   ]
  },
  {
   "cell_type": "code",
   "execution_count": null,
   "id": "employed-nevada",
   "metadata": {},
   "outputs": [],
   "source": [
    "spec_feas.shape"
   ]
  },
  {
   "cell_type": "code",
   "execution_count": null,
   "id": "clinical-better",
   "metadata": {},
   "outputs": [],
   "source": [
    "spp_fea = model_new.predict(spec_feas)"
   ]
  },
  {
   "cell_type": "code",
   "execution_count": null,
   "id": "centered-trial",
   "metadata": {},
   "outputs": [],
   "source": [
    "spp_fea.shape"
   ]
  },
  {
   "cell_type": "code",
   "execution_count": null,
   "id": "green-tucson",
   "metadata": {},
   "outputs": [],
   "source": []
  },
  {
   "cell_type": "code",
   "execution_count": null,
   "id": "private-pierce",
   "metadata": {},
   "outputs": [],
   "source": []
  },
  {
   "cell_type": "code",
   "execution_count": null,
   "id": "neutral-optics",
   "metadata": {},
   "outputs": [],
   "source": []
  },
  {
   "cell_type": "code",
   "execution_count": null,
   "id": "restricted-cologne",
   "metadata": {},
   "outputs": [],
   "source": []
  },
  {
   "cell_type": "markdown",
   "id": "israeli-enclosure",
   "metadata": {},
   "source": [
    "## Bottlenoise dolphin"
   ]
  },
  {
   "cell_type": "code",
   "execution_count": null,
   "id": "median-silly",
   "metadata": {},
   "outputs": [],
   "source": [
    "# run on a encounter encounter[0]\n",
    "ee = encounter[0]\n",
    "print(ee)\n",
    "encounter_folder = os.path.join(deploy_path, ee)\n",
    "score = prediction_enounter(encounter_folder)\n",
    "\n",
    "fig, ax = plt.subplots(1, 2, figsize=(14, 6))\n",
    "ax[0].bar(list(species_dict.keys()), np.sqrt((score**2.0).sum(axis=0)))\n",
    "ax[1].bar(list(species_dict.keys()), score.max(axis=0))"
   ]
  },
  {
   "cell_type": "markdown",
   "id": "trained-retailer",
   "metadata": {},
   "source": [
    "## Common dolphin"
   ]
  },
  {
   "cell_type": "code",
   "execution_count": null,
   "id": "internal-yield",
   "metadata": {},
   "outputs": [],
   "source": [
    "ee = encounter[10]\n",
    "print(ee+'\\n')\n",
    "encounter_folder = os.path.join(deploy_path, ee)\n",
    "score = prediction_enounter(encounter_folder)\n",
    "\n",
    "fig, ax = plt.subplots(1, 2, figsize=(14, 6))\n",
    "ax[0].bar(list(species_dict.keys()), np.sqrt((score**2.0).sum(axis=0)))\n",
    "ax[1].bar(list(species_dict.keys()), score.max(axis=0))"
   ]
  },
  {
   "cell_type": "markdown",
   "id": "introductory-cookbook",
   "metadata": {},
   "source": [
    "## Spinner"
   ]
  },
  {
   "cell_type": "code",
   "execution_count": null,
   "id": "tender-mobile",
   "metadata": {},
   "outputs": [],
   "source": [
    "ee = encounter[20]\n",
    "print(ee+'\\n')\n",
    "encounter_folder = os.path.join(deploy_path, ee)\n",
    "score = prediction_enounter(encounter_folder)\n",
    "\n",
    "fig, ax = plt.subplots(1, 2, figsize=(14, 6))\n",
    "ax[0].bar(list(species_dict.keys()), np.sqrt((score**2.0).sum(axis=0)))\n",
    "ax[1].bar(list(species_dict.keys()), score.max(axis=0))"
   ]
  },
  {
   "cell_type": "markdown",
   "id": "collected-congress",
   "metadata": {},
   "source": [
    "## Stripped dolphin"
   ]
  },
  {
   "cell_type": "code",
   "execution_count": null,
   "id": "economic-concord",
   "metadata": {},
   "outputs": [],
   "source": [
    "ee = encounter[30]\n",
    "print(ee+'\\n')\n",
    "encounter_folder = os.path.join(deploy_path, ee)\n",
    "score = prediction_enounter(encounter_folder)\n",
    "\n",
    "fig, ax = plt.subplots(1, 2, figsize=(14, 6))\n",
    "ax[0].bar(list(species_dict.keys()), np.sqrt((score**2.0).sum(axis=0)))\n",
    "ax[1].bar(list(species_dict.keys()), score.max(axis=0))"
   ]
  },
  {
   "cell_type": "markdown",
   "id": "behavioral-basis",
   "metadata": {},
   "source": [
    "## Stripped dolphin"
   ]
  },
  {
   "cell_type": "code",
   "execution_count": null,
   "id": "ordinary-animal",
   "metadata": {},
   "outputs": [],
   "source": [
    "ee = encounter[40]\n",
    "print(ee+'\\n')\n",
    "encounter_folder = os.path.join(deploy_path, ee)\n",
    "score = prediction_enounter(encounter_folder)\n",
    "\n",
    "fig, ax = plt.subplots(1, 2, figsize=(14, 6))\n",
    "ax[0].bar(list(species_dict.keys()), np.sqrt((score**2.0).sum(axis=0)))\n",
    "ax[1].bar(list(species_dict.keys()), score.max(axis=0))"
   ]
  },
  {
   "cell_type": "code",
   "execution_count": null,
   "id": "alternative-classics",
   "metadata": {},
   "outputs": [],
   "source": [
    "plt.plot(score[:, 1])"
   ]
  },
  {
   "cell_type": "code",
   "execution_count": null,
   "id": "theoretical-stocks",
   "metadata": {},
   "outputs": [],
   "source": []
  }
 ],
 "metadata": {
  "kernelspec": {
   "display_name": "Python 3",
   "language": "python",
   "name": "python3"
  },
  "language_info": {
   "codemirror_mode": {
    "name": "ipython",
    "version": 3
   },
   "file_extension": ".py",
   "mimetype": "text/x-python",
   "name": "python",
   "nbconvert_exporter": "python",
   "pygments_lexer": "ipython3",
   "version": "3.8.6"
  }
 },
 "nbformat": 4,
 "nbformat_minor": 5
}
