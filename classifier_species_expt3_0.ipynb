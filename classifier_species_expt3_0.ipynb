{
 "cells": [
  {
   "cell_type": "markdown",
   "metadata": {},
   "source": [
    "# Training species classifier Expt 3: cross-validation of Oswald data\n",
    "# Feb 16, 2021\n",
    "## The augemented noise is from the same deployment.\n",
    "## Trained on PICEAS2005 & STAR2000 whereas tested on HICEAS2002, STAR2003 & STAR2006\n"
   ]
  },
  {
   "cell_type": "code",
   "execution_count": 1,
   "metadata": {},
   "outputs": [],
   "source": [
    "import numpy as np\n",
    "from itertools import permutations\n",
    "import random\n",
    "import os\n",
    "import glob\n",
    "import pickle\n",
    "import matplotlib.pyplot as plt\n",
    "import matplotlib.patheffects as PathEffects\n",
    "import pandas as pd\n",
    "from os import makedirs\n",
    "from datetime import datetime\n",
    "from collections import Counter\n",
    "\n",
    "from math import floor\n",
    "\n",
    "from sklearn.model_selection import train_test_split\n",
    "from sklearn.utils import shuffle\n",
    "from sklearn.utils.class_weight import compute_class_weight\n",
    "from sklearn.metrics import roc_curve\n",
    "from sklearn.neighbors import KNeighborsClassifier\n",
    "from sklearn.metrics import confusion_matrix, classification_report\n",
    "\n",
    "# from MulticoreTSNE import MulticoreTSNE as TSNE\n",
    "# from sklearn.manifold import TSNE\n",
    "import seaborn as sns\n",
    "\n",
    "from tensorflow.keras.utils import Sequence\n",
    "from tensorflow.keras.layers import Input, Dense, BatchNormalization, Dropout, Activation\n",
    "from tensorflow.keras.layers import Conv2D, Lambda, Flatten, MaxPooling2D, Concatenate, LSTM, Reshape, Lambda, ConvLSTM2D, GlobalAveragePooling2D, GlobalMaxPooling2D\n",
    "from tensorflow.keras.layers import Bidirectional, LSTM, GRU\n",
    "from tensorflow.keras.models import Model, Sequential\n",
    "from tensorflow.keras.regularizers import l2\n",
    "from tensorflow.keras import backend as K\n",
    "\n",
    "from tensorflow.keras.optimizers.schedules import ExponentialDecay, PiecewiseConstantDecay\n",
    "from tensorflow.keras.optimizers import SGD,Adam\n",
    "from tensorflow.keras.losses import binary_crossentropy, CategoricalCrossentropy\n",
    "from tensorflow.keras.callbacks import ModelCheckpoint, TensorBoard, EarlyStopping\n",
    "from tensorflow.keras.utils import to_categorical\n",
    "from tensorflow.keras.models import load_model\n",
    "# import tensorflow_addons as tfa\n",
    "# import tensorflow_datasets as tfds\n",
    "from tensorflow.math import l2_normalize\n",
    "\n",
    "import tensorflow as tf"
   ]
  },
  {
   "cell_type": "code",
   "execution_count": 2,
   "metadata": {},
   "outputs": [],
   "source": [
    "%matplotlib inline\n",
    "import warnings\n",
    "warnings.filterwarnings(\"ignore\", category=DeprecationWarning)"
   ]
  },
  {
   "cell_type": "code",
   "execution_count": 3,
   "metadata": {},
   "outputs": [],
   "source": [
    "# Hyper parameters\n",
    "learning_rate = 1.0e-3\n",
    "conv_dim = 16\n",
    "rnn_dim = 16\n",
    "pool_size = 2\n",
    "pool_stride = 2\n",
    "l2_regu = 0.000\n",
    "drop_rate = 0.2\n",
    "hidden_units = 512\n",
    "fcn_dim = 512\n",
    "\n",
    "# learning_rate = 1.e-4\n",
    "# conv_dim = 64\n",
    "# rnn_dim = 16\n",
    "# pool_size = 2\n",
    "# pool_stride = 2\n",
    "# l2_regu = 0.00\n",
    "# drop_rate = 0.2\n",
    "# # drop_rate = 0.5\n",
    "# hidden_units = 512\n",
    "# fcn_dim = 512\n",
    "\n",
    "num_epoch = 200\n",
    "# batch_size = 128\n",
    "batch_size = 32  # for cnn14+attention\n",
    "\n",
    "num_patience = 20"
   ]
  },
  {
   "cell_type": "code",
   "execution_count": 4,
   "metadata": {},
   "outputs": [],
   "source": [
    "# data_type_dict = {1: 'universal', 2: 'file', 3: 'encounter', 4: 'domain'}\n",
    "# data_type = 2\n",
    "\n",
    "work_path = '/home/ys587/__Data/__whistle/__whislte_30_species'\n",
    "fit_result_path =  os.path.join(work_path, '__fit_result_species')\n",
    "# feature_path = os.path.join(work_path, '__feature_species')\n",
    "feature_path = os.path.join(work_path, '__dataset/20210210')"
   ]
  },
  {
   "cell_type": "code",
   "execution_count": 5,
   "metadata": {},
   "outputs": [],
   "source": [
    "species_dict = {'BD': 0, 'CD': 1, 'STR': 2, 'SPT': 3, 'SPIN': 4, 'PLT': 5, 'RT': 6,  'FKW': 7}\n",
    "num_species = len(species_dict)\n",
    "# species_dict = {'BD': 0, 'MH': 1, 'CD': 2, 'STR': 3, 'SPT': 4, 'SPIN': 5, 'PLT': 6, 'RD': 7, 'RT': 8,\n",
    "#                 'WSD': 9, 'FKW': 10, 'BEL': 11, 'KW': 12, 'WBD': 13, 'DUSK': 14, 'FRA': 15, 'PKW': 16, 'LPLT': 17,\n",
    "#                 'CLY': 18, 'SPE': 19, 'ASP': 20}\n",
    "species_list = list(species_dict.keys())\n",
    "species_id = list(species_dict.values())"
   ]
  },
  {
   "cell_type": "markdown",
   "metadata": {},
   "source": [
    "## Combine features"
   ]
  },
  {
   "cell_type": "code",
   "execution_count": 6,
   "metadata": {},
   "outputs": [],
   "source": [
    "deployment = ['STAR2000', 'STAR2003', 'STAR2006', 'HICEAS2002', 'PICEAS2005']  # oswald_STAR2000_orig.npz, oswald_STAR2000_aug.npz\n",
    "feature_path = '/home/ys587/__Data/__whistle/__whislte_30_species/__dataset/20210216_augment_all_three'"
   ]
  },
  {
   "cell_type": "code",
   "execution_count": 7,
   "metadata": {
    "scrolled": true
   },
   "outputs": [],
   "source": [
    "if False:\n",
    "    for ee in deployment:\n",
    "        print(ee)\n",
    "        ee_others = [ee2 for ee2 in deployment if (ee2 != ee) ]\n",
    "        fea_train_files_tot = []\n",
    "        for ee2 in ee_others:\n",
    "            fea_train_files_tot.append('oswald_'+ee2+'_orig.npz')\n",
    "            fea_train_files_tot.append('oswald_'+ee2+'_aug.npz')\n",
    "\n",
    "        # Training data\n",
    "        fea_train_list = []\n",
    "        label_train_list = []\n",
    "        for ii in range(len(fea_train_files_tot)):\n",
    "            ff = fea_train_files_tot[ii]\n",
    "            print(ff)\n",
    "            fea_temp = np.load(os.path.join(feature_path, ff))\n",
    "            print(fea_temp.files)\n",
    "\n",
    "            if ii == 0:\n",
    "                fea_train = fea_temp['feas_orig']\n",
    "                label_train = fea_temp['labels_orig']\n",
    "                print(fea_train.shape)\n",
    "                print(label_train.shape)\n",
    "            elif ii % 2 == 0:  # even\n",
    "                fea_train = np.concatenate([fea_train, fea_temp['feas_orig']])\n",
    "                label_train = np.concatenate([label_train, fea_temp['labels_orig']])\n",
    "                print(fea_train.shape)\n",
    "                print(label_train.shape)\n",
    "            else:\n",
    "                fea_train = np.concatenate([fea_train, fea_temp['feas_aug']])\n",
    "                label_train = np.concatenate([label_train, fea_temp['labels_aug']])\n",
    "                print(fea_train.shape)\n",
    "                print(label_train.shape)\n",
    "        print(fea_train.shape)\n",
    "        print(label_train.shape)\n",
    "        np.savez(os.path.join(feature_path, './train_oswald_no_'+ee+'.npz'), fea_train=fea_train, label_train=label_train)\n",
    "        print('')"
   ]
  },
  {
   "cell_type": "code",
   "execution_count": 8,
   "metadata": {},
   "outputs": [],
   "source": [
    "# data generator\n",
    "class DataGenerator(tf.keras.utils.Sequence):\n",
    "    def __init__(self, feature, label, batch_size=32, num_classes=None, shuffle=True):\n",
    "        self.batch_size = batch_size\n",
    "        self.X = feature\n",
    "        self.X_dim = len(feature.shape)\n",
    "        self.y = to_categorical(label, num_classes)\n",
    "        self.indices = np.arange(self.y.shape[0])\n",
    "        self.num_classes = num_classes\n",
    "        self.shuffle = shuffle\n",
    "        \n",
    "        # self.index = np.arange(len(self.indices))\n",
    "        #self.df = dataframe\n",
    "        #self.indices = self.df.index.tolist()        \n",
    "        # self.x_col = x_col\n",
    "        # self.y_col = y_col\n",
    "        \n",
    "        self.on_epoch_end()\n",
    "\n",
    "    def __len__(self):\n",
    "        return int(floor(len(self.indices)/self.batch_size))\n",
    "        # return label.shape[0]\n",
    "\n",
    "    def __getitem__(self, index):\n",
    "        # index = self.index[index * self.batch_size:(index + 1) * self.batch_size]\n",
    "        # batch = [self.indices[k] for k in index]\n",
    "        batch = list(range(index*self.batch_size, (index+1)*self.batch_size))\n",
    "        \n",
    "        X, y = self.__get_data(batch)\n",
    "        return X, y\n",
    "\n",
    "    def on_epoch_end(self):\n",
    "        if self.shuffle == True:\n",
    "            np.random.shuffle(self.indices)\n",
    "\n",
    "    def __get_data(self, batch):\n",
    "        y = np.zeros((self.batch_size, self.y.shape[1]))\n",
    "        \n",
    "        if self.X_dim == 3:\n",
    "            X = np.zeros((self.batch_size, self.X.shape[1], self.X.shape[2]))\n",
    "            for i, id in enumerate(batch):\n",
    "                X[i,:, :] = self.X[id, :, :]  # logic\n",
    "                y[i, :] = self.y[id, :] # labels\n",
    "                \n",
    "        elif self.X_dim == 4:\n",
    "            X = np.zeros((self.batch_size, self.X.shape[1], self.X.shape[2], self.X.shape[3]))\n",
    "            for i, id in enumerate(batch):\n",
    "                X[i,:, :, :] = self.X[id, :, :, :]  # logic\n",
    "                y[i, :] = self.y[id, :] # labels\n",
    "\n",
    "        return X, y"
   ]
  },
  {
   "cell_type": "markdown",
   "metadata": {},
   "source": [
    "## Models"
   ]
  },
  {
   "cell_type": "code",
   "execution_count": 9,
   "metadata": {},
   "outputs": [],
   "source": [
    "# Kong's attention\n",
    "# def max_pooling(inputs, **kwargs):\n",
    "#     input = inputs[0]   # (batch_size, time_steps, freq_bins)\n",
    "#     return K.max(input, axis=1)\n",
    "def max_pooling(inputs, **kwargs):\n",
    "    # input = inputs[0]   # (batch_size, time_steps, freq_bins)\n",
    "    return K.max(inputs, axis=1)\n",
    "\n",
    "\n",
    "def average_pooling(inputs, **kwargs):\n",
    "    input = inputs[0]   # (batch_size, time_steps, freq_bins)\n",
    "    return K.mean(input, axis=1)\n",
    "\n",
    "\n",
    "def attention_pooling(inputs, **kwargs):\n",
    "    [out, att] = inputs\n",
    "\n",
    "    epsilon = 1e-7\n",
    "    att = K.clip(att, epsilon, 1. - epsilon)\n",
    "    normalized_att = att / K.sum(att, axis=1)[:, None, :]\n",
    "\n",
    "    return K.sum(out * normalized_att, axis=1)\n",
    "\n",
    "\n",
    "def pooling_shape(input_shape):\n",
    "\n",
    "    if isinstance(input_shape, list):\n",
    "        (sample_num, time_steps, freq_bins) = input_shape[0]\n",
    "\n",
    "    else:\n",
    "        (sample_num, time_steps, freq_bins) = input_shape\n",
    "\n",
    "    return (sample_num, freq_bins)"
   ]
  },
  {
   "cell_type": "code",
   "execution_count": 10,
   "metadata": {},
   "outputs": [],
   "source": [
    "# cnn14 attention with customized maxpooling\n",
    "def model_cnn14_attention_multi(time_steps, freq_bins, classes_num, model_type='feature_level_attention', conv_dim=64, rnn_dim=128, pool_size=2, pool_stride=2, hidden_units=512, l2_regu=0., drop_rate=0., multilabel=True):\n",
    "    # Kong's attention\n",
    "    # model_type = 'decision_level_max_pooling'  # problem with dimensions of the Lambda layer after training\n",
    "    # model_type = 'decision_level_average_pooling' # problem with dimensions of the Lambda layer after training\n",
    "    # model_type = 'decision_level_single_attention'\n",
    "    # model_type = 'decision_level_multi_attention'\n",
    "    # model_type = 'feature_level_attention'\n",
    "\n",
    "    input_layer = Input(shape=(time_steps, freq_bins, 1), name='input')\n",
    "    # group 1\n",
    "    y = Conv2D(conv_dim, kernel_size=(3, 3), strides=(1, 1), padding='same', kernel_regularizer=l2(l2_regu))(input_layer)\n",
    "    y = BatchNormalization()(y)\n",
    "    y = Activation(activation='relu')(y)\n",
    "    y = Conv2D(conv_dim, kernel_size=(3, 3), strides=(1, 1), padding='same', kernel_regularizer=l2(l2_regu))(y)\n",
    "    y = BatchNormalization()(y)\n",
    "    y = Activation(activation='relu')(y)\n",
    "    y = MaxPooling2D(pool_size=(pool_size, 2), strides=(pool_stride, 2), padding='same')(y)\n",
    "    y = Dropout(drop_rate)(y)\n",
    "    \n",
    "    # group 2\n",
    "    y = Conv2D(conv_dim*2, kernel_size=(3, 3), strides=(1, 1), padding='same', kernel_regularizer=l2(l2_regu))(y)\n",
    "    y = BatchNormalization()(y)\n",
    "    y = Activation(activation='relu')(y)\n",
    "    y = Conv2D(conv_dim*2, kernel_size=(3, 3), strides=(1, 1), padding='same', kernel_regularizer=l2(l2_regu))(y)\n",
    "    y = BatchNormalization()(y)\n",
    "    y = Activation(activation='relu')(y)\n",
    "    y = MaxPooling2D(pool_size=(pool_size, 2), strides=(pool_stride, 2), padding='same')(y)\n",
    "    y = Dropout(drop_rate)(y)\n",
    "    \n",
    "    # group 3\n",
    "    y = Conv2D(conv_dim*4, kernel_size=(3, 3), strides=(1, 1), padding='same', kernel_regularizer=l2(l2_regu))(y)\n",
    "    y = BatchNormalization()(y)\n",
    "    y = Activation(activation='relu')(y)\n",
    "    y = Conv2D(conv_dim*4, kernel_size=(3, 3), strides=(1, 1), padding='same', kernel_regularizer=l2(l2_regu))(y)\n",
    "    y = BatchNormalization()(y)\n",
    "    y = Activation(activation='relu')(y)\n",
    "    y = MaxPooling2D(pool_size=(pool_size, 2), strides=(pool_stride, 2), padding='same')(y)\n",
    "    y = Dropout(drop_rate)(y)\n",
    "    \n",
    "    # group 4 \n",
    "    y = Conv2D(conv_dim*8, kernel_size=(3, 3), strides=(1, 1), padding='same', kernel_regularizer=l2(l2_regu))(y)\n",
    "    y = BatchNormalization()(y)\n",
    "    y = Activation(activation='relu')(y)\n",
    "    y = Conv2D(conv_dim*8, kernel_size=(3, 3), strides=(1, 1), padding='same', kernel_regularizer=l2(l2_regu))(y)\n",
    "    y = BatchNormalization()(y)\n",
    "    y = Activation(activation='relu')(y)\n",
    "    y = MaxPooling2D(pool_size=(pool_size, 2), strides=(pool_stride, 2), padding='same')(y)\n",
    "    y = Dropout(drop_rate)(y)\n",
    "\n",
    "    # group 5\n",
    "    y = Conv2D(conv_dim*16, kernel_size=(3, 3), strides=(1, 1), padding='same', kernel_regularizer=l2(l2_regu))(y)\n",
    "    y = BatchNormalization()(y)\n",
    "    y = Activation(activation='relu')(y)\n",
    "    y = Conv2D(conv_dim*16, kernel_size=(3, 3), strides=(1, 1), padding='same', kernel_regularizer=l2(l2_regu))(y)\n",
    "    y = BatchNormalization()(y)\n",
    "    y = Activation(activation='relu')(y)\n",
    "    y = MaxPooling2D(pool_size=(pool_size, 2), strides=(1, 2), padding='same')(y)\n",
    "    y = Dropout(drop_rate)(y)\n",
    "\n",
    "    # group 6\n",
    "    y = Conv2D(conv_dim*32, kernel_size=(3, 3), strides=(1, 1), padding='same', kernel_regularizer=l2(l2_regu))(y)\n",
    "    y = BatchNormalization()(y)\n",
    "    y = Activation(activation='relu')(y)\n",
    "    y = Conv2D(conv_dim*32, kernel_size=(3, 3), strides=(1, 1), padding='same', kernel_regularizer=l2(l2_regu))(y)\n",
    "    y = BatchNormalization()(y)\n",
    "    y = Activation(activation='relu')(y)\n",
    "    y = MaxPooling2D(pool_size=(pool_size, 2), strides=(1, 2), padding='same')(y)\n",
    "    y = Dropout(drop_rate)(y)\n",
    "    \n",
    "    # change dimensions: samples, time, frequency, channels => samples, time, frequency*channels\n",
    "    dim_cnn = K.int_shape(y)\n",
    "    y = Reshape((dim_cnn[1], dim_cnn[2]*dim_cnn[3]))(y)\n",
    "\n",
    "    a1 = Dense(hidden_units)(y)\n",
    "    a1 = BatchNormalization()(a1)\n",
    "    a1 = Activation('relu')(a1)\n",
    "    a1 = Dropout(drop_rate)(a1)\n",
    "\n",
    "    a2 = Dense(hidden_units)(a1)\n",
    "    a2 = BatchNormalization()(a2)\n",
    "    a2 = Activation('relu')(a2)\n",
    "    a2 = Dropout(drop_rate)(a2)\n",
    "\n",
    "    a3 = Dense(hidden_units)(a2)\n",
    "    a3 = BatchNormalization()(a3)\n",
    "    a3 = Activation('relu')(a3)\n",
    "    a3 = Dropout(drop_rate)(a3)\n",
    "\n",
    "    # Pooling layers\n",
    "    if model_type == 'decision_level_max_pooling':\n",
    "        '''Global max pooling.\n",
    "\n",
    "        [1] Choi, Keunwoo, et al. \"Automatic tagging using deep convolutional \n",
    "        neural networks.\" arXiv preprint arXiv:1606.00298 (2016).\n",
    "        '''\n",
    "        cla = Dense(classes_num, activation='sigmoid')(a3)\n",
    "        \n",
    "        # output_layer = Lambda(\n",
    "        #    max_pooling, \n",
    "        #    output_shape=pooling_shape)(\n",
    "        #    [cla])\n",
    "        output_layer = Lambda(max_pooling)(cla)\n",
    "\n",
    "    elif model_type == 'decision_level_average_pooling':\n",
    "        '''Global average pooling.\n",
    "\n",
    "        [2] Lin, Min, et al. Qiang Chen, and Shuicheng Yan. \"Network in \n",
    "        network.\" arXiv preprint arXiv:1312.4400 (2013).\n",
    "        '''\n",
    "        cla = Dense(classes_num, activation='sigmoid')(a3)\n",
    "        # output_layer = Lambda(\n",
    "        #    average_pooling,\n",
    "        #    output_shape=pooling_shape)(\n",
    "        #    [cla])\n",
    "        output_layer = Lambda(average_pooling)(cla)\n",
    "\n",
    "    elif model_type == 'decision_level_single_attention':\n",
    "        '''Decision level single attention pooling.\n",
    "        [3] Kong, Qiuqiang, et al. \"Audio Set classification with attention\n",
    "        model: A probabilistic perspective.\" arXiv preprint arXiv:1711.00927\n",
    "        (2017).\n",
    "        '''\n",
    "        cla = Dense(classes_num, activation='sigmoid')(a3)\n",
    "        att = Dense(classes_num, activation='softmax')(a3)\n",
    "        output_layer = Lambda(\n",
    "            attention_pooling, output_shape=pooling_shape)([cla, att])\n",
    "\n",
    "    elif model_type == 'decision_level_multi_attention':\n",
    "        '''Decision level multi attention pooling.\n",
    "        [4] Yu, Changsong, et al. \"Multi-level Attention Model for Weakly\n",
    "        Supervised Audio Classification.\" arXiv preprint arXiv:1803.02353\n",
    "        (2018).\n",
    "        '''\n",
    "        cla1 = Dense(classes_num, activation='sigmoid')(a2)\n",
    "        att1 = Dense(classes_num, activation='softmax')(a2)\n",
    "        out1 = Lambda(\n",
    "            attention_pooling, output_shape=pooling_shape)([cla1, att1])\n",
    "\n",
    "        cla2 = Dense(classes_num, activation='sigmoid')(a3)\n",
    "        att2 = Dense(classes_num, activation='softmax')(a3)\n",
    "        out2 = Lambda(\n",
    "            attention_pooling, output_shape=pooling_shape)([cla2, att2])\n",
    "\n",
    "        b1 = Concatenate(axis=-1)([out1, out2])\n",
    "        b1 = Dense(classes_num)(b1)\n",
    "        \n",
    "        if multilabel:\n",
    "            output_layer = Activation('sigmoid')(b1)\n",
    "        else:\n",
    "            output_layer = Activation('softmax')(b1)\n",
    "\n",
    "    elif model_type == 'feature_level_attention':\n",
    "        '''Feature level attention.\n",
    "        [1] Kong, Qiuqiang, et al. \"Weakly labelled audioset tagging with \n",
    "        attention neural networks.\" (2019).\n",
    "        '''\n",
    "        cla = Dense(hidden_units, activation='linear')(a3)\n",
    "        att = Dense(hidden_units, activation='sigmoid')(a3)\n",
    "        b1 = Lambda(\n",
    "            attention_pooling, output_shape=pooling_shape)([cla, att])\n",
    "\n",
    "        b1 = BatchNormalization()(b1)\n",
    "        b1 = Activation(activation='relu')(b1)\n",
    "        b1 = Dropout(drop_rate)(b1)\n",
    "        \n",
    "        if multilabel:\n",
    "            output_layer = Dense(classes_num, activation='sigmoid')(b1)\n",
    "        else:\n",
    "            output_layer = Dense(classes_num, activation='softmax')(b1)\n",
    "\n",
    "    else:\n",
    "        raise Exception(\"Incorrect model_type!\")\n",
    "\n",
    "    # Build model\n",
    "    model = Model(inputs=input_layer, outputs=output_layer)\n",
    "    \n",
    "    return model"
   ]
  },
  {
   "cell_type": "code",
   "execution_count": 11,
   "metadata": {},
   "outputs": [],
   "source": [
    "# cnn14 attention\n",
    "def model_cnn14_attention(time_steps, freq_bins, classes_num, model_type='feature_level_attention', conv_dim=64, rnn_dim=128, pool_size=2, pool_stride=2, hidden_units=512, l2_regu=0., drop_rate=0., multilabel=True):\n",
    "    # Kong's attention\n",
    "    # model_type = 'decision_level_max_pooling'  # problem with dimensions of the Lambda layer after training\n",
    "    # model_type = 'decision_level_average_pooling' # problem with dimensions of the Lambda layer after training\n",
    "    # model_type = 'decision_level_single_attention'\n",
    "    # model_type = 'decision_level_multi_attention'\n",
    "    # model_type = 'feature_level_attention'\n",
    "\n",
    "    input_layer = Input(shape=(time_steps, freq_bins, 1), name='input')\n",
    "    # group 1\n",
    "    y = Conv2D(conv_dim, kernel_size=(3, 3), strides=(1, 1), padding='same', kernel_regularizer=l2(l2_regu))(input_layer)\n",
    "    y = BatchNormalization()(y)\n",
    "    y = Activation(activation='relu')(y)\n",
    "    y = Conv2D(conv_dim, kernel_size=(3, 3), strides=(1, 1), padding='same', kernel_regularizer=l2(l2_regu))(y)\n",
    "    y = BatchNormalization()(y)\n",
    "    y = Activation(activation='relu')(y)\n",
    "    y = MaxPooling2D(pool_size=(pool_size, 2), strides=(pool_stride, 2), padding='same')(y)\n",
    "    y = Dropout(drop_rate)(y)\n",
    "    \n",
    "    # group 2\n",
    "    y = Conv2D(conv_dim*2, kernel_size=(3, 3), strides=(1, 1), padding='same', kernel_regularizer=l2(l2_regu))(y)\n",
    "    y = BatchNormalization()(y)\n",
    "    y = Activation(activation='relu')(y)\n",
    "    y = Conv2D(conv_dim*2, kernel_size=(3, 3), strides=(1, 1), padding='same', kernel_regularizer=l2(l2_regu))(y)\n",
    "    y = BatchNormalization()(y)\n",
    "    y = Activation(activation='relu')(y)\n",
    "    y = MaxPooling2D(pool_size=(pool_size, 2), strides=(pool_stride, 2), padding='same')(y)\n",
    "    y = Dropout(drop_rate)(y)\n",
    "    \n",
    "    # group 3\n",
    "    y = Conv2D(conv_dim*4, kernel_size=(3, 3), strides=(1, 1), padding='same', kernel_regularizer=l2(l2_regu))(y)\n",
    "    y = BatchNormalization()(y)\n",
    "    y = Activation(activation='relu')(y)\n",
    "    y = Conv2D(conv_dim*4, kernel_size=(3, 3), strides=(1, 1), padding='same', kernel_regularizer=l2(l2_regu))(y)\n",
    "    y = BatchNormalization()(y)\n",
    "    y = Activation(activation='relu')(y)\n",
    "    y = MaxPooling2D(pool_size=(pool_size, 2), strides=(pool_stride, 2), padding='same')(y)\n",
    "    y = Dropout(drop_rate)(y)\n",
    "    \n",
    "    # group 4 \n",
    "    y = Conv2D(conv_dim*8, kernel_size=(3, 3), strides=(1, 1), padding='same', kernel_regularizer=l2(l2_regu))(y)\n",
    "    y = BatchNormalization()(y)\n",
    "    y = Activation(activation='relu')(y)\n",
    "    y = Conv2D(conv_dim*8, kernel_size=(3, 3), strides=(1, 1), padding='same', kernel_regularizer=l2(l2_regu))(y)\n",
    "    y = BatchNormalization()(y)\n",
    "    y = Activation(activation='relu')(y)\n",
    "    y = MaxPooling2D(pool_size=(pool_size, 2), strides=(pool_stride, 2), padding='same')(y)\n",
    "    y = Dropout(drop_rate)(y)\n",
    "\n",
    "    # group 5\n",
    "    y = Conv2D(conv_dim*16, kernel_size=(3, 3), strides=(1, 1), padding='same', kernel_regularizer=l2(l2_regu))(y)\n",
    "    y = BatchNormalization()(y)\n",
    "    y = Activation(activation='relu')(y)\n",
    "    y = Conv2D(conv_dim*16, kernel_size=(3, 3), strides=(1, 1), padding='same', kernel_regularizer=l2(l2_regu))(y)\n",
    "    y = BatchNormalization()(y)\n",
    "    y = Activation(activation='relu')(y)\n",
    "    y = MaxPooling2D(pool_size=(pool_size, 2), strides=(pool_stride, 2), padding='same')(y)\n",
    "    y = Dropout(drop_rate)(y)\n",
    "\n",
    "    # group 6\n",
    "    y = Conv2D(conv_dim*32, kernel_size=(3, 3), strides=(1, 1), padding='same', kernel_regularizer=l2(l2_regu))(y)\n",
    "    y = BatchNormalization()(y)\n",
    "    y = Activation(activation='relu')(y)\n",
    "    y = Conv2D(conv_dim*32, kernel_size=(3, 3), strides=(1, 1), padding='same', kernel_regularizer=l2(l2_regu))(y)\n",
    "    y = BatchNormalization()(y)\n",
    "    y = Activation(activation='relu')(y)\n",
    "    y = MaxPooling2D(pool_size=(pool_size, 2), strides=(pool_stride, 2), padding='same')(y)\n",
    "    y = Dropout(drop_rate)(y)\n",
    "    \n",
    "    # change dimensions: samples, time, frequency, channels => samples, time, frequency*channels\n",
    "    dim_cnn = K.int_shape(y)\n",
    "    y = Reshape((dim_cnn[1], dim_cnn[2]*dim_cnn[3]))(y)\n",
    "\n",
    "    a1 = Dense(hidden_units)(y)\n",
    "    a1 = BatchNormalization()(a1)\n",
    "    a1 = Activation('relu')(a1)\n",
    "    a1 = Dropout(drop_rate)(a1)\n",
    "\n",
    "    a2 = Dense(hidden_units)(a1)\n",
    "    a2 = BatchNormalization()(a2)\n",
    "    a2 = Activation('relu')(a2)\n",
    "    a2 = Dropout(drop_rate)(a2)\n",
    "\n",
    "    a3 = Dense(hidden_units)(a2)\n",
    "    a3 = BatchNormalization()(a3)\n",
    "    a3 = Activation('relu')(a3)\n",
    "    a3 = Dropout(drop_rate)(a3)\n",
    "\n",
    "    # Pooling layers\n",
    "    if model_type == 'decision_level_max_pooling':\n",
    "        '''Global max pooling.\n",
    "\n",
    "        [1] Choi, Keunwoo, et al. \"Automatic tagging using deep convolutional \n",
    "        neural networks.\" arXiv preprint arXiv:1606.00298 (2016).\n",
    "        '''\n",
    "        cla = Dense(classes_num, activation='sigmoid')(a3)\n",
    "        \n",
    "        # output_layer = Lambda(\n",
    "        #    max_pooling, \n",
    "        #    output_shape=pooling_shape)(\n",
    "        #    [cla])\n",
    "        output_layer = Lambda(max_pooling)(cla)\n",
    "\n",
    "    elif model_type == 'decision_level_average_pooling':\n",
    "        '''Global average pooling.\n",
    "\n",
    "        [2] Lin, Min, et al. Qiang Chen, and Shuicheng Yan. \"Network in \n",
    "        network.\" arXiv preprint arXiv:1312.4400 (2013).\n",
    "        '''\n",
    "        cla = Dense(classes_num, activation='sigmoid')(a3)\n",
    "        # output_layer = Lambda(\n",
    "        #    average_pooling,\n",
    "        #    output_shape=pooling_shape)(\n",
    "        #    [cla])\n",
    "        output_layer = Lambda(average_pooling)(cla)\n",
    "\n",
    "    elif model_type == 'decision_level_single_attention':\n",
    "        '''Decision level single attention pooling.\n",
    "        [3] Kong, Qiuqiang, et al. \"Audio Set classification with attention\n",
    "        model: A probabilistic perspective.\" arXiv preprint arXiv:1711.00927\n",
    "        (2017).\n",
    "        '''\n",
    "        cla = Dense(classes_num, activation='sigmoid')(a3)\n",
    "        att = Dense(classes_num, activation='softmax')(a3)\n",
    "        output_layer = Lambda(\n",
    "            attention_pooling, output_shape=pooling_shape)([cla, att])\n",
    "\n",
    "    elif model_type == 'decision_level_multi_attention':\n",
    "        '''Decision level multi attention pooling.\n",
    "        [4] Yu, Changsong, et al. \"Multi-level Attention Model for Weakly\n",
    "        Supervised Audio Classification.\" arXiv preprint arXiv:1803.02353\n",
    "        (2018).\n",
    "        '''\n",
    "        cla1 = Dense(classes_num, activation='sigmoid')(a2)\n",
    "        att1 = Dense(classes_num, activation='softmax')(a2)\n",
    "        out1 = Lambda(\n",
    "            attention_pooling, output_shape=pooling_shape)([cla1, att1])\n",
    "\n",
    "        cla2 = Dense(classes_num, activation='sigmoid')(a3)\n",
    "        att2 = Dense(classes_num, activation='softmax')(a3)\n",
    "        out2 = Lambda(\n",
    "            attention_pooling, output_shape=pooling_shape)([cla2, att2])\n",
    "\n",
    "        b1 = Concatenate(axis=-1)([out1, out2])\n",
    "        b1 = Dense(classes_num)(b1)\n",
    "        \n",
    "        if multilabel:\n",
    "            output_layer = Activation('sigmoid')(b1)\n",
    "        else:\n",
    "            output_layer = Activation('softmax')(b1)\n",
    "\n",
    "    elif model_type == 'feature_level_attention':\n",
    "        '''Feature level attention.\n",
    "        [1] Kong, Qiuqiang, et al. \"Weakly labelled audioset tagging with \n",
    "        attention neural networks.\" (2019).\n",
    "        '''\n",
    "        cla = Dense(hidden_units, activation='linear')(a3)\n",
    "        att = Dense(hidden_units, activation='sigmoid')(a3)\n",
    "        b1 = Lambda(\n",
    "            attention_pooling, output_shape=pooling_shape)([cla, att])\n",
    "\n",
    "        b1 = BatchNormalization()(b1)\n",
    "        b1 = Activation(activation='relu')(b1)\n",
    "        b1 = Dropout(drop_rate)(b1)\n",
    "        \n",
    "        if multilabel:\n",
    "            output_layer = Dense(classes_num, activation='sigmoid')(b1)\n",
    "        else:\n",
    "            output_layer = Dense(classes_num, activation='softmax')(b1)\n",
    "\n",
    "    else:\n",
    "        raise Exception(\"Incorrect model_type!\")\n",
    "\n",
    "    # Build model\n",
    "    model = Model(inputs=input_layer, outputs=output_layer)\n",
    "    \n",
    "    return model"
   ]
  },
  {
   "cell_type": "code",
   "execution_count": 12,
   "metadata": {},
   "outputs": [],
   "source": [
    "def model_cnn14(time_steps, freq_bins, classes_num, pool_size=2, pool_stride=2, conv_dim=16, fcn_dim=512, l2_regu=0., drop_rate=0.):\n",
    "    # input\n",
    "    input_layer = Input(shape=(time_steps, freq_bins, 1), name='input')\n",
    "    \n",
    "    # group 1\n",
    "    y = Conv2D(conv_dim, kernel_size=(3, 3), strides=(1, 1), padding='same', kernel_regularizer=l2(l2_regu))(input_layer)\n",
    "    y = BatchNormalization()(y)\n",
    "    y = Activation(activation='relu')(y)\n",
    "    y = Conv2D(conv_dim, kernel_size=(3, 3), strides=(1, 1), padding='same', kernel_regularizer=l2(l2_regu))(y)\n",
    "    y = BatchNormalization()(y)\n",
    "    y = Activation(activation='relu')(y)\n",
    "    y = MaxPooling2D(pool_size=(2, 2), strides=(2, 2), padding='same')(y)\n",
    "    y = Dropout(drop_rate)(y)\n",
    "    \n",
    "    # group 2\n",
    "    y = Conv2D(conv_dim*2, kernel_size=(3, 3), strides=(1, 1), padding='same', kernel_regularizer=l2(l2_regu))(y)\n",
    "    y = BatchNormalization()(y)\n",
    "    y = Activation(activation='relu')(y)\n",
    "    y = Conv2D(conv_dim*2, kernel_size=(3, 3), strides=(1, 1), padding='same', kernel_regularizer=l2(l2_regu))(y)\n",
    "    y = BatchNormalization()(y)\n",
    "    y = Activation(activation='relu')(y)\n",
    "    y = MaxPooling2D(pool_size=(2, 2), strides=(2, 2), padding='same')(y)\n",
    "    y = Dropout(drop_rate)(y)\n",
    "    \n",
    "    # group 3\n",
    "    y = Conv2D(conv_dim*4, kernel_size=(3, 3), strides=(1, 1), padding='same', kernel_regularizer=l2(l2_regu))(y)\n",
    "    y = BatchNormalization()(y)\n",
    "    y = Activation(activation='relu')(y)\n",
    "    y = Conv2D(conv_dim*4, kernel_size=(3, 3), strides=(1, 1), padding='same', kernel_regularizer=l2(l2_regu))(y)\n",
    "    y = BatchNormalization()(y)\n",
    "    y = Activation(activation='relu')(y)\n",
    "    y = MaxPooling2D(pool_size=(2, 2), strides=(2, 2), padding='same')(y)\n",
    "    y = Dropout(drop_rate)(y)\n",
    "    \n",
    "    # group 4 \n",
    "    y = Conv2D(conv_dim*8, kernel_size=(3, 3), strides=(1, 1), padding='same', kernel_regularizer=l2(l2_regu))(y)\n",
    "    y = BatchNormalization()(y)\n",
    "    y = Activation(activation='relu')(y)\n",
    "    y = Conv2D(conv_dim*8, kernel_size=(3, 3), strides=(1, 1), padding='same', kernel_regularizer=l2(l2_regu))(y)\n",
    "    y = BatchNormalization()(y)\n",
    "    y = Activation(activation='relu')(y)\n",
    "    y = MaxPooling2D(pool_size=(2, 2), strides=(2, 2), padding='same')(y)\n",
    "    y = Dropout(drop_rate)(y)\n",
    "\n",
    "    # group 5\n",
    "    y = Conv2D(conv_dim*16, kernel_size=(3, 3), strides=(1, 1), padding='same', kernel_regularizer=l2(l2_regu))(y)\n",
    "    y = BatchNormalization()(y)\n",
    "    y = Activation(activation='relu')(y)\n",
    "    y = Conv2D(conv_dim*16, kernel_size=(3, 3), strides=(1, 1), padding='same', kernel_regularizer=l2(l2_regu))(y)\n",
    "    y = BatchNormalization()(y)\n",
    "    y = Activation(activation='relu')(y)\n",
    "    y = MaxPooling2D(pool_size=(2, 2), strides=(2, 2), padding='same')(y)\n",
    "    y = Dropout(drop_rate)(y)\n",
    "\n",
    "    # group 6\n",
    "    y = Conv2D(conv_dim*32, kernel_size=(3, 3), strides=(1, 1), padding='same', kernel_regularizer=l2(l2_regu))(y)\n",
    "    y = BatchNormalization()(y)\n",
    "    y = Activation(activation='relu')(y)\n",
    "    y = Conv2D(conv_dim*32, kernel_size=(3, 3), strides=(1, 1), padding='same', kernel_regularizer=l2(l2_regu))(y)\n",
    "    y = BatchNormalization()(y)\n",
    "    y = Activation(activation='relu')(y)\n",
    "    \n",
    "    y = GlobalMaxPooling2D()(y)\n",
    "    \n",
    "    # FC block\n",
    "    y = Dense(fcn_dim, activation='relu', name='cnn14_fcn')(y)  # original 512\n",
    "    x = Dense(classes_num, activation='softmax')(y)\n",
    "    \n",
    "    # Build model\n",
    "    model = Model(inputs=input_layer, outputs=x)\n",
    "    \n",
    "    return model"
   ]
  },
  {
   "cell_type": "markdown",
   "metadata": {},
   "source": [
    "# Model compile, class weight & fitting"
   ]
  },
  {
   "cell_type": "code",
   "execution_count": 13,
   "metadata": {},
   "outputs": [],
   "source": [
    "# def find_best_model(model_folder, remove_others=False):\n",
    "#     model_list = glob.glob(model_folder+'/*.hdf5')\n",
    "#     model_list.sort()\n",
    "#     the_best_model = model_list[-1]\n",
    "    \n",
    "#     if remove_others==True:\n",
    "#         for mm in model_list[:-1]:\n",
    "#             os.remove(mm)\n",
    "            \n",
    "#     print(the_best_model)\n",
    "    \n",
    "#     return the_best_model\n",
    "import re\n",
    "\n",
    "def find_best_model(classifier_path, fmt='epoch_\\d+_valloss_(\\d+.\\d{4})_valacc_\\d+.\\d{4}.hdf5', is_max=False, purge=True):\n",
    "    \"\"\"\n",
    "    Return the path to the model with the best accuracy, given the path to\n",
    "    all the trained classifiers\n",
    "    Args:\n",
    "        classifier_path: path to all the trained classifiers\n",
    "        fmt: e.g. \"epoch_\\d+_[0-1].\\d+_(\\d+.\\d{4}).hdf5\"\n",
    "        'epoch_\\d+_valloss_(\\d+.\\d{4})_valacc_\\d+.\\d{4}.hdf5'\n",
    "        is_max: use max; otherwise, min\n",
    "        purge: True to purge models files except the best one\n",
    "    Return:\n",
    "        the path of the model with the best accuracy\n",
    "    \"\"\"\n",
    "    # list all files ending with .hdf5\n",
    "    day_list = sorted(glob.glob(os.path.join(classifier_path + '/', '*.hdf5')))\n",
    "\n",
    "    # re the last 4 digits for accuracy\n",
    "    hdf5_filename = []\n",
    "    hdf5_accu = np.zeros(len(day_list))\n",
    "    for dd in range(len(day_list)):\n",
    "        filename = os.path.basename(day_list[dd])\n",
    "        hdf5_filename.append(filename)\n",
    "        # m = re.search(\"_F1_(0.\\d{4}).hdf5\", filename)\n",
    "        # m = re.search(\"_([0-1].\\d{4}).hdf5\", filename)\n",
    "        # m = re.search(\"epoch_\\d+_[0-1].\\d+_(\\d+.\\d{4}).hdf5\", filename)\n",
    "        m = re.search(fmt, filename)\n",
    "        try:\n",
    "            hdf5_accu[dd] = float(m.groups()[0])\n",
    "        except:\n",
    "            continue\n",
    "\n",
    "    # select the laregest one and write to the variable classifier_file\n",
    "    if len(hdf5_accu) == 0:\n",
    "        best_model_path = ''\n",
    "        best_accu = 0\n",
    "    else:\n",
    "        if is_max is True:\n",
    "            ind_max = np.argmax(hdf5_accu)\n",
    "        else: # use min instead\n",
    "            ind_max = np.argmin(hdf5_accu)\n",
    "        best_model_path = day_list[int(ind_max)]\n",
    "        best_accu = hdf5_accu[ind_max]\n",
    "        # purge all model files except the best_model\n",
    "        if purge:\n",
    "            for ff in day_list:\n",
    "                if ff != best_model_path:\n",
    "                    os.remove(ff)\n",
    "    print('Best model:'+str(best_accu))\n",
    "    print(best_model_path)\n",
    "    return best_model_path, best_accu\n"
   ]
  },
  {
   "cell_type": "code",
   "execution_count": 14,
   "metadata": {},
   "outputs": [],
   "source": [
    "### cnn4 + attention\n",
    "# model = model_cnn_attention(dim_time, dim_freq, num_species, model_type='decision_level_max_pooling', conv_dim=conv_dim, l2_regu=l2_regu, drop_rate=drop_rate)\n",
    "# model = model_cnn_attention(dim_time, dim_freq, num_species, model_type='decision_level_multi_attention', conv_dim=conv_dim, l2_regu=l2_regu, drop_rate=drop_rate)\n",
    "# model = model_cnn_attention(dim_time, dim_freq, num_species, model_type='feature_level_attention', conv_dim=conv_dim, l2_regu=l2_regu, drop_rate=drop_rate)\n",
    "\n",
    "# vggish\n",
    "# model = model_vggish(dim_time, dim_freq, num_species, conv_dim=conv_dim, fcn_dim=fcn_dim)\n",
    "\n",
    "# cnn10\n",
    "# model = model_cnn10(dim_time, dim_freq, num_species, conv_dim=conv_dim, fcn_dim=fcn_dim, l2_regu=l2_regu, drop_rate=drop_rate)\n",
    "\n",
    "# cnn14\n",
    "# model = model_cnn14(dim_time, dim_freq, num_species, conv_dim=conv_dim, fcn_dim=fcn_dim, l2_regu=l2_regu, drop_rate=drop_rate)\n",
    "\n",
    "# cnn14 attention\n",
    "# model = model_cnn14_attention(dim_time, dim_freq, num_species, model_type='feature_level_attention', conv_dim=conv_dim, pool_size=pool_size, pool_stride=pool_stride, hidden_units=hidden_units, l2_regu=l2_regu, drop_rate=drop_rate)\n",
    "# model = model_cnn14_bigru_attention(dim_time, dim_freq, num_species, model_type='feature_level_attention', conv_dim=conv_dim, rnn_dim=rnn_dim, hidden_units=hidden_units, l2_regu=l2_regu, drop_rate=drop_rate)\n",
    "\n",
    "# model = model_cnn14_attention_multi(dim_time, dim_freq, num_species, model_type='feature_level_attention', conv_dim=conv_dim, pool_size=pool_size, pool_stride=pool_stride, hidden_units=hidden_units, l2_regu=l2_regu, drop_rate=drop_rate)\n",
    "# loss = CategoricalCrossentropy()\n",
    "# model.compile(optimizer=tf.keras.optimizers.Adam(learning_rate=learning_rate), loss=loss, metrics=['accuracy'])\n",
    "\n"
   ]
  },
  {
   "cell_type": "code",
   "execution_count": 16,
   "metadata": {},
   "outputs": [],
   "source": [
    "boundaries = [20, 40]\n",
    "values = [1.0e-3, 3.33e-4, 1.0e-4]\n",
    "learning_rate_fn = PiecewiseConstantDecay(boundaries, values)"
   ]
  },
  {
   "cell_type": "markdown",
   "metadata": {},
   "source": [
    "# Cross validation"
   ]
  },
  {
   "cell_type": "code",
   "execution_count": 17,
   "metadata": {},
   "outputs": [],
   "source": [
    "today = datetime.now()\n",
    "# create a folder based on date & time\n",
    "fit_result_path1 = os.path.join(fit_result_path, today.strftime('%Y%m%d_%H%M%S'))"
   ]
  },
  {
   "cell_type": "markdown",
   "metadata": {},
   "source": [
    "## STAR2000"
   ]
  },
  {
   "cell_type": "code",
   "execution_count": 18,
   "metadata": {},
   "outputs": [
    {
     "name": "stdout",
     "output_type": "stream",
     "text": [
      "STAR2000\n"
     ]
    }
   ],
   "source": [
    "ee = deployment[0]\n",
    "print(ee)"
   ]
  },
  {
   "cell_type": "code",
   "execution_count": 19,
   "metadata": {},
   "outputs": [],
   "source": [
    "# Training data\n",
    "fea_temp = np.load(os.path.join(feature_path, 'train_oswald_no_'+ee+'.npz'))\n",
    "fea_train = fea_temp['fea_train']\n",
    "label_train_list = fea_temp['label_train']\n",
    "del fea_temp"
   ]
  },
  {
   "cell_type": "code",
   "execution_count": 20,
   "metadata": {},
   "outputs": [],
   "source": [
    "label_train = np.zeros(len(label_train_list))\n",
    "for ii in range(len(label_train_list)):\n",
    "    label_train[ii] = species_dict[label_train_list[ii]]"
   ]
  },
  {
   "cell_type": "code",
   "execution_count": 21,
   "metadata": {},
   "outputs": [],
   "source": [
    "# Testing data\n",
    "fea_temp = np.load(os.path.join(feature_path, 'oswald_'+ee+'_orig.npz'))\n",
    "fea_test = fea_temp['feas_orig']\n",
    "label_test_list = fea_temp['labels_orig']\n",
    "\n",
    "fea_test = fea_test[:,:100,:]\n",
    "label_test = np.zeros(len(label_test_list))\n",
    "for ii in range(len(label_test_list)):\n",
    "    label_test[ii] = species_dict[label_test_list[ii]]"
   ]
  },
  {
   "cell_type": "code",
   "execution_count": 22,
   "metadata": {},
   "outputs": [],
   "source": [
    "fea_train = fea_train[:,:100,:]"
   ]
  },
  {
   "cell_type": "code",
   "execution_count": 23,
   "metadata": {},
   "outputs": [],
   "source": [
    "label_train = np.zeros(len(label_train_list))\n",
    "for ii in range(len(label_train_list)):\n",
    "    label_train[ii] = species_dict[label_train_list[ii]]"
   ]
  },
  {
   "cell_type": "code",
   "execution_count": 24,
   "metadata": {
    "scrolled": true
   },
   "outputs": [
    {
     "data": {
      "text/plain": [
       "Counter({'BD': 10740,\n",
       "         'CD': 4656,\n",
       "         'FKW': 19080,\n",
       "         'SPIN': 3264,\n",
       "         'SPT': 8556,\n",
       "         'STR': 8352,\n",
       "         'PLT': 11856,\n",
       "         'RT': 7410})"
      ]
     },
     "execution_count": 24,
     "metadata": {},
     "output_type": "execute_result"
    }
   ],
   "source": [
    "Counter(label_train_list)"
   ]
  },
  {
   "cell_type": "code",
   "execution_count": 25,
   "metadata": {},
   "outputs": [
    {
     "data": {
      "text/plain": [
       "Counter({0.0: 121, 1.0: 3964, 5.0: 31, 6.0: 76, 4.0: 491, 3.0: 845, 2.0: 1140})"
      ]
     },
     "execution_count": 25,
     "metadata": {},
     "output_type": "execute_result"
    }
   ],
   "source": [
    "Counter(label_test.tolist())"
   ]
  },
  {
   "cell_type": "code",
   "execution_count": 26,
   "metadata": {},
   "outputs": [],
   "source": [
    "fit_result_path2 = os.path.join(fit_result_path1, ee)\n",
    "if not os.path.exists(fit_result_path2):\n",
    "    makedirs(fit_result_path2)"
   ]
  },
  {
   "cell_type": "code",
   "execution_count": 27,
   "metadata": {},
   "outputs": [
    {
     "name": "stdout",
     "output_type": "stream",
     "text": [
      "feature train shape: (73914, 100, 128)\n",
      "feature test shape: (6668, 100, 128)\n",
      "label train shape: (73914,)\n",
      "label test shape: (6668,)\n",
      "dim_time: 100\n",
      "dim_freq: 128\n"
     ]
    }
   ],
   "source": [
    "print('feature train shape: '+str(fea_train.shape))\n",
    "print('feature test shape: '+str(fea_test.shape))\n",
    "print('label train shape: '+str(label_train.shape))\n",
    "print('label test shape: '+str(label_test.shape))\n",
    "\n",
    "dim_time = fea_train.shape[1]\n",
    "dim_freq = fea_train.shape[2]\n",
    "print('dim_time: '+str(dim_time))\n",
    "print('dim_freq: '+str(dim_freq))"
   ]
  },
  {
   "cell_type": "code",
   "execution_count": 28,
   "metadata": {},
   "outputs": [],
   "source": [
    "# shuffle features & labels\n",
    "fea_train, label_train = shuffle(fea_train, label_train, random_state=0)\n",
    "fea_test, label_test = shuffle(fea_test, label_test, random_state=0)"
   ]
  },
  {
   "cell_type": "code",
   "execution_count": 29,
   "metadata": {},
   "outputs": [],
   "source": [
    "# class weight\n",
    "weights = compute_class_weight(class_weight='balanced', classes=np.unique(label_train), y=label_train)\n",
    "\n",
    "class_weights = dict()\n",
    "for ii in range(num_species):\n",
    "    class_weights[ii] = weights[ii]"
   ]
  },
  {
   "cell_type": "code",
   "execution_count": 30,
   "metadata": {},
   "outputs": [],
   "source": [
    "fea_train = np.expand_dims(fea_train, axis=3)\n",
    "fea_test = np.expand_dims(fea_test, axis=3)"
   ]
  },
  {
   "cell_type": "code",
   "execution_count": 31,
   "metadata": {},
   "outputs": [],
   "source": [
    "fea_train, fea_validate, label_train, label_validate = train_test_split(fea_train, label_train, test_size=0.30, random_state=42)\n",
    "\n",
    "train_generator = DataGenerator(fea_train, label_train, batch_size=batch_size, num_classes=num_species)\n",
    "del fea_train\n",
    "validate_generator = DataGenerator(fea_validate, label_validate, batch_size=batch_size, num_classes=num_species)\n",
    "del fea_validate\n",
    "\n",
    "# test_generator = DataGenerator(fea_test, label_test, batch_size=batch_size, num_classes=num_species)\n"
   ]
  },
  {
   "cell_type": "markdown",
   "metadata": {},
   "source": [
    "### Training the model"
   ]
  },
  {
   "cell_type": "code",
   "execution_count": 32,
   "metadata": {
    "scrolled": true
   },
   "outputs": [
    {
     "name": "stdout",
     "output_type": "stream",
     "text": [
      "Epoch 1/200\n",
      "1615/1616 [============================>.] - ETA: 0s - loss: 2.0453 - accuracy: 0.1392\n",
      "Epoch 00001: val_loss improved from inf to 2.30546, saving model to /home/ys587/__Data/__whistle/__whislte_30_species/__fit_result_species/20210217_162040/STAR2000/epoch_01_valloss_2.3055_valacc_0.1021.hdf5\n",
      "1616/1616 [==============================] - 54s 33ms/step - loss: 2.0451 - accuracy: 0.1393 - val_loss: 2.3055 - val_accuracy: 0.1021\n",
      "Epoch 2/200\n",
      "1616/1616 [==============================] - ETA: 0s - loss: 1.6667 - accuracy: 0.3626\n",
      "Epoch 00002: val_loss improved from 2.30546 to 1.87729, saving model to /home/ys587/__Data/__whistle/__whislte_30_species/__fit_result_species/20210217_162040/STAR2000/epoch_02_valloss_1.8773_valacc_0.3364.hdf5\n",
      "1616/1616 [==============================] - 53s 33ms/step - loss: 1.6667 - accuracy: 0.3626 - val_loss: 1.8773 - val_accuracy: 0.3364\n",
      "Epoch 3/200\n",
      "1615/1616 [============================>.] - ETA: 0s - loss: 1.4234 - accuracy: 0.4794\n",
      "Epoch 00003: val_loss improved from 1.87729 to 1.38689, saving model to /home/ys587/__Data/__whistle/__whislte_30_species/__fit_result_species/20210217_162040/STAR2000/epoch_03_valloss_1.3869_valacc_0.4680.hdf5\n",
      "1616/1616 [==============================] - 53s 33ms/step - loss: 1.4234 - accuracy: 0.4795 - val_loss: 1.3869 - val_accuracy: 0.4680\n",
      "Epoch 4/200\n",
      "1615/1616 [============================>.] - ETA: 0s - loss: 1.3036 - accuracy: 0.5226\n",
      "Epoch 00004: val_loss improved from 1.38689 to 1.21868, saving model to /home/ys587/__Data/__whistle/__whislte_30_species/__fit_result_species/20210217_162040/STAR2000/epoch_04_valloss_1.2187_valacc_0.5313.hdf5\n",
      "1616/1616 [==============================] - 53s 33ms/step - loss: 1.3034 - accuracy: 0.5226 - val_loss: 1.2187 - val_accuracy: 0.5313\n",
      "Epoch 5/200\n",
      "1615/1616 [============================>.] - ETA: 0s - loss: 1.2293 - accuracy: 0.5532\n",
      "Epoch 00005: val_loss improved from 1.21868 to 1.20478, saving model to /home/ys587/__Data/__whistle/__whislte_30_species/__fit_result_species/20210217_162040/STAR2000/epoch_05_valloss_1.2048_valacc_0.5589.hdf5\n",
      "1616/1616 [==============================] - 53s 33ms/step - loss: 1.2294 - accuracy: 0.5533 - val_loss: 1.2048 - val_accuracy: 0.5589\n",
      "Epoch 6/200\n",
      "1615/1616 [============================>.] - ETA: 0s - loss: 1.1659 - accuracy: 0.5725\n",
      "Epoch 00006: val_loss improved from 1.20478 to 1.16004, saving model to /home/ys587/__Data/__whistle/__whislte_30_species/__fit_result_species/20210217_162040/STAR2000/epoch_06_valloss_1.1600_valacc_0.5595.hdf5\n",
      "1616/1616 [==============================] - 53s 33ms/step - loss: 1.1660 - accuracy: 0.5726 - val_loss: 1.1600 - val_accuracy: 0.5595\n",
      "Epoch 7/200\n",
      "1615/1616 [============================>.] - ETA: 0s - loss: 1.1209 - accuracy: 0.5947\n",
      "Epoch 00007: val_loss improved from 1.16004 to 1.13911, saving model to /home/ys587/__Data/__whistle/__whislte_30_species/__fit_result_species/20210217_162040/STAR2000/epoch_07_valloss_1.1391_valacc_0.5507.hdf5\n",
      "1616/1616 [==============================] - 53s 33ms/step - loss: 1.1207 - accuracy: 0.5947 - val_loss: 1.1391 - val_accuracy: 0.5507\n",
      "Epoch 8/200\n",
      "1615/1616 [============================>.] - ETA: 0s - loss: 1.0734 - accuracy: 0.6115\n",
      "Epoch 00008: val_loss improved from 1.13911 to 1.04837, saving model to /home/ys587/__Data/__whistle/__whislte_30_species/__fit_result_species/20210217_162040/STAR2000/epoch_08_valloss_1.0484_valacc_0.5942.hdf5\n",
      "1616/1616 [==============================] - 53s 33ms/step - loss: 1.0735 - accuracy: 0.6115 - val_loss: 1.0484 - val_accuracy: 0.5942\n",
      "Epoch 9/200\n",
      "1615/1616 [============================>.] - ETA: 0s - loss: 1.0323 - accuracy: 0.6274\n",
      "Epoch 00009: val_loss did not improve from 1.04837\n",
      "1616/1616 [==============================] - 53s 33ms/step - loss: 1.0323 - accuracy: 0.6274 - val_loss: 1.1364 - val_accuracy: 0.5724\n",
      "Epoch 10/200\n",
      "1615/1616 [============================>.] - ETA: 0s - loss: 0.9912 - accuracy: 0.6403\n",
      "Epoch 00010: val_loss improved from 1.04837 to 0.99559, saving model to /home/ys587/__Data/__whistle/__whislte_30_species/__fit_result_species/20210217_162040/STAR2000/epoch_10_valloss_0.9956_valacc_0.6222.hdf5\n",
      "1616/1616 [==============================] - 53s 33ms/step - loss: 0.9913 - accuracy: 0.6403 - val_loss: 0.9956 - val_accuracy: 0.6222\n",
      "Epoch 11/200\n",
      "1615/1616 [============================>.] - ETA: 0s - loss: 0.9560 - accuracy: 0.6545\n",
      "Epoch 00011: val_loss improved from 0.99559 to 0.97504, saving model to /home/ys587/__Data/__whistle/__whislte_30_species/__fit_result_species/20210217_162040/STAR2000/epoch_11_valloss_0.9750_valacc_0.6348.hdf5\n",
      "1616/1616 [==============================] - 53s 33ms/step - loss: 0.9558 - accuracy: 0.6546 - val_loss: 0.9750 - val_accuracy: 0.6348\n",
      "Epoch 12/200\n",
      "1615/1616 [============================>.] - ETA: 0s - loss: 0.9196 - accuracy: 0.6652\n",
      "Epoch 00012: val_loss improved from 0.97504 to 0.96463, saving model to /home/ys587/__Data/__whistle/__whislte_30_species/__fit_result_species/20210217_162040/STAR2000/epoch_12_valloss_0.9646_valacc_0.6379.hdf5\n",
      "1616/1616 [==============================] - 53s 33ms/step - loss: 0.9196 - accuracy: 0.6652 - val_loss: 0.9646 - val_accuracy: 0.6379\n",
      "Epoch 13/200\n",
      "1615/1616 [============================>.] - ETA: 0s - loss: 0.8822 - accuracy: 0.6790\n",
      "Epoch 00013: val_loss improved from 0.96463 to 0.89920, saving model to /home/ys587/__Data/__whistle/__whislte_30_species/__fit_result_species/20210217_162040/STAR2000/epoch_13_valloss_0.8992_valacc_0.6639.hdf5\n",
      "1616/1616 [==============================] - 53s 33ms/step - loss: 0.8823 - accuracy: 0.6790 - val_loss: 0.8992 - val_accuracy: 0.6639\n",
      "Epoch 14/200\n",
      "1615/1616 [============================>.] - ETA: 0s - loss: 0.8527 - accuracy: 0.6889\n",
      "Epoch 00014: val_loss improved from 0.89920 to 0.82241, saving model to /home/ys587/__Data/__whistle/__whislte_30_species/__fit_result_species/20210217_162040/STAR2000/epoch_14_valloss_0.8224_valacc_0.7027.hdf5\n",
      "1616/1616 [==============================] - 53s 33ms/step - loss: 0.8526 - accuracy: 0.6889 - val_loss: 0.8224 - val_accuracy: 0.7027\n",
      "Epoch 15/200\n",
      "1615/1616 [============================>.] - ETA: 0s - loss: 0.8199 - accuracy: 0.7009\n",
      "Epoch 00015: val_loss did not improve from 0.82241\n",
      "1616/1616 [==============================] - 53s 33ms/step - loss: 0.8197 - accuracy: 0.7009 - val_loss: 1.0061 - val_accuracy: 0.6304\n",
      "Epoch 16/200\n",
      "1615/1616 [============================>.] - ETA: 0s - loss: 0.7915 - accuracy: 0.7102\n",
      "Epoch 00016: val_loss did not improve from 0.82241\n",
      "1616/1616 [==============================] - 53s 33ms/step - loss: 0.7912 - accuracy: 0.7103 - val_loss: 0.8668 - val_accuracy: 0.6710\n",
      "Epoch 17/200\n",
      "1616/1616 [==============================] - ETA: 0s - loss: 0.7599 - accuracy: 0.7186\n",
      "Epoch 00017: val_loss did not improve from 0.82241\n",
      "1616/1616 [==============================] - 53s 33ms/step - loss: 0.7599 - accuracy: 0.7186 - val_loss: 1.0056 - val_accuracy: 0.6359\n",
      "Epoch 18/200\n",
      "1615/1616 [============================>.] - ETA: 0s - loss: 0.7319 - accuracy: 0.7290\n",
      "Epoch 00018: val_loss did not improve from 0.82241\n",
      "1616/1616 [==============================] - 53s 33ms/step - loss: 0.7318 - accuracy: 0.7290 - val_loss: 0.8966 - val_accuracy: 0.6735\n",
      "Epoch 19/200\n",
      "1615/1616 [============================>.] - ETA: 0s - loss: 0.7049 - accuracy: 0.7383\n",
      "Epoch 00019: val_loss did not improve from 0.82241\n",
      "1616/1616 [==============================] - 53s 33ms/step - loss: 0.7048 - accuracy: 0.7383 - val_loss: 0.9111 - val_accuracy: 0.6775\n",
      "Epoch 20/200\n",
      "1615/1616 [============================>.] - ETA: 0s - loss: 0.6754 - accuracy: 0.7489\n",
      "Epoch 00020: val_loss did not improve from 0.82241\n",
      "1616/1616 [==============================] - 53s 33ms/step - loss: 0.6754 - accuracy: 0.7489 - val_loss: 0.8531 - val_accuracy: 0.6920\n",
      "Epoch 21/200\n",
      "1615/1616 [============================>.] - ETA: 0s - loss: 0.6590 - accuracy: 0.7540\n",
      "Epoch 00021: val_loss did not improve from 0.82241\n",
      "1616/1616 [==============================] - 53s 33ms/step - loss: 0.6589 - accuracy: 0.7539 - val_loss: 0.9525 - val_accuracy: 0.6637\n",
      "Epoch 22/200\n",
      "1615/1616 [============================>.] - ETA: 0s - loss: 0.6251 - accuracy: 0.7633\n",
      "Epoch 00022: val_loss did not improve from 0.82241\n",
      "1616/1616 [==============================] - 53s 33ms/step - loss: 0.6250 - accuracy: 0.7633 - val_loss: 0.8588 - val_accuracy: 0.6853\n",
      "Epoch 23/200\n",
      "1615/1616 [============================>.] - ETA: 0s - loss: 0.6075 - accuracy: 0.7712\n",
      "Epoch 00023: val_loss improved from 0.82241 to 0.75264, saving model to /home/ys587/__Data/__whistle/__whislte_30_species/__fit_result_species/20210217_162040/STAR2000/epoch_23_valloss_0.7526_valacc_0.7281.hdf5\n",
      "1616/1616 [==============================] - 53s 33ms/step - loss: 0.6075 - accuracy: 0.7712 - val_loss: 0.7526 - val_accuracy: 0.7281\n",
      "Epoch 24/200\n",
      "1615/1616 [============================>.] - ETA: 0s - loss: 0.5850 - accuracy: 0.7782\n",
      "Epoch 00024: val_loss did not improve from 0.75264\n",
      "1616/1616 [==============================] - 53s 33ms/step - loss: 0.5850 - accuracy: 0.7782 - val_loss: 0.7575 - val_accuracy: 0.7280\n",
      "Epoch 25/200\n",
      "1615/1616 [============================>.] - ETA: 0s - loss: 0.5599 - accuracy: 0.7882\n",
      "Epoch 00025: val_loss did not improve from 0.75264\n",
      "1616/1616 [==============================] - 53s 33ms/step - loss: 0.5599 - accuracy: 0.7882 - val_loss: 0.7951 - val_accuracy: 0.7160\n",
      "Epoch 26/200\n",
      "1615/1616 [============================>.] - ETA: 0s - loss: 0.5404 - accuracy: 0.7952\n",
      "Epoch 00026: val_loss improved from 0.75264 to 0.75217, saving model to /home/ys587/__Data/__whistle/__whislte_30_species/__fit_result_species/20210217_162040/STAR2000/epoch_26_valloss_0.7522_valacc_0.7317.hdf5\n",
      "1616/1616 [==============================] - 53s 33ms/step - loss: 0.5403 - accuracy: 0.7953 - val_loss: 0.7522 - val_accuracy: 0.7317\n",
      "Epoch 27/200\n",
      "1615/1616 [============================>.] - ETA: 0s - loss: 0.5167 - accuracy: 0.8028\n",
      "Epoch 00027: val_loss did not improve from 0.75217\n",
      "1616/1616 [==============================] - 53s 33ms/step - loss: 0.5166 - accuracy: 0.8029 - val_loss: 0.7604 - val_accuracy: 0.7359\n",
      "Epoch 28/200\n",
      "1615/1616 [============================>.] - ETA: 0s - loss: 0.4957 - accuracy: 0.8106\n",
      "Epoch 00028: val_loss did not improve from 0.75217\n",
      "1616/1616 [==============================] - 53s 33ms/step - loss: 0.4958 - accuracy: 0.8105 - val_loss: 1.0138 - val_accuracy: 0.6516\n",
      "Epoch 29/200\n",
      "1615/1616 [============================>.] - ETA: 0s - loss: 0.4799 - accuracy: 0.8178\n",
      "Epoch 00029: val_loss improved from 0.75217 to 0.73259, saving model to /home/ys587/__Data/__whistle/__whislte_30_species/__fit_result_species/20210217_162040/STAR2000/epoch_29_valloss_0.7326_valacc_0.7479.hdf5\n",
      "1616/1616 [==============================] - 53s 33ms/step - loss: 0.4799 - accuracy: 0.8177 - val_loss: 0.7326 - val_accuracy: 0.7479\n",
      "Epoch 30/200\n",
      "1615/1616 [============================>.] - ETA: 0s - loss: 0.4626 - accuracy: 0.8228\n",
      "Epoch 00030: val_loss improved from 0.73259 to 0.72543, saving model to /home/ys587/__Data/__whistle/__whislte_30_species/__fit_result_species/20210217_162040/STAR2000/epoch_30_valloss_0.7254_valacc_0.7514.hdf5\n",
      "1616/1616 [==============================] - 53s 33ms/step - loss: 0.4627 - accuracy: 0.8227 - val_loss: 0.7254 - val_accuracy: 0.7514\n",
      "Epoch 31/200\n",
      "1615/1616 [============================>.] - ETA: 0s - loss: 0.4453 - accuracy: 0.8285\n",
      "Epoch 00031: val_loss did not improve from 0.72543\n",
      "1616/1616 [==============================] - 53s 33ms/step - loss: 0.4452 - accuracy: 0.8285 - val_loss: 0.7941 - val_accuracy: 0.7369\n",
      "Epoch 32/200\n",
      "1615/1616 [============================>.] - ETA: 0s - loss: 0.4283 - accuracy: 0.8340\n",
      "Epoch 00032: val_loss did not improve from 0.72543\n",
      "1616/1616 [==============================] - 53s 33ms/step - loss: 0.4283 - accuracy: 0.8340 - val_loss: 0.7853 - val_accuracy: 0.7393\n",
      "Epoch 33/200\n",
      "1616/1616 [==============================] - ETA: 0s - loss: 0.4104 - accuracy: 0.8424\n",
      "Epoch 00033: val_loss did not improve from 0.72543\n",
      "1616/1616 [==============================] - 53s 33ms/step - loss: 0.4104 - accuracy: 0.8424 - val_loss: 0.7604 - val_accuracy: 0.7519\n",
      "Epoch 34/200\n",
      "1615/1616 [============================>.] - ETA: 0s - loss: 0.3969 - accuracy: 0.8451\n",
      "Epoch 00034: val_loss did not improve from 0.72543\n",
      "1616/1616 [==============================] - 53s 33ms/step - loss: 0.3969 - accuracy: 0.8451 - val_loss: 0.7365 - val_accuracy: 0.7550\n",
      "Epoch 35/200\n",
      "1615/1616 [============================>.] - ETA: 0s - loss: 0.3812 - accuracy: 0.8523\n",
      "Epoch 00035: val_loss did not improve from 0.72543\n",
      "1616/1616 [==============================] - 53s 33ms/step - loss: 0.3812 - accuracy: 0.8523 - val_loss: 0.7378 - val_accuracy: 0.7632\n",
      "Epoch 36/200\n",
      "1615/1616 [============================>.] - ETA: 0s - loss: 0.3656 - accuracy: 0.8568\n",
      "Epoch 00036: val_loss did not improve from 0.72543\n",
      "1616/1616 [==============================] - 53s 33ms/step - loss: 0.3655 - accuracy: 0.8569 - val_loss: 0.7515 - val_accuracy: 0.7561\n",
      "Epoch 37/200\n",
      "1615/1616 [============================>.] - ETA: 0s - loss: 0.3513 - accuracy: 0.8616\n",
      "Epoch 00037: val_loss did not improve from 0.72543\n",
      "1616/1616 [==============================] - 53s 33ms/step - loss: 0.3513 - accuracy: 0.8616 - val_loss: 0.7830 - val_accuracy: 0.7500\n",
      "Epoch 38/200\n",
      "1616/1616 [==============================] - ETA: 0s - loss: 0.3419 - accuracy: 0.8678\n",
      "Epoch 00038: val_loss did not improve from 0.72543\n",
      "1616/1616 [==============================] - 53s 33ms/step - loss: 0.3419 - accuracy: 0.8678 - val_loss: 0.7663 - val_accuracy: 0.7556\n",
      "Epoch 39/200\n",
      "1615/1616 [============================>.] - ETA: 0s - loss: 0.3259 - accuracy: 0.8729\n",
      "Epoch 00039: val_loss did not improve from 0.72543\n",
      "1616/1616 [==============================] - 53s 33ms/step - loss: 0.3258 - accuracy: 0.8730 - val_loss: 0.8657 - val_accuracy: 0.7397\n",
      "Epoch 40/200\n",
      "1615/1616 [============================>.] - ETA: 0s - loss: 0.3216 - accuracy: 0.8741\n",
      "Epoch 00040: val_loss did not improve from 0.72543\n",
      "1616/1616 [==============================] - 53s 33ms/step - loss: 0.3216 - accuracy: 0.8741 - val_loss: 0.7444 - val_accuracy: 0.7683\n",
      "Epoch 41/200\n",
      "1616/1616 [==============================] - ETA: 0s - loss: 0.2996 - accuracy: 0.8825\n",
      "Epoch 00041: val_loss did not improve from 0.72543\n",
      "1616/1616 [==============================] - 53s 33ms/step - loss: 0.2996 - accuracy: 0.8825 - val_loss: 0.7430 - val_accuracy: 0.7692\n",
      "Epoch 42/200\n",
      "1615/1616 [============================>.] - ETA: 0s - loss: 0.2980 - accuracy: 0.8829\n",
      "Epoch 00042: val_loss did not improve from 0.72543\n",
      "1616/1616 [==============================] - 53s 33ms/step - loss: 0.2979 - accuracy: 0.8829 - val_loss: 0.7854 - val_accuracy: 0.7533\n",
      "Epoch 43/200\n",
      "1615/1616 [============================>.] - ETA: 0s - loss: 0.2807 - accuracy: 0.8884\n",
      "Epoch 00043: val_loss did not improve from 0.72543\n",
      "1616/1616 [==============================] - 53s 33ms/step - loss: 0.2807 - accuracy: 0.8884 - val_loss: 0.8337 - val_accuracy: 0.7593\n",
      "Epoch 44/200\n",
      "1615/1616 [============================>.] - ETA: 0s - loss: 0.2764 - accuracy: 0.8921\n",
      "Epoch 00044: val_loss did not improve from 0.72543\n",
      "1616/1616 [==============================] - 53s 33ms/step - loss: 0.2764 - accuracy: 0.8921 - val_loss: 0.8078 - val_accuracy: 0.7599\n",
      "Epoch 45/200\n",
      "1615/1616 [============================>.] - ETA: 0s - loss: 0.2605 - accuracy: 0.8971\n",
      "Epoch 00045: val_loss did not improve from 0.72543\n",
      "1616/1616 [==============================] - 53s 33ms/step - loss: 0.2605 - accuracy: 0.8971 - val_loss: 0.7419 - val_accuracy: 0.7803\n",
      "Epoch 46/200\n",
      "1616/1616 [==============================] - ETA: 0s - loss: 0.2547 - accuracy: 0.9013\n",
      "Epoch 00046: val_loss did not improve from 0.72543\n",
      "1616/1616 [==============================] - 53s 33ms/step - loss: 0.2547 - accuracy: 0.9013 - val_loss: 0.8066 - val_accuracy: 0.7659\n",
      "Epoch 47/200\n",
      "1615/1616 [============================>.] - ETA: 0s - loss: 0.2416 - accuracy: 0.9045\n",
      "Epoch 00047: val_loss did not improve from 0.72543\n",
      "1616/1616 [==============================] - 53s 33ms/step - loss: 0.2416 - accuracy: 0.9045 - val_loss: 0.9799 - val_accuracy: 0.7391\n",
      "Epoch 48/200\n",
      "1615/1616 [============================>.] - ETA: 0s - loss: 0.2390 - accuracy: 0.9059\n",
      "Epoch 00048: val_loss improved from 0.72543 to 0.69720, saving model to /home/ys587/__Data/__whistle/__whislte_30_species/__fit_result_species/20210217_162040/STAR2000/epoch_48_valloss_0.6972_valacc_0.7961.hdf5\n",
      "1616/1616 [==============================] - 53s 33ms/step - loss: 0.2391 - accuracy: 0.9059 - val_loss: 0.6972 - val_accuracy: 0.7961\n",
      "Epoch 49/200\n",
      "1615/1616 [============================>.] - ETA: 0s - loss: 0.2289 - accuracy: 0.9117\n",
      "Epoch 00049: val_loss did not improve from 0.69720\n",
      "1616/1616 [==============================] - 53s 33ms/step - loss: 0.2288 - accuracy: 0.9117 - val_loss: 0.8442 - val_accuracy: 0.7587\n",
      "Epoch 50/200\n",
      "1615/1616 [============================>.] - ETA: 0s - loss: 0.2211 - accuracy: 0.9126\n",
      "Epoch 00050: val_loss did not improve from 0.69720\n",
      "1616/1616 [==============================] - 53s 33ms/step - loss: 0.2211 - accuracy: 0.9126 - val_loss: 0.7808 - val_accuracy: 0.7734\n",
      "Epoch 51/200\n",
      "1615/1616 [============================>.] - ETA: 0s - loss: 0.2110 - accuracy: 0.9183\n",
      "Epoch 00051: val_loss did not improve from 0.69720\n",
      "1616/1616 [==============================] - 53s 33ms/step - loss: 0.2110 - accuracy: 0.9183 - val_loss: 0.8696 - val_accuracy: 0.7633\n",
      "Epoch 52/200\n",
      "1615/1616 [============================>.] - ETA: 0s - loss: 0.2008 - accuracy: 0.9211\n",
      "Epoch 00052: val_loss did not improve from 0.69720\n",
      "1616/1616 [==============================] - 53s 33ms/step - loss: 0.2008 - accuracy: 0.9211 - val_loss: 0.8072 - val_accuracy: 0.7803\n",
      "Epoch 53/200\n",
      "1615/1616 [============================>.] - ETA: 0s - loss: 0.1969 - accuracy: 0.9227\n",
      "Epoch 00053: val_loss did not improve from 0.69720\n",
      "1616/1616 [==============================] - 53s 33ms/step - loss: 0.1970 - accuracy: 0.9226 - val_loss: 0.8348 - val_accuracy: 0.7711\n",
      "Epoch 54/200\n",
      "1615/1616 [============================>.] - ETA: 0s - loss: 0.1929 - accuracy: 0.9243\n",
      "Epoch 00054: val_loss did not improve from 0.69720\n",
      "1616/1616 [==============================] - 53s 33ms/step - loss: 0.1928 - accuracy: 0.9243 - val_loss: 0.7670 - val_accuracy: 0.7912\n",
      "Epoch 55/200\n",
      "1615/1616 [============================>.] - ETA: 0s - loss: 0.1794 - accuracy: 0.9287\n",
      "Epoch 00055: val_loss did not improve from 0.69720\n",
      "1616/1616 [==============================] - 53s 33ms/step - loss: 0.1793 - accuracy: 0.9287 - val_loss: 0.8718 - val_accuracy: 0.7812\n",
      "Epoch 56/200\n",
      "1615/1616 [============================>.] - ETA: 0s - loss: 0.1832 - accuracy: 0.9293\n",
      "Epoch 00056: val_loss did not improve from 0.69720\n",
      "1616/1616 [==============================] - 53s 33ms/step - loss: 0.1832 - accuracy: 0.9293 - val_loss: 1.0472 - val_accuracy: 0.7381\n",
      "Epoch 57/200\n",
      "1615/1616 [============================>.] - ETA: 0s - loss: 0.1727 - accuracy: 0.9338\n",
      "Epoch 00057: val_loss did not improve from 0.69720\n",
      "1616/1616 [==============================] - 53s 33ms/step - loss: 0.1727 - accuracy: 0.9338 - val_loss: 0.8220 - val_accuracy: 0.7806\n",
      "Epoch 58/200\n",
      "1615/1616 [============================>.] - ETA: 0s - loss: 0.1684 - accuracy: 0.9354\n",
      "Epoch 00058: val_loss did not improve from 0.69720\n",
      "1616/1616 [==============================] - 53s 33ms/step - loss: 0.1685 - accuracy: 0.9354 - val_loss: 0.8920 - val_accuracy: 0.7702\n",
      "Epoch 59/200\n",
      "1615/1616 [============================>.] - ETA: 0s - loss: 0.1621 - accuracy: 0.9370\n",
      "Epoch 00059: val_loss did not improve from 0.69720\n",
      "1616/1616 [==============================] - 53s 33ms/step - loss: 0.1621 - accuracy: 0.9370 - val_loss: 0.7916 - val_accuracy: 0.7981\n",
      "Epoch 60/200\n",
      "1616/1616 [==============================] - ETA: 0s - loss: 0.1541 - accuracy: 0.9397\n",
      "Epoch 00060: val_loss did not improve from 0.69720\n",
      "1616/1616 [==============================] - 53s 33ms/step - loss: 0.1541 - accuracy: 0.9397 - val_loss: 0.9199 - val_accuracy: 0.7635\n",
      "Epoch 61/200\n",
      "1615/1616 [============================>.] - ETA: 0s - loss: 0.1502 - accuracy: 0.9412\n",
      "Epoch 00061: val_loss did not improve from 0.69720\n",
      "1616/1616 [==============================] - 53s 33ms/step - loss: 0.1502 - accuracy: 0.9411 - val_loss: 0.9007 - val_accuracy: 0.7746\n",
      "Epoch 62/200\n",
      "1615/1616 [============================>.] - ETA: 0s - loss: 0.1521 - accuracy: 0.9413\n",
      "Epoch 00062: val_loss did not improve from 0.69720\n",
      "1616/1616 [==============================] - 53s 33ms/step - loss: 0.1522 - accuracy: 0.9413 - val_loss: 0.8065 - val_accuracy: 0.7927\n",
      "Epoch 63/200\n",
      "1615/1616 [============================>.] - ETA: 0s - loss: 0.1433 - accuracy: 0.9437\n",
      "Epoch 00063: val_loss did not improve from 0.69720\n",
      "1616/1616 [==============================] - 53s 33ms/step - loss: 0.1434 - accuracy: 0.9437 - val_loss: 0.8051 - val_accuracy: 0.7907\n",
      "Epoch 64/200\n",
      "1616/1616 [==============================] - ETA: 0s - loss: 0.1455 - accuracy: 0.9427\n",
      "Epoch 00064: val_loss did not improve from 0.69720\n",
      "1616/1616 [==============================] - 53s 33ms/step - loss: 0.1455 - accuracy: 0.9427 - val_loss: 0.7909 - val_accuracy: 0.8010\n",
      "Epoch 65/200\n",
      "1615/1616 [============================>.] - ETA: 0s - loss: 0.1346 - accuracy: 0.9476\n",
      "Epoch 00065: val_loss did not improve from 0.69720\n",
      "1616/1616 [==============================] - 53s 33ms/step - loss: 0.1346 - accuracy: 0.9476 - val_loss: 0.8472 - val_accuracy: 0.7894\n",
      "Epoch 66/200\n",
      "1615/1616 [============================>.] - ETA: 0s - loss: 0.1309 - accuracy: 0.9489\n",
      "Epoch 00066: val_loss did not improve from 0.69720\n",
      "1616/1616 [==============================] - 53s 33ms/step - loss: 0.1309 - accuracy: 0.9488 - val_loss: 0.8291 - val_accuracy: 0.7920\n",
      "Epoch 67/200\n",
      "1615/1616 [============================>.] - ETA: 0s - loss: 0.1310 - accuracy: 0.9503\n",
      "Epoch 00067: val_loss did not improve from 0.69720\n",
      "1616/1616 [==============================] - 53s 33ms/step - loss: 0.1310 - accuracy: 0.9502 - val_loss: 0.9628 - val_accuracy: 0.7598\n",
      "Epoch 68/200\n",
      "1615/1616 [============================>.] - ETA: 0s - loss: 0.1182 - accuracy: 0.9531\n",
      "Epoch 00068: val_loss did not improve from 0.69720\n",
      "1616/1616 [==============================] - 53s 33ms/step - loss: 0.1182 - accuracy: 0.9531 - val_loss: 1.0267 - val_accuracy: 0.7637\n",
      "Epoch 00068: early stopping\n"
     ]
    }
   ],
   "source": [
    "model = model_cnn14_attention_multi(dim_time, dim_freq, num_species, model_type='feature_level_attention', conv_dim=conv_dim, pool_size=pool_size, pool_stride=pool_stride, hidden_units=hidden_units, l2_regu=l2_regu, drop_rate=drop_rate)\n",
    "loss = CategoricalCrossentropy()\n",
    "model.compile(optimizer=tf.keras.optimizers.Adam(learning_rate=learning_rate_fn), loss=loss, metrics=['accuracy'])\n",
    "\n",
    "# With classes\n",
    "# history = model.fit(fea_train, to_categorical(label_train), class_weight=class_weights, validation_split=0.3, batch_size=batch_size, epochs=num_epoch, callbacks=[EarlyStopping(patience=num_patience), ModelCheckpoint(filepath=os.path.join(fit_result_path, '{epoch:02d}-{val_loss:.4f}.hdf5'), verbose=1, monitor=\"val_loss\", save_best_only=True)])\n",
    "# history = model.fit(train_generator, validation_data=validate_generator, class_weight=class_weights, epochs=num_epoch, callbacks=[EarlyStopping(patience=num_patience, monitor='val_loss', mode='min', verbose=1), TensorBoard(log_dir=fit_result_path1), ModelCheckpoint(filepath=os.path.join(fit_result_path1, '{epoch:02d}-{val_loss:.4f}.hdf5'), verbose=1, monitor=\"val_loss\", save_best_only=True)])\n",
    "history = model.fit(train_generator, validation_data=validate_generator, class_weight=class_weights, epochs=num_epoch, callbacks=[EarlyStopping(patience=num_patience, monitor='val_loss', mode='min', verbose=1), TensorBoard(log_dir=fit_result_path2), ModelCheckpoint(filepath=os.path.join(fit_result_path2, 'epoch_{epoch:02d}_valloss_{val_loss:.4f}_valacc_{val_accuracy:.4f}.hdf5' ), verbose=1, monitor=\"val_loss\", save_best_only=True)])"
   ]
  },
  {
   "cell_type": "code",
   "execution_count": 33,
   "metadata": {},
   "outputs": [
    {
     "name": "stdout",
     "output_type": "stream",
     "text": [
      "Best model:0.6972\n",
      "/home/ys587/__Data/__whistle/__whislte_30_species/__fit_result_species/20210217_162040/STAR2000/epoch_48_valloss_0.6972_valacc_0.7961.hdf5\n"
     ]
    }
   ],
   "source": [
    "# fit_result_path1 = '/home/ys587/__Data/__whistle/__whislte_30_species/__fit_result_species/20210210_224527'\n",
    "the_best_model, _ = find_best_model(fit_result_path2, purge=False)"
   ]
  },
  {
   "cell_type": "code",
   "execution_count": 34,
   "metadata": {
    "scrolled": true
   },
   "outputs": [
    {
     "name": "stdout",
     "output_type": "stream",
     "text": [
      "Model: \"model\"\n",
      "__________________________________________________________________________________________________\n",
      "Layer (type)                    Output Shape         Param #     Connected to                     \n",
      "==================================================================================================\n",
      "input (InputLayer)              [(None, 100, 128, 1) 0                                            \n",
      "__________________________________________________________________________________________________\n",
      "conv2d (Conv2D)                 (None, 100, 128, 16) 160         input[0][0]                      \n",
      "__________________________________________________________________________________________________\n",
      "batch_normalization (BatchNorma (None, 100, 128, 16) 64          conv2d[0][0]                     \n",
      "__________________________________________________________________________________________________\n",
      "activation (Activation)         (None, 100, 128, 16) 0           batch_normalization[0][0]        \n",
      "__________________________________________________________________________________________________\n",
      "conv2d_1 (Conv2D)               (None, 100, 128, 16) 2320        activation[0][0]                 \n",
      "__________________________________________________________________________________________________\n",
      "batch_normalization_1 (BatchNor (None, 100, 128, 16) 64          conv2d_1[0][0]                   \n",
      "__________________________________________________________________________________________________\n",
      "activation_1 (Activation)       (None, 100, 128, 16) 0           batch_normalization_1[0][0]      \n",
      "__________________________________________________________________________________________________\n",
      "max_pooling2d (MaxPooling2D)    (None, 50, 64, 16)   0           activation_1[0][0]               \n",
      "__________________________________________________________________________________________________\n",
      "dropout (Dropout)               (None, 50, 64, 16)   0           max_pooling2d[0][0]              \n",
      "__________________________________________________________________________________________________\n",
      "conv2d_2 (Conv2D)               (None, 50, 64, 32)   4640        dropout[0][0]                    \n",
      "__________________________________________________________________________________________________\n",
      "batch_normalization_2 (BatchNor (None, 50, 64, 32)   128         conv2d_2[0][0]                   \n",
      "__________________________________________________________________________________________________\n",
      "activation_2 (Activation)       (None, 50, 64, 32)   0           batch_normalization_2[0][0]      \n",
      "__________________________________________________________________________________________________\n",
      "conv2d_3 (Conv2D)               (None, 50, 64, 32)   9248        activation_2[0][0]               \n",
      "__________________________________________________________________________________________________\n",
      "batch_normalization_3 (BatchNor (None, 50, 64, 32)   128         conv2d_3[0][0]                   \n",
      "__________________________________________________________________________________________________\n",
      "activation_3 (Activation)       (None, 50, 64, 32)   0           batch_normalization_3[0][0]      \n",
      "__________________________________________________________________________________________________\n",
      "max_pooling2d_1 (MaxPooling2D)  (None, 25, 32, 32)   0           activation_3[0][0]               \n",
      "__________________________________________________________________________________________________\n",
      "dropout_1 (Dropout)             (None, 25, 32, 32)   0           max_pooling2d_1[0][0]            \n",
      "__________________________________________________________________________________________________\n",
      "conv2d_4 (Conv2D)               (None, 25, 32, 64)   18496       dropout_1[0][0]                  \n",
      "__________________________________________________________________________________________________\n",
      "batch_normalization_4 (BatchNor (None, 25, 32, 64)   256         conv2d_4[0][0]                   \n",
      "__________________________________________________________________________________________________\n",
      "activation_4 (Activation)       (None, 25, 32, 64)   0           batch_normalization_4[0][0]      \n",
      "__________________________________________________________________________________________________\n",
      "conv2d_5 (Conv2D)               (None, 25, 32, 64)   36928       activation_4[0][0]               \n",
      "__________________________________________________________________________________________________\n",
      "batch_normalization_5 (BatchNor (None, 25, 32, 64)   256         conv2d_5[0][0]                   \n",
      "__________________________________________________________________________________________________\n",
      "activation_5 (Activation)       (None, 25, 32, 64)   0           batch_normalization_5[0][0]      \n",
      "__________________________________________________________________________________________________\n",
      "max_pooling2d_2 (MaxPooling2D)  (None, 13, 16, 64)   0           activation_5[0][0]               \n",
      "__________________________________________________________________________________________________\n",
      "dropout_2 (Dropout)             (None, 13, 16, 64)   0           max_pooling2d_2[0][0]            \n",
      "__________________________________________________________________________________________________\n",
      "conv2d_6 (Conv2D)               (None, 13, 16, 128)  73856       dropout_2[0][0]                  \n",
      "__________________________________________________________________________________________________\n",
      "batch_normalization_6 (BatchNor (None, 13, 16, 128)  512         conv2d_6[0][0]                   \n",
      "__________________________________________________________________________________________________\n",
      "activation_6 (Activation)       (None, 13, 16, 128)  0           batch_normalization_6[0][0]      \n",
      "__________________________________________________________________________________________________\n",
      "conv2d_7 (Conv2D)               (None, 13, 16, 128)  147584      activation_6[0][0]               \n",
      "__________________________________________________________________________________________________\n",
      "batch_normalization_7 (BatchNor (None, 13, 16, 128)  512         conv2d_7[0][0]                   \n",
      "__________________________________________________________________________________________________\n",
      "activation_7 (Activation)       (None, 13, 16, 128)  0           batch_normalization_7[0][0]      \n",
      "__________________________________________________________________________________________________\n",
      "max_pooling2d_3 (MaxPooling2D)  (None, 7, 8, 128)    0           activation_7[0][0]               \n",
      "__________________________________________________________________________________________________\n",
      "dropout_3 (Dropout)             (None, 7, 8, 128)    0           max_pooling2d_3[0][0]            \n",
      "__________________________________________________________________________________________________\n",
      "conv2d_8 (Conv2D)               (None, 7, 8, 256)    295168      dropout_3[0][0]                  \n",
      "__________________________________________________________________________________________________\n",
      "batch_normalization_8 (BatchNor (None, 7, 8, 256)    1024        conv2d_8[0][0]                   \n",
      "__________________________________________________________________________________________________\n",
      "activation_8 (Activation)       (None, 7, 8, 256)    0           batch_normalization_8[0][0]      \n",
      "__________________________________________________________________________________________________\n",
      "conv2d_9 (Conv2D)               (None, 7, 8, 256)    590080      activation_8[0][0]               \n",
      "__________________________________________________________________________________________________\n",
      "batch_normalization_9 (BatchNor (None, 7, 8, 256)    1024        conv2d_9[0][0]                   \n",
      "__________________________________________________________________________________________________\n",
      "activation_9 (Activation)       (None, 7, 8, 256)    0           batch_normalization_9[0][0]      \n",
      "__________________________________________________________________________________________________\n",
      "max_pooling2d_4 (MaxPooling2D)  (None, 7, 4, 256)    0           activation_9[0][0]               \n",
      "__________________________________________________________________________________________________\n",
      "dropout_4 (Dropout)             (None, 7, 4, 256)    0           max_pooling2d_4[0][0]            \n",
      "__________________________________________________________________________________________________\n",
      "conv2d_10 (Conv2D)              (None, 7, 4, 512)    1180160     dropout_4[0][0]                  \n",
      "__________________________________________________________________________________________________\n",
      "batch_normalization_10 (BatchNo (None, 7, 4, 512)    2048        conv2d_10[0][0]                  \n",
      "__________________________________________________________________________________________________\n",
      "activation_10 (Activation)      (None, 7, 4, 512)    0           batch_normalization_10[0][0]     \n",
      "__________________________________________________________________________________________________\n",
      "conv2d_11 (Conv2D)              (None, 7, 4, 512)    2359808     activation_10[0][0]              \n",
      "__________________________________________________________________________________________________\n",
      "batch_normalization_11 (BatchNo (None, 7, 4, 512)    2048        conv2d_11[0][0]                  \n",
      "__________________________________________________________________________________________________\n",
      "activation_11 (Activation)      (None, 7, 4, 512)    0           batch_normalization_11[0][0]     \n",
      "__________________________________________________________________________________________________\n",
      "max_pooling2d_5 (MaxPooling2D)  (None, 7, 2, 512)    0           activation_11[0][0]              \n",
      "__________________________________________________________________________________________________\n",
      "dropout_5 (Dropout)             (None, 7, 2, 512)    0           max_pooling2d_5[0][0]            \n",
      "__________________________________________________________________________________________________\n",
      "reshape (Reshape)               (None, 7, 1024)      0           dropout_5[0][0]                  \n",
      "__________________________________________________________________________________________________\n",
      "dense (Dense)                   (None, 7, 512)       524800      reshape[0][0]                    \n",
      "__________________________________________________________________________________________________\n",
      "batch_normalization_12 (BatchNo (None, 7, 512)       2048        dense[0][0]                      \n",
      "__________________________________________________________________________________________________\n",
      "activation_12 (Activation)      (None, 7, 512)       0           batch_normalization_12[0][0]     \n",
      "__________________________________________________________________________________________________\n",
      "dropout_6 (Dropout)             (None, 7, 512)       0           activation_12[0][0]              \n",
      "__________________________________________________________________________________________________\n",
      "dense_1 (Dense)                 (None, 7, 512)       262656      dropout_6[0][0]                  \n",
      "__________________________________________________________________________________________________\n",
      "batch_normalization_13 (BatchNo (None, 7, 512)       2048        dense_1[0][0]                    \n",
      "__________________________________________________________________________________________________\n",
      "activation_13 (Activation)      (None, 7, 512)       0           batch_normalization_13[0][0]     \n",
      "__________________________________________________________________________________________________\n",
      "dropout_7 (Dropout)             (None, 7, 512)       0           activation_13[0][0]              \n",
      "__________________________________________________________________________________________________\n",
      "dense_2 (Dense)                 (None, 7, 512)       262656      dropout_7[0][0]                  \n",
      "__________________________________________________________________________________________________\n",
      "batch_normalization_14 (BatchNo (None, 7, 512)       2048        dense_2[0][0]                    \n",
      "__________________________________________________________________________________________________\n",
      "activation_14 (Activation)      (None, 7, 512)       0           batch_normalization_14[0][0]     \n",
      "__________________________________________________________________________________________________\n",
      "dropout_8 (Dropout)             (None, 7, 512)       0           activation_14[0][0]              \n",
      "__________________________________________________________________________________________________\n",
      "dense_3 (Dense)                 (None, 7, 512)       262656      dropout_8[0][0]                  \n",
      "__________________________________________________________________________________________________\n",
      "dense_4 (Dense)                 (None, 7, 512)       262656      dropout_8[0][0]                  \n",
      "__________________________________________________________________________________________________\n",
      "lambda (Lambda)                 (None, 512)          0           dense_3[0][0]                    \n",
      "                                                                 dense_4[0][0]                    \n",
      "__________________________________________________________________________________________________\n",
      "batch_normalization_15 (BatchNo (None, 512)          2048        lambda[0][0]                     \n",
      "__________________________________________________________________________________________________\n",
      "activation_15 (Activation)      (None, 512)          0           batch_normalization_15[0][0]     \n",
      "__________________________________________________________________________________________________\n",
      "dropout_9 (Dropout)             (None, 512)          0           activation_15[0][0]              \n",
      "__________________________________________________________________________________________________\n",
      "dense_5 (Dense)                 (None, 8)            4104        dropout_9[0][0]                  \n",
      "==================================================================================================\n",
      "Total params: 6,314,232\n",
      "Trainable params: 6,306,104\n",
      "Non-trainable params: 8,128\n",
      "__________________________________________________________________________________________________\n"
     ]
    }
   ],
   "source": [
    "model = load_model(the_best_model)\n",
    "model.summary()"
   ]
  },
  {
   "cell_type": "code",
   "execution_count": 35,
   "metadata": {},
   "outputs": [],
   "source": [
    "label_pred = model.predict(fea_test)\n",
    "# label_pred = model.predict(test_generator)"
   ]
  },
  {
   "cell_type": "code",
   "execution_count": 36,
   "metadata": {},
   "outputs": [],
   "source": [
    "np.set_printoptions(linewidth=200, precision=2, suppress=True)"
   ]
  },
  {
   "cell_type": "code",
   "execution_count": 37,
   "metadata": {},
   "outputs": [
    {
     "name": "stdout",
     "output_type": "stream",
     "text": [
      "Confusion matrix:\n",
      "['BD', 'CD', 'STR', 'SPT', 'SPIN', 'PLT', 'RT', 'FKW']\n",
      "\n",
      "[[  47   17    6   22    5    7   15    2]\n",
      " [ 448 1597  792  380   80  470  179   18]\n",
      " [ 217  212  228  225   29  158   56   15]\n",
      " [  69  449   20  185    6   87   26    3]\n",
      " [ 195   45   42  151   30   23    5    0]\n",
      " [   0    0    0    0    0   26    4    1]\n",
      " [  22    1    6    2    0   12   27    6]\n",
      " [   0    0    0    0    0    0    0    0]]\n",
      "\n",
      "[[0.39 0.14 0.05 0.18 0.04 0.06 0.12 0.02]\n",
      " [0.11 0.4  0.2  0.1  0.02 0.12 0.05 0.  ]\n",
      " [0.19 0.19 0.2  0.2  0.03 0.14 0.05 0.01]\n",
      " [0.08 0.53 0.02 0.22 0.01 0.1  0.03 0.  ]\n",
      " [0.4  0.09 0.09 0.31 0.06 0.05 0.01 0.  ]\n",
      " [0.   0.   0.   0.   0.   0.84 0.13 0.03]\n",
      " [0.29 0.01 0.08 0.03 0.   0.16 0.36 0.08]\n",
      " [0.   0.   0.   0.   0.   0.   0.   0.  ]]\n"
     ]
    }
   ],
   "source": [
    "print(\"Confusion matrix:\")\n",
    "cm = confusion_matrix(label_test, np.argmax(label_pred, axis=1), labels=species_id)\n",
    "\n",
    "print(species_list)\n",
    "print('')\n",
    "print(cm)\n",
    "print('')\n",
    "\n",
    "cm2 = cm*1.0\n",
    "for ii in range(cm.shape[0]):\n",
    "    cm_row = cm[ii, :]*1.0\n",
    "\n",
    "    cm_row_sum = cm_row.sum()\n",
    "    if cm_row_sum != 0:\n",
    "        cm2[ii, :] = cm_row / cm_row_sum\n",
    "    else:\n",
    "        cm2[ii, :] = np.zeros(cm.shape[1])\n",
    "\n",
    "print(cm2)"
   ]
  },
  {
   "cell_type": "code",
   "execution_count": 38,
   "metadata": {},
   "outputs": [],
   "source": [
    "from sklearn.metrics import plot_confusion_matrix\n",
    "from sklearn.metrics._plot.confusion_matrix import ConfusionMatrixDisplay\n",
    "disp = ConfusionMatrixDisplay(confusion_matrix=cm, display_labels=species_list)\n",
    "disp2 = ConfusionMatrixDisplay(confusion_matrix=cm2, display_labels=species_list)"
   ]
  },
  {
   "cell_type": "code",
   "execution_count": 39,
   "metadata": {},
   "outputs": [
    {
     "data": {
      "text/plain": [
       "<sklearn.metrics._plot.confusion_matrix.ConfusionMatrixDisplay at 0x7f5330695be0>"
      ]
     },
     "execution_count": 39,
     "metadata": {},
     "output_type": "execute_result"
    },
    {
     "data": {
      "image/png": "[encoded data removed]",
      "text/plain": [
       "<Figure size 1080x1080 with 2 Axes>"
      ]
     },
     "metadata": {
      "needs_background": "light"
     },
     "output_type": "display_data"
    }
   ],
   "source": [
    "fig, ax = plt.subplots(figsize=[15, 15])\n",
    "disp.plot(include_values=True,\n",
    "                     cmap='viridis', ax=ax, xticks_rotation='horizontal',\n",
    "                     values_format=None, colorbar=True)\n"
   ]
  },
  {
   "cell_type": "code",
   "execution_count": 40,
   "metadata": {},
   "outputs": [
    {
     "data": {
      "text/plain": [
       "<sklearn.metrics._plot.confusion_matrix.ConfusionMatrixDisplay at 0x7f5330695ca0>"
      ]
     },
     "execution_count": 40,
     "metadata": {},
     "output_type": "execute_result"
    },
    {
     "data": {
      "image/png": "[encoded data removed]",
      "text/plain": [
       "<Figure size 1080x1080 with 2 Axes>"
      ]
     },
     "metadata": {
      "needs_background": "light"
     },
     "output_type": "display_data"
    }
   ],
   "source": [
    "fig, ax = plt.subplots(figsize=[15, 15])\n",
    "disp2.plot(include_values=True,\n",
    "                     cmap='viridis', ax=ax, xticks_rotation='horizontal',\n",
    "                     values_format='.2f', colorbar=True)"
   ]
  },
  {
   "cell_type": "markdown",
   "metadata": {},
   "source": [
    "## STAR2003"
   ]
  },
  {
   "cell_type": "code",
   "execution_count": 41,
   "metadata": {},
   "outputs": [
    {
     "name": "stdout",
     "output_type": "stream",
     "text": [
      "STAR2003\n"
     ]
    }
   ],
   "source": [
    "ee = deployment[1]\n",
    "print(ee)"
   ]
  },
  {
   "cell_type": "code",
   "execution_count": 42,
   "metadata": {},
   "outputs": [],
   "source": [
    "# Training data\n",
    "fea_temp = np.load(os.path.join(feature_path, 'train_oswald_no_'+ee+'.npz'))\n",
    "fea_train = fea_temp['fea_train']\n",
    "label_train_list = fea_temp['label_train']\n",
    "del fea_temp"
   ]
  },
  {
   "cell_type": "code",
   "execution_count": 43,
   "metadata": {},
   "outputs": [],
   "source": [
    "label_train = np.zeros(len(label_train_list))\n",
    "for ii in range(len(label_train_list)):\n",
    "    label_train[ii] = species_dict[label_train_list[ii]]"
   ]
  },
  {
   "cell_type": "code",
   "execution_count": 44,
   "metadata": {},
   "outputs": [],
   "source": [
    "# Testing data\n",
    "fea_temp = np.load(os.path.join(feature_path, 'oswald_'+ee+'_orig.npz'))\n",
    "fea_test = fea_temp['feas_orig']\n",
    "label_test_list = fea_temp['labels_orig']\n",
    "\n",
    "fea_test = fea_test[:,:100,:]\n",
    "label_test = np.zeros(len(label_test_list))\n",
    "for ii in range(len(label_test_list)):\n",
    "    label_test[ii] = species_dict[label_test_list[ii]]"
   ]
  },
  {
   "cell_type": "code",
   "execution_count": 45,
   "metadata": {},
   "outputs": [],
   "source": [
    "fea_train = fea_train[:,:100,:]"
   ]
  },
  {
   "cell_type": "code",
   "execution_count": 46,
   "metadata": {},
   "outputs": [],
   "source": [
    "label_train = np.zeros(len(label_train_list))\n",
    "for ii in range(len(label_train_list)):\n",
    "    label_train[ii] = species_dict[label_train_list[ii]]"
   ]
  },
  {
   "cell_type": "code",
   "execution_count": 47,
   "metadata": {
    "scrolled": true
   },
   "outputs": [
    {
     "data": {
      "text/plain": [
       "Counter({'BD': 10080,\n",
       "         'CD': 23928,\n",
       "         'PLT': 12042,\n",
       "         'RT': 7866,\n",
       "         'SPIN': 5904,\n",
       "         'SPT': 11154,\n",
       "         'STR': 14868,\n",
       "         'FKW': 17460})"
      ]
     },
     "execution_count": 47,
     "metadata": {},
     "output_type": "execute_result"
    }
   ],
   "source": [
    "Counter(label_train_list)"
   ]
  },
  {
   "cell_type": "code",
   "execution_count": 48,
   "metadata": {},
   "outputs": [
    {
     "data": {
      "text/plain": [
       "Counter({0.0: 231, 1.0: 752, 7.0: 270, 4.0: 51, 3.0: 412, 2.0: 54})"
      ]
     },
     "execution_count": 48,
     "metadata": {},
     "output_type": "execute_result"
    }
   ],
   "source": [
    "Counter(label_test.tolist())"
   ]
  },
  {
   "cell_type": "code",
   "execution_count": 49,
   "metadata": {},
   "outputs": [],
   "source": [
    "fit_result_path2 = os.path.join(fit_result_path1, ee)\n",
    "if not os.path.exists(fit_result_path2):\n",
    "    makedirs(fit_result_path2)"
   ]
  },
  {
   "cell_type": "code",
   "execution_count": 50,
   "metadata": {},
   "outputs": [
    {
     "name": "stdout",
     "output_type": "stream",
     "text": [
      "feature train shape: (103302, 100, 128)\n",
      "feature test shape: (1770, 100, 128)\n",
      "label train shape: (103302,)\n",
      "label test shape: (1770,)\n",
      "dim_time: 100\n",
      "dim_freq: 128\n"
     ]
    }
   ],
   "source": [
    "print('feature train shape: '+str(fea_train.shape))\n",
    "print('feature test shape: '+str(fea_test.shape))\n",
    "print('label train shape: '+str(label_train.shape))\n",
    "print('label test shape: '+str(label_test.shape))\n",
    "\n",
    "dim_time = fea_train.shape[1]\n",
    "dim_freq = fea_train.shape[2]\n",
    "print('dim_time: '+str(dim_time))\n",
    "print('dim_freq: '+str(dim_freq))"
   ]
  },
  {
   "cell_type": "code",
   "execution_count": 51,
   "metadata": {},
   "outputs": [],
   "source": [
    "# shuffle features & labels\n",
    "fea_train, label_train = shuffle(fea_train, label_train, random_state=0)\n",
    "fea_test, label_test = shuffle(fea_test, label_test, random_state=0)"
   ]
  },
  {
   "cell_type": "code",
   "execution_count": 52,
   "metadata": {},
   "outputs": [],
   "source": [
    "# class weight\n",
    "weights = compute_class_weight(class_weight='balanced', classes=np.unique(label_train), y=label_train)\n",
    "\n",
    "class_weights = dict()\n",
    "for ii in range(num_species):\n",
    "    class_weights[ii] = weights[ii]"
   ]
  },
  {
   "cell_type": "code",
   "execution_count": 53,
   "metadata": {},
   "outputs": [],
   "source": [
    "fea_train = np.expand_dims(fea_train, axis=3)\n",
    "fea_test = np.expand_dims(fea_test, axis=3)"
   ]
  },
  {
   "cell_type": "code",
   "execution_count": 54,
   "metadata": {},
   "outputs": [],
   "source": [
    "fea_train, fea_validate, label_train, label_validate = train_test_split(fea_train, label_train, test_size=0.30, random_state=42)\n",
    "\n",
    "train_generator = DataGenerator(fea_train, label_train, batch_size=batch_size, num_classes=num_species)\n",
    "del fea_train\n",
    "validate_generator = DataGenerator(fea_validate, label_validate, batch_size=batch_size, num_classes=num_species)\n",
    "del fea_validate\n",
    "\n",
    "# test_generator = DataGenerator(fea_test, label_test, batch_size=batch_size, num_classes=num_species)\n"
   ]
  },
  {
   "cell_type": "markdown",
   "metadata": {},
   "source": [
    "### Training the model"
   ]
  },
  {
   "cell_type": "code",
   "execution_count": 55,
   "metadata": {
    "scrolled": true
   },
   "outputs": [
    {
     "name": "stdout",
     "output_type": "stream",
     "text": [
      "Epoch 1/200\n",
      "   2/2259 [..............................] - ETA: 6:00 - loss: 2.1795 - accuracy: 0.2188WARNING:tensorflow:Method (on_train_batch_end) is slow compared to the batch update (0.147224). Check your callbacks.\n",
      "2258/2259 [============================>.] - ETA: 0s - loss: 2.0425 - accuracy: 0.1651\n",
      "Epoch 00001: val_loss improved from inf to 2.04774, saving model to /home/ys587/__Data/__whistle/__whislte_30_species/__fit_result_species/20210217_162040/STAR2003/epoch_01_valloss_2.0477_valacc_0.1839.hdf5\n",
      "2259/2259 [==============================] - 74s 33ms/step - loss: 2.0425 - accuracy: 0.1651 - val_loss: 2.0477 - val_accuracy: 0.1839\n",
      "Epoch 2/200\n",
      "2259/2259 [==============================] - ETA: 0s - loss: 1.6275 - accuracy: 0.3922\n",
      "Epoch 00002: val_loss improved from 2.04774 to 1.53843, saving model to /home/ys587/__Data/__whistle/__whislte_30_species/__fit_result_species/20210217_162040/STAR2003/epoch_02_valloss_1.5384_valacc_0.4234.hdf5\n",
      "2259/2259 [==============================] - 73s 32ms/step - loss: 1.6275 - accuracy: 0.3922 - val_loss: 1.5384 - val_accuracy: 0.4234\n",
      "Epoch 3/200\n",
      "2259/2259 [==============================] - ETA: 0s - loss: 1.3929 - accuracy: 0.4928\n",
      "Epoch 00003: val_loss improved from 1.53843 to 1.38604, saving model to /home/ys587/__Data/__whistle/__whislte_30_species/__fit_result_species/20210217_162040/STAR2003/epoch_03_valloss_1.3860_valacc_0.4994.hdf5\n",
      "2259/2259 [==============================] - 73s 32ms/step - loss: 1.3929 - accuracy: 0.4928 - val_loss: 1.3860 - val_accuracy: 0.4994\n",
      "Epoch 4/200\n",
      "2259/2259 [==============================] - ETA: 0s - loss: 1.2749 - accuracy: 0.5428\n",
      "Epoch 00004: val_loss did not improve from 1.38604\n",
      "2259/2259 [==============================] - 73s 32ms/step - loss: 1.2749 - accuracy: 0.5428 - val_loss: 1.4452 - val_accuracy: 0.4701\n",
      "Epoch 5/200\n",
      "2259/2259 [==============================] - ETA: 0s - loss: 1.1845 - accuracy: 0.5744\n",
      "Epoch 00005: val_loss improved from 1.38604 to 1.12517, saving model to /home/ys587/__Data/__whistle/__whislte_30_species/__fit_result_species/20210217_162040/STAR2003/epoch_05_valloss_1.1252_valacc_0.5908.hdf5\n",
      "2259/2259 [==============================] - 73s 32ms/step - loss: 1.1845 - accuracy: 0.5744 - val_loss: 1.1252 - val_accuracy: 0.5908\n",
      "Epoch 6/200\n",
      "2259/2259 [==============================] - ETA: 0s - loss: 1.1237 - accuracy: 0.5968\n",
      "Epoch 00006: val_loss did not improve from 1.12517\n",
      "2259/2259 [==============================] - 73s 32ms/step - loss: 1.1237 - accuracy: 0.5968 - val_loss: 1.1885 - val_accuracy: 0.5672\n",
      "Epoch 7/200\n",
      "2259/2259 [==============================] - ETA: 0s - loss: 1.0635 - accuracy: 0.6197\n",
      "Epoch 00007: val_loss did not improve from 1.12517\n",
      "2259/2259 [==============================] - 73s 32ms/step - loss: 1.0635 - accuracy: 0.6197 - val_loss: 1.4791 - val_accuracy: 0.4751\n",
      "Epoch 8/200\n",
      "2259/2259 [==============================] - ETA: 0s - loss: 1.0119 - accuracy: 0.6358\n",
      "Epoch 00008: val_loss improved from 1.12517 to 0.95922, saving model to /home/ys587/__Data/__whistle/__whislte_30_species/__fit_result_species/20210217_162040/STAR2003/epoch_08_valloss_0.9592_valacc_0.6457.hdf5\n",
      "2259/2259 [==============================] - 73s 32ms/step - loss: 1.0119 - accuracy: 0.6358 - val_loss: 0.9592 - val_accuracy: 0.6457\n",
      "Epoch 9/200\n",
      "2259/2259 [==============================] - ETA: 0s - loss: 0.9674 - accuracy: 0.6538\n",
      "Epoch 00009: val_loss did not improve from 0.95922\n",
      "2259/2259 [==============================] - 73s 32ms/step - loss: 0.9674 - accuracy: 0.6538 - val_loss: 1.0534 - val_accuracy: 0.6032\n",
      "Epoch 10/200\n",
      "2259/2259 [==============================] - ETA: 0s - loss: 0.9248 - accuracy: 0.6670\n",
      "Epoch 00010: val_loss did not improve from 0.95922\n",
      "2259/2259 [==============================] - 73s 32ms/step - loss: 0.9248 - accuracy: 0.6670 - val_loss: 1.0209 - val_accuracy: 0.6302\n",
      "Epoch 11/200\n",
      "2259/2259 [==============================] - ETA: 0s - loss: 0.8867 - accuracy: 0.6826\n",
      "Epoch 00011: val_loss did not improve from 0.95922\n",
      "2259/2259 [==============================] - 73s 32ms/step - loss: 0.8867 - accuracy: 0.6826 - val_loss: 0.9989 - val_accuracy: 0.6434\n",
      "Epoch 12/200\n",
      "2259/2259 [==============================] - ETA: 0s - loss: 0.8447 - accuracy: 0.6960\n",
      "Epoch 00012: val_loss did not improve from 0.95922\n",
      "2259/2259 [==============================] - 73s 32ms/step - loss: 0.8447 - accuracy: 0.6960 - val_loss: 1.1153 - val_accuracy: 0.5998\n",
      "Epoch 13/200\n",
      "2259/2259 [==============================] - ETA: 0s - loss: 0.8107 - accuracy: 0.7063\n",
      "Epoch 00013: val_loss improved from 0.95922 to 0.85241, saving model to /home/ys587/__Data/__whistle/__whislte_30_species/__fit_result_species/20210217_162040/STAR2003/epoch_13_valloss_0.8524_valacc_0.6850.hdf5\n",
      "2259/2259 [==============================] - 73s 32ms/step - loss: 0.8107 - accuracy: 0.7063 - val_loss: 0.8524 - val_accuracy: 0.6850\n",
      "Epoch 14/200\n",
      "2258/2259 [============================>.] - ETA: 0s - loss: 0.7818 - accuracy: 0.7150\n",
      "Epoch 00014: val_loss improved from 0.85241 to 0.81438, saving model to /home/ys587/__Data/__whistle/__whislte_30_species/__fit_result_species/20210217_162040/STAR2003/epoch_14_valloss_0.8144_valacc_0.7082.hdf5\n",
      "2259/2259 [==============================] - 73s 32ms/step - loss: 0.7818 - accuracy: 0.7150 - val_loss: 0.8144 - val_accuracy: 0.7082\n",
      "Epoch 15/200\n",
      "2259/2259 [==============================] - ETA: 0s - loss: 0.7455 - accuracy: 0.7258\n",
      "Epoch 00015: val_loss did not improve from 0.81438\n",
      "2259/2259 [==============================] - 73s 32ms/step - loss: 0.7455 - accuracy: 0.7258 - val_loss: 0.8307 - val_accuracy: 0.7024\n",
      "Epoch 16/200\n",
      "2259/2259 [==============================] - ETA: 0s - loss: 0.7160 - accuracy: 0.7364\n",
      "Epoch 00016: val_loss did not improve from 0.81438\n",
      "2259/2259 [==============================] - 73s 32ms/step - loss: 0.7160 - accuracy: 0.7364 - val_loss: 0.8852 - val_accuracy: 0.6767\n",
      "Epoch 17/200\n",
      "2259/2259 [==============================] - ETA: 0s - loss: 0.6889 - accuracy: 0.7448\n",
      "Epoch 00017: val_loss improved from 0.81438 to 0.76134, saving model to /home/ys587/__Data/__whistle/__whislte_30_species/__fit_result_species/20210217_162040/STAR2003/epoch_17_valloss_0.7613_valacc_0.7188.hdf5\n",
      "2259/2259 [==============================] - 73s 32ms/step - loss: 0.6889 - accuracy: 0.7448 - val_loss: 0.7613 - val_accuracy: 0.7188\n",
      "Epoch 18/200\n",
      "2259/2259 [==============================] - ETA: 0s - loss: 0.6648 - accuracy: 0.7526\n",
      "Epoch 00018: val_loss did not improve from 0.76134\n",
      "2259/2259 [==============================] - 73s 32ms/step - loss: 0.6648 - accuracy: 0.7526 - val_loss: 0.8195 - val_accuracy: 0.7074\n",
      "Epoch 19/200\n",
      "2259/2259 [==============================] - ETA: 0s - loss: 0.6390 - accuracy: 0.7603\n",
      "Epoch 00019: val_loss improved from 0.76134 to 0.74931, saving model to /home/ys587/__Data/__whistle/__whislte_30_species/__fit_result_species/20210217_162040/STAR2003/epoch_19_valloss_0.7493_valacc_0.7247.hdf5\n",
      "2259/2259 [==============================] - 73s 32ms/step - loss: 0.6390 - accuracy: 0.7603 - val_loss: 0.7493 - val_accuracy: 0.7247\n",
      "Epoch 20/200\n",
      "2259/2259 [==============================] - ETA: 0s - loss: 0.6133 - accuracy: 0.7690\n",
      "Epoch 00020: val_loss did not improve from 0.74931\n",
      "2259/2259 [==============================] - 73s 32ms/step - loss: 0.6133 - accuracy: 0.7690 - val_loss: 0.7780 - val_accuracy: 0.7195\n",
      "Epoch 21/200\n",
      "2259/2259 [==============================] - ETA: 0s - loss: 0.5880 - accuracy: 0.7773\n",
      "Epoch 00021: val_loss did not improve from 0.74931\n",
      "2259/2259 [==============================] - 73s 32ms/step - loss: 0.5880 - accuracy: 0.7773 - val_loss: 0.8030 - val_accuracy: 0.7046\n",
      "Epoch 22/200\n",
      "2259/2259 [==============================] - ETA: 0s - loss: 0.5686 - accuracy: 0.7840\n",
      "Epoch 00022: val_loss improved from 0.74931 to 0.73848, saving model to /home/ys587/__Data/__whistle/__whislte_30_species/__fit_result_species/20210217_162040/STAR2003/epoch_22_valloss_0.7385_valacc_0.7268.hdf5\n",
      "2259/2259 [==============================] - 73s 32ms/step - loss: 0.5686 - accuracy: 0.7840 - val_loss: 0.7385 - val_accuracy: 0.7268\n",
      "Epoch 23/200\n",
      "2259/2259 [==============================] - ETA: 0s - loss: 0.5466 - accuracy: 0.7912\n",
      "Epoch 00023: val_loss did not improve from 0.73848\n",
      "2259/2259 [==============================] - 72s 32ms/step - loss: 0.5466 - accuracy: 0.7912 - val_loss: 0.8086 - val_accuracy: 0.7088\n",
      "Epoch 24/200\n",
      "2259/2259 [==============================] - ETA: 0s - loss: 0.5269 - accuracy: 0.7970\n",
      "Epoch 00024: val_loss did not improve from 0.73848\n",
      "2259/2259 [==============================] - 73s 32ms/step - loss: 0.5269 - accuracy: 0.7970 - val_loss: 0.8088 - val_accuracy: 0.7180\n",
      "Epoch 25/200\n",
      "2259/2259 [==============================] - ETA: 0s - loss: 0.5049 - accuracy: 0.8076\n",
      "Epoch 00025: val_loss improved from 0.73848 to 0.72640, saving model to /home/ys587/__Data/__whistle/__whislte_30_species/__fit_result_species/20210217_162040/STAR2003/epoch_25_valloss_0.7264_valacc_0.7450.hdf5\n",
      "2259/2259 [==============================] - 73s 32ms/step - loss: 0.5049 - accuracy: 0.8076 - val_loss: 0.7264 - val_accuracy: 0.7450\n",
      "Epoch 26/200\n",
      "2259/2259 [==============================] - ETA: 0s - loss: 0.4837 - accuracy: 0.8117\n",
      "Epoch 00026: val_loss did not improve from 0.72640\n",
      "2259/2259 [==============================] - 73s 32ms/step - loss: 0.4837 - accuracy: 0.8117 - val_loss: 0.8909 - val_accuracy: 0.6917\n",
      "Epoch 27/200\n",
      "2258/2259 [============================>.] - ETA: 0s - loss: 0.4673 - accuracy: 0.8179\n",
      "Epoch 00027: val_loss improved from 0.72640 to 0.71536, saving model to /home/ys587/__Data/__whistle/__whislte_30_species/__fit_result_species/20210217_162040/STAR2003/epoch_27_valloss_0.7154_valacc_0.7562.hdf5\n",
      "2259/2259 [==============================] - 73s 32ms/step - loss: 0.4673 - accuracy: 0.8180 - val_loss: 0.7154 - val_accuracy: 0.7562\n",
      "Epoch 28/200\n",
      "2259/2259 [==============================] - ETA: 0s - loss: 0.4520 - accuracy: 0.8226\n",
      "Epoch 00028: val_loss improved from 0.71536 to 0.70362, saving model to /home/ys587/__Data/__whistle/__whislte_30_species/__fit_result_species/20210217_162040/STAR2003/epoch_28_valloss_0.7036_valacc_0.7521.hdf5\n",
      "2259/2259 [==============================] - 73s 32ms/step - loss: 0.4520 - accuracy: 0.8226 - val_loss: 0.7036 - val_accuracy: 0.7521\n",
      "Epoch 29/200\n",
      "2259/2259 [==============================] - ETA: 0s - loss: 0.4311 - accuracy: 0.8313\n",
      "Epoch 00029: val_loss did not improve from 0.70362\n",
      "2259/2259 [==============================] - 73s 32ms/step - loss: 0.4311 - accuracy: 0.8313 - val_loss: 0.7188 - val_accuracy: 0.7598\n",
      "Epoch 30/200\n",
      "2259/2259 [==============================] - ETA: 0s - loss: 0.4147 - accuracy: 0.8357\n",
      "Epoch 00030: val_loss did not improve from 0.70362\n",
      "2259/2259 [==============================] - 73s 32ms/step - loss: 0.4147 - accuracy: 0.8357 - val_loss: 0.7160 - val_accuracy: 0.7608\n",
      "Epoch 31/200\n",
      "2259/2259 [==============================] - ETA: 0s - loss: 0.3999 - accuracy: 0.8413\n",
      "Epoch 00031: val_loss did not improve from 0.70362\n",
      "2259/2259 [==============================] - 73s 32ms/step - loss: 0.3999 - accuracy: 0.8413 - val_loss: 0.7513 - val_accuracy: 0.7496\n",
      "Epoch 32/200\n",
      "2259/2259 [==============================] - ETA: 0s - loss: 0.3845 - accuracy: 0.8475\n",
      "Epoch 00032: val_loss did not improve from 0.70362\n",
      "2259/2259 [==============================] - 73s 32ms/step - loss: 0.3845 - accuracy: 0.8475 - val_loss: 0.7591 - val_accuracy: 0.7519\n",
      "Epoch 33/200\n",
      "2258/2259 [============================>.] - ETA: 0s - loss: 0.3739 - accuracy: 0.8514\n",
      "Epoch 00033: val_loss did not improve from 0.70362\n",
      "2259/2259 [==============================] - 73s 32ms/step - loss: 0.3739 - accuracy: 0.8514 - val_loss: 0.7448 - val_accuracy: 0.7706\n",
      "Epoch 34/200\n",
      "2259/2259 [==============================] - ETA: 0s - loss: 0.3579 - accuracy: 0.8572\n",
      "Epoch 00034: val_loss improved from 0.70362 to 0.70026, saving model to /home/ys587/__Data/__whistle/__whislte_30_species/__fit_result_species/20210217_162040/STAR2003/epoch_34_valloss_0.7003_valacc_0.7723.hdf5\n",
      "2259/2259 [==============================] - 73s 32ms/step - loss: 0.3579 - accuracy: 0.8572 - val_loss: 0.7003 - val_accuracy: 0.7723\n",
      "Epoch 35/200\n",
      "2259/2259 [==============================] - ETA: 0s - loss: 0.3430 - accuracy: 0.8639\n",
      "Epoch 00035: val_loss did not improve from 0.70026\n",
      "2259/2259 [==============================] - 73s 32ms/step - loss: 0.3430 - accuracy: 0.8639 - val_loss: 0.7263 - val_accuracy: 0.7646\n",
      "Epoch 36/200\n",
      "2259/2259 [==============================] - ETA: 0s - loss: 0.3314 - accuracy: 0.8688\n",
      "Epoch 00036: val_loss did not improve from 0.70026\n",
      "2259/2259 [==============================] - 73s 32ms/step - loss: 0.3314 - accuracy: 0.8688 - val_loss: 0.7966 - val_accuracy: 0.7572\n",
      "Epoch 37/200\n",
      "2259/2259 [==============================] - ETA: 0s - loss: 0.3151 - accuracy: 0.8724\n",
      "Epoch 00037: val_loss did not improve from 0.70026\n",
      "2259/2259 [==============================] - 73s 32ms/step - loss: 0.3151 - accuracy: 0.8724 - val_loss: 0.7345 - val_accuracy: 0.7685\n",
      "Epoch 38/200\n",
      "2258/2259 [============================>.] - ETA: 0s - loss: 0.3020 - accuracy: 0.8791\n",
      "Epoch 00038: val_loss did not improve from 0.70026\n",
      "2259/2259 [==============================] - 73s 32ms/step - loss: 0.3020 - accuracy: 0.8792 - val_loss: 0.7334 - val_accuracy: 0.7731\n",
      "Epoch 39/200\n",
      "2259/2259 [==============================] - ETA: 0s - loss: 0.2931 - accuracy: 0.8808\n",
      "Epoch 00039: val_loss did not improve from 0.70026\n",
      "2259/2259 [==============================] - 73s 32ms/step - loss: 0.2931 - accuracy: 0.8808 - val_loss: 0.7371 - val_accuracy: 0.7682\n",
      "Epoch 40/200\n",
      "2259/2259 [==============================] - ETA: 0s - loss: 0.2817 - accuracy: 0.8869\n",
      "Epoch 00040: val_loss did not improve from 0.70026\n",
      "2259/2259 [==============================] - 73s 32ms/step - loss: 0.2817 - accuracy: 0.8869 - val_loss: 0.7347 - val_accuracy: 0.7744\n",
      "Epoch 41/200\n",
      "2259/2259 [==============================] - ETA: 0s - loss: 0.2714 - accuracy: 0.8901\n",
      "Epoch 00041: val_loss did not improve from 0.70026\n",
      "2259/2259 [==============================] - 73s 32ms/step - loss: 0.2714 - accuracy: 0.8901 - val_loss: 0.7543 - val_accuracy: 0.7731\n",
      "Epoch 42/200\n",
      "2259/2259 [==============================] - ETA: 0s - loss: 0.2682 - accuracy: 0.8928\n",
      "Epoch 00042: val_loss did not improve from 0.70026\n",
      "2259/2259 [==============================] - 73s 32ms/step - loss: 0.2682 - accuracy: 0.8928 - val_loss: 0.8471 - val_accuracy: 0.7583\n",
      "Epoch 43/200\n",
      "2259/2259 [==============================] - ETA: 0s - loss: 0.2520 - accuracy: 0.8981\n",
      "Epoch 00043: val_loss did not improve from 0.70026\n",
      "2259/2259 [==============================] - 73s 32ms/step - loss: 0.2520 - accuracy: 0.8981 - val_loss: 0.8060 - val_accuracy: 0.7645\n",
      "Epoch 44/200\n",
      "2259/2259 [==============================] - ETA: 0s - loss: 0.2428 - accuracy: 0.9029\n",
      "Epoch 00044: val_loss did not improve from 0.70026\n",
      "2259/2259 [==============================] - 73s 32ms/step - loss: 0.2428 - accuracy: 0.9029 - val_loss: 0.8165 - val_accuracy: 0.7622\n",
      "Epoch 45/200\n",
      "2259/2259 [==============================] - ETA: 0s - loss: 0.2383 - accuracy: 0.9036\n",
      "Epoch 00045: val_loss did not improve from 0.70026\n",
      "2259/2259 [==============================] - 73s 32ms/step - loss: 0.2383 - accuracy: 0.9036 - val_loss: 0.7291 - val_accuracy: 0.7813\n",
      "Epoch 46/200\n",
      "2259/2259 [==============================] - ETA: 0s - loss: 0.2275 - accuracy: 0.9079\n",
      "Epoch 00046: val_loss did not improve from 0.70026\n",
      "2259/2259 [==============================] - 73s 32ms/step - loss: 0.2275 - accuracy: 0.9079 - val_loss: 0.7494 - val_accuracy: 0.7864\n",
      "Epoch 47/200\n",
      "2259/2259 [==============================] - ETA: 0s - loss: 0.2143 - accuracy: 0.9127\n",
      "Epoch 00047: val_loss did not improve from 0.70026\n",
      "2259/2259 [==============================] - 73s 32ms/step - loss: 0.2143 - accuracy: 0.9127 - val_loss: 0.7901 - val_accuracy: 0.7767\n",
      "Epoch 48/200\n",
      "2259/2259 [==============================] - ETA: 0s - loss: 0.2118 - accuracy: 0.9140\n",
      "Epoch 00048: val_loss did not improve from 0.70026\n",
      "2259/2259 [==============================] - 73s 32ms/step - loss: 0.2118 - accuracy: 0.9140 - val_loss: 0.8014 - val_accuracy: 0.7820\n",
      "Epoch 49/200\n",
      "2259/2259 [==============================] - ETA: 0s - loss: 0.2009 - accuracy: 0.9185\n",
      "Epoch 00049: val_loss did not improve from 0.70026\n",
      "2259/2259 [==============================] - 73s 32ms/step - loss: 0.2009 - accuracy: 0.9185 - val_loss: 0.8128 - val_accuracy: 0.7747\n",
      "Epoch 50/200\n",
      "2259/2259 [==============================] - ETA: 0s - loss: 0.1982 - accuracy: 0.9211\n",
      "Epoch 00050: val_loss did not improve from 0.70026\n",
      "2259/2259 [==============================] - 73s 32ms/step - loss: 0.1982 - accuracy: 0.9211 - val_loss: 0.7908 - val_accuracy: 0.7859\n",
      "Epoch 51/200\n",
      "2259/2259 [==============================] - ETA: 0s - loss: 0.1948 - accuracy: 0.9225\n",
      "Epoch 00051: val_loss did not improve from 0.70026\n",
      "2259/2259 [==============================] - 73s 32ms/step - loss: 0.1948 - accuracy: 0.9225 - val_loss: 0.8064 - val_accuracy: 0.7830\n",
      "Epoch 52/200\n",
      "2259/2259 [==============================] - ETA: 0s - loss: 0.1827 - accuracy: 0.9265\n",
      "Epoch 00052: val_loss did not improve from 0.70026\n",
      "2259/2259 [==============================] - 73s 32ms/step - loss: 0.1827 - accuracy: 0.9265 - val_loss: 0.7628 - val_accuracy: 0.7908\n",
      "Epoch 53/200\n",
      "2259/2259 [==============================] - ETA: 0s - loss: 0.1787 - accuracy: 0.9281\n",
      "Epoch 00053: val_loss did not improve from 0.70026\n",
      "2259/2259 [==============================] - 73s 32ms/step - loss: 0.1787 - accuracy: 0.9281 - val_loss: 0.8189 - val_accuracy: 0.7925\n",
      "Epoch 54/200\n",
      "2259/2259 [==============================] - ETA: 0s - loss: 0.1714 - accuracy: 0.9318\n",
      "Epoch 00054: val_loss did not improve from 0.70026\n",
      "2259/2259 [==============================] - 73s 32ms/step - loss: 0.1714 - accuracy: 0.9318 - val_loss: 0.8780 - val_accuracy: 0.7757\n",
      "Epoch 00054: early stopping\n"
     ]
    }
   ],
   "source": [
    "model = model_cnn14_attention_multi(dim_time, dim_freq, num_species, model_type='feature_level_attention', conv_dim=conv_dim, pool_size=pool_size, pool_stride=pool_stride, hidden_units=hidden_units, l2_regu=l2_regu, drop_rate=drop_rate)\n",
    "loss = CategoricalCrossentropy()\n",
    "model.compile(optimizer=tf.keras.optimizers.Adam(learning_rate=learning_rate_fn), loss=loss, metrics=['accuracy'])\n",
    "\n",
    "# With classes\n",
    "# history = model.fit(fea_train, to_categorical(label_train), class_weight=class_weights, validation_split=0.3, batch_size=batch_size, epochs=num_epoch, callbacks=[EarlyStopping(patience=num_patience), ModelCheckpoint(filepath=os.path.join(fit_result_path, '{epoch:02d}-{val_loss:.4f}.hdf5'), verbose=1, monitor=\"val_loss\", save_best_only=True)])\n",
    "# history = model.fit(train_generator, validation_data=validate_generator, class_weight=class_weights, epochs=num_epoch, callbacks=[EarlyStopping(patience=num_patience, monitor='val_loss', mode='min', verbose=1), TensorBoard(log_dir=fit_result_path1), ModelCheckpoint(filepath=os.path.join(fit_result_path1, '{epoch:02d}-{val_loss:.4f}.hdf5'), verbose=1, monitor=\"val_loss\", save_best_only=True)])\n",
    "history = model.fit(train_generator, validation_data=validate_generator, class_weight=class_weights, epochs=num_epoch, callbacks=[EarlyStopping(patience=num_patience, monitor='val_loss', mode='min', verbose=1), TensorBoard(log_dir=fit_result_path2), ModelCheckpoint(filepath=os.path.join(fit_result_path2, 'epoch_{epoch:02d}_valloss_{val_loss:.4f}_valacc_{val_accuracy:.4f}.hdf5' ), verbose=1, monitor=\"val_loss\", save_best_only=True)])"
   ]
  },
  {
   "cell_type": "code",
   "execution_count": 56,
   "metadata": {},
   "outputs": [
    {
     "name": "stdout",
     "output_type": "stream",
     "text": [
      "Best model:0.7003\n",
      "/home/ys587/__Data/__whistle/__whislte_30_species/__fit_result_species/20210217_162040/STAR2003/epoch_34_valloss_0.7003_valacc_0.7723.hdf5\n"
     ]
    }
   ],
   "source": [
    "# fit_result_path1 = '/home/ys587/__Data/__whistle/__whislte_30_species/__fit_result_species/20210210_224527'\n",
    "the_best_model, _ = find_best_model(fit_result_path2, purge=False)"
   ]
  },
  {
   "cell_type": "code",
   "execution_count": 57,
   "metadata": {
    "scrolled": true
   },
   "outputs": [
    {
     "name": "stdout",
     "output_type": "stream",
     "text": [
      "Model: \"model_1\"\n",
      "__________________________________________________________________________________________________\n",
      "Layer (type)                    Output Shape         Param #     Connected to                     \n",
      "==================================================================================================\n",
      "input (InputLayer)              [(None, 100, 128, 1) 0                                            \n",
      "__________________________________________________________________________________________________\n",
      "conv2d_12 (Conv2D)              (None, 100, 128, 16) 160         input[0][0]                      \n",
      "__________________________________________________________________________________________________\n",
      "batch_normalization_16 (BatchNo (None, 100, 128, 16) 64          conv2d_12[0][0]                  \n",
      "__________________________________________________________________________________________________\n",
      "activation_16 (Activation)      (None, 100, 128, 16) 0           batch_normalization_16[0][0]     \n",
      "__________________________________________________________________________________________________\n",
      "conv2d_13 (Conv2D)              (None, 100, 128, 16) 2320        activation_16[0][0]              \n",
      "__________________________________________________________________________________________________\n",
      "batch_normalization_17 (BatchNo (None, 100, 128, 16) 64          conv2d_13[0][0]                  \n",
      "__________________________________________________________________________________________________\n",
      "activation_17 (Activation)      (None, 100, 128, 16) 0           batch_normalization_17[0][0]     \n",
      "__________________________________________________________________________________________________\n",
      "max_pooling2d_6 (MaxPooling2D)  (None, 50, 64, 16)   0           activation_17[0][0]              \n",
      "__________________________________________________________________________________________________\n",
      "dropout_10 (Dropout)            (None, 50, 64, 16)   0           max_pooling2d_6[0][0]            \n",
      "__________________________________________________________________________________________________\n",
      "conv2d_14 (Conv2D)              (None, 50, 64, 32)   4640        dropout_10[0][0]                 \n",
      "__________________________________________________________________________________________________\n",
      "batch_normalization_18 (BatchNo (None, 50, 64, 32)   128         conv2d_14[0][0]                  \n",
      "__________________________________________________________________________________________________\n",
      "activation_18 (Activation)      (None, 50, 64, 32)   0           batch_normalization_18[0][0]     \n",
      "__________________________________________________________________________________________________\n",
      "conv2d_15 (Conv2D)              (None, 50, 64, 32)   9248        activation_18[0][0]              \n",
      "__________________________________________________________________________________________________\n",
      "batch_normalization_19 (BatchNo (None, 50, 64, 32)   128         conv2d_15[0][0]                  \n",
      "__________________________________________________________________________________________________\n",
      "activation_19 (Activation)      (None, 50, 64, 32)   0           batch_normalization_19[0][0]     \n",
      "__________________________________________________________________________________________________\n",
      "max_pooling2d_7 (MaxPooling2D)  (None, 25, 32, 32)   0           activation_19[0][0]              \n",
      "__________________________________________________________________________________________________\n",
      "dropout_11 (Dropout)            (None, 25, 32, 32)   0           max_pooling2d_7[0][0]            \n",
      "__________________________________________________________________________________________________\n",
      "conv2d_16 (Conv2D)              (None, 25, 32, 64)   18496       dropout_11[0][0]                 \n",
      "__________________________________________________________________________________________________\n",
      "batch_normalization_20 (BatchNo (None, 25, 32, 64)   256         conv2d_16[0][0]                  \n",
      "__________________________________________________________________________________________________\n",
      "activation_20 (Activation)      (None, 25, 32, 64)   0           batch_normalization_20[0][0]     \n",
      "__________________________________________________________________________________________________\n",
      "conv2d_17 (Conv2D)              (None, 25, 32, 64)   36928       activation_20[0][0]              \n",
      "__________________________________________________________________________________________________\n",
      "batch_normalization_21 (BatchNo (None, 25, 32, 64)   256         conv2d_17[0][0]                  \n",
      "__________________________________________________________________________________________________\n",
      "activation_21 (Activation)      (None, 25, 32, 64)   0           batch_normalization_21[0][0]     \n",
      "__________________________________________________________________________________________________\n",
      "max_pooling2d_8 (MaxPooling2D)  (None, 13, 16, 64)   0           activation_21[0][0]              \n",
      "__________________________________________________________________________________________________\n",
      "dropout_12 (Dropout)            (None, 13, 16, 64)   0           max_pooling2d_8[0][0]            \n",
      "__________________________________________________________________________________________________\n",
      "conv2d_18 (Conv2D)              (None, 13, 16, 128)  73856       dropout_12[0][0]                 \n",
      "__________________________________________________________________________________________________\n",
      "batch_normalization_22 (BatchNo (None, 13, 16, 128)  512         conv2d_18[0][0]                  \n",
      "__________________________________________________________________________________________________\n",
      "activation_22 (Activation)      (None, 13, 16, 128)  0           batch_normalization_22[0][0]     \n",
      "__________________________________________________________________________________________________\n",
      "conv2d_19 (Conv2D)              (None, 13, 16, 128)  147584      activation_22[0][0]              \n",
      "__________________________________________________________________________________________________\n",
      "batch_normalization_23 (BatchNo (None, 13, 16, 128)  512         conv2d_19[0][0]                  \n",
      "__________________________________________________________________________________________________\n",
      "activation_23 (Activation)      (None, 13, 16, 128)  0           batch_normalization_23[0][0]     \n",
      "__________________________________________________________________________________________________\n",
      "max_pooling2d_9 (MaxPooling2D)  (None, 7, 8, 128)    0           activation_23[0][0]              \n",
      "__________________________________________________________________________________________________\n",
      "dropout_13 (Dropout)            (None, 7, 8, 128)    0           max_pooling2d_9[0][0]            \n",
      "__________________________________________________________________________________________________\n",
      "conv2d_20 (Conv2D)              (None, 7, 8, 256)    295168      dropout_13[0][0]                 \n",
      "__________________________________________________________________________________________________\n",
      "batch_normalization_24 (BatchNo (None, 7, 8, 256)    1024        conv2d_20[0][0]                  \n",
      "__________________________________________________________________________________________________\n",
      "activation_24 (Activation)      (None, 7, 8, 256)    0           batch_normalization_24[0][0]     \n",
      "__________________________________________________________________________________________________\n",
      "conv2d_21 (Conv2D)              (None, 7, 8, 256)    590080      activation_24[0][0]              \n",
      "__________________________________________________________________________________________________\n",
      "batch_normalization_25 (BatchNo (None, 7, 8, 256)    1024        conv2d_21[0][0]                  \n",
      "__________________________________________________________________________________________________\n",
      "activation_25 (Activation)      (None, 7, 8, 256)    0           batch_normalization_25[0][0]     \n",
      "__________________________________________________________________________________________________\n",
      "max_pooling2d_10 (MaxPooling2D) (None, 7, 4, 256)    0           activation_25[0][0]              \n",
      "__________________________________________________________________________________________________\n",
      "dropout_14 (Dropout)            (None, 7, 4, 256)    0           max_pooling2d_10[0][0]           \n",
      "__________________________________________________________________________________________________\n",
      "conv2d_22 (Conv2D)              (None, 7, 4, 512)    1180160     dropout_14[0][0]                 \n",
      "__________________________________________________________________________________________________\n",
      "batch_normalization_26 (BatchNo (None, 7, 4, 512)    2048        conv2d_22[0][0]                  \n",
      "__________________________________________________________________________________________________\n",
      "activation_26 (Activation)      (None, 7, 4, 512)    0           batch_normalization_26[0][0]     \n",
      "__________________________________________________________________________________________________\n",
      "conv2d_23 (Conv2D)              (None, 7, 4, 512)    2359808     activation_26[0][0]              \n",
      "__________________________________________________________________________________________________\n",
      "batch_normalization_27 (BatchNo (None, 7, 4, 512)    2048        conv2d_23[0][0]                  \n",
      "__________________________________________________________________________________________________\n",
      "activation_27 (Activation)      (None, 7, 4, 512)    0           batch_normalization_27[0][0]     \n",
      "__________________________________________________________________________________________________\n",
      "max_pooling2d_11 (MaxPooling2D) (None, 7, 2, 512)    0           activation_27[0][0]              \n",
      "__________________________________________________________________________________________________\n",
      "dropout_15 (Dropout)            (None, 7, 2, 512)    0           max_pooling2d_11[0][0]           \n",
      "__________________________________________________________________________________________________\n",
      "reshape_1 (Reshape)             (None, 7, 1024)      0           dropout_15[0][0]                 \n",
      "__________________________________________________________________________________________________\n",
      "dense_6 (Dense)                 (None, 7, 512)       524800      reshape_1[0][0]                  \n",
      "__________________________________________________________________________________________________\n",
      "batch_normalization_28 (BatchNo (None, 7, 512)       2048        dense_6[0][0]                    \n",
      "__________________________________________________________________________________________________\n",
      "activation_28 (Activation)      (None, 7, 512)       0           batch_normalization_28[0][0]     \n",
      "__________________________________________________________________________________________________\n",
      "dropout_16 (Dropout)            (None, 7, 512)       0           activation_28[0][0]              \n",
      "__________________________________________________________________________________________________\n",
      "dense_7 (Dense)                 (None, 7, 512)       262656      dropout_16[0][0]                 \n",
      "__________________________________________________________________________________________________\n",
      "batch_normalization_29 (BatchNo (None, 7, 512)       2048        dense_7[0][0]                    \n",
      "__________________________________________________________________________________________________\n",
      "activation_29 (Activation)      (None, 7, 512)       0           batch_normalization_29[0][0]     \n",
      "__________________________________________________________________________________________________\n",
      "dropout_17 (Dropout)            (None, 7, 512)       0           activation_29[0][0]              \n",
      "__________________________________________________________________________________________________\n",
      "dense_8 (Dense)                 (None, 7, 512)       262656      dropout_17[0][0]                 \n",
      "__________________________________________________________________________________________________\n",
      "batch_normalization_30 (BatchNo (None, 7, 512)       2048        dense_8[0][0]                    \n",
      "__________________________________________________________________________________________________\n",
      "activation_30 (Activation)      (None, 7, 512)       0           batch_normalization_30[0][0]     \n",
      "__________________________________________________________________________________________________\n",
      "dropout_18 (Dropout)            (None, 7, 512)       0           activation_30[0][0]              \n",
      "__________________________________________________________________________________________________\n",
      "dense_9 (Dense)                 (None, 7, 512)       262656      dropout_18[0][0]                 \n",
      "__________________________________________________________________________________________________\n",
      "dense_10 (Dense)                (None, 7, 512)       262656      dropout_18[0][0]                 \n",
      "__________________________________________________________________________________________________\n",
      "lambda_1 (Lambda)               (None, 512)          0           dense_9[0][0]                    \n",
      "                                                                 dense_10[0][0]                   \n",
      "__________________________________________________________________________________________________\n",
      "batch_normalization_31 (BatchNo (None, 512)          2048        lambda_1[0][0]                   \n",
      "__________________________________________________________________________________________________\n",
      "activation_31 (Activation)      (None, 512)          0           batch_normalization_31[0][0]     \n",
      "__________________________________________________________________________________________________\n",
      "dropout_19 (Dropout)            (None, 512)          0           activation_31[0][0]              \n",
      "__________________________________________________________________________________________________\n",
      "dense_11 (Dense)                (None, 8)            4104        dropout_19[0][0]                 \n",
      "==================================================================================================\n",
      "Total params: 6,314,232\n",
      "Trainable params: 6,306,104\n",
      "Non-trainable params: 8,128\n",
      "__________________________________________________________________________________________________\n"
     ]
    }
   ],
   "source": [
    "model = load_model(the_best_model)\n",
    "model.summary()"
   ]
  },
  {
   "cell_type": "code",
   "execution_count": 58,
   "metadata": {},
   "outputs": [],
   "source": [
    "label_pred = model.predict(fea_test)\n",
    "# label_pred = model.predict(test_generator)"
   ]
  },
  {
   "cell_type": "code",
   "execution_count": 59,
   "metadata": {},
   "outputs": [],
   "source": [
    "np.set_printoptions(linewidth=200, precision=2, suppress=True)"
   ]
  },
  {
   "cell_type": "code",
   "execution_count": 60,
   "metadata": {},
   "outputs": [
    {
     "name": "stdout",
     "output_type": "stream",
     "text": [
      "Confusion matrix:\n",
      "['BD', 'CD', 'STR', 'SPT', 'SPIN', 'PLT', 'RT', 'FKW']\n",
      "\n",
      "[[ 12   1  73  78  24  27  15   1]\n",
      " [  8 248 224 123   1  98  42   8]\n",
      " [  0   1   5  16   0  15  17   0]\n",
      " [  0  37 126 151   2  86   8   2]\n",
      " [  0   3  18  24   3   1   2   0]\n",
      " [  0   0   0   0   0   0   0   0]\n",
      " [  0   0   0   0   0   0   0   0]\n",
      " [  1   0   0   0   1  48  81 139]]\n",
      "\n",
      "[[0.05 0.   0.32 0.34 0.1  0.12 0.06 0.  ]\n",
      " [0.01 0.33 0.3  0.16 0.   0.13 0.06 0.01]\n",
      " [0.   0.02 0.09 0.3  0.   0.28 0.31 0.  ]\n",
      " [0.   0.09 0.31 0.37 0.   0.21 0.02 0.  ]\n",
      " [0.   0.06 0.35 0.47 0.06 0.02 0.04 0.  ]\n",
      " [0.   0.   0.   0.   0.   0.   0.   0.  ]\n",
      " [0.   0.   0.   0.   0.   0.   0.   0.  ]\n",
      " [0.   0.   0.   0.   0.   0.18 0.3  0.51]]\n"
     ]
    }
   ],
   "source": [
    "print(\"Confusion matrix:\")\n",
    "cm = confusion_matrix(label_test, np.argmax(label_pred, axis=1), labels=species_id)\n",
    "\n",
    "print(species_list)\n",
    "print('')\n",
    "print(cm)\n",
    "print('')\n",
    "\n",
    "cm2 = cm*1.0\n",
    "for ii in range(cm.shape[0]):\n",
    "    cm_row = cm[ii, :]*1.0\n",
    "\n",
    "    cm_row_sum = cm_row.sum()\n",
    "    if cm_row_sum != 0:\n",
    "        cm2[ii, :] = cm_row / cm_row_sum\n",
    "    else:\n",
    "        cm2[ii, :] = np.zeros(cm.shape[1])\n",
    "\n",
    "print(cm2)"
   ]
  },
  {
   "cell_type": "code",
   "execution_count": 61,
   "metadata": {},
   "outputs": [],
   "source": [
    "from sklearn.metrics import plot_confusion_matrix\n",
    "from sklearn.metrics._plot.confusion_matrix import ConfusionMatrixDisplay\n",
    "disp = ConfusionMatrixDisplay(confusion_matrix=cm, display_labels=species_list)\n",
    "disp2 = ConfusionMatrixDisplay(confusion_matrix=cm2, display_labels=species_list)"
   ]
  },
  {
   "cell_type": "code",
   "execution_count": 62,
   "metadata": {},
   "outputs": [
    {
     "data": {
      "text/plain": [
       "<sklearn.metrics._plot.confusion_matrix.ConfusionMatrixDisplay at 0x7f52764ff4c0>"
      ]
     },
     "execution_count": 62,
     "metadata": {},
     "output_type": "execute_result"
    },
    {
     "data": {
      "image/png": "[encoded data removed]",
      "text/plain": [
       "<Figure size 1080x1080 with 2 Axes>"
      ]
     },
     "metadata": {
      "needs_background": "light"
     },
     "output_type": "display_data"
    }
   ],
   "source": [
    "fig, ax = plt.subplots(figsize=[15, 15])\n",
    "disp.plot(include_values=True,\n",
    "                     cmap='viridis', ax=ax, xticks_rotation='horizontal',\n",
    "                     values_format=None, colorbar=True)\n"
   ]
  },
  {
   "cell_type": "code",
   "execution_count": 63,
   "metadata": {},
   "outputs": [
    {
     "data": {
      "text/plain": [
       "<sklearn.metrics._plot.confusion_matrix.ConfusionMatrixDisplay at 0x7f52764ff460>"
      ]
     },
     "execution_count": 63,
     "metadata": {},
     "output_type": "execute_result"
    },
    {
     "data": {
      "image/png": "[encoded data removed]",
      "text/plain": [
       "<Figure size 1080x1080 with 2 Axes>"
      ]
     },
     "metadata": {
      "needs_background": "light"
     },
     "output_type": "display_data"
    }
   ],
   "source": [
    "fig, ax = plt.subplots(figsize=[15, 15])\n",
    "disp2.plot(include_values=True,\n",
    "                     cmap='viridis', ax=ax, xticks_rotation='horizontal',\n",
    "                     values_format='.2f', colorbar=True)"
   ]
  },
  {
   "cell_type": "markdown",
   "metadata": {},
   "source": [
    "## STAR2006"
   ]
  },
  {
   "cell_type": "code",
   "execution_count": 64,
   "metadata": {},
   "outputs": [
    {
     "name": "stdout",
     "output_type": "stream",
     "text": [
      "STAR2006\n"
     ]
    }
   ],
   "source": [
    "ee = deployment[2]\n",
    "print(ee)"
   ]
  },
  {
   "cell_type": "code",
   "execution_count": 65,
   "metadata": {},
   "outputs": [],
   "source": [
    "# Training data\n",
    "fea_temp = np.load(os.path.join(feature_path, 'train_oswald_no_'+ee+'.npz'))\n",
    "fea_train = fea_temp['fea_train']\n",
    "label_train_list = fea_temp['label_train']\n",
    "del fea_temp"
   ]
  },
  {
   "cell_type": "code",
   "execution_count": 66,
   "metadata": {},
   "outputs": [],
   "source": [
    "label_train = np.zeros(len(label_train_list))\n",
    "for ii in range(len(label_train_list)):\n",
    "    label_train[ii] = species_dict[label_train_list[ii]]"
   ]
  },
  {
   "cell_type": "code",
   "execution_count": 67,
   "metadata": {},
   "outputs": [],
   "source": [
    "# Testing data\n",
    "fea_temp = np.load(os.path.join(feature_path, 'oswald_'+ee+'_orig.npz'))\n",
    "fea_test = fea_temp['feas_orig']\n",
    "label_test_list = fea_temp['labels_orig']\n",
    "\n",
    "fea_test = fea_test[:,:100,:]\n",
    "label_test = np.zeros(len(label_test_list))\n",
    "for ii in range(len(label_test_list)):\n",
    "    label_test[ii] = species_dict[label_test_list[ii]]"
   ]
  },
  {
   "cell_type": "code",
   "execution_count": 68,
   "metadata": {},
   "outputs": [],
   "source": [
    "fea_train = fea_train[:,:100,:]"
   ]
  },
  {
   "cell_type": "code",
   "execution_count": 69,
   "metadata": {},
   "outputs": [],
   "source": [
    "label_train = np.zeros(len(label_train_list))\n",
    "for ii in range(len(label_train_list)):\n",
    "    label_train[ii] = species_dict[label_train_list[ii]]"
   ]
  },
  {
   "cell_type": "code",
   "execution_count": 70,
   "metadata": {
    "scrolled": true
   },
   "outputs": [
    {
     "data": {
      "text/plain": [
       "Counter({'BD': 11466,\n",
       "         'CD': 28296,\n",
       "         'PLT': 8250,\n",
       "         'RT': 7590,\n",
       "         'SPIN': 6198,\n",
       "         'SPT': 12744,\n",
       "         'STR': 10692,\n",
       "         'FKW': 13662})"
      ]
     },
     "execution_count": 70,
     "metadata": {},
     "output_type": "execute_result"
    }
   ],
   "source": [
    "Counter(label_train_list)"
   ]
  },
  {
   "cell_type": "code",
   "execution_count": 71,
   "metadata": {},
   "outputs": [
    {
     "data": {
      "text/plain": [
       "Counter({1.0: 24, 7.0: 903, 5.0: 632, 6.0: 46, 4.0: 2, 3.0: 147, 2.0: 750})"
      ]
     },
     "execution_count": 71,
     "metadata": {},
     "output_type": "execute_result"
    }
   ],
   "source": [
    "Counter(label_test.tolist())"
   ]
  },
  {
   "cell_type": "code",
   "execution_count": 72,
   "metadata": {},
   "outputs": [],
   "source": [
    "fit_result_path2 = os.path.join(fit_result_path1, ee)\n",
    "if not os.path.exists(fit_result_path2):\n",
    "    makedirs(fit_result_path2)"
   ]
  },
  {
   "cell_type": "code",
   "execution_count": 73,
   "metadata": {},
   "outputs": [
    {
     "name": "stdout",
     "output_type": "stream",
     "text": [
      "feature train shape: (98898, 100, 128)\n",
      "feature test shape: (2504, 100, 128)\n",
      "label train shape: (98898,)\n",
      "label test shape: (2504,)\n",
      "dim_time: 100\n",
      "dim_freq: 128\n"
     ]
    }
   ],
   "source": [
    "print('feature train shape: '+str(fea_train.shape))\n",
    "print('feature test shape: '+str(fea_test.shape))\n",
    "print('label train shape: '+str(label_train.shape))\n",
    "print('label test shape: '+str(label_test.shape))\n",
    "\n",
    "dim_time = fea_train.shape[1]\n",
    "dim_freq = fea_train.shape[2]\n",
    "print('dim_time: '+str(dim_time))\n",
    "print('dim_freq: '+str(dim_freq))"
   ]
  },
  {
   "cell_type": "code",
   "execution_count": 74,
   "metadata": {},
   "outputs": [],
   "source": [
    "# shuffle features & labels\n",
    "fea_train, label_train = shuffle(fea_train, label_train, random_state=0)\n",
    "fea_test, label_test = shuffle(fea_test, label_test, random_state=0)"
   ]
  },
  {
   "cell_type": "code",
   "execution_count": 75,
   "metadata": {},
   "outputs": [],
   "source": [
    "# class weight\n",
    "weights = compute_class_weight(class_weight='balanced', classes=np.unique(label_train), y=label_train)\n",
    "\n",
    "class_weights = dict()\n",
    "for ii in range(num_species):\n",
    "    class_weights[ii] = weights[ii]"
   ]
  },
  {
   "cell_type": "code",
   "execution_count": 76,
   "metadata": {},
   "outputs": [],
   "source": [
    "fea_train = np.expand_dims(fea_train, axis=3)\n",
    "fea_test = np.expand_dims(fea_test, axis=3)"
   ]
  },
  {
   "cell_type": "code",
   "execution_count": 77,
   "metadata": {},
   "outputs": [],
   "source": [
    "fea_train, fea_validate, label_train, label_validate = train_test_split(fea_train, label_train, test_size=0.30, random_state=42)\n",
    "\n",
    "train_generator = DataGenerator(fea_train, label_train, batch_size=batch_size, num_classes=num_species)\n",
    "del fea_train\n",
    "validate_generator = DataGenerator(fea_validate, label_validate, batch_size=batch_size, num_classes=num_species)\n",
    "del fea_validate\n",
    "\n",
    "# test_generator = DataGenerator(fea_test, label_test, batch_size=batch_size, num_classes=num_species)\n"
   ]
  },
  {
   "cell_type": "markdown",
   "metadata": {},
   "source": [
    "### Training the model"
   ]
  },
  {
   "cell_type": "code",
   "execution_count": 78,
   "metadata": {
    "scrolled": true
   },
   "outputs": [
    {
     "name": "stdout",
     "output_type": "stream",
     "text": [
      "Epoch 1/200\n",
      "   2/2163 [..............................] - ETA: 6:12 - loss: 2.4677 - accuracy: 0.1250WARNING:tensorflow:Method (on_train_batch_end) is slow compared to the batch update (0.159732). Check your callbacks.\n",
      "2163/2163 [==============================] - ETA: 0s - loss: 2.0882 - accuracy: 0.1233\n",
      "Epoch 00001: val_loss improved from inf to 2.12645, saving model to /home/ys587/__Data/__whistle/__whislte_30_species/__fit_result_species/20210217_162040/STAR2006/epoch_01_valloss_2.1264_valacc_0.0794.hdf5\n",
      "2163/2163 [==============================] - 71s 33ms/step - loss: 2.0882 - accuracy: 0.1233 - val_loss: 2.1264 - val_accuracy: 0.0794\n",
      "Epoch 2/200\n",
      "2163/2163 [==============================] - ETA: 0s - loss: 1.7219 - accuracy: 0.3265\n",
      "Epoch 00002: val_loss improved from 2.12645 to 1.77971, saving model to /home/ys587/__Data/__whistle/__whislte_30_species/__fit_result_species/20210217_162040/STAR2006/epoch_02_valloss_1.7797_valacc_0.3270.hdf5\n",
      "2163/2163 [==============================] - 70s 32ms/step - loss: 1.7219 - accuracy: 0.3265 - val_loss: 1.7797 - val_accuracy: 0.3270\n",
      "Epoch 3/200\n",
      "2163/2163 [==============================] - ETA: 0s - loss: 1.4380 - accuracy: 0.4639\n",
      "Epoch 00003: val_loss improved from 1.77971 to 1.51717, saving model to /home/ys587/__Data/__whistle/__whislte_30_species/__fit_result_species/20210217_162040/STAR2006/epoch_03_valloss_1.5172_valacc_0.4422.hdf5\n",
      "2163/2163 [==============================] - 70s 32ms/step - loss: 1.4380 - accuracy: 0.4639 - val_loss: 1.5172 - val_accuracy: 0.4422\n",
      "Epoch 4/200\n",
      "2163/2163 [==============================] - ETA: 0s - loss: 1.3154 - accuracy: 0.5057\n",
      "Epoch 00004: val_loss improved from 1.51717 to 1.36826, saving model to /home/ys587/__Data/__whistle/__whislte_30_species/__fit_result_species/20210217_162040/STAR2006/epoch_04_valloss_1.3683_valacc_0.4734.hdf5\n",
      "2163/2163 [==============================] - 70s 32ms/step - loss: 1.3154 - accuracy: 0.5057 - val_loss: 1.3683 - val_accuracy: 0.4734\n",
      "Epoch 5/200\n",
      "2163/2163 [==============================] - ETA: 0s - loss: 1.2340 - accuracy: 0.5373\n",
      "Epoch 00005: val_loss did not improve from 1.36826\n",
      "2163/2163 [==============================] - 70s 32ms/step - loss: 1.2340 - accuracy: 0.5373 - val_loss: 1.3739 - val_accuracy: 0.4941\n",
      "Epoch 6/200\n",
      "2163/2163 [==============================] - ETA: 0s - loss: 1.1682 - accuracy: 0.5624\n",
      "Epoch 00006: val_loss improved from 1.36826 to 1.26880, saving model to /home/ys587/__Data/__whistle/__whislte_30_species/__fit_result_species/20210217_162040/STAR2006/epoch_06_valloss_1.2688_valacc_0.5398.hdf5\n",
      "2163/2163 [==============================] - 70s 32ms/step - loss: 1.1682 - accuracy: 0.5624 - val_loss: 1.2688 - val_accuracy: 0.5398\n",
      "Epoch 7/200\n",
      "2163/2163 [==============================] - ETA: 0s - loss: 1.1157 - accuracy: 0.5818\n",
      "Epoch 00007: val_loss improved from 1.26880 to 1.12949, saving model to /home/ys587/__Data/__whistle/__whislte_30_species/__fit_result_species/20210217_162040/STAR2006/epoch_07_valloss_1.1295_valacc_0.5780.hdf5\n",
      "2163/2163 [==============================] - 70s 32ms/step - loss: 1.1157 - accuracy: 0.5818 - val_loss: 1.1295 - val_accuracy: 0.5780\n",
      "Epoch 8/200\n",
      "2163/2163 [==============================] - ETA: 0s - loss: 1.0683 - accuracy: 0.6001\n",
      "Epoch 00008: val_loss improved from 1.12949 to 1.08113, saving model to /home/ys587/__Data/__whistle/__whislte_30_species/__fit_result_species/20210217_162040/STAR2006/epoch_08_valloss_1.0811_valacc_0.5895.hdf5\n",
      "2163/2163 [==============================] - 70s 32ms/step - loss: 1.0683 - accuracy: 0.6001 - val_loss: 1.0811 - val_accuracy: 0.5895\n",
      "Epoch 9/200\n",
      "2163/2163 [==============================] - ETA: 0s - loss: 1.0256 - accuracy: 0.6141\n",
      "Epoch 00009: val_loss did not improve from 1.08113\n",
      "2163/2163 [==============================] - 70s 32ms/step - loss: 1.0256 - accuracy: 0.6141 - val_loss: 1.2914 - val_accuracy: 0.5645\n",
      "Epoch 10/200\n",
      "2162/2163 [============================>.] - ETA: 0s - loss: 0.9803 - accuracy: 0.6281\n",
      "Epoch 00010: val_loss did not improve from 1.08113\n",
      "2163/2163 [==============================] - 70s 32ms/step - loss: 0.9803 - accuracy: 0.6282 - val_loss: 1.2239 - val_accuracy: 0.5561\n",
      "Epoch 11/200\n",
      "2163/2163 [==============================] - ETA: 0s - loss: 0.9414 - accuracy: 0.6422\n",
      "Epoch 00011: val_loss improved from 1.08113 to 1.04649, saving model to /home/ys587/__Data/__whistle/__whislte_30_species/__fit_result_species/20210217_162040/STAR2006/epoch_11_valloss_1.0465_valacc_0.6103.hdf5\n",
      "2163/2163 [==============================] - 70s 32ms/step - loss: 0.9414 - accuracy: 0.6422 - val_loss: 1.0465 - val_accuracy: 0.6103\n",
      "Epoch 12/200\n",
      "2163/2163 [==============================] - ETA: 0s - loss: 0.9086 - accuracy: 0.6554\n",
      "Epoch 00012: val_loss improved from 1.04649 to 1.01313, saving model to /home/ys587/__Data/__whistle/__whislte_30_species/__fit_result_species/20210217_162040/STAR2006/epoch_12_valloss_1.0131_valacc_0.6186.hdf5\n",
      "2163/2163 [==============================] - 70s 32ms/step - loss: 0.9086 - accuracy: 0.6554 - val_loss: 1.0131 - val_accuracy: 0.6186\n",
      "Epoch 13/200\n",
      "2163/2163 [==============================] - ETA: 0s - loss: 0.8758 - accuracy: 0.6648\n",
      "Epoch 00013: val_loss improved from 1.01313 to 0.95118, saving model to /home/ys587/__Data/__whistle/__whislte_30_species/__fit_result_species/20210217_162040/STAR2006/epoch_13_valloss_0.9512_valacc_0.6545.hdf5\n",
      "2163/2163 [==============================] - 70s 32ms/step - loss: 0.8758 - accuracy: 0.6648 - val_loss: 0.9512 - val_accuracy: 0.6545\n",
      "Epoch 14/200\n",
      "2162/2163 [============================>.] - ETA: 0s - loss: 0.8406 - accuracy: 0.6743\n",
      "Epoch 00014: val_loss did not improve from 0.95118\n",
      "2163/2163 [==============================] - 70s 32ms/step - loss: 0.8405 - accuracy: 0.6744 - val_loss: 0.9546 - val_accuracy: 0.6409\n",
      "Epoch 15/200\n",
      "2163/2163 [==============================] - ETA: 0s - loss: 0.8142 - accuracy: 0.6846\n",
      "Epoch 00015: val_loss did not improve from 0.95118\n",
      "2163/2163 [==============================] - 70s 32ms/step - loss: 0.8142 - accuracy: 0.6846 - val_loss: 0.9618 - val_accuracy: 0.6274\n",
      "Epoch 16/200\n",
      "2162/2163 [============================>.] - ETA: 0s - loss: 0.7847 - accuracy: 0.6976\n",
      "Epoch 00016: val_loss improved from 0.95118 to 0.89084, saving model to /home/ys587/__Data/__whistle/__whislte_30_species/__fit_result_species/20210217_162040/STAR2006/epoch_16_valloss_0.8908_valacc_0.6718.hdf5\n",
      "2163/2163 [==============================] - 70s 32ms/step - loss: 0.7848 - accuracy: 0.6976 - val_loss: 0.8908 - val_accuracy: 0.6718\n",
      "Epoch 17/200\n",
      "2163/2163 [==============================] - ETA: 0s - loss: 0.7602 - accuracy: 0.7032\n",
      "Epoch 00017: val_loss did not improve from 0.89084\n",
      "2163/2163 [==============================] - 70s 32ms/step - loss: 0.7602 - accuracy: 0.7032 - val_loss: 0.9896 - val_accuracy: 0.6425\n",
      "Epoch 18/200\n",
      "2163/2163 [==============================] - ETA: 0s - loss: 0.7271 - accuracy: 0.7152\n",
      "Epoch 00018: val_loss improved from 0.89084 to 0.85432, saving model to /home/ys587/__Data/__whistle/__whislte_30_species/__fit_result_species/20210217_162040/STAR2006/epoch_18_valloss_0.8543_valacc_0.6720.hdf5\n",
      "2163/2163 [==============================] - 70s 32ms/step - loss: 0.7271 - accuracy: 0.7152 - val_loss: 0.8543 - val_accuracy: 0.6720\n",
      "Epoch 19/200\n",
      "2163/2163 [==============================] - ETA: 0s - loss: 0.7012 - accuracy: 0.7248\n",
      "Epoch 00019: val_loss did not improve from 0.85432\n",
      "2163/2163 [==============================] - 70s 32ms/step - loss: 0.7012 - accuracy: 0.7248 - val_loss: 1.0208 - val_accuracy: 0.6113\n",
      "Epoch 20/200\n",
      "2162/2163 [============================>.] - ETA: 0s - loss: 0.6793 - accuracy: 0.7308\n",
      "Epoch 00020: val_loss did not improve from 0.85432\n",
      "2163/2163 [==============================] - 70s 32ms/step - loss: 0.6793 - accuracy: 0.7308 - val_loss: 0.8646 - val_accuracy: 0.6838\n",
      "Epoch 21/200\n",
      "2163/2163 [==============================] - ETA: 0s - loss: 0.6511 - accuracy: 0.7407\n",
      "Epoch 00021: val_loss did not improve from 0.85432\n",
      "2163/2163 [==============================] - 70s 32ms/step - loss: 0.6511 - accuracy: 0.7407 - val_loss: 0.8762 - val_accuracy: 0.6709\n",
      "Epoch 22/200\n",
      "2162/2163 [============================>.] - ETA: 0s - loss: 0.6326 - accuracy: 0.7450\n",
      "Epoch 00022: val_loss did not improve from 0.85432\n",
      "2163/2163 [==============================] - 70s 32ms/step - loss: 0.6326 - accuracy: 0.7450 - val_loss: 0.9231 - val_accuracy: 0.6562\n",
      "Epoch 23/200\n",
      "2162/2163 [============================>.] - ETA: 0s - loss: 0.6067 - accuracy: 0.7556\n",
      "Epoch 00023: val_loss did not improve from 0.85432\n",
      "2163/2163 [==============================] - 70s 32ms/step - loss: 0.6066 - accuracy: 0.7556 - val_loss: 0.8912 - val_accuracy: 0.6730\n",
      "Epoch 24/200\n",
      "2163/2163 [==============================] - ETA: 0s - loss: 0.5803 - accuracy: 0.7641\n",
      "Epoch 00024: val_loss did not improve from 0.85432\n",
      "2163/2163 [==============================] - 70s 32ms/step - loss: 0.5803 - accuracy: 0.7641 - val_loss: 0.8546 - val_accuracy: 0.6848\n",
      "Epoch 25/200\n",
      "2162/2163 [============================>.] - ETA: 0s - loss: 0.5591 - accuracy: 0.7729\n",
      "Epoch 00025: val_loss improved from 0.85432 to 0.80296, saving model to /home/ys587/__Data/__whistle/__whislte_30_species/__fit_result_species/20210217_162040/STAR2006/epoch_25_valloss_0.8030_valacc_0.7077.hdf5\n",
      "2163/2163 [==============================] - 70s 32ms/step - loss: 0.5591 - accuracy: 0.7729 - val_loss: 0.8030 - val_accuracy: 0.7077\n",
      "Epoch 26/200\n",
      "2163/2163 [==============================] - ETA: 0s - loss: 0.5401 - accuracy: 0.7778\n",
      "Epoch 00026: val_loss did not improve from 0.80296\n",
      "2163/2163 [==============================] - 70s 32ms/step - loss: 0.5401 - accuracy: 0.7778 - val_loss: 0.8977 - val_accuracy: 0.6804\n",
      "Epoch 27/200\n",
      "2163/2163 [==============================] - ETA: 0s - loss: 0.5215 - accuracy: 0.7842\n",
      "Epoch 00027: val_loss did not improve from 0.80296\n",
      "2163/2163 [==============================] - 70s 32ms/step - loss: 0.5215 - accuracy: 0.7842 - val_loss: 0.8872 - val_accuracy: 0.6793\n",
      "Epoch 28/200\n",
      "2163/2163 [==============================] - ETA: 0s - loss: 0.4985 - accuracy: 0.7944\n",
      "Epoch 00028: val_loss did not improve from 0.80296\n",
      "2163/2163 [==============================] - 70s 32ms/step - loss: 0.4985 - accuracy: 0.7944 - val_loss: 0.8277 - val_accuracy: 0.7004\n",
      "Epoch 29/200\n",
      "2163/2163 [==============================] - ETA: 0s - loss: 0.4827 - accuracy: 0.7988\n",
      "Epoch 00029: val_loss improved from 0.80296 to 0.79113, saving model to /home/ys587/__Data/__whistle/__whislte_30_species/__fit_result_species/20210217_162040/STAR2006/epoch_29_valloss_0.7911_valacc_0.7266.hdf5\n",
      "2163/2163 [==============================] - 70s 32ms/step - loss: 0.4827 - accuracy: 0.7988 - val_loss: 0.7911 - val_accuracy: 0.7266\n",
      "Epoch 30/200\n",
      "2163/2163 [==============================] - ETA: 0s - loss: 0.4590 - accuracy: 0.8073\n",
      "Epoch 00030: val_loss did not improve from 0.79113\n",
      "2163/2163 [==============================] - 70s 32ms/step - loss: 0.4590 - accuracy: 0.8073 - val_loss: 0.8711 - val_accuracy: 0.7039\n",
      "Epoch 31/200\n",
      "2163/2163 [==============================] - ETA: 0s - loss: 0.4473 - accuracy: 0.8110\n",
      "Epoch 00031: val_loss improved from 0.79113 to 0.78241, saving model to /home/ys587/__Data/__whistle/__whislte_30_species/__fit_result_species/20210217_162040/STAR2006/epoch_31_valloss_0.7824_valacc_0.7223.hdf5\n",
      "2163/2163 [==============================] - 70s 32ms/step - loss: 0.4473 - accuracy: 0.8110 - val_loss: 0.7824 - val_accuracy: 0.7223\n",
      "Epoch 32/200\n",
      "2163/2163 [==============================] - ETA: 0s - loss: 0.4301 - accuracy: 0.8175\n",
      "Epoch 00032: val_loss did not improve from 0.78241\n",
      "2163/2163 [==============================] - 70s 32ms/step - loss: 0.4301 - accuracy: 0.8175 - val_loss: 0.8573 - val_accuracy: 0.7150\n",
      "Epoch 33/200\n",
      "2163/2163 [==============================] - ETA: 0s - loss: 0.4158 - accuracy: 0.8234\n",
      "Epoch 00033: val_loss did not improve from 0.78241\n",
      "2163/2163 [==============================] - 70s 32ms/step - loss: 0.4158 - accuracy: 0.8234 - val_loss: 0.7923 - val_accuracy: 0.7224\n",
      "Epoch 34/200\n",
      "2163/2163 [==============================] - ETA: 0s - loss: 0.3989 - accuracy: 0.8324\n",
      "Epoch 00034: val_loss did not improve from 0.78241\n",
      "2163/2163 [==============================] - 70s 32ms/step - loss: 0.3989 - accuracy: 0.8324 - val_loss: 0.8293 - val_accuracy: 0.7205\n",
      "Epoch 35/200\n",
      "2163/2163 [==============================] - ETA: 0s - loss: 0.3831 - accuracy: 0.8371\n",
      "Epoch 00035: val_loss did not improve from 0.78241\n",
      "2163/2163 [==============================] - 70s 32ms/step - loss: 0.3831 - accuracy: 0.8371 - val_loss: 0.7896 - val_accuracy: 0.7340\n",
      "Epoch 36/200\n",
      "2163/2163 [==============================] - ETA: 0s - loss: 0.3694 - accuracy: 0.8412\n",
      "Epoch 00036: val_loss did not improve from 0.78241\n",
      "2163/2163 [==============================] - 70s 32ms/step - loss: 0.3694 - accuracy: 0.8412 - val_loss: 0.8364 - val_accuracy: 0.7175\n",
      "Epoch 37/200\n",
      "2163/2163 [==============================] - ETA: 0s - loss: 0.3580 - accuracy: 0.8476\n",
      "Epoch 00037: val_loss did not improve from 0.78241\n",
      "2163/2163 [==============================] - 70s 32ms/step - loss: 0.3580 - accuracy: 0.8476 - val_loss: 0.8218 - val_accuracy: 0.7294\n",
      "Epoch 38/200\n",
      "2163/2163 [==============================] - ETA: 0s - loss: 0.3445 - accuracy: 0.8530\n",
      "Epoch 00038: val_loss did not improve from 0.78241\n",
      "2163/2163 [==============================] - 70s 32ms/step - loss: 0.3445 - accuracy: 0.8530 - val_loss: 0.8271 - val_accuracy: 0.7418\n",
      "Epoch 39/200\n",
      "2163/2163 [==============================] - ETA: 0s - loss: 0.3299 - accuracy: 0.8587\n",
      "Epoch 00039: val_loss did not improve from 0.78241\n",
      "2163/2163 [==============================] - 70s 32ms/step - loss: 0.3299 - accuracy: 0.8587 - val_loss: 0.7996 - val_accuracy: 0.7464\n",
      "Epoch 40/200\n",
      "2163/2163 [==============================] - ETA: 0s - loss: 0.3129 - accuracy: 0.8633\n",
      "Epoch 00040: val_loss did not improve from 0.78241\n",
      "2163/2163 [==============================] - 70s 32ms/step - loss: 0.3129 - accuracy: 0.8633 - val_loss: 0.8925 - val_accuracy: 0.7377\n",
      "Epoch 41/200\n",
      "2163/2163 [==============================] - ETA: 0s - loss: 0.3016 - accuracy: 0.8679\n",
      "Epoch 00041: val_loss did not improve from 0.78241\n",
      "2163/2163 [==============================] - 70s 32ms/step - loss: 0.3016 - accuracy: 0.8679 - val_loss: 0.9002 - val_accuracy: 0.7211\n",
      "Epoch 42/200\n",
      "2163/2163 [==============================] - ETA: 0s - loss: 0.2927 - accuracy: 0.8719\n",
      "Epoch 00042: val_loss did not improve from 0.78241\n",
      "2163/2163 [==============================] - 70s 32ms/step - loss: 0.2927 - accuracy: 0.8719 - val_loss: 0.9045 - val_accuracy: 0.7274\n",
      "Epoch 43/200\n",
      "2163/2163 [==============================] - ETA: 0s - loss: 0.2833 - accuracy: 0.8759\n",
      "Epoch 00043: val_loss did not improve from 0.78241\n",
      "2163/2163 [==============================] - 70s 32ms/step - loss: 0.2833 - accuracy: 0.8759 - val_loss: 0.9030 - val_accuracy: 0.7326\n",
      "Epoch 44/200\n",
      "2163/2163 [==============================] - ETA: 0s - loss: 0.2749 - accuracy: 0.8797\n",
      "Epoch 00044: val_loss did not improve from 0.78241\n",
      "2163/2163 [==============================] - 70s 32ms/step - loss: 0.2749 - accuracy: 0.8797 - val_loss: 0.8479 - val_accuracy: 0.7418\n",
      "Epoch 45/200\n",
      "2163/2163 [==============================] - ETA: 0s - loss: 0.2569 - accuracy: 0.8862\n",
      "Epoch 00045: val_loss did not improve from 0.78241\n",
      "2163/2163 [==============================] - 70s 32ms/step - loss: 0.2569 - accuracy: 0.8862 - val_loss: 0.8255 - val_accuracy: 0.7500\n",
      "Epoch 46/200\n",
      "2163/2163 [==============================] - ETA: 0s - loss: 0.2562 - accuracy: 0.8875\n",
      "Epoch 00046: val_loss did not improve from 0.78241\n",
      "2163/2163 [==============================] - 70s 32ms/step - loss: 0.2562 - accuracy: 0.8875 - val_loss: 0.8842 - val_accuracy: 0.7475\n",
      "Epoch 47/200\n",
      "2163/2163 [==============================] - ETA: 0s - loss: 0.2436 - accuracy: 0.8919\n",
      "Epoch 00047: val_loss did not improve from 0.78241\n",
      "2163/2163 [==============================] - 70s 32ms/step - loss: 0.2436 - accuracy: 0.8919 - val_loss: 0.8255 - val_accuracy: 0.7590\n",
      "Epoch 48/200\n",
      "2163/2163 [==============================] - ETA: 0s - loss: 0.2334 - accuracy: 0.8967\n",
      "Epoch 00048: val_loss did not improve from 0.78241\n",
      "2163/2163 [==============================] - 70s 32ms/step - loss: 0.2334 - accuracy: 0.8967 - val_loss: 0.8847 - val_accuracy: 0.7371\n",
      "Epoch 49/200\n",
      "2163/2163 [==============================] - ETA: 0s - loss: 0.2278 - accuracy: 0.9005\n",
      "Epoch 00049: val_loss did not improve from 0.78241\n",
      "2163/2163 [==============================] - 70s 32ms/step - loss: 0.2278 - accuracy: 0.9005 - val_loss: 0.9535 - val_accuracy: 0.7228\n",
      "Epoch 50/200\n",
      "2163/2163 [==============================] - ETA: 0s - loss: 0.2218 - accuracy: 0.9010\n",
      "Epoch 00050: val_loss did not improve from 0.78241\n",
      "2163/2163 [==============================] - 70s 32ms/step - loss: 0.2218 - accuracy: 0.9010 - val_loss: 0.8415 - val_accuracy: 0.7572\n",
      "Epoch 51/200\n",
      "2163/2163 [==============================] - ETA: 0s - loss: 0.2119 - accuracy: 0.9070\n",
      "Epoch 00051: val_loss did not improve from 0.78241\n",
      "2163/2163 [==============================] - 70s 32ms/step - loss: 0.2119 - accuracy: 0.9070 - val_loss: 0.9522 - val_accuracy: 0.7357\n",
      "Epoch 00051: early stopping\n"
     ]
    }
   ],
   "source": [
    "model = model_cnn14_attention_multi(dim_time, dim_freq, num_species, model_type='feature_level_attention', conv_dim=conv_dim, pool_size=pool_size, pool_stride=pool_stride, hidden_units=hidden_units, l2_regu=l2_regu, drop_rate=drop_rate)\n",
    "loss = CategoricalCrossentropy()\n",
    "model.compile(optimizer=tf.keras.optimizers.Adam(learning_rate=learning_rate_fn), loss=loss, metrics=['accuracy'])\n",
    "\n",
    "# With classes\n",
    "# history = model.fit(fea_train, to_categorical(label_train), class_weight=class_weights, validation_split=0.3, batch_size=batch_size, epochs=num_epoch, callbacks=[EarlyStopping(patience=num_patience), ModelCheckpoint(filepath=os.path.join(fit_result_path, '{epoch:02d}-{val_loss:.4f}.hdf5'), verbose=1, monitor=\"val_loss\", save_best_only=True)])\n",
    "# history = model.fit(train_generator, validation_data=validate_generator, class_weight=class_weights, epochs=num_epoch, callbacks=[EarlyStopping(patience=num_patience, monitor='val_loss', mode='min', verbose=1), TensorBoard(log_dir=fit_result_path1), ModelCheckpoint(filepath=os.path.join(fit_result_path1, '{epoch:02d}-{val_loss:.4f}.hdf5'), verbose=1, monitor=\"val_loss\", save_best_only=True)])\n",
    "history = model.fit(train_generator, validation_data=validate_generator, class_weight=class_weights, epochs=num_epoch, callbacks=[EarlyStopping(patience=num_patience, monitor='val_loss', mode='min', verbose=1), TensorBoard(log_dir=fit_result_path2), ModelCheckpoint(filepath=os.path.join(fit_result_path2, 'epoch_{epoch:02d}_valloss_{val_loss:.4f}_valacc_{val_accuracy:.4f}.hdf5' ), verbose=1, monitor=\"val_loss\", save_best_only=True)])"
   ]
  },
  {
   "cell_type": "code",
   "execution_count": 79,
   "metadata": {},
   "outputs": [
    {
     "name": "stdout",
     "output_type": "stream",
     "text": [
      "Best model:0.7824\n",
      "/home/ys587/__Data/__whistle/__whislte_30_species/__fit_result_species/20210217_162040/STAR2006/epoch_31_valloss_0.7824_valacc_0.7223.hdf5\n"
     ]
    }
   ],
   "source": [
    "# fit_result_path1 = '/home/ys587/__Data/__whistle/__whislte_30_species/__fit_result_species/20210210_224527'\n",
    "the_best_model, _ = find_best_model(fit_result_path2, purge=False)"
   ]
  },
  {
   "cell_type": "code",
   "execution_count": 80,
   "metadata": {
    "scrolled": true
   },
   "outputs": [
    {
     "name": "stdout",
     "output_type": "stream",
     "text": [
      "Model: \"model_2\"\n",
      "__________________________________________________________________________________________________\n",
      "Layer (type)                    Output Shape         Param #     Connected to                     \n",
      "==================================================================================================\n",
      "input (InputLayer)              [(None, 100, 128, 1) 0                                            \n",
      "__________________________________________________________________________________________________\n",
      "conv2d_24 (Conv2D)              (None, 100, 128, 16) 160         input[0][0]                      \n",
      "__________________________________________________________________________________________________\n",
      "batch_normalization_32 (BatchNo (None, 100, 128, 16) 64          conv2d_24[0][0]                  \n",
      "__________________________________________________________________________________________________\n",
      "activation_32 (Activation)      (None, 100, 128, 16) 0           batch_normalization_32[0][0]     \n",
      "__________________________________________________________________________________________________\n",
      "conv2d_25 (Conv2D)              (None, 100, 128, 16) 2320        activation_32[0][0]              \n",
      "__________________________________________________________________________________________________\n",
      "batch_normalization_33 (BatchNo (None, 100, 128, 16) 64          conv2d_25[0][0]                  \n",
      "__________________________________________________________________________________________________\n",
      "activation_33 (Activation)      (None, 100, 128, 16) 0           batch_normalization_33[0][0]     \n",
      "__________________________________________________________________________________________________\n",
      "max_pooling2d_12 (MaxPooling2D) (None, 50, 64, 16)   0           activation_33[0][0]              \n",
      "__________________________________________________________________________________________________\n",
      "dropout_20 (Dropout)            (None, 50, 64, 16)   0           max_pooling2d_12[0][0]           \n",
      "__________________________________________________________________________________________________\n",
      "conv2d_26 (Conv2D)              (None, 50, 64, 32)   4640        dropout_20[0][0]                 \n",
      "__________________________________________________________________________________________________\n",
      "batch_normalization_34 (BatchNo (None, 50, 64, 32)   128         conv2d_26[0][0]                  \n",
      "__________________________________________________________________________________________________\n",
      "activation_34 (Activation)      (None, 50, 64, 32)   0           batch_normalization_34[0][0]     \n",
      "__________________________________________________________________________________________________\n",
      "conv2d_27 (Conv2D)              (None, 50, 64, 32)   9248        activation_34[0][0]              \n",
      "__________________________________________________________________________________________________\n",
      "batch_normalization_35 (BatchNo (None, 50, 64, 32)   128         conv2d_27[0][0]                  \n",
      "__________________________________________________________________________________________________\n",
      "activation_35 (Activation)      (None, 50, 64, 32)   0           batch_normalization_35[0][0]     \n",
      "__________________________________________________________________________________________________\n",
      "max_pooling2d_13 (MaxPooling2D) (None, 25, 32, 32)   0           activation_35[0][0]              \n",
      "__________________________________________________________________________________________________\n",
      "dropout_21 (Dropout)            (None, 25, 32, 32)   0           max_pooling2d_13[0][0]           \n",
      "__________________________________________________________________________________________________\n",
      "conv2d_28 (Conv2D)              (None, 25, 32, 64)   18496       dropout_21[0][0]                 \n",
      "__________________________________________________________________________________________________\n",
      "batch_normalization_36 (BatchNo (None, 25, 32, 64)   256         conv2d_28[0][0]                  \n",
      "__________________________________________________________________________________________________\n",
      "activation_36 (Activation)      (None, 25, 32, 64)   0           batch_normalization_36[0][0]     \n",
      "__________________________________________________________________________________________________\n",
      "conv2d_29 (Conv2D)              (None, 25, 32, 64)   36928       activation_36[0][0]              \n",
      "__________________________________________________________________________________________________\n",
      "batch_normalization_37 (BatchNo (None, 25, 32, 64)   256         conv2d_29[0][0]                  \n",
      "__________________________________________________________________________________________________\n",
      "activation_37 (Activation)      (None, 25, 32, 64)   0           batch_normalization_37[0][0]     \n",
      "__________________________________________________________________________________________________\n",
      "max_pooling2d_14 (MaxPooling2D) (None, 13, 16, 64)   0           activation_37[0][0]              \n",
      "__________________________________________________________________________________________________\n",
      "dropout_22 (Dropout)            (None, 13, 16, 64)   0           max_pooling2d_14[0][0]           \n",
      "__________________________________________________________________________________________________\n",
      "conv2d_30 (Conv2D)              (None, 13, 16, 128)  73856       dropout_22[0][0]                 \n",
      "__________________________________________________________________________________________________\n",
      "batch_normalization_38 (BatchNo (None, 13, 16, 128)  512         conv2d_30[0][0]                  \n",
      "__________________________________________________________________________________________________\n",
      "activation_38 (Activation)      (None, 13, 16, 128)  0           batch_normalization_38[0][0]     \n",
      "__________________________________________________________________________________________________\n",
      "conv2d_31 (Conv2D)              (None, 13, 16, 128)  147584      activation_38[0][0]              \n",
      "__________________________________________________________________________________________________\n",
      "batch_normalization_39 (BatchNo (None, 13, 16, 128)  512         conv2d_31[0][0]                  \n",
      "__________________________________________________________________________________________________\n",
      "activation_39 (Activation)      (None, 13, 16, 128)  0           batch_normalization_39[0][0]     \n",
      "__________________________________________________________________________________________________\n",
      "max_pooling2d_15 (MaxPooling2D) (None, 7, 8, 128)    0           activation_39[0][0]              \n",
      "__________________________________________________________________________________________________\n",
      "dropout_23 (Dropout)            (None, 7, 8, 128)    0           max_pooling2d_15[0][0]           \n",
      "__________________________________________________________________________________________________\n",
      "conv2d_32 (Conv2D)              (None, 7, 8, 256)    295168      dropout_23[0][0]                 \n",
      "__________________________________________________________________________________________________\n",
      "batch_normalization_40 (BatchNo (None, 7, 8, 256)    1024        conv2d_32[0][0]                  \n",
      "__________________________________________________________________________________________________\n",
      "activation_40 (Activation)      (None, 7, 8, 256)    0           batch_normalization_40[0][0]     \n",
      "__________________________________________________________________________________________________\n",
      "conv2d_33 (Conv2D)              (None, 7, 8, 256)    590080      activation_40[0][0]              \n",
      "__________________________________________________________________________________________________\n",
      "batch_normalization_41 (BatchNo (None, 7, 8, 256)    1024        conv2d_33[0][0]                  \n",
      "__________________________________________________________________________________________________\n",
      "activation_41 (Activation)      (None, 7, 8, 256)    0           batch_normalization_41[0][0]     \n",
      "__________________________________________________________________________________________________\n",
      "max_pooling2d_16 (MaxPooling2D) (None, 7, 4, 256)    0           activation_41[0][0]              \n",
      "__________________________________________________________________________________________________\n",
      "dropout_24 (Dropout)            (None, 7, 4, 256)    0           max_pooling2d_16[0][0]           \n",
      "__________________________________________________________________________________________________\n",
      "conv2d_34 (Conv2D)              (None, 7, 4, 512)    1180160     dropout_24[0][0]                 \n",
      "__________________________________________________________________________________________________\n",
      "batch_normalization_42 (BatchNo (None, 7, 4, 512)    2048        conv2d_34[0][0]                  \n",
      "__________________________________________________________________________________________________\n",
      "activation_42 (Activation)      (None, 7, 4, 512)    0           batch_normalization_42[0][0]     \n",
      "__________________________________________________________________________________________________\n",
      "conv2d_35 (Conv2D)              (None, 7, 4, 512)    2359808     activation_42[0][0]              \n",
      "__________________________________________________________________________________________________\n",
      "batch_normalization_43 (BatchNo (None, 7, 4, 512)    2048        conv2d_35[0][0]                  \n",
      "__________________________________________________________________________________________________\n",
      "activation_43 (Activation)      (None, 7, 4, 512)    0           batch_normalization_43[0][0]     \n",
      "__________________________________________________________________________________________________\n",
      "max_pooling2d_17 (MaxPooling2D) (None, 7, 2, 512)    0           activation_43[0][0]              \n",
      "__________________________________________________________________________________________________\n",
      "dropout_25 (Dropout)            (None, 7, 2, 512)    0           max_pooling2d_17[0][0]           \n",
      "__________________________________________________________________________________________________\n",
      "reshape_2 (Reshape)             (None, 7, 1024)      0           dropout_25[0][0]                 \n",
      "__________________________________________________________________________________________________\n",
      "dense_12 (Dense)                (None, 7, 512)       524800      reshape_2[0][0]                  \n",
      "__________________________________________________________________________________________________\n",
      "batch_normalization_44 (BatchNo (None, 7, 512)       2048        dense_12[0][0]                   \n",
      "__________________________________________________________________________________________________\n",
      "activation_44 (Activation)      (None, 7, 512)       0           batch_normalization_44[0][0]     \n",
      "__________________________________________________________________________________________________\n",
      "dropout_26 (Dropout)            (None, 7, 512)       0           activation_44[0][0]              \n",
      "__________________________________________________________________________________________________\n",
      "dense_13 (Dense)                (None, 7, 512)       262656      dropout_26[0][0]                 \n",
      "__________________________________________________________________________________________________\n",
      "batch_normalization_45 (BatchNo (None, 7, 512)       2048        dense_13[0][0]                   \n",
      "__________________________________________________________________________________________________\n",
      "activation_45 (Activation)      (None, 7, 512)       0           batch_normalization_45[0][0]     \n",
      "__________________________________________________________________________________________________\n",
      "dropout_27 (Dropout)            (None, 7, 512)       0           activation_45[0][0]              \n",
      "__________________________________________________________________________________________________\n",
      "dense_14 (Dense)                (None, 7, 512)       262656      dropout_27[0][0]                 \n",
      "__________________________________________________________________________________________________\n",
      "batch_normalization_46 (BatchNo (None, 7, 512)       2048        dense_14[0][0]                   \n",
      "__________________________________________________________________________________________________\n",
      "activation_46 (Activation)      (None, 7, 512)       0           batch_normalization_46[0][0]     \n",
      "__________________________________________________________________________________________________\n",
      "dropout_28 (Dropout)            (None, 7, 512)       0           activation_46[0][0]              \n",
      "__________________________________________________________________________________________________\n",
      "dense_15 (Dense)                (None, 7, 512)       262656      dropout_28[0][0]                 \n",
      "__________________________________________________________________________________________________\n",
      "dense_16 (Dense)                (None, 7, 512)       262656      dropout_28[0][0]                 \n",
      "__________________________________________________________________________________________________\n",
      "lambda_2 (Lambda)               (None, 512)          0           dense_15[0][0]                   \n",
      "                                                                 dense_16[0][0]                   \n",
      "__________________________________________________________________________________________________\n",
      "batch_normalization_47 (BatchNo (None, 512)          2048        lambda_2[0][0]                   \n",
      "__________________________________________________________________________________________________\n",
      "activation_47 (Activation)      (None, 512)          0           batch_normalization_47[0][0]     \n",
      "__________________________________________________________________________________________________\n",
      "dropout_29 (Dropout)            (None, 512)          0           activation_47[0][0]              \n",
      "__________________________________________________________________________________________________\n",
      "dense_17 (Dense)                (None, 8)            4104        dropout_29[0][0]                 \n",
      "==================================================================================================\n",
      "Total params: 6,314,232\n",
      "Trainable params: 6,306,104\n",
      "Non-trainable params: 8,128\n",
      "__________________________________________________________________________________________________\n"
     ]
    }
   ],
   "source": [
    "model = load_model(the_best_model)\n",
    "model.summary()"
   ]
  },
  {
   "cell_type": "code",
   "execution_count": 81,
   "metadata": {},
   "outputs": [],
   "source": [
    "label_pred = model.predict(fea_test)\n",
    "# label_pred = model.predict(test_generator)"
   ]
  },
  {
   "cell_type": "code",
   "execution_count": 82,
   "metadata": {},
   "outputs": [],
   "source": [
    "np.set_printoptions(linewidth=200, precision=2, suppress=True)"
   ]
  },
  {
   "cell_type": "code",
   "execution_count": 83,
   "metadata": {},
   "outputs": [
    {
     "name": "stdout",
     "output_type": "stream",
     "text": [
      "Confusion matrix:\n",
      "['BD', 'CD', 'STR', 'SPT', 'SPIN', 'PLT', 'RT', 'FKW']\n",
      "\n",
      "[[  0   0   0   0   0   0   0   0]\n",
      " [  8   0   4   0   6   1   2   3]\n",
      " [ 46  19 554  53  59   4   8   7]\n",
      " [ 94   0  16   0  36   0   0   1]\n",
      " [  0   0   0   0   2   0   0   0]\n",
      " [164   8  46   6  48 257  34  69]\n",
      " [  6   1   5   0   5   3  16  10]\n",
      " [ 40   1  37   1   5  43  27 749]]\n",
      "\n",
      "[[0.   0.   0.   0.   0.   0.   0.   0.  ]\n",
      " [0.33 0.   0.17 0.   0.25 0.04 0.08 0.12]\n",
      " [0.06 0.03 0.74 0.07 0.08 0.01 0.01 0.01]\n",
      " [0.64 0.   0.11 0.   0.24 0.   0.   0.01]\n",
      " [0.   0.   0.   0.   1.   0.   0.   0.  ]\n",
      " [0.26 0.01 0.07 0.01 0.08 0.41 0.05 0.11]\n",
      " [0.13 0.02 0.11 0.   0.11 0.07 0.35 0.22]\n",
      " [0.04 0.   0.04 0.   0.01 0.05 0.03 0.83]]\n"
     ]
    }
   ],
   "source": [
    "print(\"Confusion matrix:\")\n",
    "cm = confusion_matrix(label_test, np.argmax(label_pred, axis=1), labels=species_id)\n",
    "\n",
    "print(species_list)\n",
    "print('')\n",
    "print(cm)\n",
    "print('')\n",
    "\n",
    "cm2 = cm*1.0\n",
    "for ii in range(cm.shape[0]):\n",
    "    cm_row = cm[ii, :]*1.0\n",
    "\n",
    "    cm_row_sum = cm_row.sum()\n",
    "    if cm_row_sum != 0:\n",
    "        cm2[ii, :] = cm_row / cm_row_sum\n",
    "    else:\n",
    "        cm2[ii, :] = np.zeros(cm.shape[1])\n",
    "\n",
    "print(cm2)"
   ]
  },
  {
   "cell_type": "code",
   "execution_count": 84,
   "metadata": {},
   "outputs": [],
   "source": [
    "from sklearn.metrics import plot_confusion_matrix\n",
    "from sklearn.metrics._plot.confusion_matrix import ConfusionMatrixDisplay\n",
    "disp = ConfusionMatrixDisplay(confusion_matrix=cm, display_labels=species_list)\n",
    "disp2 = ConfusionMatrixDisplay(confusion_matrix=cm2, display_labels=species_list)"
   ]
  },
  {
   "cell_type": "code",
   "execution_count": 85,
   "metadata": {},
   "outputs": [
    {
     "data": {
      "text/plain": [
       "<sklearn.metrics._plot.confusion_matrix.ConfusionMatrixDisplay at 0x7f527baab490>"
      ]
     },
     "execution_count": 85,
     "metadata": {},
     "output_type": "execute_result"
    },
    {
     "data": {
      "image/png": "[encoded data removed]",
      "text/plain": [
       "<Figure size 1080x1080 with 2 Axes>"
      ]
     },
     "metadata": {
      "needs_background": "light"
     },
     "output_type": "display_data"
    }
   ],
   "source": [
    "fig, ax = plt.subplots(figsize=[15, 15])\n",
    "disp.plot(include_values=True,\n",
    "                     cmap='viridis', ax=ax, xticks_rotation='horizontal',\n",
    "                     values_format=None, colorbar=True)\n"
   ]
  },
  {
   "cell_type": "code",
   "execution_count": 86,
   "metadata": {},
   "outputs": [
    {
     "data": {
      "text/plain": [
       "<sklearn.metrics._plot.confusion_matrix.ConfusionMatrixDisplay at 0x7f5120356d90>"
      ]
     },
     "execution_count": 86,
     "metadata": {},
     "output_type": "execute_result"
    },
    {
     "data": {
      "image/png": "[encoded data removed]",
      "text/plain": [
       "<Figure size 1080x1080 with 2 Axes>"
      ]
     },
     "metadata": {
      "needs_background": "light"
     },
     "output_type": "display_data"
    }
   ],
   "source": [
    "fig, ax = plt.subplots(figsize=[15, 15])\n",
    "disp2.plot(include_values=True,\n",
    "                     cmap='viridis', ax=ax, xticks_rotation='horizontal',\n",
    "                     values_format='.2f', colorbar=True)"
   ]
  },
  {
   "cell_type": "markdown",
   "metadata": {},
   "source": [
    "## HICEAS2002"
   ]
  },
  {
   "cell_type": "code",
   "execution_count": 87,
   "metadata": {},
   "outputs": [
    {
     "name": "stdout",
     "output_type": "stream",
     "text": [
      "HICEAS2002\n"
     ]
    }
   ],
   "source": [
    "ee = deployment[3]\n",
    "print(ee)"
   ]
  },
  {
   "cell_type": "code",
   "execution_count": 88,
   "metadata": {},
   "outputs": [],
   "source": [
    "# Training data\n",
    "fea_temp = np.load(os.path.join(feature_path, 'train_oswald_no_'+ee+'.npz'))\n",
    "fea_train = fea_temp['fea_train']\n",
    "label_train_list = fea_temp['label_train']\n",
    "del fea_temp"
   ]
  },
  {
   "cell_type": "code",
   "execution_count": 89,
   "metadata": {},
   "outputs": [],
   "source": [
    "label_train = np.zeros(len(label_train_list))\n",
    "for ii in range(len(label_train_list)):\n",
    "    label_train[ii] = species_dict[label_train_list[ii]]"
   ]
  },
  {
   "cell_type": "code",
   "execution_count": 90,
   "metadata": {},
   "outputs": [],
   "source": [
    "# Testing data\n",
    "fea_temp = np.load(os.path.join(feature_path, 'oswald_'+ee+'_orig.npz'))\n",
    "fea_test = fea_temp['feas_orig']\n",
    "label_test_list = fea_temp['labels_orig']\n",
    "\n",
    "fea_test = fea_test[:,:100,:]\n",
    "label_test = np.zeros(len(label_test_list))\n",
    "for ii in range(len(label_test_list)):\n",
    "    label_test[ii] = species_dict[label_test_list[ii]]"
   ]
  },
  {
   "cell_type": "code",
   "execution_count": 91,
   "metadata": {},
   "outputs": [],
   "source": [
    "fea_train = fea_train[:,:100,:]"
   ]
  },
  {
   "cell_type": "code",
   "execution_count": 92,
   "metadata": {},
   "outputs": [],
   "source": [
    "label_train = np.zeros(len(label_train_list))\n",
    "for ii in range(len(label_train_list)):\n",
    "    label_train[ii] = species_dict[label_train_list[ii]]"
   ]
  },
  {
   "cell_type": "code",
   "execution_count": 93,
   "metadata": {
    "scrolled": true
   },
   "outputs": [
    {
     "data": {
      "text/plain": [
       "Counter({'BD': 11220,\n",
       "         'CD': 28440,\n",
       "         'PLT': 5730,\n",
       "         'RT': 3372,\n",
       "         'SPIN': 5694,\n",
       "         'SPT': 11316,\n",
       "         'STR': 13896,\n",
       "         'FKW': 19080})"
      ]
     },
     "execution_count": 93,
     "metadata": {},
     "output_type": "execute_result"
    }
   ],
   "source": [
    "Counter(label_train_list)"
   ]
  },
  {
   "cell_type": "code",
   "execution_count": 94,
   "metadata": {},
   "outputs": [
    {
     "data": {
      "text/plain": [
       "Counter({0.0: 41, 5.0: 1052, 6.0: 749, 4.0: 86, 3.0: 385, 2.0: 216})"
      ]
     },
     "execution_count": 94,
     "metadata": {},
     "output_type": "execute_result"
    }
   ],
   "source": [
    "Counter(label_test.tolist())"
   ]
  },
  {
   "cell_type": "code",
   "execution_count": 95,
   "metadata": {},
   "outputs": [],
   "source": [
    "fit_result_path2 = os.path.join(fit_result_path1, ee)\n",
    "if not os.path.exists(fit_result_path2):\n",
    "    makedirs(fit_result_path2)"
   ]
  },
  {
   "cell_type": "code",
   "execution_count": 96,
   "metadata": {},
   "outputs": [
    {
     "name": "stdout",
     "output_type": "stream",
     "text": [
      "feature train shape: (98748, 100, 128)\n",
      "feature test shape: (2529, 100, 128)\n",
      "label train shape: (98748,)\n",
      "label test shape: (2529,)\n",
      "dim_time: 100\n",
      "dim_freq: 128\n"
     ]
    }
   ],
   "source": [
    "print('feature train shape: '+str(fea_train.shape))\n",
    "print('feature test shape: '+str(fea_test.shape))\n",
    "print('label train shape: '+str(label_train.shape))\n",
    "print('label test shape: '+str(label_test.shape))\n",
    "\n",
    "dim_time = fea_train.shape[1]\n",
    "dim_freq = fea_train.shape[2]\n",
    "print('dim_time: '+str(dim_time))\n",
    "print('dim_freq: '+str(dim_freq))"
   ]
  },
  {
   "cell_type": "code",
   "execution_count": 97,
   "metadata": {},
   "outputs": [],
   "source": [
    "# shuffle features & labels\n",
    "fea_train, label_train = shuffle(fea_train, label_train, random_state=0)\n",
    "fea_test, label_test = shuffle(fea_test, label_test, random_state=0)"
   ]
  },
  {
   "cell_type": "code",
   "execution_count": 98,
   "metadata": {},
   "outputs": [],
   "source": [
    "# class weight\n",
    "weights = compute_class_weight(class_weight='balanced', classes=np.unique(label_train), y=label_train)\n",
    "\n",
    "class_weights = dict()\n",
    "for ii in range(num_species):\n",
    "    class_weights[ii] = weights[ii]"
   ]
  },
  {
   "cell_type": "code",
   "execution_count": 99,
   "metadata": {},
   "outputs": [],
   "source": [
    "fea_train = np.expand_dims(fea_train, axis=3)\n",
    "fea_test = np.expand_dims(fea_test, axis=3)"
   ]
  },
  {
   "cell_type": "code",
   "execution_count": 100,
   "metadata": {},
   "outputs": [],
   "source": [
    "fea_train, fea_validate, label_train, label_validate = train_test_split(fea_train, label_train, test_size=0.30, random_state=42)\n",
    "\n",
    "train_generator = DataGenerator(fea_train, label_train, batch_size=batch_size, num_classes=num_species)\n",
    "del fea_train\n",
    "validate_generator = DataGenerator(fea_validate, label_validate, batch_size=batch_size, num_classes=num_species)\n",
    "del fea_validate\n",
    "\n",
    "# test_generator = DataGenerator(fea_test, label_test, batch_size=batch_size, num_classes=num_species)\n"
   ]
  },
  {
   "cell_type": "markdown",
   "metadata": {},
   "source": [
    "### Training the model"
   ]
  },
  {
   "cell_type": "code",
   "execution_count": 101,
   "metadata": {
    "scrolled": true
   },
   "outputs": [
    {
     "name": "stdout",
     "output_type": "stream",
     "text": [
      "Epoch 1/200\n",
      "   2/2160 [..............................] - ETA: 4:53 - loss: 2.0995 - accuracy: 0.1250WARNING:tensorflow:Method (on_train_batch_end) is slow compared to the batch update (0.122820). Check your callbacks.\n",
      "2160/2160 [==============================] - ETA: 0s - loss: 2.0843 - accuracy: 0.1282\n",
      "Epoch 00001: val_loss improved from inf to 2.08944, saving model to /home/ys587/__Data/__whistle/__whislte_30_species/__fit_result_species/20210217_162040/HICEAS2002/epoch_01_valloss_2.0894_valacc_0.1138.hdf5\n",
      "2160/2160 [==============================] - 71s 33ms/step - loss: 2.0843 - accuracy: 0.1282 - val_loss: 2.0894 - val_accuracy: 0.1138\n",
      "Epoch 2/200\n",
      "2159/2160 [============================>.] - ETA: 0s - loss: 1.7884 - accuracy: 0.3002\n",
      "Epoch 00002: val_loss improved from 2.08944 to 1.76291, saving model to /home/ys587/__Data/__whistle/__whislte_30_species/__fit_result_species/20210217_162040/HICEAS2002/epoch_02_valloss_1.7629_valacc_0.2728.hdf5\n",
      "2160/2160 [==============================] - 70s 32ms/step - loss: 1.7884 - accuracy: 0.3002 - val_loss: 1.7629 - val_accuracy: 0.2728\n",
      "Epoch 3/200\n",
      "2159/2160 [============================>.] - ETA: 0s - loss: 1.4800 - accuracy: 0.4339\n",
      "Epoch 00003: val_loss improved from 1.76291 to 1.57466, saving model to /home/ys587/__Data/__whistle/__whislte_30_species/__fit_result_species/20210217_162040/HICEAS2002/epoch_03_valloss_1.5747_valacc_0.4216.hdf5\n",
      "2160/2160 [==============================] - 70s 32ms/step - loss: 1.4800 - accuracy: 0.4339 - val_loss: 1.5747 - val_accuracy: 0.4216\n",
      "Epoch 4/200\n",
      "2160/2160 [==============================] - ETA: 0s - loss: 1.3515 - accuracy: 0.4750\n",
      "Epoch 00004: val_loss improved from 1.57466 to 1.29086, saving model to /home/ys587/__Data/__whistle/__whislte_30_species/__fit_result_species/20210217_162040/HICEAS2002/epoch_04_valloss_1.2909_valacc_0.5019.hdf5\n",
      "2160/2160 [==============================] - 70s 32ms/step - loss: 1.3515 - accuracy: 0.4750 - val_loss: 1.2909 - val_accuracy: 0.5019\n",
      "Epoch 5/200\n",
      "2159/2160 [============================>.] - ETA: 0s - loss: 1.2547 - accuracy: 0.5201\n",
      "Epoch 00005: val_loss did not improve from 1.29086\n",
      "2160/2160 [==============================] - 70s 32ms/step - loss: 1.2550 - accuracy: 0.5201 - val_loss: 1.3396 - val_accuracy: 0.4974\n",
      "Epoch 6/200\n",
      "2159/2160 [============================>.] - ETA: 0s - loss: 1.1809 - accuracy: 0.5473\n",
      "Epoch 00006: val_loss improved from 1.29086 to 1.20800, saving model to /home/ys587/__Data/__whistle/__whislte_30_species/__fit_result_species/20210217_162040/HICEAS2002/epoch_06_valloss_1.2080_valacc_0.5245.hdf5\n",
      "2160/2160 [==============================] - 70s 32ms/step - loss: 1.1809 - accuracy: 0.5472 - val_loss: 1.2080 - val_accuracy: 0.5245\n",
      "Epoch 7/200\n",
      "2159/2160 [============================>.] - ETA: 0s - loss: 1.1251 - accuracy: 0.5698\n",
      "Epoch 00007: val_loss improved from 1.20800 to 1.12431, saving model to /home/ys587/__Data/__whistle/__whislte_30_species/__fit_result_species/20210217_162040/HICEAS2002/epoch_07_valloss_1.1243_valacc_0.5819.hdf5\n",
      "2160/2160 [==============================] - 70s 32ms/step - loss: 1.1250 - accuracy: 0.5698 - val_loss: 1.1243 - val_accuracy: 0.5819\n",
      "Epoch 8/200\n",
      "2159/2160 [============================>.] - ETA: 0s - loss: 1.0720 - accuracy: 0.5921\n",
      "Epoch 00008: val_loss did not improve from 1.12431\n",
      "2160/2160 [==============================] - 70s 32ms/step - loss: 1.0721 - accuracy: 0.5921 - val_loss: 1.1603 - val_accuracy: 0.5740\n",
      "Epoch 9/200\n",
      "2160/2160 [==============================] - ETA: 0s - loss: 1.0265 - accuracy: 0.6026\n",
      "Epoch 00009: val_loss improved from 1.12431 to 1.01850, saving model to /home/ys587/__Data/__whistle/__whislte_30_species/__fit_result_species/20210217_162040/HICEAS2002/epoch_09_valloss_1.0185_valacc_0.6082.hdf5\n",
      "2160/2160 [==============================] - 70s 32ms/step - loss: 1.0265 - accuracy: 0.6026 - val_loss: 1.0185 - val_accuracy: 0.6082\n",
      "Epoch 10/200\n",
      "2160/2160 [==============================] - ETA: 0s - loss: 0.9858 - accuracy: 0.6199\n",
      "Epoch 00010: val_loss did not improve from 1.01850\n",
      "2160/2160 [==============================] - 70s 32ms/step - loss: 0.9858 - accuracy: 0.6199 - val_loss: 1.0763 - val_accuracy: 0.5935\n",
      "Epoch 11/200\n",
      "2159/2160 [============================>.] - ETA: 0s - loss: 0.9468 - accuracy: 0.6339\n",
      "Epoch 00011: val_loss improved from 1.01850 to 0.95519, saving model to /home/ys587/__Data/__whistle/__whislte_30_species/__fit_result_species/20210217_162040/HICEAS2002/epoch_11_valloss_0.9552_valacc_0.6314.hdf5\n",
      "2160/2160 [==============================] - 70s 32ms/step - loss: 0.9468 - accuracy: 0.6339 - val_loss: 0.9552 - val_accuracy: 0.6314\n",
      "Epoch 12/200\n",
      "2159/2160 [============================>.] - ETA: 0s - loss: 0.9070 - accuracy: 0.6475\n",
      "Epoch 00012: val_loss did not improve from 0.95519\n",
      "2160/2160 [==============================] - 70s 32ms/step - loss: 0.9072 - accuracy: 0.6475 - val_loss: 1.0130 - val_accuracy: 0.6117\n",
      "Epoch 13/200\n",
      "2159/2160 [============================>.] - ETA: 0s - loss: 0.8748 - accuracy: 0.6582\n",
      "Epoch 00013: val_loss improved from 0.95519 to 0.91552, saving model to /home/ys587/__Data/__whistle/__whislte_30_species/__fit_result_species/20210217_162040/HICEAS2002/epoch_13_valloss_0.9155_valacc_0.6489.hdf5\n",
      "2160/2160 [==============================] - 70s 32ms/step - loss: 0.8750 - accuracy: 0.6582 - val_loss: 0.9155 - val_accuracy: 0.6489\n",
      "Epoch 14/200\n",
      "2159/2160 [============================>.] - ETA: 0s - loss: 0.8412 - accuracy: 0.6678\n",
      "Epoch 00014: val_loss did not improve from 0.91552\n",
      "2160/2160 [==============================] - 70s 32ms/step - loss: 0.8411 - accuracy: 0.6678 - val_loss: 1.0136 - val_accuracy: 0.6132\n",
      "Epoch 15/200\n",
      "2159/2160 [============================>.] - ETA: 0s - loss: 0.8153 - accuracy: 0.6767\n",
      "Epoch 00015: val_loss did not improve from 0.91552\n",
      "2160/2160 [==============================] - 70s 32ms/step - loss: 0.8154 - accuracy: 0.6767 - val_loss: 0.9614 - val_accuracy: 0.6336\n",
      "Epoch 16/200\n",
      "2159/2160 [============================>.] - ETA: 0s - loss: 0.7821 - accuracy: 0.6881\n",
      "Epoch 00016: val_loss improved from 0.91552 to 0.83810, saving model to /home/ys587/__Data/__whistle/__whislte_30_species/__fit_result_species/20210217_162040/HICEAS2002/epoch_16_valloss_0.8381_valacc_0.6789.hdf5\n",
      "2160/2160 [==============================] - 70s 32ms/step - loss: 0.7820 - accuracy: 0.6881 - val_loss: 0.8381 - val_accuracy: 0.6789\n",
      "Epoch 17/200\n",
      "2159/2160 [============================>.] - ETA: 0s - loss: 0.7598 - accuracy: 0.6967\n",
      "Epoch 00017: val_loss did not improve from 0.83810\n",
      "2160/2160 [==============================] - 70s 32ms/step - loss: 0.7597 - accuracy: 0.6967 - val_loss: 0.8548 - val_accuracy: 0.6724\n",
      "Epoch 18/200\n",
      "2159/2160 [============================>.] - ETA: 0s - loss: 0.7362 - accuracy: 0.7027\n",
      "Epoch 00018: val_loss did not improve from 0.83810\n",
      "2160/2160 [==============================] - 70s 32ms/step - loss: 0.7362 - accuracy: 0.7028 - val_loss: 0.9838 - val_accuracy: 0.6224\n",
      "Epoch 19/200\n",
      "2159/2160 [============================>.] - ETA: 0s - loss: 0.7087 - accuracy: 0.7128\n",
      "Epoch 00019: val_loss improved from 0.83810 to 0.79546, saving model to /home/ys587/__Data/__whistle/__whislte_30_species/__fit_result_species/20210217_162040/HICEAS2002/epoch_19_valloss_0.7955_valacc_0.7051.hdf5\n",
      "2160/2160 [==============================] - 70s 32ms/step - loss: 0.7087 - accuracy: 0.7127 - val_loss: 0.7955 - val_accuracy: 0.7051\n",
      "Epoch 20/200\n",
      "2159/2160 [============================>.] - ETA: 0s - loss: 0.6860 - accuracy: 0.7193\n",
      "Epoch 00020: val_loss did not improve from 0.79546\n",
      "2160/2160 [==============================] - 70s 32ms/step - loss: 0.6858 - accuracy: 0.7193 - val_loss: 0.9133 - val_accuracy: 0.6489\n",
      "Epoch 21/200\n",
      "2160/2160 [==============================] - ETA: 0s - loss: 0.6602 - accuracy: 0.7276\n",
      "Epoch 00021: val_loss did not improve from 0.79546\n",
      "2160/2160 [==============================] - 70s 32ms/step - loss: 0.6602 - accuracy: 0.7276 - val_loss: 1.0240 - val_accuracy: 0.6213\n",
      "Epoch 22/200\n",
      "2159/2160 [============================>.] - ETA: 0s - loss: 0.6401 - accuracy: 0.7333\n",
      "Epoch 00022: val_loss did not improve from 0.79546\n",
      "2160/2160 [==============================] - 70s 32ms/step - loss: 0.6401 - accuracy: 0.7333 - val_loss: 0.8171 - val_accuracy: 0.6882\n",
      "Epoch 23/200\n",
      "2159/2160 [============================>.] - ETA: 0s - loss: 0.6250 - accuracy: 0.7416\n",
      "Epoch 00023: val_loss did not improve from 0.79546\n",
      "2160/2160 [==============================] - 70s 32ms/step - loss: 0.6248 - accuracy: 0.7416 - val_loss: 0.9212 - val_accuracy: 0.6545\n",
      "Epoch 24/200\n",
      "2160/2160 [==============================] - ETA: 0s - loss: 0.5979 - accuracy: 0.7500\n",
      "Epoch 00024: val_loss did not improve from 0.79546\n",
      "2160/2160 [==============================] - 70s 32ms/step - loss: 0.5979 - accuracy: 0.7500 - val_loss: 0.8353 - val_accuracy: 0.6874\n",
      "Epoch 25/200\n",
      "2159/2160 [============================>.] - ETA: 0s - loss: 0.5846 - accuracy: 0.7520\n",
      "Epoch 00025: val_loss did not improve from 0.79546\n",
      "2160/2160 [==============================] - 70s 32ms/step - loss: 0.5845 - accuracy: 0.7520 - val_loss: 0.8827 - val_accuracy: 0.6735\n",
      "Epoch 26/200\n",
      "2159/2160 [============================>.] - ETA: 0s - loss: 0.5691 - accuracy: 0.7583\n",
      "Epoch 00026: val_loss improved from 0.79546 to 0.72948, saving model to /home/ys587/__Data/__whistle/__whislte_30_species/__fit_result_species/20210217_162040/HICEAS2002/epoch_26_valloss_0.7295_valacc_0.7286.hdf5\n",
      "2160/2160 [==============================] - 70s 32ms/step - loss: 0.5691 - accuracy: 0.7583 - val_loss: 0.7295 - val_accuracy: 0.7286\n",
      "Epoch 27/200\n",
      "2160/2160 [==============================] - ETA: 0s - loss: 0.5465 - accuracy: 0.7662\n",
      "Epoch 00027: val_loss did not improve from 0.72948\n",
      "2160/2160 [==============================] - 70s 32ms/step - loss: 0.5465 - accuracy: 0.7662 - val_loss: 0.7850 - val_accuracy: 0.7092\n",
      "Epoch 28/200\n",
      "2159/2160 [============================>.] - ETA: 0s - loss: 0.5300 - accuracy: 0.7718\n",
      "Epoch 00028: val_loss did not improve from 0.72948\n",
      "2160/2160 [==============================] - 70s 32ms/step - loss: 0.5300 - accuracy: 0.7718 - val_loss: 0.8061 - val_accuracy: 0.7113\n",
      "Epoch 29/200\n",
      "2159/2160 [============================>.] - ETA: 0s - loss: 0.5104 - accuracy: 0.7800\n",
      "Epoch 00029: val_loss did not improve from 0.72948\n",
      "2160/2160 [==============================] - 70s 32ms/step - loss: 0.5103 - accuracy: 0.7800 - val_loss: 0.7935 - val_accuracy: 0.7100\n",
      "Epoch 30/200\n",
      "2159/2160 [============================>.] - ETA: 0s - loss: 0.4911 - accuracy: 0.7865\n",
      "Epoch 00030: val_loss did not improve from 0.72948\n",
      "2160/2160 [==============================] - 70s 32ms/step - loss: 0.4911 - accuracy: 0.7864 - val_loss: 0.8151 - val_accuracy: 0.7086\n",
      "Epoch 31/200\n",
      "2159/2160 [============================>.] - ETA: 0s - loss: 0.4824 - accuracy: 0.7889\n",
      "Epoch 00031: val_loss did not improve from 0.72948\n",
      "2160/2160 [==============================] - 70s 32ms/step - loss: 0.4824 - accuracy: 0.7889 - val_loss: 0.8376 - val_accuracy: 0.6997\n",
      "Epoch 32/200\n",
      "2159/2160 [============================>.] - ETA: 0s - loss: 0.4627 - accuracy: 0.7976\n",
      "Epoch 00032: val_loss did not improve from 0.72948\n",
      "2160/2160 [==============================] - 70s 32ms/step - loss: 0.4627 - accuracy: 0.7976 - val_loss: 0.8638 - val_accuracy: 0.6912\n",
      "Epoch 33/200\n",
      "2160/2160 [==============================] - ETA: 0s - loss: 0.4507 - accuracy: 0.8026\n",
      "Epoch 00033: val_loss improved from 0.72948 to 0.72682, saving model to /home/ys587/__Data/__whistle/__whislte_30_species/__fit_result_species/20210217_162040/HICEAS2002/epoch_33_valloss_0.7268_valacc_0.7442.hdf5\n",
      "2160/2160 [==============================] - 70s 32ms/step - loss: 0.4507 - accuracy: 0.8026 - val_loss: 0.7268 - val_accuracy: 0.7442\n",
      "Epoch 34/200\n",
      "2159/2160 [============================>.] - ETA: 0s - loss: 0.4378 - accuracy: 0.8079\n",
      "Epoch 00034: val_loss did not improve from 0.72682\n",
      "2160/2160 [==============================] - 70s 32ms/step - loss: 0.4378 - accuracy: 0.8079 - val_loss: 0.8594 - val_accuracy: 0.7127\n",
      "Epoch 35/200\n",
      "2160/2160 [==============================] - ETA: 0s - loss: 0.4211 - accuracy: 0.8127\n",
      "Epoch 00035: val_loss did not improve from 0.72682\n",
      "2160/2160 [==============================] - 70s 32ms/step - loss: 0.4211 - accuracy: 0.8127 - val_loss: 0.7493 - val_accuracy: 0.7393\n",
      "Epoch 36/200\n",
      "2159/2160 [============================>.] - ETA: 0s - loss: 0.4072 - accuracy: 0.8175\n",
      "Epoch 00036: val_loss did not improve from 0.72682\n",
      "2160/2160 [==============================] - 70s 32ms/step - loss: 0.4072 - accuracy: 0.8175 - val_loss: 0.7640 - val_accuracy: 0.7381\n",
      "Epoch 37/200\n",
      "2159/2160 [============================>.] - ETA: 0s - loss: 0.3930 - accuracy: 0.8243\n",
      "Epoch 00037: val_loss did not improve from 0.72682\n",
      "2160/2160 [==============================] - 70s 32ms/step - loss: 0.3930 - accuracy: 0.8243 - val_loss: 0.7419 - val_accuracy: 0.7417\n",
      "Epoch 38/200\n",
      "2159/2160 [============================>.] - ETA: 0s - loss: 0.3803 - accuracy: 0.8285\n",
      "Epoch 00038: val_loss did not improve from 0.72682\n",
      "2160/2160 [==============================] - 70s 32ms/step - loss: 0.3803 - accuracy: 0.8285 - val_loss: 0.7677 - val_accuracy: 0.7410\n",
      "Epoch 39/200\n",
      "2159/2160 [============================>.] - ETA: 0s - loss: 0.3736 - accuracy: 0.8324\n",
      "Epoch 00039: val_loss did not improve from 0.72682\n",
      "2160/2160 [==============================] - 70s 32ms/step - loss: 0.3737 - accuracy: 0.8324 - val_loss: 0.8664 - val_accuracy: 0.7106\n",
      "Epoch 40/200\n",
      "2159/2160 [============================>.] - ETA: 0s - loss: 0.3593 - accuracy: 0.8368\n",
      "Epoch 00040: val_loss did not improve from 0.72682\n",
      "2160/2160 [==============================] - 70s 32ms/step - loss: 0.3593 - accuracy: 0.8368 - val_loss: 0.7915 - val_accuracy: 0.7354\n",
      "Epoch 41/200\n",
      "2159/2160 [============================>.] - ETA: 0s - loss: 0.3447 - accuracy: 0.8427\n",
      "Epoch 00041: val_loss improved from 0.72682 to 0.72324, saving model to /home/ys587/__Data/__whistle/__whislte_30_species/__fit_result_species/20210217_162040/HICEAS2002/epoch_41_valloss_0.7232_valacc_0.7559.hdf5\n",
      "2160/2160 [==============================] - 70s 32ms/step - loss: 0.3448 - accuracy: 0.8428 - val_loss: 0.7232 - val_accuracy: 0.7559\n",
      "Epoch 42/200\n",
      "2159/2160 [============================>.] - ETA: 0s - loss: 0.3442 - accuracy: 0.8429\n",
      "Epoch 00042: val_loss did not improve from 0.72324\n",
      "2160/2160 [==============================] - 70s 32ms/step - loss: 0.3442 - accuracy: 0.8429 - val_loss: 0.7266 - val_accuracy: 0.7605\n",
      "Epoch 43/200\n",
      "2160/2160 [==============================] - ETA: 0s - loss: 0.3224 - accuracy: 0.8524\n",
      "Epoch 00043: val_loss improved from 0.72324 to 0.71713, saving model to /home/ys587/__Data/__whistle/__whislte_30_species/__fit_result_species/20210217_162040/HICEAS2002/epoch_43_valloss_0.7171_valacc_0.7584.hdf5\n",
      "2160/2160 [==============================] - 70s 32ms/step - loss: 0.3224 - accuracy: 0.8524 - val_loss: 0.7171 - val_accuracy: 0.7584\n",
      "Epoch 44/200\n",
      "2159/2160 [============================>.] - ETA: 0s - loss: 0.3131 - accuracy: 0.8571\n",
      "Epoch 00044: val_loss did not improve from 0.71713\n",
      "2160/2160 [==============================] - 70s 32ms/step - loss: 0.3132 - accuracy: 0.8570 - val_loss: 0.7559 - val_accuracy: 0.7581\n",
      "Epoch 45/200\n",
      "2160/2160 [==============================] - ETA: 0s - loss: 0.3052 - accuracy: 0.8609\n",
      "Epoch 00045: val_loss improved from 0.71713 to 0.70225, saving model to /home/ys587/__Data/__whistle/__whislte_30_species/__fit_result_species/20210217_162040/HICEAS2002/epoch_45_valloss_0.7023_valacc_0.7763.hdf5\n",
      "2160/2160 [==============================] - 70s 32ms/step - loss: 0.3052 - accuracy: 0.8609 - val_loss: 0.7023 - val_accuracy: 0.7763\n",
      "Epoch 46/200\n",
      "2160/2160 [==============================] - ETA: 0s - loss: 0.2980 - accuracy: 0.8643\n",
      "Epoch 00046: val_loss did not improve from 0.70225\n",
      "2160/2160 [==============================] - 70s 32ms/step - loss: 0.2980 - accuracy: 0.8643 - val_loss: 0.7349 - val_accuracy: 0.7650\n",
      "Epoch 47/200\n",
      "2159/2160 [============================>.] - ETA: 0s - loss: 0.2882 - accuracy: 0.8667\n",
      "Epoch 00047: val_loss did not improve from 0.70225\n",
      "2160/2160 [==============================] - 70s 32ms/step - loss: 0.2882 - accuracy: 0.8667 - val_loss: 0.8548 - val_accuracy: 0.7271\n",
      "Epoch 48/200\n",
      "2159/2160 [============================>.] - ETA: 0s - loss: 0.2741 - accuracy: 0.8724\n",
      "Epoch 00048: val_loss did not improve from 0.70225\n",
      "2160/2160 [==============================] - 70s 32ms/step - loss: 0.2741 - accuracy: 0.8724 - val_loss: 0.8436 - val_accuracy: 0.7409\n",
      "Epoch 49/200\n",
      "2160/2160 [==============================] - ETA: 0s - loss: 0.2742 - accuracy: 0.8740\n",
      "Epoch 00049: val_loss did not improve from 0.70225\n",
      "2160/2160 [==============================] - 70s 32ms/step - loss: 0.2742 - accuracy: 0.8740 - val_loss: 0.7859 - val_accuracy: 0.7489\n",
      "Epoch 50/200\n",
      "2159/2160 [============================>.] - ETA: 0s - loss: 0.2578 - accuracy: 0.8809\n",
      "Epoch 00050: val_loss did not improve from 0.70225\n",
      "2160/2160 [==============================] - 70s 32ms/step - loss: 0.2578 - accuracy: 0.8809 - val_loss: 0.7597 - val_accuracy: 0.7648\n",
      "Epoch 51/200\n",
      "2159/2160 [============================>.] - ETA: 0s - loss: 0.2505 - accuracy: 0.8838\n",
      "Epoch 00051: val_loss did not improve from 0.70225\n",
      "2160/2160 [==============================] - 70s 32ms/step - loss: 0.2505 - accuracy: 0.8838 - val_loss: 0.7639 - val_accuracy: 0.7753\n",
      "Epoch 52/200\n",
      "2159/2160 [============================>.] - ETA: 0s - loss: 0.2455 - accuracy: 0.8860\n",
      "Epoch 00052: val_loss did not improve from 0.70225\n",
      "2160/2160 [==============================] - 70s 32ms/step - loss: 0.2455 - accuracy: 0.8860 - val_loss: 0.7668 - val_accuracy: 0.7782\n",
      "Epoch 53/200\n",
      "2160/2160 [==============================] - ETA: 0s - loss: 0.2366 - accuracy: 0.8904\n",
      "Epoch 00053: val_loss did not improve from 0.70225\n",
      "2160/2160 [==============================] - 70s 32ms/step - loss: 0.2366 - accuracy: 0.8904 - val_loss: 0.8109 - val_accuracy: 0.7590\n",
      "Epoch 54/200\n",
      "2159/2160 [============================>.] - ETA: 0s - loss: 0.2315 - accuracy: 0.8918\n",
      "Epoch 00054: val_loss did not improve from 0.70225\n",
      "2160/2160 [==============================] - 70s 32ms/step - loss: 0.2316 - accuracy: 0.8918 - val_loss: 0.7497 - val_accuracy: 0.7785\n",
      "Epoch 55/200\n",
      "2159/2160 [============================>.] - ETA: 0s - loss: 0.2261 - accuracy: 0.8953\n",
      "Epoch 00055: val_loss did not improve from 0.70225\n",
      "2160/2160 [==============================] - 70s 32ms/step - loss: 0.2261 - accuracy: 0.8953 - val_loss: 0.7431 - val_accuracy: 0.7817\n",
      "Epoch 56/200\n",
      "2160/2160 [==============================] - ETA: 0s - loss: 0.2162 - accuracy: 0.8983\n",
      "Epoch 00056: val_loss did not improve from 0.70225\n",
      "2160/2160 [==============================] - 70s 32ms/step - loss: 0.2162 - accuracy: 0.8983 - val_loss: 0.7902 - val_accuracy: 0.7667\n",
      "Epoch 57/200\n",
      "2159/2160 [============================>.] - ETA: 0s - loss: 0.2069 - accuracy: 0.9030\n",
      "Epoch 00057: val_loss did not improve from 0.70225\n",
      "2160/2160 [==============================] - 70s 32ms/step - loss: 0.2069 - accuracy: 0.9030 - val_loss: 0.7719 - val_accuracy: 0.7715\n",
      "Epoch 58/200\n",
      "2160/2160 [==============================] - ETA: 0s - loss: 0.1994 - accuracy: 0.9075\n",
      "Epoch 00058: val_loss did not improve from 0.70225\n",
      "2160/2160 [==============================] - 70s 32ms/step - loss: 0.1994 - accuracy: 0.9075 - val_loss: 0.7748 - val_accuracy: 0.7776\n",
      "Epoch 59/200\n",
      "2159/2160 [============================>.] - ETA: 0s - loss: 0.1990 - accuracy: 0.9067\n",
      "Epoch 00059: val_loss did not improve from 0.70225\n",
      "2160/2160 [==============================] - 70s 32ms/step - loss: 0.1990 - accuracy: 0.9067 - val_loss: 0.7882 - val_accuracy: 0.7842\n",
      "Epoch 60/200\n",
      "2159/2160 [============================>.] - ETA: 0s - loss: 0.1960 - accuracy: 0.9083\n",
      "Epoch 00060: val_loss did not improve from 0.70225\n",
      "2160/2160 [==============================] - 70s 32ms/step - loss: 0.1961 - accuracy: 0.9083 - val_loss: 0.8088 - val_accuracy: 0.7802\n",
      "Epoch 61/200\n",
      "2159/2160 [============================>.] - ETA: 0s - loss: 0.1801 - accuracy: 0.9163\n",
      "Epoch 00061: val_loss did not improve from 0.70225\n",
      "2160/2160 [==============================] - 70s 32ms/step - loss: 0.1801 - accuracy: 0.9162 - val_loss: 0.7708 - val_accuracy: 0.7837\n",
      "Epoch 62/200\n",
      "2159/2160 [============================>.] - ETA: 0s - loss: 0.1765 - accuracy: 0.9174\n",
      "Epoch 00062: val_loss did not improve from 0.70225\n",
      "2160/2160 [==============================] - 70s 32ms/step - loss: 0.1765 - accuracy: 0.9174 - val_loss: 0.8591 - val_accuracy: 0.7736\n",
      "Epoch 63/200\n",
      "2159/2160 [============================>.] - ETA: 0s - loss: 0.1797 - accuracy: 0.9159\n",
      "Epoch 00063: val_loss did not improve from 0.70225\n",
      "2160/2160 [==============================] - 70s 32ms/step - loss: 0.1797 - accuracy: 0.9159 - val_loss: 0.7821 - val_accuracy: 0.7840\n",
      "Epoch 64/200\n",
      "2160/2160 [==============================] - ETA: 0s - loss: 0.1688 - accuracy: 0.9204\n",
      "Epoch 00064: val_loss did not improve from 0.70225\n",
      "2160/2160 [==============================] - 70s 32ms/step - loss: 0.1688 - accuracy: 0.9204 - val_loss: 0.8481 - val_accuracy: 0.7799\n",
      "Epoch 65/200\n",
      "2159/2160 [============================>.] - ETA: 0s - loss: 0.1633 - accuracy: 0.9248\n",
      "Epoch 00065: val_loss did not improve from 0.70225\n",
      "2160/2160 [==============================] - 70s 32ms/step - loss: 0.1633 - accuracy: 0.9248 - val_loss: 0.8308 - val_accuracy: 0.7894\n",
      "Epoch 00065: early stopping\n"
     ]
    }
   ],
   "source": [
    "model = model_cnn14_attention_multi(dim_time, dim_freq, num_species, model_type='feature_level_attention', conv_dim=conv_dim, pool_size=pool_size, pool_stride=pool_stride, hidden_units=hidden_units, l2_regu=l2_regu, drop_rate=drop_rate)\n",
    "loss = CategoricalCrossentropy()\n",
    "model.compile(optimizer=tf.keras.optimizers.Adam(learning_rate=learning_rate_fn), loss=loss, metrics=['accuracy'])\n",
    "\n",
    "# With classes\n",
    "# history = model.fit(fea_train, to_categorical(label_train), class_weight=class_weights, validation_split=0.3, batch_size=batch_size, epochs=num_epoch, callbacks=[EarlyStopping(patience=num_patience), ModelCheckpoint(filepath=os.path.join(fit_result_path, '{epoch:02d}-{val_loss:.4f}.hdf5'), verbose=1, monitor=\"val_loss\", save_best_only=True)])\n",
    "# history = model.fit(train_generator, validation_data=validate_generator, class_weight=class_weights, epochs=num_epoch, callbacks=[EarlyStopping(patience=num_patience, monitor='val_loss', mode='min', verbose=1), TensorBoard(log_dir=fit_result_path1), ModelCheckpoint(filepath=os.path.join(fit_result_path1, '{epoch:02d}-{val_loss:.4f}.hdf5'), verbose=1, monitor=\"val_loss\", save_best_only=True)])\n",
    "history = model.fit(train_generator, validation_data=validate_generator, class_weight=class_weights, epochs=num_epoch, callbacks=[EarlyStopping(patience=num_patience, monitor='val_loss', mode='min', verbose=1), TensorBoard(log_dir=fit_result_path2), ModelCheckpoint(filepath=os.path.join(fit_result_path2, 'epoch_{epoch:02d}_valloss_{val_loss:.4f}_valacc_{val_accuracy:.4f}.hdf5' ), verbose=1, monitor=\"val_loss\", save_best_only=True)])"
   ]
  },
  {
   "cell_type": "code",
   "execution_count": 102,
   "metadata": {},
   "outputs": [
    {
     "name": "stdout",
     "output_type": "stream",
     "text": [
      "Best model:0.7023\n",
      "/home/ys587/__Data/__whistle/__whislte_30_species/__fit_result_species/20210217_162040/HICEAS2002/epoch_45_valloss_0.7023_valacc_0.7763.hdf5\n"
     ]
    }
   ],
   "source": [
    "# fit_result_path1 = '/home/ys587/__Data/__whistle/__whislte_30_species/__fit_result_species/20210210_224527'\n",
    "the_best_model, _ = find_best_model(fit_result_path2, purge=False)"
   ]
  },
  {
   "cell_type": "code",
   "execution_count": 103,
   "metadata": {
    "scrolled": true
   },
   "outputs": [
    {
     "name": "stdout",
     "output_type": "stream",
     "text": [
      "Model: \"model_3\"\n",
      "__________________________________________________________________________________________________\n",
      "Layer (type)                    Output Shape         Param #     Connected to                     \n",
      "==================================================================================================\n",
      "input (InputLayer)              [(None, 100, 128, 1) 0                                            \n",
      "__________________________________________________________________________________________________\n",
      "conv2d_36 (Conv2D)              (None, 100, 128, 16) 160         input[0][0]                      \n",
      "__________________________________________________________________________________________________\n",
      "batch_normalization_48 (BatchNo (None, 100, 128, 16) 64          conv2d_36[0][0]                  \n",
      "__________________________________________________________________________________________________\n",
      "activation_48 (Activation)      (None, 100, 128, 16) 0           batch_normalization_48[0][0]     \n",
      "__________________________________________________________________________________________________\n",
      "conv2d_37 (Conv2D)              (None, 100, 128, 16) 2320        activation_48[0][0]              \n",
      "__________________________________________________________________________________________________\n",
      "batch_normalization_49 (BatchNo (None, 100, 128, 16) 64          conv2d_37[0][0]                  \n",
      "__________________________________________________________________________________________________\n",
      "activation_49 (Activation)      (None, 100, 128, 16) 0           batch_normalization_49[0][0]     \n",
      "__________________________________________________________________________________________________\n",
      "max_pooling2d_18 (MaxPooling2D) (None, 50, 64, 16)   0           activation_49[0][0]              \n",
      "__________________________________________________________________________________________________\n",
      "dropout_30 (Dropout)            (None, 50, 64, 16)   0           max_pooling2d_18[0][0]           \n",
      "__________________________________________________________________________________________________\n",
      "conv2d_38 (Conv2D)              (None, 50, 64, 32)   4640        dropout_30[0][0]                 \n",
      "__________________________________________________________________________________________________\n",
      "batch_normalization_50 (BatchNo (None, 50, 64, 32)   128         conv2d_38[0][0]                  \n",
      "__________________________________________________________________________________________________\n",
      "activation_50 (Activation)      (None, 50, 64, 32)   0           batch_normalization_50[0][0]     \n",
      "__________________________________________________________________________________________________\n",
      "conv2d_39 (Conv2D)              (None, 50, 64, 32)   9248        activation_50[0][0]              \n",
      "__________________________________________________________________________________________________\n",
      "batch_normalization_51 (BatchNo (None, 50, 64, 32)   128         conv2d_39[0][0]                  \n",
      "__________________________________________________________________________________________________\n",
      "activation_51 (Activation)      (None, 50, 64, 32)   0           batch_normalization_51[0][0]     \n",
      "__________________________________________________________________________________________________\n",
      "max_pooling2d_19 (MaxPooling2D) (None, 25, 32, 32)   0           activation_51[0][0]              \n",
      "__________________________________________________________________________________________________\n",
      "dropout_31 (Dropout)            (None, 25, 32, 32)   0           max_pooling2d_19[0][0]           \n",
      "__________________________________________________________________________________________________\n",
      "conv2d_40 (Conv2D)              (None, 25, 32, 64)   18496       dropout_31[0][0]                 \n",
      "__________________________________________________________________________________________________\n",
      "batch_normalization_52 (BatchNo (None, 25, 32, 64)   256         conv2d_40[0][0]                  \n",
      "__________________________________________________________________________________________________\n",
      "activation_52 (Activation)      (None, 25, 32, 64)   0           batch_normalization_52[0][0]     \n",
      "__________________________________________________________________________________________________\n",
      "conv2d_41 (Conv2D)              (None, 25, 32, 64)   36928       activation_52[0][0]              \n",
      "__________________________________________________________________________________________________\n",
      "batch_normalization_53 (BatchNo (None, 25, 32, 64)   256         conv2d_41[0][0]                  \n",
      "__________________________________________________________________________________________________\n",
      "activation_53 (Activation)      (None, 25, 32, 64)   0           batch_normalization_53[0][0]     \n",
      "__________________________________________________________________________________________________\n",
      "max_pooling2d_20 (MaxPooling2D) (None, 13, 16, 64)   0           activation_53[0][0]              \n",
      "__________________________________________________________________________________________________\n",
      "dropout_32 (Dropout)            (None, 13, 16, 64)   0           max_pooling2d_20[0][0]           \n",
      "__________________________________________________________________________________________________\n",
      "conv2d_42 (Conv2D)              (None, 13, 16, 128)  73856       dropout_32[0][0]                 \n",
      "__________________________________________________________________________________________________\n",
      "batch_normalization_54 (BatchNo (None, 13, 16, 128)  512         conv2d_42[0][0]                  \n",
      "__________________________________________________________________________________________________\n",
      "activation_54 (Activation)      (None, 13, 16, 128)  0           batch_normalization_54[0][0]     \n",
      "__________________________________________________________________________________________________\n",
      "conv2d_43 (Conv2D)              (None, 13, 16, 128)  147584      activation_54[0][0]              \n",
      "__________________________________________________________________________________________________\n",
      "batch_normalization_55 (BatchNo (None, 13, 16, 128)  512         conv2d_43[0][0]                  \n",
      "__________________________________________________________________________________________________\n",
      "activation_55 (Activation)      (None, 13, 16, 128)  0           batch_normalization_55[0][0]     \n",
      "__________________________________________________________________________________________________\n",
      "max_pooling2d_21 (MaxPooling2D) (None, 7, 8, 128)    0           activation_55[0][0]              \n",
      "__________________________________________________________________________________________________\n",
      "dropout_33 (Dropout)            (None, 7, 8, 128)    0           max_pooling2d_21[0][0]           \n",
      "__________________________________________________________________________________________________\n",
      "conv2d_44 (Conv2D)              (None, 7, 8, 256)    295168      dropout_33[0][0]                 \n",
      "__________________________________________________________________________________________________\n",
      "batch_normalization_56 (BatchNo (None, 7, 8, 256)    1024        conv2d_44[0][0]                  \n",
      "__________________________________________________________________________________________________\n",
      "activation_56 (Activation)      (None, 7, 8, 256)    0           batch_normalization_56[0][0]     \n",
      "__________________________________________________________________________________________________\n",
      "conv2d_45 (Conv2D)              (None, 7, 8, 256)    590080      activation_56[0][0]              \n",
      "__________________________________________________________________________________________________\n",
      "batch_normalization_57 (BatchNo (None, 7, 8, 256)    1024        conv2d_45[0][0]                  \n",
      "__________________________________________________________________________________________________\n",
      "activation_57 (Activation)      (None, 7, 8, 256)    0           batch_normalization_57[0][0]     \n",
      "__________________________________________________________________________________________________\n",
      "max_pooling2d_22 (MaxPooling2D) (None, 7, 4, 256)    0           activation_57[0][0]              \n",
      "__________________________________________________________________________________________________\n",
      "dropout_34 (Dropout)            (None, 7, 4, 256)    0           max_pooling2d_22[0][0]           \n",
      "__________________________________________________________________________________________________\n",
      "conv2d_46 (Conv2D)              (None, 7, 4, 512)    1180160     dropout_34[0][0]                 \n",
      "__________________________________________________________________________________________________\n",
      "batch_normalization_58 (BatchNo (None, 7, 4, 512)    2048        conv2d_46[0][0]                  \n",
      "__________________________________________________________________________________________________\n",
      "activation_58 (Activation)      (None, 7, 4, 512)    0           batch_normalization_58[0][0]     \n",
      "__________________________________________________________________________________________________\n",
      "conv2d_47 (Conv2D)              (None, 7, 4, 512)    2359808     activation_58[0][0]              \n",
      "__________________________________________________________________________________________________\n",
      "batch_normalization_59 (BatchNo (None, 7, 4, 512)    2048        conv2d_47[0][0]                  \n",
      "__________________________________________________________________________________________________\n",
      "activation_59 (Activation)      (None, 7, 4, 512)    0           batch_normalization_59[0][0]     \n",
      "__________________________________________________________________________________________________\n",
      "max_pooling2d_23 (MaxPooling2D) (None, 7, 2, 512)    0           activation_59[0][0]              \n",
      "__________________________________________________________________________________________________\n",
      "dropout_35 (Dropout)            (None, 7, 2, 512)    0           max_pooling2d_23[0][0]           \n",
      "__________________________________________________________________________________________________\n",
      "reshape_3 (Reshape)             (None, 7, 1024)      0           dropout_35[0][0]                 \n",
      "__________________________________________________________________________________________________\n",
      "dense_18 (Dense)                (None, 7, 512)       524800      reshape_3[0][0]                  \n",
      "__________________________________________________________________________________________________\n",
      "batch_normalization_60 (BatchNo (None, 7, 512)       2048        dense_18[0][0]                   \n",
      "__________________________________________________________________________________________________\n",
      "activation_60 (Activation)      (None, 7, 512)       0           batch_normalization_60[0][0]     \n",
      "__________________________________________________________________________________________________\n",
      "dropout_36 (Dropout)            (None, 7, 512)       0           activation_60[0][0]              \n",
      "__________________________________________________________________________________________________\n",
      "dense_19 (Dense)                (None, 7, 512)       262656      dropout_36[0][0]                 \n",
      "__________________________________________________________________________________________________\n",
      "batch_normalization_61 (BatchNo (None, 7, 512)       2048        dense_19[0][0]                   \n",
      "__________________________________________________________________________________________________\n",
      "activation_61 (Activation)      (None, 7, 512)       0           batch_normalization_61[0][0]     \n",
      "__________________________________________________________________________________________________\n",
      "dropout_37 (Dropout)            (None, 7, 512)       0           activation_61[0][0]              \n",
      "__________________________________________________________________________________________________\n",
      "dense_20 (Dense)                (None, 7, 512)       262656      dropout_37[0][0]                 \n",
      "__________________________________________________________________________________________________\n",
      "batch_normalization_62 (BatchNo (None, 7, 512)       2048        dense_20[0][0]                   \n",
      "__________________________________________________________________________________________________\n",
      "activation_62 (Activation)      (None, 7, 512)       0           batch_normalization_62[0][0]     \n",
      "__________________________________________________________________________________________________\n",
      "dropout_38 (Dropout)            (None, 7, 512)       0           activation_62[0][0]              \n",
      "__________________________________________________________________________________________________\n",
      "dense_21 (Dense)                (None, 7, 512)       262656      dropout_38[0][0]                 \n",
      "__________________________________________________________________________________________________\n",
      "dense_22 (Dense)                (None, 7, 512)       262656      dropout_38[0][0]                 \n",
      "__________________________________________________________________________________________________\n",
      "lambda_3 (Lambda)               (None, 512)          0           dense_21[0][0]                   \n",
      "                                                                 dense_22[0][0]                   \n",
      "__________________________________________________________________________________________________\n",
      "batch_normalization_63 (BatchNo (None, 512)          2048        lambda_3[0][0]                   \n",
      "__________________________________________________________________________________________________\n",
      "activation_63 (Activation)      (None, 512)          0           batch_normalization_63[0][0]     \n",
      "__________________________________________________________________________________________________\n",
      "dropout_39 (Dropout)            (None, 512)          0           activation_63[0][0]              \n",
      "__________________________________________________________________________________________________\n",
      "dense_23 (Dense)                (None, 8)            4104        dropout_39[0][0]                 \n",
      "==================================================================================================\n",
      "Total params: 6,314,232\n",
      "Trainable params: 6,306,104\n",
      "Non-trainable params: 8,128\n",
      "__________________________________________________________________________________________________\n"
     ]
    }
   ],
   "source": [
    "model = load_model(the_best_model)\n",
    "model.summary()"
   ]
  },
  {
   "cell_type": "code",
   "execution_count": 104,
   "metadata": {},
   "outputs": [],
   "source": [
    "label_pred = model.predict(fea_test)\n",
    "# label_pred = model.predict(test_generator)"
   ]
  },
  {
   "cell_type": "code",
   "execution_count": 105,
   "metadata": {},
   "outputs": [],
   "source": [
    "np.set_printoptions(linewidth=200, precision=2, suppress=True)"
   ]
  },
  {
   "cell_type": "code",
   "execution_count": 106,
   "metadata": {},
   "outputs": [
    {
     "name": "stdout",
     "output_type": "stream",
     "text": [
      "Confusion matrix:\n",
      "['BD', 'CD', 'STR', 'SPT', 'SPIN', 'PLT', 'RT', 'FKW']\n",
      "\n",
      "[[  0  13   6   7   0   0   6   9]\n",
      " [  0   0   0   0   0   0   0   0]\n",
      " [  9  47  99  32  26   1   1   1]\n",
      " [ 21  53  74 172  65   0   0   0]\n",
      " [  4   8  19   0   1   1  35  18]\n",
      " [ 24 315 151 115  13 258  13 163]\n",
      " [ 14 131 118   8  13   1 233 231]\n",
      " [  0   0   0   0   0   0   0   0]]\n",
      "\n",
      "[[0.   0.32 0.15 0.17 0.   0.   0.15 0.22]\n",
      " [0.   0.   0.   0.   0.   0.   0.   0.  ]\n",
      " [0.04 0.22 0.46 0.15 0.12 0.   0.   0.  ]\n",
      " [0.05 0.14 0.19 0.45 0.17 0.   0.   0.  ]\n",
      " [0.05 0.09 0.22 0.   0.01 0.01 0.41 0.21]\n",
      " [0.02 0.3  0.14 0.11 0.01 0.25 0.01 0.15]\n",
      " [0.02 0.17 0.16 0.01 0.02 0.   0.31 0.31]\n",
      " [0.   0.   0.   0.   0.   0.   0.   0.  ]]\n"
     ]
    }
   ],
   "source": [
    "print(\"Confusion matrix:\")\n",
    "cm = confusion_matrix(label_test, np.argmax(label_pred, axis=1), labels=species_id)\n",
    "\n",
    "print(species_list)\n",
    "print('')\n",
    "print(cm)\n",
    "print('')\n",
    "\n",
    "cm2 = cm*1.0\n",
    "for ii in range(cm.shape[0]):\n",
    "    cm_row = cm[ii, :]*1.0\n",
    "\n",
    "    cm_row_sum = cm_row.sum()\n",
    "    if cm_row_sum != 0:\n",
    "        cm2[ii, :] = cm_row / cm_row_sum\n",
    "    else:\n",
    "        cm2[ii, :] = np.zeros(cm.shape[1])\n",
    "\n",
    "print(cm2)"
   ]
  },
  {
   "cell_type": "code",
   "execution_count": 107,
   "metadata": {},
   "outputs": [],
   "source": [
    "from sklearn.metrics import plot_confusion_matrix\n",
    "from sklearn.metrics._plot.confusion_matrix import ConfusionMatrixDisplay\n",
    "disp = ConfusionMatrixDisplay(confusion_matrix=cm, display_labels=species_list)\n",
    "disp2 = ConfusionMatrixDisplay(confusion_matrix=cm2, display_labels=species_list)"
   ]
  },
  {
   "cell_type": "code",
   "execution_count": 108,
   "metadata": {},
   "outputs": [
    {
     "data": {
      "text/plain": [
       "<sklearn.metrics._plot.confusion_matrix.ConfusionMatrixDisplay at 0x7f5278fc6730>"
      ]
     },
     "execution_count": 108,
     "metadata": {},
     "output_type": "execute_result"
    },
    {
     "data": {
      "image/png": "[encoded data removed]",
      "text/plain": [
       "<Figure size 1080x1080 with 2 Axes>"
      ]
     },
     "metadata": {
      "needs_background": "light"
     },
     "output_type": "display_data"
    }
   ],
   "source": [
    "fig, ax = plt.subplots(figsize=[15, 15])\n",
    "disp.plot(include_values=True,\n",
    "                     cmap='viridis', ax=ax, xticks_rotation='horizontal',\n",
    "                     values_format=None, colorbar=True)\n"
   ]
  },
  {
   "cell_type": "code",
   "execution_count": 109,
   "metadata": {},
   "outputs": [
    {
     "data": {
      "text/plain": [
       "<sklearn.metrics._plot.confusion_matrix.ConfusionMatrixDisplay at 0x7f5278fc6610>"
      ]
     },
     "execution_count": 109,
     "metadata": {},
     "output_type": "execute_result"
    },
    {
     "data": {
      "image/png": "[encoded data removed]",
      "text/plain": [
       "<Figure size 1080x1080 with 2 Axes>"
      ]
     },
     "metadata": {
      "needs_background": "light"
     },
     "output_type": "display_data"
    }
   ],
   "source": [
    "fig, ax = plt.subplots(figsize=[15, 15])\n",
    "disp2.plot(include_values=True,\n",
    "                     cmap='viridis', ax=ax, xticks_rotation='horizontal',\n",
    "                     values_format='.2f', colorbar=True)"
   ]
  },
  {
   "cell_type": "markdown",
   "metadata": {},
   "source": [
    "## PICES2005"
   ]
  },
  {
   "cell_type": "code",
   "execution_count": 110,
   "metadata": {},
   "outputs": [
    {
     "name": "stdout",
     "output_type": "stream",
     "text": [
      "PICEAS2005\n"
     ]
    }
   ],
   "source": [
    "ee = deployment[4]\n",
    "print(ee)"
   ]
  },
  {
   "cell_type": "code",
   "execution_count": 111,
   "metadata": {},
   "outputs": [],
   "source": [
    "# Training data\n",
    "fea_temp = np.load(os.path.join(feature_path, 'train_oswald_no_'+ee+'.npz'))\n",
    "fea_train = fea_temp['fea_train']\n",
    "label_train_list = fea_temp['label_train']\n",
    "del fea_temp"
   ]
  },
  {
   "cell_type": "code",
   "execution_count": 112,
   "metadata": {},
   "outputs": [],
   "source": [
    "label_train = np.zeros(len(label_train_list))\n",
    "for ii in range(len(label_train_list)):\n",
    "    label_train[ii] = species_dict[label_train_list[ii]]"
   ]
  },
  {
   "cell_type": "code",
   "execution_count": 113,
   "metadata": {},
   "outputs": [],
   "source": [
    "# Testing data\n",
    "fea_temp = np.load(os.path.join(feature_path, 'oswald_'+ee+'_orig.npz'))\n",
    "fea_test = fea_temp['feas_orig']\n",
    "label_test_list = fea_temp['labels_orig']\n",
    "\n",
    "fea_test = fea_test[:,:100,:]\n",
    "label_test = np.zeros(len(label_test_list))\n",
    "for ii in range(len(label_test_list)):\n",
    "    label_test[ii] = species_dict[label_test_list[ii]]"
   ]
  },
  {
   "cell_type": "code",
   "execution_count": 114,
   "metadata": {},
   "outputs": [],
   "source": [
    "fea_train = fea_train[:,:100,:]"
   ]
  },
  {
   "cell_type": "code",
   "execution_count": 115,
   "metadata": {},
   "outputs": [],
   "source": [
    "label_train = np.zeros(len(label_train_list))\n",
    "for ii in range(len(label_train_list)):\n",
    "    label_train[ii] = species_dict[label_train_list[ii]]"
   ]
  },
  {
   "cell_type": "code",
   "execution_count": 116,
   "metadata": {
    "scrolled": true
   },
   "outputs": [
    {
     "data": {
      "text/plain": [
       "Counter({'BD': 2358,\n",
       "         'CD': 28440,\n",
       "         'PLT': 10290,\n",
       "         'RT': 5226,\n",
       "         'SPIN': 3780,\n",
       "         'SPT': 10734,\n",
       "         'STR': 12960,\n",
       "         'FKW': 7038})"
      ]
     },
     "execution_count": 116,
     "metadata": {},
     "output_type": "execute_result"
    }
   ],
   "source": [
    "Counter(label_train_list)"
   ]
  },
  {
   "cell_type": "code",
   "execution_count": 117,
   "metadata": {},
   "outputs": [
    {
     "data": {
      "text/plain": [
       "Counter({0.0: 1518,\n",
       "         7.0: 2007,\n",
       "         5.0: 292,\n",
       "         6.0: 440,\n",
       "         4.0: 405,\n",
       "         3.0: 482,\n",
       "         2.0: 372})"
      ]
     },
     "execution_count": 117,
     "metadata": {},
     "output_type": "execute_result"
    }
   ],
   "source": [
    "Counter(label_test.tolist())"
   ]
  },
  {
   "cell_type": "code",
   "execution_count": 118,
   "metadata": {},
   "outputs": [],
   "source": [
    "fit_result_path2 = os.path.join(fit_result_path1, ee)\n",
    "if not os.path.exists(fit_result_path2):\n",
    "    makedirs(fit_result_path2)"
   ]
  },
  {
   "cell_type": "code",
   "execution_count": 119,
   "metadata": {},
   "outputs": [
    {
     "name": "stdout",
     "output_type": "stream",
     "text": [
      "feature train shape: (80826, 100, 128)\n",
      "feature test shape: (5516, 100, 128)\n",
      "label train shape: (80826,)\n",
      "label test shape: (5516,)\n",
      "dim_time: 100\n",
      "dim_freq: 128\n"
     ]
    }
   ],
   "source": [
    "print('feature train shape: '+str(fea_train.shape))\n",
    "print('feature test shape: '+str(fea_test.shape))\n",
    "print('label train shape: '+str(label_train.shape))\n",
    "print('label test shape: '+str(label_test.shape))\n",
    "\n",
    "dim_time = fea_train.shape[1]\n",
    "dim_freq = fea_train.shape[2]\n",
    "print('dim_time: '+str(dim_time))\n",
    "print('dim_freq: '+str(dim_freq))"
   ]
  },
  {
   "cell_type": "code",
   "execution_count": 120,
   "metadata": {},
   "outputs": [],
   "source": [
    "# shuffle features & labels\n",
    "fea_train, label_train = shuffle(fea_train, label_train, random_state=0)\n",
    "fea_test, label_test = shuffle(fea_test, label_test, random_state=0)"
   ]
  },
  {
   "cell_type": "code",
   "execution_count": 121,
   "metadata": {},
   "outputs": [],
   "source": [
    "# class weight\n",
    "weights = compute_class_weight(class_weight='balanced', classes=np.unique(label_train), y=label_train)\n",
    "\n",
    "class_weights = dict()\n",
    "for ii in range(num_species):\n",
    "    class_weights[ii] = weights[ii]"
   ]
  },
  {
   "cell_type": "code",
   "execution_count": 122,
   "metadata": {},
   "outputs": [],
   "source": [
    "fea_train = np.expand_dims(fea_train, axis=3)\n",
    "fea_test = np.expand_dims(fea_test, axis=3)"
   ]
  },
  {
   "cell_type": "code",
   "execution_count": 123,
   "metadata": {},
   "outputs": [],
   "source": [
    "fea_train, fea_validate, label_train, label_validate = train_test_split(fea_train, label_train, test_size=0.30, random_state=42)\n",
    "\n",
    "train_generator = DataGenerator(fea_train, label_train, batch_size=batch_size, num_classes=num_species)\n",
    "del fea_train\n",
    "validate_generator = DataGenerator(fea_validate, label_validate, batch_size=batch_size, num_classes=num_species)\n",
    "del fea_validate\n",
    "\n",
    "# test_generator = DataGenerator(fea_test, label_test, batch_size=batch_size, num_classes=num_species)\n"
   ]
  },
  {
   "cell_type": "markdown",
   "metadata": {},
   "source": [
    "### Training the model"
   ]
  },
  {
   "cell_type": "code",
   "execution_count": 124,
   "metadata": {
    "scrolled": true
   },
   "outputs": [
    {
     "name": "stdout",
     "output_type": "stream",
     "text": [
      "Epoch 1/200\n",
      "   2/1768 [..............................] - ETA: 4:05 - loss: 2.3126 - accuracy: 0.1094WARNING:tensorflow:Method (on_train_batch_end) is slow compared to the batch update (0.126304). Check your callbacks.\n",
      "1768/1768 [==============================] - ETA: 0s - loss: 2.0857 - accuracy: 0.1244\n",
      "Epoch 00001: val_loss improved from inf to 2.10207, saving model to /home/ys587/__Data/__whistle/__whislte_30_species/__fit_result_species/20210217_162040/PICEAS2005/epoch_01_valloss_2.1021_valacc_0.0360.hdf5\n",
      "1768/1768 [==============================] - 58s 33ms/step - loss: 2.0857 - accuracy: 0.1244 - val_loss: 2.1021 - val_accuracy: 0.0360\n",
      "Epoch 2/200\n",
      "1767/1768 [============================>.] - ETA: 0s - loss: 1.8756 - accuracy: 0.2208\n",
      "Epoch 00002: val_loss improved from 2.10207 to 1.75405, saving model to /home/ys587/__Data/__whistle/__whislte_30_species/__fit_result_species/20210217_162040/PICEAS2005/epoch_02_valloss_1.7540_valacc_0.2478.hdf5\n",
      "1768/1768 [==============================] - 57s 32ms/step - loss: 1.8756 - accuracy: 0.2209 - val_loss: 1.7540 - val_accuracy: 0.2478\n",
      "Epoch 3/200\n",
      "1767/1768 [============================>.] - ETA: 0s - loss: 1.5088 - accuracy: 0.4069\n",
      "Epoch 00003: val_loss improved from 1.75405 to 1.31164, saving model to /home/ys587/__Data/__whistle/__whislte_30_species/__fit_result_species/20210217_162040/PICEAS2005/epoch_03_valloss_1.3116_valacc_0.5080.hdf5\n",
      "1768/1768 [==============================] - 57s 32ms/step - loss: 1.5087 - accuracy: 0.4069 - val_loss: 1.3116 - val_accuracy: 0.5080\n",
      "Epoch 4/200\n",
      "1767/1768 [============================>.] - ETA: 0s - loss: 1.3206 - accuracy: 0.4931\n",
      "Epoch 00004: val_loss did not improve from 1.31164\n",
      "1768/1768 [==============================] - 57s 32ms/step - loss: 1.3206 - accuracy: 0.4931 - val_loss: 1.3937 - val_accuracy: 0.4842\n",
      "Epoch 5/200\n",
      "1767/1768 [============================>.] - ETA: 0s - loss: 1.2213 - accuracy: 0.5265\n",
      "Epoch 00005: val_loss did not improve from 1.31164\n",
      "1768/1768 [==============================] - 57s 32ms/step - loss: 1.2212 - accuracy: 0.5264 - val_loss: 1.4432 - val_accuracy: 0.4761\n",
      "Epoch 6/200\n",
      "1767/1768 [============================>.] - ETA: 0s - loss: 1.1601 - accuracy: 0.5471\n",
      "Epoch 00006: val_loss did not improve from 1.31164\n",
      "1768/1768 [==============================] - 56s 32ms/step - loss: 1.1599 - accuracy: 0.5471 - val_loss: 1.3795 - val_accuracy: 0.4872\n",
      "Epoch 7/200\n",
      "1767/1768 [============================>.] - ETA: 0s - loss: 1.0991 - accuracy: 0.5646\n",
      "Epoch 00007: val_loss did not improve from 1.31164\n",
      "1768/1768 [==============================] - 57s 32ms/step - loss: 1.0990 - accuracy: 0.5647 - val_loss: 1.5217 - val_accuracy: 0.4432\n",
      "Epoch 8/200\n",
      "1767/1768 [============================>.] - ETA: 0s - loss: 1.0555 - accuracy: 0.5773\n",
      "Epoch 00008: val_loss improved from 1.31164 to 1.24581, saving model to /home/ys587/__Data/__whistle/__whislte_30_species/__fit_result_species/20210217_162040/PICEAS2005/epoch_08_valloss_1.2458_valacc_0.5297.hdf5\n",
      "1768/1768 [==============================] - 57s 32ms/step - loss: 1.0553 - accuracy: 0.5773 - val_loss: 1.2458 - val_accuracy: 0.5297\n",
      "Epoch 9/200\n",
      "1767/1768 [============================>.] - ETA: 0s - loss: 1.0113 - accuracy: 0.5917\n",
      "Epoch 00009: val_loss improved from 1.24581 to 1.08600, saving model to /home/ys587/__Data/__whistle/__whislte_30_species/__fit_result_species/20210217_162040/PICEAS2005/epoch_09_valloss_1.0860_valacc_0.5864.hdf5\n",
      "1768/1768 [==============================] - 57s 32ms/step - loss: 1.0114 - accuracy: 0.5917 - val_loss: 1.0860 - val_accuracy: 0.5864\n",
      "Epoch 10/200\n",
      "1767/1768 [============================>.] - ETA: 0s - loss: 0.9725 - accuracy: 0.6039\n",
      "Epoch 00010: val_loss improved from 1.08600 to 1.07457, saving model to /home/ys587/__Data/__whistle/__whislte_30_species/__fit_result_species/20210217_162040/PICEAS2005/epoch_10_valloss_1.0746_valacc_0.5917.hdf5\n",
      "1768/1768 [==============================] - 57s 32ms/step - loss: 0.9724 - accuracy: 0.6039 - val_loss: 1.0746 - val_accuracy: 0.5917\n",
      "Epoch 11/200\n",
      "1767/1768 [============================>.] - ETA: 0s - loss: 0.9331 - accuracy: 0.6157\n",
      "Epoch 00011: val_loss did not improve from 1.07457\n",
      "1768/1768 [==============================] - 57s 32ms/step - loss: 0.9334 - accuracy: 0.6157 - val_loss: 1.0979 - val_accuracy: 0.5881\n",
      "Epoch 12/200\n",
      "1767/1768 [============================>.] - ETA: 0s - loss: 0.8986 - accuracy: 0.6257\n",
      "Epoch 00012: val_loss did not improve from 1.07457\n",
      "1768/1768 [==============================] - 56s 32ms/step - loss: 0.8985 - accuracy: 0.6258 - val_loss: 1.0926 - val_accuracy: 0.5940\n",
      "Epoch 13/200\n",
      "1767/1768 [============================>.] - ETA: 0s - loss: 0.8691 - accuracy: 0.6323\n",
      "Epoch 00013: val_loss did not improve from 1.07457\n",
      "1768/1768 [==============================] - 57s 32ms/step - loss: 0.8690 - accuracy: 0.6323 - val_loss: 1.1220 - val_accuracy: 0.5873\n",
      "Epoch 14/200\n",
      "1767/1768 [============================>.] - ETA: 0s - loss: 0.8347 - accuracy: 0.6460\n",
      "Epoch 00014: val_loss improved from 1.07457 to 1.02816, saving model to /home/ys587/__Data/__whistle/__whislte_30_species/__fit_result_species/20210217_162040/PICEAS2005/epoch_14_valloss_1.0282_valacc_0.6106.hdf5\n",
      "1768/1768 [==============================] - 57s 32ms/step - loss: 0.8347 - accuracy: 0.6459 - val_loss: 1.0282 - val_accuracy: 0.6106\n",
      "Epoch 15/200\n",
      "1768/1768 [==============================] - ETA: 0s - loss: 0.8058 - accuracy: 0.6510\n",
      "Epoch 00015: val_loss improved from 1.02816 to 0.91502, saving model to /home/ys587/__Data/__whistle/__whislte_30_species/__fit_result_species/20210217_162040/PICEAS2005/epoch_15_valloss_0.9150_valacc_0.6550.hdf5\n",
      "1768/1768 [==============================] - 57s 32ms/step - loss: 0.8058 - accuracy: 0.6510 - val_loss: 0.9150 - val_accuracy: 0.6550\n",
      "Epoch 16/200\n",
      "1768/1768 [==============================] - ETA: 0s - loss: 0.7796 - accuracy: 0.6600\n",
      "Epoch 00016: val_loss did not improve from 0.91502\n",
      "1768/1768 [==============================] - 57s 32ms/step - loss: 0.7796 - accuracy: 0.6600 - val_loss: 1.0495 - val_accuracy: 0.6437\n",
      "Epoch 17/200\n",
      "1767/1768 [============================>.] - ETA: 0s - loss: 0.7510 - accuracy: 0.6679\n",
      "Epoch 00017: val_loss did not improve from 0.91502\n",
      "1768/1768 [==============================] - 57s 32ms/step - loss: 0.7509 - accuracy: 0.6680 - val_loss: 1.0150 - val_accuracy: 0.6158\n",
      "Epoch 18/200\n",
      "1767/1768 [============================>.] - ETA: 0s - loss: 0.7219 - accuracy: 0.6783\n",
      "Epoch 00018: val_loss improved from 0.91502 to 0.91320, saving model to /home/ys587/__Data/__whistle/__whislte_30_species/__fit_result_species/20210217_162040/PICEAS2005/epoch_18_valloss_0.9132_valacc_0.6663.hdf5\n",
      "1768/1768 [==============================] - 57s 32ms/step - loss: 0.7219 - accuracy: 0.6784 - val_loss: 0.9132 - val_accuracy: 0.6663\n",
      "Epoch 19/200\n",
      "1767/1768 [============================>.] - ETA: 0s - loss: 0.6974 - accuracy: 0.6849\n",
      "Epoch 00019: val_loss did not improve from 0.91320\n",
      "1768/1768 [==============================] - 57s 32ms/step - loss: 0.6976 - accuracy: 0.6850 - val_loss: 1.1602 - val_accuracy: 0.5587\n",
      "Epoch 20/200\n",
      "1768/1768 [==============================] - ETA: 0s - loss: 0.6807 - accuracy: 0.6913\n",
      "Epoch 00020: val_loss improved from 0.91320 to 0.88444, saving model to /home/ys587/__Data/__whistle/__whislte_30_species/__fit_result_species/20210217_162040/PICEAS2005/epoch_20_valloss_0.8844_valacc_0.6762.hdf5\n",
      "1768/1768 [==============================] - 57s 32ms/step - loss: 0.6807 - accuracy: 0.6913 - val_loss: 0.8844 - val_accuracy: 0.6762\n",
      "Epoch 21/200\n",
      "1767/1768 [============================>.] - ETA: 0s - loss: 0.6495 - accuracy: 0.7012\n",
      "Epoch 00021: val_loss did not improve from 0.88444\n",
      "1768/1768 [==============================] - 57s 32ms/step - loss: 0.6496 - accuracy: 0.7012 - val_loss: 1.0389 - val_accuracy: 0.6241\n",
      "Epoch 22/200\n",
      "1767/1768 [============================>.] - ETA: 0s - loss: 0.6286 - accuracy: 0.7055\n",
      "Epoch 00022: val_loss improved from 0.88444 to 0.83562, saving model to /home/ys587/__Data/__whistle/__whislte_30_species/__fit_result_species/20210217_162040/PICEAS2005/epoch_22_valloss_0.8356_valacc_0.6892.hdf5\n",
      "1768/1768 [==============================] - 57s 32ms/step - loss: 0.6286 - accuracy: 0.7054 - val_loss: 0.8356 - val_accuracy: 0.6892\n",
      "Epoch 23/200\n",
      "1767/1768 [============================>.] - ETA: 0s - loss: 0.6082 - accuracy: 0.7116\n",
      "Epoch 00023: val_loss did not improve from 0.83562\n",
      "1768/1768 [==============================] - 56s 32ms/step - loss: 0.6082 - accuracy: 0.7116 - val_loss: 0.9337 - val_accuracy: 0.6602\n",
      "Epoch 24/200\n",
      "1768/1768 [==============================] - ETA: 0s - loss: 0.5803 - accuracy: 0.7220\n",
      "Epoch 00024: val_loss did not improve from 0.83562\n",
      "1768/1768 [==============================] - 57s 32ms/step - loss: 0.5803 - accuracy: 0.7220 - val_loss: 0.9263 - val_accuracy: 0.6556\n",
      "Epoch 25/200\n",
      "1767/1768 [============================>.] - ETA: 0s - loss: 0.5668 - accuracy: 0.7279\n",
      "Epoch 00025: val_loss did not improve from 0.83562\n",
      "1768/1768 [==============================] - 57s 32ms/step - loss: 0.5667 - accuracy: 0.7280 - val_loss: 0.8561 - val_accuracy: 0.6971\n",
      "Epoch 26/200\n",
      "1767/1768 [============================>.] - ETA: 0s - loss: 0.5530 - accuracy: 0.7332\n",
      "Epoch 00026: val_loss improved from 0.83562 to 0.82889, saving model to /home/ys587/__Data/__whistle/__whislte_30_species/__fit_result_species/20210217_162040/PICEAS2005/epoch_26_valloss_0.8289_valacc_0.7008.hdf5\n",
      "1768/1768 [==============================] - 57s 32ms/step - loss: 0.5531 - accuracy: 0.7331 - val_loss: 0.8289 - val_accuracy: 0.7008\n",
      "Epoch 27/200\n",
      "1768/1768 [==============================] - ETA: 0s - loss: 0.5279 - accuracy: 0.7406\n",
      "Epoch 00027: val_loss did not improve from 0.82889\n",
      "1768/1768 [==============================] - 57s 32ms/step - loss: 0.5279 - accuracy: 0.7406 - val_loss: 0.9938 - val_accuracy: 0.6413\n",
      "Epoch 28/200\n",
      "1767/1768 [============================>.] - ETA: 0s - loss: 0.5144 - accuracy: 0.7460\n",
      "Epoch 00028: val_loss did not improve from 0.82889\n",
      "1768/1768 [==============================] - 57s 32ms/step - loss: 0.5144 - accuracy: 0.7460 - val_loss: 0.9211 - val_accuracy: 0.6758\n",
      "Epoch 29/200\n",
      "1767/1768 [============================>.] - ETA: 0s - loss: 0.5015 - accuracy: 0.7505\n",
      "Epoch 00029: val_loss improved from 0.82889 to 0.79625, saving model to /home/ys587/__Data/__whistle/__whislte_30_species/__fit_result_species/20210217_162040/PICEAS2005/epoch_29_valloss_0.7962_valacc_0.7117.hdf5\n",
      "1768/1768 [==============================] - 57s 32ms/step - loss: 0.5016 - accuracy: 0.7505 - val_loss: 0.7962 - val_accuracy: 0.7117\n",
      "Epoch 30/200\n",
      "1767/1768 [============================>.] - ETA: 0s - loss: 0.4808 - accuracy: 0.7581\n",
      "Epoch 00030: val_loss improved from 0.79625 to 0.78059, saving model to /home/ys587/__Data/__whistle/__whislte_30_species/__fit_result_species/20210217_162040/PICEAS2005/epoch_30_valloss_0.7806_valacc_0.7353.hdf5\n",
      "1768/1768 [==============================] - 57s 32ms/step - loss: 0.4807 - accuracy: 0.7581 - val_loss: 0.7806 - val_accuracy: 0.7353\n",
      "Epoch 31/200\n",
      "1767/1768 [============================>.] - ETA: 0s - loss: 0.4719 - accuracy: 0.7647\n",
      "Epoch 00031: val_loss did not improve from 0.78059\n",
      "1768/1768 [==============================] - 57s 32ms/step - loss: 0.4721 - accuracy: 0.7647 - val_loss: 0.8874 - val_accuracy: 0.7069\n",
      "Epoch 32/200\n",
      "1767/1768 [============================>.] - ETA: 0s - loss: 0.4525 - accuracy: 0.7684\n",
      "Epoch 00032: val_loss improved from 0.78059 to 0.77813, saving model to /home/ys587/__Data/__whistle/__whislte_30_species/__fit_result_species/20210217_162040/PICEAS2005/epoch_32_valloss_0.7781_valacc_0.7357.hdf5\n",
      "1768/1768 [==============================] - 57s 32ms/step - loss: 0.4527 - accuracy: 0.7684 - val_loss: 0.7781 - val_accuracy: 0.7357\n",
      "Epoch 33/200\n",
      "1767/1768 [============================>.] - ETA: 0s - loss: 0.4359 - accuracy: 0.7742\n",
      "Epoch 00033: val_loss did not improve from 0.77813\n",
      "1768/1768 [==============================] - 57s 32ms/step - loss: 0.4360 - accuracy: 0.7742 - val_loss: 0.8378 - val_accuracy: 0.7075\n",
      "Epoch 34/200\n",
      "1767/1768 [============================>.] - ETA: 0s - loss: 0.4278 - accuracy: 0.7794\n",
      "Epoch 00034: val_loss did not improve from 0.77813\n",
      "1768/1768 [==============================] - 56s 32ms/step - loss: 0.4277 - accuracy: 0.7794 - val_loss: 0.8062 - val_accuracy: 0.7208\n",
      "Epoch 35/200\n",
      "1767/1768 [============================>.] - ETA: 0s - loss: 0.4156 - accuracy: 0.7823\n",
      "Epoch 00035: val_loss did not improve from 0.77813\n",
      "1768/1768 [==============================] - 57s 32ms/step - loss: 0.4156 - accuracy: 0.7822 - val_loss: 0.8572 - val_accuracy: 0.6985\n",
      "Epoch 36/200\n",
      "1767/1768 [============================>.] - ETA: 0s - loss: 0.4034 - accuracy: 0.7882\n",
      "Epoch 00036: val_loss did not improve from 0.77813\n",
      "1768/1768 [==============================] - 57s 32ms/step - loss: 0.4033 - accuracy: 0.7882 - val_loss: 0.8477 - val_accuracy: 0.7069\n",
      "Epoch 37/200\n",
      "1767/1768 [============================>.] - ETA: 0s - loss: 0.3895 - accuracy: 0.7950\n",
      "Epoch 00037: val_loss improved from 0.77813 to 0.72829, saving model to /home/ys587/__Data/__whistle/__whislte_30_species/__fit_result_species/20210217_162040/PICEAS2005/epoch_37_valloss_0.7283_valacc_0.7519.hdf5\n",
      "1768/1768 [==============================] - 57s 32ms/step - loss: 0.3896 - accuracy: 0.7950 - val_loss: 0.7283 - val_accuracy: 0.7519\n",
      "Epoch 38/200\n",
      "1767/1768 [============================>.] - ETA: 0s - loss: 0.3718 - accuracy: 0.8020\n",
      "Epoch 00038: val_loss did not improve from 0.72829\n",
      "1768/1768 [==============================] - 57s 32ms/step - loss: 0.3718 - accuracy: 0.8019 - val_loss: 0.9801 - val_accuracy: 0.6703\n",
      "Epoch 39/200\n",
      "1767/1768 [============================>.] - ETA: 0s - loss: 0.3709 - accuracy: 0.8008\n",
      "Epoch 00039: val_loss did not improve from 0.72829\n",
      "1768/1768 [==============================] - 57s 32ms/step - loss: 0.3709 - accuracy: 0.8008 - val_loss: 0.8146 - val_accuracy: 0.7165\n",
      "Epoch 40/200\n",
      "1767/1768 [============================>.] - ETA: 0s - loss: 0.3579 - accuracy: 0.8085\n",
      "Epoch 00040: val_loss did not improve from 0.72829\n",
      "1768/1768 [==============================] - 57s 32ms/step - loss: 0.3579 - accuracy: 0.8084 - val_loss: 0.9247 - val_accuracy: 0.7008\n",
      "Epoch 41/200\n",
      "1767/1768 [============================>.] - ETA: 0s - loss: 0.3409 - accuracy: 0.8144\n",
      "Epoch 00041: val_loss did not improve from 0.72829\n",
      "1768/1768 [==============================] - 57s 32ms/step - loss: 0.3409 - accuracy: 0.8144 - val_loss: 0.8305 - val_accuracy: 0.7250\n",
      "Epoch 42/200\n",
      "1767/1768 [============================>.] - ETA: 0s - loss: 0.3366 - accuracy: 0.8151\n",
      "Epoch 00042: val_loss did not improve from 0.72829\n",
      "1768/1768 [==============================] - 57s 32ms/step - loss: 0.3367 - accuracy: 0.8151 - val_loss: 0.9023 - val_accuracy: 0.7071\n",
      "Epoch 43/200\n",
      "1767/1768 [============================>.] - ETA: 0s - loss: 0.3213 - accuracy: 0.8217\n",
      "Epoch 00043: val_loss did not improve from 0.72829\n",
      "1768/1768 [==============================] - 57s 32ms/step - loss: 0.3214 - accuracy: 0.8216 - val_loss: 0.8159 - val_accuracy: 0.7398\n",
      "Epoch 44/200\n",
      "1767/1768 [============================>.] - ETA: 0s - loss: 0.3141 - accuracy: 0.8268\n",
      "Epoch 00044: val_loss did not improve from 0.72829\n",
      "1768/1768 [==============================] - 57s 32ms/step - loss: 0.3141 - accuracy: 0.8268 - val_loss: 0.8264 - val_accuracy: 0.7398\n",
      "Epoch 45/200\n",
      "1767/1768 [============================>.] - ETA: 0s - loss: 0.3110 - accuracy: 0.8295\n",
      "Epoch 00045: val_loss did not improve from 0.72829\n",
      "1768/1768 [==============================] - 56s 32ms/step - loss: 0.3109 - accuracy: 0.8295 - val_loss: 0.7714 - val_accuracy: 0.7464\n",
      "Epoch 46/200\n",
      "1767/1768 [============================>.] - ETA: 0s - loss: 0.2948 - accuracy: 0.8360\n",
      "Epoch 00046: val_loss did not improve from 0.72829\n",
      "1768/1768 [==============================] - 56s 32ms/step - loss: 0.2949 - accuracy: 0.8360 - val_loss: 0.8389 - val_accuracy: 0.7256\n",
      "Epoch 47/200\n",
      "1767/1768 [============================>.] - ETA: 0s - loss: 0.2880 - accuracy: 0.8391\n",
      "Epoch 00047: val_loss did not improve from 0.72829\n",
      "1768/1768 [==============================] - 57s 32ms/step - loss: 0.2880 - accuracy: 0.8392 - val_loss: 0.7836 - val_accuracy: 0.7455\n",
      "Epoch 48/200\n",
      "1767/1768 [============================>.] - ETA: 0s - loss: 0.2855 - accuracy: 0.8404\n",
      "Epoch 00048: val_loss did not improve from 0.72829\n",
      "1768/1768 [==============================] - 57s 32ms/step - loss: 0.2855 - accuracy: 0.8403 - val_loss: 0.8439 - val_accuracy: 0.7370\n",
      "Epoch 49/200\n",
      "1768/1768 [==============================] - ETA: 0s - loss: 0.2668 - accuracy: 0.8486\n",
      "Epoch 00049: val_loss did not improve from 0.72829\n",
      "1768/1768 [==============================] - 57s 32ms/step - loss: 0.2668 - accuracy: 0.8486 - val_loss: 0.8691 - val_accuracy: 0.7442\n",
      "Epoch 50/200\n",
      "1767/1768 [============================>.] - ETA: 0s - loss: 0.2682 - accuracy: 0.8472\n",
      "Epoch 00050: val_loss did not improve from 0.72829\n",
      "1768/1768 [==============================] - 56s 32ms/step - loss: 0.2682 - accuracy: 0.8472 - val_loss: 0.7928 - val_accuracy: 0.7534\n",
      "Epoch 51/200\n",
      "1767/1768 [============================>.] - ETA: 0s - loss: 0.2634 - accuracy: 0.8537\n",
      "Epoch 00051: val_loss did not improve from 0.72829\n",
      "1768/1768 [==============================] - 57s 32ms/step - loss: 0.2635 - accuracy: 0.8537 - val_loss: 0.8596 - val_accuracy: 0.7327\n",
      "Epoch 52/200\n",
      "1767/1768 [============================>.] - ETA: 0s - loss: 0.2540 - accuracy: 0.8550\n",
      "Epoch 00052: val_loss did not improve from 0.72829\n",
      "1768/1768 [==============================] - 57s 32ms/step - loss: 0.2539 - accuracy: 0.8550 - val_loss: 0.8736 - val_accuracy: 0.7269\n",
      "Epoch 53/200\n",
      "1767/1768 [============================>.] - ETA: 0s - loss: 0.2432 - accuracy: 0.8585\n",
      "Epoch 00053: val_loss did not improve from 0.72829\n",
      "1768/1768 [==============================] - 57s 32ms/step - loss: 0.2434 - accuracy: 0.8585 - val_loss: 0.7906 - val_accuracy: 0.7595\n",
      "Epoch 54/200\n",
      "1767/1768 [============================>.] - ETA: 0s - loss: 0.2394 - accuracy: 0.8635\n",
      "Epoch 00054: val_loss did not improve from 0.72829\n",
      "1768/1768 [==============================] - 56s 32ms/step - loss: 0.2394 - accuracy: 0.8635 - val_loss: 0.9197 - val_accuracy: 0.7228\n",
      "Epoch 55/200\n",
      "1767/1768 [============================>.] - ETA: 0s - loss: 0.2327 - accuracy: 0.8658\n",
      "Epoch 00055: val_loss did not improve from 0.72829\n",
      "1768/1768 [==============================] - 57s 32ms/step - loss: 0.2327 - accuracy: 0.8658 - val_loss: 0.8504 - val_accuracy: 0.7586\n",
      "Epoch 56/200\n",
      "1767/1768 [============================>.] - ETA: 0s - loss: 0.2228 - accuracy: 0.8709\n",
      "Epoch 00056: val_loss did not improve from 0.72829\n",
      "1768/1768 [==============================] - 57s 32ms/step - loss: 0.2228 - accuracy: 0.8709 - val_loss: 0.8414 - val_accuracy: 0.7554\n",
      "Epoch 57/200\n",
      "1767/1768 [============================>.] - ETA: 0s - loss: 0.2183 - accuracy: 0.8742\n",
      "Epoch 00057: val_loss did not improve from 0.72829\n",
      "1768/1768 [==============================] - 57s 32ms/step - loss: 0.2183 - accuracy: 0.8742 - val_loss: 0.8516 - val_accuracy: 0.7490\n",
      "Epoch 00057: early stopping\n"
     ]
    }
   ],
   "source": [
    "model = model_cnn14_attention_multi(dim_time, dim_freq, num_species, model_type='feature_level_attention', conv_dim=conv_dim, pool_size=pool_size, pool_stride=pool_stride, hidden_units=hidden_units, l2_regu=l2_regu, drop_rate=drop_rate)\n",
    "loss = CategoricalCrossentropy()\n",
    "model.compile(optimizer=tf.keras.optimizers.Adam(learning_rate=learning_rate_fn), loss=loss, metrics=['accuracy'])\n",
    "\n",
    "# With classes\n",
    "# history = model.fit(fea_train, to_categorical(label_train), class_weight=class_weights, validation_split=0.3, batch_size=batch_size, epochs=num_epoch, callbacks=[EarlyStopping(patience=num_patience), ModelCheckpoint(filepath=os.path.join(fit_result_path, '{epoch:02d}-{val_loss:.4f}.hdf5'), verbose=1, monitor=\"val_loss\", save_best_only=True)])\n",
    "# history = model.fit(train_generator, validation_data=validate_generator, class_weight=class_weights, epochs=num_epoch, callbacks=[EarlyStopping(patience=num_patience, monitor='val_loss', mode='min', verbose=1), TensorBoard(log_dir=fit_result_path1), ModelCheckpoint(filepath=os.path.join(fit_result_path1, '{epoch:02d}-{val_loss:.4f}.hdf5'), verbose=1, monitor=\"val_loss\", save_best_only=True)])\n",
    "history = model.fit(train_generator, validation_data=validate_generator, class_weight=class_weights, epochs=num_epoch, callbacks=[EarlyStopping(patience=num_patience, monitor='val_loss', mode='min', verbose=1), TensorBoard(log_dir=fit_result_path2), ModelCheckpoint(filepath=os.path.join(fit_result_path2, 'epoch_{epoch:02d}_valloss_{val_loss:.4f}_valacc_{val_accuracy:.4f}.hdf5' ), verbose=1, monitor=\"val_loss\", save_best_only=True)])"
   ]
  },
  {
   "cell_type": "code",
   "execution_count": 125,
   "metadata": {},
   "outputs": [
    {
     "name": "stdout",
     "output_type": "stream",
     "text": [
      "Best model:0.7283\n",
      "/home/ys587/__Data/__whistle/__whislte_30_species/__fit_result_species/20210217_162040/PICEAS2005/epoch_37_valloss_0.7283_valacc_0.7519.hdf5\n"
     ]
    }
   ],
   "source": [
    "# fit_result_path1 = '/home/ys587/__Data/__whistle/__whislte_30_species/__fit_result_species/20210210_224527'\n",
    "the_best_model, _ = find_best_model(fit_result_path2, purge=False)"
   ]
  },
  {
   "cell_type": "code",
   "execution_count": 126,
   "metadata": {
    "scrolled": true
   },
   "outputs": [
    {
     "name": "stdout",
     "output_type": "stream",
     "text": [
      "Model: \"model_4\"\n",
      "__________________________________________________________________________________________________\n",
      "Layer (type)                    Output Shape         Param #     Connected to                     \n",
      "==================================================================================================\n",
      "input (InputLayer)              [(None, 100, 128, 1) 0                                            \n",
      "__________________________________________________________________________________________________\n",
      "conv2d_48 (Conv2D)              (None, 100, 128, 16) 160         input[0][0]                      \n",
      "__________________________________________________________________________________________________\n",
      "batch_normalization_64 (BatchNo (None, 100, 128, 16) 64          conv2d_48[0][0]                  \n",
      "__________________________________________________________________________________________________\n",
      "activation_64 (Activation)      (None, 100, 128, 16) 0           batch_normalization_64[0][0]     \n",
      "__________________________________________________________________________________________________\n",
      "conv2d_49 (Conv2D)              (None, 100, 128, 16) 2320        activation_64[0][0]              \n",
      "__________________________________________________________________________________________________\n",
      "batch_normalization_65 (BatchNo (None, 100, 128, 16) 64          conv2d_49[0][0]                  \n",
      "__________________________________________________________________________________________________\n",
      "activation_65 (Activation)      (None, 100, 128, 16) 0           batch_normalization_65[0][0]     \n",
      "__________________________________________________________________________________________________\n",
      "max_pooling2d_24 (MaxPooling2D) (None, 50, 64, 16)   0           activation_65[0][0]              \n",
      "__________________________________________________________________________________________________\n",
      "dropout_40 (Dropout)            (None, 50, 64, 16)   0           max_pooling2d_24[0][0]           \n",
      "__________________________________________________________________________________________________\n",
      "conv2d_50 (Conv2D)              (None, 50, 64, 32)   4640        dropout_40[0][0]                 \n",
      "__________________________________________________________________________________________________\n",
      "batch_normalization_66 (BatchNo (None, 50, 64, 32)   128         conv2d_50[0][0]                  \n",
      "__________________________________________________________________________________________________\n",
      "activation_66 (Activation)      (None, 50, 64, 32)   0           batch_normalization_66[0][0]     \n",
      "__________________________________________________________________________________________________\n",
      "conv2d_51 (Conv2D)              (None, 50, 64, 32)   9248        activation_66[0][0]              \n",
      "__________________________________________________________________________________________________\n",
      "batch_normalization_67 (BatchNo (None, 50, 64, 32)   128         conv2d_51[0][0]                  \n",
      "__________________________________________________________________________________________________\n",
      "activation_67 (Activation)      (None, 50, 64, 32)   0           batch_normalization_67[0][0]     \n",
      "__________________________________________________________________________________________________\n",
      "max_pooling2d_25 (MaxPooling2D) (None, 25, 32, 32)   0           activation_67[0][0]              \n",
      "__________________________________________________________________________________________________\n",
      "dropout_41 (Dropout)            (None, 25, 32, 32)   0           max_pooling2d_25[0][0]           \n",
      "__________________________________________________________________________________________________\n",
      "conv2d_52 (Conv2D)              (None, 25, 32, 64)   18496       dropout_41[0][0]                 \n",
      "__________________________________________________________________________________________________\n",
      "batch_normalization_68 (BatchNo (None, 25, 32, 64)   256         conv2d_52[0][0]                  \n",
      "__________________________________________________________________________________________________\n",
      "activation_68 (Activation)      (None, 25, 32, 64)   0           batch_normalization_68[0][0]     \n",
      "__________________________________________________________________________________________________\n",
      "conv2d_53 (Conv2D)              (None, 25, 32, 64)   36928       activation_68[0][0]              \n",
      "__________________________________________________________________________________________________\n",
      "batch_normalization_69 (BatchNo (None, 25, 32, 64)   256         conv2d_53[0][0]                  \n",
      "__________________________________________________________________________________________________\n",
      "activation_69 (Activation)      (None, 25, 32, 64)   0           batch_normalization_69[0][0]     \n",
      "__________________________________________________________________________________________________\n",
      "max_pooling2d_26 (MaxPooling2D) (None, 13, 16, 64)   0           activation_69[0][0]              \n",
      "__________________________________________________________________________________________________\n",
      "dropout_42 (Dropout)            (None, 13, 16, 64)   0           max_pooling2d_26[0][0]           \n",
      "__________________________________________________________________________________________________\n",
      "conv2d_54 (Conv2D)              (None, 13, 16, 128)  73856       dropout_42[0][0]                 \n",
      "__________________________________________________________________________________________________\n",
      "batch_normalization_70 (BatchNo (None, 13, 16, 128)  512         conv2d_54[0][0]                  \n",
      "__________________________________________________________________________________________________\n",
      "activation_70 (Activation)      (None, 13, 16, 128)  0           batch_normalization_70[0][0]     \n",
      "__________________________________________________________________________________________________\n",
      "conv2d_55 (Conv2D)              (None, 13, 16, 128)  147584      activation_70[0][0]              \n",
      "__________________________________________________________________________________________________\n",
      "batch_normalization_71 (BatchNo (None, 13, 16, 128)  512         conv2d_55[0][0]                  \n",
      "__________________________________________________________________________________________________\n",
      "activation_71 (Activation)      (None, 13, 16, 128)  0           batch_normalization_71[0][0]     \n",
      "__________________________________________________________________________________________________\n",
      "max_pooling2d_27 (MaxPooling2D) (None, 7, 8, 128)    0           activation_71[0][0]              \n",
      "__________________________________________________________________________________________________\n",
      "dropout_43 (Dropout)            (None, 7, 8, 128)    0           max_pooling2d_27[0][0]           \n",
      "__________________________________________________________________________________________________\n",
      "conv2d_56 (Conv2D)              (None, 7, 8, 256)    295168      dropout_43[0][0]                 \n",
      "__________________________________________________________________________________________________\n",
      "batch_normalization_72 (BatchNo (None, 7, 8, 256)    1024        conv2d_56[0][0]                  \n",
      "__________________________________________________________________________________________________\n",
      "activation_72 (Activation)      (None, 7, 8, 256)    0           batch_normalization_72[0][0]     \n",
      "__________________________________________________________________________________________________\n",
      "conv2d_57 (Conv2D)              (None, 7, 8, 256)    590080      activation_72[0][0]              \n",
      "__________________________________________________________________________________________________\n",
      "batch_normalization_73 (BatchNo (None, 7, 8, 256)    1024        conv2d_57[0][0]                  \n",
      "__________________________________________________________________________________________________\n",
      "activation_73 (Activation)      (None, 7, 8, 256)    0           batch_normalization_73[0][0]     \n",
      "__________________________________________________________________________________________________\n",
      "max_pooling2d_28 (MaxPooling2D) (None, 7, 4, 256)    0           activation_73[0][0]              \n",
      "__________________________________________________________________________________________________\n",
      "dropout_44 (Dropout)            (None, 7, 4, 256)    0           max_pooling2d_28[0][0]           \n",
      "__________________________________________________________________________________________________\n",
      "conv2d_58 (Conv2D)              (None, 7, 4, 512)    1180160     dropout_44[0][0]                 \n",
      "__________________________________________________________________________________________________\n",
      "batch_normalization_74 (BatchNo (None, 7, 4, 512)    2048        conv2d_58[0][0]                  \n",
      "__________________________________________________________________________________________________\n",
      "activation_74 (Activation)      (None, 7, 4, 512)    0           batch_normalization_74[0][0]     \n",
      "__________________________________________________________________________________________________\n",
      "conv2d_59 (Conv2D)              (None, 7, 4, 512)    2359808     activation_74[0][0]              \n",
      "__________________________________________________________________________________________________\n",
      "batch_normalization_75 (BatchNo (None, 7, 4, 512)    2048        conv2d_59[0][0]                  \n",
      "__________________________________________________________________________________________________\n",
      "activation_75 (Activation)      (None, 7, 4, 512)    0           batch_normalization_75[0][0]     \n",
      "__________________________________________________________________________________________________\n",
      "max_pooling2d_29 (MaxPooling2D) (None, 7, 2, 512)    0           activation_75[0][0]              \n",
      "__________________________________________________________________________________________________\n",
      "dropout_45 (Dropout)            (None, 7, 2, 512)    0           max_pooling2d_29[0][0]           \n",
      "__________________________________________________________________________________________________\n",
      "reshape_4 (Reshape)             (None, 7, 1024)      0           dropout_45[0][0]                 \n",
      "__________________________________________________________________________________________________\n",
      "dense_24 (Dense)                (None, 7, 512)       524800      reshape_4[0][0]                  \n",
      "__________________________________________________________________________________________________\n",
      "batch_normalization_76 (BatchNo (None, 7, 512)       2048        dense_24[0][0]                   \n",
      "__________________________________________________________________________________________________\n",
      "activation_76 (Activation)      (None, 7, 512)       0           batch_normalization_76[0][0]     \n",
      "__________________________________________________________________________________________________\n",
      "dropout_46 (Dropout)            (None, 7, 512)       0           activation_76[0][0]              \n",
      "__________________________________________________________________________________________________\n",
      "dense_25 (Dense)                (None, 7, 512)       262656      dropout_46[0][0]                 \n",
      "__________________________________________________________________________________________________\n",
      "batch_normalization_77 (BatchNo (None, 7, 512)       2048        dense_25[0][0]                   \n",
      "__________________________________________________________________________________________________\n",
      "activation_77 (Activation)      (None, 7, 512)       0           batch_normalization_77[0][0]     \n",
      "__________________________________________________________________________________________________\n",
      "dropout_47 (Dropout)            (None, 7, 512)       0           activation_77[0][0]              \n",
      "__________________________________________________________________________________________________\n",
      "dense_26 (Dense)                (None, 7, 512)       262656      dropout_47[0][0]                 \n",
      "__________________________________________________________________________________________________\n",
      "batch_normalization_78 (BatchNo (None, 7, 512)       2048        dense_26[0][0]                   \n",
      "__________________________________________________________________________________________________\n",
      "activation_78 (Activation)      (None, 7, 512)       0           batch_normalization_78[0][0]     \n",
      "__________________________________________________________________________________________________\n",
      "dropout_48 (Dropout)            (None, 7, 512)       0           activation_78[0][0]              \n",
      "__________________________________________________________________________________________________\n",
      "dense_27 (Dense)                (None, 7, 512)       262656      dropout_48[0][0]                 \n",
      "__________________________________________________________________________________________________\n",
      "dense_28 (Dense)                (None, 7, 512)       262656      dropout_48[0][0]                 \n",
      "__________________________________________________________________________________________________\n",
      "lambda_4 (Lambda)               (None, 512)          0           dense_27[0][0]                   \n",
      "                                                                 dense_28[0][0]                   \n",
      "__________________________________________________________________________________________________\n",
      "batch_normalization_79 (BatchNo (None, 512)          2048        lambda_4[0][0]                   \n",
      "__________________________________________________________________________________________________\n",
      "activation_79 (Activation)      (None, 512)          0           batch_normalization_79[0][0]     \n",
      "__________________________________________________________________________________________________\n",
      "dropout_49 (Dropout)            (None, 512)          0           activation_79[0][0]              \n",
      "__________________________________________________________________________________________________\n",
      "dense_29 (Dense)                (None, 8)            4104        dropout_49[0][0]                 \n",
      "==================================================================================================\n",
      "Total params: 6,314,232\n",
      "Trainable params: 6,306,104\n",
      "Non-trainable params: 8,128\n",
      "__________________________________________________________________________________________________\n"
     ]
    }
   ],
   "source": [
    "model = load_model(the_best_model)\n",
    "model.summary()"
   ]
  },
  {
   "cell_type": "code",
   "execution_count": 127,
   "metadata": {},
   "outputs": [],
   "source": [
    "label_pred = model.predict(fea_test)\n",
    "# label_pred = model.predict(test_generator)"
   ]
  },
  {
   "cell_type": "code",
   "execution_count": 128,
   "metadata": {},
   "outputs": [],
   "source": [
    "np.set_printoptions(linewidth=200, precision=2, suppress=True)"
   ]
  },
  {
   "cell_type": "code",
   "execution_count": 129,
   "metadata": {},
   "outputs": [
    {
     "name": "stdout",
     "output_type": "stream",
     "text": [
      "Confusion matrix:\n",
      "['BD', 'CD', 'STR', 'SPT', 'SPIN', 'PLT', 'RT', 'FKW']\n",
      "\n",
      "[[ 88 270 300 410 235 157  51   7]\n",
      " [  0   0   0   0   0   0   0   0]\n",
      " [ 16  38 176  97  18   9  13   5]\n",
      " [ 12  12  62 316  55  14   9   2]\n",
      " [  2  50  90 120 106  25  10   2]\n",
      " [ 28   6   2   0   6 215  28   7]\n",
      " [ 22  26  10   8  12  65 261  36]\n",
      " [ 48  42  52  14  46 337 673 795]]\n",
      "\n",
      "[[0.06 0.18 0.2  0.27 0.15 0.1  0.03 0.  ]\n",
      " [0.   0.   0.   0.   0.   0.   0.   0.  ]\n",
      " [0.04 0.1  0.47 0.26 0.05 0.02 0.03 0.01]\n",
      " [0.02 0.02 0.13 0.66 0.11 0.03 0.02 0.  ]\n",
      " [0.   0.12 0.22 0.3  0.26 0.06 0.02 0.  ]\n",
      " [0.1  0.02 0.01 0.   0.02 0.74 0.1  0.02]\n",
      " [0.05 0.06 0.02 0.02 0.03 0.15 0.59 0.08]\n",
      " [0.02 0.02 0.03 0.01 0.02 0.17 0.34 0.4 ]]\n"
     ]
    }
   ],
   "source": [
    "print(\"Confusion matrix:\")\n",
    "cm = confusion_matrix(label_test, np.argmax(label_pred, axis=1), labels=species_id)\n",
    "\n",
    "print(species_list)\n",
    "print('')\n",
    "print(cm)\n",
    "print('')\n",
    "\n",
    "cm2 = cm*1.0\n",
    "for ii in range(cm.shape[0]):\n",
    "    cm_row = cm[ii, :]*1.0\n",
    "\n",
    "    cm_row_sum = cm_row.sum()\n",
    "    if cm_row_sum != 0:\n",
    "        cm2[ii, :] = cm_row / cm_row_sum\n",
    "    else:\n",
    "        cm2[ii, :] = np.zeros(cm.shape[1])\n",
    "\n",
    "print(cm2)"
   ]
  },
  {
   "cell_type": "code",
   "execution_count": 130,
   "metadata": {},
   "outputs": [],
   "source": [
    "from sklearn.metrics import plot_confusion_matrix\n",
    "from sklearn.metrics._plot.confusion_matrix import ConfusionMatrixDisplay\n",
    "disp = ConfusionMatrixDisplay(confusion_matrix=cm, display_labels=species_list)\n",
    "disp2 = ConfusionMatrixDisplay(confusion_matrix=cm2, display_labels=species_list)"
   ]
  },
  {
   "cell_type": "code",
   "execution_count": 131,
   "metadata": {},
   "outputs": [
    {
     "data": {
      "text/plain": [
       "<sklearn.metrics._plot.confusion_matrix.ConfusionMatrixDisplay at 0x7f5278166d60>"
      ]
     },
     "execution_count": 131,
     "metadata": {},
     "output_type": "execute_result"
    },
    {
     "data": {
      "image/png": "[encoded data removed]",
      "text/plain": [
       "<Figure size 1080x1080 with 2 Axes>"
      ]
     },
     "metadata": {
      "needs_background": "light"
     },
     "output_type": "display_data"
    }
   ],
   "source": [
    "fig, ax = plt.subplots(figsize=[15, 15])\n",
    "disp.plot(include_values=True,\n",
    "                     cmap='viridis', ax=ax, xticks_rotation='horizontal',\n",
    "                     values_format=None, colorbar=True)\n"
   ]
  },
  {
   "cell_type": "code",
   "execution_count": 132,
   "metadata": {},
   "outputs": [
    {
     "data": {
      "text/plain": [
       "<sklearn.metrics._plot.confusion_matrix.ConfusionMatrixDisplay at 0x7f5278166ac0>"
      ]
     },
     "execution_count": 132,
     "metadata": {},
     "output_type": "execute_result"
    },
    {
     "data": {
      "image/png": "[encoded data removed]",
      "text/plain": [
       "<Figure size 1080x1080 with 2 Axes>"
      ]
     },
     "metadata": {
      "needs_background": "light"
     },
     "output_type": "display_data"
    }
   ],
   "source": [
    "fig, ax = plt.subplots(figsize=[15, 15])\n",
    "disp2.plot(include_values=True,\n",
    "                     cmap='viridis', ax=ax, xticks_rotation='horizontal',\n",
    "                     values_format='.2f', colorbar=True)"
   ]
  },
  {
   "cell_type": "code",
   "execution_count": null,
   "metadata": {},
   "outputs": [],
   "source": []
  },
  {
   "cell_type": "code",
   "execution_count": null,
   "metadata": {},
   "outputs": [],
   "source": []
  },
  {
   "cell_type": "code",
   "execution_count": null,
   "metadata": {},
   "outputs": [],
   "source": []
  },
  {
   "cell_type": "code",
   "execution_count": null,
   "metadata": {},
   "outputs": [],
   "source": []
  },
  {
   "cell_type": "code",
   "execution_count": null,
   "metadata": {},
   "outputs": [],
   "source": []
  },
  {
   "cell_type": "code",
   "execution_count": null,
   "metadata": {},
   "outputs": [],
   "source": []
  }
 ],
 "metadata": {
  "kernelspec": {
   "display_name": "Python 3",
   "language": "python",
   "name": "python3"
  },
  "language_info": {
   "codemirror_mode": {
    "name": "ipython",
    "version": 3
   },
   "file_extension": ".py",
   "mimetype": "text/x-python",
   "name": "python",
   "nbconvert_exporter": "python",
   "pygments_lexer": "ipython3",
   "version": "3.8.6"
  }
 },
 "nbformat": 4,
 "nbformat_minor": 4
}
