{
 "cells": [
  {
   "cell_type": "markdown",
   "metadata": {},
   "source": [
    "# Training species classifier Expt 3: cross-validation of Oswald data\n",
    "# Mar 2, 2021\n",
    "## Spatial Pyramid Pooling (SPP): [1, 1], [1, 2], [1, 4], [1, 8]\n",
    "## The augemented noise is from the all five deployments.\n",
    "## Trained on PICEAS2005 & STAR2000 whereas tested on HICEAS2002, STAR2003 & STAR2006"
   ]
  },
  {
   "cell_type": "code",
   "execution_count": 1,
   "metadata": {},
   "outputs": [],
   "source": [
    "import numpy as np\n",
    "from itertools import permutations\n",
    "import random\n",
    "import os\n",
    "import glob\n",
    "import pickle\n",
    "import matplotlib.pyplot as plt\n",
    "import matplotlib.patheffects as PathEffects\n",
    "import pandas as pd\n",
    "from os import makedirs\n",
    "from datetime import datetime\n",
    "from collections import Counter\n",
    "\n",
    "from math import floor\n",
    "\n",
    "from sklearn.model_selection import train_test_split\n",
    "from sklearn.utils import shuffle\n",
    "from sklearn.utils.class_weight import compute_class_weight\n",
    "from sklearn.metrics import roc_curve\n",
    "from sklearn.neighbors import KNeighborsClassifier\n",
    "from sklearn.metrics import confusion_matrix, classification_report\n",
    "\n",
    "# from MulticoreTSNE import MulticoreTSNE as TSNE\n",
    "# from sklearn.manifold import TSNE\n",
    "import seaborn as sns\n",
    "\n",
    "from tensorflow.keras.utils import Sequence\n",
    "from tensorflow.keras.layers import Input, Dense, BatchNormalization, Dropout, Activation\n",
    "from tensorflow.keras.layers import Conv2D, Lambda, Flatten, MaxPooling2D, Concatenate, LSTM, Reshape, Lambda, ConvLSTM2D, GlobalAveragePooling2D, GlobalMaxPooling2D\n",
    "from tensorflow.keras.layers import Bidirectional, LSTM, GRU\n",
    "from tensorflow.keras.models import Model, Sequential\n",
    "from tensorflow.keras.regularizers import l2\n",
    "from tensorflow.keras import backend as K\n",
    "\n",
    "from tensorflow.keras.optimizers.schedules import ExponentialDecay, PiecewiseConstantDecay\n",
    "from tensorflow.keras.optimizers import SGD,Adam\n",
    "from tensorflow.keras.losses import binary_crossentropy, CategoricalCrossentropy\n",
    "from tensorflow.keras.callbacks import ModelCheckpoint, TensorBoard, EarlyStopping\n",
    "from tensorflow.keras.utils import to_categorical\n",
    "from tensorflow.keras.models import load_model\n",
    "import tensorflow_addons.layers.spatial_pyramid_pooling as spp\n",
    "# import tensorflow_datasets as tfds\n",
    "from tensorflow.math import l2_normalize\n",
    "\n",
    "import tensorflow as tf"
   ]
  },
  {
   "cell_type": "code",
   "execution_count": 2,
   "metadata": {},
   "outputs": [],
   "source": [
    "%matplotlib inline\n",
    "import warnings\n",
    "warnings.filterwarnings(\"ignore\", category=DeprecationWarning)"
   ]
  },
  {
   "cell_type": "code",
   "execution_count": 3,
   "metadata": {},
   "outputs": [],
   "source": [
    "# Hyper parameters\n",
    "# learning_rate = 1.0e-3\n",
    "conv_dim = 16\n",
    "rnn_dim = 16\n",
    "pool_size = 2\n",
    "pool_stride = 2\n",
    "l2_regu = 0.001\n",
    "drop_rate = 0.2\n",
    "hidden_units = 256\n",
    "fcn_dim = 256\n",
    "\n",
    "# learning_rate = 1.e-4\n",
    "# conv_dim = 64\n",
    "# rnn_dim = 16\n",
    "# pool_size = 2\n",
    "# pool_stride = 2\n",
    "# l2_regu = 0.00\n",
    "# drop_rate = 0.2\n",
    "# # drop_rate = 0.5\n",
    "# hidden_units = 512\n",
    "# fcn_dim = 512\n",
    "\n",
    "num_epoch = 200\n",
    "# batch_size = 128\n",
    "# batch_size = 32  # for cnn14+attention\n",
    "batch_size = 16  # for cnn14+spp\n",
    "\n",
    "num_patience = 20"
   ]
  },
  {
   "cell_type": "code",
   "execution_count": 4,
   "metadata": {},
   "outputs": [],
   "source": [
    "# data_type_dict = {1: 'universal', 2: 'file', 3: 'encounter', 4: 'domain'}\n",
    "# data_type = 2\n",
    "\n",
    "work_path = '/home/ys587/__Data/__whistle/__whislte_30_species'\n",
    "fit_result_path =  os.path.join(work_path, '__fit_result_species')\n",
    "# feature_path = os.path.join(work_path, '__feature_species')\n",
    "feature_path = os.path.join(work_path, '__dataset/20210210')"
   ]
  },
  {
   "cell_type": "code",
   "execution_count": null,
   "metadata": {},
   "outputs": [],
   "source": []
  },
  {
   "cell_type": "code",
   "execution_count": null,
   "metadata": {},
   "outputs": [],
   "source": [
    "species_dict = {'BD': 0, 'CD': 1, 'STR': 2, 'SPT': 3, 'SPIN': 4, 'PLT': 5, 'RT': 6,  'FKW': 7}\n",
    "num_species = len(species_dict)\n",
    "# species_dict = {'BD': 0, 'MH': 1, 'CD': 2, 'STR': 3, 'SPT': 4, 'SPIN': 5, 'PLT': 6, 'RD': 7, 'RT': 8,\n",
    "#                 'WSD': 9, 'FKW': 10, 'BEL': 11, 'KW': 12, 'WBD': 13, 'DUSK': 14, 'FRA': 15, 'PKW': 16, 'LPLT': 17,\n",
    "#                 'CLY': 18, 'SPE': 19, 'ASP': 20}\n",
    "species_list = list(species_dict.keys())\n",
    "species_id = list(species_dict.values())"
   ]
  },
  {
   "cell_type": "markdown",
   "metadata": {},
   "source": [
    "## Combine features"
   ]
  },
  {
   "cell_type": "code",
   "execution_count": 6,
   "metadata": {},
   "outputs": [],
   "source": [
    "deployment = ['STAR2000', 'STAR2003', 'STAR2006', 'HICEAS2002', 'PICEAS2005']  # oswald_STAR2000_orig.npz, oswald_STAR2000_aug.npz\n",
    "# feature_path = '/home/ys587/__Data/__whistle/__whislte_30_species/__dataset/20210223_augment_all_three_noise_mixed'\n",
    "feature_path = '/home/ys587/__Data/__whistle/__whislte_30_species/__dataset/20210223_augment_all_three_noise_mixed_class_balanced_min_5'\n"
   ]
  },
  {
   "cell_type": "code",
   "execution_count": 8,
   "metadata": {},
   "outputs": [],
   "source": [
    "# data generator\n",
    "class DataGenerator(tf.keras.utils.Sequence):\n",
    "    def __init__(self, feature, label, batch_size=32, num_classes=None, shuffle=True):\n",
    "        self.batch_size = batch_size\n",
    "        self.X = feature\n",
    "        self.X_dim = len(feature.shape)\n",
    "        self.y = to_categorical(label, num_classes)\n",
    "        self.indices = np.arange(self.y.shape[0])\n",
    "        self.num_classes = num_classes\n",
    "        self.shuffle = shuffle\n",
    "        \n",
    "        # self.index = np.arange(len(self.indices))\n",
    "        #self.df = dataframe\n",
    "        #self.indices = self.df.index.tolist()        \n",
    "        # self.x_col = x_col\n",
    "        # self.y_col = y_col\n",
    "        \n",
    "        self.on_epoch_end()\n",
    "\n",
    "    def __len__(self):\n",
    "        return int(floor(len(self.indices)/self.batch_size))\n",
    "        # return label.shape[0]\n",
    "\n",
    "    def __getitem__(self, index):\n",
    "        # index = self.index[index * self.batch_size:(index + 1) * self.batch_size]\n",
    "        # batch = [self.indices[k] for k in index]\n",
    "        batch = list(range(index*self.batch_size, (index+1)*self.batch_size))\n",
    "        \n",
    "        X, y = self.__get_data(batch)\n",
    "        return X, y\n",
    "\n",
    "    def on_epoch_end(self):\n",
    "        if self.shuffle == True:\n",
    "            np.random.shuffle(self.indices)\n",
    "\n",
    "    def __get_data(self, batch):\n",
    "        y = np.zeros((self.batch_size, self.y.shape[1]))\n",
    "        \n",
    "        if self.X_dim == 3:\n",
    "            X = np.zeros((self.batch_size, self.X.shape[1], self.X.shape[2]))\n",
    "            for i, id in enumerate(batch):\n",
    "                X[i,:, :] = self.X[id, :, :]  # logic\n",
    "                y[i, :] = self.y[id, :] # labels\n",
    "                \n",
    "        elif self.X_dim == 4:\n",
    "            X = np.zeros((self.batch_size, self.X.shape[1], self.X.shape[2], self.X.shape[3]))\n",
    "            for i, id in enumerate(batch):\n",
    "                X[i,:, :, :] = self.X[id, :, :, :]  # logic\n",
    "                y[i, :] = self.y[id, :] # labels\n",
    "\n",
    "        return X, y"
   ]
  },
  {
   "cell_type": "markdown",
   "metadata": {},
   "source": [
    "## Models"
   ]
  },
  {
   "cell_type": "code",
   "execution_count": 9,
   "metadata": {},
   "outputs": [],
   "source": [
    "# Kong's attention\n",
    "# def max_pooling(inputs, **kwargs):\n",
    "#     input = inputs[0]   # (batch_size, time_steps, freq_bins)\n",
    "#     return K.max(input, axis=1)\n",
    "def max_pooling(inputs, **kwargs):\n",
    "    # input = inputs[0]   # (batch_size, time_steps, freq_bins)\n",
    "    return K.max(inputs, axis=1)\n",
    "\n",
    "\n",
    "def average_pooling(inputs, **kwargs):\n",
    "    input = inputs[0]   # (batch_size, time_steps, freq_bins)\n",
    "    return K.mean(input, axis=1)\n",
    "\n",
    "\n",
    "def attention_pooling(inputs, **kwargs):\n",
    "    [out, att] = inputs\n",
    "\n",
    "    epsilon = 1e-7\n",
    "    att = K.clip(att, epsilon, 1. - epsilon)\n",
    "    normalized_att = att / K.sum(att, axis=1)[:, None, :]\n",
    "\n",
    "    return K.sum(out * normalized_att, axis=1)\n",
    "\n",
    "\n",
    "def pooling_shape(input_shape):\n",
    "\n",
    "    if isinstance(input_shape, list):\n",
    "        (sample_num, time_steps, freq_bins) = input_shape[0]\n",
    "\n",
    "    else:\n",
    "        (sample_num, time_steps, freq_bins) = input_shape\n",
    "\n",
    "    return (sample_num, freq_bins)"
   ]
  },
  {
   "cell_type": "code",
   "execution_count": 10,
   "metadata": {},
   "outputs": [],
   "source": [
    "# cnn14 SPP\n",
    "def model_cnn14_spp(time_steps, freq_bins, classes_num, conv_dim=64, rnn_dim=128, pool_size=2, pool_stride=2, hidden_units=512, l2_regu=0., drop_rate=0., multilabel=True):\n",
    "    input_layer = Input(shape=(time_steps, freq_bins, 1), name='input')\n",
    "    # group 1\n",
    "    y = Conv2D(conv_dim, kernel_size=(3, 3), strides=(1, 1), padding='same', kernel_regularizer=l2(l2_regu))(input_layer)\n",
    "    y = BatchNormalization()(y)\n",
    "    y = Activation(activation='relu')(y)\n",
    "    y = Conv2D(conv_dim, kernel_size=(3, 3), strides=(1, 1), padding='same', kernel_regularizer=l2(l2_regu))(y)\n",
    "    y = BatchNormalization()(y)\n",
    "    y = Activation(activation='relu')(y)\n",
    "    y = MaxPooling2D(pool_size=(pool_size, 2), strides=(pool_stride, 2), padding='same')(y)\n",
    "    y = Dropout(drop_rate)(y)\n",
    "    \n",
    "    # group 2\n",
    "    y = Conv2D(conv_dim*2, kernel_size=(3, 3), strides=(1, 1), padding='same', kernel_regularizer=l2(l2_regu))(y)\n",
    "    y = BatchNormalization()(y)\n",
    "    y = Activation(activation='relu')(y)\n",
    "    y = Conv2D(conv_dim*2, kernel_size=(3, 3), strides=(1, 1), padding='same', kernel_regularizer=l2(l2_regu))(y)\n",
    "    y = BatchNormalization()(y)\n",
    "    y = Activation(activation='relu')(y)\n",
    "    y = MaxPooling2D(pool_size=(pool_size, 2), strides=(pool_stride, 2), padding='same')(y)\n",
    "    y = Dropout(drop_rate)(y)\n",
    "    \n",
    "    # group 3\n",
    "    y = Conv2D(conv_dim*4, kernel_size=(3, 3), strides=(1, 1), padding='same', kernel_regularizer=l2(l2_regu))(y)\n",
    "    y = BatchNormalization()(y)\n",
    "    y = Activation(activation='relu')(y)\n",
    "    y = Conv2D(conv_dim*4, kernel_size=(3, 3), strides=(1, 1), padding='same', kernel_regularizer=l2(l2_regu))(y)\n",
    "    y = BatchNormalization()(y)\n",
    "    y = Activation(activation='relu')(y)\n",
    "    y = MaxPooling2D(pool_size=(pool_size, 2), strides=(pool_stride, 2), padding='same')(y)\n",
    "    y = Dropout(drop_rate)(y)\n",
    "    \n",
    "    # group 4 \n",
    "    y = Conv2D(conv_dim*8, kernel_size=(3, 3), strides=(1, 1), padding='same', kernel_regularizer=l2(l2_regu))(y)\n",
    "    y = BatchNormalization()(y)\n",
    "    y = Activation(activation='relu')(y)\n",
    "    y = Conv2D(conv_dim*8, kernel_size=(3, 3), strides=(1, 1), padding='same', kernel_regularizer=l2(l2_regu))(y)\n",
    "    y = BatchNormalization()(y)\n",
    "    y = Activation(activation='relu')(y)\n",
    "    y = MaxPooling2D(pool_size=(pool_size, 2), strides=(pool_stride, 2), padding='same')(y)\n",
    "    y = Dropout(drop_rate)(y)\n",
    "\n",
    "    # group 5\n",
    "    y = Conv2D(conv_dim*16, kernel_size=(3, 3), strides=(1, 1), padding='same', kernel_regularizer=l2(l2_regu))(y)\n",
    "    y = BatchNormalization()(y)\n",
    "    y = Activation(activation='relu')(y)\n",
    "    y = Conv2D(conv_dim*16, kernel_size=(3, 3), strides=(1, 1), padding='same', kernel_regularizer=l2(l2_regu))(y)\n",
    "    y = BatchNormalization()(y)\n",
    "    y = Activation(activation='relu')(y)\n",
    "#     y = MaxPooling2D(pool_size=(pool_size, 2), strides=(1, 2), padding='same')(y)\n",
    "#     y = Dropout(drop_rate)(y)\n",
    "\n",
    "#     # group 6\n",
    "#     y = Conv2D(conv_dim*32, kernel_size=(3, 3), strides=(1, 1), padding='same', kernel_regularizer=l2(l2_regu))(y)\n",
    "#     y = BatchNormalization()(y)\n",
    "#     y = Activation(activation='relu')(y)\n",
    "#     y = Conv2D(conv_dim*32, kernel_size=(3, 3), strides=(1, 1), padding='same', kernel_regularizer=l2(l2_regu))(y)\n",
    "#     y = BatchNormalization()(y)\n",
    "#     y = Activation(activation='relu')(y)\n",
    "#     y = MaxPooling2D(pool_size=(pool_size, 2), strides=(1, 2), padding='same')(y)\n",
    "#     y = Dropout(drop_rate)(y)\n",
    "    \n",
    "    # change dimensions: samples, time, frequency, channels => samples, time, frequency*channels\n",
    "    #  dim_cnn = K.int_shape(y)\n",
    "    # y = Reshape((dim_cnn[1], dim_cnn[2]*dim_cnn[3]))(y)\n",
    "    \n",
    "    y = spp.SpatialPyramidPooling2D(bins=[[1, 1], [2, 2], [4, 4]], data_format='channels_last')(y)\n",
    "    dim_spp = K.int_shape(y)\n",
    "    y = Reshape((dim_spp[1]*dim_spp[2], ))(y)\n",
    "\n",
    "    # FC block\n",
    "    a1 = Dense(hidden_units)(y)\n",
    "    a1 = BatchNormalization()(a1)\n",
    "    a1 = Activation('relu')(a1)\n",
    "    a1 = Dropout(drop_rate)(a1)\n",
    "\n",
    "    a2 = Dense(hidden_units)(a1)\n",
    "    a2 = BatchNormalization()(a2)\n",
    "    a2 = Activation('relu')(a2)\n",
    "    a2 = Dropout(drop_rate)(a2)\n",
    "\n",
    "    a3 = Dense(hidden_units)(a2)\n",
    "    a3 = BatchNormalization()(a3)\n",
    "    a3 = Activation('relu')(a3)\n",
    "    a3 = Dropout(drop_rate)(a3)\n",
    "    \n",
    "#     y = Dense(hidden_units, activation='relu', name='cnn14_fcn')(y)  # original 512\n",
    "#      y = Dense(hidden_units, activation='relu', name='cnn14_fcn2')(y)  # original 512\n",
    "    # x = Dense(classes_num, activation='softmax')(y)\n",
    "#     x = Dense(classes_num, activation='sigmoid')(y)\n",
    "    x = Dense(classes_num, activation='sigmoid')(a3)\n",
    "    \n",
    "    # Build model\n",
    "    model = Model(inputs=input_layer, outputs=x)\n",
    "    \n",
    "    return model\n",
    "\n",
    "#     a1 = Dense(hidden_units)(y)\n",
    "#     a1 = BatchNormalization()(a1)\n",
    "#     a1 = Activation('relu')(a1)\n",
    "#     a1 = Dropout(drop_rate)(a1)\n",
    "\n",
    "#     a2 = Dense(hidden_units)(a1)\n",
    "#     a2 = BatchNormalization()(a2)\n",
    "#     a2 = Activation('relu')(a2)\n",
    "#     a2 = Dropout(drop_rate)(a2)\n",
    "    \n",
    "#     output_layer = Dense(classes_num, activation='softmax')(a2)\n",
    "\n",
    "#     if False:\n",
    "#         # Pooling layers 'decision_level_max_pooling':\n",
    "#         '''Global max pooling.\n",
    "\n",
    "#         [1] Choi, Keunwoo, et al. \"Automatic tagging using deep convolutional \n",
    "#         neural networks.\" arXiv preprint arXiv:1606.00298 (2016).\n",
    "#         '''\n",
    "#         cla = Dense(classes_num, activation='sigmoid')(a2)\n",
    "\n",
    "#         # output_layer = Lambda(\n",
    "#         #    max_pooling, \n",
    "#         #    output_shape=pooling_shape)(\n",
    "#         #    [cla])\n",
    "#         output_layer = Lambda(max_pooling)(cla)\n",
    "\n",
    "#     # Build model\n",
    "#     model = Model(inputs=input_layer, outputs=output_layer)\n",
    "    \n",
    "#     return model"
   ]
  },
  {
   "cell_type": "code",
   "execution_count": 11,
   "metadata": {},
   "outputs": [],
   "source": [
    "# cnn14 attention with customized maxpooling\n",
    "def model_cnn14_attention_multi(time_steps, freq_bins, classes_num, model_type='feature_level_attention', conv_dim=64, rnn_dim=128, pool_size=2, pool_stride=2, hidden_units=512, l2_regu=0., drop_rate=0., multilabel=True):\n",
    "    # Kong's attention\n",
    "    # model_type = 'decision_level_max_pooling'  # problem with dimensions of the Lambda layer after training\n",
    "    # model_type = 'decision_level_average_pooling' # problem with dimensions of the Lambda layer after training\n",
    "    # model_type = 'decision_level_single_attention'\n",
    "    # model_type = 'decision_level_multi_attention'\n",
    "    # model_type = 'feature_level_attention'\n",
    "\n",
    "    input_layer = Input(shape=(time_steps, freq_bins, 1), name='input')\n",
    "    # group 1\n",
    "    y = Conv2D(conv_dim, kernel_size=(3, 3), strides=(1, 1), padding='same', kernel_regularizer=l2(l2_regu))(input_layer)\n",
    "    y = BatchNormalization()(y)\n",
    "    y = Activation(activation='relu')(y)\n",
    "    y = Conv2D(conv_dim, kernel_size=(3, 3), strides=(1, 1), padding='same', kernel_regularizer=l2(l2_regu))(y)\n",
    "    y = BatchNormalization()(y)\n",
    "    y = Activation(activation='relu')(y)\n",
    "    y = MaxPooling2D(pool_size=(pool_size, 2), strides=(pool_stride, 2), padding='same')(y)\n",
    "    y = Dropout(drop_rate)(y)\n",
    "    \n",
    "    # group 2\n",
    "    y = Conv2D(conv_dim*2, kernel_size=(3, 3), strides=(1, 1), padding='same', kernel_regularizer=l2(l2_regu))(y)\n",
    "    y = BatchNormalization()(y)\n",
    "    y = Activation(activation='relu')(y)\n",
    "    y = Conv2D(conv_dim*2, kernel_size=(3, 3), strides=(1, 1), padding='same', kernel_regularizer=l2(l2_regu))(y)\n",
    "    y = BatchNormalization()(y)\n",
    "    y = Activation(activation='relu')(y)\n",
    "    y = MaxPooling2D(pool_size=(pool_size, 2), strides=(pool_stride, 2), padding='same')(y)\n",
    "    y = Dropout(drop_rate)(y)\n",
    "    \n",
    "    # group 3\n",
    "    y = Conv2D(conv_dim*4, kernel_size=(3, 3), strides=(1, 1), padding='same', kernel_regularizer=l2(l2_regu))(y)\n",
    "    y = BatchNormalization()(y)\n",
    "    y = Activation(activation='relu')(y)\n",
    "    y = Conv2D(conv_dim*4, kernel_size=(3, 3), strides=(1, 1), padding='same', kernel_regularizer=l2(l2_regu))(y)\n",
    "    y = BatchNormalization()(y)\n",
    "    y = Activation(activation='relu')(y)\n",
    "    y = MaxPooling2D(pool_size=(pool_size, 2), strides=(pool_stride, 2), padding='same')(y)\n",
    "    y = Dropout(drop_rate)(y)\n",
    "    \n",
    "    # group 4 \n",
    "    y = Conv2D(conv_dim*8, kernel_size=(3, 3), strides=(1, 1), padding='same', kernel_regularizer=l2(l2_regu))(y)\n",
    "    y = BatchNormalization()(y)\n",
    "    y = Activation(activation='relu')(y)\n",
    "    y = Conv2D(conv_dim*8, kernel_size=(3, 3), strides=(1, 1), padding='same', kernel_regularizer=l2(l2_regu))(y)\n",
    "    y = BatchNormalization()(y)\n",
    "    y = Activation(activation='relu')(y)\n",
    "    y = MaxPooling2D(pool_size=(pool_size, 2), strides=(pool_stride, 2), padding='same')(y)\n",
    "    y = Dropout(drop_rate)(y)\n",
    "\n",
    "    # group 5\n",
    "    y = Conv2D(conv_dim*16, kernel_size=(3, 3), strides=(1, 1), padding='same', kernel_regularizer=l2(l2_regu))(y)\n",
    "    y = BatchNormalization()(y)\n",
    "    y = Activation(activation='relu')(y)\n",
    "    y = Conv2D(conv_dim*16, kernel_size=(3, 3), strides=(1, 1), padding='same', kernel_regularizer=l2(l2_regu))(y)\n",
    "    y = BatchNormalization()(y)\n",
    "    y = Activation(activation='relu')(y)\n",
    "    y = MaxPooling2D(pool_size=(pool_size, 2), strides=(1, 2), padding='same')(y)\n",
    "    y = Dropout(drop_rate)(y)\n",
    "\n",
    "    # group 6\n",
    "    y = Conv2D(conv_dim*32, kernel_size=(3, 3), strides=(1, 1), padding='same', kernel_regularizer=l2(l2_regu))(y)\n",
    "    y = BatchNormalization()(y)\n",
    "    y = Activation(activation='relu')(y)\n",
    "    y = Conv2D(conv_dim*32, kernel_size=(3, 3), strides=(1, 1), padding='same', kernel_regularizer=l2(l2_regu))(y)\n",
    "    y = BatchNormalization()(y)\n",
    "    y = Activation(activation='relu')(y)\n",
    "    y = MaxPooling2D(pool_size=(pool_size, 2), strides=(1, 2), padding='same')(y)\n",
    "    y = Dropout(drop_rate)(y)\n",
    "    \n",
    "    # change dimensions: samples, time, frequency, channels => samples, time, frequency*channels\n",
    "    dim_cnn = K.int_shape(y)\n",
    "    y = Reshape((dim_cnn[1], dim_cnn[2]*dim_cnn[3]))(y)\n",
    "\n",
    "    a1 = Dense(hidden_units)(y)\n",
    "    a1 = BatchNormalization()(a1)\n",
    "    a1 = Activation('relu')(a1)\n",
    "    a1 = Dropout(drop_rate)(a1)\n",
    "\n",
    "    a2 = Dense(hidden_units)(a1)\n",
    "    a2 = BatchNormalization()(a2)\n",
    "    a2 = Activation('relu')(a2)\n",
    "    a2 = Dropout(drop_rate)(a2)\n",
    "\n",
    "    a3 = Dense(hidden_units)(a2)\n",
    "    a3 = BatchNormalization()(a3)\n",
    "    a3 = Activation('relu')(a3)\n",
    "    a3 = Dropout(drop_rate)(a3)\n",
    "\n",
    "    # Pooling layers\n",
    "    if model_type == 'decision_level_max_pooling':\n",
    "        '''Global max pooling.\n",
    "\n",
    "        [1] Choi, Keunwoo, et al. \"Automatic tagging using deep convolutional \n",
    "        neural networks.\" arXiv preprint arXiv:1606.00298 (2016).\n",
    "        '''\n",
    "        cla = Dense(classes_num, activation='sigmoid')(a3)\n",
    "        \n",
    "        # output_layer = Lambda(\n",
    "        #    max_pooling, \n",
    "        #    output_shape=pooling_shape)(\n",
    "        #    [cla])\n",
    "        output_layer = Lambda(max_pooling)(cla)\n",
    "\n",
    "    elif model_type == 'decision_level_average_pooling':\n",
    "        '''Global average pooling.\n",
    "\n",
    "        [2] Lin, Min, et al. Qiang Chen, and Shuicheng Yan. \"Network in \n",
    "        network.\" arXiv preprint arXiv:1312.4400 (2013).\n",
    "        '''\n",
    "        cla = Dense(classes_num, activation='sigmoid')(a3)\n",
    "        # output_layer = Lambda(\n",
    "        #    average_pooling,\n",
    "        #    output_shape=pooling_shape)(\n",
    "        #    [cla])\n",
    "        output_layer = Lambda(average_pooling)(cla)\n",
    "\n",
    "    elif model_type == 'decision_level_single_attention':\n",
    "        '''Decision level single attention pooling.\n",
    "        [3] Kong, Qiuqiang, et al. \"Audio Set classification with attention\n",
    "        model: A probabilistic perspective.\" arXiv preprint arXiv:1711.00927\n",
    "        (2017).\n",
    "        '''\n",
    "        cla = Dense(classes_num, activation='sigmoid')(a3)\n",
    "        att = Dense(classes_num, activation='softmax')(a3)\n",
    "        output_layer = Lambda(\n",
    "            attention_pooling, output_shape=pooling_shape)([cla, att])\n",
    "\n",
    "    elif model_type == 'decision_level_multi_attention':\n",
    "        '''Decision level multi attention pooling.\n",
    "        [4] Yu, Changsong, et al. \"Multi-level Attention Model for Weakly\n",
    "        Supervised Audio Classification.\" arXiv preprint arXiv:1803.02353\n",
    "        (2018).\n",
    "        '''\n",
    "        cla1 = Dense(classes_num, activation='sigmoid')(a2)\n",
    "        att1 = Dense(classes_num, activation='softmax')(a2)\n",
    "        out1 = Lambda(\n",
    "            attention_pooling, output_shape=pooling_shape)([cla1, att1])\n",
    "\n",
    "        cla2 = Dense(classes_num, activation='sigmoid')(a3)\n",
    "        att2 = Dense(classes_num, activation='softmax')(a3)\n",
    "        out2 = Lambda(\n",
    "            attention_pooling, output_shape=pooling_shape)([cla2, att2])\n",
    "\n",
    "        b1 = Concatenate(axis=-1)([out1, out2])\n",
    "        b1 = Dense(classes_num)(b1)\n",
    "        \n",
    "        if multilabel:\n",
    "            output_layer = Activation('sigmoid')(b1)\n",
    "        else:\n",
    "            output_layer = Activation('softmax')(b1)\n",
    "\n",
    "    elif model_type == 'feature_level_attention':\n",
    "        '''Feature level attention.\n",
    "        [1] Kong, Qiuqiang, et al. \"Weakly labelled audioset tagging with \n",
    "        attention neural networks.\" (2019).\n",
    "        '''\n",
    "        cla = Dense(hidden_units, activation='linear')(a3)\n",
    "        att = Dense(hidden_units, activation='sigmoid')(a3)\n",
    "        b1 = Lambda(\n",
    "            attention_pooling, output_shape=pooling_shape)([cla, att])\n",
    "\n",
    "        b1 = BatchNormalization()(b1)\n",
    "        b1 = Activation(activation='relu')(b1)\n",
    "        b1 = Dropout(drop_rate)(b1)\n",
    "        \n",
    "        if multilabel:\n",
    "            output_layer = Dense(classes_num, activation='sigmoid')(b1)\n",
    "        else:\n",
    "            output_layer = Dense(classes_num, activation='softmax')(b1)\n",
    "\n",
    "    else:\n",
    "        raise Exception(\"Incorrect model_type!\")\n",
    "\n",
    "    # Build model\n",
    "    model = Model(inputs=input_layer, outputs=output_layer)\n",
    "    \n",
    "    return model"
   ]
  },
  {
   "cell_type": "markdown",
   "metadata": {},
   "source": [
    "# Model compile, class weight & fitting"
   ]
  },
  {
   "cell_type": "code",
   "execution_count": 12,
   "metadata": {},
   "outputs": [],
   "source": [
    "# def find_best_model(model_folder, remove_others=False):\n",
    "#     model_list = glob.glob(model_folder+'/*.hdf5')\n",
    "#     model_list.sort()\n",
    "#     the_best_model = model_list[-1]\n",
    "    \n",
    "#     if remove_others==True:\n",
    "#         for mm in model_list[:-1]:\n",
    "#             os.remove(mm)\n",
    "            \n",
    "#     print(the_best_model)\n",
    "    \n",
    "#     return the_best_model\n",
    "import re\n",
    "\n",
    "def find_best_model(classifier_path, fmt='epoch_\\d+_valloss_(\\d+.\\d{4})_valacc_\\d+.\\d{4}.hdf5', is_max=False, purge=True):\n",
    "    \"\"\"\n",
    "    Return the path to the model with the best accuracy, given the path to\n",
    "    all the trained classifiers\n",
    "    Args:\n",
    "        classifier_path: path to all the trained classifiers\n",
    "        fmt: e.g. \"epoch_\\d+_[0-1].\\d+_(\\d+.\\d{4}).hdf5\"\n",
    "        'epoch_\\d+_valloss_(\\d+.\\d{4})_valacc_\\d+.\\d{4}.hdf5'\n",
    "        is_max: use max; otherwise, min\n",
    "        purge: True to purge models files except the best one\n",
    "    Return:\n",
    "        the path of the model with the best accuracy\n",
    "    \"\"\"\n",
    "    # list all files ending with .hdf5\n",
    "    day_list = sorted(glob.glob(os.path.join(classifier_path + '/', '*.hdf5')))\n",
    "\n",
    "    # re the last 4 digits for accuracy\n",
    "    hdf5_filename = []\n",
    "    hdf5_accu = np.zeros(len(day_list))\n",
    "    for dd in range(len(day_list)):\n",
    "        filename = os.path.basename(day_list[dd])\n",
    "        hdf5_filename.append(filename)\n",
    "        # m = re.search(\"_F1_(0.\\d{4}).hdf5\", filename)\n",
    "        # m = re.search(\"_([0-1].\\d{4}).hdf5\", filename)\n",
    "        # m = re.search(\"epoch_\\d+_[0-1].\\d+_(\\d+.\\d{4}).hdf5\", filename)\n",
    "        m = re.search(fmt, filename)\n",
    "        try:\n",
    "            hdf5_accu[dd] = float(m.groups()[0])\n",
    "        except:\n",
    "            continue\n",
    "\n",
    "    # select the laregest one and write to the variable classifier_file\n",
    "    if len(hdf5_accu) == 0:\n",
    "        best_model_path = ''\n",
    "        best_accu = 0\n",
    "    else:\n",
    "        if is_max is True:\n",
    "            ind_max = np.argmax(hdf5_accu)\n",
    "        else: # use min instead\n",
    "            ind_max = np.argmin(hdf5_accu)\n",
    "        best_model_path = day_list[int(ind_max)]\n",
    "        best_accu = hdf5_accu[ind_max]\n",
    "        # purge all model files except the best_model\n",
    "        if purge:\n",
    "            for ff in day_list:\n",
    "                if ff != best_model_path:\n",
    "                    os.remove(ff)\n",
    "    print('Best model:'+str(best_accu))\n",
    "    print(best_model_path)\n",
    "    return best_model_path, best_accu\n"
   ]
  },
  {
   "cell_type": "code",
   "execution_count": 13,
   "metadata": {},
   "outputs": [],
   "source": [
    "### cnn4 + attention\n",
    "# model = model_cnn_attention(dim_time, dim_freq, num_species, model_type='decision_level_max_pooling', conv_dim=conv_dim, l2_regu=l2_regu, drop_rate=drop_rate)\n",
    "# model = model_cnn_attention(dim_time, dim_freq, num_species, model_type='decision_level_multi_attention', conv_dim=conv_dim, l2_regu=l2_regu, drop_rate=drop_rate)\n",
    "# model = model_cnn_attention(dim_time, dim_freq, num_species, model_type='feature_level_attention', conv_dim=conv_dim, l2_regu=l2_regu, drop_rate=drop_rate)\n",
    "\n",
    "# vggish\n",
    "# model = model_vggish(dim_time, dim_freq, num_species, conv_dim=conv_dim, fcn_dim=fcn_dim)\n",
    "\n",
    "# cnn10\n",
    "# model = model_cnn10(dim_time, dim_freq, num_species, conv_dim=conv_dim, fcn_dim=fcn_dim, l2_regu=l2_regu, drop_rate=drop_rate)\n",
    "\n",
    "# cnn14\n",
    "# model = model_cnn14(dim_time, dim_freq, num_species, conv_dim=conv_dim, fcn_dim=fcn_dim, l2_regu=l2_regu, drop_rate=drop_rate)\n",
    "\n",
    "# cnn14 attention\n",
    "# model = model_cnn14_attention(dim_time, dim_freq, num_species, model_type='feature_level_attention', conv_dim=conv_dim, pool_size=pool_size, pool_stride=pool_stride, hidden_units=hidden_units, l2_regu=l2_regu, drop_rate=drop_rate)\n",
    "# model = model_cnn14_bigru_attention(dim_time, dim_freq, num_species, model_type='feature_level_attention', conv_dim=conv_dim, rnn_dim=rnn_dim, hidden_units=hidden_units, l2_regu=l2_regu, drop_rate=drop_rate)\n",
    "\n",
    "# model = model_cnn14_attention_multi(dim_time, dim_freq, num_species, model_type='feature_level_attention', conv_dim=conv_dim, pool_size=pool_size, pool_stride=pool_stride, hidden_units=hidden_units, l2_regu=l2_regu, drop_rate=drop_rate)\n",
    "# model = model_cnn14_spp(dim_time, dim_freq, num_species, conv_dim=conv_dim, pool_size=pool_size, pool_stride=pool_stride, hidden_units=hidden_units, l2_regu=l2_regu, drop_rate=drop_rate)\n",
    "# loss = CategoricalCrossentropy()\n",
    "# model.compile(optimizer=tf.keras.optimizers.Adam(learning_rate=learning_rate), loss=loss, metrics=['accuracy'])\n",
    "\n"
   ]
  },
  {
   "cell_type": "code",
   "execution_count": 14,
   "metadata": {},
   "outputs": [],
   "source": [
    "boundaries = [20, 40]\n",
    "values = [1.0e-3, 3.33e-4, 1.0e-4]\n",
    "learning_rate_fn = PiecewiseConstantDecay(boundaries, values)"
   ]
  },
  {
   "cell_type": "markdown",
   "metadata": {},
   "source": [
    "# Cross validation"
   ]
  },
  {
   "cell_type": "code",
   "execution_count": 15,
   "metadata": {},
   "outputs": [],
   "source": [
    "today = datetime.now()\n",
    "# create a folder based on date & time\n",
    "fit_result_path1 = os.path.join(fit_result_path, today.strftime('%Y%m%d_%H%M%S'))"
   ]
  },
  {
   "cell_type": "markdown",
   "metadata": {},
   "source": [
    "## STAR2000"
   ]
  },
  {
   "cell_type": "code",
   "execution_count": 81,
   "metadata": {},
   "outputs": [
    {
     "name": "stdout",
     "output_type": "stream",
     "text": [
      "STAR2000\n"
     ]
    }
   ],
   "source": [
    "ee = deployment[0]\n",
    "print(ee)"
   ]
  },
  {
   "cell_type": "code",
   "execution_count": 91,
   "metadata": {},
   "outputs": [],
   "source": [
    "# Training data\n",
    "fea_temp = np.load(os.path.join(feature_path, 'train_oswald_no_'+ee+'.npz'))\n",
    "fea_train = fea_temp['fea_train']\n",
    "label_train_list = fea_temp['label_train']\n",
    "del fea_temp"
   ]
  },
  {
   "cell_type": "code",
   "execution_count": 92,
   "metadata": {},
   "outputs": [],
   "source": [
    "label_train = np.zeros(len(label_train_list))\n",
    "for ii in range(len(label_train_list)):\n",
    "    label_train[ii] = species_dict[label_train_list[ii]]"
   ]
  },
  {
   "cell_type": "code",
   "execution_count": 93,
   "metadata": {},
   "outputs": [],
   "source": [
    "# Testing data\n",
    "fea_temp = np.load(os.path.join(feature_path, 'oswald_'+ee+'_orig.npz'))\n",
    "fea_test = fea_temp['feas_orig']\n",
    "label_test_list = fea_temp['labels_orig']\n",
    "\n",
    "fea_test = fea_test[:,:100,:]\n",
    "label_test = np.zeros(len(label_test_list))\n",
    "for ii in range(len(label_test_list)):\n",
    "    label_test[ii] = species_dict[label_test_list[ii]]"
   ]
  },
  {
   "cell_type": "code",
   "execution_count": 94,
   "metadata": {},
   "outputs": [],
   "source": [
    "fea_train = fea_train[:,:100,:]"
   ]
  },
  {
   "cell_type": "code",
   "execution_count": 95,
   "metadata": {},
   "outputs": [],
   "source": [
    "label_train = np.zeros(len(label_train_list))\n",
    "for ii in range(len(label_train_list)):\n",
    "    label_train[ii] = species_dict[label_train_list[ii]]"
   ]
  },
  {
   "cell_type": "code",
   "execution_count": 96,
   "metadata": {
    "scrolled": true
   },
   "outputs": [
    {
     "data": {
      "text/plain": [
       "Counter({'BD': 15028,\n",
       "         'CD': 4848,\n",
       "         'FKW': 20160,\n",
       "         'SPIN': 5734,\n",
       "         'SPT': 13436,\n",
       "         'STR': 12528,\n",
       "         'PLT': 14288,\n",
       "         'RT': 10944})"
      ]
     },
     "execution_count": 96,
     "metadata": {},
     "output_type": "execute_result"
    }
   ],
   "source": [
    "Counter(label_train_list)"
   ]
  },
  {
   "cell_type": "code",
   "execution_count": 97,
   "metadata": {},
   "outputs": [
    {
     "data": {
      "text/plain": [
       "Counter({0.0: 121, 1.0: 3964, 5.0: 31, 6.0: 76, 4.0: 491, 3.0: 845, 2.0: 1140})"
      ]
     },
     "execution_count": 97,
     "metadata": {},
     "output_type": "execute_result"
    }
   ],
   "source": [
    "Counter(label_test.tolist())"
   ]
  },
  {
   "cell_type": "code",
   "execution_count": 82,
   "metadata": {},
   "outputs": [],
   "source": [
    "fit_result_path2 = os.path.join(fit_result_path1, ee)\n",
    "if not os.path.exists(fit_result_path2):\n",
    "    makedirs(fit_result_path2)"
   ]
  },
  {
   "cell_type": "code",
   "execution_count": 25,
   "metadata": {},
   "outputs": [
    {
     "name": "stdout",
     "output_type": "stream",
     "text": [
      "feature train shape: (96966, 100, 128)\n",
      "feature test shape: (6668, 100, 128)\n",
      "label train shape: (96966,)\n",
      "label test shape: (6668,)\n",
      "dim_time: 100\n",
      "dim_freq: 128\n"
     ]
    }
   ],
   "source": [
    "print('feature train shape: '+str(fea_train.shape))\n",
    "print('feature test shape: '+str(fea_test.shape))\n",
    "print('label train shape: '+str(label_train.shape))\n",
    "print('label test shape: '+str(label_test.shape))\n",
    "\n",
    "dim_time = fea_train.shape[1]\n",
    "dim_freq = fea_train.shape[2]\n",
    "print('dim_time: '+str(dim_time))\n",
    "print('dim_freq: '+str(dim_freq))"
   ]
  },
  {
   "cell_type": "code",
   "execution_count": 26,
   "metadata": {},
   "outputs": [],
   "source": [
    "# shuffle features & labels\n",
    "fea_train, label_train = shuffle(fea_train, label_train, random_state=0)\n",
    "fea_test, label_test = shuffle(fea_test, label_test, random_state=0)"
   ]
  },
  {
   "cell_type": "code",
   "execution_count": 27,
   "metadata": {},
   "outputs": [],
   "source": [
    "# class weight\n",
    "weights = compute_class_weight(class_weight='balanced', classes=np.unique(label_train), y=label_train)\n",
    "\n",
    "class_weights = dict()\n",
    "for ii in range(num_species):\n",
    "    class_weights[ii] = weights[ii]"
   ]
  },
  {
   "cell_type": "code",
   "execution_count": 28,
   "metadata": {},
   "outputs": [],
   "source": [
    "fea_train = np.expand_dims(fea_train, axis=3)\n",
    "fea_test = np.expand_dims(fea_test, axis=3)"
   ]
  },
  {
   "cell_type": "code",
   "execution_count": 29,
   "metadata": {},
   "outputs": [],
   "source": [
    "fea_train, fea_validate, label_train, label_validate = train_test_split(fea_train, label_train, test_size=0.10, random_state=42+4)\n",
    "\n",
    "train_generator = DataGenerator(fea_train, label_train, batch_size=batch_size, num_classes=num_species)\n",
    "del fea_train\n",
    "validate_generator = DataGenerator(fea_validate, label_validate, batch_size=batch_size, num_classes=num_species)\n",
    "del fea_validate\n",
    "\n",
    "# test_generator = DataGenerator(fea_test, label_test, batch_size=batch_size, num_classes=num_species)\n"
   ]
  },
  {
   "cell_type": "markdown",
   "metadata": {},
   "source": [
    "### Training the model"
   ]
  },
  {
   "cell_type": "code",
   "execution_count": 30,
   "metadata": {
    "scrolled": true
   },
   "outputs": [
    {
     "name": "stdout",
     "output_type": "stream",
     "text": [
      "Model: \"model\"\n",
      "_________________________________________________________________\n",
      "Layer (type)                 Output Shape              Param #   \n",
      "=================================================================\n",
      "input (InputLayer)           [(None, 100, 128, 1)]     0         \n",
      "_________________________________________________________________\n",
      "conv2d (Conv2D)              (None, 100, 128, 16)      160       \n",
      "_________________________________________________________________\n",
      "batch_normalization (BatchNo (None, 100, 128, 16)      64        \n",
      "_________________________________________________________________\n",
      "activation (Activation)      (None, 100, 128, 16)      0         \n",
      "_________________________________________________________________\n",
      "conv2d_1 (Conv2D)            (None, 100, 128, 16)      2320      \n",
      "_________________________________________________________________\n",
      "batch_normalization_1 (Batch (None, 100, 128, 16)      64        \n",
      "_________________________________________________________________\n",
      "activation_1 (Activation)    (None, 100, 128, 16)      0         \n",
      "_________________________________________________________________\n",
      "max_pooling2d (MaxPooling2D) (None, 50, 64, 16)        0         \n",
      "_________________________________________________________________\n",
      "dropout (Dropout)            (None, 50, 64, 16)        0         \n",
      "_________________________________________________________________\n",
      "conv2d_2 (Conv2D)            (None, 50, 64, 32)        4640      \n",
      "_________________________________________________________________\n",
      "batch_normalization_2 (Batch (None, 50, 64, 32)        128       \n",
      "_________________________________________________________________\n",
      "activation_2 (Activation)    (None, 50, 64, 32)        0         \n",
      "_________________________________________________________________\n",
      "conv2d_3 (Conv2D)            (None, 50, 64, 32)        9248      \n",
      "_________________________________________________________________\n",
      "batch_normalization_3 (Batch (None, 50, 64, 32)        128       \n",
      "_________________________________________________________________\n",
      "activation_3 (Activation)    (None, 50, 64, 32)        0         \n",
      "_________________________________________________________________\n",
      "max_pooling2d_1 (MaxPooling2 (None, 25, 32, 32)        0         \n",
      "_________________________________________________________________\n",
      "dropout_1 (Dropout)          (None, 25, 32, 32)        0         \n",
      "_________________________________________________________________\n",
      "conv2d_4 (Conv2D)            (None, 25, 32, 64)        18496     \n",
      "_________________________________________________________________\n",
      "batch_normalization_4 (Batch (None, 25, 32, 64)        256       \n",
      "_________________________________________________________________\n",
      "activation_4 (Activation)    (None, 25, 32, 64)        0         \n",
      "_________________________________________________________________\n",
      "conv2d_5 (Conv2D)            (None, 25, 32, 64)        36928     \n",
      "_________________________________________________________________\n",
      "batch_normalization_5 (Batch (None, 25, 32, 64)        256       \n",
      "_________________________________________________________________\n",
      "activation_5 (Activation)    (None, 25, 32, 64)        0         \n",
      "_________________________________________________________________\n",
      "max_pooling2d_2 (MaxPooling2 (None, 13, 16, 64)        0         \n",
      "_________________________________________________________________\n",
      "dropout_2 (Dropout)          (None, 13, 16, 64)        0         \n",
      "_________________________________________________________________\n",
      "conv2d_6 (Conv2D)            (None, 13, 16, 128)       73856     \n",
      "_________________________________________________________________\n",
      "batch_normalization_6 (Batch (None, 13, 16, 128)       512       \n",
      "_________________________________________________________________\n",
      "activation_6 (Activation)    (None, 13, 16, 128)       0         \n",
      "_________________________________________________________________\n",
      "conv2d_7 (Conv2D)            (None, 13, 16, 128)       147584    \n",
      "_________________________________________________________________\n",
      "batch_normalization_7 (Batch (None, 13, 16, 128)       512       \n",
      "_________________________________________________________________\n",
      "activation_7 (Activation)    (None, 13, 16, 128)       0         \n",
      "_________________________________________________________________\n",
      "max_pooling2d_3 (MaxPooling2 (None, 7, 8, 128)         0         \n",
      "_________________________________________________________________\n",
      "dropout_3 (Dropout)          (None, 7, 8, 128)         0         \n",
      "_________________________________________________________________\n",
      "conv2d_8 (Conv2D)            (None, 7, 8, 256)         295168    \n",
      "_________________________________________________________________\n",
      "batch_normalization_8 (Batch (None, 7, 8, 256)         1024      \n",
      "_________________________________________________________________\n",
      "activation_8 (Activation)    (None, 7, 8, 256)         0         \n",
      "_________________________________________________________________\n",
      "conv2d_9 (Conv2D)            (None, 7, 8, 256)         590080    \n",
      "_________________________________________________________________\n",
      "batch_normalization_9 (Batch (None, 7, 8, 256)         1024      \n",
      "_________________________________________________________________\n",
      "activation_9 (Activation)    (None, 7, 8, 256)         0         \n",
      "_________________________________________________________________\n",
      "spatial_pyramid_pooling2d (S (None, 21, 256)           0         \n",
      "_________________________________________________________________\n",
      "reshape (Reshape)            (None, 5376)              0         \n",
      "_________________________________________________________________\n",
      "dense (Dense)                (None, 256)               1376512   \n",
      "_________________________________________________________________\n",
      "batch_normalization_10 (Batc (None, 256)               1024      \n",
      "_________________________________________________________________\n",
      "activation_10 (Activation)   (None, 256)               0         \n",
      "_________________________________________________________________\n",
      "dropout_4 (Dropout)          (None, 256)               0         \n",
      "_________________________________________________________________\n",
      "dense_1 (Dense)              (None, 256)               65792     \n",
      "_________________________________________________________________\n",
      "batch_normalization_11 (Batc (None, 256)               1024      \n",
      "_________________________________________________________________\n",
      "activation_11 (Activation)   (None, 256)               0         \n",
      "_________________________________________________________________\n",
      "dropout_5 (Dropout)          (None, 256)               0         \n",
      "_________________________________________________________________\n",
      "dense_2 (Dense)              (None, 256)               65792     \n",
      "_________________________________________________________________\n",
      "batch_normalization_12 (Batc (None, 256)               1024      \n",
      "_________________________________________________________________\n",
      "activation_12 (Activation)   (None, 256)               0         \n",
      "_________________________________________________________________\n",
      "dropout_6 (Dropout)          (None, 256)               0         \n",
      "_________________________________________________________________\n",
      "dense_3 (Dense)              (None, 8)                 2056      \n",
      "=================================================================\n",
      "Total params: 2,695,672\n",
      "Trainable params: 2,692,152\n",
      "Non-trainable params: 3,520\n",
      "_________________________________________________________________\n",
      "Epoch 1/200\n",
      "5454/5454 [==============================] - ETA: 0s - loss: 2.3032 - accuracy: 0.2492\n",
      "Epoch 00001: val_loss improved from inf to 2.04433, saving model to /home/ys587/__Data/__whistle/__whislte_30_species/__fit_result_species/20210303_233728/STAR2000/epoch_01_valloss_2.0443_valacc_0.3413.hdf5\n",
      "5454/5454 [==============================] - 128s 23ms/step - loss: 2.3032 - accuracy: 0.2492 - val_loss: 2.0443 - val_accuracy: 0.3413\n",
      "Epoch 2/200\n",
      "5454/5454 [==============================] - ETA: 0s - loss: 1.7593 - accuracy: 0.4191\n",
      "Epoch 00002: val_loss improved from 2.04433 to 1.91754, saving model to /home/ys587/__Data/__whistle/__whislte_30_species/__fit_result_species/20210303_233728/STAR2000/epoch_02_valloss_1.9175_valacc_0.3271.hdf5\n",
      "5454/5454 [==============================] - 136s 25ms/step - loss: 1.7593 - accuracy: 0.4191 - val_loss: 1.9175 - val_accuracy: 0.3271\n",
      "Epoch 3/200\n",
      "5454/5454 [==============================] - ETA: 0s - loss: 1.6058 - accuracy: 0.4699\n",
      "Epoch 00003: val_loss improved from 1.91754 to 1.67744, saving model to /home/ys587/__Data/__whistle/__whislte_30_species/__fit_result_species/20210303_233728/STAR2000/epoch_03_valloss_1.6774_valacc_0.3896.hdf5\n",
      "5454/5454 [==============================] - 135s 25ms/step - loss: 1.6058 - accuracy: 0.4699 - val_loss: 1.6774 - val_accuracy: 0.3896\n",
      "Epoch 4/200\n",
      "5454/5454 [==============================] - ETA: 0s - loss: 1.5156 - accuracy: 0.5033\n",
      "Epoch 00004: val_loss improved from 1.67744 to 1.57026, saving model to /home/ys587/__Data/__whistle/__whislte_30_species/__fit_result_species/20210303_233728/STAR2000/epoch_04_valloss_1.5703_valacc_0.4355.hdf5\n",
      "5454/5454 [==============================] - 133s 24ms/step - loss: 1.5156 - accuracy: 0.5033 - val_loss: 1.5703 - val_accuracy: 0.4355\n",
      "Epoch 5/200\n",
      "5452/5454 [============================>.] - ETA: 0s - loss: 1.4404 - accuracy: 0.5340\n",
      "Epoch 00005: val_loss did not improve from 1.57026\n",
      "5454/5454 [==============================] - 132s 24ms/step - loss: 1.4404 - accuracy: 0.5340 - val_loss: 1.6642 - val_accuracy: 0.4250\n",
      "Epoch 6/200\n",
      "5454/5454 [==============================] - ETA: 0s - loss: 1.3824 - accuracy: 0.5568\n",
      "Epoch 00006: val_loss improved from 1.57026 to 1.49370, saving model to /home/ys587/__Data/__whistle/__whislte_30_species/__fit_result_species/20210303_233728/STAR2000/epoch_06_valloss_1.4937_valacc_0.4970.hdf5\n",
      "5454/5454 [==============================] - 133s 24ms/step - loss: 1.3824 - accuracy: 0.5568 - val_loss: 1.4937 - val_accuracy: 0.4970\n",
      "Epoch 7/200\n",
      "5453/5454 [============================>.] - ETA: 0s - loss: 1.3335 - accuracy: 0.5769\n",
      "Epoch 00007: val_loss improved from 1.49370 to 1.37525, saving model to /home/ys587/__Data/__whistle/__whislte_30_species/__fit_result_species/20210303_233728/STAR2000/epoch_07_valloss_1.3753_valacc_0.5382.hdf5\n",
      "5454/5454 [==============================] - 136s 25ms/step - loss: 1.3335 - accuracy: 0.5769 - val_loss: 1.3753 - val_accuracy: 0.5382\n",
      "Epoch 8/200\n",
      "5454/5454 [==============================] - ETA: 0s - loss: 1.2933 - accuracy: 0.5910\n",
      "Epoch 00008: val_loss improved from 1.37525 to 1.36762, saving model to /home/ys587/__Data/__whistle/__whislte_30_species/__fit_result_species/20210303_233728/STAR2000/epoch_08_valloss_1.3676_valacc_0.5289.hdf5\n",
      "5454/5454 [==============================] - 138s 25ms/step - loss: 1.2933 - accuracy: 0.5910 - val_loss: 1.3676 - val_accuracy: 0.5289\n",
      "Epoch 9/200\n",
      "5452/5454 [============================>.] - ETA: 0s - loss: 1.2556 - accuracy: 0.6067\n",
      "Epoch 00009: val_loss improved from 1.36762 to 1.28100, saving model to /home/ys587/__Data/__whistle/__whislte_30_species/__fit_result_species/20210303_233728/STAR2000/epoch_09_valloss_1.2810_valacc_0.5629.hdf5\n",
      "5454/5454 [==============================] - 132s 24ms/step - loss: 1.2556 - accuracy: 0.6067 - val_loss: 1.2810 - val_accuracy: 0.5629\n",
      "Epoch 10/200\n",
      "5454/5454 [==============================] - ETA: 0s - loss: 1.2229 - accuracy: 0.6171\n",
      "Epoch 00010: val_loss did not improve from 1.28100\n",
      "5454/5454 [==============================] - 133s 24ms/step - loss: 1.2229 - accuracy: 0.6171 - val_loss: 1.3570 - val_accuracy: 0.5447\n",
      "Epoch 11/200\n",
      "5453/5454 [============================>.] - ETA: 0s - loss: 1.1926 - accuracy: 0.6281\n",
      "Epoch 00011: val_loss did not improve from 1.28100\n",
      "5454/5454 [==============================] - 133s 24ms/step - loss: 1.1925 - accuracy: 0.6282 - val_loss: 1.3233 - val_accuracy: 0.5531\n",
      "Epoch 12/200\n",
      "5454/5454 [==============================] - ETA: 0s - loss: 1.1672 - accuracy: 0.6367\n",
      "Epoch 00012: val_loss did not improve from 1.28100\n",
      "5454/5454 [==============================] - 137s 25ms/step - loss: 1.1672 - accuracy: 0.6367 - val_loss: 1.3506 - val_accuracy: 0.5684\n",
      "Epoch 13/200\n",
      "5452/5454 [============================>.] - ETA: 0s - loss: 1.1419 - accuracy: 0.6463\n",
      "Epoch 00013: val_loss improved from 1.28100 to 1.21739, saving model to /home/ys587/__Data/__whistle/__whislte_30_species/__fit_result_species/20210303_233728/STAR2000/epoch_13_valloss_1.2174_valacc_0.6011.hdf5\n",
      "5454/5454 [==============================] - 137s 25ms/step - loss: 1.1418 - accuracy: 0.6463 - val_loss: 1.2174 - val_accuracy: 0.6011\n",
      "Epoch 14/200\n",
      "5451/5454 [============================>.] - ETA: 0s - loss: 1.1190 - accuracy: 0.6544\n",
      "Epoch 00014: val_loss improved from 1.21739 to 1.13073, saving model to /home/ys587/__Data/__whistle/__whislte_30_species/__fit_result_species/20210303_233728/STAR2000/epoch_14_valloss_1.1307_valacc_0.6491.hdf5\n",
      "5454/5454 [==============================] - 134s 25ms/step - loss: 1.1194 - accuracy: 0.6543 - val_loss: 1.1307 - val_accuracy: 0.6491\n",
      "Epoch 15/200\n",
      "5453/5454 [============================>.] - ETA: 0s - loss: 1.0995 - accuracy: 0.6637\n",
      "Epoch 00015: val_loss improved from 1.13073 to 1.10815, saving model to /home/ys587/__Data/__whistle/__whislte_30_species/__fit_result_species/20210303_233728/STAR2000/epoch_15_valloss_1.1082_valacc_0.6537.hdf5\n",
      "5454/5454 [==============================] - 134s 25ms/step - loss: 1.0995 - accuracy: 0.6636 - val_loss: 1.1082 - val_accuracy: 0.6537\n",
      "Epoch 16/200\n",
      "5454/5454 [==============================] - ETA: 0s - loss: 1.0817 - accuracy: 0.6705\n",
      "Epoch 00016: val_loss improved from 1.10815 to 1.08781, saving model to /home/ys587/__Data/__whistle/__whislte_30_species/__fit_result_species/20210303_233728/STAR2000/epoch_16_valloss_1.0878_valacc_0.6493.hdf5\n",
      "5454/5454 [==============================] - 135s 25ms/step - loss: 1.0817 - accuracy: 0.6705 - val_loss: 1.0878 - val_accuracy: 0.6493\n",
      "Epoch 17/200\n",
      "5454/5454 [==============================] - ETA: 0s - loss: 1.0616 - accuracy: 0.6785\n",
      "Epoch 00017: val_loss improved from 1.08781 to 1.02654, saving model to /home/ys587/__Data/__whistle/__whislte_30_species/__fit_result_species/20210303_233728/STAR2000/epoch_17_valloss_1.0265_valacc_0.6818.hdf5\n",
      "5454/5454 [==============================] - 135s 25ms/step - loss: 1.0616 - accuracy: 0.6785 - val_loss: 1.0265 - val_accuracy: 0.6818\n",
      "Epoch 18/200\n",
      "5453/5454 [============================>.] - ETA: 0s - loss: 1.0412 - accuracy: 0.6872\n",
      "Epoch 00018: val_loss did not improve from 1.02654\n",
      "5454/5454 [==============================] - 135s 25ms/step - loss: 1.0411 - accuracy: 0.6872 - val_loss: 1.1440 - val_accuracy: 0.6411\n",
      "Epoch 19/200\n",
      "5454/5454 [==============================] - ETA: 0s - loss: 1.0248 - accuracy: 0.6912\n",
      "Epoch 00019: val_loss did not improve from 1.02654\n",
      "5454/5454 [==============================] - 135s 25ms/step - loss: 1.0248 - accuracy: 0.6912 - val_loss: 1.1461 - val_accuracy: 0.6394\n",
      "Epoch 20/200\n",
      "5454/5454 [==============================] - ETA: 0s - loss: 1.0113 - accuracy: 0.6979\n",
      "Epoch 00020: val_loss improved from 1.02654 to 1.01782, saving model to /home/ys587/__Data/__whistle/__whislte_30_species/__fit_result_species/20210303_233728/STAR2000/epoch_20_valloss_1.0178_valacc_0.6987.hdf5\n",
      "5454/5454 [==============================] - 134s 25ms/step - loss: 1.0113 - accuracy: 0.6979 - val_loss: 1.0178 - val_accuracy: 0.6987\n",
      "Epoch 21/200\n",
      "5454/5454 [==============================] - ETA: 0s - loss: 1.0024 - accuracy: 0.7020\n",
      "Epoch 00021: val_loss did not improve from 1.01782\n",
      "5454/5454 [==============================] - 135s 25ms/step - loss: 1.0024 - accuracy: 0.7020 - val_loss: 1.0431 - val_accuracy: 0.6849\n",
      "Epoch 22/200\n",
      "5451/5454 [============================>.] - ETA: 0s - loss: 0.9847 - accuracy: 0.7100\n",
      "Epoch 00022: val_loss did not improve from 1.01782\n",
      "5454/5454 [==============================] - 135s 25ms/step - loss: 0.9847 - accuracy: 0.7101 - val_loss: 1.1087 - val_accuracy: 0.6645\n",
      "Epoch 23/200\n",
      "5454/5454 [==============================] - ETA: 0s - loss: 0.9722 - accuracy: 0.7131\n",
      "Epoch 00023: val_loss improved from 1.01782 to 0.97471, saving model to /home/ys587/__Data/__whistle/__whislte_30_species/__fit_result_species/20210303_233728/STAR2000/epoch_23_valloss_0.9747_valacc_0.7099.hdf5\n",
      "5454/5454 [==============================] - 134s 25ms/step - loss: 0.9722 - accuracy: 0.7131 - val_loss: 0.9747 - val_accuracy: 0.7099\n",
      "Epoch 24/200\n",
      "5453/5454 [============================>.] - ETA: 0s - loss: 0.9581 - accuracy: 0.7199\n",
      "Epoch 00024: val_loss did not improve from 0.97471\n",
      "5454/5454 [==============================] - 135s 25ms/step - loss: 0.9580 - accuracy: 0.7199 - val_loss: 0.9994 - val_accuracy: 0.6935\n",
      "Epoch 25/200\n",
      "5454/5454 [==============================] - ETA: 0s - loss: 0.9451 - accuracy: 0.7232\n",
      "Epoch 00025: val_loss did not improve from 0.97471\n",
      "5454/5454 [==============================] - 135s 25ms/step - loss: 0.9451 - accuracy: 0.7232 - val_loss: 1.0860 - val_accuracy: 0.6734\n",
      "Epoch 26/200\n",
      "5452/5454 [============================>.] - ETA: 0s - loss: 0.9376 - accuracy: 0.7271\n",
      "Epoch 00026: val_loss did not improve from 0.97471\n",
      "5454/5454 [==============================] - 135s 25ms/step - loss: 0.9376 - accuracy: 0.7271 - val_loss: 1.0961 - val_accuracy: 0.6647\n",
      "Epoch 27/200\n",
      "5454/5454 [==============================] - ETA: 0s - loss: 0.9277 - accuracy: 0.7320\n",
      "Epoch 00027: val_loss did not improve from 0.97471\n",
      "5454/5454 [==============================] - 135s 25ms/step - loss: 0.9277 - accuracy: 0.7320 - val_loss: 1.0216 - val_accuracy: 0.6965\n",
      "Epoch 28/200\n",
      "5454/5454 [==============================] - ETA: 0s - loss: 0.9141 - accuracy: 0.7391\n",
      "Epoch 00028: val_loss improved from 0.97471 to 0.96226, saving model to /home/ys587/__Data/__whistle/__whislte_30_species/__fit_result_species/20210303_233728/STAR2000/epoch_28_valloss_0.9623_valacc_0.7216.hdf5\n",
      "5454/5454 [==============================] - 136s 25ms/step - loss: 0.9141 - accuracy: 0.7391 - val_loss: 0.9623 - val_accuracy: 0.7216\n",
      "Epoch 29/200\n",
      "5454/5454 [==============================] - ETA: 0s - loss: 0.9051 - accuracy: 0.7418\n",
      "Epoch 00029: val_loss did not improve from 0.96226\n",
      "5454/5454 [==============================] - 135s 25ms/step - loss: 0.9051 - accuracy: 0.7418 - val_loss: 1.0746 - val_accuracy: 0.6748\n",
      "Epoch 30/200\n",
      "5454/5454 [==============================] - ETA: 0s - loss: 0.8970 - accuracy: 0.7452\n",
      "Epoch 00030: val_loss did not improve from 0.96226\n",
      "5454/5454 [==============================] - 136s 25ms/step - loss: 0.8970 - accuracy: 0.7452 - val_loss: 0.9890 - val_accuracy: 0.7157\n",
      "Epoch 31/200\n",
      "5452/5454 [============================>.] - ETA: 0s - loss: 0.8935 - accuracy: 0.7487\n",
      "Epoch 00031: val_loss did not improve from 0.96226\n",
      "5454/5454 [==============================] - 136s 25ms/step - loss: 0.8935 - accuracy: 0.7487 - val_loss: 1.0117 - val_accuracy: 0.7066\n",
      "Epoch 32/200\n",
      "5453/5454 [============================>.] - ETA: 0s - loss: 0.8812 - accuracy: 0.7541 ETA: 0s - loss:\n",
      "Epoch 00032: val_loss did not improve from 0.96226\n",
      "5454/5454 [==============================] - 137s 25ms/step - loss: 0.8812 - accuracy: 0.7541 - val_loss: 1.0564 - val_accuracy: 0.6799\n",
      "Epoch 33/200\n",
      "5453/5454 [============================>.] - ETA: 0s - loss: 0.8695 - accuracy: 0.7579\n",
      "Epoch 00033: val_loss did not improve from 0.96226\n",
      "5454/5454 [==============================] - 136s 25ms/step - loss: 0.8695 - accuracy: 0.7579 - val_loss: 0.9844 - val_accuracy: 0.7157\n",
      "Epoch 34/200\n",
      "5452/5454 [============================>.] - ETA: 0s - loss: 0.8629 - accuracy: 0.7623\n",
      "Epoch 00034: val_loss did not improve from 0.96226\n",
      "5454/5454 [==============================] - 136s 25ms/step - loss: 0.8629 - accuracy: 0.7623 - val_loss: 0.9636 - val_accuracy: 0.7232\n",
      "Epoch 35/200\n",
      "5454/5454 [==============================] - ETA: 0s - loss: 0.8611 - accuracy: 0.7626\n",
      "Epoch 00035: val_loss improved from 0.96226 to 0.95611, saving model to /home/ys587/__Data/__whistle/__whislte_30_species/__fit_result_species/20210303_233728/STAR2000/epoch_35_valloss_0.9561_valacc_0.7365.hdf5\n",
      "5454/5454 [==============================] - 136s 25ms/step - loss: 0.8611 - accuracy: 0.7626 - val_loss: 0.9561 - val_accuracy: 0.7365\n",
      "Epoch 36/200\n",
      "5454/5454 [==============================] - ETA: 0s - loss: 0.8550 - accuracy: 0.7659\n",
      "Epoch 00036: val_loss did not improve from 0.95611\n",
      "5454/5454 [==============================] - 135s 25ms/step - loss: 0.8550 - accuracy: 0.7659 - val_loss: 0.9595 - val_accuracy: 0.7251\n",
      "Epoch 37/200\n",
      "5453/5454 [============================>.] - ETA: 0s - loss: 0.8458 - accuracy: 0.7685\n",
      "Epoch 00037: val_loss did not improve from 0.95611\n",
      "5454/5454 [==============================] - 135s 25ms/step - loss: 0.8458 - accuracy: 0.7685 - val_loss: 1.0345 - val_accuracy: 0.6970\n",
      "Epoch 38/200\n",
      "5454/5454 [==============================] - ETA: 0s - loss: 0.8400 - accuracy: 0.7727\n",
      "Epoch 00038: val_loss did not improve from 0.95611\n",
      "5454/5454 [==============================] - 135s 25ms/step - loss: 0.8400 - accuracy: 0.7727 - val_loss: 1.0343 - val_accuracy: 0.7119\n",
      "Epoch 39/200\n",
      "5453/5454 [============================>.] - ETA: 0s - loss: 0.8270 - accuracy: 0.7769\n",
      "Epoch 00039: val_loss did not improve from 0.95611\n",
      "5454/5454 [==============================] - 135s 25ms/step - loss: 0.8270 - accuracy: 0.7769 - val_loss: 1.0656 - val_accuracy: 0.7014\n",
      "Epoch 40/200\n",
      "5454/5454 [==============================] - ETA: 0s - loss: 0.8259 - accuracy: 0.7765\n",
      "Epoch 00040: val_loss did not improve from 0.95611\n",
      "5454/5454 [==============================] - 135s 25ms/step - loss: 0.8259 - accuracy: 0.7765 - val_loss: 1.0563 - val_accuracy: 0.7031\n",
      "Epoch 41/200\n",
      "5454/5454 [==============================] - ETA: 0s - loss: 0.8212 - accuracy: 0.7790\n",
      "Epoch 00041: val_loss did not improve from 0.95611\n",
      "5454/5454 [==============================] - 136s 25ms/step - loss: 0.8212 - accuracy: 0.7790 - val_loss: 1.0496 - val_accuracy: 0.6965\n",
      "Epoch 42/200\n",
      "5454/5454 [==============================] - ETA: 0s - loss: 0.8114 - accuracy: 0.7828\n",
      "Epoch 00042: val_loss did not improve from 0.95611\n",
      "5454/5454 [==============================] - 135s 25ms/step - loss: 0.8114 - accuracy: 0.7828 - val_loss: 0.9631 - val_accuracy: 0.7373\n",
      "Epoch 43/200\n",
      "5454/5454 [==============================] - ETA: 0s - loss: 0.8088 - accuracy: 0.7866\n",
      "Epoch 00043: val_loss did not improve from 0.95611\n",
      "5454/5454 [==============================] - 135s 25ms/step - loss: 0.8088 - accuracy: 0.7866 - val_loss: 0.9807 - val_accuracy: 0.7297\n",
      "Epoch 44/200\n",
      "5453/5454 [============================>.] - ETA: 0s - loss: 0.8023 - accuracy: 0.7892\n",
      "Epoch 00044: val_loss did not improve from 0.95611\n",
      "5454/5454 [==============================] - 135s 25ms/step - loss: 0.8024 - accuracy: 0.7892 - val_loss: 0.9838 - val_accuracy: 0.7285\n",
      "Epoch 45/200\n",
      "5454/5454 [==============================] - ETA: 0s - loss: 0.8001 - accuracy: 0.7913\n",
      "Epoch 00045: val_loss did not improve from 0.95611\n",
      "5454/5454 [==============================] - 136s 25ms/step - loss: 0.8001 - accuracy: 0.7913 - val_loss: 0.9659 - val_accuracy: 0.7450\n",
      "Epoch 46/200\n",
      "5453/5454 [============================>.] - ETA: 0s - loss: 0.7915 - accuracy: 0.7943\n",
      "Epoch 00046: val_loss did not improve from 0.95611\n",
      "5454/5454 [==============================] - 135s 25ms/step - loss: 0.7914 - accuracy: 0.7944 - val_loss: 1.0665 - val_accuracy: 0.7116\n",
      "Epoch 47/200\n",
      "5452/5454 [============================>.] - ETA: 0s - loss: 0.7856 - accuracy: 0.7966\n",
      "Epoch 00047: val_loss improved from 0.95611 to 0.95355, saving model to /home/ys587/__Data/__whistle/__whislte_30_species/__fit_result_species/20210303_233728/STAR2000/epoch_47_valloss_0.9536_valacc_0.7493.hdf5\n",
      "5454/5454 [==============================] - 136s 25ms/step - loss: 0.7857 - accuracy: 0.7966 - val_loss: 0.9536 - val_accuracy: 0.7493\n",
      "Epoch 48/200\n",
      "5452/5454 [============================>.] - ETA: 0s - loss: 0.7835 - accuracy: 0.7989\n",
      "Epoch 00048: val_loss did not improve from 0.95355\n",
      "5454/5454 [==============================] - 136s 25ms/step - loss: 0.7834 - accuracy: 0.7989 - val_loss: 1.0045 - val_accuracy: 0.7305\n",
      "Epoch 49/200\n",
      "5452/5454 [============================>.] - ETA: 0s - loss: 0.7807 - accuracy: 0.7993\n",
      "Epoch 00049: val_loss did not improve from 0.95355\n",
      "5454/5454 [==============================] - 136s 25ms/step - loss: 0.7806 - accuracy: 0.7993 - val_loss: 0.9769 - val_accuracy: 0.7499\n",
      "Epoch 50/200\n",
      "5452/5454 [============================>.] - ETA: 0s - loss: 0.7725 - accuracy: 0.8035\n",
      "Epoch 00050: val_loss did not improve from 0.95355\n",
      "5454/5454 [==============================] - 135s 25ms/step - loss: 0.7724 - accuracy: 0.8035 - val_loss: 0.9977 - val_accuracy: 0.7345\n",
      "Epoch 51/200\n",
      "5452/5454 [============================>.] - ETA: 0s - loss: 0.7681 - accuracy: 0.8066\n",
      "Epoch 00051: val_loss did not improve from 0.95355\n",
      "5454/5454 [==============================] - 136s 25ms/step - loss: 0.7681 - accuracy: 0.8066 - val_loss: 0.9663 - val_accuracy: 0.7410\n",
      "Epoch 52/200\n",
      "5452/5454 [============================>.] - ETA: 0s - loss: 0.7643 - accuracy: 0.8084\n",
      "Epoch 00052: val_loss did not improve from 0.95355\n",
      "5454/5454 [==============================] - 136s 25ms/step - loss: 0.7643 - accuracy: 0.8084 - val_loss: 1.0559 - val_accuracy: 0.7298\n",
      "Epoch 53/200\n",
      "5454/5454 [==============================] - ETA: 0s - loss: 0.7571 - accuracy: 0.8116\n",
      "Epoch 00053: val_loss improved from 0.95355 to 0.95049, saving model to /home/ys587/__Data/__whistle/__whislte_30_species/__fit_result_species/20210303_233728/STAR2000/epoch_53_valloss_0.9505_valacc_0.7552.hdf5\n",
      "5454/5454 [==============================] - 137s 25ms/step - loss: 0.7571 - accuracy: 0.8116 - val_loss: 0.9505 - val_accuracy: 0.7552\n",
      "Epoch 54/200\n",
      "5452/5454 [============================>.] - ETA: 0s - loss: 0.7531 - accuracy: 0.8123\n",
      "Epoch 00054: val_loss did not improve from 0.95049\n",
      "5454/5454 [==============================] - 136s 25ms/step - loss: 0.7531 - accuracy: 0.8123 - val_loss: 0.9668 - val_accuracy: 0.7550\n",
      "Epoch 55/200\n",
      "5454/5454 [==============================] - ETA: 0s - loss: 0.7532 - accuracy: 0.8142\n",
      "Epoch 00055: val_loss did not improve from 0.95049\n",
      "5454/5454 [==============================] - 135s 25ms/step - loss: 0.7532 - accuracy: 0.8142 - val_loss: 0.9968 - val_accuracy: 0.7384\n",
      "Epoch 56/200\n",
      "5454/5454 [==============================] - ETA: 0s - loss: 0.7466 - accuracy: 0.8148\n",
      "Epoch 00056: val_loss did not improve from 0.95049\n",
      "5454/5454 [==============================] - 135s 25ms/step - loss: 0.7466 - accuracy: 0.8148 - val_loss: 0.9691 - val_accuracy: 0.7488\n",
      "Epoch 57/200\n",
      "5453/5454 [============================>.] - ETA: 0s - loss: 0.7462 - accuracy: 0.8164\n",
      "Epoch 00057: val_loss did not improve from 0.95049\n",
      "5454/5454 [==============================] - 135s 25ms/step - loss: 0.7462 - accuracy: 0.8164 - val_loss: 0.9690 - val_accuracy: 0.7527\n",
      "Epoch 58/200\n",
      "5454/5454 [==============================] - ETA: 0s - loss: 0.7362 - accuracy: 0.8214\n",
      "Epoch 00058: val_loss did not improve from 0.95049\n",
      "5454/5454 [==============================] - 135s 25ms/step - loss: 0.7362 - accuracy: 0.8214 - val_loss: 1.1261 - val_accuracy: 0.7224\n",
      "Epoch 59/200\n",
      "5453/5454 [============================>.] - ETA: 0s - loss: 0.7406 - accuracy: 0.8186\n",
      "Epoch 00059: val_loss did not improve from 0.95049\n",
      "5454/5454 [==============================] - 135s 25ms/step - loss: 0.7406 - accuracy: 0.8186 - val_loss: 1.0366 - val_accuracy: 0.7359\n",
      "Epoch 60/200\n",
      "5454/5454 [==============================] - ETA: 0s - loss: 0.7335 - accuracy: 0.8227\n",
      "Epoch 00060: val_loss did not improve from 0.95049\n",
      "5454/5454 [==============================] - 135s 25ms/step - loss: 0.7335 - accuracy: 0.8227 - val_loss: 0.9515 - val_accuracy: 0.7694\n",
      "Epoch 61/200\n",
      "5453/5454 [============================>.] - ETA: 0s - loss: 0.7318 - accuracy: 0.8226\n",
      "Epoch 00061: val_loss did not improve from 0.95049\n",
      "5454/5454 [==============================] - 136s 25ms/step - loss: 0.7318 - accuracy: 0.8226 - val_loss: 1.0388 - val_accuracy: 0.7446\n",
      "Epoch 62/200\n",
      "5454/5454 [==============================] - ETA: 0s - loss: 0.7260 - accuracy: 0.8259\n",
      "Epoch 00062: val_loss did not improve from 0.95049\n",
      "5454/5454 [==============================] - 135s 25ms/step - loss: 0.7260 - accuracy: 0.8259 - val_loss: 1.0414 - val_accuracy: 0.7316\n",
      "Epoch 63/200\n",
      "5453/5454 [============================>.] - ETA: 0s - loss: 0.7261 - accuracy: 0.8274\n",
      "Epoch 00063: val_loss did not improve from 0.95049\n",
      "5454/5454 [==============================] - 136s 25ms/step - loss: 0.7261 - accuracy: 0.8273 - val_loss: 1.0307 - val_accuracy: 0.7400\n",
      "Epoch 64/200\n",
      "5453/5454 [============================>.] - ETA: 0s - loss: 0.7184 - accuracy: 0.8299\n",
      "Epoch 00064: val_loss did not improve from 0.95049\n",
      "5454/5454 [==============================] - 135s 25ms/step - loss: 0.7184 - accuracy: 0.8299 - val_loss: 1.0672 - val_accuracy: 0.7343\n",
      "Epoch 65/200\n",
      "5454/5454 [==============================] - ETA: 0s - loss: 0.7161 - accuracy: 0.8309\n",
      "Epoch 00065: val_loss did not improve from 0.95049\n",
      "5454/5454 [==============================] - 136s 25ms/step - loss: 0.7161 - accuracy: 0.8309 - val_loss: 1.0669 - val_accuracy: 0.7390\n",
      "Epoch 66/200\n",
      "5453/5454 [============================>.] - ETA: 0s - loss: 0.7149 - accuracy: 0.8320\n",
      "Epoch 00066: val_loss did not improve from 0.95049\n",
      "5454/5454 [==============================] - 135s 25ms/step - loss: 0.7149 - accuracy: 0.8320 - val_loss: 0.9560 - val_accuracy: 0.7724\n",
      "Epoch 67/200\n",
      "5454/5454 [==============================] - ETA: 0s - loss: 0.7082 - accuracy: 0.8355\n",
      "Epoch 00067: val_loss did not improve from 0.95049\n",
      "5454/5454 [==============================] - 135s 25ms/step - loss: 0.7082 - accuracy: 0.8355 - val_loss: 1.0933 - val_accuracy: 0.7275\n",
      "Epoch 68/200\n",
      "5453/5454 [============================>.] - ETA: 0s - loss: 0.7065 - accuracy: 0.8350\n",
      "Epoch 00068: val_loss did not improve from 0.95049\n",
      "5454/5454 [==============================] - 135s 25ms/step - loss: 0.7066 - accuracy: 0.8350 - val_loss: 0.9824 - val_accuracy: 0.7643\n",
      "Epoch 69/200\n",
      "5452/5454 [============================>.] - ETA: 0s - loss: 0.7042 - accuracy: 0.8364\n",
      "Epoch 00069: val_loss did not improve from 0.95049\n",
      "5454/5454 [==============================] - 135s 25ms/step - loss: 0.7045 - accuracy: 0.8364 - val_loss: 1.0181 - val_accuracy: 0.7438\n",
      "Epoch 70/200\n",
      "5454/5454 [==============================] - ETA: 0s - loss: 0.7030 - accuracy: 0.8387\n",
      "Epoch 00070: val_loss did not improve from 0.95049\n",
      "5454/5454 [==============================] - 136s 25ms/step - loss: 0.7030 - accuracy: 0.8387 - val_loss: 1.0618 - val_accuracy: 0.7386\n",
      "Epoch 71/200\n",
      "5454/5454 [==============================] - ETA: 0s - loss: 0.6962 - accuracy: 0.8395\n",
      "Epoch 00071: val_loss did not improve from 0.95049\n",
      "5454/5454 [==============================] - 135s 25ms/step - loss: 0.6962 - accuracy: 0.8395 - val_loss: 0.9781 - val_accuracy: 0.7610\n",
      "Epoch 72/200\n",
      "5453/5454 [============================>.] - ETA: 0s - loss: 0.6976 - accuracy: 0.8404\n",
      "Epoch 00072: val_loss did not improve from 0.95049\n",
      "5454/5454 [==============================] - 136s 25ms/step - loss: 0.6975 - accuracy: 0.8405 - val_loss: 1.0007 - val_accuracy: 0.7591\n",
      "Epoch 73/200\n",
      "5453/5454 [============================>.] - ETA: 0s - loss: 0.6941 - accuracy: 0.8419\n",
      "Epoch 00073: val_loss did not improve from 0.95049\n",
      "5454/5454 [==============================] - 135s 25ms/step - loss: 0.6941 - accuracy: 0.8419 - val_loss: 0.9929 - val_accuracy: 0.7660\n",
      "Epoch 00073: early stopping\n"
     ]
    }
   ],
   "source": [
    "# model = model_cnn14_attention_multi(dim_time, dim_freq, num_species, model_type='feature_level_attention', conv_dim=conv_dim, pool_size=pool_size, pool_stride=pool_stride, hidden_units=hidden_units, l2_regu=l2_regu, drop_rate=drop_rate)\n",
    "model = model_cnn14_spp(dim_time, dim_freq, num_species, conv_dim=conv_dim, pool_size=pool_size, pool_stride=pool_stride, hidden_units=hidden_units, l2_regu=l2_regu, drop_rate=drop_rate)\n",
    "loss = CategoricalCrossentropy()\n",
    "model.compile(optimizer=tf.keras.optimizers.Adam(learning_rate=learning_rate_fn), loss=loss, metrics=['accuracy'])\n",
    "# model.compile(optimizer=tf.keras.optimizers.Adam(learning_rate=learning_rate), loss=loss, metrics=['accuracy'])\n",
    "model.summary()\n",
    "\n",
    "# With classes\n",
    "# history = model.fit(fea_train, to_categorical(label_train), class_weight=class_weights, validation_split=0.3, batch_size=batch_size, epochs=num_epoch, callbacks=[EarlyStopping(patience=num_patience), ModelCheckpoint(filepath=os.path.join(fit_result_path, '{epoch:02d}-{val_loss:.4f}.hdf5'), verbose=1, monitor=\"val_loss\", save_best_only=True)])\n",
    "# history = model.fit(train_generator, validation_data=validate_generator, class_weight=class_weights, epochs=num_epoch, callbacks=[EarlyStopping(patience=num_patience, monitor='val_loss', mode='min', verbose=1), TensorBoard(log_dir=fit_result_path1), ModelCheckpoint(filepath=os.path.join(fit_result_path1, '{epoch:02d}-{val_loss:.4f}.hdf5'), verbose=1, monitor=\"val_loss\", save_best_only=True)])\n",
    "history = model.fit(train_generator, validation_data=validate_generator, class_weight=class_weights, epochs=num_epoch, callbacks=[EarlyStopping(patience=num_patience, monitor='val_loss', mode='min', verbose=1), TensorBoard(log_dir=fit_result_path2), ModelCheckpoint(filepath=os.path.join(fit_result_path2, 'epoch_{epoch:02d}_valloss_{val_loss:.4f}_valacc_{val_accuracy:.4f}.hdf5' ), verbose=1, monitor=\"val_loss\", save_best_only=True)])"
   ]
  },
  {
   "cell_type": "code",
   "execution_count": 83,
   "metadata": {},
   "outputs": [
    {
     "name": "stdout",
     "output_type": "stream",
     "text": [
      "Best model:0.9505\n",
      "/home/ys587/__Data/__whistle/__whislte_30_species/__fit_result_species/20210303_233728/STAR2000/epoch_53_valloss_0.9505_valacc_0.7552.hdf5\n"
     ]
    }
   ],
   "source": [
    "# fit_result_path1 = '/home/ys587/__Data/__whistle/__whislte_30_species/__fit_result_species/20210210_224527'\n",
    "the_best_model, _ = find_best_model(fit_result_path2, purge=False)"
   ]
  },
  {
   "cell_type": "code",
   "execution_count": 84,
   "metadata": {
    "scrolled": true
   },
   "outputs": [
    {
     "name": "stdout",
     "output_type": "stream",
     "text": [
      "Model: \"model\"\n",
      "_________________________________________________________________\n",
      "Layer (type)                 Output Shape              Param #   \n",
      "=================================================================\n",
      "input (InputLayer)           [(None, 100, 128, 1)]     0         \n",
      "_________________________________________________________________\n",
      "conv2d (Conv2D)              (None, 100, 128, 16)      160       \n",
      "_________________________________________________________________\n",
      "batch_normalization (BatchNo (None, 100, 128, 16)      64        \n",
      "_________________________________________________________________\n",
      "activation (Activation)      (None, 100, 128, 16)      0         \n",
      "_________________________________________________________________\n",
      "conv2d_1 (Conv2D)            (None, 100, 128, 16)      2320      \n",
      "_________________________________________________________________\n",
      "batch_normalization_1 (Batch (None, 100, 128, 16)      64        \n",
      "_________________________________________________________________\n",
      "activation_1 (Activation)    (None, 100, 128, 16)      0         \n",
      "_________________________________________________________________\n",
      "max_pooling2d (MaxPooling2D) (None, 50, 64, 16)        0         \n",
      "_________________________________________________________________\n",
      "dropout (Dropout)            (None, 50, 64, 16)        0         \n",
      "_________________________________________________________________\n",
      "conv2d_2 (Conv2D)            (None, 50, 64, 32)        4640      \n",
      "_________________________________________________________________\n",
      "batch_normalization_2 (Batch (None, 50, 64, 32)        128       \n",
      "_________________________________________________________________\n",
      "activation_2 (Activation)    (None, 50, 64, 32)        0         \n",
      "_________________________________________________________________\n",
      "conv2d_3 (Conv2D)            (None, 50, 64, 32)        9248      \n",
      "_________________________________________________________________\n",
      "batch_normalization_3 (Batch (None, 50, 64, 32)        128       \n",
      "_________________________________________________________________\n",
      "activation_3 (Activation)    (None, 50, 64, 32)        0         \n",
      "_________________________________________________________________\n",
      "max_pooling2d_1 (MaxPooling2 (None, 25, 32, 32)        0         \n",
      "_________________________________________________________________\n",
      "dropout_1 (Dropout)          (None, 25, 32, 32)        0         \n",
      "_________________________________________________________________\n",
      "conv2d_4 (Conv2D)            (None, 25, 32, 64)        18496     \n",
      "_________________________________________________________________\n",
      "batch_normalization_4 (Batch (None, 25, 32, 64)        256       \n",
      "_________________________________________________________________\n",
      "activation_4 (Activation)    (None, 25, 32, 64)        0         \n",
      "_________________________________________________________________\n",
      "conv2d_5 (Conv2D)            (None, 25, 32, 64)        36928     \n",
      "_________________________________________________________________\n",
      "batch_normalization_5 (Batch (None, 25, 32, 64)        256       \n",
      "_________________________________________________________________\n",
      "activation_5 (Activation)    (None, 25, 32, 64)        0         \n",
      "_________________________________________________________________\n",
      "max_pooling2d_2 (MaxPooling2 (None, 13, 16, 64)        0         \n",
      "_________________________________________________________________\n",
      "dropout_2 (Dropout)          (None, 13, 16, 64)        0         \n",
      "_________________________________________________________________\n",
      "conv2d_6 (Conv2D)            (None, 13, 16, 128)       73856     \n",
      "_________________________________________________________________\n",
      "batch_normalization_6 (Batch (None, 13, 16, 128)       512       \n",
      "_________________________________________________________________\n",
      "activation_6 (Activation)    (None, 13, 16, 128)       0         \n",
      "_________________________________________________________________\n",
      "conv2d_7 (Conv2D)            (None, 13, 16, 128)       147584    \n",
      "_________________________________________________________________\n",
      "batch_normalization_7 (Batch (None, 13, 16, 128)       512       \n",
      "_________________________________________________________________\n",
      "activation_7 (Activation)    (None, 13, 16, 128)       0         \n",
      "_________________________________________________________________\n",
      "max_pooling2d_3 (MaxPooling2 (None, 7, 8, 128)         0         \n",
      "_________________________________________________________________\n",
      "dropout_3 (Dropout)          (None, 7, 8, 128)         0         \n",
      "_________________________________________________________________\n",
      "conv2d_8 (Conv2D)            (None, 7, 8, 256)         295168    \n",
      "_________________________________________________________________\n",
      "batch_normalization_8 (Batch (None, 7, 8, 256)         1024      \n",
      "_________________________________________________________________\n",
      "activation_8 (Activation)    (None, 7, 8, 256)         0         \n",
      "_________________________________________________________________\n",
      "conv2d_9 (Conv2D)            (None, 7, 8, 256)         590080    \n",
      "_________________________________________________________________\n",
      "batch_normalization_9 (Batch (None, 7, 8, 256)         1024      \n",
      "_________________________________________________________________\n",
      "activation_9 (Activation)    (None, 7, 8, 256)         0         \n",
      "_________________________________________________________________\n",
      "spatial_pyramid_pooling2d (S (None, 21, 256)           0         \n",
      "_________________________________________________________________\n",
      "reshape (Reshape)            (None, 5376)              0         \n",
      "_________________________________________________________________\n",
      "dense (Dense)                (None, 256)               1376512   \n",
      "_________________________________________________________________\n",
      "batch_normalization_10 (Batc (None, 256)               1024      \n",
      "_________________________________________________________________\n",
      "activation_10 (Activation)   (None, 256)               0         \n",
      "_________________________________________________________________\n",
      "dropout_4 (Dropout)          (None, 256)               0         \n",
      "_________________________________________________________________\n",
      "dense_1 (Dense)              (None, 256)               65792     \n",
      "_________________________________________________________________\n",
      "batch_normalization_11 (Batc (None, 256)               1024      \n",
      "_________________________________________________________________\n",
      "activation_11 (Activation)   (None, 256)               0         \n",
      "_________________________________________________________________\n",
      "dropout_5 (Dropout)          (None, 256)               0         \n",
      "_________________________________________________________________\n",
      "dense_2 (Dense)              (None, 256)               65792     \n",
      "_________________________________________________________________\n",
      "batch_normalization_12 (Batc (None, 256)               1024      \n",
      "_________________________________________________________________\n",
      "activation_12 (Activation)   (None, 256)               0         \n",
      "_________________________________________________________________\n",
      "dropout_6 (Dropout)          (None, 256)               0         \n",
      "_________________________________________________________________\n",
      "dense_3 (Dense)              (None, 8)                 2056      \n",
      "=================================================================\n",
      "Total params: 2,695,672\n",
      "Trainable params: 2,692,152\n",
      "Non-trainable params: 3,520\n",
      "_________________________________________________________________\n"
     ]
    }
   ],
   "source": [
    "model = load_model(the_best_model)\n",
    "model.summary()"
   ]
  },
  {
   "cell_type": "code",
   "execution_count": 100,
   "metadata": {},
   "outputs": [],
   "source": [
    "label_pred = model.predict(fea_test)\n",
    "# label_pred = model.predict(test_generator)"
   ]
  },
  {
   "cell_type": "code",
   "execution_count": 101,
   "metadata": {},
   "outputs": [],
   "source": [
    "np.set_printoptions(linewidth=200, precision=2, suppress=True)"
   ]
  },
  {
   "cell_type": "code",
   "execution_count": 102,
   "metadata": {},
   "outputs": [
    {
     "name": "stdout",
     "output_type": "stream",
     "text": [
      "Confusion matrix:\n",
      "['BD', 'CD', 'STR', 'SPT', 'SPIN', 'PLT', 'RT', 'FKW']\n",
      "\n",
      "[[  31   19   14   35    3    4   10    5]\n",
      " [ 374 1610 1062  345   89  317  136   31]\n",
      " [ 171  195  383  223   23   79   42   24]\n",
      " [  43  343   76  286    9   69   14    5]\n",
      " [ 158   58   91  113   63    8    0    0]\n",
      " [   0    0    0    2    0   22    1    6]\n",
      " [  16    3   12    3    0   10   26    6]\n",
      " [   0    0    0    0    0    0    0    0]]\n",
      "\n",
      "[[0.26 0.16 0.12 0.29 0.02 0.03 0.08 0.04]\n",
      " [0.09 0.41 0.27 0.09 0.02 0.08 0.03 0.01]\n",
      " [0.15 0.17 0.34 0.2  0.02 0.07 0.04 0.02]\n",
      " [0.05 0.41 0.09 0.34 0.01 0.08 0.02 0.01]\n",
      " [0.32 0.12 0.19 0.23 0.13 0.02 0.   0.  ]\n",
      " [0.   0.   0.   0.06 0.   0.71 0.03 0.19]\n",
      " [0.21 0.04 0.16 0.04 0.   0.13 0.34 0.08]\n",
      " [0.   0.   0.   0.   0.   0.   0.   0.  ]]\n"
     ]
    }
   ],
   "source": [
    "print(\"Confusion matrix:\")\n",
    "cm = confusion_matrix(label_test, np.argmax(label_pred, axis=1), labels=species_id)\n",
    "\n",
    "print(species_list)\n",
    "print('')\n",
    "print(cm)\n",
    "print('')\n",
    "\n",
    "cm2 = cm*1.0\n",
    "for ii in range(cm.shape[0]):\n",
    "    cm_row = cm[ii, :]*1.0\n",
    "\n",
    "    cm_row_sum = cm_row.sum()\n",
    "    if cm_row_sum != 0:\n",
    "        cm2[ii, :] = cm_row / cm_row_sum\n",
    "    else:\n",
    "        cm2[ii, :] = np.zeros(cm.shape[1])\n",
    "\n",
    "print(cm2)"
   ]
  },
  {
   "cell_type": "code",
   "execution_count": 103,
   "metadata": {},
   "outputs": [],
   "source": [
    "from sklearn.metrics import plot_confusion_matrix\n",
    "from sklearn.metrics._plot.confusion_matrix import ConfusionMatrixDisplay\n",
    "disp = ConfusionMatrixDisplay(confusion_matrix=cm, display_labels=species_list)\n",
    "disp2 = ConfusionMatrixDisplay(confusion_matrix=cm2, display_labels=species_list)"
   ]
  },
  {
   "cell_type": "code",
   "execution_count": 104,
   "metadata": {},
   "outputs": [
    {
     "data": {
      "text/plain": [
       "<sklearn.metrics._plot.confusion_matrix.ConfusionMatrixDisplay at 0x7f23c2dc6af0>"
      ]
     },
     "execution_count": 104,
     "metadata": {},
     "output_type": "execute_result"
    },
    {
     "data": {
      "image/png": "[encoded data removed]",
      "text/plain": [
       "<Figure size 1080x1080 with 2 Axes>"
      ]
     },
     "metadata": {
      "needs_background": "light"
     },
     "output_type": "display_data"
    }
   ],
   "source": [
    "fig, ax = plt.subplots(figsize=[15, 15])\n",
    "disp.plot(include_values=True,\n",
    "                     cmap='viridis', ax=ax, xticks_rotation='horizontal',\n",
    "                     values_format=None, colorbar=True)\n"
   ]
  },
  {
   "cell_type": "code",
   "execution_count": 105,
   "metadata": {},
   "outputs": [
    {
     "data": {
      "text/plain": [
       "<sklearn.metrics._plot.confusion_matrix.ConfusionMatrixDisplay at 0x7f23c2dc6a30>"
      ]
     },
     "execution_count": 105,
     "metadata": {},
     "output_type": "execute_result"
    },
    {
     "data": {
      "image/png": "[encoded data removed]",
      "text/plain": [
       "<Figure size 1080x1080 with 2 Axes>"
      ]
     },
     "metadata": {
      "needs_background": "light"
     },
     "output_type": "display_data"
    }
   ],
   "source": [
    "fig, ax = plt.subplots(figsize=[15, 15])\n",
    "disp2.plot(include_values=True,\n",
    "                     cmap='viridis', ax=ax, xticks_rotation='horizontal',\n",
    "                     values_format='.2f', colorbar=True)"
   ]
  },
  {
   "cell_type": "raw",
   "metadata": {},
   "source": [
    "from sklearn.metrics import classification_report\n",
    "# >>> target_names = ['class 0', 'class 1', 'class 2']\n",
    "print(classification_report(label_test, np.argmax(label_pred, axis=1), target_names=list(range(num_species))))"
   ]
  },
  {
   "cell_type": "markdown",
   "metadata": {},
   "source": [
    "## top k accuracy score"
   ]
  },
  {
   "cell_type": "code",
   "execution_count": 40,
   "metadata": {},
   "outputs": [],
   "source": [
    "from sklearn.metrics import top_k_accuracy_score"
   ]
  },
  {
   "cell_type": "code",
   "execution_count": 41,
   "metadata": {},
   "outputs": [
    {
     "name": "stdout",
     "output_type": "stream",
     "text": [
      "k=1:  \n",
      "0.3630773845230954\n",
      "k=2:  \n",
      "0.5575884823035393\n",
      "k=3:  \n",
      "0.6901619676064787\n",
      "k=4:  \n",
      "0.7955908818236352\n",
      "k=5:  \n",
      "0.8780743851229754\n",
      "k=6:  \n",
      "0.9454109178164367\n",
      "k=7:  \n",
      "0.9761547690461908\n",
      "k=8:  \n",
      "1.0\n"
     ]
    },
    {
     "name": "stderr",
     "output_type": "stream",
     "text": [
      "/home/ys587/miniconda3/envs/whistle_classifier/lib/python3.8/site-packages/sklearn/metrics/_ranking.py:1693: UndefinedMetricWarning: 'k' (8) greater than or equal to 'n_classes' (8) will result in a perfect score and is therefore meaningless.\n",
      "  warnings.warn(\n"
     ]
    }
   ],
   "source": [
    "top_k = []\n",
    "for kk in range(1, num_species+1):\n",
    "    print('k='+str(kk)+':  ')\n",
    "    this_acc = top_k_accuracy_score(label_test, label_pred, k=kk, labels=list(range(num_species)))\n",
    "    print(this_acc)\n",
    "    top_k.append(this_acc)"
   ]
  },
  {
   "cell_type": "code",
   "execution_count": 42,
   "metadata": {},
   "outputs": [
    {
     "data": {
      "image/png": "[encoded data removed]",
      "text/plain": [
       "<Figure size 432x288 with 1 Axes>"
      ]
     },
     "metadata": {
      "needs_background": "light"
     },
     "output_type": "display_data"
    }
   ],
   "source": [
    "# %matplotlib inline\n",
    "fig = plt.figure()\n",
    "ax = fig.subplots()\n",
    "ax.bar(list(range(1, num_species+1)), top_k)\n",
    "ax.grid(axis='y')"
   ]
  },
  {
   "cell_type": "code",
   "execution_count": null,
   "metadata": {},
   "outputs": [],
   "source": []
  },
  {
   "cell_type": "markdown",
   "metadata": {},
   "source": [
    "## average_precision_score"
   ]
  },
  {
   "cell_type": "raw",
   "metadata": {},
   "source": [
    "from sklearn.metrics import average_precision_score\n",
    "from tensorflow.keras.utils import to_categorical"
   ]
  },
  {
   "cell_type": "raw",
   "metadata": {},
   "source": [
    "average_precision_score(to_categorical(label_test, num_classes=8), label_pred)"
   ]
  },
  {
   "cell_type": "raw",
   "metadata": {},
   "source": [
    "from collections import Counter\n",
    "Counter(label_test)"
   ]
  },
  {
   "cell_type": "code",
   "execution_count": null,
   "metadata": {},
   "outputs": [],
   "source": []
  },
  {
   "cell_type": "markdown",
   "metadata": {},
   "source": [
    "## STAR2003"
   ]
  },
  {
   "cell_type": "code",
   "execution_count": 43,
   "metadata": {},
   "outputs": [
    {
     "name": "stdout",
     "output_type": "stream",
     "text": [
      "STAR2003\n"
     ]
    }
   ],
   "source": [
    "ee = deployment[1]\n",
    "print(ee)"
   ]
  },
  {
   "cell_type": "code",
   "execution_count": 44,
   "metadata": {},
   "outputs": [],
   "source": [
    "# Training data\n",
    "fea_temp = np.load(os.path.join(feature_path, 'train_oswald_no_'+ee+'.npz'))\n",
    "fea_train = fea_temp['fea_train']\n",
    "label_train_list = fea_temp['label_train']\n",
    "del fea_temp"
   ]
  },
  {
   "cell_type": "code",
   "execution_count": 45,
   "metadata": {},
   "outputs": [],
   "source": [
    "label_train = np.zeros(len(label_train_list))\n",
    "for ii in range(len(label_train_list)):\n",
    "    label_train[ii] = species_dict[label_train_list[ii]]"
   ]
  },
  {
   "cell_type": "code",
   "execution_count": 46,
   "metadata": {},
   "outputs": [],
   "source": [
    "# Testing data\n",
    "fea_temp = np.load(os.path.join(feature_path, 'oswald_'+ee+'_orig.npz'))\n",
    "fea_test = fea_temp['feas_orig']\n",
    "label_test_list = fea_temp['labels_orig']\n",
    "\n",
    "fea_test = fea_test[:,:100,:]\n",
    "label_test = np.zeros(len(label_test_list))\n",
    "for ii in range(len(label_test_list)):\n",
    "    label_test[ii] = species_dict[label_test_list[ii]]"
   ]
  },
  {
   "cell_type": "code",
   "execution_count": 47,
   "metadata": {},
   "outputs": [],
   "source": [
    "fea_train = fea_train[:,:100,:]"
   ]
  },
  {
   "cell_type": "code",
   "execution_count": 48,
   "metadata": {},
   "outputs": [],
   "source": [
    "label_train = np.zeros(len(label_train_list))\n",
    "for ii in range(len(label_train_list)):\n",
    "    label_train[ii] = species_dict[label_train_list[ii]]"
   ]
  },
  {
   "cell_type": "code",
   "execution_count": 49,
   "metadata": {
    "scrolled": true
   },
   "outputs": [
    {
     "data": {
      "text/plain": [
       "Counter({'BD': 14412,\n",
       "         'CD': 24120,\n",
       "         'PLT': 14784,\n",
       "         'RT': 12008,\n",
       "         'SPIN': 11014,\n",
       "         'SPT': 18590,\n",
       "         'STR': 23280,\n",
       "         'FKW': 17460})"
      ]
     },
     "execution_count": 49,
     "metadata": {},
     "output_type": "execute_result"
    }
   ],
   "source": [
    "Counter(label_train_list)"
   ]
  },
  {
   "cell_type": "code",
   "execution_count": 50,
   "metadata": {},
   "outputs": [
    {
     "data": {
      "text/plain": [
       "Counter({0.0: 231, 1.0: 752, 7.0: 270, 4.0: 51, 3.0: 412, 2.0: 54})"
      ]
     },
     "execution_count": 50,
     "metadata": {},
     "output_type": "execute_result"
    }
   ],
   "source": [
    "Counter(label_test.tolist())"
   ]
  },
  {
   "cell_type": "code",
   "execution_count": 51,
   "metadata": {},
   "outputs": [],
   "source": [
    "fit_result_path2 = os.path.join(fit_result_path1, ee)\n",
    "if not os.path.exists(fit_result_path2):\n",
    "    makedirs(fit_result_path2)"
   ]
  },
  {
   "cell_type": "code",
   "execution_count": 52,
   "metadata": {},
   "outputs": [
    {
     "name": "stdout",
     "output_type": "stream",
     "text": [
      "feature train shape: (135668, 100, 128)\n",
      "feature test shape: (1770, 100, 128)\n",
      "label train shape: (135668,)\n",
      "label test shape: (1770,)\n",
      "dim_time: 100\n",
      "dim_freq: 128\n"
     ]
    }
   ],
   "source": [
    "print('feature train shape: '+str(fea_train.shape))\n",
    "print('feature test shape: '+str(fea_test.shape))\n",
    "print('label train shape: '+str(label_train.shape))\n",
    "print('label test shape: '+str(label_test.shape))\n",
    "\n",
    "dim_time = fea_train.shape[1]\n",
    "dim_freq = fea_train.shape[2]\n",
    "print('dim_time: '+str(dim_time))\n",
    "print('dim_freq: '+str(dim_freq))"
   ]
  },
  {
   "cell_type": "code",
   "execution_count": 53,
   "metadata": {},
   "outputs": [],
   "source": [
    "# shuffle features & labels\n",
    "fea_train, label_train = shuffle(fea_train, label_train, random_state=0)\n",
    "fea_test, label_test = shuffle(fea_test, label_test, random_state=0)"
   ]
  },
  {
   "cell_type": "code",
   "execution_count": 54,
   "metadata": {},
   "outputs": [],
   "source": [
    "# class weight\n",
    "weights = compute_class_weight(class_weight='balanced', classes=np.unique(label_train), y=label_train)\n",
    "\n",
    "class_weights = dict()\n",
    "for ii in range(num_species):\n",
    "    class_weights[ii] = weights[ii]"
   ]
  },
  {
   "cell_type": "code",
   "execution_count": 55,
   "metadata": {},
   "outputs": [],
   "source": [
    "fea_train = np.expand_dims(fea_train, axis=3)\n",
    "fea_test = np.expand_dims(fea_test, axis=3)"
   ]
  },
  {
   "cell_type": "code",
   "execution_count": 56,
   "metadata": {},
   "outputs": [],
   "source": [
    "fea_train, fea_validate, label_train, label_validate = train_test_split(fea_train, label_train, test_size=0.10, random_state=42)\n",
    "\n",
    "train_generator = DataGenerator(fea_train, label_train, batch_size=batch_size, num_classes=num_species)\n",
    "del fea_train\n",
    "validate_generator = DataGenerator(fea_validate, label_validate, batch_size=batch_size, num_classes=num_species)\n",
    "del fea_validate\n",
    "\n",
    "# test_generator = DataGenerator(fea_test, label_test, batch_size=batch_size, num_classes=num_species)\n"
   ]
  },
  {
   "cell_type": "markdown",
   "metadata": {},
   "source": [
    "### Training the model"
   ]
  },
  {
   "cell_type": "code",
   "execution_count": 57,
   "metadata": {
    "scrolled": true
   },
   "outputs": [
    {
     "name": "stdout",
     "output_type": "stream",
     "text": [
      "Epoch 1/200\n",
      "   2/7631 [..............................] - ETA: 21:42 - loss: 3.0454 - accuracy: 0.0938WARNING:tensorflow:Method (on_train_batch_end) is slow compared to the batch update (0.169203). Check your callbacks.\n",
      "7631/7631 [==============================] - ETA: 0s - loss: 2.2125 - accuracy: 0.2779\n",
      "Epoch 00001: val_loss improved from inf to 1.87301, saving model to /home/ys587/__Data/__whistle/__whislte_30_species/__fit_result_species/20210303_233728/STAR2003/epoch_01_valloss_1.8730_valacc_0.3412.hdf5\n",
      "7631/7631 [==============================] - 199s 26ms/step - loss: 2.2125 - accuracy: 0.2779 - val_loss: 1.8730 - val_accuracy: 0.3412\n",
      "Epoch 2/200\n",
      "7630/7631 [============================>.] - ETA: 0s - loss: 1.6772 - accuracy: 0.4343\n",
      "Epoch 00002: val_loss improved from 1.87301 to 1.52406, saving model to /home/ys587/__Data/__whistle/__whislte_30_species/__fit_result_species/20210303_233728/STAR2003/epoch_02_valloss_1.5241_valacc_0.4728.hdf5\n",
      "7631/7631 [==============================] - 196s 26ms/step - loss: 1.6773 - accuracy: 0.4343 - val_loss: 1.5241 - val_accuracy: 0.4728\n",
      "Epoch 3/200\n",
      "7630/7631 [============================>.] - ETA: 0s - loss: 1.5270 - accuracy: 0.4867\n",
      "Epoch 00003: val_loss improved from 1.52406 to 1.44463, saving model to /home/ys587/__Data/__whistle/__whislte_30_species/__fit_result_species/20210303_233728/STAR2003/epoch_03_valloss_1.4446_valacc_0.5194.hdf5\n",
      "7631/7631 [==============================] - 196s 26ms/step - loss: 1.5269 - accuracy: 0.4867 - val_loss: 1.4446 - val_accuracy: 0.5194\n",
      "Epoch 4/200\n",
      "7628/7631 [============================>.] - ETA: 0s - loss: 1.4265 - accuracy: 0.5287\n",
      "Epoch 00004: val_loss did not improve from 1.44463\n",
      "7631/7631 [==============================] - 195s 26ms/step - loss: 1.4266 - accuracy: 0.5287 - val_loss: 1.5267 - val_accuracy: 0.4472\n",
      "Epoch 5/200\n",
      "7628/7631 [============================>.] - ETA: 0s - loss: 1.3524 - accuracy: 0.5556\n",
      "Epoch 00005: val_loss improved from 1.44463 to 1.37347, saving model to /home/ys587/__Data/__whistle/__whislte_30_species/__fit_result_species/20210303_233728/STAR2003/epoch_05_valloss_1.3735_valacc_0.5312.hdf5\n",
      "7631/7631 [==============================] - 195s 26ms/step - loss: 1.3524 - accuracy: 0.5556 - val_loss: 1.3735 - val_accuracy: 0.5312\n",
      "Epoch 6/200\n",
      "7630/7631 [============================>.] - ETA: 0s - loss: 1.2964 - accuracy: 0.5768\n",
      "Epoch 00006: val_loss improved from 1.37347 to 1.18638, saving model to /home/ys587/__Data/__whistle/__whislte_30_species/__fit_result_species/20210303_233728/STAR2003/epoch_06_valloss_1.1864_valacc_0.6183.hdf5\n",
      "7631/7631 [==============================] - 195s 26ms/step - loss: 1.2963 - accuracy: 0.5768 - val_loss: 1.1864 - val_accuracy: 0.6183\n",
      "Epoch 7/200\n",
      "7631/7631 [==============================] - ETA: 0s - loss: 1.2462 - accuracy: 0.5948\n",
      "Epoch 00007: val_loss improved from 1.18638 to 1.13748, saving model to /home/ys587/__Data/__whistle/__whislte_30_species/__fit_result_species/20210303_233728/STAR2003/epoch_07_valloss_1.1375_valacc_0.6271.hdf5\n",
      "7631/7631 [==============================] - 195s 26ms/step - loss: 1.2462 - accuracy: 0.5948 - val_loss: 1.1375 - val_accuracy: 0.6271\n",
      "Epoch 8/200\n",
      "7630/7631 [============================>.] - ETA: 0s - loss: 1.2094 - accuracy: 0.6080 ETA: 0s - loss: 1.2095 - accu\n",
      "Epoch 00008: val_loss improved from 1.13748 to 1.07385, saving model to /home/ys587/__Data/__whistle/__whislte_30_species/__fit_result_species/20210303_233728/STAR2003/epoch_08_valloss_1.0738_valacc_0.6608.hdf5\n",
      "7631/7631 [==============================] - 196s 26ms/step - loss: 1.2094 - accuracy: 0.6080 - val_loss: 1.0738 - val_accuracy: 0.6608\n",
      "Epoch 9/200\n",
      "7629/7631 [============================>.] - ETA: 0s - loss: 1.1776 - accuracy: 0.6216\n",
      "Epoch 00009: val_loss did not improve from 1.07385\n",
      "7631/7631 [==============================] - 196s 26ms/step - loss: 1.1775 - accuracy: 0.6216 - val_loss: 1.1707 - val_accuracy: 0.6164\n",
      "Epoch 10/200\n",
      "7630/7631 [============================>.] - ETA: 0s - loss: 1.1498 - accuracy: 0.6340\n",
      "Epoch 00010: val_loss did not improve from 1.07385\n",
      "7631/7631 [==============================] - 195s 26ms/step - loss: 1.1498 - accuracy: 0.6340 - val_loss: 1.0764 - val_accuracy: 0.6601\n",
      "Epoch 11/200\n",
      "7629/7631 [============================>.] - ETA: 0s - loss: 1.1240 - accuracy: 0.6414\n",
      "Epoch 00011: val_loss did not improve from 1.07385\n",
      "7631/7631 [==============================] - 195s 26ms/step - loss: 1.1240 - accuracy: 0.6414 - val_loss: 1.0910 - val_accuracy: 0.6556\n",
      "Epoch 12/200\n",
      "7630/7631 [============================>.] - ETA: 0s - loss: 1.1054 - accuracy: 0.6480\n",
      "Epoch 00012: val_loss did not improve from 1.07385\n",
      "7631/7631 [==============================] - 195s 26ms/step - loss: 1.1055 - accuracy: 0.6480 - val_loss: 1.1092 - val_accuracy: 0.6462\n",
      "Epoch 13/200\n",
      "7631/7631 [==============================] - ETA: 0s - loss: 1.0830 - accuracy: 0.6594\n",
      "Epoch 00013: val_loss improved from 1.07385 to 1.04353, saving model to /home/ys587/__Data/__whistle/__whislte_30_species/__fit_result_species/20210303_233728/STAR2003/epoch_13_valloss_1.0435_valacc_0.6716.hdf5\n",
      "7631/7631 [==============================] - 196s 26ms/step - loss: 1.0830 - accuracy: 0.6594 - val_loss: 1.0435 - val_accuracy: 0.6716\n",
      "Epoch 14/200\n",
      "7631/7631 [==============================] - ETA: 0s - loss: 1.0626 - accuracy: 0.6664\n",
      "Epoch 00014: val_loss improved from 1.04353 to 1.01722, saving model to /home/ys587/__Data/__whistle/__whislte_30_species/__fit_result_species/20210303_233728/STAR2003/epoch_14_valloss_1.0172_valacc_0.6786.hdf5\n",
      "7631/7631 [==============================] - 195s 26ms/step - loss: 1.0626 - accuracy: 0.6664 - val_loss: 1.0172 - val_accuracy: 0.6786\n",
      "Epoch 15/200\n",
      "7630/7631 [============================>.] - ETA: 0s - loss: 1.0468 - accuracy: 0.6729\n",
      "Epoch 00015: val_loss did not improve from 1.01722\n",
      "7631/7631 [==============================] - 195s 26ms/step - loss: 1.0468 - accuracy: 0.6729 - val_loss: 1.1064 - val_accuracy: 0.6396\n",
      "Epoch 16/200\n",
      "7631/7631 [==============================] - ETA: 0s - loss: 1.0276 - accuracy: 0.6789\n",
      "Epoch 00016: val_loss improved from 1.01722 to 1.00012, saving model to /home/ys587/__Data/__whistle/__whislte_30_species/__fit_result_species/20210303_233728/STAR2003/epoch_16_valloss_1.0001_valacc_0.6897.hdf5\n",
      "7631/7631 [==============================] - 197s 26ms/step - loss: 1.0276 - accuracy: 0.6789 - val_loss: 1.0001 - val_accuracy: 0.6897\n",
      "Epoch 17/200\n",
      "7628/7631 [============================>.] - ETA: 0s - loss: 1.0144 - accuracy: 0.6861\n",
      "Epoch 00017: val_loss did not improve from 1.00012\n",
      "7631/7631 [==============================] - 196s 26ms/step - loss: 1.0144 - accuracy: 0.6861 - val_loss: 1.0294 - val_accuracy: 0.6809\n",
      "Epoch 18/200\n",
      "7630/7631 [============================>.] - ETA: 0s - loss: 1.0025 - accuracy: 0.6906\n",
      "Epoch 00018: val_loss improved from 1.00012 to 0.99694, saving model to /home/ys587/__Data/__whistle/__whislte_30_species/__fit_result_species/20210303_233728/STAR2003/epoch_18_valloss_0.9969_valacc_0.6921.hdf5\n",
      "7631/7631 [==============================] - 197s 26ms/step - loss: 1.0025 - accuracy: 0.6906 - val_loss: 0.9969 - val_accuracy: 0.6921\n",
      "Epoch 19/200\n",
      "7631/7631 [==============================] - ETA: 0s - loss: 0.9911 - accuracy: 0.6950\n",
      "Epoch 00019: val_loss did not improve from 0.99694\n",
      "7631/7631 [==============================] - 196s 26ms/step - loss: 0.9911 - accuracy: 0.6950 - val_loss: 1.1157 - val_accuracy: 0.6517\n",
      "Epoch 20/200\n",
      "7631/7631 [==============================] - ETA: 0s - loss: 0.9778 - accuracy: 0.7015\n",
      "Epoch 00020: val_loss improved from 0.99694 to 0.94398, saving model to /home/ys587/__Data/__whistle/__whislte_30_species/__fit_result_species/20210303_233728/STAR2003/epoch_20_valloss_0.9440_valacc_0.7072.hdf5\n",
      "7631/7631 [==============================] - 197s 26ms/step - loss: 0.9778 - accuracy: 0.7015 - val_loss: 0.9440 - val_accuracy: 0.7072\n",
      "Epoch 21/200\n",
      "7631/7631 [==============================] - ETA: 0s - loss: 0.9684 - accuracy: 0.7032\n",
      "Epoch 00021: val_loss did not improve from 0.94398\n",
      "7631/7631 [==============================] - 196s 26ms/step - loss: 0.9684 - accuracy: 0.7032 - val_loss: 1.0222 - val_accuracy: 0.6808\n",
      "Epoch 22/200\n",
      "7630/7631 [============================>.] - ETA: 0s - loss: 0.9579 - accuracy: 0.7108\n",
      "Epoch 00022: val_loss did not improve from 0.94398\n",
      "7631/7631 [==============================] - 196s 26ms/step - loss: 0.9579 - accuracy: 0.7108 - val_loss: 0.9985 - val_accuracy: 0.6911\n",
      "Epoch 23/200\n",
      "7631/7631 [==============================] - ETA: 0s - loss: 0.9457 - accuracy: 0.7144\n",
      "Epoch 00023: val_loss did not improve from 0.94398\n",
      "7631/7631 [==============================] - 195s 26ms/step - loss: 0.9457 - accuracy: 0.7144 - val_loss: 0.9931 - val_accuracy: 0.7021\n",
      "Epoch 24/200\n",
      "7630/7631 [============================>.] - ETA: 0s - loss: 0.9347 - accuracy: 0.7177\n",
      "Epoch 00024: val_loss improved from 0.94398 to 0.93795, saving model to /home/ys587/__Data/__whistle/__whislte_30_species/__fit_result_species/20210303_233728/STAR2003/epoch_24_valloss_0.9379_valacc_0.7185.hdf5\n",
      "7631/7631 [==============================] - 196s 26ms/step - loss: 0.9347 - accuracy: 0.7177 - val_loss: 0.9379 - val_accuracy: 0.7185\n",
      "Epoch 25/200\n",
      "7630/7631 [============================>.] - ETA: 0s - loss: 0.9284 - accuracy: 0.7223\n",
      "Epoch 00025: val_loss did not improve from 0.93795\n",
      "7631/7631 [==============================] - 196s 26ms/step - loss: 0.9283 - accuracy: 0.7223 - val_loss: 1.1305 - val_accuracy: 0.6489\n",
      "Epoch 26/200\n",
      "7631/7631 [==============================] - ETA: 0s - loss: 0.9239 - accuracy: 0.7236\n",
      "Epoch 00026: val_loss did not improve from 0.93795\n",
      "7631/7631 [==============================] - 195s 26ms/step - loss: 0.9239 - accuracy: 0.7236 - val_loss: 0.9629 - val_accuracy: 0.7124\n",
      "Epoch 27/200\n",
      "7629/7631 [============================>.] - ETA: 0s - loss: 0.9118 - accuracy: 0.7284\n",
      "Epoch 00027: val_loss did not improve from 0.93795\n",
      "7631/7631 [==============================] - 195s 26ms/step - loss: 0.9118 - accuracy: 0.7284 - val_loss: 0.9502 - val_accuracy: 0.7168\n",
      "Epoch 28/200\n",
      "7630/7631 [============================>.] - ETA: 0s - loss: 0.9055 - accuracy: 0.7321\n",
      "Epoch 00028: val_loss improved from 0.93795 to 0.90264, saving model to /home/ys587/__Data/__whistle/__whislte_30_species/__fit_result_species/20210303_233728/STAR2003/epoch_28_valloss_0.9026_valacc_0.7378.hdf5\n",
      "7631/7631 [==============================] - 196s 26ms/step - loss: 0.9055 - accuracy: 0.7321 - val_loss: 0.9026 - val_accuracy: 0.7378\n",
      "Epoch 29/200\n",
      "7630/7631 [============================>.] - ETA: 0s - loss: 0.8990 - accuracy: 0.7342\n",
      "Epoch 00029: val_loss did not improve from 0.90264\n",
      "7631/7631 [==============================] - 195s 26ms/step - loss: 0.8990 - accuracy: 0.7342 - val_loss: 0.9076 - val_accuracy: 0.7316\n",
      "Epoch 30/200\n",
      "7631/7631 [==============================] - ETA: 0s - loss: 0.8916 - accuracy: 0.7387\n",
      "Epoch 00030: val_loss did not improve from 0.90264\n",
      "7631/7631 [==============================] - 196s 26ms/step - loss: 0.8916 - accuracy: 0.7387 - val_loss: 0.9107 - val_accuracy: 0.7363\n",
      "Epoch 31/200\n",
      "7631/7631 [==============================] - ETA: 0s - loss: 0.8888 - accuracy: 0.7398\n",
      "Epoch 00031: val_loss did not improve from 0.90264\n",
      "7631/7631 [==============================] - 196s 26ms/step - loss: 0.8888 - accuracy: 0.7398 - val_loss: 0.9448 - val_accuracy: 0.7271\n",
      "Epoch 32/200\n",
      "7630/7631 [============================>.] - ETA: 0s - loss: 0.8784 - accuracy: 0.7443\n",
      "Epoch 00032: val_loss did not improve from 0.90264\n",
      "7631/7631 [==============================] - 196s 26ms/step - loss: 0.8784 - accuracy: 0.7443 - val_loss: 0.9444 - val_accuracy: 0.7318\n",
      "Epoch 33/200\n",
      "7631/7631 [==============================] - ETA: 0s - loss: 0.8749 - accuracy: 0.7462\n",
      "Epoch 00033: val_loss improved from 0.90264 to 0.89657, saving model to /home/ys587/__Data/__whistle/__whislte_30_species/__fit_result_species/20210303_233728/STAR2003/epoch_33_valloss_0.8966_valacc_0.7409.hdf5\n",
      "7631/7631 [==============================] - 196s 26ms/step - loss: 0.8749 - accuracy: 0.7462 - val_loss: 0.8966 - val_accuracy: 0.7409\n",
      "Epoch 34/200\n",
      "7631/7631 [==============================] - ETA: 0s - loss: 0.8692 - accuracy: 0.7494\n",
      "Epoch 00034: val_loss improved from 0.89657 to 0.89491, saving model to /home/ys587/__Data/__whistle/__whislte_30_species/__fit_result_species/20210303_233728/STAR2003/epoch_34_valloss_0.8949_valacc_0.7404.hdf5\n",
      "7631/7631 [==============================] - 195s 26ms/step - loss: 0.8692 - accuracy: 0.7494 - val_loss: 0.8949 - val_accuracy: 0.7404\n",
      "Epoch 35/200\n",
      "7629/7631 [============================>.] - ETA: 0s - loss: 0.8595 - accuracy: 0.7522\n",
      "Epoch 00035: val_loss did not improve from 0.89491\n",
      "7631/7631 [==============================] - 195s 26ms/step - loss: 0.8596 - accuracy: 0.7522 - val_loss: 0.9302 - val_accuracy: 0.7366\n",
      "Epoch 36/200\n",
      "7629/7631 [============================>.] - ETA: 0s - loss: 0.8593 - accuracy: 0.7528\n",
      "Epoch 00036: val_loss did not improve from 0.89491\n",
      "7631/7631 [==============================] - 195s 26ms/step - loss: 0.8593 - accuracy: 0.7528 - val_loss: 0.9070 - val_accuracy: 0.7445\n",
      "Epoch 37/200\n",
      "7630/7631 [============================>.] - ETA: 0s - loss: 0.8502 - accuracy: 0.7580\n",
      "Epoch 00037: val_loss did not improve from 0.89491\n",
      "7631/7631 [==============================] - 195s 26ms/step - loss: 0.8503 - accuracy: 0.7580 - val_loss: 0.9494 - val_accuracy: 0.7285\n",
      "Epoch 38/200\n",
      "7630/7631 [============================>.] - ETA: 0s - loss: 0.8468 - accuracy: 0.7601\n",
      "Epoch 00038: val_loss did not improve from 0.89491\n",
      "7631/7631 [==============================] - 195s 26ms/step - loss: 0.8467 - accuracy: 0.7601 - val_loss: 0.9364 - val_accuracy: 0.7295\n",
      "Epoch 39/200\n",
      "7631/7631 [==============================] - ETA: 0s - loss: 0.8410 - accuracy: 0.7619\n",
      "Epoch 00039: val_loss did not improve from 0.89491\n",
      "7631/7631 [==============================] - 196s 26ms/step - loss: 0.8410 - accuracy: 0.7619 - val_loss: 0.8981 - val_accuracy: 0.7457\n",
      "Epoch 40/200\n",
      "7629/7631 [============================>.] - ETA: 0s - loss: 0.8374 - accuracy: 0.7633\n",
      "Epoch 00040: val_loss did not improve from 0.89491\n",
      "7631/7631 [==============================] - 195s 25ms/step - loss: 0.8374 - accuracy: 0.7633 - val_loss: 0.8965 - val_accuracy: 0.7488\n",
      "Epoch 41/200\n",
      "7631/7631 [==============================] - ETA: 0s - loss: 0.8348 - accuracy: 0.7671\n",
      "Epoch 00041: val_loss did not improve from 0.89491\n",
      "7631/7631 [==============================] - 196s 26ms/step - loss: 0.8348 - accuracy: 0.7671 - val_loss: 0.9064 - val_accuracy: 0.7429\n",
      "Epoch 42/200\n",
      "7631/7631 [==============================] - ETA: 0s - loss: 0.8261 - accuracy: 0.7688\n",
      "Epoch 00042: val_loss did not improve from 0.89491\n",
      "7631/7631 [==============================] - 196s 26ms/step - loss: 0.8261 - accuracy: 0.7688 - val_loss: 0.9530 - val_accuracy: 0.7319\n",
      "Epoch 43/200\n",
      "7628/7631 [============================>.] - ETA: 0s - loss: 0.8230 - accuracy: 0.7724\n",
      "Epoch 00043: val_loss did not improve from 0.89491\n",
      "7631/7631 [==============================] - 196s 26ms/step - loss: 0.8230 - accuracy: 0.7724 - val_loss: 0.9731 - val_accuracy: 0.7274\n",
      "Epoch 44/200\n",
      "7630/7631 [============================>.] - ETA: 0s - loss: 0.8200 - accuracy: 0.7726\n",
      "Epoch 00044: val_loss did not improve from 0.89491\n",
      "7631/7631 [==============================] - 195s 26ms/step - loss: 0.8200 - accuracy: 0.7726 - val_loss: 0.9339 - val_accuracy: 0.7425\n",
      "Epoch 45/200\n",
      "7629/7631 [============================>.] - ETA: 0s - loss: 0.8176 - accuracy: 0.7735\n",
      "Epoch 00045: val_loss improved from 0.89491 to 0.89326, saving model to /home/ys587/__Data/__whistle/__whislte_30_species/__fit_result_species/20210303_233728/STAR2003/epoch_45_valloss_0.8933_valacc_0.7558.hdf5\n",
      "7631/7631 [==============================] - 195s 26ms/step - loss: 0.8175 - accuracy: 0.7735 - val_loss: 0.8933 - val_accuracy: 0.7558\n",
      "Epoch 46/200\n",
      "7630/7631 [============================>.] - ETA: 0s - loss: 0.8115 - accuracy: 0.7766\n",
      "Epoch 00046: val_loss improved from 0.89326 to 0.88954, saving model to /home/ys587/__Data/__whistle/__whislte_30_species/__fit_result_species/20210303_233728/STAR2003/epoch_46_valloss_0.8895_valacc_0.7549.hdf5\n",
      "7631/7631 [==============================] - 197s 26ms/step - loss: 0.8114 - accuracy: 0.7766 - val_loss: 0.8895 - val_accuracy: 0.7549\n",
      "Epoch 47/200\n",
      "7631/7631 [==============================] - ETA: 0s - loss: 0.8075 - accuracy: 0.7782\n",
      "Epoch 00047: val_loss did not improve from 0.88954\n",
      "7631/7631 [==============================] - 196s 26ms/step - loss: 0.8075 - accuracy: 0.7782 - val_loss: 0.9072 - val_accuracy: 0.7509\n",
      "Epoch 48/200\n",
      "7629/7631 [============================>.] - ETA: 0s - loss: 0.8041 - accuracy: 0.7791\n",
      "Epoch 00048: val_loss did not improve from 0.88954\n",
      "7631/7631 [==============================] - 195s 25ms/step - loss: 0.8041 - accuracy: 0.7792 - val_loss: 0.9350 - val_accuracy: 0.7409\n",
      "Epoch 49/200\n",
      "7630/7631 [============================>.] - ETA: 0s - loss: 0.8014 - accuracy: 0.7814\n",
      "Epoch 00049: val_loss did not improve from 0.88954\n",
      "7631/7631 [==============================] - 195s 26ms/step - loss: 0.8014 - accuracy: 0.7814 - val_loss: 0.9257 - val_accuracy: 0.7464\n",
      "Epoch 50/200\n",
      "7629/7631 [============================>.] - ETA: 0s - loss: 0.7944 - accuracy: 0.7844\n",
      "Epoch 00050: val_loss did not improve from 0.88954\n",
      "7631/7631 [==============================] - 195s 26ms/step - loss: 0.7944 - accuracy: 0.7844 - val_loss: 0.9993 - val_accuracy: 0.7235\n",
      "Epoch 51/200\n",
      "7630/7631 [============================>.] - ETA: 0s - loss: 0.7892 - accuracy: 0.7856\n",
      "Epoch 00051: val_loss did not improve from 0.88954\n",
      "7631/7631 [==============================] - 195s 26ms/step - loss: 0.7893 - accuracy: 0.7856 - val_loss: 0.8957 - val_accuracy: 0.7546\n",
      "Epoch 52/200\n",
      "7629/7631 [============================>.] - ETA: 0s - loss: 0.7877 - accuracy: 0.7871\n",
      "Epoch 00052: val_loss did not improve from 0.88954\n",
      "7631/7631 [==============================] - 194s 25ms/step - loss: 0.7878 - accuracy: 0.7871 - val_loss: 0.8980 - val_accuracy: 0.7577\n",
      "Epoch 53/200\n",
      "7631/7631 [==============================] - ETA: 0s - loss: 0.7877 - accuracy: 0.7877\n",
      "Epoch 00053: val_loss did not improve from 0.88954\n",
      "7631/7631 [==============================] - 196s 26ms/step - loss: 0.7877 - accuracy: 0.7877 - val_loss: 0.8956 - val_accuracy: 0.7571\n",
      "Epoch 54/200\n",
      "7629/7631 [============================>.] - ETA: 0s - loss: 0.7811 - accuracy: 0.7891\n",
      "Epoch 00054: val_loss did not improve from 0.88954\n",
      "7631/7631 [==============================] - 196s 26ms/step - loss: 0.7811 - accuracy: 0.7891 - val_loss: 0.9016 - val_accuracy: 0.7575\n",
      "Epoch 55/200\n",
      "7630/7631 [============================>.] - ETA: 0s - loss: 0.7785 - accuracy: 0.7908\n",
      "Epoch 00055: val_loss did not improve from 0.88954\n",
      "7631/7631 [==============================] - 195s 25ms/step - loss: 0.7785 - accuracy: 0.7908 - val_loss: 0.9529 - val_accuracy: 0.7412\n",
      "Epoch 56/200\n",
      "7630/7631 [============================>.] - ETA: 0s - loss: 0.7792 - accuracy: 0.7919\n",
      "Epoch 00056: val_loss did not improve from 0.88954\n",
      "7631/7631 [==============================] - 196s 26ms/step - loss: 0.7792 - accuracy: 0.7919 - val_loss: 0.8922 - val_accuracy: 0.7575\n",
      "Epoch 57/200\n",
      "7631/7631 [==============================] - ETA: 0s - loss: 0.7731 - accuracy: 0.7940\n",
      "Epoch 00057: val_loss did not improve from 0.88954\n",
      "7631/7631 [==============================] - 195s 26ms/step - loss: 0.7731 - accuracy: 0.7940 - val_loss: 0.9338 - val_accuracy: 0.7457\n",
      "Epoch 58/200\n",
      "7630/7631 [============================>.] - ETA: 0s - loss: 0.7681 - accuracy: 0.7954\n",
      "Epoch 00058: val_loss did not improve from 0.88954\n",
      "7631/7631 [==============================] - 195s 26ms/step - loss: 0.7681 - accuracy: 0.7954 - val_loss: 0.9423 - val_accuracy: 0.7451\n",
      "Epoch 59/200\n",
      "7629/7631 [============================>.] - ETA: 0s - loss: 0.7672 - accuracy: 0.7965\n",
      "Epoch 00059: val_loss did not improve from 0.88954\n",
      "7631/7631 [==============================] - 196s 26ms/step - loss: 0.7672 - accuracy: 0.7965 - val_loss: 0.9404 - val_accuracy: 0.7435\n",
      "Epoch 60/200\n",
      "7631/7631 [==============================] - ETA: 0s - loss: 0.7653 - accuracy: 0.7979\n",
      "Epoch 00060: val_loss did not improve from 0.88954\n",
      "7631/7631 [==============================] - 195s 26ms/step - loss: 0.7653 - accuracy: 0.7979 - val_loss: 0.9552 - val_accuracy: 0.7372\n",
      "Epoch 61/200\n",
      "7630/7631 [============================>.] - ETA: 0s - loss: 0.7617 - accuracy: 0.8005\n",
      "Epoch 00061: val_loss did not improve from 0.88954\n",
      "7631/7631 [==============================] - 195s 26ms/step - loss: 0.7618 - accuracy: 0.8004 - val_loss: 0.9647 - val_accuracy: 0.7398\n",
      "Epoch 62/200\n",
      "7631/7631 [==============================] - ETA: 0s - loss: 0.7606 - accuracy: 0.8014\n",
      "Epoch 00062: val_loss did not improve from 0.88954\n",
      "7631/7631 [==============================] - 197s 26ms/step - loss: 0.7606 - accuracy: 0.8014 - val_loss: 0.9199 - val_accuracy: 0.7591\n",
      "Epoch 63/200\n",
      "7630/7631 [============================>.] - ETA: 0s - loss: 0.7537 - accuracy: 0.8026\n",
      "Epoch 00063: val_loss did not improve from 0.88954\n",
      "7631/7631 [==============================] - 196s 26ms/step - loss: 0.7537 - accuracy: 0.8026 - val_loss: 0.9110 - val_accuracy: 0.7607\n",
      "Epoch 64/200\n",
      "7631/7631 [==============================] - ETA: 0s - loss: 0.7515 - accuracy: 0.8035\n",
      "Epoch 00064: val_loss did not improve from 0.88954\n",
      "7631/7631 [==============================] - 195s 26ms/step - loss: 0.7515 - accuracy: 0.8035 - val_loss: 0.9886 - val_accuracy: 0.7344\n",
      "Epoch 65/200\n",
      "7629/7631 [============================>.] - ETA: 0s - loss: 0.7495 - accuracy: 0.8048\n",
      "Epoch 00065: val_loss did not improve from 0.88954\n",
      "7631/7631 [==============================] - 196s 26ms/step - loss: 0.7495 - accuracy: 0.8048 - val_loss: 0.9295 - val_accuracy: 0.7578\n",
      "Epoch 66/200\n",
      "7630/7631 [============================>.] - ETA: 0s - loss: 0.7486 - accuracy: 0.8057\n",
      "Epoch 00066: val_loss did not improve from 0.88954\n",
      "7631/7631 [==============================] - 196s 26ms/step - loss: 0.7486 - accuracy: 0.8057 - val_loss: 0.9588 - val_accuracy: 0.7497\n",
      "Epoch 00066: early stopping\n"
     ]
    }
   ],
   "source": [
    "# model = model_cnn14_attention_multi(dim_time, dim_freq, num_species, model_type='feature_level_attention', conv_dim=conv_dim, pool_size=pool_size, pool_stride=pool_stride, hidden_units=hidden_units, l2_regu=l2_regu, drop_rate=drop_rate)\n",
    "model = model_cnn14_spp(dim_time, dim_freq, num_species, conv_dim=conv_dim, pool_size=pool_size, pool_stride=pool_stride, hidden_units=hidden_units, l2_regu=l2_regu, drop_rate=drop_rate)\n",
    "loss = CategoricalCrossentropy()\n",
    "model.compile(optimizer=tf.keras.optimizers.Adam(learning_rate=learning_rate_fn), loss=loss, metrics=['accuracy'])\n",
    "\n",
    "# With classes\n",
    "# history = model.fit(fea_train, to_categorical(label_train), class_weight=class_weights, validation_split=0.3, batch_size=batch_size, epochs=num_epoch, callbacks=[EarlyStopping(patience=num_patience), ModelCheckpoint(filepath=os.path.join(fit_result_path, '{epoch:02d}-{val_loss:.4f}.hdf5'), verbose=1, monitor=\"val_loss\", save_best_only=True)])\n",
    "# history = model.fit(train_generator, validation_data=validate_generator, class_weight=class_weights, epochs=num_epoch, callbacks=[EarlyStopping(patience=num_patience, monitor='val_loss', mode='min', verbose=1), TensorBoard(log_dir=fit_result_path1), ModelCheckpoint(filepath=os.path.join(fit_result_path1, '{epoch:02d}-{val_loss:.4f}.hdf5'), verbose=1, monitor=\"val_loss\", save_best_only=True)])\n",
    "history = model.fit(train_generator, validation_data=validate_generator, class_weight=class_weights, epochs=num_epoch, callbacks=[EarlyStopping(patience=num_patience, monitor='val_loss', mode='min', verbose=1), TensorBoard(log_dir=fit_result_path2), ModelCheckpoint(filepath=os.path.join(fit_result_path2, 'epoch_{epoch:02d}_valloss_{val_loss:.4f}_valacc_{val_accuracy:.4f}.hdf5' ), verbose=1, monitor=\"val_loss\", save_best_only=True)])"
   ]
  },
  {
   "cell_type": "code",
   "execution_count": 58,
   "metadata": {},
   "outputs": [
    {
     "name": "stdout",
     "output_type": "stream",
     "text": [
      "Best model:0.8895\n",
      "/home/ys587/__Data/__whistle/__whislte_30_species/__fit_result_species/20210303_233728/STAR2003/epoch_46_valloss_0.8895_valacc_0.7549.hdf5\n"
     ]
    }
   ],
   "source": [
    "# fit_result_path1 = '/home/ys587/__Data/__whistle/__whislte_30_species/__fit_result_species/20210210_224527'\n",
    "the_best_model, _ = find_best_model(fit_result_path2, purge=False)"
   ]
  },
  {
   "cell_type": "code",
   "execution_count": 59,
   "metadata": {
    "scrolled": true
   },
   "outputs": [
    {
     "name": "stdout",
     "output_type": "stream",
     "text": [
      "Model: \"model_1\"\n",
      "_________________________________________________________________\n",
      "Layer (type)                 Output Shape              Param #   \n",
      "=================================================================\n",
      "input (InputLayer)           [(None, 100, 128, 1)]     0         \n",
      "_________________________________________________________________\n",
      "conv2d_10 (Conv2D)           (None, 100, 128, 16)      160       \n",
      "_________________________________________________________________\n",
      "batch_normalization_13 (Batc (None, 100, 128, 16)      64        \n",
      "_________________________________________________________________\n",
      "activation_13 (Activation)   (None, 100, 128, 16)      0         \n",
      "_________________________________________________________________\n",
      "conv2d_11 (Conv2D)           (None, 100, 128, 16)      2320      \n",
      "_________________________________________________________________\n",
      "batch_normalization_14 (Batc (None, 100, 128, 16)      64        \n",
      "_________________________________________________________________\n",
      "activation_14 (Activation)   (None, 100, 128, 16)      0         \n",
      "_________________________________________________________________\n",
      "max_pooling2d_4 (MaxPooling2 (None, 50, 64, 16)        0         \n",
      "_________________________________________________________________\n",
      "dropout_7 (Dropout)          (None, 50, 64, 16)        0         \n",
      "_________________________________________________________________\n",
      "conv2d_12 (Conv2D)           (None, 50, 64, 32)        4640      \n",
      "_________________________________________________________________\n",
      "batch_normalization_15 (Batc (None, 50, 64, 32)        128       \n",
      "_________________________________________________________________\n",
      "activation_15 (Activation)   (None, 50, 64, 32)        0         \n",
      "_________________________________________________________________\n",
      "conv2d_13 (Conv2D)           (None, 50, 64, 32)        9248      \n",
      "_________________________________________________________________\n",
      "batch_normalization_16 (Batc (None, 50, 64, 32)        128       \n",
      "_________________________________________________________________\n",
      "activation_16 (Activation)   (None, 50, 64, 32)        0         \n",
      "_________________________________________________________________\n",
      "max_pooling2d_5 (MaxPooling2 (None, 25, 32, 32)        0         \n",
      "_________________________________________________________________\n",
      "dropout_8 (Dropout)          (None, 25, 32, 32)        0         \n",
      "_________________________________________________________________\n",
      "conv2d_14 (Conv2D)           (None, 25, 32, 64)        18496     \n",
      "_________________________________________________________________\n",
      "batch_normalization_17 (Batc (None, 25, 32, 64)        256       \n",
      "_________________________________________________________________\n",
      "activation_17 (Activation)   (None, 25, 32, 64)        0         \n",
      "_________________________________________________________________\n",
      "conv2d_15 (Conv2D)           (None, 25, 32, 64)        36928     \n",
      "_________________________________________________________________\n",
      "batch_normalization_18 (Batc (None, 25, 32, 64)        256       \n",
      "_________________________________________________________________\n",
      "activation_18 (Activation)   (None, 25, 32, 64)        0         \n",
      "_________________________________________________________________\n",
      "max_pooling2d_6 (MaxPooling2 (None, 13, 16, 64)        0         \n",
      "_________________________________________________________________\n",
      "dropout_9 (Dropout)          (None, 13, 16, 64)        0         \n",
      "_________________________________________________________________\n",
      "conv2d_16 (Conv2D)           (None, 13, 16, 128)       73856     \n",
      "_________________________________________________________________\n",
      "batch_normalization_19 (Batc (None, 13, 16, 128)       512       \n",
      "_________________________________________________________________\n",
      "activation_19 (Activation)   (None, 13, 16, 128)       0         \n",
      "_________________________________________________________________\n",
      "conv2d_17 (Conv2D)           (None, 13, 16, 128)       147584    \n",
      "_________________________________________________________________\n",
      "batch_normalization_20 (Batc (None, 13, 16, 128)       512       \n",
      "_________________________________________________________________\n",
      "activation_20 (Activation)   (None, 13, 16, 128)       0         \n",
      "_________________________________________________________________\n",
      "max_pooling2d_7 (MaxPooling2 (None, 7, 8, 128)         0         \n",
      "_________________________________________________________________\n",
      "dropout_10 (Dropout)         (None, 7, 8, 128)         0         \n",
      "_________________________________________________________________\n",
      "conv2d_18 (Conv2D)           (None, 7, 8, 256)         295168    \n",
      "_________________________________________________________________\n",
      "batch_normalization_21 (Batc (None, 7, 8, 256)         1024      \n",
      "_________________________________________________________________\n",
      "activation_21 (Activation)   (None, 7, 8, 256)         0         \n",
      "_________________________________________________________________\n",
      "conv2d_19 (Conv2D)           (None, 7, 8, 256)         590080    \n",
      "_________________________________________________________________\n",
      "batch_normalization_22 (Batc (None, 7, 8, 256)         1024      \n",
      "_________________________________________________________________\n",
      "activation_22 (Activation)   (None, 7, 8, 256)         0         \n",
      "_________________________________________________________________\n",
      "spatial_pyramid_pooling2d_1  (None, 21, 256)           0         \n",
      "_________________________________________________________________\n",
      "reshape_1 (Reshape)          (None, 5376)              0         \n",
      "_________________________________________________________________\n",
      "dense_4 (Dense)              (None, 256)               1376512   \n",
      "_________________________________________________________________\n",
      "batch_normalization_23 (Batc (None, 256)               1024      \n",
      "_________________________________________________________________\n",
      "activation_23 (Activation)   (None, 256)               0         \n",
      "_________________________________________________________________\n",
      "dropout_11 (Dropout)         (None, 256)               0         \n",
      "_________________________________________________________________\n",
      "dense_5 (Dense)              (None, 256)               65792     \n",
      "_________________________________________________________________\n",
      "batch_normalization_24 (Batc (None, 256)               1024      \n",
      "_________________________________________________________________\n",
      "activation_24 (Activation)   (None, 256)               0         \n",
      "_________________________________________________________________\n",
      "dropout_12 (Dropout)         (None, 256)               0         \n",
      "_________________________________________________________________\n",
      "dense_6 (Dense)              (None, 256)               65792     \n",
      "_________________________________________________________________\n",
      "batch_normalization_25 (Batc (None, 256)               1024      \n",
      "_________________________________________________________________\n",
      "activation_25 (Activation)   (None, 256)               0         \n",
      "_________________________________________________________________\n",
      "dropout_13 (Dropout)         (None, 256)               0         \n",
      "_________________________________________________________________\n",
      "dense_7 (Dense)              (None, 8)                 2056      \n",
      "=================================================================\n",
      "Total params: 2,695,672\n",
      "Trainable params: 2,692,152\n",
      "Non-trainable params: 3,520\n",
      "_________________________________________________________________\n"
     ]
    }
   ],
   "source": [
    "model = load_model(the_best_model)\n",
    "model.summary()"
   ]
  },
  {
   "cell_type": "code",
   "execution_count": 60,
   "metadata": {},
   "outputs": [],
   "source": [
    "label_pred = model.predict(fea_test)\n",
    "# label_pred = model.predict(test_generator)"
   ]
  },
  {
   "cell_type": "code",
   "execution_count": 61,
   "metadata": {},
   "outputs": [],
   "source": [
    "np.set_printoptions(linewidth=200, precision=2, suppress=True)"
   ]
  },
  {
   "cell_type": "code",
   "execution_count": 62,
   "metadata": {},
   "outputs": [
    {
     "name": "stdout",
     "output_type": "stream",
     "text": [
      "Confusion matrix:\n",
      "['BD', 'CD', 'STR', 'SPT', 'SPIN', 'PLT', 'RT', 'FKW']\n",
      "\n",
      "[[  7   4  91  81  20  20   6   2]\n",
      " [ 11 291 185 117   2 106  37   3]\n",
      " [  0   1  28   4   0  17   1   3]\n",
      " [  1  25 147 168   3  62   5   1]\n",
      " [  1   1  21  22   1   3   0   2]\n",
      " [  0   0   0   0   0   0   0   0]\n",
      " [  0   0   0   0   0   0   0   0]\n",
      " [  0   0   0   2   4  68  36 160]]\n",
      "\n",
      "[[0.03 0.02 0.39 0.35 0.09 0.09 0.03 0.01]\n",
      " [0.01 0.39 0.25 0.16 0.   0.14 0.05 0.  ]\n",
      " [0.   0.02 0.52 0.07 0.   0.31 0.02 0.06]\n",
      " [0.   0.06 0.36 0.41 0.01 0.15 0.01 0.  ]\n",
      " [0.02 0.02 0.41 0.43 0.02 0.06 0.   0.04]\n",
      " [0.   0.   0.   0.   0.   0.   0.   0.  ]\n",
      " [0.   0.   0.   0.   0.   0.   0.   0.  ]\n",
      " [0.   0.   0.   0.01 0.01 0.25 0.13 0.59]]\n"
     ]
    }
   ],
   "source": [
    "print(\"Confusion matrix:\")\n",
    "cm = confusion_matrix(label_test, np.argmax(label_pred, axis=1), labels=species_id)\n",
    "\n",
    "print(species_list)\n",
    "print('')\n",
    "print(cm)\n",
    "print('')\n",
    "\n",
    "cm2 = cm*1.0\n",
    "for ii in range(cm.shape[0]):\n",
    "    cm_row = cm[ii, :]*1.0\n",
    "\n",
    "    cm_row_sum = cm_row.sum()\n",
    "    if cm_row_sum != 0:\n",
    "        cm2[ii, :] = cm_row / cm_row_sum\n",
    "    else:\n",
    "        cm2[ii, :] = np.zeros(cm.shape[1])\n",
    "\n",
    "print(cm2)"
   ]
  },
  {
   "cell_type": "code",
   "execution_count": 63,
   "metadata": {},
   "outputs": [],
   "source": [
    "from sklearn.metrics import plot_confusion_matrix\n",
    "from sklearn.metrics._plot.confusion_matrix import ConfusionMatrixDisplay\n",
    "disp = ConfusionMatrixDisplay(confusion_matrix=cm, display_labels=species_list)\n",
    "disp2 = ConfusionMatrixDisplay(confusion_matrix=cm2, display_labels=species_list)"
   ]
  },
  {
   "cell_type": "code",
   "execution_count": 64,
   "metadata": {},
   "outputs": [
    {
     "data": {
      "text/plain": [
       "<sklearn.metrics._plot.confusion_matrix.ConfusionMatrixDisplay at 0x7f23bfccefa0>"
      ]
     },
     "execution_count": 64,
     "metadata": {},
     "output_type": "execute_result"
    },
    {
     "data": {
      "image/png": "[encoded data removed]",
      "text/plain": [
       "<Figure size 1080x1080 with 2 Axes>"
      ]
     },
     "metadata": {
      "needs_background": "light"
     },
     "output_type": "display_data"
    }
   ],
   "source": [
    "fig, ax = plt.subplots(figsize=[15, 15])\n",
    "disp.plot(include_values=True,\n",
    "                     cmap='viridis', ax=ax, xticks_rotation='horizontal',\n",
    "                     values_format=None, colorbar=True)\n"
   ]
  },
  {
   "cell_type": "code",
   "execution_count": 65,
   "metadata": {},
   "outputs": [
    {
     "data": {
      "text/plain": [
       "<sklearn.metrics._plot.confusion_matrix.ConfusionMatrixDisplay at 0x7f23bfcc6e20>"
      ]
     },
     "execution_count": 65,
     "metadata": {},
     "output_type": "execute_result"
    },
    {
     "data": {
      "image/png": "[encoded data removed]",
      "text/plain": [
       "<Figure size 1080x1080 with 2 Axes>"
      ]
     },
     "metadata": {
      "needs_background": "light"
     },
     "output_type": "display_data"
    }
   ],
   "source": [
    "fig, ax = plt.subplots(figsize=[15, 15])\n",
    "disp2.plot(include_values=True,\n",
    "                     cmap='viridis', ax=ax, xticks_rotation='horizontal',\n",
    "                     values_format='.2f', colorbar=True)"
   ]
  },
  {
   "cell_type": "markdown",
   "metadata": {},
   "source": [
    "## STAR2006"
   ]
  },
  {
   "cell_type": "code",
   "execution_count": 66,
   "metadata": {},
   "outputs": [
    {
     "name": "stdout",
     "output_type": "stream",
     "text": [
      "STAR2006\n"
     ]
    }
   ],
   "source": [
    "ee = deployment[2]\n",
    "print(ee)"
   ]
  },
  {
   "cell_type": "code",
   "execution_count": 67,
   "metadata": {},
   "outputs": [],
   "source": [
    "# Training data\n",
    "fea_temp = np.load(os.path.join(feature_path, 'train_oswald_no_'+ee+'.npz'))\n",
    "fea_train = fea_temp['fea_train']\n",
    "label_train_list = fea_temp['label_train']\n",
    "del fea_temp"
   ]
  },
  {
   "cell_type": "code",
   "execution_count": 68,
   "metadata": {},
   "outputs": [],
   "source": [
    "label_train = np.zeros(len(label_train_list))\n",
    "for ii in range(len(label_train_list)):\n",
    "    label_train[ii] = species_dict[label_train_list[ii]]"
   ]
  },
  {
   "cell_type": "code",
   "execution_count": 69,
   "metadata": {},
   "outputs": [],
   "source": [
    "# Testing data\n",
    "fea_temp = np.load(os.path.join(feature_path, 'oswald_'+ee+'_orig.npz'))\n",
    "fea_test = fea_temp['feas_orig']\n",
    "label_test_list = fea_temp['labels_orig']\n",
    "\n",
    "fea_test = fea_test[:,:100,:]\n",
    "label_test = np.zeros(len(label_test_list))\n",
    "for ii in range(len(label_test_list)):\n",
    "    label_test[ii] = species_dict[label_test_list[ii]]"
   ]
  },
  {
   "cell_type": "code",
   "execution_count": 70,
   "metadata": {},
   "outputs": [],
   "source": [
    "fea_train = fea_train[:,:100,:]"
   ]
  },
  {
   "cell_type": "code",
   "execution_count": 71,
   "metadata": {},
   "outputs": [],
   "source": [
    "label_train = np.zeros(len(label_train_list))\n",
    "for ii in range(len(label_train_list)):\n",
    "    label_train[ii] = species_dict[label_train_list[ii]]"
   ]
  },
  {
   "cell_type": "code",
   "execution_count": 72,
   "metadata": {
    "scrolled": true
   },
   "outputs": [
    {
     "data": {
      "text/plain": [
       "Counter({'BD': 16722,\n",
       "         'CD': 28296,\n",
       "         'PLT': 9728,\n",
       "         'RT': 11456,\n",
       "         'SPIN': 11586,\n",
       "         'SPT': 20416,\n",
       "         'STR': 17928,\n",
       "         'FKW': 14742})"
      ]
     },
     "execution_count": 72,
     "metadata": {},
     "output_type": "execute_result"
    }
   ],
   "source": [
    "Counter(label_train_list)"
   ]
  },
  {
   "cell_type": "code",
   "execution_count": 73,
   "metadata": {},
   "outputs": [
    {
     "data": {
      "text/plain": [
       "Counter({1.0: 24, 7.0: 903, 5.0: 632, 6.0: 46, 4.0: 2, 3.0: 147, 2.0: 750})"
      ]
     },
     "execution_count": 73,
     "metadata": {},
     "output_type": "execute_result"
    }
   ],
   "source": [
    "Counter(label_test.tolist())"
   ]
  },
  {
   "cell_type": "code",
   "execution_count": 74,
   "metadata": {},
   "outputs": [],
   "source": [
    "fit_result_path2 = os.path.join(fit_result_path1, ee)\n",
    "if not os.path.exists(fit_result_path2):\n",
    "    makedirs(fit_result_path2)"
   ]
  },
  {
   "cell_type": "code",
   "execution_count": 75,
   "metadata": {},
   "outputs": [
    {
     "name": "stdout",
     "output_type": "stream",
     "text": [
      "feature train shape: (130874, 100, 128)\n",
      "feature test shape: (2504, 100, 128)\n",
      "label train shape: (130874,)\n",
      "label test shape: (2504,)\n",
      "dim_time: 100\n",
      "dim_freq: 128\n"
     ]
    }
   ],
   "source": [
    "print('feature train shape: '+str(fea_train.shape))\n",
    "print('feature test shape: '+str(fea_test.shape))\n",
    "print('label train shape: '+str(label_train.shape))\n",
    "print('label test shape: '+str(label_test.shape))\n",
    "\n",
    "dim_time = fea_train.shape[1]\n",
    "dim_freq = fea_train.shape[2]\n",
    "print('dim_time: '+str(dim_time))\n",
    "print('dim_freq: '+str(dim_freq))"
   ]
  },
  {
   "cell_type": "code",
   "execution_count": 76,
   "metadata": {},
   "outputs": [],
   "source": [
    "# shuffle features & labels\n",
    "fea_train, label_train = shuffle(fea_train, label_train, random_state=0)\n",
    "fea_test, label_test = shuffle(fea_test, label_test, random_state=0)"
   ]
  },
  {
   "cell_type": "code",
   "execution_count": 77,
   "metadata": {},
   "outputs": [],
   "source": [
    "# class weight\n",
    "weights = compute_class_weight(class_weight='balanced', classes=np.unique(label_train), y=label_train)\n",
    "\n",
    "class_weights = dict()\n",
    "for ii in range(num_species):\n",
    "    class_weights[ii] = weights[ii]"
   ]
  },
  {
   "cell_type": "code",
   "execution_count": 78,
   "metadata": {},
   "outputs": [],
   "source": [
    "fea_train = np.expand_dims(fea_train, axis=3)\n",
    "fea_test = np.expand_dims(fea_test, axis=3)"
   ]
  },
  {
   "cell_type": "code",
   "execution_count": 79,
   "metadata": {},
   "outputs": [],
   "source": [
    "fea_train, fea_validate, label_train, label_validate = train_test_split(fea_train, label_train, test_size=0.10, random_state=42)\n",
    "\n",
    "train_generator = DataGenerator(fea_train, label_train, batch_size=batch_size, num_classes=num_species)\n",
    "del fea_train\n",
    "validate_generator = DataGenerator(fea_validate, label_validate, batch_size=batch_size, num_classes=num_species)\n",
    "del fea_validate\n",
    "\n",
    "# test_generator = DataGenerator(fea_test, label_test, batch_size=batch_size, num_classes=num_species)\n"
   ]
  },
  {
   "cell_type": "markdown",
   "metadata": {},
   "source": [
    "### Training the model"
   ]
  },
  {
   "cell_type": "code",
   "execution_count": 80,
   "metadata": {
    "scrolled": true
   },
   "outputs": [
    {
     "name": "stdout",
     "output_type": "stream",
     "text": [
      "Epoch 1/200\n",
      "   2/7361 [..............................] - ETA: 20:45 - loss: 3.1030 - accuracy: 0.0938WARNING:tensorflow:Method (on_train_batch_end) is slow compared to the batch update (0.160064). Check your callbacks.\n",
      "7359/7361 [============================>.] - ETA: 0s - loss: 2.2415 - accuracy: 0.2487\n",
      "Epoch 00001: val_loss improved from inf to 1.76329, saving model to /home/ys587/__Data/__whistle/__whislte_30_species/__fit_result_species/20210303_233728/STAR2006/epoch_01_valloss_1.7633_valacc_0.3918.hdf5\n",
      "7361/7361 [==============================] - 192s 26ms/step - loss: 2.2413 - accuracy: 0.2487 - val_loss: 1.7633 - val_accuracy: 0.3918\n",
      "Epoch 2/200\n",
      "7360/7361 [============================>.] - ETA: 0s - loss: 1.7050 - accuracy: 0.4002\n",
      "Epoch 00002: val_loss improved from 1.76329 to 1.70764, saving model to /home/ys587/__Data/__whistle/__whislte_30_species/__fit_result_species/20210303_233728/STAR2006/epoch_02_valloss_1.7076_valacc_0.3818.hdf5\n",
      "7361/7361 [==============================] - 190s 26ms/step - loss: 1.7050 - accuracy: 0.4002 - val_loss: 1.7076 - val_accuracy: 0.3818\n",
      "Epoch 3/200\n",
      "7360/7361 [============================>.] - ETA: 0s - loss: 1.5601 - accuracy: 0.4546\n",
      "Epoch 00003: val_loss improved from 1.70764 to 1.58934, saving model to /home/ys587/__Data/__whistle/__whislte_30_species/__fit_result_species/20210303_233728/STAR2006/epoch_03_valloss_1.5893_valacc_0.4553.hdf5\n",
      "7361/7361 [==============================] - 191s 26ms/step - loss: 1.5601 - accuracy: 0.4546 - val_loss: 1.5893 - val_accuracy: 0.4553\n",
      "Epoch 4/200\n",
      "7359/7361 [============================>.] - ETA: 0s - loss: 1.4693 - accuracy: 0.4904\n",
      "Epoch 00004: val_loss improved from 1.58934 to 1.39025, saving model to /home/ys587/__Data/__whistle/__whislte_30_species/__fit_result_species/20210303_233728/STAR2006/epoch_04_valloss_1.3903_valacc_0.5187.hdf5\n",
      "7361/7361 [==============================] - 192s 26ms/step - loss: 1.4694 - accuracy: 0.4904 - val_loss: 1.3903 - val_accuracy: 0.5187\n",
      "Epoch 5/200\n",
      "7360/7361 [============================>.] - ETA: 0s - loss: 1.4014 - accuracy: 0.5195\n",
      "Epoch 00005: val_loss did not improve from 1.39025\n",
      "7361/7361 [==============================] - 192s 26ms/step - loss: 1.4014 - accuracy: 0.5195 - val_loss: 1.4232 - val_accuracy: 0.5071\n",
      "Epoch 6/200\n",
      "7361/7361 [==============================] - ETA: 0s - loss: 1.3474 - accuracy: 0.5394\n",
      "Epoch 00006: val_loss did not improve from 1.39025\n",
      "7361/7361 [==============================] - 191s 26ms/step - loss: 1.3474 - accuracy: 0.5394 - val_loss: 1.4418 - val_accuracy: 0.5044\n",
      "Epoch 7/200\n",
      "7359/7361 [============================>.] - ETA: 0s - loss: 1.3075 - accuracy: 0.5550\n",
      "Epoch 00007: val_loss improved from 1.39025 to 1.29687, saving model to /home/ys587/__Data/__whistle/__whislte_30_species/__fit_result_species/20210303_233728/STAR2006/epoch_07_valloss_1.2969_valacc_0.5675.hdf5\n",
      "7361/7361 [==============================] - 191s 26ms/step - loss: 1.3075 - accuracy: 0.5550 - val_loss: 1.2969 - val_accuracy: 0.5675\n",
      "Epoch 8/200\n",
      "7361/7361 [==============================] - ETA: 0s - loss: 1.2711 - accuracy: 0.5708\n",
      "Epoch 00008: val_loss improved from 1.29687 to 1.25503, saving model to /home/ys587/__Data/__whistle/__whislte_30_species/__fit_result_species/20210303_233728/STAR2006/epoch_08_valloss_1.2550_valacc_0.5804.hdf5\n",
      "7361/7361 [==============================] - 190s 26ms/step - loss: 1.2711 - accuracy: 0.5708 - val_loss: 1.2550 - val_accuracy: 0.5804\n",
      "Epoch 9/200\n",
      "7360/7361 [============================>.] - ETA: 0s - loss: 1.2419 - accuracy: 0.5818\n",
      "Epoch 00009: val_loss improved from 1.25503 to 1.17836, saving model to /home/ys587/__Data/__whistle/__whislte_30_species/__fit_result_species/20210303_233728/STAR2006/epoch_09_valloss_1.1784_valacc_0.6072.hdf5\n",
      "7361/7361 [==============================] - 190s 26ms/step - loss: 1.2418 - accuracy: 0.5818 - val_loss: 1.1784 - val_accuracy: 0.6072\n",
      "Epoch 10/200\n",
      "7359/7361 [============================>.] - ETA: 0s - loss: 1.2167 - accuracy: 0.5915\n",
      "Epoch 00010: val_loss did not improve from 1.17836\n",
      "7361/7361 [==============================] - 190s 26ms/step - loss: 1.2167 - accuracy: 0.5915 - val_loss: 1.2046 - val_accuracy: 0.5877\n",
      "Epoch 11/200\n",
      "7360/7361 [============================>.] - ETA: 0s - loss: 1.1934 - accuracy: 0.5997\n",
      "Epoch 00011: val_loss did not improve from 1.17836\n",
      "7361/7361 [==============================] - 189s 26ms/step - loss: 1.1933 - accuracy: 0.5997 - val_loss: 1.1926 - val_accuracy: 0.6031\n",
      "Epoch 12/200\n",
      "7361/7361 [==============================] - ETA: 0s - loss: 1.1709 - accuracy: 0.6107\n",
      "Epoch 00012: val_loss improved from 1.17836 to 1.16312, saving model to /home/ys587/__Data/__whistle/__whislte_30_species/__fit_result_species/20210303_233728/STAR2006/epoch_12_valloss_1.1631_valacc_0.6113.hdf5\n",
      "7361/7361 [==============================] - 190s 26ms/step - loss: 1.1709 - accuracy: 0.6107 - val_loss: 1.1631 - val_accuracy: 0.6113\n",
      "Epoch 13/200\n",
      "7359/7361 [============================>.] - ETA: 0s - loss: 1.1512 - accuracy: 0.6185\n",
      "Epoch 00013: val_loss improved from 1.16312 to 1.15531, saving model to /home/ys587/__Data/__whistle/__whislte_30_species/__fit_result_species/20210303_233728/STAR2006/epoch_13_valloss_1.1553_valacc_0.6168.hdf5\n",
      "7361/7361 [==============================] - 190s 26ms/step - loss: 1.1512 - accuracy: 0.6185 - val_loss: 1.1553 - val_accuracy: 0.6168\n",
      "Epoch 14/200\n",
      "7359/7361 [============================>.] - ETA: 0s - loss: 1.1337 - accuracy: 0.6254\n",
      "Epoch 00014: val_loss did not improve from 1.15531\n",
      "7361/7361 [==============================] - 189s 26ms/step - loss: 1.1336 - accuracy: 0.6254 - val_loss: 1.2149 - val_accuracy: 0.5986\n",
      "Epoch 15/200\n",
      "7360/7361 [============================>.] - ETA: 0s - loss: 1.1171 - accuracy: 0.6314\n",
      "Epoch 00015: val_loss improved from 1.15531 to 1.07747, saving model to /home/ys587/__Data/__whistle/__whislte_30_species/__fit_result_species/20210303_233728/STAR2006/epoch_15_valloss_1.0775_valacc_0.6441.hdf5\n",
      "7361/7361 [==============================] - 190s 26ms/step - loss: 1.1171 - accuracy: 0.6314 - val_loss: 1.0775 - val_accuracy: 0.6441\n",
      "Epoch 16/200\n",
      "7361/7361 [==============================] - ETA: 0s - loss: 1.1017 - accuracy: 0.6400\n",
      "Epoch 00016: val_loss did not improve from 1.07747\n",
      "7361/7361 [==============================] - 190s 26ms/step - loss: 1.1017 - accuracy: 0.6400 - val_loss: 1.1066 - val_accuracy: 0.6360\n",
      "Epoch 17/200\n",
      "7360/7361 [============================>.] - ETA: 0s - loss: 1.0869 - accuracy: 0.6449\n",
      "Epoch 00017: val_loss improved from 1.07747 to 1.02929, saving model to /home/ys587/__Data/__whistle/__whislte_30_species/__fit_result_species/20210303_233728/STAR2006/epoch_17_valloss_1.0293_valacc_0.6760.hdf5\n",
      "7361/7361 [==============================] - 191s 26ms/step - loss: 1.0869 - accuracy: 0.6449 - val_loss: 1.0293 - val_accuracy: 0.6760\n",
      "Epoch 18/200\n",
      "7361/7361 [==============================] - ETA: 0s - loss: 1.0736 - accuracy: 0.6500\n",
      "Epoch 00018: val_loss did not improve from 1.02929\n",
      "7361/7361 [==============================] - 190s 26ms/step - loss: 1.0736 - accuracy: 0.6500 - val_loss: 1.1370 - val_accuracy: 0.6313\n",
      "Epoch 19/200\n",
      "7359/7361 [============================>.] - ETA: 0s - loss: 1.0641 - accuracy: 0.6551\n",
      "Epoch 00019: val_loss did not improve from 1.02929\n",
      "7361/7361 [==============================] - 190s 26ms/step - loss: 1.0641 - accuracy: 0.6551 - val_loss: 1.1090 - val_accuracy: 0.6420\n",
      "Epoch 20/200\n",
      "7361/7361 [==============================] - ETA: 0s - loss: 1.0514 - accuracy: 0.6603\n",
      "Epoch 00020: val_loss did not improve from 1.02929\n",
      "7361/7361 [==============================] - 190s 26ms/step - loss: 1.0514 - accuracy: 0.6603 - val_loss: 1.0619 - val_accuracy: 0.6595\n",
      "Epoch 21/200\n",
      "7360/7361 [============================>.] - ETA: 0s - loss: 1.0382 - accuracy: 0.6649\n",
      "Epoch 00021: val_loss did not improve from 1.02929\n",
      "7361/7361 [==============================] - 190s 26ms/step - loss: 1.0382 - accuracy: 0.6649 - val_loss: 1.0513 - val_accuracy: 0.6676\n",
      "Epoch 22/200\n",
      "7361/7361 [==============================] - ETA: 0s - loss: 1.0265 - accuracy: 0.6720\n",
      "Epoch 00022: val_loss did not improve from 1.02929\n",
      "7361/7361 [==============================] - 191s 26ms/step - loss: 1.0265 - accuracy: 0.6720 - val_loss: 1.1191 - val_accuracy: 0.6444\n",
      "Epoch 23/200\n",
      "7360/7361 [============================>.] - ETA: 0s - loss: 1.0203 - accuracy: 0.6735\n",
      "Epoch 00023: val_loss did not improve from 1.02929\n",
      "7361/7361 [==============================] - 190s 26ms/step - loss: 1.0203 - accuracy: 0.6735 - val_loss: 1.0757 - val_accuracy: 0.6621\n",
      "Epoch 24/200\n",
      "7361/7361 [==============================] - ETA: 0s - loss: 1.0100 - accuracy: 0.6800\n",
      "Epoch 00024: val_loss improved from 1.02929 to 1.02121, saving model to /home/ys587/__Data/__whistle/__whislte_30_species/__fit_result_species/20210303_233728/STAR2006/epoch_24_valloss_1.0212_valacc_0.6805.hdf5\n",
      "7361/7361 [==============================] - 190s 26ms/step - loss: 1.0100 - accuracy: 0.6800 - val_loss: 1.0212 - val_accuracy: 0.6805\n",
      "Epoch 25/200\n",
      "7359/7361 [============================>.] - ETA: 0s - loss: 1.0005 - accuracy: 0.6832\n",
      "Epoch 00025: val_loss did not improve from 1.02121\n",
      "7361/7361 [==============================] - 190s 26ms/step - loss: 1.0005 - accuracy: 0.6832 - val_loss: 1.0730 - val_accuracy: 0.6616\n",
      "Epoch 26/200\n",
      "7359/7361 [============================>.] - ETA: 0s - loss: 0.9896 - accuracy: 0.6876\n",
      "Epoch 00026: val_loss did not improve from 1.02121\n",
      "7361/7361 [==============================] - 189s 26ms/step - loss: 0.9895 - accuracy: 0.6876 - val_loss: 1.0227 - val_accuracy: 0.6824\n",
      "Epoch 27/200\n",
      "7358/7361 [============================>.] - ETA: 0s - loss: 0.9836 - accuracy: 0.6916\n",
      "Epoch 00027: val_loss did not improve from 1.02121\n",
      "7361/7361 [==============================] - 191s 26ms/step - loss: 0.9836 - accuracy: 0.6916 - val_loss: 1.0386 - val_accuracy: 0.6822\n",
      "Epoch 28/200\n",
      "7360/7361 [============================>.] - ETA: 0s - loss: 0.9762 - accuracy: 0.6930\n",
      "Epoch 00028: val_loss did not improve from 1.02121\n",
      "7361/7361 [==============================] - 189s 26ms/step - loss: 0.9762 - accuracy: 0.6930 - val_loss: 1.0396 - val_accuracy: 0.6826\n",
      "Epoch 29/200\n",
      "7360/7361 [============================>.] - ETA: 0s - loss: 0.9700 - accuracy: 0.6973\n",
      "Epoch 00029: val_loss improved from 1.02121 to 0.99806, saving model to /home/ys587/__Data/__whistle/__whislte_30_species/__fit_result_species/20210303_233728/STAR2006/epoch_29_valloss_0.9981_valacc_0.6978.hdf5\n",
      "7361/7361 [==============================] - 191s 26ms/step - loss: 0.9700 - accuracy: 0.6973 - val_loss: 0.9981 - val_accuracy: 0.6978\n",
      "Epoch 30/200\n",
      "7361/7361 [==============================] - ETA: 0s - loss: 0.9611 - accuracy: 0.7009\n",
      "Epoch 00030: val_loss did not improve from 0.99806\n",
      "7361/7361 [==============================] - 190s 26ms/step - loss: 0.9611 - accuracy: 0.7009 - val_loss: 1.0332 - val_accuracy: 0.6819\n",
      "Epoch 31/200\n",
      "7359/7361 [============================>.] - ETA: 0s - loss: 0.9574 - accuracy: 0.7031\n",
      "Epoch 00031: val_loss did not improve from 0.99806\n",
      "7361/7361 [==============================] - 189s 26ms/step - loss: 0.9574 - accuracy: 0.7031 - val_loss: 1.0452 - val_accuracy: 0.6806\n",
      "Epoch 32/200\n",
      "7361/7361 [==============================] - ETA: 0s - loss: 0.9494 - accuracy: 0.7069\n",
      "Epoch 00032: val_loss did not improve from 0.99806\n",
      "7361/7361 [==============================] - 189s 26ms/step - loss: 0.9494 - accuracy: 0.7069 - val_loss: 1.0124 - val_accuracy: 0.6946\n",
      "Epoch 33/200\n",
      "7361/7361 [==============================] - ETA: 0s - loss: 0.9418 - accuracy: 0.7117\n",
      "Epoch 00033: val_loss did not improve from 0.99806\n",
      "7361/7361 [==============================] - 190s 26ms/step - loss: 0.9418 - accuracy: 0.7117 - val_loss: 1.0103 - val_accuracy: 0.6987\n",
      "Epoch 34/200\n",
      "7361/7361 [==============================] - ETA: 0s - loss: 0.9365 - accuracy: 0.7128\n",
      "Epoch 00034: val_loss did not improve from 0.99806\n",
      "7361/7361 [==============================] - 191s 26ms/step - loss: 0.9365 - accuracy: 0.7128 - val_loss: 1.0523 - val_accuracy: 0.6834\n",
      "Epoch 35/200\n",
      "7361/7361 [==============================] - ETA: 0s - loss: 0.9310 - accuracy: 0.7165\n",
      "Epoch 00035: val_loss did not improve from 0.99806\n",
      "7361/7361 [==============================] - 193s 26ms/step - loss: 0.9310 - accuracy: 0.7165 - val_loss: 1.0212 - val_accuracy: 0.6941\n",
      "Epoch 36/200\n",
      "7358/7361 [============================>.] - ETA: 0s - loss: 0.9248 - accuracy: 0.7175\n",
      "Epoch 00036: val_loss did not improve from 0.99806\n",
      "7361/7361 [==============================] - 145s 20ms/step - loss: 0.9248 - accuracy: 0.7175 - val_loss: 1.0609 - val_accuracy: 0.6819\n",
      "Epoch 37/200\n",
      "7360/7361 [============================>.] - ETA: 0s - loss: 0.9211 - accuracy: 0.7209\n",
      "Epoch 00037: val_loss did not improve from 0.99806\n",
      "7361/7361 [==============================] - 176s 24ms/step - loss: 0.9210 - accuracy: 0.7209 - val_loss: 1.0355 - val_accuracy: 0.6910\n",
      "Epoch 38/200\n",
      "7360/7361 [============================>.] - ETA: 0s - loss: 0.9171 - accuracy: 0.7238\n",
      "Epoch 00038: val_loss did not improve from 0.99806\n",
      "7361/7361 [==============================] - 183s 25ms/step - loss: 0.9171 - accuracy: 0.7238 - val_loss: 1.0557 - val_accuracy: 0.6855\n",
      "Epoch 39/200\n",
      "7360/7361 [============================>.] - ETA: 0s - loss: 0.9096 - accuracy: 0.7260\n",
      "Epoch 00039: val_loss improved from 0.99806 to 0.99222, saving model to /home/ys587/__Data/__whistle/__whislte_30_species/__fit_result_species/20210303_233728/STAR2006/epoch_39_valloss_0.9922_valacc_0.7037.hdf5\n",
      "7361/7361 [==============================] - 184s 25ms/step - loss: 0.9096 - accuracy: 0.7259 - val_loss: 0.9922 - val_accuracy: 0.7037\n",
      "Epoch 40/200\n",
      "7358/7361 [============================>.] - ETA: 0s - loss: 0.9031 - accuracy: 0.7292\n",
      "Epoch 00040: val_loss did not improve from 0.99222\n",
      "7361/7361 [==============================] - 135s 18ms/step - loss: 0.9031 - accuracy: 0.7292 - val_loss: 1.0048 - val_accuracy: 0.7065\n",
      "Epoch 41/200\n",
      "7359/7361 [============================>.] - ETA: 0s - loss: 0.8984 - accuracy: 0.7312\n",
      "Epoch 00041: val_loss did not improve from 0.99222\n",
      "7361/7361 [==============================] - 160s 22ms/step - loss: 0.8984 - accuracy: 0.7312 - val_loss: 1.0642 - val_accuracy: 0.6874\n",
      "Epoch 42/200\n",
      "7361/7361 [==============================] - ETA: 0s - loss: 0.8969 - accuracy: 0.7329\n",
      "Epoch 00042: val_loss did not improve from 0.99222\n",
      "7361/7361 [==============================] - 184s 25ms/step - loss: 0.8969 - accuracy: 0.7329 - val_loss: 1.0574 - val_accuracy: 0.6852\n",
      "Epoch 43/200\n",
      "7359/7361 [============================>.] - ETA: 0s - loss: 0.8909 - accuracy: 0.7367\n",
      "Epoch 00043: val_loss did not improve from 0.99222\n",
      "7361/7361 [==============================] - 178s 24ms/step - loss: 0.8909 - accuracy: 0.7368 - val_loss: 1.0292 - val_accuracy: 0.7022\n",
      "Epoch 44/200\n",
      "7359/7361 [============================>.] - ETA: 0s - loss: 0.8851 - accuracy: 0.7392\n",
      "Epoch 00044: val_loss did not improve from 0.99222\n",
      "7361/7361 [==============================] - 184s 25ms/step - loss: 0.8851 - accuracy: 0.7392 - val_loss: 1.0633 - val_accuracy: 0.6899\n",
      "Epoch 45/200\n",
      "7359/7361 [============================>.] - ETA: 0s - loss: 0.8854 - accuracy: 0.7383\n",
      "Epoch 00045: val_loss did not improve from 0.99222\n",
      "7361/7361 [==============================] - 181s 25ms/step - loss: 0.8854 - accuracy: 0.7383 - val_loss: 1.0099 - val_accuracy: 0.7048\n",
      "Epoch 46/200\n",
      "7361/7361 [==============================] - ETA: 0s - loss: 0.8780 - accuracy: 0.7412\n",
      "Epoch 00046: val_loss did not improve from 0.99222\n",
      "7361/7361 [==============================] - 183s 25ms/step - loss: 0.8780 - accuracy: 0.7412 - val_loss: 1.1296 - val_accuracy: 0.6704\n",
      "Epoch 47/200\n",
      "7361/7361 [==============================] - ETA: 0s - loss: 0.8735 - accuracy: 0.7446\n",
      "Epoch 00047: val_loss improved from 0.99222 to 0.98895, saving model to /home/ys587/__Data/__whistle/__whislte_30_species/__fit_result_species/20210303_233728/STAR2006/epoch_47_valloss_0.9890_valacc_0.7178.hdf5\n",
      "7361/7361 [==============================] - 186s 25ms/step - loss: 0.8735 - accuracy: 0.7446 - val_loss: 0.9890 - val_accuracy: 0.7178\n",
      "Epoch 48/200\n",
      "7360/7361 [============================>.] - ETA: 0s - loss: 0.8709 - accuracy: 0.7450\n",
      "Epoch 00048: val_loss did not improve from 0.98895\n",
      "7361/7361 [==============================] - 187s 25ms/step - loss: 0.8709 - accuracy: 0.7451 - val_loss: 1.0958 - val_accuracy: 0.6790\n",
      "Epoch 49/200\n",
      "7361/7361 [==============================] - ETA: 0s - loss: 0.8663 - accuracy: 0.7482\n",
      "Epoch 00049: val_loss did not improve from 0.98895\n",
      "7361/7361 [==============================] - 188s 26ms/step - loss: 0.8663 - accuracy: 0.7482 - val_loss: 1.0153 - val_accuracy: 0.7121\n",
      "Epoch 50/200\n",
      "6207/7361 [========================>.....] - ETA: 28s - loss: 0.8600 - accuracy: 0.7520"
     ]
    },
    {
     "ename": "KeyboardInterrupt",
     "evalue": "",
     "output_type": "error",
     "traceback": [
      "\u001b[0;31m---------------------------------------------------------------------------\u001b[0m",
      "\u001b[0;31mKeyboardInterrupt\u001b[0m                         Traceback (most recent call last)",
      "\u001b[0;32m<ipython-input-80-52c6294b4df9>\u001b[0m in \u001b[0;36m<module>\u001b[0;34m\u001b[0m\n\u001b[1;32m      7\u001b[0m \u001b[0;31m# history = model.fit(fea_train, to_categorical(label_train), class_weight=class_weights, validation_split=0.3, batch_size=batch_size, epochs=num_epoch, callbacks=[EarlyStopping(patience=num_patience), ModelCheckpoint(filepath=os.path.join(fit_result_path, '{epoch:02d}-{val_loss:.4f}.hdf5'), verbose=1, monitor=\"val_loss\", save_best_only=True)])\u001b[0m\u001b[0;34m\u001b[0m\u001b[0;34m\u001b[0m\u001b[0;34m\u001b[0m\u001b[0m\n\u001b[1;32m      8\u001b[0m \u001b[0;31m# history = model.fit(train_generator, validation_data=validate_generator, class_weight=class_weights, epochs=num_epoch, callbacks=[EarlyStopping(patience=num_patience, monitor='val_loss', mode='min', verbose=1), TensorBoard(log_dir=fit_result_path1), ModelCheckpoint(filepath=os.path.join(fit_result_path1, '{epoch:02d}-{val_loss:.4f}.hdf5'), verbose=1, monitor=\"val_loss\", save_best_only=True)])\u001b[0m\u001b[0;34m\u001b[0m\u001b[0;34m\u001b[0m\u001b[0;34m\u001b[0m\u001b[0m\n\u001b[0;32m----> 9\u001b[0;31m \u001b[0mhistory\u001b[0m \u001b[0;34m=\u001b[0m \u001b[0mmodel\u001b[0m\u001b[0;34m.\u001b[0m\u001b[0mfit\u001b[0m\u001b[0;34m(\u001b[0m\u001b[0mtrain_generator\u001b[0m\u001b[0;34m,\u001b[0m \u001b[0mvalidation_data\u001b[0m\u001b[0;34m=\u001b[0m\u001b[0mvalidate_generator\u001b[0m\u001b[0;34m,\u001b[0m \u001b[0mclass_weight\u001b[0m\u001b[0;34m=\u001b[0m\u001b[0mclass_weights\u001b[0m\u001b[0;34m,\u001b[0m \u001b[0mepochs\u001b[0m\u001b[0;34m=\u001b[0m\u001b[0mnum_epoch\u001b[0m\u001b[0;34m,\u001b[0m \u001b[0mcallbacks\u001b[0m\u001b[0;34m=\u001b[0m\u001b[0;34m[\u001b[0m\u001b[0mEarlyStopping\u001b[0m\u001b[0;34m(\u001b[0m\u001b[0mpatience\u001b[0m\u001b[0;34m=\u001b[0m\u001b[0mnum_patience\u001b[0m\u001b[0;34m,\u001b[0m \u001b[0mmonitor\u001b[0m\u001b[0;34m=\u001b[0m\u001b[0;34m'val_loss'\u001b[0m\u001b[0;34m,\u001b[0m \u001b[0mmode\u001b[0m\u001b[0;34m=\u001b[0m\u001b[0;34m'min'\u001b[0m\u001b[0;34m,\u001b[0m \u001b[0mverbose\u001b[0m\u001b[0;34m=\u001b[0m\u001b[0;36m1\u001b[0m\u001b[0;34m)\u001b[0m\u001b[0;34m,\u001b[0m \u001b[0mTensorBoard\u001b[0m\u001b[0;34m(\u001b[0m\u001b[0mlog_dir\u001b[0m\u001b[0;34m=\u001b[0m\u001b[0mfit_result_path2\u001b[0m\u001b[0;34m)\u001b[0m\u001b[0;34m,\u001b[0m \u001b[0mModelCheckpoint\u001b[0m\u001b[0;34m(\u001b[0m\u001b[0mfilepath\u001b[0m\u001b[0;34m=\u001b[0m\u001b[0mos\u001b[0m\u001b[0;34m.\u001b[0m\u001b[0mpath\u001b[0m\u001b[0;34m.\u001b[0m\u001b[0mjoin\u001b[0m\u001b[0;34m(\u001b[0m\u001b[0mfit_result_path2\u001b[0m\u001b[0;34m,\u001b[0m \u001b[0;34m'epoch_{epoch:02d}_valloss_{val_loss:.4f}_valacc_{val_accuracy:.4f}.hdf5'\u001b[0m \u001b[0;34m)\u001b[0m\u001b[0;34m,\u001b[0m \u001b[0mverbose\u001b[0m\u001b[0;34m=\u001b[0m\u001b[0;36m1\u001b[0m\u001b[0;34m,\u001b[0m \u001b[0mmonitor\u001b[0m\u001b[0;34m=\u001b[0m\u001b[0;34m\"val_loss\"\u001b[0m\u001b[0;34m,\u001b[0m \u001b[0msave_best_only\u001b[0m\u001b[0;34m=\u001b[0m\u001b[0;32mTrue\u001b[0m\u001b[0;34m)\u001b[0m\u001b[0;34m]\u001b[0m\u001b[0;34m)\u001b[0m\u001b[0;34m\u001b[0m\u001b[0;34m\u001b[0m\u001b[0m\n\u001b[0m",
      "\u001b[0;32m~/miniconda3/envs/whistle_classifier/lib/python3.8/site-packages/tensorflow/python/keras/engine/training.py\u001b[0m in \u001b[0;36m_method_wrapper\u001b[0;34m(self, *args, **kwargs)\u001b[0m\n\u001b[1;32m     64\u001b[0m   \u001b[0;32mdef\u001b[0m \u001b[0m_method_wrapper\u001b[0m\u001b[0;34m(\u001b[0m\u001b[0mself\u001b[0m\u001b[0;34m,\u001b[0m \u001b[0;34m*\u001b[0m\u001b[0margs\u001b[0m\u001b[0;34m,\u001b[0m \u001b[0;34m**\u001b[0m\u001b[0mkwargs\u001b[0m\u001b[0;34m)\u001b[0m\u001b[0;34m:\u001b[0m\u001b[0;34m\u001b[0m\u001b[0;34m\u001b[0m\u001b[0m\n\u001b[1;32m     65\u001b[0m     \u001b[0;32mif\u001b[0m \u001b[0;32mnot\u001b[0m \u001b[0mself\u001b[0m\u001b[0;34m.\u001b[0m\u001b[0m_in_multi_worker_mode\u001b[0m\u001b[0;34m(\u001b[0m\u001b[0;34m)\u001b[0m\u001b[0;34m:\u001b[0m  \u001b[0;31m# pylint: disable=protected-access\u001b[0m\u001b[0;34m\u001b[0m\u001b[0;34m\u001b[0m\u001b[0m\n\u001b[0;32m---> 66\u001b[0;31m       \u001b[0;32mreturn\u001b[0m \u001b[0mmethod\u001b[0m\u001b[0;34m(\u001b[0m\u001b[0mself\u001b[0m\u001b[0;34m,\u001b[0m \u001b[0;34m*\u001b[0m\u001b[0margs\u001b[0m\u001b[0;34m,\u001b[0m \u001b[0;34m**\u001b[0m\u001b[0mkwargs\u001b[0m\u001b[0;34m)\u001b[0m\u001b[0;34m\u001b[0m\u001b[0;34m\u001b[0m\u001b[0m\n\u001b[0m\u001b[1;32m     67\u001b[0m \u001b[0;34m\u001b[0m\u001b[0m\n\u001b[1;32m     68\u001b[0m     \u001b[0;31m# Running inside `run_distribute_coordinator` already.\u001b[0m\u001b[0;34m\u001b[0m\u001b[0;34m\u001b[0m\u001b[0;34m\u001b[0m\u001b[0m\n",
      "\u001b[0;32m~/miniconda3/envs/whistle_classifier/lib/python3.8/site-packages/tensorflow/python/keras/engine/training.py\u001b[0m in \u001b[0;36mfit\u001b[0;34m(self, x, y, batch_size, epochs, verbose, callbacks, validation_split, validation_data, shuffle, class_weight, sample_weight, initial_epoch, steps_per_epoch, validation_steps, validation_batch_size, validation_freq, max_queue_size, workers, use_multiprocessing)\u001b[0m\n\u001b[1;32m    846\u001b[0m                 batch_size=batch_size):\n\u001b[1;32m    847\u001b[0m               \u001b[0mcallbacks\u001b[0m\u001b[0;34m.\u001b[0m\u001b[0mon_train_batch_begin\u001b[0m\u001b[0;34m(\u001b[0m\u001b[0mstep\u001b[0m\u001b[0;34m)\u001b[0m\u001b[0;34m\u001b[0m\u001b[0;34m\u001b[0m\u001b[0m\n\u001b[0;32m--> 848\u001b[0;31m               \u001b[0mtmp_logs\u001b[0m \u001b[0;34m=\u001b[0m \u001b[0mtrain_function\u001b[0m\u001b[0;34m(\u001b[0m\u001b[0miterator\u001b[0m\u001b[0;34m)\u001b[0m\u001b[0;34m\u001b[0m\u001b[0;34m\u001b[0m\u001b[0m\n\u001b[0m\u001b[1;32m    849\u001b[0m               \u001b[0;31m# Catch OutOfRangeError for Datasets of unknown size.\u001b[0m\u001b[0;34m\u001b[0m\u001b[0;34m\u001b[0m\u001b[0;34m\u001b[0m\u001b[0m\n\u001b[1;32m    850\u001b[0m               \u001b[0;31m# This blocks until the batch has finished executing.\u001b[0m\u001b[0;34m\u001b[0m\u001b[0;34m\u001b[0m\u001b[0;34m\u001b[0m\u001b[0m\n",
      "\u001b[0;32m~/miniconda3/envs/whistle_classifier/lib/python3.8/site-packages/tensorflow/python/eager/def_function.py\u001b[0m in \u001b[0;36m__call__\u001b[0;34m(self, *args, **kwds)\u001b[0m\n\u001b[1;32m    578\u001b[0m         \u001b[0mxla_context\u001b[0m\u001b[0;34m.\u001b[0m\u001b[0mExit\u001b[0m\u001b[0;34m(\u001b[0m\u001b[0;34m)\u001b[0m\u001b[0;34m\u001b[0m\u001b[0;34m\u001b[0m\u001b[0m\n\u001b[1;32m    579\u001b[0m     \u001b[0;32melse\u001b[0m\u001b[0;34m:\u001b[0m\u001b[0;34m\u001b[0m\u001b[0;34m\u001b[0m\u001b[0m\n\u001b[0;32m--> 580\u001b[0;31m       \u001b[0mresult\u001b[0m \u001b[0;34m=\u001b[0m \u001b[0mself\u001b[0m\u001b[0;34m.\u001b[0m\u001b[0m_call\u001b[0m\u001b[0;34m(\u001b[0m\u001b[0;34m*\u001b[0m\u001b[0margs\u001b[0m\u001b[0;34m,\u001b[0m \u001b[0;34m**\u001b[0m\u001b[0mkwds\u001b[0m\u001b[0;34m)\u001b[0m\u001b[0;34m\u001b[0m\u001b[0;34m\u001b[0m\u001b[0m\n\u001b[0m\u001b[1;32m    581\u001b[0m \u001b[0;34m\u001b[0m\u001b[0m\n\u001b[1;32m    582\u001b[0m     \u001b[0;32mif\u001b[0m \u001b[0mtracing_count\u001b[0m \u001b[0;34m==\u001b[0m \u001b[0mself\u001b[0m\u001b[0;34m.\u001b[0m\u001b[0m_get_tracing_count\u001b[0m\u001b[0;34m(\u001b[0m\u001b[0;34m)\u001b[0m\u001b[0;34m:\u001b[0m\u001b[0;34m\u001b[0m\u001b[0;34m\u001b[0m\u001b[0m\n",
      "\u001b[0;32m~/miniconda3/envs/whistle_classifier/lib/python3.8/site-packages/tensorflow/python/eager/def_function.py\u001b[0m in \u001b[0;36m_call\u001b[0;34m(self, *args, **kwds)\u001b[0m\n\u001b[1;32m    609\u001b[0m       \u001b[0;31m# In this case we have created variables on the first call, so we run the\u001b[0m\u001b[0;34m\u001b[0m\u001b[0;34m\u001b[0m\u001b[0;34m\u001b[0m\u001b[0m\n\u001b[1;32m    610\u001b[0m       \u001b[0;31m# defunned version which is guaranteed to never create variables.\u001b[0m\u001b[0;34m\u001b[0m\u001b[0;34m\u001b[0m\u001b[0;34m\u001b[0m\u001b[0m\n\u001b[0;32m--> 611\u001b[0;31m       \u001b[0;32mreturn\u001b[0m \u001b[0mself\u001b[0m\u001b[0;34m.\u001b[0m\u001b[0m_stateless_fn\u001b[0m\u001b[0;34m(\u001b[0m\u001b[0;34m*\u001b[0m\u001b[0margs\u001b[0m\u001b[0;34m,\u001b[0m \u001b[0;34m**\u001b[0m\u001b[0mkwds\u001b[0m\u001b[0;34m)\u001b[0m  \u001b[0;31m# pylint: disable=not-callable\u001b[0m\u001b[0;34m\u001b[0m\u001b[0;34m\u001b[0m\u001b[0m\n\u001b[0m\u001b[1;32m    612\u001b[0m     \u001b[0;32melif\u001b[0m \u001b[0mself\u001b[0m\u001b[0;34m.\u001b[0m\u001b[0m_stateful_fn\u001b[0m \u001b[0;32mis\u001b[0m \u001b[0;32mnot\u001b[0m \u001b[0;32mNone\u001b[0m\u001b[0;34m:\u001b[0m\u001b[0;34m\u001b[0m\u001b[0;34m\u001b[0m\u001b[0m\n\u001b[1;32m    613\u001b[0m       \u001b[0;31m# Release the lock early so that multiple threads can perform the call\u001b[0m\u001b[0;34m\u001b[0m\u001b[0;34m\u001b[0m\u001b[0;34m\u001b[0m\u001b[0m\n",
      "\u001b[0;32m~/miniconda3/envs/whistle_classifier/lib/python3.8/site-packages/tensorflow/python/eager/function.py\u001b[0m in \u001b[0;36m__call__\u001b[0;34m(self, *args, **kwargs)\u001b[0m\n\u001b[1;32m   2418\u001b[0m     \u001b[0;32mwith\u001b[0m \u001b[0mself\u001b[0m\u001b[0;34m.\u001b[0m\u001b[0m_lock\u001b[0m\u001b[0;34m:\u001b[0m\u001b[0;34m\u001b[0m\u001b[0;34m\u001b[0m\u001b[0m\n\u001b[1;32m   2419\u001b[0m       \u001b[0mgraph_function\u001b[0m\u001b[0;34m,\u001b[0m \u001b[0margs\u001b[0m\u001b[0;34m,\u001b[0m \u001b[0mkwargs\u001b[0m \u001b[0;34m=\u001b[0m \u001b[0mself\u001b[0m\u001b[0;34m.\u001b[0m\u001b[0m_maybe_define_function\u001b[0m\u001b[0;34m(\u001b[0m\u001b[0margs\u001b[0m\u001b[0;34m,\u001b[0m \u001b[0mkwargs\u001b[0m\u001b[0;34m)\u001b[0m\u001b[0;34m\u001b[0m\u001b[0;34m\u001b[0m\u001b[0m\n\u001b[0;32m-> 2420\u001b[0;31m     \u001b[0;32mreturn\u001b[0m \u001b[0mgraph_function\u001b[0m\u001b[0;34m.\u001b[0m\u001b[0m_filtered_call\u001b[0m\u001b[0;34m(\u001b[0m\u001b[0margs\u001b[0m\u001b[0;34m,\u001b[0m \u001b[0mkwargs\u001b[0m\u001b[0;34m)\u001b[0m  \u001b[0;31m# pylint: disable=protected-access\u001b[0m\u001b[0;34m\u001b[0m\u001b[0;34m\u001b[0m\u001b[0m\n\u001b[0m\u001b[1;32m   2421\u001b[0m \u001b[0;34m\u001b[0m\u001b[0m\n\u001b[1;32m   2422\u001b[0m   \u001b[0;34m@\u001b[0m\u001b[0mproperty\u001b[0m\u001b[0;34m\u001b[0m\u001b[0;34m\u001b[0m\u001b[0m\n",
      "\u001b[0;32m~/miniconda3/envs/whistle_classifier/lib/python3.8/site-packages/tensorflow/python/eager/function.py\u001b[0m in \u001b[0;36m_filtered_call\u001b[0;34m(self, args, kwargs)\u001b[0m\n\u001b[1;32m   1659\u001b[0m       \u001b[0;31m`\u001b[0m\u001b[0margs\u001b[0m\u001b[0;31m`\u001b[0m \u001b[0;32mand\u001b[0m\u001b[0;31m \u001b[0m\u001b[0;31m`\u001b[0m\u001b[0mkwargs\u001b[0m\u001b[0;31m`\u001b[0m\u001b[0;34m.\u001b[0m\u001b[0;34m\u001b[0m\u001b[0;34m\u001b[0m\u001b[0m\n\u001b[1;32m   1660\u001b[0m     \"\"\"\n\u001b[0;32m-> 1661\u001b[0;31m     return self._call_flat(\n\u001b[0m\u001b[1;32m   1662\u001b[0m         (t for t in nest.flatten((args, kwargs), expand_composites=True)\n\u001b[1;32m   1663\u001b[0m          if isinstance(t, (ops.Tensor,\n",
      "\u001b[0;32m~/miniconda3/envs/whistle_classifier/lib/python3.8/site-packages/tensorflow/python/eager/function.py\u001b[0m in \u001b[0;36m_call_flat\u001b[0;34m(self, args, captured_inputs, cancellation_manager)\u001b[0m\n\u001b[1;32m   1743\u001b[0m         and executing_eagerly):\n\u001b[1;32m   1744\u001b[0m       \u001b[0;31m# No tape is watching; skip to running the function.\u001b[0m\u001b[0;34m\u001b[0m\u001b[0;34m\u001b[0m\u001b[0;34m\u001b[0m\u001b[0m\n\u001b[0;32m-> 1745\u001b[0;31m       return self._build_call_outputs(self._inference_function.call(\n\u001b[0m\u001b[1;32m   1746\u001b[0m           ctx, args, cancellation_manager=cancellation_manager))\n\u001b[1;32m   1747\u001b[0m     forward_backward = self._select_forward_and_backward_functions(\n",
      "\u001b[0;32m~/miniconda3/envs/whistle_classifier/lib/python3.8/site-packages/tensorflow/python/eager/function.py\u001b[0m in \u001b[0;36mcall\u001b[0;34m(self, ctx, args, cancellation_manager)\u001b[0m\n\u001b[1;32m    591\u001b[0m       \u001b[0;32mwith\u001b[0m \u001b[0m_InterpolateFunctionError\u001b[0m\u001b[0;34m(\u001b[0m\u001b[0mself\u001b[0m\u001b[0;34m)\u001b[0m\u001b[0;34m:\u001b[0m\u001b[0;34m\u001b[0m\u001b[0;34m\u001b[0m\u001b[0m\n\u001b[1;32m    592\u001b[0m         \u001b[0;32mif\u001b[0m \u001b[0mcancellation_manager\u001b[0m \u001b[0;32mis\u001b[0m \u001b[0;32mNone\u001b[0m\u001b[0;34m:\u001b[0m\u001b[0;34m\u001b[0m\u001b[0;34m\u001b[0m\u001b[0m\n\u001b[0;32m--> 593\u001b[0;31m           outputs = execute.execute(\n\u001b[0m\u001b[1;32m    594\u001b[0m               \u001b[0mstr\u001b[0m\u001b[0;34m(\u001b[0m\u001b[0mself\u001b[0m\u001b[0;34m.\u001b[0m\u001b[0msignature\u001b[0m\u001b[0;34m.\u001b[0m\u001b[0mname\u001b[0m\u001b[0;34m)\u001b[0m\u001b[0;34m,\u001b[0m\u001b[0;34m\u001b[0m\u001b[0;34m\u001b[0m\u001b[0m\n\u001b[1;32m    595\u001b[0m               \u001b[0mnum_outputs\u001b[0m\u001b[0;34m=\u001b[0m\u001b[0mself\u001b[0m\u001b[0;34m.\u001b[0m\u001b[0m_num_outputs\u001b[0m\u001b[0;34m,\u001b[0m\u001b[0;34m\u001b[0m\u001b[0;34m\u001b[0m\u001b[0m\n",
      "\u001b[0;32m~/miniconda3/envs/whistle_classifier/lib/python3.8/site-packages/tensorflow/python/eager/execute.py\u001b[0m in \u001b[0;36mquick_execute\u001b[0;34m(op_name, num_outputs, inputs, attrs, ctx, name)\u001b[0m\n\u001b[1;32m     57\u001b[0m   \u001b[0;32mtry\u001b[0m\u001b[0;34m:\u001b[0m\u001b[0;34m\u001b[0m\u001b[0;34m\u001b[0m\u001b[0m\n\u001b[1;32m     58\u001b[0m     \u001b[0mctx\u001b[0m\u001b[0;34m.\u001b[0m\u001b[0mensure_initialized\u001b[0m\u001b[0;34m(\u001b[0m\u001b[0;34m)\u001b[0m\u001b[0;34m\u001b[0m\u001b[0;34m\u001b[0m\u001b[0m\n\u001b[0;32m---> 59\u001b[0;31m     tensors = pywrap_tfe.TFE_Py_Execute(ctx._handle, device_name, op_name,\n\u001b[0m\u001b[1;32m     60\u001b[0m                                         inputs, attrs, num_outputs)\n\u001b[1;32m     61\u001b[0m   \u001b[0;32mexcept\u001b[0m \u001b[0mcore\u001b[0m\u001b[0;34m.\u001b[0m\u001b[0m_NotOkStatusException\u001b[0m \u001b[0;32mas\u001b[0m \u001b[0me\u001b[0m\u001b[0;34m:\u001b[0m\u001b[0;34m\u001b[0m\u001b[0;34m\u001b[0m\u001b[0m\n",
      "\u001b[0;31mKeyboardInterrupt\u001b[0m: "
     ]
    }
   ],
   "source": [
    "# model = model_cnn14_attention_multi(dim_time, dim_freq, num_species, model_type='feature_level_attention', conv_dim=conv_dim, pool_size=pool_size, pool_stride=pool_stride, hidden_units=hidden_units, l2_regu=l2_regu, drop_rate=drop_rate)\n",
    "model = model_cnn14_spp(dim_time, dim_freq, num_species, conv_dim=conv_dim, pool_size=pool_size, pool_stride=pool_stride, hidden_units=hidden_units, l2_regu=l2_regu, drop_rate=drop_rate)\n",
    "loss = CategoricalCrossentropy()\n",
    "model.compile(optimizer=tf.keras.optimizers.Adam(learning_rate=learning_rate_fn), loss=loss, metrics=['accuracy'])\n",
    "\n",
    "# With classes\n",
    "# history = model.fit(fea_train, to_categorical(label_train), class_weight=class_weights, validation_split=0.3, batch_size=batch_size, epochs=num_epoch, callbacks=[EarlyStopping(patience=num_patience), ModelCheckpoint(filepath=os.path.join(fit_result_path, '{epoch:02d}-{val_loss:.4f}.hdf5'), verbose=1, monitor=\"val_loss\", save_best_only=True)])\n",
    "# history = model.fit(train_generator, validation_data=validate_generator, class_weight=class_weights, epochs=num_epoch, callbacks=[EarlyStopping(patience=num_patience, monitor='val_loss', mode='min', verbose=1), TensorBoard(log_dir=fit_result_path1), ModelCheckpoint(filepath=os.path.join(fit_result_path1, '{epoch:02d}-{val_loss:.4f}.hdf5'), verbose=1, monitor=\"val_loss\", save_best_only=True)])\n",
    "history = model.fit(train_generator, validation_data=validate_generator, class_weight=class_weights, epochs=num_epoch, callbacks=[EarlyStopping(patience=num_patience, monitor='val_loss', mode='min', verbose=1), TensorBoard(log_dir=fit_result_path2), ModelCheckpoint(filepath=os.path.join(fit_result_path2, 'epoch_{epoch:02d}_valloss_{val_loss:.4f}_valacc_{val_accuracy:.4f}.hdf5' ), verbose=1, monitor=\"val_loss\", save_best_only=True)])"
   ]
  },
  {
   "cell_type": "code",
   "execution_count": null,
   "metadata": {},
   "outputs": [],
   "source": [
    "# fit_result_path1 = '/home/ys587/__Data/__whistle/__whislte_30_species/__fit_result_species/20210210_224527'\n",
    "the_best_model, _ = find_best_model(fit_result_path2, purge=False)"
   ]
  },
  {
   "cell_type": "code",
   "execution_count": null,
   "metadata": {
    "scrolled": true
   },
   "outputs": [],
   "source": [
    "model = load_model(the_best_model)\n",
    "model.summary()"
   ]
  },
  {
   "cell_type": "code",
   "execution_count": null,
   "metadata": {},
   "outputs": [],
   "source": [
    "label_pred = model.predict(fea_test)\n",
    "# label_pred = model.predict(test_generator)"
   ]
  },
  {
   "cell_type": "code",
   "execution_count": null,
   "metadata": {},
   "outputs": [],
   "source": [
    "np.set_printoptions(linewidth=200, precision=2, suppress=True)"
   ]
  },
  {
   "cell_type": "code",
   "execution_count": null,
   "metadata": {},
   "outputs": [],
   "source": [
    "print(\"Confusion matrix:\")\n",
    "cm = confusion_matrix(label_test, np.argmax(label_pred, axis=1), labels=species_id)\n",
    "\n",
    "print(species_list)\n",
    "print('')\n",
    "print(cm)\n",
    "print('')\n",
    "\n",
    "cm2 = cm*1.0\n",
    "for ii in range(cm.shape[0]):\n",
    "    cm_row = cm[ii, :]*1.0\n",
    "\n",
    "    cm_row_sum = cm_row.sum()\n",
    "    if cm_row_sum != 0:\n",
    "        cm2[ii, :] = cm_row / cm_row_sum\n",
    "    else:\n",
    "        cm2[ii, :] = np.zeros(cm.shape[1])\n",
    "\n",
    "print(cm2)"
   ]
  },
  {
   "cell_type": "code",
   "execution_count": null,
   "metadata": {},
   "outputs": [],
   "source": [
    "from sklearn.metrics import plot_confusion_matrix\n",
    "from sklearn.metrics._plot.confusion_matrix import ConfusionMatrixDisplay\n",
    "disp = ConfusionMatrixDisplay(confusion_matrix=cm, display_labels=species_list)\n",
    "disp2 = ConfusionMatrixDisplay(confusion_matrix=cm2, display_labels=species_list)"
   ]
  },
  {
   "cell_type": "code",
   "execution_count": null,
   "metadata": {},
   "outputs": [],
   "source": [
    "fig, ax = plt.subplots(figsize=[15, 15])\n",
    "disp.plot(include_values=True,\n",
    "                     cmap='viridis', ax=ax, xticks_rotation='horizontal',\n",
    "                     values_format=None, colorbar=True)\n"
   ]
  },
  {
   "cell_type": "code",
   "execution_count": null,
   "metadata": {},
   "outputs": [],
   "source": [
    "fig, ax = plt.subplots(figsize=[15, 15])\n",
    "disp2.plot(include_values=True,\n",
    "                     cmap='viridis', ax=ax, xticks_rotation='horizontal',\n",
    "                     values_format='.2f', colorbar=True)"
   ]
  },
  {
   "cell_type": "markdown",
   "metadata": {},
   "source": [
    "## HICEAS2002"
   ]
  },
  {
   "cell_type": "code",
   "execution_count": null,
   "metadata": {},
   "outputs": [],
   "source": [
    "ee = deployment[3]\n",
    "print(ee)"
   ]
  },
  {
   "cell_type": "code",
   "execution_count": null,
   "metadata": {},
   "outputs": [],
   "source": [
    "# Training data\n",
    "fea_temp = np.load(os.path.join(feature_path, 'train_oswald_no_'+ee+'.npz'))\n",
    "fea_train = fea_temp['fea_train']\n",
    "label_train_list = fea_temp['label_train']\n",
    "del fea_temp"
   ]
  },
  {
   "cell_type": "code",
   "execution_count": null,
   "metadata": {},
   "outputs": [],
   "source": [
    "label_train = np.zeros(len(label_train_list))\n",
    "for ii in range(len(label_train_list)):\n",
    "    label_train[ii] = species_dict[label_train_list[ii]]"
   ]
  },
  {
   "cell_type": "code",
   "execution_count": null,
   "metadata": {},
   "outputs": [],
   "source": [
    "# Testing data\n",
    "fea_temp = np.load(os.path.join(feature_path, 'oswald_'+ee+'_orig.npz'))\n",
    "fea_test = fea_temp['feas_orig']\n",
    "label_test_list = fea_temp['labels_orig']\n",
    "\n",
    "fea_test = fea_test[:,:100,:]\n",
    "label_test = np.zeros(len(label_test_list))\n",
    "for ii in range(len(label_test_list)):\n",
    "    label_test[ii] = species_dict[label_test_list[ii]]"
   ]
  },
  {
   "cell_type": "code",
   "execution_count": null,
   "metadata": {},
   "outputs": [],
   "source": [
    "fea_train = fea_train[:,:100,:]"
   ]
  },
  {
   "cell_type": "code",
   "execution_count": null,
   "metadata": {},
   "outputs": [],
   "source": [
    "label_train = np.zeros(len(label_train_list))\n",
    "for ii in range(len(label_train_list)):\n",
    "    label_train[ii] = species_dict[label_train_list[ii]]"
   ]
  },
  {
   "cell_type": "code",
   "execution_count": null,
   "metadata": {
    "scrolled": true
   },
   "outputs": [],
   "source": [
    "Counter(label_train_list)"
   ]
  },
  {
   "cell_type": "code",
   "execution_count": null,
   "metadata": {},
   "outputs": [],
   "source": [
    "Counter(label_test.tolist())"
   ]
  },
  {
   "cell_type": "code",
   "execution_count": null,
   "metadata": {},
   "outputs": [],
   "source": [
    "fit_result_path2 = os.path.join(fit_result_path1, ee)\n",
    "if not os.path.exists(fit_result_path2):\n",
    "    makedirs(fit_result_path2)"
   ]
  },
  {
   "cell_type": "code",
   "execution_count": null,
   "metadata": {},
   "outputs": [],
   "source": [
    "print('feature train shape: '+str(fea_train.shape))\n",
    "print('feature test shape: '+str(fea_test.shape))\n",
    "print('label train shape: '+str(label_train.shape))\n",
    "print('label test shape: '+str(label_test.shape))\n",
    "\n",
    "dim_time = fea_train.shape[1]\n",
    "dim_freq = fea_train.shape[2]\n",
    "print('dim_time: '+str(dim_time))\n",
    "print('dim_freq: '+str(dim_freq))"
   ]
  },
  {
   "cell_type": "code",
   "execution_count": null,
   "metadata": {},
   "outputs": [],
   "source": [
    "# shuffle features & labels\n",
    "fea_train, label_train = shuffle(fea_train, label_train, random_state=0)\n",
    "fea_test, label_test = shuffle(fea_test, label_test, random_state=0)"
   ]
  },
  {
   "cell_type": "code",
   "execution_count": null,
   "metadata": {},
   "outputs": [],
   "source": [
    "# class weight\n",
    "weights = compute_class_weight(class_weight='balanced', classes=np.unique(label_train), y=label_train)\n",
    "\n",
    "class_weights = dict()\n",
    "for ii in range(num_species):\n",
    "    class_weights[ii] = weights[ii]"
   ]
  },
  {
   "cell_type": "code",
   "execution_count": null,
   "metadata": {},
   "outputs": [],
   "source": [
    "fea_train = np.expand_dims(fea_train, axis=3)\n",
    "fea_test = np.expand_dims(fea_test, axis=3)"
   ]
  },
  {
   "cell_type": "code",
   "execution_count": null,
   "metadata": {},
   "outputs": [],
   "source": [
    "fea_train, fea_validate, label_train, label_validate = train_test_split(fea_train, label_train, test_size=0.10, random_state=42)\n",
    "\n",
    "train_generator = DataGenerator(fea_train, label_train, batch_size=batch_size, num_classes=num_species)\n",
    "del fea_train\n",
    "validate_generator = DataGenerator(fea_validate, label_validate, batch_size=batch_size, num_classes=num_species)\n",
    "del fea_validate\n",
    "\n",
    "# test_generator = DataGenerator(fea_test, label_test, batch_size=batch_size, num_classes=num_species)\n"
   ]
  },
  {
   "cell_type": "markdown",
   "metadata": {},
   "source": [
    "### Training the model"
   ]
  },
  {
   "cell_type": "code",
   "execution_count": null,
   "metadata": {
    "scrolled": true
   },
   "outputs": [],
   "source": [
    "# model = model_cnn14_attention_multi(dim_time, dim_freq, num_species, model_type='feature_level_attention', conv_dim=conv_dim, pool_size=pool_size, pool_stride=pool_stride, hidden_units=hidden_units, l2_regu=l2_regu, drop_rate=drop_rate)\n",
    "model = model_cnn14_spp(dim_time, dim_freq, num_species, conv_dim=conv_dim, pool_size=pool_size, pool_stride=pool_stride, hidden_units=hidden_units, l2_regu=l2_regu, drop_rate=drop_rate)\n",
    "loss = CategoricalCrossentropy()\n",
    "model.compile(optimizer=tf.keras.optimizers.Adam(learning_rate=learning_rate_fn), loss=loss, metrics=['accuracy'])\n",
    "\n",
    "# With classes\n",
    "# history = model.fit(fea_train, to_categorical(label_train), class_weight=class_weights, validation_split=0.3, batch_size=batch_size, epochs=num_epoch, callbacks=[EarlyStopping(patience=num_patience), ModelCheckpoint(filepath=os.path.join(fit_result_path, '{epoch:02d}-{val_loss:.4f}.hdf5'), verbose=1, monitor=\"val_loss\", save_best_only=True)])\n",
    "# history = model.fit(train_generator, validation_data=validate_generator, class_weight=class_weights, epochs=num_epoch, callbacks=[EarlyStopping(patience=num_patience, monitor='val_loss', mode='min', verbose=1), TensorBoard(log_dir=fit_result_path1), ModelCheckpoint(filepath=os.path.join(fit_result_path1, '{epoch:02d}-{val_loss:.4f}.hdf5'), verbose=1, monitor=\"val_loss\", save_best_only=True)])\n",
    "history = model.fit(train_generator, validation_data=validate_generator, class_weight=class_weights, epochs=num_epoch, callbacks=[EarlyStopping(patience=num_patience, monitor='val_loss', mode='min', verbose=1), TensorBoard(log_dir=fit_result_path2), ModelCheckpoint(filepath=os.path.join(fit_result_path2, 'epoch_{epoch:02d}_valloss_{val_loss:.4f}_valacc_{val_accuracy:.4f}.hdf5' ), verbose=1, monitor=\"val_loss\", save_best_only=True)])"
   ]
  },
  {
   "cell_type": "code",
   "execution_count": null,
   "metadata": {},
   "outputs": [],
   "source": [
    "# fit_result_path1 = '/home/ys587/__Data/__whistle/__whislte_30_species/__fit_result_species/20210210_224527'\n",
    "the_best_model, _ = find_best_model(fit_result_path2, purge=False)"
   ]
  },
  {
   "cell_type": "code",
   "execution_count": null,
   "metadata": {
    "scrolled": true
   },
   "outputs": [],
   "source": [
    "model = load_model(the_best_model)\n",
    "model.summary()"
   ]
  },
  {
   "cell_type": "code",
   "execution_count": null,
   "metadata": {},
   "outputs": [],
   "source": [
    "label_pred = model.predict(fea_test)\n",
    "# label_pred = model.predict(test_generator)"
   ]
  },
  {
   "cell_type": "code",
   "execution_count": null,
   "metadata": {},
   "outputs": [],
   "source": [
    "np.set_printoptions(linewidth=200, precision=2, suppress=True)"
   ]
  },
  {
   "cell_type": "code",
   "execution_count": null,
   "metadata": {},
   "outputs": [],
   "source": [
    "print(\"Confusion matrix:\")\n",
    "cm = confusion_matrix(label_test, np.argmax(label_pred, axis=1), labels=species_id)\n",
    "\n",
    "print(species_list)\n",
    "print('')\n",
    "print(cm)\n",
    "print('')\n",
    "\n",
    "cm2 = cm*1.0\n",
    "for ii in range(cm.shape[0]):\n",
    "    cm_row = cm[ii, :]*1.0\n",
    "\n",
    "    cm_row_sum = cm_row.sum()\n",
    "    if cm_row_sum != 0:\n",
    "        cm2[ii, :] = cm_row / cm_row_sum\n",
    "    else:\n",
    "        cm2[ii, :] = np.zeros(cm.shape[1])\n",
    "\n",
    "print(cm2)"
   ]
  },
  {
   "cell_type": "code",
   "execution_count": null,
   "metadata": {},
   "outputs": [],
   "source": [
    "from sklearn.metrics import plot_confusion_matrix\n",
    "from sklearn.metrics._plot.confusion_matrix import ConfusionMatrixDisplay\n",
    "disp = ConfusionMatrixDisplay(confusion_matrix=cm, display_labels=species_list)\n",
    "disp2 = ConfusionMatrixDisplay(confusion_matrix=cm2, display_labels=species_list)"
   ]
  },
  {
   "cell_type": "code",
   "execution_count": null,
   "metadata": {},
   "outputs": [],
   "source": [
    "fig, ax = plt.subplots(figsize=[15, 15])\n",
    "disp.plot(include_values=True,\n",
    "                     cmap='viridis', ax=ax, xticks_rotation='horizontal',\n",
    "                     values_format=None, colorbar=True)\n"
   ]
  },
  {
   "cell_type": "code",
   "execution_count": null,
   "metadata": {},
   "outputs": [],
   "source": [
    "fig, ax = plt.subplots(figsize=[15, 15])\n",
    "disp2.plot(include_values=True,\n",
    "                     cmap='viridis', ax=ax, xticks_rotation='horizontal',\n",
    "                     values_format='.2f', colorbar=True)"
   ]
  },
  {
   "cell_type": "markdown",
   "metadata": {},
   "source": [
    "## PICES2005"
   ]
  },
  {
   "cell_type": "code",
   "execution_count": null,
   "metadata": {},
   "outputs": [],
   "source": [
    "ee = deployment[4]\n",
    "print(ee)"
   ]
  },
  {
   "cell_type": "code",
   "execution_count": null,
   "metadata": {},
   "outputs": [],
   "source": [
    "# Training data\n",
    "fea_temp = np.load(os.path.join(feature_path, 'train_oswald_no_'+ee+'.npz'))\n",
    "fea_train = fea_temp['fea_train']\n",
    "label_train_list = fea_temp['label_train']\n",
    "del fea_temp"
   ]
  },
  {
   "cell_type": "code",
   "execution_count": null,
   "metadata": {},
   "outputs": [],
   "source": [
    "label_train = np.zeros(len(label_train_list))\n",
    "for ii in range(len(label_train_list)):\n",
    "    label_train[ii] = species_dict[label_train_list[ii]]"
   ]
  },
  {
   "cell_type": "code",
   "execution_count": null,
   "metadata": {},
   "outputs": [],
   "source": [
    "# Testing data\n",
    "fea_temp = np.load(os.path.join(feature_path, 'oswald_'+ee+'_orig.npz'))\n",
    "fea_test = fea_temp['feas_orig']\n",
    "label_test_list = fea_temp['labels_orig']\n",
    "\n",
    "fea_test = fea_test[:,:100,:]\n",
    "label_test = np.zeros(len(label_test_list))\n",
    "for ii in range(len(label_test_list)):\n",
    "    label_test[ii] = species_dict[label_test_list[ii]]"
   ]
  },
  {
   "cell_type": "code",
   "execution_count": null,
   "metadata": {},
   "outputs": [],
   "source": [
    "fea_train = fea_train[:,:100,:]"
   ]
  },
  {
   "cell_type": "code",
   "execution_count": null,
   "metadata": {},
   "outputs": [],
   "source": [
    "label_train = np.zeros(len(label_train_list))\n",
    "for ii in range(len(label_train_list)):\n",
    "    label_train[ii] = species_dict[label_train_list[ii]]"
   ]
  },
  {
   "cell_type": "code",
   "execution_count": null,
   "metadata": {
    "scrolled": true
   },
   "outputs": [],
   "source": [
    "Counter(label_train_list)"
   ]
  },
  {
   "cell_type": "code",
   "execution_count": null,
   "metadata": {},
   "outputs": [],
   "source": [
    "Counter(label_test.tolist())"
   ]
  },
  {
   "cell_type": "code",
   "execution_count": null,
   "metadata": {},
   "outputs": [],
   "source": [
    "fit_result_path2 = os.path.join(fit_result_path1, ee)\n",
    "if not os.path.exists(fit_result_path2):\n",
    "    makedirs(fit_result_path2)"
   ]
  },
  {
   "cell_type": "code",
   "execution_count": null,
   "metadata": {},
   "outputs": [],
   "source": [
    "print('feature train shape: '+str(fea_train.shape))\n",
    "print('feature test shape: '+str(fea_test.shape))\n",
    "print('label train shape: '+str(label_train.shape))\n",
    "print('label test shape: '+str(label_test.shape))\n",
    "\n",
    "dim_time = fea_train.shape[1]\n",
    "dim_freq = fea_train.shape[2]\n",
    "print('dim_time: '+str(dim_time))\n",
    "print('dim_freq: '+str(dim_freq))"
   ]
  },
  {
   "cell_type": "code",
   "execution_count": null,
   "metadata": {},
   "outputs": [],
   "source": [
    "# shuffle features & labels\n",
    "fea_train, label_train = shuffle(fea_train, label_train, random_state=0)\n",
    "fea_test, label_test = shuffle(fea_test, label_test, random_state=0)"
   ]
  },
  {
   "cell_type": "code",
   "execution_count": null,
   "metadata": {},
   "outputs": [],
   "source": [
    "# class weight\n",
    "weights = compute_class_weight(class_weight='balanced', classes=np.unique(label_train), y=label_train)\n",
    "\n",
    "class_weights = dict()\n",
    "for ii in range(num_species):\n",
    "    class_weights[ii] = weights[ii]"
   ]
  },
  {
   "cell_type": "code",
   "execution_count": null,
   "metadata": {},
   "outputs": [],
   "source": [
    "fea_train = np.expand_dims(fea_train, axis=3)\n",
    "fea_test = np.expand_dims(fea_test, axis=3)"
   ]
  },
  {
   "cell_type": "code",
   "execution_count": null,
   "metadata": {},
   "outputs": [],
   "source": [
    "fea_train, fea_validate, label_train, label_validate = train_test_split(fea_train, label_train, test_size=0.10, random_state=42)\n",
    "\n",
    "train_generator = DataGenerator(fea_train, label_train, batch_size=batch_size, num_classes=num_species)\n",
    "del fea_train\n",
    "validate_generator = DataGenerator(fea_validate, label_validate, batch_size=batch_size, num_classes=num_species)\n",
    "del fea_validate\n",
    "\n",
    "# test_generator = DataGenerator(fea_test, label_test, batch_size=batch_size, num_classes=num_species)\n"
   ]
  },
  {
   "cell_type": "markdown",
   "metadata": {},
   "source": [
    "### Training the model"
   ]
  },
  {
   "cell_type": "code",
   "execution_count": null,
   "metadata": {
    "scrolled": true
   },
   "outputs": [],
   "source": [
    "# model = model_cnn14_attention_multi(dim_time, dim_freq, num_species, model_type='feature_level_attention', conv_dim=conv_dim, pool_size=pool_size, pool_stride=pool_stride, hidden_units=hidden_units, l2_regu=l2_regu, drop_rate=drop_rate)\n",
    "model = model_cnn14_spp(dim_time, dim_freq, num_species, conv_dim=conv_dim, pool_size=pool_size, pool_stride=pool_stride, hidden_units=hidden_units, l2_regu=l2_regu, drop_rate=drop_rate)\n",
    "loss = CategoricalCrossentropy()\n",
    "model.compile(optimizer=tf.keras.optimizers.Adam(learning_rate=learning_rate_fn), loss=loss, metrics=['accuracy'])\n",
    "\n",
    "# With classes\n",
    "# history = model.fit(fea_train, to_categorical(label_train), class_weight=class_weights, validation_split=0.3, batch_size=batch_size, epochs=num_epoch, callbacks=[EarlyStopping(patience=num_patience), ModelCheckpoint(filepath=os.path.join(fit_result_path, '{epoch:02d}-{val_loss:.4f}.hdf5'), verbose=1, monitor=\"val_loss\", save_best_only=True)])\n",
    "# history = model.fit(train_generator, validation_data=validate_generator, class_weight=class_weights, epochs=num_epoch, callbacks=[EarlyStopping(patience=num_patience, monitor='val_loss', mode='min', verbose=1), TensorBoard(log_dir=fit_result_path1), ModelCheckpoint(filepath=os.path.join(fit_result_path1, '{epoch:02d}-{val_loss:.4f}.hdf5'), verbose=1, monitor=\"val_loss\", save_best_only=True)])\n",
    "history = model.fit(train_generator, validation_data=validate_generator, class_weight=class_weights, epochs=num_epoch, callbacks=[EarlyStopping(patience=num_patience, monitor='val_loss', mode='min', verbose=1), TensorBoard(log_dir=fit_result_path2), ModelCheckpoint(filepath=os.path.join(fit_result_path2, 'epoch_{epoch:02d}_valloss_{val_loss:.4f}_valacc_{val_accuracy:.4f}.hdf5' ), verbose=1, monitor=\"val_loss\", save_best_only=True)])"
   ]
  },
  {
   "cell_type": "code",
   "execution_count": null,
   "metadata": {},
   "outputs": [],
   "source": [
    "# fit_result_path1 = '/home/ys587/__Data/__whistle/__whislte_30_species/__fit_result_species/20210210_224527'\n",
    "the_best_model, _ = find_best_model(fit_result_path2, purge=False)"
   ]
  },
  {
   "cell_type": "code",
   "execution_count": null,
   "metadata": {
    "scrolled": true
   },
   "outputs": [],
   "source": [
    "model = load_model(the_best_model)\n",
    "model.summary()"
   ]
  },
  {
   "cell_type": "code",
   "execution_count": null,
   "metadata": {},
   "outputs": [],
   "source": [
    "label_pred = model.predict(fea_test)\n",
    "# label_pred = model.predict(test_generator)"
   ]
  },
  {
   "cell_type": "code",
   "execution_count": null,
   "metadata": {},
   "outputs": [],
   "source": [
    "np.set_printoptions(linewidth=200, precision=2, suppress=True)"
   ]
  },
  {
   "cell_type": "code",
   "execution_count": null,
   "metadata": {},
   "outputs": [],
   "source": [
    "print(\"Confusion matrix:\")\n",
    "cm = confusion_matrix(label_test, np.argmax(label_pred, axis=1), labels=species_id)\n",
    "\n",
    "print(species_list)\n",
    "print('')\n",
    "print(cm)\n",
    "print('')\n",
    "\n",
    "cm2 = cm*1.0\n",
    "for ii in range(cm.shape[0]):\n",
    "    cm_row = cm[ii, :]*1.0\n",
    "\n",
    "    cm_row_sum = cm_row.sum()\n",
    "    if cm_row_sum != 0:\n",
    "        cm2[ii, :] = cm_row / cm_row_sum\n",
    "    else:\n",
    "        cm2[ii, :] = np.zeros(cm.shape[1])\n",
    "\n",
    "print(cm2)"
   ]
  },
  {
   "cell_type": "code",
   "execution_count": null,
   "metadata": {},
   "outputs": [],
   "source": [
    "from sklearn.metrics import plot_confusion_matrix\n",
    "from sklearn.metrics._plot.confusion_matrix import ConfusionMatrixDisplay\n",
    "disp = ConfusionMatrixDisplay(confusion_matrix=cm, display_labels=species_list)\n",
    "disp2 = ConfusionMatrixDisplay(confusion_matrix=cm2, display_labels=species_list)"
   ]
  },
  {
   "cell_type": "code",
   "execution_count": null,
   "metadata": {},
   "outputs": [],
   "source": [
    "fig, ax = plt.subplots(figsize=[15, 15])\n",
    "disp.plot(include_values=True,\n",
    "                     cmap='viridis', ax=ax, xticks_rotation='horizontal',\n",
    "                     values_format=None, colorbar=True)\n"
   ]
  },
  {
   "cell_type": "code",
   "execution_count": null,
   "metadata": {},
   "outputs": [],
   "source": [
    "fig, ax = plt.subplots(figsize=[15, 15])\n",
    "disp2.plot(include_values=True,\n",
    "                     cmap='viridis', ax=ax, xticks_rotation='horizontal',\n",
    "                     values_format='.2f', colorbar=True)"
   ]
  },
  {
   "cell_type": "code",
   "execution_count": null,
   "metadata": {},
   "outputs": [],
   "source": []
  },
  {
   "cell_type": "code",
   "execution_count": null,
   "metadata": {},
   "outputs": [],
   "source": []
  },
  {
   "cell_type": "code",
   "execution_count": null,
   "metadata": {},
   "outputs": [],
   "source": []
  },
  {
   "cell_type": "code",
   "execution_count": null,
   "metadata": {},
   "outputs": [],
   "source": []
  },
  {
   "cell_type": "code",
   "execution_count": null,
   "metadata": {},
   "outputs": [],
   "source": []
  },
  {
   "cell_type": "code",
   "execution_count": null,
   "metadata": {},
   "outputs": [],
   "source": []
  }
 ],
 "metadata": {
  "kernelspec": {
   "display_name": "Python 3",
   "language": "python",
   "name": "python3"
  },
  "language_info": {
   "codemirror_mode": {
    "name": "ipython",
    "version": 3
   },
   "file_extension": ".py",
   "mimetype": "text/x-python",
   "name": "python",
   "nbconvert_exporter": "python",
   "pygments_lexer": "ipython3",
   "version": "3.8.6"
  }
 },
 "nbformat": 4,
 "nbformat_minor": 4
}
