{
 "cells": [
  {
   "cell_type": "code",
   "execution_count": 17,
   "id": "cooperative-generic",
   "metadata": {
    "scrolled": true
   },
   "outputs": [],
   "source": [
    "import os\n",
    "import numpy as np\n",
    "# import s3fs"
   ]
  },
  {
   "cell_type": "markdown",
   "id": "spare-bradford",
   "metadata": {},
   "source": [
    "## Expt 0: all data except one of the five Oswald deployments"
   ]
  },
  {
   "cell_type": "code",
   "execution_count": 20,
   "id": "opposed-template",
   "metadata": {},
   "outputs": [],
   "source": [
    "# Generate train datasets\n",
    "deployment = ['STAR2000', 'STAR2003', 'STAR2006', 'HICEAS2002', 'PICEAS2005']  # oswald_STAR2000_orig.npz, oswald_STAR2000_aug.npz\n",
    "fea_train_files = [ 'gillispie_48kHz_orig.npz', 'gillispie_48kHz_aug.npz', 'gillispie_96kHz_orig.npz', 'gillispie_96kHz_aug.npz', \n",
    "                   'dclde2011_orig.npz', 'dclde2011_aug.npz', 'watkin_orig.npz', 'watkin_aug.npz']\n",
    "feature_path = '/home/ys587/__Data/__whistle/__whislte_30_species/__dataset/20210210'"
   ]
  },
  {
   "cell_type": "code",
   "execution_count": 21,
   "id": "informational-value",
   "metadata": {
    "scrolled": true
   },
   "outputs": [
    {
     "name": "stdout",
     "output_type": "stream",
     "text": [
      "STAR2000\n",
      "oswald_STAR2003_orig.npz\n",
      "['feas_orig', 'labels_orig']\n",
      "(1770, 101, 128)\n",
      "(1770,)\n",
      "oswald_STAR2003_aug.npz\n",
      "['feas_aug', 'labels_aug']\n",
      "(7080, 101, 128)\n",
      "(7080,)\n",
      "oswald_STAR2006_orig.npz\n",
      "['feas_orig', 'labels_orig']\n",
      "(9584, 101, 128)\n",
      "(9584,)\n",
      "oswald_STAR2006_aug.npz\n",
      "['feas_aug', 'labels_aug']\n",
      "(17096, 101, 128)\n",
      "(17096,)\n",
      "oswald_HICEAS2002_orig.npz\n",
      "['feas_orig', 'labels_orig']\n",
      "(19625, 101, 128)\n",
      "(19625,)\n",
      "oswald_HICEAS2002_aug.npz\n",
      "['feas_aug', 'labels_aug']\n",
      "(27212, 101, 128)\n",
      "(27212,)\n",
      "oswald_PICEAS2005_orig.npz\n",
      "['feas_orig', 'labels_orig']\n",
      "(32728, 101, 128)\n",
      "(32728,)\n",
      "oswald_PICEAS2005_aug.npz\n",
      "['feas_aug', 'labels_aug']\n",
      "(49276, 101, 128)\n",
      "(49276,)\n",
      "gillispie_48kHz_orig.npz\n",
      "['feas_orig', 'labels_orig']\n",
      "(68930, 101, 128)\n",
      "(68930,)\n",
      "gillispie_48kHz_aug.npz\n",
      "['feas_aug', 'labels_aug']\n",
      "(127892, 101, 128)\n",
      "(127892,)\n",
      "gillispie_96kHz_orig.npz\n",
      "['feas_orig', 'labels_orig']\n",
      "(131260, 101, 128)\n",
      "(131260,)\n",
      "gillispie_96kHz_aug.npz\n",
      "['feas_aug', 'labels_aug']\n",
      "(141364, 101, 128)\n",
      "(141364,)\n",
      "dclde2011_orig.npz\n",
      "['feas_orig', 'labels_orig']\n",
      "(173477, 101, 128)\n",
      "(173477,)\n",
      "dclde2011_aug.npz\n",
      "['feas_aug', 'labels_aug']\n",
      "(269816, 101, 128)\n",
      "(269816,)\n",
      "watkin_orig.npz\n",
      "['feas_orig', 'labels_orig']\n",
      "(284022, 101, 128)\n",
      "(284022,)\n",
      "watkin_aug.npz\n",
      "['feas_aug', 'labels_aug']\n",
      "(326640, 101, 128)\n",
      "(326640,)\n",
      "(326640, 101, 128)\n",
      "(326640,)\n",
      "\n",
      "STAR2003\n",
      "oswald_STAR2000_orig.npz\n",
      "['feas_orig', 'labels_orig']\n",
      "(6668, 101, 128)\n",
      "(6668,)\n",
      "oswald_STAR2000_aug.npz\n",
      "['feas_aug', 'labels_aug']\n",
      "(26672, 101, 128)\n",
      "(26672,)\n",
      "oswald_STAR2006_orig.npz\n",
      "['feas_orig', 'labels_orig']\n",
      "(29176, 101, 128)\n",
      "(29176,)\n",
      "oswald_STAR2006_aug.npz\n",
      "['feas_aug', 'labels_aug']\n",
      "(36688, 101, 128)\n",
      "(36688,)\n",
      "oswald_HICEAS2002_orig.npz\n",
      "['feas_orig', 'labels_orig']\n",
      "(39217, 101, 128)\n",
      "(39217,)\n",
      "oswald_HICEAS2002_aug.npz\n",
      "['feas_aug', 'labels_aug']\n",
      "(46804, 101, 128)\n",
      "(46804,)\n",
      "oswald_PICEAS2005_orig.npz\n",
      "['feas_orig', 'labels_orig']\n",
      "(52320, 101, 128)\n",
      "(52320,)\n",
      "oswald_PICEAS2005_aug.npz\n",
      "['feas_aug', 'labels_aug']\n",
      "(68868, 101, 128)\n",
      "(68868,)\n",
      "gillispie_48kHz_orig.npz\n",
      "['feas_orig', 'labels_orig']\n",
      "(88522, 101, 128)\n",
      "(88522,)\n",
      "gillispie_48kHz_aug.npz\n",
      "['feas_aug', 'labels_aug']\n",
      "(147484, 101, 128)\n",
      "(147484,)\n",
      "gillispie_96kHz_orig.npz\n",
      "['feas_orig', 'labels_orig']\n",
      "(150852, 101, 128)\n",
      "(150852,)\n",
      "gillispie_96kHz_aug.npz\n",
      "['feas_aug', 'labels_aug']\n",
      "(160956, 101, 128)\n",
      "(160956,)\n",
      "dclde2011_orig.npz\n",
      "['feas_orig', 'labels_orig']\n",
      "(193069, 101, 128)\n",
      "(193069,)\n",
      "dclde2011_aug.npz\n",
      "['feas_aug', 'labels_aug']\n",
      "(289408, 101, 128)\n",
      "(289408,)\n",
      "watkin_orig.npz\n",
      "['feas_orig', 'labels_orig']\n",
      "(303614, 101, 128)\n",
      "(303614,)\n",
      "watkin_aug.npz\n",
      "['feas_aug', 'labels_aug']\n",
      "(346232, 101, 128)\n",
      "(346232,)\n",
      "(346232, 101, 128)\n",
      "(346232,)\n",
      "\n",
      "STAR2006\n",
      "oswald_STAR2000_orig.npz\n",
      "['feas_orig', 'labels_orig']\n",
      "(6668, 101, 128)\n",
      "(6668,)\n",
      "oswald_STAR2000_aug.npz\n",
      "['feas_aug', 'labels_aug']\n",
      "(26672, 101, 128)\n",
      "(26672,)\n",
      "oswald_STAR2003_orig.npz\n",
      "['feas_orig', 'labels_orig']\n",
      "(28442, 101, 128)\n",
      "(28442,)\n",
      "oswald_STAR2003_aug.npz\n",
      "['feas_aug', 'labels_aug']\n",
      "(33752, 101, 128)\n",
      "(33752,)\n",
      "oswald_HICEAS2002_orig.npz\n",
      "['feas_orig', 'labels_orig']\n",
      "(36281, 101, 128)\n",
      "(36281,)\n",
      "oswald_HICEAS2002_aug.npz\n",
      "['feas_aug', 'labels_aug']\n",
      "(43868, 101, 128)\n",
      "(43868,)\n",
      "oswald_PICEAS2005_orig.npz\n",
      "['feas_orig', 'labels_orig']\n",
      "(49384, 101, 128)\n",
      "(49384,)\n",
      "oswald_PICEAS2005_aug.npz\n",
      "['feas_aug', 'labels_aug']\n",
      "(65932, 101, 128)\n",
      "(65932,)\n",
      "gillispie_48kHz_orig.npz\n",
      "['feas_orig', 'labels_orig']\n",
      "(85586, 101, 128)\n",
      "(85586,)\n",
      "gillispie_48kHz_aug.npz\n",
      "['feas_aug', 'labels_aug']\n",
      "(144548, 101, 128)\n",
      "(144548,)\n",
      "gillispie_96kHz_orig.npz\n",
      "['feas_orig', 'labels_orig']\n",
      "(147916, 101, 128)\n",
      "(147916,)\n",
      "gillispie_96kHz_aug.npz\n",
      "['feas_aug', 'labels_aug']\n",
      "(158020, 101, 128)\n",
      "(158020,)\n",
      "dclde2011_orig.npz\n",
      "['feas_orig', 'labels_orig']\n",
      "(190133, 101, 128)\n",
      "(190133,)\n",
      "dclde2011_aug.npz\n",
      "['feas_aug', 'labels_aug']\n",
      "(286472, 101, 128)\n",
      "(286472,)\n",
      "watkin_orig.npz\n",
      "['feas_orig', 'labels_orig']\n",
      "(300678, 101, 128)\n",
      "(300678,)\n",
      "watkin_aug.npz\n",
      "['feas_aug', 'labels_aug']\n",
      "(343296, 101, 128)\n",
      "(343296,)\n",
      "(343296, 101, 128)\n",
      "(343296,)\n",
      "\n",
      "HICEAS2002\n",
      "oswald_STAR2000_orig.npz\n",
      "['feas_orig', 'labels_orig']\n",
      "(6668, 101, 128)\n",
      "(6668,)\n",
      "oswald_STAR2000_aug.npz\n",
      "['feas_aug', 'labels_aug']\n",
      "(26672, 101, 128)\n",
      "(26672,)\n",
      "oswald_STAR2003_orig.npz\n",
      "['feas_orig', 'labels_orig']\n",
      "(28442, 101, 128)\n",
      "(28442,)\n",
      "oswald_STAR2003_aug.npz\n",
      "['feas_aug', 'labels_aug']\n",
      "(33752, 101, 128)\n",
      "(33752,)\n",
      "oswald_STAR2006_orig.npz\n",
      "['feas_orig', 'labels_orig']\n",
      "(36256, 101, 128)\n",
      "(36256,)\n",
      "oswald_STAR2006_aug.npz\n",
      "['feas_aug', 'labels_aug']\n",
      "(43768, 101, 128)\n",
      "(43768,)\n",
      "oswald_PICEAS2005_orig.npz\n",
      "['feas_orig', 'labels_orig']\n",
      "(49284, 101, 128)\n",
      "(49284,)\n",
      "oswald_PICEAS2005_aug.npz\n",
      "['feas_aug', 'labels_aug']\n",
      "(65832, 101, 128)\n",
      "(65832,)\n",
      "gillispie_48kHz_orig.npz\n",
      "['feas_orig', 'labels_orig']\n",
      "(85486, 101, 128)\n",
      "(85486,)\n",
      "gillispie_48kHz_aug.npz\n",
      "['feas_aug', 'labels_aug']\n",
      "(144448, 101, 128)\n",
      "(144448,)\n",
      "gillispie_96kHz_orig.npz\n",
      "['feas_orig', 'labels_orig']\n",
      "(147816, 101, 128)\n",
      "(147816,)\n",
      "gillispie_96kHz_aug.npz\n",
      "['feas_aug', 'labels_aug']\n",
      "(157920, 101, 128)\n",
      "(157920,)\n",
      "dclde2011_orig.npz\n",
      "['feas_orig', 'labels_orig']\n",
      "(190033, 101, 128)\n",
      "(190033,)\n",
      "dclde2011_aug.npz\n",
      "['feas_aug', 'labels_aug']\n",
      "(286372, 101, 128)\n",
      "(286372,)\n",
      "watkin_orig.npz\n",
      "['feas_orig', 'labels_orig']\n",
      "(300578, 101, 128)\n",
      "(300578,)\n",
      "watkin_aug.npz\n",
      "['feas_aug', 'labels_aug']\n",
      "(343196, 101, 128)\n",
      "(343196,)\n",
      "(343196, 101, 128)\n",
      "(343196,)\n",
      "\n",
      "PICEAS2005\n",
      "oswald_STAR2000_orig.npz\n",
      "['feas_orig', 'labels_orig']\n",
      "(6668, 101, 128)\n",
      "(6668,)\n",
      "oswald_STAR2000_aug.npz\n",
      "['feas_aug', 'labels_aug']\n",
      "(26672, 101, 128)\n",
      "(26672,)\n",
      "oswald_STAR2003_orig.npz\n",
      "['feas_orig', 'labels_orig']\n",
      "(28442, 101, 128)\n",
      "(28442,)\n",
      "oswald_STAR2003_aug.npz\n",
      "['feas_aug', 'labels_aug']\n",
      "(33752, 101, 128)\n",
      "(33752,)\n",
      "oswald_STAR2006_orig.npz\n",
      "['feas_orig', 'labels_orig']\n",
      "(36256, 101, 128)\n",
      "(36256,)\n",
      "oswald_STAR2006_aug.npz\n",
      "['feas_aug', 'labels_aug']\n",
      "(43768, 101, 128)\n",
      "(43768,)\n",
      "oswald_HICEAS2002_orig.npz\n",
      "['feas_orig', 'labels_orig']\n",
      "(46297, 101, 128)\n",
      "(46297,)\n",
      "oswald_HICEAS2002_aug.npz\n",
      "['feas_aug', 'labels_aug']\n",
      "(53884, 101, 128)\n",
      "(53884,)\n",
      "gillispie_48kHz_orig.npz\n",
      "['feas_orig', 'labels_orig']\n",
      "(73538, 101, 128)\n",
      "(73538,)\n",
      "gillispie_48kHz_aug.npz\n",
      "['feas_aug', 'labels_aug']\n",
      "(132500, 101, 128)\n",
      "(132500,)\n",
      "gillispie_96kHz_orig.npz\n",
      "['feas_orig', 'labels_orig']\n",
      "(135868, 101, 128)\n",
      "(135868,)\n",
      "gillispie_96kHz_aug.npz\n",
      "['feas_aug', 'labels_aug']\n",
      "(145972, 101, 128)\n",
      "(145972,)\n",
      "dclde2011_orig.npz\n",
      "['feas_orig', 'labels_orig']\n",
      "(178085, 101, 128)\n",
      "(178085,)\n",
      "dclde2011_aug.npz\n",
      "['feas_aug', 'labels_aug']\n",
      "(274424, 101, 128)\n",
      "(274424,)\n",
      "watkin_orig.npz\n",
      "['feas_orig', 'labels_orig']\n",
      "(288630, 101, 128)\n",
      "(288630,)\n",
      "watkin_aug.npz\n",
      "['feas_aug', 'labels_aug']\n",
      "(331248, 101, 128)\n",
      "(331248,)\n",
      "(331248, 101, 128)\n",
      "(331248,)\n",
      "\n"
     ]
    }
   ],
   "source": [
    "for ee in deployment:\n",
    "    print(ee)\n",
    "    ee_others = [ee2 for ee2 in deployment if (ee2 != ee) ]\n",
    "    fea_train_files_oswald = []\n",
    "    for ee2 in ee_others:\n",
    "        fea_train_files_oswald.append('oswald_'+ee2+'_orig.npz')\n",
    "        fea_train_files_oswald.append('oswald_'+ee2+'_aug.npz')\n",
    "    fea_train_files_tot = fea_train_files_oswald + fea_train_files\n",
    "    \n",
    "    # Training data\n",
    "    fea_train_list = []\n",
    "    label_train_list = []\n",
    "    for ii in range(len(fea_train_files_tot)):\n",
    "        ff = fea_train_files_tot[ii]\n",
    "        print(ff)\n",
    "        fea_temp = np.load(os.path.join(feature_path, ff))\n",
    "        print(fea_temp.files)\n",
    "\n",
    "        if ii == 0:\n",
    "            fea_train = fea_temp['feas_orig']\n",
    "            label_train = fea_temp['labels_orig']\n",
    "            print(fea_train.shape)\n",
    "            print(label_train.shape)\n",
    "        elif ii % 2 == 0:  # even\n",
    "            fea_train = np.concatenate([fea_train, fea_temp['feas_orig']])\n",
    "            label_train = np.concatenate([label_train, fea_temp['labels_orig']])\n",
    "            print(fea_train.shape)\n",
    "            print(label_train.shape)\n",
    "        else:\n",
    "            fea_train = np.concatenate([fea_train, fea_temp['feas_aug']])\n",
    "            label_train = np.concatenate([label_train, fea_temp['labels_aug']])\n",
    "            print(fea_train.shape)\n",
    "            print(label_train.shape)\n",
    "    print(fea_train.shape)\n",
    "    print(label_train.shape)\n",
    "    np.savez(os.path.join(feature_path, './train_no_oswald_'+ee+'.npz'), fea_train=fea_train, label_train=label_train)\n",
    "    print('')"
   ]
  },
  {
   "cell_type": "code",
   "execution_count": 15,
   "id": "accompanied-watts",
   "metadata": {},
   "outputs": [
    {
     "data": {
      "text/plain": [
       "['oswald_STAR2000_orig.npz',\n",
       " 'oswald_STAR2000_aug.npz',\n",
       " 'oswald_STAR2003_orig.npz',\n",
       " 'oswald_STAR2003_aug.npz',\n",
       " 'oswald_STAR2006_orig.npz',\n",
       " 'oswald_STAR2006_aug.npz',\n",
       " 'oswald_HICEAS2002_orig.npz',\n",
       " 'oswald_HICEAS2002_aug.npz',\n",
       " 'gillispie_48kHz_orig.npz',\n",
       " 'gillispie_48kHz_aug.npz',\n",
       " 'gillispie_96kHz_orig.npz',\n",
       " 'gillispie_96kHz_aug.npz',\n",
       " 'dclde2011_orig.npz',\n",
       " 'dclde2011_aug.npz',\n",
       " 'watkin_orig.npz',\n",
       " 'watkin_aug.npz']"
      ]
     },
     "execution_count": 15,
     "metadata": {},
     "output_type": "execute_result"
    }
   ],
   "source": [
    "fea_train_files_tot"
   ]
  },
  {
   "cell_type": "markdown",
   "id": "challenging-november",
   "metadata": {},
   "source": [
    "### Expt 1: all data excep Oswald part 1"
   ]
  },
  {
   "cell_type": "code",
   "execution_count": 3,
   "id": "assumed-steps",
   "metadata": {},
   "outputs": [],
   "source": [
    "# Expt 1: test on oswald_part1\n",
    "fea_train_files = ['oswald_part1_orig.npz', 'oswald_part1_aug.npz',\n",
    "            'gillispie_48kHz_orig.npz', 'gillispie_48kHz_aug.npz', 'gillispie_96kHz_orig.npz', 'gillispie_96kHz_aug.npz',\n",
    "            'dclde2011_orig.npz', 'dclde2011_aug.npz', 'watkin_orig.npz', 'watkin_aug.npz']"
   ]
  },
  {
   "cell_type": "code",
   "execution_count": 5,
   "id": "liberal-collectible",
   "metadata": {
    "scrolled": true
   },
   "outputs": [
    {
     "name": "stdout",
     "output_type": "stream",
     "text": [
      "oswald_part1_orig.npz\n",
      "['feas_orig', 'labels_orig']\n",
      "(12184, 101, 128)\n",
      "(12184,)\n",
      "\n",
      "oswald_part1_aug.npz\n",
      "['feas_aug', 'labels_aug']\n",
      "(48736, 101, 128)\n",
      "(48736,)\n",
      "\n",
      "gillispie_48kHz_orig.npz\n",
      "['feas_orig', 'labels_orig']\n",
      "(68390, 101, 128)\n",
      "(68390,)\n",
      "\n",
      "gillispie_48kHz_aug.npz\n",
      "['feas_aug', 'labels_aug']\n",
      "(127352, 101, 128)\n",
      "(127352,)\n",
      "\n",
      "gillispie_96kHz_orig.npz\n",
      "['feas_orig', 'labels_orig']\n",
      "(130720, 101, 128)\n",
      "(130720,)\n",
      "\n",
      "gillispie_96kHz_aug.npz\n",
      "['feas_aug', 'labels_aug']\n",
      "(140824, 101, 128)\n",
      "(140824,)\n",
      "\n",
      "dclde2011_orig.npz\n",
      "['feas_orig', 'labels_orig']\n",
      "(172937, 101, 128)\n",
      "(172937,)\n",
      "\n",
      "dclde2011_aug.npz\n",
      "['feas_aug', 'labels_aug']\n",
      "(269276, 101, 128)\n",
      "(269276,)\n",
      "\n",
      "watkin_orig.npz\n",
      "['feas_orig', 'labels_orig']\n",
      "(283482, 101, 128)\n",
      "(283482,)\n",
      "\n",
      "watkin_aug.npz\n",
      "['feas_aug', 'labels_aug']\n",
      "(326100, 101, 128)\n",
      "(326100,)\n",
      "\n"
     ]
    }
   ],
   "source": [
    "fea_test_files = ['oswald_part2_orig.npz']\n",
    "feature_path = '/home/ys587/__Data/__whistle/__whislte_30_species/__dataset/20210210'\n",
    "\n",
    "# Training data\n",
    "fea_train_list = []\n",
    "label_train_list = []\n",
    "for ii in range(len(fea_train_files)):\n",
    "    ff = fea_train_files[ii]\n",
    "    print(ff)\n",
    "    fea_temp = np.load(os.path.join(feature_path, ff))\n",
    "    print(fea_temp.files)\n",
    "   \n",
    "    if ii == 0:\n",
    "        fea_train = fea_temp['feas_orig']\n",
    "        label_train = fea_temp['labels_orig']\n",
    "        print(fea_train.shape)\n",
    "        print(label_train.shape)\n",
    "    elif ii % 2 == 0:  # even\n",
    "        fea_train = np.concatenate([fea_train, fea_temp['feas_orig']])\n",
    "        label_train = np.concatenate([label_train, fea_temp['labels_orig']])\n",
    "        print(fea_train.shape)\n",
    "        print(label_train.shape)\n",
    "    else:\n",
    "        fea_train = np.concatenate([fea_train, fea_temp['feas_aug']])\n",
    "        label_train = np.concatenate([label_train, fea_temp['labels_aug']])\n",
    "        print(fea_train.shape)\n",
    "        print(label_train.shape)\n",
    "    "
   ]
  },
  {
   "cell_type": "code",
   "execution_count": 6,
   "id": "short-level",
   "metadata": {},
   "outputs": [
    {
     "data": {
      "text/plain": [
       "(326100, 101, 128)"
      ]
     },
     "execution_count": 6,
     "metadata": {},
     "output_type": "execute_result"
    }
   ],
   "source": [
    "fea_train.shape"
   ]
  },
  {
   "cell_type": "code",
   "execution_count": 7,
   "id": "contained-whale",
   "metadata": {},
   "outputs": [
    {
     "data": {
      "text/plain": [
       "(326100,)"
      ]
     },
     "execution_count": 7,
     "metadata": {},
     "output_type": "execute_result"
    }
   ],
   "source": [
    "label_train.shape"
   ]
  },
  {
   "cell_type": "code",
   "execution_count": 8,
   "id": "indirect-saver",
   "metadata": {},
   "outputs": [],
   "source": [
    "np.savez(os.path.join(feature_path, './train_no_oswald_part2.npz'), fea_train=fea_train, label_train=label_train)"
   ]
  },
  {
   "cell_type": "raw",
   "id": "departmental-cancer",
   "metadata": {},
   "source": [
    "s3.put('./train_no_oswald_part1.npz', os.path.join(feature_path_s3, 'train_no_oswald_part1.npz'))"
   ]
  },
  {
   "cell_type": "markdown",
   "id": "early-parade",
   "metadata": {},
   "source": [
    "### Expt 2: all data excep Gillispie 96 Hz"
   ]
  },
  {
   "cell_type": "code",
   "execution_count": 9,
   "id": "micro-insertion",
   "metadata": {},
   "outputs": [],
   "source": [
    "del fea_train, label_train"
   ]
  },
  {
   "cell_type": "code",
   "execution_count": 10,
   "id": "european-salem",
   "metadata": {},
   "outputs": [],
   "source": [
    "# Expt 2: test on oswald_part1\n",
    "fea_train_files = ['oswald_part1_orig.npz', 'oswald_part1_aug.npz', 'oswald_part2_orig.npz', 'oswald_part2_aug.npz',\n",
    "            'gillispie_48kHz_orig.npz', 'gillispie_48kHz_aug.npz',\n",
    "            'dclde2011_orig.npz', 'dclde2011_aug.npz', 'watkin_orig.npz', 'watkin_aug.npz']"
   ]
  },
  {
   "cell_type": "code",
   "execution_count": 11,
   "id": "referenced-channel",
   "metadata": {
    "scrolled": true
   },
   "outputs": [
    {
     "name": "stdout",
     "output_type": "stream",
     "text": [
      "oswald_part1_orig.npz\n",
      "['feas_orig', 'labels_orig']\n",
      "(12184, 101, 128)\n",
      "(12184,)\n",
      "\n",
      "oswald_part1_aug.npz\n",
      "['feas_aug', 'labels_aug']\n",
      "(48736, 101, 128)\n",
      "(48736,)\n",
      "\n",
      "oswald_part2_orig.npz\n",
      "['feas_orig', 'labels_orig']\n",
      "(55539, 101, 128)\n",
      "(55539,)\n",
      "\n",
      "oswald_part2_aug.npz\n",
      "['feas_aug', 'labels_aug']\n",
      "(75948, 101, 128)\n",
      "(75948,)\n",
      "\n",
      "gillispie_48kHz_orig.npz\n",
      "['feas_orig', 'labels_orig']\n",
      "(95602, 101, 128)\n",
      "(95602,)\n",
      "\n",
      "gillispie_48kHz_aug.npz\n",
      "['feas_aug', 'labels_aug']\n",
      "(154564, 101, 128)\n",
      "(154564,)\n",
      "\n",
      "dclde2011_orig.npz\n",
      "['feas_orig', 'labels_orig']\n",
      "(186677, 101, 128)\n",
      "(186677,)\n",
      "\n",
      "dclde2011_aug.npz\n",
      "['feas_aug', 'labels_aug']\n",
      "(283016, 101, 128)\n",
      "(283016,)\n",
      "\n",
      "watkin_orig.npz\n",
      "['feas_orig', 'labels_orig']\n",
      "(297222, 101, 128)\n",
      "(297222,)\n",
      "\n",
      "watkin_aug.npz\n",
      "['feas_aug', 'labels_aug']\n",
      "(339840, 101, 128)\n",
      "(339840,)\n",
      "\n"
     ]
    }
   ],
   "source": [
    "fea_test_files = ['gillispie_96kHz_orig.npz']\n",
    "feature_path = '/home/ys587/__Data/__whistle/__whislte_30_species/__dataset/20210210'\n",
    "\n",
    "# Training data\n",
    "fea_train_list = []\n",
    "label_train_list = []\n",
    "for ii in range(len(fea_train_files)):\n",
    "    ff = fea_train_files[ii]\n",
    "    print(ff)\n",
    "    fea_temp = np.load(os.path.join(feature_path, ff))\n",
    "    print(fea_temp.files)\n",
    "   \n",
    "    if ii == 0:\n",
    "        fea_train = fea_temp['feas_orig']\n",
    "        label_train = fea_temp['labels_orig']\n",
    "        print(fea_train.shape)\n",
    "        print(label_train.shape)\n",
    "    elif ii % 2 == 0:  # even\n",
    "        fea_train = np.concatenate([fea_train, fea_temp['feas_orig']])\n",
    "        label_train = np.concatenate([label_train, fea_temp['labels_orig']])\n",
    "        print(fea_train.shape)\n",
    "        print(label_train.shape)\n",
    "    else:\n",
    "        fea_train = np.concatenate([fea_train, fea_temp['feas_aug']])\n",
    "        label_train = np.concatenate([label_train, fea_temp['labels_aug']])\n",
    "        print(fea_train.shape)\n",
    "        print(label_train.shape)\n",
    "    print('')"
   ]
  },
  {
   "cell_type": "code",
   "execution_count": 12,
   "id": "silver-cyprus",
   "metadata": {},
   "outputs": [
    {
     "data": {
      "text/plain": [
       "(339840, 101, 128)"
      ]
     },
     "execution_count": 12,
     "metadata": {},
     "output_type": "execute_result"
    }
   ],
   "source": [
    "fea_train.shape"
   ]
  },
  {
   "cell_type": "code",
   "execution_count": 13,
   "id": "comprehensive-address",
   "metadata": {},
   "outputs": [
    {
     "data": {
      "text/plain": [
       "(339840,)"
      ]
     },
     "execution_count": 13,
     "metadata": {},
     "output_type": "execute_result"
    }
   ],
   "source": [
    "label_train.shape"
   ]
  },
  {
   "cell_type": "code",
   "execution_count": 14,
   "id": "celtic-barbados",
   "metadata": {},
   "outputs": [],
   "source": [
    "np.savez(os.path.join(feature_path, './train_no_gillispie_96kHz.npz'), fea_train=fea_train, label_train=label_train)"
   ]
  },
  {
   "cell_type": "code",
   "execution_count": null,
   "id": "convinced-phrase",
   "metadata": {},
   "outputs": [],
   "source": []
  },
  {
   "cell_type": "code",
   "execution_count": null,
   "id": "entire-engagement",
   "metadata": {},
   "outputs": [],
   "source": []
  },
  {
   "cell_type": "code",
   "execution_count": null,
   "id": "absolute-wayne",
   "metadata": {},
   "outputs": [],
   "source": []
  },
  {
   "cell_type": "code",
   "execution_count": null,
   "id": "single-mixture",
   "metadata": {},
   "outputs": [],
   "source": []
  },
  {
   "cell_type": "raw",
   "id": "white-sphere",
   "metadata": {},
   "source": [
    "s3 = s3fs.S3FileSystem(anon=False)"
   ]
  },
  {
   "cell_type": "raw",
   "id": "middle-cuisine",
   "metadata": {},
   "source": [
    "file_list = s3.ls('whistle-classifier')"
   ]
  },
  {
   "cell_type": "raw",
   "id": "desirable-imperial",
   "metadata": {},
   "source": [
    "print(file_list)"
   ]
  },
  {
   "cell_type": "raw",
   "id": "foster-michigan",
   "metadata": {},
   "source": [
    "feature_path_s3 = 'whistle-classifier'"
   ]
  },
  {
   "cell_type": "raw",
   "id": "joined-agreement",
   "metadata": {},
   "source": [
    "for ii in range(len(fea_train_files)):\n",
    "    s3.get(os.path.join(feature_path, fea_train_files[ii]), os.path.join('.', fea_train_files[ii]))"
   ]
  },
  {
   "cell_type": "raw",
   "id": "outdoor-learning",
   "metadata": {},
   "source": [
    "print(fea_train_files[0])\n",
    "s3.get( os.path.join(feature_path_s3, fea_train_files[0]), os.path.join('.', fea_train_files[0]) )\n",
    "print(fea_train_files[1])\n",
    "s3.get( os.path.join(feature_path_s3, fea_train_files[1]), os.path.join('.', fea_train_files[1]) )"
   ]
  },
  {
   "cell_type": "code",
   "execution_count": null,
   "id": "improving-banner",
   "metadata": {},
   "outputs": [],
   "source": []
  },
  {
   "cell_type": "code",
   "execution_count": null,
   "id": "enabling-dinner",
   "metadata": {},
   "outputs": [],
   "source": []
  },
  {
   "cell_type": "code",
   "execution_count": null,
   "id": "industrial-worse",
   "metadata": {},
   "outputs": [],
   "source": []
  }
 ],
 "metadata": {
  "kernelspec": {
   "display_name": "Python 3",
   "language": "python",
   "name": "python3"
  },
  "language_info": {
   "codemirror_mode": {
    "name": "ipython",
    "version": 3
   },
   "file_extension": ".py",
   "mimetype": "text/x-python",
   "name": "python",
   "nbconvert_exporter": "python",
   "pygments_lexer": "ipython3",
   "version": "3.8.6"
  }
 },
 "nbformat": 4,
 "nbformat_minor": 5
}
