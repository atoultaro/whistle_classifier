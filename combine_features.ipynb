{
 "cells": [
  {
   "cell_type": "code",
   "execution_count": 1,
   "id": "general-syndicate",
   "metadata": {
    "scrolled": true
   },
   "outputs": [],
   "source": [
    "import os\n",
    "import numpy as np\n",
    "# import s3fs"
   ]
  },
  {
   "cell_type": "markdown",
   "id": "conditional-burden",
   "metadata": {},
   "source": [
    "## Expt 0: all data except one of the five Oswald deployments"
   ]
  },
  {
   "cell_type": "code",
   "execution_count": 2,
   "id": "liquid-appliance",
   "metadata": {},
   "outputs": [],
   "source": [
    "# Generate train datasets\n",
    "deployment = ['STAR2000', 'STAR2003', 'STAR2006', 'HICEAS2002', 'PICEAS2005']  # oswald_STAR2000_orig.npz, oswald_STAR2000_aug.npz\n",
    "fea_train_files = [ 'gillispie_48kHz_orig.npz', 'gillispie_48kHz_aug.npz', 'gillispie_96kHz_orig.npz', 'gillispie_96kHz_aug.npz', \n",
    "                   'dclde2011_orig.npz', 'dclde2011_aug.npz', 'watkin_orig.npz', 'watkin_aug.npz']\n",
    "feature_path = '/home/ys587/__Data/__whistle/__whislte_30_species/__dataset/20210308_augment_all_three_noise_mixed_class_balanced_min_5'"
   ]
  },
  {
   "cell_type": "code",
   "execution_count": 3,
   "id": "equivalent-syndication",
   "metadata": {
    "scrolled": true
   },
   "outputs": [
    {
     "name": "stdout",
     "output_type": "stream",
     "text": [
      "STAR2000\n",
      "oswald_STAR2003_orig.npz\n",
      "['feas_orig', 'labels_orig']\n",
      "(1770, 101, 128)\n",
      "(1770,)\n",
      "oswald_STAR2003_aug.npz\n",
      "['feas_aug', 'labels_aug']\n",
      "(14078, 101, 128)\n",
      "(14078,)\n",
      "oswald_STAR2006_orig.npz\n",
      "['feas_orig', 'labels_orig']\n",
      "(16582, 101, 128)\n",
      "(16582,)\n",
      "oswald_STAR2006_aug.npz\n",
      "['feas_aug', 'labels_aug']\n",
      "(32950, 101, 128)\n",
      "(32950,)\n",
      "oswald_HICEAS2002_orig.npz\n",
      "['feas_orig', 'labels_orig']\n",
      "(35479, 101, 128)\n",
      "(35479,)\n",
      "oswald_HICEAS2002_aug.npz\n",
      "['feas_aug', 'labels_aug']\n",
      "(52870, 101, 128)\n",
      "(52870,)\n",
      "oswald_PICEAS2005_orig.npz\n",
      "['feas_orig', 'labels_orig']\n",
      "(58386, 101, 128)\n",
      "(58386,)\n",
      "oswald_PICEAS2005_aug.npz\n",
      "['feas_aug', 'labels_aug']\n",
      "(96966, 101, 128)\n",
      "(96966,)\n",
      "gillispie_48kHz_orig.npz\n"
     ]
    },
    {
     "ename": "FileNotFoundError",
     "evalue": "[Errno 2] No such file or directory: '/home/ys587/__Data/__whistle/__whislte_30_species/__dataset/20210308_augment_all_three_noise_mixed_class_balanced_min_5/gillispie_48kHz_orig.npz'",
     "output_type": "error",
     "traceback": [
      "\u001b[0;31m---------------------------------------------------------------------------\u001b[0m",
      "\u001b[0;31mFileNotFoundError\u001b[0m                         Traceback (most recent call last)",
      "\u001b[0;32m<ipython-input-3-4c2a6f5af584>\u001b[0m in \u001b[0;36m<module>\u001b[0;34m\u001b[0m\n\u001b[1;32m     14\u001b[0m         \u001b[0mff\u001b[0m \u001b[0;34m=\u001b[0m \u001b[0mfea_train_files_tot\u001b[0m\u001b[0;34m[\u001b[0m\u001b[0mii\u001b[0m\u001b[0;34m]\u001b[0m\u001b[0;34m\u001b[0m\u001b[0;34m\u001b[0m\u001b[0m\n\u001b[1;32m     15\u001b[0m         \u001b[0mprint\u001b[0m\u001b[0;34m(\u001b[0m\u001b[0mff\u001b[0m\u001b[0;34m)\u001b[0m\u001b[0;34m\u001b[0m\u001b[0;34m\u001b[0m\u001b[0m\n\u001b[0;32m---> 16\u001b[0;31m         \u001b[0mfea_temp\u001b[0m \u001b[0;34m=\u001b[0m \u001b[0mnp\u001b[0m\u001b[0;34m.\u001b[0m\u001b[0mload\u001b[0m\u001b[0;34m(\u001b[0m\u001b[0mos\u001b[0m\u001b[0;34m.\u001b[0m\u001b[0mpath\u001b[0m\u001b[0;34m.\u001b[0m\u001b[0mjoin\u001b[0m\u001b[0;34m(\u001b[0m\u001b[0mfeature_path\u001b[0m\u001b[0;34m,\u001b[0m \u001b[0mff\u001b[0m\u001b[0;34m)\u001b[0m\u001b[0;34m)\u001b[0m\u001b[0;34m\u001b[0m\u001b[0;34m\u001b[0m\u001b[0m\n\u001b[0m\u001b[1;32m     17\u001b[0m         \u001b[0mprint\u001b[0m\u001b[0;34m(\u001b[0m\u001b[0mfea_temp\u001b[0m\u001b[0;34m.\u001b[0m\u001b[0mfiles\u001b[0m\u001b[0;34m)\u001b[0m\u001b[0;34m\u001b[0m\u001b[0;34m\u001b[0m\u001b[0m\n\u001b[1;32m     18\u001b[0m \u001b[0;34m\u001b[0m\u001b[0m\n",
      "\u001b[0;32m~/miniconda3/envs/whistle_classifier/lib/python3.8/site-packages/numpy/lib/npyio.py\u001b[0m in \u001b[0;36mload\u001b[0;34m(file, mmap_mode, allow_pickle, fix_imports, encoding)\u001b[0m\n\u001b[1;32m    414\u001b[0m             \u001b[0mown_fid\u001b[0m \u001b[0;34m=\u001b[0m \u001b[0;32mFalse\u001b[0m\u001b[0;34m\u001b[0m\u001b[0;34m\u001b[0m\u001b[0m\n\u001b[1;32m    415\u001b[0m         \u001b[0;32melse\u001b[0m\u001b[0;34m:\u001b[0m\u001b[0;34m\u001b[0m\u001b[0;34m\u001b[0m\u001b[0m\n\u001b[0;32m--> 416\u001b[0;31m             \u001b[0mfid\u001b[0m \u001b[0;34m=\u001b[0m \u001b[0mstack\u001b[0m\u001b[0;34m.\u001b[0m\u001b[0menter_context\u001b[0m\u001b[0;34m(\u001b[0m\u001b[0mopen\u001b[0m\u001b[0;34m(\u001b[0m\u001b[0mos_fspath\u001b[0m\u001b[0;34m(\u001b[0m\u001b[0mfile\u001b[0m\u001b[0;34m)\u001b[0m\u001b[0;34m,\u001b[0m \u001b[0;34m\"rb\"\u001b[0m\u001b[0;34m)\u001b[0m\u001b[0;34m)\u001b[0m\u001b[0;34m\u001b[0m\u001b[0;34m\u001b[0m\u001b[0m\n\u001b[0m\u001b[1;32m    417\u001b[0m             \u001b[0mown_fid\u001b[0m \u001b[0;34m=\u001b[0m \u001b[0;32mTrue\u001b[0m\u001b[0;34m\u001b[0m\u001b[0;34m\u001b[0m\u001b[0m\n\u001b[1;32m    418\u001b[0m \u001b[0;34m\u001b[0m\u001b[0m\n",
      "\u001b[0;31mFileNotFoundError\u001b[0m: [Errno 2] No such file or directory: '/home/ys587/__Data/__whistle/__whislte_30_species/__dataset/20210308_augment_all_three_noise_mixed_class_balanced_min_5/gillispie_48kHz_orig.npz'"
     ]
    }
   ],
   "source": [
    "for ee in deployment:\n",
    "    print(ee)\n",
    "    ee_others = [ee2 for ee2 in deployment if (ee2 != ee) ]\n",
    "    fea_train_files_oswald = []\n",
    "    for ee2 in ee_others:\n",
    "        fea_train_files_oswald.append('oswald_'+ee2+'_orig.npz')\n",
    "        fea_train_files_oswald.append('oswald_'+ee2+'_aug.npz')\n",
    "    fea_train_files_tot = fea_train_files_oswald + fea_train_files\n",
    "    \n",
    "    # Training data\n",
    "    fea_train_list = []\n",
    "    label_train_list = []\n",
    "    for ii in range(len(fea_train_files_tot)):\n",
    "        ff = fea_train_files_tot[ii]\n",
    "        print(ff)\n",
    "        fea_temp = np.load(os.path.join(feature_path, ff))\n",
    "        print(fea_temp.files)\n",
    "\n",
    "        if ii == 0:\n",
    "            fea_train = fea_temp['feas_orig']\n",
    "            label_train = fea_temp['labels_orig']\n",
    "            print(fea_train.shape)\n",
    "            print(label_train.shape)\n",
    "        elif ii % 2 == 0:  # even\n",
    "            fea_train = np.concatenate([fea_train, fea_temp['feas_orig']])\n",
    "            label_train = np.concatenate([label_train, fea_temp['labels_orig']])\n",
    "            print(fea_train.shape)\n",
    "            print(label_train.shape)\n",
    "        else:\n",
    "            fea_train = np.concatenate([fea_train, fea_temp['feas_aug']])\n",
    "            label_train = np.concatenate([label_train, fea_temp['labels_aug']])\n",
    "            print(fea_train.shape)\n",
    "            print(label_train.shape)\n",
    "    print(fea_train.shape)\n",
    "    print(label_train.shape)\n",
    "    np.savez(os.path.join(feature_path, './train_no_oswald_'+ee+'.npz'), fea_train=fea_train, label_train=label_train)\n",
    "    print('')"
   ]
  },
  {
   "cell_type": "code",
   "execution_count": null,
   "id": "knowing-classroom",
   "metadata": {},
   "outputs": [],
   "source": [
    "fea_train_files_tot"
   ]
  },
  {
   "cell_type": "markdown",
   "id": "endless-captain",
   "metadata": {},
   "source": [
    "### Expt 1: all data excep Oswald part 1"
   ]
  },
  {
   "cell_type": "code",
   "execution_count": null,
   "id": "young-refrigerator",
   "metadata": {},
   "outputs": [],
   "source": [
    "# Expt 1: test on oswald_part1\n",
    "fea_train_files = ['oswald_part1_orig.npz', 'oswald_part1_aug.npz',\n",
    "            'gillispie_48kHz_orig.npz', 'gillispie_48kHz_aug.npz', 'gillispie_96kHz_orig.npz', 'gillispie_96kHz_aug.npz',\n",
    "            'dclde2011_orig.npz', 'dclde2011_aug.npz', 'watkin_orig.npz', 'watkin_aug.npz']"
   ]
  },
  {
   "cell_type": "code",
   "execution_count": null,
   "id": "foster-rochester",
   "metadata": {
    "scrolled": true
   },
   "outputs": [],
   "source": [
    "fea_test_files = ['oswald_part2_orig.npz']\n",
    "feature_path = '/home/ys587/__Data/__whistle/__whislte_30_species/__dataset/20210210'\n",
    "\n",
    "# Training data\n",
    "fea_train_list = []\n",
    "label_train_list = []\n",
    "for ii in range(len(fea_train_files)):\n",
    "    ff = fea_train_files[ii]\n",
    "    print(ff)\n",
    "    fea_temp = np.load(os.path.join(feature_path, ff))\n",
    "    print(fea_temp.files)\n",
    "   \n",
    "    if ii == 0:\n",
    "        fea_train = fea_temp['feas_orig']\n",
    "        label_train = fea_temp['labels_orig']\n",
    "        print(fea_train.shape)\n",
    "        print(label_train.shape)\n",
    "    elif ii % 2 == 0:  # even\n",
    "        fea_train = np.concatenate([fea_train, fea_temp['feas_orig']])\n",
    "        label_train = np.concatenate([label_train, fea_temp['labels_orig']])\n",
    "        print(fea_train.shape)\n",
    "        print(label_train.shape)\n",
    "    else:\n",
    "        fea_train = np.concatenate([fea_train, fea_temp['feas_aug']])\n",
    "        label_train = np.concatenate([label_train, fea_temp['labels_aug']])\n",
    "        print(fea_train.shape)\n",
    "        print(label_train.shape)\n",
    "    "
   ]
  },
  {
   "cell_type": "code",
   "execution_count": null,
   "id": "public-somewhere",
   "metadata": {},
   "outputs": [],
   "source": [
    "fea_train.shape"
   ]
  },
  {
   "cell_type": "code",
   "execution_count": null,
   "id": "rental-locator",
   "metadata": {},
   "outputs": [],
   "source": [
    "label_train.shape"
   ]
  },
  {
   "cell_type": "code",
   "execution_count": null,
   "id": "assigned-valentine",
   "metadata": {},
   "outputs": [],
   "source": [
    "np.savez(os.path.join(feature_path, './train_no_oswald_part2.npz'), fea_train=fea_train, label_train=label_train)"
   ]
  },
  {
   "cell_type": "raw",
   "id": "useful-farming",
   "metadata": {},
   "source": [
    "s3.put('./train_no_oswald_part1.npz', os.path.join(feature_path_s3, 'train_no_oswald_part1.npz'))"
   ]
  },
  {
   "cell_type": "markdown",
   "id": "common-installation",
   "metadata": {},
   "source": [
    "### Expt 2: all data excep Gillispie 96 Hz"
   ]
  },
  {
   "cell_type": "code",
   "execution_count": null,
   "id": "popular-consciousness",
   "metadata": {},
   "outputs": [],
   "source": [
    "del fea_train, label_train"
   ]
  },
  {
   "cell_type": "code",
   "execution_count": null,
   "id": "reflected-campus",
   "metadata": {},
   "outputs": [],
   "source": [
    "# Expt 2: test on oswald_part1\n",
    "fea_train_files = ['oswald_part1_orig.npz', 'oswald_part1_aug.npz', 'oswald_part2_orig.npz', 'oswald_part2_aug.npz',\n",
    "            'gillispie_48kHz_orig.npz', 'gillispie_48kHz_aug.npz',\n",
    "            'dclde2011_orig.npz', 'dclde2011_aug.npz', 'watkin_orig.npz', 'watkin_aug.npz']"
   ]
  },
  {
   "cell_type": "code",
   "execution_count": null,
   "id": "political-fiction",
   "metadata": {
    "scrolled": true
   },
   "outputs": [],
   "source": [
    "fea_test_files = ['gillispie_96kHz_orig.npz']\n",
    "feature_path = '/home/ys587/__Data/__whistle/__whislte_30_species/__dataset/20210210'\n",
    "\n",
    "# Training data\n",
    "fea_train_list = []\n",
    "label_train_list = []\n",
    "for ii in range(len(fea_train_files)):\n",
    "    ff = fea_train_files[ii]\n",
    "    print(ff)\n",
    "    fea_temp = np.load(os.path.join(feature_path, ff))\n",
    "    print(fea_temp.files)\n",
    "   \n",
    "    if ii == 0:\n",
    "        fea_train = fea_temp['feas_orig']\n",
    "        label_train = fea_temp['labels_orig']\n",
    "        print(fea_train.shape)\n",
    "        print(label_train.shape)\n",
    "    elif ii % 2 == 0:  # even\n",
    "        fea_train = np.concatenate([fea_train, fea_temp['feas_orig']])\n",
    "        label_train = np.concatenate([label_train, fea_temp['labels_orig']])\n",
    "        print(fea_train.shape)\n",
    "        print(label_train.shape)\n",
    "    else:\n",
    "        fea_train = np.concatenate([fea_train, fea_temp['feas_aug']])\n",
    "        label_train = np.concatenate([label_train, fea_temp['labels_aug']])\n",
    "        print(fea_train.shape)\n",
    "        print(label_train.shape)\n",
    "    print('')"
   ]
  },
  {
   "cell_type": "code",
   "execution_count": null,
   "id": "starting-weapon",
   "metadata": {},
   "outputs": [],
   "source": [
    "fea_train.shape"
   ]
  },
  {
   "cell_type": "code",
   "execution_count": null,
   "id": "lasting-passport",
   "metadata": {},
   "outputs": [],
   "source": [
    "label_train.shape"
   ]
  },
  {
   "cell_type": "code",
   "execution_count": null,
   "id": "shaped-highland",
   "metadata": {},
   "outputs": [],
   "source": [
    "np.savez(os.path.join(feature_path, './train_no_gillispie_96kHz.npz'), fea_train=fea_train, label_train=label_train)"
   ]
  },
  {
   "cell_type": "code",
   "execution_count": null,
   "id": "fifty-albert",
   "metadata": {},
   "outputs": [],
   "source": []
  },
  {
   "cell_type": "code",
   "execution_count": null,
   "id": "prompt-culture",
   "metadata": {},
   "outputs": [],
   "source": []
  },
  {
   "cell_type": "code",
   "execution_count": null,
   "id": "mathematical-circus",
   "metadata": {},
   "outputs": [],
   "source": []
  },
  {
   "cell_type": "code",
   "execution_count": null,
   "id": "greek-mainstream",
   "metadata": {},
   "outputs": [],
   "source": []
  },
  {
   "cell_type": "raw",
   "id": "transsexual-crazy",
   "metadata": {},
   "source": [
    "s3 = s3fs.S3FileSystem(anon=False)"
   ]
  },
  {
   "cell_type": "raw",
   "id": "excited-antarctica",
   "metadata": {},
   "source": [
    "file_list = s3.ls('whistle-classifier')"
   ]
  },
  {
   "cell_type": "raw",
   "id": "rural-stone",
   "metadata": {},
   "source": [
    "print(file_list)"
   ]
  },
  {
   "cell_type": "raw",
   "id": "responsible-moisture",
   "metadata": {},
   "source": [
    "feature_path_s3 = 'whistle-classifier'"
   ]
  },
  {
   "cell_type": "raw",
   "id": "focused-tribune",
   "metadata": {},
   "source": [
    "for ii in range(len(fea_train_files)):\n",
    "    s3.get(os.path.join(feature_path, fea_train_files[ii]), os.path.join('.', fea_train_files[ii]))"
   ]
  },
  {
   "cell_type": "raw",
   "id": "realistic-therapist",
   "metadata": {},
   "source": [
    "print(fea_train_files[0])\n",
    "s3.get( os.path.join(feature_path_s3, fea_train_files[0]), os.path.join('.', fea_train_files[0]) )\n",
    "print(fea_train_files[1])\n",
    "s3.get( os.path.join(feature_path_s3, fea_train_files[1]), os.path.join('.', fea_train_files[1]) )"
   ]
  },
  {
   "cell_type": "code",
   "execution_count": null,
   "id": "imposed-claim",
   "metadata": {},
   "outputs": [],
   "source": []
  },
  {
   "cell_type": "code",
   "execution_count": null,
   "id": "spectacular-imaging",
   "metadata": {},
   "outputs": [],
   "source": []
  },
  {
   "cell_type": "code",
   "execution_count": null,
   "id": "literary-majority",
   "metadata": {},
   "outputs": [],
   "source": []
  }
 ],
 "metadata": {
  "kernelspec": {
   "display_name": "Python 3",
   "language": "python",
   "name": "python3"
  },
  "language_info": {
   "codemirror_mode": {
    "name": "ipython",
    "version": 3
   },
   "file_extension": ".py",
   "mimetype": "text/x-python",
   "name": "python",
   "nbconvert_exporter": "python",
   "pygments_lexer": "ipython3",
   "version": "3.8.6"
  }
 },
 "nbformat": 4,
 "nbformat_minor": 5
}
