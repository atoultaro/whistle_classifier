{
 "cells": [
  {
   "cell_type": "code",
   "execution_count": 1,
   "id": "south-sydney",
   "metadata": {},
   "outputs": [],
   "source": [
    "import numpy as np\n",
    "from itertools import permutations\n",
    "import random\n",
    "import os\n",
    "import glob\n",
    "import pickle\n",
    "import matplotlib.pyplot as plt\n",
    "import matplotlib.patheffects as PathEffects\n",
    "import pandas as pd\n",
    "from os import makedirs\n",
    "from datetime import datetime\n",
    "from collections import Counter\n",
    "\n",
    "from math import floor\n",
    "\n",
    "from sklearn.model_selection import train_test_split\n",
    "from sklearn.utils import shuffle\n",
    "from sklearn.utils.class_weight import compute_class_weight\n",
    "from sklearn.metrics import roc_curve\n",
    "from sklearn.neighbors import KNeighborsClassifier\n",
    "from sklearn.metrics import confusion_matrix, classification_report\n",
    "\n",
    "# from MulticoreTSNE import MulticoreTSNE as TSNE\n",
    "# from sklearn.manifold import TSNE\n",
    "import seaborn as sns\n",
    "\n",
    "from tensorflow.keras.utils import Sequence\n",
    "from tensorflow.keras.layers import Input, Dense, BatchNormalization, Dropout, Activation\n",
    "from tensorflow.keras.layers import Conv2D, Lambda, Flatten, MaxPooling2D, Concatenate, LSTM, Reshape, Lambda, ConvLSTM2D, GlobalAveragePooling2D, GlobalMaxPooling2D\n",
    "from tensorflow.keras.layers import Bidirectional, LSTM, GRU\n",
    "from tensorflow.keras.models import Model, Sequential\n",
    "from tensorflow.keras.regularizers import l2\n",
    "from tensorflow.keras import backend as K\n",
    "\n",
    "from tensorflow.keras.optimizers.schedules import ExponentialDecay, PiecewiseConstantDecay\n",
    "from tensorflow.keras.optimizers import SGD,Adam\n",
    "from tensorflow.keras.losses import binary_crossentropy, categorical_crossentropy  # CategoricalCrossentropy\n",
    "from tensorflow.keras.callbacks import ModelCheckpoint, TensorBoard, EarlyStopping\n",
    "from tensorflow.keras.utils import to_categorical\n",
    "from tensorflow.keras.models import load_model\n",
    "import tensorflow_addons.layers.spatial_pyramid_pooling as spp\n",
    "# import tensorflow_datasets as tfds\n",
    "from tensorflow.math import l2_normalize\n",
    "\n",
    "import tensorflow as tf"
   ]
  },
  {
   "cell_type": "code",
   "execution_count": 2,
   "id": "engaging-herald",
   "metadata": {},
   "outputs": [],
   "source": [
    "%matplotlib inline\n",
    "import warnings\n",
    "warnings.filterwarnings(\"ignore\", category=DeprecationWarning)"
   ]
  },
  {
   "cell_type": "code",
   "execution_count": 3,
   "id": "ready-draft",
   "metadata": {},
   "outputs": [],
   "source": [
    "# Hyper parameters\n",
    "# learning_rate = 1.0e-3\n",
    "conv_dim = 16\n",
    "rnn_dim = 16\n",
    "pool_size = 2\n",
    "pool_stride = 2\n",
    "l2_regu = 0.001\n",
    "drop_rate = 0.2\n",
    "hidden_units = 256\n",
    "fcn_dim = 256\n",
    "\n",
    "# learning_rate = 1.e-4\n",
    "# conv_dim = 64\n",
    "# rnn_dim = 16\n",
    "# pool_size = 2\n",
    "# pool_stride = 2\n",
    "# l2_regu = 0.00\n",
    "# drop_rate = 0.2\n",
    "# # drop_rate = 0.5\n",
    "# hidden_units = 512\n",
    "# fcn_dim = 512\n",
    "\n",
    "num_epoch = 200\n",
    "# batch_size = 128\n",
    "# batch_size = 32  # for cnn14+attention\n",
    "batch_size = 16  # for cnn14+spp\n",
    "\n",
    "num_patience = 20"
   ]
  },
  {
   "cell_type": "code",
   "execution_count": 4,
   "id": "surrounded-water",
   "metadata": {},
   "outputs": [],
   "source": [
    "# data_type_dict = {1: 'universal', 2: 'file', 3: 'encounter', 4: 'domain'}\n",
    "# data_type = 2\n",
    "\n",
    "work_path = '/home/ys587/__Data/__whistle/__whislte_30_species'\n",
    "fit_result_path =  os.path.join(work_path, '__fit_result_species')\n",
    "# feature_path = os.path.join(work_path, '__feature_species')\n",
    "feature_path = os.path.join(work_path, '__dataset/20210210')"
   ]
  },
  {
   "cell_type": "code",
   "execution_count": null,
   "id": "transparent-candidate",
   "metadata": {},
   "outputs": [],
   "source": []
  },
  {
   "cell_type": "code",
   "execution_count": 5,
   "id": "functional-optimization",
   "metadata": {},
   "outputs": [],
   "source": [
    "species_dict = {'BD': 0, 'CD': 1, 'STR': 2, 'SPT': 3, 'SPIN': 4, 'PLT': 5, 'RT': 6,  'FKW': 7}\n",
    "num_species = len(species_dict)\n",
    "# species_dict = {'BD': 0, 'MH': 1, 'CD': 2, 'STR': 3, 'SPT': 4, 'SPIN': 5, 'PLT': 6, 'RD': 7, 'RT': 8,\n",
    "#                 'WSD': 9, 'FKW': 10, 'BEL': 11, 'KW': 12, 'WBD': 13, 'DUSK': 14, 'FRA': 15, 'PKW': 16, 'LPLT': 17,\n",
    "#                 'CLY': 18, 'SPE': 19, 'ASP': 20}\n",
    "species_list = list(species_dict.keys())\n",
    "species_id = list(species_dict.values())"
   ]
  },
  {
   "cell_type": "markdown",
   "id": "german-convention",
   "metadata": {},
   "source": [
    "## Combine features"
   ]
  },
  {
   "cell_type": "code",
   "execution_count": 6,
   "id": "ultimate-worse",
   "metadata": {},
   "outputs": [],
   "source": [
    "deployment = ['STAR2000', 'STAR2003', 'STAR2006', 'HICEAS2002', 'PICEAS2005']  # oswald_STAR2000_orig.npz, oswald_STAR2000_aug.npz\n",
    "feature_path = '/home/ys587/__Data/__whistle/__whislte_30_species/__dataset/20210223_augment_all_three_noise_mixed'\n",
    "# feature_path = '/home/ys587/__Data/__whistle/__whislte_30_species/__dataset/20210308_augment_all_three_noise_mixed_class_balanced_min_5'\n"
   ]
  },
  {
   "cell_type": "code",
   "execution_count": 7,
   "id": "accredited-morning",
   "metadata": {
    "scrolled": true
   },
   "outputs": [],
   "source": [
    "if False:\n",
    "    for ee in deployment:\n",
    "        print(ee)\n",
    "        ee_others = [ee2 for ee2 in deployment if (ee2 != ee) ]\n",
    "        fea_train_files_tot = []\n",
    "        for ee2 in ee_others:\n",
    "            fea_train_files_tot.append('oswald_'+ee2+'_orig.npz')\n",
    "            fea_train_files_tot.append('oswald_'+ee2+'_aug.npz')\n",
    "\n",
    "        # Training data\n",
    "        fea_train_list = []\n",
    "        label_train_list = []\n",
    "        for ii in range(len(fea_train_files_tot)):\n",
    "            ff = fea_train_files_tot[ii]\n",
    "            print(ff)\n",
    "            fea_temp = np.load(os.path.join(feature_path, ff))\n",
    "            print(fea_temp.files)\n",
    "\n",
    "            if ii == 0:\n",
    "                fea_train = fea_temp['feas_orig']\n",
    "                label_train = fea_temp['labels_orig']\n",
    "                print(fea_train.shape)\n",
    "                print(label_train.shape)\n",
    "            elif ii % 2 == 0:  # even\n",
    "                fea_train = np.concatenate([fea_train, fea_temp['feas_orig']])\n",
    "                label_train = np.concatenate([label_train, fea_temp['labels_orig']])\n",
    "                print(fea_train.shape)\n",
    "                print(label_train.shape)\n",
    "            else:\n",
    "                fea_train = np.concatenate([fea_train, fea_temp['feas_aug']])\n",
    "                label_train = np.concatenate([label_train, fea_temp['labels_aug']])\n",
    "                print(fea_train.shape)\n",
    "                print(label_train.shape)\n",
    "        print(fea_train.shape)\n",
    "        print(label_train.shape)\n",
    "        np.savez(os.path.join(feature_path, './train_oswald_no_'+ee+'.npz'), fea_train=fea_train, label_train=label_train)\n",
    "        print('')"
   ]
  },
  {
   "cell_type": "code",
   "execution_count": 8,
   "id": "unnecessary-nicaragua",
   "metadata": {},
   "outputs": [],
   "source": [
    "# data generator\n",
    "class DataGenerator(tf.keras.utils.Sequence):\n",
    "    def __init__(self, feature, label, batch_size=32, num_classes=None, shuffle=True):\n",
    "        self.batch_size = batch_size\n",
    "        self.X = feature\n",
    "        self.X_dim = len(feature.shape)\n",
    "        self.y = to_categorical(label, num_classes)\n",
    "        self.indices = np.arange(self.y.shape[0])\n",
    "        self.num_classes = num_classes\n",
    "        self.shuffle = shuffle\n",
    "        \n",
    "        # self.index = np.arange(len(self.indices))\n",
    "        #self.df = dataframe\n",
    "        #self.indices = self.df.index.tolist()        \n",
    "        # self.x_col = x_col\n",
    "        # self.y_col = y_col\n",
    "        \n",
    "        self.on_epoch_end()\n",
    "\n",
    "    def __len__(self):\n",
    "        return int(floor(len(self.indices)/self.batch_size))\n",
    "        # return label.shape[0]\n",
    "\n",
    "    def __getitem__(self, index):\n",
    "        # index = self.index[index * self.batch_size:(index + 1) * self.batch_size]\n",
    "        # batch = [self.indices[k] for k in index]\n",
    "        batch = list(range(index*self.batch_size, (index+1)*self.batch_size))\n",
    "        \n",
    "        X, y = self.__get_data(batch)\n",
    "        return X, y\n",
    "\n",
    "    def on_epoch_end(self):\n",
    "        if self.shuffle == True:\n",
    "            np.random.shuffle(self.indices)\n",
    "\n",
    "    def __get_data(self, batch):\n",
    "        y = np.zeros((self.batch_size, self.y.shape[1]))\n",
    "        \n",
    "        if self.X_dim == 3:\n",
    "            X = np.zeros((self.batch_size, self.X.shape[1], self.X.shape[2]))\n",
    "            for i, id in enumerate(batch):\n",
    "                X[i,:, :] = self.X[id, :, :]  # logic\n",
    "                y[i, :] = self.y[id, :] # labels\n",
    "                \n",
    "        elif self.X_dim == 4:\n",
    "            X = np.zeros((self.batch_size, self.X.shape[1], self.X.shape[2], self.X.shape[3]))\n",
    "            for i, id in enumerate(batch):\n",
    "                X[i,:, :, :] = self.X[id, :, :, :]  # logic\n",
    "                y[i, :] = self.y[id, :] # labels\n",
    "\n",
    "        return X, y"
   ]
  },
  {
   "cell_type": "markdown",
   "id": "presidential-background",
   "metadata": {},
   "source": [
    "## Models"
   ]
  },
  {
   "cell_type": "code",
   "execution_count": 9,
   "id": "indie-accessory",
   "metadata": {},
   "outputs": [],
   "source": [
    "# Kong's attention\n",
    "# def max_pooling(inputs, **kwargs):\n",
    "#     input = inputs[0]   # (batch_size, time_steps, freq_bins)\n",
    "#     return K.max(input, axis=1)\n",
    "def max_pooling(inputs, **kwargs):\n",
    "    # input = inputs[0]   # (batch_size, time_steps, freq_bins)\n",
    "    return K.max(inputs, axis=1)\n",
    "\n",
    "\n",
    "def average_pooling(inputs, **kwargs):\n",
    "    input = inputs[0]   # (batch_size, time_steps, freq_bins)\n",
    "    return K.mean(input, axis=1)\n",
    "\n",
    "\n",
    "def attention_pooling(inputs, **kwargs):\n",
    "    [out, att] = inputs\n",
    "\n",
    "    epsilon = 1e-7\n",
    "    att = K.clip(att, epsilon, 1. - epsilon)\n",
    "    normalized_att = att / K.sum(att, axis=1)[:, None, :]\n",
    "\n",
    "    return K.sum(out * normalized_att, axis=1)\n",
    "\n",
    "\n",
    "def pooling_shape(input_shape):\n",
    "\n",
    "    if isinstance(input_shape, list):\n",
    "        (sample_num, time_steps, freq_bins) = input_shape[0]\n",
    "\n",
    "    else:\n",
    "        (sample_num, time_steps, freq_bins) = input_shape\n",
    "\n",
    "    return (sample_num, freq_bins)"
   ]
  },
  {
   "cell_type": "code",
   "execution_count": 10,
   "id": "official-bargain",
   "metadata": {},
   "outputs": [
    {
     "name": "stdout",
     "output_type": "stream",
     "text": [
      "Best model:0.1938\n",
      "/home/ys587/__Data/__whistle/__whislte_30_species/__fit_result_species/20210310_095616/STAR2000/epoch_48_valloss_0.1938_valacc_0.7403.hdf5\n"
     ]
    }
   ],
   "source": [
    "from lib_validation import find_best_model\n",
    "\n",
    "fit_result_path2 = '/home/ys587/__Data/__whistle/__whislte_30_species/__fit_result_species/20210310_095616/STAR2000'\n",
    "the_best_model, _ = find_best_model(fit_result_path2, purge=False)"
   ]
  },
  {
   "cell_type": "code",
   "execution_count": 11,
   "id": "miniature-vinyl",
   "metadata": {
    "scrolled": true
   },
   "outputs": [
    {
     "name": "stdout",
     "output_type": "stream",
     "text": [
      "Model: \"model\"\n",
      "_________________________________________________________________\n",
      "Layer (type)                 Output Shape              Param #   \n",
      "=================================================================\n",
      "input (InputLayer)           [(None, 100, 128, 1)]     0         \n",
      "_________________________________________________________________\n",
      "conv2d (Conv2D)              (None, 100, 128, 16)      160       \n",
      "_________________________________________________________________\n",
      "batch_normalization (BatchNo (None, 100, 128, 16)      64        \n",
      "_________________________________________________________________\n",
      "activation (Activation)      (None, 100, 128, 16)      0         \n",
      "_________________________________________________________________\n",
      "conv2d_1 (Conv2D)            (None, 100, 128, 16)      2320      \n",
      "_________________________________________________________________\n",
      "batch_normalization_1 (Batch (None, 100, 128, 16)      64        \n",
      "_________________________________________________________________\n",
      "activation_1 (Activation)    (None, 100, 128, 16)      0         \n",
      "_________________________________________________________________\n",
      "max_pooling2d (MaxPooling2D) (None, 50, 64, 16)        0         \n",
      "_________________________________________________________________\n",
      "dropout (Dropout)            (None, 50, 64, 16)        0         \n",
      "_________________________________________________________________\n",
      "conv2d_2 (Conv2D)            (None, 50, 64, 32)        4640      \n",
      "_________________________________________________________________\n",
      "batch_normalization_2 (Batch (None, 50, 64, 32)        128       \n",
      "_________________________________________________________________\n",
      "activation_2 (Activation)    (None, 50, 64, 32)        0         \n",
      "_________________________________________________________________\n",
      "conv2d_3 (Conv2D)            (None, 50, 64, 32)        9248      \n",
      "_________________________________________________________________\n",
      "batch_normalization_3 (Batch (None, 50, 64, 32)        128       \n",
      "_________________________________________________________________\n",
      "activation_3 (Activation)    (None, 50, 64, 32)        0         \n",
      "_________________________________________________________________\n",
      "max_pooling2d_1 (MaxPooling2 (None, 25, 32, 32)        0         \n",
      "_________________________________________________________________\n",
      "dropout_1 (Dropout)          (None, 25, 32, 32)        0         \n",
      "_________________________________________________________________\n",
      "conv2d_4 (Conv2D)            (None, 25, 32, 64)        18496     \n",
      "_________________________________________________________________\n",
      "batch_normalization_4 (Batch (None, 25, 32, 64)        256       \n",
      "_________________________________________________________________\n",
      "activation_4 (Activation)    (None, 25, 32, 64)        0         \n",
      "_________________________________________________________________\n",
      "conv2d_5 (Conv2D)            (None, 25, 32, 64)        36928     \n",
      "_________________________________________________________________\n",
      "batch_normalization_5 (Batch (None, 25, 32, 64)        256       \n",
      "_________________________________________________________________\n",
      "activation_5 (Activation)    (None, 25, 32, 64)        0         \n",
      "_________________________________________________________________\n",
      "max_pooling2d_2 (MaxPooling2 (None, 13, 16, 64)        0         \n",
      "_________________________________________________________________\n",
      "dropout_2 (Dropout)          (None, 13, 16, 64)        0         \n",
      "_________________________________________________________________\n",
      "conv2d_6 (Conv2D)            (None, 13, 16, 128)       73856     \n",
      "_________________________________________________________________\n",
      "batch_normalization_6 (Batch (None, 13, 16, 128)       512       \n",
      "_________________________________________________________________\n",
      "activation_6 (Activation)    (None, 13, 16, 128)       0         \n",
      "_________________________________________________________________\n",
      "conv2d_7 (Conv2D)            (None, 13, 16, 128)       147584    \n",
      "_________________________________________________________________\n",
      "batch_normalization_7 (Batch (None, 13, 16, 128)       512       \n",
      "_________________________________________________________________\n",
      "activation_7 (Activation)    (None, 13, 16, 128)       0         \n",
      "_________________________________________________________________\n",
      "max_pooling2d_3 (MaxPooling2 (None, 7, 8, 128)         0         \n",
      "_________________________________________________________________\n",
      "dropout_3 (Dropout)          (None, 7, 8, 128)         0         \n",
      "_________________________________________________________________\n",
      "conv2d_8 (Conv2D)            (None, 7, 8, 256)         295168    \n",
      "_________________________________________________________________\n",
      "batch_normalization_8 (Batch (None, 7, 8, 256)         1024      \n",
      "_________________________________________________________________\n",
      "activation_8 (Activation)    (None, 7, 8, 256)         0         \n",
      "_________________________________________________________________\n",
      "conv2d_9 (Conv2D)            (None, 7, 8, 256)         590080    \n",
      "_________________________________________________________________\n",
      "batch_normalization_9 (Batch (None, 7, 8, 256)         1024      \n",
      "_________________________________________________________________\n",
      "activation_9 (Activation)    (None, 7, 8, 256)         0         \n",
      "_________________________________________________________________\n",
      "spatial_pyramid_pooling2d (S (None, 21, 256)           0         \n",
      "_________________________________________________________________\n",
      "reshape (Reshape)            (None, 5376)              0         \n",
      "_________________________________________________________________\n",
      "dense (Dense)                (None, 256)               1376512   \n",
      "_________________________________________________________________\n",
      "batch_normalization_10 (Batc (None, 256)               1024      \n",
      "_________________________________________________________________\n",
      "activation_10 (Activation)   (None, 256)               0         \n",
      "_________________________________________________________________\n",
      "dropout_4 (Dropout)          (None, 256)               0         \n",
      "_________________________________________________________________\n",
      "dense_1 (Dense)              (None, 256)               65792     \n",
      "_________________________________________________________________\n",
      "batch_normalization_11 (Batc (None, 256)               1024      \n",
      "_________________________________________________________________\n",
      "activation_11 (Activation)   (None, 256)               0         \n",
      "_________________________________________________________________\n",
      "dropout_5 (Dropout)          (None, 256)               0         \n",
      "_________________________________________________________________\n",
      "dense_2 (Dense)              (None, 256)               65792     \n",
      "_________________________________________________________________\n",
      "batch_normalization_12 (Batc (None, 256)               1024      \n",
      "_________________________________________________________________\n",
      "activation_12 (Activation)   (None, 256)               0         \n",
      "_________________________________________________________________\n",
      "dropout_6 (Dropout)          (None, 256)               0         \n",
      "_________________________________________________________________\n",
      "dense_3 (Dense)              (None, 8)                 2056      \n",
      "=================================================================\n",
      "Total params: 2,695,672\n",
      "Trainable params: 2,692,152\n",
      "Non-trainable params: 3,520\n",
      "_________________________________________________________________\n"
     ]
    }
   ],
   "source": [
    "model = load_model(the_best_model)\n",
    "model.summary()"
   ]
  },
  {
   "cell_type": "markdown",
   "id": "everyday-return",
   "metadata": {},
   "source": [
    "## STAR2000"
   ]
  },
  {
   "cell_type": "code",
   "execution_count": 12,
   "id": "muslim-catalog",
   "metadata": {},
   "outputs": [],
   "source": [
    "# Training data\n",
    "fea_temp = np.load(os.path.join(feature_path, 'oswald_STAR2000_orig.npz'))\n",
    "# fea_temp = np.load(os.path.join(feature_path, 'oswald_STAR2003_orig.npz'))\n",
    "# fea_temp = np.load(os.path.join(feature_path, 'oswald_STAR2006_orig.npz'))\n",
    "# fea_temp = np.load(os.path.join(feature_path, 'oswald_HICEAS2002_orig.npz'))\n",
    "# fea_temp = np.load(os.path.join(feature_path, 'oswald_PICEAS2005_orig.npz'))\n",
    "    \n",
    "fea_train = fea_temp['feas_orig']\n",
    "label_train_list = fea_temp['labels_orig']\n",
    "del fea_temp\n",
    "\n",
    "fea_train = fea_train[:,:100,:]\n",
    "label_train = np.zeros(len(label_train_list))\n",
    "for ii in range(len(label_train_list)):\n",
    "    label_train[ii] = species_dict[label_train_list[ii]]"
   ]
  },
  {
   "cell_type": "code",
   "execution_count": 13,
   "id": "respiratory-oriental",
   "metadata": {},
   "outputs": [],
   "source": [
    "# testing the training data\n",
    "label_train_pred = model.predict(fea_train)"
   ]
  },
  {
   "cell_type": "code",
   "execution_count": 14,
   "id": "burning-wisconsin",
   "metadata": {},
   "outputs": [],
   "source": [
    "np.set_printoptions(linewidth=200, precision=2, suppress=True)"
   ]
  },
  {
   "cell_type": "code",
   "execution_count": 15,
   "id": "green-participant",
   "metadata": {},
   "outputs": [
    {
     "name": "stdout",
     "output_type": "stream",
     "text": [
      "Confusion matrix:\n",
      "['BD', 'CD', 'STR', 'SPT', 'SPIN', 'PLT', 'RT', 'FKW']\n",
      "\n",
      "[[  29   11   10   35    3    5   21    7]\n",
      " [ 435 1638  620  675   41  312  219   24]\n",
      " [ 179  132  297  373   15   80   48   16]\n",
      " [  32  176   28  542    3   38   23    3]\n",
      " [ 143   39   38  217   40    7    6    1]\n",
      " [   0    0    0    0    1   24    0    6]\n",
      " [  13    3   10    6    4    6   23   11]\n",
      " [   0    0    0    0    0    0    0    0]]\n",
      "\n",
      "[[0.24 0.09 0.08 0.29 0.02 0.04 0.17 0.06]\n",
      " [0.11 0.41 0.16 0.17 0.01 0.08 0.06 0.01]\n",
      " [0.16 0.12 0.26 0.33 0.01 0.07 0.04 0.01]\n",
      " [0.04 0.21 0.03 0.64 0.   0.04 0.03 0.  ]\n",
      " [0.29 0.08 0.08 0.44 0.08 0.01 0.01 0.  ]\n",
      " [0.   0.   0.   0.   0.03 0.77 0.   0.19]\n",
      " [0.17 0.04 0.13 0.08 0.05 0.08 0.3  0.14]\n",
      " [0.   0.   0.   0.   0.   0.   0.   0.  ]]\n"
     ]
    }
   ],
   "source": [
    "print(\"Confusion matrix:\")\n",
    "cm = confusion_matrix(label_train[:label_train_pred.shape[0]], np.argmax(label_train_pred, axis=1), labels=species_id)\n",
    "\n",
    "print(species_list)\n",
    "print('')\n",
    "print(cm)\n",
    "print('')\n",
    "\n",
    "cm2 = cm*1.0\n",
    "for ii in range(cm.shape[0]):\n",
    "    cm_row = cm[ii, :]*1.0\n",
    "\n",
    "    cm_row_sum = cm_row.sum()\n",
    "    if cm_row_sum != 0:\n",
    "        cm2[ii, :] = cm_row / cm_row_sum\n",
    "    else:\n",
    "        cm2[ii, :] = np.zeros(cm.shape[1])\n",
    "\n",
    "print(cm2)"
   ]
  },
  {
   "cell_type": "code",
   "execution_count": 16,
   "id": "geographic-pepper",
   "metadata": {},
   "outputs": [],
   "source": [
    "from sklearn.metrics import plot_confusion_matrix\n",
    "from sklearn.metrics._plot.confusion_matrix import ConfusionMatrixDisplay\n",
    "disp = ConfusionMatrixDisplay(confusion_matrix=cm, display_labels=species_list)\n",
    "disp2 = ConfusionMatrixDisplay(confusion_matrix=cm2, display_labels=species_list)"
   ]
  },
  {
   "cell_type": "code",
   "execution_count": 17,
   "id": "announced-omaha",
   "metadata": {},
   "outputs": [
    {
     "data": {
      "text/plain": [
       "<sklearn.metrics._plot.confusion_matrix.ConfusionMatrixDisplay at 0x7f61100651f0>"
      ]
     },
     "execution_count": 17,
     "metadata": {},
     "output_type": "execute_result"
    },
    {
     "data": {
      "image/png": "[encoded data removed]",
      "text/plain": [
       "<Figure size 1080x1080 with 2 Axes>"
      ]
     },
     "metadata": {
      "needs_background": "light"
     },
     "output_type": "display_data"
    }
   ],
   "source": [
    "fig, ax = plt.subplots(figsize=[15, 15])\n",
    "disp.plot(include_values=True,\n",
    "                     cmap='viridis', ax=ax, xticks_rotation='horizontal',\n",
    "                     values_format=None, colorbar=True)\n"
   ]
  },
  {
   "cell_type": "code",
   "execution_count": 18,
   "id": "stylish-optics",
   "metadata": {},
   "outputs": [
    {
     "data": {
      "text/plain": [
       "<sklearn.metrics._plot.confusion_matrix.ConfusionMatrixDisplay at 0x7f6110065070>"
      ]
     },
     "execution_count": 18,
     "metadata": {},
     "output_type": "execute_result"
    },
    {
     "data": {
      "image/png": "[encoded data removed]",
      "text/plain": [
       "<Figure size 1080x1080 with 2 Axes>"
      ]
     },
     "metadata": {
      "needs_background": "light"
     },
     "output_type": "display_data"
    }
   ],
   "source": [
    "fig, ax = plt.subplots(figsize=[15, 15])\n",
    "disp2.plot(include_values=True,\n",
    "                     cmap='viridis', ax=ax, xticks_rotation='horizontal',\n",
    "                     values_format='.2f', colorbar=True)"
   ]
  },
  {
   "cell_type": "code",
   "execution_count": null,
   "id": "smart-balance",
   "metadata": {},
   "outputs": [],
   "source": []
  },
  {
   "cell_type": "markdown",
   "id": "available-sally",
   "metadata": {},
   "source": [
    "## sound clips from an acoustic encounter"
   ]
  },
  {
   "cell_type": "code",
   "execution_count": 19,
   "id": "impressive-tours",
   "metadata": {},
   "outputs": [],
   "source": [
    "import pandas as pd"
   ]
  },
  {
   "cell_type": "code",
   "execution_count": 20,
   "id": "sufficient-village",
   "metadata": {},
   "outputs": [],
   "source": [
    "df_path = '/home/ys587/__Data/__whistle/__whislte_30_species/__dataset/20210223_augment_all_three_noise_mixed/oswald_STAR2003.csv'"
   ]
  },
  {
   "cell_type": "code",
   "execution_count": 21,
   "id": "rapid-oasis",
   "metadata": {},
   "outputs": [],
   "source": [
    "df_oswald = pd.read_csv(df_path)"
   ]
  },
  {
   "cell_type": "code",
   "execution_count": 22,
   "id": "entitled-decline",
   "metadata": {},
   "outputs": [
    {
     "data": {
      "text/plain": [
       "0        BD_STAR2003_48kHz_s494_14891.wav\n",
       "1        BD_STAR2003_48kHz_s494_14892.wav\n",
       "2        BD_STAR2003_48kHz_s494_14893.wav\n",
       "3        BD_STAR2003_48kHz_s494_14894.wav\n",
       "4        BD_STAR2003_48kHz_s494_14895.wav\n",
       "                      ...                \n",
       "1765    STR_STAR2003_48kHz_s784_15957.wav\n",
       "1766    STR_STAR2003_48kHz_s784_15958.wav\n",
       "1767    STR_STAR2003_48kHz_s788_15796.wav\n",
       "1768    STR_STAR2003_48kHz_s788_15797.wav\n",
       "1769    STR_STAR2003_48kHz_s788_15798.wav\n",
       "Name: filename, Length: 1770, dtype: object"
      ]
     },
     "execution_count": 22,
     "metadata": {},
     "output_type": "execute_result"
    }
   ],
   "source": [
    "df_oswald['filename']"
   ]
  },
  {
   "cell_type": "code",
   "execution_count": 23,
   "id": "surface-voice",
   "metadata": {},
   "outputs": [
    {
     "data": {
      "text/plain": [
       "Index(['dataset', 'filename', 'species', 'id', 'deployment'], dtype='object')"
      ]
     },
     "execution_count": 23,
     "metadata": {},
     "output_type": "execute_result"
    }
   ],
   "source": [
    "df_oswald.columns"
   ]
  },
  {
   "cell_type": "code",
   "execution_count": 24,
   "id": "successful-anger",
   "metadata": {},
   "outputs": [],
   "source": [
    "deploy_path_test = '/home/ys587/__Data/__whistle/__whislte_30_species/__sound_48k/__whistle_oswald/STAR2003_48kHz'\n",
    "# deploy_path_train1 = '/home/ys587/__Data/__whistle/__whislte_30_species/__sound_48k/__whistle_oswald/STAR2006_48kHz'\n",
    "# deploy_path_train1 = '/home/ys587/__Data/__whistle/__whislte_30_species/__sound_48k/__whistle_oswald/HICEAS2002_48kHz'\n",
    "# deploy_path_train1 = '/home/ys587/__Data/__whistle/__whislte_30_species/__sound_48k/__whistle_oswald/PICEAS2005_48kHz'\n",
    "\n",
    "# deploy_path_test = '/home/ys587/__Data/__whistle/__whislte_30_species/__sound_48k/__whistle_oswald/STAR2000_48kHz'\n",
    "species_dict = {'BD': 0, 'CD': 1, 'STR': 2, 'SPT': 3, 'SPIN': 4, 'PLT': 5, 'RT': 6,  'FKW': 7}\n",
    "fs = 48000\n",
    "time_reso = 0.02\n",
    "hop_length = int(time_reso*fs)  #\n",
    "\n",
    "step_sec = 0.5\n",
    "# step_size = int(1.0*fs)\n",
    "step_size = int(step_sec*fs)\n",
    "win_size = int(2.0*fs)"
   ]
  },
  {
   "cell_type": "code",
   "execution_count": 25,
   "id": "geological-familiar",
   "metadata": {},
   "outputs": [],
   "source": [
    "encounter_test =  os.listdir(deploy_path_test)\n",
    "encounter_test.sort()"
   ]
  },
  {
   "cell_type": "code",
   "execution_count": 26,
   "id": "embedded-houston",
   "metadata": {
    "scrolled": true
   },
   "outputs": [
    {
     "data": {
      "text/plain": [
       "['bottlenose s494',\n",
       " 'bottlenose s516',\n",
       " 'bottlenose s586',\n",
       " 'false_killer s776',\n",
       " 'longbeaked_common s482',\n",
       " 'shortbeaked_common s489',\n",
       " 'shortbeaked_common s627',\n",
       " 'shortbeaked_common s628',\n",
       " 'shortbeaked_common s631',\n",
       " 'shortbeaked_common s640',\n",
       " 'shortbeaked_common s792',\n",
       " 'spinner s757',\n",
       " 'spotted s508',\n",
       " 'spotted s511',\n",
       " 'striped s652',\n",
       " 'striped s784',\n",
       " 'striped s788']"
      ]
     },
     "execution_count": 26,
     "metadata": {},
     "output_type": "execute_result"
    }
   ],
   "source": [
    "encounter_test"
   ]
  },
  {
   "cell_type": "code",
   "execution_count": 27,
   "id": "cooked-photographer",
   "metadata": {},
   "outputs": [],
   "source": [
    "df_curr = df_oswald[df_oswald['filename'].apply(lambda x: 's628'  in x)]"
   ]
  },
  {
   "cell_type": "code",
   "execution_count": 28,
   "id": "scientific-aircraft",
   "metadata": {},
   "outputs": [
    {
     "data": {
      "text/html": [
       "<div>\n",
       "<style scoped>\n",
       "    .dataframe tbody tr th:only-of-type {\n",
       "        vertical-align: middle;\n",
       "    }\n",
       "\n",
       "    .dataframe tbody tr th {\n",
       "        vertical-align: top;\n",
       "    }\n",
       "\n",
       "    .dataframe thead th {\n",
       "        text-align: right;\n",
       "    }\n",
       "</style>\n",
       "<table border=\"1\" class=\"dataframe\">\n",
       "  <thead>\n",
       "    <tr style=\"text-align: right;\">\n",
       "      <th></th>\n",
       "      <th>dataset</th>\n",
       "      <th>filename</th>\n",
       "      <th>species</th>\n",
       "      <th>id</th>\n",
       "      <th>deployment</th>\n",
       "    </tr>\n",
       "  </thead>\n",
       "  <tbody>\n",
       "    <tr>\n",
       "      <th>650</th>\n",
       "      <td>oswald</td>\n",
       "      <td>CD_STAR2003_48kHz_s628_15367.wav</td>\n",
       "      <td>CD</td>\n",
       "      <td>15367</td>\n",
       "      <td>STAR2003</td>\n",
       "    </tr>\n",
       "    <tr>\n",
       "      <th>651</th>\n",
       "      <td>oswald</td>\n",
       "      <td>CD_STAR2003_48kHz_s628_15368.wav</td>\n",
       "      <td>CD</td>\n",
       "      <td>15368</td>\n",
       "      <td>STAR2003</td>\n",
       "    </tr>\n",
       "    <tr>\n",
       "      <th>652</th>\n",
       "      <td>oswald</td>\n",
       "      <td>CD_STAR2003_48kHz_s628_15369.wav</td>\n",
       "      <td>CD</td>\n",
       "      <td>15369</td>\n",
       "      <td>STAR2003</td>\n",
       "    </tr>\n",
       "    <tr>\n",
       "      <th>653</th>\n",
       "      <td>oswald</td>\n",
       "      <td>CD_STAR2003_48kHz_s628_15370.wav</td>\n",
       "      <td>CD</td>\n",
       "      <td>15370</td>\n",
       "      <td>STAR2003</td>\n",
       "    </tr>\n",
       "    <tr>\n",
       "      <th>654</th>\n",
       "      <td>oswald</td>\n",
       "      <td>CD_STAR2003_48kHz_s628_15371.wav</td>\n",
       "      <td>CD</td>\n",
       "      <td>15371</td>\n",
       "      <td>STAR2003</td>\n",
       "    </tr>\n",
       "    <tr>\n",
       "      <th>655</th>\n",
       "      <td>oswald</td>\n",
       "      <td>CD_STAR2003_48kHz_s628_15372.wav</td>\n",
       "      <td>CD</td>\n",
       "      <td>15372</td>\n",
       "      <td>STAR2003</td>\n",
       "    </tr>\n",
       "    <tr>\n",
       "      <th>656</th>\n",
       "      <td>oswald</td>\n",
       "      <td>CD_STAR2003_48kHz_s628_15373.wav</td>\n",
       "      <td>CD</td>\n",
       "      <td>15373</td>\n",
       "      <td>STAR2003</td>\n",
       "    </tr>\n",
       "    <tr>\n",
       "      <th>657</th>\n",
       "      <td>oswald</td>\n",
       "      <td>CD_STAR2003_48kHz_s628_15374.wav</td>\n",
       "      <td>CD</td>\n",
       "      <td>15374</td>\n",
       "      <td>STAR2003</td>\n",
       "    </tr>\n",
       "    <tr>\n",
       "      <th>658</th>\n",
       "      <td>oswald</td>\n",
       "      <td>CD_STAR2003_48kHz_s628_15375.wav</td>\n",
       "      <td>CD</td>\n",
       "      <td>15375</td>\n",
       "      <td>STAR2003</td>\n",
       "    </tr>\n",
       "    <tr>\n",
       "      <th>659</th>\n",
       "      <td>oswald</td>\n",
       "      <td>CD_STAR2003_48kHz_s628_15376.wav</td>\n",
       "      <td>CD</td>\n",
       "      <td>15376</td>\n",
       "      <td>STAR2003</td>\n",
       "    </tr>\n",
       "    <tr>\n",
       "      <th>660</th>\n",
       "      <td>oswald</td>\n",
       "      <td>CD_STAR2003_48kHz_s628_15377.wav</td>\n",
       "      <td>CD</td>\n",
       "      <td>15377</td>\n",
       "      <td>STAR2003</td>\n",
       "    </tr>\n",
       "    <tr>\n",
       "      <th>661</th>\n",
       "      <td>oswald</td>\n",
       "      <td>CD_STAR2003_48kHz_s628_15378.wav</td>\n",
       "      <td>CD</td>\n",
       "      <td>15378</td>\n",
       "      <td>STAR2003</td>\n",
       "    </tr>\n",
       "    <tr>\n",
       "      <th>662</th>\n",
       "      <td>oswald</td>\n",
       "      <td>CD_STAR2003_48kHz_s628_15379.wav</td>\n",
       "      <td>CD</td>\n",
       "      <td>15379</td>\n",
       "      <td>STAR2003</td>\n",
       "    </tr>\n",
       "    <tr>\n",
       "      <th>663</th>\n",
       "      <td>oswald</td>\n",
       "      <td>CD_STAR2003_48kHz_s628_15380.wav</td>\n",
       "      <td>CD</td>\n",
       "      <td>15380</td>\n",
       "      <td>STAR2003</td>\n",
       "    </tr>\n",
       "    <tr>\n",
       "      <th>664</th>\n",
       "      <td>oswald</td>\n",
       "      <td>CD_STAR2003_48kHz_s628_15381.wav</td>\n",
       "      <td>CD</td>\n",
       "      <td>15381</td>\n",
       "      <td>STAR2003</td>\n",
       "    </tr>\n",
       "    <tr>\n",
       "      <th>665</th>\n",
       "      <td>oswald</td>\n",
       "      <td>CD_STAR2003_48kHz_s628_15382.wav</td>\n",
       "      <td>CD</td>\n",
       "      <td>15382</td>\n",
       "      <td>STAR2003</td>\n",
       "    </tr>\n",
       "    <tr>\n",
       "      <th>666</th>\n",
       "      <td>oswald</td>\n",
       "      <td>CD_STAR2003_48kHz_s628_15383.wav</td>\n",
       "      <td>CD</td>\n",
       "      <td>15383</td>\n",
       "      <td>STAR2003</td>\n",
       "    </tr>\n",
       "    <tr>\n",
       "      <th>667</th>\n",
       "      <td>oswald</td>\n",
       "      <td>CD_STAR2003_48kHz_s628_15384.wav</td>\n",
       "      <td>CD</td>\n",
       "      <td>15384</td>\n",
       "      <td>STAR2003</td>\n",
       "    </tr>\n",
       "    <tr>\n",
       "      <th>668</th>\n",
       "      <td>oswald</td>\n",
       "      <td>CD_STAR2003_48kHz_s628_15385.wav</td>\n",
       "      <td>CD</td>\n",
       "      <td>15385</td>\n",
       "      <td>STAR2003</td>\n",
       "    </tr>\n",
       "    <tr>\n",
       "      <th>669</th>\n",
       "      <td>oswald</td>\n",
       "      <td>CD_STAR2003_48kHz_s628_15386.wav</td>\n",
       "      <td>CD</td>\n",
       "      <td>15386</td>\n",
       "      <td>STAR2003</td>\n",
       "    </tr>\n",
       "    <tr>\n",
       "      <th>670</th>\n",
       "      <td>oswald</td>\n",
       "      <td>CD_STAR2003_48kHz_s628_15387.wav</td>\n",
       "      <td>CD</td>\n",
       "      <td>15387</td>\n",
       "      <td>STAR2003</td>\n",
       "    </tr>\n",
       "    <tr>\n",
       "      <th>671</th>\n",
       "      <td>oswald</td>\n",
       "      <td>CD_STAR2003_48kHz_s628_15388.wav</td>\n",
       "      <td>CD</td>\n",
       "      <td>15388</td>\n",
       "      <td>STAR2003</td>\n",
       "    </tr>\n",
       "  </tbody>\n",
       "</table>\n",
       "</div>"
      ],
      "text/plain": [
       "    dataset                          filename species     id deployment\n",
       "650  oswald  CD_STAR2003_48kHz_s628_15367.wav      CD  15367   STAR2003\n",
       "651  oswald  CD_STAR2003_48kHz_s628_15368.wav      CD  15368   STAR2003\n",
       "652  oswald  CD_STAR2003_48kHz_s628_15369.wav      CD  15369   STAR2003\n",
       "653  oswald  CD_STAR2003_48kHz_s628_15370.wav      CD  15370   STAR2003\n",
       "654  oswald  CD_STAR2003_48kHz_s628_15371.wav      CD  15371   STAR2003\n",
       "655  oswald  CD_STAR2003_48kHz_s628_15372.wav      CD  15372   STAR2003\n",
       "656  oswald  CD_STAR2003_48kHz_s628_15373.wav      CD  15373   STAR2003\n",
       "657  oswald  CD_STAR2003_48kHz_s628_15374.wav      CD  15374   STAR2003\n",
       "658  oswald  CD_STAR2003_48kHz_s628_15375.wav      CD  15375   STAR2003\n",
       "659  oswald  CD_STAR2003_48kHz_s628_15376.wav      CD  15376   STAR2003\n",
       "660  oswald  CD_STAR2003_48kHz_s628_15377.wav      CD  15377   STAR2003\n",
       "661  oswald  CD_STAR2003_48kHz_s628_15378.wav      CD  15378   STAR2003\n",
       "662  oswald  CD_STAR2003_48kHz_s628_15379.wav      CD  15379   STAR2003\n",
       "663  oswald  CD_STAR2003_48kHz_s628_15380.wav      CD  15380   STAR2003\n",
       "664  oswald  CD_STAR2003_48kHz_s628_15381.wav      CD  15381   STAR2003\n",
       "665  oswald  CD_STAR2003_48kHz_s628_15382.wav      CD  15382   STAR2003\n",
       "666  oswald  CD_STAR2003_48kHz_s628_15383.wav      CD  15383   STAR2003\n",
       "667  oswald  CD_STAR2003_48kHz_s628_15384.wav      CD  15384   STAR2003\n",
       "668  oswald  CD_STAR2003_48kHz_s628_15385.wav      CD  15385   STAR2003\n",
       "669  oswald  CD_STAR2003_48kHz_s628_15386.wav      CD  15386   STAR2003\n",
       "670  oswald  CD_STAR2003_48kHz_s628_15387.wav      CD  15387   STAR2003\n",
       "671  oswald  CD_STAR2003_48kHz_s628_15388.wav      CD  15388   STAR2003"
      ]
     },
     "execution_count": 28,
     "metadata": {},
     "output_type": "execute_result"
    }
   ],
   "source": [
    "df_curr"
   ]
  },
  {
   "cell_type": "code",
   "execution_count": 29,
   "id": "large-capture",
   "metadata": {},
   "outputs": [],
   "source": [
    "# test the training clips"
   ]
  },
  {
   "cell_type": "code",
   "execution_count": 30,
   "id": "incident-democrat",
   "metadata": {},
   "outputs": [],
   "source": [
    "sound_path='/home/ys587/__Data/__whistle/__whislte_30_species/__dataset/__oswald/__sound_clips'"
   ]
  },
  {
   "cell_type": "code",
   "execution_count": 31,
   "id": "funny-charity",
   "metadata": {},
   "outputs": [],
   "source": [
    "import os\n",
    "import librosa\n",
    "from lib_augment import load_and_normalize\n",
    "from lib_feature import feature_whistleness\n",
    "\n",
    "fs=48000\n",
    "hop_length=960\n",
    "spec_feas = []\n",
    "for index, row in df_curr.iterrows():\n",
    "    samples = load_and_normalize(os.path.join(sound_path, row['filename']), sr=fs)\n",
    "    spectro = librosa.feature.melspectrogram(samples, sr=fs, hop_length=hop_length, power=1.0)\n",
    "    spec_feas.append(feature_whistleness(spectro))\n"
   ]
  },
  {
   "cell_type": "code",
   "execution_count": 32,
   "id": "bound-creator",
   "metadata": {},
   "outputs": [],
   "source": [
    "spec_feas0 = np.stack(spec_feas)"
   ]
  },
  {
   "cell_type": "code",
   "execution_count": 33,
   "id": "narrow-rally",
   "metadata": {},
   "outputs": [],
   "source": [
    "spec_feas0 = np.expand_dims(spec_feas0[:, :100, :], axis=3)"
   ]
  },
  {
   "cell_type": "code",
   "execution_count": 34,
   "id": "separated-extension",
   "metadata": {},
   "outputs": [],
   "source": [
    "label_train_clip_pred = model.predict(spec_feas0)"
   ]
  },
  {
   "cell_type": "code",
   "execution_count": 35,
   "id": "previous-receptor",
   "metadata": {},
   "outputs": [
    {
     "data": {
      "text/plain": [
       "array([[0.  , 0.95, 0.1 , 0.  , 0.  , 0.  , 0.  , 0.  ],\n",
       "       [0.  , 0.67, 0.06, 0.27, 0.  , 0.  , 0.  , 0.  ],\n",
       "       [0.  , 1.  , 0.  , 0.  , 0.  , 0.  , 0.  , 0.  ],\n",
       "       [0.  , 1.  , 0.  , 0.  , 0.  , 0.  , 0.  , 0.  ],\n",
       "       [0.  , 1.  , 0.  , 0.  , 0.  , 0.  , 0.  , 0.  ],\n",
       "       [0.  , 0.98, 0.02, 0.  , 0.  , 0.  , 0.  , 0.  ],\n",
       "       [0.  , 0.99, 0.01, 0.  , 0.  , 0.  , 0.  , 0.  ],\n",
       "       [0.  , 0.88, 0.  , 0.  , 0.  , 0.  , 0.01, 0.07],\n",
       "       [0.  , 1.  , 0.  , 0.  , 0.  , 0.  , 0.  , 0.  ],\n",
       "       [0.  , 1.  , 0.  , 0.  , 0.  , 0.  , 0.  , 0.  ],\n",
       "       [0.  , 1.  , 0.  , 0.  , 0.  , 0.  , 0.  , 0.  ],\n",
       "       [0.  , 0.31, 0.09, 0.56, 0.  , 0.  , 0.  , 0.  ],\n",
       "       [0.03, 0.69, 0.24, 0.05, 0.  , 0.02, 0.  , 0.  ],\n",
       "       [0.  , 1.  , 0.  , 0.  , 0.  , 0.  , 0.  , 0.  ],\n",
       "       [0.  , 0.89, 0.08, 0.  , 0.  , 0.01, 0.08, 0.  ],\n",
       "       [0.05, 0.78, 0.1 , 0.02, 0.  , 0.  , 0.01, 0.  ],\n",
       "       [0.03, 0.43, 0.33, 0.04, 0.  , 0.05, 0.  , 0.09],\n",
       "       [0.  , 0.04, 0.26, 0.02, 0.  , 0.12, 0.08, 0.44],\n",
       "       [0.01, 0.73, 0.17, 0.12, 0.  , 0.  , 0.  , 0.  ],\n",
       "       [0.  , 1.  , 0.  , 0.  , 0.  , 0.  , 0.  , 0.  ],\n",
       "       [0.  , 1.  , 0.  , 0.  , 0.  , 0.  , 0.  , 0.  ],\n",
       "       [0.01, 0.85, 0.16, 0.01, 0.  , 0.03, 0.  , 0.  ]], dtype=float32)"
      ]
     },
     "execution_count": 35,
     "metadata": {},
     "output_type": "execute_result"
    }
   ],
   "source": [
    "label_train_clip_pred"
   ]
  },
  {
   "cell_type": "markdown",
   "id": "enabling-watts",
   "metadata": {},
   "source": [
    "### "
   ]
  }
 ],
 "metadata": {
  "kernelspec": {
   "display_name": "Python 3",
   "language": "python",
   "name": "python3"
  },
  "language_info": {
   "codemirror_mode": {
    "name": "ipython",
    "version": 3
   },
   "file_extension": ".py",
   "mimetype": "text/x-python",
   "name": "python",
   "nbconvert_exporter": "python",
   "pygments_lexer": "ipython3",
   "version": "3.8.6"
  }
 },
 "nbformat": 4,
 "nbformat_minor": 5
}
