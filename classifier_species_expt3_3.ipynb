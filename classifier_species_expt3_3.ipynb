{
 "cells": [
  {
   "cell_type": "markdown",
   "metadata": {},
   "source": [
    "# Training species classifier Expt 3: cross-validation of Oswald data\n",
    "# Feb 23, 2021\n",
    "## Spatial Pyramid Pooling (SPP): [1, 2, 4]\n",
    "## The augemented noise is from the all five deployments.\n",
    "## Trained on PICEAS2005 & STAR2000 whereas tested on HICEAS2002, STAR2003 & STAR2006"
   ]
  },
  {
   "cell_type": "code",
   "execution_count": 1,
   "metadata": {},
   "outputs": [],
   "source": [
    "import numpy as np\n",
    "from itertools import permutations\n",
    "import random\n",
    "import os\n",
    "import glob\n",
    "import pickle\n",
    "import matplotlib.pyplot as plt\n",
    "import matplotlib.patheffects as PathEffects\n",
    "import pandas as pd\n",
    "from os import makedirs\n",
    "from datetime import datetime\n",
    "from collections import Counter\n",
    "\n",
    "from math import floor\n",
    "\n",
    "from sklearn.model_selection import train_test_split\n",
    "from sklearn.utils import shuffle\n",
    "from sklearn.utils.class_weight import compute_class_weight\n",
    "from sklearn.metrics import roc_curve\n",
    "from sklearn.neighbors import KNeighborsClassifier\n",
    "from sklearn.metrics import confusion_matrix, classification_report\n",
    "\n",
    "# from MulticoreTSNE import MulticoreTSNE as TSNE\n",
    "# from sklearn.manifold import TSNE\n",
    "import seaborn as sns\n",
    "\n",
    "from tensorflow.keras.utils import Sequence\n",
    "from tensorflow.keras.layers import Input, Dense, BatchNormalization, Dropout, Activation\n",
    "from tensorflow.keras.layers import Conv2D, Lambda, Flatten, MaxPooling2D, Concatenate, LSTM, Reshape, Lambda, ConvLSTM2D, GlobalAveragePooling2D, GlobalMaxPooling2D\n",
    "from tensorflow.keras.layers import Bidirectional, LSTM, GRU\n",
    "from tensorflow.keras.models import Model, Sequential\n",
    "from tensorflow.keras.regularizers import l2\n",
    "from tensorflow.keras import backend as K\n",
    "\n",
    "from tensorflow.keras.optimizers.schedules import ExponentialDecay, PiecewiseConstantDecay\n",
    "from tensorflow.keras.optimizers import SGD,Adam\n",
    "from tensorflow.keras.losses import binary_crossentropy, CategoricalCrossentropy\n",
    "from tensorflow.keras.callbacks import ModelCheckpoint, TensorBoard, EarlyStopping\n",
    "from tensorflow.keras.utils import to_categorical\n",
    "from tensorflow.keras.models import load_model\n",
    "import tensorflow_addons.layers.spatial_pyramid_pooling as spp\n",
    "# import tensorflow_datasets as tfds\n",
    "from tensorflow.math import l2_normalize\n",
    "\n",
    "import tensorflow as tf"
   ]
  },
  {
   "cell_type": "code",
   "execution_count": 2,
   "metadata": {},
   "outputs": [],
   "source": [
    "%matplotlib inline\n",
    "import warnings\n",
    "warnings.filterwarnings(\"ignore\", category=DeprecationWarning)"
   ]
  },
  {
   "cell_type": "code",
   "execution_count": 3,
   "metadata": {},
   "outputs": [],
   "source": [
    "# Hyper parameters\n",
    "learning_rate = 1.0e-3\n",
    "conv_dim = 16\n",
    "rnn_dim = 16\n",
    "pool_size = 2\n",
    "pool_stride = 2\n",
    "l2_regu = 0.000\n",
    "drop_rate = 0.2\n",
    "hidden_units = 256\n",
    "fcn_dim = 256\n",
    "\n",
    "# learning_rate = 1.e-4\n",
    "# conv_dim = 64\n",
    "# rnn_dim = 16\n",
    "# pool_size = 2\n",
    "# pool_stride = 2\n",
    "# l2_regu = 0.00\n",
    "# drop_rate = 0.2\n",
    "# # drop_rate = 0.5\n",
    "# hidden_units = 512\n",
    "# fcn_dim = 512\n",
    "\n",
    "num_epoch = 200\n",
    "# batch_size = 128\n",
    "# batch_size = 32  # for cnn14+attention\n",
    "batch_size = 16  # for cnn14+spp\n",
    "\n",
    "num_patience = 20"
   ]
  },
  {
   "cell_type": "code",
   "execution_count": 4,
   "metadata": {},
   "outputs": [],
   "source": [
    "# data_type_dict = {1: 'universal', 2: 'file', 3: 'encounter', 4: 'domain'}\n",
    "# data_type = 2\n",
    "\n",
    "work_path = '/home/ys587/__Data/__whistle/__whislte_30_species'\n",
    "fit_result_path =  os.path.join(work_path, '__fit_result_species')\n",
    "# feature_path = os.path.join(work_path, '__feature_species')\n",
    "feature_path = os.path.join(work_path, '__dataset/20210210')"
   ]
  },
  {
   "cell_type": "code",
   "execution_count": 5,
   "metadata": {},
   "outputs": [],
   "source": [
    "species_dict = {'BD': 0, 'CD': 1, 'STR': 2, 'SPT': 3, 'SPIN': 4, 'PLT': 5, 'RT': 6,  'FKW': 7}\n",
    "num_species = len(species_dict)\n",
    "# species_dict = {'BD': 0, 'MH': 1, 'CD': 2, 'STR': 3, 'SPT': 4, 'SPIN': 5, 'PLT': 6, 'RD': 7, 'RT': 8,\n",
    "#                 'WSD': 9, 'FKW': 10, 'BEL': 11, 'KW': 12, 'WBD': 13, 'DUSK': 14, 'FRA': 15, 'PKW': 16, 'LPLT': 17,\n",
    "#                 'CLY': 18, 'SPE': 19, 'ASP': 20}\n",
    "species_list = list(species_dict.keys())\n",
    "species_id = list(species_dict.values())"
   ]
  },
  {
   "cell_type": "markdown",
   "metadata": {},
   "source": [
    "## Combine features"
   ]
  },
  {
   "cell_type": "code",
   "execution_count": 6,
   "metadata": {},
   "outputs": [],
   "source": [
    "deployment = ['STAR2000', 'STAR2003', 'STAR2006', 'HICEAS2002', 'PICEAS2005']  # oswald_STAR2000_orig.npz, oswald_STAR2000_aug.npz\n",
    "# feature_path = '/home/ys587/__Data/__whistle/__whislte_30_species/__dataset/20210223_augment_all_three_noise_mixed'\n",
    "feature_path = '/home/ys587/__Data/__whistle/__whislte_30_species/__dataset/20210223_augment_all_three_noise_mixed_class_balanced_min_5'\n"
   ]
  },
  {
   "cell_type": "code",
   "execution_count": 7,
   "metadata": {
    "scrolled": true
   },
   "outputs": [],
   "source": [
    "if False:\n",
    "    for ee in deployment:\n",
    "        print(ee)\n",
    "        ee_others = [ee2 for ee2 in deployment if (ee2 != ee) ]\n",
    "        fea_train_files_tot = []\n",
    "        for ee2 in ee_others:\n",
    "            fea_train_files_tot.append('oswald_'+ee2+'_orig.npz')\n",
    "            fea_train_files_tot.append('oswald_'+ee2+'_aug.npz')\n",
    "\n",
    "        # Training data\n",
    "        fea_train_list = []\n",
    "        label_train_list = []\n",
    "        for ii in range(len(fea_train_files_tot)):\n",
    "            ff = fea_train_files_tot[ii]\n",
    "            print(ff)\n",
    "            fea_temp = np.load(os.path.join(feature_path, ff))\n",
    "            print(fea_temp.files)\n",
    "\n",
    "            if ii == 0:\n",
    "                fea_train = fea_temp['feas_orig']\n",
    "                label_train = fea_temp['labels_orig']\n",
    "                print(fea_train.shape)\n",
    "                print(label_train.shape)\n",
    "            elif ii % 2 == 0:  # even\n",
    "                fea_train = np.concatenate([fea_train, fea_temp['feas_orig']])\n",
    "                label_train = np.concatenate([label_train, fea_temp['labels_orig']])\n",
    "                print(fea_train.shape)\n",
    "                print(label_train.shape)\n",
    "            else:\n",
    "                fea_train = np.concatenate([fea_train, fea_temp['feas_aug']])\n",
    "                label_train = np.concatenate([label_train, fea_temp['labels_aug']])\n",
    "                print(fea_train.shape)\n",
    "                print(label_train.shape)\n",
    "        print(fea_train.shape)\n",
    "        print(label_train.shape)\n",
    "        np.savez(os.path.join(feature_path, './train_oswald_no_'+ee+'.npz'), fea_train=fea_train, label_train=label_train)\n",
    "        print('')"
   ]
  },
  {
   "cell_type": "code",
   "execution_count": 8,
   "metadata": {},
   "outputs": [],
   "source": [
    "# data generator\n",
    "class DataGenerator(tf.keras.utils.Sequence):\n",
    "    def __init__(self, feature, label, batch_size=32, num_classes=None, shuffle=True):\n",
    "        self.batch_size = batch_size\n",
    "        self.X = feature\n",
    "        self.X_dim = len(feature.shape)\n",
    "        self.y = to_categorical(label, num_classes)\n",
    "        self.indices = np.arange(self.y.shape[0])\n",
    "        self.num_classes = num_classes\n",
    "        self.shuffle = shuffle\n",
    "        \n",
    "        # self.index = np.arange(len(self.indices))\n",
    "        #self.df = dataframe\n",
    "        #self.indices = self.df.index.tolist()        \n",
    "        # self.x_col = x_col\n",
    "        # self.y_col = y_col\n",
    "        \n",
    "        self.on_epoch_end()\n",
    "\n",
    "    def __len__(self):\n",
    "        return int(floor(len(self.indices)/self.batch_size))\n",
    "        # return label.shape[0]\n",
    "\n",
    "    def __getitem__(self, index):\n",
    "        # index = self.index[index * self.batch_size:(index + 1) * self.batch_size]\n",
    "        # batch = [self.indices[k] for k in index]\n",
    "        batch = list(range(index*self.batch_size, (index+1)*self.batch_size))\n",
    "        \n",
    "        X, y = self.__get_data(batch)\n",
    "        return X, y\n",
    "\n",
    "    def on_epoch_end(self):\n",
    "        if self.shuffle == True:\n",
    "            np.random.shuffle(self.indices)\n",
    "\n",
    "    def __get_data(self, batch):\n",
    "        y = np.zeros((self.batch_size, self.y.shape[1]))\n",
    "        \n",
    "        if self.X_dim == 3:\n",
    "            X = np.zeros((self.batch_size, self.X.shape[1], self.X.shape[2]))\n",
    "            for i, id in enumerate(batch):\n",
    "                X[i,:, :] = self.X[id, :, :]  # logic\n",
    "                y[i, :] = self.y[id, :] # labels\n",
    "                \n",
    "        elif self.X_dim == 4:\n",
    "            X = np.zeros((self.batch_size, self.X.shape[1], self.X.shape[2], self.X.shape[3]))\n",
    "            for i, id in enumerate(batch):\n",
    "                X[i,:, :, :] = self.X[id, :, :, :]  # logic\n",
    "                y[i, :] = self.y[id, :] # labels\n",
    "\n",
    "        return X, y"
   ]
  },
  {
   "cell_type": "markdown",
   "metadata": {},
   "source": [
    "## Models"
   ]
  },
  {
   "cell_type": "code",
   "execution_count": 9,
   "metadata": {},
   "outputs": [],
   "source": [
    "# Kong's attention\n",
    "# def max_pooling(inputs, **kwargs):\n",
    "#     input = inputs[0]   # (batch_size, time_steps, freq_bins)\n",
    "#     return K.max(input, axis=1)\n",
    "def max_pooling(inputs, **kwargs):\n",
    "    # input = inputs[0]   # (batch_size, time_steps, freq_bins)\n",
    "    return K.max(inputs, axis=1)\n",
    "\n",
    "\n",
    "def average_pooling(inputs, **kwargs):\n",
    "    input = inputs[0]   # (batch_size, time_steps, freq_bins)\n",
    "    return K.mean(input, axis=1)\n",
    "\n",
    "\n",
    "def attention_pooling(inputs, **kwargs):\n",
    "    [out, att] = inputs\n",
    "\n",
    "    epsilon = 1e-7\n",
    "    att = K.clip(att, epsilon, 1. - epsilon)\n",
    "    normalized_att = att / K.sum(att, axis=1)[:, None, :]\n",
    "\n",
    "    return K.sum(out * normalized_att, axis=1)\n",
    "\n",
    "\n",
    "def pooling_shape(input_shape):\n",
    "\n",
    "    if isinstance(input_shape, list):\n",
    "        (sample_num, time_steps, freq_bins) = input_shape[0]\n",
    "\n",
    "    else:\n",
    "        (sample_num, time_steps, freq_bins) = input_shape\n",
    "\n",
    "    return (sample_num, freq_bins)"
   ]
  },
  {
   "cell_type": "code",
   "execution_count": 10,
   "metadata": {},
   "outputs": [],
   "source": [
    "# https://github.com/yhenon/keras-spp\n",
    "# from tensorflow.keras.engine.topology import Layer\n",
    "from tensorflow.keras.layers import Layer\n",
    "import tensorflow.keras.backend as K\n",
    "\n",
    "\n",
    "class SpatialPyramidPooling(Layer):\n",
    "    \"\"\"Spatial pyramid pooling layer for 2D inputs.\n",
    "    See Spatial Pyramid Pooling in Deep Convolutional Networks for Visual Recognition,\n",
    "    K. He, X. Zhang, S. Ren, J. Sun\n",
    "    # Arguments\n",
    "        pool_list: list of int\n",
    "            List of pooling regions to use. The length of the list is the number of pooling regions,\n",
    "            each int in the list is the number of regions in that pool. For example [1,2,4] would be 3\n",
    "            regions with 1, 2x2 and 4x4 max pools, so 21 outputs per feature map\n",
    "    # Input shape\n",
    "        4D tensor with shape:\n",
    "        `(samples, channels, rows, cols)` if dim_ordering='th'\n",
    "        or 4D tensor with shape:\n",
    "        `(samples, rows, cols, channels)` if dim_ordering='tf'.\n",
    "    # Output shape\n",
    "        2D tensor with shape:\n",
    "        `(samples, channels * sum([i * i for i in pool_list])`\n",
    "    \"\"\"\n",
    "\n",
    "    def __init__(self, pool_list, **kwargs):\n",
    "\n",
    "        # self.dim_ordering = K.image_dim_ordering()\n",
    "        # self.dim_ordering = K.image_data_format()\n",
    "        self.dim_ordering  = 'tf'\n",
    "        print(self.dim_ordering)\n",
    "        assert self.dim_ordering in {'tf', 'th'}, 'dim_ordering must be in {tf, th}'\n",
    "\n",
    "        self.pool_list = pool_list\n",
    "\n",
    "        self.num_outputs_per_channel = sum([i * i for i in pool_list])\n",
    "\n",
    "        super(SpatialPyramidPooling, self).__init__(**kwargs)\n",
    "\n",
    "    def build(self, input_shape):\n",
    "        if self.dim_ordering == 'th':\n",
    "            self.nb_channels = input_shape[1]\n",
    "        elif self.dim_ordering == 'tf':\n",
    "            self.nb_channels = input_shape[3]\n",
    "\n",
    "    def compute_output_shape(self, input_shape):\n",
    "        return (input_shape[0], self.nb_channels * self.num_outputs_per_channel)\n",
    "\n",
    "    def get_config(self):\n",
    "        config = {'pool_list': self.pool_list}\n",
    "        base_config = super(SpatialPyramidPooling, self).get_config()\n",
    "        return dict(list(base_config.items()) + list(config.items()))\n",
    "\n",
    "    def call(self, x, mask=None):\n",
    "\n",
    "        input_shape = K.shape(x)\n",
    "\n",
    "        if self.dim_ordering == 'th':\n",
    "            num_rows = input_shape[2]\n",
    "            num_cols = input_shape[3]\n",
    "        elif self.dim_ordering == 'tf':\n",
    "            num_rows = input_shape[1]\n",
    "            num_cols = input_shape[2]\n",
    "\n",
    "        row_length = [K.cast(num_rows, 'float32') / i for i in self.pool_list]\n",
    "        col_length = [K.cast(num_cols, 'float32') / i for i in self.pool_list]\n",
    "\n",
    "        outputs = []\n",
    "\n",
    "        if self.dim_ordering == 'th':\n",
    "            for pool_num, num_pool_regions in enumerate(self.pool_list):\n",
    "                for jy in range(num_pool_regions):\n",
    "                    for ix in range(num_pool_regions):\n",
    "                        x1 = ix * col_length[pool_num]\n",
    "                        x2 = ix * col_length[pool_num] + col_length[pool_num]\n",
    "                        y1 = jy * row_length[pool_num]\n",
    "                        y2 = jy * row_length[pool_num] + row_length[pool_num]\n",
    "\n",
    "                        x1 = K.cast(K.round(x1), 'int32')\n",
    "                        x2 = K.cast(K.round(x2), 'int32')\n",
    "                        y1 = K.cast(K.round(y1), 'int32')\n",
    "                        y2 = K.cast(K.round(y2), 'int32')\n",
    "                        new_shape = [input_shape[0], input_shape[1],\n",
    "                                     y2 - y1, x2 - x1]\n",
    "                        x_crop = x[:, :, y1:y2, x1:x2]\n",
    "                        xm = K.reshape(x_crop, new_shape)\n",
    "                        pooled_val = K.max(xm, axis=(2, 3))\n",
    "                        outputs.append(pooled_val)\n",
    "\n",
    "        elif self.dim_ordering == 'tf':\n",
    "            for pool_num, num_pool_regions in enumerate(self.pool_list):\n",
    "                for jy in range(num_pool_regions):\n",
    "                    for ix in range(num_pool_regions):\n",
    "                        x1 = ix * col_length[pool_num]\n",
    "                        x2 = ix * col_length[pool_num] + col_length[pool_num]\n",
    "                        y1 = jy * row_length[pool_num]\n",
    "                        y2 = jy * row_length[pool_num] + row_length[pool_num]\n",
    "\n",
    "                        x1 = K.cast(K.round(x1), 'int32')\n",
    "                        x2 = K.cast(K.round(x2), 'int32')\n",
    "                        y1 = K.cast(K.round(y1), 'int32')\n",
    "                        y2 = K.cast(K.round(y2), 'int32')\n",
    "\n",
    "                        new_shape = [input_shape[0], y2 - y1,\n",
    "                                     x2 - x1, input_shape[3]]\n",
    "\n",
    "                        x_crop = x[:, y1:y2, x1:x2, :]\n",
    "                        xm = K.reshape(x_crop, new_shape)\n",
    "                        pooled_val = K.max(xm, axis=(1, 2))\n",
    "                        outputs.append(pooled_val)\n",
    "\n",
    "        if self.dim_ordering == 'th':\n",
    "            outputs = K.concatenate(outputs)\n",
    "        elif self.dim_ordering == 'tf':\n",
    "            #outputs = K.concatenate(outputs,axis = 1)\n",
    "            outputs = K.concatenate(outputs)\n",
    "            #outputs = K.reshape(outputs,(len(self.pool_list),self.num_outputs_per_channel,input_shape[0],input_shape[1]))\n",
    "            #outputs = K.permute_dimensions(outputs,(3,1,0,2))\n",
    "            #outputs = K.reshape(outputs,(input_shape[0], self.num_outputs_per_channel * self.nb_channels))\n",
    "\n",
    "        return outputs"
   ]
  },
  {
   "cell_type": "code",
   "execution_count": 11,
   "metadata": {},
   "outputs": [],
   "source": [
    "# cnn14 SPP\n",
    "def model_cnn14_spp(time_steps, freq_bins, classes_num, conv_dim=64, rnn_dim=128, pool_size=2, pool_stride=2, hidden_units=512, l2_regu=0., drop_rate=0., multilabel=True):\n",
    "    input_layer = Input(shape=(time_steps, freq_bins, 1), name='input')\n",
    "    # group 1\n",
    "    y = Conv2D(conv_dim, kernel_size=(3, 3), strides=(1, 1), padding='same', kernel_regularizer=l2(l2_regu))(input_layer)\n",
    "    y = BatchNormalization()(y)\n",
    "    y = Activation(activation='relu')(y)\n",
    "    y = Conv2D(conv_dim, kernel_size=(3, 3), strides=(1, 1), padding='same', kernel_regularizer=l2(l2_regu))(y)\n",
    "    y = BatchNormalization()(y)\n",
    "    y = Activation(activation='relu')(y)\n",
    "    y = MaxPooling2D(pool_size=(pool_size, 2), strides=(pool_stride, 2), padding='same')(y)\n",
    "    y = Dropout(drop_rate)(y)\n",
    "    \n",
    "    # group 2\n",
    "    y = Conv2D(conv_dim*2, kernel_size=(3, 3), strides=(1, 1), padding='same', kernel_regularizer=l2(l2_regu))(y)\n",
    "    y = BatchNormalization()(y)\n",
    "    y = Activation(activation='relu')(y)\n",
    "    y = Conv2D(conv_dim*2, kernel_size=(3, 3), strides=(1, 1), padding='same', kernel_regularizer=l2(l2_regu))(y)\n",
    "    y = BatchNormalization()(y)\n",
    "    y = Activation(activation='relu')(y)\n",
    "    y = MaxPooling2D(pool_size=(pool_size, 2), strides=(pool_stride, 2), padding='same')(y)\n",
    "    y = Dropout(drop_rate)(y)\n",
    "    \n",
    "    # group 3\n",
    "    y = Conv2D(conv_dim*4, kernel_size=(3, 3), strides=(1, 1), padding='same', kernel_regularizer=l2(l2_regu))(y)\n",
    "    y = BatchNormalization()(y)\n",
    "    y = Activation(activation='relu')(y)\n",
    "    y = Conv2D(conv_dim*4, kernel_size=(3, 3), strides=(1, 1), padding='same', kernel_regularizer=l2(l2_regu))(y)\n",
    "    y = BatchNormalization()(y)\n",
    "    y = Activation(activation='relu')(y)\n",
    "    y = MaxPooling2D(pool_size=(pool_size, 2), strides=(pool_stride, 2), padding='same')(y)\n",
    "    y = Dropout(drop_rate)(y)\n",
    "    \n",
    "    # group 4 \n",
    "    y = Conv2D(conv_dim*8, kernel_size=(3, 3), strides=(1, 1), padding='same', kernel_regularizer=l2(l2_regu))(y)\n",
    "    y = BatchNormalization()(y)\n",
    "    y = Activation(activation='relu')(y)\n",
    "    y = Conv2D(conv_dim*8, kernel_size=(3, 3), strides=(1, 1), padding='same', kernel_regularizer=l2(l2_regu))(y)\n",
    "    y = BatchNormalization()(y)\n",
    "    y = Activation(activation='relu')(y)\n",
    "    y = MaxPooling2D(pool_size=(pool_size, 2), strides=(pool_stride, 2), padding='same')(y)\n",
    "    y = Dropout(drop_rate)(y)\n",
    "\n",
    "    # group 5\n",
    "    y = Conv2D(conv_dim*16, kernel_size=(3, 3), strides=(1, 1), padding='same', kernel_regularizer=l2(l2_regu))(y)\n",
    "    y = BatchNormalization()(y)\n",
    "    y = Activation(activation='relu')(y)\n",
    "    y = Conv2D(conv_dim*16, kernel_size=(3, 3), strides=(1, 1), padding='same', kernel_regularizer=l2(l2_regu))(y)\n",
    "    y = BatchNormalization()(y)\n",
    "    y = Activation(activation='relu')(y)\n",
    "#     y = MaxPooling2D(pool_size=(pool_size, 2), strides=(1, 2), padding='same')(y)\n",
    "#     y = Dropout(drop_rate)(y)\n",
    "\n",
    "#     # group 6\n",
    "#     y = Conv2D(conv_dim*32, kernel_size=(3, 3), strides=(1, 1), padding='same', kernel_regularizer=l2(l2_regu))(y)\n",
    "#     y = BatchNormalization()(y)\n",
    "#     y = Activation(activation='relu')(y)\n",
    "#     y = Conv2D(conv_dim*32, kernel_size=(3, 3), strides=(1, 1), padding='same', kernel_regularizer=l2(l2_regu))(y)\n",
    "#     y = BatchNormalization()(y)\n",
    "#     y = Activation(activation='relu')(y)\n",
    "#     y = MaxPooling2D(pool_size=(pool_size, 2), strides=(1, 2), padding='same')(y)\n",
    "#     y = Dropout(drop_rate)(y)\n",
    "    \n",
    "    # change dimensions: samples, time, frequency, channels => samples, time, frequency*channels\n",
    "    #  dim_cnn = K.int_shape(y)\n",
    "    # y = Reshape((dim_cnn[1], dim_cnn[2]*dim_cnn[3]))(y)\n",
    "    \n",
    "    y = spp.SpatialPyramidPooling2D(bins=[1, 2, 4], data_format='channels_last')(y)\n",
    "    dim_spp = K.int_shape(y)\n",
    "    y = Reshape((dim_spp[1]*dim_spp[2], ))(y)\n",
    "\n",
    "    # FC block\n",
    "    y = Dense(hidden_units, activation='relu', name='cnn14_fcn')(y)  # original 512\n",
    "    # y = Dense(hidden_units, activation='relu', name='cnn14_fcn2')(y)  # original 512\n",
    "    x = Dense(classes_num, activation='softmax')(y)\n",
    "    \n",
    "    # Build model\n",
    "    model = Model(inputs=input_layer, outputs=x)\n",
    "    \n",
    "    return model\n",
    "\n",
    "#     a1 = Dense(hidden_units)(y)\n",
    "#     a1 = BatchNormalization()(a1)\n",
    "#     a1 = Activation('relu')(a1)\n",
    "#     a1 = Dropout(drop_rate)(a1)\n",
    "\n",
    "#     a2 = Dense(hidden_units)(a1)\n",
    "#     a2 = BatchNormalization()(a2)\n",
    "#     a2 = Activation('relu')(a2)\n",
    "#     a2 = Dropout(drop_rate)(a2)\n",
    "    \n",
    "#     output_layer = Dense(classes_num, activation='softmax')(a2)\n",
    "\n",
    "#     if False:\n",
    "#         # Pooling layers 'decision_level_max_pooling':\n",
    "#         '''Global max pooling.\n",
    "\n",
    "#         [1] Choi, Keunwoo, et al. \"Automatic tagging using deep convolutional \n",
    "#         neural networks.\" arXiv preprint arXiv:1606.00298 (2016).\n",
    "#         '''\n",
    "#         cla = Dense(classes_num, activation='sigmoid')(a2)\n",
    "\n",
    "#         # output_layer = Lambda(\n",
    "#         #    max_pooling, \n",
    "#         #    output_shape=pooling_shape)(\n",
    "#         #    [cla])\n",
    "#         output_layer = Lambda(max_pooling)(cla)\n",
    "\n",
    "#     # Build model\n",
    "#     model = Model(inputs=input_layer, outputs=output_layer)\n",
    "    \n",
    "#     return model"
   ]
  },
  {
   "cell_type": "code",
   "execution_count": 12,
   "metadata": {},
   "outputs": [],
   "source": [
    "# cnn14 attention with customized maxpooling\n",
    "def model_cnn14_attention_multi(time_steps, freq_bins, classes_num, model_type='feature_level_attention', conv_dim=64, rnn_dim=128, pool_size=2, pool_stride=2, hidden_units=512, l2_regu=0., drop_rate=0., multilabel=True):\n",
    "    # Kong's attention\n",
    "    # model_type = 'decision_level_max_pooling'  # problem with dimensions of the Lambda layer after training\n",
    "    # model_type = 'decision_level_average_pooling' # problem with dimensions of the Lambda layer after training\n",
    "    # model_type = 'decision_level_single_attention'\n",
    "    # model_type = 'decision_level_multi_attention'\n",
    "    # model_type = 'feature_level_attention'\n",
    "\n",
    "    input_layer = Input(shape=(time_steps, freq_bins, 1), name='input')\n",
    "    # group 1\n",
    "    y = Conv2D(conv_dim, kernel_size=(3, 3), strides=(1, 1), padding='same', kernel_regularizer=l2(l2_regu))(input_layer)\n",
    "    y = BatchNormalization()(y)\n",
    "    y = Activation(activation='relu')(y)\n",
    "    y = Conv2D(conv_dim, kernel_size=(3, 3), strides=(1, 1), padding='same', kernel_regularizer=l2(l2_regu))(y)\n",
    "    y = BatchNormalization()(y)\n",
    "    y = Activation(activation='relu')(y)\n",
    "    y = MaxPooling2D(pool_size=(pool_size, 2), strides=(pool_stride, 2), padding='same')(y)\n",
    "    y = Dropout(drop_rate)(y)\n",
    "    \n",
    "    # group 2\n",
    "    y = Conv2D(conv_dim*2, kernel_size=(3, 3), strides=(1, 1), padding='same', kernel_regularizer=l2(l2_regu))(y)\n",
    "    y = BatchNormalization()(y)\n",
    "    y = Activation(activation='relu')(y)\n",
    "    y = Conv2D(conv_dim*2, kernel_size=(3, 3), strides=(1, 1), padding='same', kernel_regularizer=l2(l2_regu))(y)\n",
    "    y = BatchNormalization()(y)\n",
    "    y = Activation(activation='relu')(y)\n",
    "    y = MaxPooling2D(pool_size=(pool_size, 2), strides=(pool_stride, 2), padding='same')(y)\n",
    "    y = Dropout(drop_rate)(y)\n",
    "    \n",
    "    # group 3\n",
    "    y = Conv2D(conv_dim*4, kernel_size=(3, 3), strides=(1, 1), padding='same', kernel_regularizer=l2(l2_regu))(y)\n",
    "    y = BatchNormalization()(y)\n",
    "    y = Activation(activation='relu')(y)\n",
    "    y = Conv2D(conv_dim*4, kernel_size=(3, 3), strides=(1, 1), padding='same', kernel_regularizer=l2(l2_regu))(y)\n",
    "    y = BatchNormalization()(y)\n",
    "    y = Activation(activation='relu')(y)\n",
    "    y = MaxPooling2D(pool_size=(pool_size, 2), strides=(pool_stride, 2), padding='same')(y)\n",
    "    y = Dropout(drop_rate)(y)\n",
    "    \n",
    "    # group 4 \n",
    "    y = Conv2D(conv_dim*8, kernel_size=(3, 3), strides=(1, 1), padding='same', kernel_regularizer=l2(l2_regu))(y)\n",
    "    y = BatchNormalization()(y)\n",
    "    y = Activation(activation='relu')(y)\n",
    "    y = Conv2D(conv_dim*8, kernel_size=(3, 3), strides=(1, 1), padding='same', kernel_regularizer=l2(l2_regu))(y)\n",
    "    y = BatchNormalization()(y)\n",
    "    y = Activation(activation='relu')(y)\n",
    "    y = MaxPooling2D(pool_size=(pool_size, 2), strides=(pool_stride, 2), padding='same')(y)\n",
    "    y = Dropout(drop_rate)(y)\n",
    "\n",
    "    # group 5\n",
    "    y = Conv2D(conv_dim*16, kernel_size=(3, 3), strides=(1, 1), padding='same', kernel_regularizer=l2(l2_regu))(y)\n",
    "    y = BatchNormalization()(y)\n",
    "    y = Activation(activation='relu')(y)\n",
    "    y = Conv2D(conv_dim*16, kernel_size=(3, 3), strides=(1, 1), padding='same', kernel_regularizer=l2(l2_regu))(y)\n",
    "    y = BatchNormalization()(y)\n",
    "    y = Activation(activation='relu')(y)\n",
    "    y = MaxPooling2D(pool_size=(pool_size, 2), strides=(1, 2), padding='same')(y)\n",
    "    y = Dropout(drop_rate)(y)\n",
    "\n",
    "    # group 6\n",
    "    y = Conv2D(conv_dim*32, kernel_size=(3, 3), strides=(1, 1), padding='same', kernel_regularizer=l2(l2_regu))(y)\n",
    "    y = BatchNormalization()(y)\n",
    "    y = Activation(activation='relu')(y)\n",
    "    y = Conv2D(conv_dim*32, kernel_size=(3, 3), strides=(1, 1), padding='same', kernel_regularizer=l2(l2_regu))(y)\n",
    "    y = BatchNormalization()(y)\n",
    "    y = Activation(activation='relu')(y)\n",
    "    y = MaxPooling2D(pool_size=(pool_size, 2), strides=(1, 2), padding='same')(y)\n",
    "    y = Dropout(drop_rate)(y)\n",
    "    \n",
    "    # change dimensions: samples, time, frequency, channels => samples, time, frequency*channels\n",
    "    dim_cnn = K.int_shape(y)\n",
    "    y = Reshape((dim_cnn[1], dim_cnn[2]*dim_cnn[3]))(y)\n",
    "\n",
    "    a1 = Dense(hidden_units)(y)\n",
    "    a1 = BatchNormalization()(a1)\n",
    "    a1 = Activation('relu')(a1)\n",
    "    a1 = Dropout(drop_rate)(a1)\n",
    "\n",
    "    a2 = Dense(hidden_units)(a1)\n",
    "    a2 = BatchNormalization()(a2)\n",
    "    a2 = Activation('relu')(a2)\n",
    "    a2 = Dropout(drop_rate)(a2)\n",
    "\n",
    "    a3 = Dense(hidden_units)(a2)\n",
    "    a3 = BatchNormalization()(a3)\n",
    "    a3 = Activation('relu')(a3)\n",
    "    a3 = Dropout(drop_rate)(a3)\n",
    "\n",
    "    # Pooling layers\n",
    "    if model_type == 'decision_level_max_pooling':\n",
    "        '''Global max pooling.\n",
    "\n",
    "        [1] Choi, Keunwoo, et al. \"Automatic tagging using deep convolutional \n",
    "        neural networks.\" arXiv preprint arXiv:1606.00298 (2016).\n",
    "        '''\n",
    "        cla = Dense(classes_num, activation='sigmoid')(a3)\n",
    "        \n",
    "        # output_layer = Lambda(\n",
    "        #    max_pooling, \n",
    "        #    output_shape=pooling_shape)(\n",
    "        #    [cla])\n",
    "        output_layer = Lambda(max_pooling)(cla)\n",
    "\n",
    "    elif model_type == 'decision_level_average_pooling':\n",
    "        '''Global average pooling.\n",
    "\n",
    "        [2] Lin, Min, et al. Qiang Chen, and Shuicheng Yan. \"Network in \n",
    "        network.\" arXiv preprint arXiv:1312.4400 (2013).\n",
    "        '''\n",
    "        cla = Dense(classes_num, activation='sigmoid')(a3)\n",
    "        # output_layer = Lambda(\n",
    "        #    average_pooling,\n",
    "        #    output_shape=pooling_shape)(\n",
    "        #    [cla])\n",
    "        output_layer = Lambda(average_pooling)(cla)\n",
    "\n",
    "    elif model_type == 'decision_level_single_attention':\n",
    "        '''Decision level single attention pooling.\n",
    "        [3] Kong, Qiuqiang, et al. \"Audio Set classification with attention\n",
    "        model: A probabilistic perspective.\" arXiv preprint arXiv:1711.00927\n",
    "        (2017).\n",
    "        '''\n",
    "        cla = Dense(classes_num, activation='sigmoid')(a3)\n",
    "        att = Dense(classes_num, activation='softmax')(a3)\n",
    "        output_layer = Lambda(\n",
    "            attention_pooling, output_shape=pooling_shape)([cla, att])\n",
    "\n",
    "    elif model_type == 'decision_level_multi_attention':\n",
    "        '''Decision level multi attention pooling.\n",
    "        [4] Yu, Changsong, et al. \"Multi-level Attention Model for Weakly\n",
    "        Supervised Audio Classification.\" arXiv preprint arXiv:1803.02353\n",
    "        (2018).\n",
    "        '''\n",
    "        cla1 = Dense(classes_num, activation='sigmoid')(a2)\n",
    "        att1 = Dense(classes_num, activation='softmax')(a2)\n",
    "        out1 = Lambda(\n",
    "            attention_pooling, output_shape=pooling_shape)([cla1, att1])\n",
    "\n",
    "        cla2 = Dense(classes_num, activation='sigmoid')(a3)\n",
    "        att2 = Dense(classes_num, activation='softmax')(a3)\n",
    "        out2 = Lambda(\n",
    "            attention_pooling, output_shape=pooling_shape)([cla2, att2])\n",
    "\n",
    "        b1 = Concatenate(axis=-1)([out1, out2])\n",
    "        b1 = Dense(classes_num)(b1)\n",
    "        \n",
    "        if multilabel:\n",
    "            output_layer = Activation('sigmoid')(b1)\n",
    "        else:\n",
    "            output_layer = Activation('softmax')(b1)\n",
    "\n",
    "    elif model_type == 'feature_level_attention':\n",
    "        '''Feature level attention.\n",
    "        [1] Kong, Qiuqiang, et al. \"Weakly labelled audioset tagging with \n",
    "        attention neural networks.\" (2019).\n",
    "        '''\n",
    "        cla = Dense(hidden_units, activation='linear')(a3)\n",
    "        att = Dense(hidden_units, activation='sigmoid')(a3)\n",
    "        b1 = Lambda(\n",
    "            attention_pooling, output_shape=pooling_shape)([cla, att])\n",
    "\n",
    "        b1 = BatchNormalization()(b1)\n",
    "        b1 = Activation(activation='relu')(b1)\n",
    "        b1 = Dropout(drop_rate)(b1)\n",
    "        \n",
    "        if multilabel:\n",
    "            output_layer = Dense(classes_num, activation='sigmoid')(b1)\n",
    "        else:\n",
    "            output_layer = Dense(classes_num, activation='softmax')(b1)\n",
    "\n",
    "    else:\n",
    "        raise Exception(\"Incorrect model_type!\")\n",
    "\n",
    "    # Build model\n",
    "    model = Model(inputs=input_layer, outputs=output_layer)\n",
    "    \n",
    "    return model"
   ]
  },
  {
   "cell_type": "code",
   "execution_count": 13,
   "metadata": {},
   "outputs": [],
   "source": [
    "# cnn14 attention\n",
    "def model_cnn14_attention(time_steps, freq_bins, classes_num, model_type='feature_level_attention', conv_dim=64, rnn_dim=128, pool_size=2, pool_stride=2, hidden_units=512, l2_regu=0., drop_rate=0., multilabel=True):\n",
    "    # Kong's attention\n",
    "    # model_type = 'decision_level_max_pooling'  # problem with dimensions of the Lambda layer after training\n",
    "    # model_type = 'decision_level_average_pooling' # problem with dimensions of the Lambda layer after training\n",
    "    # model_type = 'decision_level_single_attention'\n",
    "    # model_type = 'decision_level_multi_attention'\n",
    "    # model_type = 'feature_level_attention'\n",
    "\n",
    "    input_layer = Input(shape=(time_steps, freq_bins, 1), name='input')\n",
    "    # group 1\n",
    "    y = Conv2D(conv_dim, kernel_size=(3, 3), strides=(1, 1), padding='same', kernel_regularizer=l2(l2_regu))(input_layer)\n",
    "    y = BatchNormalization()(y)\n",
    "    y = Activation(activation='relu')(y)\n",
    "    y = Conv2D(conv_dim, kernel_size=(3, 3), strides=(1, 1), padding='same', kernel_regularizer=l2(l2_regu))(y)\n",
    "    y = BatchNormalization()(y)\n",
    "    y = Activation(activation='relu')(y)\n",
    "    y = MaxPooling2D(pool_size=(pool_size, 2), strides=(pool_stride, 2), padding='same')(y)\n",
    "    y = Dropout(drop_rate)(y)\n",
    "    \n",
    "    # group 2\n",
    "    y = Conv2D(conv_dim*2, kernel_size=(3, 3), strides=(1, 1), padding='same', kernel_regularizer=l2(l2_regu))(y)\n",
    "    y = BatchNormalization()(y)\n",
    "    y = Activation(activation='relu')(y)\n",
    "    y = Conv2D(conv_dim*2, kernel_size=(3, 3), strides=(1, 1), padding='same', kernel_regularizer=l2(l2_regu))(y)\n",
    "    y = BatchNormalization()(y)\n",
    "    y = Activation(activation='relu')(y)\n",
    "    y = MaxPooling2D(pool_size=(pool_size, 2), strides=(pool_stride, 2), padding='same')(y)\n",
    "    y = Dropout(drop_rate)(y)\n",
    "    \n",
    "    # group 3\n",
    "    y = Conv2D(conv_dim*4, kernel_size=(3, 3), strides=(1, 1), padding='same', kernel_regularizer=l2(l2_regu))(y)\n",
    "    y = BatchNormalization()(y)\n",
    "    y = Activation(activation='relu')(y)\n",
    "    y = Conv2D(conv_dim*4, kernel_size=(3, 3), strides=(1, 1), padding='same', kernel_regularizer=l2(l2_regu))(y)\n",
    "    y = BatchNormalization()(y)\n",
    "    y = Activation(activation='relu')(y)\n",
    "    y = MaxPooling2D(pool_size=(pool_size, 2), strides=(pool_stride, 2), padding='same')(y)\n",
    "    y = Dropout(drop_rate)(y)\n",
    "    \n",
    "    # group 4 \n",
    "    y = Conv2D(conv_dim*8, kernel_size=(3, 3), strides=(1, 1), padding='same', kernel_regularizer=l2(l2_regu))(y)\n",
    "    y = BatchNormalization()(y)\n",
    "    y = Activation(activation='relu')(y)\n",
    "    y = Conv2D(conv_dim*8, kernel_size=(3, 3), strides=(1, 1), padding='same', kernel_regularizer=l2(l2_regu))(y)\n",
    "    y = BatchNormalization()(y)\n",
    "    y = Activation(activation='relu')(y)\n",
    "    y = MaxPooling2D(pool_size=(pool_size, 2), strides=(pool_stride, 2), padding='same')(y)\n",
    "    y = Dropout(drop_rate)(y)\n",
    "\n",
    "    # group 5\n",
    "    y = Conv2D(conv_dim*16, kernel_size=(3, 3), strides=(1, 1), padding='same', kernel_regularizer=l2(l2_regu))(y)\n",
    "    y = BatchNormalization()(y)\n",
    "    y = Activation(activation='relu')(y)\n",
    "    y = Conv2D(conv_dim*16, kernel_size=(3, 3), strides=(1, 1), padding='same', kernel_regularizer=l2(l2_regu))(y)\n",
    "    y = BatchNormalization()(y)\n",
    "    y = Activation(activation='relu')(y)\n",
    "    y = MaxPooling2D(pool_size=(pool_size, 2), strides=(pool_stride, 2), padding='same')(y)\n",
    "    y = Dropout(drop_rate)(y)\n",
    "\n",
    "    # group 6\n",
    "    y = Conv2D(conv_dim*32, kernel_size=(3, 3), strides=(1, 1), padding='same', kernel_regularizer=l2(l2_regu))(y)\n",
    "    y = BatchNormalization()(y)\n",
    "    y = Activation(activation='relu')(y)\n",
    "    y = Conv2D(conv_dim*32, kernel_size=(3, 3), strides=(1, 1), padding='same', kernel_regularizer=l2(l2_regu))(y)\n",
    "    y = BatchNormalization()(y)\n",
    "    y = Activation(activation='relu')(y)\n",
    "    y = MaxPooling2D(pool_size=(pool_size, 2), strides=(pool_stride, 2), padding='same')(y)\n",
    "    y = Dropout(drop_rate)(y)\n",
    "    \n",
    "    # change dimensions: samples, time, frequency, channels => samples, time, frequency*channels\n",
    "    dim_cnn = K.int_shape(y)\n",
    "    y = Reshape((dim_cnn[1], dim_cnn[2]*dim_cnn[3]))(y)\n",
    "\n",
    "    a1 = Dense(hidden_units)(y)\n",
    "    a1 = BatchNormalization()(a1)\n",
    "    a1 = Activation('relu')(a1)\n",
    "    a1 = Dropout(drop_rate)(a1)\n",
    "\n",
    "    a2 = Dense(hidden_units)(a1)\n",
    "    a2 = BatchNormalization()(a2)\n",
    "    a2 = Activation('relu')(a2)\n",
    "    a2 = Dropout(drop_rate)(a2)\n",
    "\n",
    "    a3 = Dense(hidden_units)(a2)\n",
    "    a3 = BatchNormalization()(a3)\n",
    "    a3 = Activation('relu')(a3)\n",
    "    a3 = Dropout(drop_rate)(a3)\n",
    "\n",
    "    # Pooling layers\n",
    "    if model_type == 'decision_level_max_pooling':\n",
    "        '''Global max pooling.\n",
    "\n",
    "        [1] Choi, Keunwoo, et al. \"Automatic tagging using deep convolutional \n",
    "        neural networks.\" arXiv preprint arXiv:1606.00298 (2016).\n",
    "        '''\n",
    "        cla = Dense(classes_num, activation='sigmoid')(a3)\n",
    "        \n",
    "        # output_layer = Lambda(\n",
    "        #    max_pooling, \n",
    "        #    output_shape=pooling_shape)(\n",
    "        #    [cla])\n",
    "        output_layer = Lambda(max_pooling)(cla)\n",
    "\n",
    "    elif model_type == 'decision_level_average_pooling':\n",
    "        '''Global average pooling.\n",
    "\n",
    "        [2] Lin, Min, et al. Qiang Chen, and Shuicheng Yan. \"Network in \n",
    "        network.\" arXiv preprint arXiv:1312.4400 (2013).\n",
    "        '''\n",
    "        cla = Dense(classes_num, activation='sigmoid')(a3)\n",
    "        # output_layer = Lambda(\n",
    "        #    average_pooling,\n",
    "        #    output_shape=pooling_shape)(\n",
    "        #    [cla])\n",
    "        output_layer = Lambda(average_pooling)(cla)\n",
    "\n",
    "    elif model_type == 'decision_level_single_attention':\n",
    "        '''Decision level single attention pooling.\n",
    "        [3] Kong, Qiuqiang, et al. \"Audio Set classification with attention\n",
    "        model: A probabilistic perspective.\" arXiv preprint arXiv:1711.00927\n",
    "        (2017).\n",
    "        '''\n",
    "        cla = Dense(classes_num, activation='sigmoid')(a3)\n",
    "        att = Dense(classes_num, activation='softmax')(a3)\n",
    "        output_layer = Lambda(\n",
    "            attention_pooling, output_shape=pooling_shape)([cla, att])\n",
    "\n",
    "    elif model_type == 'decision_level_multi_attention':\n",
    "        '''Decision level multi attention pooling.\n",
    "        [4] Yu, Changsong, et al. \"Multi-level Attention Model for Weakly\n",
    "        Supervised Audio Classification.\" arXiv preprint arXiv:1803.02353\n",
    "        (2018).\n",
    "        '''\n",
    "        cla1 = Dense(classes_num, activation='sigmoid')(a2)\n",
    "        att1 = Dense(classes_num, activation='softmax')(a2)\n",
    "        out1 = Lambda(\n",
    "            attention_pooling, output_shape=pooling_shape)([cla1, att1])\n",
    "\n",
    "        cla2 = Dense(classes_num, activation='sigmoid')(a3)\n",
    "        att2 = Dense(classes_num, activation='softmax')(a3)\n",
    "        out2 = Lambda(\n",
    "            attention_pooling, output_shape=pooling_shape)([cla2, att2])\n",
    "\n",
    "        b1 = Concatenate(axis=-1)([out1, out2])\n",
    "        b1 = Dense(classes_num)(b1)\n",
    "        \n",
    "        if multilabel:\n",
    "            output_layer = Activation('sigmoid')(b1)\n",
    "        else:\n",
    "            output_layer = Activation('softmax')(b1)\n",
    "\n",
    "    elif model_type == 'feature_level_attention':\n",
    "        '''Feature level attention.\n",
    "        [1] Kong, Qiuqiang, et al. \"Weakly labelled audioset tagging with \n",
    "        attention neural networks.\" (2019).\n",
    "        '''\n",
    "        cla = Dense(hidden_units, activation='linear')(a3)\n",
    "        att = Dense(hidden_units, activation='sigmoid')(a3)\n",
    "        b1 = Lambda(\n",
    "            attention_pooling, output_shape=pooling_shape)([cla, att])\n",
    "\n",
    "        b1 = BatchNormalization()(b1)\n",
    "        b1 = Activation(activation='relu')(b1)\n",
    "        b1 = Dropout(drop_rate)(b1)\n",
    "        \n",
    "        if multilabel:\n",
    "            output_layer = Dense(classes_num, activation='sigmoid')(b1)\n",
    "        else:\n",
    "            output_layer = Dense(classes_num, activation='softmax')(b1)\n",
    "\n",
    "    else:\n",
    "        raise Exception(\"Incorrect model_type!\")\n",
    "\n",
    "    # Build model\n",
    "    model = Model(inputs=input_layer, outputs=output_layer)\n",
    "    \n",
    "    return model"
   ]
  },
  {
   "cell_type": "code",
   "execution_count": 14,
   "metadata": {},
   "outputs": [],
   "source": [
    "def model_cnn14(time_steps, freq_bins, classes_num, pool_size=2, pool_stride=2, conv_dim=16, fcn_dim=512, l2_regu=0., drop_rate=0.):\n",
    "    # input\n",
    "    input_layer = Input(shape=(time_steps, freq_bins, 1), name='input')\n",
    "    \n",
    "    # group 1\n",
    "    y = Conv2D(conv_dim, kernel_size=(3, 3), strides=(1, 1), padding='same', kernel_regularizer=l2(l2_regu))(input_layer)\n",
    "    y = BatchNormalization()(y)\n",
    "    y = Activation(activation='relu')(y)\n",
    "    y = Conv2D(conv_dim, kernel_size=(3, 3), strides=(1, 1), padding='same', kernel_regularizer=l2(l2_regu))(y)\n",
    "    y = BatchNormalization()(y)\n",
    "    y = Activation(activation='relu')(y)\n",
    "    y = MaxPooling2D(pool_size=(2, 2), strides=(2, 2), padding='same')(y)\n",
    "    y = Dropout(drop_rate)(y)\n",
    "    \n",
    "    # group 2\n",
    "    y = Conv2D(conv_dim*2, kernel_size=(3, 3), strides=(1, 1), padding='same', kernel_regularizer=l2(l2_regu))(y)\n",
    "    y = BatchNormalization()(y)\n",
    "    y = Activation(activation='relu')(y)\n",
    "    y = Conv2D(conv_dim*2, kernel_size=(3, 3), strides=(1, 1), padding='same', kernel_regularizer=l2(l2_regu))(y)\n",
    "    y = BatchNormalization()(y)\n",
    "    y = Activation(activation='relu')(y)\n",
    "    y = MaxPooling2D(pool_size=(2, 2), strides=(2, 2), padding='same')(y)\n",
    "    y = Dropout(drop_rate)(y)\n",
    "    \n",
    "    # group 3\n",
    "    y = Conv2D(conv_dim*4, kernel_size=(3, 3), strides=(1, 1), padding='same', kernel_regularizer=l2(l2_regu))(y)\n",
    "    y = BatchNormalization()(y)\n",
    "    y = Activation(activation='relu')(y)\n",
    "    y = Conv2D(conv_dim*4, kernel_size=(3, 3), strides=(1, 1), padding='same', kernel_regularizer=l2(l2_regu))(y)\n",
    "    y = BatchNormalization()(y)\n",
    "    y = Activation(activation='relu')(y)\n",
    "    y = MaxPooling2D(pool_size=(2, 2), strides=(2, 2), padding='same')(y)\n",
    "    y = Dropout(drop_rate)(y)\n",
    "    \n",
    "    # group 4 \n",
    "    y = Conv2D(conv_dim*8, kernel_size=(3, 3), strides=(1, 1), padding='same', kernel_regularizer=l2(l2_regu))(y)\n",
    "    y = BatchNormalization()(y)\n",
    "    y = Activation(activation='relu')(y)\n",
    "    y = Conv2D(conv_dim*8, kernel_size=(3, 3), strides=(1, 1), padding='same', kernel_regularizer=l2(l2_regu))(y)\n",
    "    y = BatchNormalization()(y)\n",
    "    y = Activation(activation='relu')(y)\n",
    "    y = MaxPooling2D(pool_size=(2, 2), strides=(2, 2), padding='same')(y)\n",
    "    y = Dropout(drop_rate)(y)\n",
    "\n",
    "    # group 5\n",
    "    y = Conv2D(conv_dim*16, kernel_size=(3, 3), strides=(1, 1), padding='same', kernel_regularizer=l2(l2_regu))(y)\n",
    "    y = BatchNormalization()(y)\n",
    "    y = Activation(activation='relu')(y)\n",
    "    y = Conv2D(conv_dim*16, kernel_size=(3, 3), strides=(1, 1), padding='same', kernel_regularizer=l2(l2_regu))(y)\n",
    "    y = BatchNormalization()(y)\n",
    "    y = Activation(activation='relu')(y)\n",
    "    y = MaxPooling2D(pool_size=(2, 2), strides=(2, 2), padding='same')(y)\n",
    "    y = Dropout(drop_rate)(y)\n",
    "\n",
    "    # group 6\n",
    "    y = Conv2D(conv_dim*32, kernel_size=(3, 3), strides=(1, 1), padding='same', kernel_regularizer=l2(l2_regu))(y)\n",
    "    y = BatchNormalization()(y)\n",
    "    y = Activation(activation='relu')(y)\n",
    "    y = Conv2D(conv_dim*32, kernel_size=(3, 3), strides=(1, 1), padding='same', kernel_regularizer=l2(l2_regu))(y)\n",
    "    y = BatchNormalization()(y)\n",
    "    y = Activation(activation='relu')(y)\n",
    "    \n",
    "    y = GlobalMaxPooling2D()(y)\n",
    "    \n",
    "    # FC block\n",
    "    y = Dense(fcn_dim, activation='relu', name='cnn14_fcn')(y)  # original 512\n",
    "    x = Dense(classes_num, activation='softmax')(y)\n",
    "    \n",
    "    # Build model\n",
    "    model = Model(inputs=input_layer, outputs=x)\n",
    "    \n",
    "    return model"
   ]
  },
  {
   "cell_type": "markdown",
   "metadata": {},
   "source": [
    "# Model compile, class weight & fitting"
   ]
  },
  {
   "cell_type": "code",
   "execution_count": 15,
   "metadata": {},
   "outputs": [],
   "source": [
    "# def find_best_model(model_folder, remove_others=False):\n",
    "#     model_list = glob.glob(model_folder+'/*.hdf5')\n",
    "#     model_list.sort()\n",
    "#     the_best_model = model_list[-1]\n",
    "    \n",
    "#     if remove_others==True:\n",
    "#         for mm in model_list[:-1]:\n",
    "#             os.remove(mm)\n",
    "            \n",
    "#     print(the_best_model)\n",
    "    \n",
    "#     return the_best_model\n",
    "import re\n",
    "\n",
    "def find_best_model(classifier_path, fmt='epoch_\\d+_valloss_(\\d+.\\d{4})_valacc_\\d+.\\d{4}.hdf5', is_max=False, purge=True):\n",
    "    \"\"\"\n",
    "    Return the path to the model with the best accuracy, given the path to\n",
    "    all the trained classifiers\n",
    "    Args:\n",
    "        classifier_path: path to all the trained classifiers\n",
    "        fmt: e.g. \"epoch_\\d+_[0-1].\\d+_(\\d+.\\d{4}).hdf5\"\n",
    "        'epoch_\\d+_valloss_(\\d+.\\d{4})_valacc_\\d+.\\d{4}.hdf5'\n",
    "        is_max: use max; otherwise, min\n",
    "        purge: True to purge models files except the best one\n",
    "    Return:\n",
    "        the path of the model with the best accuracy\n",
    "    \"\"\"\n",
    "    # list all files ending with .hdf5\n",
    "    day_list = sorted(glob.glob(os.path.join(classifier_path + '/', '*.hdf5')))\n",
    "\n",
    "    # re the last 4 digits for accuracy\n",
    "    hdf5_filename = []\n",
    "    hdf5_accu = np.zeros(len(day_list))\n",
    "    for dd in range(len(day_list)):\n",
    "        filename = os.path.basename(day_list[dd])\n",
    "        hdf5_filename.append(filename)\n",
    "        # m = re.search(\"_F1_(0.\\d{4}).hdf5\", filename)\n",
    "        # m = re.search(\"_([0-1].\\d{4}).hdf5\", filename)\n",
    "        # m = re.search(\"epoch_\\d+_[0-1].\\d+_(\\d+.\\d{4}).hdf5\", filename)\n",
    "        m = re.search(fmt, filename)\n",
    "        try:\n",
    "            hdf5_accu[dd] = float(m.groups()[0])\n",
    "        except:\n",
    "            continue\n",
    "\n",
    "    # select the laregest one and write to the variable classifier_file\n",
    "    if len(hdf5_accu) == 0:\n",
    "        best_model_path = ''\n",
    "        best_accu = 0\n",
    "    else:\n",
    "        if is_max is True:\n",
    "            ind_max = np.argmax(hdf5_accu)\n",
    "        else: # use min instead\n",
    "            ind_max = np.argmin(hdf5_accu)\n",
    "        best_model_path = day_list[int(ind_max)]\n",
    "        best_accu = hdf5_accu[ind_max]\n",
    "        # purge all model files except the best_model\n",
    "        if purge:\n",
    "            for ff in day_list:\n",
    "                if ff != best_model_path:\n",
    "                    os.remove(ff)\n",
    "    print('Best model:'+str(best_accu))\n",
    "    print(best_model_path)\n",
    "    return best_model_path, best_accu\n"
   ]
  },
  {
   "cell_type": "code",
   "execution_count": 16,
   "metadata": {},
   "outputs": [],
   "source": [
    "### cnn4 + attention\n",
    "# model = model_cnn_attention(dim_time, dim_freq, num_species, model_type='decision_level_max_pooling', conv_dim=conv_dim, l2_regu=l2_regu, drop_rate=drop_rate)\n",
    "# model = model_cnn_attention(dim_time, dim_freq, num_species, model_type='decision_level_multi_attention', conv_dim=conv_dim, l2_regu=l2_regu, drop_rate=drop_rate)\n",
    "# model = model_cnn_attention(dim_time, dim_freq, num_species, model_type='feature_level_attention', conv_dim=conv_dim, l2_regu=l2_regu, drop_rate=drop_rate)\n",
    "\n",
    "# vggish\n",
    "# model = model_vggish(dim_time, dim_freq, num_species, conv_dim=conv_dim, fcn_dim=fcn_dim)\n",
    "\n",
    "# cnn10\n",
    "# model = model_cnn10(dim_time, dim_freq, num_species, conv_dim=conv_dim, fcn_dim=fcn_dim, l2_regu=l2_regu, drop_rate=drop_rate)\n",
    "\n",
    "# cnn14\n",
    "# model = model_cnn14(dim_time, dim_freq, num_species, conv_dim=conv_dim, fcn_dim=fcn_dim, l2_regu=l2_regu, drop_rate=drop_rate)\n",
    "\n",
    "# cnn14 attention\n",
    "# model = model_cnn14_attention(dim_time, dim_freq, num_species, model_type='feature_level_attention', conv_dim=conv_dim, pool_size=pool_size, pool_stride=pool_stride, hidden_units=hidden_units, l2_regu=l2_regu, drop_rate=drop_rate)\n",
    "# model = model_cnn14_bigru_attention(dim_time, dim_freq, num_species, model_type='feature_level_attention', conv_dim=conv_dim, rnn_dim=rnn_dim, hidden_units=hidden_units, l2_regu=l2_regu, drop_rate=drop_rate)\n",
    "\n",
    "# model = model_cnn14_attention_multi(dim_time, dim_freq, num_species, model_type='feature_level_attention', conv_dim=conv_dim, pool_size=pool_size, pool_stride=pool_stride, hidden_units=hidden_units, l2_regu=l2_regu, drop_rate=drop_rate)\n",
    "# model = model_cnn14_spp(dim_time, dim_freq, num_species, conv_dim=conv_dim, pool_size=pool_size, pool_stride=pool_stride, hidden_units=hidden_units, l2_regu=l2_regu, drop_rate=drop_rate)\n",
    "# loss = CategoricalCrossentropy()\n",
    "# model.compile(optimizer=tf.keras.optimizers.Adam(learning_rate=learning_rate), loss=loss, metrics=['accuracy'])\n",
    "\n"
   ]
  },
  {
   "cell_type": "code",
   "execution_count": 17,
   "metadata": {},
   "outputs": [],
   "source": [
    "boundaries = [20, 40]\n",
    "values = [1.0e-3, 3.33e-4, 1.0e-4]\n",
    "learning_rate_fn = PiecewiseConstantDecay(boundaries, values)"
   ]
  },
  {
   "cell_type": "markdown",
   "metadata": {},
   "source": [
    "# Cross validation"
   ]
  },
  {
   "cell_type": "code",
   "execution_count": 18,
   "metadata": {},
   "outputs": [],
   "source": [
    "today = datetime.now()\n",
    "# create a folder based on date & time\n",
    "fit_result_path1 = os.path.join(fit_result_path, today.strftime('%Y%m%d_%H%M%S'))"
   ]
  },
  {
   "cell_type": "markdown",
   "metadata": {},
   "source": [
    "## STAR2000"
   ]
  },
  {
   "cell_type": "code",
   "execution_count": 19,
   "metadata": {},
   "outputs": [
    {
     "name": "stdout",
     "output_type": "stream",
     "text": [
      "STAR2000\n"
     ]
    }
   ],
   "source": [
    "ee = deployment[0]\n",
    "print(ee)"
   ]
  },
  {
   "cell_type": "code",
   "execution_count": 20,
   "metadata": {},
   "outputs": [],
   "source": [
    "# Training data\n",
    "fea_temp = np.load(os.path.join(feature_path, 'train_oswald_no_'+ee+'.npz'))\n",
    "fea_train = fea_temp['fea_train']\n",
    "label_train_list = fea_temp['label_train']\n",
    "del fea_temp"
   ]
  },
  {
   "cell_type": "code",
   "execution_count": 21,
   "metadata": {},
   "outputs": [],
   "source": [
    "label_train = np.zeros(len(label_train_list))\n",
    "for ii in range(len(label_train_list)):\n",
    "    label_train[ii] = species_dict[label_train_list[ii]]"
   ]
  },
  {
   "cell_type": "code",
   "execution_count": 22,
   "metadata": {},
   "outputs": [],
   "source": [
    "# Testing data\n",
    "fea_temp = np.load(os.path.join(feature_path, 'oswald_'+ee+'_orig.npz'))\n",
    "fea_test = fea_temp['feas_orig']\n",
    "label_test_list = fea_temp['labels_orig']\n",
    "\n",
    "fea_test = fea_test[:,:100,:]\n",
    "label_test = np.zeros(len(label_test_list))\n",
    "for ii in range(len(label_test_list)):\n",
    "    label_test[ii] = species_dict[label_test_list[ii]]"
   ]
  },
  {
   "cell_type": "code",
   "execution_count": 23,
   "metadata": {},
   "outputs": [],
   "source": [
    "fea_train = fea_train[:,:100,:]"
   ]
  },
  {
   "cell_type": "code",
   "execution_count": 24,
   "metadata": {},
   "outputs": [],
   "source": [
    "label_train = np.zeros(len(label_train_list))\n",
    "for ii in range(len(label_train_list)):\n",
    "    label_train[ii] = species_dict[label_train_list[ii]]"
   ]
  },
  {
   "cell_type": "code",
   "execution_count": 25,
   "metadata": {
    "scrolled": true
   },
   "outputs": [
    {
     "data": {
      "text/plain": [
       "Counter({'BD': 15028,\n",
       "         'CD': 4848,\n",
       "         'FKW': 20160,\n",
       "         'SPIN': 5734,\n",
       "         'SPT': 13436,\n",
       "         'STR': 12528,\n",
       "         'PLT': 14288,\n",
       "         'RT': 10944})"
      ]
     },
     "execution_count": 25,
     "metadata": {},
     "output_type": "execute_result"
    }
   ],
   "source": [
    "Counter(label_train_list)"
   ]
  },
  {
   "cell_type": "code",
   "execution_count": 26,
   "metadata": {},
   "outputs": [
    {
     "data": {
      "text/plain": [
       "Counter({0.0: 121, 1.0: 3964, 5.0: 31, 6.0: 76, 4.0: 491, 3.0: 845, 2.0: 1140})"
      ]
     },
     "execution_count": 26,
     "metadata": {},
     "output_type": "execute_result"
    }
   ],
   "source": [
    "Counter(label_test.tolist())"
   ]
  },
  {
   "cell_type": "code",
   "execution_count": 27,
   "metadata": {},
   "outputs": [],
   "source": [
    "fit_result_path2 = os.path.join(fit_result_path1, ee)\n",
    "if not os.path.exists(fit_result_path2):\n",
    "    makedirs(fit_result_path2)"
   ]
  },
  {
   "cell_type": "code",
   "execution_count": 28,
   "metadata": {},
   "outputs": [
    {
     "name": "stdout",
     "output_type": "stream",
     "text": [
      "feature train shape: (96966, 100, 128)\n",
      "feature test shape: (6668, 100, 128)\n",
      "label train shape: (96966,)\n",
      "label test shape: (6668,)\n",
      "dim_time: 100\n",
      "dim_freq: 128\n"
     ]
    }
   ],
   "source": [
    "print('feature train shape: '+str(fea_train.shape))\n",
    "print('feature test shape: '+str(fea_test.shape))\n",
    "print('label train shape: '+str(label_train.shape))\n",
    "print('label test shape: '+str(label_test.shape))\n",
    "\n",
    "dim_time = fea_train.shape[1]\n",
    "dim_freq = fea_train.shape[2]\n",
    "print('dim_time: '+str(dim_time))\n",
    "print('dim_freq: '+str(dim_freq))"
   ]
  },
  {
   "cell_type": "code",
   "execution_count": 29,
   "metadata": {},
   "outputs": [],
   "source": [
    "# shuffle features & labels\n",
    "fea_train, label_train = shuffle(fea_train, label_train, random_state=0)\n",
    "fea_test, label_test = shuffle(fea_test, label_test, random_state=0)"
   ]
  },
  {
   "cell_type": "code",
   "execution_count": 30,
   "metadata": {},
   "outputs": [],
   "source": [
    "# class weight\n",
    "weights = compute_class_weight(class_weight='balanced', classes=np.unique(label_train), y=label_train)\n",
    "\n",
    "class_weights = dict()\n",
    "for ii in range(num_species):\n",
    "    class_weights[ii] = weights[ii]"
   ]
  },
  {
   "cell_type": "code",
   "execution_count": 31,
   "metadata": {},
   "outputs": [],
   "source": [
    "fea_train = np.expand_dims(fea_train, axis=3)\n",
    "fea_test = np.expand_dims(fea_test, axis=3)"
   ]
  },
  {
   "cell_type": "code",
   "execution_count": 32,
   "metadata": {},
   "outputs": [],
   "source": [
    "fea_train, fea_validate, label_train, label_validate = train_test_split(fea_train, label_train, test_size=0.30, random_state=42)\n",
    "\n",
    "train_generator = DataGenerator(fea_train, label_train, batch_size=batch_size, num_classes=num_species)\n",
    "del fea_train\n",
    "validate_generator = DataGenerator(fea_validate, label_validate, batch_size=batch_size, num_classes=num_species)\n",
    "del fea_validate\n",
    "\n",
    "# test_generator = DataGenerator(fea_test, label_test, batch_size=batch_size, num_classes=num_species)\n"
   ]
  },
  {
   "cell_type": "markdown",
   "metadata": {},
   "source": [
    "### Training the model"
   ]
  },
  {
   "cell_type": "code",
   "execution_count": 33,
   "metadata": {
    "scrolled": true
   },
   "outputs": [
    {
     "name": "stdout",
     "output_type": "stream",
     "text": [
      "Model: \"model\"\n",
      "_________________________________________________________________\n",
      "Layer (type)                 Output Shape              Param #   \n",
      "=================================================================\n",
      "input (InputLayer)           [(None, 100, 128, 1)]     0         \n",
      "_________________________________________________________________\n",
      "conv2d (Conv2D)              (None, 100, 128, 16)      160       \n",
      "_________________________________________________________________\n",
      "batch_normalization (BatchNo (None, 100, 128, 16)      64        \n",
      "_________________________________________________________________\n",
      "activation (Activation)      (None, 100, 128, 16)      0         \n",
      "_________________________________________________________________\n",
      "conv2d_1 (Conv2D)            (None, 100, 128, 16)      2320      \n",
      "_________________________________________________________________\n",
      "batch_normalization_1 (Batch (None, 100, 128, 16)      64        \n",
      "_________________________________________________________________\n",
      "activation_1 (Activation)    (None, 100, 128, 16)      0         \n",
      "_________________________________________________________________\n",
      "max_pooling2d (MaxPooling2D) (None, 50, 64, 16)        0         \n",
      "_________________________________________________________________\n",
      "dropout (Dropout)            (None, 50, 64, 16)        0         \n",
      "_________________________________________________________________\n",
      "conv2d_2 (Conv2D)            (None, 50, 64, 32)        4640      \n",
      "_________________________________________________________________\n",
      "batch_normalization_2 (Batch (None, 50, 64, 32)        128       \n",
      "_________________________________________________________________\n",
      "activation_2 (Activation)    (None, 50, 64, 32)        0         \n",
      "_________________________________________________________________\n",
      "conv2d_3 (Conv2D)            (None, 50, 64, 32)        9248      \n",
      "_________________________________________________________________\n",
      "batch_normalization_3 (Batch (None, 50, 64, 32)        128       \n",
      "_________________________________________________________________\n",
      "activation_3 (Activation)    (None, 50, 64, 32)        0         \n",
      "_________________________________________________________________\n",
      "max_pooling2d_1 (MaxPooling2 (None, 25, 32, 32)        0         \n",
      "_________________________________________________________________\n",
      "dropout_1 (Dropout)          (None, 25, 32, 32)        0         \n",
      "_________________________________________________________________\n",
      "conv2d_4 (Conv2D)            (None, 25, 32, 64)        18496     \n",
      "_________________________________________________________________\n",
      "batch_normalization_4 (Batch (None, 25, 32, 64)        256       \n",
      "_________________________________________________________________\n",
      "activation_4 (Activation)    (None, 25, 32, 64)        0         \n",
      "_________________________________________________________________\n",
      "conv2d_5 (Conv2D)            (None, 25, 32, 64)        36928     \n",
      "_________________________________________________________________\n",
      "batch_normalization_5 (Batch (None, 25, 32, 64)        256       \n",
      "_________________________________________________________________\n",
      "activation_5 (Activation)    (None, 25, 32, 64)        0         \n",
      "_________________________________________________________________\n",
      "max_pooling2d_2 (MaxPooling2 (None, 13, 16, 64)        0         \n",
      "_________________________________________________________________\n",
      "dropout_2 (Dropout)          (None, 13, 16, 64)        0         \n",
      "_________________________________________________________________\n",
      "conv2d_6 (Conv2D)            (None, 13, 16, 128)       73856     \n",
      "_________________________________________________________________\n",
      "batch_normalization_6 (Batch (None, 13, 16, 128)       512       \n",
      "_________________________________________________________________\n",
      "activation_6 (Activation)    (None, 13, 16, 128)       0         \n",
      "_________________________________________________________________\n",
      "conv2d_7 (Conv2D)            (None, 13, 16, 128)       147584    \n",
      "_________________________________________________________________\n",
      "batch_normalization_7 (Batch (None, 13, 16, 128)       512       \n",
      "_________________________________________________________________\n",
      "activation_7 (Activation)    (None, 13, 16, 128)       0         \n",
      "_________________________________________________________________\n",
      "max_pooling2d_3 (MaxPooling2 (None, 7, 8, 128)         0         \n",
      "_________________________________________________________________\n",
      "dropout_3 (Dropout)          (None, 7, 8, 128)         0         \n",
      "_________________________________________________________________\n",
      "conv2d_8 (Conv2D)            (None, 7, 8, 256)         295168    \n",
      "_________________________________________________________________\n",
      "batch_normalization_8 (Batch (None, 7, 8, 256)         1024      \n",
      "_________________________________________________________________\n",
      "activation_8 (Activation)    (None, 7, 8, 256)         0         \n",
      "_________________________________________________________________\n",
      "conv2d_9 (Conv2D)            (None, 7, 8, 256)         590080    \n",
      "_________________________________________________________________\n",
      "batch_normalization_9 (Batch (None, 7, 8, 256)         1024      \n",
      "_________________________________________________________________\n",
      "activation_9 (Activation)    (None, 7, 8, 256)         0         \n",
      "_________________________________________________________________\n",
      "spatial_pyramid_pooling2d (S (None, 21, 256)           0         \n",
      "_________________________________________________________________\n",
      "reshape (Reshape)            (None, 5376)              0         \n",
      "_________________________________________________________________\n",
      "cnn14_fcn (Dense)            (None, 256)               1376512   \n",
      "_________________________________________________________________\n",
      "dense (Dense)                (None, 8)                 2056      \n",
      "=================================================================\n",
      "Total params: 2,561,016\n",
      "Trainable params: 2,559,032\n",
      "Non-trainable params: 1,984\n",
      "_________________________________________________________________\n",
      "Epoch 1/200\n",
      "4242/4242 [==============================] - ETA: 0s - loss: 1.8834 - accuracy: 0.2600\n",
      "Epoch 00001: val_loss improved from inf to 4.34029, saving model to /home/ys587/__Data/__whistle/__whislte_30_species/__fit_result_species/20210224_190600/STAR2000/epoch_01_valloss_4.3403_valacc_0.1751.hdf5\n",
      "4242/4242 [==============================] - 64s 15ms/step - loss: 1.8834 - accuracy: 0.2600 - val_loss: 4.3403 - val_accuracy: 0.1751\n",
      "Epoch 2/200\n",
      "4240/4242 [============================>.] - ETA: 0s - loss: 1.5758 - accuracy: 0.3912\n",
      "Epoch 00002: val_loss improved from 4.34029 to 1.92442, saving model to /home/ys587/__Data/__whistle/__whislte_30_species/__fit_result_species/20210224_190600/STAR2000/epoch_02_valloss_1.9244_valacc_0.3730.hdf5\n",
      "4242/4242 [==============================] - 63s 15ms/step - loss: 1.5755 - accuracy: 0.3913 - val_loss: 1.9244 - val_accuracy: 0.3730\n",
      "Epoch 3/200\n",
      "4241/4242 [============================>.] - ETA: 0s - loss: 1.4030 - accuracy: 0.4769\n",
      "Epoch 00003: val_loss improved from 1.92442 to 1.66332, saving model to /home/ys587/__Data/__whistle/__whislte_30_species/__fit_result_species/20210224_190600/STAR2000/epoch_03_valloss_1.6633_valacc_0.4224.hdf5\n",
      "4242/4242 [==============================] - 63s 15ms/step - loss: 1.4030 - accuracy: 0.4769 - val_loss: 1.6633 - val_accuracy: 0.4224\n",
      "Epoch 4/200\n",
      "4239/4242 [============================>.] - ETA: 0s - loss: 1.2927 - accuracy: 0.5294\n",
      "Epoch 00004: val_loss improved from 1.66332 to 1.27582, saving model to /home/ys587/__Data/__whistle/__whislte_30_species/__fit_result_species/20210224_190600/STAR2000/epoch_04_valloss_1.2758_valacc_0.5303.hdf5\n",
      "4242/4242 [==============================] - 63s 15ms/step - loss: 1.2928 - accuracy: 0.5293 - val_loss: 1.2758 - val_accuracy: 0.5303\n",
      "Epoch 5/200\n",
      "4240/4242 [============================>.] - ETA: 0s - loss: 1.2205 - accuracy: 0.5616\n",
      "Epoch 00005: val_loss improved from 1.27582 to 1.19199, saving model to /home/ys587/__Data/__whistle/__whislte_30_species/__fit_result_species/20210224_190600/STAR2000/epoch_05_valloss_1.1920_valacc_0.5581.hdf5\n",
      "4242/4242 [==============================] - 64s 15ms/step - loss: 1.2204 - accuracy: 0.5617 - val_loss: 1.1920 - val_accuracy: 0.5581\n",
      "Epoch 6/200\n",
      "4242/4242 [==============================] - ETA: 0s - loss: 1.1587 - accuracy: 0.5831\n",
      "Epoch 00006: val_loss did not improve from 1.19199\n",
      "4242/4242 [==============================] - 63s 15ms/step - loss: 1.1587 - accuracy: 0.5831 - val_loss: 2.3745 - val_accuracy: 0.4468\n",
      "Epoch 7/200\n",
      "4242/4242 [==============================] - ETA: 0s - loss: 1.1061 - accuracy: 0.6019\n",
      "Epoch 00007: val_loss improved from 1.19199 to 1.06540, saving model to /home/ys587/__Data/__whistle/__whislte_30_species/__fit_result_species/20210224_190600/STAR2000/epoch_07_valloss_1.0654_valacc_0.6143.hdf5\n",
      "4242/4242 [==============================] - 63s 15ms/step - loss: 1.1061 - accuracy: 0.6019 - val_loss: 1.0654 - val_accuracy: 0.6143\n",
      "Epoch 8/200\n",
      "4241/4242 [============================>.] - ETA: 0s - loss: 1.0626 - accuracy: 0.6149\n",
      "Epoch 00008: val_loss did not improve from 1.06540\n",
      "4242/4242 [==============================] - 63s 15ms/step - loss: 1.0625 - accuracy: 0.6149 - val_loss: 3.1519 - val_accuracy: 0.3675\n",
      "Epoch 9/200\n",
      "4239/4242 [============================>.] - ETA: 0s - loss: 1.0182 - accuracy: 0.6313\n",
      "Epoch 00009: val_loss did not improve from 1.06540\n",
      "4242/4242 [==============================] - 63s 15ms/step - loss: 1.0183 - accuracy: 0.6313 - val_loss: 1.0663 - val_accuracy: 0.6136\n",
      "Epoch 10/200\n",
      "4241/4242 [============================>.] - ETA: 0s - loss: 0.9778 - accuracy: 0.6451\n",
      "Epoch 00010: val_loss did not improve from 1.06540\n",
      "4242/4242 [==============================] - 63s 15ms/step - loss: 0.9778 - accuracy: 0.6451 - val_loss: 1.7407 - val_accuracy: 0.4959\n",
      "Epoch 11/200\n",
      "4239/4242 [============================>.] - ETA: 0s - loss: 0.9463 - accuracy: 0.6567\n",
      "Epoch 00011: val_loss did not improve from 1.06540\n",
      "4242/4242 [==============================] - 63s 15ms/step - loss: 0.9462 - accuracy: 0.6568 - val_loss: 1.0804 - val_accuracy: 0.6196\n",
      "Epoch 12/200\n",
      "4241/4242 [============================>.] - ETA: 0s - loss: 0.9090 - accuracy: 0.6685\n",
      "Epoch 00012: val_loss did not improve from 1.06540\n",
      "4242/4242 [==============================] - 63s 15ms/step - loss: 0.9090 - accuracy: 0.6685 - val_loss: 1.3025 - val_accuracy: 0.5574\n",
      "Epoch 13/200\n",
      "4242/4242 [==============================] - ETA: 0s - loss: 0.8771 - accuracy: 0.6811\n",
      "Epoch 00013: val_loss did not improve from 1.06540\n",
      "4242/4242 [==============================] - 63s 15ms/step - loss: 0.8771 - accuracy: 0.6811 - val_loss: 1.0909 - val_accuracy: 0.6187\n",
      "Epoch 14/200\n",
      "4238/4242 [============================>.] - ETA: 0s - loss: 0.8483 - accuracy: 0.6916\n",
      "Epoch 00014: val_loss did not improve from 1.06540\n",
      "4242/4242 [==============================] - 63s 15ms/step - loss: 0.8483 - accuracy: 0.6916 - val_loss: 1.3507 - val_accuracy: 0.5905\n",
      "Epoch 15/200\n",
      "4241/4242 [============================>.] - ETA: 0s - loss: 0.8185 - accuracy: 0.7016\n",
      "Epoch 00015: val_loss did not improve from 1.06540\n",
      "4242/4242 [==============================] - 63s 15ms/step - loss: 0.8185 - accuracy: 0.7016 - val_loss: 1.2108 - val_accuracy: 0.5739\n",
      "Epoch 16/200\n",
      "4241/4242 [============================>.] - ETA: 0s - loss: 0.7880 - accuracy: 0.7127\n",
      "Epoch 00016: val_loss did not improve from 1.06540\n",
      "4242/4242 [==============================] - 63s 15ms/step - loss: 0.7881 - accuracy: 0.7127 - val_loss: 1.1890 - val_accuracy: 0.6158\n",
      "Epoch 17/200\n",
      "4242/4242 [==============================] - ETA: 0s - loss: 0.7674 - accuracy: 0.7204\n",
      "Epoch 00017: val_loss improved from 1.06540 to 0.97894, saving model to /home/ys587/__Data/__whistle/__whislte_30_species/__fit_result_species/20210224_190600/STAR2000/epoch_17_valloss_0.9789_valacc_0.6710.hdf5\n",
      "4242/4242 [==============================] - 63s 15ms/step - loss: 0.7674 - accuracy: 0.7204 - val_loss: 0.9789 - val_accuracy: 0.6710\n",
      "Epoch 18/200\n",
      "4240/4242 [============================>.] - ETA: 0s - loss: 0.7406 - accuracy: 0.7270\n",
      "Epoch 00018: val_loss did not improve from 0.97894\n",
      "4242/4242 [==============================] - 63s 15ms/step - loss: 0.7408 - accuracy: 0.7270 - val_loss: 1.0461 - val_accuracy: 0.6593\n",
      "Epoch 19/200\n",
      "4241/4242 [============================>.] - ETA: 0s - loss: 0.7166 - accuracy: 0.7345\n",
      "Epoch 00019: val_loss improved from 0.97894 to 0.93784, saving model to /home/ys587/__Data/__whistle/__whislte_30_species/__fit_result_species/20210224_190600/STAR2000/epoch_19_valloss_0.9378_valacc_0.6751.hdf5\n",
      "4242/4242 [==============================] - 63s 15ms/step - loss: 0.7166 - accuracy: 0.7345 - val_loss: 0.9378 - val_accuracy: 0.6751\n",
      "Epoch 20/200\n",
      "4240/4242 [============================>.] - ETA: 0s - loss: 0.6959 - accuracy: 0.7424\n",
      "Epoch 00020: val_loss did not improve from 0.93784\n",
      "4242/4242 [==============================] - 63s 15ms/step - loss: 0.6960 - accuracy: 0.7423 - val_loss: 1.0864 - val_accuracy: 0.6412\n",
      "Epoch 21/200\n",
      "4240/4242 [============================>.] - ETA: 0s - loss: 0.6760 - accuracy: 0.7498\n",
      "Epoch 00021: val_loss did not improve from 0.93784\n",
      "4242/4242 [==============================] - 63s 15ms/step - loss: 0.6760 - accuracy: 0.7498 - val_loss: 1.3673 - val_accuracy: 0.6078\n",
      "Epoch 22/200\n",
      "4242/4242 [==============================] - ETA: 0s - loss: 0.6547 - accuracy: 0.7581\n",
      "Epoch 00022: val_loss improved from 0.93784 to 0.92827, saving model to /home/ys587/__Data/__whistle/__whislte_30_species/__fit_result_species/20210224_190600/STAR2000/epoch_22_valloss_0.9283_valacc_0.6738.hdf5\n",
      "4242/4242 [==============================] - 63s 15ms/step - loss: 0.6547 - accuracy: 0.7581 - val_loss: 0.9283 - val_accuracy: 0.6738\n",
      "Epoch 23/200\n",
      "4241/4242 [============================>.] - ETA: 0s - loss: 0.6397 - accuracy: 0.7610\n",
      "Epoch 00023: val_loss did not improve from 0.92827\n",
      "4242/4242 [==============================] - 63s 15ms/step - loss: 0.6397 - accuracy: 0.7610 - val_loss: 0.9587 - val_accuracy: 0.6725\n",
      "Epoch 24/200\n",
      "4238/4242 [============================>.] - ETA: 0s - loss: 0.6203 - accuracy: 0.7704\n",
      "Epoch 00024: val_loss did not improve from 0.92827\n",
      "4242/4242 [==============================] - 63s 15ms/step - loss: 0.6203 - accuracy: 0.7704 - val_loss: 0.9445 - val_accuracy: 0.6848\n",
      "Epoch 25/200\n",
      "4242/4242 [==============================] - ETA: 0s - loss: 0.6047 - accuracy: 0.7747\n",
      "Epoch 00025: val_loss improved from 0.92827 to 0.91352, saving model to /home/ys587/__Data/__whistle/__whislte_30_species/__fit_result_species/20210224_190600/STAR2000/epoch_25_valloss_0.9135_valacc_0.6947.hdf5\n",
      "4242/4242 [==============================] - 63s 15ms/step - loss: 0.6047 - accuracy: 0.7747 - val_loss: 0.9135 - val_accuracy: 0.6947\n",
      "Epoch 26/200\n",
      "4241/4242 [============================>.] - ETA: 0s - loss: 0.5889 - accuracy: 0.7798\n",
      "Epoch 00026: val_loss did not improve from 0.91352\n",
      "4242/4242 [==============================] - 63s 15ms/step - loss: 0.5889 - accuracy: 0.7798 - val_loss: 1.0604 - val_accuracy: 0.6512\n",
      "Epoch 27/200\n",
      "4240/4242 [============================>.] - ETA: 0s - loss: 0.5759 - accuracy: 0.7825\n",
      "Epoch 00027: val_loss did not improve from 0.91352\n",
      "4242/4242 [==============================] - 63s 15ms/step - loss: 0.5759 - accuracy: 0.7826 - val_loss: 1.1133 - val_accuracy: 0.6471\n",
      "Epoch 28/200\n",
      "4240/4242 [============================>.] - ETA: 0s - loss: 0.5634 - accuracy: 0.7888\n",
      "Epoch 00028: val_loss did not improve from 0.91352\n",
      "4242/4242 [==============================] - 63s 15ms/step - loss: 0.5634 - accuracy: 0.7888 - val_loss: 1.1653 - val_accuracy: 0.6381\n",
      "Epoch 29/200\n",
      "4242/4242 [==============================] - ETA: 0s - loss: 0.5465 - accuracy: 0.7964\n",
      "Epoch 00029: val_loss did not improve from 0.91352\n",
      "4242/4242 [==============================] - 63s 15ms/step - loss: 0.5465 - accuracy: 0.7964 - val_loss: 1.1432 - val_accuracy: 0.6391\n",
      "Epoch 30/200\n",
      "4242/4242 [==============================] - ETA: 0s - loss: 0.5325 - accuracy: 0.7982\n",
      "Epoch 00030: val_loss did not improve from 0.91352\n",
      "4242/4242 [==============================] - 63s 15ms/step - loss: 0.5325 - accuracy: 0.7982 - val_loss: 0.9548 - val_accuracy: 0.6864\n",
      "Epoch 31/200\n",
      "4240/4242 [============================>.] - ETA: 0s - loss: 0.5249 - accuracy: 0.8020\n",
      "Epoch 00031: val_loss did not improve from 0.91352\n",
      "4242/4242 [==============================] - 63s 15ms/step - loss: 0.5248 - accuracy: 0.8021 - val_loss: 1.1401 - val_accuracy: 0.6793\n",
      "Epoch 32/200\n",
      "4240/4242 [============================>.] - ETA: 0s - loss: 0.5085 - accuracy: 0.8089\n",
      "Epoch 00032: val_loss did not improve from 0.91352\n",
      "4242/4242 [==============================] - 63s 15ms/step - loss: 0.5085 - accuracy: 0.8089 - val_loss: 1.8121 - val_accuracy: 0.5375\n",
      "Epoch 33/200\n",
      "4239/4242 [============================>.] - ETA: 0s - loss: 0.5064 - accuracy: 0.8090\n",
      "Epoch 00033: val_loss improved from 0.91352 to 0.90596, saving model to /home/ys587/__Data/__whistle/__whislte_30_species/__fit_result_species/20210224_190600/STAR2000/epoch_33_valloss_0.9060_valacc_0.7103.hdf5\n",
      "4242/4242 [==============================] - 63s 15ms/step - loss: 0.5062 - accuracy: 0.8091 - val_loss: 0.9060 - val_accuracy: 0.7103\n",
      "Epoch 34/200\n",
      "4239/4242 [============================>.] - ETA: 0s - loss: 0.4839 - accuracy: 0.8162\n",
      "Epoch 00034: val_loss did not improve from 0.90596\n",
      "4242/4242 [==============================] - 63s 15ms/step - loss: 0.4839 - accuracy: 0.8162 - val_loss: 1.0385 - val_accuracy: 0.6678\n",
      "Epoch 35/200\n",
      "4241/4242 [============================>.] - ETA: 0s - loss: 0.4799 - accuracy: 0.8186\n",
      "Epoch 00035: val_loss did not improve from 0.90596\n",
      "4242/4242 [==============================] - 63s 15ms/step - loss: 0.4799 - accuracy: 0.8186 - val_loss: 1.2201 - val_accuracy: 0.6610\n",
      "Epoch 36/200\n",
      "4240/4242 [============================>.] - ETA: 0s - loss: 0.4716 - accuracy: 0.8230\n",
      "Epoch 00036: val_loss did not improve from 0.90596\n",
      "4242/4242 [==============================] - 63s 15ms/step - loss: 0.4718 - accuracy: 0.8229 - val_loss: 0.9656 - val_accuracy: 0.7035\n",
      "Epoch 37/200\n",
      "4241/4242 [============================>.] - ETA: 0s - loss: 0.4589 - accuracy: 0.8250\n",
      "Epoch 00037: val_loss did not improve from 0.90596\n",
      "4242/4242 [==============================] - 63s 15ms/step - loss: 0.4588 - accuracy: 0.8250 - val_loss: 0.9578 - val_accuracy: 0.7056\n",
      "Epoch 38/200\n",
      "4241/4242 [============================>.] - ETA: 0s - loss: 0.4551 - accuracy: 0.8272\n",
      "Epoch 00038: val_loss improved from 0.90596 to 0.90504, saving model to /home/ys587/__Data/__whistle/__whislte_30_species/__fit_result_species/20210224_190600/STAR2000/epoch_38_valloss_0.9050_valacc_0.7103.hdf5\n",
      "4242/4242 [==============================] - 63s 15ms/step - loss: 0.4552 - accuracy: 0.8272 - val_loss: 0.9050 - val_accuracy: 0.7103\n",
      "Epoch 39/200\n",
      "4242/4242 [==============================] - ETA: 0s - loss: 0.4387 - accuracy: 0.8334\n",
      "Epoch 00039: val_loss did not improve from 0.90504\n",
      "4242/4242 [==============================] - 63s 15ms/step - loss: 0.4387 - accuracy: 0.8334 - val_loss: 1.0989 - val_accuracy: 0.6832\n",
      "Epoch 40/200\n",
      "4242/4242 [==============================] - ETA: 0s - loss: 0.4329 - accuracy: 0.8347\n",
      "Epoch 00040: val_loss did not improve from 0.90504\n",
      "4242/4242 [==============================] - 63s 15ms/step - loss: 0.4329 - accuracy: 0.8347 - val_loss: 0.9658 - val_accuracy: 0.7057\n",
      "Epoch 41/200\n",
      "4242/4242 [==============================] - ETA: 0s - loss: 0.4290 - accuracy: 0.8385\n",
      "Epoch 00041: val_loss did not improve from 0.90504\n",
      "4242/4242 [==============================] - 63s 15ms/step - loss: 0.4290 - accuracy: 0.8385 - val_loss: 0.9506 - val_accuracy: 0.7256\n",
      "Epoch 42/200\n",
      "4239/4242 [============================>.] - ETA: 0s - loss: 0.4184 - accuracy: 0.8421\n",
      "Epoch 00042: val_loss improved from 0.90504 to 0.89031, saving model to /home/ys587/__Data/__whistle/__whislte_30_species/__fit_result_species/20210224_190600/STAR2000/epoch_42_valloss_0.8903_valacc_0.7304.hdf5\n",
      "4242/4242 [==============================] - 63s 15ms/step - loss: 0.4183 - accuracy: 0.8421 - val_loss: 0.8903 - val_accuracy: 0.7304\n",
      "Epoch 43/200\n",
      "4239/4242 [============================>.] - ETA: 0s - loss: 0.4153 - accuracy: 0.8426\n",
      "Epoch 00043: val_loss did not improve from 0.89031\n",
      "4242/4242 [==============================] - 63s 15ms/step - loss: 0.4154 - accuracy: 0.8426 - val_loss: 0.9831 - val_accuracy: 0.6947\n",
      "Epoch 44/200\n",
      "4241/4242 [============================>.] - ETA: 0s - loss: 0.4052 - accuracy: 0.8469\n",
      "Epoch 00044: val_loss did not improve from 0.89031\n",
      "4242/4242 [==============================] - 63s 15ms/step - loss: 0.4051 - accuracy: 0.8469 - val_loss: 0.9574 - val_accuracy: 0.7118\n",
      "Epoch 45/200\n",
      "4239/4242 [============================>.] - ETA: 0s - loss: 0.4013 - accuracy: 0.8471\n",
      "Epoch 00045: val_loss did not improve from 0.89031\n",
      "4242/4242 [==============================] - 63s 15ms/step - loss: 0.4013 - accuracy: 0.8471 - val_loss: 1.1280 - val_accuracy: 0.6824\n",
      "Epoch 46/200\n",
      "4238/4242 [============================>.] - ETA: 0s - loss: 0.3920 - accuracy: 0.8503\n",
      "Epoch 00046: val_loss did not improve from 0.89031\n",
      "4242/4242 [==============================] - 63s 15ms/step - loss: 0.3922 - accuracy: 0.8502 - val_loss: 1.1115 - val_accuracy: 0.6945\n",
      "Epoch 47/200\n",
      "4242/4242 [==============================] - ETA: 0s - loss: 0.3874 - accuracy: 0.8535\n",
      "Epoch 00047: val_loss did not improve from 0.89031\n",
      "4242/4242 [==============================] - 63s 15ms/step - loss: 0.3874 - accuracy: 0.8535 - val_loss: 1.2209 - val_accuracy: 0.6579\n",
      "Epoch 48/200\n",
      "4239/4242 [============================>.] - ETA: 0s - loss: 0.3819 - accuracy: 0.8537\n",
      "Epoch 00048: val_loss did not improve from 0.89031\n",
      "4242/4242 [==============================] - 63s 15ms/step - loss: 0.3819 - accuracy: 0.8536 - val_loss: 0.9647 - val_accuracy: 0.7201\n",
      "Epoch 49/200\n",
      "4240/4242 [============================>.] - ETA: 0s - loss: 0.3729 - accuracy: 0.8578\n",
      "Epoch 00049: val_loss did not improve from 0.89031\n",
      "4242/4242 [==============================] - 63s 15ms/step - loss: 0.3728 - accuracy: 0.8579 - val_loss: 1.0323 - val_accuracy: 0.7229\n",
      "Epoch 50/200\n",
      "4240/4242 [============================>.] - ETA: 0s - loss: 0.3661 - accuracy: 0.8604\n",
      "Epoch 00050: val_loss did not improve from 0.89031\n",
      "4242/4242 [==============================] - 63s 15ms/step - loss: 0.3661 - accuracy: 0.8604 - val_loss: 1.0161 - val_accuracy: 0.7036\n",
      "Epoch 51/200\n",
      "4242/4242 [==============================] - ETA: 0s - loss: 0.3660 - accuracy: 0.8607\n",
      "Epoch 00051: val_loss did not improve from 0.89031\n",
      "4242/4242 [==============================] - 63s 15ms/step - loss: 0.3660 - accuracy: 0.8607 - val_loss: 1.0344 - val_accuracy: 0.7082\n",
      "Epoch 52/200\n",
      "4239/4242 [============================>.] - ETA: 0s - loss: 0.3565 - accuracy: 0.8643\n",
      "Epoch 00052: val_loss did not improve from 0.89031\n",
      "4242/4242 [==============================] - 63s 15ms/step - loss: 0.3565 - accuracy: 0.8643 - val_loss: 1.0568 - val_accuracy: 0.7051\n",
      "Epoch 53/200\n",
      "4240/4242 [============================>.] - ETA: 0s - loss: 0.3525 - accuracy: 0.8654\n",
      "Epoch 00053: val_loss did not improve from 0.89031\n",
      "4242/4242 [==============================] - 63s 15ms/step - loss: 0.3525 - accuracy: 0.8654 - val_loss: 1.0993 - val_accuracy: 0.6882\n",
      "Epoch 54/200\n",
      "4241/4242 [============================>.] - ETA: 0s - loss: 0.3521 - accuracy: 0.8660\n",
      "Epoch 00054: val_loss did not improve from 0.89031\n",
      "4242/4242 [==============================] - 64s 15ms/step - loss: 0.3522 - accuracy: 0.8659 - val_loss: 1.1321 - val_accuracy: 0.7027\n",
      "Epoch 55/200\n",
      "4242/4242 [==============================] - ETA: 0s - loss: 0.3423 - accuracy: 0.8692\n",
      "Epoch 00055: val_loss did not improve from 0.89031\n",
      "4242/4242 [==============================] - 63s 15ms/step - loss: 0.3423 - accuracy: 0.8692 - val_loss: 1.0263 - val_accuracy: 0.7135\n",
      "Epoch 56/200\n",
      "4240/4242 [============================>.] - ETA: 0s - loss: 0.3386 - accuracy: 0.8707\n",
      "Epoch 00056: val_loss did not improve from 0.89031\n",
      "4242/4242 [==============================] - 64s 15ms/step - loss: 0.3386 - accuracy: 0.8707 - val_loss: 1.0832 - val_accuracy: 0.7091\n",
      "Epoch 57/200\n",
      "4240/4242 [============================>.] - ETA: 0s - loss: 0.3313 - accuracy: 0.8738\n",
      "Epoch 00057: val_loss did not improve from 0.89031\n",
      "4242/4242 [==============================] - 63s 15ms/step - loss: 0.3312 - accuracy: 0.8739 - val_loss: 1.0372 - val_accuracy: 0.7060\n",
      "Epoch 58/200\n",
      "4239/4242 [============================>.] - ETA: 0s - loss: 0.3286 - accuracy: 0.8738\n",
      "Epoch 00058: val_loss did not improve from 0.89031\n",
      "4242/4242 [==============================] - 63s 15ms/step - loss: 0.3287 - accuracy: 0.8737 - val_loss: 1.1174 - val_accuracy: 0.7036\n",
      "Epoch 59/200\n",
      "4242/4242 [==============================] - ETA: 0s - loss: 0.3234 - accuracy: 0.8765\n",
      "Epoch 00059: val_loss did not improve from 0.89031\n",
      "4242/4242 [==============================] - 63s 15ms/step - loss: 0.3234 - accuracy: 0.8765 - val_loss: 1.0840 - val_accuracy: 0.7125\n",
      "Epoch 60/200\n",
      "4240/4242 [============================>.] - ETA: 0s - loss: 0.3223 - accuracy: 0.8781\n",
      "Epoch 00060: val_loss did not improve from 0.89031\n",
      "4242/4242 [==============================] - 63s 15ms/step - loss: 0.3223 - accuracy: 0.8781 - val_loss: 0.9858 - val_accuracy: 0.7209\n",
      "Epoch 61/200\n",
      "4241/4242 [============================>.] - ETA: 0s - loss: 0.3169 - accuracy: 0.8792\n",
      "Epoch 00061: val_loss did not improve from 0.89031\n",
      "4242/4242 [==============================] - 63s 15ms/step - loss: 0.3169 - accuracy: 0.8792 - val_loss: 0.9913 - val_accuracy: 0.7249\n",
      "Epoch 62/200\n",
      "4242/4242 [==============================] - ETA: 0s - loss: 0.3129 - accuracy: 0.8806\n",
      "Epoch 00062: val_loss did not improve from 0.89031\n",
      "4242/4242 [==============================] - 64s 15ms/step - loss: 0.3129 - accuracy: 0.8806 - val_loss: 1.1547 - val_accuracy: 0.6992\n",
      "Epoch 00062: early stopping\n"
     ]
    }
   ],
   "source": [
    "# model = model_cnn14_attention_multi(dim_time, dim_freq, num_species, model_type='feature_level_attention', conv_dim=conv_dim, pool_size=pool_size, pool_stride=pool_stride, hidden_units=hidden_units, l2_regu=l2_regu, drop_rate=drop_rate)\n",
    "model = model_cnn14_spp(dim_time, dim_freq, num_species, conv_dim=conv_dim, pool_size=pool_size, pool_stride=pool_stride, hidden_units=hidden_units, l2_regu=l2_regu, drop_rate=drop_rate)\n",
    "loss = CategoricalCrossentropy()\n",
    "# model.compile(optimizer=tf.keras.optimizers.Adam(learning_rate=learning_rate_fn), loss=loss, metrics=['accuracy'])\n",
    "model.compile(optimizer=tf.keras.optimizers.Adam(learning_rate=learning_rate), loss=loss, metrics=['accuracy'])\n",
    "model.summary()\n",
    "\n",
    "# With classes\n",
    "# history = model.fit(fea_train, to_categorical(label_train), class_weight=class_weights, validation_split=0.3, batch_size=batch_size, epochs=num_epoch, callbacks=[EarlyStopping(patience=num_patience), ModelCheckpoint(filepath=os.path.join(fit_result_path, '{epoch:02d}-{val_loss:.4f}.hdf5'), verbose=1, monitor=\"val_loss\", save_best_only=True)])\n",
    "# history = model.fit(train_generator, validation_data=validate_generator, class_weight=class_weights, epochs=num_epoch, callbacks=[EarlyStopping(patience=num_patience, monitor='val_loss', mode='min', verbose=1), TensorBoard(log_dir=fit_result_path1), ModelCheckpoint(filepath=os.path.join(fit_result_path1, '{epoch:02d}-{val_loss:.4f}.hdf5'), verbose=1, monitor=\"val_loss\", save_best_only=True)])\n",
    "history = model.fit(train_generator, validation_data=validate_generator, class_weight=class_weights, epochs=num_epoch, callbacks=[EarlyStopping(patience=num_patience, monitor='val_loss', mode='min', verbose=1), TensorBoard(log_dir=fit_result_path2), ModelCheckpoint(filepath=os.path.join(fit_result_path2, 'epoch_{epoch:02d}_valloss_{val_loss:.4f}_valacc_{val_accuracy:.4f}.hdf5' ), verbose=1, monitor=\"val_loss\", save_best_only=True)])"
   ]
  },
  {
   "cell_type": "code",
   "execution_count": 34,
   "metadata": {},
   "outputs": [
    {
     "name": "stdout",
     "output_type": "stream",
     "text": [
      "Model: \"model\"\n",
      "_________________________________________________________________\n",
      "Layer (type)                 Output Shape              Param #   \n",
      "=================================================================\n",
      "input (InputLayer)           [(None, 100, 128, 1)]     0         \n",
      "_________________________________________________________________\n",
      "conv2d (Conv2D)              (None, 100, 128, 16)      160       \n",
      "_________________________________________________________________\n",
      "batch_normalization (BatchNo (None, 100, 128, 16)      64        \n",
      "_________________________________________________________________\n",
      "activation (Activation)      (None, 100, 128, 16)      0         \n",
      "_________________________________________________________________\n",
      "conv2d_1 (Conv2D)            (None, 100, 128, 16)      2320      \n",
      "_________________________________________________________________\n",
      "batch_normalization_1 (Batch (None, 100, 128, 16)      64        \n",
      "_________________________________________________________________\n",
      "activation_1 (Activation)    (None, 100, 128, 16)      0         \n",
      "_________________________________________________________________\n",
      "max_pooling2d (MaxPooling2D) (None, 50, 64, 16)        0         \n",
      "_________________________________________________________________\n",
      "dropout (Dropout)            (None, 50, 64, 16)        0         \n",
      "_________________________________________________________________\n",
      "conv2d_2 (Conv2D)            (None, 50, 64, 32)        4640      \n",
      "_________________________________________________________________\n",
      "batch_normalization_2 (Batch (None, 50, 64, 32)        128       \n",
      "_________________________________________________________________\n",
      "activation_2 (Activation)    (None, 50, 64, 32)        0         \n",
      "_________________________________________________________________\n",
      "conv2d_3 (Conv2D)            (None, 50, 64, 32)        9248      \n",
      "_________________________________________________________________\n",
      "batch_normalization_3 (Batch (None, 50, 64, 32)        128       \n",
      "_________________________________________________________________\n",
      "activation_3 (Activation)    (None, 50, 64, 32)        0         \n",
      "_________________________________________________________________\n",
      "max_pooling2d_1 (MaxPooling2 (None, 25, 32, 32)        0         \n",
      "_________________________________________________________________\n",
      "dropout_1 (Dropout)          (None, 25, 32, 32)        0         \n",
      "_________________________________________________________________\n",
      "conv2d_4 (Conv2D)            (None, 25, 32, 64)        18496     \n",
      "_________________________________________________________________\n",
      "batch_normalization_4 (Batch (None, 25, 32, 64)        256       \n",
      "_________________________________________________________________\n",
      "activation_4 (Activation)    (None, 25, 32, 64)        0         \n",
      "_________________________________________________________________\n",
      "conv2d_5 (Conv2D)            (None, 25, 32, 64)        36928     \n",
      "_________________________________________________________________\n",
      "batch_normalization_5 (Batch (None, 25, 32, 64)        256       \n",
      "_________________________________________________________________\n",
      "activation_5 (Activation)    (None, 25, 32, 64)        0         \n",
      "_________________________________________________________________\n",
      "max_pooling2d_2 (MaxPooling2 (None, 13, 16, 64)        0         \n",
      "_________________________________________________________________\n",
      "dropout_2 (Dropout)          (None, 13, 16, 64)        0         \n",
      "_________________________________________________________________\n",
      "conv2d_6 (Conv2D)            (None, 13, 16, 128)       73856     \n",
      "_________________________________________________________________\n",
      "batch_normalization_6 (Batch (None, 13, 16, 128)       512       \n",
      "_________________________________________________________________\n",
      "activation_6 (Activation)    (None, 13, 16, 128)       0         \n",
      "_________________________________________________________________\n",
      "conv2d_7 (Conv2D)            (None, 13, 16, 128)       147584    \n",
      "_________________________________________________________________\n",
      "batch_normalization_7 (Batch (None, 13, 16, 128)       512       \n",
      "_________________________________________________________________\n",
      "activation_7 (Activation)    (None, 13, 16, 128)       0         \n",
      "_________________________________________________________________\n",
      "max_pooling2d_3 (MaxPooling2 (None, 7, 8, 128)         0         \n",
      "_________________________________________________________________\n",
      "dropout_3 (Dropout)          (None, 7, 8, 128)         0         \n",
      "_________________________________________________________________\n",
      "conv2d_8 (Conv2D)            (None, 7, 8, 256)         295168    \n",
      "_________________________________________________________________\n",
      "batch_normalization_8 (Batch (None, 7, 8, 256)         1024      \n",
      "_________________________________________________________________\n",
      "activation_8 (Activation)    (None, 7, 8, 256)         0         \n",
      "_________________________________________________________________\n",
      "conv2d_9 (Conv2D)            (None, 7, 8, 256)         590080    \n",
      "_________________________________________________________________\n",
      "batch_normalization_9 (Batch (None, 7, 8, 256)         1024      \n",
      "_________________________________________________________________\n",
      "activation_9 (Activation)    (None, 7, 8, 256)         0         \n",
      "_________________________________________________________________\n",
      "spatial_pyramid_pooling2d (S (None, 21, 256)           0         \n",
      "_________________________________________________________________\n",
      "reshape (Reshape)            (None, 5376)              0         \n",
      "_________________________________________________________________\n",
      "cnn14_fcn (Dense)            (None, 256)               1376512   \n",
      "_________________________________________________________________\n",
      "dense (Dense)                (None, 8)                 2056      \n",
      "=================================================================\n",
      "Total params: 2,561,016\n",
      "Trainable params: 2,559,032\n",
      "Non-trainable params: 1,984\n",
      "_________________________________________________________________\n"
     ]
    }
   ],
   "source": [
    "model.summary()"
   ]
  },
  {
   "cell_type": "code",
   "execution_count": 35,
   "metadata": {},
   "outputs": [
    {
     "name": "stdout",
     "output_type": "stream",
     "text": [
      "Best model:0.8903\n",
      "/home/ys587/__Data/__whistle/__whislte_30_species/__fit_result_species/20210224_190600/STAR2000/epoch_42_valloss_0.8903_valacc_0.7304.hdf5\n"
     ]
    }
   ],
   "source": [
    "# fit_result_path1 = '/home/ys587/__Data/__whistle/__whislte_30_species/__fit_result_species/20210210_224527'\n",
    "the_best_model, _ = find_best_model(fit_result_path2, purge=False)"
   ]
  },
  {
   "cell_type": "code",
   "execution_count": 36,
   "metadata": {
    "scrolled": true
   },
   "outputs": [
    {
     "name": "stdout",
     "output_type": "stream",
     "text": [
      "Model: \"model\"\n",
      "_________________________________________________________________\n",
      "Layer (type)                 Output Shape              Param #   \n",
      "=================================================================\n",
      "input (InputLayer)           [(None, 100, 128, 1)]     0         \n",
      "_________________________________________________________________\n",
      "conv2d (Conv2D)              (None, 100, 128, 16)      160       \n",
      "_________________________________________________________________\n",
      "batch_normalization (BatchNo (None, 100, 128, 16)      64        \n",
      "_________________________________________________________________\n",
      "activation (Activation)      (None, 100, 128, 16)      0         \n",
      "_________________________________________________________________\n",
      "conv2d_1 (Conv2D)            (None, 100, 128, 16)      2320      \n",
      "_________________________________________________________________\n",
      "batch_normalization_1 (Batch (None, 100, 128, 16)      64        \n",
      "_________________________________________________________________\n",
      "activation_1 (Activation)    (None, 100, 128, 16)      0         \n",
      "_________________________________________________________________\n",
      "max_pooling2d (MaxPooling2D) (None, 50, 64, 16)        0         \n",
      "_________________________________________________________________\n",
      "dropout (Dropout)            (None, 50, 64, 16)        0         \n",
      "_________________________________________________________________\n",
      "conv2d_2 (Conv2D)            (None, 50, 64, 32)        4640      \n",
      "_________________________________________________________________\n",
      "batch_normalization_2 (Batch (None, 50, 64, 32)        128       \n",
      "_________________________________________________________________\n",
      "activation_2 (Activation)    (None, 50, 64, 32)        0         \n",
      "_________________________________________________________________\n",
      "conv2d_3 (Conv2D)            (None, 50, 64, 32)        9248      \n",
      "_________________________________________________________________\n",
      "batch_normalization_3 (Batch (None, 50, 64, 32)        128       \n",
      "_________________________________________________________________\n",
      "activation_3 (Activation)    (None, 50, 64, 32)        0         \n",
      "_________________________________________________________________\n",
      "max_pooling2d_1 (MaxPooling2 (None, 25, 32, 32)        0         \n",
      "_________________________________________________________________\n",
      "dropout_1 (Dropout)          (None, 25, 32, 32)        0         \n",
      "_________________________________________________________________\n",
      "conv2d_4 (Conv2D)            (None, 25, 32, 64)        18496     \n",
      "_________________________________________________________________\n",
      "batch_normalization_4 (Batch (None, 25, 32, 64)        256       \n",
      "_________________________________________________________________\n",
      "activation_4 (Activation)    (None, 25, 32, 64)        0         \n",
      "_________________________________________________________________\n",
      "conv2d_5 (Conv2D)            (None, 25, 32, 64)        36928     \n",
      "_________________________________________________________________\n",
      "batch_normalization_5 (Batch (None, 25, 32, 64)        256       \n",
      "_________________________________________________________________\n",
      "activation_5 (Activation)    (None, 25, 32, 64)        0         \n",
      "_________________________________________________________________\n",
      "max_pooling2d_2 (MaxPooling2 (None, 13, 16, 64)        0         \n",
      "_________________________________________________________________\n",
      "dropout_2 (Dropout)          (None, 13, 16, 64)        0         \n",
      "_________________________________________________________________\n",
      "conv2d_6 (Conv2D)            (None, 13, 16, 128)       73856     \n",
      "_________________________________________________________________\n",
      "batch_normalization_6 (Batch (None, 13, 16, 128)       512       \n",
      "_________________________________________________________________\n",
      "activation_6 (Activation)    (None, 13, 16, 128)       0         \n",
      "_________________________________________________________________\n",
      "conv2d_7 (Conv2D)            (None, 13, 16, 128)       147584    \n",
      "_________________________________________________________________\n",
      "batch_normalization_7 (Batch (None, 13, 16, 128)       512       \n",
      "_________________________________________________________________\n",
      "activation_7 (Activation)    (None, 13, 16, 128)       0         \n",
      "_________________________________________________________________\n",
      "max_pooling2d_3 (MaxPooling2 (None, 7, 8, 128)         0         \n",
      "_________________________________________________________________\n",
      "dropout_3 (Dropout)          (None, 7, 8, 128)         0         \n",
      "_________________________________________________________________\n",
      "conv2d_8 (Conv2D)            (None, 7, 8, 256)         295168    \n",
      "_________________________________________________________________\n",
      "batch_normalization_8 (Batch (None, 7, 8, 256)         1024      \n",
      "_________________________________________________________________\n",
      "activation_8 (Activation)    (None, 7, 8, 256)         0         \n",
      "_________________________________________________________________\n",
      "conv2d_9 (Conv2D)            (None, 7, 8, 256)         590080    \n",
      "_________________________________________________________________\n",
      "batch_normalization_9 (Batch (None, 7, 8, 256)         1024      \n",
      "_________________________________________________________________\n",
      "activation_9 (Activation)    (None, 7, 8, 256)         0         \n",
      "_________________________________________________________________\n",
      "spatial_pyramid_pooling2d (S (None, 21, 256)           0         \n",
      "_________________________________________________________________\n",
      "reshape (Reshape)            (None, 5376)              0         \n",
      "_________________________________________________________________\n",
      "cnn14_fcn (Dense)            (None, 256)               1376512   \n",
      "_________________________________________________________________\n",
      "dense (Dense)                (None, 8)                 2056      \n",
      "=================================================================\n",
      "Total params: 2,561,016\n",
      "Trainable params: 2,559,032\n",
      "Non-trainable params: 1,984\n",
      "_________________________________________________________________\n"
     ]
    }
   ],
   "source": [
    "model = load_model(the_best_model)\n",
    "model.summary()"
   ]
  },
  {
   "cell_type": "code",
   "execution_count": 37,
   "metadata": {},
   "outputs": [],
   "source": [
    "label_pred = model.predict(fea_test)\n",
    "# label_pred = model.predict(test_generator)"
   ]
  },
  {
   "cell_type": "code",
   "execution_count": 38,
   "metadata": {},
   "outputs": [],
   "source": [
    "np.set_printoptions(linewidth=200, precision=2, suppress=True)"
   ]
  },
  {
   "cell_type": "code",
   "execution_count": 39,
   "metadata": {},
   "outputs": [
    {
     "name": "stdout",
     "output_type": "stream",
     "text": [
      "Confusion matrix:\n",
      "['BD', 'CD', 'STR', 'SPT', 'SPIN', 'PLT', 'RT', 'FKW']\n",
      "\n",
      "[[  38   13   11   21    4    9   13   12]\n",
      " [ 652 1603  620  482   22  355  170   60]\n",
      " [ 285  147  252  299   12   90   28   27]\n",
      " [  65  225   24  442    2   61   19    7]\n",
      " [ 216   55   44  142   19    6    1    8]\n",
      " [   0    0    0    0    0   25    0    6]\n",
      " [  21    6    7    2    1   10   18   11]\n",
      " [   0    0    0    0    0    0    0    0]]\n",
      "\n",
      "[[0.31 0.11 0.09 0.17 0.03 0.07 0.11 0.1 ]\n",
      " [0.16 0.4  0.16 0.12 0.01 0.09 0.04 0.02]\n",
      " [0.25 0.13 0.22 0.26 0.01 0.08 0.02 0.02]\n",
      " [0.08 0.27 0.03 0.52 0.   0.07 0.02 0.01]\n",
      " [0.44 0.11 0.09 0.29 0.04 0.01 0.   0.02]\n",
      " [0.   0.   0.   0.   0.   0.81 0.   0.19]\n",
      " [0.28 0.08 0.09 0.03 0.01 0.13 0.24 0.14]\n",
      " [0.   0.   0.   0.   0.   0.   0.   0.  ]]\n"
     ]
    }
   ],
   "source": [
    "print(\"Confusion matrix:\")\n",
    "cm = confusion_matrix(label_test, np.argmax(label_pred, axis=1), labels=species_id)\n",
    "\n",
    "print(species_list)\n",
    "print('')\n",
    "print(cm)\n",
    "print('')\n",
    "\n",
    "cm2 = cm*1.0\n",
    "for ii in range(cm.shape[0]):\n",
    "    cm_row = cm[ii, :]*1.0\n",
    "\n",
    "    cm_row_sum = cm_row.sum()\n",
    "    if cm_row_sum != 0:\n",
    "        cm2[ii, :] = cm_row / cm_row_sum\n",
    "    else:\n",
    "        cm2[ii, :] = np.zeros(cm.shape[1])\n",
    "\n",
    "print(cm2)"
   ]
  },
  {
   "cell_type": "code",
   "execution_count": 40,
   "metadata": {},
   "outputs": [],
   "source": [
    "from sklearn.metrics import plot_confusion_matrix\n",
    "from sklearn.metrics._plot.confusion_matrix import ConfusionMatrixDisplay\n",
    "disp = ConfusionMatrixDisplay(confusion_matrix=cm, display_labels=species_list)\n",
    "disp2 = ConfusionMatrixDisplay(confusion_matrix=cm2, display_labels=species_list)"
   ]
  },
  {
   "cell_type": "code",
   "execution_count": 41,
   "metadata": {},
   "outputs": [
    {
     "data": {
      "text/plain": [
       "<sklearn.metrics._plot.confusion_matrix.ConfusionMatrixDisplay at 0x7f454cba17c0>"
      ]
     },
     "execution_count": 41,
     "metadata": {},
     "output_type": "execute_result"
    },
    {
     "data": {
      "image/png": "[encoded data removed]",
      "text/plain": [
       "<Figure size 1080x1080 with 2 Axes>"
      ]
     },
     "metadata": {
      "needs_background": "light"
     },
     "output_type": "display_data"
    }
   ],
   "source": [
    "fig, ax = plt.subplots(figsize=[15, 15])\n",
    "disp.plot(include_values=True,\n",
    "                     cmap='viridis', ax=ax, xticks_rotation='horizontal',\n",
    "                     values_format=None, colorbar=True)\n"
   ]
  },
  {
   "cell_type": "code",
   "execution_count": 42,
   "metadata": {},
   "outputs": [
    {
     "data": {
      "text/plain": [
       "<sklearn.metrics._plot.confusion_matrix.ConfusionMatrixDisplay at 0x7f454cba1b20>"
      ]
     },
     "execution_count": 42,
     "metadata": {},
     "output_type": "execute_result"
    },
    {
     "data": {
      "image/png": "[encoded data removed]",
      "text/plain": [
       "<Figure size 1080x1080 with 2 Axes>"
      ]
     },
     "metadata": {
      "needs_background": "light"
     },
     "output_type": "display_data"
    }
   ],
   "source": [
    "fig, ax = plt.subplots(figsize=[15, 15])\n",
    "disp2.plot(include_values=True,\n",
    "                     cmap='viridis', ax=ax, xticks_rotation='horizontal',\n",
    "                     values_format='.2f', colorbar=True)"
   ]
  },
  {
   "cell_type": "code",
   "execution_count": 158,
   "metadata": {},
   "outputs": [
    {
     "name": "stderr",
     "output_type": "stream",
     "text": [
      "/home/ys587/miniconda3/envs/whistle_classifier/lib/python3.8/site-packages/sklearn/metrics/_classification.py:1245: UndefinedMetricWarning: Recall and F-score are ill-defined and being set to 0.0 in labels with no true samples. Use `zero_division` parameter to control this behavior.\n",
      "  _warn_prf(average, modifier, msg_start, len(result))\n"
     ]
    },
    {
     "ename": "TypeError",
     "evalue": "object of type 'int' has no len()",
     "output_type": "error",
     "traceback": [
      "\u001b[0;31m---------------------------------------------------------------------------\u001b[0m",
      "\u001b[0;31mTypeError\u001b[0m                                 Traceback (most recent call last)",
      "\u001b[0;32m<ipython-input-158-be1a26a6cd0b>\u001b[0m in \u001b[0;36m<module>\u001b[0;34m\u001b[0m\n\u001b[1;32m      1\u001b[0m \u001b[0;32mfrom\u001b[0m \u001b[0msklearn\u001b[0m\u001b[0;34m.\u001b[0m\u001b[0mmetrics\u001b[0m \u001b[0;32mimport\u001b[0m \u001b[0mclassification_report\u001b[0m\u001b[0;34m\u001b[0m\u001b[0;34m\u001b[0m\u001b[0m\n\u001b[1;32m      2\u001b[0m \u001b[0;31m# >>> target_names = ['class 0', 'class 1', 'class 2']\u001b[0m\u001b[0;34m\u001b[0m\u001b[0;34m\u001b[0m\u001b[0;34m\u001b[0m\u001b[0m\n\u001b[0;32m----> 3\u001b[0;31m \u001b[0mprint\u001b[0m\u001b[0;34m(\u001b[0m\u001b[0mclassification_report\u001b[0m\u001b[0;34m(\u001b[0m\u001b[0mlabel_test\u001b[0m\u001b[0;34m,\u001b[0m \u001b[0mnp\u001b[0m\u001b[0;34m.\u001b[0m\u001b[0margmax\u001b[0m\u001b[0;34m(\u001b[0m\u001b[0mlabel_pred\u001b[0m\u001b[0;34m,\u001b[0m \u001b[0maxis\u001b[0m\u001b[0;34m=\u001b[0m\u001b[0;36m1\u001b[0m\u001b[0;34m)\u001b[0m\u001b[0;34m,\u001b[0m \u001b[0mtarget_names\u001b[0m\u001b[0;34m=\u001b[0m\u001b[0mlist\u001b[0m\u001b[0;34m(\u001b[0m\u001b[0mrange\u001b[0m\u001b[0;34m(\u001b[0m\u001b[0mnum_species\u001b[0m\u001b[0;34m)\u001b[0m\u001b[0;34m)\u001b[0m\u001b[0;34m)\u001b[0m\u001b[0;34m)\u001b[0m\u001b[0;34m\u001b[0m\u001b[0;34m\u001b[0m\u001b[0m\n\u001b[0m",
      "\u001b[0;32m~/miniconda3/envs/whistle_classifier/lib/python3.8/site-packages/sklearn/utils/validation.py\u001b[0m in \u001b[0;36minner_f\u001b[0;34m(*args, **kwargs)\u001b[0m\n\u001b[1;32m     61\u001b[0m             \u001b[0mextra_args\u001b[0m \u001b[0;34m=\u001b[0m \u001b[0mlen\u001b[0m\u001b[0;34m(\u001b[0m\u001b[0margs\u001b[0m\u001b[0;34m)\u001b[0m \u001b[0;34m-\u001b[0m \u001b[0mlen\u001b[0m\u001b[0;34m(\u001b[0m\u001b[0mall_args\u001b[0m\u001b[0;34m)\u001b[0m\u001b[0;34m\u001b[0m\u001b[0;34m\u001b[0m\u001b[0m\n\u001b[1;32m     62\u001b[0m             \u001b[0;32mif\u001b[0m \u001b[0mextra_args\u001b[0m \u001b[0;34m<=\u001b[0m \u001b[0;36m0\u001b[0m\u001b[0;34m:\u001b[0m\u001b[0;34m\u001b[0m\u001b[0;34m\u001b[0m\u001b[0m\n\u001b[0;32m---> 63\u001b[0;31m                 \u001b[0;32mreturn\u001b[0m \u001b[0mf\u001b[0m\u001b[0;34m(\u001b[0m\u001b[0;34m*\u001b[0m\u001b[0margs\u001b[0m\u001b[0;34m,\u001b[0m \u001b[0;34m**\u001b[0m\u001b[0mkwargs\u001b[0m\u001b[0;34m)\u001b[0m\u001b[0;34m\u001b[0m\u001b[0;34m\u001b[0m\u001b[0m\n\u001b[0m\u001b[1;32m     64\u001b[0m \u001b[0;34m\u001b[0m\u001b[0m\n\u001b[1;32m     65\u001b[0m             \u001b[0;31m# extra_args > 0\u001b[0m\u001b[0;34m\u001b[0m\u001b[0;34m\u001b[0m\u001b[0;34m\u001b[0m\u001b[0m\n",
      "\u001b[0;32m~/miniconda3/envs/whistle_classifier/lib/python3.8/site-packages/sklearn/metrics/_classification.py\u001b[0m in \u001b[0;36mclassification_report\u001b[0;34m(y_true, y_pred, labels, target_names, sample_weight, digits, output_dict, zero_division)\u001b[0m\n\u001b[1;32m   2014\u001b[0m     \u001b[0;32melse\u001b[0m\u001b[0;34m:\u001b[0m\u001b[0;34m\u001b[0m\u001b[0;34m\u001b[0m\u001b[0m\n\u001b[1;32m   2015\u001b[0m         \u001b[0mlongest_last_line_heading\u001b[0m \u001b[0;34m=\u001b[0m \u001b[0;34m'weighted avg'\u001b[0m\u001b[0;34m\u001b[0m\u001b[0;34m\u001b[0m\u001b[0m\n\u001b[0;32m-> 2016\u001b[0;31m         \u001b[0mname_width\u001b[0m \u001b[0;34m=\u001b[0m \u001b[0mmax\u001b[0m\u001b[0;34m(\u001b[0m\u001b[0mlen\u001b[0m\u001b[0;34m(\u001b[0m\u001b[0mcn\u001b[0m\u001b[0;34m)\u001b[0m \u001b[0;32mfor\u001b[0m \u001b[0mcn\u001b[0m \u001b[0;32min\u001b[0m \u001b[0mtarget_names\u001b[0m\u001b[0;34m)\u001b[0m\u001b[0;34m\u001b[0m\u001b[0;34m\u001b[0m\u001b[0m\n\u001b[0m\u001b[1;32m   2017\u001b[0m         \u001b[0mwidth\u001b[0m \u001b[0;34m=\u001b[0m \u001b[0mmax\u001b[0m\u001b[0;34m(\u001b[0m\u001b[0mname_width\u001b[0m\u001b[0;34m,\u001b[0m \u001b[0mlen\u001b[0m\u001b[0;34m(\u001b[0m\u001b[0mlongest_last_line_heading\u001b[0m\u001b[0;34m)\u001b[0m\u001b[0;34m,\u001b[0m \u001b[0mdigits\u001b[0m\u001b[0;34m)\u001b[0m\u001b[0;34m\u001b[0m\u001b[0;34m\u001b[0m\u001b[0m\n\u001b[1;32m   2018\u001b[0m         \u001b[0mhead_fmt\u001b[0m \u001b[0;34m=\u001b[0m \u001b[0;34m'{:>{width}s} '\u001b[0m \u001b[0;34m+\u001b[0m \u001b[0;34m' {:>9}'\u001b[0m \u001b[0;34m*\u001b[0m \u001b[0mlen\u001b[0m\u001b[0;34m(\u001b[0m\u001b[0mheaders\u001b[0m\u001b[0;34m)\u001b[0m\u001b[0;34m\u001b[0m\u001b[0;34m\u001b[0m\u001b[0m\n",
      "\u001b[0;32m~/miniconda3/envs/whistle_classifier/lib/python3.8/site-packages/sklearn/metrics/_classification.py\u001b[0m in \u001b[0;36m<genexpr>\u001b[0;34m(.0)\u001b[0m\n\u001b[1;32m   2014\u001b[0m     \u001b[0;32melse\u001b[0m\u001b[0;34m:\u001b[0m\u001b[0;34m\u001b[0m\u001b[0;34m\u001b[0m\u001b[0m\n\u001b[1;32m   2015\u001b[0m         \u001b[0mlongest_last_line_heading\u001b[0m \u001b[0;34m=\u001b[0m \u001b[0;34m'weighted avg'\u001b[0m\u001b[0;34m\u001b[0m\u001b[0;34m\u001b[0m\u001b[0m\n\u001b[0;32m-> 2016\u001b[0;31m         \u001b[0mname_width\u001b[0m \u001b[0;34m=\u001b[0m \u001b[0mmax\u001b[0m\u001b[0;34m(\u001b[0m\u001b[0mlen\u001b[0m\u001b[0;34m(\u001b[0m\u001b[0mcn\u001b[0m\u001b[0;34m)\u001b[0m \u001b[0;32mfor\u001b[0m \u001b[0mcn\u001b[0m \u001b[0;32min\u001b[0m \u001b[0mtarget_names\u001b[0m\u001b[0;34m)\u001b[0m\u001b[0;34m\u001b[0m\u001b[0;34m\u001b[0m\u001b[0m\n\u001b[0m\u001b[1;32m   2017\u001b[0m         \u001b[0mwidth\u001b[0m \u001b[0;34m=\u001b[0m \u001b[0mmax\u001b[0m\u001b[0;34m(\u001b[0m\u001b[0mname_width\u001b[0m\u001b[0;34m,\u001b[0m \u001b[0mlen\u001b[0m\u001b[0;34m(\u001b[0m\u001b[0mlongest_last_line_heading\u001b[0m\u001b[0;34m)\u001b[0m\u001b[0;34m,\u001b[0m \u001b[0mdigits\u001b[0m\u001b[0;34m)\u001b[0m\u001b[0;34m\u001b[0m\u001b[0;34m\u001b[0m\u001b[0m\n\u001b[1;32m   2018\u001b[0m         \u001b[0mhead_fmt\u001b[0m \u001b[0;34m=\u001b[0m \u001b[0;34m'{:>{width}s} '\u001b[0m \u001b[0;34m+\u001b[0m \u001b[0;34m' {:>9}'\u001b[0m \u001b[0;34m*\u001b[0m \u001b[0mlen\u001b[0m\u001b[0;34m(\u001b[0m\u001b[0mheaders\u001b[0m\u001b[0;34m)\u001b[0m\u001b[0;34m\u001b[0m\u001b[0;34m\u001b[0m\u001b[0m\n",
      "\u001b[0;31mTypeError\u001b[0m: object of type 'int' has no len()"
     ]
    }
   ],
   "source": [
    "from sklearn.metrics import classification_report\n",
    "# >>> target_names = ['class 0', 'class 1', 'class 2']\n",
    "print(classification_report(label_test, np.argmax(label_pred, axis=1), target_names=list(range(num_species))))"
   ]
  },
  {
   "cell_type": "markdown",
   "metadata": {},
   "source": [
    "## top k accuracy score"
   ]
  },
  {
   "cell_type": "code",
   "execution_count": 44,
   "metadata": {},
   "outputs": [],
   "source": [
    "from sklearn.metrics import top_k_accuracy_score"
   ]
  },
  {
   "cell_type": "code",
   "execution_count": 149,
   "metadata": {},
   "outputs": [
    {
     "name": "stdout",
     "output_type": "stream",
     "text": [
      "k=1:  \n",
      "0.3631254532269761\n",
      "k=2:  \n",
      "0.48912255257432924\n",
      "k=3:  \n",
      "0.5656272661348803\n",
      "k=4:  \n",
      "0.631979695431472\n",
      "k=5:  \n",
      "0.7307831762146483\n",
      "k=6:  \n",
      "0.8288614938361131\n",
      "k=7:  \n",
      "0.9358230601885424\n",
      "k=8:  \n",
      "1.0\n"
     ]
    },
    {
     "name": "stderr",
     "output_type": "stream",
     "text": [
      "/home/ys587/miniconda3/envs/whistle_classifier/lib/python3.8/site-packages/sklearn/metrics/_ranking.py:1693: UndefinedMetricWarning: 'k' (8) greater than or equal to 'n_classes' (8) will result in a perfect score and is therefore meaningless.\n",
      "  warnings.warn(\n"
     ]
    }
   ],
   "source": [
    "for kk in range(1, num_species+1):\n",
    "    print('k='+str(kk)+':  ')\n",
    "    print(top_k_accuracy_score(label_test, label_pred, k=kk, labels=list(range(num_species))))"
   ]
  },
  {
   "cell_type": "markdown",
   "metadata": {},
   "source": [
    "## average_precision_score"
   ]
  },
  {
   "cell_type": "code",
   "execution_count": 51,
   "metadata": {},
   "outputs": [],
   "source": [
    "from sklearn.metrics import average_precision_score\n",
    "from tensorflow.keras.utils import to_categorical"
   ]
  },
  {
   "cell_type": "code",
   "execution_count": 52,
   "metadata": {},
   "outputs": [
    {
     "name": "stderr",
     "output_type": "stream",
     "text": [
      "/home/ys587/miniconda3/envs/whistle_classifier/lib/python3.8/site-packages/sklearn/metrics/_ranking.py:817: RuntimeWarning: invalid value encountered in true_divide\n",
      "  recall = tps / tps[-1]\n"
     ]
    },
    {
     "data": {
      "text/plain": [
       "nan"
      ]
     },
     "execution_count": 52,
     "metadata": {},
     "output_type": "execute_result"
    }
   ],
   "source": [
    "average_precision_score(to_categorical(label_test, num_classes=8), label_pred)"
   ]
  },
  {
   "cell_type": "code",
   "execution_count": 53,
   "metadata": {},
   "outputs": [],
   "source": [
    "t1=to_categorical(label_test, num_classes=8)"
   ]
  },
  {
   "cell_type": "code",
   "execution_count": null,
   "metadata": {},
   "outputs": [],
   "source": []
  },
  {
   "cell_type": "markdown",
   "metadata": {},
   "source": [
    "## STAR2003"
   ]
  },
  {
   "cell_type": "code",
   "execution_count": 54,
   "metadata": {},
   "outputs": [
    {
     "name": "stdout",
     "output_type": "stream",
     "text": [
      "STAR2003\n"
     ]
    }
   ],
   "source": [
    "ee = deployment[1]\n",
    "print(ee)"
   ]
  },
  {
   "cell_type": "code",
   "execution_count": 55,
   "metadata": {},
   "outputs": [],
   "source": [
    "# Training data\n",
    "fea_temp = np.load(os.path.join(feature_path, 'train_oswald_no_'+ee+'.npz'))\n",
    "fea_train = fea_temp['fea_train']\n",
    "label_train_list = fea_temp['label_train']\n",
    "del fea_temp"
   ]
  },
  {
   "cell_type": "code",
   "execution_count": 56,
   "metadata": {},
   "outputs": [],
   "source": [
    "label_train = np.zeros(len(label_train_list))\n",
    "for ii in range(len(label_train_list)):\n",
    "    label_train[ii] = species_dict[label_train_list[ii]]"
   ]
  },
  {
   "cell_type": "code",
   "execution_count": 57,
   "metadata": {},
   "outputs": [],
   "source": [
    "# Testing data\n",
    "fea_temp = np.load(os.path.join(feature_path, 'oswald_'+ee+'_orig.npz'))\n",
    "fea_test = fea_temp['feas_orig']\n",
    "label_test_list = fea_temp['labels_orig']\n",
    "\n",
    "fea_test = fea_test[:,:100,:]\n",
    "label_test = np.zeros(len(label_test_list))\n",
    "for ii in range(len(label_test_list)):\n",
    "    label_test[ii] = species_dict[label_test_list[ii]]"
   ]
  },
  {
   "cell_type": "code",
   "execution_count": 58,
   "metadata": {},
   "outputs": [],
   "source": [
    "fea_train = fea_train[:,:100,:]"
   ]
  },
  {
   "cell_type": "code",
   "execution_count": 59,
   "metadata": {},
   "outputs": [],
   "source": [
    "label_train = np.zeros(len(label_train_list))\n",
    "for ii in range(len(label_train_list)):\n",
    "    label_train[ii] = species_dict[label_train_list[ii]]"
   ]
  },
  {
   "cell_type": "code",
   "execution_count": 60,
   "metadata": {
    "scrolled": true
   },
   "outputs": [
    {
     "data": {
      "text/plain": [
       "Counter({'BD': 14412,\n",
       "         'CD': 24120,\n",
       "         'PLT': 14784,\n",
       "         'RT': 12008,\n",
       "         'SPIN': 11014,\n",
       "         'SPT': 18590,\n",
       "         'STR': 23280,\n",
       "         'FKW': 17460})"
      ]
     },
     "execution_count": 60,
     "metadata": {},
     "output_type": "execute_result"
    }
   ],
   "source": [
    "Counter(label_train_list)"
   ]
  },
  {
   "cell_type": "code",
   "execution_count": 61,
   "metadata": {},
   "outputs": [
    {
     "data": {
      "text/plain": [
       "Counter({0.0: 231, 1.0: 752, 7.0: 270, 4.0: 51, 3.0: 412, 2.0: 54})"
      ]
     },
     "execution_count": 61,
     "metadata": {},
     "output_type": "execute_result"
    }
   ],
   "source": [
    "Counter(label_test.tolist())"
   ]
  },
  {
   "cell_type": "code",
   "execution_count": 62,
   "metadata": {},
   "outputs": [],
   "source": [
    "fit_result_path2 = os.path.join(fit_result_path1, ee)\n",
    "if not os.path.exists(fit_result_path2):\n",
    "    makedirs(fit_result_path2)"
   ]
  },
  {
   "cell_type": "code",
   "execution_count": 63,
   "metadata": {},
   "outputs": [
    {
     "name": "stdout",
     "output_type": "stream",
     "text": [
      "feature train shape: (135668, 100, 128)\n",
      "feature test shape: (1770, 100, 128)\n",
      "label train shape: (135668,)\n",
      "label test shape: (1770,)\n",
      "dim_time: 100\n",
      "dim_freq: 128\n"
     ]
    }
   ],
   "source": [
    "print('feature train shape: '+str(fea_train.shape))\n",
    "print('feature test shape: '+str(fea_test.shape))\n",
    "print('label train shape: '+str(label_train.shape))\n",
    "print('label test shape: '+str(label_test.shape))\n",
    "\n",
    "dim_time = fea_train.shape[1]\n",
    "dim_freq = fea_train.shape[2]\n",
    "print('dim_time: '+str(dim_time))\n",
    "print('dim_freq: '+str(dim_freq))"
   ]
  },
  {
   "cell_type": "code",
   "execution_count": 64,
   "metadata": {},
   "outputs": [],
   "source": [
    "# shuffle features & labels\n",
    "fea_train, label_train = shuffle(fea_train, label_train, random_state=0)\n",
    "fea_test, label_test = shuffle(fea_test, label_test, random_state=0)"
   ]
  },
  {
   "cell_type": "code",
   "execution_count": 65,
   "metadata": {},
   "outputs": [],
   "source": [
    "# class weight\n",
    "weights = compute_class_weight(class_weight='balanced', classes=np.unique(label_train), y=label_train)\n",
    "\n",
    "class_weights = dict()\n",
    "for ii in range(num_species):\n",
    "    class_weights[ii] = weights[ii]"
   ]
  },
  {
   "cell_type": "code",
   "execution_count": 66,
   "metadata": {},
   "outputs": [],
   "source": [
    "fea_train = np.expand_dims(fea_train, axis=3)\n",
    "fea_test = np.expand_dims(fea_test, axis=3)"
   ]
  },
  {
   "cell_type": "code",
   "execution_count": 67,
   "metadata": {},
   "outputs": [],
   "source": [
    "fea_train, fea_validate, label_train, label_validate = train_test_split(fea_train, label_train, test_size=0.30, random_state=42)\n",
    "\n",
    "train_generator = DataGenerator(fea_train, label_train, batch_size=batch_size, num_classes=num_species)\n",
    "del fea_train\n",
    "validate_generator = DataGenerator(fea_validate, label_validate, batch_size=batch_size, num_classes=num_species)\n",
    "del fea_validate\n",
    "\n",
    "# test_generator = DataGenerator(fea_test, label_test, batch_size=batch_size, num_classes=num_species)\n"
   ]
  },
  {
   "cell_type": "markdown",
   "metadata": {},
   "source": [
    "### Training the model"
   ]
  },
  {
   "cell_type": "code",
   "execution_count": 68,
   "metadata": {
    "scrolled": true
   },
   "outputs": [
    {
     "name": "stdout",
     "output_type": "stream",
     "text": [
      "Epoch 1/200\n",
      "5932/5935 [============================>.] - ETA: 0s - loss: 1.7780 - accuracy: 0.3004\n",
      "Epoch 00001: val_loss improved from inf to 1.83307, saving model to /home/ys587/__Data/__whistle/__whislte_30_species/__fit_result_species/20210224_190600/STAR2003/epoch_01_valloss_1.8331_valacc_0.3076.hdf5\n",
      "5935/5935 [==============================] - 93s 16ms/step - loss: 1.7778 - accuracy: 0.3005 - val_loss: 1.8331 - val_accuracy: 0.3076\n",
      "Epoch 2/200\n",
      "5933/5935 [============================>.] - ETA: 0s - loss: 1.4008 - accuracy: 0.4702\n",
      "Epoch 00002: val_loss improved from 1.83307 to 1.31272, saving model to /home/ys587/__Data/__whistle/__whislte_30_species/__fit_result_species/20210224_190600/STAR2003/epoch_02_valloss_1.3127_valacc_0.5044.hdf5\n",
      "5935/5935 [==============================] - 93s 16ms/step - loss: 1.4009 - accuracy: 0.4702 - val_loss: 1.3127 - val_accuracy: 0.5044\n",
      "Epoch 3/200\n",
      "5932/5935 [============================>.] - ETA: 0s - loss: 1.2788 - accuracy: 0.5207\n",
      "Epoch 00003: val_loss improved from 1.31272 to 1.25928, saving model to /home/ys587/__Data/__whistle/__whislte_30_species/__fit_result_species/20210224_190600/STAR2003/epoch_03_valloss_1.2593_valacc_0.5300.hdf5\n",
      "5935/5935 [==============================] - 94s 16ms/step - loss: 1.2787 - accuracy: 0.5207 - val_loss: 1.2593 - val_accuracy: 0.5300\n",
      "Epoch 4/200\n",
      "5933/5935 [============================>.] - ETA: 0s - loss: 1.1922 - accuracy: 0.5534\n",
      "Epoch 00004: val_loss improved from 1.25928 to 1.22975, saving model to /home/ys587/__Data/__whistle/__whislte_30_species/__fit_result_species/20210224_190600/STAR2003/epoch_04_valloss_1.2298_valacc_0.5406.hdf5\n",
      "5935/5935 [==============================] - 93s 16ms/step - loss: 1.1923 - accuracy: 0.5534 - val_loss: 1.2298 - val_accuracy: 0.5406\n",
      "Epoch 5/200\n",
      "5934/5935 [============================>.] - ETA: 0s - loss: 1.1152 - accuracy: 0.5876\n",
      "Epoch 00005: val_loss improved from 1.22975 to 1.20050, saving model to /home/ys587/__Data/__whistle/__whislte_30_species/__fit_result_species/20210224_190600/STAR2003/epoch_05_valloss_1.2005_valacc_0.5557.hdf5\n",
      "5935/5935 [==============================] - 93s 16ms/step - loss: 1.1152 - accuracy: 0.5876 - val_loss: 1.2005 - val_accuracy: 0.5557\n",
      "Epoch 6/200\n",
      "5932/5935 [============================>.] - ETA: 0s - loss: 1.0548 - accuracy: 0.6098\n",
      "Epoch 00006: val_loss improved from 1.20050 to 1.08136, saving model to /home/ys587/__Data/__whistle/__whislte_30_species/__fit_result_species/20210224_190600/STAR2003/epoch_06_valloss_1.0814_valacc_0.5984.hdf5\n",
      "5935/5935 [==============================] - 90s 15ms/step - loss: 1.0548 - accuracy: 0.6098 - val_loss: 1.0814 - val_accuracy: 0.5984\n",
      "Epoch 7/200\n",
      "5932/5935 [============================>.] - ETA: 0s - loss: 1.0036 - accuracy: 0.6285\n",
      "Epoch 00007: val_loss improved from 1.08136 to 1.05098, saving model to /home/ys587/__Data/__whistle/__whislte_30_species/__fit_result_species/20210224_190600/STAR2003/epoch_07_valloss_1.0510_valacc_0.6113.hdf5\n",
      "5935/5935 [==============================] - 88s 15ms/step - loss: 1.0036 - accuracy: 0.6285 - val_loss: 1.0510 - val_accuracy: 0.6113\n",
      "Epoch 8/200\n",
      "5932/5935 [============================>.] - ETA: 0s - loss: 0.9590 - accuracy: 0.6445\n",
      "Epoch 00008: val_loss improved from 1.05098 to 0.99483, saving model to /home/ys587/__Data/__whistle/__whislte_30_species/__fit_result_species/20210224_190600/STAR2003/epoch_08_valloss_0.9948_valacc_0.6314.hdf5\n",
      "5935/5935 [==============================] - 90s 15ms/step - loss: 0.9590 - accuracy: 0.6445 - val_loss: 0.9948 - val_accuracy: 0.6314\n",
      "Epoch 9/200\n",
      "5933/5935 [============================>.] - ETA: 0s - loss: 0.9177 - accuracy: 0.6574\n",
      "Epoch 00009: val_loss improved from 0.99483 to 0.97489, saving model to /home/ys587/__Data/__whistle/__whislte_30_species/__fit_result_species/20210224_190600/STAR2003/epoch_09_valloss_0.9749_valacc_0.6420.hdf5\n",
      "5935/5935 [==============================] - 91s 15ms/step - loss: 0.9177 - accuracy: 0.6574 - val_loss: 0.9749 - val_accuracy: 0.6420\n",
      "Epoch 10/200\n",
      "5934/5935 [============================>.] - ETA: 0s - loss: 0.8776 - accuracy: 0.6723\n",
      "Epoch 00010: val_loss did not improve from 0.97489\n",
      "5935/5935 [==============================] - 90s 15ms/step - loss: 0.8776 - accuracy: 0.6723 - val_loss: 0.9841 - val_accuracy: 0.6349\n",
      "Epoch 11/200\n",
      "5932/5935 [============================>.] - ETA: 0s - loss: 0.8426 - accuracy: 0.6862\n",
      "Epoch 00011: val_loss did not improve from 0.97489\n",
      "5935/5935 [==============================] - 91s 15ms/step - loss: 0.8425 - accuracy: 0.6862 - val_loss: 0.9906 - val_accuracy: 0.6324\n",
      "Epoch 12/200\n",
      "5933/5935 [============================>.] - ETA: 0s - loss: 0.8121 - accuracy: 0.6963\n",
      "Epoch 00012: val_loss improved from 0.97489 to 0.90988, saving model to /home/ys587/__Data/__whistle/__whislte_30_species/__fit_result_species/20210224_190600/STAR2003/epoch_12_valloss_0.9099_valacc_0.6667.hdf5\n",
      "5935/5935 [==============================] - 91s 15ms/step - loss: 0.8122 - accuracy: 0.6963 - val_loss: 0.9099 - val_accuracy: 0.6667\n",
      "Epoch 13/200\n",
      "5934/5935 [============================>.] - ETA: 0s - loss: 0.7784 - accuracy: 0.7095\n",
      "Epoch 00013: val_loss improved from 0.90988 to 0.90694, saving model to /home/ys587/__Data/__whistle/__whislte_30_species/__fit_result_species/20210224_190600/STAR2003/epoch_13_valloss_0.9069_valacc_0.6706.hdf5\n",
      "5935/5935 [==============================] - 91s 15ms/step - loss: 0.7784 - accuracy: 0.7095 - val_loss: 0.9069 - val_accuracy: 0.6706\n",
      "Epoch 14/200\n",
      "5933/5935 [============================>.] - ETA: 0s - loss: 0.7510 - accuracy: 0.7185\n",
      "Epoch 00014: val_loss improved from 0.90694 to 0.84268, saving model to /home/ys587/__Data/__whistle/__whislte_30_species/__fit_result_species/20210224_190600/STAR2003/epoch_14_valloss_0.8427_valacc_0.6848.hdf5\n",
      "5935/5935 [==============================] - 91s 15ms/step - loss: 0.7511 - accuracy: 0.7185 - val_loss: 0.8427 - val_accuracy: 0.6848\n",
      "Epoch 15/200\n",
      "5932/5935 [============================>.] - ETA: 0s - loss: 0.7259 - accuracy: 0.7267\n",
      "Epoch 00015: val_loss did not improve from 0.84268\n",
      "5935/5935 [==============================] - 91s 15ms/step - loss: 0.7259 - accuracy: 0.7267 - val_loss: 0.8703 - val_accuracy: 0.6799\n",
      "Epoch 16/200\n",
      "5935/5935 [==============================] - ETA: 0s - loss: 0.6980 - accuracy: 0.7375\n",
      "Epoch 00016: val_loss did not improve from 0.84268\n",
      "5935/5935 [==============================] - 90s 15ms/step - loss: 0.6980 - accuracy: 0.7375 - val_loss: 0.9039 - val_accuracy: 0.6692\n",
      "Epoch 17/200\n",
      "5933/5935 [============================>.] - ETA: 0s - loss: 0.6734 - accuracy: 0.7446\n",
      "Epoch 00017: val_loss did not improve from 0.84268\n",
      "5935/5935 [==============================] - 91s 15ms/step - loss: 0.6734 - accuracy: 0.7446 - val_loss: 0.8836 - val_accuracy: 0.6766\n",
      "Epoch 18/200\n",
      "5933/5935 [============================>.] - ETA: 0s - loss: 0.6463 - accuracy: 0.7553\n",
      "Epoch 00018: val_loss did not improve from 0.84268\n",
      "5935/5935 [==============================] - 91s 15ms/step - loss: 0.6462 - accuracy: 0.7553 - val_loss: 0.8645 - val_accuracy: 0.6884\n",
      "Epoch 19/200\n",
      "5933/5935 [============================>.] - ETA: 0s - loss: 0.6236 - accuracy: 0.7633\n",
      "Epoch 00019: val_loss improved from 0.84268 to 0.81263, saving model to /home/ys587/__Data/__whistle/__whislte_30_species/__fit_result_species/20210224_190600/STAR2003/epoch_19_valloss_0.8126_valacc_0.7012.hdf5\n",
      "5935/5935 [==============================] - 91s 15ms/step - loss: 0.6235 - accuracy: 0.7633 - val_loss: 0.8126 - val_accuracy: 0.7012\n",
      "Epoch 20/200\n",
      "5932/5935 [============================>.] - ETA: 0s - loss: 0.6013 - accuracy: 0.7724\n",
      "Epoch 00020: val_loss improved from 0.81263 to 0.78911, saving model to /home/ys587/__Data/__whistle/__whislte_30_species/__fit_result_species/20210224_190600/STAR2003/epoch_20_valloss_0.7891_valacc_0.7143.hdf5\n",
      "5935/5935 [==============================] - 91s 15ms/step - loss: 0.6013 - accuracy: 0.7724 - val_loss: 0.7891 - val_accuracy: 0.7143\n",
      "Epoch 21/200\n",
      "5932/5935 [============================>.] - ETA: 0s - loss: 0.5781 - accuracy: 0.7806\n",
      "Epoch 00021: val_loss did not improve from 0.78911\n",
      "5935/5935 [==============================] - 91s 15ms/step - loss: 0.5781 - accuracy: 0.7805 - val_loss: 0.7975 - val_accuracy: 0.7110\n",
      "Epoch 22/200\n",
      "5935/5935 [==============================] - ETA: 0s - loss: 0.5589 - accuracy: 0.7878\n",
      "Epoch 00022: val_loss improved from 0.78911 to 0.74650, saving model to /home/ys587/__Data/__whistle/__whislte_30_species/__fit_result_species/20210224_190600/STAR2003/epoch_22_valloss_0.7465_valacc_0.7298.hdf5\n",
      "5935/5935 [==============================] - 91s 15ms/step - loss: 0.5589 - accuracy: 0.7878 - val_loss: 0.7465 - val_accuracy: 0.7298\n",
      "Epoch 23/200\n",
      "5935/5935 [==============================] - ETA: 0s - loss: 0.5395 - accuracy: 0.7948\n",
      "Epoch 00023: val_loss did not improve from 0.74650\n",
      "5935/5935 [==============================] - 91s 15ms/step - loss: 0.5395 - accuracy: 0.7948 - val_loss: 0.8237 - val_accuracy: 0.7052\n",
      "Epoch 24/200\n",
      "5933/5935 [============================>.] - ETA: 0s - loss: 0.5170 - accuracy: 0.8024\n",
      "Epoch 00024: val_loss did not improve from 0.74650\n",
      "5935/5935 [==============================] - 91s 15ms/step - loss: 0.5170 - accuracy: 0.8024 - val_loss: 0.7723 - val_accuracy: 0.7236\n",
      "Epoch 25/200\n",
      "5933/5935 [============================>.] - ETA: 0s - loss: 0.5012 - accuracy: 0.8074\n",
      "Epoch 00025: val_loss did not improve from 0.74650\n",
      "5935/5935 [==============================] - 91s 15ms/step - loss: 0.5012 - accuracy: 0.8074 - val_loss: 0.7551 - val_accuracy: 0.7323\n",
      "Epoch 26/200\n",
      "5934/5935 [============================>.] - ETA: 0s - loss: 0.4798 - accuracy: 0.8160\n",
      "Epoch 00026: val_loss did not improve from 0.74650\n",
      "5935/5935 [==============================] - 91s 15ms/step - loss: 0.4798 - accuracy: 0.8160 - val_loss: 0.7633 - val_accuracy: 0.7289\n",
      "Epoch 27/200\n",
      "5933/5935 [============================>.] - ETA: 0s - loss: 0.4625 - accuracy: 0.8231\n",
      "Epoch 00027: val_loss did not improve from 0.74650\n",
      "5935/5935 [==============================] - 91s 15ms/step - loss: 0.4624 - accuracy: 0.8231 - val_loss: 0.9330 - val_accuracy: 0.6823\n",
      "Epoch 28/200\n",
      "5932/5935 [============================>.] - ETA: 0s - loss: 0.4471 - accuracy: 0.8285\n",
      "Epoch 00028: val_loss did not improve from 0.74650\n",
      "5935/5935 [==============================] - 90s 15ms/step - loss: 0.4471 - accuracy: 0.8285 - val_loss: 0.7644 - val_accuracy: 0.7253\n",
      "Epoch 29/200\n",
      "5933/5935 [============================>.] - ETA: 0s - loss: 0.4314 - accuracy: 0.8348\n",
      "Epoch 00029: val_loss did not improve from 0.74650\n",
      "5935/5935 [==============================] - 91s 15ms/step - loss: 0.4316 - accuracy: 0.8347 - val_loss: 0.7991 - val_accuracy: 0.7228\n",
      "Epoch 30/200\n",
      "5932/5935 [============================>.] - ETA: 0s - loss: 0.4159 - accuracy: 0.8414\n",
      "Epoch 00030: val_loss did not improve from 0.74650\n",
      "5935/5935 [==============================] - 91s 15ms/step - loss: 0.4159 - accuracy: 0.8414 - val_loss: 0.8353 - val_accuracy: 0.7199\n",
      "Epoch 31/200\n",
      "5932/5935 [============================>.] - ETA: 0s - loss: 0.4010 - accuracy: 0.8452\n",
      "Epoch 00031: val_loss did not improve from 0.74650\n",
      "5935/5935 [==============================] - 91s 15ms/step - loss: 0.4011 - accuracy: 0.8452 - val_loss: 0.7525 - val_accuracy: 0.7401\n",
      "Epoch 32/200\n",
      "5935/5935 [==============================] - ETA: 0s - loss: 0.3805 - accuracy: 0.8535\n",
      "Epoch 00032: val_loss did not improve from 0.74650\n",
      "5935/5935 [==============================] - 91s 15ms/step - loss: 0.3805 - accuracy: 0.8535 - val_loss: 0.8650 - val_accuracy: 0.7110\n",
      "Epoch 33/200\n",
      "5934/5935 [============================>.] - ETA: 0s - loss: 0.3723 - accuracy: 0.8560\n",
      "Epoch 00033: val_loss did not improve from 0.74650\n",
      "5935/5935 [==============================] - 91s 15ms/step - loss: 0.3723 - accuracy: 0.8560 - val_loss: 0.9083 - val_accuracy: 0.6980\n",
      "Epoch 34/200\n",
      "5935/5935 [==============================] - ETA: 0s - loss: 0.3558 - accuracy: 0.8626\n",
      "Epoch 00034: val_loss did not improve from 0.74650\n",
      "5935/5935 [==============================] - 91s 15ms/step - loss: 0.3558 - accuracy: 0.8626 - val_loss: 0.8372 - val_accuracy: 0.7292\n",
      "Epoch 35/200\n",
      "5935/5935 [==============================] - ETA: 0s - loss: 0.3487 - accuracy: 0.8657\n",
      "Epoch 00035: val_loss did not improve from 0.74650\n",
      "5935/5935 [==============================] - 91s 15ms/step - loss: 0.3487 - accuracy: 0.8657 - val_loss: 0.8832 - val_accuracy: 0.7177\n",
      "Epoch 36/200\n",
      "5932/5935 [============================>.] - ETA: 0s - loss: 0.3323 - accuracy: 0.8712\n",
      "Epoch 00036: val_loss did not improve from 0.74650\n",
      "5935/5935 [==============================] - 91s 15ms/step - loss: 0.3323 - accuracy: 0.8712 - val_loss: 0.8222 - val_accuracy: 0.7334\n",
      "Epoch 37/200\n",
      "5934/5935 [============================>.] - ETA: 0s - loss: 0.3190 - accuracy: 0.8769\n",
      "Epoch 00037: val_loss did not improve from 0.74650\n",
      "5935/5935 [==============================] - 91s 15ms/step - loss: 0.3190 - accuracy: 0.8769 - val_loss: 1.0316 - val_accuracy: 0.6887\n",
      "Epoch 38/200\n",
      "5934/5935 [============================>.] - ETA: 0s - loss: 0.3079 - accuracy: 0.8808\n",
      "Epoch 00038: val_loss did not improve from 0.74650\n",
      "5935/5935 [==============================] - 91s 15ms/step - loss: 0.3079 - accuracy: 0.8808 - val_loss: 0.9153 - val_accuracy: 0.7190\n",
      "Epoch 39/200\n",
      "5932/5935 [============================>.] - ETA: 0s - loss: 0.3040 - accuracy: 0.8829\n",
      "Epoch 00039: val_loss did not improve from 0.74650\n",
      "5935/5935 [==============================] - 91s 15ms/step - loss: 0.3041 - accuracy: 0.8829 - val_loss: 0.9550 - val_accuracy: 0.7098\n",
      "Epoch 40/200\n",
      "5935/5935 [==============================] - ETA: 0s - loss: 0.2921 - accuracy: 0.8869\n",
      "Epoch 00040: val_loss did not improve from 0.74650\n",
      "5935/5935 [==============================] - 91s 15ms/step - loss: 0.2921 - accuracy: 0.8869 - val_loss: 0.8926 - val_accuracy: 0.7223\n",
      "Epoch 41/200\n",
      "5934/5935 [============================>.] - ETA: 0s - loss: 0.2762 - accuracy: 0.8933\n",
      "Epoch 00041: val_loss did not improve from 0.74650\n",
      "5935/5935 [==============================] - 91s 15ms/step - loss: 0.2762 - accuracy: 0.8933 - val_loss: 1.0138 - val_accuracy: 0.7108\n",
      "Epoch 42/200\n",
      "5932/5935 [============================>.] - ETA: 0s - loss: 0.2672 - accuracy: 0.8969\n",
      "Epoch 00042: val_loss did not improve from 0.74650\n",
      "5935/5935 [==============================] - 91s 15ms/step - loss: 0.2672 - accuracy: 0.8969 - val_loss: 0.9191 - val_accuracy: 0.7303\n",
      "Epoch 00042: early stopping\n"
     ]
    }
   ],
   "source": [
    "# model = model_cnn14_attention_multi(dim_time, dim_freq, num_species, model_type='feature_level_attention', conv_dim=conv_dim, pool_size=pool_size, pool_stride=pool_stride, hidden_units=hidden_units, l2_regu=l2_regu, drop_rate=drop_rate)\n",
    "model = model_cnn14_spp(dim_time, dim_freq, num_species, conv_dim=conv_dim, pool_size=pool_size, pool_stride=pool_stride, hidden_units=hidden_units, l2_regu=l2_regu, drop_rate=drop_rate)\n",
    "loss = CategoricalCrossentropy()\n",
    "model.compile(optimizer=tf.keras.optimizers.Adam(learning_rate=learning_rate_fn), loss=loss, metrics=['accuracy'])\n",
    "\n",
    "# With classes\n",
    "# history = model.fit(fea_train, to_categorical(label_train), class_weight=class_weights, validation_split=0.3, batch_size=batch_size, epochs=num_epoch, callbacks=[EarlyStopping(patience=num_patience), ModelCheckpoint(filepath=os.path.join(fit_result_path, '{epoch:02d}-{val_loss:.4f}.hdf5'), verbose=1, monitor=\"val_loss\", save_best_only=True)])\n",
    "# history = model.fit(train_generator, validation_data=validate_generator, class_weight=class_weights, epochs=num_epoch, callbacks=[EarlyStopping(patience=num_patience, monitor='val_loss', mode='min', verbose=1), TensorBoard(log_dir=fit_result_path1), ModelCheckpoint(filepath=os.path.join(fit_result_path1, '{epoch:02d}-{val_loss:.4f}.hdf5'), verbose=1, monitor=\"val_loss\", save_best_only=True)])\n",
    "history = model.fit(train_generator, validation_data=validate_generator, class_weight=class_weights, epochs=num_epoch, callbacks=[EarlyStopping(patience=num_patience, monitor='val_loss', mode='min', verbose=1), TensorBoard(log_dir=fit_result_path2), ModelCheckpoint(filepath=os.path.join(fit_result_path2, 'epoch_{epoch:02d}_valloss_{val_loss:.4f}_valacc_{val_accuracy:.4f}.hdf5' ), verbose=1, monitor=\"val_loss\", save_best_only=True)])"
   ]
  },
  {
   "cell_type": "code",
   "execution_count": 69,
   "metadata": {},
   "outputs": [
    {
     "name": "stdout",
     "output_type": "stream",
     "text": [
      "Best model:0.7465\n",
      "/home/ys587/__Data/__whistle/__whislte_30_species/__fit_result_species/20210224_190600/STAR2003/epoch_22_valloss_0.7465_valacc_0.7298.hdf5\n"
     ]
    }
   ],
   "source": [
    "# fit_result_path1 = '/home/ys587/__Data/__whistle/__whislte_30_species/__fit_result_species/20210210_224527'\n",
    "the_best_model, _ = find_best_model(fit_result_path2, purge=False)"
   ]
  },
  {
   "cell_type": "code",
   "execution_count": 70,
   "metadata": {
    "scrolled": true
   },
   "outputs": [
    {
     "name": "stdout",
     "output_type": "stream",
     "text": [
      "Model: \"model_1\"\n",
      "_________________________________________________________________\n",
      "Layer (type)                 Output Shape              Param #   \n",
      "=================================================================\n",
      "input (InputLayer)           [(None, 100, 128, 1)]     0         \n",
      "_________________________________________________________________\n",
      "conv2d_10 (Conv2D)           (None, 100, 128, 16)      160       \n",
      "_________________________________________________________________\n",
      "batch_normalization_10 (Batc (None, 100, 128, 16)      64        \n",
      "_________________________________________________________________\n",
      "activation_10 (Activation)   (None, 100, 128, 16)      0         \n",
      "_________________________________________________________________\n",
      "conv2d_11 (Conv2D)           (None, 100, 128, 16)      2320      \n",
      "_________________________________________________________________\n",
      "batch_normalization_11 (Batc (None, 100, 128, 16)      64        \n",
      "_________________________________________________________________\n",
      "activation_11 (Activation)   (None, 100, 128, 16)      0         \n",
      "_________________________________________________________________\n",
      "max_pooling2d_4 (MaxPooling2 (None, 50, 64, 16)        0         \n",
      "_________________________________________________________________\n",
      "dropout_4 (Dropout)          (None, 50, 64, 16)        0         \n",
      "_________________________________________________________________\n",
      "conv2d_12 (Conv2D)           (None, 50, 64, 32)        4640      \n",
      "_________________________________________________________________\n",
      "batch_normalization_12 (Batc (None, 50, 64, 32)        128       \n",
      "_________________________________________________________________\n",
      "activation_12 (Activation)   (None, 50, 64, 32)        0         \n",
      "_________________________________________________________________\n",
      "conv2d_13 (Conv2D)           (None, 50, 64, 32)        9248      \n",
      "_________________________________________________________________\n",
      "batch_normalization_13 (Batc (None, 50, 64, 32)        128       \n",
      "_________________________________________________________________\n",
      "activation_13 (Activation)   (None, 50, 64, 32)        0         \n",
      "_________________________________________________________________\n",
      "max_pooling2d_5 (MaxPooling2 (None, 25, 32, 32)        0         \n",
      "_________________________________________________________________\n",
      "dropout_5 (Dropout)          (None, 25, 32, 32)        0         \n",
      "_________________________________________________________________\n",
      "conv2d_14 (Conv2D)           (None, 25, 32, 64)        18496     \n",
      "_________________________________________________________________\n",
      "batch_normalization_14 (Batc (None, 25, 32, 64)        256       \n",
      "_________________________________________________________________\n",
      "activation_14 (Activation)   (None, 25, 32, 64)        0         \n",
      "_________________________________________________________________\n",
      "conv2d_15 (Conv2D)           (None, 25, 32, 64)        36928     \n",
      "_________________________________________________________________\n",
      "batch_normalization_15 (Batc (None, 25, 32, 64)        256       \n",
      "_________________________________________________________________\n",
      "activation_15 (Activation)   (None, 25, 32, 64)        0         \n",
      "_________________________________________________________________\n",
      "max_pooling2d_6 (MaxPooling2 (None, 13, 16, 64)        0         \n",
      "_________________________________________________________________\n",
      "dropout_6 (Dropout)          (None, 13, 16, 64)        0         \n",
      "_________________________________________________________________\n",
      "conv2d_16 (Conv2D)           (None, 13, 16, 128)       73856     \n",
      "_________________________________________________________________\n",
      "batch_normalization_16 (Batc (None, 13, 16, 128)       512       \n",
      "_________________________________________________________________\n",
      "activation_16 (Activation)   (None, 13, 16, 128)       0         \n",
      "_________________________________________________________________\n",
      "conv2d_17 (Conv2D)           (None, 13, 16, 128)       147584    \n",
      "_________________________________________________________________\n",
      "batch_normalization_17 (Batc (None, 13, 16, 128)       512       \n",
      "_________________________________________________________________\n",
      "activation_17 (Activation)   (None, 13, 16, 128)       0         \n",
      "_________________________________________________________________\n",
      "max_pooling2d_7 (MaxPooling2 (None, 7, 8, 128)         0         \n",
      "_________________________________________________________________\n",
      "dropout_7 (Dropout)          (None, 7, 8, 128)         0         \n",
      "_________________________________________________________________\n",
      "conv2d_18 (Conv2D)           (None, 7, 8, 256)         295168    \n",
      "_________________________________________________________________\n",
      "batch_normalization_18 (Batc (None, 7, 8, 256)         1024      \n",
      "_________________________________________________________________\n",
      "activation_18 (Activation)   (None, 7, 8, 256)         0         \n",
      "_________________________________________________________________\n",
      "conv2d_19 (Conv2D)           (None, 7, 8, 256)         590080    \n",
      "_________________________________________________________________\n",
      "batch_normalization_19 (Batc (None, 7, 8, 256)         1024      \n",
      "_________________________________________________________________\n",
      "activation_19 (Activation)   (None, 7, 8, 256)         0         \n",
      "_________________________________________________________________\n",
      "spatial_pyramid_pooling2d_1  (None, 21, 256)           0         \n",
      "_________________________________________________________________\n",
      "reshape_1 (Reshape)          (None, 5376)              0         \n",
      "_________________________________________________________________\n",
      "cnn14_fcn (Dense)            (None, 256)               1376512   \n",
      "_________________________________________________________________\n",
      "dense_1 (Dense)              (None, 8)                 2056      \n",
      "=================================================================\n",
      "Total params: 2,561,016\n",
      "Trainable params: 2,559,032\n",
      "Non-trainable params: 1,984\n",
      "_________________________________________________________________\n"
     ]
    }
   ],
   "source": [
    "model = load_model(the_best_model)\n",
    "model.summary()"
   ]
  },
  {
   "cell_type": "code",
   "execution_count": 71,
   "metadata": {},
   "outputs": [],
   "source": [
    "label_pred = model.predict(fea_test)\n",
    "# label_pred = model.predict(test_generator)"
   ]
  },
  {
   "cell_type": "code",
   "execution_count": 72,
   "metadata": {},
   "outputs": [],
   "source": [
    "np.set_printoptions(linewidth=200, precision=2, suppress=True)"
   ]
  },
  {
   "cell_type": "code",
   "execution_count": 73,
   "metadata": {},
   "outputs": [
    {
     "name": "stdout",
     "output_type": "stream",
     "text": [
      "Confusion matrix:\n",
      "['BD', 'CD', 'STR', 'SPT', 'SPIN', 'PLT', 'RT', 'FKW']\n",
      "\n",
      "[[ 16   7  82  43  29  21  33   0]\n",
      " [ 14 305 182  92   6  70  75   8]\n",
      " [  0   1  19   3   0   9  16   6]\n",
      " [  1  36 144 144   2  67  15   3]\n",
      " [  0   3  22  21   2   0   1   2]\n",
      " [  0   0   0   0   0   0   0   0]\n",
      " [  0   0   0   0   0   0   0   0]\n",
      " [  0   1   0   1   0  26  29 213]]\n",
      "\n",
      "[[0.07 0.03 0.35 0.19 0.13 0.09 0.14 0.  ]\n",
      " [0.02 0.41 0.24 0.12 0.01 0.09 0.1  0.01]\n",
      " [0.   0.02 0.35 0.06 0.   0.17 0.3  0.11]\n",
      " [0.   0.09 0.35 0.35 0.   0.16 0.04 0.01]\n",
      " [0.   0.06 0.43 0.41 0.04 0.   0.02 0.04]\n",
      " [0.   0.   0.   0.   0.   0.   0.   0.  ]\n",
      " [0.   0.   0.   0.   0.   0.   0.   0.  ]\n",
      " [0.   0.   0.   0.   0.   0.1  0.11 0.79]]\n"
     ]
    }
   ],
   "source": [
    "print(\"Confusion matrix:\")\n",
    "cm = confusion_matrix(label_test, np.argmax(label_pred, axis=1), labels=species_id)\n",
    "\n",
    "print(species_list)\n",
    "print('')\n",
    "print(cm)\n",
    "print('')\n",
    "\n",
    "cm2 = cm*1.0\n",
    "for ii in range(cm.shape[0]):\n",
    "    cm_row = cm[ii, :]*1.0\n",
    "\n",
    "    cm_row_sum = cm_row.sum()\n",
    "    if cm_row_sum != 0:\n",
    "        cm2[ii, :] = cm_row / cm_row_sum\n",
    "    else:\n",
    "        cm2[ii, :] = np.zeros(cm.shape[1])\n",
    "\n",
    "print(cm2)"
   ]
  },
  {
   "cell_type": "code",
   "execution_count": 74,
   "metadata": {},
   "outputs": [],
   "source": [
    "from sklearn.metrics import plot_confusion_matrix\n",
    "from sklearn.metrics._plot.confusion_matrix import ConfusionMatrixDisplay\n",
    "disp = ConfusionMatrixDisplay(confusion_matrix=cm, display_labels=species_list)\n",
    "disp2 = ConfusionMatrixDisplay(confusion_matrix=cm2, display_labels=species_list)"
   ]
  },
  {
   "cell_type": "code",
   "execution_count": 75,
   "metadata": {},
   "outputs": [
    {
     "data": {
      "text/plain": [
       "<sklearn.metrics._plot.confusion_matrix.ConfusionMatrixDisplay at 0x7f44aa8062e0>"
      ]
     },
     "execution_count": 75,
     "metadata": {},
     "output_type": "execute_result"
    },
    {
     "data": {
      "image/png": "[encoded data removed]",
      "text/plain": [
       "<Figure size 1080x1080 with 2 Axes>"
      ]
     },
     "metadata": {
      "needs_background": "light"
     },
     "output_type": "display_data"
    }
   ],
   "source": [
    "fig, ax = plt.subplots(figsize=[15, 15])\n",
    "disp.plot(include_values=True,\n",
    "                     cmap='viridis', ax=ax, xticks_rotation='horizontal',\n",
    "                     values_format=None, colorbar=True)\n"
   ]
  },
  {
   "cell_type": "code",
   "execution_count": 76,
   "metadata": {},
   "outputs": [
    {
     "data": {
      "text/plain": [
       "<sklearn.metrics._plot.confusion_matrix.ConfusionMatrixDisplay at 0x7f44aa806280>"
      ]
     },
     "execution_count": 76,
     "metadata": {},
     "output_type": "execute_result"
    },
    {
     "data": {
      "image/png": "[encoded data removed]",
      "text/plain": [
       "<Figure size 1080x1080 with 2 Axes>"
      ]
     },
     "metadata": {
      "needs_background": "light"
     },
     "output_type": "display_data"
    }
   ],
   "source": [
    "fig, ax = plt.subplots(figsize=[15, 15])\n",
    "disp2.plot(include_values=True,\n",
    "                     cmap='viridis', ax=ax, xticks_rotation='horizontal',\n",
    "                     values_format='.2f', colorbar=True)"
   ]
  },
  {
   "cell_type": "markdown",
   "metadata": {},
   "source": [
    "## STAR2006"
   ]
  },
  {
   "cell_type": "code",
   "execution_count": 77,
   "metadata": {},
   "outputs": [
    {
     "name": "stdout",
     "output_type": "stream",
     "text": [
      "STAR2006\n"
     ]
    }
   ],
   "source": [
    "ee = deployment[2]\n",
    "print(ee)"
   ]
  },
  {
   "cell_type": "code",
   "execution_count": 78,
   "metadata": {},
   "outputs": [],
   "source": [
    "# Training data\n",
    "fea_temp = np.load(os.path.join(feature_path, 'train_oswald_no_'+ee+'.npz'))\n",
    "fea_train = fea_temp['fea_train']\n",
    "label_train_list = fea_temp['label_train']\n",
    "del fea_temp"
   ]
  },
  {
   "cell_type": "code",
   "execution_count": 79,
   "metadata": {},
   "outputs": [],
   "source": [
    "label_train = np.zeros(len(label_train_list))\n",
    "for ii in range(len(label_train_list)):\n",
    "    label_train[ii] = species_dict[label_train_list[ii]]"
   ]
  },
  {
   "cell_type": "code",
   "execution_count": 80,
   "metadata": {},
   "outputs": [],
   "source": [
    "# Testing data\n",
    "fea_temp = np.load(os.path.join(feature_path, 'oswald_'+ee+'_orig.npz'))\n",
    "fea_test = fea_temp['feas_orig']\n",
    "label_test_list = fea_temp['labels_orig']\n",
    "\n",
    "fea_test = fea_test[:,:100,:]\n",
    "label_test = np.zeros(len(label_test_list))\n",
    "for ii in range(len(label_test_list)):\n",
    "    label_test[ii] = species_dict[label_test_list[ii]]"
   ]
  },
  {
   "cell_type": "code",
   "execution_count": 81,
   "metadata": {},
   "outputs": [],
   "source": [
    "fea_train = fea_train[:,:100,:]"
   ]
  },
  {
   "cell_type": "code",
   "execution_count": 82,
   "metadata": {},
   "outputs": [],
   "source": [
    "label_train = np.zeros(len(label_train_list))\n",
    "for ii in range(len(label_train_list)):\n",
    "    label_train[ii] = species_dict[label_train_list[ii]]"
   ]
  },
  {
   "cell_type": "code",
   "execution_count": 83,
   "metadata": {
    "scrolled": true
   },
   "outputs": [
    {
     "data": {
      "text/plain": [
       "Counter({'BD': 16722,\n",
       "         'CD': 28296,\n",
       "         'PLT': 9728,\n",
       "         'RT': 11456,\n",
       "         'SPIN': 11586,\n",
       "         'SPT': 20416,\n",
       "         'STR': 17928,\n",
       "         'FKW': 14742})"
      ]
     },
     "execution_count": 83,
     "metadata": {},
     "output_type": "execute_result"
    }
   ],
   "source": [
    "Counter(label_train_list)"
   ]
  },
  {
   "cell_type": "code",
   "execution_count": 84,
   "metadata": {},
   "outputs": [
    {
     "data": {
      "text/plain": [
       "Counter({1.0: 24, 7.0: 903, 5.0: 632, 6.0: 46, 4.0: 2, 3.0: 147, 2.0: 750})"
      ]
     },
     "execution_count": 84,
     "metadata": {},
     "output_type": "execute_result"
    }
   ],
   "source": [
    "Counter(label_test.tolist())"
   ]
  },
  {
   "cell_type": "code",
   "execution_count": 85,
   "metadata": {},
   "outputs": [],
   "source": [
    "fit_result_path2 = os.path.join(fit_result_path1, ee)\n",
    "if not os.path.exists(fit_result_path2):\n",
    "    makedirs(fit_result_path2)"
   ]
  },
  {
   "cell_type": "code",
   "execution_count": 86,
   "metadata": {},
   "outputs": [
    {
     "name": "stdout",
     "output_type": "stream",
     "text": [
      "feature train shape: (130874, 100, 128)\n",
      "feature test shape: (2504, 100, 128)\n",
      "label train shape: (130874,)\n",
      "label test shape: (2504,)\n",
      "dim_time: 100\n",
      "dim_freq: 128\n"
     ]
    }
   ],
   "source": [
    "print('feature train shape: '+str(fea_train.shape))\n",
    "print('feature test shape: '+str(fea_test.shape))\n",
    "print('label train shape: '+str(label_train.shape))\n",
    "print('label test shape: '+str(label_test.shape))\n",
    "\n",
    "dim_time = fea_train.shape[1]\n",
    "dim_freq = fea_train.shape[2]\n",
    "print('dim_time: '+str(dim_time))\n",
    "print('dim_freq: '+str(dim_freq))"
   ]
  },
  {
   "cell_type": "code",
   "execution_count": 87,
   "metadata": {},
   "outputs": [],
   "source": [
    "# shuffle features & labels\n",
    "fea_train, label_train = shuffle(fea_train, label_train, random_state=0)\n",
    "fea_test, label_test = shuffle(fea_test, label_test, random_state=0)"
   ]
  },
  {
   "cell_type": "code",
   "execution_count": 88,
   "metadata": {},
   "outputs": [],
   "source": [
    "# class weight\n",
    "weights = compute_class_weight(class_weight='balanced', classes=np.unique(label_train), y=label_train)\n",
    "\n",
    "class_weights = dict()\n",
    "for ii in range(num_species):\n",
    "    class_weights[ii] = weights[ii]"
   ]
  },
  {
   "cell_type": "code",
   "execution_count": 89,
   "metadata": {},
   "outputs": [],
   "source": [
    "fea_train = np.expand_dims(fea_train, axis=3)\n",
    "fea_test = np.expand_dims(fea_test, axis=3)"
   ]
  },
  {
   "cell_type": "code",
   "execution_count": 90,
   "metadata": {},
   "outputs": [],
   "source": [
    "fea_train, fea_validate, label_train, label_validate = train_test_split(fea_train, label_train, test_size=0.30, random_state=42)\n",
    "\n",
    "train_generator = DataGenerator(fea_train, label_train, batch_size=batch_size, num_classes=num_species)\n",
    "del fea_train\n",
    "validate_generator = DataGenerator(fea_validate, label_validate, batch_size=batch_size, num_classes=num_species)\n",
    "del fea_validate\n",
    "\n",
    "# test_generator = DataGenerator(fea_test, label_test, batch_size=batch_size, num_classes=num_species)\n"
   ]
  },
  {
   "cell_type": "markdown",
   "metadata": {},
   "source": [
    "### Training the model"
   ]
  },
  {
   "cell_type": "code",
   "execution_count": 91,
   "metadata": {
    "scrolled": true
   },
   "outputs": [
    {
     "name": "stdout",
     "output_type": "stream",
     "text": [
      "Epoch 1/200\n",
      "5723/5725 [============================>.] - ETA: 0s - loss: 1.7588 - accuracy: 0.3076\n",
      "Epoch 00001: val_loss improved from inf to 1.59920, saving model to /home/ys587/__Data/__whistle/__whislte_30_species/__fit_result_species/20210224_190600/STAR2006/epoch_01_valloss_1.5992_valacc_0.3798.hdf5\n",
      "5725/5725 [==============================] - 86s 15ms/step - loss: 1.7589 - accuracy: 0.3075 - val_loss: 1.5992 - val_accuracy: 0.3798\n",
      "Epoch 2/200\n",
      "5724/5725 [============================>.] - ETA: 0s - loss: 1.4069 - accuracy: 0.4569\n",
      "Epoch 00002: val_loss improved from 1.59920 to 1.39259, saving model to /home/ys587/__Data/__whistle/__whislte_30_species/__fit_result_species/20210224_190600/STAR2006/epoch_02_valloss_1.3926_valacc_0.4643.hdf5\n",
      "5725/5725 [==============================] - 86s 15ms/step - loss: 1.4069 - accuracy: 0.4569 - val_loss: 1.3926 - val_accuracy: 0.4643\n",
      "Epoch 3/200\n",
      "5723/5725 [============================>.] - ETA: 0s - loss: 1.2897 - accuracy: 0.5023\n",
      "Epoch 00003: val_loss did not improve from 1.39259\n",
      "5725/5725 [==============================] - 86s 15ms/step - loss: 1.2897 - accuracy: 0.5023 - val_loss: 1.5421 - val_accuracy: 0.4469\n",
      "Epoch 4/200\n",
      "5724/5725 [============================>.] - ETA: 0s - loss: 1.2087 - accuracy: 0.5349\n",
      "Epoch 00004: val_loss improved from 1.39259 to 1.25645, saving model to /home/ys587/__Data/__whistle/__whislte_30_species/__fit_result_species/20210224_190600/STAR2006/epoch_04_valloss_1.2565_valacc_0.5281.hdf5\n",
      "5725/5725 [==============================] - 86s 15ms/step - loss: 1.2087 - accuracy: 0.5349 - val_loss: 1.2565 - val_accuracy: 0.5281\n",
      "Epoch 5/200\n",
      "5724/5725 [============================>.] - ETA: 0s - loss: 1.1432 - accuracy: 0.5614\n",
      "Epoch 00005: val_loss improved from 1.25645 to 1.24212, saving model to /home/ys587/__Data/__whistle/__whislte_30_species/__fit_result_species/20210224_190600/STAR2006/epoch_05_valloss_1.2421_valacc_0.5299.hdf5\n",
      "5725/5725 [==============================] - 86s 15ms/step - loss: 1.1433 - accuracy: 0.5614 - val_loss: 1.2421 - val_accuracy: 0.5299\n",
      "Epoch 6/200\n",
      "5725/5725 [==============================] - ETA: 0s - loss: 1.0869 - accuracy: 0.5806\n",
      "Epoch 00006: val_loss improved from 1.24212 to 1.15449, saving model to /home/ys587/__Data/__whistle/__whislte_30_species/__fit_result_species/20210224_190600/STAR2006/epoch_06_valloss_1.1545_valacc_0.5700.hdf5\n",
      "5725/5725 [==============================] - 86s 15ms/step - loss: 1.0869 - accuracy: 0.5806 - val_loss: 1.1545 - val_accuracy: 0.5700\n",
      "Epoch 7/200\n",
      "5725/5725 [==============================] - ETA: 0s - loss: 1.0360 - accuracy: 0.5997\n",
      "Epoch 00007: val_loss improved from 1.15449 to 1.08213, saving model to /home/ys587/__Data/__whistle/__whislte_30_species/__fit_result_species/20210224_190600/STAR2006/epoch_07_valloss_1.0821_valacc_0.5948.hdf5\n",
      "5725/5725 [==============================] - 86s 15ms/step - loss: 1.0360 - accuracy: 0.5997 - val_loss: 1.0821 - val_accuracy: 0.5948\n",
      "Epoch 8/200\n",
      "5722/5725 [============================>.] - ETA: 0s - loss: 0.9961 - accuracy: 0.6152\n",
      "Epoch 00008: val_loss improved from 1.08213 to 1.05789, saving model to /home/ys587/__Data/__whistle/__whislte_30_species/__fit_result_species/20210224_190600/STAR2006/epoch_08_valloss_1.0579_valacc_0.6022.hdf5\n",
      "5725/5725 [==============================] - 86s 15ms/step - loss: 0.9961 - accuracy: 0.6152 - val_loss: 1.0579 - val_accuracy: 0.6022\n",
      "Epoch 9/200\n",
      "5725/5725 [==============================] - ETA: 0s - loss: 0.9556 - accuracy: 0.6295\n",
      "Epoch 00009: val_loss did not improve from 1.05789\n",
      "5725/5725 [==============================] - 86s 15ms/step - loss: 0.9556 - accuracy: 0.6295 - val_loss: 1.2342 - val_accuracy: 0.5559\n",
      "Epoch 10/200\n",
      "5723/5725 [============================>.] - ETA: 0s - loss: 0.9210 - accuracy: 0.6454\n",
      "Epoch 00010: val_loss improved from 1.05789 to 1.00562, saving model to /home/ys587/__Data/__whistle/__whislte_30_species/__fit_result_species/20210224_190600/STAR2006/epoch_10_valloss_1.0056_valacc_0.6209.hdf5\n",
      "5725/5725 [==============================] - 86s 15ms/step - loss: 0.9209 - accuracy: 0.6455 - val_loss: 1.0056 - val_accuracy: 0.6209\n",
      "Epoch 11/200\n",
      "5723/5725 [============================>.] - ETA: 0s - loss: 0.8873 - accuracy: 0.6567\n",
      "Epoch 00011: val_loss did not improve from 1.00562\n",
      "5725/5725 [==============================] - 86s 15ms/step - loss: 0.8873 - accuracy: 0.6566 - val_loss: 1.0269 - val_accuracy: 0.6168\n",
      "Epoch 12/200\n",
      "5725/5725 [==============================] - ETA: 0s - loss: 0.8539 - accuracy: 0.6679\n",
      "Epoch 00012: val_loss did not improve from 1.00562\n",
      "5725/5725 [==============================] - 86s 15ms/step - loss: 0.8539 - accuracy: 0.6679 - val_loss: 1.0406 - val_accuracy: 0.6097\n",
      "Epoch 13/200\n",
      "5724/5725 [============================>.] - ETA: 0s - loss: 0.8247 - accuracy: 0.6796\n",
      "Epoch 00013: val_loss improved from 1.00562 to 0.95359, saving model to /home/ys587/__Data/__whistle/__whislte_30_species/__fit_result_species/20210224_190600/STAR2006/epoch_13_valloss_0.9536_valacc_0.6470.hdf5\n",
      "5725/5725 [==============================] - 85s 15ms/step - loss: 0.8246 - accuracy: 0.6796 - val_loss: 0.9536 - val_accuracy: 0.6470\n",
      "Epoch 14/200\n",
      "5724/5725 [============================>.] - ETA: 0s - loss: 0.7907 - accuracy: 0.6923\n",
      "Epoch 00014: val_loss did not improve from 0.95359\n",
      "5725/5725 [==============================] - 83s 15ms/step - loss: 0.7908 - accuracy: 0.6923 - val_loss: 1.0217 - val_accuracy: 0.6212\n",
      "Epoch 15/200\n",
      "5723/5725 [============================>.] - ETA: 0s - loss: 0.7636 - accuracy: 0.7013\n",
      "Epoch 00015: val_loss did not improve from 0.95359\n",
      "5725/5725 [==============================] - 83s 15ms/step - loss: 0.7637 - accuracy: 0.7013 - val_loss: 0.9921 - val_accuracy: 0.6323\n",
      "Epoch 16/200\n",
      "5723/5725 [============================>.] - ETA: 0s - loss: 0.7337 - accuracy: 0.7135\n",
      "Epoch 00016: val_loss did not improve from 0.95359\n",
      "5725/5725 [==============================] - 84s 15ms/step - loss: 0.7336 - accuracy: 0.7136 - val_loss: 1.0876 - val_accuracy: 0.6098\n",
      "Epoch 17/200\n",
      "5721/5725 [============================>.] - ETA: 0s - loss: 0.7099 - accuracy: 0.7229\n",
      "Epoch 00017: val_loss improved from 0.95359 to 0.94786, saving model to /home/ys587/__Data/__whistle/__whislte_30_species/__fit_result_species/20210224_190600/STAR2006/epoch_17_valloss_0.9479_valacc_0.6528.hdf5\n",
      "5725/5725 [==============================] - 84s 15ms/step - loss: 0.7097 - accuracy: 0.7230 - val_loss: 0.9479 - val_accuracy: 0.6528\n",
      "Epoch 18/200\n",
      "5725/5725 [==============================] - ETA: 0s - loss: 0.6814 - accuracy: 0.7337\n",
      "Epoch 00018: val_loss did not improve from 0.94786\n",
      "5725/5725 [==============================] - 83s 15ms/step - loss: 0.6814 - accuracy: 0.7337 - val_loss: 0.9838 - val_accuracy: 0.6454\n",
      "Epoch 19/200\n",
      "5722/5725 [============================>.] - ETA: 0s - loss: 0.6573 - accuracy: 0.7437\n",
      "Epoch 00019: val_loss improved from 0.94786 to 0.93292, saving model to /home/ys587/__Data/__whistle/__whislte_30_species/__fit_result_species/20210224_190600/STAR2006/epoch_19_valloss_0.9329_valacc_0.6613.hdf5\n",
      "5725/5725 [==============================] - 83s 15ms/step - loss: 0.6573 - accuracy: 0.7437 - val_loss: 0.9329 - val_accuracy: 0.6613\n",
      "Epoch 20/200\n",
      "5724/5725 [============================>.] - ETA: 0s - loss: 0.6341 - accuracy: 0.7510\n",
      "Epoch 00020: val_loss improved from 0.93292 to 0.92228, saving model to /home/ys587/__Data/__whistle/__whislte_30_species/__fit_result_species/20210224_190600/STAR2006/epoch_20_valloss_0.9223_valacc_0.6656.hdf5\n",
      "5725/5725 [==============================] - 84s 15ms/step - loss: 0.6341 - accuracy: 0.7510 - val_loss: 0.9223 - val_accuracy: 0.6656\n",
      "Epoch 21/200\n",
      "5722/5725 [============================>.] - ETA: 0s - loss: 0.6100 - accuracy: 0.7598\n",
      "Epoch 00021: val_loss improved from 0.92228 to 0.91734, saving model to /home/ys587/__Data/__whistle/__whislte_30_species/__fit_result_species/20210224_190600/STAR2006/epoch_21_valloss_0.9173_valacc_0.6718.hdf5\n",
      "5725/5725 [==============================] - 83s 15ms/step - loss: 0.6100 - accuracy: 0.7598 - val_loss: 0.9173 - val_accuracy: 0.6718\n",
      "Epoch 22/200\n",
      "5723/5725 [============================>.] - ETA: 0s - loss: 0.5862 - accuracy: 0.7685\n",
      "Epoch 00022: val_loss did not improve from 0.91734\n",
      "5725/5725 [==============================] - 84s 15ms/step - loss: 0.5862 - accuracy: 0.7685 - val_loss: 0.9239 - val_accuracy: 0.6707\n",
      "Epoch 23/200\n",
      "5723/5725 [============================>.] - ETA: 0s - loss: 0.5656 - accuracy: 0.7762\n",
      "Epoch 00023: val_loss did not improve from 0.91734\n",
      "5725/5725 [==============================] - 83s 15ms/step - loss: 0.5655 - accuracy: 0.7762 - val_loss: 0.9438 - val_accuracy: 0.6677\n",
      "Epoch 24/200\n",
      "5724/5725 [============================>.] - ETA: 0s - loss: 0.5469 - accuracy: 0.7829\n",
      "Epoch 00024: val_loss did not improve from 0.91734\n",
      "5725/5725 [==============================] - 84s 15ms/step - loss: 0.5470 - accuracy: 0.7829 - val_loss: 0.9492 - val_accuracy: 0.6651\n",
      "Epoch 25/200\n",
      "5724/5725 [============================>.] - ETA: 0s - loss: 0.5287 - accuracy: 0.7913\n",
      "Epoch 00025: val_loss did not improve from 0.91734\n",
      "5725/5725 [==============================] - 83s 15ms/step - loss: 0.5288 - accuracy: 0.7913 - val_loss: 0.9251 - val_accuracy: 0.6753\n",
      "Epoch 26/200\n",
      "5722/5725 [============================>.] - ETA: 0s - loss: 0.5057 - accuracy: 0.7989\n",
      "Epoch 00026: val_loss did not improve from 0.91734\n",
      "5725/5725 [==============================] - 83s 15ms/step - loss: 0.5057 - accuracy: 0.7989 - val_loss: 0.9488 - val_accuracy: 0.6677\n",
      "Epoch 27/200\n",
      "5725/5725 [==============================] - ETA: 0s - loss: 0.4880 - accuracy: 0.8069\n",
      "Epoch 00027: val_loss did not improve from 0.91734\n",
      "5725/5725 [==============================] - 84s 15ms/step - loss: 0.4880 - accuracy: 0.8069 - val_loss: 1.0028 - val_accuracy: 0.6529\n",
      "Epoch 28/200\n",
      "5722/5725 [============================>.] - ETA: 0s - loss: 0.4669 - accuracy: 0.8145\n",
      "Epoch 00028: val_loss improved from 0.91734 to 0.90357, saving model to /home/ys587/__Data/__whistle/__whislte_30_species/__fit_result_species/20210224_190600/STAR2006/epoch_28_valloss_0.9036_valacc_0.6912.hdf5\n",
      "5725/5725 [==============================] - 84s 15ms/step - loss: 0.4668 - accuracy: 0.8145 - val_loss: 0.9036 - val_accuracy: 0.6912\n",
      "Epoch 29/200\n",
      "5725/5725 [==============================] - ETA: 0s - loss: 0.4506 - accuracy: 0.8199\n",
      "Epoch 00029: val_loss did not improve from 0.90357\n",
      "5725/5725 [==============================] - 84s 15ms/step - loss: 0.4506 - accuracy: 0.8199 - val_loss: 0.9608 - val_accuracy: 0.6767\n",
      "Epoch 30/200\n",
      "5722/5725 [============================>.] - ETA: 0s - loss: 0.4354 - accuracy: 0.8268\n",
      "Epoch 00030: val_loss did not improve from 0.90357\n",
      "5725/5725 [==============================] - 83s 15ms/step - loss: 0.4354 - accuracy: 0.8268 - val_loss: 1.2349 - val_accuracy: 0.6101\n",
      "Epoch 31/200\n",
      "5725/5725 [==============================] - ETA: 0s - loss: 0.4190 - accuracy: 0.8323\n",
      "Epoch 00031: val_loss did not improve from 0.90357\n",
      "5725/5725 [==============================] - 84s 15ms/step - loss: 0.4190 - accuracy: 0.8323 - val_loss: 0.9813 - val_accuracy: 0.6720\n",
      "Epoch 32/200\n",
      "5722/5725 [============================>.] - ETA: 0s - loss: 0.4005 - accuracy: 0.8415\n",
      "Epoch 00032: val_loss did not improve from 0.90357\n",
      "5725/5725 [==============================] - 83s 15ms/step - loss: 0.4007 - accuracy: 0.8414 - val_loss: 1.0205 - val_accuracy: 0.6635\n",
      "Epoch 33/200\n",
      "5724/5725 [============================>.] - ETA: 0s - loss: 0.3872 - accuracy: 0.8444\n",
      "Epoch 00033: val_loss did not improve from 0.90357\n",
      "5725/5725 [==============================] - 83s 15ms/step - loss: 0.3872 - accuracy: 0.8444 - val_loss: 0.9744 - val_accuracy: 0.6785\n",
      "Epoch 34/200\n",
      "5721/5725 [============================>.] - ETA: 0s - loss: 0.3746 - accuracy: 0.8495\n",
      "Epoch 00034: val_loss did not improve from 0.90357\n",
      "5725/5725 [==============================] - 84s 15ms/step - loss: 0.3747 - accuracy: 0.8495 - val_loss: 0.9939 - val_accuracy: 0.6757\n",
      "Epoch 35/200\n",
      "5723/5725 [============================>.] - ETA: 0s - loss: 0.3591 - accuracy: 0.8558\n",
      "Epoch 00035: val_loss did not improve from 0.90357\n",
      "5725/5725 [==============================] - 84s 15ms/step - loss: 0.3591 - accuracy: 0.8559 - val_loss: 0.9610 - val_accuracy: 0.6932\n",
      "Epoch 36/200\n",
      "5725/5725 [==============================] - ETA: 0s - loss: 0.3498 - accuracy: 0.8607\n",
      "Epoch 00036: val_loss did not improve from 0.90357\n",
      "5725/5725 [==============================] - 84s 15ms/step - loss: 0.3498 - accuracy: 0.8607 - val_loss: 1.0563 - val_accuracy: 0.6665\n",
      "Epoch 37/200\n",
      "5721/5725 [============================>.] - ETA: 0s - loss: 0.3389 - accuracy: 0.8646\n",
      "Epoch 00037: val_loss did not improve from 0.90357\n",
      "5725/5725 [==============================] - 83s 15ms/step - loss: 0.3389 - accuracy: 0.8646 - val_loss: 1.0158 - val_accuracy: 0.6843\n",
      "Epoch 38/200\n",
      "5723/5725 [============================>.] - ETA: 0s - loss: 0.3244 - accuracy: 0.8705\n",
      "Epoch 00038: val_loss did not improve from 0.90357\n",
      "5725/5725 [==============================] - 84s 15ms/step - loss: 0.3243 - accuracy: 0.8705 - val_loss: 1.0220 - val_accuracy: 0.6883\n",
      "Epoch 39/200\n",
      "5721/5725 [============================>.] - ETA: 0s - loss: 0.3103 - accuracy: 0.8743\n",
      "Epoch 00039: val_loss did not improve from 0.90357\n",
      "5725/5725 [==============================] - 83s 15ms/step - loss: 0.3103 - accuracy: 0.8743 - val_loss: 1.0007 - val_accuracy: 0.6947\n",
      "Epoch 40/200\n",
      "5724/5725 [============================>.] - ETA: 0s - loss: 0.3020 - accuracy: 0.8784\n",
      "Epoch 00040: val_loss did not improve from 0.90357\n",
      "5725/5725 [==============================] - 83s 15ms/step - loss: 0.3020 - accuracy: 0.8784 - val_loss: 1.0218 - val_accuracy: 0.6946\n",
      "Epoch 41/200\n",
      "5721/5725 [============================>.] - ETA: 0s - loss: 0.2932 - accuracy: 0.8813\n",
      "Epoch 00041: val_loss did not improve from 0.90357\n",
      "5725/5725 [==============================] - 84s 15ms/step - loss: 0.2932 - accuracy: 0.8813 - val_loss: 1.0783 - val_accuracy: 0.6811\n",
      "Epoch 42/200\n",
      "5724/5725 [============================>.] - ETA: 0s - loss: 0.2820 - accuracy: 0.8861\n",
      "Epoch 00042: val_loss did not improve from 0.90357\n",
      "5725/5725 [==============================] - 83s 15ms/step - loss: 0.2820 - accuracy: 0.8861 - val_loss: 1.0579 - val_accuracy: 0.6871\n",
      "Epoch 43/200\n",
      "5722/5725 [============================>.] - ETA: 0s - loss: 0.2738 - accuracy: 0.8894\n",
      "Epoch 00043: val_loss did not improve from 0.90357\n",
      "5725/5725 [==============================] - 84s 15ms/step - loss: 0.2738 - accuracy: 0.8894 - val_loss: 1.0523 - val_accuracy: 0.6883\n",
      "Epoch 44/200\n",
      "5724/5725 [============================>.] - ETA: 0s - loss: 0.2656 - accuracy: 0.8931\n",
      "Epoch 00044: val_loss did not improve from 0.90357\n",
      "5725/5725 [==============================] - 83s 15ms/step - loss: 0.2656 - accuracy: 0.8931 - val_loss: 1.0585 - val_accuracy: 0.6963\n",
      "Epoch 45/200\n",
      "5722/5725 [============================>.] - ETA: 0s - loss: 0.2631 - accuracy: 0.8953\n",
      "Epoch 00045: val_loss did not improve from 0.90357\n",
      "5725/5725 [==============================] - 84s 15ms/step - loss: 0.2632 - accuracy: 0.8953 - val_loss: 1.0794 - val_accuracy: 0.6970\n",
      "Epoch 46/200\n",
      "5723/5725 [============================>.] - ETA: 0s - loss: 0.2505 - accuracy: 0.8989\n",
      "Epoch 00046: val_loss did not improve from 0.90357\n",
      "5725/5725 [==============================] - 83s 15ms/step - loss: 0.2505 - accuracy: 0.8989 - val_loss: 1.0795 - val_accuracy: 0.6936\n",
      "Epoch 47/200\n",
      "5723/5725 [============================>.] - ETA: 0s - loss: 0.2421 - accuracy: 0.9021\n",
      "Epoch 00047: val_loss did not improve from 0.90357\n",
      "5725/5725 [==============================] - 84s 15ms/step - loss: 0.2421 - accuracy: 0.9021 - val_loss: 1.1260 - val_accuracy: 0.6871\n",
      "Epoch 48/200\n",
      "5724/5725 [============================>.] - ETA: 0s - loss: 0.2353 - accuracy: 0.9054\n",
      "Epoch 00048: val_loss did not improve from 0.90357\n",
      "5725/5725 [==============================] - 84s 15ms/step - loss: 0.2354 - accuracy: 0.9054 - val_loss: 1.1033 - val_accuracy: 0.6954\n",
      "Epoch 00048: early stopping\n"
     ]
    }
   ],
   "source": [
    "# model = model_cnn14_attention_multi(dim_time, dim_freq, num_species, model_type='feature_level_attention', conv_dim=conv_dim, pool_size=pool_size, pool_stride=pool_stride, hidden_units=hidden_units, l2_regu=l2_regu, drop_rate=drop_rate)\n",
    "model = model_cnn14_spp(dim_time, dim_freq, num_species, conv_dim=conv_dim, pool_size=pool_size, pool_stride=pool_stride, hidden_units=hidden_units, l2_regu=l2_regu, drop_rate=drop_rate)\n",
    "loss = CategoricalCrossentropy()\n",
    "model.compile(optimizer=tf.keras.optimizers.Adam(learning_rate=learning_rate_fn), loss=loss, metrics=['accuracy'])\n",
    "\n",
    "# With classes\n",
    "# history = model.fit(fea_train, to_categorical(label_train), class_weight=class_weights, validation_split=0.3, batch_size=batch_size, epochs=num_epoch, callbacks=[EarlyStopping(patience=num_patience), ModelCheckpoint(filepath=os.path.join(fit_result_path, '{epoch:02d}-{val_loss:.4f}.hdf5'), verbose=1, monitor=\"val_loss\", save_best_only=True)])\n",
    "# history = model.fit(train_generator, validation_data=validate_generator, class_weight=class_weights, epochs=num_epoch, callbacks=[EarlyStopping(patience=num_patience, monitor='val_loss', mode='min', verbose=1), TensorBoard(log_dir=fit_result_path1), ModelCheckpoint(filepath=os.path.join(fit_result_path1, '{epoch:02d}-{val_loss:.4f}.hdf5'), verbose=1, monitor=\"val_loss\", save_best_only=True)])\n",
    "history = model.fit(train_generator, validation_data=validate_generator, class_weight=class_weights, epochs=num_epoch, callbacks=[EarlyStopping(patience=num_patience, monitor='val_loss', mode='min', verbose=1), TensorBoard(log_dir=fit_result_path2), ModelCheckpoint(filepath=os.path.join(fit_result_path2, 'epoch_{epoch:02d}_valloss_{val_loss:.4f}_valacc_{val_accuracy:.4f}.hdf5' ), verbose=1, monitor=\"val_loss\", save_best_only=True)])"
   ]
  },
  {
   "cell_type": "code",
   "execution_count": 92,
   "metadata": {},
   "outputs": [
    {
     "name": "stdout",
     "output_type": "stream",
     "text": [
      "Best model:0.9036\n",
      "/home/ys587/__Data/__whistle/__whislte_30_species/__fit_result_species/20210224_190600/STAR2006/epoch_28_valloss_0.9036_valacc_0.6912.hdf5\n"
     ]
    }
   ],
   "source": [
    "# fit_result_path1 = '/home/ys587/__Data/__whistle/__whislte_30_species/__fit_result_species/20210210_224527'\n",
    "the_best_model, _ = find_best_model(fit_result_path2, purge=False)"
   ]
  },
  {
   "cell_type": "code",
   "execution_count": 93,
   "metadata": {
    "scrolled": true
   },
   "outputs": [
    {
     "name": "stdout",
     "output_type": "stream",
     "text": [
      "Model: \"model_2\"\n",
      "_________________________________________________________________\n",
      "Layer (type)                 Output Shape              Param #   \n",
      "=================================================================\n",
      "input (InputLayer)           [(None, 100, 128, 1)]     0         \n",
      "_________________________________________________________________\n",
      "conv2d_20 (Conv2D)           (None, 100, 128, 16)      160       \n",
      "_________________________________________________________________\n",
      "batch_normalization_20 (Batc (None, 100, 128, 16)      64        \n",
      "_________________________________________________________________\n",
      "activation_20 (Activation)   (None, 100, 128, 16)      0         \n",
      "_________________________________________________________________\n",
      "conv2d_21 (Conv2D)           (None, 100, 128, 16)      2320      \n",
      "_________________________________________________________________\n",
      "batch_normalization_21 (Batc (None, 100, 128, 16)      64        \n",
      "_________________________________________________________________\n",
      "activation_21 (Activation)   (None, 100, 128, 16)      0         \n",
      "_________________________________________________________________\n",
      "max_pooling2d_8 (MaxPooling2 (None, 50, 64, 16)        0         \n",
      "_________________________________________________________________\n",
      "dropout_8 (Dropout)          (None, 50, 64, 16)        0         \n",
      "_________________________________________________________________\n",
      "conv2d_22 (Conv2D)           (None, 50, 64, 32)        4640      \n",
      "_________________________________________________________________\n",
      "batch_normalization_22 (Batc (None, 50, 64, 32)        128       \n",
      "_________________________________________________________________\n",
      "activation_22 (Activation)   (None, 50, 64, 32)        0         \n",
      "_________________________________________________________________\n",
      "conv2d_23 (Conv2D)           (None, 50, 64, 32)        9248      \n",
      "_________________________________________________________________\n",
      "batch_normalization_23 (Batc (None, 50, 64, 32)        128       \n",
      "_________________________________________________________________\n",
      "activation_23 (Activation)   (None, 50, 64, 32)        0         \n",
      "_________________________________________________________________\n",
      "max_pooling2d_9 (MaxPooling2 (None, 25, 32, 32)        0         \n",
      "_________________________________________________________________\n",
      "dropout_9 (Dropout)          (None, 25, 32, 32)        0         \n",
      "_________________________________________________________________\n",
      "conv2d_24 (Conv2D)           (None, 25, 32, 64)        18496     \n",
      "_________________________________________________________________\n",
      "batch_normalization_24 (Batc (None, 25, 32, 64)        256       \n",
      "_________________________________________________________________\n",
      "activation_24 (Activation)   (None, 25, 32, 64)        0         \n",
      "_________________________________________________________________\n",
      "conv2d_25 (Conv2D)           (None, 25, 32, 64)        36928     \n",
      "_________________________________________________________________\n",
      "batch_normalization_25 (Batc (None, 25, 32, 64)        256       \n",
      "_________________________________________________________________\n",
      "activation_25 (Activation)   (None, 25, 32, 64)        0         \n",
      "_________________________________________________________________\n",
      "max_pooling2d_10 (MaxPooling (None, 13, 16, 64)        0         \n",
      "_________________________________________________________________\n",
      "dropout_10 (Dropout)         (None, 13, 16, 64)        0         \n",
      "_________________________________________________________________\n",
      "conv2d_26 (Conv2D)           (None, 13, 16, 128)       73856     \n",
      "_________________________________________________________________\n",
      "batch_normalization_26 (Batc (None, 13, 16, 128)       512       \n",
      "_________________________________________________________________\n",
      "activation_26 (Activation)   (None, 13, 16, 128)       0         \n",
      "_________________________________________________________________\n",
      "conv2d_27 (Conv2D)           (None, 13, 16, 128)       147584    \n",
      "_________________________________________________________________\n",
      "batch_normalization_27 (Batc (None, 13, 16, 128)       512       \n",
      "_________________________________________________________________\n",
      "activation_27 (Activation)   (None, 13, 16, 128)       0         \n",
      "_________________________________________________________________\n",
      "max_pooling2d_11 (MaxPooling (None, 7, 8, 128)         0         \n",
      "_________________________________________________________________\n",
      "dropout_11 (Dropout)         (None, 7, 8, 128)         0         \n",
      "_________________________________________________________________\n",
      "conv2d_28 (Conv2D)           (None, 7, 8, 256)         295168    \n",
      "_________________________________________________________________\n",
      "batch_normalization_28 (Batc (None, 7, 8, 256)         1024      \n",
      "_________________________________________________________________\n",
      "activation_28 (Activation)   (None, 7, 8, 256)         0         \n",
      "_________________________________________________________________\n",
      "conv2d_29 (Conv2D)           (None, 7, 8, 256)         590080    \n",
      "_________________________________________________________________\n",
      "batch_normalization_29 (Batc (None, 7, 8, 256)         1024      \n",
      "_________________________________________________________________\n",
      "activation_29 (Activation)   (None, 7, 8, 256)         0         \n",
      "_________________________________________________________________\n",
      "spatial_pyramid_pooling2d_2  (None, 21, 256)           0         \n",
      "_________________________________________________________________\n",
      "reshape_2 (Reshape)          (None, 5376)              0         \n",
      "_________________________________________________________________\n",
      "cnn14_fcn (Dense)            (None, 256)               1376512   \n",
      "_________________________________________________________________\n",
      "dense_2 (Dense)              (None, 8)                 2056      \n",
      "=================================================================\n",
      "Total params: 2,561,016\n",
      "Trainable params: 2,559,032\n",
      "Non-trainable params: 1,984\n",
      "_________________________________________________________________\n"
     ]
    }
   ],
   "source": [
    "model = load_model(the_best_model)\n",
    "model.summary()"
   ]
  },
  {
   "cell_type": "code",
   "execution_count": 94,
   "metadata": {},
   "outputs": [],
   "source": [
    "label_pred = model.predict(fea_test)\n",
    "# label_pred = model.predict(test_generator)"
   ]
  },
  {
   "cell_type": "code",
   "execution_count": 95,
   "metadata": {},
   "outputs": [],
   "source": [
    "np.set_printoptions(linewidth=200, precision=2, suppress=True)"
   ]
  },
  {
   "cell_type": "code",
   "execution_count": 96,
   "metadata": {},
   "outputs": [
    {
     "name": "stdout",
     "output_type": "stream",
     "text": [
      "Confusion matrix:\n",
      "['BD', 'CD', 'STR', 'SPT', 'SPIN', 'PLT', 'RT', 'FKW']\n",
      "\n",
      "[[  0   0   0   0   0   0   0   0]\n",
      " [ 11   5   2   0   1   4   1   0]\n",
      " [142 119 329 101  40  10   6   3]\n",
      " [125   2   2   1  15   1   0   1]\n",
      " [  1   0   0   0   1   0   0   0]\n",
      " [205  35  24  26  30 237  43  32]\n",
      " [ 13   3   3   0   6   2  17   2]\n",
      " [ 14  17  21   2  10  80  30 729]]\n",
      "\n",
      "[[0.   0.   0.   0.   0.   0.   0.   0.  ]\n",
      " [0.46 0.21 0.08 0.   0.04 0.17 0.04 0.  ]\n",
      " [0.19 0.16 0.44 0.13 0.05 0.01 0.01 0.  ]\n",
      " [0.85 0.01 0.01 0.01 0.1  0.01 0.   0.01]\n",
      " [0.5  0.   0.   0.   0.5  0.   0.   0.  ]\n",
      " [0.32 0.06 0.04 0.04 0.05 0.38 0.07 0.05]\n",
      " [0.28 0.07 0.07 0.   0.13 0.04 0.37 0.04]\n",
      " [0.02 0.02 0.02 0.   0.01 0.09 0.03 0.81]]\n"
     ]
    }
   ],
   "source": [
    "print(\"Confusion matrix:\")\n",
    "cm = confusion_matrix(label_test, np.argmax(label_pred, axis=1), labels=species_id)\n",
    "\n",
    "print(species_list)\n",
    "print('')\n",
    "print(cm)\n",
    "print('')\n",
    "\n",
    "cm2 = cm*1.0\n",
    "for ii in range(cm.shape[0]):\n",
    "    cm_row = cm[ii, :]*1.0\n",
    "\n",
    "    cm_row_sum = cm_row.sum()\n",
    "    if cm_row_sum != 0:\n",
    "        cm2[ii, :] = cm_row / cm_row_sum\n",
    "    else:\n",
    "        cm2[ii, :] = np.zeros(cm.shape[1])\n",
    "\n",
    "print(cm2)"
   ]
  },
  {
   "cell_type": "code",
   "execution_count": 97,
   "metadata": {},
   "outputs": [],
   "source": [
    "from sklearn.metrics import plot_confusion_matrix\n",
    "from sklearn.metrics._plot.confusion_matrix import ConfusionMatrixDisplay\n",
    "disp = ConfusionMatrixDisplay(confusion_matrix=cm, display_labels=species_list)\n",
    "disp2 = ConfusionMatrixDisplay(confusion_matrix=cm2, display_labels=species_list)"
   ]
  },
  {
   "cell_type": "code",
   "execution_count": 98,
   "metadata": {},
   "outputs": [
    {
     "data": {
      "text/plain": [
       "<sklearn.metrics._plot.confusion_matrix.ConfusionMatrixDisplay at 0x7f44af7426d0>"
      ]
     },
     "execution_count": 98,
     "metadata": {},
     "output_type": "execute_result"
    },
    {
     "data": {
      "image/png": "[encoded data removed]",
      "text/plain": [
       "<Figure size 1080x1080 with 2 Axes>"
      ]
     },
     "metadata": {
      "needs_background": "light"
     },
     "output_type": "display_data"
    }
   ],
   "source": [
    "fig, ax = plt.subplots(figsize=[15, 15])\n",
    "disp.plot(include_values=True,\n",
    "                     cmap='viridis', ax=ax, xticks_rotation='horizontal',\n",
    "                     values_format=None, colorbar=True)\n"
   ]
  },
  {
   "cell_type": "code",
   "execution_count": 99,
   "metadata": {},
   "outputs": [
    {
     "data": {
      "text/plain": [
       "<sklearn.metrics._plot.confusion_matrix.ConfusionMatrixDisplay at 0x7f44af742730>"
      ]
     },
     "execution_count": 99,
     "metadata": {},
     "output_type": "execute_result"
    },
    {
     "data": {
      "image/png": "[encoded data removed]",
      "text/plain": [
       "<Figure size 1080x1080 with 2 Axes>"
      ]
     },
     "metadata": {
      "needs_background": "light"
     },
     "output_type": "display_data"
    }
   ],
   "source": [
    "fig, ax = plt.subplots(figsize=[15, 15])\n",
    "disp2.plot(include_values=True,\n",
    "                     cmap='viridis', ax=ax, xticks_rotation='horizontal',\n",
    "                     values_format='.2f', colorbar=True)"
   ]
  },
  {
   "cell_type": "markdown",
   "metadata": {},
   "source": [
    "## HICEAS2002"
   ]
  },
  {
   "cell_type": "code",
   "execution_count": 100,
   "metadata": {},
   "outputs": [
    {
     "name": "stdout",
     "output_type": "stream",
     "text": [
      "HICEAS2002\n"
     ]
    }
   ],
   "source": [
    "ee = deployment[3]\n",
    "print(ee)"
   ]
  },
  {
   "cell_type": "code",
   "execution_count": 101,
   "metadata": {},
   "outputs": [],
   "source": [
    "# Training data\n",
    "fea_temp = np.load(os.path.join(feature_path, 'train_oswald_no_'+ee+'.npz'))\n",
    "fea_train = fea_temp['fea_train']\n",
    "label_train_list = fea_temp['label_train']\n",
    "del fea_temp"
   ]
  },
  {
   "cell_type": "code",
   "execution_count": 102,
   "metadata": {},
   "outputs": [],
   "source": [
    "label_train = np.zeros(len(label_train_list))\n",
    "for ii in range(len(label_train_list)):\n",
    "    label_train[ii] = species_dict[label_train_list[ii]]"
   ]
  },
  {
   "cell_type": "code",
   "execution_count": 103,
   "metadata": {},
   "outputs": [],
   "source": [
    "# Testing data\n",
    "fea_temp = np.load(os.path.join(feature_path, 'oswald_'+ee+'_orig.npz'))\n",
    "fea_test = fea_temp['feas_orig']\n",
    "label_test_list = fea_temp['labels_orig']\n",
    "\n",
    "fea_test = fea_test[:,:100,:]\n",
    "label_test = np.zeros(len(label_test_list))\n",
    "for ii in range(len(label_test_list)):\n",
    "    label_test[ii] = species_dict[label_test_list[ii]]"
   ]
  },
  {
   "cell_type": "code",
   "execution_count": 104,
   "metadata": {},
   "outputs": [],
   "source": [
    "fea_train = fea_train[:,:100,:]"
   ]
  },
  {
   "cell_type": "code",
   "execution_count": 105,
   "metadata": {},
   "outputs": [],
   "source": [
    "label_train = np.zeros(len(label_train_list))\n",
    "for ii in range(len(label_train_list)):\n",
    "    label_train[ii] = species_dict[label_train_list[ii]]"
   ]
  },
  {
   "cell_type": "code",
   "execution_count": 106,
   "metadata": {
    "scrolled": true
   },
   "outputs": [
    {
     "data": {
      "text/plain": [
       "Counter({'BD': 16148,\n",
       "         'CD': 28632,\n",
       "         'PLT': 8472,\n",
       "         'RT': 6016,\n",
       "         'SPIN': 10594,\n",
       "         'SPT': 18036,\n",
       "         'STR': 21768,\n",
       "         'FKW': 20160})"
      ]
     },
     "execution_count": 106,
     "metadata": {},
     "output_type": "execute_result"
    }
   ],
   "source": [
    "Counter(label_train_list)"
   ]
  },
  {
   "cell_type": "code",
   "execution_count": 107,
   "metadata": {},
   "outputs": [
    {
     "data": {
      "text/plain": [
       "Counter({0.0: 41, 5.0: 1052, 6.0: 749, 4.0: 86, 3.0: 385, 2.0: 216})"
      ]
     },
     "execution_count": 107,
     "metadata": {},
     "output_type": "execute_result"
    }
   ],
   "source": [
    "Counter(label_test.tolist())"
   ]
  },
  {
   "cell_type": "code",
   "execution_count": 108,
   "metadata": {},
   "outputs": [],
   "source": [
    "fit_result_path2 = os.path.join(fit_result_path1, ee)\n",
    "if not os.path.exists(fit_result_path2):\n",
    "    makedirs(fit_result_path2)"
   ]
  },
  {
   "cell_type": "code",
   "execution_count": 109,
   "metadata": {},
   "outputs": [
    {
     "name": "stdout",
     "output_type": "stream",
     "text": [
      "feature train shape: (129826, 100, 128)\n",
      "feature test shape: (2529, 100, 128)\n",
      "label train shape: (129826,)\n",
      "label test shape: (2529,)\n",
      "dim_time: 100\n",
      "dim_freq: 128\n"
     ]
    }
   ],
   "source": [
    "print('feature train shape: '+str(fea_train.shape))\n",
    "print('feature test shape: '+str(fea_test.shape))\n",
    "print('label train shape: '+str(label_train.shape))\n",
    "print('label test shape: '+str(label_test.shape))\n",
    "\n",
    "dim_time = fea_train.shape[1]\n",
    "dim_freq = fea_train.shape[2]\n",
    "print('dim_time: '+str(dim_time))\n",
    "print('dim_freq: '+str(dim_freq))"
   ]
  },
  {
   "cell_type": "code",
   "execution_count": 110,
   "metadata": {},
   "outputs": [],
   "source": [
    "# shuffle features & labels\n",
    "fea_train, label_train = shuffle(fea_train, label_train, random_state=0)\n",
    "fea_test, label_test = shuffle(fea_test, label_test, random_state=0)"
   ]
  },
  {
   "cell_type": "code",
   "execution_count": 111,
   "metadata": {},
   "outputs": [],
   "source": [
    "# class weight\n",
    "weights = compute_class_weight(class_weight='balanced', classes=np.unique(label_train), y=label_train)\n",
    "\n",
    "class_weights = dict()\n",
    "for ii in range(num_species):\n",
    "    class_weights[ii] = weights[ii]"
   ]
  },
  {
   "cell_type": "code",
   "execution_count": 112,
   "metadata": {},
   "outputs": [],
   "source": [
    "fea_train = np.expand_dims(fea_train, axis=3)\n",
    "fea_test = np.expand_dims(fea_test, axis=3)"
   ]
  },
  {
   "cell_type": "code",
   "execution_count": 113,
   "metadata": {},
   "outputs": [],
   "source": [
    "fea_train, fea_validate, label_train, label_validate = train_test_split(fea_train, label_train, test_size=0.30, random_state=42)\n",
    "\n",
    "train_generator = DataGenerator(fea_train, label_train, batch_size=batch_size, num_classes=num_species)\n",
    "del fea_train\n",
    "validate_generator = DataGenerator(fea_validate, label_validate, batch_size=batch_size, num_classes=num_species)\n",
    "del fea_validate\n",
    "\n",
    "# test_generator = DataGenerator(fea_test, label_test, batch_size=batch_size, num_classes=num_species)\n"
   ]
  },
  {
   "cell_type": "markdown",
   "metadata": {},
   "source": [
    "### Training the model"
   ]
  },
  {
   "cell_type": "code",
   "execution_count": 114,
   "metadata": {
    "scrolled": true
   },
   "outputs": [
    {
     "name": "stdout",
     "output_type": "stream",
     "text": [
      "Epoch 1/200\n",
      "5677/5679 [============================>.] - ETA: 0s - loss: 1.7810 - accuracy: 0.2989\n",
      "Epoch 00001: val_loss improved from inf to 1.66252, saving model to /home/ys587/__Data/__whistle/__whislte_30_species/__fit_result_species/20210224_190600/HICEAS2002/epoch_01_valloss_1.6625_valacc_0.3468.hdf5\n",
      "5679/5679 [==============================] - 83s 15ms/step - loss: 1.7809 - accuracy: 0.2990 - val_loss: 1.6625 - val_accuracy: 0.3468\n",
      "Epoch 2/200\n",
      "5676/5679 [============================>.] - ETA: 0s - loss: 1.4014 - accuracy: 0.4552\n",
      "Epoch 00002: val_loss improved from 1.66252 to 1.47203, saving model to /home/ys587/__Data/__whistle/__whislte_30_species/__fit_result_species/20210224_190600/HICEAS2002/epoch_02_valloss_1.4720_valacc_0.4445.hdf5\n",
      "5679/5679 [==============================] - 83s 15ms/step - loss: 1.4015 - accuracy: 0.4552 - val_loss: 1.4720 - val_accuracy: 0.4445\n",
      "Epoch 3/200\n",
      "5677/5679 [============================>.] - ETA: 0s - loss: 1.2831 - accuracy: 0.5028\n",
      "Epoch 00003: val_loss did not improve from 1.47203\n",
      "5679/5679 [==============================] - 82s 15ms/step - loss: 1.2830 - accuracy: 0.5029 - val_loss: 1.5026 - val_accuracy: 0.4325\n",
      "Epoch 4/200\n",
      "5679/5679 [==============================] - ETA: 0s - loss: 1.1993 - accuracy: 0.5357\n",
      "Epoch 00004: val_loss improved from 1.47203 to 1.35922, saving model to /home/ys587/__Data/__whistle/__whislte_30_species/__fit_result_species/20210224_190600/HICEAS2002/epoch_04_valloss_1.3592_valacc_0.4870.hdf5\n",
      "5679/5679 [==============================] - 83s 15ms/step - loss: 1.1993 - accuracy: 0.5357 - val_loss: 1.3592 - val_accuracy: 0.4870\n",
      "Epoch 5/200\n",
      "5677/5679 [============================>.] - ETA: 0s - loss: 1.1294 - accuracy: 0.5636\n",
      "Epoch 00005: val_loss improved from 1.35922 to 1.27886, saving model to /home/ys587/__Data/__whistle/__whislte_30_species/__fit_result_species/20210224_190600/HICEAS2002/epoch_05_valloss_1.2789_valacc_0.5166.hdf5\n",
      "5679/5679 [==============================] - 82s 15ms/step - loss: 1.1294 - accuracy: 0.5637 - val_loss: 1.2789 - val_accuracy: 0.5166\n",
      "Epoch 6/200\n",
      "5677/5679 [============================>.] - ETA: 0s - loss: 1.0704 - accuracy: 0.5839\n",
      "Epoch 00006: val_loss improved from 1.27886 to 1.16144, saving model to /home/ys587/__Data/__whistle/__whislte_30_species/__fit_result_species/20210224_190600/HICEAS2002/epoch_06_valloss_1.1614_valacc_0.5575.hdf5\n",
      "5679/5679 [==============================] - 82s 15ms/step - loss: 1.0706 - accuracy: 0.5838 - val_loss: 1.1614 - val_accuracy: 0.5575\n",
      "Epoch 7/200\n",
      "5676/5679 [============================>.] - ETA: 0s - loss: 1.0223 - accuracy: 0.6011\n",
      "Epoch 00007: val_loss improved from 1.16144 to 1.06017, saving model to /home/ys587/__Data/__whistle/__whislte_30_species/__fit_result_species/20210224_190600/HICEAS2002/epoch_07_valloss_1.0602_valacc_0.6069.hdf5\n",
      "5679/5679 [==============================] - 83s 15ms/step - loss: 1.0222 - accuracy: 0.6011 - val_loss: 1.0602 - val_accuracy: 0.6069\n",
      "Epoch 8/200\n",
      "5676/5679 [============================>.] - ETA: 0s - loss: 0.9748 - accuracy: 0.6189\n",
      "Epoch 00008: val_loss improved from 1.06017 to 1.01172, saving model to /home/ys587/__Data/__whistle/__whislte_30_species/__fit_result_species/20210224_190600/HICEAS2002/epoch_08_valloss_1.0117_valacc_0.6202.hdf5\n",
      "5679/5679 [==============================] - 82s 15ms/step - loss: 0.9748 - accuracy: 0.6189 - val_loss: 1.0117 - val_accuracy: 0.6202\n",
      "Epoch 9/200\n",
      "5679/5679 [==============================] - ETA: 0s - loss: 0.9350 - accuracy: 0.6343\n",
      "Epoch 00009: val_loss did not improve from 1.01172\n",
      "5679/5679 [==============================] - 82s 14ms/step - loss: 0.9350 - accuracy: 0.6343 - val_loss: 1.0251 - val_accuracy: 0.6091\n",
      "Epoch 10/200\n",
      "5676/5679 [============================>.] - ETA: 0s - loss: 0.8978 - accuracy: 0.6466\n",
      "Epoch 00010: val_loss did not improve from 1.01172\n",
      "5679/5679 [==============================] - 82s 14ms/step - loss: 0.8978 - accuracy: 0.6465 - val_loss: 1.0714 - val_accuracy: 0.6029\n",
      "Epoch 11/200\n",
      "5676/5679 [============================>.] - ETA: 0s - loss: 0.8636 - accuracy: 0.6591\n",
      "Epoch 00011: val_loss improved from 1.01172 to 0.90673, saving model to /home/ys587/__Data/__whistle/__whislte_30_species/__fit_result_species/20210224_190600/HICEAS2002/epoch_11_valloss_0.9067_valacc_0.6607.hdf5\n",
      "5679/5679 [==============================] - 82s 15ms/step - loss: 0.8637 - accuracy: 0.6591 - val_loss: 0.9067 - val_accuracy: 0.6607\n",
      "Epoch 12/200\n",
      "5676/5679 [============================>.] - ETA: 0s - loss: 0.8311 - accuracy: 0.6717\n",
      "Epoch 00012: val_loss did not improve from 0.90673\n",
      "5679/5679 [==============================] - 82s 14ms/step - loss: 0.8312 - accuracy: 0.6717 - val_loss: 0.9452 - val_accuracy: 0.6427\n",
      "Epoch 13/200\n",
      "5677/5679 [============================>.] - ETA: 0s - loss: 0.7999 - accuracy: 0.6815\n",
      "Epoch 00013: val_loss did not improve from 0.90673\n",
      "5679/5679 [==============================] - 82s 14ms/step - loss: 0.7999 - accuracy: 0.6815 - val_loss: 0.9570 - val_accuracy: 0.6401\n",
      "Epoch 14/200\n",
      "5675/5679 [============================>.] - ETA: 0s - loss: 0.7700 - accuracy: 0.6926\n",
      "Epoch 00014: val_loss did not improve from 0.90673\n",
      "5679/5679 [==============================] - 82s 15ms/step - loss: 0.7700 - accuracy: 0.6926 - val_loss: 0.9427 - val_accuracy: 0.6513\n",
      "Epoch 15/200\n",
      "5677/5679 [============================>.] - ETA: 0s - loss: 0.7452 - accuracy: 0.7015\n",
      "Epoch 00015: val_loss did not improve from 0.90673\n",
      "5679/5679 [==============================] - 83s 15ms/step - loss: 0.7452 - accuracy: 0.7015 - val_loss: 0.9672 - val_accuracy: 0.6439\n",
      "Epoch 16/200\n",
      "5675/5679 [============================>.] - ETA: 0s - loss: 0.7162 - accuracy: 0.7121\n",
      "Epoch 00016: val_loss improved from 0.90673 to 0.84972, saving model to /home/ys587/__Data/__whistle/__whislte_30_species/__fit_result_species/20210224_190600/HICEAS2002/epoch_16_valloss_0.8497_valacc_0.6822.hdf5\n",
      "5679/5679 [==============================] - 82s 15ms/step - loss: 0.7162 - accuracy: 0.7121 - val_loss: 0.8497 - val_accuracy: 0.6822\n",
      "Epoch 17/200\n",
      "5676/5679 [============================>.] - ETA: 0s - loss: 0.6908 - accuracy: 0.7217\n",
      "Epoch 00017: val_loss did not improve from 0.84972\n",
      "5679/5679 [==============================] - 82s 14ms/step - loss: 0.6907 - accuracy: 0.7217 - val_loss: 0.8788 - val_accuracy: 0.6711\n",
      "Epoch 18/200\n",
      "5676/5679 [============================>.] - ETA: 0s - loss: 0.6666 - accuracy: 0.7295\n",
      "Epoch 00018: val_loss did not improve from 0.84972\n",
      "5679/5679 [==============================] - 83s 15ms/step - loss: 0.6664 - accuracy: 0.7295 - val_loss: 0.9380 - val_accuracy: 0.6615\n",
      "Epoch 19/200\n",
      "5678/5679 [============================>.] - ETA: 0s - loss: 0.6406 - accuracy: 0.7391\n",
      "Epoch 00019: val_loss did not improve from 0.84972\n",
      "5679/5679 [==============================] - 82s 14ms/step - loss: 0.6406 - accuracy: 0.7391 - val_loss: 0.8832 - val_accuracy: 0.6725\n",
      "Epoch 20/200\n",
      "5677/5679 [============================>.] - ETA: 0s - loss: 0.6196 - accuracy: 0.7477\n",
      "Epoch 00020: val_loss did not improve from 0.84972\n",
      "5679/5679 [==============================] - 83s 15ms/step - loss: 0.6195 - accuracy: 0.7478 - val_loss: 0.8558 - val_accuracy: 0.6876\n",
      "Epoch 21/200\n",
      "5678/5679 [============================>.] - ETA: 0s - loss: 0.5981 - accuracy: 0.7550\n",
      "Epoch 00021: val_loss did not improve from 0.84972\n",
      "5679/5679 [==============================] - 82s 15ms/step - loss: 0.5981 - accuracy: 0.7550 - val_loss: 0.8547 - val_accuracy: 0.6941\n",
      "Epoch 22/200\n",
      "5678/5679 [============================>.] - ETA: 0s - loss: 0.5803 - accuracy: 0.7629\n",
      "Epoch 00022: val_loss improved from 0.84972 to 0.79583, saving model to /home/ys587/__Data/__whistle/__whislte_30_species/__fit_result_species/20210224_190600/HICEAS2002/epoch_22_valloss_0.7958_valacc_0.7074.hdf5\n",
      "5679/5679 [==============================] - 83s 15ms/step - loss: 0.5803 - accuracy: 0.7629 - val_loss: 0.7958 - val_accuracy: 0.7074\n",
      "Epoch 23/200\n",
      "5678/5679 [============================>.] - ETA: 0s - loss: 0.5588 - accuracy: 0.7712\n",
      "Epoch 00023: val_loss did not improve from 0.79583\n",
      "5679/5679 [==============================] - 82s 14ms/step - loss: 0.5588 - accuracy: 0.7712 - val_loss: 0.8888 - val_accuracy: 0.6782\n",
      "Epoch 24/200\n",
      "5677/5679 [============================>.] - ETA: 0s - loss: 0.5380 - accuracy: 0.7782\n",
      "Epoch 00024: val_loss did not improve from 0.79583\n",
      "5679/5679 [==============================] - 82s 14ms/step - loss: 0.5381 - accuracy: 0.7781 - val_loss: 0.9037 - val_accuracy: 0.6758\n",
      "Epoch 25/200\n",
      "5675/5679 [============================>.] - ETA: 0s - loss: 0.5188 - accuracy: 0.7866\n",
      "Epoch 00025: val_loss did not improve from 0.79583\n",
      "5679/5679 [==============================] - 82s 14ms/step - loss: 0.5188 - accuracy: 0.7866 - val_loss: 0.8778 - val_accuracy: 0.6838\n",
      "Epoch 26/200\n",
      "5675/5679 [============================>.] - ETA: 0s - loss: 0.4970 - accuracy: 0.7943\n",
      "Epoch 00026: val_loss did not improve from 0.79583\n",
      "5679/5679 [==============================] - 82s 14ms/step - loss: 0.4969 - accuracy: 0.7944 - val_loss: 0.9208 - val_accuracy: 0.6830\n",
      "Epoch 27/200\n",
      "5679/5679 [==============================] - ETA: 0s - loss: 0.4842 - accuracy: 0.7989\n",
      "Epoch 00027: val_loss did not improve from 0.79583\n",
      "5679/5679 [==============================] - 82s 14ms/step - loss: 0.4842 - accuracy: 0.7989 - val_loss: 0.8139 - val_accuracy: 0.7076\n",
      "Epoch 28/200\n",
      "5676/5679 [============================>.] - ETA: 0s - loss: 0.4599 - accuracy: 0.8089\n",
      "Epoch 00028: val_loss did not improve from 0.79583\n",
      "5679/5679 [==============================] - 82s 14ms/step - loss: 0.4600 - accuracy: 0.8089 - val_loss: 0.8102 - val_accuracy: 0.7147\n",
      "Epoch 29/200\n",
      "5675/5679 [============================>.] - ETA: 0s - loss: 0.4445 - accuracy: 0.8144\n",
      "Epoch 00029: val_loss improved from 0.79583 to 0.78310, saving model to /home/ys587/__Data/__whistle/__whislte_30_species/__fit_result_species/20210224_190600/HICEAS2002/epoch_29_valloss_0.7831_valacc_0.7256.hdf5\n",
      "5679/5679 [==============================] - 82s 14ms/step - loss: 0.4444 - accuracy: 0.8144 - val_loss: 0.7831 - val_accuracy: 0.7256\n",
      "Epoch 30/200\n",
      "5676/5679 [============================>.] - ETA: 0s - loss: 0.4320 - accuracy: 0.8182\n",
      "Epoch 00030: val_loss did not improve from 0.78310\n",
      "5679/5679 [==============================] - 82s 14ms/step - loss: 0.4319 - accuracy: 0.8182 - val_loss: 0.7995 - val_accuracy: 0.7208\n",
      "Epoch 31/200\n",
      "5678/5679 [============================>.] - ETA: 0s - loss: 0.4142 - accuracy: 0.8265\n",
      "Epoch 00031: val_loss improved from 0.78310 to 0.77887, saving model to /home/ys587/__Data/__whistle/__whislte_30_species/__fit_result_species/20210224_190600/HICEAS2002/epoch_31_valloss_0.7789_valacc_0.7251.hdf5\n",
      "5679/5679 [==============================] - 82s 14ms/step - loss: 0.4142 - accuracy: 0.8265 - val_loss: 0.7789 - val_accuracy: 0.7251\n",
      "Epoch 32/200\n",
      "5675/5679 [============================>.] - ETA: 0s - loss: 0.3997 - accuracy: 0.8296\n",
      "Epoch 00032: val_loss did not improve from 0.77887\n",
      "5679/5679 [==============================] - 82s 14ms/step - loss: 0.3997 - accuracy: 0.8296 - val_loss: 0.8023 - val_accuracy: 0.7217\n",
      "Epoch 33/200\n",
      "5679/5679 [==============================] - ETA: 0s - loss: 0.3885 - accuracy: 0.8362\n",
      "Epoch 00033: val_loss did not improve from 0.77887\n",
      "5679/5679 [==============================] - 82s 14ms/step - loss: 0.3885 - accuracy: 0.8362 - val_loss: 0.8174 - val_accuracy: 0.7222\n",
      "Epoch 34/200\n",
      "5679/5679 [==============================] - ETA: 0s - loss: 0.3734 - accuracy: 0.8410\n",
      "Epoch 00034: val_loss did not improve from 0.77887\n",
      "5679/5679 [==============================] - 82s 14ms/step - loss: 0.3734 - accuracy: 0.8410 - val_loss: 0.8821 - val_accuracy: 0.7070\n",
      "Epoch 35/200\n",
      "5679/5679 [==============================] - ETA: 0s - loss: 0.3618 - accuracy: 0.8458\n",
      "Epoch 00035: val_loss did not improve from 0.77887\n",
      "5679/5679 [==============================] - 82s 14ms/step - loss: 0.3618 - accuracy: 0.8458 - val_loss: 0.8529 - val_accuracy: 0.7146\n",
      "Epoch 36/200\n",
      "5676/5679 [============================>.] - ETA: 0s - loss: 0.3474 - accuracy: 0.8529\n",
      "Epoch 00036: val_loss did not improve from 0.77887\n",
      "5679/5679 [==============================] - 82s 14ms/step - loss: 0.3474 - accuracy: 0.8529 - val_loss: 0.8574 - val_accuracy: 0.7136\n",
      "Epoch 37/200\n",
      "5675/5679 [============================>.] - ETA: 0s - loss: 0.3365 - accuracy: 0.8568\n",
      "Epoch 00037: val_loss did not improve from 0.77887\n",
      "5679/5679 [==============================] - 82s 14ms/step - loss: 0.3364 - accuracy: 0.8568 - val_loss: 0.8234 - val_accuracy: 0.7241\n",
      "Epoch 38/200\n",
      "5677/5679 [============================>.] - ETA: 0s - loss: 0.3217 - accuracy: 0.8635\n",
      "Epoch 00038: val_loss did not improve from 0.77887\n",
      "5679/5679 [==============================] - 82s 14ms/step - loss: 0.3217 - accuracy: 0.8634 - val_loss: 0.9494 - val_accuracy: 0.6992\n",
      "Epoch 39/200\n",
      "5678/5679 [============================>.] - ETA: 0s - loss: 0.3095 - accuracy: 0.8677\n",
      "Epoch 00039: val_loss did not improve from 0.77887\n",
      "5679/5679 [==============================] - 82s 14ms/step - loss: 0.3095 - accuracy: 0.8677 - val_loss: 0.8446 - val_accuracy: 0.7240\n",
      "Epoch 40/200\n",
      "5676/5679 [============================>.] - ETA: 0s - loss: 0.2995 - accuracy: 0.8722\n",
      "Epoch 00040: val_loss did not improve from 0.77887\n",
      "5679/5679 [==============================] - 82s 14ms/step - loss: 0.2995 - accuracy: 0.8722 - val_loss: 0.8236 - val_accuracy: 0.7368\n",
      "Epoch 41/200\n",
      "5675/5679 [============================>.] - ETA: 0s - loss: 0.2896 - accuracy: 0.8761\n",
      "Epoch 00041: val_loss did not improve from 0.77887\n",
      "5679/5679 [==============================] - 82s 14ms/step - loss: 0.2895 - accuracy: 0.8762 - val_loss: 0.9131 - val_accuracy: 0.7222\n",
      "Epoch 42/200\n",
      "5679/5679 [==============================] - ETA: 0s - loss: 0.2810 - accuracy: 0.8801\n",
      "Epoch 00042: val_loss did not improve from 0.77887\n",
      "5679/5679 [==============================] - 82s 14ms/step - loss: 0.2810 - accuracy: 0.8801 - val_loss: 0.8717 - val_accuracy: 0.7265\n",
      "Epoch 43/200\n",
      "5676/5679 [============================>.] - ETA: 0s - loss: 0.2688 - accuracy: 0.8855\n",
      "Epoch 00043: val_loss did not improve from 0.77887\n",
      "5679/5679 [==============================] - 82s 14ms/step - loss: 0.2688 - accuracy: 0.8855 - val_loss: 0.9070 - val_accuracy: 0.7161\n",
      "Epoch 44/200\n",
      "5675/5679 [============================>.] - ETA: 0s - loss: 0.2629 - accuracy: 0.8875\n",
      "Epoch 00044: val_loss did not improve from 0.77887\n",
      "5679/5679 [==============================] - 82s 14ms/step - loss: 0.2630 - accuracy: 0.8875 - val_loss: 0.9264 - val_accuracy: 0.7128\n",
      "Epoch 45/200\n",
      "5679/5679 [==============================] - ETA: 0s - loss: 0.2520 - accuracy: 0.8913\n",
      "Epoch 00045: val_loss did not improve from 0.77887\n",
      "5679/5679 [==============================] - 82s 14ms/step - loss: 0.2520 - accuracy: 0.8913 - val_loss: 0.8991 - val_accuracy: 0.7320\n",
      "Epoch 46/200\n",
      "5675/5679 [============================>.] - ETA: 0s - loss: 0.2427 - accuracy: 0.8960\n",
      "Epoch 00046: val_loss did not improve from 0.77887\n",
      "5679/5679 [==============================] - 82s 14ms/step - loss: 0.2427 - accuracy: 0.8961 - val_loss: 0.9259 - val_accuracy: 0.7227\n",
      "Epoch 47/200\n",
      "5677/5679 [============================>.] - ETA: 0s - loss: 0.2347 - accuracy: 0.8984\n",
      "Epoch 00047: val_loss did not improve from 0.77887\n",
      "5679/5679 [==============================] - 82s 14ms/step - loss: 0.2348 - accuracy: 0.8985 - val_loss: 0.9058 - val_accuracy: 0.7313\n",
      "Epoch 48/200\n",
      "5678/5679 [============================>.] - ETA: 0s - loss: 0.2317 - accuracy: 0.9000\n",
      "Epoch 00048: val_loss did not improve from 0.77887\n",
      "5679/5679 [==============================] - 82s 14ms/step - loss: 0.2318 - accuracy: 0.9000 - val_loss: 0.9058 - val_accuracy: 0.7270\n",
      "Epoch 49/200\n",
      "5678/5679 [============================>.] - ETA: 0s - loss: 0.2242 - accuracy: 0.9038\n",
      "Epoch 00049: val_loss did not improve from 0.77887\n",
      "5679/5679 [==============================] - 82s 14ms/step - loss: 0.2243 - accuracy: 0.9038 - val_loss: 0.8804 - val_accuracy: 0.7345\n",
      "Epoch 50/200\n",
      "5675/5679 [============================>.] - ETA: 0s - loss: 0.2187 - accuracy: 0.9075\n",
      "Epoch 00050: val_loss did not improve from 0.77887\n",
      "5679/5679 [==============================] - 82s 14ms/step - loss: 0.2186 - accuracy: 0.9075 - val_loss: 0.9164 - val_accuracy: 0.7254\n",
      "Epoch 51/200\n",
      "5677/5679 [============================>.] - ETA: 0s - loss: 0.2071 - accuracy: 0.9105\n",
      "Epoch 00051: val_loss did not improve from 0.77887\n",
      "5679/5679 [==============================] - 82s 14ms/step - loss: 0.2071 - accuracy: 0.9105 - val_loss: 1.0043 - val_accuracy: 0.7229\n",
      "Epoch 00051: early stopping\n"
     ]
    }
   ],
   "source": [
    "# model = model_cnn14_attention_multi(dim_time, dim_freq, num_species, model_type='feature_level_attention', conv_dim=conv_dim, pool_size=pool_size, pool_stride=pool_stride, hidden_units=hidden_units, l2_regu=l2_regu, drop_rate=drop_rate)\n",
    "model = model_cnn14_spp(dim_time, dim_freq, num_species, conv_dim=conv_dim, pool_size=pool_size, pool_stride=pool_stride, hidden_units=hidden_units, l2_regu=l2_regu, drop_rate=drop_rate)\n",
    "loss = CategoricalCrossentropy()\n",
    "model.compile(optimizer=tf.keras.optimizers.Adam(learning_rate=learning_rate_fn), loss=loss, metrics=['accuracy'])\n",
    "\n",
    "# With classes\n",
    "# history = model.fit(fea_train, to_categorical(label_train), class_weight=class_weights, validation_split=0.3, batch_size=batch_size, epochs=num_epoch, callbacks=[EarlyStopping(patience=num_patience), ModelCheckpoint(filepath=os.path.join(fit_result_path, '{epoch:02d}-{val_loss:.4f}.hdf5'), verbose=1, monitor=\"val_loss\", save_best_only=True)])\n",
    "# history = model.fit(train_generator, validation_data=validate_generator, class_weight=class_weights, epochs=num_epoch, callbacks=[EarlyStopping(patience=num_patience, monitor='val_loss', mode='min', verbose=1), TensorBoard(log_dir=fit_result_path1), ModelCheckpoint(filepath=os.path.join(fit_result_path1, '{epoch:02d}-{val_loss:.4f}.hdf5'), verbose=1, monitor=\"val_loss\", save_best_only=True)])\n",
    "history = model.fit(train_generator, validation_data=validate_generator, class_weight=class_weights, epochs=num_epoch, callbacks=[EarlyStopping(patience=num_patience, monitor='val_loss', mode='min', verbose=1), TensorBoard(log_dir=fit_result_path2), ModelCheckpoint(filepath=os.path.join(fit_result_path2, 'epoch_{epoch:02d}_valloss_{val_loss:.4f}_valacc_{val_accuracy:.4f}.hdf5' ), verbose=1, monitor=\"val_loss\", save_best_only=True)])"
   ]
  },
  {
   "cell_type": "code",
   "execution_count": 115,
   "metadata": {},
   "outputs": [
    {
     "name": "stdout",
     "output_type": "stream",
     "text": [
      "Best model:0.7789\n",
      "/home/ys587/__Data/__whistle/__whislte_30_species/__fit_result_species/20210224_190600/HICEAS2002/epoch_31_valloss_0.7789_valacc_0.7251.hdf5\n"
     ]
    }
   ],
   "source": [
    "# fit_result_path1 = '/home/ys587/__Data/__whistle/__whislte_30_species/__fit_result_species/20210210_224527'\n",
    "the_best_model, _ = find_best_model(fit_result_path2, purge=False)"
   ]
  },
  {
   "cell_type": "code",
   "execution_count": 116,
   "metadata": {
    "scrolled": true
   },
   "outputs": [
    {
     "name": "stdout",
     "output_type": "stream",
     "text": [
      "Model: \"model_3\"\n",
      "_________________________________________________________________\n",
      "Layer (type)                 Output Shape              Param #   \n",
      "=================================================================\n",
      "input (InputLayer)           [(None, 100, 128, 1)]     0         \n",
      "_________________________________________________________________\n",
      "conv2d_30 (Conv2D)           (None, 100, 128, 16)      160       \n",
      "_________________________________________________________________\n",
      "batch_normalization_30 (Batc (None, 100, 128, 16)      64        \n",
      "_________________________________________________________________\n",
      "activation_30 (Activation)   (None, 100, 128, 16)      0         \n",
      "_________________________________________________________________\n",
      "conv2d_31 (Conv2D)           (None, 100, 128, 16)      2320      \n",
      "_________________________________________________________________\n",
      "batch_normalization_31 (Batc (None, 100, 128, 16)      64        \n",
      "_________________________________________________________________\n",
      "activation_31 (Activation)   (None, 100, 128, 16)      0         \n",
      "_________________________________________________________________\n",
      "max_pooling2d_12 (MaxPooling (None, 50, 64, 16)        0         \n",
      "_________________________________________________________________\n",
      "dropout_12 (Dropout)         (None, 50, 64, 16)        0         \n",
      "_________________________________________________________________\n",
      "conv2d_32 (Conv2D)           (None, 50, 64, 32)        4640      \n",
      "_________________________________________________________________\n",
      "batch_normalization_32 (Batc (None, 50, 64, 32)        128       \n",
      "_________________________________________________________________\n",
      "activation_32 (Activation)   (None, 50, 64, 32)        0         \n",
      "_________________________________________________________________\n",
      "conv2d_33 (Conv2D)           (None, 50, 64, 32)        9248      \n",
      "_________________________________________________________________\n",
      "batch_normalization_33 (Batc (None, 50, 64, 32)        128       \n",
      "_________________________________________________________________\n",
      "activation_33 (Activation)   (None, 50, 64, 32)        0         \n",
      "_________________________________________________________________\n",
      "max_pooling2d_13 (MaxPooling (None, 25, 32, 32)        0         \n",
      "_________________________________________________________________\n",
      "dropout_13 (Dropout)         (None, 25, 32, 32)        0         \n",
      "_________________________________________________________________\n",
      "conv2d_34 (Conv2D)           (None, 25, 32, 64)        18496     \n",
      "_________________________________________________________________\n",
      "batch_normalization_34 (Batc (None, 25, 32, 64)        256       \n",
      "_________________________________________________________________\n",
      "activation_34 (Activation)   (None, 25, 32, 64)        0         \n",
      "_________________________________________________________________\n",
      "conv2d_35 (Conv2D)           (None, 25, 32, 64)        36928     \n",
      "_________________________________________________________________\n",
      "batch_normalization_35 (Batc (None, 25, 32, 64)        256       \n",
      "_________________________________________________________________\n",
      "activation_35 (Activation)   (None, 25, 32, 64)        0         \n",
      "_________________________________________________________________\n",
      "max_pooling2d_14 (MaxPooling (None, 13, 16, 64)        0         \n",
      "_________________________________________________________________\n",
      "dropout_14 (Dropout)         (None, 13, 16, 64)        0         \n",
      "_________________________________________________________________\n",
      "conv2d_36 (Conv2D)           (None, 13, 16, 128)       73856     \n",
      "_________________________________________________________________\n",
      "batch_normalization_36 (Batc (None, 13, 16, 128)       512       \n",
      "_________________________________________________________________\n",
      "activation_36 (Activation)   (None, 13, 16, 128)       0         \n",
      "_________________________________________________________________\n",
      "conv2d_37 (Conv2D)           (None, 13, 16, 128)       147584    \n",
      "_________________________________________________________________\n",
      "batch_normalization_37 (Batc (None, 13, 16, 128)       512       \n",
      "_________________________________________________________________\n",
      "activation_37 (Activation)   (None, 13, 16, 128)       0         \n",
      "_________________________________________________________________\n",
      "max_pooling2d_15 (MaxPooling (None, 7, 8, 128)         0         \n",
      "_________________________________________________________________\n",
      "dropout_15 (Dropout)         (None, 7, 8, 128)         0         \n",
      "_________________________________________________________________\n",
      "conv2d_38 (Conv2D)           (None, 7, 8, 256)         295168    \n",
      "_________________________________________________________________\n",
      "batch_normalization_38 (Batc (None, 7, 8, 256)         1024      \n",
      "_________________________________________________________________\n",
      "activation_38 (Activation)   (None, 7, 8, 256)         0         \n",
      "_________________________________________________________________\n",
      "conv2d_39 (Conv2D)           (None, 7, 8, 256)         590080    \n",
      "_________________________________________________________________\n",
      "batch_normalization_39 (Batc (None, 7, 8, 256)         1024      \n",
      "_________________________________________________________________\n",
      "activation_39 (Activation)   (None, 7, 8, 256)         0         \n",
      "_________________________________________________________________\n",
      "spatial_pyramid_pooling2d_3  (None, 21, 256)           0         \n",
      "_________________________________________________________________\n",
      "reshape_3 (Reshape)          (None, 5376)              0         \n",
      "_________________________________________________________________\n",
      "cnn14_fcn (Dense)            (None, 256)               1376512   \n",
      "_________________________________________________________________\n",
      "dense_3 (Dense)              (None, 8)                 2056      \n",
      "=================================================================\n",
      "Total params: 2,561,016\n",
      "Trainable params: 2,559,032\n",
      "Non-trainable params: 1,984\n",
      "_________________________________________________________________\n"
     ]
    }
   ],
   "source": [
    "model = load_model(the_best_model)\n",
    "model.summary()"
   ]
  },
  {
   "cell_type": "code",
   "execution_count": 117,
   "metadata": {},
   "outputs": [],
   "source": [
    "label_pred = model.predict(fea_test)\n",
    "# label_pred = model.predict(test_generator)"
   ]
  },
  {
   "cell_type": "code",
   "execution_count": 118,
   "metadata": {},
   "outputs": [],
   "source": [
    "np.set_printoptions(linewidth=200, precision=2, suppress=True)"
   ]
  },
  {
   "cell_type": "code",
   "execution_count": 119,
   "metadata": {},
   "outputs": [
    {
     "name": "stdout",
     "output_type": "stream",
     "text": [
      "Confusion matrix:\n",
      "['BD', 'CD', 'STR', 'SPT', 'SPIN', 'PLT', 'RT', 'FKW']\n",
      "\n",
      "[[  2  14   6   2   1   3   6   7]\n",
      " [  0   0   0   0   0   0   0   0]\n",
      " [ 35  37 105   8  24   0   0   7]\n",
      " [ 75  40 107 126  37   0   0   0]\n",
      " [  9  10   9   0   1   2  29  26]\n",
      " [ 27 126  90  20  17 628  15 129]\n",
      " [ 23 101  63  10  10  13 211 318]\n",
      " [  0   0   0   0   0   0   0   0]]\n",
      "\n",
      "[[0.05 0.34 0.15 0.05 0.02 0.07 0.15 0.17]\n",
      " [0.   0.   0.   0.   0.   0.   0.   0.  ]\n",
      " [0.16 0.17 0.49 0.04 0.11 0.   0.   0.03]\n",
      " [0.19 0.1  0.28 0.33 0.1  0.   0.   0.  ]\n",
      " [0.1  0.12 0.1  0.   0.01 0.02 0.34 0.3 ]\n",
      " [0.03 0.12 0.09 0.02 0.02 0.6  0.01 0.12]\n",
      " [0.03 0.13 0.08 0.01 0.01 0.02 0.28 0.42]\n",
      " [0.   0.   0.   0.   0.   0.   0.   0.  ]]\n"
     ]
    }
   ],
   "source": [
    "print(\"Confusion matrix:\")\n",
    "cm = confusion_matrix(label_test, np.argmax(label_pred, axis=1), labels=species_id)\n",
    "\n",
    "print(species_list)\n",
    "print('')\n",
    "print(cm)\n",
    "print('')\n",
    "\n",
    "cm2 = cm*1.0\n",
    "for ii in range(cm.shape[0]):\n",
    "    cm_row = cm[ii, :]*1.0\n",
    "\n",
    "    cm_row_sum = cm_row.sum()\n",
    "    if cm_row_sum != 0:\n",
    "        cm2[ii, :] = cm_row / cm_row_sum\n",
    "    else:\n",
    "        cm2[ii, :] = np.zeros(cm.shape[1])\n",
    "\n",
    "print(cm2)"
   ]
  },
  {
   "cell_type": "code",
   "execution_count": 120,
   "metadata": {},
   "outputs": [],
   "source": [
    "from sklearn.metrics import plot_confusion_matrix\n",
    "from sklearn.metrics._plot.confusion_matrix import ConfusionMatrixDisplay\n",
    "disp = ConfusionMatrixDisplay(confusion_matrix=cm, display_labels=species_list)\n",
    "disp2 = ConfusionMatrixDisplay(confusion_matrix=cm2, display_labels=species_list)"
   ]
  },
  {
   "cell_type": "code",
   "execution_count": 121,
   "metadata": {},
   "outputs": [
    {
     "data": {
      "text/plain": [
       "<sklearn.metrics._plot.confusion_matrix.ConfusionMatrixDisplay at 0x7f44ae3e3460>"
      ]
     },
     "execution_count": 121,
     "metadata": {},
     "output_type": "execute_result"
    },
    {
     "data": {
      "image/png": "[encoded data removed]",
      "text/plain": [
       "<Figure size 1080x1080 with 2 Axes>"
      ]
     },
     "metadata": {
      "needs_background": "light"
     },
     "output_type": "display_data"
    }
   ],
   "source": [
    "fig, ax = plt.subplots(figsize=[15, 15])\n",
    "disp.plot(include_values=True,\n",
    "                     cmap='viridis', ax=ax, xticks_rotation='horizontal',\n",
    "                     values_format=None, colorbar=True)\n"
   ]
  },
  {
   "cell_type": "code",
   "execution_count": 122,
   "metadata": {},
   "outputs": [
    {
     "data": {
      "text/plain": [
       "<sklearn.metrics._plot.confusion_matrix.ConfusionMatrixDisplay at 0x7f44ae3e3400>"
      ]
     },
     "execution_count": 122,
     "metadata": {},
     "output_type": "execute_result"
    },
    {
     "data": {
      "image/png": "[encoded data removed]",
      "text/plain": [
       "<Figure size 1080x1080 with 2 Axes>"
      ]
     },
     "metadata": {
      "needs_background": "light"
     },
     "output_type": "display_data"
    }
   ],
   "source": [
    "fig, ax = plt.subplots(figsize=[15, 15])\n",
    "disp2.plot(include_values=True,\n",
    "                     cmap='viridis', ax=ax, xticks_rotation='horizontal',\n",
    "                     values_format='.2f', colorbar=True)"
   ]
  },
  {
   "cell_type": "markdown",
   "metadata": {},
   "source": [
    "## PICES2005"
   ]
  },
  {
   "cell_type": "code",
   "execution_count": 123,
   "metadata": {},
   "outputs": [
    {
     "name": "stdout",
     "output_type": "stream",
     "text": [
      "PICEAS2005\n"
     ]
    }
   ],
   "source": [
    "ee = deployment[4]\n",
    "print(ee)"
   ]
  },
  {
   "cell_type": "code",
   "execution_count": 124,
   "metadata": {},
   "outputs": [],
   "source": [
    "# Training data\n",
    "fea_temp = np.load(os.path.join(feature_path, 'train_oswald_no_'+ee+'.npz'))\n",
    "fea_train = fea_temp['fea_train']\n",
    "label_train_list = fea_temp['label_train']\n",
    "del fea_temp"
   ]
  },
  {
   "cell_type": "code",
   "execution_count": 125,
   "metadata": {},
   "outputs": [],
   "source": [
    "label_train = np.zeros(len(label_train_list))\n",
    "for ii in range(len(label_train_list)):\n",
    "    label_train[ii] = species_dict[label_train_list[ii]]"
   ]
  },
  {
   "cell_type": "code",
   "execution_count": 126,
   "metadata": {},
   "outputs": [],
   "source": [
    "# Testing data\n",
    "fea_temp = np.load(os.path.join(feature_path, 'oswald_'+ee+'_orig.npz'))\n",
    "fea_test = fea_temp['feas_orig']\n",
    "label_test_list = fea_temp['labels_orig']\n",
    "\n",
    "fea_test = fea_test[:,:100,:]\n",
    "label_test = np.zeros(len(label_test_list))\n",
    "for ii in range(len(label_test_list)):\n",
    "    label_test[ii] = species_dict[label_test_list[ii]]"
   ]
  },
  {
   "cell_type": "code",
   "execution_count": 127,
   "metadata": {},
   "outputs": [],
   "source": [
    "fea_train = fea_train[:,:100,:]"
   ]
  },
  {
   "cell_type": "code",
   "execution_count": 128,
   "metadata": {},
   "outputs": [],
   "source": [
    "label_train = np.zeros(len(label_train_list))\n",
    "for ii in range(len(label_train_list)):\n",
    "    label_train[ii] = species_dict[label_train_list[ii]]"
   ]
  },
  {
   "cell_type": "code",
   "execution_count": 129,
   "metadata": {
    "scrolled": true
   },
   "outputs": [
    {
     "data": {
      "text/plain": [
       "Counter({'BD': 4578,\n",
       "         'CD': 28632,\n",
       "         'PLT': 11864,\n",
       "         'RT': 7608,\n",
       "         'SPIN': 7576,\n",
       "         'SPT': 17066,\n",
       "         'STR': 20208,\n",
       "         'FKW': 8118})"
      ]
     },
     "execution_count": 129,
     "metadata": {},
     "output_type": "execute_result"
    }
   ],
   "source": [
    "Counter(label_train_list)"
   ]
  },
  {
   "cell_type": "code",
   "execution_count": 130,
   "metadata": {},
   "outputs": [
    {
     "data": {
      "text/plain": [
       "Counter({0.0: 1518,\n",
       "         7.0: 2007,\n",
       "         5.0: 292,\n",
       "         6.0: 440,\n",
       "         4.0: 405,\n",
       "         3.0: 482,\n",
       "         2.0: 372})"
      ]
     },
     "execution_count": 130,
     "metadata": {},
     "output_type": "execute_result"
    }
   ],
   "source": [
    "Counter(label_test.tolist())"
   ]
  },
  {
   "cell_type": "code",
   "execution_count": 131,
   "metadata": {},
   "outputs": [],
   "source": [
    "fit_result_path2 = os.path.join(fit_result_path1, ee)\n",
    "if not os.path.exists(fit_result_path2):\n",
    "    makedirs(fit_result_path2)"
   ]
  },
  {
   "cell_type": "code",
   "execution_count": 132,
   "metadata": {},
   "outputs": [
    {
     "name": "stdout",
     "output_type": "stream",
     "text": [
      "feature train shape: (105650, 100, 128)\n",
      "feature test shape: (5516, 100, 128)\n",
      "label train shape: (105650,)\n",
      "label test shape: (5516,)\n",
      "dim_time: 100\n",
      "dim_freq: 128\n"
     ]
    }
   ],
   "source": [
    "print('feature train shape: '+str(fea_train.shape))\n",
    "print('feature test shape: '+str(fea_test.shape))\n",
    "print('label train shape: '+str(label_train.shape))\n",
    "print('label test shape: '+str(label_test.shape))\n",
    "\n",
    "dim_time = fea_train.shape[1]\n",
    "dim_freq = fea_train.shape[2]\n",
    "print('dim_time: '+str(dim_time))\n",
    "print('dim_freq: '+str(dim_freq))"
   ]
  },
  {
   "cell_type": "code",
   "execution_count": 133,
   "metadata": {},
   "outputs": [],
   "source": [
    "# shuffle features & labels\n",
    "fea_train, label_train = shuffle(fea_train, label_train, random_state=0)\n",
    "fea_test, label_test = shuffle(fea_test, label_test, random_state=0)"
   ]
  },
  {
   "cell_type": "code",
   "execution_count": 134,
   "metadata": {},
   "outputs": [],
   "source": [
    "# class weight\n",
    "weights = compute_class_weight(class_weight='balanced', classes=np.unique(label_train), y=label_train)\n",
    "\n",
    "class_weights = dict()\n",
    "for ii in range(num_species):\n",
    "    class_weights[ii] = weights[ii]"
   ]
  },
  {
   "cell_type": "code",
   "execution_count": 135,
   "metadata": {},
   "outputs": [],
   "source": [
    "fea_train = np.expand_dims(fea_train, axis=3)\n",
    "fea_test = np.expand_dims(fea_test, axis=3)"
   ]
  },
  {
   "cell_type": "code",
   "execution_count": 136,
   "metadata": {},
   "outputs": [],
   "source": [
    "fea_train, fea_validate, label_train, label_validate = train_test_split(fea_train, label_train, test_size=0.30, random_state=42)\n",
    "\n",
    "train_generator = DataGenerator(fea_train, label_train, batch_size=batch_size, num_classes=num_species)\n",
    "del fea_train\n",
    "validate_generator = DataGenerator(fea_validate, label_validate, batch_size=batch_size, num_classes=num_species)\n",
    "del fea_validate\n",
    "\n",
    "# test_generator = DataGenerator(fea_test, label_test, batch_size=batch_size, num_classes=num_species)\n"
   ]
  },
  {
   "cell_type": "markdown",
   "metadata": {},
   "source": [
    "### Training the model"
   ]
  },
  {
   "cell_type": "code",
   "execution_count": 137,
   "metadata": {
    "scrolled": true
   },
   "outputs": [
    {
     "name": "stdout",
     "output_type": "stream",
     "text": [
      "Epoch 1/200\n",
      "   2/4622 [..............................] - ETA: 13:50 - loss: 6.0237 - accuracy: 0.0625 WARNING:tensorflow:Method (on_train_batch_end) is slow compared to the batch update (0.145984). Check your callbacks.\n",
      "4619/4622 [============================>.] - ETA: 0s - loss: 1.7960 - accuracy: 0.2779\n",
      "Epoch 00001: val_loss improved from inf to 1.81926, saving model to /home/ys587/__Data/__whistle/__whislte_30_species/__fit_result_species/20210224_190600/PICEAS2005/epoch_01_valloss_1.8193_valacc_0.2949.hdf5\n",
      "4622/4622 [==============================] - 69s 15ms/step - loss: 1.7959 - accuracy: 0.2780 - val_loss: 1.8193 - val_accuracy: 0.2949\n",
      "Epoch 2/200\n",
      "4621/4622 [============================>.] - ETA: 0s - loss: 1.4111 - accuracy: 0.4560\n",
      "Epoch 00002: val_loss improved from 1.81926 to 1.43157, saving model to /home/ys587/__Data/__whistle/__whislte_30_species/__fit_result_species/20210224_190600/PICEAS2005/epoch_02_valloss_1.4316_valacc_0.4531.hdf5\n",
      "4622/4622 [==============================] - 68s 15ms/step - loss: 1.4111 - accuracy: 0.4560 - val_loss: 1.4316 - val_accuracy: 0.4531\n",
      "Epoch 3/200\n",
      "4619/4622 [============================>.] - ETA: 0s - loss: 1.2743 - accuracy: 0.5081\n",
      "Epoch 00003: val_loss did not improve from 1.43157\n",
      "4622/4622 [==============================] - 68s 15ms/step - loss: 1.2743 - accuracy: 0.5082 - val_loss: 1.4372 - val_accuracy: 0.4437\n",
      "Epoch 4/200\n",
      "4621/4622 [============================>.] - ETA: 0s - loss: 1.1867 - accuracy: 0.5391\n",
      "Epoch 00004: val_loss improved from 1.43157 to 1.42795, saving model to /home/ys587/__Data/__whistle/__whislte_30_species/__fit_result_species/20210224_190600/PICEAS2005/epoch_04_valloss_1.4280_valacc_0.4548.hdf5\n",
      "4622/4622 [==============================] - 68s 15ms/step - loss: 1.1866 - accuracy: 0.5391 - val_loss: 1.4280 - val_accuracy: 0.4548\n",
      "Epoch 5/200\n",
      "4620/4622 [============================>.] - ETA: 0s - loss: 1.1192 - accuracy: 0.5627\n",
      "Epoch 00005: val_loss improved from 1.42795 to 1.28274, saving model to /home/ys587/__Data/__whistle/__whislte_30_species/__fit_result_species/20210224_190600/PICEAS2005/epoch_05_valloss_1.2827_valacc_0.5168.hdf5\n",
      "4622/4622 [==============================] - 68s 15ms/step - loss: 1.1191 - accuracy: 0.5627 - val_loss: 1.2827 - val_accuracy: 0.5168\n",
      "Epoch 6/200\n",
      "4622/4622 [==============================] - ETA: 0s - loss: 1.0615 - accuracy: 0.5844\n",
      "Epoch 00006: val_loss improved from 1.28274 to 1.21655, saving model to /home/ys587/__Data/__whistle/__whislte_30_species/__fit_result_species/20210224_190600/PICEAS2005/epoch_06_valloss_1.2165_valacc_0.5467.hdf5\n",
      "4622/4622 [==============================] - 68s 15ms/step - loss: 1.0615 - accuracy: 0.5844 - val_loss: 1.2165 - val_accuracy: 0.5467\n",
      "Epoch 7/200\n",
      "4620/4622 [============================>.] - ETA: 0s - loss: 1.0137 - accuracy: 0.6010\n",
      "Epoch 00007: val_loss improved from 1.21655 to 1.13519, saving model to /home/ys587/__Data/__whistle/__whislte_30_species/__fit_result_species/20210224_190600/PICEAS2005/epoch_07_valloss_1.1352_valacc_0.5716.hdf5\n",
      "4622/4622 [==============================] - 68s 15ms/step - loss: 1.0138 - accuracy: 0.6009 - val_loss: 1.1352 - val_accuracy: 0.5716\n",
      "Epoch 8/200\n",
      "4619/4622 [============================>.] - ETA: 0s - loss: 0.9681 - accuracy: 0.6151\n",
      "Epoch 00008: val_loss improved from 1.13519 to 1.11786, saving model to /home/ys587/__Data/__whistle/__whislte_30_species/__fit_result_species/20210224_190600/PICEAS2005/epoch_08_valloss_1.1179_valacc_0.5893.hdf5\n",
      "4622/4622 [==============================] - 68s 15ms/step - loss: 0.9680 - accuracy: 0.6151 - val_loss: 1.1179 - val_accuracy: 0.5893\n",
      "Epoch 9/200\n",
      "4618/4622 [============================>.] - ETA: 0s - loss: 0.9268 - accuracy: 0.6281\n",
      "Epoch 00009: val_loss improved from 1.11786 to 1.01024, saving model to /home/ys587/__Data/__whistle/__whislte_30_species/__fit_result_species/20210224_190600/PICEAS2005/epoch_09_valloss_1.0102_valacc_0.6221.hdf5\n",
      "4622/4622 [==============================] - 68s 15ms/step - loss: 0.9267 - accuracy: 0.6282 - val_loss: 1.0102 - val_accuracy: 0.6221\n",
      "Epoch 10/200\n",
      "4621/4622 [============================>.] - ETA: 0s - loss: 0.8914 - accuracy: 0.6377\n",
      "Epoch 00010: val_loss did not improve from 1.01024\n",
      "4622/4622 [==============================] - 68s 15ms/step - loss: 0.8914 - accuracy: 0.6377 - val_loss: 1.1476 - val_accuracy: 0.5836\n",
      "Epoch 11/200\n",
      "4620/4622 [============================>.] - ETA: 0s - loss: 0.8566 - accuracy: 0.6499\n",
      "Epoch 00011: val_loss did not improve from 1.01024\n",
      "4622/4622 [==============================] - 68s 15ms/step - loss: 0.8566 - accuracy: 0.6499 - val_loss: 1.1604 - val_accuracy: 0.5709\n",
      "Epoch 12/200\n",
      "4622/4622 [==============================] - ETA: 0s - loss: 0.8207 - accuracy: 0.6622\n",
      "Epoch 00012: val_loss did not improve from 1.01024\n",
      "4622/4622 [==============================] - 68s 15ms/step - loss: 0.8207 - accuracy: 0.6622 - val_loss: 1.1172 - val_accuracy: 0.5840\n",
      "Epoch 13/200\n",
      "4621/4622 [============================>.] - ETA: 0s - loss: 0.7892 - accuracy: 0.6723\n",
      "Epoch 00013: val_loss improved from 1.01024 to 0.94334, saving model to /home/ys587/__Data/__whistle/__whislte_30_species/__fit_result_species/20210224_190600/PICEAS2005/epoch_13_valloss_0.9433_valacc_0.6478.hdf5\n",
      "4622/4622 [==============================] - 68s 15ms/step - loss: 0.7892 - accuracy: 0.6723 - val_loss: 0.9433 - val_accuracy: 0.6478\n",
      "Epoch 14/200\n",
      "4622/4622 [==============================] - ETA: 0s - loss: 0.7625 - accuracy: 0.6831\n",
      "Epoch 00014: val_loss did not improve from 0.94334\n",
      "4622/4622 [==============================] - 68s 15ms/step - loss: 0.7625 - accuracy: 0.6831 - val_loss: 1.0704 - val_accuracy: 0.6045\n",
      "Epoch 15/200\n",
      "4619/4622 [============================>.] - ETA: 0s - loss: 0.7370 - accuracy: 0.6902\n",
      "Epoch 00015: val_loss did not improve from 0.94334\n",
      "4622/4622 [==============================] - 68s 15ms/step - loss: 0.7370 - accuracy: 0.6902 - val_loss: 1.1732 - val_accuracy: 0.5745\n",
      "Epoch 16/200\n",
      "4620/4622 [============================>.] - ETA: 0s - loss: 0.7044 - accuracy: 0.7003\n",
      "Epoch 00016: val_loss did not improve from 0.94334\n",
      "4622/4622 [==============================] - 68s 15ms/step - loss: 0.7043 - accuracy: 0.7003 - val_loss: 0.9762 - val_accuracy: 0.6407\n",
      "Epoch 17/200\n",
      "4619/4622 [============================>.] - ETA: 0s - loss: 0.6777 - accuracy: 0.7100\n",
      "Epoch 00017: val_loss did not improve from 0.94334\n",
      "4622/4622 [==============================] - 68s 15ms/step - loss: 0.6777 - accuracy: 0.7100 - val_loss: 1.0367 - val_accuracy: 0.6222\n",
      "Epoch 18/200\n",
      "4620/4622 [============================>.] - ETA: 0s - loss: 0.6563 - accuracy: 0.7160\n",
      "Epoch 00018: val_loss improved from 0.94334 to 0.91060, saving model to /home/ys587/__Data/__whistle/__whislte_30_species/__fit_result_species/20210224_190600/PICEAS2005/epoch_18_valloss_0.9106_valacc_0.6642.hdf5\n",
      "4622/4622 [==============================] - 68s 15ms/step - loss: 0.6562 - accuracy: 0.7161 - val_loss: 0.9106 - val_accuracy: 0.6642\n",
      "Epoch 19/200\n",
      "4620/4622 [============================>.] - ETA: 0s - loss: 0.6296 - accuracy: 0.7264\n",
      "Epoch 00019: val_loss did not improve from 0.91060\n",
      "4622/4622 [==============================] - 68s 15ms/step - loss: 0.6298 - accuracy: 0.7264 - val_loss: 1.0540 - val_accuracy: 0.6261\n",
      "Epoch 20/200\n",
      "4619/4622 [============================>.] - ETA: 0s - loss: 0.6056 - accuracy: 0.7344\n",
      "Epoch 00020: val_loss did not improve from 0.91060\n",
      "4622/4622 [==============================] - 68s 15ms/step - loss: 0.6058 - accuracy: 0.7343 - val_loss: 0.9189 - val_accuracy: 0.6704\n",
      "Epoch 21/200\n",
      "4620/4622 [============================>.] - ETA: 0s - loss: 0.5846 - accuracy: 0.7420\n",
      "Epoch 00021: val_loss did not improve from 0.91060\n",
      "4622/4622 [==============================] - 68s 15ms/step - loss: 0.5846 - accuracy: 0.7420 - val_loss: 0.9191 - val_accuracy: 0.6624\n",
      "Epoch 22/200\n",
      "4621/4622 [============================>.] - ETA: 0s - loss: 0.5604 - accuracy: 0.7526\n",
      "Epoch 00022: val_loss did not improve from 0.91060\n",
      "4622/4622 [==============================] - 68s 15ms/step - loss: 0.5604 - accuracy: 0.7527 - val_loss: 0.9822 - val_accuracy: 0.6447\n",
      "Epoch 23/200\n",
      "4622/4622 [==============================] - ETA: 0s - loss: 0.5377 - accuracy: 0.7585\n",
      "Epoch 00023: val_loss improved from 0.91060 to 0.87367, saving model to /home/ys587/__Data/__whistle/__whislte_30_species/__fit_result_species/20210224_190600/PICEAS2005/epoch_23_valloss_0.8737_valacc_0.6854.hdf5\n",
      "4622/4622 [==============================] - 68s 15ms/step - loss: 0.5377 - accuracy: 0.7585 - val_loss: 0.8737 - val_accuracy: 0.6854\n",
      "Epoch 24/200\n",
      "4620/4622 [============================>.] - ETA: 0s - loss: 0.5239 - accuracy: 0.7646\n",
      "Epoch 00024: val_loss did not improve from 0.87367\n",
      "4622/4622 [==============================] - 68s 15ms/step - loss: 0.5239 - accuracy: 0.7647 - val_loss: 0.9112 - val_accuracy: 0.6716\n",
      "Epoch 25/200\n",
      "4621/4622 [============================>.] - ETA: 0s - loss: 0.4981 - accuracy: 0.7735\n",
      "Epoch 00025: val_loss did not improve from 0.87367\n",
      "4622/4622 [==============================] - 68s 15ms/step - loss: 0.4981 - accuracy: 0.7736 - val_loss: 0.9248 - val_accuracy: 0.6777\n",
      "Epoch 26/200\n",
      "4619/4622 [============================>.] - ETA: 0s - loss: 0.4853 - accuracy: 0.7773\n",
      "Epoch 00026: val_loss did not improve from 0.87367\n",
      "4622/4622 [==============================] - 68s 15ms/step - loss: 0.4853 - accuracy: 0.7773 - val_loss: 1.0042 - val_accuracy: 0.6429\n",
      "Epoch 27/200\n",
      "4622/4622 [==============================] - ETA: 0s - loss: 0.4670 - accuracy: 0.7852\n",
      "Epoch 00027: val_loss improved from 0.87367 to 0.86312, saving model to /home/ys587/__Data/__whistle/__whislte_30_species/__fit_result_species/20210224_190600/PICEAS2005/epoch_27_valloss_0.8631_valacc_0.6977.hdf5\n",
      "4622/4622 [==============================] - 68s 15ms/step - loss: 0.4670 - accuracy: 0.7852 - val_loss: 0.8631 - val_accuracy: 0.6977\n",
      "Epoch 28/200\n",
      "4621/4622 [============================>.] - ETA: 0s - loss: 0.4512 - accuracy: 0.7924\n",
      "Epoch 00028: val_loss did not improve from 0.86312\n",
      "4622/4622 [==============================] - 68s 15ms/step - loss: 0.4514 - accuracy: 0.7924 - val_loss: 0.9353 - val_accuracy: 0.6780\n",
      "Epoch 29/200\n",
      "4620/4622 [============================>.] - ETA: 0s - loss: 0.4305 - accuracy: 0.7983\n",
      "Epoch 00029: val_loss did not improve from 0.86312\n",
      "4622/4622 [==============================] - 68s 15ms/step - loss: 0.4305 - accuracy: 0.7983 - val_loss: 0.9424 - val_accuracy: 0.6742\n",
      "Epoch 30/200\n",
      "4622/4622 [==============================] - ETA: 0s - loss: 0.4149 - accuracy: 0.8049\n",
      "Epoch 00030: val_loss did not improve from 0.86312\n",
      "4622/4622 [==============================] - 68s 15ms/step - loss: 0.4149 - accuracy: 0.8049 - val_loss: 1.0453 - val_accuracy: 0.6546\n",
      "Epoch 31/200\n",
      "4621/4622 [============================>.] - ETA: 0s - loss: 0.4022 - accuracy: 0.8092\n",
      "Epoch 00031: val_loss did not improve from 0.86312\n",
      "4622/4622 [==============================] - 68s 15ms/step - loss: 0.4022 - accuracy: 0.8092 - val_loss: 0.8865 - val_accuracy: 0.6946\n",
      "Epoch 32/200\n",
      "4618/4622 [============================>.] - ETA: 0s - loss: 0.3884 - accuracy: 0.8166\n",
      "Epoch 00032: val_loss did not improve from 0.86312\n",
      "4622/4622 [==============================] - 68s 15ms/step - loss: 0.3884 - accuracy: 0.8166 - val_loss: 1.0025 - val_accuracy: 0.6666\n",
      "Epoch 33/200\n",
      "4620/4622 [============================>.] - ETA: 0s - loss: 0.3726 - accuracy: 0.8213\n",
      "Epoch 00033: val_loss did not improve from 0.86312\n",
      "4622/4622 [==============================] - 68s 15ms/step - loss: 0.3726 - accuracy: 0.8213 - val_loss: 0.9724 - val_accuracy: 0.6664\n",
      "Epoch 34/200\n",
      "4622/4622 [==============================] - ETA: 0s - loss: 0.3624 - accuracy: 0.8259\n",
      "Epoch 00034: val_loss did not improve from 0.86312\n",
      "4622/4622 [==============================] - 68s 15ms/step - loss: 0.3624 - accuracy: 0.8259 - val_loss: 0.9702 - val_accuracy: 0.6801\n",
      "Epoch 35/200\n",
      "4622/4622 [==============================] - ETA: 0s - loss: 0.3475 - accuracy: 0.8311\n",
      "Epoch 00035: val_loss did not improve from 0.86312\n",
      "4622/4622 [==============================] - 68s 15ms/step - loss: 0.3475 - accuracy: 0.8311 - val_loss: 0.9195 - val_accuracy: 0.6965\n",
      "Epoch 36/200\n",
      "4622/4622 [==============================] - ETA: 0s - loss: 0.3318 - accuracy: 0.8385\n",
      "Epoch 00036: val_loss did not improve from 0.86312\n",
      "4622/4622 [==============================] - 68s 15ms/step - loss: 0.3318 - accuracy: 0.8385 - val_loss: 0.9401 - val_accuracy: 0.6877\n",
      "Epoch 37/200\n",
      "4621/4622 [============================>.] - ETA: 0s - loss: 0.3230 - accuracy: 0.8424\n",
      "Epoch 00037: val_loss did not improve from 0.86312\n",
      "4622/4622 [==============================] - 68s 15ms/step - loss: 0.3230 - accuracy: 0.8424 - val_loss: 0.9913 - val_accuracy: 0.6869\n",
      "Epoch 38/200\n",
      "4619/4622 [============================>.] - ETA: 0s - loss: 0.3132 - accuracy: 0.8480\n",
      "Epoch 00038: val_loss did not improve from 0.86312\n",
      "4622/4622 [==============================] - 68s 15ms/step - loss: 0.3132 - accuracy: 0.8480 - val_loss: 0.9675 - val_accuracy: 0.6867\n",
      "Epoch 39/200\n",
      "4622/4622 [==============================] - ETA: 0s - loss: 0.2999 - accuracy: 0.8529\n",
      "Epoch 00039: val_loss did not improve from 0.86312\n",
      "4622/4622 [==============================] - 68s 15ms/step - loss: 0.2999 - accuracy: 0.8529 - val_loss: 0.8878 - val_accuracy: 0.7155\n",
      "Epoch 40/200\n",
      "4618/4622 [============================>.] - ETA: 0s - loss: 0.2933 - accuracy: 0.8565\n",
      "Epoch 00040: val_loss did not improve from 0.86312\n",
      "4622/4622 [==============================] - 68s 15ms/step - loss: 0.2935 - accuracy: 0.8565 - val_loss: 0.9213 - val_accuracy: 0.7065\n",
      "Epoch 41/200\n",
      "4621/4622 [============================>.] - ETA: 0s - loss: 0.2746 - accuracy: 0.8623\n",
      "Epoch 00041: val_loss did not improve from 0.86312\n",
      "4622/4622 [==============================] - 69s 15ms/step - loss: 0.2747 - accuracy: 0.8623 - val_loss: 1.0652 - val_accuracy: 0.6724\n",
      "Epoch 42/200\n",
      "4619/4622 [============================>.] - ETA: 0s - loss: 0.2714 - accuracy: 0.8651\n",
      "Epoch 00042: val_loss did not improve from 0.86312\n",
      "4622/4622 [==============================] - 68s 15ms/step - loss: 0.2713 - accuracy: 0.8651 - val_loss: 0.9602 - val_accuracy: 0.6965\n",
      "Epoch 43/200\n",
      "4619/4622 [============================>.] - ETA: 0s - loss: 0.2590 - accuracy: 0.8715\n",
      "Epoch 00043: val_loss did not improve from 0.86312\n",
      "4622/4622 [==============================] - 68s 15ms/step - loss: 0.2590 - accuracy: 0.8715 - val_loss: 0.8724 - val_accuracy: 0.7233\n",
      "Epoch 44/200\n",
      "4619/4622 [============================>.] - ETA: 0s - loss: 0.2546 - accuracy: 0.8734\n",
      "Epoch 00044: val_loss did not improve from 0.86312\n",
      "4622/4622 [==============================] - 68s 15ms/step - loss: 0.2547 - accuracy: 0.8734 - val_loss: 0.9640 - val_accuracy: 0.7004\n",
      "Epoch 45/200\n",
      "4621/4622 [============================>.] - ETA: 0s - loss: 0.2432 - accuracy: 0.8786\n",
      "Epoch 00045: val_loss did not improve from 0.86312\n",
      "4622/4622 [==============================] - 68s 15ms/step - loss: 0.2432 - accuracy: 0.8786 - val_loss: 0.9658 - val_accuracy: 0.7112\n",
      "Epoch 46/200\n",
      "4620/4622 [============================>.] - ETA: 0s - loss: 0.2381 - accuracy: 0.8828\n",
      "Epoch 00046: val_loss did not improve from 0.86312\n",
      "4622/4622 [==============================] - 68s 15ms/step - loss: 0.2382 - accuracy: 0.8827 - val_loss: 0.9423 - val_accuracy: 0.7143\n",
      "Epoch 47/200\n",
      "4622/4622 [==============================] - ETA: 0s - loss: 0.2270 - accuracy: 0.8870\n",
      "Epoch 00047: val_loss did not improve from 0.86312\n",
      "4622/4622 [==============================] - 68s 15ms/step - loss: 0.2270 - accuracy: 0.8870 - val_loss: 0.9029 - val_accuracy: 0.7192\n",
      "Epoch 00047: early stopping\n"
     ]
    }
   ],
   "source": [
    "# model = model_cnn14_attention_multi(dim_time, dim_freq, num_species, model_type='feature_level_attention', conv_dim=conv_dim, pool_size=pool_size, pool_stride=pool_stride, hidden_units=hidden_units, l2_regu=l2_regu, drop_rate=drop_rate)\n",
    "model = model_cnn14_spp(dim_time, dim_freq, num_species, conv_dim=conv_dim, pool_size=pool_size, pool_stride=pool_stride, hidden_units=hidden_units, l2_regu=l2_regu, drop_rate=drop_rate)\n",
    "loss = CategoricalCrossentropy()\n",
    "model.compile(optimizer=tf.keras.optimizers.Adam(learning_rate=learning_rate_fn), loss=loss, metrics=['accuracy'])\n",
    "\n",
    "# With classes\n",
    "# history = model.fit(fea_train, to_categorical(label_train), class_weight=class_weights, validation_split=0.3, batch_size=batch_size, epochs=num_epoch, callbacks=[EarlyStopping(patience=num_patience), ModelCheckpoint(filepath=os.path.join(fit_result_path, '{epoch:02d}-{val_loss:.4f}.hdf5'), verbose=1, monitor=\"val_loss\", save_best_only=True)])\n",
    "# history = model.fit(train_generator, validation_data=validate_generator, class_weight=class_weights, epochs=num_epoch, callbacks=[EarlyStopping(patience=num_patience, monitor='val_loss', mode='min', verbose=1), TensorBoard(log_dir=fit_result_path1), ModelCheckpoint(filepath=os.path.join(fit_result_path1, '{epoch:02d}-{val_loss:.4f}.hdf5'), verbose=1, monitor=\"val_loss\", save_best_only=True)])\n",
    "history = model.fit(train_generator, validation_data=validate_generator, class_weight=class_weights, epochs=num_epoch, callbacks=[EarlyStopping(patience=num_patience, monitor='val_loss', mode='min', verbose=1), TensorBoard(log_dir=fit_result_path2), ModelCheckpoint(filepath=os.path.join(fit_result_path2, 'epoch_{epoch:02d}_valloss_{val_loss:.4f}_valacc_{val_accuracy:.4f}.hdf5' ), verbose=1, monitor=\"val_loss\", save_best_only=True)])"
   ]
  },
  {
   "cell_type": "code",
   "execution_count": 138,
   "metadata": {},
   "outputs": [
    {
     "name": "stdout",
     "output_type": "stream",
     "text": [
      "Best model:0.8631\n",
      "/home/ys587/__Data/__whistle/__whislte_30_species/__fit_result_species/20210224_190600/PICEAS2005/epoch_27_valloss_0.8631_valacc_0.6977.hdf5\n"
     ]
    }
   ],
   "source": [
    "# fit_result_path1 = '/home/ys587/__Data/__whistle/__whislte_30_species/__fit_result_species/20210210_224527'\n",
    "the_best_model, _ = find_best_model(fit_result_path2, purge=False)"
   ]
  },
  {
   "cell_type": "code",
   "execution_count": 139,
   "metadata": {
    "scrolled": true
   },
   "outputs": [
    {
     "name": "stdout",
     "output_type": "stream",
     "text": [
      "Model: \"model_4\"\n",
      "_________________________________________________________________\n",
      "Layer (type)                 Output Shape              Param #   \n",
      "=================================================================\n",
      "input (InputLayer)           [(None, 100, 128, 1)]     0         \n",
      "_________________________________________________________________\n",
      "conv2d_40 (Conv2D)           (None, 100, 128, 16)      160       \n",
      "_________________________________________________________________\n",
      "batch_normalization_40 (Batc (None, 100, 128, 16)      64        \n",
      "_________________________________________________________________\n",
      "activation_40 (Activation)   (None, 100, 128, 16)      0         \n",
      "_________________________________________________________________\n",
      "conv2d_41 (Conv2D)           (None, 100, 128, 16)      2320      \n",
      "_________________________________________________________________\n",
      "batch_normalization_41 (Batc (None, 100, 128, 16)      64        \n",
      "_________________________________________________________________\n",
      "activation_41 (Activation)   (None, 100, 128, 16)      0         \n",
      "_________________________________________________________________\n",
      "max_pooling2d_16 (MaxPooling (None, 50, 64, 16)        0         \n",
      "_________________________________________________________________\n",
      "dropout_16 (Dropout)         (None, 50, 64, 16)        0         \n",
      "_________________________________________________________________\n",
      "conv2d_42 (Conv2D)           (None, 50, 64, 32)        4640      \n",
      "_________________________________________________________________\n",
      "batch_normalization_42 (Batc (None, 50, 64, 32)        128       \n",
      "_________________________________________________________________\n",
      "activation_42 (Activation)   (None, 50, 64, 32)        0         \n",
      "_________________________________________________________________\n",
      "conv2d_43 (Conv2D)           (None, 50, 64, 32)        9248      \n",
      "_________________________________________________________________\n",
      "batch_normalization_43 (Batc (None, 50, 64, 32)        128       \n",
      "_________________________________________________________________\n",
      "activation_43 (Activation)   (None, 50, 64, 32)        0         \n",
      "_________________________________________________________________\n",
      "max_pooling2d_17 (MaxPooling (None, 25, 32, 32)        0         \n",
      "_________________________________________________________________\n",
      "dropout_17 (Dropout)         (None, 25, 32, 32)        0         \n",
      "_________________________________________________________________\n",
      "conv2d_44 (Conv2D)           (None, 25, 32, 64)        18496     \n",
      "_________________________________________________________________\n",
      "batch_normalization_44 (Batc (None, 25, 32, 64)        256       \n",
      "_________________________________________________________________\n",
      "activation_44 (Activation)   (None, 25, 32, 64)        0         \n",
      "_________________________________________________________________\n",
      "conv2d_45 (Conv2D)           (None, 25, 32, 64)        36928     \n",
      "_________________________________________________________________\n",
      "batch_normalization_45 (Batc (None, 25, 32, 64)        256       \n",
      "_________________________________________________________________\n",
      "activation_45 (Activation)   (None, 25, 32, 64)        0         \n",
      "_________________________________________________________________\n",
      "max_pooling2d_18 (MaxPooling (None, 13, 16, 64)        0         \n",
      "_________________________________________________________________\n",
      "dropout_18 (Dropout)         (None, 13, 16, 64)        0         \n",
      "_________________________________________________________________\n",
      "conv2d_46 (Conv2D)           (None, 13, 16, 128)       73856     \n",
      "_________________________________________________________________\n",
      "batch_normalization_46 (Batc (None, 13, 16, 128)       512       \n",
      "_________________________________________________________________\n",
      "activation_46 (Activation)   (None, 13, 16, 128)       0         \n",
      "_________________________________________________________________\n",
      "conv2d_47 (Conv2D)           (None, 13, 16, 128)       147584    \n",
      "_________________________________________________________________\n",
      "batch_normalization_47 (Batc (None, 13, 16, 128)       512       \n",
      "_________________________________________________________________\n",
      "activation_47 (Activation)   (None, 13, 16, 128)       0         \n",
      "_________________________________________________________________\n",
      "max_pooling2d_19 (MaxPooling (None, 7, 8, 128)         0         \n",
      "_________________________________________________________________\n",
      "dropout_19 (Dropout)         (None, 7, 8, 128)         0         \n",
      "_________________________________________________________________\n",
      "conv2d_48 (Conv2D)           (None, 7, 8, 256)         295168    \n",
      "_________________________________________________________________\n",
      "batch_normalization_48 (Batc (None, 7, 8, 256)         1024      \n",
      "_________________________________________________________________\n",
      "activation_48 (Activation)   (None, 7, 8, 256)         0         \n",
      "_________________________________________________________________\n",
      "conv2d_49 (Conv2D)           (None, 7, 8, 256)         590080    \n",
      "_________________________________________________________________\n",
      "batch_normalization_49 (Batc (None, 7, 8, 256)         1024      \n",
      "_________________________________________________________________\n",
      "activation_49 (Activation)   (None, 7, 8, 256)         0         \n",
      "_________________________________________________________________\n",
      "spatial_pyramid_pooling2d_4  (None, 21, 256)           0         \n",
      "_________________________________________________________________\n",
      "reshape_4 (Reshape)          (None, 5376)              0         \n",
      "_________________________________________________________________\n",
      "cnn14_fcn (Dense)            (None, 256)               1376512   \n",
      "_________________________________________________________________\n",
      "dense_4 (Dense)              (None, 8)                 2056      \n",
      "=================================================================\n",
      "Total params: 2,561,016\n",
      "Trainable params: 2,559,032\n",
      "Non-trainable params: 1,984\n",
      "_________________________________________________________________\n"
     ]
    }
   ],
   "source": [
    "model = load_model(the_best_model)\n",
    "model.summary()"
   ]
  },
  {
   "cell_type": "code",
   "execution_count": 140,
   "metadata": {},
   "outputs": [],
   "source": [
    "label_pred = model.predict(fea_test)\n",
    "# label_pred = model.predict(test_generator)"
   ]
  },
  {
   "cell_type": "code",
   "execution_count": 141,
   "metadata": {},
   "outputs": [],
   "source": [
    "np.set_printoptions(linewidth=200, precision=2, suppress=True)"
   ]
  },
  {
   "cell_type": "code",
   "execution_count": 142,
   "metadata": {},
   "outputs": [
    {
     "name": "stdout",
     "output_type": "stream",
     "text": [
      "Confusion matrix:\n",
      "['BD', 'CD', 'STR', 'SPT', 'SPIN', 'PLT', 'RT', 'FKW']\n",
      "\n",
      "[[ 59 311 464 292 155 187  47   3]\n",
      " [  0   0   0   0   0   0   0   0]\n",
      " [  6  19 274  40  12  11   9   1]\n",
      " [ 15  13 118 271  42  11  12   0]\n",
      " [  7  42 131 105  84  29   6   1]\n",
      " [  6  19   5   2   1 206  41  12]\n",
      " [ 15  12  16   5  17  48 303  24]\n",
      " [ 25  29  75  13  38 273 748 806]]\n",
      "\n",
      "[[0.04 0.2  0.31 0.19 0.1  0.12 0.03 0.  ]\n",
      " [0.   0.   0.   0.   0.   0.   0.   0.  ]\n",
      " [0.02 0.05 0.74 0.11 0.03 0.03 0.02 0.  ]\n",
      " [0.03 0.03 0.24 0.56 0.09 0.02 0.02 0.  ]\n",
      " [0.02 0.1  0.32 0.26 0.21 0.07 0.01 0.  ]\n",
      " [0.02 0.07 0.02 0.01 0.   0.71 0.14 0.04]\n",
      " [0.03 0.03 0.04 0.01 0.04 0.11 0.69 0.05]\n",
      " [0.01 0.01 0.04 0.01 0.02 0.14 0.37 0.4 ]]\n"
     ]
    }
   ],
   "source": [
    "print(\"Confusion matrix:\")\n",
    "cm = confusion_matrix(label_test, np.argmax(label_pred, axis=1), labels=species_id)\n",
    "\n",
    "print(species_list)\n",
    "print('')\n",
    "print(cm)\n",
    "print('')\n",
    "\n",
    "cm2 = cm*1.0\n",
    "for ii in range(cm.shape[0]):\n",
    "    cm_row = cm[ii, :]*1.0\n",
    "\n",
    "    cm_row_sum = cm_row.sum()\n",
    "    if cm_row_sum != 0:\n",
    "        cm2[ii, :] = cm_row / cm_row_sum\n",
    "    else:\n",
    "        cm2[ii, :] = np.zeros(cm.shape[1])\n",
    "\n",
    "print(cm2)"
   ]
  },
  {
   "cell_type": "code",
   "execution_count": 143,
   "metadata": {},
   "outputs": [],
   "source": [
    "from sklearn.metrics import plot_confusion_matrix\n",
    "from sklearn.metrics._plot.confusion_matrix import ConfusionMatrixDisplay\n",
    "disp = ConfusionMatrixDisplay(confusion_matrix=cm, display_labels=species_list)\n",
    "disp2 = ConfusionMatrixDisplay(confusion_matrix=cm2, display_labels=species_list)"
   ]
  },
  {
   "cell_type": "code",
   "execution_count": 144,
   "metadata": {},
   "outputs": [
    {
     "data": {
      "text/plain": [
       "<sklearn.metrics._plot.confusion_matrix.ConfusionMatrixDisplay at 0x7f453f006b50>"
      ]
     },
     "execution_count": 144,
     "metadata": {},
     "output_type": "execute_result"
    },
    {
     "data": {
      "image/png": "[encoded data removed]",
      "text/plain": [
       "<Figure size 1080x1080 with 2 Axes>"
      ]
     },
     "metadata": {
      "needs_background": "light"
     },
     "output_type": "display_data"
    }
   ],
   "source": [
    "fig, ax = plt.subplots(figsize=[15, 15])\n",
    "disp.plot(include_values=True,\n",
    "                     cmap='viridis', ax=ax, xticks_rotation='horizontal',\n",
    "                     values_format=None, colorbar=True)\n"
   ]
  },
  {
   "cell_type": "code",
   "execution_count": 145,
   "metadata": {},
   "outputs": [
    {
     "data": {
      "text/plain": [
       "<sklearn.metrics._plot.confusion_matrix.ConfusionMatrixDisplay at 0x7f453f006b20>"
      ]
     },
     "execution_count": 145,
     "metadata": {},
     "output_type": "execute_result"
    },
    {
     "data": {
      "image/png": "[encoded data removed]",
      "text/plain": [
       "<Figure size 1080x1080 with 2 Axes>"
      ]
     },
     "metadata": {
      "needs_background": "light"
     },
     "output_type": "display_data"
    }
   ],
   "source": [
    "fig, ax = plt.subplots(figsize=[15, 15])\n",
    "disp2.plot(include_values=True,\n",
    "                     cmap='viridis', ax=ax, xticks_rotation='horizontal',\n",
    "                     values_format='.2f', colorbar=True)"
   ]
  },
  {
   "cell_type": "code",
   "execution_count": null,
   "metadata": {},
   "outputs": [],
   "source": []
  },
  {
   "cell_type": "code",
   "execution_count": null,
   "metadata": {},
   "outputs": [],
   "source": []
  },
  {
   "cell_type": "code",
   "execution_count": null,
   "metadata": {},
   "outputs": [],
   "source": []
  },
  {
   "cell_type": "code",
   "execution_count": null,
   "metadata": {},
   "outputs": [],
   "source": []
  },
  {
   "cell_type": "code",
   "execution_count": null,
   "metadata": {},
   "outputs": [],
   "source": []
  },
  {
   "cell_type": "code",
   "execution_count": null,
   "metadata": {},
   "outputs": [],
   "source": []
  }
 ],
 "metadata": {
  "kernelspec": {
   "display_name": "Python 3",
   "language": "python",
   "name": "python3"
  },
  "language_info": {
   "codemirror_mode": {
    "name": "ipython",
    "version": 3
   },
   "file_extension": ".py",
   "mimetype": "text/x-python",
   "name": "python",
   "nbconvert_exporter": "python",
   "pygments_lexer": "ipython3",
   "version": "3.8.6"
  }
 },
 "nbformat": 4,
 "nbformat_minor": 4
}
