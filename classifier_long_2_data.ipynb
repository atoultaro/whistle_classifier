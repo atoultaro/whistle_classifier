{
 "cells": [
  {
   "cell_type": "code",
   "execution_count": null,
   "id": "handled-lighter",
   "metadata": {},
   "outputs": [],
   "source": []
  },
  {
   "cell_type": "code",
   "execution_count": 2,
   "id": "computational-acquisition",
   "metadata": {},
   "outputs": [],
   "source": [
    "import os\n",
    "import numpy as np\n",
    "import librosa"
   ]
  },
  {
   "cell_type": "code",
   "execution_count": 3,
   "id": "saving-imaging",
   "metadata": {},
   "outputs": [],
   "source": [
    "from math import floor\n",
    "from lib_augment import load_and_normalize\n",
    "from lib_feature import feature_whistleness\n",
    "\n",
    "%matplotlib inline\n",
    "import matplotlib.pyplot as plt\n"
   ]
  },
  {
   "cell_type": "code",
   "execution_count": 4,
   "id": "fleet-toddler",
   "metadata": {},
   "outputs": [],
   "source": [
    "# deploy_path = '/home/ys587/__Data/__whistle/__whislte_30_species/__sound_48k/__whistle_oswald/STAR2000_48kHz'\n",
    "species_dict = {'BD': 0, 'CD': 1, 'STR': 2, 'SPT': 3, 'SPIN': 4, 'PLT': 5, 'RT': 6,  'FKW': 7}\n",
    "fs = 48000\n",
    "time_reso = 0.02\n",
    "hop_length = int(time_reso*fs)  #\n",
    "species_list = list(species_dict.keys())\n",
    "species_id = list(species_dict.values())"
   ]
  },
  {
   "cell_type": "code",
   "execution_count": 5,
   "id": "guilty-yield",
   "metadata": {},
   "outputs": [],
   "source": [
    "species_to_code = {'bottlenose': 'BD', 'longbeaked_common': 'CD', 'shortbeaked_common': 'CD', 'common': 'CD',\n",
    "                   'striped': 'STR', 'spotted': 'SPT', 'spinner': 'SPIN', 'pilot': 'PLT', 'roughtoothed': 'RT',\n",
    "                   'false_killer': 'FKW'}"
   ]
  },
  {
   "cell_type": "code",
   "execution_count": 6,
   "id": "floral-collapse",
   "metadata": {},
   "outputs": [],
   "source": [
    "# species_dict = {'BD': 0, 'CD': 1, 'STR': 2, 'SPT': 3, 'SPIN': 4, 'PLT': 5, 'RT': 6,  'FKW': 7}\n",
    "\n",
    "step_sec = 1.0  # sec\n",
    "whistle_ratio = 0.2  # percentage of whislteness frames in a long window\n",
    "# step_size = int(1.0*fs)\n",
    "win_long_sec = 10   # 10 sec\n",
    "step_ind = int(win_long_sec/step_sec)\n",
    "step_size = int(step_sec*fs)\n",
    "win_size = int(2.0*fs)"
   ]
  },
  {
   "cell_type": "code",
   "execution_count": 7,
   "id": "rotary-mining",
   "metadata": {},
   "outputs": [],
   "source": [
    "ten_sec_path = '/home/ys587/__Data/__whistle/__whislte_30_species/__dataset/ten_seconds_data'"
   ]
  },
  {
   "cell_type": "code",
   "execution_count": 11,
   "id": "previous-dylan",
   "metadata": {
    "scrolled": true
   },
   "outputs": [],
   "source": [
    "# loading the trained model\n",
    "from tensorflow.keras.models import load_model\n",
    "import tensorflow_addons.layers.spatial_pyramid_pooling as spp\n",
    "\n",
    "\n",
    "model_whistleness_path = '/home/ys587/__Data/__whistle/__whislte_30_species/__fit_result_whistleness/2021-02-02_200514_resnet18_expt_alldata_run0_f1_lr_0.001/epoch_163_valloss_0.2434_valacc_0.9472.hdf5'\n",
    "# model_whistleness = load_model(model_whistleness_path)\n",
    "# model_whistleness.summary()\n",
    "\n",
    "# model_path = '/home/ys587/__Data/__whistle/__whislte_30_species/__fit_result_species/20210303_233728/STAR2000/epoch_53_valloss_0.9505_valacc_0.7552.hdf5'\n",
    "# model_path = '/home/ys587/__Data/__whistle/__whislte_30_species/__fit_result_species/20210305_105231/STAR2000/epoch_56_valloss_0.1945_valacc_0.7305.hdf5'\n",
    "model_species_path = '/home/ys587/__Data/__whistle/__whislte_30_species/__fit_result_species/20210310_095616/STAR2000/epoch_48_valloss_0.1938_valacc_0.7403.hdf5'\n",
    "\n",
    "# model_species = load_model(model_species_path)\n",
    "# model_species.summary()"
   ]
  },
  {
   "cell_type": "code",
   "execution_count": 43,
   "id": "backed-memory",
   "metadata": {},
   "outputs": [],
   "source": [
    "sound_path = '/home/ys587/__Data/__whistle/__whislte_30_species/__sound_48k/__whistle_oswald'\n",
    "sound_deploy = ['STAR2000_48kHz', 'STAR2003_48kHz', 'STAR2006_48kHz', 'HICEAS2002_48kHz', 'PICEAS2005_48kHz']"
   ]
  },
  {
   "cell_type": "markdown",
   "id": "impaired-newport",
   "metadata": {},
   "source": [
    "## STAR 2000"
   ]
  },
  {
   "cell_type": "code",
   "execution_count": 44,
   "id": "exact-carroll",
   "metadata": {},
   "outputs": [],
   "source": [
    "dd = 0\n",
    "# np.savez(os.path.join(ten_sec_path, sound_deploy[dd]), feature_train=feature_train, label_train=label_train, feature_test=feature_test, label_test=label_test)\n",
    "feature_curr = np.load(os.path.join(ten_sec_path, sound_deploy[dd]+'.npz'))"
   ]
  },
  {
   "cell_type": "code",
   "execution_count": 45,
   "id": "auburn-assistant",
   "metadata": {},
   "outputs": [
    {
     "data": {
      "text/plain": [
       "['feature_train', 'label_train', 'feature_test', 'label_test']"
      ]
     },
     "execution_count": 45,
     "metadata": {},
     "output_type": "execute_result"
    }
   ],
   "source": [
    "feature_curr.files"
   ]
  },
  {
   "cell_type": "code",
   "execution_count": 46,
   "id": "buried-friendship",
   "metadata": {},
   "outputs": [],
   "source": [
    "feature_test = feature_curr['feature_test']\n",
    "label_test = feature_curr['label_test']\n",
    "del feature_curr"
   ]
  },
  {
   "cell_type": "code",
   "execution_count": 50,
   "id": "wicked-salvation",
   "metadata": {},
   "outputs": [
    {
     "name": "stdout",
     "output_type": "stream",
     "text": [
      "['STAR2003_48kHz', 'STAR2006_48kHz', 'HICEAS2002_48kHz', 'PICEAS2005_48kHz']\n"
     ]
    }
   ],
   "source": [
    "sound_deploy_curr = sound_deploy.copy()\n",
    "sound_deploy_curr.remove('STAR2000_48kHz')\n",
    "print(sound_deploy_curr)"
   ]
  },
  {
   "cell_type": "code",
   "execution_count": 51,
   "id": "authorized-fusion",
   "metadata": {},
   "outputs": [
    {
     "name": "stdout",
     "output_type": "stream",
     "text": [
      "STAR2003_48kHz\n",
      "STAR2006_48kHz\n",
      "HICEAS2002_48kHz\n",
      "PICEAS2005_48kHz\n"
     ]
    }
   ],
   "source": [
    "feature_train = []\n",
    "label_train = []\n",
    "for ss in sound_deploy_curr:\n",
    "    print(ss)\n",
    "    feature_curr = np.load(os.path.join(ten_sec_path, ss+'.npz'))\n",
    "    feature_train.append(feature_curr['feature_train'])\n",
    "    label_train.append(feature_curr['label_train'])"
   ]
  },
  {
   "cell_type": "code",
   "execution_count": 58,
   "id": "complicated-nashville",
   "metadata": {},
   "outputs": [],
   "source": [
    "feature_train = np.concatenate(feature_train)\n",
    "label_train = np.concatenate(label_train)"
   ]
  },
  {
   "cell_type": "code",
   "execution_count": 60,
   "id": "national-hamburg",
   "metadata": {},
   "outputs": [
    {
     "data": {
      "text/plain": [
       "'STAR2000_48kHz'"
      ]
     },
     "execution_count": 60,
     "metadata": {},
     "output_type": "execute_result"
    }
   ],
   "source": [
    "sound_deploy[dd]"
   ]
  },
  {
   "cell_type": "code",
   "execution_count": 61,
   "id": "personal-sacramento",
   "metadata": {},
   "outputs": [],
   "source": [
    "ten_sec_path = '/home/ys587/__Data/__whistle/__whislte_30_species/__dataset/ten_seconds_data'\n",
    "# np.savez(os.path.join(ten_sec_path, sound_deploy[dd]), feature_train=feature_train, label_train=label_train, feature_test=feature_test, label_test=label_test)\n",
    "np.savez(os.path.join(ten_sec_path, sound_deploy[dd]+'_test_others_train'), feature_train=feature_train, label_train=label_train, feature_test=feature_test, label_test=label_test)"
   ]
  },
  {
   "cell_type": "code",
   "execution_count": null,
   "id": "historic-struggle",
   "metadata": {},
   "outputs": [],
   "source": []
  }
 ],
 "metadata": {
  "kernelspec": {
   "display_name": "Python 3",
   "language": "python",
   "name": "python3"
  },
  "language_info": {
   "codemirror_mode": {
    "name": "ipython",
    "version": 3
   },
   "file_extension": ".py",
   "mimetype": "text/x-python",
   "name": "python",
   "nbconvert_exporter": "python",
   "pygments_lexer": "ipython3",
   "version": "3.8.6"
  }
 },
 "nbformat": 4,
 "nbformat_minor": 5
}
