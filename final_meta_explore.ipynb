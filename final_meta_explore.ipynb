{
 "cells": [
  {
   "cell_type": "code",
   "execution_count": 1,
   "id": "c06042b5-2bbb-443b-8209-a6eca7a8064a",
   "metadata": {},
   "outputs": [],
   "source": [
    "import os\n",
    "import pandas as pd"
   ]
  },
  {
   "cell_type": "code",
   "execution_count": 2,
   "id": "aecd999d-255b-42a9-a260-af8a94a6960e",
   "metadata": {},
   "outputs": [],
   "source": [
    "# root_dir = '/home/ys587/__Data/__whistle'  # where we have __whislte_30_species folder\n",
    "root_dir = '/home/ubuntu'  # where we have __whislte_30_species folder"
   ]
  },
  {
   "cell_type": "code",
   "execution_count": 5,
   "id": "ba7fd5e8-0157-4b5e-91bd-90807af24ebf",
   "metadata": {},
   "outputs": [],
   "source": [
    "feature_path = os.path.join(root_dir, '__whistle_30_species/__dataset/__feature_crossnoise')"
   ]
  },
  {
   "cell_type": "code",
   "execution_count": 6,
   "id": "0c004b99-2a1b-4912-9860-9ffdb2ca3752",
   "metadata": {
    "scrolled": true
   },
   "outputs": [],
   "source": [
    "# df_species = pd.read_csv(os.path.join(feature_path, 'all.csv'))\n",
    "df_species = pd.read_csv(os.path.join(feature_path, 'all_species.csv'))\n",
    "df_noise = pd.read_csv(os.path.join(feature_path, 'all_noise.csv'))"
   ]
  },
  {
   "cell_type": "code",
   "execution_count": 7,
   "id": "276664c3-3762-486f-8dc0-173435d250b2",
   "metadata": {},
   "outputs": [
    {
     "data": {
      "text/plain": [
       "Index(['dataset', 'species', 'deployment', 'encounter', 'filename'], dtype='object')"
      ]
     },
     "execution_count": 7,
     "metadata": {},
     "output_type": "execute_result"
    }
   ],
   "source": [
    "df_species.columns"
   ]
  },
  {
   "cell_type": "code",
   "execution_count": 8,
   "id": "493f57e9-867a-4d17-b961-df8bc77614dd",
   "metadata": {},
   "outputs": [
    {
     "data": {
      "text/html": [
       "<div>\n",
       "<style scoped>\n",
       "    .dataframe tbody tr th:only-of-type {\n",
       "        vertical-align: middle;\n",
       "    }\n",
       "\n",
       "    .dataframe tbody tr th {\n",
       "        vertical-align: top;\n",
       "    }\n",
       "\n",
       "    .dataframe thead th {\n",
       "        text-align: right;\n",
       "    }\n",
       "</style>\n",
       "<table border=\"1\" class=\"dataframe\">\n",
       "  <thead>\n",
       "    <tr style=\"text-align: right;\">\n",
       "      <th></th>\n",
       "      <th>dataset</th>\n",
       "      <th>species</th>\n",
       "      <th>deployment</th>\n",
       "      <th>encounter</th>\n",
       "      <th>filename</th>\n",
       "    </tr>\n",
       "  </thead>\n",
       "  <tbody>\n",
       "    <tr>\n",
       "      <th>5164</th>\n",
       "      <td>oswald</td>\n",
       "      <td>CD</td>\n",
       "      <td>STAR2000</td>\n",
       "      <td>STAR2000_s377</td>\n",
       "      <td>CD_STAR2000_s377_14586.wav</td>\n",
       "    </tr>\n",
       "    <tr>\n",
       "      <th>19810</th>\n",
       "      <td>oswald</td>\n",
       "      <td>STR</td>\n",
       "      <td>STAR2006</td>\n",
       "      <td>STAR2006_s138</td>\n",
       "      <td>STR_STAR2006_s138_18916.wav</td>\n",
       "    </tr>\n",
       "    <tr>\n",
       "      <th>14108</th>\n",
       "      <td>oswald</td>\n",
       "      <td>SPIN</td>\n",
       "      <td>PICEAS2005</td>\n",
       "      <td>PICEAS2005_a104</td>\n",
       "      <td>SPIN_PICEAS2005_a104_7829.wav</td>\n",
       "    </tr>\n",
       "    <tr>\n",
       "      <th>4469</th>\n",
       "      <td>oswald</td>\n",
       "      <td>CD</td>\n",
       "      <td>STAR2000</td>\n",
       "      <td>STAR2000_s374</td>\n",
       "      <td>CD_STAR2000_s374_10025.wav</td>\n",
       "    </tr>\n",
       "    <tr>\n",
       "      <th>5220</th>\n",
       "      <td>oswald</td>\n",
       "      <td>CD</td>\n",
       "      <td>STAR2000</td>\n",
       "      <td>STAR2000_s377</td>\n",
       "      <td>CD_STAR2000_s377_14642.wav</td>\n",
       "    </tr>\n",
       "  </tbody>\n",
       "</table>\n",
       "</div>"
      ],
      "text/plain": [
       "      dataset species  deployment        encounter  \\\n",
       "5164   oswald      CD    STAR2000    STAR2000_s377   \n",
       "19810  oswald     STR    STAR2006    STAR2006_s138   \n",
       "14108  oswald    SPIN  PICEAS2005  PICEAS2005_a104   \n",
       "4469   oswald      CD    STAR2000    STAR2000_s374   \n",
       "5220   oswald      CD    STAR2000    STAR2000_s377   \n",
       "\n",
       "                            filename  \n",
       "5164      CD_STAR2000_s377_14586.wav  \n",
       "19810    STR_STAR2006_s138_18916.wav  \n",
       "14108  SPIN_PICEAS2005_a104_7829.wav  \n",
       "4469      CD_STAR2000_s374_10025.wav  \n",
       "5220      CD_STAR2000_s377_14642.wav  "
      ]
     },
     "execution_count": 8,
     "metadata": {},
     "output_type": "execute_result"
    }
   ],
   "source": [
    "df_species.sample(5)"
   ]
  },
  {
   "cell_type": "code",
   "execution_count": 11,
   "id": "0cad8613-0e31-4515-9efc-498fc7d8d8a0",
   "metadata": {
    "scrolled": true,
    "tags": []
   },
   "outputs": [
    {
     "data": {
      "text/html": [
       "<div>\n",
       "<style scoped>\n",
       "    .dataframe tbody tr th:only-of-type {\n",
       "        vertical-align: middle;\n",
       "    }\n",
       "\n",
       "    .dataframe tbody tr th {\n",
       "        vertical-align: top;\n",
       "    }\n",
       "\n",
       "    .dataframe thead th {\n",
       "        text-align: right;\n",
       "    }\n",
       "</style>\n",
       "<table border=\"1\" class=\"dataframe\">\n",
       "  <thead>\n",
       "    <tr style=\"text-align: right;\">\n",
       "      <th></th>\n",
       "      <th>dataset</th>\n",
       "      <th>species</th>\n",
       "      <th>deployment</th>\n",
       "      <th>encounter</th>\n",
       "      <th>filename</th>\n",
       "    </tr>\n",
       "  </thead>\n",
       "  <tbody>\n",
       "    <tr>\n",
       "      <th>1764</th>\n",
       "      <td>oswald</td>\n",
       "      <td>BD</td>\n",
       "      <td>STAR2000</td>\n",
       "      <td>STAR2000_s352</td>\n",
       "      <td>BD_STAR2000_s352_14844.wav</td>\n",
       "    </tr>\n",
       "    <tr>\n",
       "      <th>1765</th>\n",
       "      <td>oswald</td>\n",
       "      <td>BD</td>\n",
       "      <td>STAR2000</td>\n",
       "      <td>STAR2000_s352</td>\n",
       "      <td>BD_STAR2000_s352_14845.wav</td>\n",
       "    </tr>\n",
       "    <tr>\n",
       "      <th>1766</th>\n",
       "      <td>oswald</td>\n",
       "      <td>BD</td>\n",
       "      <td>STAR2000</td>\n",
       "      <td>STAR2000_s352</td>\n",
       "      <td>BD_STAR2000_s352_14846.wav</td>\n",
       "    </tr>\n",
       "    <tr>\n",
       "      <th>1767</th>\n",
       "      <td>oswald</td>\n",
       "      <td>BD</td>\n",
       "      <td>STAR2000</td>\n",
       "      <td>STAR2000_s352</td>\n",
       "      <td>BD_STAR2000_s352_14847.wav</td>\n",
       "    </tr>\n",
       "    <tr>\n",
       "      <th>1768</th>\n",
       "      <td>oswald</td>\n",
       "      <td>BD</td>\n",
       "      <td>STAR2000</td>\n",
       "      <td>STAR2000_s352</td>\n",
       "      <td>BD_STAR2000_s352_14848.wav</td>\n",
       "    </tr>\n",
       "    <tr>\n",
       "      <th>...</th>\n",
       "      <td>...</td>\n",
       "      <td>...</td>\n",
       "      <td>...</td>\n",
       "      <td>...</td>\n",
       "      <td>...</td>\n",
       "    </tr>\n",
       "    <tr>\n",
       "      <th>1887</th>\n",
       "      <td>oswald</td>\n",
       "      <td>BD</td>\n",
       "      <td>STAR2000</td>\n",
       "      <td>STAR2000_s46</td>\n",
       "      <td>BD_STAR2000_s46_11952.wav</td>\n",
       "    </tr>\n",
       "    <tr>\n",
       "      <th>1888</th>\n",
       "      <td>oswald</td>\n",
       "      <td>BD</td>\n",
       "      <td>STAR2000</td>\n",
       "      <td>STAR2000_s46</td>\n",
       "      <td>BD_STAR2000_s46_11953.wav</td>\n",
       "    </tr>\n",
       "    <tr>\n",
       "      <th>1889</th>\n",
       "      <td>oswald</td>\n",
       "      <td>BD</td>\n",
       "      <td>STAR2000</td>\n",
       "      <td>STAR2000_s46</td>\n",
       "      <td>BD_STAR2000_s46_11954.wav</td>\n",
       "    </tr>\n",
       "    <tr>\n",
       "      <th>1890</th>\n",
       "      <td>oswald</td>\n",
       "      <td>BD</td>\n",
       "      <td>STAR2000</td>\n",
       "      <td>STAR2000_s46</td>\n",
       "      <td>BD_STAR2000_s46_11955.wav</td>\n",
       "    </tr>\n",
       "    <tr>\n",
       "      <th>1891</th>\n",
       "      <td>oswald</td>\n",
       "      <td>BD</td>\n",
       "      <td>STAR2000</td>\n",
       "      <td>STAR2000_s46</td>\n",
       "      <td>BD_STAR2000_s46_11956.wav</td>\n",
       "    </tr>\n",
       "  </tbody>\n",
       "</table>\n",
       "<p>128 rows × 5 columns</p>\n",
       "</div>"
      ],
      "text/plain": [
       "     dataset species deployment      encounter                    filename\n",
       "1764  oswald      BD   STAR2000  STAR2000_s352  BD_STAR2000_s352_14844.wav\n",
       "1765  oswald      BD   STAR2000  STAR2000_s352  BD_STAR2000_s352_14845.wav\n",
       "1766  oswald      BD   STAR2000  STAR2000_s352  BD_STAR2000_s352_14846.wav\n",
       "1767  oswald      BD   STAR2000  STAR2000_s352  BD_STAR2000_s352_14847.wav\n",
       "1768  oswald      BD   STAR2000  STAR2000_s352  BD_STAR2000_s352_14848.wav\n",
       "...      ...     ...        ...            ...                         ...\n",
       "1887  oswald      BD   STAR2000   STAR2000_s46   BD_STAR2000_s46_11952.wav\n",
       "1888  oswald      BD   STAR2000   STAR2000_s46   BD_STAR2000_s46_11953.wav\n",
       "1889  oswald      BD   STAR2000   STAR2000_s46   BD_STAR2000_s46_11954.wav\n",
       "1890  oswald      BD   STAR2000   STAR2000_s46   BD_STAR2000_s46_11955.wav\n",
       "1891  oswald      BD   STAR2000   STAR2000_s46   BD_STAR2000_s46_11956.wav\n",
       "\n",
       "[128 rows x 5 columns]"
      ]
     },
     "execution_count": 11,
     "metadata": {},
     "output_type": "execute_result"
    }
   ],
   "source": [
    "df_species[(df_species['deployment']=='STAR2000') & (df_species['species']=='BD')]"
   ]
  },
  {
   "cell_type": "code",
   "execution_count": 12,
   "id": "8fa6719e-3d50-431b-acad-ed3ebde917fd",
   "metadata": {},
   "outputs": [],
   "source": [
    "deploy_list = ['STAR2000', 'STAR2003', 'STAR2006', 'HICEAS2002', 'PICEAS2005']"
   ]
  },
  {
   "cell_type": "code",
   "execution_count": 13,
   "id": "f40fb6d1-11e6-46be-910e-75b38334e0d9",
   "metadata": {},
   "outputs": [],
   "source": [
    "species_dict = {'BD': 0, 'CD': 1, 'STR': 2, 'SPT': 3, 'SPIN': 4, 'PLT': 5, 'RT': 6,  'FKW': 7}\n",
    "num_species = len(species_dict)\n",
    "species_list = list(species_dict.keys())\n",
    "species_id = list(species_dict.values())"
   ]
  },
  {
   "cell_type": "code",
   "execution_count": 17,
   "id": "4bb065eb-bb67-445a-a599-bfccdb19e019",
   "metadata": {
    "scrolled": true,
    "tags": []
   },
   "outputs": [
    {
     "name": "stdout",
     "output_type": "stream",
     "text": [
      "\n",
      "STAR2000\n",
      "=== BD 128\n",
      "=== CD 3946\n",
      "=== STR 1188\n",
      "=== SPT 841\n",
      "=== SPIN 502\n",
      "=== PLT 29\n",
      "=== RT 72\n",
      "=== FKW 0\n",
      "\n",
      "STAR2003\n",
      "=== BD 268\n",
      "=== CD 744\n",
      "=== STR 64\n",
      "=== SPT 439\n",
      "=== SPIN 55\n",
      "=== PLT 0\n",
      "=== RT 0\n",
      "=== FKW 311\n",
      "\n",
      "STAR2006\n",
      "=== BD 0\n",
      "=== CD 25\n",
      "=== STR 773\n",
      "=== SPT 185\n",
      "=== SPIN 9\n",
      "=== PLT 719\n",
      "=== RT 80\n",
      "=== FKW 1003\n",
      "\n",
      "HICEAS2002\n",
      "=== BD 44\n",
      "=== CD 0\n",
      "=== STR 231\n",
      "=== SPT 406\n",
      "=== SPIN 91\n",
      "=== PLT 1096\n",
      "=== RT 763\n",
      "=== FKW 0\n",
      "\n",
      "PICEAS2005\n",
      "=== BD 1720\n",
      "=== CD 0\n",
      "=== STR 435\n",
      "=== SPT 521\n",
      "=== SPIN 466\n",
      "=== PLT 320\n",
      "=== RT 489\n",
      "=== FKW 2111\n"
     ]
    }
   ],
   "source": [
    "for dd in deploy_list:\n",
    "    print('\\n'+dd)\n",
    "    for ss in species_list:\n",
    "        df_curr_num = df_species[(df_species['deployment']==dd) & (df_species['species']==ss)].shape[0]\n",
    "        print('=== '+ss+' '+str(df_curr_num))"
   ]
  },
  {
   "cell_type": "code",
   "execution_count": 19,
   "id": "b40072b5-88b8-4152-8fbf-f844e9f423f6",
   "metadata": {},
   "outputs": [
    {
     "name": "stdout",
     "output_type": "stream",
     "text": [
      "\n",
      "STAR2000\n",
      "===  6706\n",
      "\n",
      "STAR2003\n",
      "===  1881\n",
      "\n",
      "STAR2006\n",
      "===  2794\n",
      "\n",
      "HICEAS2002\n",
      "===  2631\n",
      "\n",
      "PICEAS2005\n",
      "===  6062\n"
     ]
    }
   ],
   "source": [
    "# number of clips over deploymentss\n",
    "for dd in deploy_list:\n",
    "    print('\\n'+dd)\n",
    "    df_curr_num = df_species[(df_species['deployment']==dd)].shape[0]\n",
    "    print('=== '+' '+str(df_curr_num))"
   ]
  },
  {
   "cell_type": "code",
   "execution_count": 20,
   "id": "17edf89b-5696-4410-b913-34eefce46669",
   "metadata": {},
   "outputs": [
    {
     "name": "stdout",
     "output_type": "stream",
     "text": [
      "\n",
      "BD\n",
      "===  2160\n",
      "\n",
      "CD\n",
      "===  4715\n",
      "\n",
      "STR\n",
      "===  2691\n",
      "\n",
      "SPT\n",
      "===  2392\n",
      "\n",
      "SPIN\n",
      "===  1123\n",
      "\n",
      "PLT\n",
      "===  2164\n",
      "\n",
      "RT\n",
      "===  1404\n",
      "\n",
      "FKW\n",
      "===  3425\n"
     ]
    }
   ],
   "source": [
    "# number of clips over spcies \n",
    "for ss in species_list:\n",
    "    print('\\n'+ss)\n",
    "    df_curr_num = df_species[(df_species['species']==ss)].shape[0]\n",
    "    print('=== '+' '+str(df_curr_num))"
   ]
  },
  {
   "cell_type": "code",
   "execution_count": null,
   "id": "b43b812c-48b7-47e4-8bf5-75c54aa7fcc7",
   "metadata": {},
   "outputs": [],
   "source": [
    "# sound length sover species and deploymentss"
   ]
  }
 ],
 "metadata": {
  "kernelspec": {
   "display_name": "Python 3",
   "language": "python",
   "name": "python3"
  },
  "language_info": {
   "codemirror_mode": {
    "name": "ipython",
    "version": 3
   },
   "file_extension": ".py",
   "mimetype": "text/x-python",
   "name": "python",
   "nbconvert_exporter": "python",
   "pygments_lexer": "ipython3",
   "version": "3.8.10"
  }
 },
 "nbformat": 4,
 "nbformat_minor": 5
}
