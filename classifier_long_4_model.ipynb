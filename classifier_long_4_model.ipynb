{
 "cells": [
  {
   "cell_type": "code",
   "execution_count": null,
   "id": "collective-portugal",
   "metadata": {},
   "outputs": [],
   "source": []
  },
  {
   "cell_type": "code",
   "execution_count": 35,
   "id": "italian-greensboro",
   "metadata": {},
   "outputs": [],
   "source": [
    "import numpy as np\n",
    "from itertools import permutations\n",
    "import random\n",
    "import os\n",
    "import glob\n",
    "import pickle\n",
    "import matplotlib.pyplot as plt\n",
    "import matplotlib.patheffects as PathEffects\n",
    "import pandas as pd\n",
    "from os import makedirs\n",
    "from datetime import datetime\n",
    "from collections import Counter\n",
    "\n",
    "from math import floor\n",
    "\n",
    "from sklearn.model_selection import train_test_split\n",
    "from sklearn.utils import shuffle\n",
    "from sklearn.utils.class_weight import compute_class_weight\n",
    "from sklearn.metrics import roc_curve\n",
    "from sklearn.neighbors import KNeighborsClassifier\n",
    "from sklearn.metrics import confusion_matrix, classification_report\n",
    "\n",
    "# from MulticoreTSNE import MulticoreTSNE as TSNE\n",
    "# from sklearn.manifold import TSNE\n",
    "import seaborn as sns\n",
    "\n",
    "from tensorflow.keras.utils import Sequence\n",
    "from tensorflow.keras.layers import Input, Dense, BatchNormalization, Dropout, Activation\n",
    "from tensorflow.keras.layers import Conv2D, Lambda, Flatten, MaxPooling2D, Concatenate, LSTM, Reshape, Lambda, ConvLSTM2D, GlobalAveragePooling2D, GlobalMaxPooling2D\n",
    "from tensorflow.keras.layers import Bidirectional, LSTM, GRU\n",
    "from tensorflow.keras.models import Model, Sequential\n",
    "from tensorflow.keras.regularizers import l2\n",
    "from tensorflow.keras import backend as K\n",
    "\n",
    "from tensorflow.keras.optimizers.schedules import ExponentialDecay, PiecewiseConstantDecay\n",
    "from tensorflow.keras.optimizers import SGD,Adam\n",
    "from tensorflow.keras.losses import binary_crossentropy, categorical_crossentropy  # CategoricalCrossentropy\n",
    "from tensorflow.keras.callbacks import ModelCheckpoint, TensorBoard, EarlyStopping\n",
    "from tensorflow.keras.utils import to_categorical\n",
    "from tensorflow.keras.models import load_model\n",
    "import tensorflow_addons.layers.spatial_pyramid_pooling as spp\n",
    "# import tensorflow_datasets as tfds\n",
    "from tensorflow.math import l2_normalize\n",
    "\n",
    "import tensorflow as tf"
   ]
  },
  {
   "cell_type": "code",
   "execution_count": 2,
   "id": "wired-wound",
   "metadata": {},
   "outputs": [],
   "source": [
    "import os\n",
    "import numpy as np\n",
    "import librosa\n",
    "import tensorflow as tf"
   ]
  },
  {
   "cell_type": "code",
   "execution_count": 3,
   "id": "certain-gross",
   "metadata": {},
   "outputs": [],
   "source": [
    "from math import floor\n",
    "from lib_augment import load_and_normalize\n",
    "from lib_feature import feature_whistleness\n",
    "\n",
    "%matplotlib inline\n",
    "import matplotlib.pyplot as plt\n"
   ]
  },
  {
   "cell_type": "code",
   "execution_count": 31,
   "id": "forbidden-broadway",
   "metadata": {},
   "outputs": [],
   "source": [
    "# deploy_path = '/home/ys587/__Data/__whistle/__whislte_30_species/__sound_48k/__whistle_oswald/STAR2000_48kHz'\n",
    "species_dict = {'BD': 0, 'CD': 1, 'STR': 2, 'SPT': 3, 'SPIN': 4, 'PLT': 5, 'RT': 6,  'FKW': 7}\n",
    "fs = 48000\n",
    "time_reso = 0.02\n",
    "hop_length = int(time_reso*fs)  #\n",
    "species_list = list(species_dict.keys())\n",
    "species_id = list(species_dict.values())\n",
    "num_species = len(species_dict)"
   ]
  },
  {
   "cell_type": "code",
   "execution_count": 5,
   "id": "trained-oracle",
   "metadata": {},
   "outputs": [],
   "source": [
    "species_to_code = {'bottlenose': 'BD', 'longbeaked_common': 'CD', 'shortbeaked_common': 'CD', 'common': 'CD',\n",
    "                   'striped': 'STR', 'spotted': 'SPT', 'spinner': 'SPIN', 'pilot': 'PLT', 'roughtoothed': 'RT',\n",
    "                   'false_killer': 'FKW'}"
   ]
  },
  {
   "cell_type": "code",
   "execution_count": 6,
   "id": "postal-burns",
   "metadata": {},
   "outputs": [],
   "source": [
    "step_sec = 1.0  # sec\n",
    "whistle_ratio = 0.2  # percentage of whislteness frames in a long window\n",
    "# step_size = int(1.0*fs)\n",
    "win_long_sec = 10   # 10 sec\n",
    "step_ind = int(win_long_sec/step_sec)\n",
    "step_size = int(step_sec*fs)\n",
    "win_size = int(2.0*fs)"
   ]
  },
  {
   "cell_type": "code",
   "execution_count": 7,
   "id": "unavailable-gasoline",
   "metadata": {},
   "outputs": [],
   "source": [
    "ten_sec_path = '/home/ys587/__Data/__whistle/__whislte_30_species/__dataset/ten_seconds_data'"
   ]
  },
  {
   "cell_type": "code",
   "execution_count": 67,
   "id": "broken-season",
   "metadata": {},
   "outputs": [],
   "source": [
    "# Hyper parameters\n",
    "learning_rate = 1.0e-3\n",
    "drop_rate = 0.2\n",
    "hidden_units = 256\n",
    "fcn_dim = 256\n",
    "\n",
    "num_epoch = 200\n",
    "# batch_size = 128\n",
    "# batch_size = 32  # for cnn14+attention\n",
    "batch_size = 16  # for cnn14+spp\n",
    "\n",
    "num_patience = 5"
   ]
  },
  {
   "cell_type": "code",
   "execution_count": 11,
   "id": "regulated-daisy",
   "metadata": {},
   "outputs": [],
   "source": [
    "# data_type_dict = {1: 'universal', 2: 'file', 3: 'encounter', 4: 'domain'}\n",
    "# data_type = 2\n",
    "\n",
    "work_path = '/home/ys587/__Data/__whistle/__whislte_30_species'\n",
    "fit_result_path =  os.path.join(work_path, '__fit_result_species')\n",
    "# feature_path = os.path.join(work_path, '__feature_species')\n",
    "feature_path = os.path.join(work_path, '__dataset/20210210')"
   ]
  },
  {
   "cell_type": "code",
   "execution_count": 62,
   "id": "drawn-tumor",
   "metadata": {},
   "outputs": [],
   "source": [
    "from datetime import datetime\n",
    "today = datetime.now()\n",
    "# create a folder based on date & time\n",
    "fit_result_path1 = os.path.join(fit_result_path, today.strftime('%Y%m%d_%H%M%S'))"
   ]
  },
  {
   "cell_type": "code",
   "execution_count": 63,
   "id": "transparent-playing",
   "metadata": {},
   "outputs": [],
   "source": [
    "ee = 'STAR2000'\n",
    "fit_result_path2 = os.path.join(fit_result_path1, ee)\n",
    "if not os.path.exists(fit_result_path2):\n",
    "    os.makedirs(fit_result_path2)"
   ]
  },
  {
   "cell_type": "markdown",
   "id": "nonprofit-turner",
   "metadata": {},
   "source": [
    "## Load features"
   ]
  },
  {
   "cell_type": "code",
   "execution_count": 8,
   "id": "grateful-spread",
   "metadata": {},
   "outputs": [],
   "source": [
    "# np.savez(os.path.join(ten_sec_path, sound_deploy[dd]), feature_train=feature_train, label_train=label_train, feature_test=feature_test, label_test=label_test)\n",
    "feature_curr = np.load(os.path.join(ten_sec_path, 'STAR2000_48kHz_test_others_train_embedding.npz'))\n",
    "embedding_train = feature_curr['embedding_train']\n",
    "embedding_test = feature_curr['embedding_test']\n",
    "label_train = feature_curr['label_train']\n",
    "label_test = feature_curr['label_test']\n",
    "del feature_curr"
   ]
  },
  {
   "cell_type": "code",
   "execution_count": 15,
   "id": "descending-designation",
   "metadata": {},
   "outputs": [],
   "source": [
    "label_train_list = list(label_train)\n",
    "label_train = np.zeros(len(label_train_list))\n",
    "for ii in range(len(label_train_list)):\n",
    "    label_train[ii] = species_dict[label_train_list[ii]]"
   ]
  },
  {
   "cell_type": "code",
   "execution_count": 16,
   "id": "promising-collaboration",
   "metadata": {},
   "outputs": [],
   "source": [
    "label_test_list = list(label_test)\n",
    "label_test = np.zeros(len(label_test_list))\n",
    "for ii in range(len(label_test_list)):\n",
    "    label_test[ii] = species_dict[label_test_list[ii]]"
   ]
  },
  {
   "cell_type": "code",
   "execution_count": 20,
   "id": "seeing-globe",
   "metadata": {
    "scrolled": true
   },
   "outputs": [
    {
     "name": "stdout",
     "output_type": "stream",
     "text": [
      "Counter({'FKW': 10266, 'PLT': 7334, 'BD': 5976, 'STR': 5790, 'SPT': 5314, 'RT': 4081, 'SPIN': 2091, 'CD': 1725})\n",
      "Counter({'CD': 836, 'STR': 346, 'SPT': 176, 'SPIN': 108, 'BD': 41, 'RT': 22, 'PLT': 13})\n"
     ]
    }
   ],
   "source": [
    "from collections import Counter\n",
    "print(Counter(label_train_list))\n",
    "print(Counter(label_test_list))"
   ]
  },
  {
   "cell_type": "code",
   "execution_count": null,
   "id": "focal-effects",
   "metadata": {},
   "outputs": [],
   "source": [
    "Counter(label_test.tolist())"
   ]
  },
  {
   "cell_type": "code",
   "execution_count": 14,
   "id": "remarkable-jewelry",
   "metadata": {},
   "outputs": [
    {
     "name": "stdout",
     "output_type": "stream",
     "text": [
      "dim_time: 10\n",
      "dim_freq: 256\n"
     ]
    }
   ],
   "source": [
    "dim_time = embedding_train.shape[1]\n",
    "dim_freq = embedding_train.shape[2]\n",
    "print('dim_time: '+str(dim_time))\n",
    "print('dim_freq: '+str(dim_freq))"
   ]
  },
  {
   "cell_type": "code",
   "execution_count": 37,
   "id": "blessed-hardware",
   "metadata": {},
   "outputs": [],
   "source": [
    "## Model"
   ]
  },
  {
   "cell_type": "code",
   "execution_count": 38,
   "id": "commercial-relative",
   "metadata": {},
   "outputs": [],
   "source": [
    "# Kong's attention\n",
    "# def max_pooling(inputs, **kwargs):\n",
    "#     input = inputs[0]   # (batch_size, time_steps, freq_bins)\n",
    "#     return K.max(input, axis=1)\n",
    "def max_pooling(inputs, **kwargs):\n",
    "    # input = inputs[0]   # (batch_size, time_steps, freq_bins)\n",
    "    return K.max(inputs, axis=1)\n",
    "\n",
    "\n",
    "def average_pooling(inputs, **kwargs):\n",
    "    input = inputs[0]   # (batch_size, time_steps, freq_bins)\n",
    "    return K.mean(input, axis=1)\n",
    "\n",
    "\n",
    "def attention_pooling(inputs, **kwargs):\n",
    "    [out, att] = inputs\n",
    "\n",
    "    epsilon = 1e-7\n",
    "    att = K.clip(att, epsilon, 1. - epsilon)\n",
    "    normalized_att = att / K.sum(att, axis=1)[:, None, :]\n",
    "\n",
    "    return K.sum(out * normalized_att, axis=1)\n",
    "\n",
    "\n",
    "def pooling_shape(input_shape):\n",
    "\n",
    "    if isinstance(input_shape, list):\n",
    "        (sample_num, time_steps, freq_bins) = input_shape[0]\n",
    "\n",
    "    else:\n",
    "        (sample_num, time_steps, freq_bins) = input_shape\n",
    "\n",
    "    return (sample_num, freq_bins)"
   ]
  },
  {
   "cell_type": "code",
   "execution_count": 25,
   "id": "abroad-overhead",
   "metadata": {},
   "outputs": [],
   "source": [
    "# cnn14 attention with customized maxpooling\n",
    "def model_cnn0_attention_multi(time_steps, freq_bins, classes_num, model_type='feature_level_attention', hidden_units=512, \n",
    "                               drop_rate=0., multilabel=True):\n",
    "    # Kong's attention\n",
    "    # model_type = 'decision_level_max_pooling'  # problem with dimensions of the Lambda layer after training\n",
    "    # model_type = 'decision_level_average_pooling' # problem with dimensions of the Lambda layer after training\n",
    "    # model_type = 'decision_level_single_attention'\n",
    "    # model_type = 'decision_level_multi_attention'\n",
    "    # model_type = 'feature_level_attention'\n",
    "\n",
    "    input_layer = Input(shape=(time_steps, freq_bins), name='input')\n",
    "\n",
    "    a2 = Dense(hidden_units)(input_layer)\n",
    "    a2 = BatchNormalization()(a2)\n",
    "    a2 = Activation('relu')(a2)\n",
    "    a2 = Dropout(drop_rate)(a2)\n",
    "\n",
    "    a3 = Dense(hidden_units)(a2)\n",
    "    a3 = BatchNormalization()(a3)\n",
    "    a3 = Activation('relu')(a3)\n",
    "    a3 = Dropout(drop_rate)(a3)\n",
    "\n",
    "    # Pooling layers\n",
    "    if model_type == 'decision_level_max_pooling':\n",
    "        '''Global max pooling.\n",
    "\n",
    "        [1] Choi, Keunwoo, et al. \"Automatic tagging using deep convolutional \n",
    "        neural networks.\" arXiv preprint arXiv:1606.00298 (2016).\n",
    "        '''\n",
    "        cla = Dense(classes_num, activation='sigmoid')(a3)\n",
    "        \n",
    "        # output_layer = Lambda(\n",
    "        #    max_pooling, \n",
    "        #    output_shape=pooling_shape)(\n",
    "        #    [cla])\n",
    "        output_layer = Lambda(max_pooling)(cla)\n",
    "\n",
    "    elif model_type == 'decision_level_average_pooling':\n",
    "        '''Global average pooling.\n",
    "\n",
    "        [2] Lin, Min, et al. Qiang Chen, and Shuicheng Yan. \"Network in \n",
    "        network.\" arXiv preprint arXiv:1312.4400 (2013).\n",
    "        '''\n",
    "        cla = Dense(classes_num, activation='sigmoid')(a3)\n",
    "        # output_layer = Lambda(\n",
    "        #    average_pooling,\n",
    "        #    output_shape=pooling_shape)(\n",
    "        #    [cla])\n",
    "        output_layer = Lambda(average_pooling)(cla)\n",
    "\n",
    "    elif model_type == 'decision_level_single_attention':\n",
    "        '''Decision level single attention pooling.\n",
    "        [3] Kong, Qiuqiang, et al. \"Audio Set classification with attention\n",
    "        model: A probabilistic perspective.\" arXiv preprint arXiv:1711.00927\n",
    "        (2017).\n",
    "        '''\n",
    "        cla = Dense(classes_num, activation='sigmoid')(a3)\n",
    "        att = Dense(classes_num, activation='softmax')(a3)\n",
    "        output_layer = Lambda(\n",
    "            attention_pooling, output_shape=pooling_shape)([cla, att])\n",
    "\n",
    "    elif model_type == 'decision_level_multi_attention':\n",
    "        '''Decision level multi attention pooling.\n",
    "        [4] Yu, Changsong, et al. \"Multi-level Attention Model for Weakly\n",
    "        Supervised Audio Classification.\" arXiv preprint arXiv:1803.02353\n",
    "        (2018).\n",
    "        '''\n",
    "        cla1 = Dense(classes_num, activation='sigmoid')(a2)\n",
    "        att1 = Dense(classes_num, activation='softmax')(a2)\n",
    "        out1 = Lambda(\n",
    "            attention_pooling, output_shape=pooling_shape)([cla1, att1])\n",
    "\n",
    "        cla2 = Dense(classes_num, activation='sigmoid')(a3)\n",
    "        att2 = Dense(classes_num, activation='softmax')(a3)\n",
    "        out2 = Lambda(\n",
    "            attention_pooling, output_shape=pooling_shape)([cla2, att2])\n",
    "\n",
    "        b1 = Concatenate(axis=-1)([out1, out2])\n",
    "        b1 = Dense(classes_num)(b1)\n",
    "        \n",
    "        if multilabel:\n",
    "            output_layer = Activation('sigmoid')(b1)\n",
    "        else:\n",
    "            output_layer = Activation('softmax')(b1)\n",
    "\n",
    "    elif model_type == 'feature_level_attention':\n",
    "        '''Feature level attention.\n",
    "        [1] Kong, Qiuqiang, et al. \"Weakly labelled audioset tagging with \n",
    "        attention neural networks.\" (2019).\n",
    "        '''\n",
    "        cla = Dense(hidden_units, activation='linear')(a3)\n",
    "        att = Dense(hidden_units, activation='sigmoid')(a3)\n",
    "        b1 = Lambda(\n",
    "            attention_pooling, output_shape=pooling_shape)([cla, att])\n",
    "\n",
    "        b1 = BatchNormalization()(b1)\n",
    "        b1 = Activation(activation='relu')(b1)\n",
    "        b1 = Dropout(drop_rate)(b1)\n",
    "        \n",
    "        if multilabel:\n",
    "            output_layer = Dense(classes_num, activation='sigmoid')(b1)\n",
    "        else:\n",
    "            output_layer = Dense(classes_num, activation='softmax')(b1)\n",
    "\n",
    "    else:\n",
    "        raise Exception(\"Incorrect model_type!\")\n",
    "\n",
    "    # Build model\n",
    "    model = Model(inputs=input_layer, outputs=output_layer)\n",
    "    \n",
    "    return model"
   ]
  },
  {
   "cell_type": "code",
   "execution_count": 42,
   "id": "confidential-bandwidth",
   "metadata": {},
   "outputs": [],
   "source": [
    "# data generator\n",
    "class DataGenerator(tf.keras.utils.Sequence):\n",
    "    def __init__(self, feature, label, batch_size=32, num_classes=None, shuffle=True):\n",
    "        self.batch_size = batch_size\n",
    "        self.X = feature\n",
    "        self.X_dim = len(feature.shape)\n",
    "        self.y = to_categorical(label, num_classes)\n",
    "        self.indices = np.arange(self.y.shape[0])\n",
    "        self.num_classes = num_classes\n",
    "        self.shuffle = shuffle\n",
    "        \n",
    "        # self.index = np.arange(len(self.indices))\n",
    "        #self.df = dataframe\n",
    "        #self.indices = self.df.index.tolist()        \n",
    "        # self.x_col = x_col\n",
    "        # self.y_col = y_col\n",
    "        \n",
    "        self.on_epoch_end()\n",
    "\n",
    "    def __len__(self):\n",
    "        return int(floor(len(self.indices)/self.batch_size))\n",
    "        # return label.shape[0]\n",
    "\n",
    "    def __getitem__(self, index):\n",
    "        # index = self.index[index * self.batch_size:(index + 1) * self.batch_size]\n",
    "        # batch = [self.indices[k] for k in index]\n",
    "        batch = list(range(index*self.batch_size, (index+1)*self.batch_size))\n",
    "        \n",
    "        X, y = self.__get_data(batch)\n",
    "        return X, y\n",
    "\n",
    "    def on_epoch_end(self):\n",
    "        if self.shuffle == True:\n",
    "            np.random.shuffle(self.indices)\n",
    "\n",
    "    def __get_data(self, batch):\n",
    "        y = np.zeros((self.batch_size, self.y.shape[1]))\n",
    "        \n",
    "        if self.X_dim == 3:\n",
    "            X = np.zeros((self.batch_size, self.X.shape[1], self.X.shape[2]))\n",
    "            for i, id in enumerate(batch):\n",
    "                X[i,:, :] = self.X[id, :, :]  # logic\n",
    "                y[i, :] = self.y[id, :] # labels\n",
    "                \n",
    "        elif self.X_dim == 4:\n",
    "            X = np.zeros((self.batch_size, self.X.shape[1], self.X.shape[2], self.X.shape[3]))\n",
    "            for i, id in enumerate(batch):\n",
    "                X[i,:, :, :] = self.X[id, :, :, :]  # logic\n",
    "                y[i, :] = self.y[id, :] # labels\n",
    "\n",
    "        return X, y"
   ]
  },
  {
   "cell_type": "code",
   "execution_count": null,
   "id": "banner-south",
   "metadata": {},
   "outputs": [],
   "source": []
  },
  {
   "cell_type": "code",
   "execution_count": 29,
   "id": "therapeutic-representative",
   "metadata": {},
   "outputs": [],
   "source": [
    "from sklearn.model_selection import train_test_split\n",
    "from sklearn.utils import shuffle\n",
    "from sklearn.utils.class_weight import compute_class_weight\n",
    "\n",
    "# shuffle features & labels\n",
    "embedding_train, label_train = shuffle(embedding_train, label_train, random_state=0)\n",
    "embedding_test, label_test = shuffle(embedding_test, label_test, random_state=0)"
   ]
  },
  {
   "cell_type": "code",
   "execution_count": 32,
   "id": "relative-liberty",
   "metadata": {},
   "outputs": [],
   "source": [
    "# class weight\n",
    "weights = compute_class_weight(class_weight='balanced', classes=np.unique(label_train), y=label_train)\n",
    "\n",
    "class_weights = dict()\n",
    "for ii in range(num_species):\n",
    "    class_weights[ii] = weights[ii]"
   ]
  },
  {
   "cell_type": "raw",
   "id": "chemical-laugh",
   "metadata": {},
   "source": [
    "# fea_train = np.expand_dims(fea_train, axis=3)\n",
    "# fea_test = np.expand_dims(fea_test, axis=3)"
   ]
  },
  {
   "cell_type": "code",
   "execution_count": 44,
   "id": "focused-shuttle",
   "metadata": {},
   "outputs": [],
   "source": [
    "embedding_train, embedding_validate, label_train, label_validate = train_test_split(embedding_train, label_train, test_size=0.10, random_state=42+4)\n",
    "\n",
    "train_generator = DataGenerator(embedding_train, label_train, batch_size=batch_size, num_classes=num_species)\n",
    "del embedding_train\n",
    "validate_generator = DataGenerator(embedding_validate, label_validate, batch_size=batch_size, num_classes=num_species)\n",
    "del embedding_validate\n",
    "\n",
    "# test_generator = DataGenerator(fea_test, label_test, batch_size=batch_size, num_classes=num_species)\n"
   ]
  },
  {
   "cell_type": "code",
   "execution_count": 64,
   "id": "touched-orange",
   "metadata": {
    "scrolled": true
   },
   "outputs": [
    {
     "name": "stdout",
     "output_type": "stream",
     "text": [
      "Model: \"model_2\"\n",
      "__________________________________________________________________________________________________\n",
      "Layer (type)                    Output Shape         Param #     Connected to                     \n",
      "==================================================================================================\n",
      "input (InputLayer)              [(None, 10, 256)]    0                                            \n",
      "__________________________________________________________________________________________________\n",
      "dense_15 (Dense)                (None, 10, 256)      65792       input[0][0]                      \n",
      "__________________________________________________________________________________________________\n",
      "batch_normalization_6 (BatchNor (None, 10, 256)      1024        dense_15[0][0]                   \n",
      "__________________________________________________________________________________________________\n",
      "activation_7 (Activation)       (None, 10, 256)      0           batch_normalization_6[0][0]      \n",
      "__________________________________________________________________________________________________\n",
      "dropout_6 (Dropout)             (None, 10, 256)      0           activation_7[0][0]               \n",
      "__________________________________________________________________________________________________\n",
      "dense_16 (Dense)                (None, 10, 256)      65792       dropout_6[0][0]                  \n",
      "__________________________________________________________________________________________________\n",
      "batch_normalization_7 (BatchNor (None, 10, 256)      1024        dense_16[0][0]                   \n",
      "__________________________________________________________________________________________________\n",
      "activation_8 (Activation)       (None, 10, 256)      0           batch_normalization_7[0][0]      \n",
      "__________________________________________________________________________________________________\n",
      "dropout_7 (Dropout)             (None, 10, 256)      0           activation_8[0][0]               \n",
      "__________________________________________________________________________________________________\n",
      "dense_17 (Dense)                (None, 10, 8)        2056        dropout_6[0][0]                  \n",
      "__________________________________________________________________________________________________\n",
      "dense_18 (Dense)                (None, 10, 8)        2056        dropout_6[0][0]                  \n",
      "__________________________________________________________________________________________________\n",
      "dense_19 (Dense)                (None, 10, 8)        2056        dropout_7[0][0]                  \n",
      "__________________________________________________________________________________________________\n",
      "dense_20 (Dense)                (None, 10, 8)        2056        dropout_7[0][0]                  \n",
      "__________________________________________________________________________________________________\n",
      "lambda_3 (Lambda)               (None, 8)            0           dense_17[0][0]                   \n",
      "                                                                 dense_18[0][0]                   \n",
      "__________________________________________________________________________________________________\n",
      "lambda_4 (Lambda)               (None, 8)            0           dense_19[0][0]                   \n",
      "                                                                 dense_20[0][0]                   \n",
      "__________________________________________________________________________________________________\n",
      "concatenate_1 (Concatenate)     (None, 16)           0           lambda_3[0][0]                   \n",
      "                                                                 lambda_4[0][0]                   \n",
      "__________________________________________________________________________________________________\n",
      "dense_21 (Dense)                (None, 8)            136         concatenate_1[0][0]              \n",
      "__________________________________________________________________________________________________\n",
      "activation_9 (Activation)       (None, 8)            0           dense_21[0][0]                   \n",
      "==================================================================================================\n",
      "Total params: 141,992\n",
      "Trainable params: 140,968\n",
      "Non-trainable params: 1,024\n",
      "__________________________________________________________________________________________________\n"
     ]
    }
   ],
   "source": [
    "model = model_cnn0_attention_multi(dim_time, dim_freq, num_species, model_type='decision_level_multi_attention',hidden_units=hidden_units, drop_rate=drop_rate)\n",
    "model.summary()"
   ]
  },
  {
   "cell_type": "code",
   "execution_count": 65,
   "id": "apart-irrigation",
   "metadata": {},
   "outputs": [],
   "source": [
    "loss = binary_crossentropy\n",
    "# model.compile(optimizer=tf.keras.optimizers.Adam(learning_rate=learning_rate_fn), loss=loss, metrics=['accuracy'])\n",
    "model.compile(optimizer=tf.keras.optimizers.Adam(learning_rate=learning_rate), loss=loss, metrics=['accuracy'])"
   ]
  },
  {
   "cell_type": "code",
   "execution_count": 66,
   "id": "random-casino",
   "metadata": {
    "scrolled": true
   },
   "outputs": [
    {
     "name": "stdout",
     "output_type": "stream",
     "text": [
      "Epoch 1/200\n",
      "2154/2155 [============================>.] - ETA: 0s - loss: 0.1563 - accuracy: 0.9001\n",
      "Epoch 00001: val_accuracy improved from -inf to 0.94770, saving model to /home/ys587/__Data/__whistle/__whislte_30_species/__fit_result_species/20210325_113130/STAR2000/epoch_01_valloss_0.0676_valacc_0.9477.hdf5\n",
      "2155/2155 [==============================] - 18s 8ms/step - loss: 0.1563 - accuracy: 0.9001 - val_loss: 0.0676 - val_accuracy: 0.9477\n",
      "Epoch 2/200\n",
      "2150/2155 [============================>.] - ETA: 0s - loss: 0.0562 - accuracy: 0.9487\n",
      "Epoch 00002: val_accuracy improved from 0.94770 to 0.96731, saving model to /home/ys587/__Data/__whistle/__whislte_30_species/__fit_result_species/20210325_113130/STAR2000/epoch_02_valloss_0.0339_valacc_0.9673.hdf5\n",
      "2155/2155 [==============================] - 18s 8ms/step - loss: 0.0562 - accuracy: 0.9488 - val_loss: 0.0339 - val_accuracy: 0.9673\n",
      "Epoch 3/200\n",
      "2150/2155 [============================>.] - ETA: 0s - loss: 0.0340 - accuracy: 0.9640\n",
      "Epoch 00003: val_accuracy improved from 0.96731 to 0.97594, saving model to /home/ys587/__Data/__whistle/__whislte_30_species/__fit_result_species/20210325_113130/STAR2000/epoch_03_valloss_0.0220_valacc_0.9759.hdf5\n",
      "2155/2155 [==============================] - 18s 8ms/step - loss: 0.0340 - accuracy: 0.9640 - val_loss: 0.0220 - val_accuracy: 0.9759\n",
      "Epoch 4/200\n",
      "2154/2155 [============================>.] - ETA: 0s - loss: 0.0242 - accuracy: 0.9732\n",
      "Epoch 00004: val_accuracy improved from 0.97594 to 0.98248, saving model to /home/ys587/__Data/__whistle/__whislte_30_species/__fit_result_species/20210325_113130/STAR2000/epoch_04_valloss_0.0166_valacc_0.9825.hdf5\n",
      "2155/2155 [==============================] - 18s 8ms/step - loss: 0.0242 - accuracy: 0.9732 - val_loss: 0.0166 - val_accuracy: 0.9825\n",
      "Epoch 5/200\n",
      "2154/2155 [============================>.] - ETA: 0s - loss: 0.0182 - accuracy: 0.9804\n",
      "Epoch 00005: val_accuracy improved from 0.98248 to 0.98509, saving model to /home/ys587/__Data/__whistle/__whislte_30_species/__fit_result_species/20210325_113130/STAR2000/epoch_05_valloss_0.0128_valacc_0.9851.hdf5\n",
      "2155/2155 [==============================] - 18s 8ms/step - loss: 0.0182 - accuracy: 0.9804 - val_loss: 0.0128 - val_accuracy: 0.9851\n",
      "Epoch 6/200\n",
      "2155/2155 [==============================] - ETA: 0s - loss: 0.0146 - accuracy: 0.9836\n",
      "Epoch 00006: val_accuracy improved from 0.98509 to 0.99032, saving model to /home/ys587/__Data/__whistle/__whislte_30_species/__fit_result_species/20210325_113130/STAR2000/epoch_06_valloss_0.0097_valacc_0.9903.hdf5\n",
      "2155/2155 [==============================] - 18s 8ms/step - loss: 0.0146 - accuracy: 0.9836 - val_loss: 0.0097 - val_accuracy: 0.9903\n",
      "Epoch 7/200\n",
      "2153/2155 [============================>.] - ETA: 0s - loss: 0.0120 - accuracy: 0.9877\n",
      "Epoch 00007: val_accuracy improved from 0.99032 to 0.99059, saving model to /home/ys587/__Data/__whistle/__whislte_30_species/__fit_result_species/20210325_113130/STAR2000/epoch_07_valloss_0.0084_valacc_0.9906.hdf5\n",
      "2155/2155 [==============================] - 18s 8ms/step - loss: 0.0120 - accuracy: 0.9877 - val_loss: 0.0084 - val_accuracy: 0.9906\n",
      "Epoch 8/200\n",
      "2154/2155 [============================>.] - ETA: 0s - loss: 0.0099 - accuracy: 0.9895\n",
      "Epoch 00008: val_accuracy improved from 0.99059 to 0.99268, saving model to /home/ys587/__Data/__whistle/__whislte_30_species/__fit_result_species/20210325_113130/STAR2000/epoch_08_valloss_0.0077_valacc_0.9927.hdf5\n",
      "2155/2155 [==============================] - 18s 8ms/step - loss: 0.0099 - accuracy: 0.9895 - val_loss: 0.0077 - val_accuracy: 0.9927\n",
      "Epoch 9/200\n",
      "2151/2155 [============================>.] - ETA: 0s - loss: 0.0077 - accuracy: 0.9924\n",
      "Epoch 00009: val_accuracy improved from 0.99268 to 0.99372, saving model to /home/ys587/__Data/__whistle/__whislte_30_species/__fit_result_species/20210325_113130/STAR2000/epoch_09_valloss_0.0062_valacc_0.9937.hdf5\n",
      "2155/2155 [==============================] - 18s 8ms/step - loss: 0.0077 - accuracy: 0.9923 - val_loss: 0.0062 - val_accuracy: 0.9937\n",
      "Epoch 10/200\n",
      "2151/2155 [============================>.] - ETA: 0s - loss: 0.0075 - accuracy: 0.9925\n",
      "Epoch 00010: val_accuracy did not improve from 0.99372\n",
      "2155/2155 [==============================] - 18s 8ms/step - loss: 0.0075 - accuracy: 0.9925 - val_loss: 0.0072 - val_accuracy: 0.9924\n",
      "Epoch 11/200\n",
      "2149/2155 [============================>.] - ETA: 0s - loss: 0.0071 - accuracy: 0.9928\n",
      "Epoch 00011: val_accuracy improved from 0.99372 to 0.99477, saving model to /home/ys587/__Data/__whistle/__whislte_30_species/__fit_result_species/20210325_113130/STAR2000/epoch_11_valloss_0.0048_valacc_0.9948.hdf5\n",
      "2155/2155 [==============================] - 18s 8ms/step - loss: 0.0071 - accuracy: 0.9928 - val_loss: 0.0048 - val_accuracy: 0.9948\n",
      "Epoch 12/200\n",
      "2150/2155 [============================>.] - ETA: 0s - loss: 0.0054 - accuracy: 0.9947\n",
      "Epoch 00012: val_accuracy improved from 0.99477 to 0.99608, saving model to /home/ys587/__Data/__whistle/__whislte_30_species/__fit_result_species/20210325_113130/STAR2000/epoch_12_valloss_0.0043_valacc_0.9961.hdf5\n",
      "2155/2155 [==============================] - 18s 8ms/step - loss: 0.0054 - accuracy: 0.9947 - val_loss: 0.0043 - val_accuracy: 0.9961\n",
      "Epoch 13/200\n",
      "2154/2155 [============================>.] - ETA: 0s - loss: 0.0052 - accuracy: 0.9948\n",
      "Epoch 00013: val_accuracy did not improve from 0.99608\n",
      "2155/2155 [==============================] - 18s 8ms/step - loss: 0.0052 - accuracy: 0.9948 - val_loss: 0.0045 - val_accuracy: 0.9942\n",
      "Epoch 14/200\n",
      "2149/2155 [============================>.] - ETA: 0s - loss: 0.0051 - accuracy: 0.9949\n",
      "Epoch 00014: val_accuracy did not improve from 0.99608\n",
      "2155/2155 [==============================] - 18s 8ms/step - loss: 0.0051 - accuracy: 0.9949 - val_loss: 0.0036 - val_accuracy: 0.9961\n",
      "Epoch 15/200\n",
      "2151/2155 [============================>.] - ETA: 0s - loss: 0.0047 - accuracy: 0.9955\n",
      "Epoch 00015: val_accuracy improved from 0.99608 to 0.99686, saving model to /home/ys587/__Data/__whistle/__whislte_30_species/__fit_result_species/20210325_113130/STAR2000/epoch_15_valloss_0.0044_valacc_0.9969.hdf5\n",
      "2155/2155 [==============================] - 18s 8ms/step - loss: 0.0047 - accuracy: 0.9955 - val_loss: 0.0044 - val_accuracy: 0.9969\n",
      "Epoch 16/200\n",
      "2150/2155 [============================>.] - ETA: 0s - loss: 0.0040 - accuracy: 0.9962\n",
      "Epoch 00016: val_accuracy did not improve from 0.99686\n",
      "2155/2155 [==============================] - 18s 8ms/step - loss: 0.0040 - accuracy: 0.9962 - val_loss: 0.0043 - val_accuracy: 0.9966\n",
      "Epoch 17/200\n",
      "2152/2155 [============================>.] - ETA: 0s - loss: 0.0039 - accuracy: 0.9963\n",
      "Epoch 00017: val_accuracy improved from 0.99686 to 0.99791, saving model to /home/ys587/__Data/__whistle/__whislte_30_species/__fit_result_species/20210325_113130/STAR2000/epoch_17_valloss_0.0029_valacc_0.9979.hdf5\n",
      "2155/2155 [==============================] - 18s 8ms/step - loss: 0.0039 - accuracy: 0.9963 - val_loss: 0.0029 - val_accuracy: 0.9979\n",
      "Epoch 18/200\n",
      "2153/2155 [============================>.] - ETA: 0s - loss: 0.0037 - accuracy: 0.9966\n",
      "Epoch 00018: val_accuracy did not improve from 0.99791\n",
      "2155/2155 [==============================] - 18s 8ms/step - loss: 0.0037 - accuracy: 0.9966 - val_loss: 0.0030 - val_accuracy: 0.9974\n",
      "Epoch 19/200\n",
      "2153/2155 [============================>.] - ETA: 0s - loss: 0.0034 - accuracy: 0.9971\n",
      "Epoch 00019: val_accuracy did not improve from 0.99791\n",
      "2155/2155 [==============================] - 18s 8ms/step - loss: 0.0034 - accuracy: 0.9971 - val_loss: 0.0037 - val_accuracy: 0.9963\n",
      "Epoch 20/200\n",
      "2149/2155 [============================>.] - ETA: 0s - loss: 0.0032 - accuracy: 0.9968\n",
      "Epoch 00020: val_accuracy did not improve from 0.99791\n",
      "2155/2155 [==============================] - 18s 8ms/step - loss: 0.0032 - accuracy: 0.9968 - val_loss: 0.0040 - val_accuracy: 0.9958\n",
      "Epoch 21/200\n",
      "2155/2155 [==============================] - ETA: 0s - loss: 0.0024 - accuracy: 0.9982\n",
      "Epoch 00021: val_accuracy did not improve from 0.99791\n",
      "2155/2155 [==============================] - 18s 8ms/step - loss: 0.0024 - accuracy: 0.9982 - val_loss: 0.0026 - val_accuracy: 0.9976\n",
      "Epoch 22/200\n",
      "2154/2155 [============================>.] - ETA: 0s - loss: 0.0028 - accuracy: 0.9974\n",
      "Epoch 00022: val_accuracy did not improve from 0.99791\n",
      "2155/2155 [==============================] - 18s 8ms/step - loss: 0.0028 - accuracy: 0.9974 - val_loss: 0.0022 - val_accuracy: 0.9976\n",
      "Epoch 23/200\n",
      "2155/2155 [==============================] - ETA: 0s - loss: 0.0033 - accuracy: 0.9972\n",
      "Epoch 00023: val_accuracy did not improve from 0.99791\n",
      "2155/2155 [==============================] - 18s 8ms/step - loss: 0.0033 - accuracy: 0.9972 - val_loss: 0.0025 - val_accuracy: 0.9976\n",
      "Epoch 24/200\n",
      "2155/2155 [==============================] - ETA: 0s - loss: 0.0020 - accuracy: 0.9984\n",
      "Epoch 00024: val_accuracy improved from 0.99791 to 0.99843, saving model to /home/ys587/__Data/__whistle/__whislte_30_species/__fit_result_species/20210325_113130/STAR2000/epoch_24_valloss_0.0024_valacc_0.9984.hdf5\n",
      "2155/2155 [==============================] - 18s 8ms/step - loss: 0.0020 - accuracy: 0.9984 - val_loss: 0.0024 - val_accuracy: 0.9984\n",
      "Epoch 25/200\n",
      "2150/2155 [============================>.] - ETA: 0s - loss: 0.0028 - accuracy: 0.9977\n",
      "Epoch 00025: val_accuracy did not improve from 0.99843\n",
      "2155/2155 [==============================] - 18s 8ms/step - loss: 0.0027 - accuracy: 0.9977 - val_loss: 0.0023 - val_accuracy: 0.9979\n",
      "Epoch 26/200\n",
      "2152/2155 [============================>.] - ETA: 0s - loss: 0.0025 - accuracy: 0.9975\n",
      "Epoch 00026: val_accuracy did not improve from 0.99843\n",
      "2155/2155 [==============================] - 18s 8ms/step - loss: 0.0025 - accuracy: 0.9975 - val_loss: 0.0030 - val_accuracy: 0.9974\n",
      "Epoch 27/200\n",
      "2150/2155 [============================>.] - ETA: 0s - loss: 0.0021 - accuracy: 0.9982\n",
      "Epoch 00027: val_accuracy did not improve from 0.99843\n",
      "2155/2155 [==============================] - 18s 8ms/step - loss: 0.0021 - accuracy: 0.9982 - val_loss: 0.0019 - val_accuracy: 0.9969\n",
      "Epoch 28/200\n",
      "2152/2155 [============================>.] - ETA: 0s - loss: 0.0024 - accuracy: 0.9977\n",
      "Epoch 00028: val_accuracy did not improve from 0.99843\n",
      "2155/2155 [==============================] - 18s 8ms/step - loss: 0.0024 - accuracy: 0.9977 - val_loss: 0.0019 - val_accuracy: 0.9982\n",
      "Epoch 29/200\n",
      "2150/2155 [============================>.] - ETA: 0s - loss: 0.0019 - accuracy: 0.9983\n",
      "Epoch 00029: val_accuracy improved from 0.99843 to 0.99869, saving model to /home/ys587/__Data/__whistle/__whislte_30_species/__fit_result_species/20210325_113130/STAR2000/epoch_29_valloss_0.0018_valacc_0.9987.hdf5\n",
      "2155/2155 [==============================] - 18s 8ms/step - loss: 0.0019 - accuracy: 0.9983 - val_loss: 0.0018 - val_accuracy: 0.9987\n",
      "Epoch 30/200\n",
      "2152/2155 [============================>.] - ETA: 0s - loss: 0.0018 - accuracy: 0.9983\n",
      "Epoch 00030: val_accuracy did not improve from 0.99869\n",
      "2155/2155 [==============================] - 18s 8ms/step - loss: 0.0018 - accuracy: 0.9983 - val_loss: 0.0016 - val_accuracy: 0.9976\n",
      "Epoch 31/200\n",
      "2154/2155 [============================>.] - ETA: 0s - loss: 0.0024 - accuracy: 0.9975\n",
      "Epoch 00031: val_accuracy did not improve from 0.99869\n",
      "2155/2155 [==============================] - 18s 8ms/step - loss: 0.0024 - accuracy: 0.9975 - val_loss: 0.0019 - val_accuracy: 0.9976\n",
      "Epoch 32/200\n",
      "2150/2155 [============================>.] - ETA: 0s - loss: 0.0018 - accuracy: 0.9984\n",
      "Epoch 00032: val_accuracy did not improve from 0.99869\n",
      "2155/2155 [==============================] - 18s 8ms/step - loss: 0.0018 - accuracy: 0.9984 - val_loss: 0.0026 - val_accuracy: 0.9982\n",
      "Epoch 33/200\n",
      "2150/2155 [============================>.] - ETA: 0s - loss: 0.0017 - accuracy: 0.9985\n",
      "Epoch 00033: val_accuracy did not improve from 0.99869\n",
      "2155/2155 [==============================] - 18s 8ms/step - loss: 0.0017 - accuracy: 0.9985 - val_loss: 0.0028 - val_accuracy: 0.9961\n",
      "Epoch 34/200\n",
      "2154/2155 [============================>.] - ETA: 0s - loss: 0.0018 - accuracy: 0.9985\n",
      "Epoch 00034: val_accuracy did not improve from 0.99869\n",
      "2155/2155 [==============================] - 18s 8ms/step - loss: 0.0018 - accuracy: 0.9985 - val_loss: 0.0028 - val_accuracy: 0.9971\n",
      "Epoch 35/200\n",
      "2154/2155 [============================>.] - ETA: 0s - loss: 0.0016 - accuracy: 0.9988\n",
      "Epoch 00035: val_accuracy did not improve from 0.99869\n",
      "2155/2155 [==============================] - 18s 8ms/step - loss: 0.0016 - accuracy: 0.9988 - val_loss: 0.0016 - val_accuracy: 0.9984\n",
      "Epoch 36/200\n",
      "2155/2155 [==============================] - ETA: 0s - loss: 0.0014 - accuracy: 0.9987\n",
      "Epoch 00036: val_accuracy did not improve from 0.99869\n",
      "2155/2155 [==============================] - 18s 8ms/step - loss: 0.0014 - accuracy: 0.9987 - val_loss: 0.0022 - val_accuracy: 0.9982\n",
      "Epoch 37/200\n",
      "2155/2155 [==============================] - ETA: 0s - loss: 0.0013 - accuracy: 0.9989\n",
      "Epoch 00037: val_accuracy did not improve from 0.99869\n",
      "2155/2155 [==============================] - 18s 8ms/step - loss: 0.0013 - accuracy: 0.9989 - val_loss: 0.0021 - val_accuracy: 0.9984\n",
      "Epoch 38/200\n",
      "2154/2155 [============================>.] - ETA: 0s - loss: 0.0017 - accuracy: 0.9985\n",
      "Epoch 00038: val_accuracy did not improve from 0.99869\n",
      "2155/2155 [==============================] - 18s 8ms/step - loss: 0.0017 - accuracy: 0.9985 - val_loss: 0.0026 - val_accuracy: 0.9969\n",
      "Epoch 39/200\n",
      "1687/2155 [======================>.......] - ETA: 3s - loss: 0.0012 - accuracy: 0.9990"
     ]
    },
    {
     "ename": "KeyboardInterrupt",
     "evalue": "",
     "output_type": "error",
     "traceback": [
      "\u001b[0;31m---------------------------------------------------------------------------\u001b[0m",
      "\u001b[0;31mKeyboardInterrupt\u001b[0m                         Traceback (most recent call last)",
      "\u001b[0;32m<ipython-input-66-ae22f496737f>\u001b[0m in \u001b[0;36m<module>\u001b[0;34m\u001b[0m\n\u001b[0;32m----> 1\u001b[0;31m \u001b[0mhistory\u001b[0m \u001b[0;34m=\u001b[0m \u001b[0mmodel\u001b[0m\u001b[0;34m.\u001b[0m\u001b[0mfit\u001b[0m\u001b[0;34m(\u001b[0m\u001b[0mtrain_generator\u001b[0m\u001b[0;34m,\u001b[0m \u001b[0mvalidation_data\u001b[0m\u001b[0;34m=\u001b[0m\u001b[0mvalidate_generator\u001b[0m\u001b[0;34m,\u001b[0m \u001b[0mclass_weight\u001b[0m\u001b[0;34m=\u001b[0m\u001b[0mclass_weights\u001b[0m\u001b[0;34m,\u001b[0m \u001b[0mepochs\u001b[0m\u001b[0;34m=\u001b[0m\u001b[0mnum_epoch\u001b[0m\u001b[0;34m,\u001b[0m \u001b[0mcallbacks\u001b[0m\u001b[0;34m=\u001b[0m\u001b[0;34m[\u001b[0m\u001b[0mEarlyStopping\u001b[0m\u001b[0;34m(\u001b[0m\u001b[0mpatience\u001b[0m\u001b[0;34m=\u001b[0m\u001b[0mnum_patience\u001b[0m\u001b[0;34m,\u001b[0m \u001b[0mmonitor\u001b[0m\u001b[0;34m=\u001b[0m\u001b[0;34m'val_accuracy'\u001b[0m\u001b[0;34m,\u001b[0m \u001b[0mmode\u001b[0m\u001b[0;34m=\u001b[0m\u001b[0;34m'max'\u001b[0m\u001b[0;34m,\u001b[0m \u001b[0mverbose\u001b[0m\u001b[0;34m=\u001b[0m\u001b[0;36m1\u001b[0m\u001b[0;34m)\u001b[0m\u001b[0;34m,\u001b[0m \u001b[0mTensorBoard\u001b[0m\u001b[0;34m(\u001b[0m\u001b[0mlog_dir\u001b[0m\u001b[0;34m=\u001b[0m\u001b[0mfit_result_path2\u001b[0m\u001b[0;34m)\u001b[0m\u001b[0;34m,\u001b[0m \u001b[0mModelCheckpoint\u001b[0m\u001b[0;34m(\u001b[0m\u001b[0mfilepath\u001b[0m\u001b[0;34m=\u001b[0m\u001b[0mos\u001b[0m\u001b[0;34m.\u001b[0m\u001b[0mpath\u001b[0m\u001b[0;34m.\u001b[0m\u001b[0mjoin\u001b[0m\u001b[0;34m(\u001b[0m\u001b[0mfit_result_path2\u001b[0m\u001b[0;34m,\u001b[0m \u001b[0;34m'epoch_{epoch:02d}_valloss_{val_loss:.4f}_valacc_{val_accuracy:.4f}.hdf5'\u001b[0m \u001b[0;34m)\u001b[0m\u001b[0;34m,\u001b[0m \u001b[0mverbose\u001b[0m\u001b[0;34m=\u001b[0m\u001b[0;36m1\u001b[0m\u001b[0;34m,\u001b[0m \u001b[0mmonitor\u001b[0m\u001b[0;34m=\u001b[0m\u001b[0;34m\"val_accuracy\"\u001b[0m\u001b[0;34m,\u001b[0m \u001b[0msave_best_only\u001b[0m\u001b[0;34m=\u001b[0m\u001b[0;32mTrue\u001b[0m\u001b[0;34m)\u001b[0m\u001b[0;34m]\u001b[0m\u001b[0;34m)\u001b[0m\u001b[0;34m\u001b[0m\u001b[0;34m\u001b[0m\u001b[0m\n\u001b[0m",
      "\u001b[0;32m~/miniconda3/envs/whistle_classifier/lib/python3.8/site-packages/tensorflow/python/keras/engine/training.py\u001b[0m in \u001b[0;36m_method_wrapper\u001b[0;34m(self, *args, **kwargs)\u001b[0m\n\u001b[1;32m     64\u001b[0m   \u001b[0;32mdef\u001b[0m \u001b[0m_method_wrapper\u001b[0m\u001b[0;34m(\u001b[0m\u001b[0mself\u001b[0m\u001b[0;34m,\u001b[0m \u001b[0;34m*\u001b[0m\u001b[0margs\u001b[0m\u001b[0;34m,\u001b[0m \u001b[0;34m**\u001b[0m\u001b[0mkwargs\u001b[0m\u001b[0;34m)\u001b[0m\u001b[0;34m:\u001b[0m\u001b[0;34m\u001b[0m\u001b[0;34m\u001b[0m\u001b[0m\n\u001b[1;32m     65\u001b[0m     \u001b[0;32mif\u001b[0m \u001b[0;32mnot\u001b[0m \u001b[0mself\u001b[0m\u001b[0;34m.\u001b[0m\u001b[0m_in_multi_worker_mode\u001b[0m\u001b[0;34m(\u001b[0m\u001b[0;34m)\u001b[0m\u001b[0;34m:\u001b[0m  \u001b[0;31m# pylint: disable=protected-access\u001b[0m\u001b[0;34m\u001b[0m\u001b[0;34m\u001b[0m\u001b[0m\n\u001b[0;32m---> 66\u001b[0;31m       \u001b[0;32mreturn\u001b[0m \u001b[0mmethod\u001b[0m\u001b[0;34m(\u001b[0m\u001b[0mself\u001b[0m\u001b[0;34m,\u001b[0m \u001b[0;34m*\u001b[0m\u001b[0margs\u001b[0m\u001b[0;34m,\u001b[0m \u001b[0;34m**\u001b[0m\u001b[0mkwargs\u001b[0m\u001b[0;34m)\u001b[0m\u001b[0;34m\u001b[0m\u001b[0;34m\u001b[0m\u001b[0m\n\u001b[0m\u001b[1;32m     67\u001b[0m \u001b[0;34m\u001b[0m\u001b[0m\n\u001b[1;32m     68\u001b[0m     \u001b[0;31m# Running inside `run_distribute_coordinator` already.\u001b[0m\u001b[0;34m\u001b[0m\u001b[0;34m\u001b[0m\u001b[0;34m\u001b[0m\u001b[0m\n",
      "\u001b[0;32m~/miniconda3/envs/whistle_classifier/lib/python3.8/site-packages/tensorflow/python/keras/engine/training.py\u001b[0m in \u001b[0;36mfit\u001b[0;34m(self, x, y, batch_size, epochs, verbose, callbacks, validation_split, validation_data, shuffle, class_weight, sample_weight, initial_epoch, steps_per_epoch, validation_steps, validation_batch_size, validation_freq, max_queue_size, workers, use_multiprocessing)\u001b[0m\n\u001b[1;32m    846\u001b[0m                 batch_size=batch_size):\n\u001b[1;32m    847\u001b[0m               \u001b[0mcallbacks\u001b[0m\u001b[0;34m.\u001b[0m\u001b[0mon_train_batch_begin\u001b[0m\u001b[0;34m(\u001b[0m\u001b[0mstep\u001b[0m\u001b[0;34m)\u001b[0m\u001b[0;34m\u001b[0m\u001b[0;34m\u001b[0m\u001b[0m\n\u001b[0;32m--> 848\u001b[0;31m               \u001b[0mtmp_logs\u001b[0m \u001b[0;34m=\u001b[0m \u001b[0mtrain_function\u001b[0m\u001b[0;34m(\u001b[0m\u001b[0miterator\u001b[0m\u001b[0;34m)\u001b[0m\u001b[0;34m\u001b[0m\u001b[0;34m\u001b[0m\u001b[0m\n\u001b[0m\u001b[1;32m    849\u001b[0m               \u001b[0;31m# Catch OutOfRangeError for Datasets of unknown size.\u001b[0m\u001b[0;34m\u001b[0m\u001b[0;34m\u001b[0m\u001b[0;34m\u001b[0m\u001b[0m\n\u001b[1;32m    850\u001b[0m               \u001b[0;31m# This blocks until the batch has finished executing.\u001b[0m\u001b[0;34m\u001b[0m\u001b[0;34m\u001b[0m\u001b[0;34m\u001b[0m\u001b[0m\n",
      "\u001b[0;32m~/miniconda3/envs/whistle_classifier/lib/python3.8/site-packages/tensorflow/python/eager/def_function.py\u001b[0m in \u001b[0;36m__call__\u001b[0;34m(self, *args, **kwds)\u001b[0m\n\u001b[1;32m    578\u001b[0m         \u001b[0mxla_context\u001b[0m\u001b[0;34m.\u001b[0m\u001b[0mExit\u001b[0m\u001b[0;34m(\u001b[0m\u001b[0;34m)\u001b[0m\u001b[0;34m\u001b[0m\u001b[0;34m\u001b[0m\u001b[0m\n\u001b[1;32m    579\u001b[0m     \u001b[0;32melse\u001b[0m\u001b[0;34m:\u001b[0m\u001b[0;34m\u001b[0m\u001b[0;34m\u001b[0m\u001b[0m\n\u001b[0;32m--> 580\u001b[0;31m       \u001b[0mresult\u001b[0m \u001b[0;34m=\u001b[0m \u001b[0mself\u001b[0m\u001b[0;34m.\u001b[0m\u001b[0m_call\u001b[0m\u001b[0;34m(\u001b[0m\u001b[0;34m*\u001b[0m\u001b[0margs\u001b[0m\u001b[0;34m,\u001b[0m \u001b[0;34m**\u001b[0m\u001b[0mkwds\u001b[0m\u001b[0;34m)\u001b[0m\u001b[0;34m\u001b[0m\u001b[0;34m\u001b[0m\u001b[0m\n\u001b[0m\u001b[1;32m    581\u001b[0m \u001b[0;34m\u001b[0m\u001b[0m\n\u001b[1;32m    582\u001b[0m     \u001b[0;32mif\u001b[0m \u001b[0mtracing_count\u001b[0m \u001b[0;34m==\u001b[0m \u001b[0mself\u001b[0m\u001b[0;34m.\u001b[0m\u001b[0m_get_tracing_count\u001b[0m\u001b[0;34m(\u001b[0m\u001b[0;34m)\u001b[0m\u001b[0;34m:\u001b[0m\u001b[0;34m\u001b[0m\u001b[0;34m\u001b[0m\u001b[0m\n",
      "\u001b[0;32m~/miniconda3/envs/whistle_classifier/lib/python3.8/site-packages/tensorflow/python/eager/def_function.py\u001b[0m in \u001b[0;36m_call\u001b[0;34m(self, *args, **kwds)\u001b[0m\n\u001b[1;32m    609\u001b[0m       \u001b[0;31m# In this case we have created variables on the first call, so we run the\u001b[0m\u001b[0;34m\u001b[0m\u001b[0;34m\u001b[0m\u001b[0;34m\u001b[0m\u001b[0m\n\u001b[1;32m    610\u001b[0m       \u001b[0;31m# defunned version which is guaranteed to never create variables.\u001b[0m\u001b[0;34m\u001b[0m\u001b[0;34m\u001b[0m\u001b[0;34m\u001b[0m\u001b[0m\n\u001b[0;32m--> 611\u001b[0;31m       \u001b[0;32mreturn\u001b[0m \u001b[0mself\u001b[0m\u001b[0;34m.\u001b[0m\u001b[0m_stateless_fn\u001b[0m\u001b[0;34m(\u001b[0m\u001b[0;34m*\u001b[0m\u001b[0margs\u001b[0m\u001b[0;34m,\u001b[0m \u001b[0;34m**\u001b[0m\u001b[0mkwds\u001b[0m\u001b[0;34m)\u001b[0m  \u001b[0;31m# pylint: disable=not-callable\u001b[0m\u001b[0;34m\u001b[0m\u001b[0;34m\u001b[0m\u001b[0m\n\u001b[0m\u001b[1;32m    612\u001b[0m     \u001b[0;32melif\u001b[0m \u001b[0mself\u001b[0m\u001b[0;34m.\u001b[0m\u001b[0m_stateful_fn\u001b[0m \u001b[0;32mis\u001b[0m \u001b[0;32mnot\u001b[0m \u001b[0;32mNone\u001b[0m\u001b[0;34m:\u001b[0m\u001b[0;34m\u001b[0m\u001b[0;34m\u001b[0m\u001b[0m\n\u001b[1;32m    613\u001b[0m       \u001b[0;31m# Release the lock early so that multiple threads can perform the call\u001b[0m\u001b[0;34m\u001b[0m\u001b[0;34m\u001b[0m\u001b[0;34m\u001b[0m\u001b[0m\n",
      "\u001b[0;32m~/miniconda3/envs/whistle_classifier/lib/python3.8/site-packages/tensorflow/python/eager/function.py\u001b[0m in \u001b[0;36m__call__\u001b[0;34m(self, *args, **kwargs)\u001b[0m\n\u001b[1;32m   2418\u001b[0m     \u001b[0;32mwith\u001b[0m \u001b[0mself\u001b[0m\u001b[0;34m.\u001b[0m\u001b[0m_lock\u001b[0m\u001b[0;34m:\u001b[0m\u001b[0;34m\u001b[0m\u001b[0;34m\u001b[0m\u001b[0m\n\u001b[1;32m   2419\u001b[0m       \u001b[0mgraph_function\u001b[0m\u001b[0;34m,\u001b[0m \u001b[0margs\u001b[0m\u001b[0;34m,\u001b[0m \u001b[0mkwargs\u001b[0m \u001b[0;34m=\u001b[0m \u001b[0mself\u001b[0m\u001b[0;34m.\u001b[0m\u001b[0m_maybe_define_function\u001b[0m\u001b[0;34m(\u001b[0m\u001b[0margs\u001b[0m\u001b[0;34m,\u001b[0m \u001b[0mkwargs\u001b[0m\u001b[0;34m)\u001b[0m\u001b[0;34m\u001b[0m\u001b[0;34m\u001b[0m\u001b[0m\n\u001b[0;32m-> 2420\u001b[0;31m     \u001b[0;32mreturn\u001b[0m \u001b[0mgraph_function\u001b[0m\u001b[0;34m.\u001b[0m\u001b[0m_filtered_call\u001b[0m\u001b[0;34m(\u001b[0m\u001b[0margs\u001b[0m\u001b[0;34m,\u001b[0m \u001b[0mkwargs\u001b[0m\u001b[0;34m)\u001b[0m  \u001b[0;31m# pylint: disable=protected-access\u001b[0m\u001b[0;34m\u001b[0m\u001b[0;34m\u001b[0m\u001b[0m\n\u001b[0m\u001b[1;32m   2421\u001b[0m \u001b[0;34m\u001b[0m\u001b[0m\n\u001b[1;32m   2422\u001b[0m   \u001b[0;34m@\u001b[0m\u001b[0mproperty\u001b[0m\u001b[0;34m\u001b[0m\u001b[0;34m\u001b[0m\u001b[0m\n",
      "\u001b[0;32m~/miniconda3/envs/whistle_classifier/lib/python3.8/site-packages/tensorflow/python/eager/function.py\u001b[0m in \u001b[0;36m_filtered_call\u001b[0;34m(self, args, kwargs)\u001b[0m\n\u001b[1;32m   1659\u001b[0m       \u001b[0;31m`\u001b[0m\u001b[0margs\u001b[0m\u001b[0;31m`\u001b[0m \u001b[0;32mand\u001b[0m\u001b[0;31m \u001b[0m\u001b[0;31m`\u001b[0m\u001b[0mkwargs\u001b[0m\u001b[0;31m`\u001b[0m\u001b[0;34m.\u001b[0m\u001b[0;34m\u001b[0m\u001b[0;34m\u001b[0m\u001b[0m\n\u001b[1;32m   1660\u001b[0m     \"\"\"\n\u001b[0;32m-> 1661\u001b[0;31m     return self._call_flat(\n\u001b[0m\u001b[1;32m   1662\u001b[0m         (t for t in nest.flatten((args, kwargs), expand_composites=True)\n\u001b[1;32m   1663\u001b[0m          if isinstance(t, (ops.Tensor,\n",
      "\u001b[0;32m~/miniconda3/envs/whistle_classifier/lib/python3.8/site-packages/tensorflow/python/eager/function.py\u001b[0m in \u001b[0;36m_call_flat\u001b[0;34m(self, args, captured_inputs, cancellation_manager)\u001b[0m\n\u001b[1;32m   1743\u001b[0m         and executing_eagerly):\n\u001b[1;32m   1744\u001b[0m       \u001b[0;31m# No tape is watching; skip to running the function.\u001b[0m\u001b[0;34m\u001b[0m\u001b[0;34m\u001b[0m\u001b[0;34m\u001b[0m\u001b[0m\n\u001b[0;32m-> 1745\u001b[0;31m       return self._build_call_outputs(self._inference_function.call(\n\u001b[0m\u001b[1;32m   1746\u001b[0m           ctx, args, cancellation_manager=cancellation_manager))\n\u001b[1;32m   1747\u001b[0m     forward_backward = self._select_forward_and_backward_functions(\n",
      "\u001b[0;32m~/miniconda3/envs/whistle_classifier/lib/python3.8/site-packages/tensorflow/python/eager/function.py\u001b[0m in \u001b[0;36mcall\u001b[0;34m(self, ctx, args, cancellation_manager)\u001b[0m\n\u001b[1;32m    591\u001b[0m       \u001b[0;32mwith\u001b[0m \u001b[0m_InterpolateFunctionError\u001b[0m\u001b[0;34m(\u001b[0m\u001b[0mself\u001b[0m\u001b[0;34m)\u001b[0m\u001b[0;34m:\u001b[0m\u001b[0;34m\u001b[0m\u001b[0;34m\u001b[0m\u001b[0m\n\u001b[1;32m    592\u001b[0m         \u001b[0;32mif\u001b[0m \u001b[0mcancellation_manager\u001b[0m \u001b[0;32mis\u001b[0m \u001b[0;32mNone\u001b[0m\u001b[0;34m:\u001b[0m\u001b[0;34m\u001b[0m\u001b[0;34m\u001b[0m\u001b[0m\n\u001b[0;32m--> 593\u001b[0;31m           outputs = execute.execute(\n\u001b[0m\u001b[1;32m    594\u001b[0m               \u001b[0mstr\u001b[0m\u001b[0;34m(\u001b[0m\u001b[0mself\u001b[0m\u001b[0;34m.\u001b[0m\u001b[0msignature\u001b[0m\u001b[0;34m.\u001b[0m\u001b[0mname\u001b[0m\u001b[0;34m)\u001b[0m\u001b[0;34m,\u001b[0m\u001b[0;34m\u001b[0m\u001b[0;34m\u001b[0m\u001b[0m\n\u001b[1;32m    595\u001b[0m               \u001b[0mnum_outputs\u001b[0m\u001b[0;34m=\u001b[0m\u001b[0mself\u001b[0m\u001b[0;34m.\u001b[0m\u001b[0m_num_outputs\u001b[0m\u001b[0;34m,\u001b[0m\u001b[0;34m\u001b[0m\u001b[0;34m\u001b[0m\u001b[0m\n",
      "\u001b[0;32m~/miniconda3/envs/whistle_classifier/lib/python3.8/site-packages/tensorflow/python/eager/execute.py\u001b[0m in \u001b[0;36mquick_execute\u001b[0;34m(op_name, num_outputs, inputs, attrs, ctx, name)\u001b[0m\n\u001b[1;32m     57\u001b[0m   \u001b[0;32mtry\u001b[0m\u001b[0;34m:\u001b[0m\u001b[0;34m\u001b[0m\u001b[0;34m\u001b[0m\u001b[0m\n\u001b[1;32m     58\u001b[0m     \u001b[0mctx\u001b[0m\u001b[0;34m.\u001b[0m\u001b[0mensure_initialized\u001b[0m\u001b[0;34m(\u001b[0m\u001b[0;34m)\u001b[0m\u001b[0;34m\u001b[0m\u001b[0;34m\u001b[0m\u001b[0m\n\u001b[0;32m---> 59\u001b[0;31m     tensors = pywrap_tfe.TFE_Py_Execute(ctx._handle, device_name, op_name,\n\u001b[0m\u001b[1;32m     60\u001b[0m                                         inputs, attrs, num_outputs)\n\u001b[1;32m     61\u001b[0m   \u001b[0;32mexcept\u001b[0m \u001b[0mcore\u001b[0m\u001b[0;34m.\u001b[0m\u001b[0m_NotOkStatusException\u001b[0m \u001b[0;32mas\u001b[0m \u001b[0me\u001b[0m\u001b[0;34m:\u001b[0m\u001b[0;34m\u001b[0m\u001b[0;34m\u001b[0m\u001b[0m\n",
      "\u001b[0;31mKeyboardInterrupt\u001b[0m: "
     ]
    }
   ],
   "source": [
    "history = model.fit(train_generator, validation_data=validate_generator, class_weight=class_weights, epochs=num_epoch, callbacks=[EarlyStopping(patience=num_patience, monitor='val_accuracy', mode='max', verbose=1), TensorBoard(log_dir=fit_result_path2), ModelCheckpoint(filepath=os.path.join(fit_result_path2, 'epoch_{epoch:02d}_valloss_{val_loss:.4f}_valacc_{val_accuracy:.4f}.hdf5' ), verbose=1, monitor=\"val_accuracy\", save_best_only=True)])"
   ]
  },
  {
   "cell_type": "code",
   "execution_count": null,
   "id": "major-roberts",
   "metadata": {},
   "outputs": [],
   "source": []
  },
  {
   "cell_type": "code",
   "execution_count": 46,
   "id": "auburn-yesterday",
   "metadata": {},
   "outputs": [],
   "source": [
    "# def find_best_model(model_folder, remove_others=False):\n",
    "#     model_list = glob.glob(model_folder+'/*.hdf5')\n",
    "#     model_list.sort()\n",
    "#     the_best_model = model_list[-1]\n",
    "    \n",
    "#     if remove_others==True:\n",
    "#         for mm in model_list[:-1]:\n",
    "#             os.remove(mm)\n",
    "            \n",
    "#     print(the_best_model)\n",
    "    \n",
    "#     return the_best_model\n",
    "import re\n",
    "\n",
    "def find_best_model(classifier_path, fmt='epoch_\\d+_valloss_(\\d+.\\d{4})_valacc_(\\d+.\\d{4}).hdf5', is_max=True, purge=True):\n",
    "    \"\"\"\n",
    "    Return the path to the model with the best accuracy, given the path to\n",
    "    all the trained classifiers\n",
    "    Args:\n",
    "        classifier_path: path to all the trained classifiers\n",
    "        fmt: e.g. \"epoch_\\d+_[0-1].\\d+_(\\d+.\\d{4}).hdf5\"\n",
    "        'epoch_\\d+_valloss_(\\d+.\\d{4})_valacc_\\d+.\\d{4}.hdf5'\n",
    "        is_max: use max; otherwise, min\n",
    "        purge: True to purge models files except the best one\n",
    "    Return:\n",
    "        the path of the model with the best accuracy\n",
    "    \"\"\"\n",
    "    # list all files ending with .hdf5\n",
    "    day_list = sorted(glob.glob(os.path.join(classifier_path + '/', '*.hdf5')))\n",
    "\n",
    "    # re the last 4 digits for accuracy\n",
    "    hdf5_filename = []\n",
    "    hdf5_accu = np.zeros(len(day_list))\n",
    "    for dd in range(len(day_list)):\n",
    "        filename = os.path.basename(day_list[dd])\n",
    "        hdf5_filename.append(filename)\n",
    "        # m = re.search(\"_F1_(0.\\d{4}).hdf5\", filename)\n",
    "        # m = re.search(\"_([0-1].\\d{4}).hdf5\", filename)\n",
    "        # m = re.search(\"epoch_\\d+_[0-1].\\d+_(\\d+.\\d{4}).hdf5\", filename)\n",
    "        m = re.search(fmt, filename)\n",
    "        try:\n",
    "            #  hdf5_accu[dd] = float(m.groups()[0])\n",
    "            hdf5_accu[dd] = float(m.groups()[1])\n",
    "        except:\n",
    "            continue\n",
    "\n",
    "    # select the laregest one and write to the variable classifier_file\n",
    "    if len(hdf5_accu) == 0:\n",
    "        best_model_path = ''\n",
    "        best_accu = 0\n",
    "    else:\n",
    "        if is_max is True:\n",
    "            ind_max = np.argmax(hdf5_accu)\n",
    "        else: # use min instead\n",
    "            ind_max = np.argmin(hdf5_accu)\n",
    "        best_model_path = day_list[int(ind_max)]\n",
    "        best_accu = hdf5_accu[ind_max]\n",
    "        # purge all model files except the best_model\n",
    "        if purge:\n",
    "            for ff in day_list:\n",
    "                if ff != best_model_path:\n",
    "                    os.remove(ff)\n",
    "    print('Best model:'+str(best_accu))\n",
    "    print(best_model_path)\n",
    "    return best_model_path, best_accu\n"
   ]
  },
  {
   "cell_type": "code",
   "execution_count": 68,
   "id": "relative-geography",
   "metadata": {},
   "outputs": [
    {
     "name": "stdout",
     "output_type": "stream",
     "text": [
      "Best model:0.9987\n",
      "/home/ys587/__Data/__whistle/__whislte_30_species/__fit_result_species/20210325_113130/STAR2000/epoch_29_valloss_0.0018_valacc_0.9987.hdf5\n"
     ]
    }
   ],
   "source": [
    "# fit_result_path2 = '/home/ys587/__Data/__whistle/__whislte_30_species/__fit_result_species/20210310_095616/STAR2000'\n",
    "the_best_model, _ = find_best_model(fit_result_path2, purge=False)"
   ]
  },
  {
   "cell_type": "code",
   "execution_count": 69,
   "id": "loved-belle",
   "metadata": {
    "scrolled": true
   },
   "outputs": [
    {
     "name": "stdout",
     "output_type": "stream",
     "text": [
      "Model: \"model_2\"\n",
      "__________________________________________________________________________________________________\n",
      "Layer (type)                    Output Shape         Param #     Connected to                     \n",
      "==================================================================================================\n",
      "input (InputLayer)              [(None, 10, 256)]    0                                            \n",
      "__________________________________________________________________________________________________\n",
      "dense_15 (Dense)                (None, 10, 256)      65792       input[0][0]                      \n",
      "__________________________________________________________________________________________________\n",
      "batch_normalization_6 (BatchNor (None, 10, 256)      1024        dense_15[0][0]                   \n",
      "__________________________________________________________________________________________________\n",
      "activation_7 (Activation)       (None, 10, 256)      0           batch_normalization_6[0][0]      \n",
      "__________________________________________________________________________________________________\n",
      "dropout_6 (Dropout)             (None, 10, 256)      0           activation_7[0][0]               \n",
      "__________________________________________________________________________________________________\n",
      "dense_16 (Dense)                (None, 10, 256)      65792       dropout_6[0][0]                  \n",
      "__________________________________________________________________________________________________\n",
      "batch_normalization_7 (BatchNor (None, 10, 256)      1024        dense_16[0][0]                   \n",
      "__________________________________________________________________________________________________\n",
      "activation_8 (Activation)       (None, 10, 256)      0           batch_normalization_7[0][0]      \n",
      "__________________________________________________________________________________________________\n",
      "dropout_7 (Dropout)             (None, 10, 256)      0           activation_8[0][0]               \n",
      "__________________________________________________________________________________________________\n",
      "dense_17 (Dense)                (None, 10, 8)        2056        dropout_6[0][0]                  \n",
      "__________________________________________________________________________________________________\n",
      "dense_18 (Dense)                (None, 10, 8)        2056        dropout_6[0][0]                  \n",
      "__________________________________________________________________________________________________\n",
      "dense_19 (Dense)                (None, 10, 8)        2056        dropout_7[0][0]                  \n",
      "__________________________________________________________________________________________________\n",
      "dense_20 (Dense)                (None, 10, 8)        2056        dropout_7[0][0]                  \n",
      "__________________________________________________________________________________________________\n",
      "lambda_3 (Lambda)               (None, 8)            0           dense_17[0][0]                   \n",
      "                                                                 dense_18[0][0]                   \n",
      "__________________________________________________________________________________________________\n",
      "lambda_4 (Lambda)               (None, 8)            0           dense_19[0][0]                   \n",
      "                                                                 dense_20[0][0]                   \n",
      "__________________________________________________________________________________________________\n",
      "concatenate_1 (Concatenate)     (None, 16)           0           lambda_3[0][0]                   \n",
      "                                                                 lambda_4[0][0]                   \n",
      "__________________________________________________________________________________________________\n",
      "dense_21 (Dense)                (None, 8)            136         concatenate_1[0][0]              \n",
      "__________________________________________________________________________________________________\n",
      "activation_9 (Activation)       (None, 8)            0           dense_21[0][0]                   \n",
      "==================================================================================================\n",
      "Total params: 141,992\n",
      "Trainable params: 140,968\n",
      "Non-trainable params: 1,024\n",
      "__________________________________________________________________________________________________\n"
     ]
    }
   ],
   "source": [
    "model = load_model(the_best_model)\n",
    "model.summary()"
   ]
  },
  {
   "cell_type": "code",
   "execution_count": 70,
   "id": "final-tanzania",
   "metadata": {},
   "outputs": [],
   "source": [
    "# testing\n",
    "label_pred = model.predict(embedding_test)\n",
    "# label_pred = model.predict(test_generator)"
   ]
  },
  {
   "cell_type": "code",
   "execution_count": 71,
   "id": "authorized-gazette",
   "metadata": {},
   "outputs": [],
   "source": [
    "np.set_printoptions(linewidth=200, precision=2, suppress=True)"
   ]
  },
  {
   "cell_type": "code",
   "execution_count": 72,
   "id": "interim-calcium",
   "metadata": {},
   "outputs": [
    {
     "name": "stdout",
     "output_type": "stream",
     "text": [
      "Confusion matrix:\n",
      "['BD', 'CD', 'STR', 'SPT', 'SPIN', 'PLT', 'RT', 'FKW']\n",
      "\n",
      "[[ 11   7   3   8   0   4   5   3]\n",
      " [132 379  96 115   7 100   7   0]\n",
      " [ 72  37  88  89   8  41  10   1]\n",
      " [  9  12   3 138   1  11   2   0]\n",
      " [ 19   5   8  68   5   3   0   0]\n",
      " [  0   0   0   0   0  12   0   1]\n",
      " [  8   0   1   1   0   3   9   0]\n",
      " [  0   0   0   0   0   0   0   0]]\n",
      "\n",
      "[[0.27 0.17 0.07 0.2  0.   0.1  0.12 0.07]\n",
      " [0.16 0.45 0.11 0.14 0.01 0.12 0.01 0.  ]\n",
      " [0.21 0.11 0.25 0.26 0.02 0.12 0.03 0.  ]\n",
      " [0.05 0.07 0.02 0.78 0.01 0.06 0.01 0.  ]\n",
      " [0.18 0.05 0.07 0.63 0.05 0.03 0.   0.  ]\n",
      " [0.   0.   0.   0.   0.   0.92 0.   0.08]\n",
      " [0.36 0.   0.05 0.05 0.   0.14 0.41 0.  ]\n",
      " [0.   0.   0.   0.   0.   0.   0.   0.  ]]\n"
     ]
    }
   ],
   "source": [
    "print(\"Confusion matrix:\")\n",
    "cm = confusion_matrix(label_test, np.argmax(label_pred, axis=1), labels=species_id)\n",
    "\n",
    "print(species_list)\n",
    "print('')\n",
    "print(cm)\n",
    "print('')\n",
    "\n",
    "cm2 = cm*1.0\n",
    "for ii in range(cm.shape[0]):\n",
    "    cm_row = cm[ii, :]*1.0\n",
    "\n",
    "    cm_row_sum = cm_row.sum()\n",
    "    if cm_row_sum != 0:\n",
    "        cm2[ii, :] = cm_row / cm_row_sum\n",
    "    else:\n",
    "        cm2[ii, :] = np.zeros(cm.shape[1])\n",
    "\n",
    "print(cm2)"
   ]
  },
  {
   "cell_type": "code",
   "execution_count": 73,
   "id": "little-moderator",
   "metadata": {},
   "outputs": [],
   "source": [
    "from sklearn.metrics import plot_confusion_matrix\n",
    "from sklearn.metrics._plot.confusion_matrix import ConfusionMatrixDisplay\n",
    "disp = ConfusionMatrixDisplay(confusion_matrix=cm, display_labels=species_list)\n",
    "disp2 = ConfusionMatrixDisplay(confusion_matrix=cm2, display_labels=species_list)"
   ]
  },
  {
   "cell_type": "code",
   "execution_count": 74,
   "id": "scheduled-consent",
   "metadata": {},
   "outputs": [
    {
     "data": {
      "text/plain": [
       "<sklearn.metrics._plot.confusion_matrix.ConfusionMatrixDisplay at 0x7f2a6d402e50>"
      ]
     },
     "execution_count": 74,
     "metadata": {},
     "output_type": "execute_result"
    },
    {
     "data": {
      "image/png": "[encoded data removed]",
      "text/plain": [
       "<Figure size 1080x1080 with 2 Axes>"
      ]
     },
     "metadata": {
      "needs_background": "light"
     },
     "output_type": "display_data"
    }
   ],
   "source": [
    "fig, ax = plt.subplots(figsize=[15, 15])\n",
    "disp.plot(include_values=True,\n",
    "                     cmap='viridis', ax=ax, xticks_rotation='horizontal',\n",
    "                     values_format=None, colorbar=True)\n"
   ]
  },
  {
   "cell_type": "code",
   "execution_count": 75,
   "id": "reasonable-cambridge",
   "metadata": {},
   "outputs": [
    {
     "data": {
      "text/plain": [
       "<sklearn.metrics._plot.confusion_matrix.ConfusionMatrixDisplay at 0x7f2a6d4021c0>"
      ]
     },
     "execution_count": 75,
     "metadata": {},
     "output_type": "execute_result"
    },
    {
     "data": {
      "image/png": "[encoded data removed]",
      "text/plain": [
       "<Figure size 1080x1080 with 2 Axes>"
      ]
     },
     "metadata": {
      "needs_background": "light"
     },
     "output_type": "display_data"
    }
   ],
   "source": [
    "fig, ax = plt.subplots(figsize=[15, 15])\n",
    "disp2.plot(include_values=True,\n",
    "                     cmap='viridis', ax=ax, xticks_rotation='horizontal',\n",
    "                     values_format='.2f', colorbar=True)"
   ]
  },
  {
   "cell_type": "raw",
   "id": "legal-pioneer",
   "metadata": {},
   "source": [
    "from sklearn.metrics import classification_report\n",
    "# >>> target_names = ['class 0', 'class 1', 'class 2']\n",
    "print(classification_report(label_test, np.argmax(label_pred, axis=1), target_names=list(range(num_species))))"
   ]
  },
  {
   "cell_type": "markdown",
   "id": "obvious-original",
   "metadata": {},
   "source": [
    "## top k accuracy score"
   ]
  },
  {
   "cell_type": "code",
   "execution_count": 76,
   "id": "gothic-feeling",
   "metadata": {},
   "outputs": [],
   "source": [
    "from sklearn.metrics import top_k_accuracy_score"
   ]
  },
  {
   "cell_type": "code",
   "execution_count": 77,
   "id": "nonprofit-renaissance",
   "metadata": {},
   "outputs": [
    {
     "name": "stdout",
     "output_type": "stream",
     "text": [
      "k=1:  \n",
      "0.4163424124513619\n",
      "k=2:  \n",
      "0.579118028534371\n",
      "k=3:  \n",
      "0.7036316472114138\n",
      "k=4:  \n",
      "0.7898832684824902\n",
      "k=5:  \n",
      "0.8651102464332037\n",
      "k=6:  \n",
      "0.9280155642023347\n",
      "k=7:  \n",
      "0.9734111543450065\n",
      "k=8:  \n",
      "1.0\n"
     ]
    },
    {
     "name": "stderr",
     "output_type": "stream",
     "text": [
      "/home/ys587/miniconda3/envs/whistle_classifier/lib/python3.8/site-packages/sklearn/metrics/_ranking.py:1693: UndefinedMetricWarning: 'k' (8) greater than or equal to 'n_classes' (8) will result in a perfect score and is therefore meaningless.\n",
      "  warnings.warn(\n"
     ]
    }
   ],
   "source": [
    "top_k = []\n",
    "for kk in range(1, num_species+1):\n",
    "    print('k='+str(kk)+':  ')\n",
    "    this_acc = top_k_accuracy_score(label_test, label_pred, k=kk, labels=list(range(num_species)))\n",
    "    print(this_acc)\n",
    "    top_k.append(this_acc)"
   ]
  },
  {
   "cell_type": "code",
   "execution_count": 57,
   "id": "governing-anatomy",
   "metadata": {},
   "outputs": [
    {
     "data": {
      "image/png": "[encoded data removed]",
      "text/plain": [
       "<Figure size 432x288 with 1 Axes>"
      ]
     },
     "metadata": {
      "needs_background": "light"
     },
     "output_type": "display_data"
    }
   ],
   "source": [
    "# %matplotlib inline\n",
    "fig = plt.figure()\n",
    "ax = fig.subplots()\n",
    "ax.bar(list(range(1, num_species+1)), top_k)\n",
    "ax.grid(axis='y')"
   ]
  },
  {
   "cell_type": "code",
   "execution_count": null,
   "id": "intellectual-interest",
   "metadata": {},
   "outputs": [],
   "source": []
  }
 ],
 "metadata": {
  "kernelspec": {
   "display_name": "Python 3",
   "language": "python",
   "name": "python3"
  },
  "language_info": {
   "codemirror_mode": {
    "name": "ipython",
    "version": 3
   },
   "file_extension": ".py",
   "mimetype": "text/x-python",
   "name": "python",
   "nbconvert_exporter": "python",
   "pygments_lexer": "ipython3",
   "version": "3.8.6"
  }
 },
 "nbformat": 4,
 "nbformat_minor": 5
}
