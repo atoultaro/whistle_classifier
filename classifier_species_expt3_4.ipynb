{
 "cells": [
  {
   "cell_type": "markdown",
   "metadata": {},
   "source": [
    "# Training species classifier Expt 3: cross-validation of Oswald data\n",
    "# Feb 25, 2021\n",
    "## Spatial Pyramid Pooling (SPP): [1, 1], [1, 2], [1, 4], [1, 8]\n",
    "## The augemented noise is from the all five deployments.\n",
    "## Trained on PICEAS2005 & STAR2000 whereas tested on HICEAS2002, STAR2003 & STAR2006"
   ]
  },
  {
   "cell_type": "code",
   "execution_count": 1,
   "metadata": {},
   "outputs": [],
   "source": [
    "import numpy as np\n",
    "from itertools import permutations\n",
    "import random\n",
    "import os\n",
    "import glob\n",
    "import pickle\n",
    "import matplotlib.pyplot as plt\n",
    "import matplotlib.patheffects as PathEffects\n",
    "import pandas as pd\n",
    "from os import makedirs\n",
    "from datetime import datetime\n",
    "from collections import Counter\n",
    "\n",
    "from math import floor\n",
    "\n",
    "from sklearn.model_selection import train_test_split\n",
    "from sklearn.utils import shuffle\n",
    "from sklearn.utils.class_weight import compute_class_weight\n",
    "from sklearn.metrics import roc_curve\n",
    "from sklearn.neighbors import KNeighborsClassifier\n",
    "from sklearn.metrics import confusion_matrix, classification_report\n",
    "\n",
    "# from MulticoreTSNE import MulticoreTSNE as TSNE\n",
    "# from sklearn.manifold import TSNE\n",
    "import seaborn as sns\n",
    "\n",
    "from tensorflow.keras.utils import Sequence\n",
    "from tensorflow.keras.layers import Input, Dense, BatchNormalization, Dropout, Activation\n",
    "from tensorflow.keras.layers import Conv2D, Lambda, Flatten, MaxPooling2D, Concatenate, LSTM, Reshape, Lambda, ConvLSTM2D, GlobalAveragePooling2D, GlobalMaxPooling2D\n",
    "from tensorflow.keras.layers import Bidirectional, LSTM, GRU\n",
    "from tensorflow.keras.models import Model, Sequential\n",
    "from tensorflow.keras.regularizers import l2\n",
    "from tensorflow.keras import backend as K\n",
    "\n",
    "from tensorflow.keras.optimizers.schedules import ExponentialDecay, PiecewiseConstantDecay\n",
    "from tensorflow.keras.optimizers import SGD,Adam\n",
    "from tensorflow.keras.losses import binary_crossentropy, CategoricalCrossentropy\n",
    "from tensorflow.keras.callbacks import ModelCheckpoint, TensorBoard, EarlyStopping\n",
    "from tensorflow.keras.utils import to_categorical\n",
    "from tensorflow.keras.models import load_model\n",
    "import tensorflow_addons.layers.spatial_pyramid_pooling as spp\n",
    "# import tensorflow_datasets as tfds\n",
    "from tensorflow.math import l2_normalize\n",
    "\n",
    "import tensorflow as tf"
   ]
  },
  {
   "cell_type": "code",
   "execution_count": 2,
   "metadata": {},
   "outputs": [],
   "source": [
    "%matplotlib inline\n",
    "import warnings\n",
    "warnings.filterwarnings(\"ignore\", category=DeprecationWarning)"
   ]
  },
  {
   "cell_type": "code",
   "execution_count": 3,
   "metadata": {},
   "outputs": [],
   "source": [
    "# Hyper parameters\n",
    "learning_rate = 1.0e-3\n",
    "conv_dim = 16\n",
    "rnn_dim = 16\n",
    "pool_size = 2\n",
    "pool_stride = 2\n",
    "l2_regu = 0.000\n",
    "drop_rate = 0.2\n",
    "hidden_units = 256\n",
    "fcn_dim = 256\n",
    "\n",
    "# learning_rate = 1.e-4\n",
    "# conv_dim = 64\n",
    "# rnn_dim = 16\n",
    "# pool_size = 2\n",
    "# pool_stride = 2\n",
    "# l2_regu = 0.00\n",
    "# drop_rate = 0.2\n",
    "# # drop_rate = 0.5\n",
    "# hidden_units = 512\n",
    "# fcn_dim = 512\n",
    "\n",
    "num_epoch = 200\n",
    "# batch_size = 128\n",
    "# batch_size = 32  # for cnn14+attention\n",
    "batch_size = 16  # for cnn14+spp\n",
    "\n",
    "num_patience = 20"
   ]
  },
  {
   "cell_type": "code",
   "execution_count": 4,
   "metadata": {},
   "outputs": [],
   "source": [
    "# data_type_dict = {1: 'universal', 2: 'file', 3: 'encounter', 4: 'domain'}\n",
    "# data_type = 2\n",
    "\n",
    "work_path = '/home/ys587/__Data/__whistle/__whislte_30_species'\n",
    "fit_result_path =  os.path.join(work_path, '__fit_result_species')\n",
    "# feature_path = os.path.join(work_path, '__feature_species')\n",
    "feature_path = os.path.join(work_path, '__dataset/20210210')"
   ]
  },
  {
   "cell_type": "code",
   "execution_count": 5,
   "metadata": {},
   "outputs": [],
   "source": [
    "species_dict = {'BD': 0, 'CD': 1, 'STR': 2, 'SPT': 3, 'SPIN': 4, 'PLT': 5, 'RT': 6,  'FKW': 7}\n",
    "num_species = len(species_dict)\n",
    "# species_dict = {'BD': 0, 'MH': 1, 'CD': 2, 'STR': 3, 'SPT': 4, 'SPIN': 5, 'PLT': 6, 'RD': 7, 'RT': 8,\n",
    "#                 'WSD': 9, 'FKW': 10, 'BEL': 11, 'KW': 12, 'WBD': 13, 'DUSK': 14, 'FRA': 15, 'PKW': 16, 'LPLT': 17,\n",
    "#                 'CLY': 18, 'SPE': 19, 'ASP': 20}\n",
    "species_list = list(species_dict.keys())\n",
    "species_id = list(species_dict.values())"
   ]
  },
  {
   "cell_type": "markdown",
   "metadata": {},
   "source": [
    "## Combine features"
   ]
  },
  {
   "cell_type": "code",
   "execution_count": 6,
   "metadata": {},
   "outputs": [],
   "source": [
    "deployment = ['STAR2000', 'STAR2003', 'STAR2006', 'HICEAS2002', 'PICEAS2005']  # oswald_STAR2000_orig.npz, oswald_STAR2000_aug.npz\n",
    "# feature_path = '/home/ys587/__Data/__whistle/__whislte_30_species/__dataset/20210223_augment_all_three_noise_mixed'\n",
    "feature_path = '/home/ys587/__Data/__whistle/__whislte_30_species/__dataset/20210223_augment_all_three_noise_mixed_class_balanced_min_5'\n"
   ]
  },
  {
   "cell_type": "code",
   "execution_count": 7,
   "metadata": {
    "scrolled": true
   },
   "outputs": [],
   "source": [
    "if False:\n",
    "    for ee in deployment:\n",
    "        print(ee)\n",
    "        ee_others = [ee2 for ee2 in deployment if (ee2 != ee) ]\n",
    "        fea_train_files_tot = []\n",
    "        for ee2 in ee_others:\n",
    "            fea_train_files_tot.append('oswald_'+ee2+'_orig.npz')\n",
    "            fea_train_files_tot.append('oswald_'+ee2+'_aug.npz')\n",
    "\n",
    "        # Training data\n",
    "        fea_train_list = []\n",
    "        label_train_list = []\n",
    "        for ii in range(len(fea_train_files_tot)):\n",
    "            ff = fea_train_files_tot[ii]\n",
    "            print(ff)\n",
    "            fea_temp = np.load(os.path.join(feature_path, ff))\n",
    "            print(fea_temp.files)\n",
    "\n",
    "            if ii == 0:\n",
    "                fea_train = fea_temp['feas_orig']\n",
    "                label_train = fea_temp['labels_orig']\n",
    "                print(fea_train.shape)\n",
    "                print(label_train.shape)\n",
    "            elif ii % 2 == 0:  # even\n",
    "                fea_train = np.concatenate([fea_train, fea_temp['feas_orig']])\n",
    "                label_train = np.concatenate([label_train, fea_temp['labels_orig']])\n",
    "                print(fea_train.shape)\n",
    "                print(label_train.shape)\n",
    "            else:\n",
    "                fea_train = np.concatenate([fea_train, fea_temp['feas_aug']])\n",
    "                label_train = np.concatenate([label_train, fea_temp['labels_aug']])\n",
    "                print(fea_train.shape)\n",
    "                print(label_train.shape)\n",
    "        print(fea_train.shape)\n",
    "        print(label_train.shape)\n",
    "        np.savez(os.path.join(feature_path, './train_oswald_no_'+ee+'.npz'), fea_train=fea_train, label_train=label_train)\n",
    "        print('')"
   ]
  },
  {
   "cell_type": "code",
   "execution_count": 8,
   "metadata": {},
   "outputs": [],
   "source": [
    "# data generator\n",
    "class DataGenerator(tf.keras.utils.Sequence):\n",
    "    def __init__(self, feature, label, batch_size=32, num_classes=None, shuffle=True):\n",
    "        self.batch_size = batch_size\n",
    "        self.X = feature\n",
    "        self.X_dim = len(feature.shape)\n",
    "        self.y = to_categorical(label, num_classes)\n",
    "        self.indices = np.arange(self.y.shape[0])\n",
    "        self.num_classes = num_classes\n",
    "        self.shuffle = shuffle\n",
    "        \n",
    "        # self.index = np.arange(len(self.indices))\n",
    "        #self.df = dataframe\n",
    "        #self.indices = self.df.index.tolist()        \n",
    "        # self.x_col = x_col\n",
    "        # self.y_col = y_col\n",
    "        \n",
    "        self.on_epoch_end()\n",
    "\n",
    "    def __len__(self):\n",
    "        return int(floor(len(self.indices)/self.batch_size))\n",
    "        # return label.shape[0]\n",
    "\n",
    "    def __getitem__(self, index):\n",
    "        # index = self.index[index * self.batch_size:(index + 1) * self.batch_size]\n",
    "        # batch = [self.indices[k] for k in index]\n",
    "        batch = list(range(index*self.batch_size, (index+1)*self.batch_size))\n",
    "        \n",
    "        X, y = self.__get_data(batch)\n",
    "        return X, y\n",
    "\n",
    "    def on_epoch_end(self):\n",
    "        if self.shuffle == True:\n",
    "            np.random.shuffle(self.indices)\n",
    "\n",
    "    def __get_data(self, batch):\n",
    "        y = np.zeros((self.batch_size, self.y.shape[1]))\n",
    "        \n",
    "        if self.X_dim == 3:\n",
    "            X = np.zeros((self.batch_size, self.X.shape[1], self.X.shape[2]))\n",
    "            for i, id in enumerate(batch):\n",
    "                X[i,:, :] = self.X[id, :, :]  # logic\n",
    "                y[i, :] = self.y[id, :] # labels\n",
    "                \n",
    "        elif self.X_dim == 4:\n",
    "            X = np.zeros((self.batch_size, self.X.shape[1], self.X.shape[2], self.X.shape[3]))\n",
    "            for i, id in enumerate(batch):\n",
    "                X[i,:, :, :] = self.X[id, :, :, :]  # logic\n",
    "                y[i, :] = self.y[id, :] # labels\n",
    "\n",
    "        return X, y"
   ]
  },
  {
   "cell_type": "markdown",
   "metadata": {},
   "source": [
    "## Models"
   ]
  },
  {
   "cell_type": "code",
   "execution_count": 9,
   "metadata": {},
   "outputs": [],
   "source": [
    "# Kong's attention\n",
    "# def max_pooling(inputs, **kwargs):\n",
    "#     input = inputs[0]   # (batch_size, time_steps, freq_bins)\n",
    "#     return K.max(input, axis=1)\n",
    "def max_pooling(inputs, **kwargs):\n",
    "    # input = inputs[0]   # (batch_size, time_steps, freq_bins)\n",
    "    return K.max(inputs, axis=1)\n",
    "\n",
    "\n",
    "def average_pooling(inputs, **kwargs):\n",
    "    input = inputs[0]   # (batch_size, time_steps, freq_bins)\n",
    "    return K.mean(input, axis=1)\n",
    "\n",
    "\n",
    "def attention_pooling(inputs, **kwargs):\n",
    "    [out, att] = inputs\n",
    "\n",
    "    epsilon = 1e-7\n",
    "    att = K.clip(att, epsilon, 1. - epsilon)\n",
    "    normalized_att = att / K.sum(att, axis=1)[:, None, :]\n",
    "\n",
    "    return K.sum(out * normalized_att, axis=1)\n",
    "\n",
    "\n",
    "def pooling_shape(input_shape):\n",
    "\n",
    "    if isinstance(input_shape, list):\n",
    "        (sample_num, time_steps, freq_bins) = input_shape[0]\n",
    "\n",
    "    else:\n",
    "        (sample_num, time_steps, freq_bins) = input_shape\n",
    "\n",
    "    return (sample_num, freq_bins)"
   ]
  },
  {
   "cell_type": "code",
   "execution_count": 10,
   "metadata": {},
   "outputs": [],
   "source": [
    "# https://github.com/yhenon/keras-spp\n",
    "# from tensorflow.keras.engine.topology import Layer\n",
    "from tensorflow.keras.layers import Layer\n",
    "import tensorflow.keras.backend as K\n",
    "\n",
    "\n",
    "class SpatialPyramidPooling(Layer):\n",
    "    \"\"\"Spatial pyramid pooling layer for 2D inputs.\n",
    "    See Spatial Pyramid Pooling in Deep Convolutional Networks for Visual Recognition,\n",
    "    K. He, X. Zhang, S. Ren, J. Sun\n",
    "    # Arguments\n",
    "        pool_list: list of int\n",
    "            List of pooling regions to use. The length of the list is the number of pooling regions,\n",
    "            each int in the list is the number of regions in that pool. For example [1,2,4] would be 3\n",
    "            regions with 1, 2x2 and 4x4 max pools, so 21 outputs per feature map\n",
    "    # Input shape\n",
    "        4D tensor with shape:\n",
    "        `(samples, channels, rows, cols)` if dim_ordering='th'\n",
    "        or 4D tensor with shape:\n",
    "        `(samples, rows, cols, channels)` if dim_ordering='tf'.\n",
    "    # Output shape\n",
    "        2D tensor with shape:\n",
    "        `(samples, channels * sum([i * i for i in pool_list])`\n",
    "    \"\"\"\n",
    "\n",
    "    def __init__(self, pool_list, **kwargs):\n",
    "\n",
    "        # self.dim_ordering = K.image_dim_ordering()\n",
    "        # self.dim_ordering = K.image_data_format()\n",
    "        self.dim_ordering  = 'tf'\n",
    "        print(self.dim_ordering)\n",
    "        assert self.dim_ordering in {'tf', 'th'}, 'dim_ordering must be in {tf, th}'\n",
    "\n",
    "        self.pool_list = pool_list\n",
    "\n",
    "        self.num_outputs_per_channel = sum([i * i for i in pool_list])\n",
    "\n",
    "        super(SpatialPyramidPooling, self).__init__(**kwargs)\n",
    "\n",
    "    def build(self, input_shape):\n",
    "        if self.dim_ordering == 'th':\n",
    "            self.nb_channels = input_shape[1]\n",
    "        elif self.dim_ordering == 'tf':\n",
    "            self.nb_channels = input_shape[3]\n",
    "\n",
    "    def compute_output_shape(self, input_shape):\n",
    "        return (input_shape[0], self.nb_channels * self.num_outputs_per_channel)\n",
    "\n",
    "    def get_config(self):\n",
    "        config = {'pool_list': self.pool_list}\n",
    "        base_config = super(SpatialPyramidPooling, self).get_config()\n",
    "        return dict(list(base_config.items()) + list(config.items()))\n",
    "\n",
    "    def call(self, x, mask=None):\n",
    "\n",
    "        input_shape = K.shape(x)\n",
    "\n",
    "        if self.dim_ordering == 'th':\n",
    "            num_rows = input_shape[2]\n",
    "            num_cols = input_shape[3]\n",
    "        elif self.dim_ordering == 'tf':\n",
    "            num_rows = input_shape[1]\n",
    "            num_cols = input_shape[2]\n",
    "\n",
    "        row_length = [K.cast(num_rows, 'float32') / i for i in self.pool_list]\n",
    "        col_length = [K.cast(num_cols, 'float32') / i for i in self.pool_list]\n",
    "\n",
    "        outputs = []\n",
    "\n",
    "        if self.dim_ordering == 'th':\n",
    "            for pool_num, num_pool_regions in enumerate(self.pool_list):\n",
    "                for jy in range(num_pool_regions):\n",
    "                    for ix in range(num_pool_regions):\n",
    "                        x1 = ix * col_length[pool_num]\n",
    "                        x2 = ix * col_length[pool_num] + col_length[pool_num]\n",
    "                        y1 = jy * row_length[pool_num]\n",
    "                        y2 = jy * row_length[pool_num] + row_length[pool_num]\n",
    "\n",
    "                        x1 = K.cast(K.round(x1), 'int32')\n",
    "                        x2 = K.cast(K.round(x2), 'int32')\n",
    "                        y1 = K.cast(K.round(y1), 'int32')\n",
    "                        y2 = K.cast(K.round(y2), 'int32')\n",
    "                        new_shape = [input_shape[0], input_shape[1],\n",
    "                                     y2 - y1, x2 - x1]\n",
    "                        x_crop = x[:, :, y1:y2, x1:x2]\n",
    "                        xm = K.reshape(x_crop, new_shape)\n",
    "                        pooled_val = K.max(xm, axis=(2, 3))\n",
    "                        outputs.append(pooled_val)\n",
    "\n",
    "        elif self.dim_ordering == 'tf':\n",
    "            for pool_num, num_pool_regions in enumerate(self.pool_list):\n",
    "                for jy in range(num_pool_regions):\n",
    "                    for ix in range(num_pool_regions):\n",
    "                        x1 = ix * col_length[pool_num]\n",
    "                        x2 = ix * col_length[pool_num] + col_length[pool_num]\n",
    "                        y1 = jy * row_length[pool_num]\n",
    "                        y2 = jy * row_length[pool_num] + row_length[pool_num]\n",
    "\n",
    "                        x1 = K.cast(K.round(x1), 'int32')\n",
    "                        x2 = K.cast(K.round(x2), 'int32')\n",
    "                        y1 = K.cast(K.round(y1), 'int32')\n",
    "                        y2 = K.cast(K.round(y2), 'int32')\n",
    "\n",
    "                        new_shape = [input_shape[0], y2 - y1,\n",
    "                                     x2 - x1, input_shape[3]]\n",
    "\n",
    "                        x_crop = x[:, y1:y2, x1:x2, :]\n",
    "                        xm = K.reshape(x_crop, new_shape)\n",
    "                        pooled_val = K.max(xm, axis=(1, 2))\n",
    "                        outputs.append(pooled_val)\n",
    "\n",
    "        if self.dim_ordering == 'th':\n",
    "            outputs = K.concatenate(outputs)\n",
    "        elif self.dim_ordering == 'tf':\n",
    "            #outputs = K.concatenate(outputs,axis = 1)\n",
    "            outputs = K.concatenate(outputs)\n",
    "            #outputs = K.reshape(outputs,(len(self.pool_list),self.num_outputs_per_channel,input_shape[0],input_shape[1]))\n",
    "            #outputs = K.permute_dimensions(outputs,(3,1,0,2))\n",
    "            #outputs = K.reshape(outputs,(input_shape[0], self.num_outputs_per_channel * self.nb_channels))\n",
    "\n",
    "        return outputs"
   ]
  },
  {
   "cell_type": "code",
   "execution_count": 11,
   "metadata": {},
   "outputs": [],
   "source": [
    "# cnn14 SPP\n",
    "def model_cnn14_spp(time_steps, freq_bins, classes_num, conv_dim=64, rnn_dim=128, pool_size=2, pool_stride=2, hidden_units=512, l2_regu=0., drop_rate=0., multilabel=True):\n",
    "    input_layer = Input(shape=(time_steps, freq_bins, 1), name='input')\n",
    "    # group 1\n",
    "    y = Conv2D(conv_dim, kernel_size=(3, 3), strides=(1, 1), padding='same', kernel_regularizer=l2(l2_regu))(input_layer)\n",
    "    y = BatchNormalization()(y)\n",
    "    y = Activation(activation='relu')(y)\n",
    "    y = Conv2D(conv_dim, kernel_size=(3, 3), strides=(1, 1), padding='same', kernel_regularizer=l2(l2_regu))(y)\n",
    "    y = BatchNormalization()(y)\n",
    "    y = Activation(activation='relu')(y)\n",
    "    y = MaxPooling2D(pool_size=(pool_size, 2), strides=(pool_stride, 2), padding='same')(y)\n",
    "    y = Dropout(drop_rate)(y)\n",
    "    \n",
    "    # group 2\n",
    "    y = Conv2D(conv_dim*2, kernel_size=(3, 3), strides=(1, 1), padding='same', kernel_regularizer=l2(l2_regu))(y)\n",
    "    y = BatchNormalization()(y)\n",
    "    y = Activation(activation='relu')(y)\n",
    "    y = Conv2D(conv_dim*2, kernel_size=(3, 3), strides=(1, 1), padding='same', kernel_regularizer=l2(l2_regu))(y)\n",
    "    y = BatchNormalization()(y)\n",
    "    y = Activation(activation='relu')(y)\n",
    "    y = MaxPooling2D(pool_size=(pool_size, 2), strides=(pool_stride, 2), padding='same')(y)\n",
    "    y = Dropout(drop_rate)(y)\n",
    "    \n",
    "    # group 3\n",
    "    y = Conv2D(conv_dim*4, kernel_size=(3, 3), strides=(1, 1), padding='same', kernel_regularizer=l2(l2_regu))(y)\n",
    "    y = BatchNormalization()(y)\n",
    "    y = Activation(activation='relu')(y)\n",
    "    y = Conv2D(conv_dim*4, kernel_size=(3, 3), strides=(1, 1), padding='same', kernel_regularizer=l2(l2_regu))(y)\n",
    "    y = BatchNormalization()(y)\n",
    "    y = Activation(activation='relu')(y)\n",
    "    y = MaxPooling2D(pool_size=(pool_size, 2), strides=(pool_stride, 2), padding='same')(y)\n",
    "    y = Dropout(drop_rate)(y)\n",
    "    \n",
    "    # group 4 \n",
    "    y = Conv2D(conv_dim*8, kernel_size=(3, 3), strides=(1, 1), padding='same', kernel_regularizer=l2(l2_regu))(y)\n",
    "    y = BatchNormalization()(y)\n",
    "    y = Activation(activation='relu')(y)\n",
    "    y = Conv2D(conv_dim*8, kernel_size=(3, 3), strides=(1, 1), padding='same', kernel_regularizer=l2(l2_regu))(y)\n",
    "    y = BatchNormalization()(y)\n",
    "    y = Activation(activation='relu')(y)\n",
    "    y = MaxPooling2D(pool_size=(pool_size, 2), strides=(pool_stride, 2), padding='same')(y)\n",
    "    y = Dropout(drop_rate)(y)\n",
    "\n",
    "    # group 5\n",
    "    y = Conv2D(conv_dim*16, kernel_size=(3, 3), strides=(1, 1), padding='same', kernel_regularizer=l2(l2_regu))(y)\n",
    "    y = BatchNormalization()(y)\n",
    "    y = Activation(activation='relu')(y)\n",
    "    y = Conv2D(conv_dim*16, kernel_size=(3, 3), strides=(1, 1), padding='same', kernel_regularizer=l2(l2_regu))(y)\n",
    "    y = BatchNormalization()(y)\n",
    "    y = Activation(activation='relu')(y)\n",
    "#     y = MaxPooling2D(pool_size=(pool_size, 2), strides=(1, 2), padding='same')(y)\n",
    "#     y = Dropout(drop_rate)(y)\n",
    "\n",
    "#     # group 6\n",
    "#     y = Conv2D(conv_dim*32, kernel_size=(3, 3), strides=(1, 1), padding='same', kernel_regularizer=l2(l2_regu))(y)\n",
    "#     y = BatchNormalization()(y)\n",
    "#     y = Activation(activation='relu')(y)\n",
    "#     y = Conv2D(conv_dim*32, kernel_size=(3, 3), strides=(1, 1), padding='same', kernel_regularizer=l2(l2_regu))(y)\n",
    "#     y = BatchNormalization()(y)\n",
    "#     y = Activation(activation='relu')(y)\n",
    "#     y = MaxPooling2D(pool_size=(pool_size, 2), strides=(1, 2), padding='same')(y)\n",
    "#     y = Dropout(drop_rate)(y)\n",
    "    \n",
    "    # change dimensions: samples, time, frequency, channels => samples, time, frequency*channels\n",
    "    #  dim_cnn = K.int_shape(y)\n",
    "    # y = Reshape((dim_cnn[1], dim_cnn[2]*dim_cnn[3]))(y)\n",
    "    \n",
    "    y = spp.SpatialPyramidPooling2D(bins=[[1, 1], [1, 2], [1, 4], [1, 8]], data_format='channels_last')(y)\n",
    "    dim_spp = K.int_shape(y)\n",
    "    y = Reshape((dim_spp[1]*dim_spp[2], ))(y)\n",
    "\n",
    "    # FC block\n",
    "    y = Dense(hidden_units, activation='relu', name='cnn14_fcn')(y)  # original 512\n",
    "    # y = Dense(hidden_units, activation='relu', name='cnn14_fcn2')(y)  # original 512\n",
    "    x = Dense(classes_num, activation='softmax')(y)\n",
    "    \n",
    "    # Build model\n",
    "    model = Model(inputs=input_layer, outputs=x)\n",
    "    \n",
    "    return model\n",
    "\n",
    "#     a1 = Dense(hidden_units)(y)\n",
    "#     a1 = BatchNormalization()(a1)\n",
    "#     a1 = Activation('relu')(a1)\n",
    "#     a1 = Dropout(drop_rate)(a1)\n",
    "\n",
    "#     a2 = Dense(hidden_units)(a1)\n",
    "#     a2 = BatchNormalization()(a2)\n",
    "#     a2 = Activation('relu')(a2)\n",
    "#     a2 = Dropout(drop_rate)(a2)\n",
    "    \n",
    "#     output_layer = Dense(classes_num, activation='softmax')(a2)\n",
    "\n",
    "#     if False:\n",
    "#         # Pooling layers 'decision_level_max_pooling':\n",
    "#         '''Global max pooling.\n",
    "\n",
    "#         [1] Choi, Keunwoo, et al. \"Automatic tagging using deep convolutional \n",
    "#         neural networks.\" arXiv preprint arXiv:1606.00298 (2016).\n",
    "#         '''\n",
    "#         cla = Dense(classes_num, activation='sigmoid')(a2)\n",
    "\n",
    "#         # output_layer = Lambda(\n",
    "#         #    max_pooling, \n",
    "#         #    output_shape=pooling_shape)(\n",
    "#         #    [cla])\n",
    "#         output_layer = Lambda(max_pooling)(cla)\n",
    "\n",
    "#     # Build model\n",
    "#     model = Model(inputs=input_layer, outputs=output_layer)\n",
    "    \n",
    "#     return model"
   ]
  },
  {
   "cell_type": "code",
   "execution_count": 12,
   "metadata": {},
   "outputs": [],
   "source": [
    "# cnn14 attention with customized maxpooling\n",
    "def model_cnn14_attention_multi(time_steps, freq_bins, classes_num, model_type='feature_level_attention', conv_dim=64, rnn_dim=128, pool_size=2, pool_stride=2, hidden_units=512, l2_regu=0., drop_rate=0., multilabel=True):\n",
    "    # Kong's attention\n",
    "    # model_type = 'decision_level_max_pooling'  # problem with dimensions of the Lambda layer after training\n",
    "    # model_type = 'decision_level_average_pooling' # problem with dimensions of the Lambda layer after training\n",
    "    # model_type = 'decision_level_single_attention'\n",
    "    # model_type = 'decision_level_multi_attention'\n",
    "    # model_type = 'feature_level_attention'\n",
    "\n",
    "    input_layer = Input(shape=(time_steps, freq_bins, 1), name='input')\n",
    "    # group 1\n",
    "    y = Conv2D(conv_dim, kernel_size=(3, 3), strides=(1, 1), padding='same', kernel_regularizer=l2(l2_regu))(input_layer)\n",
    "    y = BatchNormalization()(y)\n",
    "    y = Activation(activation='relu')(y)\n",
    "    y = Conv2D(conv_dim, kernel_size=(3, 3), strides=(1, 1), padding='same', kernel_regularizer=l2(l2_regu))(y)\n",
    "    y = BatchNormalization()(y)\n",
    "    y = Activation(activation='relu')(y)\n",
    "    y = MaxPooling2D(pool_size=(pool_size, 2), strides=(pool_stride, 2), padding='same')(y)\n",
    "    y = Dropout(drop_rate)(y)\n",
    "    \n",
    "    # group 2\n",
    "    y = Conv2D(conv_dim*2, kernel_size=(3, 3), strides=(1, 1), padding='same', kernel_regularizer=l2(l2_regu))(y)\n",
    "    y = BatchNormalization()(y)\n",
    "    y = Activation(activation='relu')(y)\n",
    "    y = Conv2D(conv_dim*2, kernel_size=(3, 3), strides=(1, 1), padding='same', kernel_regularizer=l2(l2_regu))(y)\n",
    "    y = BatchNormalization()(y)\n",
    "    y = Activation(activation='relu')(y)\n",
    "    y = MaxPooling2D(pool_size=(pool_size, 2), strides=(pool_stride, 2), padding='same')(y)\n",
    "    y = Dropout(drop_rate)(y)\n",
    "    \n",
    "    # group 3\n",
    "    y = Conv2D(conv_dim*4, kernel_size=(3, 3), strides=(1, 1), padding='same', kernel_regularizer=l2(l2_regu))(y)\n",
    "    y = BatchNormalization()(y)\n",
    "    y = Activation(activation='relu')(y)\n",
    "    y = Conv2D(conv_dim*4, kernel_size=(3, 3), strides=(1, 1), padding='same', kernel_regularizer=l2(l2_regu))(y)\n",
    "    y = BatchNormalization()(y)\n",
    "    y = Activation(activation='relu')(y)\n",
    "    y = MaxPooling2D(pool_size=(pool_size, 2), strides=(pool_stride, 2), padding='same')(y)\n",
    "    y = Dropout(drop_rate)(y)\n",
    "    \n",
    "    # group 4 \n",
    "    y = Conv2D(conv_dim*8, kernel_size=(3, 3), strides=(1, 1), padding='same', kernel_regularizer=l2(l2_regu))(y)\n",
    "    y = BatchNormalization()(y)\n",
    "    y = Activation(activation='relu')(y)\n",
    "    y = Conv2D(conv_dim*8, kernel_size=(3, 3), strides=(1, 1), padding='same', kernel_regularizer=l2(l2_regu))(y)\n",
    "    y = BatchNormalization()(y)\n",
    "    y = Activation(activation='relu')(y)\n",
    "    y = MaxPooling2D(pool_size=(pool_size, 2), strides=(pool_stride, 2), padding='same')(y)\n",
    "    y = Dropout(drop_rate)(y)\n",
    "\n",
    "    # group 5\n",
    "    y = Conv2D(conv_dim*16, kernel_size=(3, 3), strides=(1, 1), padding='same', kernel_regularizer=l2(l2_regu))(y)\n",
    "    y = BatchNormalization()(y)\n",
    "    y = Activation(activation='relu')(y)\n",
    "    y = Conv2D(conv_dim*16, kernel_size=(3, 3), strides=(1, 1), padding='same', kernel_regularizer=l2(l2_regu))(y)\n",
    "    y = BatchNormalization()(y)\n",
    "    y = Activation(activation='relu')(y)\n",
    "    y = MaxPooling2D(pool_size=(pool_size, 2), strides=(1, 2), padding='same')(y)\n",
    "    y = Dropout(drop_rate)(y)\n",
    "\n",
    "    # group 6\n",
    "    y = Conv2D(conv_dim*32, kernel_size=(3, 3), strides=(1, 1), padding='same', kernel_regularizer=l2(l2_regu))(y)\n",
    "    y = BatchNormalization()(y)\n",
    "    y = Activation(activation='relu')(y)\n",
    "    y = Conv2D(conv_dim*32, kernel_size=(3, 3), strides=(1, 1), padding='same', kernel_regularizer=l2(l2_regu))(y)\n",
    "    y = BatchNormalization()(y)\n",
    "    y = Activation(activation='relu')(y)\n",
    "    y = MaxPooling2D(pool_size=(pool_size, 2), strides=(1, 2), padding='same')(y)\n",
    "    y = Dropout(drop_rate)(y)\n",
    "    \n",
    "    # change dimensions: samples, time, frequency, channels => samples, time, frequency*channels\n",
    "    dim_cnn = K.int_shape(y)\n",
    "    y = Reshape((dim_cnn[1], dim_cnn[2]*dim_cnn[3]))(y)\n",
    "\n",
    "    a1 = Dense(hidden_units)(y)\n",
    "    a1 = BatchNormalization()(a1)\n",
    "    a1 = Activation('relu')(a1)\n",
    "    a1 = Dropout(drop_rate)(a1)\n",
    "\n",
    "    a2 = Dense(hidden_units)(a1)\n",
    "    a2 = BatchNormalization()(a2)\n",
    "    a2 = Activation('relu')(a2)\n",
    "    a2 = Dropout(drop_rate)(a2)\n",
    "\n",
    "    a3 = Dense(hidden_units)(a2)\n",
    "    a3 = BatchNormalization()(a3)\n",
    "    a3 = Activation('relu')(a3)\n",
    "    a3 = Dropout(drop_rate)(a3)\n",
    "\n",
    "    # Pooling layers\n",
    "    if model_type == 'decision_level_max_pooling':\n",
    "        '''Global max pooling.\n",
    "\n",
    "        [1] Choi, Keunwoo, et al. \"Automatic tagging using deep convolutional \n",
    "        neural networks.\" arXiv preprint arXiv:1606.00298 (2016).\n",
    "        '''\n",
    "        cla = Dense(classes_num, activation='sigmoid')(a3)\n",
    "        \n",
    "        # output_layer = Lambda(\n",
    "        #    max_pooling, \n",
    "        #    output_shape=pooling_shape)(\n",
    "        #    [cla])\n",
    "        output_layer = Lambda(max_pooling)(cla)\n",
    "\n",
    "    elif model_type == 'decision_level_average_pooling':\n",
    "        '''Global average pooling.\n",
    "\n",
    "        [2] Lin, Min, et al. Qiang Chen, and Shuicheng Yan. \"Network in \n",
    "        network.\" arXiv preprint arXiv:1312.4400 (2013).\n",
    "        '''\n",
    "        cla = Dense(classes_num, activation='sigmoid')(a3)\n",
    "        # output_layer = Lambda(\n",
    "        #    average_pooling,\n",
    "        #    output_shape=pooling_shape)(\n",
    "        #    [cla])\n",
    "        output_layer = Lambda(average_pooling)(cla)\n",
    "\n",
    "    elif model_type == 'decision_level_single_attention':\n",
    "        '''Decision level single attention pooling.\n",
    "        [3] Kong, Qiuqiang, et al. \"Audio Set classification with attention\n",
    "        model: A probabilistic perspective.\" arXiv preprint arXiv:1711.00927\n",
    "        (2017).\n",
    "        '''\n",
    "        cla = Dense(classes_num, activation='sigmoid')(a3)\n",
    "        att = Dense(classes_num, activation='softmax')(a3)\n",
    "        output_layer = Lambda(\n",
    "            attention_pooling, output_shape=pooling_shape)([cla, att])\n",
    "\n",
    "    elif model_type == 'decision_level_multi_attention':\n",
    "        '''Decision level multi attention pooling.\n",
    "        [4] Yu, Changsong, et al. \"Multi-level Attention Model for Weakly\n",
    "        Supervised Audio Classification.\" arXiv preprint arXiv:1803.02353\n",
    "        (2018).\n",
    "        '''\n",
    "        cla1 = Dense(classes_num, activation='sigmoid')(a2)\n",
    "        att1 = Dense(classes_num, activation='softmax')(a2)\n",
    "        out1 = Lambda(\n",
    "            attention_pooling, output_shape=pooling_shape)([cla1, att1])\n",
    "\n",
    "        cla2 = Dense(classes_num, activation='sigmoid')(a3)\n",
    "        att2 = Dense(classes_num, activation='softmax')(a3)\n",
    "        out2 = Lambda(\n",
    "            attention_pooling, output_shape=pooling_shape)([cla2, att2])\n",
    "\n",
    "        b1 = Concatenate(axis=-1)([out1, out2])\n",
    "        b1 = Dense(classes_num)(b1)\n",
    "        \n",
    "        if multilabel:\n",
    "            output_layer = Activation('sigmoid')(b1)\n",
    "        else:\n",
    "            output_layer = Activation('softmax')(b1)\n",
    "\n",
    "    elif model_type == 'feature_level_attention':\n",
    "        '''Feature level attention.\n",
    "        [1] Kong, Qiuqiang, et al. \"Weakly labelled audioset tagging with \n",
    "        attention neural networks.\" (2019).\n",
    "        '''\n",
    "        cla = Dense(hidden_units, activation='linear')(a3)\n",
    "        att = Dense(hidden_units, activation='sigmoid')(a3)\n",
    "        b1 = Lambda(\n",
    "            attention_pooling, output_shape=pooling_shape)([cla, att])\n",
    "\n",
    "        b1 = BatchNormalization()(b1)\n",
    "        b1 = Activation(activation='relu')(b1)\n",
    "        b1 = Dropout(drop_rate)(b1)\n",
    "        \n",
    "        if multilabel:\n",
    "            output_layer = Dense(classes_num, activation='sigmoid')(b1)\n",
    "        else:\n",
    "            output_layer = Dense(classes_num, activation='softmax')(b1)\n",
    "\n",
    "    else:\n",
    "        raise Exception(\"Incorrect model_type!\")\n",
    "\n",
    "    # Build model\n",
    "    model = Model(inputs=input_layer, outputs=output_layer)\n",
    "    \n",
    "    return model"
   ]
  },
  {
   "cell_type": "code",
   "execution_count": 13,
   "metadata": {},
   "outputs": [],
   "source": [
    "# cnn14 attention\n",
    "def model_cnn14_attention(time_steps, freq_bins, classes_num, model_type='feature_level_attention', conv_dim=64, rnn_dim=128, pool_size=2, pool_stride=2, hidden_units=512, l2_regu=0., drop_rate=0., multilabel=True):\n",
    "    # Kong's attention\n",
    "    # model_type = 'decision_level_max_pooling'  # problem with dimensions of the Lambda layer after training\n",
    "    # model_type = 'decision_level_average_pooling' # problem with dimensions of the Lambda layer after training\n",
    "    # model_type = 'decision_level_single_attention'\n",
    "    # model_type = 'decision_level_multi_attention'\n",
    "    # model_type = 'feature_level_attention'\n",
    "\n",
    "    input_layer = Input(shape=(time_steps, freq_bins, 1), name='input')\n",
    "    # group 1\n",
    "    y = Conv2D(conv_dim, kernel_size=(3, 3), strides=(1, 1), padding='same', kernel_regularizer=l2(l2_regu))(input_layer)\n",
    "    y = BatchNormalization()(y)\n",
    "    y = Activation(activation='relu')(y)\n",
    "    y = Conv2D(conv_dim, kernel_size=(3, 3), strides=(1, 1), padding='same', kernel_regularizer=l2(l2_regu))(y)\n",
    "    y = BatchNormalization()(y)\n",
    "    y = Activation(activation='relu')(y)\n",
    "    y = MaxPooling2D(pool_size=(pool_size, 2), strides=(pool_stride, 2), padding='same')(y)\n",
    "    y = Dropout(drop_rate)(y)\n",
    "    \n",
    "    # group 2\n",
    "    y = Conv2D(conv_dim*2, kernel_size=(3, 3), strides=(1, 1), padding='same', kernel_regularizer=l2(l2_regu))(y)\n",
    "    y = BatchNormalization()(y)\n",
    "    y = Activation(activation='relu')(y)\n",
    "    y = Conv2D(conv_dim*2, kernel_size=(3, 3), strides=(1, 1), padding='same', kernel_regularizer=l2(l2_regu))(y)\n",
    "    y = BatchNormalization()(y)\n",
    "    y = Activation(activation='relu')(y)\n",
    "    y = MaxPooling2D(pool_size=(pool_size, 2), strides=(pool_stride, 2), padding='same')(y)\n",
    "    y = Dropout(drop_rate)(y)\n",
    "    \n",
    "    # group 3\n",
    "    y = Conv2D(conv_dim*4, kernel_size=(3, 3), strides=(1, 1), padding='same', kernel_regularizer=l2(l2_regu))(y)\n",
    "    y = BatchNormalization()(y)\n",
    "    y = Activation(activation='relu')(y)\n",
    "    y = Conv2D(conv_dim*4, kernel_size=(3, 3), strides=(1, 1), padding='same', kernel_regularizer=l2(l2_regu))(y)\n",
    "    y = BatchNormalization()(y)\n",
    "    y = Activation(activation='relu')(y)\n",
    "    y = MaxPooling2D(pool_size=(pool_size, 2), strides=(pool_stride, 2), padding='same')(y)\n",
    "    y = Dropout(drop_rate)(y)\n",
    "    \n",
    "    # group 4 \n",
    "    y = Conv2D(conv_dim*8, kernel_size=(3, 3), strides=(1, 1), padding='same', kernel_regularizer=l2(l2_regu))(y)\n",
    "    y = BatchNormalization()(y)\n",
    "    y = Activation(activation='relu')(y)\n",
    "    y = Conv2D(conv_dim*8, kernel_size=(3, 3), strides=(1, 1), padding='same', kernel_regularizer=l2(l2_regu))(y)\n",
    "    y = BatchNormalization()(y)\n",
    "    y = Activation(activation='relu')(y)\n",
    "    y = MaxPooling2D(pool_size=(pool_size, 2), strides=(pool_stride, 2), padding='same')(y)\n",
    "    y = Dropout(drop_rate)(y)\n",
    "\n",
    "    # group 5\n",
    "    y = Conv2D(conv_dim*16, kernel_size=(3, 3), strides=(1, 1), padding='same', kernel_regularizer=l2(l2_regu))(y)\n",
    "    y = BatchNormalization()(y)\n",
    "    y = Activation(activation='relu')(y)\n",
    "    y = Conv2D(conv_dim*16, kernel_size=(3, 3), strides=(1, 1), padding='same', kernel_regularizer=l2(l2_regu))(y)\n",
    "    y = BatchNormalization()(y)\n",
    "    y = Activation(activation='relu')(y)\n",
    "    y = MaxPooling2D(pool_size=(pool_size, 2), strides=(pool_stride, 2), padding='same')(y)\n",
    "    y = Dropout(drop_rate)(y)\n",
    "\n",
    "    # group 6\n",
    "    y = Conv2D(conv_dim*32, kernel_size=(3, 3), strides=(1, 1), padding='same', kernel_regularizer=l2(l2_regu))(y)\n",
    "    y = BatchNormalization()(y)\n",
    "    y = Activation(activation='relu')(y)\n",
    "    y = Conv2D(conv_dim*32, kernel_size=(3, 3), strides=(1, 1), padding='same', kernel_regularizer=l2(l2_regu))(y)\n",
    "    y = BatchNormalization()(y)\n",
    "    y = Activation(activation='relu')(y)\n",
    "    y = MaxPooling2D(pool_size=(pool_size, 2), strides=(pool_stride, 2), padding='same')(y)\n",
    "    y = Dropout(drop_rate)(y)\n",
    "    \n",
    "    # change dimensions: samples, time, frequency, channels => samples, time, frequency*channels\n",
    "    dim_cnn = K.int_shape(y)\n",
    "    y = Reshape((dim_cnn[1], dim_cnn[2]*dim_cnn[3]))(y)\n",
    "\n",
    "    a1 = Dense(hidden_units)(y)\n",
    "    a1 = BatchNormalization()(a1)\n",
    "    a1 = Activation('relu')(a1)\n",
    "    a1 = Dropout(drop_rate)(a1)\n",
    "\n",
    "    a2 = Dense(hidden_units)(a1)\n",
    "    a2 = BatchNormalization()(a2)\n",
    "    a2 = Activation('relu')(a2)\n",
    "    a2 = Dropout(drop_rate)(a2)\n",
    "\n",
    "    a3 = Dense(hidden_units)(a2)\n",
    "    a3 = BatchNormalization()(a3)\n",
    "    a3 = Activation('relu')(a3)\n",
    "    a3 = Dropout(drop_rate)(a3)\n",
    "\n",
    "    # Pooling layers\n",
    "    if model_type == 'decision_level_max_pooling':\n",
    "        '''Global max pooling.\n",
    "\n",
    "        [1] Choi, Keunwoo, et al. \"Automatic tagging using deep convolutional \n",
    "        neural networks.\" arXiv preprint arXiv:1606.00298 (2016).\n",
    "        '''\n",
    "        cla = Dense(classes_num, activation='sigmoid')(a3)\n",
    "        \n",
    "        # output_layer = Lambda(\n",
    "        #    max_pooling, \n",
    "        #    output_shape=pooling_shape)(\n",
    "        #    [cla])\n",
    "        output_layer = Lambda(max_pooling)(cla)\n",
    "\n",
    "    elif model_type == 'decision_level_average_pooling':\n",
    "        '''Global average pooling.\n",
    "\n",
    "        [2] Lin, Min, et al. Qiang Chen, and Shuicheng Yan. \"Network in \n",
    "        network.\" arXiv preprint arXiv:1312.4400 (2013).\n",
    "        '''\n",
    "        cla = Dense(classes_num, activation='sigmoid')(a3)\n",
    "        # output_layer = Lambda(\n",
    "        #    average_pooling,\n",
    "        #    output_shape=pooling_shape)(\n",
    "        #    [cla])\n",
    "        output_layer = Lambda(average_pooling)(cla)\n",
    "\n",
    "    elif model_type == 'decision_level_single_attention':\n",
    "        '''Decision level single attention pooling.\n",
    "        [3] Kong, Qiuqiang, et al. \"Audio Set classification with attention\n",
    "        model: A probabilistic perspective.\" arXiv preprint arXiv:1711.00927\n",
    "        (2017).\n",
    "        '''\n",
    "        cla = Dense(classes_num, activation='sigmoid')(a3)\n",
    "        att = Dense(classes_num, activation='softmax')(a3)\n",
    "        output_layer = Lambda(\n",
    "            attention_pooling, output_shape=pooling_shape)([cla, att])\n",
    "\n",
    "    elif model_type == 'decision_level_multi_attention':\n",
    "        '''Decision level multi attention pooling.\n",
    "        [4] Yu, Changsong, et al. \"Multi-level Attention Model for Weakly\n",
    "        Supervised Audio Classification.\" arXiv preprint arXiv:1803.02353\n",
    "        (2018).\n",
    "        '''\n",
    "        cla1 = Dense(classes_num, activation='sigmoid')(a2)\n",
    "        att1 = Dense(classes_num, activation='softmax')(a2)\n",
    "        out1 = Lambda(\n",
    "            attention_pooling, output_shape=pooling_shape)([cla1, att1])\n",
    "\n",
    "        cla2 = Dense(classes_num, activation='sigmoid')(a3)\n",
    "        att2 = Dense(classes_num, activation='softmax')(a3)\n",
    "        out2 = Lambda(\n",
    "            attention_pooling, output_shape=pooling_shape)([cla2, att2])\n",
    "\n",
    "        b1 = Concatenate(axis=-1)([out1, out2])\n",
    "        b1 = Dense(classes_num)(b1)\n",
    "        \n",
    "        if multilabel:\n",
    "            output_layer = Activation('sigmoid')(b1)\n",
    "        else:\n",
    "            output_layer = Activation('softmax')(b1)\n",
    "\n",
    "    elif model_type == 'feature_level_attention':\n",
    "        '''Feature level attention.\n",
    "        [1] Kong, Qiuqiang, et al. \"Weakly labelled audioset tagging with \n",
    "        attention neural networks.\" (2019).\n",
    "        '''\n",
    "        cla = Dense(hidden_units, activation='linear')(a3)\n",
    "        att = Dense(hidden_units, activation='sigmoid')(a3)\n",
    "        b1 = Lambda(\n",
    "            attention_pooling, output_shape=pooling_shape)([cla, att])\n",
    "\n",
    "        b1 = BatchNormalization()(b1)\n",
    "        b1 = Activation(activation='relu')(b1)\n",
    "        b1 = Dropout(drop_rate)(b1)\n",
    "        \n",
    "        if multilabel:\n",
    "            output_layer = Dense(classes_num, activation='sigmoid')(b1)\n",
    "        else:\n",
    "            output_layer = Dense(classes_num, activation='softmax')(b1)\n",
    "\n",
    "    else:\n",
    "        raise Exception(\"Incorrect model_type!\")\n",
    "\n",
    "    # Build model\n",
    "    model = Model(inputs=input_layer, outputs=output_layer)\n",
    "    \n",
    "    return model"
   ]
  },
  {
   "cell_type": "code",
   "execution_count": 14,
   "metadata": {},
   "outputs": [],
   "source": [
    "def model_cnn14(time_steps, freq_bins, classes_num, pool_size=2, pool_stride=2, conv_dim=16, fcn_dim=512, l2_regu=0., drop_rate=0.):\n",
    "    # input\n",
    "    input_layer = Input(shape=(time_steps, freq_bins, 1), name='input')\n",
    "    \n",
    "    # group 1\n",
    "    y = Conv2D(conv_dim, kernel_size=(3, 3), strides=(1, 1), padding='same', kernel_regularizer=l2(l2_regu))(input_layer)\n",
    "    y = BatchNormalization()(y)\n",
    "    y = Activation(activation='relu')(y)\n",
    "    y = Conv2D(conv_dim, kernel_size=(3, 3), strides=(1, 1), padding='same', kernel_regularizer=l2(l2_regu))(y)\n",
    "    y = BatchNormalization()(y)\n",
    "    y = Activation(activation='relu')(y)\n",
    "    y = MaxPooling2D(pool_size=(2, 2), strides=(2, 2), padding='same')(y)\n",
    "    y = Dropout(drop_rate)(y)\n",
    "    \n",
    "    # group 2\n",
    "    y = Conv2D(conv_dim*2, kernel_size=(3, 3), strides=(1, 1), padding='same', kernel_regularizer=l2(l2_regu))(y)\n",
    "    y = BatchNormalization()(y)\n",
    "    y = Activation(activation='relu')(y)\n",
    "    y = Conv2D(conv_dim*2, kernel_size=(3, 3), strides=(1, 1), padding='same', kernel_regularizer=l2(l2_regu))(y)\n",
    "    y = BatchNormalization()(y)\n",
    "    y = Activation(activation='relu')(y)\n",
    "    y = MaxPooling2D(pool_size=(2, 2), strides=(2, 2), padding='same')(y)\n",
    "    y = Dropout(drop_rate)(y)\n",
    "    \n",
    "    # group 3\n",
    "    y = Conv2D(conv_dim*4, kernel_size=(3, 3), strides=(1, 1), padding='same', kernel_regularizer=l2(l2_regu))(y)\n",
    "    y = BatchNormalization()(y)\n",
    "    y = Activation(activation='relu')(y)\n",
    "    y = Conv2D(conv_dim*4, kernel_size=(3, 3), strides=(1, 1), padding='same', kernel_regularizer=l2(l2_regu))(y)\n",
    "    y = BatchNormalization()(y)\n",
    "    y = Activation(activation='relu')(y)\n",
    "    y = MaxPooling2D(pool_size=(2, 2), strides=(2, 2), padding='same')(y)\n",
    "    y = Dropout(drop_rate)(y)\n",
    "    \n",
    "    # group 4 \n",
    "    y = Conv2D(conv_dim*8, kernel_size=(3, 3), strides=(1, 1), padding='same', kernel_regularizer=l2(l2_regu))(y)\n",
    "    y = BatchNormalization()(y)\n",
    "    y = Activation(activation='relu')(y)\n",
    "    y = Conv2D(conv_dim*8, kernel_size=(3, 3), strides=(1, 1), padding='same', kernel_regularizer=l2(l2_regu))(y)\n",
    "    y = BatchNormalization()(y)\n",
    "    y = Activation(activation='relu')(y)\n",
    "    y = MaxPooling2D(pool_size=(2, 2), strides=(2, 2), padding='same')(y)\n",
    "    y = Dropout(drop_rate)(y)\n",
    "\n",
    "    # group 5\n",
    "    y = Conv2D(conv_dim*16, kernel_size=(3, 3), strides=(1, 1), padding='same', kernel_regularizer=l2(l2_regu))(y)\n",
    "    y = BatchNormalization()(y)\n",
    "    y = Activation(activation='relu')(y)\n",
    "    y = Conv2D(conv_dim*16, kernel_size=(3, 3), strides=(1, 1), padding='same', kernel_regularizer=l2(l2_regu))(y)\n",
    "    y = BatchNormalization()(y)\n",
    "    y = Activation(activation='relu')(y)\n",
    "    y = MaxPooling2D(pool_size=(2, 2), strides=(2, 2), padding='same')(y)\n",
    "    y = Dropout(drop_rate)(y)\n",
    "\n",
    "    # group 6\n",
    "    y = Conv2D(conv_dim*32, kernel_size=(3, 3), strides=(1, 1), padding='same', kernel_regularizer=l2(l2_regu))(y)\n",
    "    y = BatchNormalization()(y)\n",
    "    y = Activation(activation='relu')(y)\n",
    "    y = Conv2D(conv_dim*32, kernel_size=(3, 3), strides=(1, 1), padding='same', kernel_regularizer=l2(l2_regu))(y)\n",
    "    y = BatchNormalization()(y)\n",
    "    y = Activation(activation='relu')(y)\n",
    "    \n",
    "    y = GlobalMaxPooling2D()(y)\n",
    "    \n",
    "    # FC block\n",
    "    y = Dense(fcn_dim, activation='relu', name='cnn14_fcn')(y)  # original 512\n",
    "    x = Dense(classes_num, activation='softmax')(y)\n",
    "    \n",
    "    # Build model\n",
    "    model = Model(inputs=input_layer, outputs=x)\n",
    "    \n",
    "    return model"
   ]
  },
  {
   "cell_type": "markdown",
   "metadata": {},
   "source": [
    "# Model compile, class weight & fitting"
   ]
  },
  {
   "cell_type": "code",
   "execution_count": 15,
   "metadata": {},
   "outputs": [],
   "source": [
    "# def find_best_model(model_folder, remove_others=False):\n",
    "#     model_list = glob.glob(model_folder+'/*.hdf5')\n",
    "#     model_list.sort()\n",
    "#     the_best_model = model_list[-1]\n",
    "    \n",
    "#     if remove_others==True:\n",
    "#         for mm in model_list[:-1]:\n",
    "#             os.remove(mm)\n",
    "            \n",
    "#     print(the_best_model)\n",
    "    \n",
    "#     return the_best_model\n",
    "import re\n",
    "\n",
    "def find_best_model(classifier_path, fmt='epoch_\\d+_valloss_(\\d+.\\d{4})_valacc_\\d+.\\d{4}.hdf5', is_max=False, purge=True):\n",
    "    \"\"\"\n",
    "    Return the path to the model with the best accuracy, given the path to\n",
    "    all the trained classifiers\n",
    "    Args:\n",
    "        classifier_path: path to all the trained classifiers\n",
    "        fmt: e.g. \"epoch_\\d+_[0-1].\\d+_(\\d+.\\d{4}).hdf5\"\n",
    "        'epoch_\\d+_valloss_(\\d+.\\d{4})_valacc_\\d+.\\d{4}.hdf5'\n",
    "        is_max: use max; otherwise, min\n",
    "        purge: True to purge models files except the best one\n",
    "    Return:\n",
    "        the path of the model with the best accuracy\n",
    "    \"\"\"\n",
    "    # list all files ending with .hdf5\n",
    "    day_list = sorted(glob.glob(os.path.join(classifier_path + '/', '*.hdf5')))\n",
    "\n",
    "    # re the last 4 digits for accuracy\n",
    "    hdf5_filename = []\n",
    "    hdf5_accu = np.zeros(len(day_list))\n",
    "    for dd in range(len(day_list)):\n",
    "        filename = os.path.basename(day_list[dd])\n",
    "        hdf5_filename.append(filename)\n",
    "        # m = re.search(\"_F1_(0.\\d{4}).hdf5\", filename)\n",
    "        # m = re.search(\"_([0-1].\\d{4}).hdf5\", filename)\n",
    "        # m = re.search(\"epoch_\\d+_[0-1].\\d+_(\\d+.\\d{4}).hdf5\", filename)\n",
    "        m = re.search(fmt, filename)\n",
    "        try:\n",
    "            hdf5_accu[dd] = float(m.groups()[0])\n",
    "        except:\n",
    "            continue\n",
    "\n",
    "    # select the laregest one and write to the variable classifier_file\n",
    "    if len(hdf5_accu) == 0:\n",
    "        best_model_path = ''\n",
    "        best_accu = 0\n",
    "    else:\n",
    "        if is_max is True:\n",
    "            ind_max = np.argmax(hdf5_accu)\n",
    "        else: # use min instead\n",
    "            ind_max = np.argmin(hdf5_accu)\n",
    "        best_model_path = day_list[int(ind_max)]\n",
    "        best_accu = hdf5_accu[ind_max]\n",
    "        # purge all model files except the best_model\n",
    "        if purge:\n",
    "            for ff in day_list:\n",
    "                if ff != best_model_path:\n",
    "                    os.remove(ff)\n",
    "    print('Best model:'+str(best_accu))\n",
    "    print(best_model_path)\n",
    "    return best_model_path, best_accu\n"
   ]
  },
  {
   "cell_type": "code",
   "execution_count": 16,
   "metadata": {},
   "outputs": [],
   "source": [
    "### cnn4 + attention\n",
    "# model = model_cnn_attention(dim_time, dim_freq, num_species, model_type='decision_level_max_pooling', conv_dim=conv_dim, l2_regu=l2_regu, drop_rate=drop_rate)\n",
    "# model = model_cnn_attention(dim_time, dim_freq, num_species, model_type='decision_level_multi_attention', conv_dim=conv_dim, l2_regu=l2_regu, drop_rate=drop_rate)\n",
    "# model = model_cnn_attention(dim_time, dim_freq, num_species, model_type='feature_level_attention', conv_dim=conv_dim, l2_regu=l2_regu, drop_rate=drop_rate)\n",
    "\n",
    "# vggish\n",
    "# model = model_vggish(dim_time, dim_freq, num_species, conv_dim=conv_dim, fcn_dim=fcn_dim)\n",
    "\n",
    "# cnn10\n",
    "# model = model_cnn10(dim_time, dim_freq, num_species, conv_dim=conv_dim, fcn_dim=fcn_dim, l2_regu=l2_regu, drop_rate=drop_rate)\n",
    "\n",
    "# cnn14\n",
    "# model = model_cnn14(dim_time, dim_freq, num_species, conv_dim=conv_dim, fcn_dim=fcn_dim, l2_regu=l2_regu, drop_rate=drop_rate)\n",
    "\n",
    "# cnn14 attention\n",
    "# model = model_cnn14_attention(dim_time, dim_freq, num_species, model_type='feature_level_attention', conv_dim=conv_dim, pool_size=pool_size, pool_stride=pool_stride, hidden_units=hidden_units, l2_regu=l2_regu, drop_rate=drop_rate)\n",
    "# model = model_cnn14_bigru_attention(dim_time, dim_freq, num_species, model_type='feature_level_attention', conv_dim=conv_dim, rnn_dim=rnn_dim, hidden_units=hidden_units, l2_regu=l2_regu, drop_rate=drop_rate)\n",
    "\n",
    "# model = model_cnn14_attention_multi(dim_time, dim_freq, num_species, model_type='feature_level_attention', conv_dim=conv_dim, pool_size=pool_size, pool_stride=pool_stride, hidden_units=hidden_units, l2_regu=l2_regu, drop_rate=drop_rate)\n",
    "# model = model_cnn14_spp(dim_time, dim_freq, num_species, conv_dim=conv_dim, pool_size=pool_size, pool_stride=pool_stride, hidden_units=hidden_units, l2_regu=l2_regu, drop_rate=drop_rate)\n",
    "# loss = CategoricalCrossentropy()\n",
    "# model.compile(optimizer=tf.keras.optimizers.Adam(learning_rate=learning_rate), loss=loss, metrics=['accuracy'])\n",
    "\n"
   ]
  },
  {
   "cell_type": "code",
   "execution_count": 17,
   "metadata": {},
   "outputs": [],
   "source": [
    "boundaries = [20, 40]\n",
    "values = [1.0e-3, 3.33e-4, 1.0e-4]\n",
    "learning_rate_fn = PiecewiseConstantDecay(boundaries, values)"
   ]
  },
  {
   "cell_type": "markdown",
   "metadata": {},
   "source": [
    "# Cross validation"
   ]
  },
  {
   "cell_type": "code",
   "execution_count": 18,
   "metadata": {},
   "outputs": [],
   "source": [
    "today = datetime.now()\n",
    "# create a folder based on date & time\n",
    "fit_result_path1 = os.path.join(fit_result_path, today.strftime('%Y%m%d_%H%M%S'))"
   ]
  },
  {
   "cell_type": "markdown",
   "metadata": {},
   "source": [
    "## STAR2000"
   ]
  },
  {
   "cell_type": "code",
   "execution_count": 19,
   "metadata": {},
   "outputs": [
    {
     "name": "stdout",
     "output_type": "stream",
     "text": [
      "STAR2000\n"
     ]
    }
   ],
   "source": [
    "ee = deployment[0]\n",
    "print(ee)"
   ]
  },
  {
   "cell_type": "code",
   "execution_count": 20,
   "metadata": {},
   "outputs": [],
   "source": [
    "# Training data\n",
    "fea_temp = np.load(os.path.join(feature_path, 'train_oswald_no_'+ee+'.npz'))\n",
    "fea_train = fea_temp['fea_train']\n",
    "label_train_list = fea_temp['label_train']\n",
    "del fea_temp"
   ]
  },
  {
   "cell_type": "code",
   "execution_count": 21,
   "metadata": {},
   "outputs": [],
   "source": [
    "label_train = np.zeros(len(label_train_list))\n",
    "for ii in range(len(label_train_list)):\n",
    "    label_train[ii] = species_dict[label_train_list[ii]]"
   ]
  },
  {
   "cell_type": "code",
   "execution_count": 22,
   "metadata": {},
   "outputs": [],
   "source": [
    "# Testing data\n",
    "fea_temp = np.load(os.path.join(feature_path, 'oswald_'+ee+'_orig.npz'))\n",
    "fea_test = fea_temp['feas_orig']\n",
    "label_test_list = fea_temp['labels_orig']\n",
    "\n",
    "fea_test = fea_test[:,:100,:]\n",
    "label_test = np.zeros(len(label_test_list))\n",
    "for ii in range(len(label_test_list)):\n",
    "    label_test[ii] = species_dict[label_test_list[ii]]"
   ]
  },
  {
   "cell_type": "code",
   "execution_count": 23,
   "metadata": {},
   "outputs": [],
   "source": [
    "fea_train = fea_train[:,:100,:]"
   ]
  },
  {
   "cell_type": "code",
   "execution_count": 24,
   "metadata": {},
   "outputs": [],
   "source": [
    "label_train = np.zeros(len(label_train_list))\n",
    "for ii in range(len(label_train_list)):\n",
    "    label_train[ii] = species_dict[label_train_list[ii]]"
   ]
  },
  {
   "cell_type": "code",
   "execution_count": 25,
   "metadata": {
    "scrolled": true
   },
   "outputs": [
    {
     "data": {
      "text/plain": [
       "Counter({'BD': 15028,\n",
       "         'CD': 4848,\n",
       "         'FKW': 20160,\n",
       "         'SPIN': 5734,\n",
       "         'SPT': 13436,\n",
       "         'STR': 12528,\n",
       "         'PLT': 14288,\n",
       "         'RT': 10944})"
      ]
     },
     "execution_count": 25,
     "metadata": {},
     "output_type": "execute_result"
    }
   ],
   "source": [
    "Counter(label_train_list)"
   ]
  },
  {
   "cell_type": "code",
   "execution_count": 26,
   "metadata": {},
   "outputs": [
    {
     "data": {
      "text/plain": [
       "Counter({0.0: 121, 1.0: 3964, 5.0: 31, 6.0: 76, 4.0: 491, 3.0: 845, 2.0: 1140})"
      ]
     },
     "execution_count": 26,
     "metadata": {},
     "output_type": "execute_result"
    }
   ],
   "source": [
    "Counter(label_test.tolist())"
   ]
  },
  {
   "cell_type": "code",
   "execution_count": 27,
   "metadata": {},
   "outputs": [],
   "source": [
    "fit_result_path2 = os.path.join(fit_result_path1, ee)\n",
    "if not os.path.exists(fit_result_path2):\n",
    "    makedirs(fit_result_path2)"
   ]
  },
  {
   "cell_type": "code",
   "execution_count": 28,
   "metadata": {},
   "outputs": [
    {
     "name": "stdout",
     "output_type": "stream",
     "text": [
      "feature train shape: (96966, 100, 128)\n",
      "feature test shape: (6668, 100, 128)\n",
      "label train shape: (96966,)\n",
      "label test shape: (6668,)\n",
      "dim_time: 100\n",
      "dim_freq: 128\n"
     ]
    }
   ],
   "source": [
    "print('feature train shape: '+str(fea_train.shape))\n",
    "print('feature test shape: '+str(fea_test.shape))\n",
    "print('label train shape: '+str(label_train.shape))\n",
    "print('label test shape: '+str(label_test.shape))\n",
    "\n",
    "dim_time = fea_train.shape[1]\n",
    "dim_freq = fea_train.shape[2]\n",
    "print('dim_time: '+str(dim_time))\n",
    "print('dim_freq: '+str(dim_freq))"
   ]
  },
  {
   "cell_type": "code",
   "execution_count": 29,
   "metadata": {},
   "outputs": [],
   "source": [
    "# shuffle features & labels\n",
    "fea_train, label_train = shuffle(fea_train, label_train, random_state=0)\n",
    "fea_test, label_test = shuffle(fea_test, label_test, random_state=0)"
   ]
  },
  {
   "cell_type": "code",
   "execution_count": 30,
   "metadata": {},
   "outputs": [],
   "source": [
    "# class weight\n",
    "weights = compute_class_weight(class_weight='balanced', classes=np.unique(label_train), y=label_train)\n",
    "\n",
    "class_weights = dict()\n",
    "for ii in range(num_species):\n",
    "    class_weights[ii] = weights[ii]"
   ]
  },
  {
   "cell_type": "code",
   "execution_count": 31,
   "metadata": {},
   "outputs": [],
   "source": [
    "fea_train = np.expand_dims(fea_train, axis=3)\n",
    "fea_test = np.expand_dims(fea_test, axis=3)"
   ]
  },
  {
   "cell_type": "code",
   "execution_count": 32,
   "metadata": {},
   "outputs": [],
   "source": [
    "fea_train, fea_validate, label_train, label_validate = train_test_split(fea_train, label_train, test_size=0.30, random_state=42)\n",
    "\n",
    "train_generator = DataGenerator(fea_train, label_train, batch_size=batch_size, num_classes=num_species)\n",
    "del fea_train\n",
    "validate_generator = DataGenerator(fea_validate, label_validate, batch_size=batch_size, num_classes=num_species)\n",
    "del fea_validate\n",
    "\n",
    "# test_generator = DataGenerator(fea_test, label_test, batch_size=batch_size, num_classes=num_species)\n"
   ]
  },
  {
   "cell_type": "markdown",
   "metadata": {},
   "source": [
    "### Training the model"
   ]
  },
  {
   "cell_type": "code",
   "execution_count": 33,
   "metadata": {
    "scrolled": true
   },
   "outputs": [
    {
     "name": "stdout",
     "output_type": "stream",
     "text": [
      "Model: \"model\"\n",
      "_________________________________________________________________\n",
      "Layer (type)                 Output Shape              Param #   \n",
      "=================================================================\n",
      "input (InputLayer)           [(None, 100, 128, 1)]     0         \n",
      "_________________________________________________________________\n",
      "conv2d (Conv2D)              (None, 100, 128, 16)      160       \n",
      "_________________________________________________________________\n",
      "batch_normalization (BatchNo (None, 100, 128, 16)      64        \n",
      "_________________________________________________________________\n",
      "activation (Activation)      (None, 100, 128, 16)      0         \n",
      "_________________________________________________________________\n",
      "conv2d_1 (Conv2D)            (None, 100, 128, 16)      2320      \n",
      "_________________________________________________________________\n",
      "batch_normalization_1 (Batch (None, 100, 128, 16)      64        \n",
      "_________________________________________________________________\n",
      "activation_1 (Activation)    (None, 100, 128, 16)      0         \n",
      "_________________________________________________________________\n",
      "max_pooling2d (MaxPooling2D) (None, 50, 64, 16)        0         \n",
      "_________________________________________________________________\n",
      "dropout (Dropout)            (None, 50, 64, 16)        0         \n",
      "_________________________________________________________________\n",
      "conv2d_2 (Conv2D)            (None, 50, 64, 32)        4640      \n",
      "_________________________________________________________________\n",
      "batch_normalization_2 (Batch (None, 50, 64, 32)        128       \n",
      "_________________________________________________________________\n",
      "activation_2 (Activation)    (None, 50, 64, 32)        0         \n",
      "_________________________________________________________________\n",
      "conv2d_3 (Conv2D)            (None, 50, 64, 32)        9248      \n",
      "_________________________________________________________________\n",
      "batch_normalization_3 (Batch (None, 50, 64, 32)        128       \n",
      "_________________________________________________________________\n",
      "activation_3 (Activation)    (None, 50, 64, 32)        0         \n",
      "_________________________________________________________________\n",
      "max_pooling2d_1 (MaxPooling2 (None, 25, 32, 32)        0         \n",
      "_________________________________________________________________\n",
      "dropout_1 (Dropout)          (None, 25, 32, 32)        0         \n",
      "_________________________________________________________________\n",
      "conv2d_4 (Conv2D)            (None, 25, 32, 64)        18496     \n",
      "_________________________________________________________________\n",
      "batch_normalization_4 (Batch (None, 25, 32, 64)        256       \n",
      "_________________________________________________________________\n",
      "activation_4 (Activation)    (None, 25, 32, 64)        0         \n",
      "_________________________________________________________________\n",
      "conv2d_5 (Conv2D)            (None, 25, 32, 64)        36928     \n",
      "_________________________________________________________________\n",
      "batch_normalization_5 (Batch (None, 25, 32, 64)        256       \n",
      "_________________________________________________________________\n",
      "activation_5 (Activation)    (None, 25, 32, 64)        0         \n",
      "_________________________________________________________________\n",
      "max_pooling2d_2 (MaxPooling2 (None, 13, 16, 64)        0         \n",
      "_________________________________________________________________\n",
      "dropout_2 (Dropout)          (None, 13, 16, 64)        0         \n",
      "_________________________________________________________________\n",
      "conv2d_6 (Conv2D)            (None, 13, 16, 128)       73856     \n",
      "_________________________________________________________________\n",
      "batch_normalization_6 (Batch (None, 13, 16, 128)       512       \n",
      "_________________________________________________________________\n",
      "activation_6 (Activation)    (None, 13, 16, 128)       0         \n",
      "_________________________________________________________________\n",
      "conv2d_7 (Conv2D)            (None, 13, 16, 128)       147584    \n",
      "_________________________________________________________________\n",
      "batch_normalization_7 (Batch (None, 13, 16, 128)       512       \n",
      "_________________________________________________________________\n",
      "activation_7 (Activation)    (None, 13, 16, 128)       0         \n",
      "_________________________________________________________________\n",
      "max_pooling2d_3 (MaxPooling2 (None, 7, 8, 128)         0         \n",
      "_________________________________________________________________\n",
      "dropout_3 (Dropout)          (None, 7, 8, 128)         0         \n",
      "_________________________________________________________________\n",
      "conv2d_8 (Conv2D)            (None, 7, 8, 256)         295168    \n",
      "_________________________________________________________________\n",
      "batch_normalization_8 (Batch (None, 7, 8, 256)         1024      \n",
      "_________________________________________________________________\n",
      "activation_8 (Activation)    (None, 7, 8, 256)         0         \n",
      "_________________________________________________________________\n",
      "conv2d_9 (Conv2D)            (None, 7, 8, 256)         590080    \n",
      "_________________________________________________________________\n",
      "batch_normalization_9 (Batch (None, 7, 8, 256)         1024      \n",
      "_________________________________________________________________\n",
      "activation_9 (Activation)    (None, 7, 8, 256)         0         \n",
      "_________________________________________________________________\n",
      "spatial_pyramid_pooling2d (S (None, 15, 256)           0         \n",
      "_________________________________________________________________\n",
      "reshape (Reshape)            (None, 3840)              0         \n",
      "_________________________________________________________________\n",
      "cnn14_fcn (Dense)            (None, 256)               983296    \n",
      "_________________________________________________________________\n",
      "dense (Dense)                (None, 8)                 2056      \n",
      "=================================================================\n",
      "Total params: 2,167,800\n",
      "Trainable params: 2,165,816\n",
      "Non-trainable params: 1,984\n",
      "_________________________________________________________________\n",
      "Epoch 1/200\n",
      "4239/4242 [============================>.] - ETA: 0s - loss: 1.7623 - accuracy: 0.3281\n",
      "Epoch 00001: val_loss improved from inf to 1.62680, saving model to /home/ys587/__Data/__whistle/__whislte_30_species/__fit_result_species/20210225_110837/STAR2000/epoch_01_valloss_1.6268_valacc_0.3780.hdf5\n",
      "4242/4242 [==============================] - 66s 16ms/step - loss: 1.7622 - accuracy: 0.3282 - val_loss: 1.6268 - val_accuracy: 0.3780\n",
      "Epoch 2/200\n",
      "4239/4242 [============================>.] - ETA: 0s - loss: 1.4560 - accuracy: 0.4638\n",
      "Epoch 00002: val_loss improved from 1.62680 to 1.38338, saving model to /home/ys587/__Data/__whistle/__whislte_30_species/__fit_result_species/20210225_110837/STAR2000/epoch_02_valloss_1.3834_valacc_0.4849.hdf5\n",
      "4242/4242 [==============================] - 66s 15ms/step - loss: 1.4560 - accuracy: 0.4639 - val_loss: 1.3834 - val_accuracy: 0.4849\n",
      "Epoch 3/200\n",
      "4239/4242 [============================>.] - ETA: 0s - loss: 1.3236 - accuracy: 0.5201\n",
      "Epoch 00003: val_loss improved from 1.38338 to 1.34121, saving model to /home/ys587/__Data/__whistle/__whislte_30_species/__fit_result_species/20210225_110837/STAR2000/epoch_03_valloss_1.3412_valacc_0.4946.hdf5\n",
      "4242/4242 [==============================] - 66s 15ms/step - loss: 1.3236 - accuracy: 0.5201 - val_loss: 1.3412 - val_accuracy: 0.4946\n",
      "Epoch 4/200\n",
      "4241/4242 [============================>.] - ETA: 0s - loss: 1.2354 - accuracy: 0.5544\n",
      "Epoch 00004: val_loss improved from 1.34121 to 1.27843, saving model to /home/ys587/__Data/__whistle/__whislte_30_species/__fit_result_species/20210225_110837/STAR2000/epoch_04_valloss_1.2784_valacc_0.5369.hdf5\n",
      "4242/4242 [==============================] - 65s 15ms/step - loss: 1.2354 - accuracy: 0.5544 - val_loss: 1.2784 - val_accuracy: 0.5369\n",
      "Epoch 5/200\n",
      "4240/4242 [============================>.] - ETA: 0s - loss: 1.1736 - accuracy: 0.5773\n",
      "Epoch 00005: val_loss improved from 1.27843 to 1.15413, saving model to /home/ys587/__Data/__whistle/__whislte_30_species/__fit_result_species/20210225_110837/STAR2000/epoch_05_valloss_1.1541_valacc_0.5676.hdf5\n",
      "4242/4242 [==============================] - 65s 15ms/step - loss: 1.1736 - accuracy: 0.5773 - val_loss: 1.1541 - val_accuracy: 0.5676\n",
      "Epoch 6/200\n",
      "4239/4242 [============================>.] - ETA: 0s - loss: 1.1170 - accuracy: 0.5970\n",
      "Epoch 00006: val_loss improved from 1.15413 to 1.12743, saving model to /home/ys587/__Data/__whistle/__whislte_30_species/__fit_result_species/20210225_110837/STAR2000/epoch_06_valloss_1.1274_valacc_0.5792.hdf5\n",
      "4242/4242 [==============================] - 65s 15ms/step - loss: 1.1171 - accuracy: 0.5970 - val_loss: 1.1274 - val_accuracy: 0.5792\n",
      "Epoch 7/200\n",
      "4241/4242 [============================>.] - ETA: 0s - loss: 1.0729 - accuracy: 0.6132\n",
      "Epoch 00007: val_loss improved from 1.12743 to 1.09482, saving model to /home/ys587/__Data/__whistle/__whislte_30_species/__fit_result_species/20210225_110837/STAR2000/epoch_07_valloss_1.0948_valacc_0.5933.hdf5\n",
      "4242/4242 [==============================] - 66s 15ms/step - loss: 1.0730 - accuracy: 0.6132 - val_loss: 1.0948 - val_accuracy: 0.5933\n",
      "Epoch 8/200\n",
      "4240/4242 [============================>.] - ETA: 0s - loss: 1.0346 - accuracy: 0.6272\n",
      "Epoch 00008: val_loss did not improve from 1.09482\n",
      "4242/4242 [==============================] - 65s 15ms/step - loss: 1.0345 - accuracy: 0.6272 - val_loss: 1.1925 - val_accuracy: 0.5583\n",
      "Epoch 9/200\n",
      "4240/4242 [============================>.] - ETA: 0s - loss: 0.9977 - accuracy: 0.6386\n",
      "Epoch 00009: val_loss improved from 1.09482 to 0.97426, saving model to /home/ys587/__Data/__whistle/__whislte_30_species/__fit_result_species/20210225_110837/STAR2000/epoch_09_valloss_0.9743_valacc_0.6402.hdf5\n",
      "4242/4242 [==============================] - 65s 15ms/step - loss: 0.9976 - accuracy: 0.6387 - val_loss: 0.9743 - val_accuracy: 0.6402\n",
      "Epoch 10/200\n",
      "4240/4242 [============================>.] - ETA: 0s - loss: 0.9638 - accuracy: 0.6513\n",
      "Epoch 00010: val_loss improved from 0.97426 to 0.92122, saving model to /home/ys587/__Data/__whistle/__whislte_30_species/__fit_result_species/20210225_110837/STAR2000/epoch_10_valloss_0.9212_valacc_0.6621.hdf5\n",
      "4242/4242 [==============================] - 66s 15ms/step - loss: 0.9637 - accuracy: 0.6513 - val_loss: 0.9212 - val_accuracy: 0.6621\n",
      "Epoch 11/200\n",
      "4240/4242 [============================>.] - ETA: 0s - loss: 0.9357 - accuracy: 0.6608\n",
      "Epoch 00011: val_loss did not improve from 0.92122\n",
      "4242/4242 [==============================] - 65s 15ms/step - loss: 0.9360 - accuracy: 0.6608 - val_loss: 1.0835 - val_accuracy: 0.6064\n",
      "Epoch 12/200\n",
      "4241/4242 [============================>.] - ETA: 0s - loss: 0.9031 - accuracy: 0.6724\n",
      "Epoch 00012: val_loss did not improve from 0.92122\n",
      "4242/4242 [==============================] - 65s 15ms/step - loss: 0.9031 - accuracy: 0.6724 - val_loss: 1.0152 - val_accuracy: 0.6353\n",
      "Epoch 13/200\n",
      "4242/4242 [==============================] - ETA: 0s - loss: 0.8754 - accuracy: 0.6810\n",
      "Epoch 00013: val_loss improved from 0.92122 to 0.89864, saving model to /home/ys587/__Data/__whistle/__whislte_30_species/__fit_result_species/20210225_110837/STAR2000/epoch_13_valloss_0.8986_valacc_0.6670.hdf5\n",
      "4242/4242 [==============================] - 66s 15ms/step - loss: 0.8754 - accuracy: 0.6810 - val_loss: 0.8986 - val_accuracy: 0.6670\n",
      "Epoch 14/200\n",
      "4241/4242 [============================>.] - ETA: 0s - loss: 0.8467 - accuracy: 0.6926\n",
      "Epoch 00014: val_loss improved from 0.89864 to 0.88093, saving model to /home/ys587/__Data/__whistle/__whislte_30_species/__fit_result_species/20210225_110837/STAR2000/epoch_14_valloss_0.8809_valacc_0.6795.hdf5\n",
      "4242/4242 [==============================] - 64s 15ms/step - loss: 0.8466 - accuracy: 0.6926 - val_loss: 0.8809 - val_accuracy: 0.6795\n",
      "Epoch 15/200\n",
      "4242/4242 [==============================] - ETA: 0s - loss: 0.8233 - accuracy: 0.6971\n",
      "Epoch 00015: val_loss did not improve from 0.88093\n",
      "4242/4242 [==============================] - 63s 15ms/step - loss: 0.8233 - accuracy: 0.6971 - val_loss: 0.8812 - val_accuracy: 0.6759\n",
      "Epoch 16/200\n",
      "4241/4242 [============================>.] - ETA: 0s - loss: 0.7999 - accuracy: 0.7074\n",
      "Epoch 00016: val_loss did not improve from 0.88093\n",
      "4242/4242 [==============================] - 63s 15ms/step - loss: 0.7999 - accuracy: 0.7074 - val_loss: 0.9045 - val_accuracy: 0.6652\n",
      "Epoch 17/200\n",
      "4239/4242 [============================>.] - ETA: 0s - loss: 0.7722 - accuracy: 0.7171\n",
      "Epoch 00017: val_loss did not improve from 0.88093\n",
      "4242/4242 [==============================] - 63s 15ms/step - loss: 0.7722 - accuracy: 0.7171 - val_loss: 1.0635 - val_accuracy: 0.6112\n",
      "Epoch 18/200\n",
      "4240/4242 [============================>.] - ETA: 0s - loss: 0.7505 - accuracy: 0.7233\n",
      "Epoch 00018: val_loss improved from 0.88093 to 0.83765, saving model to /home/ys587/__Data/__whistle/__whislte_30_species/__fit_result_species/20210225_110837/STAR2000/epoch_18_valloss_0.8377_valacc_0.6943.hdf5\n",
      "4242/4242 [==============================] - 63s 15ms/step - loss: 0.7504 - accuracy: 0.7234 - val_loss: 0.8377 - val_accuracy: 0.6943\n",
      "Epoch 19/200\n",
      "4241/4242 [============================>.] - ETA: 0s - loss: 0.7301 - accuracy: 0.7300\n",
      "Epoch 00019: val_loss improved from 0.83765 to 0.83328, saving model to /home/ys587/__Data/__whistle/__whislte_30_species/__fit_result_species/20210225_110837/STAR2000/epoch_19_valloss_0.8333_valacc_0.6980.hdf5\n",
      "4242/4242 [==============================] - 63s 15ms/step - loss: 0.7301 - accuracy: 0.7300 - val_loss: 0.8333 - val_accuracy: 0.6980\n",
      "Epoch 20/200\n",
      "4240/4242 [============================>.] - ETA: 0s - loss: 0.7035 - accuracy: 0.7407\n",
      "Epoch 00020: val_loss did not improve from 0.83328\n",
      "4242/4242 [==============================] - 63s 15ms/step - loss: 0.7035 - accuracy: 0.7407 - val_loss: 0.9061 - val_accuracy: 0.6822\n",
      "Epoch 21/200\n",
      "4240/4242 [============================>.] - ETA: 0s - loss: 0.6861 - accuracy: 0.7463\n",
      "Epoch 00021: val_loss improved from 0.83328 to 0.82230, saving model to /home/ys587/__Data/__whistle/__whislte_30_species/__fit_result_species/20210225_110837/STAR2000/epoch_21_valloss_0.8223_valacc_0.6966.hdf5\n",
      "4242/4242 [==============================] - 64s 15ms/step - loss: 0.6861 - accuracy: 0.7462 - val_loss: 0.8223 - val_accuracy: 0.6966\n",
      "Epoch 22/200\n",
      "4241/4242 [============================>.] - ETA: 0s - loss: 0.6622 - accuracy: 0.7528\n",
      "Epoch 00022: val_loss improved from 0.82230 to 0.79464, saving model to /home/ys587/__Data/__whistle/__whislte_30_species/__fit_result_species/20210225_110837/STAR2000/epoch_22_valloss_0.7946_valacc_0.7079.hdf5\n",
      "4242/4242 [==============================] - 63s 15ms/step - loss: 0.6622 - accuracy: 0.7528 - val_loss: 0.7946 - val_accuracy: 0.7079\n",
      "Epoch 23/200\n",
      "4241/4242 [============================>.] - ETA: 0s - loss: 0.6443 - accuracy: 0.7596\n",
      "Epoch 00023: val_loss did not improve from 0.79464\n",
      "4242/4242 [==============================] - 63s 15ms/step - loss: 0.6444 - accuracy: 0.7596 - val_loss: 0.8301 - val_accuracy: 0.6974\n",
      "Epoch 24/200\n",
      "4239/4242 [============================>.] - ETA: 0s - loss: 0.6240 - accuracy: 0.7675\n",
      "Epoch 00024: val_loss did not improve from 0.79464\n",
      "4242/4242 [==============================] - 64s 15ms/step - loss: 0.6240 - accuracy: 0.7674 - val_loss: 0.8139 - val_accuracy: 0.7066\n",
      "Epoch 25/200\n",
      "4241/4242 [============================>.] - ETA: 0s - loss: 0.6094 - accuracy: 0.7719\n",
      "Epoch 00025: val_loss did not improve from 0.79464\n",
      "4242/4242 [==============================] - 64s 15ms/step - loss: 0.6094 - accuracy: 0.7719 - val_loss: 0.8173 - val_accuracy: 0.7052\n",
      "Epoch 26/200\n",
      "4239/4242 [============================>.] - ETA: 0s - loss: 0.5917 - accuracy: 0.7780\n",
      "Epoch 00026: val_loss did not improve from 0.79464\n",
      "4242/4242 [==============================] - 64s 15ms/step - loss: 0.5918 - accuracy: 0.7781 - val_loss: 0.8292 - val_accuracy: 0.7070\n",
      "Epoch 27/200\n",
      "4241/4242 [============================>.] - ETA: 0s - loss: 0.5690 - accuracy: 0.7872\n",
      "Epoch 00027: val_loss did not improve from 0.79464\n",
      "4242/4242 [==============================] - 64s 15ms/step - loss: 0.5691 - accuracy: 0.7872 - val_loss: 0.9068 - val_accuracy: 0.6807\n",
      "Epoch 28/200\n",
      "4239/4242 [============================>.] - ETA: 0s - loss: 0.5514 - accuracy: 0.7926\n",
      "Epoch 00028: val_loss did not improve from 0.79464\n",
      "4242/4242 [==============================] - 64s 15ms/step - loss: 0.5512 - accuracy: 0.7927 - val_loss: 0.9067 - val_accuracy: 0.6819\n",
      "Epoch 29/200\n",
      "4240/4242 [============================>.] - ETA: 0s - loss: 0.5390 - accuracy: 0.7967\n",
      "Epoch 00029: val_loss did not improve from 0.79464\n",
      "4242/4242 [==============================] - 65s 15ms/step - loss: 0.5389 - accuracy: 0.7967 - val_loss: 0.8017 - val_accuracy: 0.7198\n",
      "Epoch 30/200\n",
      "4241/4242 [============================>.] - ETA: 0s - loss: 0.5200 - accuracy: 0.8027\n",
      "Epoch 00030: val_loss improved from 0.79464 to 0.75652, saving model to /home/ys587/__Data/__whistle/__whislte_30_species/__fit_result_species/20210225_110837/STAR2000/epoch_30_valloss_0.7565_valacc_0.7338.hdf5\n",
      "4242/4242 [==============================] - 66s 16ms/step - loss: 0.5200 - accuracy: 0.8027 - val_loss: 0.7565 - val_accuracy: 0.7338\n",
      "Epoch 31/200\n",
      "4241/4242 [============================>.] - ETA: 0s - loss: 0.5057 - accuracy: 0.8097\n",
      "Epoch 00031: val_loss improved from 0.75652 to 0.74540, saving model to /home/ys587/__Data/__whistle/__whislte_30_species/__fit_result_species/20210225_110837/STAR2000/epoch_31_valloss_0.7454_valacc_0.7356.hdf5\n",
      "4242/4242 [==============================] - 66s 16ms/step - loss: 0.5057 - accuracy: 0.8097 - val_loss: 0.7454 - val_accuracy: 0.7356\n",
      "Epoch 32/200\n",
      "4241/4242 [============================>.] - ETA: 0s - loss: 0.4878 - accuracy: 0.8145\n",
      "Epoch 00032: val_loss did not improve from 0.74540\n",
      "4242/4242 [==============================] - 66s 15ms/step - loss: 0.4878 - accuracy: 0.8146 - val_loss: 0.7558 - val_accuracy: 0.7352\n",
      "Epoch 33/200\n",
      "4240/4242 [============================>.] - ETA: 0s - loss: 0.4725 - accuracy: 0.8201\n",
      "Epoch 00033: val_loss did not improve from 0.74540\n",
      "4242/4242 [==============================] - 66s 16ms/step - loss: 0.4724 - accuracy: 0.8201 - val_loss: 0.7661 - val_accuracy: 0.7324\n",
      "Epoch 34/200\n",
      "4241/4242 [============================>.] - ETA: 0s - loss: 0.4624 - accuracy: 0.8242\n",
      "Epoch 00034: val_loss did not improve from 0.74540\n",
      "4242/4242 [==============================] - 66s 15ms/step - loss: 0.4625 - accuracy: 0.8242 - val_loss: 0.8915 - val_accuracy: 0.7059\n",
      "Epoch 35/200\n",
      "4242/4242 [==============================] - ETA: 0s - loss: 0.4497 - accuracy: 0.8290\n",
      "Epoch 00035: val_loss did not improve from 0.74540\n",
      "4242/4242 [==============================] - 65s 15ms/step - loss: 0.4497 - accuracy: 0.8290 - val_loss: 0.7673 - val_accuracy: 0.7381\n",
      "Epoch 36/200\n",
      "4241/4242 [============================>.] - ETA: 0s - loss: 0.4346 - accuracy: 0.8336\n",
      "Epoch 00036: val_loss did not improve from 0.74540\n",
      "4242/4242 [==============================] - 66s 15ms/step - loss: 0.4346 - accuracy: 0.8336 - val_loss: 0.7739 - val_accuracy: 0.7388\n",
      "Epoch 37/200\n",
      "4240/4242 [============================>.] - ETA: 0s - loss: 0.4237 - accuracy: 0.8373\n",
      "Epoch 00037: val_loss improved from 0.74540 to 0.73630, saving model to /home/ys587/__Data/__whistle/__whislte_30_species/__fit_result_species/20210225_110837/STAR2000/epoch_37_valloss_0.7363_valacc_0.7508.hdf5\n",
      "4242/4242 [==============================] - 66s 16ms/step - loss: 0.4237 - accuracy: 0.8373 - val_loss: 0.7363 - val_accuracy: 0.7508\n",
      "Epoch 38/200\n",
      "4241/4242 [============================>.] - ETA: 0s - loss: 0.4098 - accuracy: 0.8427\n",
      "Epoch 00038: val_loss did not improve from 0.73630\n",
      "4242/4242 [==============================] - 66s 15ms/step - loss: 0.4098 - accuracy: 0.8426 - val_loss: 0.8037 - val_accuracy: 0.7327\n",
      "Epoch 39/200\n",
      "4240/4242 [============================>.] - ETA: 0s - loss: 0.3940 - accuracy: 0.8490\n",
      "Epoch 00039: val_loss did not improve from 0.73630\n",
      "4242/4242 [==============================] - 66s 15ms/step - loss: 0.3941 - accuracy: 0.8490 - val_loss: 0.8586 - val_accuracy: 0.7212\n",
      "Epoch 40/200\n",
      "4241/4242 [============================>.] - ETA: 0s - loss: 0.3867 - accuracy: 0.8516\n",
      "Epoch 00040: val_loss did not improve from 0.73630\n",
      "4242/4242 [==============================] - 66s 15ms/step - loss: 0.3867 - accuracy: 0.8516 - val_loss: 0.7587 - val_accuracy: 0.7424\n",
      "Epoch 41/200\n",
      "4239/4242 [============================>.] - ETA: 0s - loss: 0.3758 - accuracy: 0.8549\n",
      "Epoch 00041: val_loss did not improve from 0.73630\n",
      "4242/4242 [==============================] - 66s 15ms/step - loss: 0.3760 - accuracy: 0.8549 - val_loss: 0.7840 - val_accuracy: 0.7356\n",
      "Epoch 42/200\n",
      "4241/4242 [============================>.] - ETA: 0s - loss: 0.3657 - accuracy: 0.8597\n",
      "Epoch 00042: val_loss did not improve from 0.73630\n",
      "4242/4242 [==============================] - 65s 15ms/step - loss: 0.3658 - accuracy: 0.8597 - val_loss: 0.7398 - val_accuracy: 0.7508\n",
      "Epoch 43/200\n",
      "4241/4242 [============================>.] - ETA: 0s - loss: 0.3515 - accuracy: 0.8632\n",
      "Epoch 00043: val_loss did not improve from 0.73630\n",
      "4242/4242 [==============================] - 65s 15ms/step - loss: 0.3515 - accuracy: 0.8632 - val_loss: 0.7749 - val_accuracy: 0.7437\n",
      "Epoch 44/200\n",
      "4240/4242 [============================>.] - ETA: 0s - loss: 0.3406 - accuracy: 0.8689\n",
      "Epoch 00044: val_loss did not improve from 0.73630\n",
      "4242/4242 [==============================] - 65s 15ms/step - loss: 0.3406 - accuracy: 0.8689 - val_loss: 0.7825 - val_accuracy: 0.7458\n",
      "Epoch 45/200\n",
      "4242/4242 [==============================] - ETA: 0s - loss: 0.3307 - accuracy: 0.8724\n",
      "Epoch 00045: val_loss did not improve from 0.73630\n",
      "4242/4242 [==============================] - 66s 15ms/step - loss: 0.3307 - accuracy: 0.8724 - val_loss: 0.8189 - val_accuracy: 0.7391\n",
      "Epoch 46/200\n",
      "4241/4242 [============================>.] - ETA: 0s - loss: 0.3258 - accuracy: 0.8760\n",
      "Epoch 00046: val_loss did not improve from 0.73630\n",
      "4242/4242 [==============================] - 65s 15ms/step - loss: 0.3258 - accuracy: 0.8760 - val_loss: 0.7723 - val_accuracy: 0.7496\n",
      "Epoch 47/200\n",
      "4240/4242 [============================>.] - ETA: 0s - loss: 0.3148 - accuracy: 0.8782\n",
      "Epoch 00047: val_loss did not improve from 0.73630\n",
      "4242/4242 [==============================] - 66s 16ms/step - loss: 0.3148 - accuracy: 0.8782 - val_loss: 0.7809 - val_accuracy: 0.7560\n",
      "Epoch 48/200\n",
      "4242/4242 [==============================] - ETA: 0s - loss: 0.3076 - accuracy: 0.8805\n",
      "Epoch 00048: val_loss did not improve from 0.73630\n",
      "4242/4242 [==============================] - 66s 16ms/step - loss: 0.3076 - accuracy: 0.8805 - val_loss: 0.8048 - val_accuracy: 0.7423\n",
      "Epoch 49/200\n",
      "4239/4242 [============================>.] - ETA: 0s - loss: 0.2900 - accuracy: 0.8871\n",
      "Epoch 00049: val_loss did not improve from 0.73630\n",
      "4242/4242 [==============================] - 66s 16ms/step - loss: 0.2900 - accuracy: 0.8871 - val_loss: 0.8815 - val_accuracy: 0.7287\n",
      "Epoch 50/200\n",
      "4241/4242 [============================>.] - ETA: 0s - loss: 0.2899 - accuracy: 0.8872\n",
      "Epoch 00050: val_loss did not improve from 0.73630\n",
      "4242/4242 [==============================] - 65s 15ms/step - loss: 0.2899 - accuracy: 0.8872 - val_loss: 0.8400 - val_accuracy: 0.7433\n",
      "Epoch 51/200\n",
      "4240/4242 [============================>.] - ETA: 0s - loss: 0.2781 - accuracy: 0.8921\n",
      "Epoch 00051: val_loss did not improve from 0.73630\n",
      "4242/4242 [==============================] - 66s 15ms/step - loss: 0.2781 - accuracy: 0.8921 - val_loss: 0.8075 - val_accuracy: 0.7543\n",
      "Epoch 52/200\n",
      "4241/4242 [============================>.] - ETA: 0s - loss: 0.2715 - accuracy: 0.8929\n",
      "Epoch 00052: val_loss did not improve from 0.73630\n",
      "4242/4242 [==============================] - 66s 16ms/step - loss: 0.2715 - accuracy: 0.8929 - val_loss: 0.9090 - val_accuracy: 0.7250\n",
      "Epoch 53/200\n",
      "4241/4242 [============================>.] - ETA: 0s - loss: 0.2632 - accuracy: 0.8975\n",
      "Epoch 00053: val_loss did not improve from 0.73630\n",
      "4242/4242 [==============================] - 66s 15ms/step - loss: 0.2632 - accuracy: 0.8975 - val_loss: 0.9283 - val_accuracy: 0.7158\n",
      "Epoch 54/200\n",
      "4242/4242 [==============================] - ETA: 0s - loss: 0.2586 - accuracy: 0.8988\n",
      "Epoch 00054: val_loss did not improve from 0.73630\n",
      "4242/4242 [==============================] - 66s 16ms/step - loss: 0.2586 - accuracy: 0.8988 - val_loss: 0.8282 - val_accuracy: 0.7537\n",
      "Epoch 55/200\n",
      "4242/4242 [==============================] - ETA: 0s - loss: 0.2502 - accuracy: 0.9021\n",
      "Epoch 00055: val_loss did not improve from 0.73630\n",
      "4242/4242 [==============================] - 66s 15ms/step - loss: 0.2502 - accuracy: 0.9021 - val_loss: 0.8131 - val_accuracy: 0.7584\n",
      "Epoch 56/200\n",
      "4240/4242 [============================>.] - ETA: 0s - loss: 0.2437 - accuracy: 0.9039\n",
      "Epoch 00056: val_loss did not improve from 0.73630\n",
      "4242/4242 [==============================] - 66s 15ms/step - loss: 0.2437 - accuracy: 0.9039 - val_loss: 0.9143 - val_accuracy: 0.7380\n",
      "Epoch 57/200\n",
      "4242/4242 [==============================] - ETA: 0s - loss: 0.2344 - accuracy: 0.9085\n",
      "Epoch 00057: val_loss did not improve from 0.73630\n",
      "4242/4242 [==============================] - 66s 15ms/step - loss: 0.2344 - accuracy: 0.9085 - val_loss: 0.8315 - val_accuracy: 0.7542\n",
      "Epoch 00057: early stopping\n"
     ]
    }
   ],
   "source": [
    "# model = model_cnn14_attention_multi(dim_time, dim_freq, num_species, model_type='feature_level_attention', conv_dim=conv_dim, pool_size=pool_size, pool_stride=pool_stride, hidden_units=hidden_units, l2_regu=l2_regu, drop_rate=drop_rate)\n",
    "model = model_cnn14_spp(dim_time, dim_freq, num_species, conv_dim=conv_dim, pool_size=pool_size, pool_stride=pool_stride, hidden_units=hidden_units, l2_regu=l2_regu, drop_rate=drop_rate)\n",
    "loss = CategoricalCrossentropy()\n",
    "model.compile(optimizer=tf.keras.optimizers.Adam(learning_rate=learning_rate_fn), loss=loss, metrics=['accuracy'])\n",
    "# model.compile(optimizer=tf.keras.optimizers.Adam(learning_rate=learning_rate), loss=loss, metrics=['accuracy'])\n",
    "model.summary()\n",
    "\n",
    "# With classes\n",
    "# history = model.fit(fea_train, to_categorical(label_train), class_weight=class_weights, validation_split=0.3, batch_size=batch_size, epochs=num_epoch, callbacks=[EarlyStopping(patience=num_patience), ModelCheckpoint(filepath=os.path.join(fit_result_path, '{epoch:02d}-{val_loss:.4f}.hdf5'), verbose=1, monitor=\"val_loss\", save_best_only=True)])\n",
    "# history = model.fit(train_generator, validation_data=validate_generator, class_weight=class_weights, epochs=num_epoch, callbacks=[EarlyStopping(patience=num_patience, monitor='val_loss', mode='min', verbose=1), TensorBoard(log_dir=fit_result_path1), ModelCheckpoint(filepath=os.path.join(fit_result_path1, '{epoch:02d}-{val_loss:.4f}.hdf5'), verbose=1, monitor=\"val_loss\", save_best_only=True)])\n",
    "history = model.fit(train_generator, validation_data=validate_generator, class_weight=class_weights, epochs=num_epoch, callbacks=[EarlyStopping(patience=num_patience, monitor='val_loss', mode='min', verbose=1), TensorBoard(log_dir=fit_result_path2), ModelCheckpoint(filepath=os.path.join(fit_result_path2, 'epoch_{epoch:02d}_valloss_{val_loss:.4f}_valacc_{val_accuracy:.4f}.hdf5' ), verbose=1, monitor=\"val_loss\", save_best_only=True)])"
   ]
  },
  {
   "cell_type": "code",
   "execution_count": 34,
   "metadata": {
    "scrolled": true
   },
   "outputs": [
    {
     "name": "stdout",
     "output_type": "stream",
     "text": [
      "Model: \"model\"\n",
      "_________________________________________________________________\n",
      "Layer (type)                 Output Shape              Param #   \n",
      "=================================================================\n",
      "input (InputLayer)           [(None, 100, 128, 1)]     0         \n",
      "_________________________________________________________________\n",
      "conv2d (Conv2D)              (None, 100, 128, 16)      160       \n",
      "_________________________________________________________________\n",
      "batch_normalization (BatchNo (None, 100, 128, 16)      64        \n",
      "_________________________________________________________________\n",
      "activation (Activation)      (None, 100, 128, 16)      0         \n",
      "_________________________________________________________________\n",
      "conv2d_1 (Conv2D)            (None, 100, 128, 16)      2320      \n",
      "_________________________________________________________________\n",
      "batch_normalization_1 (Batch (None, 100, 128, 16)      64        \n",
      "_________________________________________________________________\n",
      "activation_1 (Activation)    (None, 100, 128, 16)      0         \n",
      "_________________________________________________________________\n",
      "max_pooling2d (MaxPooling2D) (None, 50, 64, 16)        0         \n",
      "_________________________________________________________________\n",
      "dropout (Dropout)            (None, 50, 64, 16)        0         \n",
      "_________________________________________________________________\n",
      "conv2d_2 (Conv2D)            (None, 50, 64, 32)        4640      \n",
      "_________________________________________________________________\n",
      "batch_normalization_2 (Batch (None, 50, 64, 32)        128       \n",
      "_________________________________________________________________\n",
      "activation_2 (Activation)    (None, 50, 64, 32)        0         \n",
      "_________________________________________________________________\n",
      "conv2d_3 (Conv2D)            (None, 50, 64, 32)        9248      \n",
      "_________________________________________________________________\n",
      "batch_normalization_3 (Batch (None, 50, 64, 32)        128       \n",
      "_________________________________________________________________\n",
      "activation_3 (Activation)    (None, 50, 64, 32)        0         \n",
      "_________________________________________________________________\n",
      "max_pooling2d_1 (MaxPooling2 (None, 25, 32, 32)        0         \n",
      "_________________________________________________________________\n",
      "dropout_1 (Dropout)          (None, 25, 32, 32)        0         \n",
      "_________________________________________________________________\n",
      "conv2d_4 (Conv2D)            (None, 25, 32, 64)        18496     \n",
      "_________________________________________________________________\n",
      "batch_normalization_4 (Batch (None, 25, 32, 64)        256       \n",
      "_________________________________________________________________\n",
      "activation_4 (Activation)    (None, 25, 32, 64)        0         \n",
      "_________________________________________________________________\n",
      "conv2d_5 (Conv2D)            (None, 25, 32, 64)        36928     \n",
      "_________________________________________________________________\n",
      "batch_normalization_5 (Batch (None, 25, 32, 64)        256       \n",
      "_________________________________________________________________\n",
      "activation_5 (Activation)    (None, 25, 32, 64)        0         \n",
      "_________________________________________________________________\n",
      "max_pooling2d_2 (MaxPooling2 (None, 13, 16, 64)        0         \n",
      "_________________________________________________________________\n",
      "dropout_2 (Dropout)          (None, 13, 16, 64)        0         \n",
      "_________________________________________________________________\n",
      "conv2d_6 (Conv2D)            (None, 13, 16, 128)       73856     \n",
      "_________________________________________________________________\n",
      "batch_normalization_6 (Batch (None, 13, 16, 128)       512       \n",
      "_________________________________________________________________\n",
      "activation_6 (Activation)    (None, 13, 16, 128)       0         \n",
      "_________________________________________________________________\n",
      "conv2d_7 (Conv2D)            (None, 13, 16, 128)       147584    \n",
      "_________________________________________________________________\n",
      "batch_normalization_7 (Batch (None, 13, 16, 128)       512       \n",
      "_________________________________________________________________\n",
      "activation_7 (Activation)    (None, 13, 16, 128)       0         \n",
      "_________________________________________________________________\n",
      "max_pooling2d_3 (MaxPooling2 (None, 7, 8, 128)         0         \n",
      "_________________________________________________________________\n",
      "dropout_3 (Dropout)          (None, 7, 8, 128)         0         \n",
      "_________________________________________________________________\n",
      "conv2d_8 (Conv2D)            (None, 7, 8, 256)         295168    \n",
      "_________________________________________________________________\n",
      "batch_normalization_8 (Batch (None, 7, 8, 256)         1024      \n",
      "_________________________________________________________________\n",
      "activation_8 (Activation)    (None, 7, 8, 256)         0         \n",
      "_________________________________________________________________\n",
      "conv2d_9 (Conv2D)            (None, 7, 8, 256)         590080    \n",
      "_________________________________________________________________\n",
      "batch_normalization_9 (Batch (None, 7, 8, 256)         1024      \n",
      "_________________________________________________________________\n",
      "activation_9 (Activation)    (None, 7, 8, 256)         0         \n",
      "_________________________________________________________________\n",
      "spatial_pyramid_pooling2d (S (None, 15, 256)           0         \n",
      "_________________________________________________________________\n",
      "reshape (Reshape)            (None, 3840)              0         \n",
      "_________________________________________________________________\n",
      "cnn14_fcn (Dense)            (None, 256)               983296    \n",
      "_________________________________________________________________\n",
      "dense (Dense)                (None, 8)                 2056      \n",
      "=================================================================\n",
      "Total params: 2,167,800\n",
      "Trainable params: 2,165,816\n",
      "Non-trainable params: 1,984\n",
      "_________________________________________________________________\n"
     ]
    }
   ],
   "source": [
    "model.summary()"
   ]
  },
  {
   "cell_type": "code",
   "execution_count": 35,
   "metadata": {},
   "outputs": [
    {
     "name": "stdout",
     "output_type": "stream",
     "text": [
      "Best model:0.7363\n",
      "/home/ys587/__Data/__whistle/__whislte_30_species/__fit_result_species/20210225_110837/STAR2000/epoch_37_valloss_0.7363_valacc_0.7508.hdf5\n"
     ]
    }
   ],
   "source": [
    "# fit_result_path1 = '/home/ys587/__Data/__whistle/__whislte_30_species/__fit_result_species/20210210_224527'\n",
    "the_best_model, _ = find_best_model(fit_result_path2, purge=False)"
   ]
  },
  {
   "cell_type": "code",
   "execution_count": 36,
   "metadata": {
    "scrolled": true
   },
   "outputs": [
    {
     "name": "stdout",
     "output_type": "stream",
     "text": [
      "Model: \"model\"\n",
      "_________________________________________________________________\n",
      "Layer (type)                 Output Shape              Param #   \n",
      "=================================================================\n",
      "input (InputLayer)           [(None, 100, 128, 1)]     0         \n",
      "_________________________________________________________________\n",
      "conv2d (Conv2D)              (None, 100, 128, 16)      160       \n",
      "_________________________________________________________________\n",
      "batch_normalization (BatchNo (None, 100, 128, 16)      64        \n",
      "_________________________________________________________________\n",
      "activation (Activation)      (None, 100, 128, 16)      0         \n",
      "_________________________________________________________________\n",
      "conv2d_1 (Conv2D)            (None, 100, 128, 16)      2320      \n",
      "_________________________________________________________________\n",
      "batch_normalization_1 (Batch (None, 100, 128, 16)      64        \n",
      "_________________________________________________________________\n",
      "activation_1 (Activation)    (None, 100, 128, 16)      0         \n",
      "_________________________________________________________________\n",
      "max_pooling2d (MaxPooling2D) (None, 50, 64, 16)        0         \n",
      "_________________________________________________________________\n",
      "dropout (Dropout)            (None, 50, 64, 16)        0         \n",
      "_________________________________________________________________\n",
      "conv2d_2 (Conv2D)            (None, 50, 64, 32)        4640      \n",
      "_________________________________________________________________\n",
      "batch_normalization_2 (Batch (None, 50, 64, 32)        128       \n",
      "_________________________________________________________________\n",
      "activation_2 (Activation)    (None, 50, 64, 32)        0         \n",
      "_________________________________________________________________\n",
      "conv2d_3 (Conv2D)            (None, 50, 64, 32)        9248      \n",
      "_________________________________________________________________\n",
      "batch_normalization_3 (Batch (None, 50, 64, 32)        128       \n",
      "_________________________________________________________________\n",
      "activation_3 (Activation)    (None, 50, 64, 32)        0         \n",
      "_________________________________________________________________\n",
      "max_pooling2d_1 (MaxPooling2 (None, 25, 32, 32)        0         \n",
      "_________________________________________________________________\n",
      "dropout_1 (Dropout)          (None, 25, 32, 32)        0         \n",
      "_________________________________________________________________\n",
      "conv2d_4 (Conv2D)            (None, 25, 32, 64)        18496     \n",
      "_________________________________________________________________\n",
      "batch_normalization_4 (Batch (None, 25, 32, 64)        256       \n",
      "_________________________________________________________________\n",
      "activation_4 (Activation)    (None, 25, 32, 64)        0         \n",
      "_________________________________________________________________\n",
      "conv2d_5 (Conv2D)            (None, 25, 32, 64)        36928     \n",
      "_________________________________________________________________\n",
      "batch_normalization_5 (Batch (None, 25, 32, 64)        256       \n",
      "_________________________________________________________________\n",
      "activation_5 (Activation)    (None, 25, 32, 64)        0         \n",
      "_________________________________________________________________\n",
      "max_pooling2d_2 (MaxPooling2 (None, 13, 16, 64)        0         \n",
      "_________________________________________________________________\n",
      "dropout_2 (Dropout)          (None, 13, 16, 64)        0         \n",
      "_________________________________________________________________\n",
      "conv2d_6 (Conv2D)            (None, 13, 16, 128)       73856     \n",
      "_________________________________________________________________\n",
      "batch_normalization_6 (Batch (None, 13, 16, 128)       512       \n",
      "_________________________________________________________________\n",
      "activation_6 (Activation)    (None, 13, 16, 128)       0         \n",
      "_________________________________________________________________\n",
      "conv2d_7 (Conv2D)            (None, 13, 16, 128)       147584    \n",
      "_________________________________________________________________\n",
      "batch_normalization_7 (Batch (None, 13, 16, 128)       512       \n",
      "_________________________________________________________________\n",
      "activation_7 (Activation)    (None, 13, 16, 128)       0         \n",
      "_________________________________________________________________\n",
      "max_pooling2d_3 (MaxPooling2 (None, 7, 8, 128)         0         \n",
      "_________________________________________________________________\n",
      "dropout_3 (Dropout)          (None, 7, 8, 128)         0         \n",
      "_________________________________________________________________\n",
      "conv2d_8 (Conv2D)            (None, 7, 8, 256)         295168    \n",
      "_________________________________________________________________\n",
      "batch_normalization_8 (Batch (None, 7, 8, 256)         1024      \n",
      "_________________________________________________________________\n",
      "activation_8 (Activation)    (None, 7, 8, 256)         0         \n",
      "_________________________________________________________________\n",
      "conv2d_9 (Conv2D)            (None, 7, 8, 256)         590080    \n",
      "_________________________________________________________________\n",
      "batch_normalization_9 (Batch (None, 7, 8, 256)         1024      \n",
      "_________________________________________________________________\n",
      "activation_9 (Activation)    (None, 7, 8, 256)         0         \n",
      "_________________________________________________________________\n",
      "spatial_pyramid_pooling2d (S (None, 15, 256)           0         \n",
      "_________________________________________________________________\n",
      "reshape (Reshape)            (None, 3840)              0         \n",
      "_________________________________________________________________\n",
      "cnn14_fcn (Dense)            (None, 256)               983296    \n",
      "_________________________________________________________________\n",
      "dense (Dense)                (None, 8)                 2056      \n",
      "=================================================================\n",
      "Total params: 2,167,800\n",
      "Trainable params: 2,165,816\n",
      "Non-trainable params: 1,984\n",
      "_________________________________________________________________\n"
     ]
    }
   ],
   "source": [
    "model = load_model(the_best_model)\n",
    "model.summary()"
   ]
  },
  {
   "cell_type": "code",
   "execution_count": 37,
   "metadata": {},
   "outputs": [],
   "source": [
    "label_pred = model.predict(fea_test)\n",
    "# label_pred = model.predict(test_generator)"
   ]
  },
  {
   "cell_type": "code",
   "execution_count": 38,
   "metadata": {},
   "outputs": [],
   "source": [
    "np.set_printoptions(linewidth=200, precision=2, suppress=True)"
   ]
  },
  {
   "cell_type": "code",
   "execution_count": 39,
   "metadata": {},
   "outputs": [
    {
     "name": "stdout",
     "output_type": "stream",
     "text": [
      "Confusion matrix:\n",
      "['BD', 'CD', 'STR', 'SPT', 'SPIN', 'PLT', 'RT', 'FKW']\n",
      "\n",
      "[[  41   14    8   25    5    6   17    5]\n",
      " [ 415 2137  358  395  183  313  142   21]\n",
      " [ 205  278  185  284   38   91   49   10]\n",
      " [  57  435   11  252   17   50   15    8]\n",
      " [ 127   98   20  184   53    5    2    2]\n",
      " [   0    0    1    0    0   26    3    1]\n",
      " [  26    4    3    4    2   10   17   10]\n",
      " [   0    0    0    0    0    0    0    0]]\n",
      "\n",
      "[[0.34 0.12 0.07 0.21 0.04 0.05 0.14 0.04]\n",
      " [0.1  0.54 0.09 0.1  0.05 0.08 0.04 0.01]\n",
      " [0.18 0.24 0.16 0.25 0.03 0.08 0.04 0.01]\n",
      " [0.07 0.51 0.01 0.3  0.02 0.06 0.02 0.01]\n",
      " [0.26 0.2  0.04 0.37 0.11 0.01 0.   0.  ]\n",
      " [0.   0.   0.03 0.   0.   0.84 0.1  0.03]\n",
      " [0.34 0.05 0.04 0.05 0.03 0.13 0.22 0.13]\n",
      " [0.   0.   0.   0.   0.   0.   0.   0.  ]]\n"
     ]
    }
   ],
   "source": [
    "print(\"Confusion matrix:\")\n",
    "cm = confusion_matrix(label_test, np.argmax(label_pred, axis=1), labels=species_id)\n",
    "\n",
    "print(species_list)\n",
    "print('')\n",
    "print(cm)\n",
    "print('')\n",
    "\n",
    "cm2 = cm*1.0\n",
    "for ii in range(cm.shape[0]):\n",
    "    cm_row = cm[ii, :]*1.0\n",
    "\n",
    "    cm_row_sum = cm_row.sum()\n",
    "    if cm_row_sum != 0:\n",
    "        cm2[ii, :] = cm_row / cm_row_sum\n",
    "    else:\n",
    "        cm2[ii, :] = np.zeros(cm.shape[1])\n",
    "\n",
    "print(cm2)"
   ]
  },
  {
   "cell_type": "code",
   "execution_count": 40,
   "metadata": {},
   "outputs": [],
   "source": [
    "from sklearn.metrics import plot_confusion_matrix\n",
    "from sklearn.metrics._plot.confusion_matrix import ConfusionMatrixDisplay\n",
    "disp = ConfusionMatrixDisplay(confusion_matrix=cm, display_labels=species_list)\n",
    "disp2 = ConfusionMatrixDisplay(confusion_matrix=cm2, display_labels=species_list)"
   ]
  },
  {
   "cell_type": "code",
   "execution_count": 41,
   "metadata": {},
   "outputs": [
    {
     "data": {
      "text/plain": [
       "<sklearn.metrics._plot.confusion_matrix.ConfusionMatrixDisplay at 0x7f299543a940>"
      ]
     },
     "execution_count": 41,
     "metadata": {},
     "output_type": "execute_result"
    },
    {
     "data": {
      "image/png": "[encoded data removed]",
      "text/plain": [
       "<Figure size 1080x1080 with 2 Axes>"
      ]
     },
     "metadata": {
      "needs_background": "light"
     },
     "output_type": "display_data"
    }
   ],
   "source": [
    "fig, ax = plt.subplots(figsize=[15, 15])\n",
    "disp.plot(include_values=True,\n",
    "                     cmap='viridis', ax=ax, xticks_rotation='horizontal',\n",
    "                     values_format=None, colorbar=True)\n"
   ]
  },
  {
   "cell_type": "code",
   "execution_count": 42,
   "metadata": {},
   "outputs": [
    {
     "data": {
      "text/plain": [
       "<sklearn.metrics._plot.confusion_matrix.ConfusionMatrixDisplay at 0x7f299543aa00>"
      ]
     },
     "execution_count": 42,
     "metadata": {},
     "output_type": "execute_result"
    },
    {
     "data": {
      "image/png": "[encoded data removed]",
      "text/plain": [
       "<Figure size 1080x1080 with 2 Axes>"
      ]
     },
     "metadata": {
      "needs_background": "light"
     },
     "output_type": "display_data"
    }
   ],
   "source": [
    "fig, ax = plt.subplots(figsize=[15, 15])\n",
    "disp2.plot(include_values=True,\n",
    "                     cmap='viridis', ax=ax, xticks_rotation='horizontal',\n",
    "                     values_format='.2f', colorbar=True)"
   ]
  },
  {
   "cell_type": "code",
   "execution_count": null,
   "metadata": {},
   "outputs": [],
   "source": [
    "# from sklearn.metrics import classification_report\n",
    "# # >>> target_names = ['class 0', 'class 1', 'class 2']\n",
    "# print(classification_report(label_test, np.argmax(label_pred, axis=1), target_names=list(range(num_species))))"
   ]
  },
  {
   "cell_type": "markdown",
   "metadata": {},
   "source": [
    "## top k accuracy score"
   ]
  },
  {
   "cell_type": "code",
   "execution_count": 44,
   "metadata": {},
   "outputs": [],
   "source": [
    "from sklearn.metrics import top_k_accuracy_score"
   ]
  },
  {
   "cell_type": "code",
   "execution_count": 45,
   "metadata": {},
   "outputs": [
    {
     "name": "stdout",
     "output_type": "stream",
     "text": [
      "k=1:  \n",
      "0.40656868626274745\n",
      "k=2:  \n",
      "0.5805338932213557\n",
      "k=3:  \n",
      "0.7047090581883624\n",
      "k=4:  \n",
      "0.8113377324535093\n",
      "k=5:  \n",
      "0.8771745650869825\n",
      "k=6:  \n",
      "0.9286142771445711\n",
      "k=7:  \n",
      "0.9650569886022795\n",
      "k=8:  \n",
      "1.0\n"
     ]
    },
    {
     "name": "stderr",
     "output_type": "stream",
     "text": [
      "/home/ys587/miniconda3/envs/whistle_classifier/lib/python3.8/site-packages/sklearn/metrics/_ranking.py:1693: UndefinedMetricWarning: 'k' (8) greater than or equal to 'n_classes' (8) will result in a perfect score and is therefore meaningless.\n",
      "  warnings.warn(\n"
     ]
    }
   ],
   "source": [
    "for kk in range(1, num_species+1):\n",
    "    print('k='+str(kk)+':  ')\n",
    "    print(top_k_accuracy_score(label_test, label_pred, k=kk, labels=list(range(num_species))))"
   ]
  },
  {
   "cell_type": "markdown",
   "metadata": {},
   "source": [
    "## average_precision_score"
   ]
  },
  {
   "cell_type": "code",
   "execution_count": 46,
   "metadata": {},
   "outputs": [],
   "source": [
    "from sklearn.metrics import average_precision_score\n",
    "from tensorflow.keras.utils import to_categorical"
   ]
  },
  {
   "cell_type": "code",
   "execution_count": 47,
   "metadata": {},
   "outputs": [
    {
     "name": "stderr",
     "output_type": "stream",
     "text": [
      "/home/ys587/miniconda3/envs/whistle_classifier/lib/python3.8/site-packages/sklearn/metrics/_ranking.py:817: RuntimeWarning: invalid value encountered in true_divide\n",
      "  recall = tps / tps[-1]\n"
     ]
    },
    {
     "data": {
      "text/plain": [
       "nan"
      ]
     },
     "execution_count": 47,
     "metadata": {},
     "output_type": "execute_result"
    }
   ],
   "source": [
    "average_precision_score(to_categorical(label_test, num_classes=8), label_pred)"
   ]
  },
  {
   "cell_type": "code",
   "execution_count": 142,
   "metadata": {},
   "outputs": [
    {
     "data": {
      "text/plain": [
       "Counter({2.0: 372,\n",
       "         0.0: 1518,\n",
       "         7.0: 2007,\n",
       "         6.0: 440,\n",
       "         4.0: 405,\n",
       "         5.0: 292,\n",
       "         3.0: 482})"
      ]
     },
     "execution_count": 142,
     "metadata": {},
     "output_type": "execute_result"
    }
   ],
   "source": [
    "from collections import Counter\n",
    "Counter(label_test)"
   ]
  },
  {
   "cell_type": "code",
   "execution_count": null,
   "metadata": {},
   "outputs": [],
   "source": []
  },
  {
   "cell_type": "markdown",
   "metadata": {},
   "source": [
    "## STAR2003"
   ]
  },
  {
   "cell_type": "code",
   "execution_count": 49,
   "metadata": {},
   "outputs": [
    {
     "name": "stdout",
     "output_type": "stream",
     "text": [
      "STAR2003\n"
     ]
    }
   ],
   "source": [
    "ee = deployment[1]\n",
    "print(ee)"
   ]
  },
  {
   "cell_type": "code",
   "execution_count": 50,
   "metadata": {},
   "outputs": [],
   "source": [
    "# Training data\n",
    "fea_temp = np.load(os.path.join(feature_path, 'train_oswald_no_'+ee+'.npz'))\n",
    "fea_train = fea_temp['fea_train']\n",
    "label_train_list = fea_temp['label_train']\n",
    "del fea_temp"
   ]
  },
  {
   "cell_type": "code",
   "execution_count": 51,
   "metadata": {},
   "outputs": [],
   "source": [
    "label_train = np.zeros(len(label_train_list))\n",
    "for ii in range(len(label_train_list)):\n",
    "    label_train[ii] = species_dict[label_train_list[ii]]"
   ]
  },
  {
   "cell_type": "code",
   "execution_count": 52,
   "metadata": {},
   "outputs": [],
   "source": [
    "# Testing data\n",
    "fea_temp = np.load(os.path.join(feature_path, 'oswald_'+ee+'_orig.npz'))\n",
    "fea_test = fea_temp['feas_orig']\n",
    "label_test_list = fea_temp['labels_orig']\n",
    "\n",
    "fea_test = fea_test[:,:100,:]\n",
    "label_test = np.zeros(len(label_test_list))\n",
    "for ii in range(len(label_test_list)):\n",
    "    label_test[ii] = species_dict[label_test_list[ii]]"
   ]
  },
  {
   "cell_type": "code",
   "execution_count": 53,
   "metadata": {},
   "outputs": [],
   "source": [
    "fea_train = fea_train[:,:100,:]"
   ]
  },
  {
   "cell_type": "code",
   "execution_count": 54,
   "metadata": {},
   "outputs": [],
   "source": [
    "label_train = np.zeros(len(label_train_list))\n",
    "for ii in range(len(label_train_list)):\n",
    "    label_train[ii] = species_dict[label_train_list[ii]]"
   ]
  },
  {
   "cell_type": "code",
   "execution_count": 55,
   "metadata": {
    "scrolled": true
   },
   "outputs": [
    {
     "data": {
      "text/plain": [
       "Counter({'BD': 14412,\n",
       "         'CD': 24120,\n",
       "         'PLT': 14784,\n",
       "         'RT': 12008,\n",
       "         'SPIN': 11014,\n",
       "         'SPT': 18590,\n",
       "         'STR': 23280,\n",
       "         'FKW': 17460})"
      ]
     },
     "execution_count": 55,
     "metadata": {},
     "output_type": "execute_result"
    }
   ],
   "source": [
    "Counter(label_train_list)"
   ]
  },
  {
   "cell_type": "code",
   "execution_count": 56,
   "metadata": {},
   "outputs": [
    {
     "data": {
      "text/plain": [
       "Counter({0.0: 231, 1.0: 752, 7.0: 270, 4.0: 51, 3.0: 412, 2.0: 54})"
      ]
     },
     "execution_count": 56,
     "metadata": {},
     "output_type": "execute_result"
    }
   ],
   "source": [
    "Counter(label_test.tolist())"
   ]
  },
  {
   "cell_type": "code",
   "execution_count": 57,
   "metadata": {},
   "outputs": [],
   "source": [
    "fit_result_path2 = os.path.join(fit_result_path1, ee)\n",
    "if not os.path.exists(fit_result_path2):\n",
    "    makedirs(fit_result_path2)"
   ]
  },
  {
   "cell_type": "code",
   "execution_count": 58,
   "metadata": {},
   "outputs": [
    {
     "name": "stdout",
     "output_type": "stream",
     "text": [
      "feature train shape: (135668, 100, 128)\n",
      "feature test shape: (1770, 100, 128)\n",
      "label train shape: (135668,)\n",
      "label test shape: (1770,)\n",
      "dim_time: 100\n",
      "dim_freq: 128\n"
     ]
    }
   ],
   "source": [
    "print('feature train shape: '+str(fea_train.shape))\n",
    "print('feature test shape: '+str(fea_test.shape))\n",
    "print('label train shape: '+str(label_train.shape))\n",
    "print('label test shape: '+str(label_test.shape))\n",
    "\n",
    "dim_time = fea_train.shape[1]\n",
    "dim_freq = fea_train.shape[2]\n",
    "print('dim_time: '+str(dim_time))\n",
    "print('dim_freq: '+str(dim_freq))"
   ]
  },
  {
   "cell_type": "code",
   "execution_count": 59,
   "metadata": {},
   "outputs": [],
   "source": [
    "# shuffle features & labels\n",
    "fea_train, label_train = shuffle(fea_train, label_train, random_state=0)\n",
    "fea_test, label_test = shuffle(fea_test, label_test, random_state=0)"
   ]
  },
  {
   "cell_type": "code",
   "execution_count": 60,
   "metadata": {},
   "outputs": [],
   "source": [
    "# class weight\n",
    "weights = compute_class_weight(class_weight='balanced', classes=np.unique(label_train), y=label_train)\n",
    "\n",
    "class_weights = dict()\n",
    "for ii in range(num_species):\n",
    "    class_weights[ii] = weights[ii]"
   ]
  },
  {
   "cell_type": "code",
   "execution_count": 61,
   "metadata": {},
   "outputs": [],
   "source": [
    "fea_train = np.expand_dims(fea_train, axis=3)\n",
    "fea_test = np.expand_dims(fea_test, axis=3)"
   ]
  },
  {
   "cell_type": "code",
   "execution_count": 62,
   "metadata": {},
   "outputs": [],
   "source": [
    "fea_train, fea_validate, label_train, label_validate = train_test_split(fea_train, label_train, test_size=0.30, random_state=42)\n",
    "\n",
    "train_generator = DataGenerator(fea_train, label_train, batch_size=batch_size, num_classes=num_species)\n",
    "del fea_train\n",
    "validate_generator = DataGenerator(fea_validate, label_validate, batch_size=batch_size, num_classes=num_species)\n",
    "del fea_validate\n",
    "\n",
    "# test_generator = DataGenerator(fea_test, label_test, batch_size=batch_size, num_classes=num_species)\n"
   ]
  },
  {
   "cell_type": "markdown",
   "metadata": {},
   "source": [
    "### Training the model"
   ]
  },
  {
   "cell_type": "code",
   "execution_count": 63,
   "metadata": {
    "scrolled": true
   },
   "outputs": [
    {
     "name": "stdout",
     "output_type": "stream",
     "text": [
      "Epoch 1/200\n",
      "5933/5935 [============================>.] - ETA: 0s - loss: 1.7700 - accuracy: 0.3009\n",
      "Epoch 00001: val_loss improved from inf to 1.60587, saving model to /home/ys587/__Data/__whistle/__whislte_30_species/__fit_result_species/20210225_110837/STAR2003/epoch_01_valloss_1.6059_valacc_0.3556.hdf5\n",
      "5935/5935 [==============================] - 92s 15ms/step - loss: 1.7700 - accuracy: 0.3009 - val_loss: 1.6059 - val_accuracy: 0.3556\n",
      "Epoch 2/200\n",
      "5933/5935 [============================>.] - ETA: 0s - loss: 1.4184 - accuracy: 0.4607\n",
      "Epoch 00002: val_loss improved from 1.60587 to 1.56120, saving model to /home/ys587/__Data/__whistle/__whislte_30_species/__fit_result_species/20210225_110837/STAR2003/epoch_02_valloss_1.5612_valacc_0.4059.hdf5\n",
      "5935/5935 [==============================] - 91s 15ms/step - loss: 1.4184 - accuracy: 0.4607 - val_loss: 1.5612 - val_accuracy: 0.4059\n",
      "Epoch 3/200\n",
      "5932/5935 [============================>.] - ETA: 0s - loss: 1.2923 - accuracy: 0.5152\n",
      "Epoch 00003: val_loss improved from 1.56120 to 1.32470, saving model to /home/ys587/__Data/__whistle/__whislte_30_species/__fit_result_species/20210225_110837/STAR2003/epoch_03_valloss_1.3247_valacc_0.4907.hdf5\n",
      "5935/5935 [==============================] - 91s 15ms/step - loss: 1.2923 - accuracy: 0.5153 - val_loss: 1.3247 - val_accuracy: 0.4907\n",
      "Epoch 4/200\n",
      "5934/5935 [============================>.] - ETA: 0s - loss: 1.2062 - accuracy: 0.5505\n",
      "Epoch 00004: val_loss improved from 1.32470 to 1.24272, saving model to /home/ys587/__Data/__whistle/__whislte_30_species/__fit_result_species/20210225_110837/STAR2003/epoch_04_valloss_1.2427_valacc_0.5411.hdf5\n",
      "5935/5935 [==============================] - 91s 15ms/step - loss: 1.2062 - accuracy: 0.5505 - val_loss: 1.2427 - val_accuracy: 0.5411\n",
      "Epoch 5/200\n",
      "5934/5935 [============================>.] - ETA: 0s - loss: 1.1378 - accuracy: 0.5759\n",
      "Epoch 00005: val_loss improved from 1.24272 to 1.18678, saving model to /home/ys587/__Data/__whistle/__whislte_30_species/__fit_result_species/20210225_110837/STAR2003/epoch_05_valloss_1.1868_valacc_0.5508.hdf5\n",
      "5935/5935 [==============================] - 91s 15ms/step - loss: 1.1377 - accuracy: 0.5759 - val_loss: 1.1868 - val_accuracy: 0.5508\n",
      "Epoch 6/200\n",
      "5932/5935 [============================>.] - ETA: 0s - loss: 1.0824 - accuracy: 0.5980\n",
      "Epoch 00006: val_loss improved from 1.18678 to 1.08958, saving model to /home/ys587/__Data/__whistle/__whislte_30_species/__fit_result_species/20210225_110837/STAR2003/epoch_06_valloss_1.0896_valacc_0.5932.hdf5\n",
      "5935/5935 [==============================] - 91s 15ms/step - loss: 1.0824 - accuracy: 0.5981 - val_loss: 1.0896 - val_accuracy: 0.5932\n",
      "Epoch 7/200\n",
      "5935/5935 [==============================] - ETA: 0s - loss: 1.0384 - accuracy: 0.6140\n",
      "Epoch 00007: val_loss improved from 1.08958 to 1.03317, saving model to /home/ys587/__Data/__whistle/__whislte_30_species/__fit_result_species/20210225_110837/STAR2003/epoch_07_valloss_1.0332_valacc_0.6171.hdf5\n",
      "5935/5935 [==============================] - 91s 15ms/step - loss: 1.0384 - accuracy: 0.6140 - val_loss: 1.0332 - val_accuracy: 0.6171\n",
      "Epoch 8/200\n",
      "5933/5935 [============================>.] - ETA: 0s - loss: 0.9943 - accuracy: 0.6298\n",
      "Epoch 00008: val_loss improved from 1.03317 to 0.99372, saving model to /home/ys587/__Data/__whistle/__whislte_30_species/__fit_result_species/20210225_110837/STAR2003/epoch_08_valloss_0.9937_valacc_0.6335.hdf5\n",
      "5935/5935 [==============================] - 91s 15ms/step - loss: 0.9944 - accuracy: 0.6297 - val_loss: 0.9937 - val_accuracy: 0.6335\n",
      "Epoch 9/200\n",
      "5932/5935 [============================>.] - ETA: 0s - loss: 0.9582 - accuracy: 0.6420\n",
      "Epoch 00009: val_loss did not improve from 0.99372\n",
      "5935/5935 [==============================] - 91s 15ms/step - loss: 0.9582 - accuracy: 0.6420 - val_loss: 1.0640 - val_accuracy: 0.6026\n",
      "Epoch 10/200\n",
      "5932/5935 [============================>.] - ETA: 0s - loss: 0.9266 - accuracy: 0.6544\n",
      "Epoch 00010: val_loss improved from 0.99372 to 0.91802, saving model to /home/ys587/__Data/__whistle/__whislte_30_species/__fit_result_species/20210225_110837/STAR2003/epoch_10_valloss_0.9180_valacc_0.6604.hdf5\n",
      "5935/5935 [==============================] - 91s 15ms/step - loss: 0.9268 - accuracy: 0.6544 - val_loss: 0.9180 - val_accuracy: 0.6604\n",
      "Epoch 11/200\n",
      "5935/5935 [==============================] - ETA: 0s - loss: 0.8907 - accuracy: 0.6678\n",
      "Epoch 00011: val_loss did not improve from 0.91802\n",
      "5935/5935 [==============================] - 91s 15ms/step - loss: 0.8907 - accuracy: 0.6678 - val_loss: 0.9848 - val_accuracy: 0.6380\n",
      "Epoch 12/200\n",
      "5934/5935 [============================>.] - ETA: 0s - loss: 0.8626 - accuracy: 0.6775\n",
      "Epoch 00012: val_loss did not improve from 0.91802\n",
      "5935/5935 [==============================] - 92s 15ms/step - loss: 0.8626 - accuracy: 0.6775 - val_loss: 0.9707 - val_accuracy: 0.6471\n",
      "Epoch 13/200\n",
      "5935/5935 [==============================] - ETA: 0s - loss: 0.8350 - accuracy: 0.6877\n",
      "Epoch 00013: val_loss improved from 0.91802 to 0.85606, saving model to /home/ys587/__Data/__whistle/__whislte_30_species/__fit_result_species/20210225_110837/STAR2003/epoch_13_valloss_0.8561_valacc_0.6829.hdf5\n",
      "5935/5935 [==============================] - 91s 15ms/step - loss: 0.8350 - accuracy: 0.6877 - val_loss: 0.8561 - val_accuracy: 0.6829\n",
      "Epoch 14/200\n",
      "5934/5935 [============================>.] - ETA: 0s - loss: 0.8098 - accuracy: 0.6961\n",
      "Epoch 00014: val_loss did not improve from 0.85606\n",
      "5935/5935 [==============================] - 91s 15ms/step - loss: 0.8098 - accuracy: 0.6961 - val_loss: 0.8677 - val_accuracy: 0.6819\n",
      "Epoch 15/200\n",
      "5933/5935 [============================>.] - ETA: 0s - loss: 0.7854 - accuracy: 0.7035\n",
      "Epoch 00015: val_loss did not improve from 0.85606\n",
      "5935/5935 [==============================] - 91s 15ms/step - loss: 0.7854 - accuracy: 0.7035 - val_loss: 0.8948 - val_accuracy: 0.6701\n",
      "Epoch 16/200\n",
      "5934/5935 [============================>.] - ETA: 0s - loss: 0.7614 - accuracy: 0.7135\n",
      "Epoch 00016: val_loss did not improve from 0.85606\n",
      "5935/5935 [==============================] - 91s 15ms/step - loss: 0.7614 - accuracy: 0.7135 - val_loss: 0.8577 - val_accuracy: 0.6814\n",
      "Epoch 17/200\n",
      "5935/5935 [==============================] - ETA: 0s - loss: 0.7377 - accuracy: 0.7225\n",
      "Epoch 00017: val_loss improved from 0.85606 to 0.80311, saving model to /home/ys587/__Data/__whistle/__whislte_30_species/__fit_result_species/20210225_110837/STAR2003/epoch_17_valloss_0.8031_valacc_0.7044.hdf5\n",
      "5935/5935 [==============================] - 91s 15ms/step - loss: 0.7377 - accuracy: 0.7225 - val_loss: 0.8031 - val_accuracy: 0.7044\n",
      "Epoch 18/200\n",
      "5934/5935 [============================>.] - ETA: 0s - loss: 0.7156 - accuracy: 0.7303\n",
      "Epoch 00018: val_loss did not improve from 0.80311\n",
      "5935/5935 [==============================] - 91s 15ms/step - loss: 0.7156 - accuracy: 0.7303 - val_loss: 0.8324 - val_accuracy: 0.6911\n",
      "Epoch 19/200\n",
      "5933/5935 [============================>.] - ETA: 0s - loss: 0.6938 - accuracy: 0.7385\n",
      "Epoch 00019: val_loss did not improve from 0.80311\n",
      "5935/5935 [==============================] - 91s 15ms/step - loss: 0.6938 - accuracy: 0.7385 - val_loss: 0.8286 - val_accuracy: 0.6968\n",
      "Epoch 20/200\n",
      "5935/5935 [==============================] - ETA: 0s - loss: 0.6751 - accuracy: 0.7444\n",
      "Epoch 00020: val_loss did not improve from 0.80311\n",
      "5935/5935 [==============================] - 91s 15ms/step - loss: 0.6751 - accuracy: 0.7444 - val_loss: 0.8219 - val_accuracy: 0.6983\n",
      "Epoch 21/200\n",
      "5935/5935 [==============================] - ETA: 0s - loss: 0.6532 - accuracy: 0.7523\n",
      "Epoch 00021: val_loss improved from 0.80311 to 0.75334, saving model to /home/ys587/__Data/__whistle/__whislte_30_species/__fit_result_species/20210225_110837/STAR2003/epoch_21_valloss_0.7533_valacc_0.7245.hdf5\n",
      "5935/5935 [==============================] - 91s 15ms/step - loss: 0.6532 - accuracy: 0.7523 - val_loss: 0.7533 - val_accuracy: 0.7245\n",
      "Epoch 22/200\n",
      "5932/5935 [============================>.] - ETA: 0s - loss: 0.6351 - accuracy: 0.7584\n",
      "Epoch 00022: val_loss did not improve from 0.75334\n",
      "5935/5935 [==============================] - 91s 15ms/step - loss: 0.6352 - accuracy: 0.7583 - val_loss: 0.8358 - val_accuracy: 0.6946\n",
      "Epoch 23/200\n",
      "5933/5935 [============================>.] - ETA: 0s - loss: 0.6192 - accuracy: 0.7654\n",
      "Epoch 00023: val_loss did not improve from 0.75334\n",
      "5935/5935 [==============================] - 91s 15ms/step - loss: 0.6192 - accuracy: 0.7654 - val_loss: 0.7678 - val_accuracy: 0.7199\n",
      "Epoch 24/200\n",
      "5932/5935 [============================>.] - ETA: 0s - loss: 0.6029 - accuracy: 0.7725\n",
      "Epoch 00024: val_loss did not improve from 0.75334\n",
      "5935/5935 [==============================] - 91s 15ms/step - loss: 0.6030 - accuracy: 0.7725 - val_loss: 0.7799 - val_accuracy: 0.7159\n",
      "Epoch 25/200\n",
      "5935/5935 [==============================] - ETA: 0s - loss: 0.5854 - accuracy: 0.7780\n",
      "Epoch 00025: val_loss did not improve from 0.75334\n",
      "5935/5935 [==============================] - 91s 15ms/step - loss: 0.5854 - accuracy: 0.7780 - val_loss: 0.7651 - val_accuracy: 0.7221\n",
      "Epoch 26/200\n",
      "5932/5935 [============================>.] - ETA: 0s - loss: 0.5677 - accuracy: 0.7832\n",
      "Epoch 00026: val_loss did not improve from 0.75334\n",
      "5935/5935 [==============================] - 92s 15ms/step - loss: 0.5678 - accuracy: 0.7832 - val_loss: 0.8170 - val_accuracy: 0.7039\n",
      "Epoch 27/200\n",
      "5935/5935 [==============================] - ETA: 0s - loss: 0.5534 - accuracy: 0.7880\n",
      "Epoch 00027: val_loss did not improve from 0.75334\n",
      "5935/5935 [==============================] - 91s 15ms/step - loss: 0.5534 - accuracy: 0.7880 - val_loss: 0.7657 - val_accuracy: 0.7217\n",
      "Epoch 28/200\n",
      "5933/5935 [============================>.] - ETA: 0s - loss: 0.5399 - accuracy: 0.7938\n",
      "Epoch 00028: val_loss improved from 0.75334 to 0.73784, saving model to /home/ys587/__Data/__whistle/__whislte_30_species/__fit_result_species/20210225_110837/STAR2003/epoch_28_valloss_0.7378_valacc_0.7326.hdf5\n",
      "5935/5935 [==============================] - 92s 15ms/step - loss: 0.5399 - accuracy: 0.7938 - val_loss: 0.7378 - val_accuracy: 0.7326\n",
      "Epoch 29/200\n",
      "5932/5935 [============================>.] - ETA: 0s - loss: 0.5217 - accuracy: 0.7998\n",
      "Epoch 00029: val_loss did not improve from 0.73784\n",
      "5935/5935 [==============================] - 92s 15ms/step - loss: 0.5217 - accuracy: 0.7998 - val_loss: 0.7621 - val_accuracy: 0.7257\n",
      "Epoch 30/200\n",
      "5934/5935 [============================>.] - ETA: 0s - loss: 0.5100 - accuracy: 0.8032\n",
      "Epoch 00030: val_loss did not improve from 0.73784\n",
      "5935/5935 [==============================] - 92s 15ms/step - loss: 0.5101 - accuracy: 0.8031 - val_loss: 0.7406 - val_accuracy: 0.7359\n",
      "Epoch 31/200\n",
      "5933/5935 [============================>.] - ETA: 0s - loss: 0.4951 - accuracy: 0.8101\n",
      "Epoch 00031: val_loss did not improve from 0.73784\n",
      "5935/5935 [==============================] - 92s 15ms/step - loss: 0.4951 - accuracy: 0.8101 - val_loss: 0.7479 - val_accuracy: 0.7369\n",
      "Epoch 32/200\n",
      "5935/5935 [==============================] - ETA: 0s - loss: 0.4843 - accuracy: 0.8138\n",
      "Epoch 00032: val_loss did not improve from 0.73784\n",
      "5935/5935 [==============================] - 92s 15ms/step - loss: 0.4843 - accuracy: 0.8138 - val_loss: 0.7414 - val_accuracy: 0.7344\n",
      "Epoch 33/200\n",
      "5933/5935 [============================>.] - ETA: 0s - loss: 0.4702 - accuracy: 0.8188\n",
      "Epoch 00033: val_loss did not improve from 0.73784\n",
      "5935/5935 [==============================] - 92s 16ms/step - loss: 0.4702 - accuracy: 0.8188 - val_loss: 0.7743 - val_accuracy: 0.7233\n",
      "Epoch 34/200\n",
      "5933/5935 [============================>.] - ETA: 0s - loss: 0.4571 - accuracy: 0.8236\n",
      "Epoch 00034: val_loss did not improve from 0.73784\n",
      "5935/5935 [==============================] - 91s 15ms/step - loss: 0.4571 - accuracy: 0.8236 - val_loss: 0.7980 - val_accuracy: 0.7253\n",
      "Epoch 35/200\n",
      "5935/5935 [==============================] - ETA: 0s - loss: 0.4434 - accuracy: 0.8295\n",
      "Epoch 00035: val_loss did not improve from 0.73784\n",
      "5935/5935 [==============================] - 91s 15ms/step - loss: 0.4434 - accuracy: 0.8295 - val_loss: 0.7585 - val_accuracy: 0.7333\n",
      "Epoch 36/200\n",
      "5933/5935 [============================>.] - ETA: 0s - loss: 0.4355 - accuracy: 0.8302\n",
      "Epoch 00036: val_loss did not improve from 0.73784\n",
      "5935/5935 [==============================] - 91s 15ms/step - loss: 0.4356 - accuracy: 0.8302 - val_loss: 0.7422 - val_accuracy: 0.7396\n",
      "Epoch 37/200\n",
      "5932/5935 [============================>.] - ETA: 0s - loss: 0.4215 - accuracy: 0.8361\n",
      "Epoch 00037: val_loss did not improve from 0.73784\n",
      "5935/5935 [==============================] - 91s 15ms/step - loss: 0.4216 - accuracy: 0.8361 - val_loss: 0.7596 - val_accuracy: 0.7398\n",
      "Epoch 38/200\n",
      "5934/5935 [============================>.] - ETA: 0s - loss: 0.4124 - accuracy: 0.8403\n",
      "Epoch 00038: val_loss did not improve from 0.73784\n",
      "5935/5935 [==============================] - 91s 15ms/step - loss: 0.4125 - accuracy: 0.8403 - val_loss: 0.7728 - val_accuracy: 0.7340\n",
      "Epoch 39/200\n",
      "5935/5935 [==============================] - ETA: 0s - loss: 0.3997 - accuracy: 0.8452\n",
      "Epoch 00039: val_loss did not improve from 0.73784\n",
      "5935/5935 [==============================] - 91s 15ms/step - loss: 0.3997 - accuracy: 0.8452 - val_loss: 0.7979 - val_accuracy: 0.7276\n",
      "Epoch 40/200\n",
      "5935/5935 [==============================] - ETA: 0s - loss: 0.3890 - accuracy: 0.8497\n",
      "Epoch 00040: val_loss did not improve from 0.73784\n",
      "5935/5935 [==============================] - 91s 15ms/step - loss: 0.3890 - accuracy: 0.8497 - val_loss: 0.7794 - val_accuracy: 0.7403\n",
      "Epoch 41/200\n",
      "5934/5935 [============================>.] - ETA: 0s - loss: 0.3806 - accuracy: 0.8509\n",
      "Epoch 00041: val_loss did not improve from 0.73784\n",
      "5935/5935 [==============================] - 91s 15ms/step - loss: 0.3806 - accuracy: 0.8509 - val_loss: 0.8217 - val_accuracy: 0.7301\n",
      "Epoch 42/200\n",
      "5933/5935 [============================>.] - ETA: 0s - loss: 0.3695 - accuracy: 0.8555\n",
      "Epoch 00042: val_loss did not improve from 0.73784\n",
      "5935/5935 [==============================] - 91s 15ms/step - loss: 0.3694 - accuracy: 0.8555 - val_loss: 0.8009 - val_accuracy: 0.7350\n",
      "Epoch 43/200\n",
      "5935/5935 [==============================] - ETA: 0s - loss: 0.3579 - accuracy: 0.8613\n",
      "Epoch 00043: val_loss did not improve from 0.73784\n",
      "5935/5935 [==============================] - 91s 15ms/step - loss: 0.3579 - accuracy: 0.8613 - val_loss: 0.7629 - val_accuracy: 0.7449\n",
      "Epoch 44/200\n",
      "5933/5935 [============================>.] - ETA: 0s - loss: 0.3487 - accuracy: 0.8642\n",
      "Epoch 00044: val_loss did not improve from 0.73784\n",
      "5935/5935 [==============================] - 91s 15ms/step - loss: 0.3488 - accuracy: 0.8642 - val_loss: 0.7759 - val_accuracy: 0.7414\n",
      "Epoch 45/200\n",
      "5934/5935 [============================>.] - ETA: 0s - loss: 0.3402 - accuracy: 0.8677\n",
      "Epoch 00045: val_loss did not improve from 0.73784\n",
      "5935/5935 [==============================] - 91s 15ms/step - loss: 0.3402 - accuracy: 0.8677 - val_loss: 0.8460 - val_accuracy: 0.7304\n",
      "Epoch 46/200\n",
      "5933/5935 [============================>.] - ETA: 0s - loss: 0.3318 - accuracy: 0.8709\n",
      "Epoch 00046: val_loss improved from 0.73784 to 0.73746, saving model to /home/ys587/__Data/__whistle/__whislte_30_species/__fit_result_species/20210225_110837/STAR2003/epoch_46_valloss_0.7375_valacc_0.7612.hdf5\n",
      "5935/5935 [==============================] - 92s 15ms/step - loss: 0.3317 - accuracy: 0.8709 - val_loss: 0.7375 - val_accuracy: 0.7612\n",
      "Epoch 47/200\n",
      "5935/5935 [==============================] - ETA: 0s - loss: 0.3254 - accuracy: 0.8741\n",
      "Epoch 00047: val_loss did not improve from 0.73746\n",
      "5935/5935 [==============================] - 92s 15ms/step - loss: 0.3254 - accuracy: 0.8741 - val_loss: 0.7822 - val_accuracy: 0.7500\n",
      "Epoch 48/200\n",
      "5933/5935 [============================>.] - ETA: 0s - loss: 0.3168 - accuracy: 0.8761\n",
      "Epoch 00048: val_loss did not improve from 0.73746\n",
      "5935/5935 [==============================] - 92s 15ms/step - loss: 0.3169 - accuracy: 0.8760 - val_loss: 0.8084 - val_accuracy: 0.7439\n",
      "Epoch 49/200\n",
      "5935/5935 [==============================] - ETA: 0s - loss: 0.3070 - accuracy: 0.8809\n",
      "Epoch 00049: val_loss did not improve from 0.73746\n",
      "5935/5935 [==============================] - 91s 15ms/step - loss: 0.3070 - accuracy: 0.8809 - val_loss: 0.7730 - val_accuracy: 0.7506\n",
      "Epoch 50/200\n",
      "5932/5935 [============================>.] - ETA: 0s - loss: 0.3017 - accuracy: 0.8822\n",
      "Epoch 00050: val_loss did not improve from 0.73746\n",
      "5935/5935 [==============================] - 91s 15ms/step - loss: 0.3017 - accuracy: 0.8822 - val_loss: 0.8577 - val_accuracy: 0.7317\n",
      "Epoch 51/200\n",
      "5933/5935 [============================>.] - ETA: 0s - loss: 0.2974 - accuracy: 0.8833\n",
      "Epoch 00051: val_loss did not improve from 0.73746\n",
      "5935/5935 [==============================] - 92s 16ms/step - loss: 0.2974 - accuracy: 0.8834 - val_loss: 0.7899 - val_accuracy: 0.7487\n",
      "Epoch 52/200\n",
      "5933/5935 [============================>.] - ETA: 0s - loss: 0.2869 - accuracy: 0.8880\n",
      "Epoch 00052: val_loss did not improve from 0.73746\n",
      "5935/5935 [==============================] - 91s 15ms/step - loss: 0.2869 - accuracy: 0.8880 - val_loss: 0.8221 - val_accuracy: 0.7472\n",
      "Epoch 53/200\n",
      "5933/5935 [============================>.] - ETA: 0s - loss: 0.2806 - accuracy: 0.8905\n",
      "Epoch 00053: val_loss did not improve from 0.73746\n",
      "5935/5935 [==============================] - 91s 15ms/step - loss: 0.2806 - accuracy: 0.8904 - val_loss: 0.8431 - val_accuracy: 0.7421\n",
      "Epoch 54/200\n",
      "5932/5935 [============================>.] - ETA: 0s - loss: 0.2734 - accuracy: 0.8935\n",
      "Epoch 00054: val_loss did not improve from 0.73746\n",
      "5935/5935 [==============================] - 91s 15ms/step - loss: 0.2734 - accuracy: 0.8935 - val_loss: 0.8839 - val_accuracy: 0.7371\n",
      "Epoch 55/200\n",
      "5934/5935 [============================>.] - ETA: 0s - loss: 0.2674 - accuracy: 0.8953\n",
      "Epoch 00055: val_loss did not improve from 0.73746\n",
      "5935/5935 [==============================] - 91s 15ms/step - loss: 0.2673 - accuracy: 0.8953 - val_loss: 0.8458 - val_accuracy: 0.7423\n",
      "Epoch 56/200\n",
      "5935/5935 [==============================] - ETA: 0s - loss: 0.2608 - accuracy: 0.8988\n",
      "Epoch 00056: val_loss did not improve from 0.73746\n",
      "5935/5935 [==============================] - 91s 15ms/step - loss: 0.2608 - accuracy: 0.8988 - val_loss: 0.8358 - val_accuracy: 0.7416\n",
      "Epoch 57/200\n",
      "5935/5935 [==============================] - ETA: 0s - loss: 0.2550 - accuracy: 0.9003\n",
      "Epoch 00057: val_loss did not improve from 0.73746\n",
      "5935/5935 [==============================] - 91s 15ms/step - loss: 0.2550 - accuracy: 0.9003 - val_loss: 0.8285 - val_accuracy: 0.7514\n",
      "Epoch 58/200\n",
      "5932/5935 [============================>.] - ETA: 0s - loss: 0.2466 - accuracy: 0.9026\n",
      "Epoch 00058: val_loss did not improve from 0.73746\n",
      "5935/5935 [==============================] - 91s 15ms/step - loss: 0.2465 - accuracy: 0.9026 - val_loss: 0.8749 - val_accuracy: 0.7361\n",
      "Epoch 59/200\n",
      "5934/5935 [============================>.] - ETA: 0s - loss: 0.2436 - accuracy: 0.9047\n",
      "Epoch 00059: val_loss did not improve from 0.73746\n",
      "5935/5935 [==============================] - 91s 15ms/step - loss: 0.2436 - accuracy: 0.9047 - val_loss: 0.8159 - val_accuracy: 0.7563\n",
      "Epoch 60/200\n",
      "5934/5935 [============================>.] - ETA: 0s - loss: 0.2396 - accuracy: 0.9067\n",
      "Epoch 00060: val_loss did not improve from 0.73746\n",
      "5935/5935 [==============================] - 92s 16ms/step - loss: 0.2396 - accuracy: 0.9067 - val_loss: 0.8912 - val_accuracy: 0.7386\n",
      "Epoch 61/200\n",
      "5935/5935 [==============================] - ETA: 0s - loss: 0.2358 - accuracy: 0.9088\n",
      "Epoch 00061: val_loss did not improve from 0.73746\n",
      "5935/5935 [==============================] - 93s 16ms/step - loss: 0.2358 - accuracy: 0.9088 - val_loss: 0.9093 - val_accuracy: 0.7368\n",
      "Epoch 62/200\n",
      "5935/5935 [==============================] - ETA: 0s - loss: 0.2300 - accuracy: 0.9113\n",
      "Epoch 00062: val_loss did not improve from 0.73746\n",
      "5935/5935 [==============================] - 91s 15ms/step - loss: 0.2300 - accuracy: 0.9113 - val_loss: 0.9047 - val_accuracy: 0.7382\n",
      "Epoch 63/200\n",
      "5932/5935 [============================>.] - ETA: 0s - loss: 0.2262 - accuracy: 0.9121\n",
      "Epoch 00063: val_loss did not improve from 0.73746\n",
      "5935/5935 [==============================] - 91s 15ms/step - loss: 0.2262 - accuracy: 0.9121 - val_loss: 0.8740 - val_accuracy: 0.7421\n",
      "Epoch 64/200\n",
      "5933/5935 [============================>.] - ETA: 0s - loss: 0.2183 - accuracy: 0.9148\n",
      "Epoch 00064: val_loss did not improve from 0.73746\n",
      "5935/5935 [==============================] - 92s 15ms/step - loss: 0.2182 - accuracy: 0.9148 - val_loss: 0.8511 - val_accuracy: 0.7521\n",
      "Epoch 65/200\n",
      "5934/5935 [============================>.] - ETA: 0s - loss: 0.2163 - accuracy: 0.9160\n",
      "Epoch 00065: val_loss did not improve from 0.73746\n",
      "5935/5935 [==============================] - 91s 15ms/step - loss: 0.2163 - accuracy: 0.9160 - val_loss: 0.9808 - val_accuracy: 0.7285\n",
      "Epoch 66/200\n",
      "5935/5935 [==============================] - ETA: 0s - loss: 0.2107 - accuracy: 0.9180\n",
      "Epoch 00066: val_loss did not improve from 0.73746\n",
      "5935/5935 [==============================] - 91s 15ms/step - loss: 0.2107 - accuracy: 0.9180 - val_loss: 0.8788 - val_accuracy: 0.7503\n",
      "Epoch 00066: early stopping\n"
     ]
    }
   ],
   "source": [
    "# model = model_cnn14_attention_multi(dim_time, dim_freq, num_species, model_type='feature_level_attention', conv_dim=conv_dim, pool_size=pool_size, pool_stride=pool_stride, hidden_units=hidden_units, l2_regu=l2_regu, drop_rate=drop_rate)\n",
    "model = model_cnn14_spp(dim_time, dim_freq, num_species, conv_dim=conv_dim, pool_size=pool_size, pool_stride=pool_stride, hidden_units=hidden_units, l2_regu=l2_regu, drop_rate=drop_rate)\n",
    "loss = CategoricalCrossentropy()\n",
    "model.compile(optimizer=tf.keras.optimizers.Adam(learning_rate=learning_rate_fn), loss=loss, metrics=['accuracy'])\n",
    "\n",
    "# With classes\n",
    "# history = model.fit(fea_train, to_categorical(label_train), class_weight=class_weights, validation_split=0.3, batch_size=batch_size, epochs=num_epoch, callbacks=[EarlyStopping(patience=num_patience), ModelCheckpoint(filepath=os.path.join(fit_result_path, '{epoch:02d}-{val_loss:.4f}.hdf5'), verbose=1, monitor=\"val_loss\", save_best_only=True)])\n",
    "# history = model.fit(train_generator, validation_data=validate_generator, class_weight=class_weights, epochs=num_epoch, callbacks=[EarlyStopping(patience=num_patience, monitor='val_loss', mode='min', verbose=1), TensorBoard(log_dir=fit_result_path1), ModelCheckpoint(filepath=os.path.join(fit_result_path1, '{epoch:02d}-{val_loss:.4f}.hdf5'), verbose=1, monitor=\"val_loss\", save_best_only=True)])\n",
    "history = model.fit(train_generator, validation_data=validate_generator, class_weight=class_weights, epochs=num_epoch, callbacks=[EarlyStopping(patience=num_patience, monitor='val_loss', mode='min', verbose=1), TensorBoard(log_dir=fit_result_path2), ModelCheckpoint(filepath=os.path.join(fit_result_path2, 'epoch_{epoch:02d}_valloss_{val_loss:.4f}_valacc_{val_accuracy:.4f}.hdf5' ), verbose=1, monitor=\"val_loss\", save_best_only=True)])"
   ]
  },
  {
   "cell_type": "code",
   "execution_count": 64,
   "metadata": {},
   "outputs": [
    {
     "name": "stdout",
     "output_type": "stream",
     "text": [
      "Best model:0.7375\n",
      "/home/ys587/__Data/__whistle/__whislte_30_species/__fit_result_species/20210225_110837/STAR2003/epoch_46_valloss_0.7375_valacc_0.7612.hdf5\n"
     ]
    }
   ],
   "source": [
    "# fit_result_path1 = '/home/ys587/__Data/__whistle/__whislte_30_species/__fit_result_species/20210210_224527'\n",
    "the_best_model, _ = find_best_model(fit_result_path2, purge=False)"
   ]
  },
  {
   "cell_type": "code",
   "execution_count": 65,
   "metadata": {
    "scrolled": true
   },
   "outputs": [
    {
     "name": "stdout",
     "output_type": "stream",
     "text": [
      "Model: \"model_1\"\n",
      "_________________________________________________________________\n",
      "Layer (type)                 Output Shape              Param #   \n",
      "=================================================================\n",
      "input (InputLayer)           [(None, 100, 128, 1)]     0         \n",
      "_________________________________________________________________\n",
      "conv2d_10 (Conv2D)           (None, 100, 128, 16)      160       \n",
      "_________________________________________________________________\n",
      "batch_normalization_10 (Batc (None, 100, 128, 16)      64        \n",
      "_________________________________________________________________\n",
      "activation_10 (Activation)   (None, 100, 128, 16)      0         \n",
      "_________________________________________________________________\n",
      "conv2d_11 (Conv2D)           (None, 100, 128, 16)      2320      \n",
      "_________________________________________________________________\n",
      "batch_normalization_11 (Batc (None, 100, 128, 16)      64        \n",
      "_________________________________________________________________\n",
      "activation_11 (Activation)   (None, 100, 128, 16)      0         \n",
      "_________________________________________________________________\n",
      "max_pooling2d_4 (MaxPooling2 (None, 50, 64, 16)        0         \n",
      "_________________________________________________________________\n",
      "dropout_4 (Dropout)          (None, 50, 64, 16)        0         \n",
      "_________________________________________________________________\n",
      "conv2d_12 (Conv2D)           (None, 50, 64, 32)        4640      \n",
      "_________________________________________________________________\n",
      "batch_normalization_12 (Batc (None, 50, 64, 32)        128       \n",
      "_________________________________________________________________\n",
      "activation_12 (Activation)   (None, 50, 64, 32)        0         \n",
      "_________________________________________________________________\n",
      "conv2d_13 (Conv2D)           (None, 50, 64, 32)        9248      \n",
      "_________________________________________________________________\n",
      "batch_normalization_13 (Batc (None, 50, 64, 32)        128       \n",
      "_________________________________________________________________\n",
      "activation_13 (Activation)   (None, 50, 64, 32)        0         \n",
      "_________________________________________________________________\n",
      "max_pooling2d_5 (MaxPooling2 (None, 25, 32, 32)        0         \n",
      "_________________________________________________________________\n",
      "dropout_5 (Dropout)          (None, 25, 32, 32)        0         \n",
      "_________________________________________________________________\n",
      "conv2d_14 (Conv2D)           (None, 25, 32, 64)        18496     \n",
      "_________________________________________________________________\n",
      "batch_normalization_14 (Batc (None, 25, 32, 64)        256       \n",
      "_________________________________________________________________\n",
      "activation_14 (Activation)   (None, 25, 32, 64)        0         \n",
      "_________________________________________________________________\n",
      "conv2d_15 (Conv2D)           (None, 25, 32, 64)        36928     \n",
      "_________________________________________________________________\n",
      "batch_normalization_15 (Batc (None, 25, 32, 64)        256       \n",
      "_________________________________________________________________\n",
      "activation_15 (Activation)   (None, 25, 32, 64)        0         \n",
      "_________________________________________________________________\n",
      "max_pooling2d_6 (MaxPooling2 (None, 13, 16, 64)        0         \n",
      "_________________________________________________________________\n",
      "dropout_6 (Dropout)          (None, 13, 16, 64)        0         \n",
      "_________________________________________________________________\n",
      "conv2d_16 (Conv2D)           (None, 13, 16, 128)       73856     \n",
      "_________________________________________________________________\n",
      "batch_normalization_16 (Batc (None, 13, 16, 128)       512       \n",
      "_________________________________________________________________\n",
      "activation_16 (Activation)   (None, 13, 16, 128)       0         \n",
      "_________________________________________________________________\n",
      "conv2d_17 (Conv2D)           (None, 13, 16, 128)       147584    \n",
      "_________________________________________________________________\n",
      "batch_normalization_17 (Batc (None, 13, 16, 128)       512       \n",
      "_________________________________________________________________\n",
      "activation_17 (Activation)   (None, 13, 16, 128)       0         \n",
      "_________________________________________________________________\n",
      "max_pooling2d_7 (MaxPooling2 (None, 7, 8, 128)         0         \n",
      "_________________________________________________________________\n",
      "dropout_7 (Dropout)          (None, 7, 8, 128)         0         \n",
      "_________________________________________________________________\n",
      "conv2d_18 (Conv2D)           (None, 7, 8, 256)         295168    \n",
      "_________________________________________________________________\n",
      "batch_normalization_18 (Batc (None, 7, 8, 256)         1024      \n",
      "_________________________________________________________________\n",
      "activation_18 (Activation)   (None, 7, 8, 256)         0         \n",
      "_________________________________________________________________\n",
      "conv2d_19 (Conv2D)           (None, 7, 8, 256)         590080    \n",
      "_________________________________________________________________\n",
      "batch_normalization_19 (Batc (None, 7, 8, 256)         1024      \n",
      "_________________________________________________________________\n",
      "activation_19 (Activation)   (None, 7, 8, 256)         0         \n",
      "_________________________________________________________________\n",
      "spatial_pyramid_pooling2d_1  (None, 15, 256)           0         \n",
      "_________________________________________________________________\n",
      "reshape_1 (Reshape)          (None, 3840)              0         \n",
      "_________________________________________________________________\n",
      "cnn14_fcn (Dense)            (None, 256)               983296    \n",
      "_________________________________________________________________\n",
      "dense_1 (Dense)              (None, 8)                 2056      \n",
      "=================================================================\n",
      "Total params: 2,167,800\n",
      "Trainable params: 2,165,816\n",
      "Non-trainable params: 1,984\n",
      "_________________________________________________________________\n"
     ]
    }
   ],
   "source": [
    "model = load_model(the_best_model)\n",
    "model.summary()"
   ]
  },
  {
   "cell_type": "code",
   "execution_count": 66,
   "metadata": {},
   "outputs": [],
   "source": [
    "label_pred = model.predict(fea_test)\n",
    "# label_pred = model.predict(test_generator)"
   ]
  },
  {
   "cell_type": "code",
   "execution_count": 67,
   "metadata": {},
   "outputs": [],
   "source": [
    "np.set_printoptions(linewidth=200, precision=2, suppress=True)"
   ]
  },
  {
   "cell_type": "code",
   "execution_count": 68,
   "metadata": {},
   "outputs": [
    {
     "name": "stdout",
     "output_type": "stream",
     "text": [
      "Confusion matrix:\n",
      "['BD', 'CD', 'STR', 'SPT', 'SPIN', 'PLT', 'RT', 'FKW']\n",
      "\n",
      "[[ 30   7  84  79   8  13  10   0]\n",
      " [ 29 312 249  61  13  51  30   7]\n",
      " [  0   3  25   6   0  12   6   2]\n",
      " [  7  77 182  76   3  59   6   2]\n",
      " [  5   3  21  15   4   1   1   1]\n",
      " [  0   0   0   0   0   0   0   0]\n",
      " [  0   0   0   0   0   0   0   0]\n",
      " [  1   1   5   3   2  58  32 168]]\n",
      "\n",
      "[[0.13 0.03 0.36 0.34 0.03 0.06 0.04 0.  ]\n",
      " [0.04 0.41 0.33 0.08 0.02 0.07 0.04 0.01]\n",
      " [0.   0.06 0.46 0.11 0.   0.22 0.11 0.04]\n",
      " [0.02 0.19 0.44 0.18 0.01 0.14 0.01 0.  ]\n",
      " [0.1  0.06 0.41 0.29 0.08 0.02 0.02 0.02]\n",
      " [0.   0.   0.   0.   0.   0.   0.   0.  ]\n",
      " [0.   0.   0.   0.   0.   0.   0.   0.  ]\n",
      " [0.   0.   0.02 0.01 0.01 0.21 0.12 0.62]]\n"
     ]
    }
   ],
   "source": [
    "print(\"Confusion matrix:\")\n",
    "cm = confusion_matrix(label_test, np.argmax(label_pred, axis=1), labels=species_id)\n",
    "\n",
    "print(species_list)\n",
    "print('')\n",
    "print(cm)\n",
    "print('')\n",
    "\n",
    "cm2 = cm*1.0\n",
    "for ii in range(cm.shape[0]):\n",
    "    cm_row = cm[ii, :]*1.0\n",
    "\n",
    "    cm_row_sum = cm_row.sum()\n",
    "    if cm_row_sum != 0:\n",
    "        cm2[ii, :] = cm_row / cm_row_sum\n",
    "    else:\n",
    "        cm2[ii, :] = np.zeros(cm.shape[1])\n",
    "\n",
    "print(cm2)"
   ]
  },
  {
   "cell_type": "code",
   "execution_count": 69,
   "metadata": {},
   "outputs": [],
   "source": [
    "from sklearn.metrics import plot_confusion_matrix\n",
    "from sklearn.metrics._plot.confusion_matrix import ConfusionMatrixDisplay\n",
    "disp = ConfusionMatrixDisplay(confusion_matrix=cm, display_labels=species_list)\n",
    "disp2 = ConfusionMatrixDisplay(confusion_matrix=cm2, display_labels=species_list)"
   ]
  },
  {
   "cell_type": "code",
   "execution_count": 70,
   "metadata": {},
   "outputs": [
    {
     "data": {
      "text/plain": [
       "<sklearn.metrics._plot.confusion_matrix.ConfusionMatrixDisplay at 0x7f27b80cee80>"
      ]
     },
     "execution_count": 70,
     "metadata": {},
     "output_type": "execute_result"
    },
    {
     "data": {
      "image/png": "[encoded data removed]",
      "text/plain": [
       "<Figure size 1080x1080 with 2 Axes>"
      ]
     },
     "metadata": {
      "needs_background": "light"
     },
     "output_type": "display_data"
    }
   ],
   "source": [
    "fig, ax = plt.subplots(figsize=[15, 15])\n",
    "disp.plot(include_values=True,\n",
    "                     cmap='viridis', ax=ax, xticks_rotation='horizontal',\n",
    "                     values_format=None, colorbar=True)\n"
   ]
  },
  {
   "cell_type": "code",
   "execution_count": 71,
   "metadata": {},
   "outputs": [
    {
     "data": {
      "text/plain": [
       "<sklearn.metrics._plot.confusion_matrix.ConfusionMatrixDisplay at 0x7f27b80cee50>"
      ]
     },
     "execution_count": 71,
     "metadata": {},
     "output_type": "execute_result"
    },
    {
     "data": {
      "image/png": "[encoded data removed]",
      "text/plain": [
       "<Figure size 1080x1080 with 2 Axes>"
      ]
     },
     "metadata": {
      "needs_background": "light"
     },
     "output_type": "display_data"
    }
   ],
   "source": [
    "fig, ax = plt.subplots(figsize=[15, 15])\n",
    "disp2.plot(include_values=True,\n",
    "                     cmap='viridis', ax=ax, xticks_rotation='horizontal',\n",
    "                     values_format='.2f', colorbar=True)"
   ]
  },
  {
   "cell_type": "markdown",
   "metadata": {},
   "source": [
    "## STAR2006"
   ]
  },
  {
   "cell_type": "code",
   "execution_count": 72,
   "metadata": {},
   "outputs": [
    {
     "name": "stdout",
     "output_type": "stream",
     "text": [
      "STAR2006\n"
     ]
    }
   ],
   "source": [
    "ee = deployment[2]\n",
    "print(ee)"
   ]
  },
  {
   "cell_type": "code",
   "execution_count": 73,
   "metadata": {},
   "outputs": [],
   "source": [
    "# Training data\n",
    "fea_temp = np.load(os.path.join(feature_path, 'train_oswald_no_'+ee+'.npz'))\n",
    "fea_train = fea_temp['fea_train']\n",
    "label_train_list = fea_temp['label_train']\n",
    "del fea_temp"
   ]
  },
  {
   "cell_type": "code",
   "execution_count": 74,
   "metadata": {},
   "outputs": [],
   "source": [
    "label_train = np.zeros(len(label_train_list))\n",
    "for ii in range(len(label_train_list)):\n",
    "    label_train[ii] = species_dict[label_train_list[ii]]"
   ]
  },
  {
   "cell_type": "code",
   "execution_count": 75,
   "metadata": {},
   "outputs": [],
   "source": [
    "# Testing data\n",
    "fea_temp = np.load(os.path.join(feature_path, 'oswald_'+ee+'_orig.npz'))\n",
    "fea_test = fea_temp['feas_orig']\n",
    "label_test_list = fea_temp['labels_orig']\n",
    "\n",
    "fea_test = fea_test[:,:100,:]\n",
    "label_test = np.zeros(len(label_test_list))\n",
    "for ii in range(len(label_test_list)):\n",
    "    label_test[ii] = species_dict[label_test_list[ii]]"
   ]
  },
  {
   "cell_type": "code",
   "execution_count": 76,
   "metadata": {},
   "outputs": [],
   "source": [
    "fea_train = fea_train[:,:100,:]"
   ]
  },
  {
   "cell_type": "code",
   "execution_count": 77,
   "metadata": {},
   "outputs": [],
   "source": [
    "label_train = np.zeros(len(label_train_list))\n",
    "for ii in range(len(label_train_list)):\n",
    "    label_train[ii] = species_dict[label_train_list[ii]]"
   ]
  },
  {
   "cell_type": "code",
   "execution_count": 78,
   "metadata": {
    "scrolled": true
   },
   "outputs": [
    {
     "data": {
      "text/plain": [
       "Counter({'BD': 16722,\n",
       "         'CD': 28296,\n",
       "         'PLT': 9728,\n",
       "         'RT': 11456,\n",
       "         'SPIN': 11586,\n",
       "         'SPT': 20416,\n",
       "         'STR': 17928,\n",
       "         'FKW': 14742})"
      ]
     },
     "execution_count": 78,
     "metadata": {},
     "output_type": "execute_result"
    }
   ],
   "source": [
    "Counter(label_train_list)"
   ]
  },
  {
   "cell_type": "code",
   "execution_count": 79,
   "metadata": {},
   "outputs": [
    {
     "data": {
      "text/plain": [
       "Counter({1.0: 24, 7.0: 903, 5.0: 632, 6.0: 46, 4.0: 2, 3.0: 147, 2.0: 750})"
      ]
     },
     "execution_count": 79,
     "metadata": {},
     "output_type": "execute_result"
    }
   ],
   "source": [
    "Counter(label_test.tolist())"
   ]
  },
  {
   "cell_type": "code",
   "execution_count": 80,
   "metadata": {},
   "outputs": [],
   "source": [
    "fit_result_path2 = os.path.join(fit_result_path1, ee)\n",
    "if not os.path.exists(fit_result_path2):\n",
    "    makedirs(fit_result_path2)"
   ]
  },
  {
   "cell_type": "code",
   "execution_count": 81,
   "metadata": {},
   "outputs": [
    {
     "name": "stdout",
     "output_type": "stream",
     "text": [
      "feature train shape: (130874, 100, 128)\n",
      "feature test shape: (2504, 100, 128)\n",
      "label train shape: (130874,)\n",
      "label test shape: (2504,)\n",
      "dim_time: 100\n",
      "dim_freq: 128\n"
     ]
    }
   ],
   "source": [
    "print('feature train shape: '+str(fea_train.shape))\n",
    "print('feature test shape: '+str(fea_test.shape))\n",
    "print('label train shape: '+str(label_train.shape))\n",
    "print('label test shape: '+str(label_test.shape))\n",
    "\n",
    "dim_time = fea_train.shape[1]\n",
    "dim_freq = fea_train.shape[2]\n",
    "print('dim_time: '+str(dim_time))\n",
    "print('dim_freq: '+str(dim_freq))"
   ]
  },
  {
   "cell_type": "code",
   "execution_count": 82,
   "metadata": {},
   "outputs": [],
   "source": [
    "# shuffle features & labels\n",
    "fea_train, label_train = shuffle(fea_train, label_train, random_state=0)\n",
    "fea_test, label_test = shuffle(fea_test, label_test, random_state=0)"
   ]
  },
  {
   "cell_type": "code",
   "execution_count": 83,
   "metadata": {},
   "outputs": [],
   "source": [
    "# class weight\n",
    "weights = compute_class_weight(class_weight='balanced', classes=np.unique(label_train), y=label_train)\n",
    "\n",
    "class_weights = dict()\n",
    "for ii in range(num_species):\n",
    "    class_weights[ii] = weights[ii]"
   ]
  },
  {
   "cell_type": "code",
   "execution_count": 84,
   "metadata": {},
   "outputs": [],
   "source": [
    "fea_train = np.expand_dims(fea_train, axis=3)\n",
    "fea_test = np.expand_dims(fea_test, axis=3)"
   ]
  },
  {
   "cell_type": "code",
   "execution_count": 85,
   "metadata": {},
   "outputs": [],
   "source": [
    "fea_train, fea_validate, label_train, label_validate = train_test_split(fea_train, label_train, test_size=0.30, random_state=42)\n",
    "\n",
    "train_generator = DataGenerator(fea_train, label_train, batch_size=batch_size, num_classes=num_species)\n",
    "del fea_train\n",
    "validate_generator = DataGenerator(fea_validate, label_validate, batch_size=batch_size, num_classes=num_species)\n",
    "del fea_validate\n",
    "\n",
    "# test_generator = DataGenerator(fea_test, label_test, batch_size=batch_size, num_classes=num_species)\n"
   ]
  },
  {
   "cell_type": "markdown",
   "metadata": {},
   "source": [
    "### Training the model"
   ]
  },
  {
   "cell_type": "code",
   "execution_count": 86,
   "metadata": {
    "scrolled": true
   },
   "outputs": [
    {
     "name": "stdout",
     "output_type": "stream",
     "text": [
      "Epoch 1/200\n",
      "   2/5725 [..............................] - ETA: 10:27 - loss: 4.5920 - accuracy: 0.0625WARNING:tensorflow:Method (on_train_batch_end) is slow compared to the batch update (0.103953). Check your callbacks.\n",
      "5725/5725 [==============================] - ETA: 0s - loss: 2.0847 - accuracy: 0.1075\n",
      "Epoch 00001: val_loss improved from inf to 2.07915, saving model to /home/ys587/__Data/__whistle/__whislte_30_species/__fit_result_species/20210225_110837/STAR2006/epoch_01_valloss_2.0792_valacc_0.0724.hdf5\n",
      "5725/5725 [==============================] - 89s 16ms/step - loss: 2.0847 - accuracy: 0.1075 - val_loss: 2.0792 - val_accuracy: 0.0724\n",
      "Epoch 2/200\n",
      "5725/5725 [==============================] - ETA: 0s - loss: 1.9425 - accuracy: 0.2089\n",
      "Epoch 00002: val_loss improved from 2.07915 to 1.86907, saving model to /home/ys587/__Data/__whistle/__whislte_30_species/__fit_result_species/20210225_110837/STAR2006/epoch_02_valloss_1.8691_valacc_0.2106.hdf5\n",
      "5725/5725 [==============================] - 89s 16ms/step - loss: 1.9425 - accuracy: 0.2089 - val_loss: 1.8691 - val_accuracy: 0.2106\n",
      "Epoch 3/200\n",
      "5723/5725 [============================>.] - ETA: 0s - loss: 1.6695 - accuracy: 0.2978\n",
      "Epoch 00003: val_loss improved from 1.86907 to 1.59316, saving model to /home/ys587/__Data/__whistle/__whislte_30_species/__fit_result_species/20210225_110837/STAR2006/epoch_03_valloss_1.5932_valacc_0.3411.hdf5\n",
      "5725/5725 [==============================] - 89s 16ms/step - loss: 1.6694 - accuracy: 0.2978 - val_loss: 1.5932 - val_accuracy: 0.3411\n",
      "Epoch 4/200\n",
      "5723/5725 [============================>.] - ETA: 0s - loss: 1.5100 - accuracy: 0.3888\n",
      "Epoch 00004: val_loss improved from 1.59316 to 1.46569, saving model to /home/ys587/__Data/__whistle/__whislte_30_species/__fit_result_species/20210225_110837/STAR2006/epoch_04_valloss_1.4657_valacc_0.4130.hdf5\n",
      "5725/5725 [==============================] - 89s 15ms/step - loss: 1.5100 - accuracy: 0.3888 - val_loss: 1.4657 - val_accuracy: 0.4130\n",
      "Epoch 5/200\n",
      "5725/5725 [==============================] - ETA: 0s - loss: 1.4075 - accuracy: 0.4451\n",
      "Epoch 00005: val_loss improved from 1.46569 to 1.43775, saving model to /home/ys587/__Data/__whistle/__whislte_30_species/__fit_result_species/20210225_110837/STAR2006/epoch_05_valloss_1.4378_valacc_0.4354.hdf5\n",
      "5725/5725 [==============================] - 88s 15ms/step - loss: 1.4075 - accuracy: 0.4451 - val_loss: 1.4378 - val_accuracy: 0.4354\n",
      "Epoch 6/200\n",
      "5722/5725 [============================>.] - ETA: 0s - loss: 1.3375 - accuracy: 0.4833\n",
      "Epoch 00006: val_loss improved from 1.43775 to 1.32253, saving model to /home/ys587/__Data/__whistle/__whislte_30_species/__fit_result_species/20210225_110837/STAR2006/epoch_06_valloss_1.3225_valacc_0.4962.hdf5\n",
      "5725/5725 [==============================] - 87s 15ms/step - loss: 1.3373 - accuracy: 0.4833 - val_loss: 1.3225 - val_accuracy: 0.4962\n",
      "Epoch 7/200\n",
      "5724/5725 [============================>.] - ETA: 0s - loss: 1.2806 - accuracy: 0.5086\n",
      "Epoch 00007: val_loss did not improve from 1.32253\n",
      "5725/5725 [==============================] - 86s 15ms/step - loss: 1.2806 - accuracy: 0.5087 - val_loss: 1.3643 - val_accuracy: 0.4878\n",
      "Epoch 8/200\n",
      "5722/5725 [============================>.] - ETA: 0s - loss: 1.2374 - accuracy: 0.5259\n",
      "Epoch 00008: val_loss improved from 1.32253 to 1.24565, saving model to /home/ys587/__Data/__whistle/__whislte_30_species/__fit_result_species/20210225_110837/STAR2006/epoch_08_valloss_1.2456_valacc_0.5303.hdf5\n",
      "5725/5725 [==============================] - 85s 15ms/step - loss: 1.2374 - accuracy: 0.5259 - val_loss: 1.2456 - val_accuracy: 0.5303\n",
      "Epoch 9/200\n",
      "5724/5725 [============================>.] - ETA: 0s - loss: 1.1970 - accuracy: 0.5406\n",
      "Epoch 00009: val_loss improved from 1.24565 to 1.22684, saving model to /home/ys587/__Data/__whistle/__whislte_30_species/__fit_result_species/20210225_110837/STAR2006/epoch_09_valloss_1.2268_valacc_0.5347.hdf5\n",
      "5725/5725 [==============================] - 85s 15ms/step - loss: 1.1970 - accuracy: 0.5406 - val_loss: 1.2268 - val_accuracy: 0.5347\n",
      "Epoch 10/200\n",
      "5722/5725 [============================>.] - ETA: 0s - loss: 1.1639 - accuracy: 0.5524\n",
      "Epoch 00010: val_loss improved from 1.22684 to 1.18638, saving model to /home/ys587/__Data/__whistle/__whislte_30_species/__fit_result_species/20210225_110837/STAR2006/epoch_10_valloss_1.1864_valacc_0.5530.hdf5\n",
      "5725/5725 [==============================] - 86s 15ms/step - loss: 1.1638 - accuracy: 0.5524 - val_loss: 1.1864 - val_accuracy: 0.5530\n",
      "Epoch 11/200\n",
      "5725/5725 [==============================] - ETA: 0s - loss: 1.1345 - accuracy: 0.5651\n",
      "Epoch 00011: val_loss did not improve from 1.18638\n",
      "5725/5725 [==============================] - 85s 15ms/step - loss: 1.1345 - accuracy: 0.5651 - val_loss: 1.2197 - val_accuracy: 0.5375\n",
      "Epoch 12/200\n",
      "5725/5725 [==============================] - ETA: 0s - loss: 1.1096 - accuracy: 0.5729\n",
      "Epoch 00012: val_loss improved from 1.18638 to 1.16774, saving model to /home/ys587/__Data/__whistle/__whislte_30_species/__fit_result_species/20210225_110837/STAR2006/epoch_12_valloss_1.1677_valacc_0.5616.hdf5\n",
      "5725/5725 [==============================] - 85s 15ms/step - loss: 1.1096 - accuracy: 0.5729 - val_loss: 1.1677 - val_accuracy: 0.5616\n",
      "Epoch 13/200\n",
      "5725/5725 [==============================] - ETA: 0s - loss: 1.0822 - accuracy: 0.5843\n",
      "Epoch 00013: val_loss improved from 1.16774 to 1.14343, saving model to /home/ys587/__Data/__whistle/__whislte_30_species/__fit_result_species/20210225_110837/STAR2006/epoch_13_valloss_1.1434_valacc_0.5678.hdf5\n",
      "5725/5725 [==============================] - 89s 15ms/step - loss: 1.0822 - accuracy: 0.5843 - val_loss: 1.1434 - val_accuracy: 0.5678\n",
      "Epoch 14/200\n",
      "5725/5725 [==============================] - ETA: 0s - loss: 1.0577 - accuracy: 0.5926\n",
      "Epoch 00014: val_loss improved from 1.14343 to 1.12025, saving model to /home/ys587/__Data/__whistle/__whislte_30_species/__fit_result_species/20210225_110837/STAR2006/epoch_14_valloss_1.1203_valacc_0.5778.hdf5\n",
      "5725/5725 [==============================] - 89s 16ms/step - loss: 1.0577 - accuracy: 0.5926 - val_loss: 1.1203 - val_accuracy: 0.5778\n",
      "Epoch 15/200\n",
      "5722/5725 [============================>.] - ETA: 0s - loss: 1.0347 - accuracy: 0.5989\n",
      "Epoch 00015: val_loss improved from 1.12025 to 1.09613, saving model to /home/ys587/__Data/__whistle/__whislte_30_species/__fit_result_species/20210225_110837/STAR2006/epoch_15_valloss_1.0961_valacc_0.5881.hdf5\n",
      "5725/5725 [==============================] - 89s 16ms/step - loss: 1.0347 - accuracy: 0.5989 - val_loss: 1.0961 - val_accuracy: 0.5881\n",
      "Epoch 16/200\n",
      "5724/5725 [============================>.] - ETA: 0s - loss: 1.0098 - accuracy: 0.6097\n",
      "Epoch 00016: val_loss improved from 1.09613 to 1.04674, saving model to /home/ys587/__Data/__whistle/__whislte_30_species/__fit_result_species/20210225_110837/STAR2006/epoch_16_valloss_1.0467_valacc_0.6046.hdf5\n",
      "5725/5725 [==============================] - 89s 16ms/step - loss: 1.0099 - accuracy: 0.6097 - val_loss: 1.0467 - val_accuracy: 0.6046\n",
      "Epoch 17/200\n",
      "5725/5725 [==============================] - ETA: 0s - loss: 0.9919 - accuracy: 0.6147\n",
      "Epoch 00017: val_loss did not improve from 1.04674\n",
      "5725/5725 [==============================] - 90s 16ms/step - loss: 0.9919 - accuracy: 0.6147 - val_loss: 1.0732 - val_accuracy: 0.5997\n",
      "Epoch 18/200\n",
      "5723/5725 [============================>.] - ETA: 0s - loss: 0.9721 - accuracy: 0.6215\n",
      "Epoch 00018: val_loss did not improve from 1.04674\n",
      "5725/5725 [==============================] - 90s 16ms/step - loss: 0.9722 - accuracy: 0.6215 - val_loss: 1.0549 - val_accuracy: 0.6010\n",
      "Epoch 19/200\n",
      "5724/5725 [============================>.] - ETA: 0s - loss: 0.9548 - accuracy: 0.6296\n",
      "Epoch 00019: val_loss improved from 1.04674 to 1.04422, saving model to /home/ys587/__Data/__whistle/__whislte_30_species/__fit_result_species/20210225_110837/STAR2006/epoch_19_valloss_1.0442_valacc_0.6126.hdf5\n",
      "5725/5725 [==============================] - 90s 16ms/step - loss: 0.9548 - accuracy: 0.6296 - val_loss: 1.0442 - val_accuracy: 0.6126\n",
      "Epoch 20/200\n",
      "5723/5725 [============================>.] - ETA: 0s - loss: 0.9367 - accuracy: 0.6346\n",
      "Epoch 00020: val_loss did not improve from 1.04422\n",
      "5725/5725 [==============================] - 90s 16ms/step - loss: 0.9366 - accuracy: 0.6347 - val_loss: 1.0527 - val_accuracy: 0.6082\n",
      "Epoch 21/200\n",
      "5723/5725 [============================>.] - ETA: 0s - loss: 0.9141 - accuracy: 0.6427\n",
      "Epoch 00021: val_loss improved from 1.04422 to 1.03400, saving model to /home/ys587/__Data/__whistle/__whislte_30_species/__fit_result_species/20210225_110837/STAR2006/epoch_21_valloss_1.0340_valacc_0.6141.hdf5\n",
      "5725/5725 [==============================] - 90s 16ms/step - loss: 0.9140 - accuracy: 0.6427 - val_loss: 1.0340 - val_accuracy: 0.6141\n",
      "Epoch 22/200\n",
      "5722/5725 [============================>.] - ETA: 0s - loss: 0.8988 - accuracy: 0.6477\n",
      "Epoch 00022: val_loss did not improve from 1.03400\n",
      "5725/5725 [==============================] - 90s 16ms/step - loss: 0.8987 - accuracy: 0.6477 - val_loss: 1.0422 - val_accuracy: 0.6164\n",
      "Epoch 23/200\n",
      "5725/5725 [==============================] - ETA: 0s - loss: 0.8805 - accuracy: 0.6549\n",
      "Epoch 00023: val_loss did not improve from 1.03400\n",
      "5725/5725 [==============================] - 90s 16ms/step - loss: 0.8805 - accuracy: 0.6549 - val_loss: 1.1043 - val_accuracy: 0.5964\n",
      "Epoch 24/200\n",
      "5723/5725 [============================>.] - ETA: 0s - loss: 0.8642 - accuracy: 0.6615\n",
      "Epoch 00024: val_loss improved from 1.03400 to 1.00971, saving model to /home/ys587/__Data/__whistle/__whislte_30_species/__fit_result_species/20210225_110837/STAR2006/epoch_24_valloss_1.0097_valacc_0.6243.hdf5\n",
      "5725/5725 [==============================] - 90s 16ms/step - loss: 0.8641 - accuracy: 0.6615 - val_loss: 1.0097 - val_accuracy: 0.6243\n",
      "Epoch 25/200\n",
      "5725/5725 [==============================] - ETA: 0s - loss: 0.8467 - accuracy: 0.6684\n",
      "Epoch 00025: val_loss improved from 1.00971 to 0.98766, saving model to /home/ys587/__Data/__whistle/__whislte_30_species/__fit_result_species/20210225_110837/STAR2006/epoch_25_valloss_0.9877_valacc_0.6375.hdf5\n",
      "5725/5725 [==============================] - 90s 16ms/step - loss: 0.8467 - accuracy: 0.6684 - val_loss: 0.9877 - val_accuracy: 0.6375\n",
      "Epoch 26/200\n",
      "5723/5725 [============================>.] - ETA: 0s - loss: 0.8311 - accuracy: 0.6738\n",
      "Epoch 00026: val_loss improved from 0.98766 to 0.96597, saving model to /home/ys587/__Data/__whistle/__whislte_30_species/__fit_result_species/20210225_110837/STAR2006/epoch_26_valloss_0.9660_valacc_0.6427.hdf5\n",
      "5725/5725 [==============================] - 90s 16ms/step - loss: 0.8311 - accuracy: 0.6738 - val_loss: 0.9660 - val_accuracy: 0.6427\n",
      "Epoch 27/200\n",
      "5723/5725 [============================>.] - ETA: 0s - loss: 0.8165 - accuracy: 0.6775\n",
      "Epoch 00027: val_loss did not improve from 0.96597\n",
      "5725/5725 [==============================] - 90s 16ms/step - loss: 0.8165 - accuracy: 0.6775 - val_loss: 0.9877 - val_accuracy: 0.6334\n",
      "Epoch 28/200\n",
      "5722/5725 [============================>.] - ETA: 0s - loss: 0.7998 - accuracy: 0.6839\n",
      "Epoch 00028: val_loss improved from 0.96597 to 0.96319, saving model to /home/ys587/__Data/__whistle/__whislte_30_species/__fit_result_species/20210225_110837/STAR2006/epoch_28_valloss_0.9632_valacc_0.6467.hdf5\n",
      "5725/5725 [==============================] - 90s 16ms/step - loss: 0.7998 - accuracy: 0.6839 - val_loss: 0.9632 - val_accuracy: 0.6467\n",
      "Epoch 29/200\n",
      "5725/5725 [==============================] - ETA: 0s - loss: 0.7858 - accuracy: 0.6890\n",
      "Epoch 00029: val_loss improved from 0.96319 to 0.92137, saving model to /home/ys587/__Data/__whistle/__whislte_30_species/__fit_result_species/20210225_110837/STAR2006/epoch_29_valloss_0.9214_valacc_0.6564.hdf5\n",
      "5725/5725 [==============================] - 90s 16ms/step - loss: 0.7858 - accuracy: 0.6890 - val_loss: 0.9214 - val_accuracy: 0.6564\n",
      "Epoch 30/200\n",
      "5722/5725 [============================>.] - ETA: 0s - loss: 0.7697 - accuracy: 0.6957\n",
      "Epoch 00030: val_loss did not improve from 0.92137\n",
      "5725/5725 [==============================] - 90s 16ms/step - loss: 0.7698 - accuracy: 0.6957 - val_loss: 1.0794 - val_accuracy: 0.6048\n",
      "Epoch 31/200\n",
      "5722/5725 [============================>.] - ETA: 0s - loss: 0.7564 - accuracy: 0.6998\n",
      "Epoch 00031: val_loss did not improve from 0.92137\n",
      "5725/5725 [==============================] - 90s 16ms/step - loss: 0.7565 - accuracy: 0.6998 - val_loss: 0.9496 - val_accuracy: 0.6511\n",
      "Epoch 32/200\n",
      "5724/5725 [============================>.] - ETA: 0s - loss: 0.7422 - accuracy: 0.7060\n",
      "Epoch 00032: val_loss did not improve from 0.92137\n",
      "5725/5725 [==============================] - 89s 16ms/step - loss: 0.7423 - accuracy: 0.7060 - val_loss: 0.9492 - val_accuracy: 0.6484\n",
      "Epoch 33/200\n",
      "5725/5725 [==============================] - ETA: 0s - loss: 0.7294 - accuracy: 0.7103\n",
      "Epoch 00033: val_loss improved from 0.92137 to 0.90787, saving model to /home/ys587/__Data/__whistle/__whislte_30_species/__fit_result_species/20210225_110837/STAR2006/epoch_33_valloss_0.9079_valacc_0.6644.hdf5\n",
      "5725/5725 [==============================] - 90s 16ms/step - loss: 0.7294 - accuracy: 0.7103 - val_loss: 0.9079 - val_accuracy: 0.6644\n",
      "Epoch 34/200\n",
      "5723/5725 [============================>.] - ETA: 0s - loss: 0.7183 - accuracy: 0.7129\n",
      "Epoch 00034: val_loss did not improve from 0.90787\n",
      "5725/5725 [==============================] - 90s 16ms/step - loss: 0.7183 - accuracy: 0.7129 - val_loss: 0.9471 - val_accuracy: 0.6510\n",
      "Epoch 35/200\n",
      "5722/5725 [============================>.] - ETA: 0s - loss: 0.7049 - accuracy: 0.7192\n",
      "Epoch 00035: val_loss did not improve from 0.90787\n",
      "5725/5725 [==============================] - 90s 16ms/step - loss: 0.7048 - accuracy: 0.7192 - val_loss: 0.9546 - val_accuracy: 0.6497\n",
      "Epoch 36/200\n",
      "5724/5725 [============================>.] - ETA: 0s - loss: 0.6886 - accuracy: 0.7245\n",
      "Epoch 00036: val_loss did not improve from 0.90787\n",
      "5725/5725 [==============================] - 90s 16ms/step - loss: 0.6886 - accuracy: 0.7245 - val_loss: 0.9219 - val_accuracy: 0.6596\n",
      "Epoch 37/200\n",
      "5724/5725 [============================>.] - ETA: 0s - loss: 0.6789 - accuracy: 0.7294\n",
      "Epoch 00037: val_loss did not improve from 0.90787\n",
      "5725/5725 [==============================] - 90s 16ms/step - loss: 0.6789 - accuracy: 0.7294 - val_loss: 0.9170 - val_accuracy: 0.6640\n",
      "Epoch 38/200\n",
      "5725/5725 [==============================] - ETA: 0s - loss: 0.6667 - accuracy: 0.7337\n",
      "Epoch 00038: val_loss did not improve from 0.90787\n",
      "5725/5725 [==============================] - 89s 16ms/step - loss: 0.6667 - accuracy: 0.7337 - val_loss: 0.9539 - val_accuracy: 0.6628\n",
      "Epoch 39/200\n",
      "5725/5725 [==============================] - ETA: 0s - loss: 0.6528 - accuracy: 0.7399\n",
      "Epoch 00039: val_loss improved from 0.90787 to 0.89660, saving model to /home/ys587/__Data/__whistle/__whislte_30_species/__fit_result_species/20210225_110837/STAR2006/epoch_39_valloss_0.8966_valacc_0.6771.hdf5\n",
      "5725/5725 [==============================] - 90s 16ms/step - loss: 0.6528 - accuracy: 0.7399 - val_loss: 0.8966 - val_accuracy: 0.6771\n",
      "Epoch 40/200\n",
      "5724/5725 [============================>.] - ETA: 0s - loss: 0.6424 - accuracy: 0.7426\n",
      "Epoch 00040: val_loss did not improve from 0.89660\n",
      "5725/5725 [==============================] - 90s 16ms/step - loss: 0.6424 - accuracy: 0.7426 - val_loss: 0.9138 - val_accuracy: 0.6658\n",
      "Epoch 41/200\n",
      "5723/5725 [============================>.] - ETA: 0s - loss: 0.6296 - accuracy: 0.7472\n",
      "Epoch 00041: val_loss did not improve from 0.89660\n",
      "5725/5725 [==============================] - 90s 16ms/step - loss: 0.6296 - accuracy: 0.7472 - val_loss: 0.9308 - val_accuracy: 0.6670\n",
      "Epoch 42/200\n",
      "5722/5725 [============================>.] - ETA: 0s - loss: 0.6212 - accuracy: 0.7504\n",
      "Epoch 00042: val_loss did not improve from 0.89660\n",
      "5725/5725 [==============================] - 89s 16ms/step - loss: 0.6211 - accuracy: 0.7504 - val_loss: 0.8989 - val_accuracy: 0.6799\n",
      "Epoch 43/200\n",
      "5722/5725 [============================>.] - ETA: 0s - loss: 0.6066 - accuracy: 0.7548\n",
      "Epoch 00043: val_loss did not improve from 0.89660\n",
      "5725/5725 [==============================] - 90s 16ms/step - loss: 0.6068 - accuracy: 0.7548 - val_loss: 0.9137 - val_accuracy: 0.6784\n",
      "Epoch 44/200\n",
      "5723/5725 [============================>.] - ETA: 0s - loss: 0.5967 - accuracy: 0.7593\n",
      "Epoch 00044: val_loss did not improve from 0.89660\n",
      "5725/5725 [==============================] - 89s 16ms/step - loss: 0.5967 - accuracy: 0.7593 - val_loss: 0.9134 - val_accuracy: 0.6813\n",
      "Epoch 45/200\n",
      "5722/5725 [============================>.] - ETA: 0s - loss: 0.5898 - accuracy: 0.7625\n",
      "Epoch 00045: val_loss did not improve from 0.89660\n",
      "5725/5725 [==============================] - 90s 16ms/step - loss: 0.5898 - accuracy: 0.7625 - val_loss: 0.9504 - val_accuracy: 0.6744\n",
      "Epoch 46/200\n",
      "5723/5725 [============================>.] - ETA: 0s - loss: 0.5776 - accuracy: 0.7669\n",
      "Epoch 00046: val_loss did not improve from 0.89660\n",
      "5725/5725 [==============================] - 89s 16ms/step - loss: 0.5775 - accuracy: 0.7669 - val_loss: 0.9120 - val_accuracy: 0.6788\n",
      "Epoch 47/200\n",
      "5725/5725 [==============================] - ETA: 0s - loss: 0.5656 - accuracy: 0.7724\n",
      "Epoch 00047: val_loss did not improve from 0.89660\n",
      "5725/5725 [==============================] - 90s 16ms/step - loss: 0.5656 - accuracy: 0.7724 - val_loss: 0.9199 - val_accuracy: 0.6789\n",
      "Epoch 48/200\n",
      "5723/5725 [============================>.] - ETA: 0s - loss: 0.5572 - accuracy: 0.7760\n",
      "Epoch 00048: val_loss did not improve from 0.89660\n",
      "5725/5725 [==============================] - 89s 16ms/step - loss: 0.5572 - accuracy: 0.7759 - val_loss: 0.9375 - val_accuracy: 0.6720\n",
      "Epoch 49/200\n",
      "5722/5725 [============================>.] - ETA: 0s - loss: 0.5480 - accuracy: 0.7772\n",
      "Epoch 00049: val_loss did not improve from 0.89660\n",
      "5725/5725 [==============================] - 89s 16ms/step - loss: 0.5480 - accuracy: 0.7772 - val_loss: 0.9323 - val_accuracy: 0.6739\n",
      "Epoch 50/200\n",
      "5725/5725 [==============================] - ETA: 0s - loss: 0.5377 - accuracy: 0.7817\n",
      "Epoch 00050: val_loss improved from 0.89660 to 0.88592, saving model to /home/ys587/__Data/__whistle/__whislte_30_species/__fit_result_species/20210225_110837/STAR2006/epoch_50_valloss_0.8859_valacc_0.6933.hdf5\n",
      "5725/5725 [==============================] - 90s 16ms/step - loss: 0.5377 - accuracy: 0.7817 - val_loss: 0.8859 - val_accuracy: 0.6933\n",
      "Epoch 51/200\n",
      "5725/5725 [==============================] - ETA: 0s - loss: 0.5314 - accuracy: 0.7838\n",
      "Epoch 00051: val_loss did not improve from 0.88592\n",
      "5725/5725 [==============================] - 90s 16ms/step - loss: 0.5314 - accuracy: 0.7838 - val_loss: 0.9351 - val_accuracy: 0.6839\n",
      "Epoch 52/200\n",
      "5722/5725 [============================>.] - ETA: 0s - loss: 0.5202 - accuracy: 0.7888\n",
      "Epoch 00052: val_loss did not improve from 0.88592\n",
      "5725/5725 [==============================] - 89s 16ms/step - loss: 0.5201 - accuracy: 0.7888 - val_loss: 0.9543 - val_accuracy: 0.6712\n",
      "Epoch 53/200\n",
      "5724/5725 [============================>.] - ETA: 0s - loss: 0.5158 - accuracy: 0.7900\n",
      "Epoch 00053: val_loss did not improve from 0.88592\n",
      "5725/5725 [==============================] - 90s 16ms/step - loss: 0.5158 - accuracy: 0.7899 - val_loss: 0.9328 - val_accuracy: 0.6796\n",
      "Epoch 54/200\n",
      "5722/5725 [============================>.] - ETA: 0s - loss: 0.5012 - accuracy: 0.7968\n",
      "Epoch 00054: val_loss did not improve from 0.88592\n",
      "5725/5725 [==============================] - 89s 16ms/step - loss: 0.5012 - accuracy: 0.7968 - val_loss: 0.9716 - val_accuracy: 0.6728\n",
      "Epoch 55/200\n",
      "5723/5725 [============================>.] - ETA: 0s - loss: 0.4935 - accuracy: 0.7988\n",
      "Epoch 00055: val_loss did not improve from 0.88592\n",
      "5725/5725 [==============================] - 90s 16ms/step - loss: 0.4936 - accuracy: 0.7988 - val_loss: 1.0228 - val_accuracy: 0.6703\n",
      "Epoch 56/200\n",
      "5725/5725 [==============================] - ETA: 0s - loss: 0.4911 - accuracy: 0.7986\n",
      "Epoch 00056: val_loss did not improve from 0.88592\n",
      "5725/5725 [==============================] - 89s 16ms/step - loss: 0.4911 - accuracy: 0.7986 - val_loss: 0.9007 - val_accuracy: 0.6996\n",
      "Epoch 57/200\n",
      "5723/5725 [============================>.] - ETA: 0s - loss: 0.4746 - accuracy: 0.8056\n",
      "Epoch 00057: val_loss did not improve from 0.88592\n",
      "5725/5725 [==============================] - 89s 16ms/step - loss: 0.4747 - accuracy: 0.8056 - val_loss: 0.9570 - val_accuracy: 0.6804\n",
      "Epoch 58/200\n",
      "5725/5725 [==============================] - ETA: 0s - loss: 0.4745 - accuracy: 0.8065\n",
      "Epoch 00058: val_loss did not improve from 0.88592\n",
      "5725/5725 [==============================] - 90s 16ms/step - loss: 0.4745 - accuracy: 0.8065 - val_loss: 1.0158 - val_accuracy: 0.6714\n",
      "Epoch 59/200\n",
      "5722/5725 [============================>.] - ETA: 0s - loss: 0.4633 - accuracy: 0.8102\n",
      "Epoch 00059: val_loss did not improve from 0.88592\n",
      "5725/5725 [==============================] - 89s 16ms/step - loss: 0.4633 - accuracy: 0.8103 - val_loss: 0.9579 - val_accuracy: 0.6849\n",
      "Epoch 60/200\n",
      "5724/5725 [============================>.] - ETA: 0s - loss: 0.4573 - accuracy: 0.8131\n",
      "Epoch 00060: val_loss did not improve from 0.88592\n",
      "5725/5725 [==============================] - 89s 16ms/step - loss: 0.4573 - accuracy: 0.8131 - val_loss: 0.9293 - val_accuracy: 0.6933\n",
      "Epoch 61/200\n",
      "5723/5725 [============================>.] - ETA: 0s - loss: 0.4499 - accuracy: 0.8166\n",
      "Epoch 00061: val_loss did not improve from 0.88592\n",
      "5725/5725 [==============================] - 89s 16ms/step - loss: 0.4498 - accuracy: 0.8166 - val_loss: 0.9477 - val_accuracy: 0.6932\n",
      "Epoch 62/200\n",
      "5725/5725 [==============================] - ETA: 0s - loss: 0.4410 - accuracy: 0.8189\n",
      "Epoch 00062: val_loss did not improve from 0.88592\n",
      "5725/5725 [==============================] - 89s 16ms/step - loss: 0.4410 - accuracy: 0.8189 - val_loss: 0.9457 - val_accuracy: 0.6900\n",
      "Epoch 63/200\n",
      "5723/5725 [============================>.] - ETA: 0s - loss: 0.4338 - accuracy: 0.8217\n",
      "Epoch 00063: val_loss did not improve from 0.88592\n",
      "5725/5725 [==============================] - 89s 16ms/step - loss: 0.4338 - accuracy: 0.8217 - val_loss: 0.9877 - val_accuracy: 0.6862\n",
      "Epoch 64/200\n",
      "5724/5725 [============================>.] - ETA: 0s - loss: 0.4262 - accuracy: 0.8238\n",
      "Epoch 00064: val_loss did not improve from 0.88592\n",
      "5725/5725 [==============================] - 90s 16ms/step - loss: 0.4262 - accuracy: 0.8238 - val_loss: 1.0327 - val_accuracy: 0.6832\n",
      "Epoch 65/200\n",
      "5722/5725 [============================>.] - ETA: 0s - loss: 0.4186 - accuracy: 0.8274\n",
      "Epoch 00065: val_loss did not improve from 0.88592\n",
      "5725/5725 [==============================] - 89s 16ms/step - loss: 0.4185 - accuracy: 0.8275 - val_loss: 0.9804 - val_accuracy: 0.6910\n",
      "Epoch 66/200\n",
      "5723/5725 [============================>.] - ETA: 0s - loss: 0.4114 - accuracy: 0.8304\n",
      "Epoch 00066: val_loss did not improve from 0.88592\n",
      "5725/5725 [==============================] - 89s 16ms/step - loss: 0.4114 - accuracy: 0.8304 - val_loss: 0.9565 - val_accuracy: 0.6927\n",
      "Epoch 67/200\n",
      "5724/5725 [============================>.] - ETA: 0s - loss: 0.4074 - accuracy: 0.8330\n",
      "Epoch 00067: val_loss did not improve from 0.88592\n",
      "5725/5725 [==============================] - 89s 16ms/step - loss: 0.4074 - accuracy: 0.8330 - val_loss: 0.9475 - val_accuracy: 0.6965\n",
      "Epoch 68/200\n",
      "5725/5725 [==============================] - ETA: 0s - loss: 0.4023 - accuracy: 0.8347\n",
      "Epoch 00068: val_loss did not improve from 0.88592\n",
      "5725/5725 [==============================] - 89s 16ms/step - loss: 0.4023 - accuracy: 0.8347 - val_loss: 0.9747 - val_accuracy: 0.6891\n",
      "Epoch 69/200\n",
      "5725/5725 [==============================] - ETA: 0s - loss: 0.3979 - accuracy: 0.8349\n",
      "Epoch 00069: val_loss did not improve from 0.88592\n",
      "5725/5725 [==============================] - 89s 16ms/step - loss: 0.3979 - accuracy: 0.8349 - val_loss: 0.9933 - val_accuracy: 0.6889\n",
      "Epoch 70/200\n",
      "5722/5725 [============================>.] - ETA: 0s - loss: 0.3898 - accuracy: 0.8396\n",
      "Epoch 00070: val_loss did not improve from 0.88592\n",
      "5725/5725 [==============================] - 89s 16ms/step - loss: 0.3898 - accuracy: 0.8396 - val_loss: 0.9631 - val_accuracy: 0.6986\n",
      "Epoch 00070: early stopping\n"
     ]
    }
   ],
   "source": [
    "# model = model_cnn14_attention_multi(dim_time, dim_freq, num_species, model_type='feature_level_attention', conv_dim=conv_dim, pool_size=pool_size, pool_stride=pool_stride, hidden_units=hidden_units, l2_regu=l2_regu, drop_rate=drop_rate)\n",
    "model = model_cnn14_spp(dim_time, dim_freq, num_species, conv_dim=conv_dim, pool_size=pool_size, pool_stride=pool_stride, hidden_units=hidden_units, l2_regu=l2_regu, drop_rate=drop_rate)\n",
    "loss = CategoricalCrossentropy()\n",
    "model.compile(optimizer=tf.keras.optimizers.Adam(learning_rate=learning_rate_fn), loss=loss, metrics=['accuracy'])\n",
    "\n",
    "# With classes\n",
    "# history = model.fit(fea_train, to_categorical(label_train), class_weight=class_weights, validation_split=0.3, batch_size=batch_size, epochs=num_epoch, callbacks=[EarlyStopping(patience=num_patience), ModelCheckpoint(filepath=os.path.join(fit_result_path, '{epoch:02d}-{val_loss:.4f}.hdf5'), verbose=1, monitor=\"val_loss\", save_best_only=True)])\n",
    "# history = model.fit(train_generator, validation_data=validate_generator, class_weight=class_weights, epochs=num_epoch, callbacks=[EarlyStopping(patience=num_patience, monitor='val_loss', mode='min', verbose=1), TensorBoard(log_dir=fit_result_path1), ModelCheckpoint(filepath=os.path.join(fit_result_path1, '{epoch:02d}-{val_loss:.4f}.hdf5'), verbose=1, monitor=\"val_loss\", save_best_only=True)])\n",
    "history = model.fit(train_generator, validation_data=validate_generator, class_weight=class_weights, epochs=num_epoch, callbacks=[EarlyStopping(patience=num_patience, monitor='val_loss', mode='min', verbose=1), TensorBoard(log_dir=fit_result_path2), ModelCheckpoint(filepath=os.path.join(fit_result_path2, 'epoch_{epoch:02d}_valloss_{val_loss:.4f}_valacc_{val_accuracy:.4f}.hdf5' ), verbose=1, monitor=\"val_loss\", save_best_only=True)])"
   ]
  },
  {
   "cell_type": "code",
   "execution_count": 87,
   "metadata": {},
   "outputs": [
    {
     "name": "stdout",
     "output_type": "stream",
     "text": [
      "Best model:0.8859\n",
      "/home/ys587/__Data/__whistle/__whislte_30_species/__fit_result_species/20210225_110837/STAR2006/epoch_50_valloss_0.8859_valacc_0.6933.hdf5\n"
     ]
    }
   ],
   "source": [
    "# fit_result_path1 = '/home/ys587/__Data/__whistle/__whislte_30_species/__fit_result_species/20210210_224527'\n",
    "the_best_model, _ = find_best_model(fit_result_path2, purge=False)"
   ]
  },
  {
   "cell_type": "code",
   "execution_count": 88,
   "metadata": {
    "scrolled": true
   },
   "outputs": [
    {
     "name": "stdout",
     "output_type": "stream",
     "text": [
      "Model: \"model_2\"\n",
      "_________________________________________________________________\n",
      "Layer (type)                 Output Shape              Param #   \n",
      "=================================================================\n",
      "input (InputLayer)           [(None, 100, 128, 1)]     0         \n",
      "_________________________________________________________________\n",
      "conv2d_20 (Conv2D)           (None, 100, 128, 16)      160       \n",
      "_________________________________________________________________\n",
      "batch_normalization_20 (Batc (None, 100, 128, 16)      64        \n",
      "_________________________________________________________________\n",
      "activation_20 (Activation)   (None, 100, 128, 16)      0         \n",
      "_________________________________________________________________\n",
      "conv2d_21 (Conv2D)           (None, 100, 128, 16)      2320      \n",
      "_________________________________________________________________\n",
      "batch_normalization_21 (Batc (None, 100, 128, 16)      64        \n",
      "_________________________________________________________________\n",
      "activation_21 (Activation)   (None, 100, 128, 16)      0         \n",
      "_________________________________________________________________\n",
      "max_pooling2d_8 (MaxPooling2 (None, 50, 64, 16)        0         \n",
      "_________________________________________________________________\n",
      "dropout_8 (Dropout)          (None, 50, 64, 16)        0         \n",
      "_________________________________________________________________\n",
      "conv2d_22 (Conv2D)           (None, 50, 64, 32)        4640      \n",
      "_________________________________________________________________\n",
      "batch_normalization_22 (Batc (None, 50, 64, 32)        128       \n",
      "_________________________________________________________________\n",
      "activation_22 (Activation)   (None, 50, 64, 32)        0         \n",
      "_________________________________________________________________\n",
      "conv2d_23 (Conv2D)           (None, 50, 64, 32)        9248      \n",
      "_________________________________________________________________\n",
      "batch_normalization_23 (Batc (None, 50, 64, 32)        128       \n",
      "_________________________________________________________________\n",
      "activation_23 (Activation)   (None, 50, 64, 32)        0         \n",
      "_________________________________________________________________\n",
      "max_pooling2d_9 (MaxPooling2 (None, 25, 32, 32)        0         \n",
      "_________________________________________________________________\n",
      "dropout_9 (Dropout)          (None, 25, 32, 32)        0         \n",
      "_________________________________________________________________\n",
      "conv2d_24 (Conv2D)           (None, 25, 32, 64)        18496     \n",
      "_________________________________________________________________\n",
      "batch_normalization_24 (Batc (None, 25, 32, 64)        256       \n",
      "_________________________________________________________________\n",
      "activation_24 (Activation)   (None, 25, 32, 64)        0         \n",
      "_________________________________________________________________\n",
      "conv2d_25 (Conv2D)           (None, 25, 32, 64)        36928     \n",
      "_________________________________________________________________\n",
      "batch_normalization_25 (Batc (None, 25, 32, 64)        256       \n",
      "_________________________________________________________________\n",
      "activation_25 (Activation)   (None, 25, 32, 64)        0         \n",
      "_________________________________________________________________\n",
      "max_pooling2d_10 (MaxPooling (None, 13, 16, 64)        0         \n",
      "_________________________________________________________________\n",
      "dropout_10 (Dropout)         (None, 13, 16, 64)        0         \n",
      "_________________________________________________________________\n",
      "conv2d_26 (Conv2D)           (None, 13, 16, 128)       73856     \n",
      "_________________________________________________________________\n",
      "batch_normalization_26 (Batc (None, 13, 16, 128)       512       \n",
      "_________________________________________________________________\n",
      "activation_26 (Activation)   (None, 13, 16, 128)       0         \n",
      "_________________________________________________________________\n",
      "conv2d_27 (Conv2D)           (None, 13, 16, 128)       147584    \n",
      "_________________________________________________________________\n",
      "batch_normalization_27 (Batc (None, 13, 16, 128)       512       \n",
      "_________________________________________________________________\n",
      "activation_27 (Activation)   (None, 13, 16, 128)       0         \n",
      "_________________________________________________________________\n",
      "max_pooling2d_11 (MaxPooling (None, 7, 8, 128)         0         \n",
      "_________________________________________________________________\n",
      "dropout_11 (Dropout)         (None, 7, 8, 128)         0         \n",
      "_________________________________________________________________\n",
      "conv2d_28 (Conv2D)           (None, 7, 8, 256)         295168    \n",
      "_________________________________________________________________\n",
      "batch_normalization_28 (Batc (None, 7, 8, 256)         1024      \n",
      "_________________________________________________________________\n",
      "activation_28 (Activation)   (None, 7, 8, 256)         0         \n",
      "_________________________________________________________________\n",
      "conv2d_29 (Conv2D)           (None, 7, 8, 256)         590080    \n",
      "_________________________________________________________________\n",
      "batch_normalization_29 (Batc (None, 7, 8, 256)         1024      \n",
      "_________________________________________________________________\n",
      "activation_29 (Activation)   (None, 7, 8, 256)         0         \n",
      "_________________________________________________________________\n",
      "spatial_pyramid_pooling2d_2  (None, 15, 256)           0         \n",
      "_________________________________________________________________\n",
      "reshape_2 (Reshape)          (None, 3840)              0         \n",
      "_________________________________________________________________\n",
      "cnn14_fcn (Dense)            (None, 256)               983296    \n",
      "_________________________________________________________________\n",
      "dense_2 (Dense)              (None, 8)                 2056      \n",
      "=================================================================\n",
      "Total params: 2,167,800\n",
      "Trainable params: 2,165,816\n",
      "Non-trainable params: 1,984\n",
      "_________________________________________________________________\n"
     ]
    }
   ],
   "source": [
    "model = load_model(the_best_model)\n",
    "model.summary()"
   ]
  },
  {
   "cell_type": "code",
   "execution_count": 89,
   "metadata": {},
   "outputs": [],
   "source": [
    "label_pred = model.predict(fea_test)\n",
    "# label_pred = model.predict(test_generator)"
   ]
  },
  {
   "cell_type": "code",
   "execution_count": 90,
   "metadata": {},
   "outputs": [],
   "source": [
    "np.set_printoptions(linewidth=200, precision=2, suppress=True)"
   ]
  },
  {
   "cell_type": "code",
   "execution_count": 91,
   "metadata": {},
   "outputs": [
    {
     "name": "stdout",
     "output_type": "stream",
     "text": [
      "Confusion matrix:\n",
      "['BD', 'CD', 'STR', 'SPT', 'SPIN', 'PLT', 'RT', 'FKW']\n",
      "\n",
      "[[  0   0   0   0   0   0   0   0]\n",
      " [  5   2   1   1   1   6   7   1]\n",
      " [149 142 248 140  26  19  19   7]\n",
      " [113   2   7   3  17   0   5   0]\n",
      " [  1   0   0   0   0   0   1   0]\n",
      " [192  21  14   6  10 265  75  49]\n",
      " [ 10   1   1   0   4   3  25   2]\n",
      " [  8  17  20   2   2  41  44 769]]\n",
      "\n",
      "[[0.   0.   0.   0.   0.   0.   0.   0.  ]\n",
      " [0.21 0.08 0.04 0.04 0.04 0.25 0.29 0.04]\n",
      " [0.2  0.19 0.33 0.19 0.03 0.03 0.03 0.01]\n",
      " [0.77 0.01 0.05 0.02 0.12 0.   0.03 0.  ]\n",
      " [0.5  0.   0.   0.   0.   0.   0.5  0.  ]\n",
      " [0.3  0.03 0.02 0.01 0.02 0.42 0.12 0.08]\n",
      " [0.22 0.02 0.02 0.   0.09 0.07 0.54 0.04]\n",
      " [0.01 0.02 0.02 0.   0.   0.05 0.05 0.85]]\n"
     ]
    }
   ],
   "source": [
    "print(\"Confusion matrix:\")\n",
    "cm = confusion_matrix(label_test, np.argmax(label_pred, axis=1), labels=species_id)\n",
    "\n",
    "print(species_list)\n",
    "print('')\n",
    "print(cm)\n",
    "print('')\n",
    "\n",
    "cm2 = cm*1.0\n",
    "for ii in range(cm.shape[0]):\n",
    "    cm_row = cm[ii, :]*1.0\n",
    "\n",
    "    cm_row_sum = cm_row.sum()\n",
    "    if cm_row_sum != 0:\n",
    "        cm2[ii, :] = cm_row / cm_row_sum\n",
    "    else:\n",
    "        cm2[ii, :] = np.zeros(cm.shape[1])\n",
    "\n",
    "print(cm2)"
   ]
  },
  {
   "cell_type": "code",
   "execution_count": 92,
   "metadata": {},
   "outputs": [],
   "source": [
    "from sklearn.metrics import plot_confusion_matrix\n",
    "from sklearn.metrics._plot.confusion_matrix import ConfusionMatrixDisplay\n",
    "disp = ConfusionMatrixDisplay(confusion_matrix=cm, display_labels=species_list)\n",
    "disp2 = ConfusionMatrixDisplay(confusion_matrix=cm2, display_labels=species_list)"
   ]
  },
  {
   "cell_type": "code",
   "execution_count": 93,
   "metadata": {},
   "outputs": [
    {
     "data": {
      "text/plain": [
       "<sklearn.metrics._plot.confusion_matrix.ConfusionMatrixDisplay at 0x7f28f88204c0>"
      ]
     },
     "execution_count": 93,
     "metadata": {},
     "output_type": "execute_result"
    },
    {
     "data": {
      "image/png": "[encoded data removed]",
      "text/plain": [
       "<Figure size 1080x1080 with 2 Axes>"
      ]
     },
     "metadata": {
      "needs_background": "light"
     },
     "output_type": "display_data"
    }
   ],
   "source": [
    "fig, ax = plt.subplots(figsize=[15, 15])\n",
    "disp.plot(include_values=True,\n",
    "                     cmap='viridis', ax=ax, xticks_rotation='horizontal',\n",
    "                     values_format=None, colorbar=True)\n"
   ]
  },
  {
   "cell_type": "code",
   "execution_count": 94,
   "metadata": {},
   "outputs": [
    {
     "data": {
      "text/plain": [
       "<sklearn.metrics._plot.confusion_matrix.ConfusionMatrixDisplay at 0x7f28f88200d0>"
      ]
     },
     "execution_count": 94,
     "metadata": {},
     "output_type": "execute_result"
    },
    {
     "data": {
      "image/png": "[encoded data removed]",
      "text/plain": [
       "<Figure size 1080x1080 with 2 Axes>"
      ]
     },
     "metadata": {
      "needs_background": "light"
     },
     "output_type": "display_data"
    }
   ],
   "source": [
    "fig, ax = plt.subplots(figsize=[15, 15])\n",
    "disp2.plot(include_values=True,\n",
    "                     cmap='viridis', ax=ax, xticks_rotation='horizontal',\n",
    "                     values_format='.2f', colorbar=True)"
   ]
  },
  {
   "cell_type": "markdown",
   "metadata": {},
   "source": [
    "## HICEAS2002"
   ]
  },
  {
   "cell_type": "code",
   "execution_count": 95,
   "metadata": {},
   "outputs": [
    {
     "name": "stdout",
     "output_type": "stream",
     "text": [
      "HICEAS2002\n"
     ]
    }
   ],
   "source": [
    "ee = deployment[3]\n",
    "print(ee)"
   ]
  },
  {
   "cell_type": "code",
   "execution_count": 96,
   "metadata": {},
   "outputs": [],
   "source": [
    "# Training data\n",
    "fea_temp = np.load(os.path.join(feature_path, 'train_oswald_no_'+ee+'.npz'))\n",
    "fea_train = fea_temp['fea_train']\n",
    "label_train_list = fea_temp['label_train']\n",
    "del fea_temp"
   ]
  },
  {
   "cell_type": "code",
   "execution_count": 97,
   "metadata": {},
   "outputs": [],
   "source": [
    "label_train = np.zeros(len(label_train_list))\n",
    "for ii in range(len(label_train_list)):\n",
    "    label_train[ii] = species_dict[label_train_list[ii]]"
   ]
  },
  {
   "cell_type": "code",
   "execution_count": 98,
   "metadata": {},
   "outputs": [],
   "source": [
    "# Testing data\n",
    "fea_temp = np.load(os.path.join(feature_path, 'oswald_'+ee+'_orig.npz'))\n",
    "fea_test = fea_temp['feas_orig']\n",
    "label_test_list = fea_temp['labels_orig']\n",
    "\n",
    "fea_test = fea_test[:,:100,:]\n",
    "label_test = np.zeros(len(label_test_list))\n",
    "for ii in range(len(label_test_list)):\n",
    "    label_test[ii] = species_dict[label_test_list[ii]]"
   ]
  },
  {
   "cell_type": "code",
   "execution_count": 99,
   "metadata": {},
   "outputs": [],
   "source": [
    "fea_train = fea_train[:,:100,:]"
   ]
  },
  {
   "cell_type": "code",
   "execution_count": 100,
   "metadata": {},
   "outputs": [],
   "source": [
    "label_train = np.zeros(len(label_train_list))\n",
    "for ii in range(len(label_train_list)):\n",
    "    label_train[ii] = species_dict[label_train_list[ii]]"
   ]
  },
  {
   "cell_type": "code",
   "execution_count": 101,
   "metadata": {
    "scrolled": true
   },
   "outputs": [
    {
     "data": {
      "text/plain": [
       "Counter({'BD': 16148,\n",
       "         'CD': 28632,\n",
       "         'PLT': 8472,\n",
       "         'RT': 6016,\n",
       "         'SPIN': 10594,\n",
       "         'SPT': 18036,\n",
       "         'STR': 21768,\n",
       "         'FKW': 20160})"
      ]
     },
     "execution_count": 101,
     "metadata": {},
     "output_type": "execute_result"
    }
   ],
   "source": [
    "Counter(label_train_list)"
   ]
  },
  {
   "cell_type": "code",
   "execution_count": 102,
   "metadata": {},
   "outputs": [
    {
     "data": {
      "text/plain": [
       "Counter({0.0: 41, 5.0: 1052, 6.0: 749, 4.0: 86, 3.0: 385, 2.0: 216})"
      ]
     },
     "execution_count": 102,
     "metadata": {},
     "output_type": "execute_result"
    }
   ],
   "source": [
    "Counter(label_test.tolist())"
   ]
  },
  {
   "cell_type": "code",
   "execution_count": 103,
   "metadata": {},
   "outputs": [],
   "source": [
    "fit_result_path2 = os.path.join(fit_result_path1, ee)\n",
    "if not os.path.exists(fit_result_path2):\n",
    "    makedirs(fit_result_path2)"
   ]
  },
  {
   "cell_type": "code",
   "execution_count": 104,
   "metadata": {},
   "outputs": [
    {
     "name": "stdout",
     "output_type": "stream",
     "text": [
      "feature train shape: (129826, 100, 128)\n",
      "feature test shape: (2529, 100, 128)\n",
      "label train shape: (129826,)\n",
      "label test shape: (2529,)\n",
      "dim_time: 100\n",
      "dim_freq: 128\n"
     ]
    }
   ],
   "source": [
    "print('feature train shape: '+str(fea_train.shape))\n",
    "print('feature test shape: '+str(fea_test.shape))\n",
    "print('label train shape: '+str(label_train.shape))\n",
    "print('label test shape: '+str(label_test.shape))\n",
    "\n",
    "dim_time = fea_train.shape[1]\n",
    "dim_freq = fea_train.shape[2]\n",
    "print('dim_time: '+str(dim_time))\n",
    "print('dim_freq: '+str(dim_freq))"
   ]
  },
  {
   "cell_type": "code",
   "execution_count": 105,
   "metadata": {},
   "outputs": [],
   "source": [
    "# shuffle features & labels\n",
    "fea_train, label_train = shuffle(fea_train, label_train, random_state=0)\n",
    "fea_test, label_test = shuffle(fea_test, label_test, random_state=0)"
   ]
  },
  {
   "cell_type": "code",
   "execution_count": 106,
   "metadata": {},
   "outputs": [],
   "source": [
    "# class weight\n",
    "weights = compute_class_weight(class_weight='balanced', classes=np.unique(label_train), y=label_train)\n",
    "\n",
    "class_weights = dict()\n",
    "for ii in range(num_species):\n",
    "    class_weights[ii] = weights[ii]"
   ]
  },
  {
   "cell_type": "code",
   "execution_count": 107,
   "metadata": {},
   "outputs": [],
   "source": [
    "fea_train = np.expand_dims(fea_train, axis=3)\n",
    "fea_test = np.expand_dims(fea_test, axis=3)"
   ]
  },
  {
   "cell_type": "code",
   "execution_count": 108,
   "metadata": {},
   "outputs": [],
   "source": [
    "fea_train, fea_validate, label_train, label_validate = train_test_split(fea_train, label_train, test_size=0.30, random_state=42)\n",
    "\n",
    "train_generator = DataGenerator(fea_train, label_train, batch_size=batch_size, num_classes=num_species)\n",
    "del fea_train\n",
    "validate_generator = DataGenerator(fea_validate, label_validate, batch_size=batch_size, num_classes=num_species)\n",
    "del fea_validate\n",
    "\n",
    "# test_generator = DataGenerator(fea_test, label_test, batch_size=batch_size, num_classes=num_species)\n"
   ]
  },
  {
   "cell_type": "markdown",
   "metadata": {},
   "source": [
    "### Training the model"
   ]
  },
  {
   "cell_type": "code",
   "execution_count": 109,
   "metadata": {
    "scrolled": true
   },
   "outputs": [
    {
     "name": "stdout",
     "output_type": "stream",
     "text": [
      "Epoch 1/200\n",
      "5678/5679 [============================>.] - ETA: 0s - loss: 1.6773 - accuracy: 0.3364\n",
      "Epoch 00001: val_loss improved from inf to 1.65130, saving model to /home/ys587/__Data/__whistle/__whislte_30_species/__fit_result_species/20210225_110837/HICEAS2002/epoch_01_valloss_1.6513_valacc_0.3672.hdf5\n",
      "5679/5679 [==============================] - 88s 15ms/step - loss: 1.6772 - accuracy: 0.3365 - val_loss: 1.6513 - val_accuracy: 0.3672\n",
      "Epoch 2/200\n",
      "5678/5679 [============================>.] - ETA: 0s - loss: 1.3678 - accuracy: 0.4705\n",
      "Epoch 00002: val_loss improved from 1.65130 to 1.32387, saving model to /home/ys587/__Data/__whistle/__whislte_30_species/__fit_result_species/20210225_110837/HICEAS2002/epoch_02_valloss_1.3239_valacc_0.4977.hdf5\n",
      "5679/5679 [==============================] - 87s 15ms/step - loss: 1.3678 - accuracy: 0.4705 - val_loss: 1.3239 - val_accuracy: 0.4977\n",
      "Epoch 3/200\n",
      "5679/5679 [==============================] - ETA: 0s - loss: 1.2519 - accuracy: 0.5158\n",
      "Epoch 00003: val_loss improved from 1.32387 to 1.24269, saving model to /home/ys587/__Data/__whistle/__whislte_30_species/__fit_result_species/20210225_110837/HICEAS2002/epoch_03_valloss_1.2427_valacc_0.5292.hdf5\n",
      "5679/5679 [==============================] - 87s 15ms/step - loss: 1.2519 - accuracy: 0.5158 - val_loss: 1.2427 - val_accuracy: 0.5292\n",
      "Epoch 4/200\n",
      "5677/5679 [============================>.] - ETA: 0s - loss: 1.1762 - accuracy: 0.5464\n",
      "Epoch 00004: val_loss improved from 1.24269 to 1.19926, saving model to /home/ys587/__Data/__whistle/__whislte_30_species/__fit_result_species/20210225_110837/HICEAS2002/epoch_04_valloss_1.1993_valacc_0.5519.hdf5\n",
      "5679/5679 [==============================] - 87s 15ms/step - loss: 1.1760 - accuracy: 0.5465 - val_loss: 1.1993 - val_accuracy: 0.5519\n",
      "Epoch 5/200\n",
      "5676/5679 [============================>.] - ETA: 0s - loss: 1.1149 - accuracy: 0.5671\n",
      "Epoch 00005: val_loss improved from 1.19926 to 1.13573, saving model to /home/ys587/__Data/__whistle/__whislte_30_species/__fit_result_species/20210225_110837/HICEAS2002/epoch_05_valloss_1.1357_valacc_0.5740.hdf5\n",
      "5679/5679 [==============================] - 87s 15ms/step - loss: 1.1149 - accuracy: 0.5671 - val_loss: 1.1357 - val_accuracy: 0.5740\n",
      "Epoch 6/200\n",
      "5677/5679 [============================>.] - ETA: 0s - loss: 1.0642 - accuracy: 0.5880\n",
      "Epoch 00006: val_loss improved from 1.13573 to 1.06345, saving model to /home/ys587/__Data/__whistle/__whislte_30_species/__fit_result_species/20210225_110837/HICEAS2002/epoch_06_valloss_1.0634_valacc_0.5992.hdf5\n",
      "5679/5679 [==============================] - 87s 15ms/step - loss: 1.0640 - accuracy: 0.5881 - val_loss: 1.0634 - val_accuracy: 0.5992\n",
      "Epoch 7/200\n",
      "5676/5679 [============================>.] - ETA: 0s - loss: 1.0173 - accuracy: 0.6034\n",
      "Epoch 00007: val_loss did not improve from 1.06345\n",
      "5679/5679 [==============================] - 87s 15ms/step - loss: 1.0174 - accuracy: 0.6034 - val_loss: 1.0945 - val_accuracy: 0.5878\n",
      "Epoch 8/200\n",
      "5676/5679 [============================>.] - ETA: 0s - loss: 0.9772 - accuracy: 0.6212\n",
      "Epoch 00008: val_loss improved from 1.06345 to 0.98302, saving model to /home/ys587/__Data/__whistle/__whislte_30_species/__fit_result_species/20210225_110837/HICEAS2002/epoch_08_valloss_0.9830_valacc_0.6328.hdf5\n",
      "5679/5679 [==============================] - 88s 15ms/step - loss: 0.9771 - accuracy: 0.6212 - val_loss: 0.9830 - val_accuracy: 0.6328\n",
      "Epoch 9/200\n",
      "5678/5679 [============================>.] - ETA: 0s - loss: 0.9419 - accuracy: 0.6315\n",
      "Epoch 00009: val_loss did not improve from 0.98302\n",
      "5679/5679 [==============================] - 87s 15ms/step - loss: 0.9419 - accuracy: 0.6315 - val_loss: 0.9895 - val_accuracy: 0.6283\n",
      "Epoch 10/200\n",
      "5677/5679 [============================>.] - ETA: 0s - loss: 0.9089 - accuracy: 0.6443\n",
      "Epoch 00010: val_loss did not improve from 0.98302\n",
      "5679/5679 [==============================] - 87s 15ms/step - loss: 0.9091 - accuracy: 0.6443 - val_loss: 1.1762 - val_accuracy: 0.5656\n",
      "Epoch 11/200\n",
      "5679/5679 [==============================] - ETA: 0s - loss: 0.8762 - accuracy: 0.6563\n",
      "Epoch 00011: val_loss did not improve from 0.98302\n",
      "5679/5679 [==============================] - 87s 15ms/step - loss: 0.8762 - accuracy: 0.6563 - val_loss: 1.0058 - val_accuracy: 0.6198\n",
      "Epoch 12/200\n",
      "5679/5679 [==============================] - ETA: 0s - loss: 0.8456 - accuracy: 0.6663\n",
      "Epoch 00012: val_loss improved from 0.98302 to 0.97410, saving model to /home/ys587/__Data/__whistle/__whislte_30_species/__fit_result_species/20210225_110837/HICEAS2002/epoch_12_valloss_0.9741_valacc_0.6369.hdf5\n",
      "5679/5679 [==============================] - 87s 15ms/step - loss: 0.8456 - accuracy: 0.6663 - val_loss: 0.9741 - val_accuracy: 0.6369\n",
      "Epoch 13/200\n",
      "5679/5679 [==============================] - ETA: 0s - loss: 0.8212 - accuracy: 0.6751\n",
      "Epoch 00013: val_loss improved from 0.97410 to 0.89768, saving model to /home/ys587/__Data/__whistle/__whislte_30_species/__fit_result_species/20210225_110837/HICEAS2002/epoch_13_valloss_0.8977_valacc_0.6657.hdf5\n",
      "5679/5679 [==============================] - 87s 15ms/step - loss: 0.8212 - accuracy: 0.6751 - val_loss: 0.8977 - val_accuracy: 0.6657\n",
      "Epoch 14/200\n",
      "5679/5679 [==============================] - ETA: 0s - loss: 0.7954 - accuracy: 0.6845\n",
      "Epoch 00014: val_loss improved from 0.89768 to 0.89519, saving model to /home/ys587/__Data/__whistle/__whislte_30_species/__fit_result_species/20210225_110837/HICEAS2002/epoch_14_valloss_0.8952_valacc_0.6746.hdf5\n",
      "5679/5679 [==============================] - 87s 15ms/step - loss: 0.7954 - accuracy: 0.6845 - val_loss: 0.8952 - val_accuracy: 0.6746\n",
      "Epoch 15/200\n",
      "5677/5679 [============================>.] - ETA: 0s - loss: 0.7663 - accuracy: 0.6932\n",
      "Epoch 00015: val_loss did not improve from 0.89519\n",
      "5679/5679 [==============================] - 87s 15ms/step - loss: 0.7663 - accuracy: 0.6932 - val_loss: 0.9071 - val_accuracy: 0.6646\n",
      "Epoch 16/200\n",
      "5679/5679 [==============================] - ETA: 0s - loss: 0.7411 - accuracy: 0.7039\n",
      "Epoch 00016: val_loss did not improve from 0.89519\n",
      "5679/5679 [==============================] - 87s 15ms/step - loss: 0.7411 - accuracy: 0.7039 - val_loss: 0.9702 - val_accuracy: 0.6408\n",
      "Epoch 17/200\n",
      "5677/5679 [============================>.] - ETA: 0s - loss: 0.7234 - accuracy: 0.7099\n",
      "Epoch 00017: val_loss improved from 0.89519 to 0.87881, saving model to /home/ys587/__Data/__whistle/__whislte_30_species/__fit_result_species/20210225_110837/HICEAS2002/epoch_17_valloss_0.8788_valacc_0.6717.hdf5\n",
      "5679/5679 [==============================] - 87s 15ms/step - loss: 0.7235 - accuracy: 0.7099 - val_loss: 0.8788 - val_accuracy: 0.6717\n",
      "Epoch 18/200\n",
      "5679/5679 [==============================] - ETA: 0s - loss: 0.7005 - accuracy: 0.7183\n",
      "Epoch 00018: val_loss improved from 0.87881 to 0.80893, saving model to /home/ys587/__Data/__whistle/__whislte_30_species/__fit_result_species/20210225_110837/HICEAS2002/epoch_18_valloss_0.8089_valacc_0.7008.hdf5\n",
      "5679/5679 [==============================] - 87s 15ms/step - loss: 0.7005 - accuracy: 0.7183 - val_loss: 0.8089 - val_accuracy: 0.7008\n",
      "Epoch 19/200\n",
      "5676/5679 [============================>.] - ETA: 0s - loss: 0.6798 - accuracy: 0.7260\n",
      "Epoch 00019: val_loss did not improve from 0.80893\n",
      "5679/5679 [==============================] - 87s 15ms/step - loss: 0.6798 - accuracy: 0.7260 - val_loss: 0.8150 - val_accuracy: 0.6973\n",
      "Epoch 20/200\n",
      "5679/5679 [==============================] - ETA: 0s - loss: 0.6615 - accuracy: 0.7328\n",
      "Epoch 00020: val_loss improved from 0.80893 to 0.79551, saving model to /home/ys587/__Data/__whistle/__whislte_30_species/__fit_result_species/20210225_110837/HICEAS2002/epoch_20_valloss_0.7955_valacc_0.7079.hdf5\n",
      "5679/5679 [==============================] - 88s 15ms/step - loss: 0.6615 - accuracy: 0.7328 - val_loss: 0.7955 - val_accuracy: 0.7079\n",
      "Epoch 21/200\n",
      "5677/5679 [============================>.] - ETA: 0s - loss: 0.6435 - accuracy: 0.7379\n",
      "Epoch 00021: val_loss did not improve from 0.79551\n",
      "5679/5679 [==============================] - 87s 15ms/step - loss: 0.6435 - accuracy: 0.7379 - val_loss: 0.8143 - val_accuracy: 0.7026\n",
      "Epoch 22/200\n",
      "5679/5679 [==============================] - ETA: 0s - loss: 0.6220 - accuracy: 0.7449\n",
      "Epoch 00022: val_loss did not improve from 0.79551\n",
      "5679/5679 [==============================] - 87s 15ms/step - loss: 0.6220 - accuracy: 0.7449 - val_loss: 0.8474 - val_accuracy: 0.6902\n",
      "Epoch 23/200\n",
      "5679/5679 [==============================] - ETA: 0s - loss: 0.6014 - accuracy: 0.7543\n",
      "Epoch 00023: val_loss improved from 0.79551 to 0.79423, saving model to /home/ys587/__Data/__whistle/__whislte_30_species/__fit_result_species/20210225_110837/HICEAS2002/epoch_23_valloss_0.7942_valacc_0.7148.hdf5\n",
      "5679/5679 [==============================] - 87s 15ms/step - loss: 0.6014 - accuracy: 0.7543 - val_loss: 0.7942 - val_accuracy: 0.7148\n",
      "Epoch 24/200\n",
      "5677/5679 [============================>.] - ETA: 0s - loss: 0.5889 - accuracy: 0.7591\n",
      "Epoch 00024: val_loss did not improve from 0.79423\n",
      "5679/5679 [==============================] - 87s 15ms/step - loss: 0.5890 - accuracy: 0.7591 - val_loss: 0.7988 - val_accuracy: 0.7080\n",
      "Epoch 25/200\n",
      "5677/5679 [============================>.] - ETA: 0s - loss: 0.5713 - accuracy: 0.7659\n",
      "Epoch 00025: val_loss did not improve from 0.79423\n",
      "5679/5679 [==============================] - 88s 15ms/step - loss: 0.5712 - accuracy: 0.7660 - val_loss: 0.8636 - val_accuracy: 0.6862\n",
      "Epoch 26/200\n",
      "5676/5679 [============================>.] - ETA: 0s - loss: 0.5569 - accuracy: 0.7699\n",
      "Epoch 00026: val_loss improved from 0.79423 to 0.77424, saving model to /home/ys587/__Data/__whistle/__whislte_30_species/__fit_result_species/20210225_110837/HICEAS2002/epoch_26_valloss_0.7742_valacc_0.7183.hdf5\n",
      "5679/5679 [==============================] - 87s 15ms/step - loss: 0.5569 - accuracy: 0.7699 - val_loss: 0.7742 - val_accuracy: 0.7183\n",
      "Epoch 27/200\n",
      "5678/5679 [============================>.] - ETA: 0s - loss: 0.5405 - accuracy: 0.7769\n",
      "Epoch 00027: val_loss improved from 0.77424 to 0.74968, saving model to /home/ys587/__Data/__whistle/__whislte_30_species/__fit_result_species/20210225_110837/HICEAS2002/epoch_27_valloss_0.7497_valacc_0.7286.hdf5\n",
      "5679/5679 [==============================] - 88s 15ms/step - loss: 0.5404 - accuracy: 0.7769 - val_loss: 0.7497 - val_accuracy: 0.7286\n",
      "Epoch 28/200\n",
      "5677/5679 [============================>.] - ETA: 0s - loss: 0.5215 - accuracy: 0.7838\n",
      "Epoch 00028: val_loss did not improve from 0.74968\n",
      "5679/5679 [==============================] - 88s 15ms/step - loss: 0.5215 - accuracy: 0.7838 - val_loss: 0.7791 - val_accuracy: 0.7228\n",
      "Epoch 29/200\n",
      "5679/5679 [==============================] - ETA: 0s - loss: 0.5098 - accuracy: 0.7886\n",
      "Epoch 00029: val_loss did not improve from 0.74968\n",
      "5679/5679 [==============================] - 88s 15ms/step - loss: 0.5098 - accuracy: 0.7886 - val_loss: 0.7956 - val_accuracy: 0.7148\n",
      "Epoch 30/200\n",
      "5679/5679 [==============================] - ETA: 0s - loss: 0.4953 - accuracy: 0.7946\n",
      "Epoch 00030: val_loss did not improve from 0.74968\n",
      "5679/5679 [==============================] - 87s 15ms/step - loss: 0.4953 - accuracy: 0.7946 - val_loss: 0.7538 - val_accuracy: 0.7326\n",
      "Epoch 31/200\n",
      "5676/5679 [============================>.] - ETA: 0s - loss: 0.4816 - accuracy: 0.7996\n",
      "Epoch 00031: val_loss did not improve from 0.74968\n",
      "5679/5679 [==============================] - 87s 15ms/step - loss: 0.4817 - accuracy: 0.7996 - val_loss: 0.7774 - val_accuracy: 0.7224\n",
      "Epoch 32/200\n",
      "5679/5679 [==============================] - ETA: 0s - loss: 0.4665 - accuracy: 0.8039\n",
      "Epoch 00032: val_loss did not improve from 0.74968\n",
      "5679/5679 [==============================] - 87s 15ms/step - loss: 0.4665 - accuracy: 0.8039 - val_loss: 0.8616 - val_accuracy: 0.7048\n",
      "Epoch 33/200\n",
      "5677/5679 [============================>.] - ETA: 0s - loss: 0.4534 - accuracy: 0.8102\n",
      "Epoch 00033: val_loss improved from 0.74968 to 0.73256, saving model to /home/ys587/__Data/__whistle/__whislte_30_species/__fit_result_species/20210225_110837/HICEAS2002/epoch_33_valloss_0.7326_valacc_0.7413.hdf5\n",
      "5679/5679 [==============================] - 87s 15ms/step - loss: 0.4535 - accuracy: 0.8101 - val_loss: 0.7326 - val_accuracy: 0.7413\n",
      "Epoch 34/200\n",
      "5677/5679 [============================>.] - ETA: 0s - loss: 0.4414 - accuracy: 0.8140\n",
      "Epoch 00034: val_loss did not improve from 0.73256\n",
      "5679/5679 [==============================] - 87s 15ms/step - loss: 0.4414 - accuracy: 0.8140 - val_loss: 0.7485 - val_accuracy: 0.7355\n",
      "Epoch 35/200\n",
      "5678/5679 [============================>.] - ETA: 0s - loss: 0.4323 - accuracy: 0.8177\n",
      "Epoch 00035: val_loss did not improve from 0.73256\n",
      "5679/5679 [==============================] - 87s 15ms/step - loss: 0.4323 - accuracy: 0.8177 - val_loss: 0.8171 - val_accuracy: 0.7196\n",
      "Epoch 36/200\n",
      "5678/5679 [============================>.] - ETA: 0s - loss: 0.4185 - accuracy: 0.8225\n",
      "Epoch 00036: val_loss did not improve from 0.73256\n",
      "5679/5679 [==============================] - 87s 15ms/step - loss: 0.4185 - accuracy: 0.8225 - val_loss: 0.7847 - val_accuracy: 0.7332\n",
      "Epoch 37/200\n",
      "5677/5679 [============================>.] - ETA: 0s - loss: 0.4073 - accuracy: 0.8270\n",
      "Epoch 00037: val_loss did not improve from 0.73256\n",
      "5679/5679 [==============================] - 87s 15ms/step - loss: 0.4073 - accuracy: 0.8270 - val_loss: 0.7753 - val_accuracy: 0.7352\n",
      "Epoch 38/200\n",
      "5679/5679 [==============================] - ETA: 0s - loss: 0.3967 - accuracy: 0.8316\n",
      "Epoch 00038: val_loss did not improve from 0.73256\n",
      "5679/5679 [==============================] - 87s 15ms/step - loss: 0.3967 - accuracy: 0.8316 - val_loss: 0.7834 - val_accuracy: 0.7268\n",
      "Epoch 39/200\n",
      "5679/5679 [==============================] - ETA: 0s - loss: 0.3875 - accuracy: 0.8340\n",
      "Epoch 00039: val_loss did not improve from 0.73256\n",
      "5679/5679 [==============================] - 87s 15ms/step - loss: 0.3875 - accuracy: 0.8340 - val_loss: 0.7894 - val_accuracy: 0.7280\n",
      "Epoch 40/200\n",
      "5678/5679 [============================>.] - ETA: 0s - loss: 0.3740 - accuracy: 0.8400\n",
      "Epoch 00040: val_loss improved from 0.73256 to 0.73154, saving model to /home/ys587/__Data/__whistle/__whislte_30_species/__fit_result_species/20210225_110837/HICEAS2002/epoch_40_valloss_0.7315_valacc_0.7486.hdf5\n",
      "5679/5679 [==============================] - 88s 15ms/step - loss: 0.3740 - accuracy: 0.8400 - val_loss: 0.7315 - val_accuracy: 0.7486\n",
      "Epoch 41/200\n",
      "5677/5679 [============================>.] - ETA: 0s - loss: 0.3650 - accuracy: 0.8448\n",
      "Epoch 00041: val_loss did not improve from 0.73154\n",
      "5679/5679 [==============================] - 87s 15ms/step - loss: 0.3649 - accuracy: 0.8448 - val_loss: 0.7676 - val_accuracy: 0.7384\n",
      "Epoch 42/200\n",
      "5676/5679 [============================>.] - ETA: 0s - loss: 0.3571 - accuracy: 0.8476\n",
      "Epoch 00042: val_loss did not improve from 0.73154\n",
      "5679/5679 [==============================] - 87s 15ms/step - loss: 0.3572 - accuracy: 0.8475 - val_loss: 0.7526 - val_accuracy: 0.7475\n",
      "Epoch 43/200\n",
      "5678/5679 [============================>.] - ETA: 0s - loss: 0.3479 - accuracy: 0.8511\n",
      "Epoch 00043: val_loss did not improve from 0.73154\n",
      "5679/5679 [==============================] - 87s 15ms/step - loss: 0.3478 - accuracy: 0.8511 - val_loss: 0.7646 - val_accuracy: 0.7408\n",
      "Epoch 44/200\n",
      "5676/5679 [============================>.] - ETA: 0s - loss: 0.3360 - accuracy: 0.8559\n",
      "Epoch 00044: val_loss did not improve from 0.73154\n",
      "5679/5679 [==============================] - 87s 15ms/step - loss: 0.3359 - accuracy: 0.8559 - val_loss: 0.8361 - val_accuracy: 0.7236\n",
      "Epoch 45/200\n",
      "5679/5679 [==============================] - ETA: 0s - loss: 0.3292 - accuracy: 0.8584\n",
      "Epoch 00045: val_loss did not improve from 0.73154\n",
      "5679/5679 [==============================] - 88s 15ms/step - loss: 0.3292 - accuracy: 0.8584 - val_loss: 0.8304 - val_accuracy: 0.7294\n",
      "Epoch 46/200\n",
      "5676/5679 [============================>.] - ETA: 0s - loss: 0.3199 - accuracy: 0.8622\n",
      "Epoch 00046: val_loss did not improve from 0.73154\n",
      "5679/5679 [==============================] - 87s 15ms/step - loss: 0.3201 - accuracy: 0.8621 - val_loss: 0.8051 - val_accuracy: 0.7357\n",
      "Epoch 47/200\n",
      "5676/5679 [============================>.] - ETA: 0s - loss: 0.3104 - accuracy: 0.8672\n",
      "Epoch 00047: val_loss did not improve from 0.73154\n",
      "5679/5679 [==============================] - 88s 15ms/step - loss: 0.3104 - accuracy: 0.8672 - val_loss: 0.8791 - val_accuracy: 0.7208\n",
      "Epoch 48/200\n",
      "5679/5679 [==============================] - ETA: 0s - loss: 0.3077 - accuracy: 0.8672\n",
      "Epoch 00048: val_loss did not improve from 0.73154\n",
      "5679/5679 [==============================] - 88s 15ms/step - loss: 0.3077 - accuracy: 0.8672 - val_loss: 0.7864 - val_accuracy: 0.7497\n",
      "Epoch 49/200\n",
      "5678/5679 [============================>.] - ETA: 0s - loss: 0.2932 - accuracy: 0.8725\n",
      "Epoch 00049: val_loss did not improve from 0.73154\n",
      "5679/5679 [==============================] - 87s 15ms/step - loss: 0.2932 - accuracy: 0.8725 - val_loss: 0.7949 - val_accuracy: 0.7415\n",
      "Epoch 50/200\n",
      "5678/5679 [============================>.] - ETA: 0s - loss: 0.2882 - accuracy: 0.8755\n",
      "Epoch 00050: val_loss did not improve from 0.73154\n",
      "5679/5679 [==============================] - 88s 15ms/step - loss: 0.2882 - accuracy: 0.8755 - val_loss: 0.8222 - val_accuracy: 0.7384\n",
      "Epoch 51/200\n",
      "5677/5679 [============================>.] - ETA: 0s - loss: 0.2820 - accuracy: 0.8778\n",
      "Epoch 00051: val_loss did not improve from 0.73154\n",
      "5679/5679 [==============================] - 87s 15ms/step - loss: 0.2821 - accuracy: 0.8777 - val_loss: 0.8706 - val_accuracy: 0.7353\n",
      "Epoch 52/200\n",
      "5677/5679 [============================>.] - ETA: 0s - loss: 0.2742 - accuracy: 0.8815\n",
      "Epoch 00052: val_loss did not improve from 0.73154\n",
      "5679/5679 [==============================] - 87s 15ms/step - loss: 0.2742 - accuracy: 0.8815 - val_loss: 0.7985 - val_accuracy: 0.7473\n",
      "Epoch 53/200\n",
      "5676/5679 [============================>.] - ETA: 0s - loss: 0.2696 - accuracy: 0.8835\n",
      "Epoch 00053: val_loss did not improve from 0.73154\n",
      "5679/5679 [==============================] - 87s 15ms/step - loss: 0.2697 - accuracy: 0.8835 - val_loss: 0.8147 - val_accuracy: 0.7482\n",
      "Epoch 54/200\n",
      "5678/5679 [============================>.] - ETA: 0s - loss: 0.2641 - accuracy: 0.8860\n",
      "Epoch 00054: val_loss did not improve from 0.73154\n",
      "5679/5679 [==============================] - 88s 15ms/step - loss: 0.2641 - accuracy: 0.8860 - val_loss: 0.7791 - val_accuracy: 0.7524\n",
      "Epoch 55/200\n",
      "5676/5679 [============================>.] - ETA: 0s - loss: 0.2570 - accuracy: 0.8889\n",
      "Epoch 00055: val_loss did not improve from 0.73154\n",
      "5679/5679 [==============================] - 87s 15ms/step - loss: 0.2571 - accuracy: 0.8888 - val_loss: 0.9576 - val_accuracy: 0.7249\n",
      "Epoch 56/200\n",
      "5676/5679 [============================>.] - ETA: 0s - loss: 0.2504 - accuracy: 0.8919\n",
      "Epoch 00056: val_loss did not improve from 0.73154\n",
      "5679/5679 [==============================] - 88s 15ms/step - loss: 0.2504 - accuracy: 0.8919 - val_loss: 0.8196 - val_accuracy: 0.7438\n",
      "Epoch 57/200\n",
      "5676/5679 [============================>.] - ETA: 0s - loss: 0.2403 - accuracy: 0.8950\n",
      "Epoch 00057: val_loss did not improve from 0.73154\n",
      "5679/5679 [==============================] - 88s 15ms/step - loss: 0.2403 - accuracy: 0.8950 - val_loss: 0.8828 - val_accuracy: 0.7370\n",
      "Epoch 58/200\n",
      "5679/5679 [==============================] - ETA: 0s - loss: 0.2387 - accuracy: 0.8958\n",
      "Epoch 00058: val_loss did not improve from 0.73154\n",
      "5679/5679 [==============================] - 88s 15ms/step - loss: 0.2387 - accuracy: 0.8958 - val_loss: 0.8252 - val_accuracy: 0.7484\n",
      "Epoch 59/200\n",
      "5677/5679 [============================>.] - ETA: 0s - loss: 0.2309 - accuracy: 0.9013\n",
      "Epoch 00059: val_loss did not improve from 0.73154\n",
      "5679/5679 [==============================] - 88s 15ms/step - loss: 0.2308 - accuracy: 0.9013 - val_loss: 0.8258 - val_accuracy: 0.7492\n",
      "Epoch 60/200\n",
      "5676/5679 [============================>.] - ETA: 0s - loss: 0.2276 - accuracy: 0.9015\n",
      "Epoch 00060: val_loss did not improve from 0.73154\n",
      "5679/5679 [==============================] - 88s 15ms/step - loss: 0.2276 - accuracy: 0.9015 - val_loss: 0.8452 - val_accuracy: 0.7470\n",
      "Epoch 00060: early stopping\n"
     ]
    }
   ],
   "source": [
    "# model = model_cnn14_attention_multi(dim_time, dim_freq, num_species, model_type='feature_level_attention', conv_dim=conv_dim, pool_size=pool_size, pool_stride=pool_stride, hidden_units=hidden_units, l2_regu=l2_regu, drop_rate=drop_rate)\n",
    "model = model_cnn14_spp(dim_time, dim_freq, num_species, conv_dim=conv_dim, pool_size=pool_size, pool_stride=pool_stride, hidden_units=hidden_units, l2_regu=l2_regu, drop_rate=drop_rate)\n",
    "loss = CategoricalCrossentropy()\n",
    "model.compile(optimizer=tf.keras.optimizers.Adam(learning_rate=learning_rate_fn), loss=loss, metrics=['accuracy'])\n",
    "\n",
    "# With classes\n",
    "# history = model.fit(fea_train, to_categorical(label_train), class_weight=class_weights, validation_split=0.3, batch_size=batch_size, epochs=num_epoch, callbacks=[EarlyStopping(patience=num_patience), ModelCheckpoint(filepath=os.path.join(fit_result_path, '{epoch:02d}-{val_loss:.4f}.hdf5'), verbose=1, monitor=\"val_loss\", save_best_only=True)])\n",
    "# history = model.fit(train_generator, validation_data=validate_generator, class_weight=class_weights, epochs=num_epoch, callbacks=[EarlyStopping(patience=num_patience, monitor='val_loss', mode='min', verbose=1), TensorBoard(log_dir=fit_result_path1), ModelCheckpoint(filepath=os.path.join(fit_result_path1, '{epoch:02d}-{val_loss:.4f}.hdf5'), verbose=1, monitor=\"val_loss\", save_best_only=True)])\n",
    "history = model.fit(train_generator, validation_data=validate_generator, class_weight=class_weights, epochs=num_epoch, callbacks=[EarlyStopping(patience=num_patience, monitor='val_loss', mode='min', verbose=1), TensorBoard(log_dir=fit_result_path2), ModelCheckpoint(filepath=os.path.join(fit_result_path2, 'epoch_{epoch:02d}_valloss_{val_loss:.4f}_valacc_{val_accuracy:.4f}.hdf5' ), verbose=1, monitor=\"val_loss\", save_best_only=True)])"
   ]
  },
  {
   "cell_type": "code",
   "execution_count": 110,
   "metadata": {},
   "outputs": [
    {
     "name": "stdout",
     "output_type": "stream",
     "text": [
      "Best model:0.7315\n",
      "/home/ys587/__Data/__whistle/__whislte_30_species/__fit_result_species/20210225_110837/HICEAS2002/epoch_40_valloss_0.7315_valacc_0.7486.hdf5\n"
     ]
    }
   ],
   "source": [
    "# fit_result_path1 = '/home/ys587/__Data/__whistle/__whislte_30_species/__fit_result_species/20210210_224527'\n",
    "the_best_model, _ = find_best_model(fit_result_path2, purge=False)"
   ]
  },
  {
   "cell_type": "code",
   "execution_count": 111,
   "metadata": {
    "scrolled": true
   },
   "outputs": [
    {
     "name": "stdout",
     "output_type": "stream",
     "text": [
      "Model: \"model_3\"\n",
      "_________________________________________________________________\n",
      "Layer (type)                 Output Shape              Param #   \n",
      "=================================================================\n",
      "input (InputLayer)           [(None, 100, 128, 1)]     0         \n",
      "_________________________________________________________________\n",
      "conv2d_30 (Conv2D)           (None, 100, 128, 16)      160       \n",
      "_________________________________________________________________\n",
      "batch_normalization_30 (Batc (None, 100, 128, 16)      64        \n",
      "_________________________________________________________________\n",
      "activation_30 (Activation)   (None, 100, 128, 16)      0         \n",
      "_________________________________________________________________\n",
      "conv2d_31 (Conv2D)           (None, 100, 128, 16)      2320      \n",
      "_________________________________________________________________\n",
      "batch_normalization_31 (Batc (None, 100, 128, 16)      64        \n",
      "_________________________________________________________________\n",
      "activation_31 (Activation)   (None, 100, 128, 16)      0         \n",
      "_________________________________________________________________\n",
      "max_pooling2d_12 (MaxPooling (None, 50, 64, 16)        0         \n",
      "_________________________________________________________________\n",
      "dropout_12 (Dropout)         (None, 50, 64, 16)        0         \n",
      "_________________________________________________________________\n",
      "conv2d_32 (Conv2D)           (None, 50, 64, 32)        4640      \n",
      "_________________________________________________________________\n",
      "batch_normalization_32 (Batc (None, 50, 64, 32)        128       \n",
      "_________________________________________________________________\n",
      "activation_32 (Activation)   (None, 50, 64, 32)        0         \n",
      "_________________________________________________________________\n",
      "conv2d_33 (Conv2D)           (None, 50, 64, 32)        9248      \n",
      "_________________________________________________________________\n",
      "batch_normalization_33 (Batc (None, 50, 64, 32)        128       \n",
      "_________________________________________________________________\n",
      "activation_33 (Activation)   (None, 50, 64, 32)        0         \n",
      "_________________________________________________________________\n",
      "max_pooling2d_13 (MaxPooling (None, 25, 32, 32)        0         \n",
      "_________________________________________________________________\n",
      "dropout_13 (Dropout)         (None, 25, 32, 32)        0         \n",
      "_________________________________________________________________\n",
      "conv2d_34 (Conv2D)           (None, 25, 32, 64)        18496     \n",
      "_________________________________________________________________\n",
      "batch_normalization_34 (Batc (None, 25, 32, 64)        256       \n",
      "_________________________________________________________________\n",
      "activation_34 (Activation)   (None, 25, 32, 64)        0         \n",
      "_________________________________________________________________\n",
      "conv2d_35 (Conv2D)           (None, 25, 32, 64)        36928     \n",
      "_________________________________________________________________\n",
      "batch_normalization_35 (Batc (None, 25, 32, 64)        256       \n",
      "_________________________________________________________________\n",
      "activation_35 (Activation)   (None, 25, 32, 64)        0         \n",
      "_________________________________________________________________\n",
      "max_pooling2d_14 (MaxPooling (None, 13, 16, 64)        0         \n",
      "_________________________________________________________________\n",
      "dropout_14 (Dropout)         (None, 13, 16, 64)        0         \n",
      "_________________________________________________________________\n",
      "conv2d_36 (Conv2D)           (None, 13, 16, 128)       73856     \n",
      "_________________________________________________________________\n",
      "batch_normalization_36 (Batc (None, 13, 16, 128)       512       \n",
      "_________________________________________________________________\n",
      "activation_36 (Activation)   (None, 13, 16, 128)       0         \n",
      "_________________________________________________________________\n",
      "conv2d_37 (Conv2D)           (None, 13, 16, 128)       147584    \n",
      "_________________________________________________________________\n",
      "batch_normalization_37 (Batc (None, 13, 16, 128)       512       \n",
      "_________________________________________________________________\n",
      "activation_37 (Activation)   (None, 13, 16, 128)       0         \n",
      "_________________________________________________________________\n",
      "max_pooling2d_15 (MaxPooling (None, 7, 8, 128)         0         \n",
      "_________________________________________________________________\n",
      "dropout_15 (Dropout)         (None, 7, 8, 128)         0         \n",
      "_________________________________________________________________\n",
      "conv2d_38 (Conv2D)           (None, 7, 8, 256)         295168    \n",
      "_________________________________________________________________\n",
      "batch_normalization_38 (Batc (None, 7, 8, 256)         1024      \n",
      "_________________________________________________________________\n",
      "activation_38 (Activation)   (None, 7, 8, 256)         0         \n",
      "_________________________________________________________________\n",
      "conv2d_39 (Conv2D)           (None, 7, 8, 256)         590080    \n",
      "_________________________________________________________________\n",
      "batch_normalization_39 (Batc (None, 7, 8, 256)         1024      \n",
      "_________________________________________________________________\n",
      "activation_39 (Activation)   (None, 7, 8, 256)         0         \n",
      "_________________________________________________________________\n",
      "spatial_pyramid_pooling2d_3  (None, 15, 256)           0         \n",
      "_________________________________________________________________\n",
      "reshape_3 (Reshape)          (None, 3840)              0         \n",
      "_________________________________________________________________\n",
      "cnn14_fcn (Dense)            (None, 256)               983296    \n",
      "_________________________________________________________________\n",
      "dense_3 (Dense)              (None, 8)                 2056      \n",
      "=================================================================\n",
      "Total params: 2,167,800\n",
      "Trainable params: 2,165,816\n",
      "Non-trainable params: 1,984\n",
      "_________________________________________________________________\n"
     ]
    }
   ],
   "source": [
    "model = load_model(the_best_model)\n",
    "model.summary()"
   ]
  },
  {
   "cell_type": "code",
   "execution_count": 112,
   "metadata": {},
   "outputs": [],
   "source": [
    "label_pred = model.predict(fea_test)\n",
    "# label_pred = model.predict(test_generator)"
   ]
  },
  {
   "cell_type": "code",
   "execution_count": 113,
   "metadata": {},
   "outputs": [],
   "source": [
    "np.set_printoptions(linewidth=200, precision=2, suppress=True)"
   ]
  },
  {
   "cell_type": "code",
   "execution_count": 114,
   "metadata": {},
   "outputs": [
    {
     "name": "stdout",
     "output_type": "stream",
     "text": [
      "Confusion matrix:\n",
      "['BD', 'CD', 'STR', 'SPT', 'SPIN', 'PLT', 'RT', 'FKW']\n",
      "\n",
      "[[  0  12   6   3   0   1  12   7]\n",
      " [  0   0   0   0   0   0   0   0]\n",
      " [ 21  63  71  34  21   0   0   6]\n",
      " [ 24  52  56 200  46   0   0   7]\n",
      " [  2   7   4   1   0   0  49  23]\n",
      " [ 15 165  83 103   8 375  15 288]\n",
      " [ 13  90  39  13   0   6 308 280]\n",
      " [  0   0   0   0   0   0   0   0]]\n",
      "\n",
      "[[0.   0.29 0.15 0.07 0.   0.02 0.29 0.17]\n",
      " [0.   0.   0.   0.   0.   0.   0.   0.  ]\n",
      " [0.1  0.29 0.33 0.16 0.1  0.   0.   0.03]\n",
      " [0.06 0.14 0.15 0.52 0.12 0.   0.   0.02]\n",
      " [0.02 0.08 0.05 0.01 0.   0.   0.57 0.27]\n",
      " [0.01 0.16 0.08 0.1  0.01 0.36 0.01 0.27]\n",
      " [0.02 0.12 0.05 0.02 0.   0.01 0.41 0.37]\n",
      " [0.   0.   0.   0.   0.   0.   0.   0.  ]]\n"
     ]
    }
   ],
   "source": [
    "print(\"Confusion matrix:\")\n",
    "cm = confusion_matrix(label_test, np.argmax(label_pred, axis=1), labels=species_id)\n",
    "\n",
    "print(species_list)\n",
    "print('')\n",
    "print(cm)\n",
    "print('')\n",
    "\n",
    "cm2 = cm*1.0\n",
    "for ii in range(cm.shape[0]):\n",
    "    cm_row = cm[ii, :]*1.0\n",
    "\n",
    "    cm_row_sum = cm_row.sum()\n",
    "    if cm_row_sum != 0:\n",
    "        cm2[ii, :] = cm_row / cm_row_sum\n",
    "    else:\n",
    "        cm2[ii, :] = np.zeros(cm.shape[1])\n",
    "\n",
    "print(cm2)"
   ]
  },
  {
   "cell_type": "code",
   "execution_count": 115,
   "metadata": {},
   "outputs": [],
   "source": [
    "from sklearn.metrics import plot_confusion_matrix\n",
    "from sklearn.metrics._plot.confusion_matrix import ConfusionMatrixDisplay\n",
    "disp = ConfusionMatrixDisplay(confusion_matrix=cm, display_labels=species_list)\n",
    "disp2 = ConfusionMatrixDisplay(confusion_matrix=cm2, display_labels=species_list)"
   ]
  },
  {
   "cell_type": "code",
   "execution_count": 116,
   "metadata": {},
   "outputs": [
    {
     "data": {
      "text/plain": [
       "<sklearn.metrics._plot.confusion_matrix.ConfusionMatrixDisplay at 0x7f2994cdedc0>"
      ]
     },
     "execution_count": 116,
     "metadata": {},
     "output_type": "execute_result"
    },
    {
     "data": {
      "image/png": "[encoded data removed]",
      "text/plain": [
       "<Figure size 1080x1080 with 2 Axes>"
      ]
     },
     "metadata": {
      "needs_background": "light"
     },
     "output_type": "display_data"
    }
   ],
   "source": [
    "fig, ax = plt.subplots(figsize=[15, 15])\n",
    "disp.plot(include_values=True,\n",
    "                     cmap='viridis', ax=ax, xticks_rotation='horizontal',\n",
    "                     values_format=None, colorbar=True)\n"
   ]
  },
  {
   "cell_type": "code",
   "execution_count": 117,
   "metadata": {},
   "outputs": [
    {
     "data": {
      "text/plain": [
       "<sklearn.metrics._plot.confusion_matrix.ConfusionMatrixDisplay at 0x7f2994cdecd0>"
      ]
     },
     "execution_count": 117,
     "metadata": {},
     "output_type": "execute_result"
    },
    {
     "data": {
      "image/png": "[encoded data removed]",
      "text/plain": [
       "<Figure size 1080x1080 with 2 Axes>"
      ]
     },
     "metadata": {
      "needs_background": "light"
     },
     "output_type": "display_data"
    }
   ],
   "source": [
    "fig, ax = plt.subplots(figsize=[15, 15])\n",
    "disp2.plot(include_values=True,\n",
    "                     cmap='viridis', ax=ax, xticks_rotation='horizontal',\n",
    "                     values_format='.2f', colorbar=True)"
   ]
  },
  {
   "cell_type": "markdown",
   "metadata": {},
   "source": [
    "## PICES2005"
   ]
  },
  {
   "cell_type": "code",
   "execution_count": 118,
   "metadata": {},
   "outputs": [
    {
     "name": "stdout",
     "output_type": "stream",
     "text": [
      "PICEAS2005\n"
     ]
    }
   ],
   "source": [
    "ee = deployment[4]\n",
    "print(ee)"
   ]
  },
  {
   "cell_type": "code",
   "execution_count": 119,
   "metadata": {},
   "outputs": [],
   "source": [
    "# Training data\n",
    "fea_temp = np.load(os.path.join(feature_path, 'train_oswald_no_'+ee+'.npz'))\n",
    "fea_train = fea_temp['fea_train']\n",
    "label_train_list = fea_temp['label_train']\n",
    "del fea_temp"
   ]
  },
  {
   "cell_type": "code",
   "execution_count": 120,
   "metadata": {},
   "outputs": [],
   "source": [
    "label_train = np.zeros(len(label_train_list))\n",
    "for ii in range(len(label_train_list)):\n",
    "    label_train[ii] = species_dict[label_train_list[ii]]"
   ]
  },
  {
   "cell_type": "code",
   "execution_count": 121,
   "metadata": {},
   "outputs": [],
   "source": [
    "# Testing data\n",
    "fea_temp = np.load(os.path.join(feature_path, 'oswald_'+ee+'_orig.npz'))\n",
    "fea_test = fea_temp['feas_orig']\n",
    "label_test_list = fea_temp['labels_orig']\n",
    "\n",
    "fea_test = fea_test[:,:100,:]\n",
    "label_test = np.zeros(len(label_test_list))\n",
    "for ii in range(len(label_test_list)):\n",
    "    label_test[ii] = species_dict[label_test_list[ii]]"
   ]
  },
  {
   "cell_type": "code",
   "execution_count": 122,
   "metadata": {},
   "outputs": [],
   "source": [
    "fea_train = fea_train[:,:100,:]"
   ]
  },
  {
   "cell_type": "code",
   "execution_count": 123,
   "metadata": {},
   "outputs": [],
   "source": [
    "label_train = np.zeros(len(label_train_list))\n",
    "for ii in range(len(label_train_list)):\n",
    "    label_train[ii] = species_dict[label_train_list[ii]]"
   ]
  },
  {
   "cell_type": "code",
   "execution_count": 124,
   "metadata": {
    "scrolled": true
   },
   "outputs": [
    {
     "data": {
      "text/plain": [
       "Counter({'BD': 4578,\n",
       "         'CD': 28632,\n",
       "         'PLT': 11864,\n",
       "         'RT': 7608,\n",
       "         'SPIN': 7576,\n",
       "         'SPT': 17066,\n",
       "         'STR': 20208,\n",
       "         'FKW': 8118})"
      ]
     },
     "execution_count": 124,
     "metadata": {},
     "output_type": "execute_result"
    }
   ],
   "source": [
    "Counter(label_train_list)"
   ]
  },
  {
   "cell_type": "code",
   "execution_count": 125,
   "metadata": {},
   "outputs": [
    {
     "data": {
      "text/plain": [
       "Counter({0.0: 1518,\n",
       "         7.0: 2007,\n",
       "         5.0: 292,\n",
       "         6.0: 440,\n",
       "         4.0: 405,\n",
       "         3.0: 482,\n",
       "         2.0: 372})"
      ]
     },
     "execution_count": 125,
     "metadata": {},
     "output_type": "execute_result"
    }
   ],
   "source": [
    "Counter(label_test.tolist())"
   ]
  },
  {
   "cell_type": "code",
   "execution_count": 126,
   "metadata": {},
   "outputs": [],
   "source": [
    "fit_result_path2 = os.path.join(fit_result_path1, ee)\n",
    "if not os.path.exists(fit_result_path2):\n",
    "    makedirs(fit_result_path2)"
   ]
  },
  {
   "cell_type": "code",
   "execution_count": 127,
   "metadata": {},
   "outputs": [
    {
     "name": "stdout",
     "output_type": "stream",
     "text": [
      "feature train shape: (105650, 100, 128)\n",
      "feature test shape: (5516, 100, 128)\n",
      "label train shape: (105650,)\n",
      "label test shape: (5516,)\n",
      "dim_time: 100\n",
      "dim_freq: 128\n"
     ]
    }
   ],
   "source": [
    "print('feature train shape: '+str(fea_train.shape))\n",
    "print('feature test shape: '+str(fea_test.shape))\n",
    "print('label train shape: '+str(label_train.shape))\n",
    "print('label test shape: '+str(label_test.shape))\n",
    "\n",
    "dim_time = fea_train.shape[1]\n",
    "dim_freq = fea_train.shape[2]\n",
    "print('dim_time: '+str(dim_time))\n",
    "print('dim_freq: '+str(dim_freq))"
   ]
  },
  {
   "cell_type": "code",
   "execution_count": 128,
   "metadata": {},
   "outputs": [],
   "source": [
    "# shuffle features & labels\n",
    "fea_train, label_train = shuffle(fea_train, label_train, random_state=0)\n",
    "fea_test, label_test = shuffle(fea_test, label_test, random_state=0)"
   ]
  },
  {
   "cell_type": "code",
   "execution_count": 129,
   "metadata": {},
   "outputs": [],
   "source": [
    "# class weight\n",
    "weights = compute_class_weight(class_weight='balanced', classes=np.unique(label_train), y=label_train)\n",
    "\n",
    "class_weights = dict()\n",
    "for ii in range(num_species):\n",
    "    class_weights[ii] = weights[ii]"
   ]
  },
  {
   "cell_type": "code",
   "execution_count": 130,
   "metadata": {},
   "outputs": [],
   "source": [
    "fea_train = np.expand_dims(fea_train, axis=3)\n",
    "fea_test = np.expand_dims(fea_test, axis=3)"
   ]
  },
  {
   "cell_type": "code",
   "execution_count": 131,
   "metadata": {},
   "outputs": [],
   "source": [
    "fea_train, fea_validate, label_train, label_validate = train_test_split(fea_train, label_train, test_size=0.30, random_state=42)\n",
    "\n",
    "train_generator = DataGenerator(fea_train, label_train, batch_size=batch_size, num_classes=num_species)\n",
    "del fea_train\n",
    "validate_generator = DataGenerator(fea_validate, label_validate, batch_size=batch_size, num_classes=num_species)\n",
    "del fea_validate\n",
    "\n",
    "# test_generator = DataGenerator(fea_test, label_test, batch_size=batch_size, num_classes=num_species)\n"
   ]
  },
  {
   "cell_type": "markdown",
   "metadata": {},
   "source": [
    "### Training the model"
   ]
  },
  {
   "cell_type": "code",
   "execution_count": 132,
   "metadata": {
    "scrolled": true
   },
   "outputs": [
    {
     "name": "stdout",
     "output_type": "stream",
     "text": [
      "Epoch 1/200\n",
      "   2/4622 [..............................] - ETA: 10:15 - loss: 4.0554 - accuracy: 0.0312 WARNING:tensorflow:Method (on_train_batch_end) is slow compared to the batch update (0.111121). Check your callbacks.\n",
      "4620/4622 [============================>.] - ETA: 0s - loss: 1.7393 - accuracy: 0.3122\n",
      "Epoch 00001: val_loss improved from inf to 1.53102, saving model to /home/ys587/__Data/__whistle/__whislte_30_species/__fit_result_species/20210225_110837/PICEAS2005/epoch_01_valloss_1.5310_valacc_0.4036.hdf5\n",
      "4622/4622 [==============================] - 72s 16ms/step - loss: 1.7391 - accuracy: 0.3122 - val_loss: 1.5310 - val_accuracy: 0.4036\n",
      "Epoch 2/200\n",
      "4620/4622 [============================>.] - ETA: 0s - loss: 1.3448 - accuracy: 0.4767\n",
      "Epoch 00002: val_loss improved from 1.53102 to 1.40513, saving model to /home/ys587/__Data/__whistle/__whislte_30_species/__fit_result_species/20210225_110837/PICEAS2005/epoch_02_valloss_1.4051_valacc_0.4632.hdf5\n",
      "4622/4622 [==============================] - 71s 15ms/step - loss: 1.3449 - accuracy: 0.4766 - val_loss: 1.4051 - val_accuracy: 0.4632\n",
      "Epoch 3/200\n",
      "4621/4622 [============================>.] - ETA: 0s - loss: 1.2209 - accuracy: 0.5230\n",
      "Epoch 00003: val_loss did not improve from 1.40513\n",
      "4622/4622 [==============================] - 71s 15ms/step - loss: 1.2210 - accuracy: 0.5230 - val_loss: 1.5103 - val_accuracy: 0.4318\n",
      "Epoch 4/200\n",
      "4619/4622 [============================>.] - ETA: 0s - loss: 1.1373 - accuracy: 0.5564\n",
      "Epoch 00004: val_loss improved from 1.40513 to 1.13545, saving model to /home/ys587/__Data/__whistle/__whislte_30_species/__fit_result_species/20210225_110837/PICEAS2005/epoch_04_valloss_1.1355_valacc_0.5763.hdf5\n",
      "4622/4622 [==============================] - 71s 15ms/step - loss: 1.1372 - accuracy: 0.5564 - val_loss: 1.1355 - val_accuracy: 0.5763\n",
      "Epoch 5/200\n",
      "4621/4622 [============================>.] - ETA: 0s - loss: 1.0735 - accuracy: 0.5772\n",
      "Epoch 00005: val_loss did not improve from 1.13545\n",
      "4622/4622 [==============================] - 71s 15ms/step - loss: 1.0735 - accuracy: 0.5772 - val_loss: 1.2681 - val_accuracy: 0.5221\n",
      "Epoch 6/200\n",
      "4620/4622 [============================>.] - ETA: 0s - loss: 1.0222 - accuracy: 0.5988\n",
      "Epoch 00006: val_loss improved from 1.13545 to 1.10233, saving model to /home/ys587/__Data/__whistle/__whislte_30_species/__fit_result_species/20210225_110837/PICEAS2005/epoch_06_valloss_1.1023_valacc_0.5862.hdf5\n",
      "4622/4622 [==============================] - 71s 15ms/step - loss: 1.0224 - accuracy: 0.5988 - val_loss: 1.1023 - val_accuracy: 0.5862\n",
      "Epoch 7/200\n",
      "4621/4622 [============================>.] - ETA: 0s - loss: 0.9812 - accuracy: 0.6119\n",
      "Epoch 00007: val_loss did not improve from 1.10233\n",
      "4622/4622 [==============================] - 71s 15ms/step - loss: 0.9811 - accuracy: 0.6120 - val_loss: 1.1353 - val_accuracy: 0.5790\n",
      "Epoch 8/200\n",
      "4619/4622 [============================>.] - ETA: 0s - loss: 0.9412 - accuracy: 0.6255\n",
      "Epoch 00008: val_loss did not improve from 1.10233\n",
      "4622/4622 [==============================] - 71s 15ms/step - loss: 0.9411 - accuracy: 0.6256 - val_loss: 1.1227 - val_accuracy: 0.5777\n",
      "Epoch 9/200\n",
      "4622/4622 [==============================] - ETA: 0s - loss: 0.9065 - accuracy: 0.6359\n",
      "Epoch 00009: val_loss did not improve from 1.10233\n",
      "4622/4622 [==============================] - 71s 15ms/step - loss: 0.9065 - accuracy: 0.6359 - val_loss: 1.1275 - val_accuracy: 0.5853\n",
      "Epoch 10/200\n",
      "4620/4622 [============================>.] - ETA: 0s - loss: 0.8713 - accuracy: 0.6484\n",
      "Epoch 00010: val_loss did not improve from 1.10233\n",
      "4622/4622 [==============================] - 71s 15ms/step - loss: 0.8716 - accuracy: 0.6483 - val_loss: 1.1313 - val_accuracy: 0.5800\n",
      "Epoch 11/200\n",
      "4619/4622 [============================>.] - ETA: 0s - loss: 0.8418 - accuracy: 0.6571\n",
      "Epoch 00011: val_loss improved from 1.10233 to 1.01006, saving model to /home/ys587/__Data/__whistle/__whislte_30_species/__fit_result_species/20210225_110837/PICEAS2005/epoch_11_valloss_1.0101_valacc_0.6180.hdf5\n",
      "4622/4622 [==============================] - 71s 15ms/step - loss: 0.8416 - accuracy: 0.6571 - val_loss: 1.0101 - val_accuracy: 0.6180\n",
      "Epoch 12/200\n",
      "4621/4622 [============================>.] - ETA: 0s - loss: 0.8132 - accuracy: 0.6658\n",
      "Epoch 00012: val_loss improved from 1.01006 to 0.94530, saving model to /home/ys587/__Data/__whistle/__whislte_30_species/__fit_result_species/20210225_110837/PICEAS2005/epoch_12_valloss_0.9453_valacc_0.6471.hdf5\n",
      "4622/4622 [==============================] - 71s 15ms/step - loss: 0.8132 - accuracy: 0.6658 - val_loss: 0.9453 - val_accuracy: 0.6471\n",
      "Epoch 13/200\n",
      "4619/4622 [============================>.] - ETA: 0s - loss: 0.7851 - accuracy: 0.6754\n",
      "Epoch 00013: val_loss did not improve from 0.94530\n",
      "4622/4622 [==============================] - 71s 15ms/step - loss: 0.7851 - accuracy: 0.6754 - val_loss: 1.0987 - val_accuracy: 0.5936\n",
      "Epoch 14/200\n",
      "4620/4622 [============================>.] - ETA: 0s - loss: 0.7634 - accuracy: 0.6833\n",
      "Epoch 00014: val_loss did not improve from 0.94530\n",
      "4622/4622 [==============================] - 71s 15ms/step - loss: 0.7636 - accuracy: 0.6833 - val_loss: 0.9945 - val_accuracy: 0.6265\n",
      "Epoch 15/200\n",
      "4619/4622 [============================>.] - ETA: 0s - loss: 0.7372 - accuracy: 0.6908\n",
      "Epoch 00015: val_loss did not improve from 0.94530\n",
      "4622/4622 [==============================] - 71s 15ms/step - loss: 0.7372 - accuracy: 0.6907 - val_loss: 1.1051 - val_accuracy: 0.5944\n",
      "Epoch 16/200\n",
      "4620/4622 [============================>.] - ETA: 0s - loss: 0.7138 - accuracy: 0.6976\n",
      "Epoch 00016: val_loss did not improve from 0.94530\n",
      "4622/4622 [==============================] - 71s 15ms/step - loss: 0.7137 - accuracy: 0.6977 - val_loss: 0.9708 - val_accuracy: 0.6451\n",
      "Epoch 17/200\n",
      "4622/4622 [==============================] - ETA: 0s - loss: 0.6910 - accuracy: 0.7058\n",
      "Epoch 00017: val_loss did not improve from 0.94530\n",
      "4622/4622 [==============================] - 71s 15ms/step - loss: 0.6910 - accuracy: 0.7058 - val_loss: 0.9550 - val_accuracy: 0.6476\n",
      "Epoch 18/200\n",
      "4619/4622 [============================>.] - ETA: 0s - loss: 0.6680 - accuracy: 0.7137\n",
      "Epoch 00018: val_loss improved from 0.94530 to 0.90946, saving model to /home/ys587/__Data/__whistle/__whislte_30_species/__fit_result_species/20210225_110837/PICEAS2005/epoch_18_valloss_0.9095_valacc_0.6645.hdf5\n",
      "4622/4622 [==============================] - 71s 15ms/step - loss: 0.6679 - accuracy: 0.7138 - val_loss: 0.9095 - val_accuracy: 0.6645\n",
      "Epoch 19/200\n",
      "4619/4622 [============================>.] - ETA: 0s - loss: 0.6464 - accuracy: 0.7227\n",
      "Epoch 00019: val_loss did not improve from 0.90946\n",
      "4622/4622 [==============================] - 71s 15ms/step - loss: 0.6464 - accuracy: 0.7227 - val_loss: 1.0297 - val_accuracy: 0.6212\n",
      "Epoch 20/200\n",
      "4620/4622 [============================>.] - ETA: 0s - loss: 0.6242 - accuracy: 0.7277\n",
      "Epoch 00020: val_loss did not improve from 0.90946\n",
      "4622/4622 [==============================] - 71s 15ms/step - loss: 0.6242 - accuracy: 0.7277 - val_loss: 0.9224 - val_accuracy: 0.6586\n",
      "Epoch 21/200\n",
      "4620/4622 [============================>.] - ETA: 0s - loss: 0.6049 - accuracy: 0.7356\n",
      "Epoch 00021: val_loss did not improve from 0.90946\n",
      "4622/4622 [==============================] - 71s 15ms/step - loss: 0.6048 - accuracy: 0.7357 - val_loss: 0.9150 - val_accuracy: 0.6676\n",
      "Epoch 22/200\n",
      "4622/4622 [==============================] - ETA: 0s - loss: 0.5911 - accuracy: 0.7395\n",
      "Epoch 00022: val_loss improved from 0.90946 to 0.90929, saving model to /home/ys587/__Data/__whistle/__whislte_30_species/__fit_result_species/20210225_110837/PICEAS2005/epoch_22_valloss_0.9093_valacc_0.6707.hdf5\n",
      "4622/4622 [==============================] - 71s 15ms/step - loss: 0.5911 - accuracy: 0.7395 - val_loss: 0.9093 - val_accuracy: 0.6707\n",
      "Epoch 23/200\n",
      "4620/4622 [============================>.] - ETA: 0s - loss: 0.5681 - accuracy: 0.7488\n",
      "Epoch 00023: val_loss did not improve from 0.90929\n",
      "4622/4622 [==============================] - 71s 15ms/step - loss: 0.5681 - accuracy: 0.7488 - val_loss: 1.0284 - val_accuracy: 0.6375\n",
      "Epoch 24/200\n",
      "4622/4622 [==============================] - ETA: 0s - loss: 0.5533 - accuracy: 0.7542\n",
      "Epoch 00024: val_loss improved from 0.90929 to 0.86782, saving model to /home/ys587/__Data/__whistle/__whislte_30_species/__fit_result_species/20210225_110837/PICEAS2005/epoch_24_valloss_0.8678_valacc_0.6862.hdf5\n",
      "4622/4622 [==============================] - 71s 15ms/step - loss: 0.5533 - accuracy: 0.7542 - val_loss: 0.8678 - val_accuracy: 0.6862\n",
      "Epoch 25/200\n",
      "4621/4622 [============================>.] - ETA: 0s - loss: 0.5363 - accuracy: 0.7603\n",
      "Epoch 00025: val_loss did not improve from 0.86782\n",
      "4622/4622 [==============================] - 71s 15ms/step - loss: 0.5363 - accuracy: 0.7603 - val_loss: 0.9829 - val_accuracy: 0.6511\n",
      "Epoch 26/200\n",
      "4621/4622 [============================>.] - ETA: 0s - loss: 0.5199 - accuracy: 0.7676\n",
      "Epoch 00026: val_loss did not improve from 0.86782\n",
      "4622/4622 [==============================] - 71s 15ms/step - loss: 0.5199 - accuracy: 0.7676 - val_loss: 0.9250 - val_accuracy: 0.6717\n",
      "Epoch 27/200\n",
      "4620/4622 [============================>.] - ETA: 0s - loss: 0.5031 - accuracy: 0.7717\n",
      "Epoch 00027: val_loss did not improve from 0.86782\n",
      "4622/4622 [==============================] - 71s 15ms/step - loss: 0.5032 - accuracy: 0.7716 - val_loss: 0.8740 - val_accuracy: 0.6982\n",
      "Epoch 28/200\n",
      "4621/4622 [============================>.] - ETA: 0s - loss: 0.4860 - accuracy: 0.7781\n",
      "Epoch 00028: val_loss did not improve from 0.86782\n",
      "4622/4622 [==============================] - 71s 15ms/step - loss: 0.4859 - accuracy: 0.7781 - val_loss: 1.0084 - val_accuracy: 0.6576\n",
      "Epoch 29/200\n",
      "4619/4622 [============================>.] - ETA: 0s - loss: 0.4736 - accuracy: 0.7836\n",
      "Epoch 00029: val_loss improved from 0.86782 to 0.85571, saving model to /home/ys587/__Data/__whistle/__whislte_30_species/__fit_result_species/20210225_110837/PICEAS2005/epoch_29_valloss_0.8557_valacc_0.6914.hdf5\n",
      "4622/4622 [==============================] - 71s 15ms/step - loss: 0.4738 - accuracy: 0.7836 - val_loss: 0.8557 - val_accuracy: 0.6914\n",
      "Epoch 30/200\n",
      "4620/4622 [============================>.] - ETA: 0s - loss: 0.4573 - accuracy: 0.7891\n",
      "Epoch 00030: val_loss improved from 0.85571 to 0.78426, saving model to /home/ys587/__Data/__whistle/__whislte_30_species/__fit_result_species/20210225_110837/PICEAS2005/epoch_30_valloss_0.7843_valacc_0.7175.hdf5\n",
      "4622/4622 [==============================] - 71s 15ms/step - loss: 0.4574 - accuracy: 0.7891 - val_loss: 0.7843 - val_accuracy: 0.7175\n",
      "Epoch 31/200\n",
      "4620/4622 [============================>.] - ETA: 0s - loss: 0.4467 - accuracy: 0.7938\n",
      "Epoch 00031: val_loss did not improve from 0.78426\n",
      "4622/4622 [==============================] - 71s 15ms/step - loss: 0.4467 - accuracy: 0.7938 - val_loss: 0.8678 - val_accuracy: 0.7005\n",
      "Epoch 32/200\n",
      "4620/4622 [============================>.] - ETA: 0s - loss: 0.4341 - accuracy: 0.7977\n",
      "Epoch 00032: val_loss did not improve from 0.78426\n",
      "4622/4622 [==============================] - 71s 15ms/step - loss: 0.4342 - accuracy: 0.7977 - val_loss: 0.9162 - val_accuracy: 0.6854\n",
      "Epoch 33/200\n",
      "4621/4622 [============================>.] - ETA: 0s - loss: 0.4167 - accuracy: 0.8045\n",
      "Epoch 00033: val_loss did not improve from 0.78426\n",
      "4622/4622 [==============================] - 71s 15ms/step - loss: 0.4168 - accuracy: 0.8044 - val_loss: 0.8726 - val_accuracy: 0.7003\n",
      "Epoch 34/200\n",
      "4621/4622 [============================>.] - ETA: 0s - loss: 0.4091 - accuracy: 0.8076\n",
      "Epoch 00034: val_loss did not improve from 0.78426\n",
      "4622/4622 [==============================] - 71s 15ms/step - loss: 0.4091 - accuracy: 0.8076 - val_loss: 0.8440 - val_accuracy: 0.7051\n",
      "Epoch 35/200\n",
      "4621/4622 [============================>.] - ETA: 0s - loss: 0.3941 - accuracy: 0.8133\n",
      "Epoch 00035: val_loss did not improve from 0.78426\n",
      "4622/4622 [==============================] - 71s 15ms/step - loss: 0.3941 - accuracy: 0.8133 - val_loss: 0.9201 - val_accuracy: 0.6868\n",
      "Epoch 36/200\n",
      "4620/4622 [============================>.] - ETA: 0s - loss: 0.3856 - accuracy: 0.8177\n",
      "Epoch 00036: val_loss did not improve from 0.78426\n",
      "4622/4622 [==============================] - 71s 15ms/step - loss: 0.3856 - accuracy: 0.8177 - val_loss: 0.8209 - val_accuracy: 0.7147\n",
      "Epoch 37/200\n",
      "4620/4622 [============================>.] - ETA: 0s - loss: 0.3768 - accuracy: 0.8202\n",
      "Epoch 00037: val_loss did not improve from 0.78426\n",
      "4622/4622 [==============================] - 71s 15ms/step - loss: 0.3769 - accuracy: 0.8201 - val_loss: 0.8713 - val_accuracy: 0.7043\n",
      "Epoch 38/200\n",
      "4620/4622 [============================>.] - ETA: 0s - loss: 0.3652 - accuracy: 0.8255\n",
      "Epoch 00038: val_loss did not improve from 0.78426\n",
      "4622/4622 [==============================] - 71s 15ms/step - loss: 0.3653 - accuracy: 0.8255 - val_loss: 0.9564 - val_accuracy: 0.6898\n",
      "Epoch 39/200\n",
      "4620/4622 [============================>.] - ETA: 0s - loss: 0.3519 - accuracy: 0.8293\n",
      "Epoch 00039: val_loss did not improve from 0.78426\n",
      "4622/4622 [==============================] - 71s 15ms/step - loss: 0.3519 - accuracy: 0.8293 - val_loss: 0.8702 - val_accuracy: 0.7118\n",
      "Epoch 40/200\n",
      "4619/4622 [============================>.] - ETA: 0s - loss: 0.3423 - accuracy: 0.8349\n",
      "Epoch 00040: val_loss did not improve from 0.78426\n",
      "4622/4622 [==============================] - 71s 15ms/step - loss: 0.3423 - accuracy: 0.8349 - val_loss: 0.8988 - val_accuracy: 0.7016\n",
      "Epoch 41/200\n",
      "4621/4622 [============================>.] - ETA: 0s - loss: 0.3306 - accuracy: 0.8393\n",
      "Epoch 00041: val_loss did not improve from 0.78426\n",
      "4622/4622 [==============================] - 71s 15ms/step - loss: 0.3306 - accuracy: 0.8393 - val_loss: 0.8661 - val_accuracy: 0.7210\n",
      "Epoch 42/200\n",
      "4621/4622 [============================>.] - ETA: 0s - loss: 0.3202 - accuracy: 0.8430\n",
      "Epoch 00042: val_loss did not improve from 0.78426\n",
      "4622/4622 [==============================] - 71s 15ms/step - loss: 0.3202 - accuracy: 0.8430 - val_loss: 0.8432 - val_accuracy: 0.7227\n",
      "Epoch 43/200\n",
      "4621/4622 [============================>.] - ETA: 0s - loss: 0.3163 - accuracy: 0.8462\n",
      "Epoch 00043: val_loss did not improve from 0.78426\n",
      "4622/4622 [==============================] - 71s 15ms/step - loss: 0.3163 - accuracy: 0.8462 - val_loss: 0.7986 - val_accuracy: 0.7372\n",
      "Epoch 44/200\n",
      "4621/4622 [============================>.] - ETA: 0s - loss: 0.3082 - accuracy: 0.8505\n",
      "Epoch 00044: val_loss did not improve from 0.78426\n",
      "4622/4622 [==============================] - 71s 15ms/step - loss: 0.3082 - accuracy: 0.8504 - val_loss: 1.0781 - val_accuracy: 0.6770\n",
      "Epoch 45/200\n",
      "4620/4622 [============================>.] - ETA: 0s - loss: 0.2990 - accuracy: 0.8542\n",
      "Epoch 00045: val_loss did not improve from 0.78426\n",
      "4622/4622 [==============================] - 71s 15ms/step - loss: 0.2990 - accuracy: 0.8542 - val_loss: 0.9249 - val_accuracy: 0.7099\n",
      "Epoch 46/200\n",
      "4619/4622 [============================>.] - ETA: 0s - loss: 0.2869 - accuracy: 0.8566\n",
      "Epoch 00046: val_loss did not improve from 0.78426\n",
      "4622/4622 [==============================] - 71s 15ms/step - loss: 0.2869 - accuracy: 0.8566 - val_loss: 0.8017 - val_accuracy: 0.7440\n",
      "Epoch 47/200\n",
      "4621/4622 [============================>.] - ETA: 0s - loss: 0.2791 - accuracy: 0.8615\n",
      "Epoch 00047: val_loss did not improve from 0.78426\n",
      "4622/4622 [==============================] - 71s 15ms/step - loss: 0.2791 - accuracy: 0.8615 - val_loss: 0.8339 - val_accuracy: 0.7302\n",
      "Epoch 48/200\n",
      "4622/4622 [==============================] - ETA: 0s - loss: 0.2694 - accuracy: 0.8654\n",
      "Epoch 00048: val_loss did not improve from 0.78426\n",
      "4622/4622 [==============================] - 71s 15ms/step - loss: 0.2694 - accuracy: 0.8654 - val_loss: 0.8868 - val_accuracy: 0.7203\n",
      "Epoch 49/200\n",
      "4620/4622 [============================>.] - ETA: 0s - loss: 0.2642 - accuracy: 0.8667\n",
      "Epoch 00049: val_loss did not improve from 0.78426\n",
      "4622/4622 [==============================] - 71s 15ms/step - loss: 0.2641 - accuracy: 0.8667 - val_loss: 0.8512 - val_accuracy: 0.7288\n",
      "Epoch 50/200\n",
      "4621/4622 [============================>.] - ETA: 0s - loss: 0.2619 - accuracy: 0.8690\n",
      "Epoch 00050: val_loss did not improve from 0.78426\n",
      "4622/4622 [==============================] - 71s 15ms/step - loss: 0.2620 - accuracy: 0.8690 - val_loss: 0.8792 - val_accuracy: 0.7223\n",
      "Epoch 00050: early stopping\n"
     ]
    }
   ],
   "source": [
    "# model = model_cnn14_attention_multi(dim_time, dim_freq, num_species, model_type='feature_level_attention', conv_dim=conv_dim, pool_size=pool_size, pool_stride=pool_stride, hidden_units=hidden_units, l2_regu=l2_regu, drop_rate=drop_rate)\n",
    "model = model_cnn14_spp(dim_time, dim_freq, num_species, conv_dim=conv_dim, pool_size=pool_size, pool_stride=pool_stride, hidden_units=hidden_units, l2_regu=l2_regu, drop_rate=drop_rate)\n",
    "loss = CategoricalCrossentropy()\n",
    "model.compile(optimizer=tf.keras.optimizers.Adam(learning_rate=learning_rate_fn), loss=loss, metrics=['accuracy'])\n",
    "\n",
    "# With classes\n",
    "# history = model.fit(fea_train, to_categorical(label_train), class_weight=class_weights, validation_split=0.3, batch_size=batch_size, epochs=num_epoch, callbacks=[EarlyStopping(patience=num_patience), ModelCheckpoint(filepath=os.path.join(fit_result_path, '{epoch:02d}-{val_loss:.4f}.hdf5'), verbose=1, monitor=\"val_loss\", save_best_only=True)])\n",
    "# history = model.fit(train_generator, validation_data=validate_generator, class_weight=class_weights, epochs=num_epoch, callbacks=[EarlyStopping(patience=num_patience, monitor='val_loss', mode='min', verbose=1), TensorBoard(log_dir=fit_result_path1), ModelCheckpoint(filepath=os.path.join(fit_result_path1, '{epoch:02d}-{val_loss:.4f}.hdf5'), verbose=1, monitor=\"val_loss\", save_best_only=True)])\n",
    "history = model.fit(train_generator, validation_data=validate_generator, class_weight=class_weights, epochs=num_epoch, callbacks=[EarlyStopping(patience=num_patience, monitor='val_loss', mode='min', verbose=1), TensorBoard(log_dir=fit_result_path2), ModelCheckpoint(filepath=os.path.join(fit_result_path2, 'epoch_{epoch:02d}_valloss_{val_loss:.4f}_valacc_{val_accuracy:.4f}.hdf5' ), verbose=1, monitor=\"val_loss\", save_best_only=True)])"
   ]
  },
  {
   "cell_type": "code",
   "execution_count": 133,
   "metadata": {},
   "outputs": [
    {
     "name": "stdout",
     "output_type": "stream",
     "text": [
      "Best model:0.7843\n",
      "/home/ys587/__Data/__whistle/__whislte_30_species/__fit_result_species/20210225_110837/PICEAS2005/epoch_30_valloss_0.7843_valacc_0.7175.hdf5\n"
     ]
    }
   ],
   "source": [
    "# fit_result_path1 = '/home/ys587/__Data/__whistle/__whislte_30_species/__fit_result_species/20210210_224527'\n",
    "the_best_model, _ = find_best_model(fit_result_path2, purge=False)"
   ]
  },
  {
   "cell_type": "code",
   "execution_count": 134,
   "metadata": {
    "scrolled": true
   },
   "outputs": [
    {
     "name": "stdout",
     "output_type": "stream",
     "text": [
      "Model: \"model_4\"\n",
      "_________________________________________________________________\n",
      "Layer (type)                 Output Shape              Param #   \n",
      "=================================================================\n",
      "input (InputLayer)           [(None, 100, 128, 1)]     0         \n",
      "_________________________________________________________________\n",
      "conv2d_40 (Conv2D)           (None, 100, 128, 16)      160       \n",
      "_________________________________________________________________\n",
      "batch_normalization_40 (Batc (None, 100, 128, 16)      64        \n",
      "_________________________________________________________________\n",
      "activation_40 (Activation)   (None, 100, 128, 16)      0         \n",
      "_________________________________________________________________\n",
      "conv2d_41 (Conv2D)           (None, 100, 128, 16)      2320      \n",
      "_________________________________________________________________\n",
      "batch_normalization_41 (Batc (None, 100, 128, 16)      64        \n",
      "_________________________________________________________________\n",
      "activation_41 (Activation)   (None, 100, 128, 16)      0         \n",
      "_________________________________________________________________\n",
      "max_pooling2d_16 (MaxPooling (None, 50, 64, 16)        0         \n",
      "_________________________________________________________________\n",
      "dropout_16 (Dropout)         (None, 50, 64, 16)        0         \n",
      "_________________________________________________________________\n",
      "conv2d_42 (Conv2D)           (None, 50, 64, 32)        4640      \n",
      "_________________________________________________________________\n",
      "batch_normalization_42 (Batc (None, 50, 64, 32)        128       \n",
      "_________________________________________________________________\n",
      "activation_42 (Activation)   (None, 50, 64, 32)        0         \n",
      "_________________________________________________________________\n",
      "conv2d_43 (Conv2D)           (None, 50, 64, 32)        9248      \n",
      "_________________________________________________________________\n",
      "batch_normalization_43 (Batc (None, 50, 64, 32)        128       \n",
      "_________________________________________________________________\n",
      "activation_43 (Activation)   (None, 50, 64, 32)        0         \n",
      "_________________________________________________________________\n",
      "max_pooling2d_17 (MaxPooling (None, 25, 32, 32)        0         \n",
      "_________________________________________________________________\n",
      "dropout_17 (Dropout)         (None, 25, 32, 32)        0         \n",
      "_________________________________________________________________\n",
      "conv2d_44 (Conv2D)           (None, 25, 32, 64)        18496     \n",
      "_________________________________________________________________\n",
      "batch_normalization_44 (Batc (None, 25, 32, 64)        256       \n",
      "_________________________________________________________________\n",
      "activation_44 (Activation)   (None, 25, 32, 64)        0         \n",
      "_________________________________________________________________\n",
      "conv2d_45 (Conv2D)           (None, 25, 32, 64)        36928     \n",
      "_________________________________________________________________\n",
      "batch_normalization_45 (Batc (None, 25, 32, 64)        256       \n",
      "_________________________________________________________________\n",
      "activation_45 (Activation)   (None, 25, 32, 64)        0         \n",
      "_________________________________________________________________\n",
      "max_pooling2d_18 (MaxPooling (None, 13, 16, 64)        0         \n",
      "_________________________________________________________________\n",
      "dropout_18 (Dropout)         (None, 13, 16, 64)        0         \n",
      "_________________________________________________________________\n",
      "conv2d_46 (Conv2D)           (None, 13, 16, 128)       73856     \n",
      "_________________________________________________________________\n",
      "batch_normalization_46 (Batc (None, 13, 16, 128)       512       \n",
      "_________________________________________________________________\n",
      "activation_46 (Activation)   (None, 13, 16, 128)       0         \n",
      "_________________________________________________________________\n",
      "conv2d_47 (Conv2D)           (None, 13, 16, 128)       147584    \n",
      "_________________________________________________________________\n",
      "batch_normalization_47 (Batc (None, 13, 16, 128)       512       \n",
      "_________________________________________________________________\n",
      "activation_47 (Activation)   (None, 13, 16, 128)       0         \n",
      "_________________________________________________________________\n",
      "max_pooling2d_19 (MaxPooling (None, 7, 8, 128)         0         \n",
      "_________________________________________________________________\n",
      "dropout_19 (Dropout)         (None, 7, 8, 128)         0         \n",
      "_________________________________________________________________\n",
      "conv2d_48 (Conv2D)           (None, 7, 8, 256)         295168    \n",
      "_________________________________________________________________\n",
      "batch_normalization_48 (Batc (None, 7, 8, 256)         1024      \n",
      "_________________________________________________________________\n",
      "activation_48 (Activation)   (None, 7, 8, 256)         0         \n",
      "_________________________________________________________________\n",
      "conv2d_49 (Conv2D)           (None, 7, 8, 256)         590080    \n",
      "_________________________________________________________________\n",
      "batch_normalization_49 (Batc (None, 7, 8, 256)         1024      \n",
      "_________________________________________________________________\n",
      "activation_49 (Activation)   (None, 7, 8, 256)         0         \n",
      "_________________________________________________________________\n",
      "spatial_pyramid_pooling2d_4  (None, 15, 256)           0         \n",
      "_________________________________________________________________\n",
      "reshape_4 (Reshape)          (None, 3840)              0         \n",
      "_________________________________________________________________\n",
      "cnn14_fcn (Dense)            (None, 256)               983296    \n",
      "_________________________________________________________________\n",
      "dense_4 (Dense)              (None, 8)                 2056      \n",
      "=================================================================\n",
      "Total params: 2,167,800\n",
      "Trainable params: 2,165,816\n",
      "Non-trainable params: 1,984\n",
      "_________________________________________________________________\n"
     ]
    }
   ],
   "source": [
    "model = load_model(the_best_model)\n",
    "model.summary()"
   ]
  },
  {
   "cell_type": "code",
   "execution_count": 135,
   "metadata": {},
   "outputs": [],
   "source": [
    "label_pred = model.predict(fea_test)\n",
    "# label_pred = model.predict(test_generator)"
   ]
  },
  {
   "cell_type": "code",
   "execution_count": 136,
   "metadata": {},
   "outputs": [],
   "source": [
    "np.set_printoptions(linewidth=200, precision=2, suppress=True)"
   ]
  },
  {
   "cell_type": "code",
   "execution_count": 137,
   "metadata": {},
   "outputs": [
    {
     "name": "stdout",
     "output_type": "stream",
     "text": [
      "Confusion matrix:\n",
      "['BD', 'CD', 'STR', 'SPT', 'SPIN', 'PLT', 'RT', 'FKW']\n",
      "\n",
      "[[ 42 328 232 343 194 217 160   2]\n",
      " [  0   0   0   0   0   0   0   0]\n",
      " [  3  48 131 102  28  44  15   1]\n",
      " [ 17  22  56 307  54  16  10   0]\n",
      " [  2  66  31 123 112  51  19   1]\n",
      " [  4  11   0   1   0 240  33   3]\n",
      " [ 25  29  12  11  33  80 228  22]\n",
      " [ 84  62  38  11  45 555 505 707]]\n",
      "\n",
      "[[0.03 0.22 0.15 0.23 0.13 0.14 0.11 0.  ]\n",
      " [0.   0.   0.   0.   0.   0.   0.   0.  ]\n",
      " [0.01 0.13 0.35 0.27 0.08 0.12 0.04 0.  ]\n",
      " [0.04 0.05 0.12 0.64 0.11 0.03 0.02 0.  ]\n",
      " [0.   0.16 0.08 0.3  0.28 0.13 0.05 0.  ]\n",
      " [0.01 0.04 0.   0.   0.   0.82 0.11 0.01]\n",
      " [0.06 0.07 0.03 0.03 0.07 0.18 0.52 0.05]\n",
      " [0.04 0.03 0.02 0.01 0.02 0.28 0.25 0.35]]\n"
     ]
    }
   ],
   "source": [
    "print(\"Confusion matrix:\")\n",
    "cm = confusion_matrix(label_test, np.argmax(label_pred, axis=1), labels=species_id)\n",
    "\n",
    "print(species_list)\n",
    "print('')\n",
    "print(cm)\n",
    "print('')\n",
    "\n",
    "cm2 = cm*1.0\n",
    "for ii in range(cm.shape[0]):\n",
    "    cm_row = cm[ii, :]*1.0\n",
    "\n",
    "    cm_row_sum = cm_row.sum()\n",
    "    if cm_row_sum != 0:\n",
    "        cm2[ii, :] = cm_row / cm_row_sum\n",
    "    else:\n",
    "        cm2[ii, :] = np.zeros(cm.shape[1])\n",
    "\n",
    "print(cm2)"
   ]
  },
  {
   "cell_type": "code",
   "execution_count": 138,
   "metadata": {},
   "outputs": [],
   "source": [
    "from sklearn.metrics import plot_confusion_matrix\n",
    "from sklearn.metrics._plot.confusion_matrix import ConfusionMatrixDisplay\n",
    "disp = ConfusionMatrixDisplay(confusion_matrix=cm, display_labels=species_list)\n",
    "disp2 = ConfusionMatrixDisplay(confusion_matrix=cm2, display_labels=species_list)"
   ]
  },
  {
   "cell_type": "code",
   "execution_count": 139,
   "metadata": {},
   "outputs": [
    {
     "data": {
      "text/plain": [
       "<sklearn.metrics._plot.confusion_matrix.ConfusionMatrixDisplay at 0x7f28f94a67c0>"
      ]
     },
     "execution_count": 139,
     "metadata": {},
     "output_type": "execute_result"
    },
    {
     "data": {
      "image/png": "[encoded data removed]",
      "text/plain": [
       "<Figure size 1080x1080 with 2 Axes>"
      ]
     },
     "metadata": {
      "needs_background": "light"
     },
     "output_type": "display_data"
    }
   ],
   "source": [
    "fig, ax = plt.subplots(figsize=[15, 15])\n",
    "disp.plot(include_values=True,\n",
    "                     cmap='viridis', ax=ax, xticks_rotation='horizontal',\n",
    "                     values_format=None, colorbar=True)\n"
   ]
  },
  {
   "cell_type": "code",
   "execution_count": 140,
   "metadata": {},
   "outputs": [
    {
     "data": {
      "text/plain": [
       "<sklearn.metrics._plot.confusion_matrix.ConfusionMatrixDisplay at 0x7f28f94a6f70>"
      ]
     },
     "execution_count": 140,
     "metadata": {},
     "output_type": "execute_result"
    },
    {
     "data": {
      "image/png": "[encoded data removed]",
      "text/plain": [
       "<Figure size 1080x1080 with 2 Axes>"
      ]
     },
     "metadata": {
      "needs_background": "light"
     },
     "output_type": "display_data"
    }
   ],
   "source": [
    "fig, ax = plt.subplots(figsize=[15, 15])\n",
    "disp2.plot(include_values=True,\n",
    "                     cmap='viridis', ax=ax, xticks_rotation='horizontal',\n",
    "                     values_format='.2f', colorbar=True)"
   ]
  },
  {
   "cell_type": "code",
   "execution_count": null,
   "metadata": {},
   "outputs": [],
   "source": []
  },
  {
   "cell_type": "code",
   "execution_count": null,
   "metadata": {},
   "outputs": [],
   "source": []
  },
  {
   "cell_type": "code",
   "execution_count": null,
   "metadata": {},
   "outputs": [],
   "source": []
  },
  {
   "cell_type": "code",
   "execution_count": null,
   "metadata": {},
   "outputs": [],
   "source": []
  },
  {
   "cell_type": "code",
   "execution_count": null,
   "metadata": {},
   "outputs": [],
   "source": []
  },
  {
   "cell_type": "code",
   "execution_count": null,
   "metadata": {},
   "outputs": [],
   "source": []
  }
 ],
 "metadata": {
  "kernelspec": {
   "display_name": "Python 3",
   "language": "python",
   "name": "python3"
  },
  "language_info": {
   "codemirror_mode": {
    "name": "ipython",
    "version": 3
   },
   "file_extension": ".py",
   "mimetype": "text/x-python",
   "name": "python",
   "nbconvert_exporter": "python",
   "pygments_lexer": "ipython3",
   "version": "3.8.6"
  }
 },
 "nbformat": 4,
 "nbformat_minor": 4
}
