{
 "cells": [
  {
   "cell_type": "markdown",
   "metadata": {},
   "source": [
    "# Training species classifier Expt 3: cross-validation of Oswald data\n",
    "# Feb 23, 2021\n",
    "## The augemented noise is from the all five deployments.\n",
    "## Trained on PICEAS2005 & STAR2000 whereas tested on HICEAS2002, STAR2003 & STAR2006"
   ]
  },
  {
   "cell_type": "code",
   "execution_count": 1,
   "metadata": {},
   "outputs": [],
   "source": [
    "import numpy as np\n",
    "from itertools import permutations\n",
    "import random\n",
    "import os\n",
    "import glob\n",
    "import pickle\n",
    "import matplotlib.pyplot as plt\n",
    "import matplotlib.patheffects as PathEffects\n",
    "import pandas as pd\n",
    "from os import makedirs\n",
    "from datetime import datetime\n",
    "from collections import Counter\n",
    "\n",
    "from math import floor\n",
    "\n",
    "from sklearn.model_selection import train_test_split\n",
    "from sklearn.utils import shuffle\n",
    "from sklearn.utils.class_weight import compute_class_weight\n",
    "from sklearn.metrics import roc_curve\n",
    "from sklearn.neighbors import KNeighborsClassifier\n",
    "from sklearn.metrics import confusion_matrix, classification_report\n",
    "\n",
    "# from MulticoreTSNE import MulticoreTSNE as TSNE\n",
    "# from sklearn.manifold import TSNE\n",
    "import seaborn as sns\n",
    "\n",
    "from tensorflow.keras.utils import Sequence\n",
    "from tensorflow.keras.layers import Input, Dense, BatchNormalization, Dropout, Activation\n",
    "from tensorflow.keras.layers import Conv2D, Lambda, Flatten, MaxPooling2D, Concatenate, LSTM, Reshape, Lambda, ConvLSTM2D, GlobalAveragePooling2D, GlobalMaxPooling2D\n",
    "from tensorflow.keras.layers import Bidirectional, LSTM, GRU\n",
    "from tensorflow.keras.models import Model, Sequential\n",
    "from tensorflow.keras.regularizers import l2\n",
    "from tensorflow.keras import backend as K\n",
    "\n",
    "from tensorflow.keras.optimizers.schedules import ExponentialDecay, PiecewiseConstantDecay\n",
    "from tensorflow.keras.optimizers import SGD,Adam\n",
    "from tensorflow.keras.losses import binary_crossentropy, CategoricalCrossentropy\n",
    "from tensorflow.keras.callbacks import ModelCheckpoint, TensorBoard, EarlyStopping\n",
    "from tensorflow.keras.utils import to_categorical\n",
    "from tensorflow.keras.models import load_model\n",
    "# import tensorflow_addons as tfa\n",
    "# import tensorflow_datasets as tfds\n",
    "from tensorflow.math import l2_normalize\n",
    "\n",
    "import tensorflow as tf"
   ]
  },
  {
   "cell_type": "code",
   "execution_count": 2,
   "metadata": {},
   "outputs": [],
   "source": [
    "%matplotlib inline\n",
    "import warnings\n",
    "warnings.filterwarnings(\"ignore\", category=DeprecationWarning)"
   ]
  },
  {
   "cell_type": "code",
   "execution_count": 3,
   "metadata": {},
   "outputs": [],
   "source": [
    "# Hyper parameters\n",
    "learning_rate = 1.0e-3\n",
    "conv_dim = 16\n",
    "rnn_dim = 16\n",
    "pool_size = 2\n",
    "pool_stride = 2\n",
    "l2_regu = 0.000\n",
    "drop_rate = 0.2\n",
    "hidden_units = 512\n",
    "fcn_dim = 512\n",
    "\n",
    "# learning_rate = 1.e-4\n",
    "# conv_dim = 64\n",
    "# rnn_dim = 16\n",
    "# pool_size = 2\n",
    "# pool_stride = 2\n",
    "# l2_regu = 0.00\n",
    "# drop_rate = 0.2\n",
    "# # drop_rate = 0.5\n",
    "# hidden_units = 512\n",
    "# fcn_dim = 512\n",
    "\n",
    "num_epoch = 200\n",
    "# batch_size = 128\n",
    "batch_size = 32  # for cnn14+attention\n",
    "\n",
    "num_patience = 20"
   ]
  },
  {
   "cell_type": "code",
   "execution_count": 4,
   "metadata": {},
   "outputs": [],
   "source": [
    "# data_type_dict = {1: 'universal', 2: 'file', 3: 'encounter', 4: 'domain'}\n",
    "# data_type = 2\n",
    "\n",
    "work_path = '/home/ys587/__Data/__whistle/__whislte_30_species'\n",
    "fit_result_path =  os.path.join(work_path, '__fit_result_species')\n",
    "# feature_path = os.path.join(work_path, '__feature_species')\n",
    "feature_path = os.path.join(work_path, '__dataset/20210210')"
   ]
  },
  {
   "cell_type": "code",
   "execution_count": 5,
   "metadata": {},
   "outputs": [],
   "source": [
    "species_dict = {'BD': 0, 'CD': 1, 'STR': 2, 'SPT': 3, 'SPIN': 4, 'PLT': 5, 'RT': 6,  'FKW': 7}\n",
    "num_species = len(species_dict)\n",
    "# species_dict = {'BD': 0, 'MH': 1, 'CD': 2, 'STR': 3, 'SPT': 4, 'SPIN': 5, 'PLT': 6, 'RD': 7, 'RT': 8,\n",
    "#                 'WSD': 9, 'FKW': 10, 'BEL': 11, 'KW': 12, 'WBD': 13, 'DUSK': 14, 'FRA': 15, 'PKW': 16, 'LPLT': 17,\n",
    "#                 'CLY': 18, 'SPE': 19, 'ASP': 20}\n",
    "species_list = list(species_dict.keys())\n",
    "species_id = list(species_dict.values())"
   ]
  },
  {
   "cell_type": "markdown",
   "metadata": {},
   "source": [
    "## Combine features"
   ]
  },
  {
   "cell_type": "code",
   "execution_count": 6,
   "metadata": {},
   "outputs": [],
   "source": [
    "deployment = ['STAR2000', 'STAR2003', 'STAR2006', 'HICEAS2002', 'PICEAS2005']  # oswald_STAR2000_orig.npz, oswald_STAR2000_aug.npz\n",
    "feature_path = '/home/ys587/__Data/__whistle/__whislte_30_species/__dataset/20210223_augment_all_three_noise_mixed'"
   ]
  },
  {
   "cell_type": "code",
   "execution_count": 7,
   "metadata": {
    "scrolled": true
   },
   "outputs": [],
   "source": [
    "if False:\n",
    "    for ee in deployment:\n",
    "        print(ee)\n",
    "        ee_others = [ee2 for ee2 in deployment if (ee2 != ee) ]\n",
    "        fea_train_files_tot = []\n",
    "        for ee2 in ee_others:\n",
    "            fea_train_files_tot.append('oswald_'+ee2+'_orig.npz')\n",
    "            fea_train_files_tot.append('oswald_'+ee2+'_aug.npz')\n",
    "\n",
    "        # Training data\n",
    "        fea_train_list = []\n",
    "        label_train_list = []\n",
    "        for ii in range(len(fea_train_files_tot)):\n",
    "            ff = fea_train_files_tot[ii]\n",
    "            print(ff)\n",
    "            fea_temp = np.load(os.path.join(feature_path, ff))\n",
    "            print(fea_temp.files)\n",
    "\n",
    "            if ii == 0:\n",
    "                fea_train = fea_temp['feas_orig']\n",
    "                label_train = fea_temp['labels_orig']\n",
    "                print(fea_train.shape)\n",
    "                print(label_train.shape)\n",
    "            elif ii % 2 == 0:  # even\n",
    "                fea_train = np.concatenate([fea_train, fea_temp['feas_orig']])\n",
    "                label_train = np.concatenate([label_train, fea_temp['labels_orig']])\n",
    "                print(fea_train.shape)\n",
    "                print(label_train.shape)\n",
    "            else:\n",
    "                fea_train = np.concatenate([fea_train, fea_temp['feas_aug']])\n",
    "                label_train = np.concatenate([label_train, fea_temp['labels_aug']])\n",
    "                print(fea_train.shape)\n",
    "                print(label_train.shape)\n",
    "        print(fea_train.shape)\n",
    "        print(label_train.shape)\n",
    "        np.savez(os.path.join(feature_path, './train_oswald_no_'+ee+'.npz'), fea_train=fea_train, label_train=label_train)\n",
    "        print('')"
   ]
  },
  {
   "cell_type": "code",
   "execution_count": 8,
   "metadata": {},
   "outputs": [],
   "source": [
    "# data generator\n",
    "class DataGenerator(tf.keras.utils.Sequence):\n",
    "    def __init__(self, feature, label, batch_size=32, num_classes=None, shuffle=True):\n",
    "        self.batch_size = batch_size\n",
    "        self.X = feature\n",
    "        self.X_dim = len(feature.shape)\n",
    "        self.y = to_categorical(label, num_classes)\n",
    "        self.indices = np.arange(self.y.shape[0])\n",
    "        self.num_classes = num_classes\n",
    "        self.shuffle = shuffle\n",
    "        \n",
    "        # self.index = np.arange(len(self.indices))\n",
    "        #self.df = dataframe\n",
    "        #self.indices = self.df.index.tolist()        \n",
    "        # self.x_col = x_col\n",
    "        # self.y_col = y_col\n",
    "        \n",
    "        self.on_epoch_end()\n",
    "\n",
    "    def __len__(self):\n",
    "        return int(floor(len(self.indices)/self.batch_size))\n",
    "        # return label.shape[0]\n",
    "\n",
    "    def __getitem__(self, index):\n",
    "        # index = self.index[index * self.batch_size:(index + 1) * self.batch_size]\n",
    "        # batch = [self.indices[k] for k in index]\n",
    "        batch = list(range(index*self.batch_size, (index+1)*self.batch_size))\n",
    "        \n",
    "        X, y = self.__get_data(batch)\n",
    "        return X, y\n",
    "\n",
    "    def on_epoch_end(self):\n",
    "        if self.shuffle == True:\n",
    "            np.random.shuffle(self.indices)\n",
    "\n",
    "    def __get_data(self, batch):\n",
    "        y = np.zeros((self.batch_size, self.y.shape[1]))\n",
    "        \n",
    "        if self.X_dim == 3:\n",
    "            X = np.zeros((self.batch_size, self.X.shape[1], self.X.shape[2]))\n",
    "            for i, id in enumerate(batch):\n",
    "                X[i,:, :] = self.X[id, :, :]  # logic\n",
    "                y[i, :] = self.y[id, :] # labels\n",
    "                \n",
    "        elif self.X_dim == 4:\n",
    "            X = np.zeros((self.batch_size, self.X.shape[1], self.X.shape[2], self.X.shape[3]))\n",
    "            for i, id in enumerate(batch):\n",
    "                X[i,:, :, :] = self.X[id, :, :, :]  # logic\n",
    "                y[i, :] = self.y[id, :] # labels\n",
    "\n",
    "        return X, y"
   ]
  },
  {
   "cell_type": "markdown",
   "metadata": {},
   "source": [
    "## Models"
   ]
  },
  {
   "cell_type": "code",
   "execution_count": 9,
   "metadata": {},
   "outputs": [],
   "source": [
    "# Kong's attention\n",
    "# def max_pooling(inputs, **kwargs):\n",
    "#     input = inputs[0]   # (batch_size, time_steps, freq_bins)\n",
    "#     return K.max(input, axis=1)\n",
    "def max_pooling(inputs, **kwargs):\n",
    "    # input = inputs[0]   # (batch_size, time_steps, freq_bins)\n",
    "    return K.max(inputs, axis=1)\n",
    "\n",
    "\n",
    "def average_pooling(inputs, **kwargs):\n",
    "    input = inputs[0]   # (batch_size, time_steps, freq_bins)\n",
    "    return K.mean(input, axis=1)\n",
    "\n",
    "\n",
    "def attention_pooling(inputs, **kwargs):\n",
    "    [out, att] = inputs\n",
    "\n",
    "    epsilon = 1e-7\n",
    "    att = K.clip(att, epsilon, 1. - epsilon)\n",
    "    normalized_att = att / K.sum(att, axis=1)[:, None, :]\n",
    "\n",
    "    return K.sum(out * normalized_att, axis=1)\n",
    "\n",
    "\n",
    "def pooling_shape(input_shape):\n",
    "\n",
    "    if isinstance(input_shape, list):\n",
    "        (sample_num, time_steps, freq_bins) = input_shape[0]\n",
    "\n",
    "    else:\n",
    "        (sample_num, time_steps, freq_bins) = input_shape\n",
    "\n",
    "    return (sample_num, freq_bins)"
   ]
  },
  {
   "cell_type": "code",
   "execution_count": 10,
   "metadata": {},
   "outputs": [],
   "source": [
    "# cnn14 attention with customized maxpooling\n",
    "def model_cnn14_attention_multi(time_steps, freq_bins, classes_num, model_type='feature_level_attention', conv_dim=64, rnn_dim=128, pool_size=2, pool_stride=2, hidden_units=512, l2_regu=0., drop_rate=0., multilabel=True):\n",
    "    # Kong's attention\n",
    "    # model_type = 'decision_level_max_pooling'  # problem with dimensions of the Lambda layer after training\n",
    "    # model_type = 'decision_level_average_pooling' # problem with dimensions of the Lambda layer after training\n",
    "    # model_type = 'decision_level_single_attention'\n",
    "    # model_type = 'decision_level_multi_attention'\n",
    "    # model_type = 'feature_level_attention'\n",
    "\n",
    "    input_layer = Input(shape=(time_steps, freq_bins, 1), name='input')\n",
    "    # group 1\n",
    "    y = Conv2D(conv_dim, kernel_size=(3, 3), strides=(1, 1), padding='same', kernel_regularizer=l2(l2_regu))(input_layer)\n",
    "    y = BatchNormalization()(y)\n",
    "    y = Activation(activation='relu')(y)\n",
    "    y = Conv2D(conv_dim, kernel_size=(3, 3), strides=(1, 1), padding='same', kernel_regularizer=l2(l2_regu))(y)\n",
    "    y = BatchNormalization()(y)\n",
    "    y = Activation(activation='relu')(y)\n",
    "    y = MaxPooling2D(pool_size=(pool_size, 2), strides=(pool_stride, 2), padding='same')(y)\n",
    "    y = Dropout(drop_rate)(y)\n",
    "    \n",
    "    # group 2\n",
    "    y = Conv2D(conv_dim*2, kernel_size=(3, 3), strides=(1, 1), padding='same', kernel_regularizer=l2(l2_regu))(y)\n",
    "    y = BatchNormalization()(y)\n",
    "    y = Activation(activation='relu')(y)\n",
    "    y = Conv2D(conv_dim*2, kernel_size=(3, 3), strides=(1, 1), padding='same', kernel_regularizer=l2(l2_regu))(y)\n",
    "    y = BatchNormalization()(y)\n",
    "    y = Activation(activation='relu')(y)\n",
    "    y = MaxPooling2D(pool_size=(pool_size, 2), strides=(pool_stride, 2), padding='same')(y)\n",
    "    y = Dropout(drop_rate)(y)\n",
    "    \n",
    "    # group 3\n",
    "    y = Conv2D(conv_dim*4, kernel_size=(3, 3), strides=(1, 1), padding='same', kernel_regularizer=l2(l2_regu))(y)\n",
    "    y = BatchNormalization()(y)\n",
    "    y = Activation(activation='relu')(y)\n",
    "    y = Conv2D(conv_dim*4, kernel_size=(3, 3), strides=(1, 1), padding='same', kernel_regularizer=l2(l2_regu))(y)\n",
    "    y = BatchNormalization()(y)\n",
    "    y = Activation(activation='relu')(y)\n",
    "    y = MaxPooling2D(pool_size=(pool_size, 2), strides=(pool_stride, 2), padding='same')(y)\n",
    "    y = Dropout(drop_rate)(y)\n",
    "    \n",
    "    # group 4 \n",
    "    y = Conv2D(conv_dim*8, kernel_size=(3, 3), strides=(1, 1), padding='same', kernel_regularizer=l2(l2_regu))(y)\n",
    "    y = BatchNormalization()(y)\n",
    "    y = Activation(activation='relu')(y)\n",
    "    y = Conv2D(conv_dim*8, kernel_size=(3, 3), strides=(1, 1), padding='same', kernel_regularizer=l2(l2_regu))(y)\n",
    "    y = BatchNormalization()(y)\n",
    "    y = Activation(activation='relu')(y)\n",
    "    y = MaxPooling2D(pool_size=(pool_size, 2), strides=(pool_stride, 2), padding='same')(y)\n",
    "    y = Dropout(drop_rate)(y)\n",
    "\n",
    "    # group 5\n",
    "    y = Conv2D(conv_dim*16, kernel_size=(3, 3), strides=(1, 1), padding='same', kernel_regularizer=l2(l2_regu))(y)\n",
    "    y = BatchNormalization()(y)\n",
    "    y = Activation(activation='relu')(y)\n",
    "    y = Conv2D(conv_dim*16, kernel_size=(3, 3), strides=(1, 1), padding='same', kernel_regularizer=l2(l2_regu))(y)\n",
    "    y = BatchNormalization()(y)\n",
    "    y = Activation(activation='relu')(y)\n",
    "    y = MaxPooling2D(pool_size=(pool_size, 2), strides=(1, 2), padding='same')(y)\n",
    "    y = Dropout(drop_rate)(y)\n",
    "\n",
    "    # group 6\n",
    "    y = Conv2D(conv_dim*32, kernel_size=(3, 3), strides=(1, 1), padding='same', kernel_regularizer=l2(l2_regu))(y)\n",
    "    y = BatchNormalization()(y)\n",
    "    y = Activation(activation='relu')(y)\n",
    "    y = Conv2D(conv_dim*32, kernel_size=(3, 3), strides=(1, 1), padding='same', kernel_regularizer=l2(l2_regu))(y)\n",
    "    y = BatchNormalization()(y)\n",
    "    y = Activation(activation='relu')(y)\n",
    "    y = MaxPooling2D(pool_size=(pool_size, 2), strides=(1, 2), padding='same')(y)\n",
    "    y = Dropout(drop_rate)(y)\n",
    "    \n",
    "    # change dimensions: samples, time, frequency, channels => samples, time, frequency*channels\n",
    "    dim_cnn = K.int_shape(y)\n",
    "    y = Reshape((dim_cnn[1], dim_cnn[2]*dim_cnn[3]))(y)\n",
    "\n",
    "    a1 = Dense(hidden_units)(y)\n",
    "    a1 = BatchNormalization()(a1)\n",
    "    a1 = Activation('relu')(a1)\n",
    "    a1 = Dropout(drop_rate)(a1)\n",
    "\n",
    "    a2 = Dense(hidden_units)(a1)\n",
    "    a2 = BatchNormalization()(a2)\n",
    "    a2 = Activation('relu')(a2)\n",
    "    a2 = Dropout(drop_rate)(a2)\n",
    "\n",
    "    a3 = Dense(hidden_units)(a2)\n",
    "    a3 = BatchNormalization()(a3)\n",
    "    a3 = Activation('relu')(a3)\n",
    "    a3 = Dropout(drop_rate)(a3)\n",
    "\n",
    "    # Pooling layers\n",
    "    if model_type == 'decision_level_max_pooling':\n",
    "        '''Global max pooling.\n",
    "\n",
    "        [1] Choi, Keunwoo, et al. \"Automatic tagging using deep convolutional \n",
    "        neural networks.\" arXiv preprint arXiv:1606.00298 (2016).\n",
    "        '''\n",
    "        cla = Dense(classes_num, activation='sigmoid')(a3)\n",
    "        \n",
    "        # output_layer = Lambda(\n",
    "        #    max_pooling, \n",
    "        #    output_shape=pooling_shape)(\n",
    "        #    [cla])\n",
    "        output_layer = Lambda(max_pooling)(cla)\n",
    "\n",
    "    elif model_type == 'decision_level_average_pooling':\n",
    "        '''Global average pooling.\n",
    "\n",
    "        [2] Lin, Min, et al. Qiang Chen, and Shuicheng Yan. \"Network in \n",
    "        network.\" arXiv preprint arXiv:1312.4400 (2013).\n",
    "        '''\n",
    "        cla = Dense(classes_num, activation='sigmoid')(a3)\n",
    "        # output_layer = Lambda(\n",
    "        #    average_pooling,\n",
    "        #    output_shape=pooling_shape)(\n",
    "        #    [cla])\n",
    "        output_layer = Lambda(average_pooling)(cla)\n",
    "\n",
    "    elif model_type == 'decision_level_single_attention':\n",
    "        '''Decision level single attention pooling.\n",
    "        [3] Kong, Qiuqiang, et al. \"Audio Set classification with attention\n",
    "        model: A probabilistic perspective.\" arXiv preprint arXiv:1711.00927\n",
    "        (2017).\n",
    "        '''\n",
    "        cla = Dense(classes_num, activation='sigmoid')(a3)\n",
    "        att = Dense(classes_num, activation='softmax')(a3)\n",
    "        output_layer = Lambda(\n",
    "            attention_pooling, output_shape=pooling_shape)([cla, att])\n",
    "\n",
    "    elif model_type == 'decision_level_multi_attention':\n",
    "        '''Decision level multi attention pooling.\n",
    "        [4] Yu, Changsong, et al. \"Multi-level Attention Model for Weakly\n",
    "        Supervised Audio Classification.\" arXiv preprint arXiv:1803.02353\n",
    "        (2018).\n",
    "        '''\n",
    "        cla1 = Dense(classes_num, activation='sigmoid')(a2)\n",
    "        att1 = Dense(classes_num, activation='softmax')(a2)\n",
    "        out1 = Lambda(\n",
    "            attention_pooling, output_shape=pooling_shape)([cla1, att1])\n",
    "\n",
    "        cla2 = Dense(classes_num, activation='sigmoid')(a3)\n",
    "        att2 = Dense(classes_num, activation='softmax')(a3)\n",
    "        out2 = Lambda(\n",
    "            attention_pooling, output_shape=pooling_shape)([cla2, att2])\n",
    "\n",
    "        b1 = Concatenate(axis=-1)([out1, out2])\n",
    "        b1 = Dense(classes_num)(b1)\n",
    "        \n",
    "        if multilabel:\n",
    "            output_layer = Activation('sigmoid')(b1)\n",
    "        else:\n",
    "            output_layer = Activation('softmax')(b1)\n",
    "\n",
    "    elif model_type == 'feature_level_attention':\n",
    "        '''Feature level attention.\n",
    "        [1] Kong, Qiuqiang, et al. \"Weakly labelled audioset tagging with \n",
    "        attention neural networks.\" (2019).\n",
    "        '''\n",
    "        cla = Dense(hidden_units, activation='linear')(a3)\n",
    "        att = Dense(hidden_units, activation='sigmoid')(a3)\n",
    "        b1 = Lambda(\n",
    "            attention_pooling, output_shape=pooling_shape)([cla, att])\n",
    "\n",
    "        b1 = BatchNormalization()(b1)\n",
    "        b1 = Activation(activation='relu')(b1)\n",
    "        b1 = Dropout(drop_rate)(b1)\n",
    "        \n",
    "        if multilabel:\n",
    "            output_layer = Dense(classes_num, activation='sigmoid')(b1)\n",
    "        else:\n",
    "            output_layer = Dense(classes_num, activation='softmax')(b1)\n",
    "\n",
    "    else:\n",
    "        raise Exception(\"Incorrect model_type!\")\n",
    "\n",
    "    # Build model\n",
    "    model = Model(inputs=input_layer, outputs=output_layer)\n",
    "    \n",
    "    return model"
   ]
  },
  {
   "cell_type": "code",
   "execution_count": 11,
   "metadata": {},
   "outputs": [],
   "source": [
    "# cnn14 attention\n",
    "def model_cnn14_attention(time_steps, freq_bins, classes_num, model_type='feature_level_attention', conv_dim=64, rnn_dim=128, pool_size=2, pool_stride=2, hidden_units=512, l2_regu=0., drop_rate=0., multilabel=True):\n",
    "    # Kong's attention\n",
    "    # model_type = 'decision_level_max_pooling'  # problem with dimensions of the Lambda layer after training\n",
    "    # model_type = 'decision_level_average_pooling' # problem with dimensions of the Lambda layer after training\n",
    "    # model_type = 'decision_level_single_attention'\n",
    "    # model_type = 'decision_level_multi_attention'\n",
    "    # model_type = 'feature_level_attention'\n",
    "\n",
    "    input_layer = Input(shape=(time_steps, freq_bins, 1), name='input')\n",
    "    # group 1\n",
    "    y = Conv2D(conv_dim, kernel_size=(3, 3), strides=(1, 1), padding='same', kernel_regularizer=l2(l2_regu))(input_layer)\n",
    "    y = BatchNormalization()(y)\n",
    "    y = Activation(activation='relu')(y)\n",
    "    y = Conv2D(conv_dim, kernel_size=(3, 3), strides=(1, 1), padding='same', kernel_regularizer=l2(l2_regu))(y)\n",
    "    y = BatchNormalization()(y)\n",
    "    y = Activation(activation='relu')(y)\n",
    "    y = MaxPooling2D(pool_size=(pool_size, 2), strides=(pool_stride, 2), padding='same')(y)\n",
    "    y = Dropout(drop_rate)(y)\n",
    "    \n",
    "    # group 2\n",
    "    y = Conv2D(conv_dim*2, kernel_size=(3, 3), strides=(1, 1), padding='same', kernel_regularizer=l2(l2_regu))(y)\n",
    "    y = BatchNormalization()(y)\n",
    "    y = Activation(activation='relu')(y)\n",
    "    y = Conv2D(conv_dim*2, kernel_size=(3, 3), strides=(1, 1), padding='same', kernel_regularizer=l2(l2_regu))(y)\n",
    "    y = BatchNormalization()(y)\n",
    "    y = Activation(activation='relu')(y)\n",
    "    y = MaxPooling2D(pool_size=(pool_size, 2), strides=(pool_stride, 2), padding='same')(y)\n",
    "    y = Dropout(drop_rate)(y)\n",
    "    \n",
    "    # group 3\n",
    "    y = Conv2D(conv_dim*4, kernel_size=(3, 3), strides=(1, 1), padding='same', kernel_regularizer=l2(l2_regu))(y)\n",
    "    y = BatchNormalization()(y)\n",
    "    y = Activation(activation='relu')(y)\n",
    "    y = Conv2D(conv_dim*4, kernel_size=(3, 3), strides=(1, 1), padding='same', kernel_regularizer=l2(l2_regu))(y)\n",
    "    y = BatchNormalization()(y)\n",
    "    y = Activation(activation='relu')(y)\n",
    "    y = MaxPooling2D(pool_size=(pool_size, 2), strides=(pool_stride, 2), padding='same')(y)\n",
    "    y = Dropout(drop_rate)(y)\n",
    "    \n",
    "    # group 4 \n",
    "    y = Conv2D(conv_dim*8, kernel_size=(3, 3), strides=(1, 1), padding='same', kernel_regularizer=l2(l2_regu))(y)\n",
    "    y = BatchNormalization()(y)\n",
    "    y = Activation(activation='relu')(y)\n",
    "    y = Conv2D(conv_dim*8, kernel_size=(3, 3), strides=(1, 1), padding='same', kernel_regularizer=l2(l2_regu))(y)\n",
    "    y = BatchNormalization()(y)\n",
    "    y = Activation(activation='relu')(y)\n",
    "    y = MaxPooling2D(pool_size=(pool_size, 2), strides=(pool_stride, 2), padding='same')(y)\n",
    "    y = Dropout(drop_rate)(y)\n",
    "\n",
    "    # group 5\n",
    "    y = Conv2D(conv_dim*16, kernel_size=(3, 3), strides=(1, 1), padding='same', kernel_regularizer=l2(l2_regu))(y)\n",
    "    y = BatchNormalization()(y)\n",
    "    y = Activation(activation='relu')(y)\n",
    "    y = Conv2D(conv_dim*16, kernel_size=(3, 3), strides=(1, 1), padding='same', kernel_regularizer=l2(l2_regu))(y)\n",
    "    y = BatchNormalization()(y)\n",
    "    y = Activation(activation='relu')(y)\n",
    "    y = MaxPooling2D(pool_size=(pool_size, 2), strides=(pool_stride, 2), padding='same')(y)\n",
    "    y = Dropout(drop_rate)(y)\n",
    "\n",
    "    # group 6\n",
    "    y = Conv2D(conv_dim*32, kernel_size=(3, 3), strides=(1, 1), padding='same', kernel_regularizer=l2(l2_regu))(y)\n",
    "    y = BatchNormalization()(y)\n",
    "    y = Activation(activation='relu')(y)\n",
    "    y = Conv2D(conv_dim*32, kernel_size=(3, 3), strides=(1, 1), padding='same', kernel_regularizer=l2(l2_regu))(y)\n",
    "    y = BatchNormalization()(y)\n",
    "    y = Activation(activation='relu')(y)\n",
    "    y = MaxPooling2D(pool_size=(pool_size, 2), strides=(pool_stride, 2), padding='same')(y)\n",
    "    y = Dropout(drop_rate)(y)\n",
    "    \n",
    "    # change dimensions: samples, time, frequency, channels => samples, time, frequency*channels\n",
    "    dim_cnn = K.int_shape(y)\n",
    "    y = Reshape((dim_cnn[1], dim_cnn[2]*dim_cnn[3]))(y)\n",
    "\n",
    "    a1 = Dense(hidden_units)(y)\n",
    "    a1 = BatchNormalization()(a1)\n",
    "    a1 = Activation('relu')(a1)\n",
    "    a1 = Dropout(drop_rate)(a1)\n",
    "\n",
    "    a2 = Dense(hidden_units)(a1)\n",
    "    a2 = BatchNormalization()(a2)\n",
    "    a2 = Activation('relu')(a2)\n",
    "    a2 = Dropout(drop_rate)(a2)\n",
    "\n",
    "    a3 = Dense(hidden_units)(a2)\n",
    "    a3 = BatchNormalization()(a3)\n",
    "    a3 = Activation('relu')(a3)\n",
    "    a3 = Dropout(drop_rate)(a3)\n",
    "\n",
    "    # Pooling layers\n",
    "    if model_type == 'decision_level_max_pooling':\n",
    "        '''Global max pooling.\n",
    "\n",
    "        [1] Choi, Keunwoo, et al. \"Automatic tagging using deep convolutional \n",
    "        neural networks.\" arXiv preprint arXiv:1606.00298 (2016).\n",
    "        '''\n",
    "        cla = Dense(classes_num, activation='sigmoid')(a3)\n",
    "        \n",
    "        # output_layer = Lambda(\n",
    "        #    max_pooling, \n",
    "        #    output_shape=pooling_shape)(\n",
    "        #    [cla])\n",
    "        output_layer = Lambda(max_pooling)(cla)\n",
    "\n",
    "    elif model_type == 'decision_level_average_pooling':\n",
    "        '''Global average pooling.\n",
    "\n",
    "        [2] Lin, Min, et al. Qiang Chen, and Shuicheng Yan. \"Network in \n",
    "        network.\" arXiv preprint arXiv:1312.4400 (2013).\n",
    "        '''\n",
    "        cla = Dense(classes_num, activation='sigmoid')(a3)\n",
    "        # output_layer = Lambda(\n",
    "        #    average_pooling,\n",
    "        #    output_shape=pooling_shape)(\n",
    "        #    [cla])\n",
    "        output_layer = Lambda(average_pooling)(cla)\n",
    "\n",
    "    elif model_type == 'decision_level_single_attention':\n",
    "        '''Decision level single attention pooling.\n",
    "        [3] Kong, Qiuqiang, et al. \"Audio Set classification with attention\n",
    "        model: A probabilistic perspective.\" arXiv preprint arXiv:1711.00927\n",
    "        (2017).\n",
    "        '''\n",
    "        cla = Dense(classes_num, activation='sigmoid')(a3)\n",
    "        att = Dense(classes_num, activation='softmax')(a3)\n",
    "        output_layer = Lambda(\n",
    "            attention_pooling, output_shape=pooling_shape)([cla, att])\n",
    "\n",
    "    elif model_type == 'decision_level_multi_attention':\n",
    "        '''Decision level multi attention pooling.\n",
    "        [4] Yu, Changsong, et al. \"Multi-level Attention Model for Weakly\n",
    "        Supervised Audio Classification.\" arXiv preprint arXiv:1803.02353\n",
    "        (2018).\n",
    "        '''\n",
    "        cla1 = Dense(classes_num, activation='sigmoid')(a2)\n",
    "        att1 = Dense(classes_num, activation='softmax')(a2)\n",
    "        out1 = Lambda(\n",
    "            attention_pooling, output_shape=pooling_shape)([cla1, att1])\n",
    "\n",
    "        cla2 = Dense(classes_num, activation='sigmoid')(a3)\n",
    "        att2 = Dense(classes_num, activation='softmax')(a3)\n",
    "        out2 = Lambda(\n",
    "            attention_pooling, output_shape=pooling_shape)([cla2, att2])\n",
    "\n",
    "        b1 = Concatenate(axis=-1)([out1, out2])\n",
    "        b1 = Dense(classes_num)(b1)\n",
    "        \n",
    "        if multilabel:\n",
    "            output_layer = Activation('sigmoid')(b1)\n",
    "        else:\n",
    "            output_layer = Activation('softmax')(b1)\n",
    "\n",
    "    elif model_type == 'feature_level_attention':\n",
    "        '''Feature level attention.\n",
    "        [1] Kong, Qiuqiang, et al. \"Weakly labelled audioset tagging with \n",
    "        attention neural networks.\" (2019).\n",
    "        '''\n",
    "        cla = Dense(hidden_units, activation='linear')(a3)\n",
    "        att = Dense(hidden_units, activation='sigmoid')(a3)\n",
    "        b1 = Lambda(\n",
    "            attention_pooling, output_shape=pooling_shape)([cla, att])\n",
    "\n",
    "        b1 = BatchNormalization()(b1)\n",
    "        b1 = Activation(activation='relu')(b1)\n",
    "        b1 = Dropout(drop_rate)(b1)\n",
    "        \n",
    "        if multilabel:\n",
    "            output_layer = Dense(classes_num, activation='sigmoid')(b1)\n",
    "        else:\n",
    "            output_layer = Dense(classes_num, activation='softmax')(b1)\n",
    "\n",
    "    else:\n",
    "        raise Exception(\"Incorrect model_type!\")\n",
    "\n",
    "    # Build model\n",
    "    model = Model(inputs=input_layer, outputs=output_layer)\n",
    "    \n",
    "    return model"
   ]
  },
  {
   "cell_type": "code",
   "execution_count": 12,
   "metadata": {},
   "outputs": [],
   "source": [
    "def model_cnn14(time_steps, freq_bins, classes_num, pool_size=2, pool_stride=2, conv_dim=16, fcn_dim=512, l2_regu=0., drop_rate=0.):\n",
    "    # input\n",
    "    input_layer = Input(shape=(time_steps, freq_bins, 1), name='input')\n",
    "    \n",
    "    # group 1\n",
    "    y = Conv2D(conv_dim, kernel_size=(3, 3), strides=(1, 1), padding='same', kernel_regularizer=l2(l2_regu))(input_layer)\n",
    "    y = BatchNormalization()(y)\n",
    "    y = Activation(activation='relu')(y)\n",
    "    y = Conv2D(conv_dim, kernel_size=(3, 3), strides=(1, 1), padding='same', kernel_regularizer=l2(l2_regu))(y)\n",
    "    y = BatchNormalization()(y)\n",
    "    y = Activation(activation='relu')(y)\n",
    "    y = MaxPooling2D(pool_size=(2, 2), strides=(2, 2), padding='same')(y)\n",
    "    y = Dropout(drop_rate)(y)\n",
    "    \n",
    "    # group 2\n",
    "    y = Conv2D(conv_dim*2, kernel_size=(3, 3), strides=(1, 1), padding='same', kernel_regularizer=l2(l2_regu))(y)\n",
    "    y = BatchNormalization()(y)\n",
    "    y = Activation(activation='relu')(y)\n",
    "    y = Conv2D(conv_dim*2, kernel_size=(3, 3), strides=(1, 1), padding='same', kernel_regularizer=l2(l2_regu))(y)\n",
    "    y = BatchNormalization()(y)\n",
    "    y = Activation(activation='relu')(y)\n",
    "    y = MaxPooling2D(pool_size=(2, 2), strides=(2, 2), padding='same')(y)\n",
    "    y = Dropout(drop_rate)(y)\n",
    "    \n",
    "    # group 3\n",
    "    y = Conv2D(conv_dim*4, kernel_size=(3, 3), strides=(1, 1), padding='same', kernel_regularizer=l2(l2_regu))(y)\n",
    "    y = BatchNormalization()(y)\n",
    "    y = Activation(activation='relu')(y)\n",
    "    y = Conv2D(conv_dim*4, kernel_size=(3, 3), strides=(1, 1), padding='same', kernel_regularizer=l2(l2_regu))(y)\n",
    "    y = BatchNormalization()(y)\n",
    "    y = Activation(activation='relu')(y)\n",
    "    y = MaxPooling2D(pool_size=(2, 2), strides=(2, 2), padding='same')(y)\n",
    "    y = Dropout(drop_rate)(y)\n",
    "    \n",
    "    # group 4 \n",
    "    y = Conv2D(conv_dim*8, kernel_size=(3, 3), strides=(1, 1), padding='same', kernel_regularizer=l2(l2_regu))(y)\n",
    "    y = BatchNormalization()(y)\n",
    "    y = Activation(activation='relu')(y)\n",
    "    y = Conv2D(conv_dim*8, kernel_size=(3, 3), strides=(1, 1), padding='same', kernel_regularizer=l2(l2_regu))(y)\n",
    "    y = BatchNormalization()(y)\n",
    "    y = Activation(activation='relu')(y)\n",
    "    y = MaxPooling2D(pool_size=(2, 2), strides=(2, 2), padding='same')(y)\n",
    "    y = Dropout(drop_rate)(y)\n",
    "\n",
    "    # group 5\n",
    "    y = Conv2D(conv_dim*16, kernel_size=(3, 3), strides=(1, 1), padding='same', kernel_regularizer=l2(l2_regu))(y)\n",
    "    y = BatchNormalization()(y)\n",
    "    y = Activation(activation='relu')(y)\n",
    "    y = Conv2D(conv_dim*16, kernel_size=(3, 3), strides=(1, 1), padding='same', kernel_regularizer=l2(l2_regu))(y)\n",
    "    y = BatchNormalization()(y)\n",
    "    y = Activation(activation='relu')(y)\n",
    "    y = MaxPooling2D(pool_size=(2, 2), strides=(2, 2), padding='same')(y)\n",
    "    y = Dropout(drop_rate)(y)\n",
    "\n",
    "    # group 6\n",
    "    y = Conv2D(conv_dim*32, kernel_size=(3, 3), strides=(1, 1), padding='same', kernel_regularizer=l2(l2_regu))(y)\n",
    "    y = BatchNormalization()(y)\n",
    "    y = Activation(activation='relu')(y)\n",
    "    y = Conv2D(conv_dim*32, kernel_size=(3, 3), strides=(1, 1), padding='same', kernel_regularizer=l2(l2_regu))(y)\n",
    "    y = BatchNormalization()(y)\n",
    "    y = Activation(activation='relu')(y)\n",
    "    \n",
    "    y = GlobalMaxPooling2D()(y)\n",
    "    \n",
    "    # FC block\n",
    "    y = Dense(fcn_dim, activation='relu', name='cnn14_fcn')(y)  # original 512\n",
    "    x = Dense(classes_num, activation='softmax')(y)\n",
    "    \n",
    "    # Build model\n",
    "    model = Model(inputs=input_layer, outputs=x)\n",
    "    \n",
    "    return model"
   ]
  },
  {
   "cell_type": "markdown",
   "metadata": {},
   "source": [
    "# Model compile, class weight & fitting"
   ]
  },
  {
   "cell_type": "code",
   "execution_count": 13,
   "metadata": {},
   "outputs": [],
   "source": [
    "# def find_best_model(model_folder, remove_others=False):\n",
    "#     model_list = glob.glob(model_folder+'/*.hdf5')\n",
    "#     model_list.sort()\n",
    "#     the_best_model = model_list[-1]\n",
    "    \n",
    "#     if remove_others==True:\n",
    "#         for mm in model_list[:-1]:\n",
    "#             os.remove(mm)\n",
    "            \n",
    "#     print(the_best_model)\n",
    "    \n",
    "#     return the_best_model\n",
    "import re\n",
    "\n",
    "def find_best_model(classifier_path, fmt='epoch_\\d+_valloss_(\\d+.\\d{4})_valacc_\\d+.\\d{4}.hdf5', is_max=False, purge=True):\n",
    "    \"\"\"\n",
    "    Return the path to the model with the best accuracy, given the path to\n",
    "    all the trained classifiers\n",
    "    Args:\n",
    "        classifier_path: path to all the trained classifiers\n",
    "        fmt: e.g. \"epoch_\\d+_[0-1].\\d+_(\\d+.\\d{4}).hdf5\"\n",
    "        'epoch_\\d+_valloss_(\\d+.\\d{4})_valacc_\\d+.\\d{4}.hdf5'\n",
    "        is_max: use max; otherwise, min\n",
    "        purge: True to purge models files except the best one\n",
    "    Return:\n",
    "        the path of the model with the best accuracy\n",
    "    \"\"\"\n",
    "    # list all files ending with .hdf5\n",
    "    day_list = sorted(glob.glob(os.path.join(classifier_path + '/', '*.hdf5')))\n",
    "\n",
    "    # re the last 4 digits for accuracy\n",
    "    hdf5_filename = []\n",
    "    hdf5_accu = np.zeros(len(day_list))\n",
    "    for dd in range(len(day_list)):\n",
    "        filename = os.path.basename(day_list[dd])\n",
    "        hdf5_filename.append(filename)\n",
    "        # m = re.search(\"_F1_(0.\\d{4}).hdf5\", filename)\n",
    "        # m = re.search(\"_([0-1].\\d{4}).hdf5\", filename)\n",
    "        # m = re.search(\"epoch_\\d+_[0-1].\\d+_(\\d+.\\d{4}).hdf5\", filename)\n",
    "        m = re.search(fmt, filename)\n",
    "        try:\n",
    "            hdf5_accu[dd] = float(m.groups()[0])\n",
    "        except:\n",
    "            continue\n",
    "\n",
    "    # select the laregest one and write to the variable classifier_file\n",
    "    if len(hdf5_accu) == 0:\n",
    "        best_model_path = ''\n",
    "        best_accu = 0\n",
    "    else:\n",
    "        if is_max is True:\n",
    "            ind_max = np.argmax(hdf5_accu)\n",
    "        else: # use min instead\n",
    "            ind_max = np.argmin(hdf5_accu)\n",
    "        best_model_path = day_list[int(ind_max)]\n",
    "        best_accu = hdf5_accu[ind_max]\n",
    "        # purge all model files except the best_model\n",
    "        if purge:\n",
    "            for ff in day_list:\n",
    "                if ff != best_model_path:\n",
    "                    os.remove(ff)\n",
    "    print('Best model:'+str(best_accu))\n",
    "    print(best_model_path)\n",
    "    return best_model_path, best_accu\n"
   ]
  },
  {
   "cell_type": "code",
   "execution_count": 14,
   "metadata": {},
   "outputs": [],
   "source": [
    "### cnn4 + attention\n",
    "# model = model_cnn_attention(dim_time, dim_freq, num_species, model_type='decision_level_max_pooling', conv_dim=conv_dim, l2_regu=l2_regu, drop_rate=drop_rate)\n",
    "# model = model_cnn_attention(dim_time, dim_freq, num_species, model_type='decision_level_multi_attention', conv_dim=conv_dim, l2_regu=l2_regu, drop_rate=drop_rate)\n",
    "# model = model_cnn_attention(dim_time, dim_freq, num_species, model_type='feature_level_attention', conv_dim=conv_dim, l2_regu=l2_regu, drop_rate=drop_rate)\n",
    "\n",
    "# vggish\n",
    "# model = model_vggish(dim_time, dim_freq, num_species, conv_dim=conv_dim, fcn_dim=fcn_dim)\n",
    "\n",
    "# cnn10\n",
    "# model = model_cnn10(dim_time, dim_freq, num_species, conv_dim=conv_dim, fcn_dim=fcn_dim, l2_regu=l2_regu, drop_rate=drop_rate)\n",
    "\n",
    "# cnn14\n",
    "# model = model_cnn14(dim_time, dim_freq, num_species, conv_dim=conv_dim, fcn_dim=fcn_dim, l2_regu=l2_regu, drop_rate=drop_rate)\n",
    "\n",
    "# cnn14 attention\n",
    "# model = model_cnn14_attention(dim_time, dim_freq, num_species, model_type='feature_level_attention', conv_dim=conv_dim, pool_size=pool_size, pool_stride=pool_stride, hidden_units=hidden_units, l2_regu=l2_regu, drop_rate=drop_rate)\n",
    "# model = model_cnn14_bigru_attention(dim_time, dim_freq, num_species, model_type='feature_level_attention', conv_dim=conv_dim, rnn_dim=rnn_dim, hidden_units=hidden_units, l2_regu=l2_regu, drop_rate=drop_rate)\n",
    "\n",
    "# model = model_cnn14_attention_multi(dim_time, dim_freq, num_species, model_type='feature_level_attention', conv_dim=conv_dim, pool_size=pool_size, pool_stride=pool_stride, hidden_units=hidden_units, l2_regu=l2_regu, drop_rate=drop_rate)\n",
    "# loss = CategoricalCrossentropy()\n",
    "# model.compile(optimizer=tf.keras.optimizers.Adam(learning_rate=learning_rate), loss=loss, metrics=['accuracy'])\n",
    "\n"
   ]
  },
  {
   "cell_type": "code",
   "execution_count": 15,
   "metadata": {},
   "outputs": [],
   "source": [
    "boundaries = [20, 40]\n",
    "values = [1.0e-3, 3.33e-4, 1.0e-4]\n",
    "learning_rate_fn = PiecewiseConstantDecay(boundaries, values)"
   ]
  },
  {
   "cell_type": "markdown",
   "metadata": {},
   "source": [
    "# Cross validation"
   ]
  },
  {
   "cell_type": "code",
   "execution_count": 16,
   "metadata": {},
   "outputs": [],
   "source": [
    "today = datetime.now()\n",
    "# create a folder based on date & time\n",
    "fit_result_path1 = os.path.join(fit_result_path, today.strftime('%Y%m%d_%H%M%S'))"
   ]
  },
  {
   "cell_type": "markdown",
   "metadata": {},
   "source": [
    "## STAR2000"
   ]
  },
  {
   "cell_type": "code",
   "execution_count": 17,
   "metadata": {},
   "outputs": [
    {
     "name": "stdout",
     "output_type": "stream",
     "text": [
      "STAR2000\n"
     ]
    }
   ],
   "source": [
    "ee = deployment[0]\n",
    "print(ee)"
   ]
  },
  {
   "cell_type": "code",
   "execution_count": 18,
   "metadata": {},
   "outputs": [],
   "source": [
    "# Training data\n",
    "fea_temp = np.load(os.path.join(feature_path, 'train_oswald_no_'+ee+'.npz'))\n",
    "fea_train = fea_temp['fea_train']\n",
    "label_train_list = fea_temp['label_train']\n",
    "del fea_temp"
   ]
  },
  {
   "cell_type": "code",
   "execution_count": 19,
   "metadata": {},
   "outputs": [],
   "source": [
    "label_train = np.zeros(len(label_train_list))\n",
    "for ii in range(len(label_train_list)):\n",
    "    label_train[ii] = species_dict[label_train_list[ii]]"
   ]
  },
  {
   "cell_type": "code",
   "execution_count": 20,
   "metadata": {},
   "outputs": [],
   "source": [
    "# Testing data\n",
    "fea_temp = np.load(os.path.join(feature_path, 'oswald_'+ee+'_orig.npz'))\n",
    "fea_test = fea_temp['feas_orig']\n",
    "label_test_list = fea_temp['labels_orig']\n",
    "\n",
    "fea_test = fea_test[:,:100,:]\n",
    "label_test = np.zeros(len(label_test_list))\n",
    "for ii in range(len(label_test_list)):\n",
    "    label_test[ii] = species_dict[label_test_list[ii]]"
   ]
  },
  {
   "cell_type": "code",
   "execution_count": 21,
   "metadata": {},
   "outputs": [],
   "source": [
    "fea_train = fea_train[:,:100,:]"
   ]
  },
  {
   "cell_type": "code",
   "execution_count": 22,
   "metadata": {},
   "outputs": [],
   "source": [
    "label_train = np.zeros(len(label_train_list))\n",
    "for ii in range(len(label_train_list)):\n",
    "    label_train[ii] = species_dict[label_train_list[ii]]"
   ]
  },
  {
   "cell_type": "code",
   "execution_count": 23,
   "metadata": {
    "scrolled": true
   },
   "outputs": [
    {
     "data": {
      "text/plain": [
       "Counter({'BD': 10740,\n",
       "         'CD': 4656,\n",
       "         'FKW': 19080,\n",
       "         'SPIN': 3264,\n",
       "         'SPT': 8556,\n",
       "         'STR': 8352,\n",
       "         'PLT': 11856,\n",
       "         'RT': 7410})"
      ]
     },
     "execution_count": 23,
     "metadata": {},
     "output_type": "execute_result"
    }
   ],
   "source": [
    "Counter(label_train_list)"
   ]
  },
  {
   "cell_type": "code",
   "execution_count": 24,
   "metadata": {},
   "outputs": [
    {
     "data": {
      "text/plain": [
       "Counter({0.0: 121, 1.0: 3964, 5.0: 31, 6.0: 76, 4.0: 491, 3.0: 845, 2.0: 1140})"
      ]
     },
     "execution_count": 24,
     "metadata": {},
     "output_type": "execute_result"
    }
   ],
   "source": [
    "Counter(label_test.tolist())"
   ]
  },
  {
   "cell_type": "code",
   "execution_count": 25,
   "metadata": {},
   "outputs": [],
   "source": [
    "fit_result_path2 = os.path.join(fit_result_path1, ee)\n",
    "if not os.path.exists(fit_result_path2):\n",
    "    makedirs(fit_result_path2)"
   ]
  },
  {
   "cell_type": "code",
   "execution_count": 26,
   "metadata": {},
   "outputs": [
    {
     "name": "stdout",
     "output_type": "stream",
     "text": [
      "feature train shape: (73914, 100, 128)\n",
      "feature test shape: (6668, 100, 128)\n",
      "label train shape: (73914,)\n",
      "label test shape: (6668,)\n",
      "dim_time: 100\n",
      "dim_freq: 128\n"
     ]
    }
   ],
   "source": [
    "print('feature train shape: '+str(fea_train.shape))\n",
    "print('feature test shape: '+str(fea_test.shape))\n",
    "print('label train shape: '+str(label_train.shape))\n",
    "print('label test shape: '+str(label_test.shape))\n",
    "\n",
    "dim_time = fea_train.shape[1]\n",
    "dim_freq = fea_train.shape[2]\n",
    "print('dim_time: '+str(dim_time))\n",
    "print('dim_freq: '+str(dim_freq))"
   ]
  },
  {
   "cell_type": "code",
   "execution_count": 27,
   "metadata": {},
   "outputs": [],
   "source": [
    "# shuffle features & labels\n",
    "fea_train, label_train = shuffle(fea_train, label_train, random_state=0)\n",
    "fea_test, label_test = shuffle(fea_test, label_test, random_state=0)"
   ]
  },
  {
   "cell_type": "code",
   "execution_count": 28,
   "metadata": {},
   "outputs": [],
   "source": [
    "# class weight\n",
    "weights = compute_class_weight(class_weight='balanced', classes=np.unique(label_train), y=label_train)\n",
    "\n",
    "class_weights = dict()\n",
    "for ii in range(num_species):\n",
    "    class_weights[ii] = weights[ii]"
   ]
  },
  {
   "cell_type": "code",
   "execution_count": 29,
   "metadata": {},
   "outputs": [],
   "source": [
    "fea_train = np.expand_dims(fea_train, axis=3)\n",
    "fea_test = np.expand_dims(fea_test, axis=3)"
   ]
  },
  {
   "cell_type": "code",
   "execution_count": 30,
   "metadata": {},
   "outputs": [],
   "source": [
    "fea_train, fea_validate, label_train, label_validate = train_test_split(fea_train, label_train, test_size=0.30, random_state=42)\n",
    "\n",
    "train_generator = DataGenerator(fea_train, label_train, batch_size=batch_size, num_classes=num_species)\n",
    "del fea_train\n",
    "validate_generator = DataGenerator(fea_validate, label_validate, batch_size=batch_size, num_classes=num_species)\n",
    "del fea_validate\n",
    "\n",
    "# test_generator = DataGenerator(fea_test, label_test, batch_size=batch_size, num_classes=num_species)\n"
   ]
  },
  {
   "cell_type": "markdown",
   "metadata": {},
   "source": [
    "### Training the model"
   ]
  },
  {
   "cell_type": "code",
   "execution_count": 40,
   "metadata": {
    "scrolled": true
   },
   "outputs": [
    {
     "name": "stdout",
     "output_type": "stream",
     "text": [
      "Epoch 1/200\n",
      "   2/1616 [..............................] - ETA: 4:02 - loss: 2.2869 - accuracy: 0.1719WARNING:tensorflow:Method (on_train_batch_end) is slow compared to the batch update (0.137023). Check your callbacks.\n",
      "1616/1616 [==============================] - ETA: 0s - loss: 1.9942 - accuracy: 0.1773\n",
      "Epoch 00001: val_loss improved from inf to 1.73061, saving model to /home/ys587/__Data/__whistle/__whislte_30_species/__fit_result_species/20210223_135143/STAR2000/epoch_01_valloss_1.7306_valacc_0.3118.hdf5\n",
      "1616/1616 [==============================] - 53s 33ms/step - loss: 1.9942 - accuracy: 0.1773 - val_loss: 1.7306 - val_accuracy: 0.3118\n",
      "Epoch 2/200\n",
      "1616/1616 [==============================] - ETA: 0s - loss: 1.6568 - accuracy: 0.3615\n",
      "Epoch 00002: val_loss improved from 1.73061 to 1.61076, saving model to /home/ys587/__Data/__whistle/__whislte_30_species/__fit_result_species/20210223_135143/STAR2000/epoch_02_valloss_1.6108_valacc_0.3959.hdf5\n",
      "1616/1616 [==============================] - 52s 32ms/step - loss: 1.6568 - accuracy: 0.3615 - val_loss: 1.6108 - val_accuracy: 0.3959\n",
      "Epoch 3/200\n",
      "1615/1616 [============================>.] - ETA: 0s - loss: 1.4550 - accuracy: 0.4638\n",
      "Epoch 00003: val_loss did not improve from 1.61076\n",
      "1616/1616 [==============================] - 52s 32ms/step - loss: 1.4547 - accuracy: 0.4638 - val_loss: 1.7490 - val_accuracy: 0.3944\n",
      "Epoch 4/200\n",
      "1615/1616 [============================>.] - ETA: 0s - loss: 1.3519 - accuracy: 0.5099\n",
      "Epoch 00004: val_loss improved from 1.61076 to 1.30131, saving model to /home/ys587/__Data/__whistle/__whislte_30_species/__fit_result_species/20210223_135143/STAR2000/epoch_04_valloss_1.3013_valacc_0.5075.hdf5\n",
      "1616/1616 [==============================] - 52s 32ms/step - loss: 1.3519 - accuracy: 0.5099 - val_loss: 1.3013 - val_accuracy: 0.5075\n",
      "Epoch 5/200\n",
      "1615/1616 [============================>.] - ETA: 0s - loss: 1.2795 - accuracy: 0.5395\n",
      "Epoch 00005: val_loss improved from 1.30131 to 1.12580, saving model to /home/ys587/__Data/__whistle/__whislte_30_species/__fit_result_species/20210223_135143/STAR2000/epoch_05_valloss_1.1258_valacc_0.5797.hdf5\n",
      "1616/1616 [==============================] - 52s 32ms/step - loss: 1.2795 - accuracy: 0.5395 - val_loss: 1.1258 - val_accuracy: 0.5797\n",
      "Epoch 6/200\n",
      "1615/1616 [============================>.] - ETA: 0s - loss: 1.2283 - accuracy: 0.5600\n",
      "Epoch 00006: val_loss did not improve from 1.12580\n",
      "1616/1616 [==============================] - 52s 32ms/step - loss: 1.2286 - accuracy: 0.5600 - val_loss: 1.4156 - val_accuracy: 0.4792\n",
      "Epoch 7/200\n",
      "1615/1616 [============================>.] - ETA: 0s - loss: 1.1767 - accuracy: 0.5801\n",
      "Epoch 00007: val_loss did not improve from 1.12580\n",
      "1616/1616 [==============================] - 52s 32ms/step - loss: 1.1766 - accuracy: 0.5802 - val_loss: 1.1904 - val_accuracy: 0.5611\n",
      "Epoch 8/200\n",
      "1615/1616 [============================>.] - ETA: 0s - loss: 1.1350 - accuracy: 0.5948\n",
      "Epoch 00008: val_loss improved from 1.12580 to 1.07159, saving model to /home/ys587/__Data/__whistle/__whislte_30_species/__fit_result_species/20210223_135143/STAR2000/epoch_08_valloss_1.0716_valacc_0.6073.hdf5\n",
      "1616/1616 [==============================] - 52s 32ms/step - loss: 1.1349 - accuracy: 0.5948 - val_loss: 1.0716 - val_accuracy: 0.6073\n",
      "Epoch 9/200\n",
      "1615/1616 [============================>.] - ETA: 0s - loss: 1.0923 - accuracy: 0.6121\n",
      "Epoch 00009: val_loss improved from 1.07159 to 1.03239, saving model to /home/ys587/__Data/__whistle/__whislte_30_species/__fit_result_species/20210223_135143/STAR2000/epoch_09_valloss_1.0324_valacc_0.6097.hdf5\n",
      "1616/1616 [==============================] - 52s 32ms/step - loss: 1.0924 - accuracy: 0.6121 - val_loss: 1.0324 - val_accuracy: 0.6097\n",
      "Epoch 10/200\n",
      "1615/1616 [============================>.] - ETA: 0s - loss: 1.0584 - accuracy: 0.6257\n",
      "Epoch 00010: val_loss improved from 1.03239 to 1.01599, saving model to /home/ys587/__Data/__whistle/__whislte_30_species/__fit_result_species/20210223_135143/STAR2000/epoch_10_valloss_1.0160_valacc_0.6341.hdf5\n",
      "1616/1616 [==============================] - 52s 32ms/step - loss: 1.0583 - accuracy: 0.6258 - val_loss: 1.0160 - val_accuracy: 0.6341\n",
      "Epoch 11/200\n",
      "1615/1616 [============================>.] - ETA: 0s - loss: 1.0232 - accuracy: 0.6365\n",
      "Epoch 00011: val_loss did not improve from 1.01599\n",
      "1616/1616 [==============================] - 52s 32ms/step - loss: 1.0233 - accuracy: 0.6365 - val_loss: 1.1967 - val_accuracy: 0.5824\n",
      "Epoch 12/200\n",
      "1615/1616 [============================>.] - ETA: 0s - loss: 0.9927 - accuracy: 0.6479\n",
      "Epoch 00012: val_loss did not improve from 1.01599\n",
      "1616/1616 [==============================] - 52s 32ms/step - loss: 0.9927 - accuracy: 0.6479 - val_loss: 2.3352 - val_accuracy: 0.3286\n",
      "Epoch 13/200\n",
      "1615/1616 [============================>.] - ETA: 0s - loss: 0.9594 - accuracy: 0.6599\n",
      "Epoch 00013: val_loss did not improve from 1.01599\n",
      "1616/1616 [==============================] - 52s 32ms/step - loss: 0.9593 - accuracy: 0.6600 - val_loss: 1.0293 - val_accuracy: 0.6084\n",
      "Epoch 14/200\n",
      "1615/1616 [============================>.] - ETA: 0s - loss: 0.9269 - accuracy: 0.6710\n",
      "Epoch 00014: val_loss did not improve from 1.01599\n",
      "1616/1616 [==============================] - 52s 32ms/step - loss: 0.9268 - accuracy: 0.6711 - val_loss: 1.0360 - val_accuracy: 0.6171\n",
      "Epoch 15/200\n",
      "1615/1616 [============================>.] - ETA: 0s - loss: 0.9037 - accuracy: 0.6781\n",
      "Epoch 00015: val_loss did not improve from 1.01599\n",
      "1616/1616 [==============================] - 52s 32ms/step - loss: 0.9037 - accuracy: 0.6781 - val_loss: 2.2646 - val_accuracy: 0.4927\n",
      "Epoch 16/200\n",
      "1615/1616 [============================>.] - ETA: 0s - loss: 0.8701 - accuracy: 0.6923\n",
      "Epoch 00016: val_loss improved from 1.01599 to 0.89781, saving model to /home/ys587/__Data/__whistle/__whislte_30_species/__fit_result_species/20210223_135143/STAR2000/epoch_16_valloss_0.8978_valacc_0.6734.hdf5\n",
      "1616/1616 [==============================] - 52s 32ms/step - loss: 0.8703 - accuracy: 0.6923 - val_loss: 0.8978 - val_accuracy: 0.6734\n",
      "Epoch 17/200\n",
      "1615/1616 [============================>.] - ETA: 0s - loss: 0.8437 - accuracy: 0.6985\n",
      "Epoch 00017: val_loss did not improve from 0.89781\n",
      "1616/1616 [==============================] - 52s 32ms/step - loss: 0.8437 - accuracy: 0.6985 - val_loss: 0.9004 - val_accuracy: 0.6850\n",
      "Epoch 18/200\n",
      "1615/1616 [============================>.] - ETA: 0s - loss: 0.8175 - accuracy: 0.7085\n",
      "Epoch 00018: val_loss did not improve from 0.89781\n",
      "1616/1616 [==============================] - 52s 32ms/step - loss: 0.8174 - accuracy: 0.7085 - val_loss: 0.9378 - val_accuracy: 0.6482\n",
      "Epoch 19/200\n",
      "1615/1616 [============================>.] - ETA: 0s - loss: 0.7894 - accuracy: 0.7141\n",
      "Epoch 00019: val_loss did not improve from 0.89781\n",
      "1616/1616 [==============================] - 52s 32ms/step - loss: 0.7893 - accuracy: 0.7141 - val_loss: 1.0506 - val_accuracy: 0.6406\n",
      "Epoch 20/200\n",
      "1615/1616 [============================>.] - ETA: 0s - loss: 0.7660 - accuracy: 0.7222\n",
      "Epoch 00020: val_loss did not improve from 0.89781\n",
      "1616/1616 [==============================] - 52s 32ms/step - loss: 0.7662 - accuracy: 0.7221 - val_loss: 1.1786 - val_accuracy: 0.6423\n",
      "Epoch 21/200\n",
      "1615/1616 [============================>.] - ETA: 0s - loss: 0.7386 - accuracy: 0.7316\n",
      "Epoch 00021: val_loss did not improve from 0.89781\n",
      "1616/1616 [==============================] - 52s 32ms/step - loss: 0.7386 - accuracy: 0.7316 - val_loss: 0.9409 - val_accuracy: 0.6684\n",
      "Epoch 22/200\n",
      "1616/1616 [==============================] - ETA: 0s - loss: 0.7259 - accuracy: 0.7356\n",
      "Epoch 00022: val_loss did not improve from 0.89781\n",
      "1616/1616 [==============================] - 52s 32ms/step - loss: 0.7259 - accuracy: 0.7356 - val_loss: 1.5674 - val_accuracy: 0.5186\n",
      "Epoch 23/200\n",
      "1615/1616 [============================>.] - ETA: 0s - loss: 0.6942 - accuracy: 0.7474\n",
      "Epoch 00023: val_loss did not improve from 0.89781\n",
      "1616/1616 [==============================] - 52s 32ms/step - loss: 0.6943 - accuracy: 0.7474 - val_loss: 0.9149 - val_accuracy: 0.6841\n",
      "Epoch 24/200\n",
      "1615/1616 [============================>.] - ETA: 0s - loss: 0.6730 - accuracy: 0.7539\n",
      "Epoch 00024: val_loss improved from 0.89781 to 0.87682, saving model to /home/ys587/__Data/__whistle/__whislte_30_species/__fit_result_species/20210223_135143/STAR2000/epoch_24_valloss_0.8768_valacc_0.6916.hdf5\n",
      "1616/1616 [==============================] - 52s 32ms/step - loss: 0.6729 - accuracy: 0.7539 - val_loss: 0.8768 - val_accuracy: 0.6916\n",
      "Epoch 25/200\n",
      "1615/1616 [============================>.] - ETA: 0s - loss: 0.6521 - accuracy: 0.7606\n",
      "Epoch 00025: val_loss did not improve from 0.87682\n",
      "1616/1616 [==============================] - 52s 32ms/step - loss: 0.6523 - accuracy: 0.7605 - val_loss: 0.8801 - val_accuracy: 0.6873\n",
      "Epoch 26/200\n",
      "1615/1616 [============================>.] - ETA: 0s - loss: 0.6261 - accuracy: 0.7691\n",
      "Epoch 00026: val_loss did not improve from 0.87682\n",
      "1616/1616 [==============================] - 52s 32ms/step - loss: 0.6261 - accuracy: 0.7691 - val_loss: 1.0237 - val_accuracy: 0.6650\n",
      "Epoch 27/200\n",
      "1615/1616 [============================>.] - ETA: 0s - loss: 0.6098 - accuracy: 0.7718\n",
      "Epoch 00027: val_loss did not improve from 0.87682\n",
      "1616/1616 [==============================] - 52s 32ms/step - loss: 0.6099 - accuracy: 0.7718 - val_loss: 0.9417 - val_accuracy: 0.6661\n",
      "Epoch 28/200\n",
      "1615/1616 [============================>.] - ETA: 0s - loss: 0.5878 - accuracy: 0.7803\n",
      "Epoch 00028: val_loss did not improve from 0.87682\n",
      "1616/1616 [==============================] - 52s 32ms/step - loss: 0.5879 - accuracy: 0.7803 - val_loss: 2.3414 - val_accuracy: 0.5103\n",
      "Epoch 29/200\n",
      "1615/1616 [============================>.] - ETA: 0s - loss: 0.5681 - accuracy: 0.7864\n",
      "Epoch 00029: val_loss did not improve from 0.87682\n",
      "1616/1616 [==============================] - 52s 32ms/step - loss: 0.5680 - accuracy: 0.7865 - val_loss: 1.0295 - val_accuracy: 0.6428\n",
      "Epoch 30/200\n",
      "1615/1616 [============================>.] - ETA: 0s - loss: 0.5487 - accuracy: 0.7927\n",
      "Epoch 00030: val_loss did not improve from 0.87682\n",
      "1616/1616 [==============================] - 52s 32ms/step - loss: 0.5487 - accuracy: 0.7927 - val_loss: 1.1828 - val_accuracy: 0.6268\n",
      "Epoch 31/200\n",
      "1615/1616 [============================>.] - ETA: 0s - loss: 0.5298 - accuracy: 0.7988\n",
      "Epoch 00031: val_loss improved from 0.87682 to 0.84669, saving model to /home/ys587/__Data/__whistle/__whislte_30_species/__fit_result_species/20210223_135143/STAR2000/epoch_31_valloss_0.8467_valacc_0.7183.hdf5\n",
      "1616/1616 [==============================] - 52s 32ms/step - loss: 0.5297 - accuracy: 0.7988 - val_loss: 0.8467 - val_accuracy: 0.7183\n",
      "Epoch 32/200\n",
      "1615/1616 [============================>.] - ETA: 0s - loss: 0.5097 - accuracy: 0.8050\n",
      "Epoch 00032: val_loss did not improve from 0.84669\n",
      "1616/1616 [==============================] - 52s 32ms/step - loss: 0.5097 - accuracy: 0.8050 - val_loss: 0.8943 - val_accuracy: 0.6992\n",
      "Epoch 33/200\n",
      "1615/1616 [============================>.] - ETA: 0s - loss: 0.4962 - accuracy: 0.8103\n",
      "Epoch 00033: val_loss did not improve from 0.84669\n",
      "1616/1616 [==============================] - 52s 32ms/step - loss: 0.4961 - accuracy: 0.8102 - val_loss: 1.1091 - val_accuracy: 0.6386\n",
      "Epoch 34/200\n",
      "1615/1616 [============================>.] - ETA: 0s - loss: 0.4846 - accuracy: 0.8150\n",
      "Epoch 00034: val_loss did not improve from 0.84669\n",
      "1616/1616 [==============================] - 52s 32ms/step - loss: 0.4845 - accuracy: 0.8150 - val_loss: 1.0717 - val_accuracy: 0.6980\n",
      "Epoch 35/200\n",
      "1616/1616 [==============================] - ETA: 0s - loss: 0.4695 - accuracy: 0.8207\n",
      "Epoch 00035: val_loss did not improve from 0.84669\n",
      "1616/1616 [==============================] - 52s 32ms/step - loss: 0.4695 - accuracy: 0.8207 - val_loss: 1.8490 - val_accuracy: 0.5530\n",
      "Epoch 36/200\n",
      "1616/1616 [==============================] - ETA: 0s - loss: 0.4513 - accuracy: 0.8268\n",
      "Epoch 00036: val_loss did not improve from 0.84669\n",
      "1616/1616 [==============================] - 52s 32ms/step - loss: 0.4513 - accuracy: 0.8268 - val_loss: 1.5843 - val_accuracy: 0.5908\n",
      "Epoch 37/200\n",
      "1615/1616 [============================>.] - ETA: 0s - loss: 0.4350 - accuracy: 0.8339\n",
      "Epoch 00037: val_loss did not improve from 0.84669\n",
      "1616/1616 [==============================] - 52s 32ms/step - loss: 0.4353 - accuracy: 0.8339 - val_loss: 2.6883 - val_accuracy: 0.5050\n",
      "Epoch 38/200\n",
      "1615/1616 [============================>.] - ETA: 0s - loss: 0.4203 - accuracy: 0.8364\n",
      "Epoch 00038: val_loss did not improve from 0.84669\n",
      "1616/1616 [==============================] - 52s 32ms/step - loss: 0.4204 - accuracy: 0.8364 - val_loss: 1.1448 - val_accuracy: 0.6731\n",
      "Epoch 39/200\n",
      "1615/1616 [============================>.] - ETA: 0s - loss: 0.4055 - accuracy: 0.8441\n",
      "Epoch 00039: val_loss did not improve from 0.84669\n",
      "1616/1616 [==============================] - 52s 32ms/step - loss: 0.4055 - accuracy: 0.8441 - val_loss: 0.9048 - val_accuracy: 0.7154\n",
      "Epoch 40/200\n",
      "1615/1616 [============================>.] - ETA: 0s - loss: 0.3962 - accuracy: 0.8464\n",
      "Epoch 00040: val_loss did not improve from 0.84669\n",
      "1616/1616 [==============================] - 52s 32ms/step - loss: 0.3962 - accuracy: 0.8463 - val_loss: 0.8832 - val_accuracy: 0.7288\n",
      "Epoch 41/200\n",
      "1615/1616 [============================>.] - ETA: 0s - loss: 0.3766 - accuracy: 0.8535\n",
      "Epoch 00041: val_loss did not improve from 0.84669\n",
      "1616/1616 [==============================] - 52s 32ms/step - loss: 0.3766 - accuracy: 0.8535 - val_loss: 0.8806 - val_accuracy: 0.7351\n",
      "Epoch 42/200\n",
      "1615/1616 [============================>.] - ETA: 0s - loss: 0.3675 - accuracy: 0.8553\n",
      "Epoch 00042: val_loss did not improve from 0.84669\n",
      "1616/1616 [==============================] - 52s 32ms/step - loss: 0.3675 - accuracy: 0.8553 - val_loss: 0.9093 - val_accuracy: 0.7169\n",
      "Epoch 43/200\n",
      "1615/1616 [============================>.] - ETA: 0s - loss: 0.3544 - accuracy: 0.8616\n",
      "Epoch 00043: val_loss did not improve from 0.84669\n",
      "1616/1616 [==============================] - 52s 32ms/step - loss: 0.3545 - accuracy: 0.8616 - val_loss: 1.0732 - val_accuracy: 0.6928\n",
      "Epoch 44/200\n",
      "1616/1616 [==============================] - ETA: 0s - loss: 0.3440 - accuracy: 0.8655\n",
      "Epoch 00044: val_loss did not improve from 0.84669\n",
      "1616/1616 [==============================] - 52s 32ms/step - loss: 0.3440 - accuracy: 0.8655 - val_loss: 0.9588 - val_accuracy: 0.7130\n",
      "Epoch 45/200\n",
      "1615/1616 [============================>.] - ETA: 0s - loss: 0.3352 - accuracy: 0.8692\n",
      "Epoch 00045: val_loss did not improve from 0.84669\n",
      "1616/1616 [==============================] - 52s 32ms/step - loss: 0.3354 - accuracy: 0.8692 - val_loss: 0.8975 - val_accuracy: 0.7382\n",
      "Epoch 46/200\n",
      "1615/1616 [============================>.] - ETA: 0s - loss: 0.3256 - accuracy: 0.8709\n",
      "Epoch 00046: val_loss did not improve from 0.84669\n",
      "1616/1616 [==============================] - 52s 32ms/step - loss: 0.3255 - accuracy: 0.8709 - val_loss: 0.9712 - val_accuracy: 0.7206\n",
      "Epoch 47/200\n",
      "1615/1616 [============================>.] - ETA: 0s - loss: 0.3140 - accuracy: 0.8749\n",
      "Epoch 00047: val_loss did not improve from 0.84669\n",
      "1616/1616 [==============================] - 52s 32ms/step - loss: 0.3140 - accuracy: 0.8748 - val_loss: 0.8598 - val_accuracy: 0.7545\n",
      "Epoch 48/200\n",
      "1615/1616 [============================>.] - ETA: 0s - loss: 0.3053 - accuracy: 0.8806\n",
      "Epoch 00048: val_loss did not improve from 0.84669\n",
      "1616/1616 [==============================] - 52s 32ms/step - loss: 0.3053 - accuracy: 0.8806 - val_loss: 1.0956 - val_accuracy: 0.6957\n",
      "Epoch 49/200\n",
      "1615/1616 [============================>.] - ETA: 0s - loss: 0.2969 - accuracy: 0.8821\n",
      "Epoch 00049: val_loss did not improve from 0.84669\n",
      "1616/1616 [==============================] - 52s 32ms/step - loss: 0.2969 - accuracy: 0.8821 - val_loss: 1.0843 - val_accuracy: 0.7002\n",
      "Epoch 50/200\n",
      "1615/1616 [============================>.] - ETA: 0s - loss: 0.2875 - accuracy: 0.8844\n",
      "Epoch 00050: val_loss did not improve from 0.84669\n",
      "1616/1616 [==============================] - 52s 32ms/step - loss: 0.2874 - accuracy: 0.8844 - val_loss: 0.9693 - val_accuracy: 0.7269\n",
      "Epoch 51/200\n",
      "1615/1616 [============================>.] - ETA: 0s - loss: 0.2759 - accuracy: 0.8897\n",
      "Epoch 00051: val_loss did not improve from 0.84669\n",
      "1616/1616 [==============================] - 52s 32ms/step - loss: 0.2759 - accuracy: 0.8897 - val_loss: 1.1010 - val_accuracy: 0.6977\n",
      "Epoch 00051: early stopping\n"
     ]
    }
   ],
   "source": [
    "model = model_cnn14_attention_multi(dim_time, dim_freq, num_species, model_type='feature_level_attention', conv_dim=conv_dim, pool_size=pool_size, pool_stride=pool_stride, hidden_units=hidden_units, l2_regu=l2_regu, drop_rate=drop_rate)\n",
    "loss = CategoricalCrossentropy()\n",
    "# model.compile(optimizer=tf.keras.optimizers.Adam(learning_rate=learning_rate_fn), loss=loss, metrics=['accuracy'])\n",
    "model.compile(optimizer=tf.keras.optimizers.Adam(learning_rate=learning_rate), loss=loss, metrics=['accuracy'])\n",
    "\n",
    "# With classes\n",
    "# history = model.fit(fea_train, to_categorical(label_train), class_weight=class_weights, validation_split=0.3, batch_size=batch_size, epochs=num_epoch, callbacks=[EarlyStopping(patience=num_patience), ModelCheckpoint(filepath=os.path.join(fit_result_path, '{epoch:02d}-{val_loss:.4f}.hdf5'), verbose=1, monitor=\"val_loss\", save_best_only=True)])\n",
    "# history = model.fit(train_generator, validation_data=validate_generator, class_weight=class_weights, epochs=num_epoch, callbacks=[EarlyStopping(patience=num_patience, monitor='val_loss', mode='min', verbose=1), TensorBoard(log_dir=fit_result_path1), ModelCheckpoint(filepath=os.path.join(fit_result_path1, '{epoch:02d}-{val_loss:.4f}.hdf5'), verbose=1, monitor=\"val_loss\", save_best_only=True)])\n",
    "history = model.fit(train_generator, validation_data=validate_generator, class_weight=class_weights, epochs=num_epoch, callbacks=[EarlyStopping(patience=num_patience, monitor='val_loss', mode='min', verbose=1), TensorBoard(log_dir=fit_result_path2), ModelCheckpoint(filepath=os.path.join(fit_result_path2, 'epoch_{epoch:02d}_valloss_{val_loss:.4f}_valacc_{val_accuracy:.4f}.hdf5' ), verbose=1, monitor=\"val_loss\", save_best_only=True)])"
   ]
  },
  {
   "cell_type": "code",
   "execution_count": 41,
   "metadata": {},
   "outputs": [
    {
     "name": "stdout",
     "output_type": "stream",
     "text": [
      "Best model:0.8467\n",
      "/home/ys587/__Data/__whistle/__whislte_30_species/__fit_result_species/20210223_135143/STAR2000/epoch_31_valloss_0.8467_valacc_0.7183.hdf5\n"
     ]
    }
   ],
   "source": [
    "# fit_result_path1 = '/home/ys587/__Data/__whistle/__whislte_30_species/__fit_result_species/20210210_224527'\n",
    "the_best_model, _ = find_best_model(fit_result_path2, purge=False)"
   ]
  },
  {
   "cell_type": "code",
   "execution_count": 42,
   "metadata": {
    "scrolled": true
   },
   "outputs": [
    {
     "name": "stdout",
     "output_type": "stream",
     "text": [
      "Model: \"model_1\"\n",
      "__________________________________________________________________________________________________\n",
      "Layer (type)                    Output Shape         Param #     Connected to                     \n",
      "==================================================================================================\n",
      "input (InputLayer)              [(None, 100, 128, 1) 0                                            \n",
      "__________________________________________________________________________________________________\n",
      "conv2d_12 (Conv2D)              (None, 100, 128, 16) 160         input[0][0]                      \n",
      "__________________________________________________________________________________________________\n",
      "batch_normalization_16 (BatchNo (None, 100, 128, 16) 64          conv2d_12[0][0]                  \n",
      "__________________________________________________________________________________________________\n",
      "activation_16 (Activation)      (None, 100, 128, 16) 0           batch_normalization_16[0][0]     \n",
      "__________________________________________________________________________________________________\n",
      "conv2d_13 (Conv2D)              (None, 100, 128, 16) 2320        activation_16[0][0]              \n",
      "__________________________________________________________________________________________________\n",
      "batch_normalization_17 (BatchNo (None, 100, 128, 16) 64          conv2d_13[0][0]                  \n",
      "__________________________________________________________________________________________________\n",
      "activation_17 (Activation)      (None, 100, 128, 16) 0           batch_normalization_17[0][0]     \n",
      "__________________________________________________________________________________________________\n",
      "max_pooling2d_6 (MaxPooling2D)  (None, 50, 64, 16)   0           activation_17[0][0]              \n",
      "__________________________________________________________________________________________________\n",
      "dropout_10 (Dropout)            (None, 50, 64, 16)   0           max_pooling2d_6[0][0]            \n",
      "__________________________________________________________________________________________________\n",
      "conv2d_14 (Conv2D)              (None, 50, 64, 32)   4640        dropout_10[0][0]                 \n",
      "__________________________________________________________________________________________________\n",
      "batch_normalization_18 (BatchNo (None, 50, 64, 32)   128         conv2d_14[0][0]                  \n",
      "__________________________________________________________________________________________________\n",
      "activation_18 (Activation)      (None, 50, 64, 32)   0           batch_normalization_18[0][0]     \n",
      "__________________________________________________________________________________________________\n",
      "conv2d_15 (Conv2D)              (None, 50, 64, 32)   9248        activation_18[0][0]              \n",
      "__________________________________________________________________________________________________\n",
      "batch_normalization_19 (BatchNo (None, 50, 64, 32)   128         conv2d_15[0][0]                  \n",
      "__________________________________________________________________________________________________\n",
      "activation_19 (Activation)      (None, 50, 64, 32)   0           batch_normalization_19[0][0]     \n",
      "__________________________________________________________________________________________________\n",
      "max_pooling2d_7 (MaxPooling2D)  (None, 25, 32, 32)   0           activation_19[0][0]              \n",
      "__________________________________________________________________________________________________\n",
      "dropout_11 (Dropout)            (None, 25, 32, 32)   0           max_pooling2d_7[0][0]            \n",
      "__________________________________________________________________________________________________\n",
      "conv2d_16 (Conv2D)              (None, 25, 32, 64)   18496       dropout_11[0][0]                 \n",
      "__________________________________________________________________________________________________\n",
      "batch_normalization_20 (BatchNo (None, 25, 32, 64)   256         conv2d_16[0][0]                  \n",
      "__________________________________________________________________________________________________\n",
      "activation_20 (Activation)      (None, 25, 32, 64)   0           batch_normalization_20[0][0]     \n",
      "__________________________________________________________________________________________________\n",
      "conv2d_17 (Conv2D)              (None, 25, 32, 64)   36928       activation_20[0][0]              \n",
      "__________________________________________________________________________________________________\n",
      "batch_normalization_21 (BatchNo (None, 25, 32, 64)   256         conv2d_17[0][0]                  \n",
      "__________________________________________________________________________________________________\n",
      "activation_21 (Activation)      (None, 25, 32, 64)   0           batch_normalization_21[0][0]     \n",
      "__________________________________________________________________________________________________\n",
      "max_pooling2d_8 (MaxPooling2D)  (None, 13, 16, 64)   0           activation_21[0][0]              \n",
      "__________________________________________________________________________________________________\n",
      "dropout_12 (Dropout)            (None, 13, 16, 64)   0           max_pooling2d_8[0][0]            \n",
      "__________________________________________________________________________________________________\n",
      "conv2d_18 (Conv2D)              (None, 13, 16, 128)  73856       dropout_12[0][0]                 \n",
      "__________________________________________________________________________________________________\n",
      "batch_normalization_22 (BatchNo (None, 13, 16, 128)  512         conv2d_18[0][0]                  \n",
      "__________________________________________________________________________________________________\n",
      "activation_22 (Activation)      (None, 13, 16, 128)  0           batch_normalization_22[0][0]     \n",
      "__________________________________________________________________________________________________\n",
      "conv2d_19 (Conv2D)              (None, 13, 16, 128)  147584      activation_22[0][0]              \n",
      "__________________________________________________________________________________________________\n",
      "batch_normalization_23 (BatchNo (None, 13, 16, 128)  512         conv2d_19[0][0]                  \n",
      "__________________________________________________________________________________________________\n",
      "activation_23 (Activation)      (None, 13, 16, 128)  0           batch_normalization_23[0][0]     \n",
      "__________________________________________________________________________________________________\n",
      "max_pooling2d_9 (MaxPooling2D)  (None, 7, 8, 128)    0           activation_23[0][0]              \n",
      "__________________________________________________________________________________________________\n",
      "dropout_13 (Dropout)            (None, 7, 8, 128)    0           max_pooling2d_9[0][0]            \n",
      "__________________________________________________________________________________________________\n",
      "conv2d_20 (Conv2D)              (None, 7, 8, 256)    295168      dropout_13[0][0]                 \n",
      "__________________________________________________________________________________________________\n",
      "batch_normalization_24 (BatchNo (None, 7, 8, 256)    1024        conv2d_20[0][0]                  \n",
      "__________________________________________________________________________________________________\n",
      "activation_24 (Activation)      (None, 7, 8, 256)    0           batch_normalization_24[0][0]     \n",
      "__________________________________________________________________________________________________\n",
      "conv2d_21 (Conv2D)              (None, 7, 8, 256)    590080      activation_24[0][0]              \n",
      "__________________________________________________________________________________________________\n",
      "batch_normalization_25 (BatchNo (None, 7, 8, 256)    1024        conv2d_21[0][0]                  \n",
      "__________________________________________________________________________________________________\n",
      "activation_25 (Activation)      (None, 7, 8, 256)    0           batch_normalization_25[0][0]     \n",
      "__________________________________________________________________________________________________\n",
      "max_pooling2d_10 (MaxPooling2D) (None, 7, 4, 256)    0           activation_25[0][0]              \n",
      "__________________________________________________________________________________________________\n",
      "dropout_14 (Dropout)            (None, 7, 4, 256)    0           max_pooling2d_10[0][0]           \n",
      "__________________________________________________________________________________________________\n",
      "conv2d_22 (Conv2D)              (None, 7, 4, 512)    1180160     dropout_14[0][0]                 \n",
      "__________________________________________________________________________________________________\n",
      "batch_normalization_26 (BatchNo (None, 7, 4, 512)    2048        conv2d_22[0][0]                  \n",
      "__________________________________________________________________________________________________\n",
      "activation_26 (Activation)      (None, 7, 4, 512)    0           batch_normalization_26[0][0]     \n",
      "__________________________________________________________________________________________________\n",
      "conv2d_23 (Conv2D)              (None, 7, 4, 512)    2359808     activation_26[0][0]              \n",
      "__________________________________________________________________________________________________\n",
      "batch_normalization_27 (BatchNo (None, 7, 4, 512)    2048        conv2d_23[0][0]                  \n",
      "__________________________________________________________________________________________________\n",
      "activation_27 (Activation)      (None, 7, 4, 512)    0           batch_normalization_27[0][0]     \n",
      "__________________________________________________________________________________________________\n",
      "max_pooling2d_11 (MaxPooling2D) (None, 7, 2, 512)    0           activation_27[0][0]              \n",
      "__________________________________________________________________________________________________\n",
      "dropout_15 (Dropout)            (None, 7, 2, 512)    0           max_pooling2d_11[0][0]           \n",
      "__________________________________________________________________________________________________\n",
      "reshape_1 (Reshape)             (None, 7, 1024)      0           dropout_15[0][0]                 \n",
      "__________________________________________________________________________________________________\n",
      "dense_6 (Dense)                 (None, 7, 512)       524800      reshape_1[0][0]                  \n",
      "__________________________________________________________________________________________________\n",
      "batch_normalization_28 (BatchNo (None, 7, 512)       2048        dense_6[0][0]                    \n",
      "__________________________________________________________________________________________________\n",
      "activation_28 (Activation)      (None, 7, 512)       0           batch_normalization_28[0][0]     \n",
      "__________________________________________________________________________________________________\n",
      "dropout_16 (Dropout)            (None, 7, 512)       0           activation_28[0][0]              \n",
      "__________________________________________________________________________________________________\n",
      "dense_7 (Dense)                 (None, 7, 512)       262656      dropout_16[0][0]                 \n",
      "__________________________________________________________________________________________________\n",
      "batch_normalization_29 (BatchNo (None, 7, 512)       2048        dense_7[0][0]                    \n",
      "__________________________________________________________________________________________________\n",
      "activation_29 (Activation)      (None, 7, 512)       0           batch_normalization_29[0][0]     \n",
      "__________________________________________________________________________________________________\n",
      "dropout_17 (Dropout)            (None, 7, 512)       0           activation_29[0][0]              \n",
      "__________________________________________________________________________________________________\n",
      "dense_8 (Dense)                 (None, 7, 512)       262656      dropout_17[0][0]                 \n",
      "__________________________________________________________________________________________________\n",
      "batch_normalization_30 (BatchNo (None, 7, 512)       2048        dense_8[0][0]                    \n",
      "__________________________________________________________________________________________________\n",
      "activation_30 (Activation)      (None, 7, 512)       0           batch_normalization_30[0][0]     \n",
      "__________________________________________________________________________________________________\n",
      "dropout_18 (Dropout)            (None, 7, 512)       0           activation_30[0][0]              \n",
      "__________________________________________________________________________________________________\n",
      "dense_9 (Dense)                 (None, 7, 512)       262656      dropout_18[0][0]                 \n",
      "__________________________________________________________________________________________________\n",
      "dense_10 (Dense)                (None, 7, 512)       262656      dropout_18[0][0]                 \n",
      "__________________________________________________________________________________________________\n",
      "lambda_1 (Lambda)               (None, 512)          0           dense_9[0][0]                    \n",
      "                                                                 dense_10[0][0]                   \n",
      "__________________________________________________________________________________________________\n",
      "batch_normalization_31 (BatchNo (None, 512)          2048        lambda_1[0][0]                   \n",
      "__________________________________________________________________________________________________\n",
      "activation_31 (Activation)      (None, 512)          0           batch_normalization_31[0][0]     \n",
      "__________________________________________________________________________________________________\n",
      "dropout_19 (Dropout)            (None, 512)          0           activation_31[0][0]              \n",
      "__________________________________________________________________________________________________\n",
      "dense_11 (Dense)                (None, 8)            4104        dropout_19[0][0]                 \n",
      "==================================================================================================\n",
      "Total params: 6,314,232\n",
      "Trainable params: 6,306,104\n",
      "Non-trainable params: 8,128\n",
      "__________________________________________________________________________________________________\n"
     ]
    }
   ],
   "source": [
    "model = load_model(the_best_model)\n",
    "model.summary()"
   ]
  },
  {
   "cell_type": "code",
   "execution_count": 43,
   "metadata": {},
   "outputs": [],
   "source": [
    "label_pred = model.predict(fea_test)\n",
    "# label_pred = model.predict(test_generator)"
   ]
  },
  {
   "cell_type": "code",
   "execution_count": 44,
   "metadata": {},
   "outputs": [],
   "source": [
    "np.set_printoptions(linewidth=200, precision=2, suppress=True)"
   ]
  },
  {
   "cell_type": "code",
   "execution_count": 45,
   "metadata": {},
   "outputs": [
    {
     "name": "stdout",
     "output_type": "stream",
     "text": [
      "Confusion matrix:\n",
      "['BD', 'CD', 'STR', 'SPT', 'SPIN', 'PLT', 'RT', 'FKW']\n",
      "\n",
      "[[  35   21   14   25    2    2   17    5]\n",
      " [ 601 2122  359  201   53  246  325   57]\n",
      " [ 221  299  242  169   32   66   81   30]\n",
      " [  64  366   25  236   11   49   70   24]\n",
      " [ 147  103   41  110   75    8    2    5]\n",
      " [   0    0    0    0    0   21    4    6]\n",
      " [  14   10    3    3    0    3   37    6]\n",
      " [   0    0    0    0    0    0    0    0]]\n",
      "\n",
      "[[0.29 0.17 0.12 0.21 0.02 0.02 0.14 0.04]\n",
      " [0.15 0.54 0.09 0.05 0.01 0.06 0.08 0.01]\n",
      " [0.19 0.26 0.21 0.15 0.03 0.06 0.07 0.03]\n",
      " [0.08 0.43 0.03 0.28 0.01 0.06 0.08 0.03]\n",
      " [0.3  0.21 0.08 0.22 0.15 0.02 0.   0.01]\n",
      " [0.   0.   0.   0.   0.   0.68 0.13 0.19]\n",
      " [0.18 0.13 0.04 0.04 0.   0.04 0.49 0.08]\n",
      " [0.   0.   0.   0.   0.   0.   0.   0.  ]]\n"
     ]
    }
   ],
   "source": [
    "print(\"Confusion matrix:\")\n",
    "cm = confusion_matrix(label_test, np.argmax(label_pred, axis=1), labels=species_id)\n",
    "\n",
    "print(species_list)\n",
    "print('')\n",
    "print(cm)\n",
    "print('')\n",
    "\n",
    "cm2 = cm*1.0\n",
    "for ii in range(cm.shape[0]):\n",
    "    cm_row = cm[ii, :]*1.0\n",
    "\n",
    "    cm_row_sum = cm_row.sum()\n",
    "    if cm_row_sum != 0:\n",
    "        cm2[ii, :] = cm_row / cm_row_sum\n",
    "    else:\n",
    "        cm2[ii, :] = np.zeros(cm.shape[1])\n",
    "\n",
    "print(cm2)"
   ]
  },
  {
   "cell_type": "code",
   "execution_count": 46,
   "metadata": {},
   "outputs": [],
   "source": [
    "from sklearn.metrics import plot_confusion_matrix\n",
    "from sklearn.metrics._plot.confusion_matrix import ConfusionMatrixDisplay\n",
    "disp = ConfusionMatrixDisplay(confusion_matrix=cm, display_labels=species_list)\n",
    "disp2 = ConfusionMatrixDisplay(confusion_matrix=cm2, display_labels=species_list)"
   ]
  },
  {
   "cell_type": "code",
   "execution_count": 47,
   "metadata": {},
   "outputs": [
    {
     "data": {
      "text/plain": [
       "<sklearn.metrics._plot.confusion_matrix.ConfusionMatrixDisplay at 0x7f899c0eb640>"
      ]
     },
     "execution_count": 47,
     "metadata": {},
     "output_type": "execute_result"
    },
    {
     "data": {
      "image/png": "[encoded data removed]",
      "text/plain": [
       "<Figure size 1080x1080 with 2 Axes>"
      ]
     },
     "metadata": {
      "needs_background": "light"
     },
     "output_type": "display_data"
    }
   ],
   "source": [
    "fig, ax = plt.subplots(figsize=[15, 15])\n",
    "disp.plot(include_values=True,\n",
    "                     cmap='viridis', ax=ax, xticks_rotation='horizontal',\n",
    "                     values_format=None, colorbar=True)\n"
   ]
  },
  {
   "cell_type": "code",
   "execution_count": 48,
   "metadata": {},
   "outputs": [
    {
     "data": {
      "text/plain": [
       "<sklearn.metrics._plot.confusion_matrix.ConfusionMatrixDisplay at 0x7f8bdea654c0>"
      ]
     },
     "execution_count": 48,
     "metadata": {},
     "output_type": "execute_result"
    },
    {
     "data": {
      "image/png": "[encoded data removed]",
      "text/plain": [
       "<Figure size 1080x1080 with 2 Axes>"
      ]
     },
     "metadata": {
      "needs_background": "light"
     },
     "output_type": "display_data"
    }
   ],
   "source": [
    "fig, ax = plt.subplots(figsize=[15, 15])\n",
    "disp2.plot(include_values=True,\n",
    "                     cmap='viridis', ax=ax, xticks_rotation='horizontal',\n",
    "                     values_format='.2f', colorbar=True)"
   ]
  },
  {
   "cell_type": "code",
   "execution_count": 68,
   "metadata": {},
   "outputs": [
    {
     "data": {
      "image/png": "[encoded data removed]",
      "text/plain": [
       "<Figure size 432x288 with 1 Axes>"
      ]
     },
     "metadata": {
      "needs_background": "light"
     },
     "output_type": "display_data"
    }
   ],
   "source": [
    "# score histogram of label_pred\n",
    "plt.hist(label_pred[:, 7], 21); plt.grid()"
   ]
  },
  {
   "cell_type": "markdown",
   "metadata": {},
   "source": [
    "## top k accuracy score"
   ]
  },
  {
   "cell_type": "code",
   "execution_count": 70,
   "metadata": {},
   "outputs": [],
   "source": [
    "from sklearn.metrics import top_k_accuracy_score"
   ]
  },
  {
   "cell_type": "code",
   "execution_count": 79,
   "metadata": {},
   "outputs": [
    {
     "data": {
      "text/plain": [
       "0.41511697660467906"
      ]
     },
     "execution_count": 79,
     "metadata": {},
     "output_type": "execute_result"
    }
   ],
   "source": [
    "top_k_accuracy_score(label_test, label_pred, k=1, labels=list(range(num_species)))"
   ]
  },
  {
   "cell_type": "code",
   "execution_count": 72,
   "metadata": {},
   "outputs": [
    {
     "data": {
      "text/plain": [
       "0.5698860227954409"
      ]
     },
     "execution_count": 72,
     "metadata": {},
     "output_type": "execute_result"
    }
   ],
   "source": [
    "top_k_accuracy_score(label_test, label_pred, k=2, labels=list(range(num_species)))"
   ]
  },
  {
   "cell_type": "code",
   "execution_count": 75,
   "metadata": {},
   "outputs": [
    {
     "data": {
      "text/plain": [
       "0.6766646670665867"
      ]
     },
     "execution_count": 75,
     "metadata": {},
     "output_type": "execute_result"
    }
   ],
   "source": [
    "top_k_accuracy_score(label_test, label_pred, k=3, labels=list(range(num_species)))"
   ]
  },
  {
   "cell_type": "code",
   "execution_count": 76,
   "metadata": {},
   "outputs": [
    {
     "data": {
      "text/plain": [
       "0.7628974205158968"
      ]
     },
     "execution_count": 76,
     "metadata": {},
     "output_type": "execute_result"
    }
   ],
   "source": [
    "top_k_accuracy_score(label_test, label_pred, k=4, labels=list(range(num_species)))"
   ]
  },
  {
   "cell_type": "code",
   "execution_count": 77,
   "metadata": {},
   "outputs": [
    {
     "data": {
      "text/plain": [
       "0.8351829634073186"
      ]
     },
     "execution_count": 77,
     "metadata": {},
     "output_type": "execute_result"
    }
   ],
   "source": [
    "top_k_accuracy_score(label_test, label_pred, k=5, labels=list(range(num_species)))"
   ]
  },
  {
   "cell_type": "code",
   "execution_count": 78,
   "metadata": {},
   "outputs": [
    {
     "data": {
      "text/plain": [
       "0.8939712057588483"
      ]
     },
     "execution_count": 78,
     "metadata": {},
     "output_type": "execute_result"
    }
   ],
   "source": [
    "top_k_accuracy_score(label_test, label_pred, k=6, labels=list(range(num_species)))"
   ]
  },
  {
   "cell_type": "markdown",
   "metadata": {},
   "source": [
    "## average_precision_score"
   ]
  },
  {
   "cell_type": "code",
   "execution_count": 81,
   "metadata": {},
   "outputs": [],
   "source": [
    "from sklearn.metrics import average_precision_score\n",
    "from tensorflow.keras.utils import to_categorical"
   ]
  },
  {
   "cell_type": "code",
   "execution_count": 83,
   "metadata": {},
   "outputs": [
    {
     "name": "stderr",
     "output_type": "stream",
     "text": [
      "/home/ys587/miniconda3/envs/whistle_classifier/lib/python3.8/site-packages/sklearn/metrics/_ranking.py:817: RuntimeWarning: invalid value encountered in true_divide\n",
      "  recall = tps / tps[-1]\n"
     ]
    },
    {
     "data": {
      "text/plain": [
       "nan"
      ]
     },
     "execution_count": 83,
     "metadata": {},
     "output_type": "execute_result"
    }
   ],
   "source": [
    "average_precision_score(to_categorical(label_test, num_classes=8), label_pred)"
   ]
  },
  {
   "cell_type": "code",
   "execution_count": 84,
   "metadata": {},
   "outputs": [],
   "source": [
    "t1=to_categorical(label_test, num_classes=8)"
   ]
  },
  {
   "cell_type": "code",
   "execution_count": null,
   "metadata": {},
   "outputs": [],
   "source": []
  },
  {
   "cell_type": "markdown",
   "metadata": {},
   "source": [
    "## STAR2003"
   ]
  },
  {
   "cell_type": "code",
   "execution_count": 85,
   "metadata": {},
   "outputs": [
    {
     "name": "stdout",
     "output_type": "stream",
     "text": [
      "STAR2003\n"
     ]
    }
   ],
   "source": [
    "ee = deployment[1]\n",
    "print(ee)"
   ]
  },
  {
   "cell_type": "code",
   "execution_count": 86,
   "metadata": {},
   "outputs": [],
   "source": [
    "# Training data\n",
    "fea_temp = np.load(os.path.join(feature_path, 'train_oswald_no_'+ee+'.npz'))\n",
    "fea_train = fea_temp['fea_train']\n",
    "label_train_list = fea_temp['label_train']\n",
    "del fea_temp"
   ]
  },
  {
   "cell_type": "code",
   "execution_count": 87,
   "metadata": {},
   "outputs": [],
   "source": [
    "label_train = np.zeros(len(label_train_list))\n",
    "for ii in range(len(label_train_list)):\n",
    "    label_train[ii] = species_dict[label_train_list[ii]]"
   ]
  },
  {
   "cell_type": "code",
   "execution_count": 88,
   "metadata": {},
   "outputs": [],
   "source": [
    "# Testing data\n",
    "fea_temp = np.load(os.path.join(feature_path, 'oswald_'+ee+'_orig.npz'))\n",
    "fea_test = fea_temp['feas_orig']\n",
    "label_test_list = fea_temp['labels_orig']\n",
    "\n",
    "fea_test = fea_test[:,:100,:]\n",
    "label_test = np.zeros(len(label_test_list))\n",
    "for ii in range(len(label_test_list)):\n",
    "    label_test[ii] = species_dict[label_test_list[ii]]"
   ]
  },
  {
   "cell_type": "code",
   "execution_count": 89,
   "metadata": {},
   "outputs": [],
   "source": [
    "fea_train = fea_train[:,:100,:]"
   ]
  },
  {
   "cell_type": "code",
   "execution_count": 90,
   "metadata": {},
   "outputs": [],
   "source": [
    "label_train = np.zeros(len(label_train_list))\n",
    "for ii in range(len(label_train_list)):\n",
    "    label_train[ii] = species_dict[label_train_list[ii]]"
   ]
  },
  {
   "cell_type": "code",
   "execution_count": 91,
   "metadata": {
    "scrolled": true
   },
   "outputs": [
    {
     "data": {
      "text/plain": [
       "Counter({'BD': 10080,\n",
       "         'CD': 23928,\n",
       "         'PLT': 12042,\n",
       "         'RT': 7866,\n",
       "         'SPIN': 5904,\n",
       "         'SPT': 11154,\n",
       "         'STR': 14868,\n",
       "         'FKW': 17460})"
      ]
     },
     "execution_count": 91,
     "metadata": {},
     "output_type": "execute_result"
    }
   ],
   "source": [
    "Counter(label_train_list)"
   ]
  },
  {
   "cell_type": "code",
   "execution_count": 92,
   "metadata": {},
   "outputs": [
    {
     "data": {
      "text/plain": [
       "Counter({0.0: 231, 1.0: 752, 7.0: 270, 4.0: 51, 3.0: 412, 2.0: 54})"
      ]
     },
     "execution_count": 92,
     "metadata": {},
     "output_type": "execute_result"
    }
   ],
   "source": [
    "Counter(label_test.tolist())"
   ]
  },
  {
   "cell_type": "code",
   "execution_count": 93,
   "metadata": {},
   "outputs": [],
   "source": [
    "fit_result_path2 = os.path.join(fit_result_path1, ee)\n",
    "if not os.path.exists(fit_result_path2):\n",
    "    makedirs(fit_result_path2)"
   ]
  },
  {
   "cell_type": "code",
   "execution_count": 94,
   "metadata": {},
   "outputs": [
    {
     "name": "stdout",
     "output_type": "stream",
     "text": [
      "feature train shape: (103302, 100, 128)\n",
      "feature test shape: (1770, 100, 128)\n",
      "label train shape: (103302,)\n",
      "label test shape: (1770,)\n",
      "dim_time: 100\n",
      "dim_freq: 128\n"
     ]
    }
   ],
   "source": [
    "print('feature train shape: '+str(fea_train.shape))\n",
    "print('feature test shape: '+str(fea_test.shape))\n",
    "print('label train shape: '+str(label_train.shape))\n",
    "print('label test shape: '+str(label_test.shape))\n",
    "\n",
    "dim_time = fea_train.shape[1]\n",
    "dim_freq = fea_train.shape[2]\n",
    "print('dim_time: '+str(dim_time))\n",
    "print('dim_freq: '+str(dim_freq))"
   ]
  },
  {
   "cell_type": "code",
   "execution_count": 95,
   "metadata": {},
   "outputs": [],
   "source": [
    "# shuffle features & labels\n",
    "fea_train, label_train = shuffle(fea_train, label_train, random_state=0)\n",
    "fea_test, label_test = shuffle(fea_test, label_test, random_state=0)"
   ]
  },
  {
   "cell_type": "code",
   "execution_count": 96,
   "metadata": {},
   "outputs": [],
   "source": [
    "# class weight\n",
    "weights = compute_class_weight(class_weight='balanced', classes=np.unique(label_train), y=label_train)\n",
    "\n",
    "class_weights = dict()\n",
    "for ii in range(num_species):\n",
    "    class_weights[ii] = weights[ii]"
   ]
  },
  {
   "cell_type": "code",
   "execution_count": 97,
   "metadata": {},
   "outputs": [],
   "source": [
    "fea_train = np.expand_dims(fea_train, axis=3)\n",
    "fea_test = np.expand_dims(fea_test, axis=3)"
   ]
  },
  {
   "cell_type": "code",
   "execution_count": 98,
   "metadata": {},
   "outputs": [],
   "source": [
    "fea_train, fea_validate, label_train, label_validate = train_test_split(fea_train, label_train, test_size=0.30, random_state=42)\n",
    "\n",
    "train_generator = DataGenerator(fea_train, label_train, batch_size=batch_size, num_classes=num_species)\n",
    "del fea_train\n",
    "validate_generator = DataGenerator(fea_validate, label_validate, batch_size=batch_size, num_classes=num_species)\n",
    "del fea_validate\n",
    "\n",
    "# test_generator = DataGenerator(fea_test, label_test, batch_size=batch_size, num_classes=num_species)\n"
   ]
  },
  {
   "cell_type": "markdown",
   "metadata": {},
   "source": [
    "### Training the model"
   ]
  },
  {
   "cell_type": "code",
   "execution_count": 99,
   "metadata": {
    "scrolled": true
   },
   "outputs": [
    {
     "name": "stdout",
     "output_type": "stream",
     "text": [
      "Epoch 1/200\n",
      "   2/2259 [..............................] - ETA: 5:16 - loss: 2.5130 - accuracy: 0.0938WARNING:tensorflow:Method (on_train_batch_end) is slow compared to the batch update (0.127957). Check your callbacks.\n",
      "2258/2259 [============================>.] - ETA: 0s - loss: 1.9698 - accuracy: 0.2136\n",
      "Epoch 00001: val_loss improved from inf to 1.94635, saving model to /home/ys587/__Data/__whistle/__whislte_30_species/__fit_result_species/20210223_135143/STAR2003/epoch_01_valloss_1.9463_valacc_0.2399.hdf5\n",
      "2259/2259 [==============================] - 73s 32ms/step - loss: 1.9697 - accuracy: 0.2137 - val_loss: 1.9463 - val_accuracy: 0.2399\n",
      "Epoch 2/200\n",
      "2259/2259 [==============================] - ETA: 0s - loss: 1.5905 - accuracy: 0.4043\n",
      "Epoch 00002: val_loss improved from 1.94635 to 1.57193, saving model to /home/ys587/__Data/__whistle/__whislte_30_species/__fit_result_species/20210223_135143/STAR2003/epoch_02_valloss_1.5719_valacc_0.3780.hdf5\n",
      "2259/2259 [==============================] - 73s 32ms/step - loss: 1.5905 - accuracy: 0.4043 - val_loss: 1.5719 - val_accuracy: 0.3780\n",
      "Epoch 3/200\n",
      "2259/2259 [==============================] - ETA: 0s - loss: 1.4064 - accuracy: 0.4801\n",
      "Epoch 00003: val_loss improved from 1.57193 to 1.49061, saving model to /home/ys587/__Data/__whistle/__whislte_30_species/__fit_result_species/20210223_135143/STAR2003/epoch_03_valloss_1.4906_valacc_0.4509.hdf5\n",
      "2259/2259 [==============================] - 73s 32ms/step - loss: 1.4064 - accuracy: 0.4801 - val_loss: 1.4906 - val_accuracy: 0.4509\n",
      "Epoch 4/200\n",
      "2259/2259 [==============================] - ETA: 0s - loss: 1.3064 - accuracy: 0.5178\n",
      "Epoch 00004: val_loss did not improve from 1.49061\n",
      "2259/2259 [==============================] - 72s 32ms/step - loss: 1.3064 - accuracy: 0.5178 - val_loss: 1.5007 - val_accuracy: 0.4488\n",
      "Epoch 5/200\n",
      "2258/2259 [============================>.] - ETA: 0s - loss: 1.2362 - accuracy: 0.5471\n",
      "Epoch 00005: val_loss did not improve from 1.49061\n",
      "2259/2259 [==============================] - 72s 32ms/step - loss: 1.2361 - accuracy: 0.5471 - val_loss: 1.5055 - val_accuracy: 0.4261\n",
      "Epoch 6/200\n",
      "2259/2259 [==============================] - ETA: 0s - loss: 1.1757 - accuracy: 0.5722\n",
      "Epoch 00006: val_loss improved from 1.49061 to 1.22173, saving model to /home/ys587/__Data/__whistle/__whislte_30_species/__fit_result_species/20210223_135143/STAR2003/epoch_06_valloss_1.2217_valacc_0.5361.hdf5\n",
      "2259/2259 [==============================] - 73s 32ms/step - loss: 1.1757 - accuracy: 0.5722 - val_loss: 1.2217 - val_accuracy: 0.5361\n",
      "Epoch 7/200\n",
      "2259/2259 [==============================] - ETA: 0s - loss: 1.1285 - accuracy: 0.5887\n",
      "Epoch 00007: val_loss did not improve from 1.22173\n",
      "2259/2259 [==============================] - 72s 32ms/step - loss: 1.1285 - accuracy: 0.5887 - val_loss: 1.2686 - val_accuracy: 0.5179\n",
      "Epoch 8/200\n",
      "2259/2259 [==============================] - ETA: 0s - loss: 1.0864 - accuracy: 0.6019\n",
      "Epoch 00008: val_loss improved from 1.22173 to 1.12253, saving model to /home/ys587/__Data/__whistle/__whislte_30_species/__fit_result_species/20210223_135143/STAR2003/epoch_08_valloss_1.1225_valacc_0.5739.hdf5\n",
      "2259/2259 [==============================] - 73s 32ms/step - loss: 1.0864 - accuracy: 0.6019 - val_loss: 1.1225 - val_accuracy: 0.5739\n",
      "Epoch 9/200\n",
      "2259/2259 [==============================] - ETA: 0s - loss: 1.0451 - accuracy: 0.6167\n",
      "Epoch 00009: val_loss improved from 1.12253 to 1.05596, saving model to /home/ys587/__Data/__whistle/__whislte_30_species/__fit_result_species/20210223_135143/STAR2003/epoch_09_valloss_1.0560_valacc_0.6068.hdf5\n",
      "2259/2259 [==============================] - 73s 32ms/step - loss: 1.0451 - accuracy: 0.6167 - val_loss: 1.0560 - val_accuracy: 0.6068\n",
      "Epoch 10/200\n",
      "2259/2259 [==============================] - ETA: 0s - loss: 1.0107 - accuracy: 0.6300\n",
      "Epoch 00010: val_loss did not improve from 1.05596\n",
      "2259/2259 [==============================] - 72s 32ms/step - loss: 1.0107 - accuracy: 0.6300 - val_loss: 1.2234 - val_accuracy: 0.5562\n",
      "Epoch 11/200\n",
      "2259/2259 [==============================] - ETA: 0s - loss: 0.9763 - accuracy: 0.6414\n",
      "Epoch 00011: val_loss did not improve from 1.05596\n",
      "2259/2259 [==============================] - 72s 32ms/step - loss: 0.9763 - accuracy: 0.6414 - val_loss: 1.1728 - val_accuracy: 0.5651\n",
      "Epoch 12/200\n",
      "2258/2259 [============================>.] - ETA: 0s - loss: 0.9439 - accuracy: 0.6521\n",
      "Epoch 00012: val_loss improved from 1.05596 to 1.02214, saving model to /home/ys587/__Data/__whistle/__whislte_30_species/__fit_result_species/20210223_135143/STAR2003/epoch_12_valloss_1.0221_valacc_0.6181.hdf5\n",
      "2259/2259 [==============================] - 73s 32ms/step - loss: 0.9437 - accuracy: 0.6521 - val_loss: 1.0221 - val_accuracy: 0.6181\n",
      "Epoch 13/200\n",
      "2259/2259 [==============================] - ETA: 0s - loss: 0.9097 - accuracy: 0.6638\n",
      "Epoch 00013: val_loss did not improve from 1.02214\n",
      "2259/2259 [==============================] - 72s 32ms/step - loss: 0.9097 - accuracy: 0.6638 - val_loss: 1.0963 - val_accuracy: 0.5950\n",
      "Epoch 14/200\n",
      "2259/2259 [==============================] - ETA: 0s - loss: 0.8800 - accuracy: 0.6746\n",
      "Epoch 00014: val_loss did not improve from 1.02214\n",
      "2259/2259 [==============================] - 72s 32ms/step - loss: 0.8800 - accuracy: 0.6746 - val_loss: 1.1984 - val_accuracy: 0.5549\n",
      "Epoch 15/200\n",
      "2259/2259 [==============================] - ETA: 0s - loss: 0.8548 - accuracy: 0.6821\n",
      "Epoch 00015: val_loss did not improve from 1.02214\n",
      "2259/2259 [==============================] - 72s 32ms/step - loss: 0.8548 - accuracy: 0.6821 - val_loss: 1.0264 - val_accuracy: 0.6317\n",
      "Epoch 16/200\n",
      "2259/2259 [==============================] - ETA: 0s - loss: 0.8285 - accuracy: 0.6911\n",
      "Epoch 00016: val_loss improved from 1.02214 to 0.97908, saving model to /home/ys587/__Data/__whistle/__whislte_30_species/__fit_result_species/20210223_135143/STAR2003/epoch_16_valloss_0.9791_valacc_0.6455.hdf5\n",
      "2259/2259 [==============================] - 73s 32ms/step - loss: 0.8285 - accuracy: 0.6911 - val_loss: 0.9791 - val_accuracy: 0.6455\n",
      "Epoch 17/200\n",
      "2259/2259 [==============================] - ETA: 0s - loss: 0.7976 - accuracy: 0.7009\n",
      "Epoch 00017: val_loss did not improve from 0.97908\n",
      "2259/2259 [==============================] - 72s 32ms/step - loss: 0.7976 - accuracy: 0.7009 - val_loss: 1.2229 - val_accuracy: 0.5703\n",
      "Epoch 18/200\n",
      "2259/2259 [==============================] - ETA: 0s - loss: 0.7780 - accuracy: 0.7082\n",
      "Epoch 00018: val_loss did not improve from 0.97908\n",
      "2259/2259 [==============================] - 72s 32ms/step - loss: 0.7780 - accuracy: 0.7082 - val_loss: 1.0313 - val_accuracy: 0.6260\n",
      "Epoch 19/200\n",
      "2258/2259 [============================>.] - ETA: 0s - loss: 0.7535 - accuracy: 0.7160\n",
      "Epoch 00019: val_loss did not improve from 0.97908\n",
      "2259/2259 [==============================] - 72s 32ms/step - loss: 0.7535 - accuracy: 0.7160 - val_loss: 1.0144 - val_accuracy: 0.6475\n",
      "Epoch 20/200\n",
      "2259/2259 [==============================] - ETA: 0s - loss: 0.7309 - accuracy: 0.7233\n",
      "Epoch 00020: val_loss did not improve from 0.97908\n",
      "2259/2259 [==============================] - 72s 32ms/step - loss: 0.7309 - accuracy: 0.7233 - val_loss: 0.9977 - val_accuracy: 0.6504\n",
      "Epoch 21/200\n",
      "2259/2259 [==============================] - ETA: 0s - loss: 0.7055 - accuracy: 0.7319\n",
      "Epoch 00021: val_loss did not improve from 0.97908\n",
      "2259/2259 [==============================] - 72s 32ms/step - loss: 0.7055 - accuracy: 0.7319 - val_loss: 1.0105 - val_accuracy: 0.6392\n",
      "Epoch 22/200\n",
      "2259/2259 [==============================] - ETA: 0s - loss: 0.6884 - accuracy: 0.7385\n",
      "Epoch 00022: val_loss did not improve from 0.97908\n",
      "2259/2259 [==============================] - 72s 32ms/step - loss: 0.6884 - accuracy: 0.7385 - val_loss: 0.9880 - val_accuracy: 0.6398\n",
      "Epoch 23/200\n",
      "2259/2259 [==============================] - ETA: 0s - loss: 0.6680 - accuracy: 0.7450\n",
      "Epoch 00023: val_loss did not improve from 0.97908\n",
      "2259/2259 [==============================] - 72s 32ms/step - loss: 0.6680 - accuracy: 0.7450 - val_loss: 0.9901 - val_accuracy: 0.6524\n",
      "Epoch 24/200\n",
      "2259/2259 [==============================] - ETA: 0s - loss: 0.6474 - accuracy: 0.7507\n",
      "Epoch 00024: val_loss improved from 0.97908 to 0.96583, saving model to /home/ys587/__Data/__whistle/__whislte_30_species/__fit_result_species/20210223_135143/STAR2003/epoch_24_valloss_0.9658_valacc_0.6619.hdf5\n",
      "2259/2259 [==============================] - 73s 32ms/step - loss: 0.6474 - accuracy: 0.7507 - val_loss: 0.9658 - val_accuracy: 0.6619\n",
      "Epoch 25/200\n",
      "2259/2259 [==============================] - ETA: 0s - loss: 0.6295 - accuracy: 0.7589\n",
      "Epoch 00025: val_loss improved from 0.96583 to 0.83213, saving model to /home/ys587/__Data/__whistle/__whislte_30_species/__fit_result_species/20210223_135143/STAR2003/epoch_25_valloss_0.8321_valacc_0.6968.hdf5\n",
      "2259/2259 [==============================] - 73s 32ms/step - loss: 0.6295 - accuracy: 0.7589 - val_loss: 0.8321 - val_accuracy: 0.6968\n",
      "Epoch 26/200\n",
      "2259/2259 [==============================] - ETA: 0s - loss: 0.6121 - accuracy: 0.7660\n",
      "Epoch 00026: val_loss did not improve from 0.83213\n",
      "2259/2259 [==============================] - 72s 32ms/step - loss: 0.6121 - accuracy: 0.7660 - val_loss: 0.8900 - val_accuracy: 0.6793\n",
      "Epoch 27/200\n",
      "2259/2259 [==============================] - ETA: 0s - loss: 0.5937 - accuracy: 0.7723\n",
      "Epoch 00027: val_loss did not improve from 0.83213\n",
      "2259/2259 [==============================] - 72s 32ms/step - loss: 0.5937 - accuracy: 0.7723 - val_loss: 0.9233 - val_accuracy: 0.6766\n",
      "Epoch 28/200\n",
      "2259/2259 [==============================] - ETA: 0s - loss: 0.5748 - accuracy: 0.7769\n",
      "Epoch 00028: val_loss did not improve from 0.83213\n",
      "2259/2259 [==============================] - 72s 32ms/step - loss: 0.5748 - accuracy: 0.7769 - val_loss: 0.9973 - val_accuracy: 0.6590\n",
      "Epoch 29/200\n",
      "2259/2259 [==============================] - ETA: 0s - loss: 0.5562 - accuracy: 0.7826\n",
      "Epoch 00029: val_loss did not improve from 0.83213\n",
      "2259/2259 [==============================] - 72s 32ms/step - loss: 0.5562 - accuracy: 0.7826 - val_loss: 0.9278 - val_accuracy: 0.6753\n",
      "Epoch 30/200\n",
      "2259/2259 [==============================] - ETA: 0s - loss: 0.5417 - accuracy: 0.7899\n",
      "Epoch 00030: val_loss did not improve from 0.83213\n",
      "2259/2259 [==============================] - 72s 32ms/step - loss: 0.5417 - accuracy: 0.7899 - val_loss: 0.8595 - val_accuracy: 0.6917\n",
      "Epoch 31/200\n",
      "2259/2259 [==============================] - ETA: 0s - loss: 0.5263 - accuracy: 0.7945\n",
      "Epoch 00031: val_loss did not improve from 0.83213\n",
      "2259/2259 [==============================] - 72s 32ms/step - loss: 0.5263 - accuracy: 0.7945 - val_loss: 0.8452 - val_accuracy: 0.6967\n",
      "Epoch 32/200\n",
      "2258/2259 [============================>.] - ETA: 0s - loss: 0.5082 - accuracy: 0.8008\n",
      "Epoch 00032: val_loss improved from 0.83213 to 0.83028, saving model to /home/ys587/__Data/__whistle/__whislte_30_species/__fit_result_species/20210223_135143/STAR2003/epoch_32_valloss_0.8303_valacc_0.7073.hdf5\n",
      "2259/2259 [==============================] - 73s 32ms/step - loss: 0.5082 - accuracy: 0.8009 - val_loss: 0.8303 - val_accuracy: 0.7073\n",
      "Epoch 33/200\n",
      "2258/2259 [============================>.] - ETA: 0s - loss: 0.4960 - accuracy: 0.8060\n",
      "Epoch 00033: val_loss did not improve from 0.83028\n",
      "2259/2259 [==============================] - 72s 32ms/step - loss: 0.4960 - accuracy: 0.8060 - val_loss: 0.8764 - val_accuracy: 0.7012\n",
      "Epoch 34/200\n",
      "2258/2259 [============================>.] - ETA: 0s - loss: 0.4801 - accuracy: 0.8112\n",
      "Epoch 00034: val_loss did not improve from 0.83028\n",
      "2259/2259 [==============================] - 72s 32ms/step - loss: 0.4800 - accuracy: 0.8112 - val_loss: 0.9268 - val_accuracy: 0.6927\n",
      "Epoch 35/200\n",
      "2259/2259 [==============================] - ETA: 0s - loss: 0.4697 - accuracy: 0.8149\n",
      "Epoch 00035: val_loss did not improve from 0.83028\n",
      "2259/2259 [==============================] - 72s 32ms/step - loss: 0.4697 - accuracy: 0.8149 - val_loss: 0.9127 - val_accuracy: 0.6893\n",
      "Epoch 36/200\n",
      "2259/2259 [==============================] - ETA: 0s - loss: 0.4572 - accuracy: 0.8197\n",
      "Epoch 00036: val_loss did not improve from 0.83028\n",
      "2259/2259 [==============================] - 72s 32ms/step - loss: 0.4572 - accuracy: 0.8197 - val_loss: 0.8416 - val_accuracy: 0.7165\n",
      "Epoch 37/200\n",
      "2259/2259 [==============================] - ETA: 0s - loss: 0.4376 - accuracy: 0.8269\n",
      "Epoch 00037: val_loss did not improve from 0.83028\n",
      "2259/2259 [==============================] - 72s 32ms/step - loss: 0.4376 - accuracy: 0.8269 - val_loss: 0.8951 - val_accuracy: 0.7057\n",
      "Epoch 38/200\n",
      "2258/2259 [============================>.] - ETA: 0s - loss: 0.4284 - accuracy: 0.8315\n",
      "Epoch 00038: val_loss did not improve from 0.83028\n",
      "2259/2259 [==============================] - 72s 32ms/step - loss: 0.4283 - accuracy: 0.8315 - val_loss: 0.8544 - val_accuracy: 0.7197\n",
      "Epoch 39/200\n",
      "2259/2259 [==============================] - ETA: 0s - loss: 0.4107 - accuracy: 0.8358\n",
      "Epoch 00039: val_loss did not improve from 0.83028\n",
      "2259/2259 [==============================] - 72s 32ms/step - loss: 0.4107 - accuracy: 0.8358 - val_loss: 0.9542 - val_accuracy: 0.6965\n",
      "Epoch 40/200\n",
      "2259/2259 [==============================] - ETA: 0s - loss: 0.4035 - accuracy: 0.8389\n",
      "Epoch 00040: val_loss did not improve from 0.83028\n",
      "2259/2259 [==============================] - 72s 32ms/step - loss: 0.4035 - accuracy: 0.8389 - val_loss: 0.8814 - val_accuracy: 0.7179\n",
      "Epoch 41/200\n",
      "2258/2259 [============================>.] - ETA: 0s - loss: 0.3914 - accuracy: 0.8453\n",
      "Epoch 00041: val_loss did not improve from 0.83028\n",
      "2259/2259 [==============================] - 72s 32ms/step - loss: 0.3914 - accuracy: 0.8453 - val_loss: 0.8469 - val_accuracy: 0.7243\n",
      "Epoch 42/200\n",
      "2259/2259 [==============================] - ETA: 0s - loss: 0.3785 - accuracy: 0.8497\n",
      "Epoch 00042: val_loss did not improve from 0.83028\n",
      "2259/2259 [==============================] - 72s 32ms/step - loss: 0.3785 - accuracy: 0.8497 - val_loss: 0.9149 - val_accuracy: 0.7126\n",
      "Epoch 43/200\n",
      "2259/2259 [==============================] - ETA: 0s - loss: 0.3694 - accuracy: 0.8534\n",
      "Epoch 00043: val_loss did not improve from 0.83028\n",
      "2259/2259 [==============================] - 72s 32ms/step - loss: 0.3694 - accuracy: 0.8534 - val_loss: 0.9572 - val_accuracy: 0.7062\n",
      "Epoch 44/200\n",
      "2259/2259 [==============================] - ETA: 0s - loss: 0.3547 - accuracy: 0.8579\n",
      "Epoch 00044: val_loss did not improve from 0.83028\n",
      "2259/2259 [==============================] - 72s 32ms/step - loss: 0.3547 - accuracy: 0.8579 - val_loss: 0.9739 - val_accuracy: 0.7116\n",
      "Epoch 45/200\n",
      "2259/2259 [==============================] - ETA: 0s - loss: 0.3458 - accuracy: 0.8618\n",
      "Epoch 00045: val_loss did not improve from 0.83028\n",
      "2259/2259 [==============================] - 72s 32ms/step - loss: 0.3458 - accuracy: 0.8618 - val_loss: 0.9526 - val_accuracy: 0.7150\n",
      "Epoch 46/200\n",
      "2259/2259 [==============================] - ETA: 0s - loss: 0.3345 - accuracy: 0.8662\n",
      "Epoch 00046: val_loss did not improve from 0.83028\n",
      "2259/2259 [==============================] - 72s 32ms/step - loss: 0.3345 - accuracy: 0.8662 - val_loss: 1.0690 - val_accuracy: 0.6955\n",
      "Epoch 47/200\n",
      "2259/2259 [==============================] - ETA: 0s - loss: 0.3243 - accuracy: 0.8697\n",
      "Epoch 00047: val_loss did not improve from 0.83028\n",
      "2259/2259 [==============================] - 72s 32ms/step - loss: 0.3243 - accuracy: 0.8697 - val_loss: 0.9801 - val_accuracy: 0.7172\n",
      "Epoch 48/200\n",
      "2259/2259 [==============================] - ETA: 0s - loss: 0.3148 - accuracy: 0.8723\n",
      "Epoch 00048: val_loss did not improve from 0.83028\n",
      "2259/2259 [==============================] - 72s 32ms/step - loss: 0.3148 - accuracy: 0.8723 - val_loss: 1.0305 - val_accuracy: 0.7143\n",
      "Epoch 49/200\n",
      "2259/2259 [==============================] - ETA: 0s - loss: 0.3071 - accuracy: 0.8756\n",
      "Epoch 00049: val_loss did not improve from 0.83028\n",
      "2259/2259 [==============================] - 72s 32ms/step - loss: 0.3071 - accuracy: 0.8756 - val_loss: 1.0381 - val_accuracy: 0.7028\n",
      "Epoch 50/200\n",
      "2259/2259 [==============================] - ETA: 0s - loss: 0.2942 - accuracy: 0.8818\n",
      "Epoch 00050: val_loss did not improve from 0.83028\n",
      "2259/2259 [==============================] - 72s 32ms/step - loss: 0.2942 - accuracy: 0.8818 - val_loss: 1.1306 - val_accuracy: 0.7048\n",
      "Epoch 51/200\n",
      "2259/2259 [==============================] - ETA: 0s - loss: 0.2876 - accuracy: 0.8840\n",
      "Epoch 00051: val_loss did not improve from 0.83028\n",
      "2259/2259 [==============================] - 72s 32ms/step - loss: 0.2876 - accuracy: 0.8840 - val_loss: 1.0626 - val_accuracy: 0.7087\n",
      "Epoch 52/200\n",
      "2259/2259 [==============================] - ETA: 0s - loss: 0.2806 - accuracy: 0.8864\n",
      "Epoch 00052: val_loss did not improve from 0.83028\n",
      "2259/2259 [==============================] - 72s 32ms/step - loss: 0.2806 - accuracy: 0.8864 - val_loss: 0.9648 - val_accuracy: 0.7276\n",
      "Epoch 00052: early stopping\n"
     ]
    }
   ],
   "source": [
    "model = model_cnn14_attention_multi(dim_time, dim_freq, num_species, model_type='feature_level_attention', conv_dim=conv_dim, pool_size=pool_size, pool_stride=pool_stride, hidden_units=hidden_units, l2_regu=l2_regu, drop_rate=drop_rate)\n",
    "loss = CategoricalCrossentropy()\n",
    "model.compile(optimizer=tf.keras.optimizers.Adam(learning_rate=learning_rate_fn), loss=loss, metrics=['accuracy'])\n",
    "\n",
    "# With classes\n",
    "# history = model.fit(fea_train, to_categorical(label_train), class_weight=class_weights, validation_split=0.3, batch_size=batch_size, epochs=num_epoch, callbacks=[EarlyStopping(patience=num_patience), ModelCheckpoint(filepath=os.path.join(fit_result_path, '{epoch:02d}-{val_loss:.4f}.hdf5'), verbose=1, monitor=\"val_loss\", save_best_only=True)])\n",
    "# history = model.fit(train_generator, validation_data=validate_generator, class_weight=class_weights, epochs=num_epoch, callbacks=[EarlyStopping(patience=num_patience, monitor='val_loss', mode='min', verbose=1), TensorBoard(log_dir=fit_result_path1), ModelCheckpoint(filepath=os.path.join(fit_result_path1, '{epoch:02d}-{val_loss:.4f}.hdf5'), verbose=1, monitor=\"val_loss\", save_best_only=True)])\n",
    "history = model.fit(train_generator, validation_data=validate_generator, class_weight=class_weights, epochs=num_epoch, callbacks=[EarlyStopping(patience=num_patience, monitor='val_loss', mode='min', verbose=1), TensorBoard(log_dir=fit_result_path2), ModelCheckpoint(filepath=os.path.join(fit_result_path2, 'epoch_{epoch:02d}_valloss_{val_loss:.4f}_valacc_{val_accuracy:.4f}.hdf5' ), verbose=1, monitor=\"val_loss\", save_best_only=True)])"
   ]
  },
  {
   "cell_type": "code",
   "execution_count": 100,
   "metadata": {},
   "outputs": [
    {
     "name": "stdout",
     "output_type": "stream",
     "text": [
      "Best model:0.8303\n",
      "/home/ys587/__Data/__whistle/__whislte_30_species/__fit_result_species/20210223_135143/STAR2003/epoch_32_valloss_0.8303_valacc_0.7073.hdf5\n"
     ]
    }
   ],
   "source": [
    "# fit_result_path1 = '/home/ys587/__Data/__whistle/__whislte_30_species/__fit_result_species/20210210_224527'\n",
    "the_best_model, _ = find_best_model(fit_result_path2, purge=False)"
   ]
  },
  {
   "cell_type": "code",
   "execution_count": 101,
   "metadata": {
    "scrolled": true
   },
   "outputs": [
    {
     "name": "stdout",
     "output_type": "stream",
     "text": [
      "Model: \"model_2\"\n",
      "__________________________________________________________________________________________________\n",
      "Layer (type)                    Output Shape         Param #     Connected to                     \n",
      "==================================================================================================\n",
      "input (InputLayer)              [(None, 100, 128, 1) 0                                            \n",
      "__________________________________________________________________________________________________\n",
      "conv2d_24 (Conv2D)              (None, 100, 128, 16) 160         input[0][0]                      \n",
      "__________________________________________________________________________________________________\n",
      "batch_normalization_32 (BatchNo (None, 100, 128, 16) 64          conv2d_24[0][0]                  \n",
      "__________________________________________________________________________________________________\n",
      "activation_32 (Activation)      (None, 100, 128, 16) 0           batch_normalization_32[0][0]     \n",
      "__________________________________________________________________________________________________\n",
      "conv2d_25 (Conv2D)              (None, 100, 128, 16) 2320        activation_32[0][0]              \n",
      "__________________________________________________________________________________________________\n",
      "batch_normalization_33 (BatchNo (None, 100, 128, 16) 64          conv2d_25[0][0]                  \n",
      "__________________________________________________________________________________________________\n",
      "activation_33 (Activation)      (None, 100, 128, 16) 0           batch_normalization_33[0][0]     \n",
      "__________________________________________________________________________________________________\n",
      "max_pooling2d_12 (MaxPooling2D) (None, 50, 64, 16)   0           activation_33[0][0]              \n",
      "__________________________________________________________________________________________________\n",
      "dropout_20 (Dropout)            (None, 50, 64, 16)   0           max_pooling2d_12[0][0]           \n",
      "__________________________________________________________________________________________________\n",
      "conv2d_26 (Conv2D)              (None, 50, 64, 32)   4640        dropout_20[0][0]                 \n",
      "__________________________________________________________________________________________________\n",
      "batch_normalization_34 (BatchNo (None, 50, 64, 32)   128         conv2d_26[0][0]                  \n",
      "__________________________________________________________________________________________________\n",
      "activation_34 (Activation)      (None, 50, 64, 32)   0           batch_normalization_34[0][0]     \n",
      "__________________________________________________________________________________________________\n",
      "conv2d_27 (Conv2D)              (None, 50, 64, 32)   9248        activation_34[0][0]              \n",
      "__________________________________________________________________________________________________\n",
      "batch_normalization_35 (BatchNo (None, 50, 64, 32)   128         conv2d_27[0][0]                  \n",
      "__________________________________________________________________________________________________\n",
      "activation_35 (Activation)      (None, 50, 64, 32)   0           batch_normalization_35[0][0]     \n",
      "__________________________________________________________________________________________________\n",
      "max_pooling2d_13 (MaxPooling2D) (None, 25, 32, 32)   0           activation_35[0][0]              \n",
      "__________________________________________________________________________________________________\n",
      "dropout_21 (Dropout)            (None, 25, 32, 32)   0           max_pooling2d_13[0][0]           \n",
      "__________________________________________________________________________________________________\n",
      "conv2d_28 (Conv2D)              (None, 25, 32, 64)   18496       dropout_21[0][0]                 \n",
      "__________________________________________________________________________________________________\n",
      "batch_normalization_36 (BatchNo (None, 25, 32, 64)   256         conv2d_28[0][0]                  \n",
      "__________________________________________________________________________________________________\n",
      "activation_36 (Activation)      (None, 25, 32, 64)   0           batch_normalization_36[0][0]     \n",
      "__________________________________________________________________________________________________\n",
      "conv2d_29 (Conv2D)              (None, 25, 32, 64)   36928       activation_36[0][0]              \n",
      "__________________________________________________________________________________________________\n",
      "batch_normalization_37 (BatchNo (None, 25, 32, 64)   256         conv2d_29[0][0]                  \n",
      "__________________________________________________________________________________________________\n",
      "activation_37 (Activation)      (None, 25, 32, 64)   0           batch_normalization_37[0][0]     \n",
      "__________________________________________________________________________________________________\n",
      "max_pooling2d_14 (MaxPooling2D) (None, 13, 16, 64)   0           activation_37[0][0]              \n",
      "__________________________________________________________________________________________________\n",
      "dropout_22 (Dropout)            (None, 13, 16, 64)   0           max_pooling2d_14[0][0]           \n",
      "__________________________________________________________________________________________________\n",
      "conv2d_30 (Conv2D)              (None, 13, 16, 128)  73856       dropout_22[0][0]                 \n",
      "__________________________________________________________________________________________________\n",
      "batch_normalization_38 (BatchNo (None, 13, 16, 128)  512         conv2d_30[0][0]                  \n",
      "__________________________________________________________________________________________________\n",
      "activation_38 (Activation)      (None, 13, 16, 128)  0           batch_normalization_38[0][0]     \n",
      "__________________________________________________________________________________________________\n",
      "conv2d_31 (Conv2D)              (None, 13, 16, 128)  147584      activation_38[0][0]              \n",
      "__________________________________________________________________________________________________\n",
      "batch_normalization_39 (BatchNo (None, 13, 16, 128)  512         conv2d_31[0][0]                  \n",
      "__________________________________________________________________________________________________\n",
      "activation_39 (Activation)      (None, 13, 16, 128)  0           batch_normalization_39[0][0]     \n",
      "__________________________________________________________________________________________________\n",
      "max_pooling2d_15 (MaxPooling2D) (None, 7, 8, 128)    0           activation_39[0][0]              \n",
      "__________________________________________________________________________________________________\n",
      "dropout_23 (Dropout)            (None, 7, 8, 128)    0           max_pooling2d_15[0][0]           \n",
      "__________________________________________________________________________________________________\n",
      "conv2d_32 (Conv2D)              (None, 7, 8, 256)    295168      dropout_23[0][0]                 \n",
      "__________________________________________________________________________________________________\n",
      "batch_normalization_40 (BatchNo (None, 7, 8, 256)    1024        conv2d_32[0][0]                  \n",
      "__________________________________________________________________________________________________\n",
      "activation_40 (Activation)      (None, 7, 8, 256)    0           batch_normalization_40[0][0]     \n",
      "__________________________________________________________________________________________________\n",
      "conv2d_33 (Conv2D)              (None, 7, 8, 256)    590080      activation_40[0][0]              \n",
      "__________________________________________________________________________________________________\n",
      "batch_normalization_41 (BatchNo (None, 7, 8, 256)    1024        conv2d_33[0][0]                  \n",
      "__________________________________________________________________________________________________\n",
      "activation_41 (Activation)      (None, 7, 8, 256)    0           batch_normalization_41[0][0]     \n",
      "__________________________________________________________________________________________________\n",
      "max_pooling2d_16 (MaxPooling2D) (None, 7, 4, 256)    0           activation_41[0][0]              \n",
      "__________________________________________________________________________________________________\n",
      "dropout_24 (Dropout)            (None, 7, 4, 256)    0           max_pooling2d_16[0][0]           \n",
      "__________________________________________________________________________________________________\n",
      "conv2d_34 (Conv2D)              (None, 7, 4, 512)    1180160     dropout_24[0][0]                 \n",
      "__________________________________________________________________________________________________\n",
      "batch_normalization_42 (BatchNo (None, 7, 4, 512)    2048        conv2d_34[0][0]                  \n",
      "__________________________________________________________________________________________________\n",
      "activation_42 (Activation)      (None, 7, 4, 512)    0           batch_normalization_42[0][0]     \n",
      "__________________________________________________________________________________________________\n",
      "conv2d_35 (Conv2D)              (None, 7, 4, 512)    2359808     activation_42[0][0]              \n",
      "__________________________________________________________________________________________________\n",
      "batch_normalization_43 (BatchNo (None, 7, 4, 512)    2048        conv2d_35[0][0]                  \n",
      "__________________________________________________________________________________________________\n",
      "activation_43 (Activation)      (None, 7, 4, 512)    0           batch_normalization_43[0][0]     \n",
      "__________________________________________________________________________________________________\n",
      "max_pooling2d_17 (MaxPooling2D) (None, 7, 2, 512)    0           activation_43[0][0]              \n",
      "__________________________________________________________________________________________________\n",
      "dropout_25 (Dropout)            (None, 7, 2, 512)    0           max_pooling2d_17[0][0]           \n",
      "__________________________________________________________________________________________________\n",
      "reshape_2 (Reshape)             (None, 7, 1024)      0           dropout_25[0][0]                 \n",
      "__________________________________________________________________________________________________\n",
      "dense_12 (Dense)                (None, 7, 512)       524800      reshape_2[0][0]                  \n",
      "__________________________________________________________________________________________________\n",
      "batch_normalization_44 (BatchNo (None, 7, 512)       2048        dense_12[0][0]                   \n",
      "__________________________________________________________________________________________________\n",
      "activation_44 (Activation)      (None, 7, 512)       0           batch_normalization_44[0][0]     \n",
      "__________________________________________________________________________________________________\n",
      "dropout_26 (Dropout)            (None, 7, 512)       0           activation_44[0][0]              \n",
      "__________________________________________________________________________________________________\n",
      "dense_13 (Dense)                (None, 7, 512)       262656      dropout_26[0][0]                 \n",
      "__________________________________________________________________________________________________\n",
      "batch_normalization_45 (BatchNo (None, 7, 512)       2048        dense_13[0][0]                   \n",
      "__________________________________________________________________________________________________\n",
      "activation_45 (Activation)      (None, 7, 512)       0           batch_normalization_45[0][0]     \n",
      "__________________________________________________________________________________________________\n",
      "dropout_27 (Dropout)            (None, 7, 512)       0           activation_45[0][0]              \n",
      "__________________________________________________________________________________________________\n",
      "dense_14 (Dense)                (None, 7, 512)       262656      dropout_27[0][0]                 \n",
      "__________________________________________________________________________________________________\n",
      "batch_normalization_46 (BatchNo (None, 7, 512)       2048        dense_14[0][0]                   \n",
      "__________________________________________________________________________________________________\n",
      "activation_46 (Activation)      (None, 7, 512)       0           batch_normalization_46[0][0]     \n",
      "__________________________________________________________________________________________________\n",
      "dropout_28 (Dropout)            (None, 7, 512)       0           activation_46[0][0]              \n",
      "__________________________________________________________________________________________________\n",
      "dense_15 (Dense)                (None, 7, 512)       262656      dropout_28[0][0]                 \n",
      "__________________________________________________________________________________________________\n",
      "dense_16 (Dense)                (None, 7, 512)       262656      dropout_28[0][0]                 \n",
      "__________________________________________________________________________________________________\n",
      "lambda_2 (Lambda)               (None, 512)          0           dense_15[0][0]                   \n",
      "                                                                 dense_16[0][0]                   \n",
      "__________________________________________________________________________________________________\n",
      "batch_normalization_47 (BatchNo (None, 512)          2048        lambda_2[0][0]                   \n",
      "__________________________________________________________________________________________________\n",
      "activation_47 (Activation)      (None, 512)          0           batch_normalization_47[0][0]     \n",
      "__________________________________________________________________________________________________\n",
      "dropout_29 (Dropout)            (None, 512)          0           activation_47[0][0]              \n",
      "__________________________________________________________________________________________________\n",
      "dense_17 (Dense)                (None, 8)            4104        dropout_29[0][0]                 \n",
      "==================================================================================================\n",
      "Total params: 6,314,232\n",
      "Trainable params: 6,306,104\n",
      "Non-trainable params: 8,128\n",
      "__________________________________________________________________________________________________\n"
     ]
    }
   ],
   "source": [
    "model = load_model(the_best_model)\n",
    "model.summary()"
   ]
  },
  {
   "cell_type": "code",
   "execution_count": 102,
   "metadata": {},
   "outputs": [],
   "source": [
    "label_pred = model.predict(fea_test)\n",
    "# label_pred = model.predict(test_generator)"
   ]
  },
  {
   "cell_type": "code",
   "execution_count": 103,
   "metadata": {},
   "outputs": [],
   "source": [
    "np.set_printoptions(linewidth=200, precision=2, suppress=True)"
   ]
  },
  {
   "cell_type": "code",
   "execution_count": 104,
   "metadata": {},
   "outputs": [
    {
     "name": "stdout",
     "output_type": "stream",
     "text": [
      "Confusion matrix:\n",
      "['BD', 'CD', 'STR', 'SPT', 'SPIN', 'PLT', 'RT', 'FKW']\n",
      "\n",
      "[[ 16   5  99  56  19  17  16   3]\n",
      " [ 19 212 325  53   6  72  42  23]\n",
      " [  0   1  31   4   1   4   9   4]\n",
      " [  4  54 245  48   2  48   6   5]\n",
      " [  3   2  31  11   0   0   1   3]\n",
      " [  0   0   0   0   0   0   0   0]\n",
      " [  0   0   0   0   0   0   0   0]\n",
      " [  0   0   0   1   0  17  10 242]]\n",
      "\n",
      "[[0.07 0.02 0.43 0.24 0.08 0.07 0.07 0.01]\n",
      " [0.03 0.28 0.43 0.07 0.01 0.1  0.06 0.03]\n",
      " [0.   0.02 0.57 0.07 0.02 0.07 0.17 0.07]\n",
      " [0.01 0.13 0.59 0.12 0.   0.12 0.01 0.01]\n",
      " [0.06 0.04 0.61 0.22 0.   0.   0.02 0.06]\n",
      " [0.   0.   0.   0.   0.   0.   0.   0.  ]\n",
      " [0.   0.   0.   0.   0.   0.   0.   0.  ]\n",
      " [0.   0.   0.   0.   0.   0.06 0.04 0.9 ]]\n"
     ]
    }
   ],
   "source": [
    "print(\"Confusion matrix:\")\n",
    "cm = confusion_matrix(label_test, np.argmax(label_pred, axis=1), labels=species_id)\n",
    "\n",
    "print(species_list)\n",
    "print('')\n",
    "print(cm)\n",
    "print('')\n",
    "\n",
    "cm2 = cm*1.0\n",
    "for ii in range(cm.shape[0]):\n",
    "    cm_row = cm[ii, :]*1.0\n",
    "\n",
    "    cm_row_sum = cm_row.sum()\n",
    "    if cm_row_sum != 0:\n",
    "        cm2[ii, :] = cm_row / cm_row_sum\n",
    "    else:\n",
    "        cm2[ii, :] = np.zeros(cm.shape[1])\n",
    "\n",
    "print(cm2)"
   ]
  },
  {
   "cell_type": "code",
   "execution_count": 105,
   "metadata": {},
   "outputs": [],
   "source": [
    "from sklearn.metrics import plot_confusion_matrix\n",
    "from sklearn.metrics._plot.confusion_matrix import ConfusionMatrixDisplay\n",
    "disp = ConfusionMatrixDisplay(confusion_matrix=cm, display_labels=species_list)\n",
    "disp2 = ConfusionMatrixDisplay(confusion_matrix=cm2, display_labels=species_list)"
   ]
  },
  {
   "cell_type": "code",
   "execution_count": 106,
   "metadata": {},
   "outputs": [
    {
     "data": {
      "text/plain": [
       "<sklearn.metrics._plot.confusion_matrix.ConfusionMatrixDisplay at 0x7f8b4461fa00>"
      ]
     },
     "execution_count": 106,
     "metadata": {},
     "output_type": "execute_result"
    },
    {
     "data": {
      "image/png": "[encoded data removed]",
      "text/plain": [
       "<Figure size 1080x1080 with 2 Axes>"
      ]
     },
     "metadata": {
      "needs_background": "light"
     },
     "output_type": "display_data"
    }
   ],
   "source": [
    "fig, ax = plt.subplots(figsize=[15, 15])\n",
    "disp.plot(include_values=True,\n",
    "                     cmap='viridis', ax=ax, xticks_rotation='horizontal',\n",
    "                     values_format=None, colorbar=True)\n"
   ]
  },
  {
   "cell_type": "code",
   "execution_count": 107,
   "metadata": {},
   "outputs": [
    {
     "data": {
      "text/plain": [
       "<sklearn.metrics._plot.confusion_matrix.ConfusionMatrixDisplay at 0x7f8b4461f3a0>"
      ]
     },
     "execution_count": 107,
     "metadata": {},
     "output_type": "execute_result"
    },
    {
     "data": {
      "image/png": "[encoded data removed]",
      "text/plain": [
       "<Figure size 1080x1080 with 2 Axes>"
      ]
     },
     "metadata": {
      "needs_background": "light"
     },
     "output_type": "display_data"
    }
   ],
   "source": [
    "fig, ax = plt.subplots(figsize=[15, 15])\n",
    "disp2.plot(include_values=True,\n",
    "                     cmap='viridis', ax=ax, xticks_rotation='horizontal',\n",
    "                     values_format='.2f', colorbar=True)"
   ]
  },
  {
   "cell_type": "markdown",
   "metadata": {},
   "source": [
    "## STAR2006"
   ]
  },
  {
   "cell_type": "code",
   "execution_count": 108,
   "metadata": {},
   "outputs": [
    {
     "name": "stdout",
     "output_type": "stream",
     "text": [
      "STAR2006\n"
     ]
    }
   ],
   "source": [
    "ee = deployment[2]\n",
    "print(ee)"
   ]
  },
  {
   "cell_type": "code",
   "execution_count": 109,
   "metadata": {},
   "outputs": [],
   "source": [
    "# Training data\n",
    "fea_temp = np.load(os.path.join(feature_path, 'train_oswald_no_'+ee+'.npz'))\n",
    "fea_train = fea_temp['fea_train']\n",
    "label_train_list = fea_temp['label_train']\n",
    "del fea_temp"
   ]
  },
  {
   "cell_type": "code",
   "execution_count": 110,
   "metadata": {},
   "outputs": [],
   "source": [
    "label_train = np.zeros(len(label_train_list))\n",
    "for ii in range(len(label_train_list)):\n",
    "    label_train[ii] = species_dict[label_train_list[ii]]"
   ]
  },
  {
   "cell_type": "code",
   "execution_count": 111,
   "metadata": {},
   "outputs": [],
   "source": [
    "# Testing data\n",
    "fea_temp = np.load(os.path.join(feature_path, 'oswald_'+ee+'_orig.npz'))\n",
    "fea_test = fea_temp['feas_orig']\n",
    "label_test_list = fea_temp['labels_orig']\n",
    "\n",
    "fea_test = fea_test[:,:100,:]\n",
    "label_test = np.zeros(len(label_test_list))\n",
    "for ii in range(len(label_test_list)):\n",
    "    label_test[ii] = species_dict[label_test_list[ii]]"
   ]
  },
  {
   "cell_type": "code",
   "execution_count": 112,
   "metadata": {},
   "outputs": [],
   "source": [
    "fea_train = fea_train[:,:100,:]"
   ]
  },
  {
   "cell_type": "code",
   "execution_count": 113,
   "metadata": {},
   "outputs": [],
   "source": [
    "label_train = np.zeros(len(label_train_list))\n",
    "for ii in range(len(label_train_list)):\n",
    "    label_train[ii] = species_dict[label_train_list[ii]]"
   ]
  },
  {
   "cell_type": "code",
   "execution_count": 114,
   "metadata": {
    "scrolled": true
   },
   "outputs": [
    {
     "data": {
      "text/plain": [
       "Counter({'BD': 11466,\n",
       "         'CD': 28296,\n",
       "         'PLT': 8250,\n",
       "         'RT': 7590,\n",
       "         'SPIN': 6198,\n",
       "         'SPT': 12744,\n",
       "         'STR': 10692,\n",
       "         'FKW': 13662})"
      ]
     },
     "execution_count": 114,
     "metadata": {},
     "output_type": "execute_result"
    }
   ],
   "source": [
    "Counter(label_train_list)"
   ]
  },
  {
   "cell_type": "code",
   "execution_count": 115,
   "metadata": {},
   "outputs": [
    {
     "data": {
      "text/plain": [
       "Counter({1.0: 24, 7.0: 903, 5.0: 632, 6.0: 46, 4.0: 2, 3.0: 147, 2.0: 750})"
      ]
     },
     "execution_count": 115,
     "metadata": {},
     "output_type": "execute_result"
    }
   ],
   "source": [
    "Counter(label_test.tolist())"
   ]
  },
  {
   "cell_type": "code",
   "execution_count": 116,
   "metadata": {},
   "outputs": [],
   "source": [
    "fit_result_path2 = os.path.join(fit_result_path1, ee)\n",
    "if not os.path.exists(fit_result_path2):\n",
    "    makedirs(fit_result_path2)"
   ]
  },
  {
   "cell_type": "code",
   "execution_count": 117,
   "metadata": {},
   "outputs": [
    {
     "name": "stdout",
     "output_type": "stream",
     "text": [
      "feature train shape: (98898, 100, 128)\n",
      "feature test shape: (2504, 100, 128)\n",
      "label train shape: (98898,)\n",
      "label test shape: (2504,)\n",
      "dim_time: 100\n",
      "dim_freq: 128\n"
     ]
    }
   ],
   "source": [
    "print('feature train shape: '+str(fea_train.shape))\n",
    "print('feature test shape: '+str(fea_test.shape))\n",
    "print('label train shape: '+str(label_train.shape))\n",
    "print('label test shape: '+str(label_test.shape))\n",
    "\n",
    "dim_time = fea_train.shape[1]\n",
    "dim_freq = fea_train.shape[2]\n",
    "print('dim_time: '+str(dim_time))\n",
    "print('dim_freq: '+str(dim_freq))"
   ]
  },
  {
   "cell_type": "code",
   "execution_count": 118,
   "metadata": {},
   "outputs": [],
   "source": [
    "# shuffle features & labels\n",
    "fea_train, label_train = shuffle(fea_train, label_train, random_state=0)\n",
    "fea_test, label_test = shuffle(fea_test, label_test, random_state=0)"
   ]
  },
  {
   "cell_type": "code",
   "execution_count": 119,
   "metadata": {},
   "outputs": [],
   "source": [
    "# class weight\n",
    "weights = compute_class_weight(class_weight='balanced', classes=np.unique(label_train), y=label_train)\n",
    "\n",
    "class_weights = dict()\n",
    "for ii in range(num_species):\n",
    "    class_weights[ii] = weights[ii]"
   ]
  },
  {
   "cell_type": "code",
   "execution_count": 120,
   "metadata": {},
   "outputs": [],
   "source": [
    "fea_train = np.expand_dims(fea_train, axis=3)\n",
    "fea_test = np.expand_dims(fea_test, axis=3)"
   ]
  },
  {
   "cell_type": "code",
   "execution_count": 121,
   "metadata": {},
   "outputs": [],
   "source": [
    "fea_train, fea_validate, label_train, label_validate = train_test_split(fea_train, label_train, test_size=0.30, random_state=42)\n",
    "\n",
    "train_generator = DataGenerator(fea_train, label_train, batch_size=batch_size, num_classes=num_species)\n",
    "del fea_train\n",
    "validate_generator = DataGenerator(fea_validate, label_validate, batch_size=batch_size, num_classes=num_species)\n",
    "del fea_validate\n",
    "\n",
    "# test_generator = DataGenerator(fea_test, label_test, batch_size=batch_size, num_classes=num_species)\n"
   ]
  },
  {
   "cell_type": "markdown",
   "metadata": {},
   "source": [
    "### Training the model"
   ]
  },
  {
   "cell_type": "code",
   "execution_count": 122,
   "metadata": {
    "scrolled": true
   },
   "outputs": [
    {
     "name": "stdout",
     "output_type": "stream",
     "text": [
      "Epoch 1/200\n",
      "   2/2163 [..............................] - ETA: 5:09 - loss: 2.1760 - accuracy: 0.1250WARNING:tensorflow:Method (on_train_batch_end) is slow compared to the batch update (0.130232). Check your callbacks.\n",
      "2162/2163 [============================>.] - ETA: 0s - loss: 2.0492 - accuracy: 0.1596\n",
      "Epoch 00001: val_loss improved from inf to 1.92671, saving model to /home/ys587/__Data/__whistle/__whislte_30_species/__fit_result_species/20210223_135143/STAR2006/epoch_01_valloss_1.9267_valacc_0.2013.hdf5\n",
      "2163/2163 [==============================] - 71s 33ms/step - loss: 2.0491 - accuracy: 0.1596 - val_loss: 1.9267 - val_accuracy: 0.2013\n",
      "Epoch 2/200\n",
      "2163/2163 [==============================] - ETA: 0s - loss: 1.7142 - accuracy: 0.3167\n",
      "Epoch 00002: val_loss improved from 1.92671 to 1.53264, saving model to /home/ys587/__Data/__whistle/__whislte_30_species/__fit_result_species/20210223_135143/STAR2006/epoch_02_valloss_1.5326_valacc_0.4030.hdf5\n",
      "2163/2163 [==============================] - 70s 32ms/step - loss: 1.7142 - accuracy: 0.3167 - val_loss: 1.5326 - val_accuracy: 0.4030\n",
      "Epoch 3/200\n",
      "2163/2163 [==============================] - ETA: 0s - loss: 1.4893 - accuracy: 0.4292\n",
      "Epoch 00003: val_loss improved from 1.53264 to 1.51810, saving model to /home/ys587/__Data/__whistle/__whislte_30_species/__fit_result_species/20210223_135143/STAR2006/epoch_03_valloss_1.5181_valacc_0.4128.hdf5\n",
      "2163/2163 [==============================] - 70s 32ms/step - loss: 1.4893 - accuracy: 0.4292 - val_loss: 1.5181 - val_accuracy: 0.4128\n",
      "Epoch 4/200\n",
      "2163/2163 [==============================] - ETA: 0s - loss: 1.3932 - accuracy: 0.4689\n",
      "Epoch 00004: val_loss improved from 1.51810 to 1.34350, saving model to /home/ys587/__Data/__whistle/__whislte_30_species/__fit_result_species/20210223_135143/STAR2006/epoch_04_valloss_1.3435_valacc_0.4755.hdf5\n",
      "2163/2163 [==============================] - 70s 32ms/step - loss: 1.3932 - accuracy: 0.4689 - val_loss: 1.3435 - val_accuracy: 0.4755\n",
      "Epoch 5/200\n",
      "2163/2163 [==============================] - ETA: 0s - loss: 1.3264 - accuracy: 0.4922\n",
      "Epoch 00005: val_loss did not improve from 1.34350\n",
      "2163/2163 [==============================] - 70s 32ms/step - loss: 1.3264 - accuracy: 0.4922 - val_loss: 1.3505 - val_accuracy: 0.4714\n",
      "Epoch 6/200\n",
      "2163/2163 [==============================] - ETA: 0s - loss: 1.2716 - accuracy: 0.5152\n",
      "Epoch 00006: val_loss improved from 1.34350 to 1.33136, saving model to /home/ys587/__Data/__whistle/__whislte_30_species/__fit_result_species/20210223_135143/STAR2006/epoch_06_valloss_1.3314_valacc_0.5034.hdf5\n",
      "2163/2163 [==============================] - 70s 32ms/step - loss: 1.2716 - accuracy: 0.5152 - val_loss: 1.3314 - val_accuracy: 0.5034\n",
      "Epoch 7/200\n",
      "2163/2163 [==============================] - ETA: 0s - loss: 1.2266 - accuracy: 0.5310\n",
      "Epoch 00007: val_loss improved from 1.33136 to 1.26686, saving model to /home/ys587/__Data/__whistle/__whislte_30_species/__fit_result_species/20210223_135143/STAR2006/epoch_07_valloss_1.2669_valacc_0.5239.hdf5\n",
      "2163/2163 [==============================] - 70s 32ms/step - loss: 1.2266 - accuracy: 0.5310 - val_loss: 1.2669 - val_accuracy: 0.5239\n",
      "Epoch 8/200\n",
      "2163/2163 [==============================] - ETA: 0s - loss: 1.1787 - accuracy: 0.5505\n",
      "Epoch 00008: val_loss improved from 1.26686 to 1.22550, saving model to /home/ys587/__Data/__whistle/__whislte_30_species/__fit_result_species/20210223_135143/STAR2006/epoch_08_valloss_1.2255_valacc_0.5386.hdf5\n",
      "2163/2163 [==============================] - 70s 33ms/step - loss: 1.1787 - accuracy: 0.5505 - val_loss: 1.2255 - val_accuracy: 0.5386\n",
      "Epoch 9/200\n",
      "2163/2163 [==============================] - ETA: 0s - loss: 1.1430 - accuracy: 0.5628\n",
      "Epoch 00009: val_loss improved from 1.22550 to 1.12493, saving model to /home/ys587/__Data/__whistle/__whislte_30_species/__fit_result_species/20210223_135143/STAR2006/epoch_09_valloss_1.1249_valacc_0.5659.hdf5\n",
      "2163/2163 [==============================] - 70s 32ms/step - loss: 1.1430 - accuracy: 0.5628 - val_loss: 1.1249 - val_accuracy: 0.5659\n",
      "Epoch 10/200\n",
      "2163/2163 [==============================] - ETA: 0s - loss: 1.1048 - accuracy: 0.5771\n",
      "Epoch 00010: val_loss did not improve from 1.12493\n",
      "2163/2163 [==============================] - 70s 32ms/step - loss: 1.1048 - accuracy: 0.5771 - val_loss: 1.2258 - val_accuracy: 0.5348\n",
      "Epoch 11/200\n",
      "2162/2163 [============================>.] - ETA: 0s - loss: 1.0732 - accuracy: 0.5884\n",
      "Epoch 00011: val_loss did not improve from 1.12493\n",
      "2163/2163 [==============================] - 70s 32ms/step - loss: 1.0731 - accuracy: 0.5884 - val_loss: 1.1890 - val_accuracy: 0.5515\n",
      "Epoch 12/200\n",
      "2163/2163 [==============================] - ETA: 0s - loss: 1.0379 - accuracy: 0.6020\n",
      "Epoch 00012: val_loss did not improve from 1.12493\n",
      "2163/2163 [==============================] - 70s 32ms/step - loss: 1.0379 - accuracy: 0.6020 - val_loss: 1.1474 - val_accuracy: 0.5657\n",
      "Epoch 13/200\n",
      "2163/2163 [==============================] - ETA: 0s - loss: 1.0107 - accuracy: 0.6114\n",
      "Epoch 00013: val_loss improved from 1.12493 to 1.05999, saving model to /home/ys587/__Data/__whistle/__whislte_30_species/__fit_result_species/20210223_135143/STAR2006/epoch_13_valloss_1.0600_valacc_0.5977.hdf5\n",
      "2163/2163 [==============================] - 70s 32ms/step - loss: 1.0107 - accuracy: 0.6114 - val_loss: 1.0600 - val_accuracy: 0.5977\n",
      "Epoch 14/200\n",
      "2162/2163 [============================>.] - ETA: 0s - loss: 0.9803 - accuracy: 0.6238\n",
      "Epoch 00014: val_loss did not improve from 1.05999\n",
      "2163/2163 [==============================] - 70s 32ms/step - loss: 0.9803 - accuracy: 0.6237 - val_loss: 1.0628 - val_accuracy: 0.5988\n",
      "Epoch 15/200\n",
      "2163/2163 [==============================] - ETA: 0s - loss: 0.9543 - accuracy: 0.6324\n",
      "Epoch 00015: val_loss did not improve from 1.05999\n",
      "2163/2163 [==============================] - 70s 32ms/step - loss: 0.9543 - accuracy: 0.6324 - val_loss: 1.0937 - val_accuracy: 0.5861\n",
      "Epoch 16/200\n",
      "2162/2163 [============================>.] - ETA: 0s - loss: 0.9230 - accuracy: 0.6432\n",
      "Epoch 00016: val_loss improved from 1.05999 to 0.97494, saving model to /home/ys587/__Data/__whistle/__whislte_30_species/__fit_result_species/20210223_135143/STAR2006/epoch_16_valloss_0.9749_valacc_0.6328.hdf5\n",
      "2163/2163 [==============================] - 70s 32ms/step - loss: 0.9230 - accuracy: 0.6431 - val_loss: 0.9749 - val_accuracy: 0.6328\n",
      "Epoch 17/200\n",
      "2163/2163 [==============================] - ETA: 0s - loss: 0.9021 - accuracy: 0.6484\n",
      "Epoch 00017: val_loss did not improve from 0.97494\n",
      "2163/2163 [==============================] - 70s 32ms/step - loss: 0.9021 - accuracy: 0.6484 - val_loss: 1.0566 - val_accuracy: 0.6035\n",
      "Epoch 18/200\n",
      "2163/2163 [==============================] - ETA: 0s - loss: 0.8763 - accuracy: 0.6556\n",
      "Epoch 00018: val_loss did not improve from 0.97494\n",
      "2163/2163 [==============================] - 70s 32ms/step - loss: 0.8763 - accuracy: 0.6556 - val_loss: 1.0015 - val_accuracy: 0.6240\n",
      "Epoch 19/200\n",
      "2163/2163 [==============================] - ETA: 0s - loss: 0.8509 - accuracy: 0.6660\n",
      "Epoch 00019: val_loss improved from 0.97494 to 0.97176, saving model to /home/ys587/__Data/__whistle/__whislte_30_species/__fit_result_species/20210223_135143/STAR2006/epoch_19_valloss_0.9718_valacc_0.6395.hdf5\n",
      "2163/2163 [==============================] - 70s 32ms/step - loss: 0.8509 - accuracy: 0.6660 - val_loss: 0.9718 - val_accuracy: 0.6395\n",
      "Epoch 20/200\n",
      "2163/2163 [==============================] - ETA: 0s - loss: 0.8298 - accuracy: 0.6724\n",
      "Epoch 00020: val_loss did not improve from 0.97176\n",
      "2163/2163 [==============================] - 70s 32ms/step - loss: 0.8298 - accuracy: 0.6724 - val_loss: 1.0289 - val_accuracy: 0.6233\n",
      "Epoch 21/200\n",
      "2163/2163 [==============================] - ETA: 0s - loss: 0.8089 - accuracy: 0.6781\n",
      "Epoch 00021: val_loss improved from 0.97176 to 0.94299, saving model to /home/ys587/__Data/__whistle/__whislte_30_species/__fit_result_species/20210223_135143/STAR2006/epoch_21_valloss_0.9430_valacc_0.6467.hdf5\n",
      "2163/2163 [==============================] - 70s 32ms/step - loss: 0.8089 - accuracy: 0.6781 - val_loss: 0.9430 - val_accuracy: 0.6467\n",
      "Epoch 22/200\n",
      "2162/2163 [============================>.] - ETA: 0s - loss: 0.7863 - accuracy: 0.6876\n",
      "Epoch 00022: val_loss did not improve from 0.94299\n",
      "2163/2163 [==============================] - 70s 32ms/step - loss: 0.7864 - accuracy: 0.6876 - val_loss: 0.9556 - val_accuracy: 0.6402\n",
      "Epoch 23/200\n",
      "2163/2163 [==============================] - ETA: 0s - loss: 0.7669 - accuracy: 0.6954\n",
      "Epoch 00023: val_loss did not improve from 0.94299\n",
      "2163/2163 [==============================] - 70s 32ms/step - loss: 0.7669 - accuracy: 0.6954 - val_loss: 1.0187 - val_accuracy: 0.6230\n",
      "Epoch 24/200\n",
      "2163/2163 [==============================] - ETA: 0s - loss: 0.7425 - accuracy: 0.7034\n",
      "Epoch 00024: val_loss did not improve from 0.94299\n",
      "2163/2163 [==============================] - 70s 32ms/step - loss: 0.7425 - accuracy: 0.7034 - val_loss: 1.0330 - val_accuracy: 0.6234\n",
      "Epoch 25/200\n",
      "2162/2163 [============================>.] - ETA: 0s - loss: 0.7238 - accuracy: 0.7084\n",
      "Epoch 00025: val_loss improved from 0.94299 to 0.93104, saving model to /home/ys587/__Data/__whistle/__whislte_30_species/__fit_result_species/20210223_135143/STAR2006/epoch_25_valloss_0.9310_valacc_0.6527.hdf5\n",
      "2163/2163 [==============================] - 70s 32ms/step - loss: 0.7238 - accuracy: 0.7084 - val_loss: 0.9310 - val_accuracy: 0.6527\n",
      "Epoch 26/200\n",
      "2163/2163 [==============================] - ETA: 0s - loss: 0.7021 - accuracy: 0.7173\n",
      "Epoch 00026: val_loss did not improve from 0.93104\n",
      "2163/2163 [==============================] - 70s 32ms/step - loss: 0.7021 - accuracy: 0.7173 - val_loss: 0.9824 - val_accuracy: 0.6393\n",
      "Epoch 27/200\n",
      "2162/2163 [============================>.] - ETA: 0s - loss: 0.6845 - accuracy: 0.7231\n",
      "Epoch 00027: val_loss did not improve from 0.93104\n",
      "2163/2163 [==============================] - 70s 32ms/step - loss: 0.6845 - accuracy: 0.7231 - val_loss: 1.0548 - val_accuracy: 0.6323\n",
      "Epoch 28/200\n",
      "2162/2163 [============================>.] - ETA: 0s - loss: 0.6658 - accuracy: 0.7296\n",
      "Epoch 00028: val_loss improved from 0.93104 to 0.92105, saving model to /home/ys587/__Data/__whistle/__whislte_30_species/__fit_result_species/20210223_135143/STAR2006/epoch_28_valloss_0.9210_valacc_0.6679.hdf5\n",
      "2163/2163 [==============================] - 70s 33ms/step - loss: 0.6658 - accuracy: 0.7296 - val_loss: 0.9210 - val_accuracy: 0.6679\n",
      "Epoch 29/200\n",
      "2162/2163 [============================>.] - ETA: 0s - loss: 0.6471 - accuracy: 0.7382\n",
      "Epoch 00029: val_loss did not improve from 0.92105\n",
      "2163/2163 [==============================] - 70s 32ms/step - loss: 0.6470 - accuracy: 0.7382 - val_loss: 1.0191 - val_accuracy: 0.6432\n",
      "Epoch 30/200\n",
      "2162/2163 [============================>.] - ETA: 0s - loss: 0.6310 - accuracy: 0.7445\n",
      "Epoch 00030: val_loss did not improve from 0.92105\n",
      "2163/2163 [==============================] - 70s 32ms/step - loss: 0.6309 - accuracy: 0.7446 - val_loss: 0.9340 - val_accuracy: 0.6628\n",
      "Epoch 31/200\n",
      "2163/2163 [==============================] - ETA: 0s - loss: 0.6121 - accuracy: 0.7494\n",
      "Epoch 00031: val_loss did not improve from 0.92105\n",
      "2163/2163 [==============================] - 70s 32ms/step - loss: 0.6121 - accuracy: 0.7494 - val_loss: 0.9503 - val_accuracy: 0.6611\n",
      "Epoch 32/200\n",
      "2163/2163 [==============================] - ETA: 0s - loss: 0.5917 - accuracy: 0.7572\n",
      "Epoch 00032: val_loss did not improve from 0.92105\n",
      "2163/2163 [==============================] - 70s 32ms/step - loss: 0.5917 - accuracy: 0.7572 - val_loss: 0.9439 - val_accuracy: 0.6645\n",
      "Epoch 33/200\n",
      "2163/2163 [==============================] - ETA: 0s - loss: 0.5783 - accuracy: 0.7632\n",
      "Epoch 00033: val_loss improved from 0.92105 to 0.90985, saving model to /home/ys587/__Data/__whistle/__whislte_30_species/__fit_result_species/20210223_135143/STAR2006/epoch_33_valloss_0.9099_valacc_0.6723.hdf5\n",
      "2163/2163 [==============================] - 70s 33ms/step - loss: 0.5783 - accuracy: 0.7632 - val_loss: 0.9099 - val_accuracy: 0.6723\n",
      "Epoch 34/200\n",
      "2163/2163 [==============================] - ETA: 0s - loss: 0.5631 - accuracy: 0.7679\n",
      "Epoch 00034: val_loss did not improve from 0.90985\n",
      "2163/2163 [==============================] - 70s 32ms/step - loss: 0.5631 - accuracy: 0.7679 - val_loss: 0.9589 - val_accuracy: 0.6554\n",
      "Epoch 35/200\n",
      "2163/2163 [==============================] - ETA: 0s - loss: 0.5447 - accuracy: 0.7736\n",
      "Epoch 00035: val_loss did not improve from 0.90985\n",
      "2163/2163 [==============================] - 70s 32ms/step - loss: 0.5447 - accuracy: 0.7736 - val_loss: 0.9403 - val_accuracy: 0.6738\n",
      "Epoch 36/200\n",
      "2163/2163 [==============================] - ETA: 0s - loss: 0.5340 - accuracy: 0.7791\n",
      "Epoch 00036: val_loss did not improve from 0.90985\n",
      "2163/2163 [==============================] - 70s 32ms/step - loss: 0.5340 - accuracy: 0.7791 - val_loss: 0.9610 - val_accuracy: 0.6758\n",
      "Epoch 37/200\n",
      "2162/2163 [============================>.] - ETA: 0s - loss: 0.5156 - accuracy: 0.7846\n",
      "Epoch 00037: val_loss did not improve from 0.90985\n",
      "2163/2163 [==============================] - 70s 32ms/step - loss: 0.5155 - accuracy: 0.7846 - val_loss: 1.0142 - val_accuracy: 0.6610\n",
      "Epoch 38/200\n",
      "2163/2163 [==============================] - ETA: 0s - loss: 0.5033 - accuracy: 0.7902\n",
      "Epoch 00038: val_loss did not improve from 0.90985\n",
      "2163/2163 [==============================] - 70s 32ms/step - loss: 0.5033 - accuracy: 0.7902 - val_loss: 0.9733 - val_accuracy: 0.6784\n",
      "Epoch 39/200\n",
      "2162/2163 [============================>.] - ETA: 0s - loss: 0.4838 - accuracy: 0.7975\n",
      "Epoch 00039: val_loss did not improve from 0.90985\n",
      "2163/2163 [==============================] - 70s 32ms/step - loss: 0.4839 - accuracy: 0.7975 - val_loss: 0.9471 - val_accuracy: 0.6935\n",
      "Epoch 40/200\n",
      "2163/2163 [==============================] - ETA: 0s - loss: 0.4768 - accuracy: 0.8015\n",
      "Epoch 00040: val_loss did not improve from 0.90985\n",
      "2163/2163 [==============================] - 70s 32ms/step - loss: 0.4768 - accuracy: 0.8015 - val_loss: 0.9932 - val_accuracy: 0.6786\n",
      "Epoch 41/200\n",
      "2162/2163 [============================>.] - ETA: 0s - loss: 0.4650 - accuracy: 0.8054\n",
      "Epoch 00041: val_loss did not improve from 0.90985\n",
      "2163/2163 [==============================] - 70s 32ms/step - loss: 0.4651 - accuracy: 0.8054 - val_loss: 1.0127 - val_accuracy: 0.6813\n",
      "Epoch 42/200\n",
      "2163/2163 [==============================] - ETA: 0s - loss: 0.4499 - accuracy: 0.8123\n",
      "Epoch 00042: val_loss did not improve from 0.90985\n",
      "2163/2163 [==============================] - 70s 32ms/step - loss: 0.4499 - accuracy: 0.8123 - val_loss: 0.9637 - val_accuracy: 0.6864\n",
      "Epoch 43/200\n",
      "2163/2163 [==============================] - ETA: 0s - loss: 0.4342 - accuracy: 0.8165\n",
      "Epoch 00043: val_loss did not improve from 0.90985\n",
      "2163/2163 [==============================] - 70s 32ms/step - loss: 0.4342 - accuracy: 0.8165 - val_loss: 1.0528 - val_accuracy: 0.6747\n",
      "Epoch 44/200\n",
      "2163/2163 [==============================] - ETA: 0s - loss: 0.4267 - accuracy: 0.8199\n",
      "Epoch 00044: val_loss did not improve from 0.90985\n",
      "2163/2163 [==============================] - 70s 32ms/step - loss: 0.4267 - accuracy: 0.8199 - val_loss: 0.9626 - val_accuracy: 0.6913\n",
      "Epoch 45/200\n",
      "2162/2163 [============================>.] - ETA: 0s - loss: 0.4110 - accuracy: 0.8277\n",
      "Epoch 00045: val_loss did not improve from 0.90985\n",
      "2163/2163 [==============================] - 70s 32ms/step - loss: 0.4111 - accuracy: 0.8277 - val_loss: 1.1908 - val_accuracy: 0.6516\n",
      "Epoch 46/200\n",
      "2163/2163 [==============================] - ETA: 0s - loss: 0.4022 - accuracy: 0.8321\n",
      "Epoch 00046: val_loss did not improve from 0.90985\n",
      "2163/2163 [==============================] - 70s 32ms/step - loss: 0.4022 - accuracy: 0.8321 - val_loss: 0.9270 - val_accuracy: 0.7061\n",
      "Epoch 47/200\n",
      "2163/2163 [==============================] - ETA: 0s - loss: 0.3908 - accuracy: 0.8348\n",
      "Epoch 00047: val_loss did not improve from 0.90985\n",
      "2163/2163 [==============================] - 70s 32ms/step - loss: 0.3908 - accuracy: 0.8348 - val_loss: 1.1937 - val_accuracy: 0.6553\n",
      "Epoch 48/200\n",
      "2163/2163 [==============================] - ETA: 0s - loss: 0.3794 - accuracy: 0.8393\n",
      "Epoch 00048: val_loss did not improve from 0.90985\n",
      "2163/2163 [==============================] - 70s 32ms/step - loss: 0.3794 - accuracy: 0.8393 - val_loss: 1.0535 - val_accuracy: 0.6726\n",
      "Epoch 49/200\n",
      "2163/2163 [==============================] - ETA: 0s - loss: 0.3674 - accuracy: 0.8448\n",
      "Epoch 00049: val_loss did not improve from 0.90985\n",
      "2163/2163 [==============================] - 70s 32ms/step - loss: 0.3674 - accuracy: 0.8448 - val_loss: 1.0616 - val_accuracy: 0.6690\n",
      "Epoch 50/200\n",
      "2163/2163 [==============================] - ETA: 0s - loss: 0.3607 - accuracy: 0.8461\n",
      "Epoch 00050: val_loss did not improve from 0.90985\n",
      "2163/2163 [==============================] - 70s 32ms/step - loss: 0.3607 - accuracy: 0.8461 - val_loss: 1.0386 - val_accuracy: 0.7015\n",
      "Epoch 51/200\n",
      "2163/2163 [==============================] - ETA: 0s - loss: 0.3490 - accuracy: 0.8503\n",
      "Epoch 00051: val_loss did not improve from 0.90985\n",
      "2163/2163 [==============================] - 70s 32ms/step - loss: 0.3490 - accuracy: 0.8503 - val_loss: 1.0599 - val_accuracy: 0.6947\n",
      "Epoch 52/200\n",
      "2162/2163 [============================>.] - ETA: 0s - loss: 0.3391 - accuracy: 0.8555\n",
      "Epoch 00052: val_loss did not improve from 0.90985\n",
      "2163/2163 [==============================] - 70s 32ms/step - loss: 0.3391 - accuracy: 0.8554 - val_loss: 0.9886 - val_accuracy: 0.7025\n",
      "Epoch 53/200\n",
      "2163/2163 [==============================] - ETA: 0s - loss: 0.3290 - accuracy: 0.8582\n",
      "Epoch 00053: val_loss did not improve from 0.90985\n",
      "2163/2163 [==============================] - 70s 32ms/step - loss: 0.3290 - accuracy: 0.8582 - val_loss: 1.0275 - val_accuracy: 0.7031\n",
      "Epoch 00053: early stopping\n"
     ]
    }
   ],
   "source": [
    "model = model_cnn14_attention_multi(dim_time, dim_freq, num_species, model_type='feature_level_attention', conv_dim=conv_dim, pool_size=pool_size, pool_stride=pool_stride, hidden_units=hidden_units, l2_regu=l2_regu, drop_rate=drop_rate)\n",
    "loss = CategoricalCrossentropy()\n",
    "model.compile(optimizer=tf.keras.optimizers.Adam(learning_rate=learning_rate_fn), loss=loss, metrics=['accuracy'])\n",
    "\n",
    "# With classes\n",
    "# history = model.fit(fea_train, to_categorical(label_train), class_weight=class_weights, validation_split=0.3, batch_size=batch_size, epochs=num_epoch, callbacks=[EarlyStopping(patience=num_patience), ModelCheckpoint(filepath=os.path.join(fit_result_path, '{epoch:02d}-{val_loss:.4f}.hdf5'), verbose=1, monitor=\"val_loss\", save_best_only=True)])\n",
    "# history = model.fit(train_generator, validation_data=validate_generator, class_weight=class_weights, epochs=num_epoch, callbacks=[EarlyStopping(patience=num_patience, monitor='val_loss', mode='min', verbose=1), TensorBoard(log_dir=fit_result_path1), ModelCheckpoint(filepath=os.path.join(fit_result_path1, '{epoch:02d}-{val_loss:.4f}.hdf5'), verbose=1, monitor=\"val_loss\", save_best_only=True)])\n",
    "history = model.fit(train_generator, validation_data=validate_generator, class_weight=class_weights, epochs=num_epoch, callbacks=[EarlyStopping(patience=num_patience, monitor='val_loss', mode='min', verbose=1), TensorBoard(log_dir=fit_result_path2), ModelCheckpoint(filepath=os.path.join(fit_result_path2, 'epoch_{epoch:02d}_valloss_{val_loss:.4f}_valacc_{val_accuracy:.4f}.hdf5' ), verbose=1, monitor=\"val_loss\", save_best_only=True)])"
   ]
  },
  {
   "cell_type": "code",
   "execution_count": 123,
   "metadata": {},
   "outputs": [
    {
     "name": "stdout",
     "output_type": "stream",
     "text": [
      "Best model:0.9099\n",
      "/home/ys587/__Data/__whistle/__whislte_30_species/__fit_result_species/20210223_135143/STAR2006/epoch_33_valloss_0.9099_valacc_0.6723.hdf5\n"
     ]
    }
   ],
   "source": [
    "# fit_result_path1 = '/home/ys587/__Data/__whistle/__whislte_30_species/__fit_result_species/20210210_224527'\n",
    "the_best_model, _ = find_best_model(fit_result_path2, purge=False)"
   ]
  },
  {
   "cell_type": "code",
   "execution_count": 124,
   "metadata": {
    "scrolled": true
   },
   "outputs": [
    {
     "name": "stdout",
     "output_type": "stream",
     "text": [
      "Model: \"model_3\"\n",
      "__________________________________________________________________________________________________\n",
      "Layer (type)                    Output Shape         Param #     Connected to                     \n",
      "==================================================================================================\n",
      "input (InputLayer)              [(None, 100, 128, 1) 0                                            \n",
      "__________________________________________________________________________________________________\n",
      "conv2d_36 (Conv2D)              (None, 100, 128, 16) 160         input[0][0]                      \n",
      "__________________________________________________________________________________________________\n",
      "batch_normalization_48 (BatchNo (None, 100, 128, 16) 64          conv2d_36[0][0]                  \n",
      "__________________________________________________________________________________________________\n",
      "activation_48 (Activation)      (None, 100, 128, 16) 0           batch_normalization_48[0][0]     \n",
      "__________________________________________________________________________________________________\n",
      "conv2d_37 (Conv2D)              (None, 100, 128, 16) 2320        activation_48[0][0]              \n",
      "__________________________________________________________________________________________________\n",
      "batch_normalization_49 (BatchNo (None, 100, 128, 16) 64          conv2d_37[0][0]                  \n",
      "__________________________________________________________________________________________________\n",
      "activation_49 (Activation)      (None, 100, 128, 16) 0           batch_normalization_49[0][0]     \n",
      "__________________________________________________________________________________________________\n",
      "max_pooling2d_18 (MaxPooling2D) (None, 50, 64, 16)   0           activation_49[0][0]              \n",
      "__________________________________________________________________________________________________\n",
      "dropout_30 (Dropout)            (None, 50, 64, 16)   0           max_pooling2d_18[0][0]           \n",
      "__________________________________________________________________________________________________\n",
      "conv2d_38 (Conv2D)              (None, 50, 64, 32)   4640        dropout_30[0][0]                 \n",
      "__________________________________________________________________________________________________\n",
      "batch_normalization_50 (BatchNo (None, 50, 64, 32)   128         conv2d_38[0][0]                  \n",
      "__________________________________________________________________________________________________\n",
      "activation_50 (Activation)      (None, 50, 64, 32)   0           batch_normalization_50[0][0]     \n",
      "__________________________________________________________________________________________________\n",
      "conv2d_39 (Conv2D)              (None, 50, 64, 32)   9248        activation_50[0][0]              \n",
      "__________________________________________________________________________________________________\n",
      "batch_normalization_51 (BatchNo (None, 50, 64, 32)   128         conv2d_39[0][0]                  \n",
      "__________________________________________________________________________________________________\n",
      "activation_51 (Activation)      (None, 50, 64, 32)   0           batch_normalization_51[0][0]     \n",
      "__________________________________________________________________________________________________\n",
      "max_pooling2d_19 (MaxPooling2D) (None, 25, 32, 32)   0           activation_51[0][0]              \n",
      "__________________________________________________________________________________________________\n",
      "dropout_31 (Dropout)            (None, 25, 32, 32)   0           max_pooling2d_19[0][0]           \n",
      "__________________________________________________________________________________________________\n",
      "conv2d_40 (Conv2D)              (None, 25, 32, 64)   18496       dropout_31[0][0]                 \n",
      "__________________________________________________________________________________________________\n",
      "batch_normalization_52 (BatchNo (None, 25, 32, 64)   256         conv2d_40[0][0]                  \n",
      "__________________________________________________________________________________________________\n",
      "activation_52 (Activation)      (None, 25, 32, 64)   0           batch_normalization_52[0][0]     \n",
      "__________________________________________________________________________________________________\n",
      "conv2d_41 (Conv2D)              (None, 25, 32, 64)   36928       activation_52[0][0]              \n",
      "__________________________________________________________________________________________________\n",
      "batch_normalization_53 (BatchNo (None, 25, 32, 64)   256         conv2d_41[0][0]                  \n",
      "__________________________________________________________________________________________________\n",
      "activation_53 (Activation)      (None, 25, 32, 64)   0           batch_normalization_53[0][0]     \n",
      "__________________________________________________________________________________________________\n",
      "max_pooling2d_20 (MaxPooling2D) (None, 13, 16, 64)   0           activation_53[0][0]              \n",
      "__________________________________________________________________________________________________\n",
      "dropout_32 (Dropout)            (None, 13, 16, 64)   0           max_pooling2d_20[0][0]           \n",
      "__________________________________________________________________________________________________\n",
      "conv2d_42 (Conv2D)              (None, 13, 16, 128)  73856       dropout_32[0][0]                 \n",
      "__________________________________________________________________________________________________\n",
      "batch_normalization_54 (BatchNo (None, 13, 16, 128)  512         conv2d_42[0][0]                  \n",
      "__________________________________________________________________________________________________\n",
      "activation_54 (Activation)      (None, 13, 16, 128)  0           batch_normalization_54[0][0]     \n",
      "__________________________________________________________________________________________________\n",
      "conv2d_43 (Conv2D)              (None, 13, 16, 128)  147584      activation_54[0][0]              \n",
      "__________________________________________________________________________________________________\n",
      "batch_normalization_55 (BatchNo (None, 13, 16, 128)  512         conv2d_43[0][0]                  \n",
      "__________________________________________________________________________________________________\n",
      "activation_55 (Activation)      (None, 13, 16, 128)  0           batch_normalization_55[0][0]     \n",
      "__________________________________________________________________________________________________\n",
      "max_pooling2d_21 (MaxPooling2D) (None, 7, 8, 128)    0           activation_55[0][0]              \n",
      "__________________________________________________________________________________________________\n",
      "dropout_33 (Dropout)            (None, 7, 8, 128)    0           max_pooling2d_21[0][0]           \n",
      "__________________________________________________________________________________________________\n",
      "conv2d_44 (Conv2D)              (None, 7, 8, 256)    295168      dropout_33[0][0]                 \n",
      "__________________________________________________________________________________________________\n",
      "batch_normalization_56 (BatchNo (None, 7, 8, 256)    1024        conv2d_44[0][0]                  \n",
      "__________________________________________________________________________________________________\n",
      "activation_56 (Activation)      (None, 7, 8, 256)    0           batch_normalization_56[0][0]     \n",
      "__________________________________________________________________________________________________\n",
      "conv2d_45 (Conv2D)              (None, 7, 8, 256)    590080      activation_56[0][0]              \n",
      "__________________________________________________________________________________________________\n",
      "batch_normalization_57 (BatchNo (None, 7, 8, 256)    1024        conv2d_45[0][0]                  \n",
      "__________________________________________________________________________________________________\n",
      "activation_57 (Activation)      (None, 7, 8, 256)    0           batch_normalization_57[0][0]     \n",
      "__________________________________________________________________________________________________\n",
      "max_pooling2d_22 (MaxPooling2D) (None, 7, 4, 256)    0           activation_57[0][0]              \n",
      "__________________________________________________________________________________________________\n",
      "dropout_34 (Dropout)            (None, 7, 4, 256)    0           max_pooling2d_22[0][0]           \n",
      "__________________________________________________________________________________________________\n",
      "conv2d_46 (Conv2D)              (None, 7, 4, 512)    1180160     dropout_34[0][0]                 \n",
      "__________________________________________________________________________________________________\n",
      "batch_normalization_58 (BatchNo (None, 7, 4, 512)    2048        conv2d_46[0][0]                  \n",
      "__________________________________________________________________________________________________\n",
      "activation_58 (Activation)      (None, 7, 4, 512)    0           batch_normalization_58[0][0]     \n",
      "__________________________________________________________________________________________________\n",
      "conv2d_47 (Conv2D)              (None, 7, 4, 512)    2359808     activation_58[0][0]              \n",
      "__________________________________________________________________________________________________\n",
      "batch_normalization_59 (BatchNo (None, 7, 4, 512)    2048        conv2d_47[0][0]                  \n",
      "__________________________________________________________________________________________________\n",
      "activation_59 (Activation)      (None, 7, 4, 512)    0           batch_normalization_59[0][0]     \n",
      "__________________________________________________________________________________________________\n",
      "max_pooling2d_23 (MaxPooling2D) (None, 7, 2, 512)    0           activation_59[0][0]              \n",
      "__________________________________________________________________________________________________\n",
      "dropout_35 (Dropout)            (None, 7, 2, 512)    0           max_pooling2d_23[0][0]           \n",
      "__________________________________________________________________________________________________\n",
      "reshape_3 (Reshape)             (None, 7, 1024)      0           dropout_35[0][0]                 \n",
      "__________________________________________________________________________________________________\n",
      "dense_18 (Dense)                (None, 7, 512)       524800      reshape_3[0][0]                  \n",
      "__________________________________________________________________________________________________\n",
      "batch_normalization_60 (BatchNo (None, 7, 512)       2048        dense_18[0][0]                   \n",
      "__________________________________________________________________________________________________\n",
      "activation_60 (Activation)      (None, 7, 512)       0           batch_normalization_60[0][0]     \n",
      "__________________________________________________________________________________________________\n",
      "dropout_36 (Dropout)            (None, 7, 512)       0           activation_60[0][0]              \n",
      "__________________________________________________________________________________________________\n",
      "dense_19 (Dense)                (None, 7, 512)       262656      dropout_36[0][0]                 \n",
      "__________________________________________________________________________________________________\n",
      "batch_normalization_61 (BatchNo (None, 7, 512)       2048        dense_19[0][0]                   \n",
      "__________________________________________________________________________________________________\n",
      "activation_61 (Activation)      (None, 7, 512)       0           batch_normalization_61[0][0]     \n",
      "__________________________________________________________________________________________________\n",
      "dropout_37 (Dropout)            (None, 7, 512)       0           activation_61[0][0]              \n",
      "__________________________________________________________________________________________________\n",
      "dense_20 (Dense)                (None, 7, 512)       262656      dropout_37[0][0]                 \n",
      "__________________________________________________________________________________________________\n",
      "batch_normalization_62 (BatchNo (None, 7, 512)       2048        dense_20[0][0]                   \n",
      "__________________________________________________________________________________________________\n",
      "activation_62 (Activation)      (None, 7, 512)       0           batch_normalization_62[0][0]     \n",
      "__________________________________________________________________________________________________\n",
      "dropout_38 (Dropout)            (None, 7, 512)       0           activation_62[0][0]              \n",
      "__________________________________________________________________________________________________\n",
      "dense_21 (Dense)                (None, 7, 512)       262656      dropout_38[0][0]                 \n",
      "__________________________________________________________________________________________________\n",
      "dense_22 (Dense)                (None, 7, 512)       262656      dropout_38[0][0]                 \n",
      "__________________________________________________________________________________________________\n",
      "lambda_3 (Lambda)               (None, 512)          0           dense_21[0][0]                   \n",
      "                                                                 dense_22[0][0]                   \n",
      "__________________________________________________________________________________________________\n",
      "batch_normalization_63 (BatchNo (None, 512)          2048        lambda_3[0][0]                   \n",
      "__________________________________________________________________________________________________\n",
      "activation_63 (Activation)      (None, 512)          0           batch_normalization_63[0][0]     \n",
      "__________________________________________________________________________________________________\n",
      "dropout_39 (Dropout)            (None, 512)          0           activation_63[0][0]              \n",
      "__________________________________________________________________________________________________\n",
      "dense_23 (Dense)                (None, 8)            4104        dropout_39[0][0]                 \n",
      "==================================================================================================\n",
      "Total params: 6,314,232\n",
      "Trainable params: 6,306,104\n",
      "Non-trainable params: 8,128\n",
      "__________________________________________________________________________________________________\n"
     ]
    }
   ],
   "source": [
    "model = load_model(the_best_model)\n",
    "model.summary()"
   ]
  },
  {
   "cell_type": "code",
   "execution_count": 125,
   "metadata": {},
   "outputs": [],
   "source": [
    "label_pred = model.predict(fea_test)\n",
    "# label_pred = model.predict(test_generator)"
   ]
  },
  {
   "cell_type": "code",
   "execution_count": 126,
   "metadata": {},
   "outputs": [],
   "source": [
    "np.set_printoptions(linewidth=200, precision=2, suppress=True)"
   ]
  },
  {
   "cell_type": "code",
   "execution_count": 127,
   "metadata": {},
   "outputs": [
    {
     "name": "stdout",
     "output_type": "stream",
     "text": [
      "Confusion matrix:\n",
      "['BD', 'CD', 'STR', 'SPT', 'SPIN', 'PLT', 'RT', 'FKW']\n",
      "\n",
      "[[  0   0   0   0   0   0   0   0]\n",
      " [ 13   5   1   0   1   4   0   0]\n",
      " [ 89  95 490  59   8   5   0   4]\n",
      " [123   3   7   2   6   0   0   6]\n",
      " [  1   0   0   0   0   0   0   1]\n",
      " [226  34  68   6  37 190  35  36]\n",
      " [ 12   0  11   0   4   1  14   4]\n",
      " [ 20   5 107   2  29  46  34 660]]\n",
      "\n",
      "[[0.   0.   0.   0.   0.   0.   0.   0.  ]\n",
      " [0.54 0.21 0.04 0.   0.04 0.17 0.   0.  ]\n",
      " [0.12 0.13 0.65 0.08 0.01 0.01 0.   0.01]\n",
      " [0.84 0.02 0.05 0.01 0.04 0.   0.   0.04]\n",
      " [0.5  0.   0.   0.   0.   0.   0.   0.5 ]\n",
      " [0.36 0.05 0.11 0.01 0.06 0.3  0.06 0.06]\n",
      " [0.26 0.   0.24 0.   0.09 0.02 0.3  0.09]\n",
      " [0.02 0.01 0.12 0.   0.03 0.05 0.04 0.73]]\n"
     ]
    }
   ],
   "source": [
    "print(\"Confusion matrix:\")\n",
    "cm = confusion_matrix(label_test, np.argmax(label_pred, axis=1), labels=species_id)\n",
    "\n",
    "print(species_list)\n",
    "print('')\n",
    "print(cm)\n",
    "print('')\n",
    "\n",
    "cm2 = cm*1.0\n",
    "for ii in range(cm.shape[0]):\n",
    "    cm_row = cm[ii, :]*1.0\n",
    "\n",
    "    cm_row_sum = cm_row.sum()\n",
    "    if cm_row_sum != 0:\n",
    "        cm2[ii, :] = cm_row / cm_row_sum\n",
    "    else:\n",
    "        cm2[ii, :] = np.zeros(cm.shape[1])\n",
    "\n",
    "print(cm2)"
   ]
  },
  {
   "cell_type": "code",
   "execution_count": 128,
   "metadata": {},
   "outputs": [],
   "source": [
    "from sklearn.metrics import plot_confusion_matrix\n",
    "from sklearn.metrics._plot.confusion_matrix import ConfusionMatrixDisplay\n",
    "disp = ConfusionMatrixDisplay(confusion_matrix=cm, display_labels=species_list)\n",
    "disp2 = ConfusionMatrixDisplay(confusion_matrix=cm2, display_labels=species_list)"
   ]
  },
  {
   "cell_type": "code",
   "execution_count": 129,
   "metadata": {},
   "outputs": [
    {
     "data": {
      "text/plain": [
       "<sklearn.metrics._plot.confusion_matrix.ConfusionMatrixDisplay at 0x7f8b433619a0>"
      ]
     },
     "execution_count": 129,
     "metadata": {},
     "output_type": "execute_result"
    },
    {
     "data": {
      "image/png": "[encoded data removed]",
      "text/plain": [
       "<Figure size 1080x1080 with 2 Axes>"
      ]
     },
     "metadata": {
      "needs_background": "light"
     },
     "output_type": "display_data"
    }
   ],
   "source": [
    "fig, ax = plt.subplots(figsize=[15, 15])\n",
    "disp.plot(include_values=True,\n",
    "                     cmap='viridis', ax=ax, xticks_rotation='horizontal',\n",
    "                     values_format=None, colorbar=True)\n"
   ]
  },
  {
   "cell_type": "code",
   "execution_count": 130,
   "metadata": {},
   "outputs": [
    {
     "data": {
      "text/plain": [
       "<sklearn.metrics._plot.confusion_matrix.ConfusionMatrixDisplay at 0x7f8b43361940>"
      ]
     },
     "execution_count": 130,
     "metadata": {},
     "output_type": "execute_result"
    },
    {
     "data": {
      "image/png": "[encoded data removed]",
      "text/plain": [
       "<Figure size 1080x1080 with 2 Axes>"
      ]
     },
     "metadata": {
      "needs_background": "light"
     },
     "output_type": "display_data"
    }
   ],
   "source": [
    "fig, ax = plt.subplots(figsize=[15, 15])\n",
    "disp2.plot(include_values=True,\n",
    "                     cmap='viridis', ax=ax, xticks_rotation='horizontal',\n",
    "                     values_format='.2f', colorbar=True)"
   ]
  },
  {
   "cell_type": "markdown",
   "metadata": {},
   "source": [
    "## HICEAS2002"
   ]
  },
  {
   "cell_type": "code",
   "execution_count": 131,
   "metadata": {},
   "outputs": [
    {
     "name": "stdout",
     "output_type": "stream",
     "text": [
      "HICEAS2002\n"
     ]
    }
   ],
   "source": [
    "ee = deployment[3]\n",
    "print(ee)"
   ]
  },
  {
   "cell_type": "code",
   "execution_count": 132,
   "metadata": {},
   "outputs": [],
   "source": [
    "# Training data\n",
    "fea_temp = np.load(os.path.join(feature_path, 'train_oswald_no_'+ee+'.npz'))\n",
    "fea_train = fea_temp['fea_train']\n",
    "label_train_list = fea_temp['label_train']\n",
    "del fea_temp"
   ]
  },
  {
   "cell_type": "code",
   "execution_count": 133,
   "metadata": {},
   "outputs": [],
   "source": [
    "label_train = np.zeros(len(label_train_list))\n",
    "for ii in range(len(label_train_list)):\n",
    "    label_train[ii] = species_dict[label_train_list[ii]]"
   ]
  },
  {
   "cell_type": "code",
   "execution_count": 134,
   "metadata": {},
   "outputs": [],
   "source": [
    "# Testing data\n",
    "fea_temp = np.load(os.path.join(feature_path, 'oswald_'+ee+'_orig.npz'))\n",
    "fea_test = fea_temp['feas_orig']\n",
    "label_test_list = fea_temp['labels_orig']\n",
    "\n",
    "fea_test = fea_test[:,:100,:]\n",
    "label_test = np.zeros(len(label_test_list))\n",
    "for ii in range(len(label_test_list)):\n",
    "    label_test[ii] = species_dict[label_test_list[ii]]"
   ]
  },
  {
   "cell_type": "code",
   "execution_count": 135,
   "metadata": {},
   "outputs": [],
   "source": [
    "fea_train = fea_train[:,:100,:]"
   ]
  },
  {
   "cell_type": "code",
   "execution_count": 136,
   "metadata": {},
   "outputs": [],
   "source": [
    "label_train = np.zeros(len(label_train_list))\n",
    "for ii in range(len(label_train_list)):\n",
    "    label_train[ii] = species_dict[label_train_list[ii]]"
   ]
  },
  {
   "cell_type": "code",
   "execution_count": 137,
   "metadata": {
    "scrolled": true
   },
   "outputs": [
    {
     "data": {
      "text/plain": [
       "Counter({'BD': 11220,\n",
       "         'CD': 28440,\n",
       "         'PLT': 5730,\n",
       "         'RT': 3372,\n",
       "         'SPIN': 5694,\n",
       "         'SPT': 11316,\n",
       "         'STR': 13896,\n",
       "         'FKW': 19080})"
      ]
     },
     "execution_count": 137,
     "metadata": {},
     "output_type": "execute_result"
    }
   ],
   "source": [
    "Counter(label_train_list)"
   ]
  },
  {
   "cell_type": "code",
   "execution_count": 138,
   "metadata": {},
   "outputs": [
    {
     "data": {
      "text/plain": [
       "Counter({0.0: 41, 5.0: 1052, 6.0: 749, 4.0: 86, 3.0: 385, 2.0: 216})"
      ]
     },
     "execution_count": 138,
     "metadata": {},
     "output_type": "execute_result"
    }
   ],
   "source": [
    "Counter(label_test.tolist())"
   ]
  },
  {
   "cell_type": "code",
   "execution_count": 139,
   "metadata": {},
   "outputs": [],
   "source": [
    "fit_result_path2 = os.path.join(fit_result_path1, ee)\n",
    "if not os.path.exists(fit_result_path2):\n",
    "    makedirs(fit_result_path2)"
   ]
  },
  {
   "cell_type": "code",
   "execution_count": 140,
   "metadata": {},
   "outputs": [
    {
     "name": "stdout",
     "output_type": "stream",
     "text": [
      "feature train shape: (98748, 100, 128)\n",
      "feature test shape: (2529, 100, 128)\n",
      "label train shape: (98748,)\n",
      "label test shape: (2529,)\n",
      "dim_time: 100\n",
      "dim_freq: 128\n"
     ]
    }
   ],
   "source": [
    "print('feature train shape: '+str(fea_train.shape))\n",
    "print('feature test shape: '+str(fea_test.shape))\n",
    "print('label train shape: '+str(label_train.shape))\n",
    "print('label test shape: '+str(label_test.shape))\n",
    "\n",
    "dim_time = fea_train.shape[1]\n",
    "dim_freq = fea_train.shape[2]\n",
    "print('dim_time: '+str(dim_time))\n",
    "print('dim_freq: '+str(dim_freq))"
   ]
  },
  {
   "cell_type": "code",
   "execution_count": 141,
   "metadata": {},
   "outputs": [],
   "source": [
    "# shuffle features & labels\n",
    "fea_train, label_train = shuffle(fea_train, label_train, random_state=0)\n",
    "fea_test, label_test = shuffle(fea_test, label_test, random_state=0)"
   ]
  },
  {
   "cell_type": "code",
   "execution_count": 142,
   "metadata": {},
   "outputs": [],
   "source": [
    "# class weight\n",
    "weights = compute_class_weight(class_weight='balanced', classes=np.unique(label_train), y=label_train)\n",
    "\n",
    "class_weights = dict()\n",
    "for ii in range(num_species):\n",
    "    class_weights[ii] = weights[ii]"
   ]
  },
  {
   "cell_type": "code",
   "execution_count": 143,
   "metadata": {},
   "outputs": [],
   "source": [
    "fea_train = np.expand_dims(fea_train, axis=3)\n",
    "fea_test = np.expand_dims(fea_test, axis=3)"
   ]
  },
  {
   "cell_type": "code",
   "execution_count": 144,
   "metadata": {},
   "outputs": [],
   "source": [
    "fea_train, fea_validate, label_train, label_validate = train_test_split(fea_train, label_train, test_size=0.30, random_state=42)\n",
    "\n",
    "train_generator = DataGenerator(fea_train, label_train, batch_size=batch_size, num_classes=num_species)\n",
    "del fea_train\n",
    "validate_generator = DataGenerator(fea_validate, label_validate, batch_size=batch_size, num_classes=num_species)\n",
    "del fea_validate\n",
    "\n",
    "# test_generator = DataGenerator(fea_test, label_test, batch_size=batch_size, num_classes=num_species)\n"
   ]
  },
  {
   "cell_type": "markdown",
   "metadata": {},
   "source": [
    "### Training the model"
   ]
  },
  {
   "cell_type": "code",
   "execution_count": null,
   "metadata": {
    "scrolled": true
   },
   "outputs": [
    {
     "name": "stdout",
     "output_type": "stream",
     "text": [
      "Epoch 1/200\n",
      "   2/2160 [..............................] - ETA: 5:32 - loss: 2.8608 - accuracy: 0.1094WARNING:tensorflow:Method (on_train_batch_end) is slow compared to the batch update (0.140735). Check your callbacks.\n",
      "2160/2160 [==============================] - ETA: 0s - loss: 2.0648 - accuracy: 0.1372\n",
      "Epoch 00001: val_loss improved from inf to 2.13320, saving model to /home/ys587/__Data/__whistle/__whislte_30_species/__fit_result_species/20210223_135143/HICEAS2002/epoch_01_valloss_2.1332_valacc_0.0670.hdf5\n",
      "2160/2160 [==============================] - 71s 33ms/step - loss: 2.0648 - accuracy: 0.1372 - val_loss: 2.1332 - val_accuracy: 0.0670\n",
      "Epoch 2/200\n",
      "2159/2160 [============================>.] - ETA: 0s - loss: 1.6969 - accuracy: 0.3413\n",
      "Epoch 00002: val_loss improved from 2.13320 to 1.51775, saving model to /home/ys587/__Data/__whistle/__whislte_30_species/__fit_result_species/20210223_135143/HICEAS2002/epoch_02_valloss_1.5177_valacc_0.3960.hdf5\n",
      "2160/2160 [==============================] - 70s 32ms/step - loss: 1.6966 - accuracy: 0.3413 - val_loss: 1.5177 - val_accuracy: 0.3960\n",
      "Epoch 3/200\n",
      "2159/2160 [============================>.] - ETA: 0s - loss: 1.4855 - accuracy: 0.4163\n",
      "Epoch 00003: val_loss improved from 1.51775 to 1.44128, saving model to /home/ys587/__Data/__whistle/__whislte_30_species/__fit_result_species/20210223_135143/HICEAS2002/epoch_03_valloss_1.4413_valacc_0.4221.hdf5\n",
      "2160/2160 [==============================] - 70s 32ms/step - loss: 1.4856 - accuracy: 0.4163 - val_loss: 1.4413 - val_accuracy: 0.4221\n",
      "Epoch 4/200\n",
      "2159/2160 [============================>.] - ETA: 0s - loss: 1.3785 - accuracy: 0.4571\n",
      "Epoch 00004: val_loss improved from 1.44128 to 1.33478, saving model to /home/ys587/__Data/__whistle/__whislte_30_species/__fit_result_species/20210223_135143/HICEAS2002/epoch_04_valloss_1.3348_valacc_0.4629.hdf5\n",
      "2160/2160 [==============================] - 70s 32ms/step - loss: 1.3783 - accuracy: 0.4571 - val_loss: 1.3348 - val_accuracy: 0.4629\n",
      "Epoch 5/200\n",
      "2159/2160 [============================>.] - ETA: 0s - loss: 1.2897 - accuracy: 0.4982\n",
      "Epoch 00005: val_loss improved from 1.33478 to 1.24311, saving model to /home/ys587/__Data/__whistle/__whislte_30_species/__fit_result_species/20210223_135143/HICEAS2002/epoch_05_valloss_1.2431_valacc_0.5194.hdf5\n",
      "2160/2160 [==============================] - 70s 32ms/step - loss: 1.2897 - accuracy: 0.4982 - val_loss: 1.2431 - val_accuracy: 0.5194\n",
      "Epoch 6/200\n",
      "2159/2160 [============================>.] - ETA: 0s - loss: 1.2213 - accuracy: 0.5237\n",
      "Epoch 00006: val_loss improved from 1.24311 to 1.22158, saving model to /home/ys587/__Data/__whistle/__whislte_30_species/__fit_result_species/20210223_135143/HICEAS2002/epoch_06_valloss_1.2216_valacc_0.5198.hdf5\n",
      "2160/2160 [==============================] - 70s 32ms/step - loss: 1.2214 - accuracy: 0.5237 - val_loss: 1.2216 - val_accuracy: 0.5198\n",
      "Epoch 7/200\n",
      "2159/2160 [============================>.] - ETA: 0s - loss: 1.1705 - accuracy: 0.5438\n",
      "Epoch 00007: val_loss did not improve from 1.22158\n",
      "2160/2160 [==============================] - 70s 32ms/step - loss: 1.1705 - accuracy: 0.5438 - val_loss: 1.2513 - val_accuracy: 0.5115\n",
      "Epoch 8/200\n",
      "2160/2160 [==============================] - ETA: 0s - loss: 1.1225 - accuracy: 0.5589\n",
      "Epoch 00008: val_loss did not improve from 1.22158\n",
      "2160/2160 [==============================] - 70s 32ms/step - loss: 1.1225 - accuracy: 0.5589 - val_loss: 1.3060 - val_accuracy: 0.5447\n",
      "Epoch 9/200\n",
      "2159/2160 [============================>.] - ETA: 0s - loss: 1.0783 - accuracy: 0.5773\n",
      "Epoch 00009: val_loss improved from 1.22158 to 1.07271, saving model to /home/ys587/__Data/__whistle/__whislte_30_species/__fit_result_species/20210223_135143/HICEAS2002/epoch_09_valloss_1.0727_valacc_0.5780.hdf5\n",
      "2160/2160 [==============================] - 70s 32ms/step - loss: 1.0785 - accuracy: 0.5773 - val_loss: 1.0727 - val_accuracy: 0.5780\n",
      "Epoch 10/200\n",
      "2159/2160 [============================>.] - ETA: 0s - loss: 1.0433 - accuracy: 0.5891\n",
      "Epoch 00010: val_loss improved from 1.07271 to 1.00888, saving model to /home/ys587/__Data/__whistle/__whislte_30_species/__fit_result_species/20210223_135143/HICEAS2002/epoch_10_valloss_1.0089_valacc_0.6146.hdf5\n",
      "2160/2160 [==============================] - 70s 32ms/step - loss: 1.0432 - accuracy: 0.5891 - val_loss: 1.0089 - val_accuracy: 0.6146\n",
      "Epoch 11/200\n",
      "2160/2160 [==============================] - ETA: 0s - loss: 1.0031 - accuracy: 0.6014\n",
      "Epoch 00011: val_loss did not improve from 1.00888\n",
      "2160/2160 [==============================] - 70s 32ms/step - loss: 1.0031 - accuracy: 0.6014 - val_loss: 1.0558 - val_accuracy: 0.5834\n",
      "Epoch 12/200\n",
      "2159/2160 [============================>.] - ETA: 0s - loss: 0.9671 - accuracy: 0.6110\n",
      "Epoch 00012: val_loss did not improve from 1.00888\n",
      "2160/2160 [==============================] - 70s 32ms/step - loss: 0.9671 - accuracy: 0.6110 - val_loss: 1.0769 - val_accuracy: 0.5892\n",
      "Epoch 13/200\n",
      "2159/2160 [============================>.] - ETA: 0s - loss: 0.9412 - accuracy: 0.6229\n",
      "Epoch 00013: val_loss did not improve from 1.00888\n",
      "2160/2160 [==============================] - 70s 32ms/step - loss: 0.9412 - accuracy: 0.6229 - val_loss: 1.0724 - val_accuracy: 0.5857\n",
      "Epoch 14/200\n",
      "2159/2160 [============================>.] - ETA: 0s - loss: 0.9108 - accuracy: 0.6325\n",
      "Epoch 00014: val_loss did not improve from 1.00888\n",
      "2160/2160 [==============================] - 70s 32ms/step - loss: 0.9109 - accuracy: 0.6324 - val_loss: 1.0275 - val_accuracy: 0.6065\n",
      "Epoch 15/200\n",
      "2159/2160 [============================>.] - ETA: 0s - loss: 0.8805 - accuracy: 0.6415\n",
      "Epoch 00015: val_loss improved from 1.00888 to 0.95442, saving model to /home/ys587/__Data/__whistle/__whislte_30_species/__fit_result_species/20210223_135143/HICEAS2002/epoch_15_valloss_0.9544_valacc_0.6293.hdf5\n",
      "2160/2160 [==============================] - 70s 32ms/step - loss: 0.8808 - accuracy: 0.6415 - val_loss: 0.9544 - val_accuracy: 0.6293\n",
      "Epoch 16/200\n",
      "2159/2160 [============================>.] - ETA: 0s - loss: 0.8597 - accuracy: 0.6491\n",
      "Epoch 00016: val_loss did not improve from 0.95442\n",
      "2160/2160 [==============================] - 70s 32ms/step - loss: 0.8598 - accuracy: 0.6490 - val_loss: 1.0836 - val_accuracy: 0.5843\n",
      "Epoch 17/200\n",
      "2159/2160 [============================>.] - ETA: 0s - loss: 0.8313 - accuracy: 0.6620\n",
      "Epoch 00017: val_loss did not improve from 0.95442\n",
      "2160/2160 [==============================] - 70s 32ms/step - loss: 0.8313 - accuracy: 0.6620 - val_loss: 1.0193 - val_accuracy: 0.6167\n",
      "Epoch 18/200\n",
      "2159/2160 [============================>.] - ETA: 0s - loss: 0.8040 - accuracy: 0.6698\n",
      "Epoch 00018: val_loss improved from 0.95442 to 0.89502, saving model to /home/ys587/__Data/__whistle/__whislte_30_species/__fit_result_species/20210223_135143/HICEAS2002/epoch_18_valloss_0.8950_valacc_0.6501.hdf5\n",
      "2160/2160 [==============================] - 70s 32ms/step - loss: 0.8040 - accuracy: 0.6698 - val_loss: 0.8950 - val_accuracy: 0.6501\n",
      "Epoch 19/200\n",
      "2159/2160 [============================>.] - ETA: 0s - loss: 0.7868 - accuracy: 0.6753\n",
      "Epoch 00019: val_loss did not improve from 0.89502\n",
      "2160/2160 [==============================] - 70s 32ms/step - loss: 0.7868 - accuracy: 0.6753 - val_loss: 0.9346 - val_accuracy: 0.6417\n",
      "Epoch 20/200\n",
      "2160/2160 [==============================] - ETA: 0s - loss: 0.7592 - accuracy: 0.6851\n",
      "Epoch 00020: val_loss did not improve from 0.89502\n",
      "2160/2160 [==============================] - 70s 33ms/step - loss: 0.7592 - accuracy: 0.6851 - val_loss: 0.9820 - val_accuracy: 0.6277\n",
      "Epoch 21/200\n",
      "2159/2160 [============================>.] - ETA: 0s - loss: 0.7415 - accuracy: 0.6921\n",
      "Epoch 00021: val_loss did not improve from 0.89502\n",
      "2160/2160 [==============================] - 70s 32ms/step - loss: 0.7416 - accuracy: 0.6921 - val_loss: 0.9955 - val_accuracy: 0.6245\n",
      "Epoch 22/200\n",
      "2159/2160 [============================>.] - ETA: 0s - loss: 0.7191 - accuracy: 0.6964\n",
      "Epoch 00022: val_loss did not improve from 0.89502\n",
      "2160/2160 [==============================] - 70s 32ms/step - loss: 0.7191 - accuracy: 0.6964 - val_loss: 0.9129 - val_accuracy: 0.6610\n",
      "Epoch 23/200\n",
      "2160/2160 [==============================] - ETA: 0s - loss: 0.7040 - accuracy: 0.7050\n",
      "Epoch 00023: val_loss did not improve from 0.89502\n",
      "2160/2160 [==============================] - 70s 32ms/step - loss: 0.7040 - accuracy: 0.7050 - val_loss: 0.9988 - val_accuracy: 0.6388\n",
      "Epoch 24/200\n",
      "2159/2160 [============================>.] - ETA: 0s - loss: 0.6808 - accuracy: 0.7103\n",
      "Epoch 00024: val_loss improved from 0.89502 to 0.86042, saving model to /home/ys587/__Data/__whistle/__whislte_30_species/__fit_result_species/20210223_135143/HICEAS2002/epoch_24_valloss_0.8604_valacc_0.6816.hdf5\n",
      "2160/2160 [==============================] - 70s 32ms/step - loss: 0.6807 - accuracy: 0.7103 - val_loss: 0.8604 - val_accuracy: 0.6816\n",
      "Epoch 25/200\n",
      "2159/2160 [============================>.] - ETA: 0s - loss: 0.6657 - accuracy: 0.7199\n",
      "Epoch 00025: val_loss did not improve from 0.86042\n",
      "2160/2160 [==============================] - 70s 32ms/step - loss: 0.6657 - accuracy: 0.7199 - val_loss: 0.9509 - val_accuracy: 0.6529\n",
      "Epoch 26/200\n",
      "1759/2160 [=======================>......] - ETA: 11s - loss: 0.6397 - accuracy: 0.7263"
     ]
    }
   ],
   "source": [
    "model = model_cnn14_attention_multi(dim_time, dim_freq, num_species, model_type='feature_level_attention', conv_dim=conv_dim, pool_size=pool_size, pool_stride=pool_stride, hidden_units=hidden_units, l2_regu=l2_regu, drop_rate=drop_rate)\n",
    "loss = CategoricalCrossentropy()\n",
    "model.compile(optimizer=tf.keras.optimizers.Adam(learning_rate=learning_rate_fn), loss=loss, metrics=['accuracy'])\n",
    "\n",
    "# With classes\n",
    "# history = model.fit(fea_train, to_categorical(label_train), class_weight=class_weights, validation_split=0.3, batch_size=batch_size, epochs=num_epoch, callbacks=[EarlyStopping(patience=num_patience), ModelCheckpoint(filepath=os.path.join(fit_result_path, '{epoch:02d}-{val_loss:.4f}.hdf5'), verbose=1, monitor=\"val_loss\", save_best_only=True)])\n",
    "# history = model.fit(train_generator, validation_data=validate_generator, class_weight=class_weights, epochs=num_epoch, callbacks=[EarlyStopping(patience=num_patience, monitor='val_loss', mode='min', verbose=1), TensorBoard(log_dir=fit_result_path1), ModelCheckpoint(filepath=os.path.join(fit_result_path1, '{epoch:02d}-{val_loss:.4f}.hdf5'), verbose=1, monitor=\"val_loss\", save_best_only=True)])\n",
    "history = model.fit(train_generator, validation_data=validate_generator, class_weight=class_weights, epochs=num_epoch, callbacks=[EarlyStopping(patience=num_patience, monitor='val_loss', mode='min', verbose=1), TensorBoard(log_dir=fit_result_path2), ModelCheckpoint(filepath=os.path.join(fit_result_path2, 'epoch_{epoch:02d}_valloss_{val_loss:.4f}_valacc_{val_accuracy:.4f}.hdf5' ), verbose=1, monitor=\"val_loss\", save_best_only=True)])"
   ]
  },
  {
   "cell_type": "code",
   "execution_count": null,
   "metadata": {},
   "outputs": [],
   "source": [
    "# fit_result_path1 = '/home/ys587/__Data/__whistle/__whislte_30_species/__fit_result_species/20210210_224527'\n",
    "the_best_model, _ = find_best_model(fit_result_path2, purge=False)"
   ]
  },
  {
   "cell_type": "code",
   "execution_count": null,
   "metadata": {
    "scrolled": true
   },
   "outputs": [],
   "source": [
    "model = load_model(the_best_model)\n",
    "model.summary()"
   ]
  },
  {
   "cell_type": "code",
   "execution_count": null,
   "metadata": {},
   "outputs": [],
   "source": [
    "label_pred = model.predict(fea_test)\n",
    "# label_pred = model.predict(test_generator)"
   ]
  },
  {
   "cell_type": "code",
   "execution_count": null,
   "metadata": {},
   "outputs": [],
   "source": [
    "np.set_printoptions(linewidth=200, precision=2, suppress=True)"
   ]
  },
  {
   "cell_type": "code",
   "execution_count": null,
   "metadata": {},
   "outputs": [],
   "source": [
    "print(\"Confusion matrix:\")\n",
    "cm = confusion_matrix(label_test, np.argmax(label_pred, axis=1), labels=species_id)\n",
    "\n",
    "print(species_list)\n",
    "print('')\n",
    "print(cm)\n",
    "print('')\n",
    "\n",
    "cm2 = cm*1.0\n",
    "for ii in range(cm.shape[0]):\n",
    "    cm_row = cm[ii, :]*1.0\n",
    "\n",
    "    cm_row_sum = cm_row.sum()\n",
    "    if cm_row_sum != 0:\n",
    "        cm2[ii, :] = cm_row / cm_row_sum\n",
    "    else:\n",
    "        cm2[ii, :] = np.zeros(cm.shape[1])\n",
    "\n",
    "print(cm2)"
   ]
  },
  {
   "cell_type": "code",
   "execution_count": null,
   "metadata": {},
   "outputs": [],
   "source": [
    "from sklearn.metrics import plot_confusion_matrix\n",
    "from sklearn.metrics._plot.confusion_matrix import ConfusionMatrixDisplay\n",
    "disp = ConfusionMatrixDisplay(confusion_matrix=cm, display_labels=species_list)\n",
    "disp2 = ConfusionMatrixDisplay(confusion_matrix=cm2, display_labels=species_list)"
   ]
  },
  {
   "cell_type": "code",
   "execution_count": null,
   "metadata": {},
   "outputs": [],
   "source": [
    "fig, ax = plt.subplots(figsize=[15, 15])\n",
    "disp.plot(include_values=True,\n",
    "                     cmap='viridis', ax=ax, xticks_rotation='horizontal',\n",
    "                     values_format=None, colorbar=True)\n"
   ]
  },
  {
   "cell_type": "code",
   "execution_count": null,
   "metadata": {},
   "outputs": [],
   "source": [
    "fig, ax = plt.subplots(figsize=[15, 15])\n",
    "disp2.plot(include_values=True,\n",
    "                     cmap='viridis', ax=ax, xticks_rotation='horizontal',\n",
    "                     values_format='.2f', colorbar=True)"
   ]
  },
  {
   "cell_type": "markdown",
   "metadata": {},
   "source": [
    "## PICES2005"
   ]
  },
  {
   "cell_type": "code",
   "execution_count": null,
   "metadata": {},
   "outputs": [],
   "source": [
    "ee = deployment[4]\n",
    "print(ee)"
   ]
  },
  {
   "cell_type": "code",
   "execution_count": null,
   "metadata": {},
   "outputs": [],
   "source": [
    "# Training data\n",
    "fea_temp = np.load(os.path.join(feature_path, 'train_oswald_no_'+ee+'.npz'))\n",
    "fea_train = fea_temp['fea_train']\n",
    "label_train_list = fea_temp['label_train']\n",
    "del fea_temp"
   ]
  },
  {
   "cell_type": "code",
   "execution_count": null,
   "metadata": {},
   "outputs": [],
   "source": [
    "label_train = np.zeros(len(label_train_list))\n",
    "for ii in range(len(label_train_list)):\n",
    "    label_train[ii] = species_dict[label_train_list[ii]]"
   ]
  },
  {
   "cell_type": "code",
   "execution_count": null,
   "metadata": {},
   "outputs": [],
   "source": [
    "# Testing data\n",
    "fea_temp = np.load(os.path.join(feature_path, 'oswald_'+ee+'_orig.npz'))\n",
    "fea_test = fea_temp['feas_orig']\n",
    "label_test_list = fea_temp['labels_orig']\n",
    "\n",
    "fea_test = fea_test[:,:100,:]\n",
    "label_test = np.zeros(len(label_test_list))\n",
    "for ii in range(len(label_test_list)):\n",
    "    label_test[ii] = species_dict[label_test_list[ii]]"
   ]
  },
  {
   "cell_type": "code",
   "execution_count": null,
   "metadata": {},
   "outputs": [],
   "source": [
    "fea_train = fea_train[:,:100,:]"
   ]
  },
  {
   "cell_type": "code",
   "execution_count": null,
   "metadata": {},
   "outputs": [],
   "source": [
    "label_train = np.zeros(len(label_train_list))\n",
    "for ii in range(len(label_train_list)):\n",
    "    label_train[ii] = species_dict[label_train_list[ii]]"
   ]
  },
  {
   "cell_type": "code",
   "execution_count": null,
   "metadata": {
    "scrolled": true
   },
   "outputs": [],
   "source": [
    "Counter(label_train_list)"
   ]
  },
  {
   "cell_type": "code",
   "execution_count": null,
   "metadata": {},
   "outputs": [],
   "source": [
    "Counter(label_test.tolist())"
   ]
  },
  {
   "cell_type": "code",
   "execution_count": null,
   "metadata": {},
   "outputs": [],
   "source": [
    "fit_result_path2 = os.path.join(fit_result_path1, ee)\n",
    "if not os.path.exists(fit_result_path2):\n",
    "    makedirs(fit_result_path2)"
   ]
  },
  {
   "cell_type": "code",
   "execution_count": null,
   "metadata": {},
   "outputs": [],
   "source": [
    "print('feature train shape: '+str(fea_train.shape))\n",
    "print('feature test shape: '+str(fea_test.shape))\n",
    "print('label train shape: '+str(label_train.shape))\n",
    "print('label test shape: '+str(label_test.shape))\n",
    "\n",
    "dim_time = fea_train.shape[1]\n",
    "dim_freq = fea_train.shape[2]\n",
    "print('dim_time: '+str(dim_time))\n",
    "print('dim_freq: '+str(dim_freq))"
   ]
  },
  {
   "cell_type": "code",
   "execution_count": null,
   "metadata": {},
   "outputs": [],
   "source": [
    "# shuffle features & labels\n",
    "fea_train, label_train = shuffle(fea_train, label_train, random_state=0)\n",
    "fea_test, label_test = shuffle(fea_test, label_test, random_state=0)"
   ]
  },
  {
   "cell_type": "code",
   "execution_count": null,
   "metadata": {},
   "outputs": [],
   "source": [
    "# class weight\n",
    "weights = compute_class_weight(class_weight='balanced', classes=np.unique(label_train), y=label_train)\n",
    "\n",
    "class_weights = dict()\n",
    "for ii in range(num_species):\n",
    "    class_weights[ii] = weights[ii]"
   ]
  },
  {
   "cell_type": "code",
   "execution_count": null,
   "metadata": {},
   "outputs": [],
   "source": [
    "fea_train = np.expand_dims(fea_train, axis=3)\n",
    "fea_test = np.expand_dims(fea_test, axis=3)"
   ]
  },
  {
   "cell_type": "code",
   "execution_count": null,
   "metadata": {},
   "outputs": [],
   "source": [
    "fea_train, fea_validate, label_train, label_validate = train_test_split(fea_train, label_train, test_size=0.30, random_state=42)\n",
    "\n",
    "train_generator = DataGenerator(fea_train, label_train, batch_size=batch_size, num_classes=num_species)\n",
    "del fea_train\n",
    "validate_generator = DataGenerator(fea_validate, label_validate, batch_size=batch_size, num_classes=num_species)\n",
    "del fea_validate\n",
    "\n",
    "# test_generator = DataGenerator(fea_test, label_test, batch_size=batch_size, num_classes=num_species)\n"
   ]
  },
  {
   "cell_type": "markdown",
   "metadata": {},
   "source": [
    "### Training the model"
   ]
  },
  {
   "cell_type": "code",
   "execution_count": null,
   "metadata": {
    "scrolled": true
   },
   "outputs": [],
   "source": [
    "model = model_cnn14_attention_multi(dim_time, dim_freq, num_species, model_type='feature_level_attention', conv_dim=conv_dim, pool_size=pool_size, pool_stride=pool_stride, hidden_units=hidden_units, l2_regu=l2_regu, drop_rate=drop_rate)\n",
    "loss = CategoricalCrossentropy()\n",
    "model.compile(optimizer=tf.keras.optimizers.Adam(learning_rate=learning_rate_fn), loss=loss, metrics=['accuracy'])\n",
    "\n",
    "# With classes\n",
    "# history = model.fit(fea_train, to_categorical(label_train), class_weight=class_weights, validation_split=0.3, batch_size=batch_size, epochs=num_epoch, callbacks=[EarlyStopping(patience=num_patience), ModelCheckpoint(filepath=os.path.join(fit_result_path, '{epoch:02d}-{val_loss:.4f}.hdf5'), verbose=1, monitor=\"val_loss\", save_best_only=True)])\n",
    "# history = model.fit(train_generator, validation_data=validate_generator, class_weight=class_weights, epochs=num_epoch, callbacks=[EarlyStopping(patience=num_patience, monitor='val_loss', mode='min', verbose=1), TensorBoard(log_dir=fit_result_path1), ModelCheckpoint(filepath=os.path.join(fit_result_path1, '{epoch:02d}-{val_loss:.4f}.hdf5'), verbose=1, monitor=\"val_loss\", save_best_only=True)])\n",
    "history = model.fit(train_generator, validation_data=validate_generator, class_weight=class_weights, epochs=num_epoch, callbacks=[EarlyStopping(patience=num_patience, monitor='val_loss', mode='min', verbose=1), TensorBoard(log_dir=fit_result_path2), ModelCheckpoint(filepath=os.path.join(fit_result_path2, 'epoch_{epoch:02d}_valloss_{val_loss:.4f}_valacc_{val_accuracy:.4f}.hdf5' ), verbose=1, monitor=\"val_loss\", save_best_only=True)])"
   ]
  },
  {
   "cell_type": "code",
   "execution_count": null,
   "metadata": {},
   "outputs": [],
   "source": [
    "# fit_result_path1 = '/home/ys587/__Data/__whistle/__whislte_30_species/__fit_result_species/20210210_224527'\n",
    "the_best_model, _ = find_best_model(fit_result_path2, purge=False)"
   ]
  },
  {
   "cell_type": "code",
   "execution_count": null,
   "metadata": {
    "scrolled": true
   },
   "outputs": [],
   "source": [
    "model = load_model(the_best_model)\n",
    "model.summary()"
   ]
  },
  {
   "cell_type": "code",
   "execution_count": null,
   "metadata": {},
   "outputs": [],
   "source": [
    "label_pred = model.predict(fea_test)\n",
    "# label_pred = model.predict(test_generator)"
   ]
  },
  {
   "cell_type": "code",
   "execution_count": null,
   "metadata": {},
   "outputs": [],
   "source": [
    "np.set_printoptions(linewidth=200, precision=2, suppress=True)"
   ]
  },
  {
   "cell_type": "code",
   "execution_count": null,
   "metadata": {},
   "outputs": [],
   "source": [
    "print(\"Confusion matrix:\")\n",
    "cm = confusion_matrix(label_test, np.argmax(label_pred, axis=1), labels=species_id)\n",
    "\n",
    "print(species_list)\n",
    "print('')\n",
    "print(cm)\n",
    "print('')\n",
    "\n",
    "cm2 = cm*1.0\n",
    "for ii in range(cm.shape[0]):\n",
    "    cm_row = cm[ii, :]*1.0\n",
    "\n",
    "    cm_row_sum = cm_row.sum()\n",
    "    if cm_row_sum != 0:\n",
    "        cm2[ii, :] = cm_row / cm_row_sum\n",
    "    else:\n",
    "        cm2[ii, :] = np.zeros(cm.shape[1])\n",
    "\n",
    "print(cm2)"
   ]
  },
  {
   "cell_type": "code",
   "execution_count": null,
   "metadata": {},
   "outputs": [],
   "source": [
    "from sklearn.metrics import plot_confusion_matrix\n",
    "from sklearn.metrics._plot.confusion_matrix import ConfusionMatrixDisplay\n",
    "disp = ConfusionMatrixDisplay(confusion_matrix=cm, display_labels=species_list)\n",
    "disp2 = ConfusionMatrixDisplay(confusion_matrix=cm2, display_labels=species_list)"
   ]
  },
  {
   "cell_type": "code",
   "execution_count": null,
   "metadata": {},
   "outputs": [],
   "source": [
    "fig, ax = plt.subplots(figsize=[15, 15])\n",
    "disp.plot(include_values=True,\n",
    "                     cmap='viridis', ax=ax, xticks_rotation='horizontal',\n",
    "                     values_format=None, colorbar=True)\n"
   ]
  },
  {
   "cell_type": "code",
   "execution_count": null,
   "metadata": {},
   "outputs": [],
   "source": [
    "fig, ax = plt.subplots(figsize=[15, 15])\n",
    "disp2.plot(include_values=True,\n",
    "                     cmap='viridis', ax=ax, xticks_rotation='horizontal',\n",
    "                     values_format='.2f', colorbar=True)"
   ]
  },
  {
   "cell_type": "code",
   "execution_count": null,
   "metadata": {},
   "outputs": [],
   "source": []
  },
  {
   "cell_type": "code",
   "execution_count": null,
   "metadata": {},
   "outputs": [],
   "source": []
  },
  {
   "cell_type": "code",
   "execution_count": null,
   "metadata": {},
   "outputs": [],
   "source": []
  },
  {
   "cell_type": "code",
   "execution_count": null,
   "metadata": {},
   "outputs": [],
   "source": []
  },
  {
   "cell_type": "code",
   "execution_count": null,
   "metadata": {},
   "outputs": [],
   "source": []
  },
  {
   "cell_type": "code",
   "execution_count": null,
   "metadata": {},
   "outputs": [],
   "source": []
  }
 ],
 "metadata": {
  "kernelspec": {
   "display_name": "Python 3",
   "language": "python",
   "name": "python3"
  },
  "language_info": {
   "codemirror_mode": {
    "name": "ipython",
    "version": 3
   },
   "file_extension": ".py",
   "mimetype": "text/x-python",
   "name": "python",
   "nbconvert_exporter": "python",
   "pygments_lexer": "ipython3",
   "version": "3.8.6"
  }
 },
 "nbformat": 4,
 "nbformat_minor": 4
}
