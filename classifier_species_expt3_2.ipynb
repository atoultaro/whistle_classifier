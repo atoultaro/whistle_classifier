{
 "cells": [
  {
   "cell_type": "markdown",
   "metadata": {},
   "source": [
    "# Training species classifier Expt 3: cross-validation of Oswald data\n",
    "# Feb 23, 2021\n",
    "## The augemented noise is from the all five deployments.\n",
    "## Trained on PICEAS2005 & STAR2000 whereas tested on HICEAS2002, STAR2003 & STAR2006"
   ]
  },
  {
   "cell_type": "code",
   "execution_count": 1,
   "metadata": {},
   "outputs": [],
   "source": [
    "import numpy as np\n",
    "from itertools import permutations\n",
    "import random\n",
    "import os\n",
    "import glob\n",
    "import pickle\n",
    "import matplotlib.pyplot as plt\n",
    "import matplotlib.patheffects as PathEffects\n",
    "import pandas as pd\n",
    "from os import makedirs\n",
    "from datetime import datetime\n",
    "from collections import Counter\n",
    "\n",
    "from math import floor\n",
    "\n",
    "from sklearn.model_selection import train_test_split\n",
    "from sklearn.utils import shuffle\n",
    "from sklearn.utils.class_weight import compute_class_weight\n",
    "from sklearn.metrics import roc_curve\n",
    "from sklearn.neighbors import KNeighborsClassifier\n",
    "from sklearn.metrics import confusion_matrix, classification_report\n",
    "\n",
    "# from MulticoreTSNE import MulticoreTSNE as TSNE\n",
    "# from sklearn.manifold import TSNE\n",
    "import seaborn as sns\n",
    "\n",
    "from tensorflow.keras.utils import Sequence\n",
    "from tensorflow.keras.layers import Input, Dense, BatchNormalization, Dropout, Activation\n",
    "from tensorflow.keras.layers import Conv2D, Lambda, Flatten, MaxPooling2D, Concatenate, LSTM, Reshape, Lambda, ConvLSTM2D, GlobalAveragePooling2D, GlobalMaxPooling2D\n",
    "from tensorflow.keras.layers import Bidirectional, LSTM, GRU\n",
    "from tensorflow.keras.models import Model, Sequential\n",
    "from tensorflow.keras.regularizers import l2\n",
    "from tensorflow.keras import backend as K\n",
    "\n",
    "from tensorflow.keras.optimizers.schedules import ExponentialDecay, PiecewiseConstantDecay\n",
    "from tensorflow.keras.optimizers import SGD,Adam\n",
    "from tensorflow.keras.losses import binary_crossentropy, CategoricalCrossentropy\n",
    "from tensorflow.keras.callbacks import ModelCheckpoint, TensorBoard, EarlyStopping\n",
    "from tensorflow.keras.utils import to_categorical\n",
    "from tensorflow.keras.models import load_model\n",
    "# import tensorflow_addons as tfa\n",
    "# import tensorflow_datasets as tfds\n",
    "from tensorflow.math import l2_normalize\n",
    "\n",
    "import tensorflow as tf"
   ]
  },
  {
   "cell_type": "code",
   "execution_count": 2,
   "metadata": {},
   "outputs": [],
   "source": [
    "%matplotlib inline\n",
    "import warnings\n",
    "warnings.filterwarnings(\"ignore\", category=DeprecationWarning)"
   ]
  },
  {
   "cell_type": "code",
   "execution_count": 3,
   "metadata": {},
   "outputs": [],
   "source": [
    "# Hyper parameters\n",
    "learning_rate = 1.0e-3\n",
    "conv_dim = 16\n",
    "rnn_dim = 16\n",
    "pool_size = 2\n",
    "pool_stride = 2\n",
    "l2_regu = 0.000\n",
    "drop_rate = 0.2\n",
    "hidden_units = 512\n",
    "fcn_dim = 512\n",
    "\n",
    "# learning_rate = 1.e-4\n",
    "# conv_dim = 64\n",
    "# rnn_dim = 16\n",
    "# pool_size = 2\n",
    "# pool_stride = 2\n",
    "# l2_regu = 0.00\n",
    "# drop_rate = 0.2\n",
    "# # drop_rate = 0.5\n",
    "# hidden_units = 512\n",
    "# fcn_dim = 512\n",
    "\n",
    "num_epoch = 200\n",
    "# batch_size = 128\n",
    "batch_size = 32  # for cnn14+attention\n",
    "\n",
    "num_patience = 20"
   ]
  },
  {
   "cell_type": "code",
   "execution_count": 4,
   "metadata": {},
   "outputs": [],
   "source": [
    "# data_type_dict = {1: 'universal', 2: 'file', 3: 'encounter', 4: 'domain'}\n",
    "# data_type = 2\n",
    "\n",
    "work_path = '/home/ys587/__Data/__whistle/__whislte_30_species'\n",
    "fit_result_path =  os.path.join(work_path, '__fit_result_species')\n",
    "# feature_path = os.path.join(work_path, '__feature_species')\n",
    "feature_path = os.path.join(work_path, '__dataset/20210210')"
   ]
  },
  {
   "cell_type": "code",
   "execution_count": 5,
   "metadata": {},
   "outputs": [],
   "source": [
    "species_dict = {'BD': 0, 'CD': 1, 'STR': 2, 'SPT': 3, 'SPIN': 4, 'PLT': 5, 'RT': 6,  'FKW': 7}\n",
    "num_species = len(species_dict)\n",
    "# species_dict = {'BD': 0, 'MH': 1, 'CD': 2, 'STR': 3, 'SPT': 4, 'SPIN': 5, 'PLT': 6, 'RD': 7, 'RT': 8,\n",
    "#                 'WSD': 9, 'FKW': 10, 'BEL': 11, 'KW': 12, 'WBD': 13, 'DUSK': 14, 'FRA': 15, 'PKW': 16, 'LPLT': 17,\n",
    "#                 'CLY': 18, 'SPE': 19, 'ASP': 20}\n",
    "species_list = list(species_dict.keys())\n",
    "species_id = list(species_dict.values())"
   ]
  },
  {
   "cell_type": "markdown",
   "metadata": {},
   "source": [
    "## Combine features"
   ]
  },
  {
   "cell_type": "code",
   "execution_count": 6,
   "metadata": {},
   "outputs": [],
   "source": [
    "deployment = ['STAR2000', 'STAR2003', 'STAR2006', 'HICEAS2002', 'PICEAS2005']  # oswald_STAR2000_orig.npz, oswald_STAR2000_aug.npz\n",
    "# feature_path = '/home/ys587/__Data/__whistle/__whislte_30_species/__dataset/20210223_augment_all_three_noise_mixed'\n",
    "feature_path = '/home/ys587/__Data/__whistle/__whislte_30_species/__dataset/20210223_augment_all_three_noise_mixed_class_balanced_min_5'\n"
   ]
  },
  {
   "cell_type": "code",
   "execution_count": 7,
   "metadata": {
    "scrolled": true
   },
   "outputs": [
    {
     "name": "stdout",
     "output_type": "stream",
     "text": [
      "STAR2000\n",
      "oswald_STAR2003_orig.npz\n",
      "['feas_orig', 'labels_orig']\n",
      "(1770, 101, 128)\n",
      "(1770,)\n",
      "oswald_STAR2003_aug.npz\n",
      "['feas_aug', 'labels_aug']\n",
      "(14078, 101, 128)\n",
      "(14078,)\n",
      "oswald_STAR2006_orig.npz\n",
      "['feas_orig', 'labels_orig']\n",
      "(16582, 101, 128)\n",
      "(16582,)\n",
      "oswald_STAR2006_aug.npz\n",
      "['feas_aug', 'labels_aug']\n",
      "(32950, 101, 128)\n",
      "(32950,)\n",
      "oswald_HICEAS2002_orig.npz\n",
      "['feas_orig', 'labels_orig']\n",
      "(35479, 101, 128)\n",
      "(35479,)\n",
      "oswald_HICEAS2002_aug.npz\n",
      "['feas_aug', 'labels_aug']\n",
      "(52870, 101, 128)\n",
      "(52870,)\n",
      "oswald_PICEAS2005_orig.npz\n",
      "['feas_orig', 'labels_orig']\n",
      "(58386, 101, 128)\n",
      "(58386,)\n",
      "oswald_PICEAS2005_aug.npz\n",
      "['feas_aug', 'labels_aug']\n",
      "(96966, 101, 128)\n",
      "(96966,)\n",
      "(96966, 101, 128)\n",
      "(96966,)\n",
      "\n",
      "STAR2003\n",
      "oswald_STAR2000_orig.npz\n",
      "['feas_orig', 'labels_orig']\n",
      "(6668, 101, 128)\n",
      "(6668,)\n",
      "oswald_STAR2000_aug.npz\n",
      "['feas_aug', 'labels_aug']\n",
      "(52780, 101, 128)\n",
      "(52780,)\n",
      "oswald_STAR2006_orig.npz\n",
      "['feas_orig', 'labels_orig']\n",
      "(55284, 101, 128)\n",
      "(55284,)\n",
      "oswald_STAR2006_aug.npz\n",
      "['feas_aug', 'labels_aug']\n",
      "(71652, 101, 128)\n",
      "(71652,)\n",
      "oswald_HICEAS2002_orig.npz\n",
      "['feas_orig', 'labels_orig']\n",
      "(74181, 101, 128)\n",
      "(74181,)\n",
      "oswald_HICEAS2002_aug.npz\n",
      "['feas_aug', 'labels_aug']\n",
      "(91572, 101, 128)\n",
      "(91572,)\n",
      "oswald_PICEAS2005_orig.npz\n",
      "['feas_orig', 'labels_orig']\n",
      "(97088, 101, 128)\n",
      "(97088,)\n",
      "oswald_PICEAS2005_aug.npz\n",
      "['feas_aug', 'labels_aug']\n",
      "(135668, 101, 128)\n",
      "(135668,)\n",
      "(135668, 101, 128)\n",
      "(135668,)\n",
      "\n",
      "STAR2006\n",
      "oswald_STAR2000_orig.npz\n",
      "['feas_orig', 'labels_orig']\n",
      "(6668, 101, 128)\n",
      "(6668,)\n",
      "oswald_STAR2000_aug.npz\n",
      "['feas_aug', 'labels_aug']\n",
      "(52780, 101, 128)\n",
      "(52780,)\n",
      "oswald_STAR2003_orig.npz\n",
      "['feas_orig', 'labels_orig']\n",
      "(54550, 101, 128)\n",
      "(54550,)\n",
      "oswald_STAR2003_aug.npz\n",
      "['feas_aug', 'labels_aug']\n",
      "(66858, 101, 128)\n",
      "(66858,)\n",
      "oswald_HICEAS2002_orig.npz\n",
      "['feas_orig', 'labels_orig']\n",
      "(69387, 101, 128)\n",
      "(69387,)\n",
      "oswald_HICEAS2002_aug.npz\n",
      "['feas_aug', 'labels_aug']\n",
      "(86778, 101, 128)\n",
      "(86778,)\n",
      "oswald_PICEAS2005_orig.npz\n",
      "['feas_orig', 'labels_orig']\n",
      "(92294, 101, 128)\n",
      "(92294,)\n",
      "oswald_PICEAS2005_aug.npz\n",
      "['feas_aug', 'labels_aug']\n",
      "(130874, 101, 128)\n",
      "(130874,)\n",
      "(130874, 101, 128)\n",
      "(130874,)\n",
      "\n",
      "HICEAS2002\n",
      "oswald_STAR2000_orig.npz\n",
      "['feas_orig', 'labels_orig']\n",
      "(6668, 101, 128)\n",
      "(6668,)\n",
      "oswald_STAR2000_aug.npz\n",
      "['feas_aug', 'labels_aug']\n",
      "(52780, 101, 128)\n",
      "(52780,)\n",
      "oswald_STAR2003_orig.npz\n",
      "['feas_orig', 'labels_orig']\n",
      "(54550, 101, 128)\n",
      "(54550,)\n",
      "oswald_STAR2003_aug.npz\n",
      "['feas_aug', 'labels_aug']\n",
      "(66858, 101, 128)\n",
      "(66858,)\n",
      "oswald_STAR2006_orig.npz\n",
      "['feas_orig', 'labels_orig']\n",
      "(69362, 101, 128)\n",
      "(69362,)\n",
      "oswald_STAR2006_aug.npz\n",
      "['feas_aug', 'labels_aug']\n",
      "(85730, 101, 128)\n",
      "(85730,)\n",
      "oswald_PICEAS2005_orig.npz\n",
      "['feas_orig', 'labels_orig']\n",
      "(91246, 101, 128)\n",
      "(91246,)\n",
      "oswald_PICEAS2005_aug.npz\n",
      "['feas_aug', 'labels_aug']\n",
      "(129826, 101, 128)\n",
      "(129826,)\n",
      "(129826, 101, 128)\n",
      "(129826,)\n",
      "\n",
      "PICEAS2005\n",
      "oswald_STAR2000_orig.npz\n",
      "['feas_orig', 'labels_orig']\n",
      "(6668, 101, 128)\n",
      "(6668,)\n",
      "oswald_STAR2000_aug.npz\n",
      "['feas_aug', 'labels_aug']\n",
      "(52780, 101, 128)\n",
      "(52780,)\n",
      "oswald_STAR2003_orig.npz\n",
      "['feas_orig', 'labels_orig']\n",
      "(54550, 101, 128)\n",
      "(54550,)\n",
      "oswald_STAR2003_aug.npz\n",
      "['feas_aug', 'labels_aug']\n",
      "(66858, 101, 128)\n",
      "(66858,)\n",
      "oswald_STAR2006_orig.npz\n",
      "['feas_orig', 'labels_orig']\n",
      "(69362, 101, 128)\n",
      "(69362,)\n",
      "oswald_STAR2006_aug.npz\n",
      "['feas_aug', 'labels_aug']\n",
      "(85730, 101, 128)\n",
      "(85730,)\n",
      "oswald_HICEAS2002_orig.npz\n",
      "['feas_orig', 'labels_orig']\n",
      "(88259, 101, 128)\n",
      "(88259,)\n",
      "oswald_HICEAS2002_aug.npz\n",
      "['feas_aug', 'labels_aug']\n",
      "(105650, 101, 128)\n",
      "(105650,)\n",
      "(105650, 101, 128)\n",
      "(105650,)\n",
      "\n"
     ]
    }
   ],
   "source": [
    "if True:\n",
    "    for ee in deployment:\n",
    "        print(ee)\n",
    "        ee_others = [ee2 for ee2 in deployment if (ee2 != ee) ]\n",
    "        fea_train_files_tot = []\n",
    "        for ee2 in ee_others:\n",
    "            fea_train_files_tot.append('oswald_'+ee2+'_orig.npz')\n",
    "            fea_train_files_tot.append('oswald_'+ee2+'_aug.npz')\n",
    "\n",
    "        # Training data\n",
    "        fea_train_list = []\n",
    "        label_train_list = []\n",
    "        for ii in range(len(fea_train_files_tot)):\n",
    "            ff = fea_train_files_tot[ii]\n",
    "            print(ff)\n",
    "            fea_temp = np.load(os.path.join(feature_path, ff))\n",
    "            print(fea_temp.files)\n",
    "\n",
    "            if ii == 0:\n",
    "                fea_train = fea_temp['feas_orig']\n",
    "                label_train = fea_temp['labels_orig']\n",
    "                print(fea_train.shape)\n",
    "                print(label_train.shape)\n",
    "            elif ii % 2 == 0:  # even\n",
    "                fea_train = np.concatenate([fea_train, fea_temp['feas_orig']])\n",
    "                label_train = np.concatenate([label_train, fea_temp['labels_orig']])\n",
    "                print(fea_train.shape)\n",
    "                print(label_train.shape)\n",
    "            else:\n",
    "                fea_train = np.concatenate([fea_train, fea_temp['feas_aug']])\n",
    "                label_train = np.concatenate([label_train, fea_temp['labels_aug']])\n",
    "                print(fea_train.shape)\n",
    "                print(label_train.shape)\n",
    "        print(fea_train.shape)\n",
    "        print(label_train.shape)\n",
    "        np.savez(os.path.join(feature_path, './train_oswald_no_'+ee+'.npz'), fea_train=fea_train, label_train=label_train)\n",
    "        print('')"
   ]
  },
  {
   "cell_type": "code",
   "execution_count": 8,
   "metadata": {},
   "outputs": [],
   "source": [
    "# data generator\n",
    "class DataGenerator(tf.keras.utils.Sequence):\n",
    "    def __init__(self, feature, label, batch_size=32, num_classes=None, shuffle=True):\n",
    "        self.batch_size = batch_size\n",
    "        self.X = feature\n",
    "        self.X_dim = len(feature.shape)\n",
    "        self.y = to_categorical(label, num_classes)\n",
    "        self.indices = np.arange(self.y.shape[0])\n",
    "        self.num_classes = num_classes\n",
    "        self.shuffle = shuffle\n",
    "        \n",
    "        # self.index = np.arange(len(self.indices))\n",
    "        #self.df = dataframe\n",
    "        #self.indices = self.df.index.tolist()        \n",
    "        # self.x_col = x_col\n",
    "        # self.y_col = y_col\n",
    "        \n",
    "        self.on_epoch_end()\n",
    "\n",
    "    def __len__(self):\n",
    "        return int(floor(len(self.indices)/self.batch_size))\n",
    "        # return label.shape[0]\n",
    "\n",
    "    def __getitem__(self, index):\n",
    "        # index = self.index[index * self.batch_size:(index + 1) * self.batch_size]\n",
    "        # batch = [self.indices[k] for k in index]\n",
    "        batch = list(range(index*self.batch_size, (index+1)*self.batch_size))\n",
    "        \n",
    "        X, y = self.__get_data(batch)\n",
    "        return X, y\n",
    "\n",
    "    def on_epoch_end(self):\n",
    "        if self.shuffle == True:\n",
    "            np.random.shuffle(self.indices)\n",
    "\n",
    "    def __get_data(self, batch):\n",
    "        y = np.zeros((self.batch_size, self.y.shape[1]))\n",
    "        \n",
    "        if self.X_dim == 3:\n",
    "            X = np.zeros((self.batch_size, self.X.shape[1], self.X.shape[2]))\n",
    "            for i, id in enumerate(batch):\n",
    "                X[i,:, :] = self.X[id, :, :]  # logic\n",
    "                y[i, :] = self.y[id, :] # labels\n",
    "                \n",
    "        elif self.X_dim == 4:\n",
    "            X = np.zeros((self.batch_size, self.X.shape[1], self.X.shape[2], self.X.shape[3]))\n",
    "            for i, id in enumerate(batch):\n",
    "                X[i,:, :, :] = self.X[id, :, :, :]  # logic\n",
    "                y[i, :] = self.y[id, :] # labels\n",
    "\n",
    "        return X, y"
   ]
  },
  {
   "cell_type": "markdown",
   "metadata": {},
   "source": [
    "## Models"
   ]
  },
  {
   "cell_type": "code",
   "execution_count": 9,
   "metadata": {},
   "outputs": [],
   "source": [
    "# Kong's attention\n",
    "# def max_pooling(inputs, **kwargs):\n",
    "#     input = inputs[0]   # (batch_size, time_steps, freq_bins)\n",
    "#     return K.max(input, axis=1)\n",
    "def max_pooling(inputs, **kwargs):\n",
    "    # input = inputs[0]   # (batch_size, time_steps, freq_bins)\n",
    "    return K.max(inputs, axis=1)\n",
    "\n",
    "\n",
    "def average_pooling(inputs, **kwargs):\n",
    "    input = inputs[0]   # (batch_size, time_steps, freq_bins)\n",
    "    return K.mean(input, axis=1)\n",
    "\n",
    "\n",
    "def attention_pooling(inputs, **kwargs):\n",
    "    [out, att] = inputs\n",
    "\n",
    "    epsilon = 1e-7\n",
    "    att = K.clip(att, epsilon, 1. - epsilon)\n",
    "    normalized_att = att / K.sum(att, axis=1)[:, None, :]\n",
    "\n",
    "    return K.sum(out * normalized_att, axis=1)\n",
    "\n",
    "\n",
    "def pooling_shape(input_shape):\n",
    "\n",
    "    if isinstance(input_shape, list):\n",
    "        (sample_num, time_steps, freq_bins) = input_shape[0]\n",
    "\n",
    "    else:\n",
    "        (sample_num, time_steps, freq_bins) = input_shape\n",
    "\n",
    "    return (sample_num, freq_bins)"
   ]
  },
  {
   "cell_type": "code",
   "execution_count": 10,
   "metadata": {},
   "outputs": [],
   "source": [
    "# cnn14 attention with customized maxpooling\n",
    "def model_cnn14_attention_multi(time_steps, freq_bins, classes_num, model_type='feature_level_attention', conv_dim=64, rnn_dim=128, pool_size=2, pool_stride=2, hidden_units=512, l2_regu=0., drop_rate=0., multilabel=True):\n",
    "    # Kong's attention\n",
    "    # model_type = 'decision_level_max_pooling'  # problem with dimensions of the Lambda layer after training\n",
    "    # model_type = 'decision_level_average_pooling' # problem with dimensions of the Lambda layer after training\n",
    "    # model_type = 'decision_level_single_attention'\n",
    "    # model_type = 'decision_level_multi_attention'\n",
    "    # model_type = 'feature_level_attention'\n",
    "\n",
    "    input_layer = Input(shape=(time_steps, freq_bins, 1), name='input')\n",
    "    # group 1\n",
    "    y = Conv2D(conv_dim, kernel_size=(3, 3), strides=(1, 1), padding='same', kernel_regularizer=l2(l2_regu))(input_layer)\n",
    "    y = BatchNormalization()(y)\n",
    "    y = Activation(activation='relu')(y)\n",
    "    y = Conv2D(conv_dim, kernel_size=(3, 3), strides=(1, 1), padding='same', kernel_regularizer=l2(l2_regu))(y)\n",
    "    y = BatchNormalization()(y)\n",
    "    y = Activation(activation='relu')(y)\n",
    "    y = MaxPooling2D(pool_size=(pool_size, 2), strides=(pool_stride, 2), padding='same')(y)\n",
    "    y = Dropout(drop_rate)(y)\n",
    "    \n",
    "    # group 2\n",
    "    y = Conv2D(conv_dim*2, kernel_size=(3, 3), strides=(1, 1), padding='same', kernel_regularizer=l2(l2_regu))(y)\n",
    "    y = BatchNormalization()(y)\n",
    "    y = Activation(activation='relu')(y)\n",
    "    y = Conv2D(conv_dim*2, kernel_size=(3, 3), strides=(1, 1), padding='same', kernel_regularizer=l2(l2_regu))(y)\n",
    "    y = BatchNormalization()(y)\n",
    "    y = Activation(activation='relu')(y)\n",
    "    y = MaxPooling2D(pool_size=(pool_size, 2), strides=(pool_stride, 2), padding='same')(y)\n",
    "    y = Dropout(drop_rate)(y)\n",
    "    \n",
    "    # group 3\n",
    "    y = Conv2D(conv_dim*4, kernel_size=(3, 3), strides=(1, 1), padding='same', kernel_regularizer=l2(l2_regu))(y)\n",
    "    y = BatchNormalization()(y)\n",
    "    y = Activation(activation='relu')(y)\n",
    "    y = Conv2D(conv_dim*4, kernel_size=(3, 3), strides=(1, 1), padding='same', kernel_regularizer=l2(l2_regu))(y)\n",
    "    y = BatchNormalization()(y)\n",
    "    y = Activation(activation='relu')(y)\n",
    "    y = MaxPooling2D(pool_size=(pool_size, 2), strides=(pool_stride, 2), padding='same')(y)\n",
    "    y = Dropout(drop_rate)(y)\n",
    "    \n",
    "    # group 4 \n",
    "    y = Conv2D(conv_dim*8, kernel_size=(3, 3), strides=(1, 1), padding='same', kernel_regularizer=l2(l2_regu))(y)\n",
    "    y = BatchNormalization()(y)\n",
    "    y = Activation(activation='relu')(y)\n",
    "    y = Conv2D(conv_dim*8, kernel_size=(3, 3), strides=(1, 1), padding='same', kernel_regularizer=l2(l2_regu))(y)\n",
    "    y = BatchNormalization()(y)\n",
    "    y = Activation(activation='relu')(y)\n",
    "    y = MaxPooling2D(pool_size=(pool_size, 2), strides=(pool_stride, 2), padding='same')(y)\n",
    "    y = Dropout(drop_rate)(y)\n",
    "\n",
    "    # group 5\n",
    "    y = Conv2D(conv_dim*16, kernel_size=(3, 3), strides=(1, 1), padding='same', kernel_regularizer=l2(l2_regu))(y)\n",
    "    y = BatchNormalization()(y)\n",
    "    y = Activation(activation='relu')(y)\n",
    "    y = Conv2D(conv_dim*16, kernel_size=(3, 3), strides=(1, 1), padding='same', kernel_regularizer=l2(l2_regu))(y)\n",
    "    y = BatchNormalization()(y)\n",
    "    y = Activation(activation='relu')(y)\n",
    "    y = MaxPooling2D(pool_size=(pool_size, 2), strides=(1, 2), padding='same')(y)\n",
    "    y = Dropout(drop_rate)(y)\n",
    "\n",
    "    # group 6\n",
    "    y = Conv2D(conv_dim*32, kernel_size=(3, 3), strides=(1, 1), padding='same', kernel_regularizer=l2(l2_regu))(y)\n",
    "    y = BatchNormalization()(y)\n",
    "    y = Activation(activation='relu')(y)\n",
    "    y = Conv2D(conv_dim*32, kernel_size=(3, 3), strides=(1, 1), padding='same', kernel_regularizer=l2(l2_regu))(y)\n",
    "    y = BatchNormalization()(y)\n",
    "    y = Activation(activation='relu')(y)\n",
    "    y = MaxPooling2D(pool_size=(pool_size, 2), strides=(1, 2), padding='same')(y)\n",
    "    y = Dropout(drop_rate)(y)\n",
    "    \n",
    "    # change dimensions: samples, time, frequency, channels => samples, time, frequency*channels\n",
    "    dim_cnn = K.int_shape(y)\n",
    "    y = Reshape((dim_cnn[1], dim_cnn[2]*dim_cnn[3]))(y)\n",
    "\n",
    "    a1 = Dense(hidden_units)(y)\n",
    "    a1 = BatchNormalization()(a1)\n",
    "    a1 = Activation('relu')(a1)\n",
    "    a1 = Dropout(drop_rate)(a1)\n",
    "\n",
    "    a2 = Dense(hidden_units)(a1)\n",
    "    a2 = BatchNormalization()(a2)\n",
    "    a2 = Activation('relu')(a2)\n",
    "    a2 = Dropout(drop_rate)(a2)\n",
    "\n",
    "    a3 = Dense(hidden_units)(a2)\n",
    "    a3 = BatchNormalization()(a3)\n",
    "    a3 = Activation('relu')(a3)\n",
    "    a3 = Dropout(drop_rate)(a3)\n",
    "\n",
    "    # Pooling layers\n",
    "    if model_type == 'decision_level_max_pooling':\n",
    "        '''Global max pooling.\n",
    "\n",
    "        [1] Choi, Keunwoo, et al. \"Automatic tagging using deep convolutional \n",
    "        neural networks.\" arXiv preprint arXiv:1606.00298 (2016).\n",
    "        '''\n",
    "        cla = Dense(classes_num, activation='sigmoid')(a3)\n",
    "        \n",
    "        # output_layer = Lambda(\n",
    "        #    max_pooling, \n",
    "        #    output_shape=pooling_shape)(\n",
    "        #    [cla])\n",
    "        output_layer = Lambda(max_pooling)(cla)\n",
    "\n",
    "    elif model_type == 'decision_level_average_pooling':\n",
    "        '''Global average pooling.\n",
    "\n",
    "        [2] Lin, Min, et al. Qiang Chen, and Shuicheng Yan. \"Network in \n",
    "        network.\" arXiv preprint arXiv:1312.4400 (2013).\n",
    "        '''\n",
    "        cla = Dense(classes_num, activation='sigmoid')(a3)\n",
    "        # output_layer = Lambda(\n",
    "        #    average_pooling,\n",
    "        #    output_shape=pooling_shape)(\n",
    "        #    [cla])\n",
    "        output_layer = Lambda(average_pooling)(cla)\n",
    "\n",
    "    elif model_type == 'decision_level_single_attention':\n",
    "        '''Decision level single attention pooling.\n",
    "        [3] Kong, Qiuqiang, et al. \"Audio Set classification with attention\n",
    "        model: A probabilistic perspective.\" arXiv preprint arXiv:1711.00927\n",
    "        (2017).\n",
    "        '''\n",
    "        cla = Dense(classes_num, activation='sigmoid')(a3)\n",
    "        att = Dense(classes_num, activation='softmax')(a3)\n",
    "        output_layer = Lambda(\n",
    "            attention_pooling, output_shape=pooling_shape)([cla, att])\n",
    "\n",
    "    elif model_type == 'decision_level_multi_attention':\n",
    "        '''Decision level multi attention pooling.\n",
    "        [4] Yu, Changsong, et al. \"Multi-level Attention Model for Weakly\n",
    "        Supervised Audio Classification.\" arXiv preprint arXiv:1803.02353\n",
    "        (2018).\n",
    "        '''\n",
    "        cla1 = Dense(classes_num, activation='sigmoid')(a2)\n",
    "        att1 = Dense(classes_num, activation='softmax')(a2)\n",
    "        out1 = Lambda(\n",
    "            attention_pooling, output_shape=pooling_shape)([cla1, att1])\n",
    "\n",
    "        cla2 = Dense(classes_num, activation='sigmoid')(a3)\n",
    "        att2 = Dense(classes_num, activation='softmax')(a3)\n",
    "        out2 = Lambda(\n",
    "            attention_pooling, output_shape=pooling_shape)([cla2, att2])\n",
    "\n",
    "        b1 = Concatenate(axis=-1)([out1, out2])\n",
    "        b1 = Dense(classes_num)(b1)\n",
    "        \n",
    "        if multilabel:\n",
    "            output_layer = Activation('sigmoid')(b1)\n",
    "        else:\n",
    "            output_layer = Activation('softmax')(b1)\n",
    "\n",
    "    elif model_type == 'feature_level_attention':\n",
    "        '''Feature level attention.\n",
    "        [1] Kong, Qiuqiang, et al. \"Weakly labelled audioset tagging with \n",
    "        attention neural networks.\" (2019).\n",
    "        '''\n",
    "        cla = Dense(hidden_units, activation='linear')(a3)\n",
    "        att = Dense(hidden_units, activation='sigmoid')(a3)\n",
    "        b1 = Lambda(\n",
    "            attention_pooling, output_shape=pooling_shape)([cla, att])\n",
    "\n",
    "        b1 = BatchNormalization()(b1)\n",
    "        b1 = Activation(activation='relu')(b1)\n",
    "        b1 = Dropout(drop_rate)(b1)\n",
    "        \n",
    "        if multilabel:\n",
    "            output_layer = Dense(classes_num, activation='sigmoid')(b1)\n",
    "        else:\n",
    "            output_layer = Dense(classes_num, activation='softmax')(b1)\n",
    "\n",
    "    else:\n",
    "        raise Exception(\"Incorrect model_type!\")\n",
    "\n",
    "    # Build model\n",
    "    model = Model(inputs=input_layer, outputs=output_layer)\n",
    "    \n",
    "    return model"
   ]
  },
  {
   "cell_type": "code",
   "execution_count": 11,
   "metadata": {},
   "outputs": [],
   "source": [
    "# cnn14 attention\n",
    "def model_cnn14_attention(time_steps, freq_bins, classes_num, model_type='feature_level_attention', conv_dim=64, rnn_dim=128, pool_size=2, pool_stride=2, hidden_units=512, l2_regu=0., drop_rate=0., multilabel=True):\n",
    "    # Kong's attention\n",
    "    # model_type = 'decision_level_max_pooling'  # problem with dimensions of the Lambda layer after training\n",
    "    # model_type = 'decision_level_average_pooling' # problem with dimensions of the Lambda layer after training\n",
    "    # model_type = 'decision_level_single_attention'\n",
    "    # model_type = 'decision_level_multi_attention'\n",
    "    # model_type = 'feature_level_attention'\n",
    "\n",
    "    input_layer = Input(shape=(time_steps, freq_bins, 1), name='input')\n",
    "    # group 1\n",
    "    y = Conv2D(conv_dim, kernel_size=(3, 3), strides=(1, 1), padding='same', kernel_regularizer=l2(l2_regu))(input_layer)\n",
    "    y = BatchNormalization()(y)\n",
    "    y = Activation(activation='relu')(y)\n",
    "    y = Conv2D(conv_dim, kernel_size=(3, 3), strides=(1, 1), padding='same', kernel_regularizer=l2(l2_regu))(y)\n",
    "    y = BatchNormalization()(y)\n",
    "    y = Activation(activation='relu')(y)\n",
    "    y = MaxPooling2D(pool_size=(pool_size, 2), strides=(pool_stride, 2), padding='same')(y)\n",
    "    y = Dropout(drop_rate)(y)\n",
    "    \n",
    "    # group 2\n",
    "    y = Conv2D(conv_dim*2, kernel_size=(3, 3), strides=(1, 1), padding='same', kernel_regularizer=l2(l2_regu))(y)\n",
    "    y = BatchNormalization()(y)\n",
    "    y = Activation(activation='relu')(y)\n",
    "    y = Conv2D(conv_dim*2, kernel_size=(3, 3), strides=(1, 1), padding='same', kernel_regularizer=l2(l2_regu))(y)\n",
    "    y = BatchNormalization()(y)\n",
    "    y = Activation(activation='relu')(y)\n",
    "    y = MaxPooling2D(pool_size=(pool_size, 2), strides=(pool_stride, 2), padding='same')(y)\n",
    "    y = Dropout(drop_rate)(y)\n",
    "    \n",
    "    # group 3\n",
    "    y = Conv2D(conv_dim*4, kernel_size=(3, 3), strides=(1, 1), padding='same', kernel_regularizer=l2(l2_regu))(y)\n",
    "    y = BatchNormalization()(y)\n",
    "    y = Activation(activation='relu')(y)\n",
    "    y = Conv2D(conv_dim*4, kernel_size=(3, 3), strides=(1, 1), padding='same', kernel_regularizer=l2(l2_regu))(y)\n",
    "    y = BatchNormalization()(y)\n",
    "    y = Activation(activation='relu')(y)\n",
    "    y = MaxPooling2D(pool_size=(pool_size, 2), strides=(pool_stride, 2), padding='same')(y)\n",
    "    y = Dropout(drop_rate)(y)\n",
    "    \n",
    "    # group 4 \n",
    "    y = Conv2D(conv_dim*8, kernel_size=(3, 3), strides=(1, 1), padding='same', kernel_regularizer=l2(l2_regu))(y)\n",
    "    y = BatchNormalization()(y)\n",
    "    y = Activation(activation='relu')(y)\n",
    "    y = Conv2D(conv_dim*8, kernel_size=(3, 3), strides=(1, 1), padding='same', kernel_regularizer=l2(l2_regu))(y)\n",
    "    y = BatchNormalization()(y)\n",
    "    y = Activation(activation='relu')(y)\n",
    "    y = MaxPooling2D(pool_size=(pool_size, 2), strides=(pool_stride, 2), padding='same')(y)\n",
    "    y = Dropout(drop_rate)(y)\n",
    "\n",
    "    # group 5\n",
    "    y = Conv2D(conv_dim*16, kernel_size=(3, 3), strides=(1, 1), padding='same', kernel_regularizer=l2(l2_regu))(y)\n",
    "    y = BatchNormalization()(y)\n",
    "    y = Activation(activation='relu')(y)\n",
    "    y = Conv2D(conv_dim*16, kernel_size=(3, 3), strides=(1, 1), padding='same', kernel_regularizer=l2(l2_regu))(y)\n",
    "    y = BatchNormalization()(y)\n",
    "    y = Activation(activation='relu')(y)\n",
    "    y = MaxPooling2D(pool_size=(pool_size, 2), strides=(pool_stride, 2), padding='same')(y)\n",
    "    y = Dropout(drop_rate)(y)\n",
    "\n",
    "    # group 6\n",
    "    y = Conv2D(conv_dim*32, kernel_size=(3, 3), strides=(1, 1), padding='same', kernel_regularizer=l2(l2_regu))(y)\n",
    "    y = BatchNormalization()(y)\n",
    "    y = Activation(activation='relu')(y)\n",
    "    y = Conv2D(conv_dim*32, kernel_size=(3, 3), strides=(1, 1), padding='same', kernel_regularizer=l2(l2_regu))(y)\n",
    "    y = BatchNormalization()(y)\n",
    "    y = Activation(activation='relu')(y)\n",
    "    y = MaxPooling2D(pool_size=(pool_size, 2), strides=(pool_stride, 2), padding='same')(y)\n",
    "    y = Dropout(drop_rate)(y)\n",
    "    \n",
    "    # change dimensions: samples, time, frequency, channels => samples, time, frequency*channels\n",
    "    dim_cnn = K.int_shape(y)\n",
    "    y = Reshape((dim_cnn[1], dim_cnn[2]*dim_cnn[3]))(y)\n",
    "\n",
    "    a1 = Dense(hidden_units)(y)\n",
    "    a1 = BatchNormalization()(a1)\n",
    "    a1 = Activation('relu')(a1)\n",
    "    a1 = Dropout(drop_rate)(a1)\n",
    "\n",
    "    a2 = Dense(hidden_units)(a1)\n",
    "    a2 = BatchNormalization()(a2)\n",
    "    a2 = Activation('relu')(a2)\n",
    "    a2 = Dropout(drop_rate)(a2)\n",
    "\n",
    "    a3 = Dense(hidden_units)(a2)\n",
    "    a3 = BatchNormalization()(a3)\n",
    "    a3 = Activation('relu')(a3)\n",
    "    a3 = Dropout(drop_rate)(a3)\n",
    "\n",
    "    # Pooling layers\n",
    "    if model_type == 'decision_level_max_pooling':\n",
    "        '''Global max pooling.\n",
    "\n",
    "        [1] Choi, Keunwoo, et al. \"Automatic tagging using deep convolutional \n",
    "        neural networks.\" arXiv preprint arXiv:1606.00298 (2016).\n",
    "        '''\n",
    "        cla = Dense(classes_num, activation='sigmoid')(a3)\n",
    "        \n",
    "        # output_layer = Lambda(\n",
    "        #    max_pooling, \n",
    "        #    output_shape=pooling_shape)(\n",
    "        #    [cla])\n",
    "        output_layer = Lambda(max_pooling)(cla)\n",
    "\n",
    "    elif model_type == 'decision_level_average_pooling':\n",
    "        '''Global average pooling.\n",
    "\n",
    "        [2] Lin, Min, et al. Qiang Chen, and Shuicheng Yan. \"Network in \n",
    "        network.\" arXiv preprint arXiv:1312.4400 (2013).\n",
    "        '''\n",
    "        cla = Dense(classes_num, activation='sigmoid')(a3)\n",
    "        # output_layer = Lambda(\n",
    "        #    average_pooling,\n",
    "        #    output_shape=pooling_shape)(\n",
    "        #    [cla])\n",
    "        output_layer = Lambda(average_pooling)(cla)\n",
    "\n",
    "    elif model_type == 'decision_level_single_attention':\n",
    "        '''Decision level single attention pooling.\n",
    "        [3] Kong, Qiuqiang, et al. \"Audio Set classification with attention\n",
    "        model: A probabilistic perspective.\" arXiv preprint arXiv:1711.00927\n",
    "        (2017).\n",
    "        '''\n",
    "        cla = Dense(classes_num, activation='sigmoid')(a3)\n",
    "        att = Dense(classes_num, activation='softmax')(a3)\n",
    "        output_layer = Lambda(\n",
    "            attention_pooling, output_shape=pooling_shape)([cla, att])\n",
    "\n",
    "    elif model_type == 'decision_level_multi_attention':\n",
    "        '''Decision level multi attention pooling.\n",
    "        [4] Yu, Changsong, et al. \"Multi-level Attention Model for Weakly\n",
    "        Supervised Audio Classification.\" arXiv preprint arXiv:1803.02353\n",
    "        (2018).\n",
    "        '''\n",
    "        cla1 = Dense(classes_num, activation='sigmoid')(a2)\n",
    "        att1 = Dense(classes_num, activation='softmax')(a2)\n",
    "        out1 = Lambda(\n",
    "            attention_pooling, output_shape=pooling_shape)([cla1, att1])\n",
    "\n",
    "        cla2 = Dense(classes_num, activation='sigmoid')(a3)\n",
    "        att2 = Dense(classes_num, activation='softmax')(a3)\n",
    "        out2 = Lambda(\n",
    "            attention_pooling, output_shape=pooling_shape)([cla2, att2])\n",
    "\n",
    "        b1 = Concatenate(axis=-1)([out1, out2])\n",
    "        b1 = Dense(classes_num)(b1)\n",
    "        \n",
    "        if multilabel:\n",
    "            output_layer = Activation('sigmoid')(b1)\n",
    "        else:\n",
    "            output_layer = Activation('softmax')(b1)\n",
    "\n",
    "    elif model_type == 'feature_level_attention':\n",
    "        '''Feature level attention.\n",
    "        [1] Kong, Qiuqiang, et al. \"Weakly labelled audioset tagging with \n",
    "        attention neural networks.\" (2019).\n",
    "        '''\n",
    "        cla = Dense(hidden_units, activation='linear')(a3)\n",
    "        att = Dense(hidden_units, activation='sigmoid')(a3)\n",
    "        b1 = Lambda(\n",
    "            attention_pooling, output_shape=pooling_shape)([cla, att])\n",
    "\n",
    "        b1 = BatchNormalization()(b1)\n",
    "        b1 = Activation(activation='relu')(b1)\n",
    "        b1 = Dropout(drop_rate)(b1)\n",
    "        \n",
    "        if multilabel:\n",
    "            output_layer = Dense(classes_num, activation='sigmoid')(b1)\n",
    "        else:\n",
    "            output_layer = Dense(classes_num, activation='softmax')(b1)\n",
    "\n",
    "    else:\n",
    "        raise Exception(\"Incorrect model_type!\")\n",
    "\n",
    "    # Build model\n",
    "    model = Model(inputs=input_layer, outputs=output_layer)\n",
    "    \n",
    "    return model"
   ]
  },
  {
   "cell_type": "code",
   "execution_count": 12,
   "metadata": {},
   "outputs": [],
   "source": [
    "def model_cnn14(time_steps, freq_bins, classes_num, pool_size=2, pool_stride=2, conv_dim=16, fcn_dim=512, l2_regu=0., drop_rate=0.):\n",
    "    # input\n",
    "    input_layer = Input(shape=(time_steps, freq_bins, 1), name='input')\n",
    "    \n",
    "    # group 1\n",
    "    y = Conv2D(conv_dim, kernel_size=(3, 3), strides=(1, 1), padding='same', kernel_regularizer=l2(l2_regu))(input_layer)\n",
    "    y = BatchNormalization()(y)\n",
    "    y = Activation(activation='relu')(y)\n",
    "    y = Conv2D(conv_dim, kernel_size=(3, 3), strides=(1, 1), padding='same', kernel_regularizer=l2(l2_regu))(y)\n",
    "    y = BatchNormalization()(y)\n",
    "    y = Activation(activation='relu')(y)\n",
    "    y = MaxPooling2D(pool_size=(2, 2), strides=(2, 2), padding='same')(y)\n",
    "    y = Dropout(drop_rate)(y)\n",
    "    \n",
    "    # group 2\n",
    "    y = Conv2D(conv_dim*2, kernel_size=(3, 3), strides=(1, 1), padding='same', kernel_regularizer=l2(l2_regu))(y)\n",
    "    y = BatchNormalization()(y)\n",
    "    y = Activation(activation='relu')(y)\n",
    "    y = Conv2D(conv_dim*2, kernel_size=(3, 3), strides=(1, 1), padding='same', kernel_regularizer=l2(l2_regu))(y)\n",
    "    y = BatchNormalization()(y)\n",
    "    y = Activation(activation='relu')(y)\n",
    "    y = MaxPooling2D(pool_size=(2, 2), strides=(2, 2), padding='same')(y)\n",
    "    y = Dropout(drop_rate)(y)\n",
    "    \n",
    "    # group 3\n",
    "    y = Conv2D(conv_dim*4, kernel_size=(3, 3), strides=(1, 1), padding='same', kernel_regularizer=l2(l2_regu))(y)\n",
    "    y = BatchNormalization()(y)\n",
    "    y = Activation(activation='relu')(y)\n",
    "    y = Conv2D(conv_dim*4, kernel_size=(3, 3), strides=(1, 1), padding='same', kernel_regularizer=l2(l2_regu))(y)\n",
    "    y = BatchNormalization()(y)\n",
    "    y = Activation(activation='relu')(y)\n",
    "    y = MaxPooling2D(pool_size=(2, 2), strides=(2, 2), padding='same')(y)\n",
    "    y = Dropout(drop_rate)(y)\n",
    "    \n",
    "    # group 4 \n",
    "    y = Conv2D(conv_dim*8, kernel_size=(3, 3), strides=(1, 1), padding='same', kernel_regularizer=l2(l2_regu))(y)\n",
    "    y = BatchNormalization()(y)\n",
    "    y = Activation(activation='relu')(y)\n",
    "    y = Conv2D(conv_dim*8, kernel_size=(3, 3), strides=(1, 1), padding='same', kernel_regularizer=l2(l2_regu))(y)\n",
    "    y = BatchNormalization()(y)\n",
    "    y = Activation(activation='relu')(y)\n",
    "    y = MaxPooling2D(pool_size=(2, 2), strides=(2, 2), padding='same')(y)\n",
    "    y = Dropout(drop_rate)(y)\n",
    "\n",
    "    # group 5\n",
    "    y = Conv2D(conv_dim*16, kernel_size=(3, 3), strides=(1, 1), padding='same', kernel_regularizer=l2(l2_regu))(y)\n",
    "    y = BatchNormalization()(y)\n",
    "    y = Activation(activation='relu')(y)\n",
    "    y = Conv2D(conv_dim*16, kernel_size=(3, 3), strides=(1, 1), padding='same', kernel_regularizer=l2(l2_regu))(y)\n",
    "    y = BatchNormalization()(y)\n",
    "    y = Activation(activation='relu')(y)\n",
    "    y = MaxPooling2D(pool_size=(2, 2), strides=(2, 2), padding='same')(y)\n",
    "    y = Dropout(drop_rate)(y)\n",
    "\n",
    "    # group 6\n",
    "    y = Conv2D(conv_dim*32, kernel_size=(3, 3), strides=(1, 1), padding='same', kernel_regularizer=l2(l2_regu))(y)\n",
    "    y = BatchNormalization()(y)\n",
    "    y = Activation(activation='relu')(y)\n",
    "    y = Conv2D(conv_dim*32, kernel_size=(3, 3), strides=(1, 1), padding='same', kernel_regularizer=l2(l2_regu))(y)\n",
    "    y = BatchNormalization()(y)\n",
    "    y = Activation(activation='relu')(y)\n",
    "    \n",
    "    y = GlobalMaxPooling2D()(y)\n",
    "    \n",
    "    # FC block\n",
    "    y = Dense(fcn_dim, activation='relu', name='cnn14_fcn')(y)  # original 512\n",
    "    x = Dense(classes_num, activation='softmax')(y)\n",
    "    \n",
    "    # Build model\n",
    "    model = Model(inputs=input_layer, outputs=x)\n",
    "    \n",
    "    return model"
   ]
  },
  {
   "cell_type": "markdown",
   "metadata": {},
   "source": [
    "# Model compile, class weight & fitting"
   ]
  },
  {
   "cell_type": "code",
   "execution_count": 13,
   "metadata": {},
   "outputs": [],
   "source": [
    "# def find_best_model(model_folder, remove_others=False):\n",
    "#     model_list = glob.glob(model_folder+'/*.hdf5')\n",
    "#     model_list.sort()\n",
    "#     the_best_model = model_list[-1]\n",
    "    \n",
    "#     if remove_others==True:\n",
    "#         for mm in model_list[:-1]:\n",
    "#             os.remove(mm)\n",
    "            \n",
    "#     print(the_best_model)\n",
    "    \n",
    "#     return the_best_model\n",
    "import re\n",
    "\n",
    "def find_best_model(classifier_path, fmt='epoch_\\d+_valloss_(\\d+.\\d{4})_valacc_\\d+.\\d{4}.hdf5', is_max=False, purge=True):\n",
    "    \"\"\"\n",
    "    Return the path to the model with the best accuracy, given the path to\n",
    "    all the trained classifiers\n",
    "    Args:\n",
    "        classifier_path: path to all the trained classifiers\n",
    "        fmt: e.g. \"epoch_\\d+_[0-1].\\d+_(\\d+.\\d{4}).hdf5\"\n",
    "        'epoch_\\d+_valloss_(\\d+.\\d{4})_valacc_\\d+.\\d{4}.hdf5'\n",
    "        is_max: use max; otherwise, min\n",
    "        purge: True to purge models files except the best one\n",
    "    Return:\n",
    "        the path of the model with the best accuracy\n",
    "    \"\"\"\n",
    "    # list all files ending with .hdf5\n",
    "    day_list = sorted(glob.glob(os.path.join(classifier_path + '/', '*.hdf5')))\n",
    "\n",
    "    # re the last 4 digits for accuracy\n",
    "    hdf5_filename = []\n",
    "    hdf5_accu = np.zeros(len(day_list))\n",
    "    for dd in range(len(day_list)):\n",
    "        filename = os.path.basename(day_list[dd])\n",
    "        hdf5_filename.append(filename)\n",
    "        # m = re.search(\"_F1_(0.\\d{4}).hdf5\", filename)\n",
    "        # m = re.search(\"_([0-1].\\d{4}).hdf5\", filename)\n",
    "        # m = re.search(\"epoch_\\d+_[0-1].\\d+_(\\d+.\\d{4}).hdf5\", filename)\n",
    "        m = re.search(fmt, filename)\n",
    "        try:\n",
    "            hdf5_accu[dd] = float(m.groups()[0])\n",
    "        except:\n",
    "            continue\n",
    "\n",
    "    # select the laregest one and write to the variable classifier_file\n",
    "    if len(hdf5_accu) == 0:\n",
    "        best_model_path = ''\n",
    "        best_accu = 0\n",
    "    else:\n",
    "        if is_max is True:\n",
    "            ind_max = np.argmax(hdf5_accu)\n",
    "        else: # use min instead\n",
    "            ind_max = np.argmin(hdf5_accu)\n",
    "        best_model_path = day_list[int(ind_max)]\n",
    "        best_accu = hdf5_accu[ind_max]\n",
    "        # purge all model files except the best_model\n",
    "        if purge:\n",
    "            for ff in day_list:\n",
    "                if ff != best_model_path:\n",
    "                    os.remove(ff)\n",
    "    print('Best model:'+str(best_accu))\n",
    "    print(best_model_path)\n",
    "    return best_model_path, best_accu\n"
   ]
  },
  {
   "cell_type": "code",
   "execution_count": 14,
   "metadata": {},
   "outputs": [],
   "source": [
    "### cnn4 + attention\n",
    "# model = model_cnn_attention(dim_time, dim_freq, num_species, model_type='decision_level_max_pooling', conv_dim=conv_dim, l2_regu=l2_regu, drop_rate=drop_rate)\n",
    "# model = model_cnn_attention(dim_time, dim_freq, num_species, model_type='decision_level_multi_attention', conv_dim=conv_dim, l2_regu=l2_regu, drop_rate=drop_rate)\n",
    "# model = model_cnn_attention(dim_time, dim_freq, num_species, model_type='feature_level_attention', conv_dim=conv_dim, l2_regu=l2_regu, drop_rate=drop_rate)\n",
    "\n",
    "# vggish\n",
    "# model = model_vggish(dim_time, dim_freq, num_species, conv_dim=conv_dim, fcn_dim=fcn_dim)\n",
    "\n",
    "# cnn10\n",
    "# model = model_cnn10(dim_time, dim_freq, num_species, conv_dim=conv_dim, fcn_dim=fcn_dim, l2_regu=l2_regu, drop_rate=drop_rate)\n",
    "\n",
    "# cnn14\n",
    "# model = model_cnn14(dim_time, dim_freq, num_species, conv_dim=conv_dim, fcn_dim=fcn_dim, l2_regu=l2_regu, drop_rate=drop_rate)\n",
    "\n",
    "# cnn14 attention\n",
    "# model = model_cnn14_attention(dim_time, dim_freq, num_species, model_type='feature_level_attention', conv_dim=conv_dim, pool_size=pool_size, pool_stride=pool_stride, hidden_units=hidden_units, l2_regu=l2_regu, drop_rate=drop_rate)\n",
    "# model = model_cnn14_bigru_attention(dim_time, dim_freq, num_species, model_type='feature_level_attention', conv_dim=conv_dim, rnn_dim=rnn_dim, hidden_units=hidden_units, l2_regu=l2_regu, drop_rate=drop_rate)\n",
    "\n",
    "# model = model_cnn14_attention_multi(dim_time, dim_freq, num_species, model_type='feature_level_attention', conv_dim=conv_dim, pool_size=pool_size, pool_stride=pool_stride, hidden_units=hidden_units, l2_regu=l2_regu, drop_rate=drop_rate)\n",
    "# loss = CategoricalCrossentropy()\n",
    "# model.compile(optimizer=tf.keras.optimizers.Adam(learning_rate=learning_rate), loss=loss, metrics=['accuracy'])\n",
    "\n"
   ]
  },
  {
   "cell_type": "code",
   "execution_count": 15,
   "metadata": {},
   "outputs": [],
   "source": [
    "boundaries = [20, 40]\n",
    "values = [1.0e-3, 3.33e-4, 1.0e-4]\n",
    "learning_rate_fn = PiecewiseConstantDecay(boundaries, values)"
   ]
  },
  {
   "cell_type": "markdown",
   "metadata": {},
   "source": [
    "# Cross validation"
   ]
  },
  {
   "cell_type": "code",
   "execution_count": 16,
   "metadata": {},
   "outputs": [],
   "source": [
    "today = datetime.now()\n",
    "# create a folder based on date & time\n",
    "fit_result_path1 = os.path.join(fit_result_path, today.strftime('%Y%m%d_%H%M%S'))"
   ]
  },
  {
   "cell_type": "markdown",
   "metadata": {},
   "source": [
    "## STAR2000"
   ]
  },
  {
   "cell_type": "code",
   "execution_count": 17,
   "metadata": {},
   "outputs": [
    {
     "name": "stdout",
     "output_type": "stream",
     "text": [
      "STAR2000\n"
     ]
    }
   ],
   "source": [
    "ee = deployment[0]\n",
    "print(ee)"
   ]
  },
  {
   "cell_type": "code",
   "execution_count": 18,
   "metadata": {},
   "outputs": [],
   "source": [
    "# Training data\n",
    "fea_temp = np.load(os.path.join(feature_path, 'train_oswald_no_'+ee+'.npz'))\n",
    "fea_train = fea_temp['fea_train']\n",
    "label_train_list = fea_temp['label_train']\n",
    "del fea_temp"
   ]
  },
  {
   "cell_type": "code",
   "execution_count": 19,
   "metadata": {},
   "outputs": [],
   "source": [
    "label_train = np.zeros(len(label_train_list))\n",
    "for ii in range(len(label_train_list)):\n",
    "    label_train[ii] = species_dict[label_train_list[ii]]"
   ]
  },
  {
   "cell_type": "code",
   "execution_count": 20,
   "metadata": {},
   "outputs": [],
   "source": [
    "# Testing data\n",
    "fea_temp = np.load(os.path.join(feature_path, 'oswald_'+ee+'_orig.npz'))\n",
    "fea_test = fea_temp['feas_orig']\n",
    "label_test_list = fea_temp['labels_orig']\n",
    "\n",
    "fea_test = fea_test[:,:100,:]\n",
    "label_test = np.zeros(len(label_test_list))\n",
    "for ii in range(len(label_test_list)):\n",
    "    label_test[ii] = species_dict[label_test_list[ii]]"
   ]
  },
  {
   "cell_type": "code",
   "execution_count": 21,
   "metadata": {},
   "outputs": [],
   "source": [
    "fea_train = fea_train[:,:100,:]"
   ]
  },
  {
   "cell_type": "code",
   "execution_count": 22,
   "metadata": {},
   "outputs": [],
   "source": [
    "label_train = np.zeros(len(label_train_list))\n",
    "for ii in range(len(label_train_list)):\n",
    "    label_train[ii] = species_dict[label_train_list[ii]]"
   ]
  },
  {
   "cell_type": "code",
   "execution_count": 23,
   "metadata": {
    "scrolled": true
   },
   "outputs": [
    {
     "data": {
      "text/plain": [
       "Counter({'BD': 15028,\n",
       "         'CD': 4848,\n",
       "         'FKW': 20160,\n",
       "         'SPIN': 5734,\n",
       "         'SPT': 13436,\n",
       "         'STR': 12528,\n",
       "         'PLT': 14288,\n",
       "         'RT': 10944})"
      ]
     },
     "execution_count": 23,
     "metadata": {},
     "output_type": "execute_result"
    }
   ],
   "source": [
    "Counter(label_train_list)"
   ]
  },
  {
   "cell_type": "code",
   "execution_count": 24,
   "metadata": {},
   "outputs": [
    {
     "data": {
      "text/plain": [
       "Counter({0.0: 121, 1.0: 3964, 5.0: 31, 6.0: 76, 4.0: 491, 3.0: 845, 2.0: 1140})"
      ]
     },
     "execution_count": 24,
     "metadata": {},
     "output_type": "execute_result"
    }
   ],
   "source": [
    "Counter(label_test.tolist())"
   ]
  },
  {
   "cell_type": "code",
   "execution_count": 25,
   "metadata": {},
   "outputs": [],
   "source": [
    "fit_result_path2 = os.path.join(fit_result_path1, ee)\n",
    "if not os.path.exists(fit_result_path2):\n",
    "    makedirs(fit_result_path2)"
   ]
  },
  {
   "cell_type": "code",
   "execution_count": 26,
   "metadata": {},
   "outputs": [
    {
     "name": "stdout",
     "output_type": "stream",
     "text": [
      "feature train shape: (96966, 100, 128)\n",
      "feature test shape: (6668, 100, 128)\n",
      "label train shape: (96966,)\n",
      "label test shape: (6668,)\n",
      "dim_time: 100\n",
      "dim_freq: 128\n"
     ]
    }
   ],
   "source": [
    "print('feature train shape: '+str(fea_train.shape))\n",
    "print('feature test shape: '+str(fea_test.shape))\n",
    "print('label train shape: '+str(label_train.shape))\n",
    "print('label test shape: '+str(label_test.shape))\n",
    "\n",
    "dim_time = fea_train.shape[1]\n",
    "dim_freq = fea_train.shape[2]\n",
    "print('dim_time: '+str(dim_time))\n",
    "print('dim_freq: '+str(dim_freq))"
   ]
  },
  {
   "cell_type": "code",
   "execution_count": 27,
   "metadata": {},
   "outputs": [],
   "source": [
    "# shuffle features & labels\n",
    "fea_train, label_train = shuffle(fea_train, label_train, random_state=0)\n",
    "fea_test, label_test = shuffle(fea_test, label_test, random_state=0)"
   ]
  },
  {
   "cell_type": "code",
   "execution_count": 28,
   "metadata": {},
   "outputs": [],
   "source": [
    "# class weight\n",
    "weights = compute_class_weight(class_weight='balanced', classes=np.unique(label_train), y=label_train)\n",
    "\n",
    "class_weights = dict()\n",
    "for ii in range(num_species):\n",
    "    class_weights[ii] = weights[ii]"
   ]
  },
  {
   "cell_type": "code",
   "execution_count": 29,
   "metadata": {},
   "outputs": [],
   "source": [
    "fea_train = np.expand_dims(fea_train, axis=3)\n",
    "fea_test = np.expand_dims(fea_test, axis=3)"
   ]
  },
  {
   "cell_type": "code",
   "execution_count": 30,
   "metadata": {},
   "outputs": [],
   "source": [
    "fea_train, fea_validate, label_train, label_validate = train_test_split(fea_train, label_train, test_size=0.30, random_state=42)\n",
    "\n",
    "train_generator = DataGenerator(fea_train, label_train, batch_size=batch_size, num_classes=num_species)\n",
    "del fea_train\n",
    "validate_generator = DataGenerator(fea_validate, label_validate, batch_size=batch_size, num_classes=num_species)\n",
    "del fea_validate\n",
    "\n",
    "# test_generator = DataGenerator(fea_test, label_test, batch_size=batch_size, num_classes=num_species)\n"
   ]
  },
  {
   "cell_type": "markdown",
   "metadata": {},
   "source": [
    "### Training the model"
   ]
  },
  {
   "cell_type": "code",
   "execution_count": 31,
   "metadata": {
    "scrolled": true
   },
   "outputs": [
    {
     "name": "stdout",
     "output_type": "stream",
     "text": [
      "Epoch 1/200\n",
      "2121/2121 [==============================] - ETA: 0s - loss: 2.0845 - accuracy: 0.1162\n",
      "Epoch 00001: val_loss improved from inf to 2.07992, saving model to /home/ys587/__Data/__whistle/__whislte_30_species/__fit_result_species/20210224_120153/STAR2000/epoch_01_valloss_2.0799_valacc_0.0830.hdf5\n",
      "2121/2121 [==============================] - 70s 33ms/step - loss: 2.0845 - accuracy: 0.1162 - val_loss: 2.0799 - val_accuracy: 0.0830\n",
      "Epoch 2/200\n",
      "2121/2121 [==============================] - ETA: 0s - loss: 2.0800 - accuracy: 0.1038\n",
      "Epoch 00002: val_loss improved from 2.07992 to 2.07948, saving model to /home/ys587/__Data/__whistle/__whislte_30_species/__fit_result_species/20210224_120153/STAR2000/epoch_02_valloss_2.0795_valacc_0.0549.hdf5\n",
      "2121/2121 [==============================] - 70s 33ms/step - loss: 2.0800 - accuracy: 0.1038 - val_loss: 2.0795 - val_accuracy: 0.0549\n",
      "Epoch 3/200\n",
      "2121/2121 [==============================] - ETA: 0s - loss: 2.0801 - accuracy: 0.1070\n",
      "Epoch 00003: val_loss did not improve from 2.07948\n",
      "2121/2121 [==============================] - 69s 33ms/step - loss: 2.0801 - accuracy: 0.1070 - val_loss: 2.0796 - val_accuracy: 0.1404\n",
      "Epoch 4/200\n",
      "2121/2121 [==============================] - ETA: 0s - loss: 2.0800 - accuracy: 0.1182\n",
      "Epoch 00004: val_loss did not improve from 2.07948\n",
      "2121/2121 [==============================] - 69s 33ms/step - loss: 2.0800 - accuracy: 0.1182 - val_loss: 2.0796 - val_accuracy: 0.0777\n",
      "Epoch 5/200\n",
      "2121/2121 [==============================] - ETA: 0s - loss: 2.0800 - accuracy: 0.1367\n",
      "Epoch 00005: val_loss improved from 2.07948 to 2.07944, saving model to /home/ys587/__Data/__whistle/__whislte_30_species/__fit_result_species/20210224_120153/STAR2000/epoch_05_valloss_2.0794_valacc_0.1427.hdf5\n",
      "2121/2121 [==============================] - 70s 33ms/step - loss: 2.0800 - accuracy: 0.1367 - val_loss: 2.0794 - val_accuracy: 0.1427\n",
      "Epoch 6/200\n",
      "2121/2121 [==============================] - ETA: 0s - loss: 2.0800 - accuracy: 0.1531\n",
      "Epoch 00006: val_loss did not improve from 2.07944\n",
      "2121/2121 [==============================] - 69s 33ms/step - loss: 2.0800 - accuracy: 0.1531 - val_loss: 2.0794 - val_accuracy: 0.1426\n",
      "Epoch 7/200\n",
      "2121/2121 [==============================] - ETA: 0s - loss: 2.0800 - accuracy: 0.1400\n",
      "Epoch 00007: val_loss did not improve from 2.07944\n",
      "2121/2121 [==============================] - 69s 33ms/step - loss: 2.0800 - accuracy: 0.1400 - val_loss: 2.0794 - val_accuracy: 0.1642\n",
      "Epoch 8/200\n",
      "2121/2121 [==============================] - ETA: 0s - loss: 2.0800 - accuracy: 0.1162\n",
      "Epoch 00008: val_loss did not improve from 2.07944\n",
      "2121/2121 [==============================] - 69s 33ms/step - loss: 2.0800 - accuracy: 0.1162 - val_loss: 2.0794 - val_accuracy: 0.1636\n",
      "Epoch 9/200\n",
      "2120/2121 [============================>.] - ETA: 0s - loss: 2.0801 - accuracy: 0.1279\n",
      "Epoch 00009: val_loss did not improve from 2.07944\n",
      "2121/2121 [==============================] - 69s 33ms/step - loss: 2.0800 - accuracy: 0.1279 - val_loss: 2.0795 - val_accuracy: 0.1322\n",
      "Epoch 10/200\n",
      "2121/2121 [==============================] - ETA: 0s - loss: 2.0805 - accuracy: 0.1524\n",
      "Epoch 00010: val_loss improved from 2.07944 to 2.07918, saving model to /home/ys587/__Data/__whistle/__whislte_30_species/__fit_result_species/20210224_120153/STAR2000/epoch_10_valloss_2.0792_valacc_0.1566.hdf5\n",
      "2121/2121 [==============================] - 70s 33ms/step - loss: 2.0805 - accuracy: 0.1524 - val_loss: 2.0792 - val_accuracy: 0.1566\n",
      "Epoch 11/200\n",
      "2121/2121 [==============================] - ETA: 0s - loss: 2.0378 - accuracy: 0.1832\n",
      "Epoch 00011: val_loss improved from 2.07918 to 1.93856, saving model to /home/ys587/__Data/__whistle/__whislte_30_species/__fit_result_species/20210224_120153/STAR2000/epoch_11_valloss_1.9386_valacc_0.2658.hdf5\n",
      "2121/2121 [==============================] - 70s 33ms/step - loss: 2.0378 - accuracy: 0.1832 - val_loss: 1.9386 - val_accuracy: 0.2658\n",
      "Epoch 12/200\n",
      "2121/2121 [==============================] - ETA: 0s - loss: 1.8071 - accuracy: 0.2973\n",
      "Epoch 00012: val_loss improved from 1.93856 to 1.74759, saving model to /home/ys587/__Data/__whistle/__whislte_30_species/__fit_result_species/20210224_120153/STAR2000/epoch_12_valloss_1.7476_valacc_0.3157.hdf5\n",
      "2121/2121 [==============================] - 69s 33ms/step - loss: 1.8071 - accuracy: 0.2973 - val_loss: 1.7476 - val_accuracy: 0.3157\n",
      "Epoch 13/200\n",
      "2121/2121 [==============================] - ETA: 0s - loss: 1.6650 - accuracy: 0.3541\n",
      "Epoch 00013: val_loss did not improve from 1.74759\n",
      "2121/2121 [==============================] - 69s 33ms/step - loss: 1.6650 - accuracy: 0.3541 - val_loss: 1.8650 - val_accuracy: 0.3199\n",
      "Epoch 14/200\n",
      "2121/2121 [==============================] - ETA: 0s - loss: 1.5310 - accuracy: 0.4213\n",
      "Epoch 00014: val_loss did not improve from 1.74759\n",
      "2121/2121 [==============================] - 69s 33ms/step - loss: 1.5310 - accuracy: 0.4213 - val_loss: 1.9830 - val_accuracy: 0.2120\n",
      "Epoch 15/200\n",
      "2121/2121 [==============================] - ETA: 0s - loss: 1.4452 - accuracy: 0.4590\n",
      "Epoch 00015: val_loss improved from 1.74759 to 1.54207, saving model to /home/ys587/__Data/__whistle/__whislte_30_species/__fit_result_species/20210224_120153/STAR2000/epoch_15_valloss_1.5421_valacc_0.4259.hdf5\n",
      "2121/2121 [==============================] - 70s 33ms/step - loss: 1.4452 - accuracy: 0.4590 - val_loss: 1.5421 - val_accuracy: 0.4259\n",
      "Epoch 16/200\n",
      "2121/2121 [==============================] - ETA: 0s - loss: 1.3830 - accuracy: 0.4872\n",
      "Epoch 00016: val_loss improved from 1.54207 to 1.49814, saving model to /home/ys587/__Data/__whistle/__whislte_30_species/__fit_result_species/20210224_120153/STAR2000/epoch_16_valloss_1.4981_valacc_0.4173.hdf5\n",
      "2121/2121 [==============================] - 70s 33ms/step - loss: 1.3830 - accuracy: 0.4872 - val_loss: 1.4981 - val_accuracy: 0.4173\n",
      "Epoch 17/200\n",
      "2121/2121 [==============================] - ETA: 0s - loss: 1.3316 - accuracy: 0.5077\n",
      "Epoch 00017: val_loss did not improve from 1.49814\n",
      "2121/2121 [==============================] - 69s 33ms/step - loss: 1.3316 - accuracy: 0.5077 - val_loss: 2.0379 - val_accuracy: 0.4089\n",
      "Epoch 18/200\n",
      "2121/2121 [==============================] - ETA: 0s - loss: 1.2912 - accuracy: 0.5232\n",
      "Epoch 00018: val_loss did not improve from 1.49814\n",
      "2121/2121 [==============================] - 69s 33ms/step - loss: 1.2912 - accuracy: 0.5232 - val_loss: 1.7548 - val_accuracy: 0.3815\n",
      "Epoch 19/200\n",
      "2120/2121 [============================>.] - ETA: 0s - loss: 1.2517 - accuracy: 0.5387\n",
      "Epoch 00019: val_loss improved from 1.49814 to 1.26980, saving model to /home/ys587/__Data/__whistle/__whislte_30_species/__fit_result_species/20210224_120153/STAR2000/epoch_19_valloss_1.2698_valacc_0.5146.hdf5\n",
      "2121/2121 [==============================] - 70s 33ms/step - loss: 1.2517 - accuracy: 0.5387 - val_loss: 1.2698 - val_accuracy: 0.5146\n",
      "Epoch 20/200\n",
      "2121/2121 [==============================] - ETA: 0s - loss: 1.2190 - accuracy: 0.5529\n",
      "Epoch 00020: val_loss did not improve from 1.26980\n",
      "2121/2121 [==============================] - 69s 33ms/step - loss: 1.2190 - accuracy: 0.5529 - val_loss: 1.5256 - val_accuracy: 0.4390\n",
      "Epoch 21/200\n",
      "2121/2121 [==============================] - ETA: 0s - loss: 1.1866 - accuracy: 0.5650\n",
      "Epoch 00021: val_loss did not improve from 1.26980\n",
      "2121/2121 [==============================] - 69s 33ms/step - loss: 1.1866 - accuracy: 0.5650 - val_loss: 1.4187 - val_accuracy: 0.4639\n",
      "Epoch 22/200\n",
      "2121/2121 [==============================] - ETA: 0s - loss: 1.1557 - accuracy: 0.5765\n",
      "Epoch 00022: val_loss improved from 1.26980 to 1.19289, saving model to /home/ys587/__Data/__whistle/__whislte_30_species/__fit_result_species/20210224_120153/STAR2000/epoch_22_valloss_1.1929_valacc_0.5515.hdf5\n",
      "2121/2121 [==============================] - 69s 33ms/step - loss: 1.1557 - accuracy: 0.5765 - val_loss: 1.1929 - val_accuracy: 0.5515\n",
      "Epoch 23/200\n",
      "2120/2121 [============================>.] - ETA: 0s - loss: 1.1294 - accuracy: 0.5861\n",
      "Epoch 00023: val_loss improved from 1.19289 to 1.12506, saving model to /home/ys587/__Data/__whistle/__whislte_30_species/__fit_result_species/20210224_120153/STAR2000/epoch_23_valloss_1.1251_valacc_0.5744.hdf5\n",
      "2121/2121 [==============================] - 70s 33ms/step - loss: 1.1293 - accuracy: 0.5861 - val_loss: 1.1251 - val_accuracy: 0.5744\n",
      "Epoch 24/200\n",
      "2121/2121 [==============================] - ETA: 0s - loss: 1.0975 - accuracy: 0.5967\n",
      "Epoch 00024: val_loss did not improve from 1.12506\n",
      "2121/2121 [==============================] - 69s 33ms/step - loss: 1.0975 - accuracy: 0.5967 - val_loss: 1.3584 - val_accuracy: 0.5287\n",
      "Epoch 25/200\n",
      "2120/2121 [============================>.] - ETA: 0s - loss: 1.0735 - accuracy: 0.6067\n",
      "Epoch 00025: val_loss did not improve from 1.12506\n",
      "2121/2121 [==============================] - 69s 33ms/step - loss: 1.0736 - accuracy: 0.6068 - val_loss: 1.1890 - val_accuracy: 0.5513\n",
      "Epoch 26/200\n",
      "2121/2121 [==============================] - ETA: 0s - loss: 1.0507 - accuracy: 0.6110\n",
      "Epoch 00026: val_loss did not improve from 1.12506\n",
      "2121/2121 [==============================] - 69s 33ms/step - loss: 1.0507 - accuracy: 0.6110 - val_loss: 1.6376 - val_accuracy: 0.4676\n",
      "Epoch 27/200\n",
      "2121/2121 [==============================] - ETA: 0s - loss: 1.0274 - accuracy: 0.6234\n",
      "Epoch 00027: val_loss improved from 1.12506 to 1.03488, saving model to /home/ys587/__Data/__whistle/__whislte_30_species/__fit_result_species/20210224_120153/STAR2000/epoch_27_valloss_1.0349_valacc_0.6061.hdf5\n",
      "2121/2121 [==============================] - 69s 33ms/step - loss: 1.0274 - accuracy: 0.6234 - val_loss: 1.0349 - val_accuracy: 0.6061\n",
      "Epoch 28/200\n",
      "2121/2121 [==============================] - ETA: 0s - loss: 1.0032 - accuracy: 0.6300\n",
      "Epoch 00028: val_loss did not improve from 1.03488\n",
      "2121/2121 [==============================] - 69s 33ms/step - loss: 1.0032 - accuracy: 0.6300 - val_loss: 1.0663 - val_accuracy: 0.5967\n",
      "Epoch 29/200\n",
      "2121/2121 [==============================] - ETA: 0s - loss: 0.9792 - accuracy: 0.6405\n",
      "Epoch 00029: val_loss did not improve from 1.03488\n",
      "2121/2121 [==============================] - 69s 33ms/step - loss: 0.9792 - accuracy: 0.6405 - val_loss: 1.2813 - val_accuracy: 0.5162\n",
      "Epoch 30/200\n",
      "2120/2121 [============================>.] - ETA: 0s - loss: 0.9572 - accuracy: 0.6457\n",
      "Epoch 00030: val_loss improved from 1.03488 to 0.99812, saving model to /home/ys587/__Data/__whistle/__whislte_30_species/__fit_result_species/20210224_120153/STAR2000/epoch_30_valloss_0.9981_valacc_0.6270.hdf5\n",
      "2121/2121 [==============================] - 70s 33ms/step - loss: 0.9571 - accuracy: 0.6457 - val_loss: 0.9981 - val_accuracy: 0.6270\n",
      "Epoch 31/200\n",
      "2121/2121 [==============================] - ETA: 0s - loss: 0.9342 - accuracy: 0.6550\n",
      "Epoch 00031: val_loss did not improve from 0.99812\n",
      "2121/2121 [==============================] - 69s 33ms/step - loss: 0.9342 - accuracy: 0.6550 - val_loss: 1.0042 - val_accuracy: 0.6214\n",
      "Epoch 32/200\n",
      "2120/2121 [============================>.] - ETA: 0s - loss: 0.9111 - accuracy: 0.6611\n",
      "Epoch 00032: val_loss did not improve from 0.99812\n",
      "2121/2121 [==============================] - 69s 33ms/step - loss: 0.9111 - accuracy: 0.6611 - val_loss: 1.0150 - val_accuracy: 0.6263\n",
      "Epoch 33/200\n",
      "2121/2121 [==============================] - ETA: 0s - loss: 0.8850 - accuracy: 0.6737\n",
      "Epoch 00033: val_loss improved from 0.99812 to 0.96247, saving model to /home/ys587/__Data/__whistle/__whislte_30_species/__fit_result_species/20210224_120153/STAR2000/epoch_33_valloss_0.9625_valacc_0.6383.hdf5\n",
      "2121/2121 [==============================] - 70s 33ms/step - loss: 0.8850 - accuracy: 0.6737 - val_loss: 0.9625 - val_accuracy: 0.6383\n",
      "Epoch 34/200\n",
      "2121/2121 [==============================] - ETA: 0s - loss: 0.8670 - accuracy: 0.6780\n",
      "Epoch 00034: val_loss did not improve from 0.96247\n",
      "2121/2121 [==============================] - 69s 33ms/step - loss: 0.8670 - accuracy: 0.6780 - val_loss: 1.0981 - val_accuracy: 0.6034\n",
      "Epoch 35/200\n",
      "2121/2121 [==============================] - ETA: 0s - loss: 0.8437 - accuracy: 0.6870\n",
      "Epoch 00035: val_loss did not improve from 0.96247\n",
      "2121/2121 [==============================] - 69s 33ms/step - loss: 0.8437 - accuracy: 0.6870 - val_loss: 1.0356 - val_accuracy: 0.6149\n",
      "Epoch 36/200\n",
      "2121/2121 [==============================] - ETA: 0s - loss: 0.8230 - accuracy: 0.6921\n",
      "Epoch 00036: val_loss did not improve from 0.96247\n",
      "2121/2121 [==============================] - 69s 33ms/step - loss: 0.8230 - accuracy: 0.6921 - val_loss: 1.0403 - val_accuracy: 0.6202\n",
      "Epoch 37/200\n",
      "2121/2121 [==============================] - ETA: 0s - loss: 0.8009 - accuracy: 0.6996\n",
      "Epoch 00037: val_loss improved from 0.96247 to 0.93843, saving model to /home/ys587/__Data/__whistle/__whislte_30_species/__fit_result_species/20210224_120153/STAR2000/epoch_37_valloss_0.9384_valacc_0.6526.hdf5\n",
      "2121/2121 [==============================] - 70s 33ms/step - loss: 0.8009 - accuracy: 0.6996 - val_loss: 0.9384 - val_accuracy: 0.6526\n",
      "Epoch 38/200\n",
      "2121/2121 [==============================] - ETA: 0s - loss: 0.7834 - accuracy: 0.7063\n",
      "Epoch 00038: val_loss did not improve from 0.93843\n",
      "2121/2121 [==============================] - 69s 33ms/step - loss: 0.7834 - accuracy: 0.7063 - val_loss: 1.1965 - val_accuracy: 0.5923\n",
      "Epoch 39/200\n",
      "2121/2121 [==============================] - ETA: 0s - loss: 0.7592 - accuracy: 0.7147\n",
      "Epoch 00039: val_loss did not improve from 0.93843\n",
      "2121/2121 [==============================] - 69s 33ms/step - loss: 0.7592 - accuracy: 0.7147 - val_loss: 1.2072 - val_accuracy: 0.5781\n",
      "Epoch 40/200\n",
      "2121/2121 [==============================] - ETA: 0s - loss: 0.7411 - accuracy: 0.7212\n",
      "Epoch 00040: val_loss did not improve from 0.93843\n",
      "2121/2121 [==============================] - 69s 33ms/step - loss: 0.7411 - accuracy: 0.7212 - val_loss: 1.0133 - val_accuracy: 0.6550\n",
      "Epoch 41/200\n",
      "2121/2121 [==============================] - ETA: 0s - loss: 0.7203 - accuracy: 0.7273\n",
      "Epoch 00041: val_loss improved from 0.93843 to 0.87757, saving model to /home/ys587/__Data/__whistle/__whislte_30_species/__fit_result_species/20210224_120153/STAR2000/epoch_41_valloss_0.8776_valacc_0.6793.hdf5\n",
      "2121/2121 [==============================] - 70s 33ms/step - loss: 0.7203 - accuracy: 0.7273 - val_loss: 0.8776 - val_accuracy: 0.6793\n",
      "Epoch 42/200\n",
      "2121/2121 [==============================] - ETA: 0s - loss: 0.6966 - accuracy: 0.7365\n",
      "Epoch 00042: val_loss did not improve from 0.87757\n",
      "2121/2121 [==============================] - 69s 33ms/step - loss: 0.6966 - accuracy: 0.7365 - val_loss: 1.4596 - val_accuracy: 0.5924\n",
      "Epoch 43/200\n",
      "2121/2121 [==============================] - ETA: 0s - loss: 0.6766 - accuracy: 0.7433\n",
      "Epoch 00043: val_loss did not improve from 0.87757\n",
      "2121/2121 [==============================] - 69s 33ms/step - loss: 0.6766 - accuracy: 0.7433 - val_loss: 1.0380 - val_accuracy: 0.6539\n",
      "Epoch 44/200\n",
      "2121/2121 [==============================] - ETA: 0s - loss: 0.6635 - accuracy: 0.7471\n",
      "Epoch 00044: val_loss did not improve from 0.87757\n",
      "2121/2121 [==============================] - 69s 33ms/step - loss: 0.6635 - accuracy: 0.7471 - val_loss: 1.5649 - val_accuracy: 0.5529\n",
      "Epoch 45/200\n",
      "2121/2121 [==============================] - ETA: 0s - loss: 0.6439 - accuracy: 0.7540\n",
      "Epoch 00045: val_loss did not improve from 0.87757\n",
      "2121/2121 [==============================] - 69s 33ms/step - loss: 0.6439 - accuracy: 0.7540 - val_loss: 0.9245 - val_accuracy: 0.6675\n",
      "Epoch 46/200\n",
      "2121/2121 [==============================] - ETA: 0s - loss: 0.6259 - accuracy: 0.7604\n",
      "Epoch 00046: val_loss did not improve from 0.87757\n",
      "2121/2121 [==============================] - 69s 33ms/step - loss: 0.6259 - accuracy: 0.7604 - val_loss: 0.9194 - val_accuracy: 0.6872\n",
      "Epoch 47/200\n",
      "2120/2121 [============================>.] - ETA: 0s - loss: 0.6070 - accuracy: 0.7679\n",
      "Epoch 00047: val_loss did not improve from 0.87757\n",
      "2121/2121 [==============================] - 69s 33ms/step - loss: 0.6070 - accuracy: 0.7679 - val_loss: 1.0563 - val_accuracy: 0.6390\n",
      "Epoch 48/200\n",
      "2121/2121 [==============================] - ETA: 0s - loss: 0.5907 - accuracy: 0.7735\n",
      "Epoch 00048: val_loss did not improve from 0.87757\n",
      "2121/2121 [==============================] - 69s 33ms/step - loss: 0.5907 - accuracy: 0.7735 - val_loss: 0.9199 - val_accuracy: 0.6838\n",
      "Epoch 49/200\n",
      "2121/2121 [==============================] - ETA: 0s - loss: 0.5686 - accuracy: 0.7803\n",
      "Epoch 00049: val_loss did not improve from 0.87757\n",
      "2121/2121 [==============================] - 69s 33ms/step - loss: 0.5686 - accuracy: 0.7803 - val_loss: 0.9186 - val_accuracy: 0.6782\n",
      "Epoch 50/200\n",
      "2121/2121 [==============================] - ETA: 0s - loss: 0.5549 - accuracy: 0.7868\n",
      "Epoch 00050: val_loss did not improve from 0.87757\n",
      "2121/2121 [==============================] - 69s 33ms/step - loss: 0.5549 - accuracy: 0.7868 - val_loss: 1.0635 - val_accuracy: 0.6700\n",
      "Epoch 51/200\n",
      "2120/2121 [============================>.] - ETA: 0s - loss: 0.5414 - accuracy: 0.7923\n",
      "Epoch 00051: val_loss did not improve from 0.87757\n",
      "2121/2121 [==============================] - 70s 33ms/step - loss: 0.5414 - accuracy: 0.7923 - val_loss: 1.2582 - val_accuracy: 0.6097\n",
      "Epoch 52/200\n",
      "2121/2121 [==============================] - ETA: 0s - loss: 0.5252 - accuracy: 0.7968\n",
      "Epoch 00052: val_loss did not improve from 0.87757\n",
      "2121/2121 [==============================] - 69s 33ms/step - loss: 0.5252 - accuracy: 0.7968 - val_loss: 0.9245 - val_accuracy: 0.7043\n",
      "Epoch 53/200\n",
      "2121/2121 [==============================] - ETA: 0s - loss: 0.5126 - accuracy: 0.8012\n",
      "Epoch 00053: val_loss did not improve from 0.87757\n",
      "2121/2121 [==============================] - 69s 33ms/step - loss: 0.5126 - accuracy: 0.8012 - val_loss: 0.9910 - val_accuracy: 0.6685\n",
      "Epoch 54/200\n",
      "2121/2121 [==============================] - ETA: 0s - loss: 0.4992 - accuracy: 0.8072\n",
      "Epoch 00054: val_loss improved from 0.87757 to 0.84423, saving model to /home/ys587/__Data/__whistle/__whislte_30_species/__fit_result_species/20210224_120153/STAR2000/epoch_54_valloss_0.8442_valacc_0.7074.hdf5\n",
      "2121/2121 [==============================] - 70s 33ms/step - loss: 0.4992 - accuracy: 0.8072 - val_loss: 0.8442 - val_accuracy: 0.7074\n",
      "Epoch 55/200\n",
      "2121/2121 [==============================] - ETA: 0s - loss: 0.4797 - accuracy: 0.8147\n",
      "Epoch 00055: val_loss did not improve from 0.84423\n",
      "2121/2121 [==============================] - 69s 33ms/step - loss: 0.4797 - accuracy: 0.8147 - val_loss: 1.1119 - val_accuracy: 0.6829\n",
      "Epoch 56/200\n",
      "2121/2121 [==============================] - ETA: 0s - loss: 0.4682 - accuracy: 0.8182\n",
      "Epoch 00056: val_loss did not improve from 0.84423\n",
      "2121/2121 [==============================] - 69s 33ms/step - loss: 0.4682 - accuracy: 0.8182 - val_loss: 1.0596 - val_accuracy: 0.6570\n",
      "Epoch 57/200\n",
      "2121/2121 [==============================] - ETA: 0s - loss: 0.4546 - accuracy: 0.8232\n",
      "Epoch 00057: val_loss did not improve from 0.84423\n",
      "2121/2121 [==============================] - 69s 33ms/step - loss: 0.4546 - accuracy: 0.8232 - val_loss: 1.1874 - val_accuracy: 0.6764\n",
      "Epoch 58/200\n",
      "2121/2121 [==============================] - ETA: 0s - loss: 0.4398 - accuracy: 0.8284\n",
      "Epoch 00058: val_loss did not improve from 0.84423\n",
      "2121/2121 [==============================] - 69s 33ms/step - loss: 0.4398 - accuracy: 0.8284 - val_loss: 0.8996 - val_accuracy: 0.7086\n",
      "Epoch 59/200\n",
      "2121/2121 [==============================] - ETA: 0s - loss: 0.4285 - accuracy: 0.8326\n",
      "Epoch 00059: val_loss did not improve from 0.84423\n",
      "2121/2121 [==============================] - 69s 33ms/step - loss: 0.4285 - accuracy: 0.8326 - val_loss: 0.9430 - val_accuracy: 0.7042\n",
      "Epoch 60/200\n",
      "2121/2121 [==============================] - ETA: 0s - loss: 0.4080 - accuracy: 0.8404\n",
      "Epoch 00060: val_loss did not improve from 0.84423\n",
      "2121/2121 [==============================] - 69s 33ms/step - loss: 0.4080 - accuracy: 0.8404 - val_loss: 0.9890 - val_accuracy: 0.7037\n",
      "Epoch 61/200\n",
      "2121/2121 [==============================] - ETA: 0s - loss: 0.4005 - accuracy: 0.8429\n",
      "Epoch 00061: val_loss did not improve from 0.84423\n",
      "2121/2121 [==============================] - 69s 33ms/step - loss: 0.4005 - accuracy: 0.8429 - val_loss: 0.9213 - val_accuracy: 0.7160\n",
      "Epoch 62/200\n",
      "2121/2121 [==============================] - ETA: 0s - loss: 0.3890 - accuracy: 0.8480\n",
      "Epoch 00062: val_loss did not improve from 0.84423\n",
      "2121/2121 [==============================] - 69s 33ms/step - loss: 0.3890 - accuracy: 0.8480 - val_loss: 0.9727 - val_accuracy: 0.6992\n",
      "Epoch 63/200\n",
      "2121/2121 [==============================] - ETA: 0s - loss: 0.3725 - accuracy: 0.8524\n",
      "Epoch 00063: val_loss did not improve from 0.84423\n",
      "2121/2121 [==============================] - 69s 33ms/step - loss: 0.3725 - accuracy: 0.8524 - val_loss: 1.2938 - val_accuracy: 0.6558\n",
      "Epoch 64/200\n",
      "2121/2121 [==============================] - ETA: 0s - loss: 0.3648 - accuracy: 0.8561\n",
      "Epoch 00064: val_loss did not improve from 0.84423\n",
      "2121/2121 [==============================] - 69s 33ms/step - loss: 0.3648 - accuracy: 0.8561 - val_loss: 0.8811 - val_accuracy: 0.7267\n",
      "Epoch 65/200\n",
      "2121/2121 [==============================] - ETA: 0s - loss: 0.3506 - accuracy: 0.8624\n",
      "Epoch 00065: val_loss did not improve from 0.84423\n",
      "2121/2121 [==============================] - 69s 33ms/step - loss: 0.3506 - accuracy: 0.8624 - val_loss: 0.8954 - val_accuracy: 0.7206\n",
      "Epoch 66/200\n",
      "2120/2121 [============================>.] - ETA: 0s - loss: 0.3398 - accuracy: 0.8651\n",
      "Epoch 00066: val_loss did not improve from 0.84423\n",
      "2121/2121 [==============================] - 69s 33ms/step - loss: 0.3398 - accuracy: 0.8651 - val_loss: 0.9417 - val_accuracy: 0.7290\n",
      "Epoch 67/200\n",
      "2121/2121 [==============================] - ETA: 0s - loss: 0.3276 - accuracy: 0.8716\n",
      "Epoch 00067: val_loss did not improve from 0.84423\n",
      "2121/2121 [==============================] - 69s 33ms/step - loss: 0.3276 - accuracy: 0.8716 - val_loss: 1.0995 - val_accuracy: 0.6814\n",
      "Epoch 68/200\n",
      "2120/2121 [============================>.] - ETA: 0s - loss: 0.3241 - accuracy: 0.8725\n",
      "Epoch 00068: val_loss did not improve from 0.84423\n",
      "2121/2121 [==============================] - 69s 33ms/step - loss: 0.3240 - accuracy: 0.8725 - val_loss: 0.9663 - val_accuracy: 0.7240\n",
      "Epoch 69/200\n",
      "2121/2121 [==============================] - ETA: 0s - loss: 0.3123 - accuracy: 0.8783\n",
      "Epoch 00069: val_loss did not improve from 0.84423\n",
      "2121/2121 [==============================] - 69s 33ms/step - loss: 0.3123 - accuracy: 0.8783 - val_loss: 1.0422 - val_accuracy: 0.7041\n",
      "Epoch 70/200\n",
      "2121/2121 [==============================] - ETA: 0s - loss: 0.3030 - accuracy: 0.8797\n",
      "Epoch 00070: val_loss did not improve from 0.84423\n",
      "2121/2121 [==============================] - 69s 33ms/step - loss: 0.3030 - accuracy: 0.8797 - val_loss: 1.2404 - val_accuracy: 0.6871\n",
      "Epoch 71/200\n",
      "2121/2121 [==============================] - ETA: 0s - loss: 0.2918 - accuracy: 0.8848\n",
      "Epoch 00071: val_loss did not improve from 0.84423\n",
      "2121/2121 [==============================] - 69s 33ms/step - loss: 0.2918 - accuracy: 0.8848 - val_loss: 1.0930 - val_accuracy: 0.6953\n",
      "Epoch 72/200\n",
      "2121/2121 [==============================] - ETA: 0s - loss: 0.2823 - accuracy: 0.8892\n",
      "Epoch 00072: val_loss did not improve from 0.84423\n",
      "2121/2121 [==============================] - 69s 33ms/step - loss: 0.2823 - accuracy: 0.8892 - val_loss: 1.0858 - val_accuracy: 0.6928\n",
      "Epoch 73/200\n",
      "2120/2121 [============================>.] - ETA: 0s - loss: 0.2758 - accuracy: 0.8914\n",
      "Epoch 00073: val_loss did not improve from 0.84423\n",
      "2121/2121 [==============================] - 70s 33ms/step - loss: 0.2758 - accuracy: 0.8914 - val_loss: 1.1411 - val_accuracy: 0.6944\n",
      "Epoch 74/200\n",
      "2121/2121 [==============================] - ETA: 0s - loss: 0.2683 - accuracy: 0.8953\n",
      "Epoch 00074: val_loss did not improve from 0.84423\n",
      "2121/2121 [==============================] - 69s 32ms/step - loss: 0.2683 - accuracy: 0.8953 - val_loss: 1.0867 - val_accuracy: 0.7132\n",
      "Epoch 00074: early stopping\n"
     ]
    }
   ],
   "source": [
    "model = model_cnn14_attention_multi(dim_time, dim_freq, num_species, model_type='feature_level_attention', conv_dim=conv_dim, pool_size=pool_size, pool_stride=pool_stride, hidden_units=hidden_units, l2_regu=l2_regu, drop_rate=drop_rate)\n",
    "loss = CategoricalCrossentropy()\n",
    "# model.compile(optimizer=tf.keras.optimizers.Adam(learning_rate=learning_rate_fn), loss=loss, metrics=['accuracy'])\n",
    "model.compile(optimizer=tf.keras.optimizers.Adam(learning_rate=learning_rate), loss=loss, metrics=['accuracy'])\n",
    "\n",
    "# With classes\n",
    "# history = model.fit(fea_train, to_categorical(label_train), class_weight=class_weights, validation_split=0.3, batch_size=batch_size, epochs=num_epoch, callbacks=[EarlyStopping(patience=num_patience), ModelCheckpoint(filepath=os.path.join(fit_result_path, '{epoch:02d}-{val_loss:.4f}.hdf5'), verbose=1, monitor=\"val_loss\", save_best_only=True)])\n",
    "# history = model.fit(train_generator, validation_data=validate_generator, class_weight=class_weights, epochs=num_epoch, callbacks=[EarlyStopping(patience=num_patience, monitor='val_loss', mode='min', verbose=1), TensorBoard(log_dir=fit_result_path1), ModelCheckpoint(filepath=os.path.join(fit_result_path1, '{epoch:02d}-{val_loss:.4f}.hdf5'), verbose=1, monitor=\"val_loss\", save_best_only=True)])\n",
    "history = model.fit(train_generator, validation_data=validate_generator, class_weight=class_weights, epochs=num_epoch, callbacks=[EarlyStopping(patience=num_patience, monitor='val_loss', mode='min', verbose=1), TensorBoard(log_dir=fit_result_path2), ModelCheckpoint(filepath=os.path.join(fit_result_path2, 'epoch_{epoch:02d}_valloss_{val_loss:.4f}_valacc_{val_accuracy:.4f}.hdf5' ), verbose=1, monitor=\"val_loss\", save_best_only=True)])"
   ]
  },
  {
   "cell_type": "code",
   "execution_count": 32,
   "metadata": {},
   "outputs": [
    {
     "name": "stdout",
     "output_type": "stream",
     "text": [
      "Best model:0.8442\n",
      "/home/ys587/__Data/__whistle/__whislte_30_species/__fit_result_species/20210224_120153/STAR2000/epoch_54_valloss_0.8442_valacc_0.7074.hdf5\n"
     ]
    }
   ],
   "source": [
    "# fit_result_path1 = '/home/ys587/__Data/__whistle/__whislte_30_species/__fit_result_species/20210210_224527'\n",
    "the_best_model, _ = find_best_model(fit_result_path2, purge=False)"
   ]
  },
  {
   "cell_type": "code",
   "execution_count": 33,
   "metadata": {
    "scrolled": true
   },
   "outputs": [
    {
     "name": "stdout",
     "output_type": "stream",
     "text": [
      "Model: \"model\"\n",
      "__________________________________________________________________________________________________\n",
      "Layer (type)                    Output Shape         Param #     Connected to                     \n",
      "==================================================================================================\n",
      "input (InputLayer)              [(None, 100, 128, 1) 0                                            \n",
      "__________________________________________________________________________________________________\n",
      "conv2d (Conv2D)                 (None, 100, 128, 16) 160         input[0][0]                      \n",
      "__________________________________________________________________________________________________\n",
      "batch_normalization (BatchNorma (None, 100, 128, 16) 64          conv2d[0][0]                     \n",
      "__________________________________________________________________________________________________\n",
      "activation (Activation)         (None, 100, 128, 16) 0           batch_normalization[0][0]        \n",
      "__________________________________________________________________________________________________\n",
      "conv2d_1 (Conv2D)               (None, 100, 128, 16) 2320        activation[0][0]                 \n",
      "__________________________________________________________________________________________________\n",
      "batch_normalization_1 (BatchNor (None, 100, 128, 16) 64          conv2d_1[0][0]                   \n",
      "__________________________________________________________________________________________________\n",
      "activation_1 (Activation)       (None, 100, 128, 16) 0           batch_normalization_1[0][0]      \n",
      "__________________________________________________________________________________________________\n",
      "max_pooling2d (MaxPooling2D)    (None, 50, 64, 16)   0           activation_1[0][0]               \n",
      "__________________________________________________________________________________________________\n",
      "dropout (Dropout)               (None, 50, 64, 16)   0           max_pooling2d[0][0]              \n",
      "__________________________________________________________________________________________________\n",
      "conv2d_2 (Conv2D)               (None, 50, 64, 32)   4640        dropout[0][0]                    \n",
      "__________________________________________________________________________________________________\n",
      "batch_normalization_2 (BatchNor (None, 50, 64, 32)   128         conv2d_2[0][0]                   \n",
      "__________________________________________________________________________________________________\n",
      "activation_2 (Activation)       (None, 50, 64, 32)   0           batch_normalization_2[0][0]      \n",
      "__________________________________________________________________________________________________\n",
      "conv2d_3 (Conv2D)               (None, 50, 64, 32)   9248        activation_2[0][0]               \n",
      "__________________________________________________________________________________________________\n",
      "batch_normalization_3 (BatchNor (None, 50, 64, 32)   128         conv2d_3[0][0]                   \n",
      "__________________________________________________________________________________________________\n",
      "activation_3 (Activation)       (None, 50, 64, 32)   0           batch_normalization_3[0][0]      \n",
      "__________________________________________________________________________________________________\n",
      "max_pooling2d_1 (MaxPooling2D)  (None, 25, 32, 32)   0           activation_3[0][0]               \n",
      "__________________________________________________________________________________________________\n",
      "dropout_1 (Dropout)             (None, 25, 32, 32)   0           max_pooling2d_1[0][0]            \n",
      "__________________________________________________________________________________________________\n",
      "conv2d_4 (Conv2D)               (None, 25, 32, 64)   18496       dropout_1[0][0]                  \n",
      "__________________________________________________________________________________________________\n",
      "batch_normalization_4 (BatchNor (None, 25, 32, 64)   256         conv2d_4[0][0]                   \n",
      "__________________________________________________________________________________________________\n",
      "activation_4 (Activation)       (None, 25, 32, 64)   0           batch_normalization_4[0][0]      \n",
      "__________________________________________________________________________________________________\n",
      "conv2d_5 (Conv2D)               (None, 25, 32, 64)   36928       activation_4[0][0]               \n",
      "__________________________________________________________________________________________________\n",
      "batch_normalization_5 (BatchNor (None, 25, 32, 64)   256         conv2d_5[0][0]                   \n",
      "__________________________________________________________________________________________________\n",
      "activation_5 (Activation)       (None, 25, 32, 64)   0           batch_normalization_5[0][0]      \n",
      "__________________________________________________________________________________________________\n",
      "max_pooling2d_2 (MaxPooling2D)  (None, 13, 16, 64)   0           activation_5[0][0]               \n",
      "__________________________________________________________________________________________________\n",
      "dropout_2 (Dropout)             (None, 13, 16, 64)   0           max_pooling2d_2[0][0]            \n",
      "__________________________________________________________________________________________________\n",
      "conv2d_6 (Conv2D)               (None, 13, 16, 128)  73856       dropout_2[0][0]                  \n",
      "__________________________________________________________________________________________________\n",
      "batch_normalization_6 (BatchNor (None, 13, 16, 128)  512         conv2d_6[0][0]                   \n",
      "__________________________________________________________________________________________________\n",
      "activation_6 (Activation)       (None, 13, 16, 128)  0           batch_normalization_6[0][0]      \n",
      "__________________________________________________________________________________________________\n",
      "conv2d_7 (Conv2D)               (None, 13, 16, 128)  147584      activation_6[0][0]               \n",
      "__________________________________________________________________________________________________\n",
      "batch_normalization_7 (BatchNor (None, 13, 16, 128)  512         conv2d_7[0][0]                   \n",
      "__________________________________________________________________________________________________\n",
      "activation_7 (Activation)       (None, 13, 16, 128)  0           batch_normalization_7[0][0]      \n",
      "__________________________________________________________________________________________________\n",
      "max_pooling2d_3 (MaxPooling2D)  (None, 7, 8, 128)    0           activation_7[0][0]               \n",
      "__________________________________________________________________________________________________\n",
      "dropout_3 (Dropout)             (None, 7, 8, 128)    0           max_pooling2d_3[0][0]            \n",
      "__________________________________________________________________________________________________\n",
      "conv2d_8 (Conv2D)               (None, 7, 8, 256)    295168      dropout_3[0][0]                  \n",
      "__________________________________________________________________________________________________\n",
      "batch_normalization_8 (BatchNor (None, 7, 8, 256)    1024        conv2d_8[0][0]                   \n",
      "__________________________________________________________________________________________________\n",
      "activation_8 (Activation)       (None, 7, 8, 256)    0           batch_normalization_8[0][0]      \n",
      "__________________________________________________________________________________________________\n",
      "conv2d_9 (Conv2D)               (None, 7, 8, 256)    590080      activation_8[0][0]               \n",
      "__________________________________________________________________________________________________\n",
      "batch_normalization_9 (BatchNor (None, 7, 8, 256)    1024        conv2d_9[0][0]                   \n",
      "__________________________________________________________________________________________________\n",
      "activation_9 (Activation)       (None, 7, 8, 256)    0           batch_normalization_9[0][0]      \n",
      "__________________________________________________________________________________________________\n",
      "max_pooling2d_4 (MaxPooling2D)  (None, 7, 4, 256)    0           activation_9[0][0]               \n",
      "__________________________________________________________________________________________________\n",
      "dropout_4 (Dropout)             (None, 7, 4, 256)    0           max_pooling2d_4[0][0]            \n",
      "__________________________________________________________________________________________________\n",
      "conv2d_10 (Conv2D)              (None, 7, 4, 512)    1180160     dropout_4[0][0]                  \n",
      "__________________________________________________________________________________________________\n",
      "batch_normalization_10 (BatchNo (None, 7, 4, 512)    2048        conv2d_10[0][0]                  \n",
      "__________________________________________________________________________________________________\n",
      "activation_10 (Activation)      (None, 7, 4, 512)    0           batch_normalization_10[0][0]     \n",
      "__________________________________________________________________________________________________\n",
      "conv2d_11 (Conv2D)              (None, 7, 4, 512)    2359808     activation_10[0][0]              \n",
      "__________________________________________________________________________________________________\n",
      "batch_normalization_11 (BatchNo (None, 7, 4, 512)    2048        conv2d_11[0][0]                  \n",
      "__________________________________________________________________________________________________\n",
      "activation_11 (Activation)      (None, 7, 4, 512)    0           batch_normalization_11[0][0]     \n",
      "__________________________________________________________________________________________________\n",
      "max_pooling2d_5 (MaxPooling2D)  (None, 7, 2, 512)    0           activation_11[0][0]              \n",
      "__________________________________________________________________________________________________\n",
      "dropout_5 (Dropout)             (None, 7, 2, 512)    0           max_pooling2d_5[0][0]            \n",
      "__________________________________________________________________________________________________\n",
      "reshape (Reshape)               (None, 7, 1024)      0           dropout_5[0][0]                  \n",
      "__________________________________________________________________________________________________\n",
      "dense (Dense)                   (None, 7, 512)       524800      reshape[0][0]                    \n",
      "__________________________________________________________________________________________________\n",
      "batch_normalization_12 (BatchNo (None, 7, 512)       2048        dense[0][0]                      \n",
      "__________________________________________________________________________________________________\n",
      "activation_12 (Activation)      (None, 7, 512)       0           batch_normalization_12[0][0]     \n",
      "__________________________________________________________________________________________________\n",
      "dropout_6 (Dropout)             (None, 7, 512)       0           activation_12[0][0]              \n",
      "__________________________________________________________________________________________________\n",
      "dense_1 (Dense)                 (None, 7, 512)       262656      dropout_6[0][0]                  \n",
      "__________________________________________________________________________________________________\n",
      "batch_normalization_13 (BatchNo (None, 7, 512)       2048        dense_1[0][0]                    \n",
      "__________________________________________________________________________________________________\n",
      "activation_13 (Activation)      (None, 7, 512)       0           batch_normalization_13[0][0]     \n",
      "__________________________________________________________________________________________________\n",
      "dropout_7 (Dropout)             (None, 7, 512)       0           activation_13[0][0]              \n",
      "__________________________________________________________________________________________________\n",
      "dense_2 (Dense)                 (None, 7, 512)       262656      dropout_7[0][0]                  \n",
      "__________________________________________________________________________________________________\n",
      "batch_normalization_14 (BatchNo (None, 7, 512)       2048        dense_2[0][0]                    \n",
      "__________________________________________________________________________________________________\n",
      "activation_14 (Activation)      (None, 7, 512)       0           batch_normalization_14[0][0]     \n",
      "__________________________________________________________________________________________________\n",
      "dropout_8 (Dropout)             (None, 7, 512)       0           activation_14[0][0]              \n",
      "__________________________________________________________________________________________________\n",
      "dense_3 (Dense)                 (None, 7, 512)       262656      dropout_8[0][0]                  \n",
      "__________________________________________________________________________________________________\n",
      "dense_4 (Dense)                 (None, 7, 512)       262656      dropout_8[0][0]                  \n",
      "__________________________________________________________________________________________________\n",
      "lambda (Lambda)                 (None, 512)          0           dense_3[0][0]                    \n",
      "                                                                 dense_4[0][0]                    \n",
      "__________________________________________________________________________________________________\n",
      "batch_normalization_15 (BatchNo (None, 512)          2048        lambda[0][0]                     \n",
      "__________________________________________________________________________________________________\n",
      "activation_15 (Activation)      (None, 512)          0           batch_normalization_15[0][0]     \n",
      "__________________________________________________________________________________________________\n",
      "dropout_9 (Dropout)             (None, 512)          0           activation_15[0][0]              \n",
      "__________________________________________________________________________________________________\n",
      "dense_5 (Dense)                 (None, 8)            4104        dropout_9[0][0]                  \n",
      "==================================================================================================\n",
      "Total params: 6,314,232\n",
      "Trainable params: 6,306,104\n",
      "Non-trainable params: 8,128\n",
      "__________________________________________________________________________________________________\n"
     ]
    }
   ],
   "source": [
    "model = load_model(the_best_model)\n",
    "model.summary()"
   ]
  },
  {
   "cell_type": "code",
   "execution_count": 34,
   "metadata": {},
   "outputs": [],
   "source": [
    "label_pred = model.predict(fea_test)\n",
    "# label_pred = model.predict(test_generator)"
   ]
  },
  {
   "cell_type": "code",
   "execution_count": 35,
   "metadata": {},
   "outputs": [],
   "source": [
    "np.set_printoptions(linewidth=200, precision=2, suppress=True)"
   ]
  },
  {
   "cell_type": "code",
   "execution_count": 36,
   "metadata": {},
   "outputs": [
    {
     "name": "stdout",
     "output_type": "stream",
     "text": [
      "Confusion matrix:\n",
      "['BD', 'CD', 'STR', 'SPT', 'SPIN', 'PLT', 'RT', 'FKW']\n",
      "\n",
      "[[  44   14    9   29    8    5    7    5]\n",
      " [ 741 1762  404  401  121  333  182   20]\n",
      " [ 274  173  250  235   45   97   51   15]\n",
      " [  87  393   28  221   15   57   32   12]\n",
      " [ 181   24   26  162   81   12    3    2]\n",
      " [   0    0    0    0    0   26    3    2]\n",
      " [  17    2    3    5    3   12   29    5]\n",
      " [   0    0    0    0    0    0    0    0]]\n",
      "\n",
      "[[0.36 0.12 0.07 0.24 0.07 0.04 0.06 0.04]\n",
      " [0.19 0.44 0.1  0.1  0.03 0.08 0.05 0.01]\n",
      " [0.24 0.15 0.22 0.21 0.04 0.09 0.04 0.01]\n",
      " [0.1  0.47 0.03 0.26 0.02 0.07 0.04 0.01]\n",
      " [0.37 0.05 0.05 0.33 0.16 0.02 0.01 0.  ]\n",
      " [0.   0.   0.   0.   0.   0.84 0.1  0.06]\n",
      " [0.22 0.03 0.04 0.07 0.04 0.16 0.38 0.07]\n",
      " [0.   0.   0.   0.   0.   0.   0.   0.  ]]\n"
     ]
    }
   ],
   "source": [
    "print(\"Confusion matrix:\")\n",
    "cm = confusion_matrix(label_test, np.argmax(label_pred, axis=1), labels=species_id)\n",
    "\n",
    "print(species_list)\n",
    "print('')\n",
    "print(cm)\n",
    "print('')\n",
    "\n",
    "cm2 = cm*1.0\n",
    "for ii in range(cm.shape[0]):\n",
    "    cm_row = cm[ii, :]*1.0\n",
    "\n",
    "    cm_row_sum = cm_row.sum()\n",
    "    if cm_row_sum != 0:\n",
    "        cm2[ii, :] = cm_row / cm_row_sum\n",
    "    else:\n",
    "        cm2[ii, :] = np.zeros(cm.shape[1])\n",
    "\n",
    "print(cm2)"
   ]
  },
  {
   "cell_type": "code",
   "execution_count": 37,
   "metadata": {},
   "outputs": [],
   "source": [
    "from sklearn.metrics import plot_confusion_matrix\n",
    "from sklearn.metrics._plot.confusion_matrix import ConfusionMatrixDisplay\n",
    "disp = ConfusionMatrixDisplay(confusion_matrix=cm, display_labels=species_list)\n",
    "disp2 = ConfusionMatrixDisplay(confusion_matrix=cm2, display_labels=species_list)"
   ]
  },
  {
   "cell_type": "code",
   "execution_count": 38,
   "metadata": {},
   "outputs": [
    {
     "data": {
      "text/plain": [
       "<sklearn.metrics._plot.confusion_matrix.ConfusionMatrixDisplay at 0x7f37e06ec4f0>"
      ]
     },
     "execution_count": 38,
     "metadata": {},
     "output_type": "execute_result"
    },
    {
     "data": {
      "image/png": "[encoded data removed]",
      "text/plain": [
       "<Figure size 1080x1080 with 2 Axes>"
      ]
     },
     "metadata": {
      "needs_background": "light"
     },
     "output_type": "display_data"
    }
   ],
   "source": [
    "fig, ax = plt.subplots(figsize=[15, 15])\n",
    "disp.plot(include_values=True,\n",
    "                     cmap='viridis', ax=ax, xticks_rotation='horizontal',\n",
    "                     values_format=None, colorbar=True)\n"
   ]
  },
  {
   "cell_type": "code",
   "execution_count": 39,
   "metadata": {},
   "outputs": [
    {
     "data": {
      "text/plain": [
       "<sklearn.metrics._plot.confusion_matrix.ConfusionMatrixDisplay at 0x7f37e06ecf40>"
      ]
     },
     "execution_count": 39,
     "metadata": {},
     "output_type": "execute_result"
    },
    {
     "data": {
      "image/png": "[encoded data removed]",
      "text/plain": [
       "<Figure size 1080x1080 with 2 Axes>"
      ]
     },
     "metadata": {
      "needs_background": "light"
     },
     "output_type": "display_data"
    }
   ],
   "source": [
    "fig, ax = plt.subplots(figsize=[15, 15])\n",
    "disp2.plot(include_values=True,\n",
    "                     cmap='viridis', ax=ax, xticks_rotation='horizontal',\n",
    "                     values_format='.2f', colorbar=True)"
   ]
  },
  {
   "cell_type": "code",
   "execution_count": 40,
   "metadata": {},
   "outputs": [
    {
     "data": {
      "image/png": "[encoded data removed]",
      "text/plain": [
       "<Figure size 432x288 with 1 Axes>"
      ]
     },
     "metadata": {
      "needs_background": "light"
     },
     "output_type": "display_data"
    }
   ],
   "source": [
    "# score histogram of label_pred\n",
    "plt.hist(label_pred[:, 7], 21); plt.grid()"
   ]
  },
  {
   "cell_type": "markdown",
   "metadata": {},
   "source": [
    "## top k accuracy score"
   ]
  },
  {
   "cell_type": "code",
   "execution_count": 41,
   "metadata": {},
   "outputs": [],
   "source": [
    "from sklearn.metrics import top_k_accuracy_score"
   ]
  },
  {
   "cell_type": "code",
   "execution_count": 42,
   "metadata": {},
   "outputs": [
    {
     "data": {
      "text/plain": [
       "0.36187762447510496"
      ]
     },
     "execution_count": 42,
     "metadata": {},
     "output_type": "execute_result"
    }
   ],
   "source": [
    "top_k_accuracy_score(label_test, label_pred, k=1, labels=list(range(num_species)))"
   ]
  },
  {
   "cell_type": "code",
   "execution_count": 43,
   "metadata": {},
   "outputs": [
    {
     "data": {
      "text/plain": [
       "0.5256448710257948"
      ]
     },
     "execution_count": 43,
     "metadata": {},
     "output_type": "execute_result"
    }
   ],
   "source": [
    "top_k_accuracy_score(label_test, label_pred, k=2, labels=list(range(num_species)))"
   ]
  },
  {
   "cell_type": "code",
   "execution_count": 44,
   "metadata": {},
   "outputs": [
    {
     "data": {
      "text/plain": [
       "0.6454709058188363"
      ]
     },
     "execution_count": 44,
     "metadata": {},
     "output_type": "execute_result"
    }
   ],
   "source": [
    "top_k_accuracy_score(label_test, label_pred, k=3, labels=list(range(num_species)))"
   ]
  },
  {
   "cell_type": "code",
   "execution_count": 45,
   "metadata": {},
   "outputs": [
    {
     "data": {
      "text/plain": [
       "0.7429514097180564"
      ]
     },
     "execution_count": 45,
     "metadata": {},
     "output_type": "execute_result"
    }
   ],
   "source": [
    "top_k_accuracy_score(label_test, label_pred, k=4, labels=list(range(num_species)))"
   ]
  },
  {
   "cell_type": "code",
   "execution_count": 46,
   "metadata": {},
   "outputs": [
    {
     "data": {
      "text/plain": [
       "0.8318836232753449"
      ]
     },
     "execution_count": 46,
     "metadata": {},
     "output_type": "execute_result"
    }
   ],
   "source": [
    "top_k_accuracy_score(label_test, label_pred, k=5, labels=list(range(num_species)))"
   ]
  },
  {
   "cell_type": "code",
   "execution_count": 47,
   "metadata": {},
   "outputs": [
    {
     "data": {
      "text/plain": [
       "0.8954709058188363"
      ]
     },
     "execution_count": 47,
     "metadata": {},
     "output_type": "execute_result"
    }
   ],
   "source": [
    "top_k_accuracy_score(label_test, label_pred, k=6, labels=list(range(num_species)))"
   ]
  },
  {
   "cell_type": "markdown",
   "metadata": {},
   "source": [
    "## average_precision_score"
   ]
  },
  {
   "cell_type": "code",
   "execution_count": 48,
   "metadata": {},
   "outputs": [],
   "source": [
    "from sklearn.metrics import average_precision_score\n",
    "from tensorflow.keras.utils import to_categorical"
   ]
  },
  {
   "cell_type": "code",
   "execution_count": 49,
   "metadata": {},
   "outputs": [
    {
     "name": "stderr",
     "output_type": "stream",
     "text": [
      "/home/ys587/miniconda3/envs/whistle_classifier/lib/python3.8/site-packages/sklearn/metrics/_ranking.py:817: RuntimeWarning: invalid value encountered in true_divide\n",
      "  recall = tps / tps[-1]\n"
     ]
    },
    {
     "data": {
      "text/plain": [
       "nan"
      ]
     },
     "execution_count": 49,
     "metadata": {},
     "output_type": "execute_result"
    }
   ],
   "source": [
    "average_precision_score(to_categorical(label_test, num_classes=8), label_pred)"
   ]
  },
  {
   "cell_type": "code",
   "execution_count": 50,
   "metadata": {},
   "outputs": [],
   "source": [
    "t1=to_categorical(label_test, num_classes=8)"
   ]
  },
  {
   "cell_type": "code",
   "execution_count": null,
   "metadata": {},
   "outputs": [],
   "source": []
  },
  {
   "cell_type": "markdown",
   "metadata": {},
   "source": [
    "## STAR2003"
   ]
  },
  {
   "cell_type": "code",
   "execution_count": 51,
   "metadata": {},
   "outputs": [
    {
     "name": "stdout",
     "output_type": "stream",
     "text": [
      "STAR2003\n"
     ]
    }
   ],
   "source": [
    "ee = deployment[1]\n",
    "print(ee)"
   ]
  },
  {
   "cell_type": "code",
   "execution_count": 52,
   "metadata": {},
   "outputs": [],
   "source": [
    "# Training data\n",
    "fea_temp = np.load(os.path.join(feature_path, 'train_oswald_no_'+ee+'.npz'))\n",
    "fea_train = fea_temp['fea_train']\n",
    "label_train_list = fea_temp['label_train']\n",
    "del fea_temp"
   ]
  },
  {
   "cell_type": "code",
   "execution_count": 53,
   "metadata": {},
   "outputs": [],
   "source": [
    "label_train = np.zeros(len(label_train_list))\n",
    "for ii in range(len(label_train_list)):\n",
    "    label_train[ii] = species_dict[label_train_list[ii]]"
   ]
  },
  {
   "cell_type": "code",
   "execution_count": 54,
   "metadata": {},
   "outputs": [],
   "source": [
    "# Testing data\n",
    "fea_temp = np.load(os.path.join(feature_path, 'oswald_'+ee+'_orig.npz'))\n",
    "fea_test = fea_temp['feas_orig']\n",
    "label_test_list = fea_temp['labels_orig']\n",
    "\n",
    "fea_test = fea_test[:,:100,:]\n",
    "label_test = np.zeros(len(label_test_list))\n",
    "for ii in range(len(label_test_list)):\n",
    "    label_test[ii] = species_dict[label_test_list[ii]]"
   ]
  },
  {
   "cell_type": "code",
   "execution_count": 55,
   "metadata": {},
   "outputs": [],
   "source": [
    "fea_train = fea_train[:,:100,:]"
   ]
  },
  {
   "cell_type": "code",
   "execution_count": 56,
   "metadata": {},
   "outputs": [],
   "source": [
    "label_train = np.zeros(len(label_train_list))\n",
    "for ii in range(len(label_train_list)):\n",
    "    label_train[ii] = species_dict[label_train_list[ii]]"
   ]
  },
  {
   "cell_type": "code",
   "execution_count": 57,
   "metadata": {
    "scrolled": true
   },
   "outputs": [
    {
     "data": {
      "text/plain": [
       "Counter({'BD': 14412,\n",
       "         'CD': 24120,\n",
       "         'PLT': 14784,\n",
       "         'RT': 12008,\n",
       "         'SPIN': 11014,\n",
       "         'SPT': 18590,\n",
       "         'STR': 23280,\n",
       "         'FKW': 17460})"
      ]
     },
     "execution_count": 57,
     "metadata": {},
     "output_type": "execute_result"
    }
   ],
   "source": [
    "Counter(label_train_list)"
   ]
  },
  {
   "cell_type": "code",
   "execution_count": 58,
   "metadata": {},
   "outputs": [
    {
     "data": {
      "text/plain": [
       "Counter({0.0: 231, 1.0: 752, 7.0: 270, 4.0: 51, 3.0: 412, 2.0: 54})"
      ]
     },
     "execution_count": 58,
     "metadata": {},
     "output_type": "execute_result"
    }
   ],
   "source": [
    "Counter(label_test.tolist())"
   ]
  },
  {
   "cell_type": "code",
   "execution_count": 59,
   "metadata": {},
   "outputs": [],
   "source": [
    "fit_result_path2 = os.path.join(fit_result_path1, ee)\n",
    "if not os.path.exists(fit_result_path2):\n",
    "    makedirs(fit_result_path2)"
   ]
  },
  {
   "cell_type": "code",
   "execution_count": 60,
   "metadata": {},
   "outputs": [
    {
     "name": "stdout",
     "output_type": "stream",
     "text": [
      "feature train shape: (135668, 100, 128)\n",
      "feature test shape: (1770, 100, 128)\n",
      "label train shape: (135668,)\n",
      "label test shape: (1770,)\n",
      "dim_time: 100\n",
      "dim_freq: 128\n"
     ]
    }
   ],
   "source": [
    "print('feature train shape: '+str(fea_train.shape))\n",
    "print('feature test shape: '+str(fea_test.shape))\n",
    "print('label train shape: '+str(label_train.shape))\n",
    "print('label test shape: '+str(label_test.shape))\n",
    "\n",
    "dim_time = fea_train.shape[1]\n",
    "dim_freq = fea_train.shape[2]\n",
    "print('dim_time: '+str(dim_time))\n",
    "print('dim_freq: '+str(dim_freq))"
   ]
  },
  {
   "cell_type": "code",
   "execution_count": 61,
   "metadata": {},
   "outputs": [],
   "source": [
    "# shuffle features & labels\n",
    "fea_train, label_train = shuffle(fea_train, label_train, random_state=0)\n",
    "fea_test, label_test = shuffle(fea_test, label_test, random_state=0)"
   ]
  },
  {
   "cell_type": "code",
   "execution_count": 62,
   "metadata": {},
   "outputs": [],
   "source": [
    "# class weight\n",
    "weights = compute_class_weight(class_weight='balanced', classes=np.unique(label_train), y=label_train)\n",
    "\n",
    "class_weights = dict()\n",
    "for ii in range(num_species):\n",
    "    class_weights[ii] = weights[ii]"
   ]
  },
  {
   "cell_type": "code",
   "execution_count": 63,
   "metadata": {},
   "outputs": [],
   "source": [
    "fea_train = np.expand_dims(fea_train, axis=3)\n",
    "fea_test = np.expand_dims(fea_test, axis=3)"
   ]
  },
  {
   "cell_type": "code",
   "execution_count": 64,
   "metadata": {},
   "outputs": [],
   "source": [
    "fea_train, fea_validate, label_train, label_validate = train_test_split(fea_train, label_train, test_size=0.30, random_state=42)\n",
    "\n",
    "train_generator = DataGenerator(fea_train, label_train, batch_size=batch_size, num_classes=num_species)\n",
    "del fea_train\n",
    "validate_generator = DataGenerator(fea_validate, label_validate, batch_size=batch_size, num_classes=num_species)\n",
    "del fea_validate\n",
    "\n",
    "# test_generator = DataGenerator(fea_test, label_test, batch_size=batch_size, num_classes=num_species)\n"
   ]
  },
  {
   "cell_type": "markdown",
   "metadata": {},
   "source": [
    "### Training the model"
   ]
  },
  {
   "cell_type": "code",
   "execution_count": null,
   "metadata": {
    "scrolled": true
   },
   "outputs": [
    {
     "name": "stdout",
     "output_type": "stream",
     "text": [
      "Epoch 1/200\n",
      "   2/2967 [..............................] - ETA: 7:40 - loss: 1.9965 - accuracy: 0.0781WARNING:tensorflow:Method (on_train_batch_end) is slow compared to the batch update (0.142694). Check your callbacks.\n",
      "2966/2967 [============================>.] - ETA: 0s - loss: 1.8472 - accuracy: 0.2598\n",
      "Epoch 00001: val_loss improved from inf to 1.80735, saving model to /home/ys587/__Data/__whistle/__whislte_30_species/__fit_result_species/20210224_120153/STAR2003/epoch_01_valloss_1.8074_valacc_0.3479.hdf5\n",
      "2967/2967 [==============================] - 97s 33ms/step - loss: 1.8471 - accuracy: 0.2598 - val_loss: 1.8074 - val_accuracy: 0.3479\n",
      "Epoch 2/200\n",
      "2967/2967 [==============================] - ETA: 0s - loss: 1.4823 - accuracy: 0.4359\n",
      "Epoch 00002: val_loss improved from 1.80735 to 1.62807, saving model to /home/ys587/__Data/__whistle/__whislte_30_species/__fit_result_species/20210224_120153/STAR2003/epoch_02_valloss_1.6281_valacc_0.4032.hdf5\n",
      "2967/2967 [==============================] - 96s 32ms/step - loss: 1.4823 - accuracy: 0.4359 - val_loss: 1.6281 - val_accuracy: 0.4032\n",
      "Epoch 3/200\n",
      "2967/2967 [==============================] - ETA: 0s - loss: 1.3456 - accuracy: 0.4918\n",
      "Epoch 00003: val_loss improved from 1.62807 to 1.44253, saving model to /home/ys587/__Data/__whistle/__whislte_30_species/__fit_result_species/20210224_120153/STAR2003/epoch_03_valloss_1.4425_valacc_0.4813.hdf5\n",
      "2967/2967 [==============================] - 96s 32ms/step - loss: 1.3456 - accuracy: 0.4918 - val_loss: 1.4425 - val_accuracy: 0.4813\n",
      "Epoch 4/200\n",
      "2967/2967 [==============================] - ETA: 0s - loss: 1.2541 - accuracy: 0.5304\n",
      "Epoch 00004: val_loss improved from 1.44253 to 1.31625, saving model to /home/ys587/__Data/__whistle/__whislte_30_species/__fit_result_species/20210224_120153/STAR2003/epoch_04_valloss_1.3163_valacc_0.5064.hdf5\n",
      "2967/2967 [==============================] - 96s 32ms/step - loss: 1.2541 - accuracy: 0.5304 - val_loss: 1.3163 - val_accuracy: 0.5064\n",
      "Epoch 5/200\n",
      "2966/2967 [============================>.] - ETA: 0s - loss: 1.1808 - accuracy: 0.5602\n",
      "Epoch 00005: val_loss improved from 1.31625 to 1.26551, saving model to /home/ys587/__Data/__whistle/__whislte_30_species/__fit_result_species/20210224_120153/STAR2003/epoch_05_valloss_1.2655_valacc_0.5306.hdf5\n",
      "2967/2967 [==============================] - 96s 32ms/step - loss: 1.1808 - accuracy: 0.5602 - val_loss: 1.2655 - val_accuracy: 0.5306\n",
      "Epoch 6/200\n",
      "2967/2967 [==============================] - ETA: 0s - loss: 1.1177 - accuracy: 0.5848\n",
      "Epoch 00006: val_loss improved from 1.26551 to 1.16016, saving model to /home/ys587/__Data/__whistle/__whislte_30_species/__fit_result_species/20210224_120153/STAR2003/epoch_06_valloss_1.1602_valacc_0.5633.hdf5\n",
      "2967/2967 [==============================] - 96s 32ms/step - loss: 1.1177 - accuracy: 0.5848 - val_loss: 1.1602 - val_accuracy: 0.5633\n",
      "Epoch 7/200\n",
      "2967/2967 [==============================] - ETA: 0s - loss: 1.0633 - accuracy: 0.6049\n",
      "Epoch 00007: val_loss did not improve from 1.16016\n",
      "2967/2967 [==============================] - 96s 32ms/step - loss: 1.0633 - accuracy: 0.6049 - val_loss: 1.1698 - val_accuracy: 0.5694\n",
      "Epoch 8/200\n",
      "2967/2967 [==============================] - ETA: 0s - loss: 1.0178 - accuracy: 0.6207\n",
      "Epoch 00008: val_loss improved from 1.16016 to 1.11735, saving model to /home/ys587/__Data/__whistle/__whislte_30_species/__fit_result_species/20210224_120153/STAR2003/epoch_08_valloss_1.1173_valacc_0.5806.hdf5\n",
      "2967/2967 [==============================] - 96s 32ms/step - loss: 1.0178 - accuracy: 0.6207 - val_loss: 1.1173 - val_accuracy: 0.5806\n",
      "Epoch 9/200\n",
      "2967/2967 [==============================] - ETA: 0s - loss: 0.9758 - accuracy: 0.6345\n",
      "Epoch 00009: val_loss improved from 1.11735 to 1.06486, saving model to /home/ys587/__Data/__whistle/__whislte_30_species/__fit_result_species/20210224_120153/STAR2003/epoch_09_valloss_1.0649_valacc_0.6010.hdf5\n",
      "2967/2967 [==============================] - 96s 32ms/step - loss: 0.9758 - accuracy: 0.6345 - val_loss: 1.0649 - val_accuracy: 0.6010\n",
      "Epoch 10/200\n",
      "2967/2967 [==============================] - ETA: 0s - loss: 0.9422 - accuracy: 0.6478\n",
      "Epoch 00010: val_loss did not improve from 1.06486\n",
      "2967/2967 [==============================] - 96s 32ms/step - loss: 0.9422 - accuracy: 0.6478 - val_loss: 1.2110 - val_accuracy: 0.5535\n",
      "Epoch 11/200\n",
      "2966/2967 [============================>.] - ETA: 0s - loss: 0.9080 - accuracy: 0.6592\n",
      "Epoch 00011: val_loss did not improve from 1.06486\n",
      "2967/2967 [==============================] - 96s 32ms/step - loss: 0.9079 - accuracy: 0.6592 - val_loss: 1.0740 - val_accuracy: 0.6024\n",
      "Epoch 12/200\n",
      "2967/2967 [==============================] - ETA: 0s - loss: 0.8743 - accuracy: 0.6700\n",
      "Epoch 00012: val_loss improved from 1.06486 to 0.87887, saving model to /home/ys587/__Data/__whistle/__whislte_30_species/__fit_result_species/20210224_120153/STAR2003/epoch_12_valloss_0.8789_valacc_0.6703.hdf5\n",
      "2967/2967 [==============================] - 96s 32ms/step - loss: 0.8743 - accuracy: 0.6700 - val_loss: 0.8789 - val_accuracy: 0.6703\n",
      "Epoch 13/200\n",
      "2967/2967 [==============================] - ETA: 0s - loss: 0.8435 - accuracy: 0.6829\n",
      "Epoch 00013: val_loss did not improve from 0.87887\n",
      "2967/2967 [==============================] - 97s 33ms/step - loss: 0.8435 - accuracy: 0.6829 - val_loss: 0.9447 - val_accuracy: 0.6548\n",
      "Epoch 14/200\n",
      "2967/2967 [==============================] - ETA: 0s - loss: 0.8185 - accuracy: 0.6889\n",
      "Epoch 00014: val_loss improved from 0.87887 to 0.85574, saving model to /home/ys587/__Data/__whistle/__whislte_30_species/__fit_result_species/20210224_120153/STAR2003/epoch_14_valloss_0.8557_valacc_0.6768.hdf5\n",
      "2967/2967 [==============================] - 95s 32ms/step - loss: 0.8185 - accuracy: 0.6889 - val_loss: 0.8557 - val_accuracy: 0.6768\n",
      "Epoch 15/200\n",
      "2967/2967 [==============================] - ETA: 0s - loss: 0.7894 - accuracy: 0.7004\n",
      "Epoch 00015: val_loss did not improve from 0.85574\n",
      "2967/2967 [==============================] - 95s 32ms/step - loss: 0.7894 - accuracy: 0.7004 - val_loss: 0.9640 - val_accuracy: 0.6441\n",
      "Epoch 16/200\n",
      "2967/2967 [==============================] - ETA: 0s - loss: 0.7643 - accuracy: 0.7100\n",
      "Epoch 00016: val_loss did not improve from 0.85574\n",
      "2967/2967 [==============================] - 96s 32ms/step - loss: 0.7643 - accuracy: 0.7100 - val_loss: 0.9277 - val_accuracy: 0.6598\n",
      "Epoch 17/200\n",
      "2967/2967 [==============================] - ETA: 0s - loss: 0.7413 - accuracy: 0.7171\n",
      "Epoch 00017: val_loss did not improve from 0.85574\n",
      "2967/2967 [==============================] - 96s 32ms/step - loss: 0.7413 - accuracy: 0.7171 - val_loss: 0.9560 - val_accuracy: 0.6492\n",
      "Epoch 18/200\n",
      "2967/2967 [==============================] - ETA: 0s - loss: 0.7143 - accuracy: 0.7275\n",
      "Epoch 00018: val_loss improved from 0.85574 to 0.81791, saving model to /home/ys587/__Data/__whistle/__whislte_30_species/__fit_result_species/20210224_120153/STAR2003/epoch_18_valloss_0.8179_valacc_0.7031.hdf5\n",
      "2967/2967 [==============================] - 99s 33ms/step - loss: 0.7143 - accuracy: 0.7275 - val_loss: 0.8179 - val_accuracy: 0.7031\n",
      "Epoch 19/200\n",
      "2967/2967 [==============================] - ETA: 0s - loss: 0.6921 - accuracy: 0.7337\n",
      "Epoch 00019: val_loss did not improve from 0.81791\n",
      "2967/2967 [==============================] - 99s 33ms/step - loss: 0.6921 - accuracy: 0.7337 - val_loss: 0.8823 - val_accuracy: 0.6814\n",
      "Epoch 20/200\n",
      "2966/2967 [============================>.] - ETA: 0s - loss: 0.6709 - accuracy: 0.7416\n",
      "Epoch 00020: val_loss did not improve from 0.81791\n",
      "2967/2967 [==============================] - 98s 33ms/step - loss: 0.6708 - accuracy: 0.7416 - val_loss: 0.8982 - val_accuracy: 0.6839\n",
      "Epoch 21/200\n",
      "2967/2967 [==============================] - ETA: 0s - loss: 0.6521 - accuracy: 0.7485\n",
      "Epoch 00021: val_loss improved from 0.81791 to 0.81318, saving model to /home/ys587/__Data/__whistle/__whislte_30_species/__fit_result_species/20210224_120153/STAR2003/epoch_21_valloss_0.8132_valacc_0.7038.hdf5\n",
      "2967/2967 [==============================] - 95s 32ms/step - loss: 0.6521 - accuracy: 0.7485 - val_loss: 0.8132 - val_accuracy: 0.7038\n",
      "Epoch 22/200\n",
      "2966/2967 [============================>.] - ETA: 0s - loss: 0.6329 - accuracy: 0.7554\n",
      "Epoch 00022: val_loss improved from 0.81318 to 0.80751, saving model to /home/ys587/__Data/__whistle/__whislte_30_species/__fit_result_species/20210224_120153/STAR2003/epoch_22_valloss_0.8075_valacc_0.7082.hdf5\n",
      "2967/2967 [==============================] - 98s 33ms/step - loss: 0.6328 - accuracy: 0.7554 - val_loss: 0.8075 - val_accuracy: 0.7082\n",
      "Epoch 23/200\n",
      "2967/2967 [==============================] - ETA: 0s - loss: 0.6107 - accuracy: 0.7637\n",
      "Epoch 00023: val_loss did not improve from 0.80751\n",
      "2967/2967 [==============================] - 100s 34ms/step - loss: 0.6107 - accuracy: 0.7637 - val_loss: 0.8518 - val_accuracy: 0.6939\n",
      "Epoch 24/200\n",
      "2967/2967 [==============================] - ETA: 0s - loss: 0.5908 - accuracy: 0.7699\n",
      "Epoch 00024: val_loss did not improve from 0.80751\n",
      "2967/2967 [==============================] - 97s 33ms/step - loss: 0.5908 - accuracy: 0.7699 - val_loss: 0.8363 - val_accuracy: 0.7002\n",
      "Epoch 25/200\n",
      "2967/2967 [==============================] - ETA: 0s - loss: 0.5765 - accuracy: 0.7751\n",
      "Epoch 00025: val_loss did not improve from 0.80751\n",
      "2967/2967 [==============================] - 95s 32ms/step - loss: 0.5765 - accuracy: 0.7751 - val_loss: 0.9154 - val_accuracy: 0.6883\n",
      "Epoch 26/200\n",
      "2966/2967 [============================>.] - ETA: 0s - loss: 0.5552 - accuracy: 0.7830\n",
      "Epoch 00026: val_loss improved from 0.80751 to 0.79333, saving model to /home/ys587/__Data/__whistle/__whislte_30_species/__fit_result_species/20210224_120153/STAR2003/epoch_26_valloss_0.7933_valacc_0.7157.hdf5\n",
      "2967/2967 [==============================] - 96s 32ms/step - loss: 0.5552 - accuracy: 0.7830 - val_loss: 0.7933 - val_accuracy: 0.7157\n",
      "Epoch 27/200\n",
      "2967/2967 [==============================] - ETA: 0s - loss: 0.5399 - accuracy: 0.7892\n",
      "Epoch 00027: val_loss did not improve from 0.79333\n",
      "2967/2967 [==============================] - 95s 32ms/step - loss: 0.5399 - accuracy: 0.7892 - val_loss: 0.8960 - val_accuracy: 0.6968\n",
      "Epoch 28/200\n",
      "2967/2967 [==============================] - ETA: 0s - loss: 0.5220 - accuracy: 0.7962\n",
      "Epoch 00028: val_loss did not improve from 0.79333\n",
      "2967/2967 [==============================] - 95s 32ms/step - loss: 0.5220 - accuracy: 0.7962 - val_loss: 0.8701 - val_accuracy: 0.6967\n",
      "Epoch 29/200\n",
      "2966/2967 [============================>.] - ETA: 0s - loss: 0.5080 - accuracy: 0.8007\n",
      "Epoch 00029: val_loss did not improve from 0.79333\n",
      "2967/2967 [==============================] - 96s 32ms/step - loss: 0.5080 - accuracy: 0.8007 - val_loss: 0.8156 - val_accuracy: 0.7169\n",
      "Epoch 30/200\n",
      "2967/2967 [==============================] - ETA: 0s - loss: 0.4888 - accuracy: 0.8082\n",
      "Epoch 00030: val_loss did not improve from 0.79333\n",
      "2967/2967 [==============================] - 95s 32ms/step - loss: 0.4888 - accuracy: 0.8082 - val_loss: 0.8465 - val_accuracy: 0.7117\n",
      "Epoch 31/200\n",
      "2967/2967 [==============================] - ETA: 0s - loss: 0.4730 - accuracy: 0.8130\n",
      "Epoch 00031: val_loss improved from 0.79333 to 0.76301, saving model to /home/ys587/__Data/__whistle/__whislte_30_species/__fit_result_species/20210224_120153/STAR2003/epoch_31_valloss_0.7630_valacc_0.7405.hdf5\n",
      "2967/2967 [==============================] - 95s 32ms/step - loss: 0.4730 - accuracy: 0.8130 - val_loss: 0.7630 - val_accuracy: 0.7405\n",
      "Epoch 32/200\n",
      "2966/2967 [============================>.] - ETA: 0s - loss: 0.4615 - accuracy: 0.8181\n",
      "Epoch 00032: val_loss did not improve from 0.76301\n",
      "2967/2967 [==============================] - 98s 33ms/step - loss: 0.4615 - accuracy: 0.8181 - val_loss: 0.8174 - val_accuracy: 0.7243\n",
      "Epoch 33/200\n",
      "2967/2967 [==============================] - ETA: 0s - loss: 0.4418 - accuracy: 0.8253\n",
      "Epoch 00033: val_loss did not improve from 0.76301\n",
      "2967/2967 [==============================] - 96s 32ms/step - loss: 0.4418 - accuracy: 0.8253 - val_loss: 0.7751 - val_accuracy: 0.7329\n",
      "Epoch 34/200\n",
      "1919/2967 [==================>...........] - ETA: 30s - loss: 0.4274 - accuracy: 0.8313"
     ]
    }
   ],
   "source": [
    "model = model_cnn14_attention_multi(dim_time, dim_freq, num_species, model_type='feature_level_attention', conv_dim=conv_dim, pool_size=pool_size, pool_stride=pool_stride, hidden_units=hidden_units, l2_regu=l2_regu, drop_rate=drop_rate)\n",
    "loss = CategoricalCrossentropy()\n",
    "model.compile(optimizer=tf.keras.optimizers.Adam(learning_rate=learning_rate_fn), loss=loss, metrics=['accuracy'])\n",
    "\n",
    "# With classes\n",
    "# history = model.fit(fea_train, to_categorical(label_train), class_weight=class_weights, validation_split=0.3, batch_size=batch_size, epochs=num_epoch, callbacks=[EarlyStopping(patience=num_patience), ModelCheckpoint(filepath=os.path.join(fit_result_path, '{epoch:02d}-{val_loss:.4f}.hdf5'), verbose=1, monitor=\"val_loss\", save_best_only=True)])\n",
    "# history = model.fit(train_generator, validation_data=validate_generator, class_weight=class_weights, epochs=num_epoch, callbacks=[EarlyStopping(patience=num_patience, monitor='val_loss', mode='min', verbose=1), TensorBoard(log_dir=fit_result_path1), ModelCheckpoint(filepath=os.path.join(fit_result_path1, '{epoch:02d}-{val_loss:.4f}.hdf5'), verbose=1, monitor=\"val_loss\", save_best_only=True)])\n",
    "history = model.fit(train_generator, validation_data=validate_generator, class_weight=class_weights, epochs=num_epoch, callbacks=[EarlyStopping(patience=num_patience, monitor='val_loss', mode='min', verbose=1), TensorBoard(log_dir=fit_result_path2), ModelCheckpoint(filepath=os.path.join(fit_result_path2, 'epoch_{epoch:02d}_valloss_{val_loss:.4f}_valacc_{val_accuracy:.4f}.hdf5' ), verbose=1, monitor=\"val_loss\", save_best_only=True)])"
   ]
  },
  {
   "cell_type": "code",
   "execution_count": null,
   "metadata": {},
   "outputs": [],
   "source": [
    "# fit_result_path1 = '/home/ys587/__Data/__whistle/__whislte_30_species/__fit_result_species/20210210_224527'\n",
    "the_best_model, _ = find_best_model(fit_result_path2, purge=False)"
   ]
  },
  {
   "cell_type": "code",
   "execution_count": null,
   "metadata": {
    "scrolled": true
   },
   "outputs": [],
   "source": [
    "model = load_model(the_best_model)\n",
    "model.summary()"
   ]
  },
  {
   "cell_type": "code",
   "execution_count": null,
   "metadata": {},
   "outputs": [],
   "source": [
    "label_pred = model.predict(fea_test)\n",
    "# label_pred = model.predict(test_generator)"
   ]
  },
  {
   "cell_type": "code",
   "execution_count": null,
   "metadata": {},
   "outputs": [],
   "source": [
    "np.set_printoptions(linewidth=200, precision=2, suppress=True)"
   ]
  },
  {
   "cell_type": "code",
   "execution_count": null,
   "metadata": {},
   "outputs": [],
   "source": [
    "print(\"Confusion matrix:\")\n",
    "cm = confusion_matrix(label_test, np.argmax(label_pred, axis=1), labels=species_id)\n",
    "\n",
    "print(species_list)\n",
    "print('')\n",
    "print(cm)\n",
    "print('')\n",
    "\n",
    "cm2 = cm*1.0\n",
    "for ii in range(cm.shape[0]):\n",
    "    cm_row = cm[ii, :]*1.0\n",
    "\n",
    "    cm_row_sum = cm_row.sum()\n",
    "    if cm_row_sum != 0:\n",
    "        cm2[ii, :] = cm_row / cm_row_sum\n",
    "    else:\n",
    "        cm2[ii, :] = np.zeros(cm.shape[1])\n",
    "\n",
    "print(cm2)"
   ]
  },
  {
   "cell_type": "code",
   "execution_count": null,
   "metadata": {},
   "outputs": [],
   "source": [
    "from sklearn.metrics import plot_confusion_matrix\n",
    "from sklearn.metrics._plot.confusion_matrix import ConfusionMatrixDisplay\n",
    "disp = ConfusionMatrixDisplay(confusion_matrix=cm, display_labels=species_list)\n",
    "disp2 = ConfusionMatrixDisplay(confusion_matrix=cm2, display_labels=species_list)"
   ]
  },
  {
   "cell_type": "code",
   "execution_count": null,
   "metadata": {},
   "outputs": [],
   "source": [
    "fig, ax = plt.subplots(figsize=[15, 15])\n",
    "disp.plot(include_values=True,\n",
    "                     cmap='viridis', ax=ax, xticks_rotation='horizontal',\n",
    "                     values_format=None, colorbar=True)\n"
   ]
  },
  {
   "cell_type": "code",
   "execution_count": null,
   "metadata": {},
   "outputs": [],
   "source": [
    "fig, ax = plt.subplots(figsize=[15, 15])\n",
    "disp2.plot(include_values=True,\n",
    "                     cmap='viridis', ax=ax, xticks_rotation='horizontal',\n",
    "                     values_format='.2f', colorbar=True)"
   ]
  },
  {
   "cell_type": "markdown",
   "metadata": {},
   "source": [
    "## STAR2006"
   ]
  },
  {
   "cell_type": "code",
   "execution_count": null,
   "metadata": {},
   "outputs": [],
   "source": [
    "ee = deployment[2]\n",
    "print(ee)"
   ]
  },
  {
   "cell_type": "code",
   "execution_count": null,
   "metadata": {},
   "outputs": [],
   "source": [
    "# Training data\n",
    "fea_temp = np.load(os.path.join(feature_path, 'train_oswald_no_'+ee+'.npz'))\n",
    "fea_train = fea_temp['fea_train']\n",
    "label_train_list = fea_temp['label_train']\n",
    "del fea_temp"
   ]
  },
  {
   "cell_type": "code",
   "execution_count": null,
   "metadata": {},
   "outputs": [],
   "source": [
    "label_train = np.zeros(len(label_train_list))\n",
    "for ii in range(len(label_train_list)):\n",
    "    label_train[ii] = species_dict[label_train_list[ii]]"
   ]
  },
  {
   "cell_type": "code",
   "execution_count": null,
   "metadata": {},
   "outputs": [],
   "source": [
    "# Testing data\n",
    "fea_temp = np.load(os.path.join(feature_path, 'oswald_'+ee+'_orig.npz'))\n",
    "fea_test = fea_temp['feas_orig']\n",
    "label_test_list = fea_temp['labels_orig']\n",
    "\n",
    "fea_test = fea_test[:,:100,:]\n",
    "label_test = np.zeros(len(label_test_list))\n",
    "for ii in range(len(label_test_list)):\n",
    "    label_test[ii] = species_dict[label_test_list[ii]]"
   ]
  },
  {
   "cell_type": "code",
   "execution_count": null,
   "metadata": {},
   "outputs": [],
   "source": [
    "fea_train = fea_train[:,:100,:]"
   ]
  },
  {
   "cell_type": "code",
   "execution_count": null,
   "metadata": {},
   "outputs": [],
   "source": [
    "label_train = np.zeros(len(label_train_list))\n",
    "for ii in range(len(label_train_list)):\n",
    "    label_train[ii] = species_dict[label_train_list[ii]]"
   ]
  },
  {
   "cell_type": "code",
   "execution_count": null,
   "metadata": {
    "scrolled": true
   },
   "outputs": [],
   "source": [
    "Counter(label_train_list)"
   ]
  },
  {
   "cell_type": "code",
   "execution_count": null,
   "metadata": {},
   "outputs": [],
   "source": [
    "Counter(label_test.tolist())"
   ]
  },
  {
   "cell_type": "code",
   "execution_count": null,
   "metadata": {},
   "outputs": [],
   "source": [
    "fit_result_path2 = os.path.join(fit_result_path1, ee)\n",
    "if not os.path.exists(fit_result_path2):\n",
    "    makedirs(fit_result_path2)"
   ]
  },
  {
   "cell_type": "code",
   "execution_count": null,
   "metadata": {},
   "outputs": [],
   "source": [
    "print('feature train shape: '+str(fea_train.shape))\n",
    "print('feature test shape: '+str(fea_test.shape))\n",
    "print('label train shape: '+str(label_train.shape))\n",
    "print('label test shape: '+str(label_test.shape))\n",
    "\n",
    "dim_time = fea_train.shape[1]\n",
    "dim_freq = fea_train.shape[2]\n",
    "print('dim_time: '+str(dim_time))\n",
    "print('dim_freq: '+str(dim_freq))"
   ]
  },
  {
   "cell_type": "code",
   "execution_count": null,
   "metadata": {},
   "outputs": [],
   "source": [
    "# shuffle features & labels\n",
    "fea_train, label_train = shuffle(fea_train, label_train, random_state=0)\n",
    "fea_test, label_test = shuffle(fea_test, label_test, random_state=0)"
   ]
  },
  {
   "cell_type": "code",
   "execution_count": null,
   "metadata": {},
   "outputs": [],
   "source": [
    "# class weight\n",
    "weights = compute_class_weight(class_weight='balanced', classes=np.unique(label_train), y=label_train)\n",
    "\n",
    "class_weights = dict()\n",
    "for ii in range(num_species):\n",
    "    class_weights[ii] = weights[ii]"
   ]
  },
  {
   "cell_type": "code",
   "execution_count": null,
   "metadata": {},
   "outputs": [],
   "source": [
    "fea_train = np.expand_dims(fea_train, axis=3)\n",
    "fea_test = np.expand_dims(fea_test, axis=3)"
   ]
  },
  {
   "cell_type": "code",
   "execution_count": null,
   "metadata": {},
   "outputs": [],
   "source": [
    "fea_train, fea_validate, label_train, label_validate = train_test_split(fea_train, label_train, test_size=0.30, random_state=42)\n",
    "\n",
    "train_generator = DataGenerator(fea_train, label_train, batch_size=batch_size, num_classes=num_species)\n",
    "del fea_train\n",
    "validate_generator = DataGenerator(fea_validate, label_validate, batch_size=batch_size, num_classes=num_species)\n",
    "del fea_validate\n",
    "\n",
    "# test_generator = DataGenerator(fea_test, label_test, batch_size=batch_size, num_classes=num_species)\n"
   ]
  },
  {
   "cell_type": "markdown",
   "metadata": {},
   "source": [
    "### Training the model"
   ]
  },
  {
   "cell_type": "code",
   "execution_count": null,
   "metadata": {
    "scrolled": true
   },
   "outputs": [],
   "source": [
    "model = model_cnn14_attention_multi(dim_time, dim_freq, num_species, model_type='feature_level_attention', conv_dim=conv_dim, pool_size=pool_size, pool_stride=pool_stride, hidden_units=hidden_units, l2_regu=l2_regu, drop_rate=drop_rate)\n",
    "loss = CategoricalCrossentropy()\n",
    "model.compile(optimizer=tf.keras.optimizers.Adam(learning_rate=learning_rate_fn), loss=loss, metrics=['accuracy'])\n",
    "\n",
    "# With classes\n",
    "# history = model.fit(fea_train, to_categorical(label_train), class_weight=class_weights, validation_split=0.3, batch_size=batch_size, epochs=num_epoch, callbacks=[EarlyStopping(patience=num_patience), ModelCheckpoint(filepath=os.path.join(fit_result_path, '{epoch:02d}-{val_loss:.4f}.hdf5'), verbose=1, monitor=\"val_loss\", save_best_only=True)])\n",
    "# history = model.fit(train_generator, validation_data=validate_generator, class_weight=class_weights, epochs=num_epoch, callbacks=[EarlyStopping(patience=num_patience, monitor='val_loss', mode='min', verbose=1), TensorBoard(log_dir=fit_result_path1), ModelCheckpoint(filepath=os.path.join(fit_result_path1, '{epoch:02d}-{val_loss:.4f}.hdf5'), verbose=1, monitor=\"val_loss\", save_best_only=True)])\n",
    "history = model.fit(train_generator, validation_data=validate_generator, class_weight=class_weights, epochs=num_epoch, callbacks=[EarlyStopping(patience=num_patience, monitor='val_loss', mode='min', verbose=1), TensorBoard(log_dir=fit_result_path2), ModelCheckpoint(filepath=os.path.join(fit_result_path2, 'epoch_{epoch:02d}_valloss_{val_loss:.4f}_valacc_{val_accuracy:.4f}.hdf5' ), verbose=1, monitor=\"val_loss\", save_best_only=True)])"
   ]
  },
  {
   "cell_type": "code",
   "execution_count": null,
   "metadata": {},
   "outputs": [],
   "source": [
    "# fit_result_path1 = '/home/ys587/__Data/__whistle/__whislte_30_species/__fit_result_species/20210210_224527'\n",
    "the_best_model, _ = find_best_model(fit_result_path2, purge=False)"
   ]
  },
  {
   "cell_type": "code",
   "execution_count": null,
   "metadata": {
    "scrolled": true
   },
   "outputs": [],
   "source": [
    "model = load_model(the_best_model)\n",
    "model.summary()"
   ]
  },
  {
   "cell_type": "code",
   "execution_count": null,
   "metadata": {},
   "outputs": [],
   "source": [
    "label_pred = model.predict(fea_test)\n",
    "# label_pred = model.predict(test_generator)"
   ]
  },
  {
   "cell_type": "code",
   "execution_count": null,
   "metadata": {},
   "outputs": [],
   "source": [
    "np.set_printoptions(linewidth=200, precision=2, suppress=True)"
   ]
  },
  {
   "cell_type": "code",
   "execution_count": null,
   "metadata": {},
   "outputs": [],
   "source": [
    "print(\"Confusion matrix:\")\n",
    "cm = confusion_matrix(label_test, np.argmax(label_pred, axis=1), labels=species_id)\n",
    "\n",
    "print(species_list)\n",
    "print('')\n",
    "print(cm)\n",
    "print('')\n",
    "\n",
    "cm2 = cm*1.0\n",
    "for ii in range(cm.shape[0]):\n",
    "    cm_row = cm[ii, :]*1.0\n",
    "\n",
    "    cm_row_sum = cm_row.sum()\n",
    "    if cm_row_sum != 0:\n",
    "        cm2[ii, :] = cm_row / cm_row_sum\n",
    "    else:\n",
    "        cm2[ii, :] = np.zeros(cm.shape[1])\n",
    "\n",
    "print(cm2)"
   ]
  },
  {
   "cell_type": "code",
   "execution_count": null,
   "metadata": {},
   "outputs": [],
   "source": [
    "from sklearn.metrics import plot_confusion_matrix\n",
    "from sklearn.metrics._plot.confusion_matrix import ConfusionMatrixDisplay\n",
    "disp = ConfusionMatrixDisplay(confusion_matrix=cm, display_labels=species_list)\n",
    "disp2 = ConfusionMatrixDisplay(confusion_matrix=cm2, display_labels=species_list)"
   ]
  },
  {
   "cell_type": "code",
   "execution_count": null,
   "metadata": {},
   "outputs": [],
   "source": [
    "fig, ax = plt.subplots(figsize=[15, 15])\n",
    "disp.plot(include_values=True,\n",
    "                     cmap='viridis', ax=ax, xticks_rotation='horizontal',\n",
    "                     values_format=None, colorbar=True)\n"
   ]
  },
  {
   "cell_type": "code",
   "execution_count": null,
   "metadata": {},
   "outputs": [],
   "source": [
    "fig, ax = plt.subplots(figsize=[15, 15])\n",
    "disp2.plot(include_values=True,\n",
    "                     cmap='viridis', ax=ax, xticks_rotation='horizontal',\n",
    "                     values_format='.2f', colorbar=True)"
   ]
  },
  {
   "cell_type": "markdown",
   "metadata": {},
   "source": [
    "## HICEAS2002"
   ]
  },
  {
   "cell_type": "code",
   "execution_count": null,
   "metadata": {},
   "outputs": [],
   "source": [
    "ee = deployment[3]\n",
    "print(ee)"
   ]
  },
  {
   "cell_type": "code",
   "execution_count": null,
   "metadata": {},
   "outputs": [],
   "source": [
    "# Training data\n",
    "fea_temp = np.load(os.path.join(feature_path, 'train_oswald_no_'+ee+'.npz'))\n",
    "fea_train = fea_temp['fea_train']\n",
    "label_train_list = fea_temp['label_train']\n",
    "del fea_temp"
   ]
  },
  {
   "cell_type": "code",
   "execution_count": null,
   "metadata": {},
   "outputs": [],
   "source": [
    "label_train = np.zeros(len(label_train_list))\n",
    "for ii in range(len(label_train_list)):\n",
    "    label_train[ii] = species_dict[label_train_list[ii]]"
   ]
  },
  {
   "cell_type": "code",
   "execution_count": null,
   "metadata": {},
   "outputs": [],
   "source": [
    "# Testing data\n",
    "fea_temp = np.load(os.path.join(feature_path, 'oswald_'+ee+'_orig.npz'))\n",
    "fea_test = fea_temp['feas_orig']\n",
    "label_test_list = fea_temp['labels_orig']\n",
    "\n",
    "fea_test = fea_test[:,:100,:]\n",
    "label_test = np.zeros(len(label_test_list))\n",
    "for ii in range(len(label_test_list)):\n",
    "    label_test[ii] = species_dict[label_test_list[ii]]"
   ]
  },
  {
   "cell_type": "code",
   "execution_count": null,
   "metadata": {},
   "outputs": [],
   "source": [
    "fea_train = fea_train[:,:100,:]"
   ]
  },
  {
   "cell_type": "code",
   "execution_count": null,
   "metadata": {},
   "outputs": [],
   "source": [
    "label_train = np.zeros(len(label_train_list))\n",
    "for ii in range(len(label_train_list)):\n",
    "    label_train[ii] = species_dict[label_train_list[ii]]"
   ]
  },
  {
   "cell_type": "code",
   "execution_count": null,
   "metadata": {
    "scrolled": true
   },
   "outputs": [],
   "source": [
    "Counter(label_train_list)"
   ]
  },
  {
   "cell_type": "code",
   "execution_count": null,
   "metadata": {},
   "outputs": [],
   "source": [
    "Counter(label_test.tolist())"
   ]
  },
  {
   "cell_type": "code",
   "execution_count": null,
   "metadata": {},
   "outputs": [],
   "source": [
    "fit_result_path2 = os.path.join(fit_result_path1, ee)\n",
    "if not os.path.exists(fit_result_path2):\n",
    "    makedirs(fit_result_path2)"
   ]
  },
  {
   "cell_type": "code",
   "execution_count": null,
   "metadata": {},
   "outputs": [],
   "source": [
    "print('feature train shape: '+str(fea_train.shape))\n",
    "print('feature test shape: '+str(fea_test.shape))\n",
    "print('label train shape: '+str(label_train.shape))\n",
    "print('label test shape: '+str(label_test.shape))\n",
    "\n",
    "dim_time = fea_train.shape[1]\n",
    "dim_freq = fea_train.shape[2]\n",
    "print('dim_time: '+str(dim_time))\n",
    "print('dim_freq: '+str(dim_freq))"
   ]
  },
  {
   "cell_type": "code",
   "execution_count": null,
   "metadata": {},
   "outputs": [],
   "source": [
    "# shuffle features & labels\n",
    "fea_train, label_train = shuffle(fea_train, label_train, random_state=0)\n",
    "fea_test, label_test = shuffle(fea_test, label_test, random_state=0)"
   ]
  },
  {
   "cell_type": "code",
   "execution_count": null,
   "metadata": {},
   "outputs": [],
   "source": [
    "# class weight\n",
    "weights = compute_class_weight(class_weight='balanced', classes=np.unique(label_train), y=label_train)\n",
    "\n",
    "class_weights = dict()\n",
    "for ii in range(num_species):\n",
    "    class_weights[ii] = weights[ii]"
   ]
  },
  {
   "cell_type": "code",
   "execution_count": null,
   "metadata": {},
   "outputs": [],
   "source": [
    "fea_train = np.expand_dims(fea_train, axis=3)\n",
    "fea_test = np.expand_dims(fea_test, axis=3)"
   ]
  },
  {
   "cell_type": "code",
   "execution_count": null,
   "metadata": {},
   "outputs": [],
   "source": [
    "fea_train, fea_validate, label_train, label_validate = train_test_split(fea_train, label_train, test_size=0.30, random_state=42)\n",
    "\n",
    "train_generator = DataGenerator(fea_train, label_train, batch_size=batch_size, num_classes=num_species)\n",
    "del fea_train\n",
    "validate_generator = DataGenerator(fea_validate, label_validate, batch_size=batch_size, num_classes=num_species)\n",
    "del fea_validate\n",
    "\n",
    "# test_generator = DataGenerator(fea_test, label_test, batch_size=batch_size, num_classes=num_species)\n"
   ]
  },
  {
   "cell_type": "markdown",
   "metadata": {},
   "source": [
    "### Training the model"
   ]
  },
  {
   "cell_type": "code",
   "execution_count": null,
   "metadata": {
    "scrolled": true
   },
   "outputs": [],
   "source": [
    "model = model_cnn14_attention_multi(dim_time, dim_freq, num_species, model_type='feature_level_attention', conv_dim=conv_dim, pool_size=pool_size, pool_stride=pool_stride, hidden_units=hidden_units, l2_regu=l2_regu, drop_rate=drop_rate)\n",
    "loss = CategoricalCrossentropy()\n",
    "model.compile(optimizer=tf.keras.optimizers.Adam(learning_rate=learning_rate_fn), loss=loss, metrics=['accuracy'])\n",
    "\n",
    "# With classes\n",
    "# history = model.fit(fea_train, to_categorical(label_train), class_weight=class_weights, validation_split=0.3, batch_size=batch_size, epochs=num_epoch, callbacks=[EarlyStopping(patience=num_patience), ModelCheckpoint(filepath=os.path.join(fit_result_path, '{epoch:02d}-{val_loss:.4f}.hdf5'), verbose=1, monitor=\"val_loss\", save_best_only=True)])\n",
    "# history = model.fit(train_generator, validation_data=validate_generator, class_weight=class_weights, epochs=num_epoch, callbacks=[EarlyStopping(patience=num_patience, monitor='val_loss', mode='min', verbose=1), TensorBoard(log_dir=fit_result_path1), ModelCheckpoint(filepath=os.path.join(fit_result_path1, '{epoch:02d}-{val_loss:.4f}.hdf5'), verbose=1, monitor=\"val_loss\", save_best_only=True)])\n",
    "history = model.fit(train_generator, validation_data=validate_generator, class_weight=class_weights, epochs=num_epoch, callbacks=[EarlyStopping(patience=num_patience, monitor='val_loss', mode='min', verbose=1), TensorBoard(log_dir=fit_result_path2), ModelCheckpoint(filepath=os.path.join(fit_result_path2, 'epoch_{epoch:02d}_valloss_{val_loss:.4f}_valacc_{val_accuracy:.4f}.hdf5' ), verbose=1, monitor=\"val_loss\", save_best_only=True)])"
   ]
  },
  {
   "cell_type": "code",
   "execution_count": null,
   "metadata": {},
   "outputs": [],
   "source": [
    "# fit_result_path1 = '/home/ys587/__Data/__whistle/__whislte_30_species/__fit_result_species/20210210_224527'\n",
    "the_best_model, _ = find_best_model(fit_result_path2, purge=False)"
   ]
  },
  {
   "cell_type": "code",
   "execution_count": null,
   "metadata": {
    "scrolled": true
   },
   "outputs": [],
   "source": [
    "model = load_model(the_best_model)\n",
    "model.summary()"
   ]
  },
  {
   "cell_type": "code",
   "execution_count": null,
   "metadata": {},
   "outputs": [],
   "source": [
    "label_pred = model.predict(fea_test)\n",
    "# label_pred = model.predict(test_generator)"
   ]
  },
  {
   "cell_type": "code",
   "execution_count": null,
   "metadata": {},
   "outputs": [],
   "source": [
    "np.set_printoptions(linewidth=200, precision=2, suppress=True)"
   ]
  },
  {
   "cell_type": "code",
   "execution_count": null,
   "metadata": {},
   "outputs": [],
   "source": [
    "print(\"Confusion matrix:\")\n",
    "cm = confusion_matrix(label_test, np.argmax(label_pred, axis=1), labels=species_id)\n",
    "\n",
    "print(species_list)\n",
    "print('')\n",
    "print(cm)\n",
    "print('')\n",
    "\n",
    "cm2 = cm*1.0\n",
    "for ii in range(cm.shape[0]):\n",
    "    cm_row = cm[ii, :]*1.0\n",
    "\n",
    "    cm_row_sum = cm_row.sum()\n",
    "    if cm_row_sum != 0:\n",
    "        cm2[ii, :] = cm_row / cm_row_sum\n",
    "    else:\n",
    "        cm2[ii, :] = np.zeros(cm.shape[1])\n",
    "\n",
    "print(cm2)"
   ]
  },
  {
   "cell_type": "code",
   "execution_count": null,
   "metadata": {},
   "outputs": [],
   "source": [
    "from sklearn.metrics import plot_confusion_matrix\n",
    "from sklearn.metrics._plot.confusion_matrix import ConfusionMatrixDisplay\n",
    "disp = ConfusionMatrixDisplay(confusion_matrix=cm, display_labels=species_list)\n",
    "disp2 = ConfusionMatrixDisplay(confusion_matrix=cm2, display_labels=species_list)"
   ]
  },
  {
   "cell_type": "code",
   "execution_count": null,
   "metadata": {},
   "outputs": [],
   "source": [
    "fig, ax = plt.subplots(figsize=[15, 15])\n",
    "disp.plot(include_values=True,\n",
    "                     cmap='viridis', ax=ax, xticks_rotation='horizontal',\n",
    "                     values_format=None, colorbar=True)\n"
   ]
  },
  {
   "cell_type": "code",
   "execution_count": null,
   "metadata": {},
   "outputs": [],
   "source": [
    "fig, ax = plt.subplots(figsize=[15, 15])\n",
    "disp2.plot(include_values=True,\n",
    "                     cmap='viridis', ax=ax, xticks_rotation='horizontal',\n",
    "                     values_format='.2f', colorbar=True)"
   ]
  },
  {
   "cell_type": "markdown",
   "metadata": {},
   "source": [
    "## PICES2005"
   ]
  },
  {
   "cell_type": "code",
   "execution_count": null,
   "metadata": {},
   "outputs": [],
   "source": [
    "ee = deployment[4]\n",
    "print(ee)"
   ]
  },
  {
   "cell_type": "code",
   "execution_count": null,
   "metadata": {},
   "outputs": [],
   "source": [
    "# Training data\n",
    "fea_temp = np.load(os.path.join(feature_path, 'train_oswald_no_'+ee+'.npz'))\n",
    "fea_train = fea_temp['fea_train']\n",
    "label_train_list = fea_temp['label_train']\n",
    "del fea_temp"
   ]
  },
  {
   "cell_type": "code",
   "execution_count": null,
   "metadata": {},
   "outputs": [],
   "source": [
    "label_train = np.zeros(len(label_train_list))\n",
    "for ii in range(len(label_train_list)):\n",
    "    label_train[ii] = species_dict[label_train_list[ii]]"
   ]
  },
  {
   "cell_type": "code",
   "execution_count": null,
   "metadata": {},
   "outputs": [],
   "source": [
    "# Testing data\n",
    "fea_temp = np.load(os.path.join(feature_path, 'oswald_'+ee+'_orig.npz'))\n",
    "fea_test = fea_temp['feas_orig']\n",
    "label_test_list = fea_temp['labels_orig']\n",
    "\n",
    "fea_test = fea_test[:,:100,:]\n",
    "label_test = np.zeros(len(label_test_list))\n",
    "for ii in range(len(label_test_list)):\n",
    "    label_test[ii] = species_dict[label_test_list[ii]]"
   ]
  },
  {
   "cell_type": "code",
   "execution_count": null,
   "metadata": {},
   "outputs": [],
   "source": [
    "fea_train = fea_train[:,:100,:]"
   ]
  },
  {
   "cell_type": "code",
   "execution_count": null,
   "metadata": {},
   "outputs": [],
   "source": [
    "label_train = np.zeros(len(label_train_list))\n",
    "for ii in range(len(label_train_list)):\n",
    "    label_train[ii] = species_dict[label_train_list[ii]]"
   ]
  },
  {
   "cell_type": "code",
   "execution_count": null,
   "metadata": {
    "scrolled": true
   },
   "outputs": [],
   "source": [
    "Counter(label_train_list)"
   ]
  },
  {
   "cell_type": "code",
   "execution_count": null,
   "metadata": {},
   "outputs": [],
   "source": [
    "Counter(label_test.tolist())"
   ]
  },
  {
   "cell_type": "code",
   "execution_count": null,
   "metadata": {},
   "outputs": [],
   "source": [
    "fit_result_path2 = os.path.join(fit_result_path1, ee)\n",
    "if not os.path.exists(fit_result_path2):\n",
    "    makedirs(fit_result_path2)"
   ]
  },
  {
   "cell_type": "code",
   "execution_count": null,
   "metadata": {},
   "outputs": [],
   "source": [
    "print('feature train shape: '+str(fea_train.shape))\n",
    "print('feature test shape: '+str(fea_test.shape))\n",
    "print('label train shape: '+str(label_train.shape))\n",
    "print('label test shape: '+str(label_test.shape))\n",
    "\n",
    "dim_time = fea_train.shape[1]\n",
    "dim_freq = fea_train.shape[2]\n",
    "print('dim_time: '+str(dim_time))\n",
    "print('dim_freq: '+str(dim_freq))"
   ]
  },
  {
   "cell_type": "code",
   "execution_count": null,
   "metadata": {},
   "outputs": [],
   "source": [
    "# shuffle features & labels\n",
    "fea_train, label_train = shuffle(fea_train, label_train, random_state=0)\n",
    "fea_test, label_test = shuffle(fea_test, label_test, random_state=0)"
   ]
  },
  {
   "cell_type": "code",
   "execution_count": null,
   "metadata": {},
   "outputs": [],
   "source": [
    "# class weight\n",
    "weights = compute_class_weight(class_weight='balanced', classes=np.unique(label_train), y=label_train)\n",
    "\n",
    "class_weights = dict()\n",
    "for ii in range(num_species):\n",
    "    class_weights[ii] = weights[ii]"
   ]
  },
  {
   "cell_type": "code",
   "execution_count": null,
   "metadata": {},
   "outputs": [],
   "source": [
    "fea_train = np.expand_dims(fea_train, axis=3)\n",
    "fea_test = np.expand_dims(fea_test, axis=3)"
   ]
  },
  {
   "cell_type": "code",
   "execution_count": null,
   "metadata": {},
   "outputs": [],
   "source": [
    "fea_train, fea_validate, label_train, label_validate = train_test_split(fea_train, label_train, test_size=0.30, random_state=42)\n",
    "\n",
    "train_generator = DataGenerator(fea_train, label_train, batch_size=batch_size, num_classes=num_species)\n",
    "del fea_train\n",
    "validate_generator = DataGenerator(fea_validate, label_validate, batch_size=batch_size, num_classes=num_species)\n",
    "del fea_validate\n",
    "\n",
    "# test_generator = DataGenerator(fea_test, label_test, batch_size=batch_size, num_classes=num_species)\n"
   ]
  },
  {
   "cell_type": "markdown",
   "metadata": {},
   "source": [
    "### Training the model"
   ]
  },
  {
   "cell_type": "code",
   "execution_count": null,
   "metadata": {
    "scrolled": true
   },
   "outputs": [],
   "source": [
    "model = model_cnn14_attention_multi(dim_time, dim_freq, num_species, model_type='feature_level_attention', conv_dim=conv_dim, pool_size=pool_size, pool_stride=pool_stride, hidden_units=hidden_units, l2_regu=l2_regu, drop_rate=drop_rate)\n",
    "loss = CategoricalCrossentropy()\n",
    "model.compile(optimizer=tf.keras.optimizers.Adam(learning_rate=learning_rate_fn), loss=loss, metrics=['accuracy'])\n",
    "\n",
    "# With classes\n",
    "# history = model.fit(fea_train, to_categorical(label_train), class_weight=class_weights, validation_split=0.3, batch_size=batch_size, epochs=num_epoch, callbacks=[EarlyStopping(patience=num_patience), ModelCheckpoint(filepath=os.path.join(fit_result_path, '{epoch:02d}-{val_loss:.4f}.hdf5'), verbose=1, monitor=\"val_loss\", save_best_only=True)])\n",
    "# history = model.fit(train_generator, validation_data=validate_generator, class_weight=class_weights, epochs=num_epoch, callbacks=[EarlyStopping(patience=num_patience, monitor='val_loss', mode='min', verbose=1), TensorBoard(log_dir=fit_result_path1), ModelCheckpoint(filepath=os.path.join(fit_result_path1, '{epoch:02d}-{val_loss:.4f}.hdf5'), verbose=1, monitor=\"val_loss\", save_best_only=True)])\n",
    "history = model.fit(train_generator, validation_data=validate_generator, class_weight=class_weights, epochs=num_epoch, callbacks=[EarlyStopping(patience=num_patience, monitor='val_loss', mode='min', verbose=1), TensorBoard(log_dir=fit_result_path2), ModelCheckpoint(filepath=os.path.join(fit_result_path2, 'epoch_{epoch:02d}_valloss_{val_loss:.4f}_valacc_{val_accuracy:.4f}.hdf5' ), verbose=1, monitor=\"val_loss\", save_best_only=True)])"
   ]
  },
  {
   "cell_type": "code",
   "execution_count": null,
   "metadata": {},
   "outputs": [],
   "source": [
    "# fit_result_path1 = '/home/ys587/__Data/__whistle/__whislte_30_species/__fit_result_species/20210210_224527'\n",
    "the_best_model, _ = find_best_model(fit_result_path2, purge=False)"
   ]
  },
  {
   "cell_type": "code",
   "execution_count": null,
   "metadata": {
    "scrolled": true
   },
   "outputs": [],
   "source": [
    "model = load_model(the_best_model)\n",
    "model.summary()"
   ]
  },
  {
   "cell_type": "code",
   "execution_count": null,
   "metadata": {},
   "outputs": [],
   "source": [
    "label_pred = model.predict(fea_test)\n",
    "# label_pred = model.predict(test_generator)"
   ]
  },
  {
   "cell_type": "code",
   "execution_count": null,
   "metadata": {},
   "outputs": [],
   "source": [
    "np.set_printoptions(linewidth=200, precision=2, suppress=True)"
   ]
  },
  {
   "cell_type": "code",
   "execution_count": null,
   "metadata": {},
   "outputs": [],
   "source": [
    "print(\"Confusion matrix:\")\n",
    "cm = confusion_matrix(label_test, np.argmax(label_pred, axis=1), labels=species_id)\n",
    "\n",
    "print(species_list)\n",
    "print('')\n",
    "print(cm)\n",
    "print('')\n",
    "\n",
    "cm2 = cm*1.0\n",
    "for ii in range(cm.shape[0]):\n",
    "    cm_row = cm[ii, :]*1.0\n",
    "\n",
    "    cm_row_sum = cm_row.sum()\n",
    "    if cm_row_sum != 0:\n",
    "        cm2[ii, :] = cm_row / cm_row_sum\n",
    "    else:\n",
    "        cm2[ii, :] = np.zeros(cm.shape[1])\n",
    "\n",
    "print(cm2)"
   ]
  },
  {
   "cell_type": "code",
   "execution_count": null,
   "metadata": {},
   "outputs": [],
   "source": [
    "from sklearn.metrics import plot_confusion_matrix\n",
    "from sklearn.metrics._plot.confusion_matrix import ConfusionMatrixDisplay\n",
    "disp = ConfusionMatrixDisplay(confusion_matrix=cm, display_labels=species_list)\n",
    "disp2 = ConfusionMatrixDisplay(confusion_matrix=cm2, display_labels=species_list)"
   ]
  },
  {
   "cell_type": "code",
   "execution_count": null,
   "metadata": {},
   "outputs": [],
   "source": [
    "fig, ax = plt.subplots(figsize=[15, 15])\n",
    "disp.plot(include_values=True,\n",
    "                     cmap='viridis', ax=ax, xticks_rotation='horizontal',\n",
    "                     values_format=None, colorbar=True)\n"
   ]
  },
  {
   "cell_type": "code",
   "execution_count": null,
   "metadata": {},
   "outputs": [],
   "source": [
    "fig, ax = plt.subplots(figsize=[15, 15])\n",
    "disp2.plot(include_values=True,\n",
    "                     cmap='viridis', ax=ax, xticks_rotation='horizontal',\n",
    "                     values_format='.2f', colorbar=True)"
   ]
  },
  {
   "cell_type": "code",
   "execution_count": null,
   "metadata": {},
   "outputs": [],
   "source": []
  },
  {
   "cell_type": "code",
   "execution_count": null,
   "metadata": {},
   "outputs": [],
   "source": []
  },
  {
   "cell_type": "code",
   "execution_count": null,
   "metadata": {},
   "outputs": [],
   "source": []
  },
  {
   "cell_type": "code",
   "execution_count": null,
   "metadata": {},
   "outputs": [],
   "source": []
  },
  {
   "cell_type": "code",
   "execution_count": null,
   "metadata": {},
   "outputs": [],
   "source": []
  },
  {
   "cell_type": "code",
   "execution_count": null,
   "metadata": {},
   "outputs": [],
   "source": []
  }
 ],
 "metadata": {
  "kernelspec": {
   "display_name": "Python 3",
   "language": "python",
   "name": "python3"
  },
  "language_info": {
   "codemirror_mode": {
    "name": "ipython",
    "version": 3
   },
   "file_extension": ".py",
   "mimetype": "text/x-python",
   "name": "python",
   "nbconvert_exporter": "python",
   "pygments_lexer": "ipython3",
   "version": "3.8.6"
  }
 },
 "nbformat": 4,
 "nbformat_minor": 4
}
