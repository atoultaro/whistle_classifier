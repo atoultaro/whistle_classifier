{
 "cells": [
  {
   "cell_type": "markdown",
   "metadata": {},
   "source": [
    "# Training species classifier Expt 3: cross-validation of Oswald data\n",
    "# Mar 23, 2021: LSTM\n",
    "# Replace categorical cross-entropy by binary cross-entropy\n",
    "## Spatial Pyramid Pooling (SPP): [1, 1], [1, 2], [1, 4], [1, 8]\n",
    "## The augemented noise is from the all five deployments.\n",
    "## Trained on PICEAS2005 & STAR2000 whereas tested on HICEAS2002, STAR2003 & STAR2006"
   ]
  },
  {
   "cell_type": "code",
   "execution_count": 1,
   "metadata": {},
   "outputs": [],
   "source": [
    "import numpy as np\n",
    "from itertools import permutations\n",
    "import random\n",
    "import os\n",
    "import glob\n",
    "import pickle\n",
    "import matplotlib.pyplot as plt\n",
    "import matplotlib.patheffects as PathEffects\n",
    "import pandas as pd\n",
    "from os import makedirs\n",
    "from datetime import datetime\n",
    "from collections import Counter\n",
    "\n",
    "from math import floor\n",
    "\n",
    "from sklearn.model_selection import train_test_split\n",
    "from sklearn.utils import shuffle\n",
    "from sklearn.utils.class_weight import compute_class_weight\n",
    "from sklearn.metrics import roc_curve\n",
    "from sklearn.neighbors import KNeighborsClassifier\n",
    "from sklearn.metrics import confusion_matrix, classification_report\n",
    "\n",
    "# from MulticoreTSNE import MulticoreTSNE as TSNE\n",
    "# from sklearn.manifold import TSNE\n",
    "import seaborn as sns\n",
    "\n",
    "from tensorflow.keras.utils import Sequence\n",
    "from tensorflow.keras.layers import Input, Dense, BatchNormalization, Dropout, Activation\n",
    "from tensorflow.keras.layers import Conv2D, Lambda, Flatten, MaxPooling2D, Concatenate, LSTM, Reshape, Lambda, ConvLSTM2D, GlobalAveragePooling2D, GlobalMaxPooling2D\n",
    "from tensorflow.keras.layers import Bidirectional, LSTM, GRU\n",
    "from tensorflow.keras.models import Model, Sequential\n",
    "from tensorflow.keras.regularizers import l2\n",
    "from tensorflow.keras import backend as K\n",
    "\n",
    "from tensorflow.keras.optimizers.schedules import ExponentialDecay, PiecewiseConstantDecay\n",
    "from tensorflow.keras.optimizers import SGD,Adam\n",
    "from tensorflow.keras.losses import binary_crossentropy, categorical_crossentropy  # CategoricalCrossentropy\n",
    "from tensorflow.keras.callbacks import ModelCheckpoint, TensorBoard, EarlyStopping\n",
    "from tensorflow.keras.utils import to_categorical\n",
    "from tensorflow.keras.models import load_model\n",
    "import tensorflow_addons.layers.spatial_pyramid_pooling as spp\n",
    "# import tensorflow_datasets as tfds\n",
    "from tensorflow.math import l2_normalize\n",
    "\n",
    "import tensorflow as tf"
   ]
  },
  {
   "cell_type": "code",
   "execution_count": 2,
   "metadata": {},
   "outputs": [],
   "source": [
    "%matplotlib inline\n",
    "import warnings\n",
    "warnings.filterwarnings(\"ignore\", category=DeprecationWarning)"
   ]
  },
  {
   "cell_type": "code",
   "execution_count": 3,
   "metadata": {},
   "outputs": [],
   "source": [
    "# Hyper parameters\n",
    "# learning_rate = 1.0e-3\n",
    "conv_dim = 16\n",
    "rnn_dim = 16\n",
    "pool_size = 2\n",
    "pool_stride = 1  # stride over time\n",
    "l2_regu = 0.0000\n",
    "drop_rate = 0.2\n",
    "hidden_units = 128\n",
    "fcn_dim = 128\n",
    "\n",
    "# learning_rate = 1.e-4\n",
    "# conv_dim = 64\n",
    "# rnn_dim = 16\n",
    "# pool_size = 2\n",
    "# pool_stride = 2\n",
    "# l2_regu = 0.00\n",
    "# drop_rate = 0.2\n",
    "# # drop_rate = 0.5\n",
    "# hidden_units = 512\n",
    "# fcn_dim = 512\n",
    "\n",
    "num_epoch = 400\n",
    "# batch_size = 128\n",
    "batch_size = 64  # rnn\n",
    "# batch_size = 32  # for cnn14+attention\n",
    "# batch_size = 16  # for cnn14+spp\n",
    "\n",
    "num_patience = 40"
   ]
  },
  {
   "cell_type": "code",
   "execution_count": 4,
   "metadata": {},
   "outputs": [],
   "source": [
    "# boundaries = [20, 40, 60, 80]\n",
    "boundaries = [num_epoch, 10200, 10300, 10400]\n",
    "# values = [1.0e-3, 3.33e-4, 1.0e-4, 3.33e-5, 1.0e-5]\n",
    "values = [3.33e-3, 1.0e-3, 3.33e-4, 1.0e-4, 3.33e-5]\n",
    "learning_rate_fn = PiecewiseConstantDecay(boundaries, values)"
   ]
  },
  {
   "cell_type": "code",
   "execution_count": 5,
   "metadata": {},
   "outputs": [],
   "source": [
    "# data_type_dict = {1: 'universal', 2: 'file', 3: 'encounter', 4: 'domain'}\n",
    "# data_type = 2\n",
    "\n",
    "work_path = '/home/ys587/__Data/__whistle/__whislte_30_species'\n",
    "fit_result_path =  os.path.join(work_path, '__fit_result_species')\n",
    "# feature_path = os.path.join(work_path, '__feature_species')\n",
    "feature_path = os.path.join(work_path, '__dataset/20210210')"
   ]
  },
  {
   "cell_type": "code",
   "execution_count": null,
   "metadata": {},
   "outputs": [],
   "source": []
  },
  {
   "cell_type": "code",
   "execution_count": 6,
   "metadata": {},
   "outputs": [],
   "source": [
    "species_dict = {'BD': 0, 'CD': 1, 'STR': 2, 'SPT': 3, 'SPIN': 4, 'PLT': 5, 'RT': 6,  'FKW': 7}\n",
    "num_species = len(species_dict)\n",
    "# species_dict = {'BD': 0, 'MH': 1, 'CD': 2, 'STR': 3, 'SPT': 4, 'SPIN': 5, 'PLT': 6, 'RD': 7, 'RT': 8,\n",
    "#                 'WSD': 9, 'FKW': 10, 'BEL': 11, 'KW': 12, 'WBD': 13, 'DUSK': 14, 'FRA': 15, 'PKW': 16, 'LPLT': 17,\n",
    "#                 'CLY': 18, 'SPE': 19, 'ASP': 20}\n",
    "species_list = list(species_dict.keys())\n",
    "species_id = list(species_dict.values())"
   ]
  },
  {
   "cell_type": "markdown",
   "metadata": {},
   "source": [
    "## Combine features"
   ]
  },
  {
   "cell_type": "code",
   "execution_count": 7,
   "metadata": {},
   "outputs": [],
   "source": [
    "deployment = ['STAR2000', 'STAR2003', 'STAR2006', 'HICEAS2002', 'PICEAS2005']  # oswald_STAR2000_orig.npz, oswald_STAR2000_aug.npz\n",
    "feature_path = '/home/ys587/__Data/__whistle/__whislte_30_species/__dataset/20210223_augment_all_three_noise_mixed'\n",
    "# feature_path = '/home/ys587/__Data/__whistle/__whislte_30_species/__dataset/20210308_augment_all_three_noise_mixed_class_balanced_min_5'\n"
   ]
  },
  {
   "cell_type": "code",
   "execution_count": 8,
   "metadata": {
    "scrolled": true
   },
   "outputs": [],
   "source": [
    "if False:\n",
    "    for ee in deployment:\n",
    "        print(ee)\n",
    "        ee_others = [ee2 for ee2 in deployment if (ee2 != ee) ]\n",
    "        fea_train_files_tot = []\n",
    "        for ee2 in ee_others:\n",
    "            fea_train_files_tot.append('oswald_'+ee2+'_orig.npz')\n",
    "            fea_train_files_tot.append('oswald_'+ee2+'_aug.npz')\n",
    "\n",
    "        # Training data\n",
    "        fea_train_list = []\n",
    "        label_train_list = []\n",
    "        for ii in range(len(fea_train_files_tot)):\n",
    "            ff = fea_train_files_tot[ii]\n",
    "            print(ff)\n",
    "            fea_temp = np.load(os.path.join(feature_path, ff))\n",
    "            print(fea_temp.files)\n",
    "\n",
    "            if ii == 0:\n",
    "                fea_train = fea_temp['feas_orig']\n",
    "                label_train = fea_temp['labels_orig']\n",
    "                print(fea_train.shape)\n",
    "                print(label_train.shape)\n",
    "            elif ii % 2 == 0:  # even\n",
    "                fea_train = np.concatenate([fea_train, fea_temp['feas_orig']])\n",
    "                label_train = np.concatenate([label_train, fea_temp['labels_orig']])\n",
    "                print(fea_train.shape)\n",
    "                print(label_train.shape)\n",
    "            else:\n",
    "                fea_train = np.concatenate([fea_train, fea_temp['feas_aug']])\n",
    "                label_train = np.concatenate([label_train, fea_temp['labels_aug']])\n",
    "                print(fea_train.shape)\n",
    "                print(label_train.shape)\n",
    "        print(fea_train.shape)\n",
    "        print(label_train.shape)\n",
    "        np.savez(os.path.join(feature_path, './train_oswald_no_'+ee+'.npz'), fea_train=fea_train, label_train=label_train)\n",
    "        print('')"
   ]
  },
  {
   "cell_type": "code",
   "execution_count": 9,
   "metadata": {},
   "outputs": [],
   "source": [
    "# data generator\n",
    "class DataGenerator(tf.keras.utils.Sequence):\n",
    "    def __init__(self, feature, label, batch_size=32, num_classes=None, shuffle=True):\n",
    "        self.batch_size = batch_size\n",
    "        self.X = feature\n",
    "        self.X_dim = len(feature.shape)\n",
    "        self.y = to_categorical(label, num_classes)\n",
    "        self.indices = np.arange(self.y.shape[0])\n",
    "        self.num_classes = num_classes\n",
    "        self.shuffle = shuffle\n",
    "        \n",
    "        # self.index = np.arange(len(self.indices))\n",
    "        #self.df = dataframe\n",
    "        #self.indices = self.df.index.tolist()        \n",
    "        # self.x_col = x_col\n",
    "        # self.y_col = y_col\n",
    "        \n",
    "        self.on_epoch_end()\n",
    "\n",
    "    def __len__(self):\n",
    "        return int(floor(len(self.indices)/self.batch_size))\n",
    "        # return label.shape[0]\n",
    "\n",
    "    def __getitem__(self, index):\n",
    "        # index = self.index[index * self.batch_size:(index + 1) * self.batch_size]\n",
    "        # batch = [self.indices[k] for k in index]\n",
    "        batch = list(range(index*self.batch_size, (index+1)*self.batch_size))\n",
    "        \n",
    "        X, y = self.__get_data(batch)\n",
    "        return X, y\n",
    "\n",
    "    def on_epoch_end(self):\n",
    "        if self.shuffle == True:\n",
    "            np.random.shuffle(self.indices)\n",
    "\n",
    "    def __get_data(self, batch):\n",
    "        y = np.zeros((self.batch_size, self.y.shape[1]))\n",
    "        \n",
    "        if self.X_dim == 3:\n",
    "            X = np.zeros((self.batch_size, self.X.shape[1], self.X.shape[2]))\n",
    "            for i, id in enumerate(batch):\n",
    "                X[i,:, :] = self.X[id, :, :]  # logic\n",
    "                y[i, :] = self.y[id, :] # labels\n",
    "                \n",
    "        elif self.X_dim == 4:\n",
    "            X = np.zeros((self.batch_size, self.X.shape[1], self.X.shape[2], self.X.shape[3]))\n",
    "            for i, id in enumerate(batch):\n",
    "                X[i,:, :, :] = self.X[id, :, :, :]  # logic\n",
    "                y[i, :] = self.y[id, :] # labels\n",
    "\n",
    "        return X, y"
   ]
  },
  {
   "cell_type": "markdown",
   "metadata": {},
   "source": [
    "## Models"
   ]
  },
  {
   "cell_type": "code",
   "execution_count": 10,
   "metadata": {},
   "outputs": [],
   "source": [
    "# RNN / LSTM \n",
    "def model_conv_lstm(time_steps, freq_bins, classes_num, conv_dim=64, rnn_dim=128, pool_size=2, pool_stride=2, hidden_units=512, l2_regu=0., drop_rate=0., multilabel=True):\n",
    "    input_layer = Input(shape=(time_steps, freq_bins, 1), name='input')\n",
    "    # group 1\n",
    "    y = Conv2D(conv_dim, kernel_size=(3, 3), strides=(1, 1), padding='same', kernel_regularizer=l2(l2_regu))(input_layer)\n",
    "    y = BatchNormalization()(y)\n",
    "    y = Activation(activation='relu')(y)\n",
    "    y = Conv2D(conv_dim, kernel_size=(3, 3), strides=(1, 1), padding='same', kernel_regularizer=l2(l2_regu))(y)\n",
    "    y = BatchNormalization()(y)\n",
    "    y = Activation(activation='relu')(y)\n",
    "    y = MaxPooling2D(pool_size=(pool_size, 2), strides=(2, 2), padding='same')(y)\n",
    "    y = Dropout(drop_rate)(y)\n",
    "    \n",
    "    # group 2\n",
    "    y = Conv2D(conv_dim*2, kernel_size=(3, 3), strides=(1, 1), padding='same', kernel_regularizer=l2(l2_regu))(y)\n",
    "    y = BatchNormalization()(y)\n",
    "    y = Activation(activation='relu')(y)\n",
    "    y = Conv2D(conv_dim*2, kernel_size=(3, 3), strides=(1, 1), padding='same', kernel_regularizer=l2(l2_regu))(y)\n",
    "    y = BatchNormalization()(y)\n",
    "    y = Activation(activation='relu')(y)\n",
    "    y = MaxPooling2D(pool_size=(pool_size, 2), strides=(1, 2), padding='same')(y)\n",
    "    y = Dropout(drop_rate)(y)\n",
    "    \n",
    "    # group 3\n",
    "    y = Conv2D(conv_dim*4, kernel_size=(3, 3), strides=(1, 1), padding='same', kernel_regularizer=l2(l2_regu))(y)\n",
    "    y = BatchNormalization()(y)\n",
    "    y = Activation(activation='relu')(y)\n",
    "    y = Conv2D(conv_dim*4, kernel_size=(3, 3), strides=(1, 1), padding='same', kernel_regularizer=l2(l2_regu))(y)\n",
    "    y = BatchNormalization()(y)\n",
    "    y = Activation(activation='relu')(y)\n",
    "    y = MaxPooling2D(pool_size=(pool_size, 2), strides=(1, 2), padding='same')(y)\n",
    "    y = Dropout(drop_rate)(y)\n",
    "    \n",
    "#     # group 4 \n",
    "#     y = Conv2D(conv_dim*8, kernel_size=(3, 3), strides=(1, 1), padding='same', kernel_regularizer=l2(l2_regu))(y)\n",
    "#     y = BatchNormalization()(y)\n",
    "#     y = Activation(activation='relu')(y)\n",
    "#     y = Conv2D(conv_dim*8, kernel_size=(3, 3), strides=(1, 1), padding='same', kernel_regularizer=l2(l2_regu))(y)\n",
    "#     y = BatchNormalization()(y)\n",
    "#     y = Activation(activation='relu')(y)\n",
    "#     y = MaxPooling2D(pool_size=(pool_size, 2), strides=(pool_stride, 2), padding='same')(y)\n",
    "#     y = Dropout(drop_rate)(y)\n",
    "\n",
    "#     # group 5\n",
    "#     y = Conv2D(conv_dim*16, kernel_size=(3, 3), strides=(1, 1), padding='same', kernel_regularizer=l2(l2_regu))(y)\n",
    "#     y = BatchNormalization()(y)\n",
    "#     y = Activation(activation='relu')(y)\n",
    "#     y = Conv2D(conv_dim*16, kernel_size=(3, 3), strides=(1, 1), padding='same', kernel_regularizer=l2(l2_regu))(y)\n",
    "#     y = BatchNormalization()(y)\n",
    "#     y = Activation(activation='relu')(y)\n",
    "\n",
    "    \n",
    "#     dim_cnn = K.int_shape(y)\n",
    "#     y = spp.SpatialPyramidPooling2D(bins=[[time_steps, 1], [time_steps, 2], [time_steps, 4]], data_format='channels_last')(y)\n",
    "#     y = Reshape((time_steps, 7*dim_cnn[3]))(y)\n",
    "    \n",
    "    dim_cnn = K.int_shape(y)\n",
    "    y = Reshape((dim_cnn[1], dim_cnn[2]*dim_cnn[3]))(y)\n",
    "    \n",
    "    # y = Reshape(time_steps, 7, )(y)\n",
    "    # dim_spp = K.int_shape(y)\n",
    "    # y = Reshape((dim_spp[1]*dim_spp[2], ))(y)\n",
    "    # dim_cnn = K.int_shape(y)\n",
    "    # y = Reshape((dim_cnn[1], dim_cnn[2]*dim_cnn[3]))(y)\n",
    "    \n",
    "    \n",
    "    #y = LSTM(hidden_units, activation='relu', return_sequences=True, dropout=drop_rate, recurrent_dropout=drop_rate)(y)\n",
    "    #y = LSTM(hidden_units, activation='relu', dropout=drop_rate, recurrent_dropout=drop_rate)(y)\n",
    "    y = GRU(hidden_units, activation='relu', return_sequences=True, dropout=drop_rate)(y)\n",
    "    y = GRU(hidden_units, activation='relu', dropout=drop_rate)(y)\n",
    "    x = Dense(classes_num, activation='sigmoid')(y)\n",
    "\n",
    "#     # FC block\n",
    "#     a1 = Dense(hidden_units)(y)\n",
    "#     a1 = BatchNormalization()(a1)\n",
    "#     a1 = Activation('relu')(a1)\n",
    "#     a1 = Dropout(drop_rate)(a1)\n",
    "\n",
    "#     a2 = Dense(hidden_units)(a1)\n",
    "#     a2 = BatchNormalization()(a2)\n",
    "#     a2 = Activation('relu')(a2)\n",
    "#     a2 = Dropout(drop_rate)(a2)\n",
    "\n",
    "#     a3 = Dense(hidden_units)(a2)\n",
    "#     a3 = BatchNormalization()(a3)\n",
    "#     a3 = Activation('relu')(a3)\n",
    "#     a3 = Dropout(drop_rate)(a3)\n",
    "    \n",
    "#     y = Dense(hidden_units, activation='relu', name='cnn14_fcn')(y)  # original 512\n",
    "#      y = Dense(hidden_units, activation='relu', name='cnn14_fcn2')(y)  # original 512\n",
    "    # x = Dense(classes_num, activation='softmax')(y)\n",
    "#     x = Dense(classes_num, activation='sigmoid')(y)\n",
    "    # x = Dense(classes_num, activation='sigmoid')(a3)\n",
    "    \n",
    "    # Build model\n",
    "    model = Model(inputs=input_layer, outputs=x)\n",
    "    \n",
    "    return model"
   ]
  },
  {
   "cell_type": "markdown",
   "metadata": {},
   "source": [
    "# Model compile, class weight & fitting"
   ]
  },
  {
   "cell_type": "code",
   "execution_count": 11,
   "metadata": {},
   "outputs": [],
   "source": [
    "# def find_best_model(model_folder, remove_others=False):\n",
    "#     model_list = glob.glob(model_folder+'/*.hdf5')\n",
    "#     model_list.sort()\n",
    "#     the_best_model = model_list[-1]\n",
    "    \n",
    "#     if remove_others==True:\n",
    "#         for mm in model_list[:-1]:\n",
    "#             os.remove(mm)\n",
    "            \n",
    "#     print(the_best_model)\n",
    "    \n",
    "#     return the_best_model\n",
    "import re\n",
    "\n",
    "def find_best_model(classifier_path, fmt='epoch_\\d+_valloss_(\\d+.\\d{4})_valacc_(\\d+.\\d{4}).hdf5', is_max=True, purge=True):\n",
    "    \"\"\"\n",
    "    Return the path to the model with the best accuracy, given the path to\n",
    "    all the trained classifiers\n",
    "    Args:\n",
    "        classifier_path: path to all the trained classifiers\n",
    "        fmt: e.g. \"epoch_\\d+_[0-1].\\d+_(\\d+.\\d{4}).hdf5\"\n",
    "        'epoch_\\d+_valloss_(\\d+.\\d{4})_valacc_\\d+.\\d{4}.hdf5'\n",
    "        is_max: use max; otherwise, min\n",
    "        purge: True to purge models files except the best one\n",
    "    Return:\n",
    "        the path of the model with the best accuracy\n",
    "    \"\"\"\n",
    "    # list all files ending with .hdf5\n",
    "    day_list = sorted(glob.glob(os.path.join(classifier_path + '/', '*.hdf5')))\n",
    "\n",
    "    # re the last 4 digits for accuracy\n",
    "    hdf5_filename = []\n",
    "    hdf5_accu = np.zeros(len(day_list))\n",
    "    for dd in range(len(day_list)):\n",
    "        filename = os.path.basename(day_list[dd])\n",
    "        hdf5_filename.append(filename)\n",
    "        # m = re.search(\"_F1_(0.\\d{4}).hdf5\", filename)\n",
    "        # m = re.search(\"_([0-1].\\d{4}).hdf5\", filename)\n",
    "        # m = re.search(\"epoch_\\d+_[0-1].\\d+_(\\d+.\\d{4}).hdf5\", filename)\n",
    "        m = re.search(fmt, filename)\n",
    "        try:\n",
    "            #  hdf5_accu[dd] = float(m.groups()[0])\n",
    "            hdf5_accu[dd] = float(m.groups()[1])\n",
    "        except:\n",
    "            continue\n",
    "\n",
    "    # select the laregest one and write to the variable classifier_file\n",
    "    if len(hdf5_accu) == 0:\n",
    "        best_model_path = ''\n",
    "        best_accu = 0\n",
    "    else:\n",
    "        if is_max is True:\n",
    "            ind_max = np.argmax(hdf5_accu)\n",
    "        else: # use min instead\n",
    "            ind_max = np.argmin(hdf5_accu)\n",
    "        best_model_path = day_list[int(ind_max)]\n",
    "        best_accu = hdf5_accu[ind_max]\n",
    "        # purge all model files except the best_model\n",
    "        if purge:\n",
    "            for ff in day_list:\n",
    "                if ff != best_model_path:\n",
    "                    os.remove(ff)\n",
    "    print('Best model:'+str(best_accu))\n",
    "    print(best_model_path)\n",
    "    return best_model_path, best_accu\n"
   ]
  },
  {
   "cell_type": "code",
   "execution_count": 12,
   "metadata": {},
   "outputs": [],
   "source": [
    "### cnn4 + attention\n",
    "# model = model_cnn_attention(dim_time, dim_freq, num_species, model_type='decision_level_max_pooling', conv_dim=conv_dim, l2_regu=l2_regu, drop_rate=drop_rate)\n",
    "# model = model_cnn_attention(dim_time, dim_freq, num_species, model_type='decision_level_multi_attention', conv_dim=conv_dim, l2_regu=l2_regu, drop_rate=drop_rate)\n",
    "# model = model_cnn_attention(dim_time, dim_freq, num_species, model_type='feature_level_attention', conv_dim=conv_dim, l2_regu=l2_regu, drop_rate=drop_rate)\n",
    "\n",
    "# vggish\n",
    "# model = model_vggish(dim_time, dim_freq, num_species, conv_dim=conv_dim, fcn_dim=fcn_dim)\n",
    "\n",
    "# cnn10\n",
    "# model = model_cnn10(dim_time, dim_freq, num_species, conv_dim=conv_dim, fcn_dim=fcn_dim, l2_regu=l2_regu, drop_rate=drop_rate)\n",
    "\n",
    "# cnn14\n",
    "# model = model_cnn14(dim_time, dim_freq, num_species, conv_dim=conv_dim, fcn_dim=fcn_dim, l2_regu=l2_regu, drop_rate=drop_rate)\n",
    "\n",
    "# cnn14 attention\n",
    "# model = model_cnn14_attention(dim_time, dim_freq, num_species, model_type='feature_level_attention', conv_dim=conv_dim, pool_size=pool_size, pool_stride=pool_stride, hidden_units=hidden_units, l2_regu=l2_regu, drop_rate=drop_rate)\n",
    "# model = model_cnn14_bigru_attention(dim_time, dim_freq, num_species, model_type='feature_level_attention', conv_dim=conv_dim, rnn_dim=rnn_dim, hidden_units=hidden_units, l2_regu=l2_regu, drop_rate=drop_rate)\n",
    "\n",
    "# model = model_cnn14_attention_multi(dim_time, dim_freq, num_species, model_type='feature_level_attention', conv_dim=conv_dim, pool_size=pool_size, pool_stride=pool_stride, hidden_units=hidden_units, l2_regu=l2_regu, drop_rate=drop_rate)\n",
    "# model = model_cnn14_spp(dim_time, dim_freq, num_species, conv_dim=conv_dim, pool_size=pool_size, pool_stride=pool_stride, hidden_units=hidden_units, l2_regu=l2_regu, drop_rate=drop_rate)\n",
    "# loss = CategoricalCrossentropy()\n",
    "# model.compile(optimizer=tf.keras.optimizers.Adam(learning_rate=learning_rate), loss=loss, metrics=['accuracy'])\n",
    "\n"
   ]
  },
  {
   "cell_type": "markdown",
   "metadata": {},
   "source": [
    "# Cross validation"
   ]
  },
  {
   "cell_type": "code",
   "execution_count": 13,
   "metadata": {},
   "outputs": [],
   "source": [
    "today = datetime.now()\n",
    "# create a folder based on date & time\n",
    "fit_result_path1 = os.path.join(fit_result_path, today.strftime('%Y%m%d_%H%M%S'))"
   ]
  },
  {
   "cell_type": "markdown",
   "metadata": {},
   "source": [
    "## STAR2000"
   ]
  },
  {
   "cell_type": "code",
   "execution_count": 14,
   "metadata": {},
   "outputs": [
    {
     "name": "stdout",
     "output_type": "stream",
     "text": [
      "STAR2000\n"
     ]
    }
   ],
   "source": [
    "ee = deployment[0]\n",
    "print(ee)"
   ]
  },
  {
   "cell_type": "code",
   "execution_count": 15,
   "metadata": {},
   "outputs": [],
   "source": [
    "# Training data\n",
    "fea_temp = np.load(os.path.join(feature_path, 'train_oswald_no_'+ee+'.npz'))\n",
    "fea_train = fea_temp['fea_train']\n",
    "label_train_list = fea_temp['label_train']\n",
    "del fea_temp\n",
    "\n",
    "fea_train = fea_train[:,:100,:]\n",
    "label_train = np.zeros(len(label_train_list))\n",
    "for ii in range(len(label_train_list)):\n",
    "    label_train[ii] = species_dict[label_train_list[ii]]"
   ]
  },
  {
   "cell_type": "code",
   "execution_count": 16,
   "metadata": {},
   "outputs": [],
   "source": [
    "# Testing data\n",
    "fea_temp = np.load(os.path.join(feature_path, 'oswald_'+ee+'_orig.npz'))\n",
    "fea_test = fea_temp['feas_orig']\n",
    "label_test_list = fea_temp['labels_orig']\n",
    "\n",
    "fea_test = fea_test[:,:100,:]\n",
    "label_test = np.zeros(len(label_test_list))\n",
    "for ii in range(len(label_test_list)):\n",
    "    label_test[ii] = species_dict[label_test_list[ii]]"
   ]
  },
  {
   "cell_type": "code",
   "execution_count": 17,
   "metadata": {
    "scrolled": true
   },
   "outputs": [
    {
     "data": {
      "text/plain": [
       "Counter({'BD': 10740,\n",
       "         'CD': 4656,\n",
       "         'FKW': 19080,\n",
       "         'SPIN': 3264,\n",
       "         'SPT': 8556,\n",
       "         'STR': 8352,\n",
       "         'PLT': 11856,\n",
       "         'RT': 7410})"
      ]
     },
     "execution_count": 17,
     "metadata": {},
     "output_type": "execute_result"
    }
   ],
   "source": [
    "Counter(label_train_list)"
   ]
  },
  {
   "cell_type": "code",
   "execution_count": 18,
   "metadata": {},
   "outputs": [
    {
     "data": {
      "text/plain": [
       "Counter({0.0: 121, 1.0: 3964, 5.0: 31, 6.0: 76, 4.0: 491, 3.0: 845, 2.0: 1140})"
      ]
     },
     "execution_count": 18,
     "metadata": {},
     "output_type": "execute_result"
    }
   ],
   "source": [
    "Counter(label_test.tolist())"
   ]
  },
  {
   "cell_type": "code",
   "execution_count": 19,
   "metadata": {},
   "outputs": [],
   "source": [
    "fit_result_path2 = os.path.join(fit_result_path1, ee)\n",
    "if not os.path.exists(fit_result_path2):\n",
    "    makedirs(fit_result_path2)"
   ]
  },
  {
   "cell_type": "code",
   "execution_count": 20,
   "metadata": {},
   "outputs": [
    {
     "name": "stdout",
     "output_type": "stream",
     "text": [
      "feature train shape: (73914, 100, 128)\n",
      "feature test shape: (6668, 100, 128)\n",
      "label train shape: (73914,)\n",
      "label test shape: (6668,)\n",
      "dim_time: 100\n",
      "dim_freq: 128\n"
     ]
    }
   ],
   "source": [
    "print('feature train shape: '+str(fea_train.shape))\n",
    "print('feature test shape: '+str(fea_test.shape))\n",
    "print('label train shape: '+str(label_train.shape))\n",
    "print('label test shape: '+str(label_test.shape))\n",
    "\n",
    "dim_time = fea_train.shape[1]\n",
    "dim_freq = fea_train.shape[2]\n",
    "print('dim_time: '+str(dim_time))\n",
    "print('dim_freq: '+str(dim_freq))"
   ]
  },
  {
   "cell_type": "code",
   "execution_count": 21,
   "metadata": {},
   "outputs": [],
   "source": [
    "# shuffle features & labels\n",
    "fea_train, label_train = shuffle(fea_train, label_train, random_state=0)\n",
    "fea_test, label_test = shuffle(fea_test, label_test, random_state=0)"
   ]
  },
  {
   "cell_type": "code",
   "execution_count": 22,
   "metadata": {},
   "outputs": [],
   "source": [
    "# class weight\n",
    "weights = compute_class_weight(class_weight='balanced', classes=np.unique(label_train), y=label_train)\n",
    "\n",
    "class_weights = dict()\n",
    "for ii in range(num_species):\n",
    "    class_weights[ii] = weights[ii]"
   ]
  },
  {
   "cell_type": "code",
   "execution_count": 23,
   "metadata": {},
   "outputs": [],
   "source": [
    "fea_train = np.expand_dims(fea_train, axis=3)\n",
    "fea_test = np.expand_dims(fea_test, axis=3)"
   ]
  },
  {
   "cell_type": "code",
   "execution_count": 24,
   "metadata": {},
   "outputs": [],
   "source": [
    "fea_train, fea_validate, label_train, label_validate = train_test_split(fea_train, label_train, test_size=0.10, random_state=42+4)\n",
    "\n",
    "train_generator = DataGenerator(fea_train, label_train, batch_size=batch_size, num_classes=num_species)\n",
    "del fea_train\n",
    "validate_generator = DataGenerator(fea_validate, label_validate, batch_size=batch_size, num_classes=num_species)\n",
    "del fea_validate\n",
    "\n",
    "# test_generator = DataGenerator(fea_test, label_test, batch_size=batch_size, num_classes=num_species)\n"
   ]
  },
  {
   "cell_type": "markdown",
   "metadata": {},
   "source": [
    "### Training the model"
   ]
  },
  {
   "cell_type": "code",
   "execution_count": 25,
   "metadata": {},
   "outputs": [
    {
     "name": "stdout",
     "output_type": "stream",
     "text": [
      "WARNING:tensorflow:Layer gru will not use cuDNN kernel since it doesn't meet the cuDNN kernel criteria. It will use generic GPU kernel as fallback when running on GPU\n",
      "WARNING:tensorflow:Layer gru_1 will not use cuDNN kernel since it doesn't meet the cuDNN kernel criteria. It will use generic GPU kernel as fallback when running on GPU\n",
      "Model: \"model\"\n",
      "_________________________________________________________________\n",
      "Layer (type)                 Output Shape              Param #   \n",
      "=================================================================\n",
      "input (InputLayer)           [(None, 100, 128, 1)]     0         \n",
      "_________________________________________________________________\n",
      "conv2d (Conv2D)              (None, 100, 128, 16)      160       \n",
      "_________________________________________________________________\n",
      "batch_normalization (BatchNo (None, 100, 128, 16)      64        \n",
      "_________________________________________________________________\n",
      "activation (Activation)      (None, 100, 128, 16)      0         \n",
      "_________________________________________________________________\n",
      "conv2d_1 (Conv2D)            (None, 100, 128, 16)      2320      \n",
      "_________________________________________________________________\n",
      "batch_normalization_1 (Batch (None, 100, 128, 16)      64        \n",
      "_________________________________________________________________\n",
      "activation_1 (Activation)    (None, 100, 128, 16)      0         \n",
      "_________________________________________________________________\n",
      "max_pooling2d (MaxPooling2D) (None, 50, 64, 16)        0         \n",
      "_________________________________________________________________\n",
      "dropout (Dropout)            (None, 50, 64, 16)        0         \n",
      "_________________________________________________________________\n",
      "conv2d_2 (Conv2D)            (None, 50, 64, 32)        4640      \n",
      "_________________________________________________________________\n",
      "batch_normalization_2 (Batch (None, 50, 64, 32)        128       \n",
      "_________________________________________________________________\n",
      "activation_2 (Activation)    (None, 50, 64, 32)        0         \n",
      "_________________________________________________________________\n",
      "conv2d_3 (Conv2D)            (None, 50, 64, 32)        9248      \n",
      "_________________________________________________________________\n",
      "batch_normalization_3 (Batch (None, 50, 64, 32)        128       \n",
      "_________________________________________________________________\n",
      "activation_3 (Activation)    (None, 50, 64, 32)        0         \n",
      "_________________________________________________________________\n",
      "max_pooling2d_1 (MaxPooling2 (None, 50, 32, 32)        0         \n",
      "_________________________________________________________________\n",
      "dropout_1 (Dropout)          (None, 50, 32, 32)        0         \n",
      "_________________________________________________________________\n",
      "conv2d_4 (Conv2D)            (None, 50, 32, 64)        18496     \n",
      "_________________________________________________________________\n",
      "batch_normalization_4 (Batch (None, 50, 32, 64)        256       \n",
      "_________________________________________________________________\n",
      "activation_4 (Activation)    (None, 50, 32, 64)        0         \n",
      "_________________________________________________________________\n",
      "conv2d_5 (Conv2D)            (None, 50, 32, 64)        36928     \n",
      "_________________________________________________________________\n",
      "batch_normalization_5 (Batch (None, 50, 32, 64)        256       \n",
      "_________________________________________________________________\n",
      "activation_5 (Activation)    (None, 50, 32, 64)        0         \n",
      "_________________________________________________________________\n",
      "max_pooling2d_2 (MaxPooling2 (None, 50, 16, 64)        0         \n",
      "_________________________________________________________________\n",
      "dropout_2 (Dropout)          (None, 50, 16, 64)        0         \n",
      "_________________________________________________________________\n",
      "reshape (Reshape)            (None, 50, 1024)          0         \n",
      "_________________________________________________________________\n",
      "gru (GRU)                    (None, 50, 128)           443136    \n",
      "_________________________________________________________________\n",
      "gru_1 (GRU)                  (None, 128)               99072     \n",
      "_________________________________________________________________\n",
      "dense (Dense)                (None, 8)                 1032      \n",
      "=================================================================\n",
      "Total params: 615,928\n",
      "Trainable params: 615,480\n",
      "Non-trainable params: 448\n",
      "_________________________________________________________________\n"
     ]
    }
   ],
   "source": [
    "# model = model_cnn14_attention_multi(dim_time, dim_freq, num_species, model_type='feature_level_attention', conv_dim=conv_dim, pool_size=pool_size, pool_stride=pool_stride, hidden_units=hidden_units, l2_regu=l2_regu, drop_rate=drop_rate)\n",
    "model = model_conv_lstm(dim_time, dim_freq, num_species, conv_dim=conv_dim, pool_size=pool_size, pool_stride=pool_stride, hidden_units=hidden_units, l2_regu=l2_regu, drop_rate=drop_rate)\n",
    "# loss = categorical_crossentropy\n",
    "loss = binary_crossentropy\n",
    "model.compile(optimizer=tf.keras.optimizers.Adam(learning_rate=learning_rate_fn), loss=loss, metrics=['accuracy'])\n",
    "# model.compile(optimizer=tf.keras.optimizers.Adam(learning_rate=learning_rate), loss=loss, metrics=['accuracy'])\n",
    "model.summary()"
   ]
  },
  {
   "cell_type": "code",
   "execution_count": null,
   "metadata": {
    "scrolled": true
   },
   "outputs": [
    {
     "name": "stdout",
     "output_type": "stream",
     "text": [
      "Epoch 1/400\n",
      "1039/1039 [==============================] - ETA: 0s - loss: 0.3372 - accuracy: 0.2908\n",
      "Epoch 00001: val_accuracy improved from -inf to 0.38342, saving model to /home/ys587/__Data/__whistle/__whislte_30_species/__fit_result_species/20210323_120335/STAR2000/epoch_01_valloss_0.3025_valacc_0.3834.hdf5\n",
      "1039/1039 [==============================] - 271s 261ms/step - loss: 0.3372 - accuracy: 0.2908 - val_loss: 0.3025 - val_accuracy: 0.3834\n",
      "Epoch 2/400\n",
      "1039/1039 [==============================] - ETA: 0s - loss: 0.2788 - accuracy: 0.4713\n",
      "Epoch 00002: val_accuracy improved from 0.38342 to 0.43804, saving model to /home/ys587/__Data/__whistle/__whislte_30_species/__fit_result_species/20210323_120335/STAR2000/epoch_02_valloss_0.2890_valacc_0.4380.hdf5\n",
      "1039/1039 [==============================] - 271s 260ms/step - loss: 0.2788 - accuracy: 0.4713 - val_loss: 0.2890 - val_accuracy: 0.4380\n",
      "Epoch 3/400\n",
      "1039/1039 [==============================] - ETA: 0s - loss: 0.2566 - accuracy: 0.5247\n",
      "Epoch 00003: val_accuracy improved from 0.43804 to 0.46522, saving model to /home/ys587/__Data/__whistle/__whislte_30_species/__fit_result_species/20210323_120335/STAR2000/epoch_03_valloss_0.2681_valacc_0.4652.hdf5\n",
      "1039/1039 [==============================] - 271s 261ms/step - loss: 0.2566 - accuracy: 0.5247 - val_loss: 0.2681 - val_accuracy: 0.4652\n",
      "Epoch 4/400\n",
      "1039/1039 [==============================] - ETA: 0s - loss: 0.2446 - accuracy: 0.5533\n",
      "Epoch 00004: val_accuracy improved from 0.46522 to 0.51345, saving model to /home/ys587/__Data/__whistle/__whislte_30_species/__fit_result_species/20210323_120335/STAR2000/epoch_04_valloss_0.2478_valacc_0.5135.hdf5\n",
      "1039/1039 [==============================] - 270s 260ms/step - loss: 0.2446 - accuracy: 0.5533 - val_loss: 0.2478 - val_accuracy: 0.5135\n",
      "Epoch 5/400\n",
      "1039/1039 [==============================] - ETA: 0s - loss: 0.2354 - accuracy: 0.5756\n",
      "Epoch 00005: val_accuracy improved from 0.51345 to 0.56821, saving model to /home/ys587/__Data/__whistle/__whislte_30_species/__fit_result_species/20210323_120335/STAR2000/epoch_05_valloss_0.2270_valacc_0.5682.hdf5\n",
      "1039/1039 [==============================] - 271s 261ms/step - loss: 0.2354 - accuracy: 0.5756 - val_loss: 0.2270 - val_accuracy: 0.5682\n",
      "Epoch 6/400\n",
      "1039/1039 [==============================] - ETA: 0s - loss: 0.2251 - accuracy: 0.5997\n",
      "Epoch 00006: val_accuracy improved from 0.56821 to 0.56929, saving model to /home/ys587/__Data/__whistle/__whislte_30_species/__fit_result_species/20210323_120335/STAR2000/epoch_06_valloss_0.2326_valacc_0.5693.hdf5\n",
      "1039/1039 [==============================] - 274s 263ms/step - loss: 0.2251 - accuracy: 0.5997 - val_loss: 0.2326 - val_accuracy: 0.5693\n",
      "Epoch 7/400\n",
      "1039/1039 [==============================] - ETA: 0s - loss: 0.2175 - accuracy: 0.6171\n",
      "Epoch 00007: val_accuracy improved from 0.56929 to 0.58587, saving model to /home/ys587/__Data/__whistle/__whislte_30_species/__fit_result_species/20210323_120335/STAR2000/epoch_07_valloss_0.2199_valacc_0.5859.hdf5\n",
      "1039/1039 [==============================] - 269s 259ms/step - loss: 0.2175 - accuracy: 0.6171 - val_loss: 0.2199 - val_accuracy: 0.5859\n",
      "Epoch 8/400\n",
      "1039/1039 [==============================] - ETA: 0s - loss: 0.2102 - accuracy: 0.6310\n",
      "Epoch 00008: val_accuracy did not improve from 0.58587\n",
      "1039/1039 [==============================] - 267s 257ms/step - loss: 0.2102 - accuracy: 0.6310 - val_loss: 0.2919 - val_accuracy: 0.4760\n",
      "Epoch 9/400\n",
      "1039/1039 [==============================] - ETA: 0s - loss: 0.2044 - accuracy: 0.6443\n",
      "Epoch 00009: val_accuracy improved from 0.58587 to 0.62011, saving model to /home/ys587/__Data/__whistle/__whislte_30_species/__fit_result_species/20210323_120335/STAR2000/epoch_09_valloss_0.2083_valacc_0.6201.hdf5\n",
      "1039/1039 [==============================] - 267s 257ms/step - loss: 0.2044 - accuracy: 0.6443 - val_loss: 0.2083 - val_accuracy: 0.6201\n",
      "Epoch 10/400\n",
      "1039/1039 [==============================] - ETA: 0s - loss: 0.1982 - accuracy: 0.6567\n",
      "Epoch 00010: val_accuracy improved from 0.62011 to 0.65815, saving model to /home/ys587/__Data/__whistle/__whislte_30_species/__fit_result_species/20210323_120335/STAR2000/epoch_10_valloss_0.1884_valacc_0.6582.hdf5\n",
      "1039/1039 [==============================] - 268s 257ms/step - loss: 0.1982 - accuracy: 0.6567 - val_loss: 0.1884 - val_accuracy: 0.6582\n",
      "Epoch 11/400\n",
      "1039/1039 [==============================] - ETA: 0s - loss: 0.1803 - accuracy: 0.6894\n",
      "Epoch 00011: val_accuracy improved from 0.65815 to 0.66046, saving model to /home/ys587/__Data/__whistle/__whislte_30_species/__fit_result_species/20210323_120335/STAR2000/epoch_11_valloss_0.1885_valacc_0.6605.hdf5\n",
      "1039/1039 [==============================] - 268s 258ms/step - loss: 0.1803 - accuracy: 0.6894 - val_loss: 0.1885 - val_accuracy: 0.6605\n",
      "Epoch 12/400\n",
      "1039/1039 [==============================] - ETA: 0s - loss: 0.1778 - accuracy: 0.6936\n",
      "Epoch 00012: val_accuracy improved from 0.66046 to 0.66128, saving model to /home/ys587/__Data/__whistle/__whislte_30_species/__fit_result_species/20210323_120335/STAR2000/epoch_12_valloss_0.1881_valacc_0.6613.hdf5\n",
      "1039/1039 [==============================] - 267s 257ms/step - loss: 0.1778 - accuracy: 0.6936 - val_loss: 0.1881 - val_accuracy: 0.6613\n",
      "Epoch 13/400\n",
      "1039/1039 [==============================] - ETA: 0s - loss: 0.1770 - accuracy: 0.6936\n",
      "Epoch 00013: val_accuracy improved from 0.66128 to 0.66372, saving model to /home/ys587/__Data/__whistle/__whislte_30_species/__fit_result_species/20210323_120335/STAR2000/epoch_13_valloss_0.1880_valacc_0.6637.hdf5\n",
      "1039/1039 [==============================] - 267s 257ms/step - loss: 0.1770 - accuracy: 0.6936 - val_loss: 0.1880 - val_accuracy: 0.6637\n",
      "Epoch 14/400\n",
      "1039/1039 [==============================] - ETA: 0s - loss: 0.1755 - accuracy: 0.6991\n",
      "Epoch 00014: val_accuracy did not improve from 0.66372\n",
      "1039/1039 [==============================] - 267s 257ms/step - loss: 0.1755 - accuracy: 0.6991 - val_loss: 0.1884 - val_accuracy: 0.6625\n",
      "Epoch 15/400\n",
      "1039/1039 [==============================] - ETA: 0s - loss: 0.1750 - accuracy: 0.6979\n",
      "Epoch 00015: val_accuracy improved from 0.66372 to 0.66685, saving model to /home/ys587/__Data/__whistle/__whislte_30_species/__fit_result_species/20210323_120335/STAR2000/epoch_15_valloss_0.1866_valacc_0.6668.hdf5\n",
      "1039/1039 [==============================] - 268s 258ms/step - loss: 0.1750 - accuracy: 0.6979 - val_loss: 0.1866 - val_accuracy: 0.6668\n",
      "Epoch 16/400\n",
      "1039/1039 [==============================] - ETA: 0s - loss: 0.1737 - accuracy: 0.6997\n",
      "Epoch 00016: val_accuracy did not improve from 0.66685\n",
      "1039/1039 [==============================] - 267s 257ms/step - loss: 0.1737 - accuracy: 0.6997 - val_loss: 0.1872 - val_accuracy: 0.6644\n",
      "Epoch 17/400\n",
      "1039/1039 [==============================] - ETA: 0s - loss: 0.1738 - accuracy: 0.7003\n",
      "Epoch 00017: val_accuracy improved from 0.66685 to 0.66834, saving model to /home/ys587/__Data/__whistle/__whislte_30_species/__fit_result_species/20210323_120335/STAR2000/epoch_17_valloss_0.1862_valacc_0.6683.hdf5\n",
      "1039/1039 [==============================] - 267s 257ms/step - loss: 0.1738 - accuracy: 0.7003 - val_loss: 0.1862 - val_accuracy: 0.6683\n",
      "Epoch 18/400\n",
      "1039/1039 [==============================] - ETA: 0s - loss: 0.1729 - accuracy: 0.7021\n",
      "Epoch 00018: val_accuracy improved from 0.66834 to 0.67011, saving model to /home/ys587/__Data/__whistle/__whislte_30_species/__fit_result_species/20210323_120335/STAR2000/epoch_18_valloss_0.1839_valacc_0.6701.hdf5\n",
      "1039/1039 [==============================] - 267s 257ms/step - loss: 0.1729 - accuracy: 0.7021 - val_loss: 0.1839 - val_accuracy: 0.6701\n",
      "Epoch 19/400\n",
      "1039/1039 [==============================] - ETA: 0s - loss: 0.1726 - accuracy: 0.7031\n",
      "Epoch 00019: val_accuracy did not improve from 0.67011\n",
      "1039/1039 [==============================] - 267s 257ms/step - loss: 0.1726 - accuracy: 0.7031 - val_loss: 0.1857 - val_accuracy: 0.6677\n",
      "Epoch 20/400\n",
      "1039/1039 [==============================] - ETA: 0s - loss: 0.1711 - accuracy: 0.7050\n",
      "Epoch 00020: val_accuracy did not improve from 0.67011\n",
      "1039/1039 [==============================] - 267s 257ms/step - loss: 0.1711 - accuracy: 0.7050 - val_loss: 0.1868 - val_accuracy: 0.6643\n",
      "Epoch 21/400\n",
      "1039/1039 [==============================] - ETA: 0s - loss: 0.1706 - accuracy: 0.7058\n",
      "Epoch 00021: val_accuracy did not improve from 0.67011\n",
      "1039/1039 [==============================] - 267s 257ms/step - loss: 0.1706 - accuracy: 0.7058 - val_loss: 0.1838 - val_accuracy: 0.6700\n",
      "Epoch 22/400\n",
      "1039/1039 [==============================] - ETA: 0s - loss: 0.1704 - accuracy: 0.7058\n",
      "Epoch 00022: val_accuracy did not improve from 0.67011\n",
      "1039/1039 [==============================] - 267s 257ms/step - loss: 0.1704 - accuracy: 0.7058 - val_loss: 0.1858 - val_accuracy: 0.6681\n",
      "Epoch 23/400\n",
      "1039/1039 [==============================] - ETA: 0s - loss: 0.1701 - accuracy: 0.7046\n",
      "Epoch 00023: val_accuracy improved from 0.67011 to 0.67147, saving model to /home/ys587/__Data/__whistle/__whislte_30_species/__fit_result_species/20210323_120335/STAR2000/epoch_23_valloss_0.1832_valacc_0.6715.hdf5\n",
      "1039/1039 [==============================] - 267s 257ms/step - loss: 0.1701 - accuracy: 0.7046 - val_loss: 0.1832 - val_accuracy: 0.6715\n",
      "Epoch 24/400\n",
      "1039/1039 [==============================] - ETA: 0s - loss: 0.1688 - accuracy: 0.7097\n",
      "Epoch 00024: val_accuracy did not improve from 0.67147\n",
      "1039/1039 [==============================] - 267s 257ms/step - loss: 0.1688 - accuracy: 0.7097 - val_loss: 0.1849 - val_accuracy: 0.6681\n",
      "Epoch 25/400\n",
      "1039/1039 [==============================] - ETA: 0s - loss: 0.1688 - accuracy: 0.7089\n",
      "Epoch 00025: val_accuracy did not improve from 0.67147\n",
      "1039/1039 [==============================] - 267s 257ms/step - loss: 0.1688 - accuracy: 0.7089 - val_loss: 0.1851 - val_accuracy: 0.6698\n",
      "Epoch 26/400\n",
      "1039/1039 [==============================] - ETA: 0s - loss: 0.1686 - accuracy: 0.7097\n",
      "Epoch 00026: val_accuracy did not improve from 0.67147\n",
      "1039/1039 [==============================] - 267s 257ms/step - loss: 0.1686 - accuracy: 0.7097 - val_loss: 0.1845 - val_accuracy: 0.6689\n",
      "Epoch 27/400\n",
      "1039/1039 [==============================] - ETA: 0s - loss: 0.1685 - accuracy: 0.7096\n",
      "Epoch 00027: val_accuracy did not improve from 0.67147\n",
      "1039/1039 [==============================] - 267s 257ms/step - loss: 0.1685 - accuracy: 0.7096 - val_loss: 0.1832 - val_accuracy: 0.6709\n",
      "Epoch 28/400\n",
      "1039/1039 [==============================] - ETA: 0s - loss: 0.1674 - accuracy: 0.7095\n",
      "Epoch 00028: val_accuracy did not improve from 0.67147\n",
      "1039/1039 [==============================] - 267s 257ms/step - loss: 0.1674 - accuracy: 0.7095 - val_loss: 0.1835 - val_accuracy: 0.6704\n",
      "Epoch 29/400\n",
      "1039/1039 [==============================] - ETA: 0s - loss: 0.1675 - accuracy: 0.7121\n",
      "Epoch 00029: val_accuracy did not improve from 0.67147\n",
      "1039/1039 [==============================] - 269s 259ms/step - loss: 0.1675 - accuracy: 0.7121 - val_loss: 0.1845 - val_accuracy: 0.6683\n",
      "Epoch 30/400\n",
      "1039/1039 [==============================] - ETA: 0s - loss: 0.1668 - accuracy: 0.7132\n",
      "Epoch 00030: val_accuracy did not improve from 0.67147\n",
      "1039/1039 [==============================] - 277s 266ms/step - loss: 0.1668 - accuracy: 0.7132 - val_loss: 0.1841 - val_accuracy: 0.6685\n",
      "Epoch 31/400\n",
      "1039/1039 [==============================] - ETA: 0s - loss: 0.1662 - accuracy: 0.7146\n",
      "Epoch 00031: val_accuracy did not improve from 0.67147\n",
      "1039/1039 [==============================] - 272s 261ms/step - loss: 0.1662 - accuracy: 0.7146 - val_loss: 0.1838 - val_accuracy: 0.6713\n",
      "Epoch 32/400\n",
      "1039/1039 [==============================] - ETA: 0s - loss: 0.1657 - accuracy: 0.7134\n",
      "Epoch 00032: val_accuracy did not improve from 0.67147\n",
      "1039/1039 [==============================] - 271s 261ms/step - loss: 0.1657 - accuracy: 0.7134 - val_loss: 0.1838 - val_accuracy: 0.6702\n",
      "Epoch 33/400\n",
      "1039/1039 [==============================] - ETA: 0s - loss: 0.1654 - accuracy: 0.7137\n",
      "Epoch 00033: val_accuracy did not improve from 0.67147\n",
      "1039/1039 [==============================] - 272s 262ms/step - loss: 0.1654 - accuracy: 0.7137 - val_loss: 0.1848 - val_accuracy: 0.6679\n",
      "Epoch 34/400\n",
      "1039/1039 [==============================] - ETA: 0s - loss: 0.1648 - accuracy: 0.7158\n",
      "Epoch 00034: val_accuracy did not improve from 0.67147\n",
      "1039/1039 [==============================] - 271s 261ms/step - loss: 0.1648 - accuracy: 0.7158 - val_loss: 0.1836 - val_accuracy: 0.6711\n",
      "Epoch 35/400\n",
      "1039/1039 [==============================] - ETA: 0s - loss: 0.1645 - accuracy: 0.7154\n",
      "Epoch 00035: val_accuracy did not improve from 0.67147\n",
      "1039/1039 [==============================] - 271s 261ms/step - loss: 0.1645 - accuracy: 0.7154 - val_loss: 0.1854 - val_accuracy: 0.6685\n",
      "Epoch 36/400\n",
      "1039/1039 [==============================] - ETA: 0s - loss: 0.1642 - accuracy: 0.7165\n",
      "Epoch 00036: val_accuracy did not improve from 0.67147\n",
      "1039/1039 [==============================] - 271s 261ms/step - loss: 0.1642 - accuracy: 0.7165 - val_loss: 0.1845 - val_accuracy: 0.6682\n",
      "Epoch 37/400\n",
      "1039/1039 [==============================] - ETA: 0s - loss: 0.1638 - accuracy: 0.7181\n",
      "Epoch 00037: val_accuracy did not improve from 0.67147\n",
      "1039/1039 [==============================] - 272s 261ms/step - loss: 0.1638 - accuracy: 0.7181 - val_loss: 0.1844 - val_accuracy: 0.6692\n",
      "Epoch 38/400\n",
      "1039/1039 [==============================] - ETA: 0s - loss: 0.1631 - accuracy: 0.7181\n",
      "Epoch 00038: val_accuracy improved from 0.67147 to 0.67215, saving model to /home/ys587/__Data/__whistle/__whislte_30_species/__fit_result_species/20210323_120335/STAR2000/epoch_38_valloss_0.1834_valacc_0.6721.hdf5\n",
      "1039/1039 [==============================] - 269s 259ms/step - loss: 0.1631 - accuracy: 0.7181 - val_loss: 0.1834 - val_accuracy: 0.6721\n",
      "Epoch 39/400\n",
      "1039/1039 [==============================] - ETA: 0s - loss: 0.1632 - accuracy: 0.7193\n",
      "Epoch 00039: val_accuracy did not improve from 0.67215\n",
      "1039/1039 [==============================] - 268s 258ms/step - loss: 0.1632 - accuracy: 0.7193 - val_loss: 0.1833 - val_accuracy: 0.6720\n",
      "Epoch 40/400\n",
      "1039/1039 [==============================] - ETA: 0s - loss: 0.1626 - accuracy: 0.7186\n",
      "Epoch 00040: val_accuracy did not improve from 0.67215\n",
      "1039/1039 [==============================] - 272s 262ms/step - loss: 0.1626 - accuracy: 0.7186 - val_loss: 0.1828 - val_accuracy: 0.6717\n",
      "Epoch 41/400\n",
      "1039/1039 [==============================] - ETA: 0s - loss: 0.1622 - accuracy: 0.7194\n",
      "Epoch 00041: val_accuracy did not improve from 0.67215\n",
      "1039/1039 [==============================] - 270s 260ms/step - loss: 0.1622 - accuracy: 0.7194 - val_loss: 0.1853 - val_accuracy: 0.6697\n",
      "Epoch 42/400\n",
      "1039/1039 [==============================] - ETA: 0s - loss: 0.1621 - accuracy: 0.7196\n",
      "Epoch 00042: val_accuracy improved from 0.67215 to 0.67446, saving model to /home/ys587/__Data/__whistle/__whislte_30_species/__fit_result_species/20210323_120335/STAR2000/epoch_42_valloss_0.1839_valacc_0.6745.hdf5\n",
      "1039/1039 [==============================] - 271s 261ms/step - loss: 0.1621 - accuracy: 0.7196 - val_loss: 0.1839 - val_accuracy: 0.6745\n",
      "Epoch 43/400\n",
      "1039/1039 [==============================] - ETA: 0s - loss: 0.1612 - accuracy: 0.7218\n",
      "Epoch 00043: val_accuracy did not improve from 0.67446\n",
      "1039/1039 [==============================] - 271s 261ms/step - loss: 0.1612 - accuracy: 0.7218 - val_loss: 0.1846 - val_accuracy: 0.6692\n",
      "Epoch 44/400\n",
      "1039/1039 [==============================] - ETA: 0s - loss: 0.1614 - accuracy: 0.7215\n",
      "Epoch 00044: val_accuracy did not improve from 0.67446\n",
      "1039/1039 [==============================] - 271s 261ms/step - loss: 0.1614 - accuracy: 0.7215 - val_loss: 0.1832 - val_accuracy: 0.6713\n",
      "Epoch 45/400\n",
      "1039/1039 [==============================] - ETA: 0s - loss: 0.1601 - accuracy: 0.7231\n",
      "Epoch 00045: val_accuracy did not improve from 0.67446\n",
      "1039/1039 [==============================] - 271s 261ms/step - loss: 0.1601 - accuracy: 0.7231 - val_loss: 0.1849 - val_accuracy: 0.6692\n",
      "Epoch 46/400\n",
      "1039/1039 [==============================] - ETA: 0s - loss: 0.1607 - accuracy: 0.7206\n",
      "Epoch 00046: val_accuracy did not improve from 0.67446\n",
      "1039/1039 [==============================] - 272s 262ms/step - loss: 0.1607 - accuracy: 0.7206 - val_loss: 0.1825 - val_accuracy: 0.6745\n",
      "Epoch 47/400\n",
      "1039/1039 [==============================] - ETA: 0s - loss: 0.1601 - accuracy: 0.7239\n",
      "Epoch 00047: val_accuracy did not improve from 0.67446\n",
      "1039/1039 [==============================] - 273s 262ms/step - loss: 0.1601 - accuracy: 0.7239 - val_loss: 0.1831 - val_accuracy: 0.6740\n",
      "Epoch 48/400\n",
      "1039/1039 [==============================] - ETA: 0s - loss: 0.1598 - accuracy: 0.7234\n",
      "Epoch 00048: val_accuracy did not improve from 0.67446\n",
      "1039/1039 [==============================] - 274s 263ms/step - loss: 0.1598 - accuracy: 0.7234 - val_loss: 0.1857 - val_accuracy: 0.6670\n",
      "Epoch 49/400\n",
      "1039/1039 [==============================] - ETA: 0s - loss: 0.1594 - accuracy: 0.7228\n",
      "Epoch 00049: val_accuracy did not improve from 0.67446\n",
      "1039/1039 [==============================] - 276s 266ms/step - loss: 0.1594 - accuracy: 0.7228 - val_loss: 0.1842 - val_accuracy: 0.6685\n",
      "Epoch 50/400\n",
      "1039/1039 [==============================] - ETA: 0s - loss: 0.1594 - accuracy: 0.7253\n",
      "Epoch 00050: val_accuracy did not improve from 0.67446\n",
      "1039/1039 [==============================] - 275s 265ms/step - loss: 0.1594 - accuracy: 0.7253 - val_loss: 0.1834 - val_accuracy: 0.6713\n",
      "Epoch 51/400\n",
      "1039/1039 [==============================] - ETA: 0s - loss: 0.1591 - accuracy: 0.7244\n",
      "Epoch 00051: val_accuracy did not improve from 0.67446\n",
      "1039/1039 [==============================] - 273s 263ms/step - loss: 0.1591 - accuracy: 0.7244 - val_loss: 0.1841 - val_accuracy: 0.6712\n",
      "Epoch 52/400\n",
      "1039/1039 [==============================] - ETA: 0s - loss: 0.1582 - accuracy: 0.7270\n",
      "Epoch 00052: val_accuracy improved from 0.67446 to 0.67486, saving model to /home/ys587/__Data/__whistle/__whislte_30_species/__fit_result_species/20210323_120335/STAR2000/epoch_52_valloss_0.1821_valacc_0.6749.hdf5\n",
      "1039/1039 [==============================] - 275s 264ms/step - loss: 0.1582 - accuracy: 0.7270 - val_loss: 0.1821 - val_accuracy: 0.6749\n",
      "Epoch 53/400\n",
      "1039/1039 [==============================] - ETA: 0s - loss: 0.1579 - accuracy: 0.7276\n",
      "Epoch 00053: val_accuracy improved from 0.67486 to 0.67514, saving model to /home/ys587/__Data/__whistle/__whislte_30_species/__fit_result_species/20210323_120335/STAR2000/epoch_53_valloss_0.1818_valacc_0.6751.hdf5\n",
      "1039/1039 [==============================] - 275s 264ms/step - loss: 0.1579 - accuracy: 0.7276 - val_loss: 0.1818 - val_accuracy: 0.6751\n",
      "Epoch 54/400\n",
      "1039/1039 [==============================] - ETA: 0s - loss: 0.1576 - accuracy: 0.7263\n",
      "Epoch 00054: val_accuracy improved from 0.67514 to 0.67677, saving model to /home/ys587/__Data/__whistle/__whislte_30_species/__fit_result_species/20210323_120335/STAR2000/epoch_54_valloss_0.1816_valacc_0.6768.hdf5\n",
      "1039/1039 [==============================] - 273s 263ms/step - loss: 0.1576 - accuracy: 0.7263 - val_loss: 0.1816 - val_accuracy: 0.6768\n",
      "Epoch 55/400\n",
      "1039/1039 [==============================] - ETA: 0s - loss: 0.1573 - accuracy: 0.7269\n",
      "Epoch 00055: val_accuracy did not improve from 0.67677\n",
      "1039/1039 [==============================] - 274s 263ms/step - loss: 0.1573 - accuracy: 0.7269 - val_loss: 0.1818 - val_accuracy: 0.6764\n",
      "Epoch 56/400\n",
      "1039/1039 [==============================] - ETA: 0s - loss: 0.1569 - accuracy: 0.7293\n",
      "Epoch 00056: val_accuracy did not improve from 0.67677\n",
      "1039/1039 [==============================] - 273s 263ms/step - loss: 0.1569 - accuracy: 0.7293 - val_loss: 0.1847 - val_accuracy: 0.6685\n",
      "Epoch 57/400\n",
      "1039/1039 [==============================] - ETA: 0s - loss: 0.1564 - accuracy: 0.7304\n",
      "Epoch 00057: val_accuracy did not improve from 0.67677\n",
      "1039/1039 [==============================] - 273s 263ms/step - loss: 0.1564 - accuracy: 0.7304 - val_loss: 0.1831 - val_accuracy: 0.6720\n",
      "Epoch 58/400\n",
      "1039/1039 [==============================] - ETA: 0s - loss: 0.1561 - accuracy: 0.7309\n",
      "Epoch 00058: val_accuracy did not improve from 0.67677\n",
      "1039/1039 [==============================] - 274s 263ms/step - loss: 0.1561 - accuracy: 0.7309 - val_loss: 0.1821 - val_accuracy: 0.6751\n",
      "Epoch 59/400\n",
      "1039/1039 [==============================] - ETA: 0s - loss: 0.1557 - accuracy: 0.7304\n",
      "Epoch 00059: val_accuracy did not improve from 0.67677\n",
      "1039/1039 [==============================] - 273s 263ms/step - loss: 0.1557 - accuracy: 0.7304 - val_loss: 0.1827 - val_accuracy: 0.6723\n",
      "Epoch 60/400\n",
      "1039/1039 [==============================] - ETA: 0s - loss: 0.1556 - accuracy: 0.7304\n",
      "Epoch 00060: val_accuracy improved from 0.67677 to 0.67785, saving model to /home/ys587/__Data/__whistle/__whislte_30_species/__fit_result_species/20210323_120335/STAR2000/epoch_60_valloss_0.1814_valacc_0.6779.hdf5\n",
      "1039/1039 [==============================] - 274s 263ms/step - loss: 0.1556 - accuracy: 0.7304 - val_loss: 0.1814 - val_accuracy: 0.6779\n",
      "Epoch 61/400\n",
      "1039/1039 [==============================] - ETA: 0s - loss: 0.1553 - accuracy: 0.7319\n",
      "Epoch 00061: val_accuracy did not improve from 0.67785\n",
      "1039/1039 [==============================] - 274s 263ms/step - loss: 0.1553 - accuracy: 0.7319 - val_loss: 0.1833 - val_accuracy: 0.6731\n",
      "Epoch 62/400\n",
      "1039/1039 [==============================] - ETA: 0s - loss: 0.1548 - accuracy: 0.7315\n",
      "Epoch 00062: val_accuracy improved from 0.67785 to 0.67921, saving model to /home/ys587/__Data/__whistle/__whislte_30_species/__fit_result_species/20210323_120335/STAR2000/epoch_62_valloss_0.1806_valacc_0.6792.hdf5\n",
      "1039/1039 [==============================] - 274s 263ms/step - loss: 0.1548 - accuracy: 0.7315 - val_loss: 0.1806 - val_accuracy: 0.6792\n",
      "Epoch 63/400\n",
      "1039/1039 [==============================] - ETA: 0s - loss: 0.1543 - accuracy: 0.7327\n",
      "Epoch 00063: val_accuracy did not improve from 0.67921\n",
      "1039/1039 [==============================] - 274s 263ms/step - loss: 0.1543 - accuracy: 0.7327 - val_loss: 0.1823 - val_accuracy: 0.6747\n",
      "Epoch 64/400\n",
      "1039/1039 [==============================] - ETA: 0s - loss: 0.1543 - accuracy: 0.7332\n",
      "Epoch 00064: val_accuracy did not improve from 0.67921\n",
      "1039/1039 [==============================] - 273s 263ms/step - loss: 0.1543 - accuracy: 0.7332 - val_loss: 0.1834 - val_accuracy: 0.6704\n",
      "Epoch 65/400\n",
      "1039/1039 [==============================] - ETA: 0s - loss: 0.1539 - accuracy: 0.7342\n",
      "Epoch 00065: val_accuracy did not improve from 0.67921\n",
      "1039/1039 [==============================] - 274s 264ms/step - loss: 0.1539 - accuracy: 0.7342 - val_loss: 0.1819 - val_accuracy: 0.6760\n",
      "Epoch 66/400\n",
      "1039/1039 [==============================] - ETA: 0s - loss: 0.1537 - accuracy: 0.7346\n",
      "Epoch 00066: val_accuracy did not improve from 0.67921\n",
      "1039/1039 [==============================] - 273s 263ms/step - loss: 0.1537 - accuracy: 0.7346 - val_loss: 0.1814 - val_accuracy: 0.6777\n",
      "Epoch 67/400\n",
      "1039/1039 [==============================] - ETA: 0s - loss: 0.1530 - accuracy: 0.7355\n",
      "Epoch 00067: val_accuracy did not improve from 0.67921\n",
      "1039/1039 [==============================] - 273s 263ms/step - loss: 0.1530 - accuracy: 0.7355 - val_loss: 0.1836 - val_accuracy: 0.6728\n",
      "Epoch 68/400\n",
      "1039/1039 [==============================] - ETA: 0s - loss: 0.1531 - accuracy: 0.7342\n",
      "Epoch 00068: val_accuracy did not improve from 0.67921\n",
      "1039/1039 [==============================] - 274s 264ms/step - loss: 0.1531 - accuracy: 0.7342 - val_loss: 0.1801 - val_accuracy: 0.6791\n",
      "Epoch 69/400\n",
      "1039/1039 [==============================] - ETA: 0s - loss: 0.1525 - accuracy: 0.7375\n",
      "Epoch 00069: val_accuracy did not improve from 0.67921\n",
      "1039/1039 [==============================] - 274s 263ms/step - loss: 0.1525 - accuracy: 0.7375 - val_loss: 0.1834 - val_accuracy: 0.6715\n",
      "Epoch 70/400\n",
      "1039/1039 [==============================] - ETA: 0s - loss: 0.1522 - accuracy: 0.7353\n",
      "Epoch 00070: val_accuracy did not improve from 0.67921\n",
      "1039/1039 [==============================] - 274s 264ms/step - loss: 0.1522 - accuracy: 0.7353 - val_loss: 0.1831 - val_accuracy: 0.6740\n",
      "Epoch 71/400\n",
      "1039/1039 [==============================] - ETA: 0s - loss: 0.1520 - accuracy: 0.7367\n",
      "Epoch 00071: val_accuracy did not improve from 0.67921\n",
      "1039/1039 [==============================] - 274s 264ms/step - loss: 0.1520 - accuracy: 0.7367 - val_loss: 0.1829 - val_accuracy: 0.6736\n",
      "Epoch 72/400\n",
      "1039/1039 [==============================] - ETA: 0s - loss: 0.1513 - accuracy: 0.7379\n",
      "Epoch 00072: val_accuracy did not improve from 0.67921\n",
      "1039/1039 [==============================] - 274s 263ms/step - loss: 0.1513 - accuracy: 0.7379 - val_loss: 0.1820 - val_accuracy: 0.6746\n",
      "Epoch 73/400\n",
      "1039/1039 [==============================] - ETA: 0s - loss: 0.1514 - accuracy: 0.7377\n",
      "Epoch 00073: val_accuracy did not improve from 0.67921\n",
      "1039/1039 [==============================] - 274s 263ms/step - loss: 0.1514 - accuracy: 0.7377 - val_loss: 0.1822 - val_accuracy: 0.6789\n",
      "Epoch 74/400\n",
      "1039/1039 [==============================] - ETA: 0s - loss: 0.1509 - accuracy: 0.7386\n",
      "Epoch 00074: val_accuracy did not improve from 0.67921\n",
      "1039/1039 [==============================] - 275s 264ms/step - loss: 0.1509 - accuracy: 0.7386 - val_loss: 0.1839 - val_accuracy: 0.6726\n",
      "Epoch 75/400\n",
      "1039/1039 [==============================] - ETA: 0s - loss: 0.1501 - accuracy: 0.7382\n",
      "Epoch 00075: val_accuracy did not improve from 0.67921\n",
      "1039/1039 [==============================] - 274s 264ms/step - loss: 0.1501 - accuracy: 0.7382 - val_loss: 0.1812 - val_accuracy: 0.6769\n",
      "Epoch 76/400\n",
      "1039/1039 [==============================] - ETA: 0s - loss: 0.1500 - accuracy: 0.7408\n",
      "Epoch 00076: val_accuracy did not improve from 0.67921\n",
      "1039/1039 [==============================] - 275s 264ms/step - loss: 0.1500 - accuracy: 0.7408 - val_loss: 0.1832 - val_accuracy: 0.6749\n",
      "Epoch 77/400\n",
      "1039/1039 [==============================] - ETA: 0s - loss: 0.1495 - accuracy: 0.7388\n",
      "Epoch 00077: val_accuracy improved from 0.67921 to 0.67948, saving model to /home/ys587/__Data/__whistle/__whislte_30_species/__fit_result_species/20210323_120335/STAR2000/epoch_77_valloss_0.1822_valacc_0.6795.hdf5\n",
      "1039/1039 [==============================] - 274s 264ms/step - loss: 0.1495 - accuracy: 0.7388 - val_loss: 0.1822 - val_accuracy: 0.6795\n",
      "Epoch 78/400\n",
      "1039/1039 [==============================] - ETA: 0s - loss: 0.1494 - accuracy: 0.7407\n",
      "Epoch 00078: val_accuracy did not improve from 0.67948\n",
      "1039/1039 [==============================] - 274s 264ms/step - loss: 0.1494 - accuracy: 0.7407 - val_loss: 0.1825 - val_accuracy: 0.6774\n",
      "Epoch 79/400\n",
      "1039/1039 [==============================] - ETA: 0s - loss: 0.1489 - accuracy: 0.7414\n",
      "Epoch 00079: val_accuracy improved from 0.67948 to 0.68057, saving model to /home/ys587/__Data/__whistle/__whislte_30_species/__fit_result_species/20210323_120335/STAR2000/epoch_79_valloss_0.1811_valacc_0.6806.hdf5\n",
      "1039/1039 [==============================] - 275s 264ms/step - loss: 0.1489 - accuracy: 0.7414 - val_loss: 0.1811 - val_accuracy: 0.6806\n",
      "Epoch 80/400\n",
      "1039/1039 [==============================] - ETA: 0s - loss: 0.1484 - accuracy: 0.7425\n",
      "Epoch 00080: val_accuracy did not improve from 0.68057\n",
      "1039/1039 [==============================] - 275s 265ms/step - loss: 0.1484 - accuracy: 0.7425 - val_loss: 0.1844 - val_accuracy: 0.6736\n",
      "Epoch 81/400\n",
      "1039/1039 [==============================] - ETA: 0s - loss: 0.1488 - accuracy: 0.7411\n",
      "Epoch 00081: val_accuracy did not improve from 0.68057\n",
      "1039/1039 [==============================] - 275s 265ms/step - loss: 0.1488 - accuracy: 0.7411 - val_loss: 0.1820 - val_accuracy: 0.6806\n",
      "Epoch 82/400\n",
      "1039/1039 [==============================] - ETA: 0s - loss: 0.1480 - accuracy: 0.7431\n",
      "Epoch 00082: val_accuracy did not improve from 0.68057\n",
      "1039/1039 [==============================] - 275s 264ms/step - loss: 0.1480 - accuracy: 0.7431 - val_loss: 0.1836 - val_accuracy: 0.6774\n",
      "Epoch 83/400\n",
      "1039/1039 [==============================] - ETA: 0s - loss: 0.1472 - accuracy: 0.7455\n",
      "Epoch 00083: val_accuracy did not improve from 0.68057\n",
      "1039/1039 [==============================] - 276s 265ms/step - loss: 0.1472 - accuracy: 0.7455 - val_loss: 0.1817 - val_accuracy: 0.6783\n",
      "Epoch 84/400\n",
      "1039/1039 [==============================] - ETA: 0s - loss: 0.1469 - accuracy: 0.7457\n",
      "Epoch 00084: val_accuracy did not improve from 0.68057\n",
      "1039/1039 [==============================] - 275s 265ms/step - loss: 0.1469 - accuracy: 0.7457 - val_loss: 0.1820 - val_accuracy: 0.6793\n",
      "Epoch 85/400\n",
      "1039/1039 [==============================] - ETA: 0s - loss: 0.1468 - accuracy: 0.7447\n",
      "Epoch 00085: val_accuracy did not improve from 0.68057\n",
      "1039/1039 [==============================] - 276s 265ms/step - loss: 0.1468 - accuracy: 0.7447 - val_loss: 0.1823 - val_accuracy: 0.6792\n",
      "Epoch 86/400\n",
      "1039/1039 [==============================] - ETA: 0s - loss: 0.1465 - accuracy: 0.7458\n",
      "Epoch 00086: val_accuracy improved from 0.68057 to 0.68152, saving model to /home/ys587/__Data/__whistle/__whislte_30_species/__fit_result_species/20210323_120335/STAR2000/epoch_86_valloss_0.1816_valacc_0.6815.hdf5\n",
      "1039/1039 [==============================] - 275s 265ms/step - loss: 0.1465 - accuracy: 0.7458 - val_loss: 0.1816 - val_accuracy: 0.6815\n",
      "Epoch 87/400\n",
      "1039/1039 [==============================] - ETA: 0s - loss: 0.1464 - accuracy: 0.7453\n",
      "Epoch 00087: val_accuracy did not improve from 0.68152\n",
      "1039/1039 [==============================] - 276s 265ms/step - loss: 0.1464 - accuracy: 0.7453 - val_loss: 0.1843 - val_accuracy: 0.6753\n",
      "Epoch 88/400\n",
      "1039/1039 [==============================] - ETA: 0s - loss: 0.1461 - accuracy: 0.7460\n",
      "Epoch 00088: val_accuracy improved from 0.68152 to 0.68492, saving model to /home/ys587/__Data/__whistle/__whislte_30_species/__fit_result_species/20210323_120335/STAR2000/epoch_88_valloss_0.1820_valacc_0.6849.hdf5\n",
      "1039/1039 [==============================] - 275s 265ms/step - loss: 0.1461 - accuracy: 0.7460 - val_loss: 0.1820 - val_accuracy: 0.6849\n",
      "Epoch 89/400\n",
      "1039/1039 [==============================] - ETA: 0s - loss: 0.1456 - accuracy: 0.7469\n",
      "Epoch 00089: val_accuracy did not improve from 0.68492\n",
      "1039/1039 [==============================] - 276s 265ms/step - loss: 0.1456 - accuracy: 0.7469 - val_loss: 0.1800 - val_accuracy: 0.6848\n",
      "Epoch 90/400\n",
      "1039/1039 [==============================] - ETA: 0s - loss: 0.1451 - accuracy: 0.7481\n",
      "Epoch 00090: val_accuracy did not improve from 0.68492\n",
      "1039/1039 [==============================] - 276s 265ms/step - loss: 0.1451 - accuracy: 0.7481 - val_loss: 0.1851 - val_accuracy: 0.6774\n",
      "Epoch 91/400\n",
      "1039/1039 [==============================] - ETA: 0s - loss: 0.1449 - accuracy: 0.7494\n",
      "Epoch 00091: val_accuracy did not improve from 0.68492\n",
      "1039/1039 [==============================] - 276s 266ms/step - loss: 0.1449 - accuracy: 0.7494 - val_loss: 0.1819 - val_accuracy: 0.6796\n",
      "Epoch 92/400\n",
      "1039/1039 [==============================] - ETA: 0s - loss: 0.1445 - accuracy: 0.7500\n",
      "Epoch 00092: val_accuracy did not improve from 0.68492\n",
      "1039/1039 [==============================] - 276s 266ms/step - loss: 0.1445 - accuracy: 0.7500 - val_loss: 0.1863 - val_accuracy: 0.6736\n",
      "Epoch 93/400\n",
      "1039/1039 [==============================] - ETA: 0s - loss: 0.1441 - accuracy: 0.7484\n",
      "Epoch 00093: val_accuracy did not improve from 0.68492\n",
      "1039/1039 [==============================] - 275s 265ms/step - loss: 0.1441 - accuracy: 0.7484 - val_loss: 0.1846 - val_accuracy: 0.6768\n",
      "Epoch 94/400\n",
      "1039/1039 [==============================] - ETA: 0s - loss: 0.1441 - accuracy: 0.7501\n",
      "Epoch 00094: val_accuracy did not improve from 0.68492\n",
      "1039/1039 [==============================] - 277s 266ms/step - loss: 0.1441 - accuracy: 0.7501 - val_loss: 0.1834 - val_accuracy: 0.6804\n",
      "Epoch 95/400\n",
      "1039/1039 [==============================] - ETA: 0s - loss: 0.1434 - accuracy: 0.7494\n",
      "Epoch 00095: val_accuracy did not improve from 0.68492\n",
      "1039/1039 [==============================] - 276s 266ms/step - loss: 0.1434 - accuracy: 0.7494 - val_loss: 0.1825 - val_accuracy: 0.6830\n",
      "Epoch 96/400\n",
      "1039/1039 [==============================] - ETA: 0s - loss: 0.1432 - accuracy: 0.7503\n",
      "Epoch 00096: val_accuracy did not improve from 0.68492\n",
      "1039/1039 [==============================] - 280s 270ms/step - loss: 0.1432 - accuracy: 0.7503 - val_loss: 0.1811 - val_accuracy: 0.6842\n",
      "Epoch 97/400\n",
      "1039/1039 [==============================] - ETA: 0s - loss: 0.1430 - accuracy: 0.7496\n",
      "Epoch 00097: val_accuracy did not improve from 0.68492\n",
      "1039/1039 [==============================] - 280s 269ms/step - loss: 0.1430 - accuracy: 0.7496 - val_loss: 0.1825 - val_accuracy: 0.6795\n",
      "Epoch 98/400\n",
      "1039/1039 [==============================] - ETA: 0s - loss: 0.1428 - accuracy: 0.7528\n",
      "Epoch 00098: val_accuracy improved from 0.68492 to 0.68533, saving model to /home/ys587/__Data/__whistle/__whislte_30_species/__fit_result_species/20210323_120335/STAR2000/epoch_98_valloss_0.1805_valacc_0.6853.hdf5\n",
      "1039/1039 [==============================] - 280s 270ms/step - loss: 0.1428 - accuracy: 0.7528 - val_loss: 0.1805 - val_accuracy: 0.6853\n",
      "Epoch 99/400\n",
      "1039/1039 [==============================] - ETA: 0s - loss: 0.1422 - accuracy: 0.7524\n",
      "Epoch 00099: val_accuracy did not improve from 0.68533\n",
      "1039/1039 [==============================] - 279s 269ms/step - loss: 0.1422 - accuracy: 0.7524 - val_loss: 0.1807 - val_accuracy: 0.6840\n",
      "Epoch 100/400\n",
      "1039/1039 [==============================] - ETA: 0s - loss: 0.1422 - accuracy: 0.7518\n",
      "Epoch 00100: val_accuracy did not improve from 0.68533\n",
      "1039/1039 [==============================] - 279s 269ms/step - loss: 0.1422 - accuracy: 0.7518 - val_loss: 0.1818 - val_accuracy: 0.6818\n",
      "Epoch 101/400\n",
      "1039/1039 [==============================] - ETA: 0s - loss: 0.1422 - accuracy: 0.7517\n",
      "Epoch 00101: val_accuracy did not improve from 0.68533\n",
      "1039/1039 [==============================] - 280s 270ms/step - loss: 0.1422 - accuracy: 0.7517 - val_loss: 0.1815 - val_accuracy: 0.6836\n",
      "Epoch 102/400\n",
      "1039/1039 [==============================] - ETA: 0s - loss: 0.1414 - accuracy: 0.7549\n",
      "Epoch 00102: val_accuracy did not improve from 0.68533\n",
      "1039/1039 [==============================] - 279s 269ms/step - loss: 0.1414 - accuracy: 0.7549 - val_loss: 0.1840 - val_accuracy: 0.6804\n",
      "Epoch 103/400\n",
      "1039/1039 [==============================] - ETA: 0s - loss: 0.1413 - accuracy: 0.7560\n",
      "Epoch 00103: val_accuracy did not improve from 0.68533\n",
      "1039/1039 [==============================] - 280s 269ms/step - loss: 0.1413 - accuracy: 0.7560 - val_loss: 0.1850 - val_accuracy: 0.6779\n",
      "Epoch 104/400\n",
      "1039/1039 [==============================] - ETA: 0s - loss: 0.1407 - accuracy: 0.7548\n",
      "Epoch 00104: val_accuracy did not improve from 0.68533\n",
      "1039/1039 [==============================] - 280s 269ms/step - loss: 0.1407 - accuracy: 0.7548 - val_loss: 0.1820 - val_accuracy: 0.6842\n",
      "Epoch 105/400\n",
      "1039/1039 [==============================] - ETA: 0s - loss: 0.1410 - accuracy: 0.7549\n",
      "Epoch 00105: val_accuracy did not improve from 0.68533\n",
      "1039/1039 [==============================] - 281s 270ms/step - loss: 0.1410 - accuracy: 0.7549 - val_loss: 0.1809 - val_accuracy: 0.6823\n",
      "Epoch 106/400\n",
      "1039/1039 [==============================] - ETA: 0s - loss: 0.1398 - accuracy: 0.7561\n",
      "Epoch 00106: val_accuracy did not improve from 0.68533\n",
      "1039/1039 [==============================] - 280s 269ms/step - loss: 0.1398 - accuracy: 0.7561 - val_loss: 0.1819 - val_accuracy: 0.6844\n",
      "Epoch 107/400\n",
      "1039/1039 [==============================] - ETA: 0s - loss: 0.1402 - accuracy: 0.7545\n",
      "Epoch 00107: val_accuracy improved from 0.68533 to 0.68750, saving model to /home/ys587/__Data/__whistle/__whislte_30_species/__fit_result_species/20210323_120335/STAR2000/epoch_107_valloss_0.1805_valacc_0.6875.hdf5\n",
      "1039/1039 [==============================] - 281s 270ms/step - loss: 0.1402 - accuracy: 0.7545 - val_loss: 0.1805 - val_accuracy: 0.6875\n",
      "Epoch 108/400\n",
      "1039/1039 [==============================] - ETA: 0s - loss: 0.1393 - accuracy: 0.7582\n",
      "Epoch 00108: val_accuracy did not improve from 0.68750\n",
      "1039/1039 [==============================] - 280s 270ms/step - loss: 0.1393 - accuracy: 0.7582 - val_loss: 0.1832 - val_accuracy: 0.6822\n",
      "Epoch 109/400\n",
      "1039/1039 [==============================] - ETA: 0s - loss: 0.1393 - accuracy: 0.7581\n",
      "Epoch 00109: val_accuracy did not improve from 0.68750\n",
      "1039/1039 [==============================] - 280s 270ms/step - loss: 0.1393 - accuracy: 0.7581 - val_loss: 0.1829 - val_accuracy: 0.6853\n",
      "Epoch 110/400\n",
      "1039/1039 [==============================] - ETA: 0s - loss: 0.1388 - accuracy: 0.7587\n",
      "Epoch 00110: val_accuracy did not improve from 0.68750\n",
      "1039/1039 [==============================] - 281s 270ms/step - loss: 0.1388 - accuracy: 0.7587 - val_loss: 0.1823 - val_accuracy: 0.6818\n",
      "Epoch 111/400\n",
      "1039/1039 [==============================] - ETA: 0s - loss: 0.1390 - accuracy: 0.7581\n",
      "Epoch 00111: val_accuracy did not improve from 0.68750\n",
      "1039/1039 [==============================] - 281s 271ms/step - loss: 0.1390 - accuracy: 0.7581 - val_loss: 0.1815 - val_accuracy: 0.6838\n",
      "Epoch 112/400\n",
      "1039/1039 [==============================] - ETA: 0s - loss: 0.1379 - accuracy: 0.7598\n",
      "Epoch 00112: val_accuracy improved from 0.68750 to 0.69117, saving model to /home/ys587/__Data/__whistle/__whislte_30_species/__fit_result_species/20210323_120335/STAR2000/epoch_112_valloss_0.1798_valacc_0.6912.hdf5\n",
      "1039/1039 [==============================] - 280s 269ms/step - loss: 0.1379 - accuracy: 0.7598 - val_loss: 0.1798 - val_accuracy: 0.6912\n",
      "Epoch 113/400\n",
      "1039/1039 [==============================] - ETA: 0s - loss: 0.1377 - accuracy: 0.7597\n",
      "Epoch 00113: val_accuracy did not improve from 0.69117\n",
      "1039/1039 [==============================] - 280s 269ms/step - loss: 0.1377 - accuracy: 0.7597 - val_loss: 0.1814 - val_accuracy: 0.6859\n",
      "Epoch 114/400\n",
      "1039/1039 [==============================] - ETA: 0s - loss: 0.1381 - accuracy: 0.7592\n",
      "Epoch 00114: val_accuracy did not improve from 0.69117\n",
      "1039/1039 [==============================] - 280s 269ms/step - loss: 0.1381 - accuracy: 0.7592 - val_loss: 0.1819 - val_accuracy: 0.6856\n",
      "Epoch 115/400\n",
      "1039/1039 [==============================] - ETA: 0s - loss: 0.1375 - accuracy: 0.7607\n",
      "Epoch 00115: val_accuracy did not improve from 0.69117\n",
      "1039/1039 [==============================] - 280s 270ms/step - loss: 0.1375 - accuracy: 0.7607 - val_loss: 0.1813 - val_accuracy: 0.6872\n",
      "Epoch 116/400\n",
      "1039/1039 [==============================] - ETA: 0s - loss: 0.1374 - accuracy: 0.7611\n",
      "Epoch 00116: val_accuracy did not improve from 0.69117\n",
      "1039/1039 [==============================] - 281s 270ms/step - loss: 0.1374 - accuracy: 0.7611 - val_loss: 0.1811 - val_accuracy: 0.6871\n",
      "Epoch 117/400\n",
      "1039/1039 [==============================] - ETA: 0s - loss: 0.1370 - accuracy: 0.7604\n",
      "Epoch 00117: val_accuracy did not improve from 0.69117\n",
      "1039/1039 [==============================] - 280s 270ms/step - loss: 0.1370 - accuracy: 0.7604 - val_loss: 0.1855 - val_accuracy: 0.6837\n",
      "Epoch 118/400\n",
      "1039/1039 [==============================] - ETA: 0s - loss: 0.1362 - accuracy: 0.7620\n",
      "Epoch 00118: val_accuracy did not improve from 0.69117\n",
      "1039/1039 [==============================] - 281s 270ms/step - loss: 0.1362 - accuracy: 0.7620 - val_loss: 0.1832 - val_accuracy: 0.6859\n",
      "Epoch 119/400\n",
      "1039/1039 [==============================] - ETA: 0s - loss: 0.1360 - accuracy: 0.7622\n",
      "Epoch 00119: val_accuracy did not improve from 0.69117\n",
      "1039/1039 [==============================] - 280s 269ms/step - loss: 0.1360 - accuracy: 0.7622 - val_loss: 0.1830 - val_accuracy: 0.6859\n",
      "Epoch 120/400\n",
      "1039/1039 [==============================] - ETA: 0s - loss: 0.1362 - accuracy: 0.7614\n",
      "Epoch 00120: val_accuracy did not improve from 0.69117\n",
      "1039/1039 [==============================] - 281s 270ms/step - loss: 0.1362 - accuracy: 0.7614 - val_loss: 0.1809 - val_accuracy: 0.6879\n",
      "Epoch 121/400\n",
      "1039/1039 [==============================] - ETA: 0s - loss: 0.1349 - accuracy: 0.7646\n",
      "Epoch 00121: val_accuracy did not improve from 0.69117\n",
      "1039/1039 [==============================] - 280s 270ms/step - loss: 0.1349 - accuracy: 0.7646 - val_loss: 0.1834 - val_accuracy: 0.6844\n",
      "Epoch 122/400\n",
      "1039/1039 [==============================] - ETA: 0s - loss: 0.1351 - accuracy: 0.7641\n",
      "Epoch 00122: val_accuracy did not improve from 0.69117\n",
      "1039/1039 [==============================] - 281s 270ms/step - loss: 0.1351 - accuracy: 0.7641 - val_loss: 0.1840 - val_accuracy: 0.6840\n",
      "Epoch 123/400\n",
      "1039/1039 [==============================] - ETA: 0s - loss: 0.1348 - accuracy: 0.7636\n",
      "Epoch 00123: val_accuracy improved from 0.69117 to 0.69158, saving model to /home/ys587/__Data/__whistle/__whislte_30_species/__fit_result_species/20210323_120335/STAR2000/epoch_123_valloss_0.1817_valacc_0.6916.hdf5\n",
      "1039/1039 [==============================] - 281s 270ms/step - loss: 0.1348 - accuracy: 0.7636 - val_loss: 0.1817 - val_accuracy: 0.6916\n",
      "Epoch 124/400\n",
      "1039/1039 [==============================] - ETA: 0s - loss: 0.1344 - accuracy: 0.7665\n",
      "Epoch 00124: val_accuracy did not improve from 0.69158\n",
      "1039/1039 [==============================] - 281s 270ms/step - loss: 0.1344 - accuracy: 0.7665 - val_loss: 0.1845 - val_accuracy: 0.6848\n",
      "Epoch 125/400\n",
      "1039/1039 [==============================] - ETA: 0s - loss: 0.1336 - accuracy: 0.7662\n",
      "Epoch 00125: val_accuracy did not improve from 0.69158\n",
      "1039/1039 [==============================] - 280s 270ms/step - loss: 0.1336 - accuracy: 0.7662 - val_loss: 0.1831 - val_accuracy: 0.6878\n",
      "Epoch 126/400\n",
      "1039/1039 [==============================] - ETA: 0s - loss: 0.1337 - accuracy: 0.7667\n",
      "Epoch 00126: val_accuracy did not improve from 0.69158\n",
      "1039/1039 [==============================] - 281s 270ms/step - loss: 0.1337 - accuracy: 0.7667 - val_loss: 0.1859 - val_accuracy: 0.6804\n",
      "Epoch 127/400\n",
      "1039/1039 [==============================] - ETA: 0s - loss: 0.1334 - accuracy: 0.7671\n",
      "Epoch 00127: val_accuracy did not improve from 0.69158\n",
      "1039/1039 [==============================] - 281s 271ms/step - loss: 0.1334 - accuracy: 0.7671 - val_loss: 0.1831 - val_accuracy: 0.6863\n",
      "Epoch 128/400\n",
      "1039/1039 [==============================] - ETA: 0s - loss: 0.1328 - accuracy: 0.7677\n",
      "Epoch 00128: val_accuracy did not improve from 0.69158\n",
      "1039/1039 [==============================] - 280s 270ms/step - loss: 0.1328 - accuracy: 0.7677 - val_loss: 0.1863 - val_accuracy: 0.6842\n",
      "Epoch 129/400\n",
      "1039/1039 [==============================] - ETA: 0s - loss: 0.1329 - accuracy: 0.7661\n",
      "Epoch 00129: val_accuracy did not improve from 0.69158\n",
      "1039/1039 [==============================] - 281s 271ms/step - loss: 0.1329 - accuracy: 0.7661 - val_loss: 0.1832 - val_accuracy: 0.6891\n",
      "Epoch 130/400\n",
      "1039/1039 [==============================] - ETA: 0s - loss: 0.1326 - accuracy: 0.7674\n",
      "Epoch 00130: val_accuracy did not improve from 0.69158\n",
      "1039/1039 [==============================] - 281s 270ms/step - loss: 0.1326 - accuracy: 0.7674 - val_loss: 0.1827 - val_accuracy: 0.6901\n",
      "Epoch 131/400\n",
      "1039/1039 [==============================] - ETA: 0s - loss: 0.1326 - accuracy: 0.7679\n",
      "Epoch 00131: val_accuracy did not improve from 0.69158\n",
      "1039/1039 [==============================] - 281s 270ms/step - loss: 0.1326 - accuracy: 0.7679 - val_loss: 0.1845 - val_accuracy: 0.6861\n",
      "Epoch 132/400\n",
      "1039/1039 [==============================] - ETA: 0s - loss: 0.1308 - accuracy: 0.7702\n",
      "Epoch 00132: val_accuracy did not improve from 0.69158\n",
      "1039/1039 [==============================] - 281s 270ms/step - loss: 0.1308 - accuracy: 0.7702 - val_loss: 0.1837 - val_accuracy: 0.6891\n",
      "Epoch 133/400\n",
      "1039/1039 [==============================] - ETA: 0s - loss: 0.1317 - accuracy: 0.7694\n",
      "Epoch 00133: val_accuracy did not improve from 0.69158\n",
      "1039/1039 [==============================] - 281s 270ms/step - loss: 0.1317 - accuracy: 0.7694 - val_loss: 0.1837 - val_accuracy: 0.6880\n",
      "Epoch 134/400\n",
      "1039/1039 [==============================] - ETA: 0s - loss: 0.1311 - accuracy: 0.7726\n",
      "Epoch 00134: val_accuracy did not improve from 0.69158\n",
      "1039/1039 [==============================] - 280s 270ms/step - loss: 0.1311 - accuracy: 0.7726 - val_loss: 0.1820 - val_accuracy: 0.6901\n",
      "Epoch 135/400\n",
      "1039/1039 [==============================] - ETA: 0s - loss: 0.1312 - accuracy: 0.7712\n",
      "Epoch 00135: val_accuracy did not improve from 0.69158\n",
      "1039/1039 [==============================] - 281s 270ms/step - loss: 0.1312 - accuracy: 0.7712 - val_loss: 0.1829 - val_accuracy: 0.6857\n",
      "Epoch 136/400\n",
      "1039/1039 [==============================] - ETA: 0s - loss: 0.1311 - accuracy: 0.7717\n",
      "Epoch 00136: val_accuracy did not improve from 0.69158\n",
      "1039/1039 [==============================] - 281s 271ms/step - loss: 0.1311 - accuracy: 0.7717 - val_loss: 0.1840 - val_accuracy: 0.6872\n",
      "Epoch 137/400\n",
      "1039/1039 [==============================] - ETA: 0s - loss: 0.1305 - accuracy: 0.7708\n",
      "Epoch 00137: val_accuracy did not improve from 0.69158\n",
      "1039/1039 [==============================] - 281s 270ms/step - loss: 0.1305 - accuracy: 0.7708 - val_loss: 0.1839 - val_accuracy: 0.6868\n",
      "Epoch 138/400\n",
      "1039/1039 [==============================] - ETA: 0s - loss: 0.1304 - accuracy: 0.7728\n",
      "Epoch 00138: val_accuracy did not improve from 0.69158\n",
      "1039/1039 [==============================] - 281s 271ms/step - loss: 0.1304 - accuracy: 0.7728 - val_loss: 0.1824 - val_accuracy: 0.6889\n",
      "Epoch 139/400\n",
      "1039/1039 [==============================] - ETA: 0s - loss: 0.1303 - accuracy: 0.7708\n",
      "Epoch 00139: val_accuracy did not improve from 0.69158\n",
      "1039/1039 [==============================] - 281s 271ms/step - loss: 0.1303 - accuracy: 0.7708 - val_loss: 0.1830 - val_accuracy: 0.6904\n",
      "Epoch 140/400\n",
      "1039/1039 [==============================] - ETA: 0s - loss: 0.1298 - accuracy: 0.7725\n",
      "Epoch 00140: val_accuracy did not improve from 0.69158\n",
      "1039/1039 [==============================] - 281s 270ms/step - loss: 0.1298 - accuracy: 0.7725 - val_loss: 0.1857 - val_accuracy: 0.6874\n",
      "Epoch 141/400\n",
      "1039/1039 [==============================] - ETA: 0s - loss: 0.1294 - accuracy: 0.7735\n",
      "Epoch 00141: val_accuracy improved from 0.69158 to 0.69212, saving model to /home/ys587/__Data/__whistle/__whislte_30_species/__fit_result_species/20210323_120335/STAR2000/epoch_141_valloss_0.1827_valacc_0.6921.hdf5\n",
      "1039/1039 [==============================] - 281s 271ms/step - loss: 0.1294 - accuracy: 0.7735 - val_loss: 0.1827 - val_accuracy: 0.6921\n",
      "Epoch 142/400\n",
      "1039/1039 [==============================] - ETA: 0s - loss: 0.1285 - accuracy: 0.7743\n",
      "Epoch 00142: val_accuracy did not improve from 0.69212\n",
      "1039/1039 [==============================] - 280s 269ms/step - loss: 0.1285 - accuracy: 0.7743 - val_loss: 0.1841 - val_accuracy: 0.6921\n",
      "Epoch 143/400\n",
      "1039/1039 [==============================] - ETA: 0s - loss: 0.1286 - accuracy: 0.7746\n",
      "Epoch 00143: val_accuracy improved from 0.69212 to 0.69280, saving model to /home/ys587/__Data/__whistle/__whislte_30_species/__fit_result_species/20210323_120335/STAR2000/epoch_143_valloss_0.1829_valacc_0.6928.hdf5\n",
      "1039/1039 [==============================] - 282s 271ms/step - loss: 0.1286 - accuracy: 0.7746 - val_loss: 0.1829 - val_accuracy: 0.6928\n",
      "Epoch 144/400\n",
      "1039/1039 [==============================] - ETA: 0s - loss: 0.1280 - accuracy: 0.7765\n",
      "Epoch 00144: val_accuracy did not improve from 0.69280\n",
      "1039/1039 [==============================] - 281s 271ms/step - loss: 0.1280 - accuracy: 0.7765 - val_loss: 0.1865 - val_accuracy: 0.6904\n",
      "Epoch 145/400\n",
      "1039/1039 [==============================] - ETA: 0s - loss: 0.1277 - accuracy: 0.7755\n",
      "Epoch 00145: val_accuracy did not improve from 0.69280\n",
      "1039/1039 [==============================] - 281s 271ms/step - loss: 0.1277 - accuracy: 0.7755 - val_loss: 0.1846 - val_accuracy: 0.6885\n",
      "Epoch 146/400\n",
      "1039/1039 [==============================] - ETA: 0s - loss: 0.1279 - accuracy: 0.7762\n",
      "Epoch 00146: val_accuracy did not improve from 0.69280\n",
      "1039/1039 [==============================] - 282s 271ms/step - loss: 0.1279 - accuracy: 0.7762 - val_loss: 0.1837 - val_accuracy: 0.6914\n",
      "Epoch 147/400\n",
      "1039/1039 [==============================] - ETA: 0s - loss: 0.1273 - accuracy: 0.7767\n",
      "Epoch 00147: val_accuracy improved from 0.69280 to 0.69307, saving model to /home/ys587/__Data/__whistle/__whislte_30_species/__fit_result_species/20210323_120335/STAR2000/epoch_147_valloss_0.1835_valacc_0.6931.hdf5\n",
      "1039/1039 [==============================] - 282s 271ms/step - loss: 0.1273 - accuracy: 0.7767 - val_loss: 0.1835 - val_accuracy: 0.6931\n",
      "Epoch 148/400\n",
      "1039/1039 [==============================] - ETA: 0s - loss: 0.1266 - accuracy: 0.7784\n",
      "Epoch 00148: val_accuracy did not improve from 0.69307\n",
      "1039/1039 [==============================] - 281s 271ms/step - loss: 0.1266 - accuracy: 0.7784 - val_loss: 0.1834 - val_accuracy: 0.6906\n",
      "Epoch 149/400\n",
      "1039/1039 [==============================] - ETA: 0s - loss: 0.1263 - accuracy: 0.7783\n",
      "Epoch 00149: val_accuracy improved from 0.69307 to 0.69375, saving model to /home/ys587/__Data/__whistle/__whislte_30_species/__fit_result_species/20210323_120335/STAR2000/epoch_149_valloss_0.1839_valacc_0.6938.hdf5\n",
      "1039/1039 [==============================] - 281s 270ms/step - loss: 0.1263 - accuracy: 0.7783 - val_loss: 0.1839 - val_accuracy: 0.6938\n",
      "Epoch 150/400\n",
      "1039/1039 [==============================] - ETA: 0s - loss: 0.1262 - accuracy: 0.7774\n",
      "Epoch 00150: val_accuracy did not improve from 0.69375\n",
      "1039/1039 [==============================] - 280s 270ms/step - loss: 0.1262 - accuracy: 0.7774 - val_loss: 0.1849 - val_accuracy: 0.6933\n",
      "Epoch 151/400\n",
      "1039/1039 [==============================] - ETA: 0s - loss: 0.1256 - accuracy: 0.7790\n",
      "Epoch 00151: val_accuracy did not improve from 0.69375\n",
      "1039/1039 [==============================] - 282s 271ms/step - loss: 0.1256 - accuracy: 0.7790 - val_loss: 0.1846 - val_accuracy: 0.6913\n",
      "Epoch 152/400\n",
      "1039/1039 [==============================] - ETA: 0s - loss: 0.1258 - accuracy: 0.7789\n",
      "Epoch 00152: val_accuracy did not improve from 0.69375\n",
      "1039/1039 [==============================] - 281s 270ms/step - loss: 0.1258 - accuracy: 0.7789 - val_loss: 0.1859 - val_accuracy: 0.6901\n",
      "Epoch 153/400\n",
      "1039/1039 [==============================] - ETA: 0s - loss: 0.1255 - accuracy: 0.7788\n",
      "Epoch 00153: val_accuracy did not improve from 0.69375\n",
      "1039/1039 [==============================] - 282s 271ms/step - loss: 0.1255 - accuracy: 0.7788 - val_loss: 0.1843 - val_accuracy: 0.6914\n",
      "Epoch 154/400\n",
      "1039/1039 [==============================] - ETA: 0s - loss: 0.1252 - accuracy: 0.7809\n",
      "Epoch 00154: val_accuracy did not improve from 0.69375\n",
      "1039/1039 [==============================] - 281s 270ms/step - loss: 0.1252 - accuracy: 0.7809 - val_loss: 0.1848 - val_accuracy: 0.6912\n",
      "Epoch 155/400\n",
      "1039/1039 [==============================] - ETA: 0s - loss: 0.1254 - accuracy: 0.7795\n",
      "Epoch 00155: val_accuracy did not improve from 0.69375\n",
      "1039/1039 [==============================] - 281s 271ms/step - loss: 0.1254 - accuracy: 0.7795 - val_loss: 0.1866 - val_accuracy: 0.6924\n",
      "Epoch 156/400\n",
      "1039/1039 [==============================] - ETA: 0s - loss: 0.1249 - accuracy: 0.7808\n",
      "Epoch 00156: val_accuracy did not improve from 0.69375\n",
      "1039/1039 [==============================] - 281s 271ms/step - loss: 0.1249 - accuracy: 0.7808 - val_loss: 0.1869 - val_accuracy: 0.6914\n",
      "Epoch 157/400\n",
      "1039/1039 [==============================] - ETA: 0s - loss: 0.1239 - accuracy: 0.7817\n",
      "Epoch 00157: val_accuracy did not improve from 0.69375\n",
      "1039/1039 [==============================] - 281s 270ms/step - loss: 0.1239 - accuracy: 0.7817 - val_loss: 0.1854 - val_accuracy: 0.6920\n",
      "Epoch 158/400\n",
      "1039/1039 [==============================] - ETA: 0s - loss: 0.1243 - accuracy: 0.7806\n",
      "Epoch 00158: val_accuracy improved from 0.69375 to 0.69511, saving model to /home/ys587/__Data/__whistle/__whislte_30_species/__fit_result_species/20210323_120335/STAR2000/epoch_158_valloss_0.1852_valacc_0.6951.hdf5\n",
      "1039/1039 [==============================] - 282s 271ms/step - loss: 0.1243 - accuracy: 0.7806 - val_loss: 0.1852 - val_accuracy: 0.6951\n",
      "Epoch 159/400\n",
      "1039/1039 [==============================] - ETA: 0s - loss: 0.1239 - accuracy: 0.7821\n",
      "Epoch 00159: val_accuracy improved from 0.69511 to 0.69538, saving model to /home/ys587/__Data/__whistle/__whislte_30_species/__fit_result_species/20210323_120335/STAR2000/epoch_159_valloss_0.1828_valacc_0.6954.hdf5\n",
      "1039/1039 [==============================] - 281s 270ms/step - loss: 0.1239 - accuracy: 0.7821 - val_loss: 0.1828 - val_accuracy: 0.6954\n",
      "Epoch 160/400\n",
      "1039/1039 [==============================] - ETA: 0s - loss: 0.1234 - accuracy: 0.7842\n",
      "Epoch 00160: val_accuracy did not improve from 0.69538\n",
      "1039/1039 [==============================] - 281s 271ms/step - loss: 0.1234 - accuracy: 0.7842 - val_loss: 0.1868 - val_accuracy: 0.6895\n",
      "Epoch 161/400\n",
      "1039/1039 [==============================] - ETA: 0s - loss: 0.1236 - accuracy: 0.7828\n",
      "Epoch 00161: val_accuracy did not improve from 0.69538\n",
      "1039/1039 [==============================] - 281s 271ms/step - loss: 0.1236 - accuracy: 0.7828 - val_loss: 0.1826 - val_accuracy: 0.6952\n",
      "Epoch 162/400\n",
      "1039/1039 [==============================] - ETA: 0s - loss: 0.1231 - accuracy: 0.7838\n",
      "Epoch 00162: val_accuracy did not improve from 0.69538\n",
      "1039/1039 [==============================] - 282s 271ms/step - loss: 0.1231 - accuracy: 0.7838 - val_loss: 0.1883 - val_accuracy: 0.6890\n",
      "Epoch 163/400\n",
      "1039/1039 [==============================] - ETA: 0s - loss: 0.1226 - accuracy: 0.7849\n",
      "Epoch 00163: val_accuracy did not improve from 0.69538\n",
      "1039/1039 [==============================] - 281s 271ms/step - loss: 0.1226 - accuracy: 0.7849 - val_loss: 0.1868 - val_accuracy: 0.6924\n",
      "Epoch 164/400\n",
      "1039/1039 [==============================] - ETA: 0s - loss: 0.1214 - accuracy: 0.7863\n",
      "Epoch 00164: val_accuracy did not improve from 0.69538\n",
      "1039/1039 [==============================] - 281s 270ms/step - loss: 0.1214 - accuracy: 0.7863 - val_loss: 0.1862 - val_accuracy: 0.6909\n",
      "Epoch 165/400\n",
      "1039/1039 [==============================] - ETA: 0s - loss: 0.1222 - accuracy: 0.7844\n",
      "Epoch 00165: val_accuracy did not improve from 0.69538\n",
      "1039/1039 [==============================] - 282s 271ms/step - loss: 0.1222 - accuracy: 0.7844 - val_loss: 0.1855 - val_accuracy: 0.6931\n",
      "Epoch 166/400\n",
      "1039/1039 [==============================] - ETA: 0s - loss: 0.1221 - accuracy: 0.7850\n",
      "Epoch 00166: val_accuracy did not improve from 0.69538\n",
      "1039/1039 [==============================] - 281s 270ms/step - loss: 0.1221 - accuracy: 0.7850 - val_loss: 0.1865 - val_accuracy: 0.6914\n",
      "Epoch 167/400\n",
      "1039/1039 [==============================] - ETA: 0s - loss: 0.1217 - accuracy: 0.7853\n",
      "Epoch 00167: val_accuracy did not improve from 0.69538\n",
      "1039/1039 [==============================] - 281s 270ms/step - loss: 0.1217 - accuracy: 0.7853 - val_loss: 0.1870 - val_accuracy: 0.6914\n",
      "Epoch 168/400\n",
      "1039/1039 [==============================] - ETA: 0s - loss: 0.1216 - accuracy: 0.7855\n",
      "Epoch 00168: val_accuracy did not improve from 0.69538\n",
      "1039/1039 [==============================] - 281s 270ms/step - loss: 0.1216 - accuracy: 0.7855 - val_loss: 0.1853 - val_accuracy: 0.6924\n",
      "Epoch 169/400\n",
      "1039/1039 [==============================] - ETA: 0s - loss: 0.1208 - accuracy: 0.7870\n",
      "Epoch 00169: val_accuracy did not improve from 0.69538\n",
      "1039/1039 [==============================] - 281s 271ms/step - loss: 0.1208 - accuracy: 0.7870 - val_loss: 0.1849 - val_accuracy: 0.6933\n",
      "Epoch 170/400\n",
      "1039/1039 [==============================] - ETA: 0s - loss: 0.1207 - accuracy: 0.7879\n",
      "Epoch 00170: val_accuracy did not improve from 0.69538\n",
      "1039/1039 [==============================] - 281s 270ms/step - loss: 0.1207 - accuracy: 0.7879 - val_loss: 0.1858 - val_accuracy: 0.6923\n",
      "Epoch 171/400\n",
      "1039/1039 [==============================] - ETA: 0s - loss: 0.1204 - accuracy: 0.7887\n",
      "Epoch 00171: val_accuracy did not improve from 0.69538\n",
      "1039/1039 [==============================] - 281s 271ms/step - loss: 0.1204 - accuracy: 0.7887 - val_loss: 0.1887 - val_accuracy: 0.6897\n",
      "Epoch 172/400\n",
      "1039/1039 [==============================] - ETA: 0s - loss: 0.1204 - accuracy: 0.7881\n",
      "Epoch 00172: val_accuracy did not improve from 0.69538\n",
      "1039/1039 [==============================] - 282s 271ms/step - loss: 0.1204 - accuracy: 0.7881 - val_loss: 0.1867 - val_accuracy: 0.6936\n",
      "Epoch 173/400\n",
      "1039/1039 [==============================] - ETA: 0s - loss: 0.1206 - accuracy: 0.7874\n",
      "Epoch 00173: val_accuracy did not improve from 0.69538\n",
      "1039/1039 [==============================] - 281s 271ms/step - loss: 0.1206 - accuracy: 0.7874 - val_loss: 0.1842 - val_accuracy: 0.6950\n",
      "Epoch 174/400\n",
      "1039/1039 [==============================] - ETA: 0s - loss: 0.1195 - accuracy: 0.7890\n",
      "Epoch 00174: val_accuracy improved from 0.69538 to 0.69674, saving model to /home/ys587/__Data/__whistle/__whislte_30_species/__fit_result_species/20210323_120335/STAR2000/epoch_174_valloss_0.1844_valacc_0.6967.hdf5\n",
      "1039/1039 [==============================] - 281s 271ms/step - loss: 0.1195 - accuracy: 0.7890 - val_loss: 0.1844 - val_accuracy: 0.6967\n",
      "Epoch 175/400\n",
      "1039/1039 [==============================] - ETA: 0s - loss: 0.1200 - accuracy: 0.7878\n",
      "Epoch 00175: val_accuracy did not improve from 0.69674\n",
      "1039/1039 [==============================] - 282s 271ms/step - loss: 0.1200 - accuracy: 0.7878 - val_loss: 0.1845 - val_accuracy: 0.6962\n",
      "Epoch 176/400\n",
      "1039/1039 [==============================] - ETA: 0s - loss: 0.1195 - accuracy: 0.7900\n",
      "Epoch 00176: val_accuracy did not improve from 0.69674\n",
      "1039/1039 [==============================] - 281s 270ms/step - loss: 0.1195 - accuracy: 0.7900 - val_loss: 0.1862 - val_accuracy: 0.6939\n",
      "Epoch 177/400\n",
      "1039/1039 [==============================] - ETA: 0s - loss: 0.1187 - accuracy: 0.7913\n",
      "Epoch 00177: val_accuracy did not improve from 0.69674\n",
      "1039/1039 [==============================] - 282s 271ms/step - loss: 0.1187 - accuracy: 0.7913 - val_loss: 0.1853 - val_accuracy: 0.6946\n",
      "Epoch 178/400\n",
      "1039/1039 [==============================] - ETA: 0s - loss: 0.1180 - accuracy: 0.7908\n",
      "Epoch 00178: val_accuracy did not improve from 0.69674\n",
      "1039/1039 [==============================] - 281s 271ms/step - loss: 0.1180 - accuracy: 0.7908 - val_loss: 0.1888 - val_accuracy: 0.6901\n",
      "Epoch 179/400\n",
      "1039/1039 [==============================] - ETA: 0s - loss: 0.1183 - accuracy: 0.7906\n",
      "Epoch 00179: val_accuracy did not improve from 0.69674\n",
      "1039/1039 [==============================] - 281s 270ms/step - loss: 0.1183 - accuracy: 0.7906 - val_loss: 0.1882 - val_accuracy: 0.6946\n",
      "Epoch 180/400\n",
      "1039/1039 [==============================] - ETA: 0s - loss: 0.1183 - accuracy: 0.7902\n",
      "Epoch 00180: val_accuracy did not improve from 0.69674\n",
      "1039/1039 [==============================] - 281s 270ms/step - loss: 0.1183 - accuracy: 0.7902 - val_loss: 0.1881 - val_accuracy: 0.6928\n",
      "Epoch 181/400\n",
      "1039/1039 [==============================] - ETA: 0s - loss: 0.1175 - accuracy: 0.7937\n",
      "Epoch 00181: val_accuracy did not improve from 0.69674\n",
      "1039/1039 [==============================] - 280s 270ms/step - loss: 0.1175 - accuracy: 0.7937 - val_loss: 0.1882 - val_accuracy: 0.6917\n",
      "Epoch 182/400\n",
      "1039/1039 [==============================] - ETA: 0s - loss: 0.1177 - accuracy: 0.7923\n",
      "Epoch 00182: val_accuracy did not improve from 0.69674\n",
      "1039/1039 [==============================] - 281s 271ms/step - loss: 0.1177 - accuracy: 0.7923 - val_loss: 0.1872 - val_accuracy: 0.6951\n",
      "Epoch 183/400\n",
      "1039/1039 [==============================] - ETA: 0s - loss: 0.1172 - accuracy: 0.7931\n",
      "Epoch 00183: val_accuracy did not improve from 0.69674\n",
      "1039/1039 [==============================] - 281s 271ms/step - loss: 0.1172 - accuracy: 0.7931 - val_loss: 0.1878 - val_accuracy: 0.6955\n",
      "Epoch 184/400\n",
      "1039/1039 [==============================] - ETA: 0s - loss: 0.1171 - accuracy: 0.7934\n",
      "Epoch 00184: val_accuracy did not improve from 0.69674\n",
      "1039/1039 [==============================] - 281s 271ms/step - loss: 0.1171 - accuracy: 0.7934 - val_loss: 0.1868 - val_accuracy: 0.6939\n",
      "Epoch 185/400\n",
      "1039/1039 [==============================] - ETA: 0s - loss: 0.1170 - accuracy: 0.7939\n",
      "Epoch 00185: val_accuracy did not improve from 0.69674\n",
      "1039/1039 [==============================] - 282s 271ms/step - loss: 0.1170 - accuracy: 0.7939 - val_loss: 0.1887 - val_accuracy: 0.6924\n",
      "Epoch 186/400\n",
      "1039/1039 [==============================] - ETA: 0s - loss: 0.1164 - accuracy: 0.7951\n",
      "Epoch 00186: val_accuracy did not improve from 0.69674\n",
      "1039/1039 [==============================] - 282s 271ms/step - loss: 0.1164 - accuracy: 0.7951 - val_loss: 0.1875 - val_accuracy: 0.6951\n",
      "Epoch 187/400\n",
      "1039/1039 [==============================] - ETA: 0s - loss: 0.1162 - accuracy: 0.7939\n",
      "Epoch 00187: val_accuracy did not improve from 0.69674\n",
      "1039/1039 [==============================] - 282s 271ms/step - loss: 0.1162 - accuracy: 0.7939 - val_loss: 0.1882 - val_accuracy: 0.6962\n",
      "Epoch 188/400\n",
      "1039/1039 [==============================] - ETA: 0s - loss: 0.1157 - accuracy: 0.7947\n",
      "Epoch 00188: val_accuracy did not improve from 0.69674\n",
      "1039/1039 [==============================] - 281s 271ms/step - loss: 0.1157 - accuracy: 0.7947 - val_loss: 0.1893 - val_accuracy: 0.6967\n",
      "Epoch 189/400\n",
      "1039/1039 [==============================] - ETA: 0s - loss: 0.1149 - accuracy: 0.7964\n",
      "Epoch 00189: val_accuracy improved from 0.69674 to 0.69687, saving model to /home/ys587/__Data/__whistle/__whislte_30_species/__fit_result_species/20210323_120335/STAR2000/epoch_189_valloss_0.1887_valacc_0.6969.hdf5\n",
      "1039/1039 [==============================] - 281s 271ms/step - loss: 0.1149 - accuracy: 0.7964 - val_loss: 0.1887 - val_accuracy: 0.6969\n",
      "Epoch 190/400\n",
      "1039/1039 [==============================] - ETA: 0s - loss: 0.1153 - accuracy: 0.7959\n",
      "Epoch 00190: val_accuracy did not improve from 0.69687\n",
      "1039/1039 [==============================] - 280s 270ms/step - loss: 0.1153 - accuracy: 0.7959 - val_loss: 0.1878 - val_accuracy: 0.6955\n",
      "Epoch 191/400\n",
      "1039/1039 [==============================] - ETA: 0s - loss: 0.1148 - accuracy: 0.7957\n",
      "Epoch 00191: val_accuracy improved from 0.69687 to 0.70177, saving model to /home/ys587/__Data/__whistle/__whislte_30_species/__fit_result_species/20210323_120335/STAR2000/epoch_191_valloss_0.1867_valacc_0.7018.hdf5\n",
      "1039/1039 [==============================] - 281s 270ms/step - loss: 0.1148 - accuracy: 0.7957 - val_loss: 0.1867 - val_accuracy: 0.7018\n",
      "Epoch 192/400\n",
      "1039/1039 [==============================] - ETA: 0s - loss: 0.1147 - accuracy: 0.7964\n",
      "Epoch 00192: val_accuracy did not improve from 0.70177\n",
      "1039/1039 [==============================] - 281s 271ms/step - loss: 0.1147 - accuracy: 0.7964 - val_loss: 0.1907 - val_accuracy: 0.6939\n",
      "Epoch 193/400\n",
      "1039/1039 [==============================] - ETA: 0s - loss: 0.1144 - accuracy: 0.7980\n",
      "Epoch 00193: val_accuracy improved from 0.70177 to 0.70299, saving model to /home/ys587/__Data/__whistle/__whislte_30_species/__fit_result_species/20210323_120335/STAR2000/epoch_193_valloss_0.1864_valacc_0.7030.hdf5\n",
      "1039/1039 [==============================] - 281s 271ms/step - loss: 0.1144 - accuracy: 0.7980 - val_loss: 0.1864 - val_accuracy: 0.7030\n",
      "Epoch 194/400\n",
      "1039/1039 [==============================] - ETA: 0s - loss: 0.1142 - accuracy: 0.7976\n",
      "Epoch 00194: val_accuracy did not improve from 0.70299\n",
      "1039/1039 [==============================] - 281s 271ms/step - loss: 0.1142 - accuracy: 0.7976 - val_loss: 0.1895 - val_accuracy: 0.6963\n",
      "Epoch 195/400\n",
      "1039/1039 [==============================] - ETA: 0s - loss: 0.1145 - accuracy: 0.7998\n",
      "Epoch 00195: val_accuracy did not improve from 0.70299\n",
      "1039/1039 [==============================] - 280s 270ms/step - loss: 0.1145 - accuracy: 0.7998 - val_loss: 0.1910 - val_accuracy: 0.6942\n",
      "Epoch 196/400\n",
      "1039/1039 [==============================] - ETA: 0s - loss: 0.1135 - accuracy: 0.7984\n",
      "Epoch 00196: val_accuracy did not improve from 0.70299\n",
      "1039/1039 [==============================] - 281s 270ms/step - loss: 0.1135 - accuracy: 0.7984 - val_loss: 0.1887 - val_accuracy: 0.7007\n",
      "Epoch 197/400\n",
      "1039/1039 [==============================] - ETA: 0s - loss: 0.1139 - accuracy: 0.7994\n",
      "Epoch 00197: val_accuracy did not improve from 0.70299\n",
      "1039/1039 [==============================] - 281s 270ms/step - loss: 0.1139 - accuracy: 0.7994 - val_loss: 0.1894 - val_accuracy: 0.6980\n",
      "Epoch 198/400\n",
      "1039/1039 [==============================] - ETA: 0s - loss: 0.1132 - accuracy: 0.8002\n",
      "Epoch 00198: val_accuracy did not improve from 0.70299\n",
      "1039/1039 [==============================] - 281s 271ms/step - loss: 0.1132 - accuracy: 0.8002 - val_loss: 0.1899 - val_accuracy: 0.6962\n",
      "Epoch 199/400\n",
      "1039/1039 [==============================] - ETA: 0s - loss: 0.1132 - accuracy: 0.7989\n",
      "Epoch 00199: val_accuracy did not improve from 0.70299\n",
      "1039/1039 [==============================] - 281s 270ms/step - loss: 0.1132 - accuracy: 0.7989 - val_loss: 0.1879 - val_accuracy: 0.6988\n",
      "Epoch 200/400\n",
      "1039/1039 [==============================] - ETA: 0s - loss: 0.1129 - accuracy: 0.8003\n",
      "Epoch 00200: val_accuracy did not improve from 0.70299\n",
      "1039/1039 [==============================] - 282s 271ms/step - loss: 0.1129 - accuracy: 0.8003 - val_loss: 0.1901 - val_accuracy: 0.6988\n",
      "Epoch 201/400\n",
      "1039/1039 [==============================] - ETA: 0s - loss: 0.1118 - accuracy: 0.8026\n",
      "Epoch 00201: val_accuracy did not improve from 0.70299\n",
      "1039/1039 [==============================] - 281s 271ms/step - loss: 0.1118 - accuracy: 0.8026 - val_loss: 0.1905 - val_accuracy: 0.6980\n",
      "Epoch 202/400\n",
      "1039/1039 [==============================] - ETA: 0s - loss: 0.1119 - accuracy: 0.8016\n",
      "Epoch 00202: val_accuracy did not improve from 0.70299\n",
      "1039/1039 [==============================] - 281s 271ms/step - loss: 0.1119 - accuracy: 0.8016 - val_loss: 0.1901 - val_accuracy: 0.6958\n",
      "Epoch 203/400\n",
      "1039/1039 [==============================] - ETA: 0s - loss: 0.1118 - accuracy: 0.8015\n",
      "Epoch 00203: val_accuracy did not improve from 0.70299\n",
      "1039/1039 [==============================] - 281s 270ms/step - loss: 0.1118 - accuracy: 0.8015 - val_loss: 0.1913 - val_accuracy: 0.6957\n",
      "Epoch 204/400\n",
      "1039/1039 [==============================] - ETA: 0s - loss: 0.1122 - accuracy: 0.8011\n",
      "Epoch 00204: val_accuracy did not improve from 0.70299\n",
      "1039/1039 [==============================] - 281s 270ms/step - loss: 0.1122 - accuracy: 0.8011 - val_loss: 0.1900 - val_accuracy: 0.6992\n",
      "Epoch 205/400\n",
      "1039/1039 [==============================] - ETA: 0s - loss: 0.1112 - accuracy: 0.8016\n",
      "Epoch 00205: val_accuracy did not improve from 0.70299\n",
      "1039/1039 [==============================] - 281s 270ms/step - loss: 0.1112 - accuracy: 0.8016 - val_loss: 0.1889 - val_accuracy: 0.7024\n",
      "Epoch 206/400\n",
      "1039/1039 [==============================] - ETA: 0s - loss: 0.1117 - accuracy: 0.8031\n",
      "Epoch 00206: val_accuracy did not improve from 0.70299\n",
      "1039/1039 [==============================] - 281s 271ms/step - loss: 0.1117 - accuracy: 0.8031 - val_loss: 0.1915 - val_accuracy: 0.6957\n",
      "Epoch 207/400\n",
      "1039/1039 [==============================] - ETA: 0s - loss: 0.1108 - accuracy: 0.8048\n",
      "Epoch 00207: val_accuracy did not improve from 0.70299\n",
      "1039/1039 [==============================] - 281s 270ms/step - loss: 0.1108 - accuracy: 0.8048 - val_loss: 0.1898 - val_accuracy: 0.6980\n",
      "Epoch 208/400\n",
      "1039/1039 [==============================] - ETA: 0s - loss: 0.1104 - accuracy: 0.8046\n",
      "Epoch 00208: val_accuracy did not improve from 0.70299\n",
      "1039/1039 [==============================] - 280s 270ms/step - loss: 0.1104 - accuracy: 0.8046 - val_loss: 0.1925 - val_accuracy: 0.6955\n",
      "Epoch 209/400\n",
      "1039/1039 [==============================] - ETA: 0s - loss: 0.1102 - accuracy: 0.8040\n",
      "Epoch 00209: val_accuracy did not improve from 0.70299\n",
      "1039/1039 [==============================] - 281s 270ms/step - loss: 0.1102 - accuracy: 0.8040 - val_loss: 0.1941 - val_accuracy: 0.6950\n",
      "Epoch 210/400\n",
      "1039/1039 [==============================] - ETA: 0s - loss: 0.1105 - accuracy: 0.8042\n",
      "Epoch 00210: val_accuracy did not improve from 0.70299\n",
      "1039/1039 [==============================] - 281s 271ms/step - loss: 0.1105 - accuracy: 0.8042 - val_loss: 0.1937 - val_accuracy: 0.6929\n",
      "Epoch 211/400\n",
      "1039/1039 [==============================] - ETA: 0s - loss: 0.1097 - accuracy: 0.8053\n",
      "Epoch 00211: val_accuracy did not improve from 0.70299\n",
      "1039/1039 [==============================] - 281s 270ms/step - loss: 0.1097 - accuracy: 0.8053 - val_loss: 0.1911 - val_accuracy: 0.6982\n",
      "Epoch 212/400\n",
      "1039/1039 [==============================] - ETA: 0s - loss: 0.1094 - accuracy: 0.8048\n",
      "Epoch 00212: val_accuracy did not improve from 0.70299\n",
      "1039/1039 [==============================] - 281s 270ms/step - loss: 0.1094 - accuracy: 0.8048 - val_loss: 0.1943 - val_accuracy: 0.6940\n",
      "Epoch 213/400\n",
      "1039/1039 [==============================] - ETA: 0s - loss: 0.1095 - accuracy: 0.8046\n",
      "Epoch 00213: val_accuracy did not improve from 0.70299\n",
      "1039/1039 [==============================] - 282s 272ms/step - loss: 0.1095 - accuracy: 0.8046 - val_loss: 0.1900 - val_accuracy: 0.6970\n",
      "Epoch 214/400\n",
      "1039/1039 [==============================] - ETA: 0s - loss: 0.1090 - accuracy: 0.8065\n",
      "Epoch 00214: val_accuracy did not improve from 0.70299\n",
      "1039/1039 [==============================] - 281s 270ms/step - loss: 0.1090 - accuracy: 0.8065 - val_loss: 0.1919 - val_accuracy: 0.6963\n",
      "Epoch 215/400\n",
      "1039/1039 [==============================] - ETA: 0s - loss: 0.1096 - accuracy: 0.8055\n",
      "Epoch 00215: val_accuracy did not improve from 0.70299\n",
      "1039/1039 [==============================] - 280s 270ms/step - loss: 0.1096 - accuracy: 0.8055 - val_loss: 0.1906 - val_accuracy: 0.6957\n",
      "Epoch 216/400\n",
      "1039/1039 [==============================] - ETA: 0s - loss: 0.1085 - accuracy: 0.8070\n",
      "Epoch 00216: val_accuracy did not improve from 0.70299\n",
      "1039/1039 [==============================] - 280s 270ms/step - loss: 0.1085 - accuracy: 0.8070 - val_loss: 0.1905 - val_accuracy: 0.6986\n",
      "Epoch 217/400\n",
      "1039/1039 [==============================] - ETA: 0s - loss: 0.1090 - accuracy: 0.8072\n",
      "Epoch 00217: val_accuracy did not improve from 0.70299\n",
      "1039/1039 [==============================] - 280s 270ms/step - loss: 0.1090 - accuracy: 0.8072 - val_loss: 0.1940 - val_accuracy: 0.6950\n",
      "Epoch 218/400\n",
      "1039/1039 [==============================] - ETA: 0s - loss: 0.1077 - accuracy: 0.8084\n",
      "Epoch 00218: val_accuracy did not improve from 0.70299\n",
      "1039/1039 [==============================] - 280s 270ms/step - loss: 0.1077 - accuracy: 0.8084 - val_loss: 0.1927 - val_accuracy: 0.6965\n",
      "Epoch 219/400\n",
      "1039/1039 [==============================] - ETA: 0s - loss: 0.1079 - accuracy: 0.8083\n",
      "Epoch 00219: val_accuracy did not improve from 0.70299\n",
      "1039/1039 [==============================] - 281s 270ms/step - loss: 0.1079 - accuracy: 0.8083 - val_loss: 0.1893 - val_accuracy: 0.7018\n",
      "Epoch 220/400\n",
      "1039/1039 [==============================] - ETA: 0s - loss: 0.1080 - accuracy: 0.8065\n",
      "Epoch 00220: val_accuracy improved from 0.70299 to 0.70326, saving model to /home/ys587/__Data/__whistle/__whislte_30_species/__fit_result_species/20210323_120335/STAR2000/epoch_220_valloss_0.1899_valacc_0.7033.hdf5\n",
      "1039/1039 [==============================] - 280s 270ms/step - loss: 0.1080 - accuracy: 0.8065 - val_loss: 0.1899 - val_accuracy: 0.7033\n",
      "Epoch 221/400\n",
      "1039/1039 [==============================] - ETA: 0s - loss: 0.1072 - accuracy: 0.8086\n",
      "Epoch 00221: val_accuracy did not improve from 0.70326\n",
      "1039/1039 [==============================] - 280s 270ms/step - loss: 0.1072 - accuracy: 0.8086 - val_loss: 0.1916 - val_accuracy: 0.6986\n",
      "Epoch 222/400\n",
      "1039/1039 [==============================] - ETA: 0s - loss: 0.1069 - accuracy: 0.8090\n",
      "Epoch 00222: val_accuracy did not improve from 0.70326\n",
      "1039/1039 [==============================] - 281s 271ms/step - loss: 0.1069 - accuracy: 0.8090 - val_loss: 0.1933 - val_accuracy: 0.7024\n",
      "Epoch 223/400\n",
      "1039/1039 [==============================] - ETA: 0s - loss: 0.1069 - accuracy: 0.8091\n",
      "Epoch 00223: val_accuracy did not improve from 0.70326\n",
      "1039/1039 [==============================] - 280s 270ms/step - loss: 0.1069 - accuracy: 0.8091 - val_loss: 0.1895 - val_accuracy: 0.7011\n",
      "Epoch 224/400\n",
      "1039/1039 [==============================] - ETA: 0s - loss: 0.1068 - accuracy: 0.8094\n",
      "Epoch 00224: val_accuracy did not improve from 0.70326\n",
      "1039/1039 [==============================] - 283s 272ms/step - loss: 0.1068 - accuracy: 0.8094 - val_loss: 0.1970 - val_accuracy: 0.6936\n",
      "Epoch 225/400\n",
      "1039/1039 [==============================] - ETA: 0s - loss: 0.1063 - accuracy: 0.8108\n",
      "Epoch 00225: val_accuracy did not improve from 0.70326\n",
      "1039/1039 [==============================] - 280s 270ms/step - loss: 0.1063 - accuracy: 0.8108 - val_loss: 0.1925 - val_accuracy: 0.6986\n",
      "Epoch 226/400\n",
      "1039/1039 [==============================] - ETA: 0s - loss: 0.1060 - accuracy: 0.8124\n",
      "Epoch 00226: val_accuracy did not improve from 0.70326\n",
      "1039/1039 [==============================] - 281s 270ms/step - loss: 0.1060 - accuracy: 0.8124 - val_loss: 0.1926 - val_accuracy: 0.6976\n",
      "Epoch 227/400\n",
      "1039/1039 [==============================] - ETA: 0s - loss: 0.1058 - accuracy: 0.8113\n",
      "Epoch 00227: val_accuracy improved from 0.70326 to 0.70367, saving model to /home/ys587/__Data/__whistle/__whislte_30_species/__fit_result_species/20210323_120335/STAR2000/epoch_227_valloss_0.1917_valacc_0.7037.hdf5\n",
      "1039/1039 [==============================] - 281s 270ms/step - loss: 0.1058 - accuracy: 0.8113 - val_loss: 0.1917 - val_accuracy: 0.7037\n",
      "Epoch 228/400\n",
      "1039/1039 [==============================] - ETA: 0s - loss: 0.1053 - accuracy: 0.8108\n",
      "Epoch 00228: val_accuracy did not improve from 0.70367\n",
      "1039/1039 [==============================] - 280s 269ms/step - loss: 0.1053 - accuracy: 0.8108 - val_loss: 0.1943 - val_accuracy: 0.7008\n",
      "Epoch 229/400\n",
      "1039/1039 [==============================] - ETA: 0s - loss: 0.1055 - accuracy: 0.8129\n",
      "Epoch 00229: val_accuracy did not improve from 0.70367\n",
      "1039/1039 [==============================] - 280s 270ms/step - loss: 0.1055 - accuracy: 0.8129 - val_loss: 0.1957 - val_accuracy: 0.6969\n",
      "Epoch 230/400\n",
      "1039/1039 [==============================] - ETA: 0s - loss: 0.1054 - accuracy: 0.8122\n",
      "Epoch 00230: val_accuracy did not improve from 0.70367\n",
      "1039/1039 [==============================] - 280s 270ms/step - loss: 0.1054 - accuracy: 0.8122 - val_loss: 0.1950 - val_accuracy: 0.6978\n",
      "Epoch 231/400\n",
      "1039/1039 [==============================] - ETA: 0s - loss: 0.1049 - accuracy: 0.8125\n",
      "Epoch 00231: val_accuracy did not improve from 0.70367\n",
      "1039/1039 [==============================] - 280s 269ms/step - loss: 0.1049 - accuracy: 0.8125 - val_loss: 0.1943 - val_accuracy: 0.6988\n",
      "Epoch 232/400\n",
      "1039/1039 [==============================] - ETA: 0s - loss: 0.1048 - accuracy: 0.8137\n",
      "Epoch 00232: val_accuracy did not improve from 0.70367\n",
      "1039/1039 [==============================] - 280s 269ms/step - loss: 0.1048 - accuracy: 0.8137 - val_loss: 0.1949 - val_accuracy: 0.6970\n",
      "Epoch 233/400\n",
      "1039/1039 [==============================] - ETA: 0s - loss: 0.1042 - accuracy: 0.8155\n",
      "Epoch 00233: val_accuracy did not improve from 0.70367\n",
      "1039/1039 [==============================] - 280s 270ms/step - loss: 0.1042 - accuracy: 0.8155 - val_loss: 0.1944 - val_accuracy: 0.6999\n",
      "Epoch 234/400\n",
      "1039/1039 [==============================] - ETA: 0s - loss: 0.1041 - accuracy: 0.8142\n",
      "Epoch 00234: val_accuracy did not improve from 0.70367\n",
      "1039/1039 [==============================] - 283s 272ms/step - loss: 0.1041 - accuracy: 0.8142 - val_loss: 0.1945 - val_accuracy: 0.7000\n",
      "Epoch 235/400\n",
      "1039/1039 [==============================] - ETA: 0s - loss: 0.1038 - accuracy: 0.8145\n",
      "Epoch 00235: val_accuracy did not improve from 0.70367\n",
      "1039/1039 [==============================] - 281s 270ms/step - loss: 0.1038 - accuracy: 0.8145 - val_loss: 0.1941 - val_accuracy: 0.7004\n",
      "Epoch 236/400\n",
      "1039/1039 [==============================] - ETA: 0s - loss: 0.1035 - accuracy: 0.8162\n",
      "Epoch 00236: val_accuracy did not improve from 0.70367\n",
      "1039/1039 [==============================] - 281s 270ms/step - loss: 0.1035 - accuracy: 0.8162 - val_loss: 0.1952 - val_accuracy: 0.6961\n",
      "Epoch 237/400\n",
      "1039/1039 [==============================] - ETA: 0s - loss: 0.1038 - accuracy: 0.8150\n",
      "Epoch 00237: val_accuracy did not improve from 0.70367\n",
      "1039/1039 [==============================] - 280s 270ms/step - loss: 0.1038 - accuracy: 0.8150 - val_loss: 0.1945 - val_accuracy: 0.7011\n",
      "Epoch 238/400\n",
      "1039/1039 [==============================] - ETA: 0s - loss: 0.1027 - accuracy: 0.8171\n",
      "Epoch 00238: val_accuracy did not improve from 0.70367\n",
      "1039/1039 [==============================] - 280s 269ms/step - loss: 0.1027 - accuracy: 0.8171 - val_loss: 0.1984 - val_accuracy: 0.6978\n",
      "Epoch 239/400\n",
      "1039/1039 [==============================] - ETA: 0s - loss: 0.1030 - accuracy: 0.8154\n",
      "Epoch 00239: val_accuracy improved from 0.70367 to 0.70394, saving model to /home/ys587/__Data/__whistle/__whislte_30_species/__fit_result_species/20210323_120335/STAR2000/epoch_239_valloss_0.1944_valacc_0.7039.hdf5\n",
      "1039/1039 [==============================] - 280s 269ms/step - loss: 0.1030 - accuracy: 0.8154 - val_loss: 0.1944 - val_accuracy: 0.7039\n",
      "Epoch 240/400\n",
      "1039/1039 [==============================] - ETA: 0s - loss: 0.1029 - accuracy: 0.8170\n",
      "Epoch 00240: val_accuracy did not improve from 0.70394\n",
      "1039/1039 [==============================] - 280s 270ms/step - loss: 0.1029 - accuracy: 0.8170 - val_loss: 0.1959 - val_accuracy: 0.7001\n",
      "Epoch 241/400\n",
      "1039/1039 [==============================] - ETA: 0s - loss: 0.1028 - accuracy: 0.8153\n",
      "Epoch 00241: val_accuracy did not improve from 0.70394\n",
      "1039/1039 [==============================] - 280s 270ms/step - loss: 0.1028 - accuracy: 0.8153 - val_loss: 0.1945 - val_accuracy: 0.6996\n",
      "Epoch 242/400\n",
      "1039/1039 [==============================] - ETA: 0s - loss: 0.1029 - accuracy: 0.8165\n",
      "Epoch 00242: val_accuracy did not improve from 0.70394\n",
      "1039/1039 [==============================] - 280s 269ms/step - loss: 0.1029 - accuracy: 0.8165 - val_loss: 0.1958 - val_accuracy: 0.6984\n",
      "Epoch 243/400\n",
      "1039/1039 [==============================] - ETA: 0s - loss: 0.1018 - accuracy: 0.8178\n",
      "Epoch 00243: val_accuracy did not improve from 0.70394\n",
      "1039/1039 [==============================] - 280s 270ms/step - loss: 0.1018 - accuracy: 0.8178 - val_loss: 0.1955 - val_accuracy: 0.7001\n",
      "Epoch 244/400\n",
      "1039/1039 [==============================] - ETA: 0s - loss: 0.1013 - accuracy: 0.8184\n",
      "Epoch 00244: val_accuracy improved from 0.70394 to 0.70489, saving model to /home/ys587/__Data/__whistle/__whislte_30_species/__fit_result_species/20210323_120335/STAR2000/epoch_244_valloss_0.1941_valacc_0.7049.hdf5\n",
      "1039/1039 [==============================] - 280s 270ms/step - loss: 0.1013 - accuracy: 0.8184 - val_loss: 0.1941 - val_accuracy: 0.7049\n",
      "Epoch 245/400\n",
      "1039/1039 [==============================] - ETA: 0s - loss: 0.1017 - accuracy: 0.8185\n",
      "Epoch 00245: val_accuracy did not improve from 0.70489\n",
      "1039/1039 [==============================] - 280s 270ms/step - loss: 0.1017 - accuracy: 0.8185 - val_loss: 0.1995 - val_accuracy: 0.6952\n",
      "Epoch 246/400\n",
      "1039/1039 [==============================] - ETA: 0s - loss: 0.1021 - accuracy: 0.8174\n",
      "Epoch 00246: val_accuracy did not improve from 0.70489\n",
      "1039/1039 [==============================] - 280s 269ms/step - loss: 0.1021 - accuracy: 0.8174 - val_loss: 0.1970 - val_accuracy: 0.6957\n",
      "Epoch 247/400\n",
      "1039/1039 [==============================] - ETA: 0s - loss: 0.1010 - accuracy: 0.8184\n",
      "Epoch 00247: val_accuracy did not improve from 0.70489\n",
      "1039/1039 [==============================] - 279s 269ms/step - loss: 0.1010 - accuracy: 0.8184 - val_loss: 0.1931 - val_accuracy: 0.7019\n",
      "Epoch 248/400\n",
      "1039/1039 [==============================] - ETA: 0s - loss: 0.1010 - accuracy: 0.8186\n",
      "Epoch 00248: val_accuracy did not improve from 0.70489\n",
      "1039/1039 [==============================] - 281s 270ms/step - loss: 0.1010 - accuracy: 0.8186 - val_loss: 0.1969 - val_accuracy: 0.6995\n",
      "Epoch 249/400\n",
      "1039/1039 [==============================] - ETA: 0s - loss: 0.1012 - accuracy: 0.8190\n",
      "Epoch 00249: val_accuracy did not improve from 0.70489\n",
      "1039/1039 [==============================] - 280s 270ms/step - loss: 0.1012 - accuracy: 0.8190 - val_loss: 0.1979 - val_accuracy: 0.6978\n",
      "Epoch 250/400\n",
      "1039/1039 [==============================] - ETA: 0s - loss: 0.1012 - accuracy: 0.8177\n",
      "Epoch 00250: val_accuracy improved from 0.70489 to 0.70530, saving model to /home/ys587/__Data/__whistle/__whislte_30_species/__fit_result_species/20210323_120335/STAR2000/epoch_250_valloss_0.1938_valacc_0.7053.hdf5\n",
      "1039/1039 [==============================] - 279s 269ms/step - loss: 0.1012 - accuracy: 0.8177 - val_loss: 0.1938 - val_accuracy: 0.7053\n",
      "Epoch 251/400\n",
      "1039/1039 [==============================] - ETA: 0s - loss: 0.1003 - accuracy: 0.8199\n",
      "Epoch 00251: val_accuracy did not improve from 0.70530\n",
      "1039/1039 [==============================] - 280s 269ms/step - loss: 0.1003 - accuracy: 0.8199 - val_loss: 0.1964 - val_accuracy: 0.7005\n",
      "Epoch 252/400\n",
      "1039/1039 [==============================] - ETA: 0s - loss: 0.0999 - accuracy: 0.8208\n",
      "Epoch 00252: val_accuracy did not improve from 0.70530\n",
      "1039/1039 [==============================] - 280s 269ms/step - loss: 0.0999 - accuracy: 0.8208 - val_loss: 0.1957 - val_accuracy: 0.7038\n",
      "Epoch 253/400\n",
      "1039/1039 [==============================] - ETA: 0s - loss: 0.1003 - accuracy: 0.8205\n",
      "Epoch 00253: val_accuracy did not improve from 0.70530\n",
      "1039/1039 [==============================] - 280s 269ms/step - loss: 0.1003 - accuracy: 0.8205 - val_loss: 0.2006 - val_accuracy: 0.6989\n",
      "Epoch 254/400\n",
      "1039/1039 [==============================] - ETA: 0s - loss: 0.0995 - accuracy: 0.8210\n",
      "Epoch 00254: val_accuracy did not improve from 0.70530\n",
      "1039/1039 [==============================] - 280s 270ms/step - loss: 0.0995 - accuracy: 0.8210 - val_loss: 0.1973 - val_accuracy: 0.7018\n",
      "Epoch 255/400\n",
      "1039/1039 [==============================] - ETA: 0s - loss: 0.1000 - accuracy: 0.8202\n",
      "Epoch 00255: val_accuracy improved from 0.70530 to 0.70652, saving model to /home/ys587/__Data/__whistle/__whislte_30_species/__fit_result_species/20210323_120335/STAR2000/epoch_255_valloss_0.1925_valacc_0.7065.hdf5\n",
      "1039/1039 [==============================] - 280s 270ms/step - loss: 0.1000 - accuracy: 0.8202 - val_loss: 0.1925 - val_accuracy: 0.7065\n",
      "Epoch 256/400\n",
      "1039/1039 [==============================] - ETA: 0s - loss: 0.0991 - accuracy: 0.8220\n",
      "Epoch 00256: val_accuracy did not improve from 0.70652\n",
      "1039/1039 [==============================] - 280s 270ms/step - loss: 0.0991 - accuracy: 0.8220 - val_loss: 0.1990 - val_accuracy: 0.7001\n",
      "Epoch 257/400\n",
      "1039/1039 [==============================] - ETA: 0s - loss: 0.0992 - accuracy: 0.8218\n",
      "Epoch 00257: val_accuracy did not improve from 0.70652\n",
      "1039/1039 [==============================] - 280s 270ms/step - loss: 0.0992 - accuracy: 0.8218 - val_loss: 0.1976 - val_accuracy: 0.7035\n",
      "Epoch 258/400\n",
      "1039/1039 [==============================] - ETA: 0s - loss: 0.0988 - accuracy: 0.8207\n",
      "Epoch 00258: val_accuracy did not improve from 0.70652\n",
      "1039/1039 [==============================] - 280s 269ms/step - loss: 0.0988 - accuracy: 0.8207 - val_loss: 0.2004 - val_accuracy: 0.6996\n",
      "Epoch 259/400\n",
      "1039/1039 [==============================] - ETA: 0s - loss: 0.0991 - accuracy: 0.8237\n",
      "Epoch 00259: val_accuracy did not improve from 0.70652\n",
      "1039/1039 [==============================] - 280s 270ms/step - loss: 0.0991 - accuracy: 0.8237 - val_loss: 0.1983 - val_accuracy: 0.7041\n",
      "Epoch 260/400\n",
      "1039/1039 [==============================] - ETA: 0s - loss: 0.0983 - accuracy: 0.8247\n",
      "Epoch 00260: val_accuracy did not improve from 0.70652\n",
      "1039/1039 [==============================] - 280s 269ms/step - loss: 0.0983 - accuracy: 0.8247 - val_loss: 0.1979 - val_accuracy: 0.7011\n",
      "Epoch 261/400\n",
      "1039/1039 [==============================] - ETA: 0s - loss: 0.0981 - accuracy: 0.8234\n",
      "Epoch 00261: val_accuracy did not improve from 0.70652\n",
      "1039/1039 [==============================] - 280s 270ms/step - loss: 0.0981 - accuracy: 0.8234 - val_loss: 0.1963 - val_accuracy: 0.7015\n",
      "Epoch 262/400\n",
      "1039/1039 [==============================] - ETA: 0s - loss: 0.0982 - accuracy: 0.8232\n",
      "Epoch 00262: val_accuracy did not improve from 0.70652\n",
      "1039/1039 [==============================] - 280s 269ms/step - loss: 0.0982 - accuracy: 0.8232 - val_loss: 0.1987 - val_accuracy: 0.7024\n",
      "Epoch 263/400\n",
      "1039/1039 [==============================] - ETA: 0s - loss: 0.0977 - accuracy: 0.8257\n",
      "Epoch 00263: val_accuracy did not improve from 0.70652\n",
      "1039/1039 [==============================] - 281s 270ms/step - loss: 0.0977 - accuracy: 0.8257 - val_loss: 0.1983 - val_accuracy: 0.7041\n",
      "Epoch 264/400\n",
      "1039/1039 [==============================] - ETA: 0s - loss: 0.0972 - accuracy: 0.8245\n",
      "Epoch 00264: val_accuracy did not improve from 0.70652\n",
      "1039/1039 [==============================] - 281s 270ms/step - loss: 0.0972 - accuracy: 0.8245 - val_loss: 0.1981 - val_accuracy: 0.7031\n",
      "Epoch 265/400\n",
      "1039/1039 [==============================] - ETA: 0s - loss: 0.0974 - accuracy: 0.8260\n",
      "Epoch 00265: val_accuracy did not improve from 0.70652\n",
      "1039/1039 [==============================] - 280s 270ms/step - loss: 0.0974 - accuracy: 0.8260 - val_loss: 0.2014 - val_accuracy: 0.7011\n",
      "Epoch 266/400\n",
      "1039/1039 [==============================] - ETA: 0s - loss: 0.0967 - accuracy: 0.8265\n",
      "Epoch 00266: val_accuracy did not improve from 0.70652\n",
      "1039/1039 [==============================] - 280s 270ms/step - loss: 0.0967 - accuracy: 0.8265 - val_loss: 0.1969 - val_accuracy: 0.7041\n",
      "Epoch 267/400\n",
      "1039/1039 [==============================] - ETA: 0s - loss: 0.0971 - accuracy: 0.8266\n",
      "Epoch 00267: val_accuracy did not improve from 0.70652\n",
      "1039/1039 [==============================] - 280s 270ms/step - loss: 0.0971 - accuracy: 0.8266 - val_loss: 0.2031 - val_accuracy: 0.7010\n",
      "Epoch 268/400\n",
      "1039/1039 [==============================] - ETA: 0s - loss: 0.0960 - accuracy: 0.8273\n",
      "Epoch 00268: val_accuracy did not improve from 0.70652\n",
      "1039/1039 [==============================] - 280s 269ms/step - loss: 0.0960 - accuracy: 0.8273 - val_loss: 0.1998 - val_accuracy: 0.7023\n",
      "Epoch 269/400\n",
      "1039/1039 [==============================] - ETA: 0s - loss: 0.0961 - accuracy: 0.8288\n",
      "Epoch 00269: val_accuracy did not improve from 0.70652\n",
      "1039/1039 [==============================] - 280s 269ms/step - loss: 0.0961 - accuracy: 0.8288 - val_loss: 0.2002 - val_accuracy: 0.7020\n",
      "Epoch 270/400\n",
      "1039/1039 [==============================] - ETA: 0s - loss: 0.0961 - accuracy: 0.8271\n",
      "Epoch 00270: val_accuracy did not improve from 0.70652\n",
      "1039/1039 [==============================] - 281s 270ms/step - loss: 0.0961 - accuracy: 0.8271 - val_loss: 0.1996 - val_accuracy: 0.7022\n",
      "Epoch 271/400\n",
      "1039/1039 [==============================] - ETA: 0s - loss: 0.0962 - accuracy: 0.8277\n",
      "Epoch 00271: val_accuracy did not improve from 0.70652\n",
      "1039/1039 [==============================] - 280s 269ms/step - loss: 0.0962 - accuracy: 0.8277 - val_loss: 0.2047 - val_accuracy: 0.6974\n",
      "Epoch 272/400\n",
      "1039/1039 [==============================] - ETA: 0s - loss: 0.0956 - accuracy: 0.8281\n",
      "Epoch 00272: val_accuracy did not improve from 0.70652\n",
      "1039/1039 [==============================] - 280s 269ms/step - loss: 0.0956 - accuracy: 0.8281 - val_loss: 0.1996 - val_accuracy: 0.7001\n",
      "Epoch 273/400\n",
      "1039/1039 [==============================] - ETA: 0s - loss: 0.0955 - accuracy: 0.8282\n",
      "Epoch 00273: val_accuracy did not improve from 0.70652\n",
      "1039/1039 [==============================] - 279s 269ms/step - loss: 0.0955 - accuracy: 0.8282 - val_loss: 0.2001 - val_accuracy: 0.7052\n",
      "Epoch 274/400\n",
      "1039/1039 [==============================] - ETA: 0s - loss: 0.0951 - accuracy: 0.8289\n",
      "Epoch 00274: val_accuracy did not improve from 0.70652\n",
      "1039/1039 [==============================] - 280s 270ms/step - loss: 0.0951 - accuracy: 0.8289 - val_loss: 0.2001 - val_accuracy: 0.7045\n",
      "Epoch 275/400\n",
      "1039/1039 [==============================] - ETA: 0s - loss: 0.0956 - accuracy: 0.8279\n",
      "Epoch 00275: val_accuracy did not improve from 0.70652\n",
      "1039/1039 [==============================] - 280s 269ms/step - loss: 0.0956 - accuracy: 0.8279 - val_loss: 0.2039 - val_accuracy: 0.6989\n",
      "Epoch 276/400\n",
      "1039/1039 [==============================] - ETA: 0s - loss: 0.0942 - accuracy: 0.8307\n",
      "Epoch 00276: val_accuracy did not improve from 0.70652\n",
      "1039/1039 [==============================] - 280s 270ms/step - loss: 0.0942 - accuracy: 0.8307 - val_loss: 0.2034 - val_accuracy: 0.7020\n",
      "Epoch 277/400\n",
      "1039/1039 [==============================] - ETA: 0s - loss: 0.0949 - accuracy: 0.8290\n",
      "Epoch 00277: val_accuracy did not improve from 0.70652\n",
      "1039/1039 [==============================] - 280s 269ms/step - loss: 0.0949 - accuracy: 0.8290 - val_loss: 0.2000 - val_accuracy: 0.7053\n",
      "Epoch 278/400\n",
      " 893/1039 [========================>.....] - ETA: 38s - loss: 0.0939 - accuracy: 0.8309"
     ]
    }
   ],
   "source": [
    "# With classes\n",
    "# history = model.fit(fea_train, to_categorical(label_train), class_weight=class_weights, validation_split=0.3, batch_size=batch_size, epochs=num_epoch, callbacks=[EarlyStopping(patience=num_patience), ModelCheckpoint(filepath=os.path.join(fit_result_path, '{epoch:02d}-{val_loss:.4f}.hdf5'), verbose=1, monitor=\"val_loss\", save_best_only=True)])\n",
    "# history = model.fit(train_generator, validation_data=validate_generator, class_weight=class_weights, epochs=num_epoch, callbacks=[EarlyStopping(patience=num_patience, monitor='val_loss', mode='min', verbose=1), TensorBoard(log_dir=fit_result_path1), ModelCheckpoint(filepath=os.path.join(fit_result_path1, '{epoch:02d}-{val_loss:.4f}.hdf5'), verbose=1, monitor=\"val_loss\", save_best_only=True)])\n",
    "# history = model.fit(train_generator, validation_data=validate_generator, class_weight=class_weights, epochs=num_epoch, callbacks=[EarlyStopping(patience=num_patience, monitor='val_loss', mode='min', verbose=1), TensorBoard(log_dir=fit_result_path2), ModelCheckpoint(filepath=os.path.join(fit_result_path2, 'epoch_{epoch:02d}_valloss_{val_loss:.4f}_valacc_{val_accuracy:.4f}.hdf5' ), verbose=1, monitor=\"val_loss\", save_best_only=True)])\n",
    "# history = model.fit(train_generator, validation_data=validate_generator, class_weight=class_weights, epochs=num_epoch, callbacks=[EarlyStopping(patience=num_patience, monitor='val_loss', mode='min', verbose=1), TensorBoard(log_dir=fit_result_path2), ModelCheckpoint(filepath=os.path.join(fit_result_path2, 'epoch_{epoch:02d}_valloss_{val_loss:.4f}_valacc_{val_accuracy:.4f}.hdf5' ), verbose=1, monitor=\"val_accuracy\", save_best_only=True)])\n",
    "history = model.fit(train_generator, validation_data=validate_generator, class_weight=class_weights, epochs=num_epoch, callbacks=[EarlyStopping(patience=num_patience, monitor='val_accuracy', mode='max', verbose=1), TensorBoard(log_dir=fit_result_path2), ModelCheckpoint(filepath=os.path.join(fit_result_path2, 'epoch_{epoch:02d}_valloss_{val_loss:.4f}_valacc_{val_accuracy:.4f}.hdf5' ), verbose=1, monitor=\"val_accuracy\", save_best_only=True)])"
   ]
  },
  {
   "cell_type": "code",
   "execution_count": 27,
   "metadata": {},
   "outputs": [
    {
     "name": "stdout",
     "output_type": "stream",
     "text": [
      "Best model:0.7068\n",
      "/home/ys587/__Data/__whistle/__whislte_30_species/__fit_result_species/20210323_120335/STAR2000/epoch_278_valloss_0.1995_valacc_0.7068.hdf5\n"
     ]
    }
   ],
   "source": [
    "# fit_result_path2 = '/home/ys587/__Data/__whistle/__whislte_30_species/__fit_result_species/20210310_095616/STAR2000'\n",
    "the_best_model, _ = find_best_model(fit_result_path2, purge=False)"
   ]
  },
  {
   "cell_type": "code",
   "execution_count": 28,
   "metadata": {
    "scrolled": true
   },
   "outputs": [
    {
     "name": "stdout",
     "output_type": "stream",
     "text": [
      "WARNING:tensorflow:Layer gru will not use cuDNN kernel since it doesn't meet the cuDNN kernel criteria. It will use generic GPU kernel as fallback when running on GPU\n"
     ]
    },
    {
     "name": "stderr",
     "output_type": "stream",
     "text": [
      "WARNING:tensorflow:Layer gru will not use cuDNN kernel since it doesn't meet the cuDNN kernel criteria. It will use generic GPU kernel as fallback when running on GPU\n"
     ]
    },
    {
     "name": "stdout",
     "output_type": "stream",
     "text": [
      "WARNING:tensorflow:Layer gru_1 will not use cuDNN kernel since it doesn't meet the cuDNN kernel criteria. It will use generic GPU kernel as fallback when running on GPU\n"
     ]
    },
    {
     "name": "stderr",
     "output_type": "stream",
     "text": [
      "WARNING:tensorflow:Layer gru_1 will not use cuDNN kernel since it doesn't meet the cuDNN kernel criteria. It will use generic GPU kernel as fallback when running on GPU\n"
     ]
    },
    {
     "name": "stdout",
     "output_type": "stream",
     "text": [
      "Model: \"model\"\n",
      "_________________________________________________________________\n",
      "Layer (type)                 Output Shape              Param #   \n",
      "=================================================================\n",
      "input (InputLayer)           [(None, 100, 128, 1)]     0         \n",
      "_________________________________________________________________\n",
      "conv2d (Conv2D)              (None, 100, 128, 16)      160       \n",
      "_________________________________________________________________\n",
      "batch_normalization (BatchNo (None, 100, 128, 16)      64        \n",
      "_________________________________________________________________\n",
      "activation (Activation)      (None, 100, 128, 16)      0         \n",
      "_________________________________________________________________\n",
      "conv2d_1 (Conv2D)            (None, 100, 128, 16)      2320      \n",
      "_________________________________________________________________\n",
      "batch_normalization_1 (Batch (None, 100, 128, 16)      64        \n",
      "_________________________________________________________________\n",
      "activation_1 (Activation)    (None, 100, 128, 16)      0         \n",
      "_________________________________________________________________\n",
      "max_pooling2d (MaxPooling2D) (None, 50, 64, 16)        0         \n",
      "_________________________________________________________________\n",
      "dropout (Dropout)            (None, 50, 64, 16)        0         \n",
      "_________________________________________________________________\n",
      "conv2d_2 (Conv2D)            (None, 50, 64, 32)        4640      \n",
      "_________________________________________________________________\n",
      "batch_normalization_2 (Batch (None, 50, 64, 32)        128       \n",
      "_________________________________________________________________\n",
      "activation_2 (Activation)    (None, 50, 64, 32)        0         \n",
      "_________________________________________________________________\n",
      "conv2d_3 (Conv2D)            (None, 50, 64, 32)        9248      \n",
      "_________________________________________________________________\n",
      "batch_normalization_3 (Batch (None, 50, 64, 32)        128       \n",
      "_________________________________________________________________\n",
      "activation_3 (Activation)    (None, 50, 64, 32)        0         \n",
      "_________________________________________________________________\n",
      "max_pooling2d_1 (MaxPooling2 (None, 50, 32, 32)        0         \n",
      "_________________________________________________________________\n",
      "dropout_1 (Dropout)          (None, 50, 32, 32)        0         \n",
      "_________________________________________________________________\n",
      "conv2d_4 (Conv2D)            (None, 50, 32, 64)        18496     \n",
      "_________________________________________________________________\n",
      "batch_normalization_4 (Batch (None, 50, 32, 64)        256       \n",
      "_________________________________________________________________\n",
      "activation_4 (Activation)    (None, 50, 32, 64)        0         \n",
      "_________________________________________________________________\n",
      "conv2d_5 (Conv2D)            (None, 50, 32, 64)        36928     \n",
      "_________________________________________________________________\n",
      "batch_normalization_5 (Batch (None, 50, 32, 64)        256       \n",
      "_________________________________________________________________\n",
      "activation_5 (Activation)    (None, 50, 32, 64)        0         \n",
      "_________________________________________________________________\n",
      "max_pooling2d_2 (MaxPooling2 (None, 50, 16, 64)        0         \n",
      "_________________________________________________________________\n",
      "dropout_2 (Dropout)          (None, 50, 16, 64)        0         \n",
      "_________________________________________________________________\n",
      "reshape (Reshape)            (None, 50, 1024)          0         \n",
      "_________________________________________________________________\n",
      "gru (GRU)                    (None, 50, 128)           443136    \n",
      "_________________________________________________________________\n",
      "gru_1 (GRU)                  (None, 128)               99072     \n",
      "_________________________________________________________________\n",
      "dense (Dense)                (None, 8)                 1032      \n",
      "=================================================================\n",
      "Total params: 615,928\n",
      "Trainable params: 615,480\n",
      "Non-trainable params: 448\n",
      "_________________________________________________________________\n"
     ]
    }
   ],
   "source": [
    "model = load_model(the_best_model)\n",
    "model.summary()"
   ]
  },
  {
   "cell_type": "code",
   "execution_count": null,
   "metadata": {},
   "outputs": [],
   "source": []
  },
  {
   "cell_type": "raw",
   "metadata": {},
   "source": [
    "# Testing"
   ]
  },
  {
   "cell_type": "raw",
   "metadata": {},
   "source": [
    "5mrt# Training data\n",
    "fea_temp = np.load(os.path.join(feature_path, 'oswald_STAR2000_orig.npz'))\n",
    "# fea_temp = np.load(os.path.join(feature_path, 'oswald_STAR2003_orig.npz'))\n",
    "# fea_temp = np.load(os.path.join(feature_path, 'oswald_STAR2006_orig.npz'))\n",
    "# fea_temp = np.load(os.path.join(feature_path, 'oswald_HICEAS2002_orig.npz'))\n",
    "# fea_temp = np.load(os.path.join(feature_path, 'oswald_PICEAS2005_orig.npz'))\n",
    "    \n",
    "fea_train = fea_temp['feas_orig']\n",
    "label_train_list = fea_temp['labels_orig']\n",
    "del fea_temp\n",
    "\n",
    "fea_train = fea_train[:,:100,:]\n",
    "label_train = np.zeros(len(label_train_list))\n",
    "for ii in range(len(label_train_list)):\n",
    "    label_train[ii] = species_dict[label_train_list[ii]]"
   ]
  },
  {
   "cell_type": "raw",
   "metadata": {},
   "source": [
    "# testing the training data\n",
    "label_train_pred = model.predict(fea_train)"
   ]
  },
  {
   "cell_type": "raw",
   "metadata": {},
   "source": [
    "np.set_printoptions(linewidth=200, precision=2, suppress=True)"
   ]
  },
  {
   "cell_type": "raw",
   "metadata": {},
   "source": [
    "print(\"Confusion matrix:\")\n",
    "cm = confusion_matrix(label_train[:label_train_pred.shape[0]], np.argmax(label_train_pred, axis=1), labels=species_id)\n",
    "\n",
    "print(species_list)\n",
    "print('')\n",
    "print(cm)\n",
    "print('')\n",
    "\n",
    "cm2 = cm*1.0\n",
    "for ii in range(cm.shape[0]):\n",
    "    cm_row = cm[ii, :]*1.0\n",
    "\n",
    "    cm_row_sum = cm_row.sum()\n",
    "    if cm_row_sum != 0:\n",
    "        cm2[ii, :] = cm_row / cm_row_sum\n",
    "    else:\n",
    "        cm2[ii, :] = np.zeros(cm.shape[1])\n",
    "\n",
    "print(cm2)"
   ]
  },
  {
   "cell_type": "raw",
   "metadata": {},
   "source": [
    "from sklearn.metrics import plot_confusion_matrix\n",
    "from sklearn.metrics._plot.confusion_matrix import ConfusionMatrixDisplay\n",
    "disp = ConfusionMatrixDisplay(confusion_matrix=cm, display_labels=species_list)\n",
    "disp2 = ConfusionMatrixDisplay(confusion_matrix=cm2, display_labels=species_list)"
   ]
  },
  {
   "cell_type": "raw",
   "metadata": {},
   "source": [
    "fig, ax = plt.subplots(figsize=[15, 15])\n",
    "disp.plot(include_values=True,\n",
    "                     cmap='viridis', ax=ax, xticks_rotation='horizontal',\n",
    "                     values_format=None, colorbar=True)\n"
   ]
  },
  {
   "cell_type": "raw",
   "metadata": {},
   "source": [
    "fig, ax = plt.subplots(figsize=[15, 15])\n",
    "disp2.plot(include_values=True,\n",
    "                     cmap='viridis', ax=ax, xticks_rotation='horizontal',\n",
    "                     values_format='.2f', colorbar=True)"
   ]
  },
  {
   "cell_type": "raw",
   "metadata": {},
   "source": [
    "## top k accuracy score"
   ]
  },
  {
   "cell_type": "raw",
   "metadata": {},
   "source": [
    "from sklearn.metrics import top_k_accuracy_score"
   ]
  },
  {
   "cell_type": "raw",
   "metadata": {},
   "source": [
    "top_k = []\n",
    "for kk in range(1, num_species+1):\n",
    "    print('k='+str(kk)+':  ')\n",
    "    this_acc = top_k_accuracy_score(label_train[:label_train_pred.shape[0]], label_train_pred, k=kk, labels=list(range(num_species)))\n",
    "    print(this_acc)\n",
    "    top_k.append(this_acc)"
   ]
  },
  {
   "cell_type": "raw",
   "metadata": {},
   "source": [
    "# %matplotlib inline\n",
    "fig = plt.figure()\n",
    "ax = fig.subplots()\n",
    "ax.bar(list(range(1, num_species+1)), top_k)\n",
    "ax.grid(axis='y')"
   ]
  },
  {
   "cell_type": "raw",
   "metadata": {},
   "source": []
  },
  {
   "cell_type": "raw",
   "metadata": {},
   "source": [
    "# data cleaning. Remove those not trained well\n",
    "np.savez(os.path.join(feature_path, 'train_oswald_no_'+ee+'_label_correct.npz'), label_train=label_train, label_train_pred=label_train_pred )"
   ]
  },
  {
   "cell_type": "raw",
   "metadata": {},
   "source": [
    "label_train = label_train[:label_train_pred.shape[0]]"
   ]
  },
  {
   "cell_type": "raw",
   "metadata": {},
   "source": [
    "label_train.shape"
   ]
  },
  {
   "cell_type": "raw",
   "metadata": {},
   "source": [
    "label_train_pred[0, :]"
   ]
  },
  {
   "cell_type": "code",
   "execution_count": null,
   "metadata": {},
   "outputs": [],
   "source": []
  },
  {
   "cell_type": "code",
   "execution_count": 29,
   "metadata": {},
   "outputs": [],
   "source": [
    "# testing\n",
    "label_pred = model.predict(fea_test)\n",
    "# label_pred = model.predict(test_generator)"
   ]
  },
  {
   "cell_type": "code",
   "execution_count": 30,
   "metadata": {},
   "outputs": [],
   "source": [
    "np.set_printoptions(linewidth=200, precision=2, suppress=True)"
   ]
  },
  {
   "cell_type": "code",
   "execution_count": 31,
   "metadata": {},
   "outputs": [
    {
     "name": "stdout",
     "output_type": "stream",
     "text": [
      "Confusion matrix:\n",
      "['BD', 'CD', 'STR', 'SPT', 'SPIN', 'PLT', 'RT', 'FKW']\n",
      "\n",
      "[[  34   14    8   38    1    5   16    5]\n",
      " [ 502 1700  480  701  124  318  126   13]\n",
      " [ 224  207  218  312   40  104   21   14]\n",
      " [  64  279   15  396   10   66   12    3]\n",
      " [ 194   26   24  165   69   10    3    0]\n",
      " [   0    0    0    1    0   25    2    3]\n",
      " [  16    1    8    6    3    3   31    8]\n",
      " [   0    0    0    0    0    0    0    0]]\n",
      "\n",
      "[[0.28 0.12 0.07 0.31 0.01 0.04 0.13 0.04]\n",
      " [0.13 0.43 0.12 0.18 0.03 0.08 0.03 0.  ]\n",
      " [0.2  0.18 0.19 0.27 0.04 0.09 0.02 0.01]\n",
      " [0.08 0.33 0.02 0.47 0.01 0.08 0.01 0.  ]\n",
      " [0.4  0.05 0.05 0.34 0.14 0.02 0.01 0.  ]\n",
      " [0.   0.   0.   0.03 0.   0.81 0.06 0.1 ]\n",
      " [0.21 0.01 0.11 0.08 0.04 0.04 0.41 0.11]\n",
      " [0.   0.   0.   0.   0.   0.   0.   0.  ]]\n"
     ]
    }
   ],
   "source": [
    "print(\"Confusion matrix:\")\n",
    "cm = confusion_matrix(label_test, np.argmax(label_pred, axis=1), labels=species_id)\n",
    "\n",
    "print(species_list)\n",
    "print('')\n",
    "print(cm)\n",
    "print('')\n",
    "\n",
    "cm2 = cm*1.0\n",
    "for ii in range(cm.shape[0]):\n",
    "    cm_row = cm[ii, :]*1.0\n",
    "\n",
    "    cm_row_sum = cm_row.sum()\n",
    "    if cm_row_sum != 0:\n",
    "        cm2[ii, :] = cm_row / cm_row_sum\n",
    "    else:\n",
    "        cm2[ii, :] = np.zeros(cm.shape[1])\n",
    "\n",
    "print(cm2)"
   ]
  },
  {
   "cell_type": "code",
   "execution_count": 32,
   "metadata": {},
   "outputs": [],
   "source": [
    "from sklearn.metrics import plot_confusion_matrix\n",
    "from sklearn.metrics._plot.confusion_matrix import ConfusionMatrixDisplay\n",
    "disp = ConfusionMatrixDisplay(confusion_matrix=cm, display_labels=species_list)\n",
    "disp2 = ConfusionMatrixDisplay(confusion_matrix=cm2, display_labels=species_list)"
   ]
  },
  {
   "cell_type": "code",
   "execution_count": 33,
   "metadata": {},
   "outputs": [
    {
     "data": {
      "text/plain": [
       "<sklearn.metrics._plot.confusion_matrix.ConfusionMatrixDisplay at 0x7f5dc2bcfa90>"
      ]
     },
     "execution_count": 33,
     "metadata": {},
     "output_type": "execute_result"
    },
    {
     "data": {
      "image/png": "[encoded data removed]",
      "text/plain": [
       "<Figure size 1080x1080 with 2 Axes>"
      ]
     },
     "metadata": {
      "needs_background": "light"
     },
     "output_type": "display_data"
    }
   ],
   "source": [
    "fig, ax = plt.subplots(figsize=[15, 15])\n",
    "disp.plot(include_values=True,\n",
    "                     cmap='viridis', ax=ax, xticks_rotation='horizontal',\n",
    "                     values_format=None, colorbar=True)\n"
   ]
  },
  {
   "cell_type": "code",
   "execution_count": 34,
   "metadata": {},
   "outputs": [
    {
     "data": {
      "text/plain": [
       "<sklearn.metrics._plot.confusion_matrix.ConfusionMatrixDisplay at 0x7f5dc2bcf5e0>"
      ]
     },
     "execution_count": 34,
     "metadata": {},
     "output_type": "execute_result"
    },
    {
     "data": {
      "image/png": "[encoded data removed]",
      "text/plain": [
       "<Figure size 1080x1080 with 2 Axes>"
      ]
     },
     "metadata": {
      "needs_background": "light"
     },
     "output_type": "display_data"
    }
   ],
   "source": [
    "fig, ax = plt.subplots(figsize=[15, 15])\n",
    "disp2.plot(include_values=True,\n",
    "                     cmap='viridis', ax=ax, xticks_rotation='horizontal',\n",
    "                     values_format='.2f', colorbar=True)"
   ]
  },
  {
   "cell_type": "raw",
   "metadata": {},
   "source": [
    "from sklearn.metrics import classification_report\n",
    "# >>> target_names = ['class 0', 'class 1', 'class 2']\n",
    "print(classification_report(label_test, np.argmax(label_pred, axis=1), target_names=list(range(num_species))))"
   ]
  },
  {
   "cell_type": "markdown",
   "metadata": {},
   "source": [
    "## top k accuracy score"
   ]
  },
  {
   "cell_type": "code",
   "execution_count": 35,
   "metadata": {},
   "outputs": [],
   "source": [
    "from sklearn.metrics import top_k_accuracy_score"
   ]
  },
  {
   "cell_type": "code",
   "execution_count": 36,
   "metadata": {},
   "outputs": [
    {
     "name": "stdout",
     "output_type": "stream",
     "text": [
      "k=1:  \n",
      "0.370875824835033\n",
      "k=2:  \n",
      "0.5574385122975405\n",
      "k=3:  \n",
      "0.6774145170965807\n",
      "k=4:  \n",
      "0.7936412717456509\n",
      "k=5:  \n",
      "0.8797240551889622\n",
      "k=6:  \n",
      "0.9353629274145171\n",
      "k=7:  \n",
      "0.974505098980204\n",
      "k=8:  \n",
      "1.0\n"
     ]
    },
    {
     "name": "stderr",
     "output_type": "stream",
     "text": [
      "/home/ys587/miniconda3/envs/whistle_classifier/lib/python3.8/site-packages/sklearn/metrics/_ranking.py:1693: UndefinedMetricWarning: 'k' (8) greater than or equal to 'n_classes' (8) will result in a perfect score and is therefore meaningless.\n",
      "  warnings.warn(\n"
     ]
    }
   ],
   "source": [
    "top_k = []\n",
    "for kk in range(1, num_species+1):\n",
    "    print('k='+str(kk)+':  ')\n",
    "    this_acc = top_k_accuracy_score(label_test, label_pred, k=kk, labels=list(range(num_species)))\n",
    "    print(this_acc)\n",
    "    top_k.append(this_acc)"
   ]
  },
  {
   "cell_type": "code",
   "execution_count": 37,
   "metadata": {},
   "outputs": [
    {
     "data": {
      "image/png": "[encoded data removed]",
      "text/plain": [
       "<Figure size 432x288 with 1 Axes>"
      ]
     },
     "metadata": {
      "needs_background": "light"
     },
     "output_type": "display_data"
    }
   ],
   "source": [
    "# %matplotlib inline\n",
    "fig = plt.figure()\n",
    "ax = fig.subplots()\n",
    "ax.bar(list(range(1, num_species+1)), top_k)\n",
    "ax.grid(axis='y')"
   ]
  },
  {
   "cell_type": "code",
   "execution_count": null,
   "metadata": {},
   "outputs": [],
   "source": []
  },
  {
   "cell_type": "markdown",
   "metadata": {},
   "source": [
    "## average_precision_score"
   ]
  },
  {
   "cell_type": "raw",
   "metadata": {},
   "source": [
    "from sklearn.metrics import average_precision_score\n",
    "from tensorflow.keras.utils import to_categorical"
   ]
  },
  {
   "cell_type": "raw",
   "metadata": {},
   "source": [
    "average_precision_score(to_categorical(label_test, num_classes=8), label_pred)"
   ]
  },
  {
   "cell_type": "raw",
   "metadata": {},
   "source": [
    "from collections import Counter\n",
    "Counter(label_test)"
   ]
  },
  {
   "cell_type": "code",
   "execution_count": null,
   "metadata": {},
   "outputs": [],
   "source": []
  },
  {
   "cell_type": "markdown",
   "metadata": {},
   "source": [
    "## STAR2003"
   ]
  },
  {
   "cell_type": "code",
   "execution_count": null,
   "metadata": {},
   "outputs": [],
   "source": [
    "ee = deployment[1]\n",
    "print(ee)"
   ]
  },
  {
   "cell_type": "code",
   "execution_count": null,
   "metadata": {},
   "outputs": [],
   "source": [
    "# Training data\n",
    "fea_temp = np.load(os.path.join(feature_path, 'train_oswald_no_'+ee+'.npz'))\n",
    "fea_train = fea_temp['fea_train']\n",
    "label_train_list = fea_temp['label_train']\n",
    "del fea_temp"
   ]
  },
  {
   "cell_type": "code",
   "execution_count": null,
   "metadata": {},
   "outputs": [],
   "source": [
    "label_train = np.zeros(len(label_train_list))\n",
    "for ii in range(len(label_train_list)):\n",
    "    label_train[ii] = species_dict[label_train_list[ii]]"
   ]
  },
  {
   "cell_type": "code",
   "execution_count": null,
   "metadata": {},
   "outputs": [],
   "source": [
    "# Testing data\n",
    "fea_temp = np.load(os.path.join(feature_path, 'oswald_'+ee+'_orig.npz'))\n",
    "fea_test = fea_temp['feas_orig']\n",
    "label_test_list = fea_temp['labels_orig']\n",
    "\n",
    "fea_test = fea_test[:,:100,:]\n",
    "label_test = np.zeros(len(label_test_list))\n",
    "for ii in range(len(label_test_list)):\n",
    "    label_test[ii] = species_dict[label_test_list[ii]]"
   ]
  },
  {
   "cell_type": "code",
   "execution_count": null,
   "metadata": {},
   "outputs": [],
   "source": [
    "fea_train = fea_train[:,:100,:]"
   ]
  },
  {
   "cell_type": "code",
   "execution_count": null,
   "metadata": {},
   "outputs": [],
   "source": [
    "label_train = np.zeros(len(label_train_list))\n",
    "for ii in range(len(label_train_list)):\n",
    "    label_train[ii] = species_dict[label_train_list[ii]]"
   ]
  },
  {
   "cell_type": "code",
   "execution_count": null,
   "metadata": {
    "scrolled": true
   },
   "outputs": [],
   "source": [
    "Counter(label_train_list)"
   ]
  },
  {
   "cell_type": "code",
   "execution_count": null,
   "metadata": {},
   "outputs": [],
   "source": [
    "Counter(label_test.tolist())"
   ]
  },
  {
   "cell_type": "code",
   "execution_count": null,
   "metadata": {},
   "outputs": [],
   "source": [
    "fit_result_path2 = os.path.join(fit_result_path1, ee)\n",
    "if not os.path.exists(fit_result_path2):\n",
    "    makedirs(fit_result_path2)"
   ]
  },
  {
   "cell_type": "code",
   "execution_count": null,
   "metadata": {},
   "outputs": [],
   "source": [
    "print('feature train shape: '+str(fea_train.shape))\n",
    "print('feature test shape: '+str(fea_test.shape))\n",
    "print('label train shape: '+str(label_train.shape))\n",
    "print('label test shape: '+str(label_test.shape))\n",
    "\n",
    "dim_time = fea_train.shape[1]\n",
    "dim_freq = fea_train.shape[2]\n",
    "print('dim_time: '+str(dim_time))\n",
    "print('dim_freq: '+str(dim_freq))"
   ]
  },
  {
   "cell_type": "code",
   "execution_count": null,
   "metadata": {},
   "outputs": [],
   "source": [
    "# shuffle features & labels\n",
    "fea_train, label_train = shuffle(fea_train, label_train, random_state=0)\n",
    "fea_test, label_test = shuffle(fea_test, label_test, random_state=0)"
   ]
  },
  {
   "cell_type": "code",
   "execution_count": null,
   "metadata": {},
   "outputs": [],
   "source": [
    "# class weight\n",
    "weights = compute_class_weight(class_weight='balanced', classes=np.unique(label_train), y=label_train)\n",
    "\n",
    "class_weights = dict()\n",
    "for ii in range(num_species):\n",
    "    class_weights[ii] = weights[ii]"
   ]
  },
  {
   "cell_type": "code",
   "execution_count": null,
   "metadata": {},
   "outputs": [],
   "source": [
    "fea_train = np.expand_dims(fea_train, axis=3)\n",
    "fea_test = np.expand_dims(fea_test, axis=3)"
   ]
  },
  {
   "cell_type": "code",
   "execution_count": null,
   "metadata": {},
   "outputs": [],
   "source": [
    "fea_train, fea_validate, label_train, label_validate = train_test_split(fea_train, label_train, test_size=0.10, random_state=42)\n",
    "\n",
    "train_generator = DataGenerator(fea_train, label_train, batch_size=batch_size, num_classes=num_species)\n",
    "del fea_train\n",
    "validate_generator = DataGenerator(fea_validate, label_validate, batch_size=batch_size, num_classes=num_species)\n",
    "del fea_validate\n",
    "\n",
    "# test_generator = DataGenerator(fea_test, label_test, batch_size=batch_size, num_classes=num_species)\n"
   ]
  },
  {
   "cell_type": "markdown",
   "metadata": {},
   "source": [
    "### Training the model"
   ]
  },
  {
   "cell_type": "code",
   "execution_count": null,
   "metadata": {
    "scrolled": true
   },
   "outputs": [],
   "source": [
    "# model = model_cnn14_attention_multi(dim_time, dim_freq, num_species, model_type='feature_level_attention', conv_dim=conv_dim, pool_size=pool_size, pool_stride=pool_stride, hidden_units=hidden_units, l2_regu=l2_regu, drop_rate=drop_rate)\n",
    "# model = model_cnn14_spp(dim_time, dim_freq, num_species, conv_dim=conv_dim, pool_size=pool_size, pool_stride=pool_stride, hidden_units=hidden_units, l2_regu=l2_regu, drop_rate=drop_rate)\n",
    "model = model_conv_lstm(dim_time, dim_freq, num_species, conv_dim=conv_dim, pool_size=pool_size, pool_stride=pool_stride, hidden_units=hidden_units, l2_regu=l2_regu, drop_rate=drop_rate)\n",
    "# loss = CategoricalCrossentropy()\n",
    "loss = binary_crossentropy\n",
    "model.compile(optimizer=tf.keras.optimizers.Adam(learning_rate=learning_rate_fn), loss=loss, metrics=['accuracy'])\n",
    "\n",
    "# With classes\n",
    "# history = model.fit(fea_train, to_categorical(label_train), class_weight=class_weights, validation_split=0.3, batch_size=batch_size, epochs=num_epoch, callbacks=[EarlyStopping(patience=num_patience), ModelCheckpoint(filepath=os.path.join(fit_result_path, '{epoch:02d}-{val_loss:.4f}.hdf5'), verbose=1, monitor=\"val_loss\", save_best_only=True)])\n",
    "# history = model.fit(train_generator, validation_data=validate_generator, class_weight=class_weights, epochs=num_epoch, callbacks=[EarlyStopping(patience=num_patience, monitor='val_loss', mode='min', verbose=1), TensorBoard(log_dir=fit_result_path1), ModelCheckpoint(filepath=os.path.join(fit_result_path1, '{epoch:02d}-{val_loss:.4f}.hdf5'), verbose=1, monitor=\"val_loss\", save_best_only=True)])\n",
    "# history = model.fit(train_generator, validation_data=validate_generator, class_weight=class_weights, epochs=num_epoch, callbacks=[EarlyStopping(patience=num_patience, monitor='val_loss', mode='min', verbose=1), TensorBoard(log_dir=fit_result_path2), ModelCheckpoint(filepath=os.path.join(fit_result_path2, 'epoch_{epoch:02d}_valloss_{val_loss:.4f}_valacc_{val_accuracy:.4f}.hdf5' ), verbose=1, monitor=\"val_accuracy\", save_best_only=True)])\n",
    "history = model.fit(train_generator, validation_data=validate_generator, class_weight=class_weights, epochs=num_epoch, callbacks=[EarlyStopping(patience=num_patience, monitor='val_accuracy', mode='max', verbose=1), TensorBoard(log_dir=fit_result_path2), ModelCheckpoint(filepath=os.path.join(fit_result_path2, 'epoch_{epoch:02d}_valloss_{val_loss:.4f}_valacc_{val_accuracy:.4f}.hdf5' ), verbose=1, monitor=\"val_accuracy\", save_best_only=True)])"
   ]
  },
  {
   "cell_type": "code",
   "execution_count": null,
   "metadata": {},
   "outputs": [],
   "source": [
    "# fit_result_path1 = '/home/ys587/__Data/__whistle/__whislte_30_species/__fit_result_species/20210210_224527'\n",
    "the_best_model, _ = find_best_model(fit_result_path2, purge=False)"
   ]
  },
  {
   "cell_type": "code",
   "execution_count": null,
   "metadata": {
    "scrolled": true
   },
   "outputs": [],
   "source": [
    "model = load_model(the_best_model)\n",
    "model.summary()"
   ]
  },
  {
   "cell_type": "code",
   "execution_count": null,
   "metadata": {},
   "outputs": [],
   "source": [
    "label_pred = model.predict(fea_test)\n",
    "# label_pred = model.predict(test_generator)"
   ]
  },
  {
   "cell_type": "code",
   "execution_count": null,
   "metadata": {},
   "outputs": [],
   "source": [
    "np.set_printoptions(linewidth=200, precision=2, suppress=True)"
   ]
  },
  {
   "cell_type": "code",
   "execution_count": null,
   "metadata": {},
   "outputs": [],
   "source": [
    "print(\"Confusion matrix:\")\n",
    "cm = confusion_matrix(label_test, np.argmax(label_pred, axis=1), labels=species_id)\n",
    "\n",
    "print(species_list)\n",
    "print('')\n",
    "print(cm)\n",
    "print('')\n",
    "\n",
    "cm2 = cm*1.0\n",
    "for ii in range(cm.shape[0]):\n",
    "    cm_row = cm[ii, :]*1.0\n",
    "\n",
    "    cm_row_sum = cm_row.sum()\n",
    "    if cm_row_sum != 0:\n",
    "        cm2[ii, :] = cm_row / cm_row_sum\n",
    "    else:\n",
    "        cm2[ii, :] = np.zeros(cm.shape[1])\n",
    "\n",
    "print(cm2)"
   ]
  },
  {
   "cell_type": "code",
   "execution_count": null,
   "metadata": {},
   "outputs": [],
   "source": [
    "from sklearn.metrics import plot_confusion_matrix\n",
    "from sklearn.metrics._plot.confusion_matrix import ConfusionMatrixDisplay\n",
    "disp = ConfusionMatrixDisplay(confusion_matrix=cm, display_labels=species_list)\n",
    "disp2 = ConfusionMatrixDisplay(confusion_matrix=cm2, display_labels=species_list)"
   ]
  },
  {
   "cell_type": "code",
   "execution_count": null,
   "metadata": {},
   "outputs": [],
   "source": [
    "fig, ax = plt.subplots(figsize=[15, 15])\n",
    "disp.plot(include_values=True,\n",
    "                     cmap='viridis', ax=ax, xticks_rotation='horizontal',\n",
    "                     values_format=None, colorbar=True)\n"
   ]
  },
  {
   "cell_type": "code",
   "execution_count": null,
   "metadata": {},
   "outputs": [],
   "source": [
    "fig, ax = plt.subplots(figsize=[15, 15])\n",
    "disp2.plot(include_values=True,\n",
    "                     cmap='viridis', ax=ax, xticks_rotation='horizontal',\n",
    "                     values_format='.2f', colorbar=True)"
   ]
  },
  {
   "cell_type": "markdown",
   "metadata": {},
   "source": [
    "## STAR2006"
   ]
  },
  {
   "cell_type": "code",
   "execution_count": null,
   "metadata": {},
   "outputs": [],
   "source": [
    "ee = deployment[2]\n",
    "print(ee)"
   ]
  },
  {
   "cell_type": "code",
   "execution_count": null,
   "metadata": {},
   "outputs": [],
   "source": [
    "# Training data\n",
    "fea_temp = np.load(os.path.join(feature_path, 'train_oswald_no_'+ee+'.npz'))\n",
    "fea_train = fea_temp['fea_train']\n",
    "label_train_list = fea_temp['label_train']\n",
    "del fea_temp"
   ]
  },
  {
   "cell_type": "code",
   "execution_count": null,
   "metadata": {},
   "outputs": [],
   "source": [
    "label_train = np.zeros(len(label_train_list))\n",
    "for ii in range(len(label_train_list)):\n",
    "    label_train[ii] = species_dict[label_train_list[ii]]"
   ]
  },
  {
   "cell_type": "code",
   "execution_count": null,
   "metadata": {},
   "outputs": [],
   "source": [
    "# Testing data\n",
    "fea_temp = np.load(os.path.join(feature_path, 'oswald_'+ee+'_orig.npz'))\n",
    "fea_test = fea_temp['feas_orig']\n",
    "label_test_list = fea_temp['labels_orig']\n",
    "\n",
    "fea_test = fea_test[:,:100,:]\n",
    "label_test = np.zeros(len(label_test_list))\n",
    "for ii in range(len(label_test_list)):\n",
    "    label_test[ii] = species_dict[label_test_list[ii]]"
   ]
  },
  {
   "cell_type": "code",
   "execution_count": null,
   "metadata": {},
   "outputs": [],
   "source": [
    "fea_train = fea_train[:,:100,:]"
   ]
  },
  {
   "cell_type": "code",
   "execution_count": null,
   "metadata": {},
   "outputs": [],
   "source": [
    "label_train = np.zeros(len(label_train_list))\n",
    "for ii in range(len(label_train_list)):\n",
    "    label_train[ii] = species_dict[label_train_list[ii]]"
   ]
  },
  {
   "cell_type": "code",
   "execution_count": null,
   "metadata": {
    "scrolled": true
   },
   "outputs": [],
   "source": [
    "Counter(label_train_list)"
   ]
  },
  {
   "cell_type": "code",
   "execution_count": null,
   "metadata": {},
   "outputs": [],
   "source": [
    "Counter(label_test.tolist())"
   ]
  },
  {
   "cell_type": "code",
   "execution_count": null,
   "metadata": {},
   "outputs": [],
   "source": [
    "fit_result_path2 = os.path.join(fit_result_path1, ee)\n",
    "if not os.path.exists(fit_result_path2):\n",
    "    makedirs(fit_result_path2)"
   ]
  },
  {
   "cell_type": "code",
   "execution_count": null,
   "metadata": {},
   "outputs": [],
   "source": [
    "print('feature train shape: '+str(fea_train.shape))\n",
    "print('feature test shape: '+str(fea_test.shape))\n",
    "print('label train shape: '+str(label_train.shape))\n",
    "print('label test shape: '+str(label_test.shape))\n",
    "\n",
    "dim_time = fea_train.shape[1]\n",
    "dim_freq = fea_train.shape[2]\n",
    "print('dim_time: '+str(dim_time))\n",
    "print('dim_freq: '+str(dim_freq))"
   ]
  },
  {
   "cell_type": "code",
   "execution_count": null,
   "metadata": {},
   "outputs": [],
   "source": [
    "# shuffle features & labels\n",
    "fea_train, label_train = shuffle(fea_train, label_train, random_state=0)\n",
    "fea_test, label_test = shuffle(fea_test, label_test, random_state=0)"
   ]
  },
  {
   "cell_type": "code",
   "execution_count": null,
   "metadata": {},
   "outputs": [],
   "source": [
    "# class weight\n",
    "weights = compute_class_weight(class_weight='balanced', classes=np.unique(label_train), y=label_train)\n",
    "\n",
    "class_weights = dict()\n",
    "for ii in range(num_species):\n",
    "    class_weights[ii] = weights[ii]"
   ]
  },
  {
   "cell_type": "code",
   "execution_count": null,
   "metadata": {},
   "outputs": [],
   "source": [
    "fea_train = np.expand_dims(fea_train, axis=3)\n",
    "fea_test = np.expand_dims(fea_test, axis=3)"
   ]
  },
  {
   "cell_type": "code",
   "execution_count": null,
   "metadata": {},
   "outputs": [],
   "source": [
    "fea_train, fea_validate, label_train, label_validate = train_test_split(fea_train, label_train, test_size=0.10, random_state=42)\n",
    "\n",
    "train_generator = DataGenerator(fea_train, label_train, batch_size=batch_size, num_classes=num_species)\n",
    "del fea_train\n",
    "validate_generator = DataGenerator(fea_validate, label_validate, batch_size=batch_size, num_classes=num_species)\n",
    "del fea_validate\n",
    "\n",
    "# test_generator = DataGenerator(fea_test, label_test, batch_size=batch_size, num_classes=num_species)\n"
   ]
  },
  {
   "cell_type": "markdown",
   "metadata": {},
   "source": [
    "### Training the model"
   ]
  },
  {
   "cell_type": "code",
   "execution_count": null,
   "metadata": {
    "scrolled": true
   },
   "outputs": [],
   "source": [
    "# model = model_cnn14_attention_multi(dim_time, dim_freq, num_species, model_type='feature_level_attention', conv_dim=conv_dim, pool_size=pool_size, pool_stride=pool_stride, hidden_units=hidden_units, l2_regu=l2_regu, drop_rate=drop_rate)\n",
    "# model = model_cnn14_spp(dim_time, dim_freq, num_species, conv_dim=conv_dim, pool_size=pool_size, pool_stride=pool_stride, hidden_units=hidden_units, l2_regu=l2_regu, drop_rate=drop_rate)\n",
    "model = model_conv_lstm(dim_time, dim_freq, num_species, conv_dim=conv_dim, pool_size=pool_size, pool_stride=pool_stride, hidden_units=hidden_units, l2_regu=l2_regu, drop_rate=drop_rate)\n",
    "# loss = CategoricalCrossentropy()\n",
    "loss = binary_crossentropy\n",
    "model.compile(optimizer=tf.keras.optimizers.Adam(learning_rate=learning_rate_fn), loss=loss, metrics=['accuracy'])\n",
    "\n",
    "# With classes\n",
    "# history = model.fit(fea_train, to_categorical(label_train), class_weight=class_weights, validation_split=0.3, batch_size=batch_size, epochs=num_epoch, callbacks=[EarlyStopping(patience=num_patience), ModelCheckpoint(filepath=os.path.join(fit_result_path, '{epoch:02d}-{val_loss:.4f}.hdf5'), verbose=1, monitor=\"val_loss\", save_best_only=True)])\n",
    "# history = model.fit(train_generator, validation_data=validate_generator, class_weight=class_weights, epochs=num_epoch, callbacks=[EarlyStopping(patience=num_patience, monitor='val_loss', mode='min', verbose=1), TensorBoard(log_dir=fit_result_path1), ModelCheckpoint(filepath=os.path.join(fit_result_path1, '{epoch:02d}-{val_loss:.4f}.hdf5'), verbose=1, monitor=\"val_loss\", save_best_only=True)])\n",
    "# history = model.fit(train_generator, validation_data=validate_generator, class_weight=class_weights, epochs=num_epoch, callbacks=[EarlyStopping(patience=num_patience, monitor='val_loss', mode='min', verbose=1), TensorBoard(log_dir=fit_result_path2), ModelCheckpoint(filepath=os.path.join(fit_result_path2, 'epoch_{epoch:02d}_valloss_{val_loss:.4f}_valacc_{val_accuracy:.4f}.hdf5' ), verbose=1, monitor=\"val_accuracy\", save_best_only=True)])\n",
    "history = model.fit(train_generator, validation_data=validate_generator, class_weight=class_weights, epochs=num_epoch, callbacks=[EarlyStopping(patience=num_patience, monitor='val_accuracy', mode='max', verbose=1), TensorBoard(log_dir=fit_result_path2), ModelCheckpoint(filepath=os.path.join(fit_result_path2, 'epoch_{epoch:02d}_valloss_{val_loss:.4f}_valacc_{val_accuracy:.4f}.hdf5' ), verbose=1, monitor=\"val_accuracy\", save_best_only=True)])"
   ]
  },
  {
   "cell_type": "code",
   "execution_count": null,
   "metadata": {},
   "outputs": [],
   "source": [
    "# fit_result_path1 = '/home/ys587/__Data/__whistle/__whislte_30_species/__fit_result_species/20210210_224527'\n",
    "the_best_model, _ = find_best_model(fit_result_path2, purge=False)"
   ]
  },
  {
   "cell_type": "code",
   "execution_count": null,
   "metadata": {
    "scrolled": true
   },
   "outputs": [],
   "source": [
    "model = load_model(the_best_model)\n",
    "model.summary()"
   ]
  },
  {
   "cell_type": "code",
   "execution_count": null,
   "metadata": {},
   "outputs": [],
   "source": [
    "label_pred = model.predict(fea_test)\n",
    "# label_pred = model.predict(test_generator)"
   ]
  },
  {
   "cell_type": "code",
   "execution_count": null,
   "metadata": {},
   "outputs": [],
   "source": [
    "np.set_printoptions(linewidth=200, precision=2, suppress=True)"
   ]
  },
  {
   "cell_type": "code",
   "execution_count": null,
   "metadata": {},
   "outputs": [],
   "source": [
    "print(\"Confusion matrix:\")\n",
    "cm = confusion_matrix(label_test, np.argmax(label_pred, axis=1), labels=species_id)\n",
    "\n",
    "print(species_list)\n",
    "print('')\n",
    "print(cm)\n",
    "print('')\n",
    "\n",
    "cm2 = cm*1.0\n",
    "for ii in range(cm.shape[0]):\n",
    "    cm_row = cm[ii, :]*1.0\n",
    "\n",
    "    cm_row_sum = cm_row.sum()\n",
    "    if cm_row_sum != 0:\n",
    "        cm2[ii, :] = cm_row / cm_row_sum\n",
    "    else:\n",
    "        cm2[ii, :] = np.zeros(cm.shape[1])\n",
    "\n",
    "print(cm2)"
   ]
  },
  {
   "cell_type": "code",
   "execution_count": null,
   "metadata": {},
   "outputs": [],
   "source": [
    "from sklearn.metrics import plot_confusion_matrix\n",
    "from sklearn.metrics._plot.confusion_matrix import ConfusionMatrixDisplay\n",
    "disp = ConfusionMatrixDisplay(confusion_matrix=cm, display_labels=species_list)\n",
    "disp2 = ConfusionMatrixDisplay(confusion_matrix=cm2, display_labels=species_list)"
   ]
  },
  {
   "cell_type": "code",
   "execution_count": null,
   "metadata": {},
   "outputs": [],
   "source": [
    "fig, ax = plt.subplots(figsize=[15, 15])\n",
    "disp.plot(include_values=True,\n",
    "                     cmap='viridis', ax=ax, xticks_rotation='horizontal',\n",
    "                     values_format=None, colorbar=True)\n"
   ]
  },
  {
   "cell_type": "code",
   "execution_count": null,
   "metadata": {},
   "outputs": [],
   "source": [
    "fig, ax = plt.subplots(figsize=[15, 15])\n",
    "disp2.plot(include_values=True,\n",
    "                     cmap='viridis', ax=ax, xticks_rotation='horizontal',\n",
    "                     values_format='.2f', colorbar=True)"
   ]
  },
  {
   "cell_type": "markdown",
   "metadata": {},
   "source": [
    "## HICEAS2002"
   ]
  },
  {
   "cell_type": "code",
   "execution_count": null,
   "metadata": {},
   "outputs": [],
   "source": [
    "ee = deployment[3]\n",
    "print(ee)"
   ]
  },
  {
   "cell_type": "code",
   "execution_count": null,
   "metadata": {},
   "outputs": [],
   "source": [
    "# Training data\n",
    "fea_temp = np.load(os.path.join(feature_path, 'train_oswald_no_'+ee+'.npz'))\n",
    "fea_train = fea_temp['fea_train']\n",
    "label_train_list = fea_temp['label_train']\n",
    "del fea_temp"
   ]
  },
  {
   "cell_type": "code",
   "execution_count": null,
   "metadata": {},
   "outputs": [],
   "source": [
    "label_train = np.zeros(len(label_train_list))\n",
    "for ii in range(len(label_train_list)):\n",
    "    label_train[ii] = species_dict[label_train_list[ii]]"
   ]
  },
  {
   "cell_type": "code",
   "execution_count": null,
   "metadata": {},
   "outputs": [],
   "source": [
    "# Testing data\n",
    "fea_temp = np.load(os.path.join(feature_path, 'oswald_'+ee+'_orig.npz'))\n",
    "fea_test = fea_temp['feas_orig']\n",
    "label_test_list = fea_temp['labels_orig']\n",
    "\n",
    "fea_test = fea_test[:,:100,:]\n",
    "label_test = np.zeros(len(label_test_list))\n",
    "for ii in range(len(label_test_list)):\n",
    "    label_test[ii] = species_dict[label_test_list[ii]]"
   ]
  },
  {
   "cell_type": "code",
   "execution_count": null,
   "metadata": {},
   "outputs": [],
   "source": [
    "fea_train = fea_train[:,:100,:]"
   ]
  },
  {
   "cell_type": "code",
   "execution_count": null,
   "metadata": {},
   "outputs": [],
   "source": [
    "label_train = np.zeros(len(label_train_list))\n",
    "for ii in range(len(label_train_list)):\n",
    "    label_train[ii] = species_dict[label_train_list[ii]]"
   ]
  },
  {
   "cell_type": "code",
   "execution_count": null,
   "metadata": {
    "scrolled": true
   },
   "outputs": [],
   "source": [
    "Counter(label_train_list)"
   ]
  },
  {
   "cell_type": "code",
   "execution_count": null,
   "metadata": {},
   "outputs": [],
   "source": [
    "Counter(label_test.tolist())"
   ]
  },
  {
   "cell_type": "code",
   "execution_count": null,
   "metadata": {},
   "outputs": [],
   "source": [
    "fit_result_path2 = os.path.join(fit_result_path1, ee)\n",
    "if not os.path.exists(fit_result_path2):\n",
    "    makedirs(fit_result_path2)"
   ]
  },
  {
   "cell_type": "code",
   "execution_count": null,
   "metadata": {},
   "outputs": [],
   "source": [
    "print('feature train shape: '+str(fea_train.shape))\n",
    "print('feature test shape: '+str(fea_test.shape))\n",
    "print('label train shape: '+str(label_train.shape))\n",
    "print('label test shape: '+str(label_test.shape))\n",
    "\n",
    "dim_time = fea_train.shape[1]\n",
    "dim_freq = fea_train.shape[2]\n",
    "print('dim_time: '+str(dim_time))\n",
    "print('dim_freq: '+str(dim_freq))"
   ]
  },
  {
   "cell_type": "code",
   "execution_count": null,
   "metadata": {},
   "outputs": [],
   "source": [
    "# shuffle features & labels\n",
    "fea_train, label_train = shuffle(fea_train, label_train, random_state=0)\n",
    "fea_test, label_test = shuffle(fea_test, label_test, random_state=0)"
   ]
  },
  {
   "cell_type": "code",
   "execution_count": null,
   "metadata": {},
   "outputs": [],
   "source": [
    "# class weight\n",
    "weights = compute_class_weight(class_weight='balanced', classes=np.unique(label_train), y=label_train)\n",
    "\n",
    "class_weights = dict()\n",
    "for ii in range(num_species):\n",
    "    class_weights[ii] = weights[ii]"
   ]
  },
  {
   "cell_type": "code",
   "execution_count": null,
   "metadata": {},
   "outputs": [],
   "source": [
    "fea_train = np.expand_dims(fea_train, axis=3)\n",
    "fea_test = np.expand_dims(fea_test, axis=3)"
   ]
  },
  {
   "cell_type": "code",
   "execution_count": null,
   "metadata": {},
   "outputs": [],
   "source": [
    "fea_train, fea_validate, label_train, label_validate = train_test_split(fea_train, label_train, test_size=0.10, random_state=42)\n",
    "\n",
    "train_generator = DataGenerator(fea_train, label_train, batch_size=batch_size, num_classes=num_species)\n",
    "del fea_train\n",
    "validate_generator = DataGenerator(fea_validate, label_validate, batch_size=batch_size, num_classes=num_species)\n",
    "del fea_validate\n",
    "\n",
    "# test_generator = DataGenerator(fea_test, label_test, batch_size=batch_size, num_classes=num_species)\n"
   ]
  },
  {
   "cell_type": "markdown",
   "metadata": {},
   "source": [
    "### Training the model"
   ]
  },
  {
   "cell_type": "code",
   "execution_count": null,
   "metadata": {
    "scrolled": true
   },
   "outputs": [],
   "source": [
    "# model = model_cnn14_attention_multi(dim_time, dim_freq, num_species, model_type='feature_level_attention', conv_dim=conv_dim, pool_size=pool_size, pool_stride=pool_stride, hidden_units=hidden_units, l2_regu=l2_regu, drop_rate=drop_rate)\n",
    "# model = model_cnn14_spp(dim_time, dim_freq, num_species, conv_dim=conv_dim, pool_size=pool_size, pool_stride=pool_stride, hidden_units=hidden_units, l2_regu=l2_regu, drop_rate=drop_rate)\n",
    "model = model_conv_lstm(dim_time, dim_freq, num_species, conv_dim=conv_dim, pool_size=pool_size, pool_stride=pool_stride, hidden_units=hidden_units, l2_regu=l2_regu, drop_rate=drop_rate)\n",
    "# loss = CategoricalCrossentropy()\n",
    "loss = binary_crossentropy\n",
    "model.compile(optimizer=tf.keras.optimizers.Adam(learning_rate=learning_rate_fn), loss=loss, metrics=['accuracy'])\n",
    "\n",
    "# With classes\n",
    "# history = model.fit(fea_train, to_categorical(label_train), class_weight=class_weights, validation_split=0.3, batch_size=batch_size, epochs=num_epoch, callbacks=[EarlyStopping(patience=num_patience), ModelCheckpoint(filepath=os.path.join(fit_result_path, '{epoch:02d}-{val_loss:.4f}.hdf5'), verbose=1, monitor=\"val_loss\", save_best_only=True)])\n",
    "# history = model.fit(train_generator, validation_data=validate_generator, class_weight=class_weights, epochs=num_epoch, callbacks=[EarlyStopping(patience=num_patience, monitor='val_loss', mode='min', verbose=1), TensorBoard(log_dir=fit_result_path1), ModelCheckpoint(filepath=os.path.join(fit_result_path1, '{epoch:02d}-{val_loss:.4f}.hdf5'), verbose=1, monitor=\"val_loss\", save_best_only=True)])\n",
    "# history = model.fit(train_generator, validation_data=validate_generator, class_weight=class_weights, epochs=num_epoch, callbacks=[EarlyStopping(patience=num_patience, monitor='val_loss', mode='min', verbose=1), TensorBoard(log_dir=fit_result_path2), ModelCheckpoint(filepath=os.path.join(fit_result_path2, 'epoch_{epoch:02d}_valloss_{val_loss:.4f}_valacc_{val_accuracy:.4f}.hdf5' ), verbose=1, monitor=\"val_accuracy\", save_best_only=True)])\n",
    "history = model.fit(train_generator, validation_data=validate_generator, class_weight=class_weights, epochs=num_epoch, callbacks=[EarlyStopping(patience=num_patience, monitor='val_accuracy', mode='max', verbose=1), TensorBoard(log_dir=fit_result_path2), ModelCheckpoint(filepath=os.path.join(fit_result_path2, 'epoch_{epoch:02d}_valloss_{val_loss:.4f}_valacc_{val_accuracy:.4f}.hdf5' ), verbose=1, monitor=\"val_accuracy\", save_best_only=True)])"
   ]
  },
  {
   "cell_type": "code",
   "execution_count": null,
   "metadata": {},
   "outputs": [],
   "source": [
    "# fit_result_path1 = '/home/ys587/__Data/__whistle/__whislte_30_species/__fit_result_species/20210210_224527'\n",
    "the_best_model, _ = find_best_model(fit_result_path2, purge=False)"
   ]
  },
  {
   "cell_type": "code",
   "execution_count": null,
   "metadata": {
    "scrolled": true
   },
   "outputs": [],
   "source": [
    "model = load_model(the_best_model)\n",
    "model.summary()"
   ]
  },
  {
   "cell_type": "code",
   "execution_count": null,
   "metadata": {},
   "outputs": [],
   "source": [
    "label_pred = model.predict(fea_test)\n",
    "# label_pred = model.predict(test_generator)"
   ]
  },
  {
   "cell_type": "code",
   "execution_count": null,
   "metadata": {},
   "outputs": [],
   "source": [
    "np.set_printoptions(linewidth=200, precision=2, suppress=True)"
   ]
  },
  {
   "cell_type": "code",
   "execution_count": null,
   "metadata": {},
   "outputs": [],
   "source": [
    "print(\"Confusion matrix:\")\n",
    "cm = confusion_matrix(label_test, np.argmax(label_pred, axis=1), labels=species_id)\n",
    "\n",
    "print(species_list)\n",
    "print('')\n",
    "print(cm)\n",
    "print('')\n",
    "\n",
    "cm2 = cm*1.0\n",
    "for ii in range(cm.shape[0]):\n",
    "    cm_row = cm[ii, :]*1.0\n",
    "\n",
    "    cm_row_sum = cm_row.sum()\n",
    "    if cm_row_sum != 0:\n",
    "        cm2[ii, :] = cm_row / cm_row_sum\n",
    "    else:\n",
    "        cm2[ii, :] = np.zeros(cm.shape[1])\n",
    "\n",
    "print(cm2)"
   ]
  },
  {
   "cell_type": "code",
   "execution_count": null,
   "metadata": {},
   "outputs": [],
   "source": [
    "from sklearn.metrics import plot_confusion_matrix\n",
    "from sklearn.metrics._plot.confusion_matrix import ConfusionMatrixDisplay\n",
    "disp = ConfusionMatrixDisplay(confusion_matrix=cm, display_labels=species_list)\n",
    "disp2 = ConfusionMatrixDisplay(confusion_matrix=cm2, display_labels=species_list)"
   ]
  },
  {
   "cell_type": "code",
   "execution_count": null,
   "metadata": {},
   "outputs": [],
   "source": [
    "fig, ax = plt.subplots(figsize=[15, 15])\n",
    "disp.plot(include_values=True,\n",
    "                     cmap='viridis', ax=ax, xticks_rotation='horizontal',\n",
    "                     values_format=None, colorbar=True)\n"
   ]
  },
  {
   "cell_type": "code",
   "execution_count": null,
   "metadata": {},
   "outputs": [],
   "source": [
    "fig, ax = plt.subplots(figsize=[15, 15])\n",
    "disp2.plot(include_values=True,\n",
    "                     cmap='viridis', ax=ax, xticks_rotation='horizontal',\n",
    "                     values_format='.2f', colorbar=True)"
   ]
  },
  {
   "cell_type": "markdown",
   "metadata": {},
   "source": [
    "## PICES2005"
   ]
  },
  {
   "cell_type": "code",
   "execution_count": null,
   "metadata": {},
   "outputs": [],
   "source": [
    "ee = deployment[4]\n",
    "print(ee)"
   ]
  },
  {
   "cell_type": "code",
   "execution_count": null,
   "metadata": {},
   "outputs": [],
   "source": [
    "# Training data\n",
    "fea_temp = np.load(os.path.join(feature_path, 'train_oswald_no_'+ee+'.npz'))\n",
    "fea_train = fea_temp['fea_train']\n",
    "label_train_list = fea_temp['label_train']\n",
    "del fea_temp"
   ]
  },
  {
   "cell_type": "code",
   "execution_count": null,
   "metadata": {},
   "outputs": [],
   "source": [
    "label_train = np.zeros(len(label_train_list))\n",
    "for ii in range(len(label_train_list)):\n",
    "    label_train[ii] = species_dict[label_train_list[ii]]"
   ]
  },
  {
   "cell_type": "code",
   "execution_count": null,
   "metadata": {},
   "outputs": [],
   "source": [
    "# Testing data\n",
    "fea_temp = np.load(os.path.join(feature_path, 'oswald_'+ee+'_orig.npz'))\n",
    "fea_test = fea_temp['feas_orig']\n",
    "label_test_list = fea_temp['labels_orig']\n",
    "\n",
    "fea_test = fea_test[:,:100,:]\n",
    "label_test = np.zeros(len(label_test_list))\n",
    "for ii in range(len(label_test_list)):\n",
    "    label_test[ii] = species_dict[label_test_list[ii]]"
   ]
  },
  {
   "cell_type": "code",
   "execution_count": null,
   "metadata": {},
   "outputs": [],
   "source": [
    "fea_train = fea_train[:,:100,:]"
   ]
  },
  {
   "cell_type": "code",
   "execution_count": null,
   "metadata": {},
   "outputs": [],
   "source": [
    "label_train = np.zeros(len(label_train_list))\n",
    "for ii in range(len(label_train_list)):\n",
    "    label_train[ii] = species_dict[label_train_list[ii]]"
   ]
  },
  {
   "cell_type": "code",
   "execution_count": null,
   "metadata": {
    "scrolled": true
   },
   "outputs": [],
   "source": [
    "Counter(label_train_list)"
   ]
  },
  {
   "cell_type": "code",
   "execution_count": null,
   "metadata": {},
   "outputs": [],
   "source": [
    "Counter(label_test.tolist())"
   ]
  },
  {
   "cell_type": "code",
   "execution_count": null,
   "metadata": {},
   "outputs": [],
   "source": [
    "fit_result_path2 = os.path.join(fit_result_path1, ee)\n",
    "if not os.path.exists(fit_result_path2):\n",
    "    makedirs(fit_result_path2)"
   ]
  },
  {
   "cell_type": "code",
   "execution_count": null,
   "metadata": {},
   "outputs": [],
   "source": [
    "print('feature train shape: '+str(fea_train.shape))\n",
    "print('feature test shape: '+str(fea_test.shape))\n",
    "print('label train shape: '+str(label_train.shape))\n",
    "print('label test shape: '+str(label_test.shape))\n",
    "\n",
    "dim_time = fea_train.shape[1]\n",
    "dim_freq = fea_train.shape[2]\n",
    "print('dim_time: '+str(dim_time))\n",
    "print('dim_freq: '+str(dim_freq))"
   ]
  },
  {
   "cell_type": "code",
   "execution_count": null,
   "metadata": {},
   "outputs": [],
   "source": [
    "# shuffle features & labels\n",
    "fea_train, label_train = shuffle(fea_train, label_train, random_state=0)\n",
    "fea_test, label_test = shuffle(fea_test, label_test, random_state=0)"
   ]
  },
  {
   "cell_type": "code",
   "execution_count": null,
   "metadata": {},
   "outputs": [],
   "source": [
    "# class weight\n",
    "weights = compute_class_weight(class_weight='balanced', classes=np.unique(label_train), y=label_train)\n",
    "\n",
    "class_weights = dict()\n",
    "for ii in range(num_species):\n",
    "    class_weights[ii] = weights[ii]"
   ]
  },
  {
   "cell_type": "code",
   "execution_count": null,
   "metadata": {},
   "outputs": [],
   "source": [
    "fea_train = np.expand_dims(fea_train, axis=3)\n",
    "fea_test = np.expand_dims(fea_test, axis=3)"
   ]
  },
  {
   "cell_type": "code",
   "execution_count": null,
   "metadata": {},
   "outputs": [],
   "source": [
    "fea_train, fea_validate, label_train, label_validate = train_test_split(fea_train, label_train, test_size=0.10, random_state=42)\n",
    "\n",
    "train_generator = DataGenerator(fea_train, label_train, batch_size=batch_size, num_classes=num_species)\n",
    "del fea_train\n",
    "validate_generator = DataGenerator(fea_validate, label_validate, batch_size=batch_size, num_classes=num_species)\n",
    "del fea_validate\n",
    "\n",
    "# test_generator = DataGenerator(fea_test, label_test, batch_size=batch_size, num_classes=num_species)\n"
   ]
  },
  {
   "cell_type": "markdown",
   "metadata": {},
   "source": [
    "### Training the model"
   ]
  },
  {
   "cell_type": "code",
   "execution_count": null,
   "metadata": {
    "scrolled": true
   },
   "outputs": [],
   "source": [
    "# model = model_cnn14_attention_multi(dim_time, dim_freq, num_species, model_type='feature_level_attention', conv_dim=conv_dim, pool_size=pool_size, pool_stride=pool_stride, hidden_units=hidden_units, l2_regu=l2_regu, drop_rate=drop_rate)\n",
    "# model = model_cnn14_spp(dim_time, dim_freq, num_species, conv_dim=conv_dim, pool_size=pool_size, pool_stride=pool_stride, hidden_units=hidden_units, l2_regu=l2_regu, drop_rate=drop_rate)\n",
    "model = model_conv_lstm(dim_time, dim_freq, num_species, conv_dim=conv_dim, pool_size=pool_size, pool_stride=pool_stride, hidden_units=hidden_units, l2_regu=l2_regu, drop_rate=drop_rate)\n",
    "# loss = CategoricalCrossentropy()\n",
    "loss = binary_crossentropy\n",
    "model.compile(optimizer=tf.keras.optimizers.Adam(learning_rate=learning_rate_fn), loss=loss, metrics=['accuracy'])\n",
    "\n",
    "# With classes\n",
    "# history = model.fit(fea_train, to_categorical(label_train), class_weight=class_weights, validation_split=0.3, batch_size=batch_size, epochs=num_epoch, callbacks=[EarlyStopping(patience=num_patience), ModelCheckpoint(filepath=os.path.join(fit_result_path, '{epoch:02d}-{val_loss:.4f}.hdf5'), verbose=1, monitor=\"val_loss\", save_best_only=True)])\n",
    "# history = model.fit(train_generator, validation_data=validate_generator, class_weight=class_weights, epochs=num_epoch, callbacks=[EarlyStopping(patience=num_patience, monitor='val_loss', mode='min', verbose=1), TensorBoard(log_dir=fit_result_path1), ModelCheckpoint(filepath=os.path.join(fit_result_path1, '{epoch:02d}-{val_loss:.4f}.hdf5'), verbose=1, monitor=\"val_loss\", save_best_only=True)])\n",
    "# history = model.fit(train_generator, validation_data=validate_generator, class_weight=class_weights, epochs=num_epoch, callbacks=[EarlyStopping(patience=num_patience, monitor='val_loss', mode='min', verbose=1), TensorBoard(log_dir=fit_result_path2), ModelCheckpoint(filepath=os.path.join(fit_result_path2, 'epoch_{epoch:02d}_valloss_{val_loss:.4f}_valacc_{val_accuracy:.4f}.hdf5' ), verbose=1, monitor=\"val_accuracy\", save_best_only=True)])\n",
    "history = model.fit(train_generator, validation_data=validate_generator, class_weight=class_weights, epochs=num_epoch, callbacks=[EarlyStopping(patience=num_patience, monitor='val_accuracy', mode='max', verbose=1), TensorBoard(log_dir=fit_result_path2), ModelCheckpoint(filepath=os.path.join(fit_result_path2, 'epoch_{epoch:02d}_valloss_{val_loss:.4f}_valacc_{val_accuracy:.4f}.hdf5' ), verbose=1, monitor=\"val_accuracy\", save_best_only=True)])"
   ]
  },
  {
   "cell_type": "code",
   "execution_count": null,
   "metadata": {},
   "outputs": [],
   "source": [
    "# fit_result_path1 = '/home/ys587/__Data/__whistle/__whislte_30_species/__fit_result_species/20210210_224527'\n",
    "the_best_model, _ = find_best_model(fit_result_path2, purge=False)"
   ]
  },
  {
   "cell_type": "code",
   "execution_count": null,
   "metadata": {
    "scrolled": true
   },
   "outputs": [],
   "source": [
    "model = load_model(the_best_model)\n",
    "model.summary()"
   ]
  },
  {
   "cell_type": "code",
   "execution_count": null,
   "metadata": {},
   "outputs": [],
   "source": [
    "label_pred = model.predict(fea_test)\n",
    "# label_pred = model.predict(test_generator)"
   ]
  },
  {
   "cell_type": "code",
   "execution_count": null,
   "metadata": {},
   "outputs": [],
   "source": [
    "np.set_printoptions(linewidth=200, precision=2, suppress=True)"
   ]
  },
  {
   "cell_type": "code",
   "execution_count": null,
   "metadata": {},
   "outputs": [],
   "source": [
    "print(\"Confusion matrix:\")\n",
    "cm = confusion_matrix(label_test, np.argmax(label_pred, axis=1), labels=species_id)\n",
    "\n",
    "print(species_list)\n",
    "print('')\n",
    "print(cm)\n",
    "print('')\n",
    "\n",
    "cm2 = cm*1.0\n",
    "for ii in range(cm.shape[0]):\n",
    "    cm_row = cm[ii, :]*1.0\n",
    "\n",
    "    cm_row_sum = cm_row.sum()\n",
    "    if cm_row_sum != 0:\n",
    "        cm2[ii, :] = cm_row / cm_row_sum\n",
    "    else:\n",
    "        cm2[ii, :] = np.zeros(cm.shape[1])\n",
    "\n",
    "print(cm2)"
   ]
  },
  {
   "cell_type": "code",
   "execution_count": null,
   "metadata": {},
   "outputs": [],
   "source": [
    "from sklearn.metrics import plot_confusion_matrix\n",
    "from sklearn.metrics._plot.confusion_matrix import ConfusionMatrixDisplay\n",
    "disp = ConfusionMatrixDisplay(confusion_matrix=cm, display_labels=species_list)\n",
    "disp2 = ConfusionMatrixDisplay(confusion_matrix=cm2, display_labels=species_list)"
   ]
  },
  {
   "cell_type": "code",
   "execution_count": null,
   "metadata": {},
   "outputs": [],
   "source": [
    "fig, ax = plt.subplots(figsize=[15, 15])\n",
    "disp.plot(include_values=True,\n",
    "                     cmap='viridis', ax=ax, xticks_rotation='horizontal',\n",
    "                     values_format=None, colorbar=True)\n"
   ]
  },
  {
   "cell_type": "code",
   "execution_count": null,
   "metadata": {},
   "outputs": [],
   "source": [
    "fig, ax = plt.subplots(figsize=[15, 15])\n",
    "disp2.plot(include_values=True,\n",
    "                     cmap='viridis', ax=ax, xticks_rotation='horizontal',\n",
    "                     values_format='.2f', colorbar=True)"
   ]
  },
  {
   "cell_type": "code",
   "execution_count": null,
   "metadata": {},
   "outputs": [],
   "source": []
  },
  {
   "cell_type": "code",
   "execution_count": null,
   "metadata": {},
   "outputs": [],
   "source": []
  },
  {
   "cell_type": "code",
   "execution_count": null,
   "metadata": {},
   "outputs": [],
   "source": []
  },
  {
   "cell_type": "code",
   "execution_count": null,
   "metadata": {},
   "outputs": [],
   "source": []
  },
  {
   "cell_type": "code",
   "execution_count": null,
   "metadata": {},
   "outputs": [],
   "source": []
  },
  {
   "cell_type": "code",
   "execution_count": null,
   "metadata": {},
   "outputs": [],
   "source": []
  }
 ],
 "metadata": {
  "kernelspec": {
   "display_name": "Python 3",
   "language": "python",
   "name": "python3"
  },
  "language_info": {
   "codemirror_mode": {
    "name": "ipython",
    "version": 3
   },
   "file_extension": ".py",
   "mimetype": "text/x-python",
   "name": "python",
   "nbconvert_exporter": "python",
   "pygments_lexer": "ipython3",
   "version": "3.8.6"
  }
 },
 "nbformat": 4,
 "nbformat_minor": 4
}
