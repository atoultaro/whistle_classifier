{
 "cells": [
  {
   "cell_type": "markdown",
   "id": "strange-playing",
   "metadata": {},
   "source": [
    "## Detection of dolphin whistles on each file & encounter"
   ]
  },
  {
   "cell_type": "code",
   "execution_count": 12,
   "id": "unlike-wyoming",
   "metadata": {},
   "outputs": [],
   "source": [
    "import os\n",
    "import numpy as np\n",
    "from math import floor\n",
    "from lib_augment import load_and_normalize\n",
    "from lib_feature import feature_whistleness\n",
    "\n",
    "%matplotlib inline\n",
    "import matplotlib.pyplot as plt\n",
    "\n",
    "import librosa"
   ]
  },
  {
   "cell_type": "code",
   "execution_count": 2,
   "id": "exterior-asthma",
   "metadata": {},
   "outputs": [],
   "source": [
    "deploy_path = '/home/ys587/__Data/__whistle/__whislte_30_species/__sound_48k/__whistle_oswald/STAR2003_48kHz'\n",
    "species_dict = {'BD': 0, 'CD': 1, 'STR': 2, 'SPT': 3, 'SPIN': 4, 'PLT': 5, 'RT': 6,  'FKW': 7}\n",
    "fs = 48000\n",
    "time_reso = 0.02\n",
    "hop_length = int(time_reso*fs)  #"
   ]
  },
  {
   "cell_type": "code",
   "execution_count": 3,
   "id": "swiss-making",
   "metadata": {},
   "outputs": [],
   "source": [
    "encounter =  os.listdir(deploy_path)\n",
    "encounter.sort()"
   ]
  },
  {
   "cell_type": "code",
   "execution_count": 4,
   "id": "medium-geography",
   "metadata": {
    "scrolled": true
   },
   "outputs": [
    {
     "data": {
      "text/plain": [
       "['bottlenose s494',\n",
       " 'bottlenose s516',\n",
       " 'bottlenose s586',\n",
       " 'false_killer s776',\n",
       " 'longbeaked_common s482',\n",
       " 'shortbeaked_common s489',\n",
       " 'shortbeaked_common s627',\n",
       " 'shortbeaked_common s628',\n",
       " 'shortbeaked_common s631',\n",
       " 'shortbeaked_common s640',\n",
       " 'shortbeaked_common s792',\n",
       " 'spinner s757',\n",
       " 'spotted s508',\n",
       " 'spotted s511',\n",
       " 'striped s652',\n",
       " 'striped s784',\n",
       " 'striped s788']"
      ]
     },
     "execution_count": 4,
     "metadata": {},
     "output_type": "execute_result"
    }
   ],
   "source": [
    "encounter"
   ]
  },
  {
   "cell_type": "code",
   "execution_count": 5,
   "id": "inner-given",
   "metadata": {},
   "outputs": [],
   "source": [
    "# mapping folder name to species id"
   ]
  },
  {
   "cell_type": "code",
   "execution_count": null,
   "id": "appropriate-affiliation",
   "metadata": {},
   "outputs": [],
   "source": []
  },
  {
   "cell_type": "code",
   "execution_count": 6,
   "id": "obvious-oregon",
   "metadata": {},
   "outputs": [],
   "source": [
    "# loading the trained model\n",
    "from tensorflow.keras.models import load_model\n",
    "import tensorflow_addons.layers.spatial_pyramid_pooling as spp\n",
    "# model_path = '/home/ys587/__Data/__whistle/__whislte_30_species/__fit_result_species/20210303_233728/STAR2000/epoch_53_valloss_0.9505_valacc_0.7552.hdf5'\n",
    "model_path = '/home/ys587/__Data/__whistle/__whislte_30_species/__fit_result_species/20210305_105231/STAR2000/epoch_56_valloss_0.1945_valacc_0.7305.hdf5'\n",
    "base_model = load_model(model_path)"
   ]
  },
  {
   "cell_type": "code",
   "execution_count": null,
   "id": "restricted-maryland",
   "metadata": {},
   "outputs": [],
   "source": []
  },
  {
   "cell_type": "code",
   "execution_count": null,
   "id": "first-friday",
   "metadata": {},
   "outputs": [],
   "source": []
  },
  {
   "cell_type": "code",
   "execution_count": 7,
   "id": "selective-stream",
   "metadata": {},
   "outputs": [],
   "source": [
    "feature_path = '/home/ys587/__Data/__whistle/__whislte_30_species/__dataset/20210223_augment_all_three_noise_mixed_class_balanced_min_5'\n",
    "fea_files = ['oswald_STAR2003_orig.npz', 'train_oswald_no_STAR2000.npz', 'oswald_STAR2003_aug.npz']"
   ]
  },
  {
   "cell_type": "code",
   "execution_count": 8,
   "id": "mineral-administration",
   "metadata": {},
   "outputs": [
    {
     "name": "stdout",
     "output_type": "stream",
     "text": [
      "['feas_orig', 'labels_orig']\n"
     ]
    }
   ],
   "source": [
    "ff = fea_files[0]\n",
    "fea_temp = np.load(os.path.join(feature_path, ff))\n",
    "print(fea_temp.files)\n",
    "\n",
    "fea_train = fea_temp['feas_orig']\n",
    "label_train = fea_temp['labels_orig']"
   ]
  },
  {
   "cell_type": "code",
   "execution_count": 9,
   "id": "relative-ministry",
   "metadata": {},
   "outputs": [],
   "source": [
    "fea_train = np.expand_dims(fea_train[:, :100, :], axis=3)"
   ]
  },
  {
   "cell_type": "code",
   "execution_count": 10,
   "id": "running-immune",
   "metadata": {},
   "outputs": [],
   "source": [
    "label_pred = base_model.predict(fea_train)"
   ]
  },
  {
   "cell_type": "code",
   "execution_count": 13,
   "id": "sharp-gasoline",
   "metadata": {},
   "outputs": [
    {
     "data": {
      "text/plain": [
       "(array([   3.,   11.,   11.,   11.,   18.,   18.,   17.,   24.,   26.,\n",
       "          23.,   23.,   35.,   25.,   32.,   39.,   31.,   52.,   90.,\n",
       "         147., 1134.]),\n",
       " array([0.212331  , 0.25171444, 0.2910979 , 0.33048135, 0.3698648 ,\n",
       "        0.40924823, 0.4486317 , 0.48801515, 0.5273986 , 0.56678206,\n",
       "        0.6061655 , 0.64554894, 0.6849324 , 0.7243158 , 0.7636993 ,\n",
       "        0.80308276, 0.8424662 , 0.88184965, 0.9212331 , 0.9606165 ,\n",
       "        1.        ], dtype=float32),\n",
       " <BarContainer object of 20 artists>)"
      ]
     },
     "execution_count": 13,
     "metadata": {},
     "output_type": "execute_result"
    },
    {
     "data": {
      "image/png": "[encoded data removed]",
      "text/plain": [
       "<Figure size 432x288 with 1 Axes>"
      ]
     },
     "metadata": {
      "needs_background": "light"
     },
     "output_type": "display_data"
    }
   ],
   "source": [
    "plt.hist(label_pred.max(axis=1), 20)"
   ]
  },
  {
   "cell_type": "code",
   "execution_count": 14,
   "id": "empirical-marketplace",
   "metadata": {},
   "outputs": [
    {
     "name": "stdout",
     "output_type": "stream",
     "text": [
      "['fea_train', 'label_train']\n"
     ]
    }
   ],
   "source": [
    "ff = fea_files[1]\n",
    "fea_temp = np.load(os.path.join(feature_path, ff))\n",
    "print(fea_temp.files)\n",
    "\n",
    "fea_train = fea_temp['fea_train']\n",
    "label_train = fea_temp['label_train']"
   ]
  },
  {
   "cell_type": "code",
   "execution_count": 15,
   "id": "suffering-controversy",
   "metadata": {},
   "outputs": [],
   "source": [
    "fea_train = np.expand_dims(fea_train[:, :100, :], axis=3)"
   ]
  },
  {
   "cell_type": "code",
   "execution_count": 16,
   "id": "atlantic-david",
   "metadata": {},
   "outputs": [],
   "source": [
    "label_pred = base_model.predict(fea_train)"
   ]
  },
  {
   "cell_type": "code",
   "execution_count": 17,
   "id": "quantitative-preliminary",
   "metadata": {},
   "outputs": [
    {
     "data": {
      "text/plain": [
       "(array([ 1027.,  2779.,  2666.,  2595.,  2643.,  2684.,  2709.,  2685.,\n",
       "         2833.,  2821.,  2810.,  2771.,  2941.,  2877.,  3103.,  3382.,\n",
       "         3982.,  5158.,  7758., 36742.]),\n",
       " array([0.13854834, 0.18162093, 0.2246935 , 0.2677661 , 0.31083867,\n",
       "        0.35391125, 0.39698383, 0.4400564 , 0.483129  , 0.5262016 ,\n",
       "        0.5692742 , 0.61234677, 0.65541935, 0.69849193, 0.7415645 ,\n",
       "        0.7846371 , 0.8277097 , 0.87078226, 0.91385484, 0.9569274 ,\n",
       "        1.        ], dtype=float32),\n",
       " <BarContainer object of 20 artists>)"
      ]
     },
     "execution_count": 17,
     "metadata": {},
     "output_type": "execute_result"
    },
    {
     "data": {
      "image/png": "[encoded data removed]",
      "text/plain": [
       "<Figure size 432x288 with 1 Axes>"
      ]
     },
     "metadata": {
      "needs_background": "light"
     },
     "output_type": "display_data"
    }
   ],
   "source": [
    "# all the prediction labels\n",
    "plt.hist(label_pred.max(axis=1), 20)"
   ]
  },
  {
   "cell_type": "code",
   "execution_count": 18,
   "id": "every-mailing",
   "metadata": {},
   "outputs": [],
   "source": [
    "# class-wise prob score distribution\n",
    "label_train1 = [species_dict[ii] for ii in label_train]\n",
    "label_train1 = np.array(label_train1)"
   ]
  },
  {
   "cell_type": "code",
   "execution_count": 19,
   "id": "desirable-stationery",
   "metadata": {},
   "outputs": [
    {
     "data": {
      "text/plain": [
       "(array([ 304.,  724.,  779.,  649.,  583.,  477.,  406.,  414.,  343.,\n",
       "         343.,  359.,  346.,  363.,  383.,  432.,  470.,  567.,  757.,\n",
       "        1128., 5201.]),\n",
       " array([3.8550678e-04, 5.0366048e-02, 1.0034659e-01, 1.5032713e-01,\n",
       "        2.0030767e-01, 2.5028822e-01, 3.0026874e-01, 3.5024929e-01,\n",
       "        4.0022981e-01, 4.5021036e-01, 5.0019091e-01, 5.5017143e-01,\n",
       "        6.0015196e-01, 6.5013254e-01, 7.0011306e-01, 7.5009358e-01,\n",
       "        8.0007416e-01, 8.5005468e-01, 9.0003520e-01, 9.5001578e-01,\n",
       "        9.9999630e-01], dtype=float32),\n",
       " <BarContainer object of 20 artists>)"
      ]
     },
     "execution_count": 19,
     "metadata": {},
     "output_type": "execute_result"
    },
    {
     "data": {
      "image/png": "[encoded data removed]",
      "text/plain": [
       "<Figure size 432x288 with 1 Axes>"
      ]
     },
     "metadata": {
      "needs_background": "light"
     },
     "output_type": "display_data"
    }
   ],
   "source": [
    "# BP\n",
    "species_target = 0\n",
    "ind_0 = np.where(label_train1 == species_target)[0]\n",
    "# plt.hist(label_pred[ind_0, :].max(axis=1), 20)\n",
    "plt.hist(label_pred[ind_0, species_target], 20)"
   ]
  },
  {
   "cell_type": "code",
   "execution_count": 20,
   "id": "polished-cheat",
   "metadata": {},
   "outputs": [
    {
     "data": {
      "text/plain": [
       "(array([  97.,   80.,   87.,  122.,  117.,  127.,  112.,   93.,   95.,\n",
       "         104.,  103.,  112.,  109.,  114.,  122.,  130.,  195.,  211.,\n",
       "         385., 2333.]),\n",
       " array([5.4355047e-04, 5.0516374e-02, 1.0048919e-01, 1.5046202e-01,\n",
       "        2.0043483e-01, 2.5040767e-01, 3.0038050e-01, 3.5035330e-01,\n",
       "        4.0032613e-01, 4.5029896e-01, 5.0027180e-01, 5.5024457e-01,\n",
       "        6.0021740e-01, 6.5019023e-01, 7.0016307e-01, 7.5013590e-01,\n",
       "        8.0010873e-01, 8.5008150e-01, 9.0005434e-01, 9.5002717e-01,\n",
       "        1.0000000e+00], dtype=float32),\n",
       " <BarContainer object of 20 artists>)"
      ]
     },
     "execution_count": 20,
     "metadata": {},
     "output_type": "execute_result"
    },
    {
     "data": {
      "image/png": "[encoded data removed]",
      "text/plain": [
       "<Figure size 432x288 with 1 Axes>"
      ]
     },
     "metadata": {
      "needs_background": "light"
     },
     "output_type": "display_data"
    }
   ],
   "source": [
    "# CD\n",
    "species_target = 1\n",
    "ind_0 = np.where(label_train1 == species_target)[0]\n",
    "# plt.hist(label_pred[ind_0, :].max(axis=1), 20)\n",
    "plt.hist(label_pred[ind_0, species_target], 20)"
   ]
  },
  {
   "cell_type": "code",
   "execution_count": 21,
   "id": "advisory-protest",
   "metadata": {},
   "outputs": [
    {
     "data": {
      "text/plain": [
       "(array([ 259.,  642.,  739.,  653.,  551.,  513.,  473.,  400.,  373.,\n",
       "         377.,  357.,  353.,  369.,  362.,  381.,  459.,  512.,  680.,\n",
       "        1080., 2995.]),\n",
       " array([5.6541956e-04, 5.0534848e-02, 1.0050428e-01, 1.5047370e-01,\n",
       "        2.0044313e-01, 2.5041255e-01, 3.0038199e-01, 3.5035142e-01,\n",
       "        4.0032086e-01, 4.5029026e-01, 5.0025970e-01, 5.5022913e-01,\n",
       "        6.0019857e-01, 6.5016800e-01, 7.0013744e-01, 7.5010687e-01,\n",
       "        8.0007625e-01, 8.5004568e-01, 9.0001512e-01, 9.4998455e-01,\n",
       "        9.9995399e-01], dtype=float32),\n",
       " <BarContainer object of 20 artists>)"
      ]
     },
     "execution_count": 21,
     "metadata": {},
     "output_type": "execute_result"
    },
    {
     "data": {
      "image/png": "[encoded data removed]",
      "text/plain": [
       "<Figure size 432x288 with 1 Axes>"
      ]
     },
     "metadata": {
      "needs_background": "light"
     },
     "output_type": "display_data"
    }
   ],
   "source": [
    "# STR\n",
    "species_target = 2\n",
    "ind_0 = np.where(label_train1 == species_target)[0]\n",
    "# plt.hist(label_pred[ind_0, :].max(axis=1), 20)\n",
    "plt.hist(label_pred[ind_0, species_target], 20)"
   ]
  },
  {
   "cell_type": "code",
   "execution_count": 22,
   "id": "banner-calgary",
   "metadata": {},
   "outputs": [
    {
     "data": {
      "text/plain": [
       "(array([ 231.,  343.,  724.,  676.,  563.,  446.,  399.,  375.,  318.,\n",
       "         319.,  317.,  314.,  294.,  332.,  327.,  384.,  422.,  621.,\n",
       "         913., 5118.]),\n",
       " array([1.2367967e-04, 5.0117496e-02, 1.0011131e-01, 1.5010513e-01,\n",
       "        2.0009895e-01, 2.5009277e-01, 3.0008659e-01, 3.5008040e-01,\n",
       "        4.0007421e-01, 4.5006803e-01, 5.0006187e-01, 5.5005568e-01,\n",
       "        6.0004950e-01, 6.5004331e-01, 7.0003712e-01, 7.5003093e-01,\n",
       "        8.0002475e-01, 8.5001856e-01, 9.0001237e-01, 9.5000619e-01,\n",
       "        1.0000000e+00], dtype=float32),\n",
       " <BarContainer object of 20 artists>)"
      ]
     },
     "execution_count": 22,
     "metadata": {},
     "output_type": "execute_result"
    },
    {
     "data": {
      "image/png": "[encoded data removed]",
      "text/plain": [
       "<Figure size 432x288 with 1 Axes>"
      ]
     },
     "metadata": {
      "needs_background": "light"
     },
     "output_type": "display_data"
    }
   ],
   "source": [
    "# SPT\n",
    "species_target = 3\n",
    "ind_0 = np.where(label_train1 == species_target)[0]\n",
    "# plt.hist(label_pred[ind_0, :].max(axis=1), 20)\n",
    "plt.hist(label_pred[ind_0, species_target], 20)"
   ]
  },
  {
   "cell_type": "code",
   "execution_count": 23,
   "id": "monthly-gilbert",
   "metadata": {},
   "outputs": [
    {
     "data": {
      "text/plain": [
       "array(['BD', 'BD', 'BD', ..., 'STR', 'STR', 'STR'], dtype='<U4')"
      ]
     },
     "execution_count": 23,
     "metadata": {},
     "output_type": "execute_result"
    }
   ],
   "source": [
    "label_train"
   ]
  },
  {
   "cell_type": "code",
   "execution_count": null,
   "id": "early-collapse",
   "metadata": {},
   "outputs": [],
   "source": []
  },
  {
   "cell_type": "code",
   "execution_count": null,
   "id": "curious-brush",
   "metadata": {},
   "outputs": [],
   "source": []
  },
  {
   "cell_type": "code",
   "execution_count": null,
   "id": "scheduled-active",
   "metadata": {},
   "outputs": [],
   "source": []
  },
  {
   "cell_type": "code",
   "execution_count": null,
   "id": "natural-faith",
   "metadata": {},
   "outputs": [],
   "source": [
    "plt.hist(label_pred.flatten(), 20)"
   ]
  },
  {
   "cell_type": "code",
   "execution_count": null,
   "id": "transparent-bidding",
   "metadata": {},
   "outputs": [],
   "source": [
    "label_train1 = [species_dict[ii] for ii in label_train]"
   ]
  },
  {
   "cell_type": "code",
   "execution_count": null,
   "id": "julian-activation",
   "metadata": {},
   "outputs": [],
   "source": [
    "label_train = np.zeros(len(label_train_list))\n",
    "for ii in range(len(label_train_list)):\n",
    "    label_train[ii] = species_dict[label_train_list[ii]]"
   ]
  },
  {
   "cell_type": "code",
   "execution_count": null,
   "id": "requested-talent",
   "metadata": {},
   "outputs": [],
   "source": [
    "n1 = 30000\n",
    "n2 = 30100\n",
    "print(label_train[n1:n2])\n",
    "label_pred = base_model.predict(fea_train[n1:n2, :])"
   ]
  },
  {
   "cell_type": "code",
   "execution_count": null,
   "id": "emerging-newsletter",
   "metadata": {},
   "outputs": [],
   "source": [
    "from tensorflow.keras.utils import to_categorical\n",
    "plt.matshow(to_categorical(label_train1)[n1:n2, :].T)"
   ]
  },
  {
   "cell_type": "code",
   "execution_count": null,
   "id": "allied-client",
   "metadata": {},
   "outputs": [],
   "source": [
    "plt.matshow(label_pred.T)"
   ]
  },
  {
   "cell_type": "code",
   "execution_count": null,
   "id": "experienced-playlist",
   "metadata": {},
   "outputs": [],
   "source": [
    "label_argmax = np.argmax(label_pred, axis=1)\n",
    "plt.matshow(to_categorical(label_argmax).T)"
   ]
  },
  {
   "cell_type": "code",
   "execution_count": null,
   "id": "coral-photographer",
   "metadata": {},
   "outputs": [],
   "source": [
    "np.where()"
   ]
  },
  {
   "cell_type": "code",
   "execution_count": null,
   "id": "dirty-vegetarian",
   "metadata": {},
   "outputs": [],
   "source": []
  },
  {
   "cell_type": "code",
   "execution_count": null,
   "id": "champion-onion",
   "metadata": {},
   "outputs": [],
   "source": []
  },
  {
   "cell_type": "code",
   "execution_count": null,
   "id": "removable-cambodia",
   "metadata": {},
   "outputs": [],
   "source": []
  },
  {
   "cell_type": "code",
   "execution_count": null,
   "id": "maritime-science",
   "metadata": {},
   "outputs": [],
   "source": []
  },
  {
   "cell_type": "code",
   "execution_count": null,
   "id": "intended-specification",
   "metadata": {},
   "outputs": [],
   "source": []
  },
  {
   "cell_type": "code",
   "execution_count": null,
   "id": "dedicated-administration",
   "metadata": {},
   "outputs": [],
   "source": [
    "def prediction_enounter(encounter_folder):\n",
    "    sound_files = os.listdir(encounter_folder)\n",
    "\n",
    "    spec_feas_curr = []\n",
    "    for ff in sound_files:\n",
    "    # for ff in [sound_files[1]]:\n",
    "        print(ff)\n",
    "        samples, _ = librosa.load(os.path.join(encounter_folder, ff), sr=fs)\n",
    "        print('Sound length: '+str(samples.shape[0]/fs))\n",
    "        if samples.ndim >= 2:\n",
    "            samples = samples[:, 0]\n",
    "\n",
    "        for ss in range(floor((samples.shape[0]-win_size)/step_size)+1):\n",
    "            samples_curr = samples[ss*step_size:ss*step_size+win_size]\n",
    "            samples_curr = samples_curr - samples_curr.mean()\n",
    "\n",
    "            spectro = librosa.feature.melspectrogram(samples_curr,sr=fs, hop_length=960)\n",
    "            # spectro = librosa.feature.melspectrogram(samples_curr,sr=fs)\n",
    "            spec_feas_curr.append(feature_whistleness(spectro))\n",
    "    spec_feas = np.stack(spec_feas_curr)\n",
    "    spec_feas = np.expand_dims(spec_feas[:, :100, :], axis=3)\n",
    "    \n",
    "    score = base_model.predict(spec_feas)\n",
    "    \n",
    "    return score"
   ]
  },
  {
   "cell_type": "code",
   "execution_count": null,
   "id": "living-qualification",
   "metadata": {},
   "outputs": [],
   "source": [
    "\n",
    "# step_size = int(1.0*fs)\n",
    "step_size = int(0.1*fs)\n",
    "win_size = int(2.0*fs)"
   ]
  },
  {
   "cell_type": "markdown",
   "id": "broadband-enlargement",
   "metadata": {},
   "source": [
    "## Bottlenoise dolphin"
   ]
  },
  {
   "cell_type": "code",
   "execution_count": null,
   "id": "heated-discovery",
   "metadata": {},
   "outputs": [],
   "source": [
    "# run on a encounter encounter[0]\n",
    "ee = encounter[0]\n",
    "print(ee)\n",
    "encounter_folder = os.path.join(deploy_path, ee)\n",
    "score = prediction_enounter(encounter_folder)\n",
    "\n",
    "fig, ax = plt.subplots(1, 2, figsize=(14, 6))\n",
    "ax[0].bar(list(species_dict.keys()), np.sqrt((score**2.0).sum(axis=0)))\n",
    "ax[1].bar(list(species_dict.keys()), score.max(axis=0))"
   ]
  },
  {
   "cell_type": "markdown",
   "id": "legal-professional",
   "metadata": {},
   "source": [
    "## Common dolphin"
   ]
  },
  {
   "cell_type": "code",
   "execution_count": null,
   "id": "eastern-thumbnail",
   "metadata": {},
   "outputs": [],
   "source": [
    "ee = encounter[10]\n",
    "print(ee+'\\n')\n",
    "encounter_folder = os.path.join(deploy_path, ee)\n",
    "score = prediction_enounter(encounter_folder)\n",
    "\n",
    "fig, ax = plt.subplots(1, 2, figsize=(14, 6))\n",
    "ax[0].bar(list(species_dict.keys()), np.sqrt((score**2.0).sum(axis=0)))\n",
    "ax[1].bar(list(species_dict.keys()), score.max(axis=0))"
   ]
  },
  {
   "cell_type": "markdown",
   "id": "synthetic-supervisor",
   "metadata": {},
   "source": [
    "## Common"
   ]
  },
  {
   "cell_type": "code",
   "execution_count": null,
   "id": "apart-cowboy",
   "metadata": {},
   "outputs": [],
   "source": [
    "ee = encounter[5]\n",
    "print(ee+'\\n')\n",
    "encounter_folder = os.path.join(deploy_path, ee)\n",
    "score = prediction_enounter(encounter_folder)\n",
    "\n",
    "fig, ax = plt.subplots(1, 2, figsize=(14, 6))\n",
    "ax[0].bar(list(species_dict.keys()), np.sqrt((score**2.0).sum(axis=0)))\n",
    "ax[1].bar(list(species_dict.keys()), score.max(axis=0))"
   ]
  },
  {
   "cell_type": "code",
   "execution_count": null,
   "id": "naked-choir",
   "metadata": {},
   "outputs": [],
   "source": [
    "encounter"
   ]
  },
  {
   "cell_type": "markdown",
   "id": "everyday-singles",
   "metadata": {},
   "source": [
    "## False killer whale"
   ]
  },
  {
   "cell_type": "code",
   "execution_count": null,
   "id": "vulnerable-signal",
   "metadata": {},
   "outputs": [],
   "source": [
    "ee = encounter[3]\n",
    "print(ee+'\\n')\n",
    "encounter_folder = os.path.join(deploy_path, ee)\n",
    "score = prediction_enounter(encounter_folder)\n",
    "\n",
    "fig, ax = plt.subplots(1, 2, figsize=(14, 6))\n",
    "ax[0].bar(list(species_dict.keys()), np.sqrt((score**2.0).sum(axis=0)))\n",
    "ax[1].bar(list(species_dict.keys()), score.max(axis=0))"
   ]
  },
  {
   "cell_type": "code",
   "execution_count": null,
   "id": "digital-accused",
   "metadata": {},
   "outputs": [],
   "source": []
  },
  {
   "cell_type": "code",
   "execution_count": null,
   "id": "abstract-mainland",
   "metadata": {},
   "outputs": [],
   "source": []
  },
  {
   "cell_type": "code",
   "execution_count": null,
   "id": "located-hughes",
   "metadata": {},
   "outputs": [],
   "source": []
  }
 ],
 "metadata": {
  "kernelspec": {
   "display_name": "Python 3",
   "language": "python",
   "name": "python3"
  },
  "language_info": {
   "codemirror_mode": {
    "name": "ipython",
    "version": 3
   },
   "file_extension": ".py",
   "mimetype": "text/x-python",
   "name": "python",
   "nbconvert_exporter": "python",
   "pygments_lexer": "ipython3",
   "version": "3.8.6"
  }
 },
 "nbformat": 4,
 "nbformat_minor": 5
}
