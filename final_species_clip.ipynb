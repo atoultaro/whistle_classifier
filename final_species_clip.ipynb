{
 "cells": [
  {
   "cell_type": "markdown",
   "metadata": {},
   "source": [
    "# Species classification by whistles, Oswald data\n",
    "# Expt 3: AUDIO CLIP split;  cross-validation\n",
    "\n",
    "# May  19, 2021"
   ]
  },
  {
   "cell_type": "code",
   "execution_count": 1,
   "metadata": {},
   "outputs": [],
   "source": [
    "import numpy as np\n",
    "from itertools import permutations\n",
    "import random\n",
    "import os\n",
    "import glob\n",
    "import pickle\n",
    "import matplotlib.pyplot as plt\n",
    "import matplotlib.patheffects as PathEffects\n",
    "import pandas as pd\n",
    "from os import makedirs\n",
    "from datetime import datetime\n",
    "from collections import Counter\n",
    "\n",
    "from math import floor\n",
    "\n",
    "from sklearn.model_selection import train_test_split\n",
    "from sklearn.utils import shuffle\n",
    "from sklearn.utils.class_weight import compute_class_weight\n",
    "from sklearn.metrics import roc_curve\n",
    "from sklearn.neighbors import KNeighborsClassifier\n",
    "from sklearn.metrics import confusion_matrix, classification_report\n",
    "\n",
    "# from MulticoreTSNE import MulticoreTSNE as TSNE\n",
    "# from sklearn.manifold import TSNE\n",
    "import seaborn as sns\n",
    "\n",
    "from tensorflow.keras.utils import Sequence\n",
    "from tensorflow.keras.layers import Input, Dense, BatchNormalization, Dropout, Activation\n",
    "from tensorflow.keras.layers import Conv2D, Lambda, Flatten, MaxPooling2D, LSTM, ConvLSTM2D, GlobalAveragePooling2D, GlobalMaxPooling2D  # Reshape, Lambda, Concatenate\n",
    "from tensorflow.keras.layers import Bidirectional, LSTM, GRU\n",
    "from tensorflow.keras.models import Model, Sequential\n",
    "# from tensorflow.keras.regularizers import l2\n",
    "# from tensorflow.keras import backend as K\n",
    "\n",
    "from tensorflow.keras.optimizers.schedules import ExponentialDecay, PiecewiseConstantDecay\n",
    "from tensorflow.keras.optimizers import SGD,Adam\n",
    "from tensorflow.keras.losses import binary_crossentropy, categorical_crossentropy  # CategoricalCrossentropy\n",
    "from tensorflow.keras.callbacks import ModelCheckpoint, TensorBoard, EarlyStopping\n",
    "from tensorflow.keras.utils import to_categorical\n",
    "from tensorflow.keras.models import load_model\n",
    "# import tensorflow_addons.layers.spatial_pyramid_pooling as spp\n",
    "# import tensorflow_datasets as tfds\n",
    "from tensorflow.math import l2_normalize\n",
    "\n",
    "import tensorflow as tf\n",
    "\n",
    "from lib_validation import DataGenerator, find_best_model\n",
    "from lib_model import model_cnn14_spp, model_cnn14_attention_multi"
   ]
  },
  {
   "cell_type": "code",
   "execution_count": 2,
   "metadata": {},
   "outputs": [],
   "source": [
    "%matplotlib inline\n",
    "import warnings\n",
    "warnings.filterwarnings(\"ignore\", category=DeprecationWarning)"
   ]
  },
  {
   "cell_type": "code",
   "execution_count": 3,
   "metadata": {},
   "outputs": [],
   "source": [
    "# Hyper parameters\n",
    "\n",
    "# 77.24 val for STAR2000\n",
    "learning_rate = 1.e-4\n",
    "conv_dim = 64\n",
    "pool_size = 2\n",
    "pool_stride = 2\n",
    "l2_regu = 0.0001\n",
    "drop_rate = 0.2\n",
    "hidden_units = 512\n",
    "fcn_dim = 512\n",
    "\n",
    "# # A little bit l2\n",
    "# learning_rate = 1.e-4\n",
    "# conv_dim = 64\n",
    "# pool_size = 2\n",
    "# pool_stride = 2\n",
    "# l2_regu = 0.0001  ==>> good, but need fine-tuning\n",
    "# l2_regu = 0.001   ==>> too much!\n",
    "# drop_rate = 0.2\n",
    "# hidden_units = 512\n",
    "# fcn_dim = 512\n",
    "\n",
    "num_epoch = 200\n",
    "# num_epoch = 1  # debug\n",
    "# batch_size = 128\n",
    "# batch_size = 32  # for cnn14+attention\n",
    "batch_size = 16  # for cnn14+spp\n",
    "copies_of_aug =  10\n",
    "\n",
    "num_patience = 20\n",
    "\n",
    "num_fold = 5"
   ]
  },
  {
   "cell_type": "code",
   "execution_count": 4,
   "metadata": {},
   "outputs": [],
   "source": [
    "root_dir = '/home/ys587/__Data/__whistle'  # where we have __whislte_30_species folder\n",
    "# root_dir = '/home/ubuntu'  # where we have __whislte_30_species folder\n",
    "\n",
    "work_path = os.path.join(root_dir, '__whistle_30_species')\n",
    "fit_result_path =  os.path.join(work_path, '__fit_result_species')\n",
    "# feature_path = os.path.join(work_path, '__feature_species')\n",
    "# feature_path = os.path.join(work_path, '__dataset/20210210')"
   ]
  },
  {
   "cell_type": "code",
   "execution_count": 5,
   "metadata": {},
   "outputs": [],
   "source": [
    "species_dict = {'BD': 0, 'CD': 1, 'STR': 2, 'SPT': 3, 'SPIN': 4, 'PLT': 5, 'RT': 6,  'FKW': 7}\n",
    "num_species = len(species_dict)\n",
    "species_list = list(species_dict.keys())\n",
    "species_id = list(species_dict.values())"
   ]
  },
  {
   "cell_type": "markdown",
   "metadata": {},
   "source": [
    "## Features"
   ]
  },
  {
   "cell_type": "code",
   "execution_count": 6,
   "metadata": {},
   "outputs": [],
   "source": [
    "feature_path = os.path.join(root_dir, '__whistle_30_species/__dataset/__feature')"
   ]
  },
  {
   "cell_type": "code",
   "execution_count": 7,
   "metadata": {
    "scrolled": true
   },
   "outputs": [],
   "source": [
    "# df_species = pd.read_csv(os.path.join(feature_path, 'all.csv'))\n",
    "df_species = pd.read_csv(os.path.join(feature_path, 'all_species.csv'))\n",
    "df_noise = pd.read_csv(os.path.join(feature_path, 'all_noise.csv'))"
   ]
  },
  {
   "cell_type": "raw",
   "metadata": {},
   "source": [
    "# generate data separated by encounters\n",
    "# use species & encounter as keys!\n",
    "species_list = []\n",
    "encounter_unique = pd.unique(df_species['encounter'])\n",
    "species_unique = []\n",
    "for ee in encounter_unique:\n",
    "    species_unique.append(df_species[df_species['encounter']==ee]['species'])\n",
    "for ii in range(len(species_unique)):\n",
    "    print(encounter_unique[ii])\n",
    "    species_name = pd.unique(species_unique[ii])\n",
    "    species_list.append(species_name[0])\n",
    "# make an dataframe consisting of encounter_unique & species_list\n",
    "df_encounter_species = pd.DataFrame({'encounter': encounter_unique, 'species': species_list})\n",
    "# df_encounter_species.to_csv(os.path.join(dataset_path, 'encounter_species'+'.csv'), index=False)"
   ]
  },
  {
   "cell_type": "markdown",
   "metadata": {},
   "source": [
    "## Split over clips"
   ]
  },
  {
   "cell_type": "code",
   "execution_count": 8,
   "metadata": {},
   "outputs": [],
   "source": [
    "today = datetime.now()\n",
    "# create a folder based on date & time\n",
    "fit_result_path1 = os.path.join(fit_result_path, today.strftime('%Y%m%d_%H%M%S'))"
   ]
  },
  {
   "cell_type": "code",
   "execution_count": 9,
   "metadata": {},
   "outputs": [],
   "source": [
    "label_pred_all = []\n",
    "label_test_all = []"
   ]
  },
  {
   "cell_type": "code",
   "execution_count": 10,
   "metadata": {},
   "outputs": [],
   "source": [
    "## fold split over clips"
   ]
  },
  {
   "cell_type": "code",
   "execution_count": 11,
   "metadata": {},
   "outputs": [],
   "source": [
    "from sklearn.model_selection import StratifiedKFold\n",
    "skf = StratifiedKFold(n_splits=num_fold)"
   ]
  },
  {
   "cell_type": "code",
   "execution_count": null,
   "metadata": {
    "scrolled": true
   },
   "outputs": [
    {
     "name": "stdout",
     "output_type": "stream",
     "text": [
      "Fold 0:\n",
      "train_set\n",
      "[  432   433   434 ... 20071 20072 20073]\n",
      "test_set\n",
      "[    0     1     2 ... 17918 17919 17920]\n",
      "The shape of feas_orig: (20074, 101, 128)\n",
      "\n",
      "4015\n",
      "(4015, 101, 128)\n",
      "\n",
      "The shape of feas_aug: (200740, 101, 128)\n",
      "\n",
      "16059\n",
      "(160590, 101, 128)\n",
      "\n",
      "feature train shape: (160590, 101, 128)\n",
      "feature test shape: (4015, 101, 128)\n",
      "label train shape: (160590,)\n",
      "label test shape: (4015,)\n",
      "dim_time: 101\n",
      "dim_freq: 128\n",
      "Epoch 1/200\n",
      "9033/9033 [==============================] - ETA: 0s - loss: 0.4754 - accuracy: 0.3051\n",
      "Epoch 00001: val_accuracy improved from -inf to 0.41744, saving model to /home/ys587/__Data/__whistle/__whistle_30_species/__fit_result_species/20210523_204759/fold0/epoch_01_valloss_0.3380_valacc_0.4174.hdf5\n",
      "9033/9033 [==============================] - 544s 60ms/step - loss: 0.4754 - accuracy: 0.3051 - val_loss: 0.3380 - val_accuracy: 0.4174\n",
      "Epoch 2/200\n",
      "9033/9033 [==============================] - ETA: 0s - loss: 0.3184 - accuracy: 0.4550\n",
      "Epoch 00002: val_accuracy did not improve from 0.41744\n",
      "9033/9033 [==============================] - 544s 60ms/step - loss: 0.3184 - accuracy: 0.4550 - val_loss: 0.4363 - val_accuracy: 0.3137\n",
      "Epoch 3/200\n",
      "9033/9033 [==============================] - ETA: 0s - loss: 0.2914 - accuracy: 0.5155\n",
      "Epoch 00003: val_accuracy improved from 0.41744 to 0.45364, saving model to /home/ys587/__Data/__whistle/__whistle_30_species/__fit_result_species/20210523_204759/fold0/epoch_03_valloss_0.3326_valacc_0.4536.hdf5\n",
      "9033/9033 [==============================] - 545s 60ms/step - loss: 0.2914 - accuracy: 0.5155 - val_loss: 0.3326 - val_accuracy: 0.4536\n",
      "Epoch 4/200\n",
      "9033/9033 [==============================] - ETA: 0s - loss: 0.2750 - accuracy: 0.5518\n",
      "Epoch 00004: val_accuracy improved from 0.45364 to 0.53982, saving model to /home/ys587/__Data/__whistle/__whistle_30_species/__fit_result_species/20210523_204759/fold0/epoch_04_valloss_0.2804_valacc_0.5398.hdf5\n",
      "9033/9033 [==============================] - 545s 60ms/step - loss: 0.2750 - accuracy: 0.5518 - val_loss: 0.2804 - val_accuracy: 0.5398\n",
      "Epoch 5/200\n",
      "9033/9033 [==============================] - ETA: 0s - loss: 0.2628 - accuracy: 0.5804\n",
      "Epoch 00005: val_accuracy improved from 0.53982 to 0.54331, saving model to /home/ys587/__Data/__whistle/__whistle_30_species/__fit_result_species/20210523_204759/fold0/epoch_05_valloss_0.2842_valacc_0.5433.hdf5\n",
      "9033/9033 [==============================] - 545s 60ms/step - loss: 0.2628 - accuracy: 0.5804 - val_loss: 0.2842 - val_accuracy: 0.5433\n",
      "Epoch 6/200\n",
      "9033/9033 [==============================] - ETA: 0s - loss: 0.2530 - accuracy: 0.6027\n",
      "Epoch 00006: val_accuracy did not improve from 0.54331\n",
      "9033/9033 [==============================] - 544s 60ms/step - loss: 0.2530 - accuracy: 0.6027 - val_loss: 0.2934 - val_accuracy: 0.5208\n",
      "Epoch 7/200\n",
      "9033/9033 [==============================] - ETA: 0s - loss: 0.2453 - accuracy: 0.6197\n",
      "Epoch 00007: val_accuracy improved from 0.54331 to 0.57241, saving model to /home/ys587/__Data/__whistle/__whistle_30_species/__fit_result_species/20210523_204759/fold0/epoch_07_valloss_0.2717_valacc_0.5724.hdf5\n",
      "9033/9033 [==============================] - 545s 60ms/step - loss: 0.2453 - accuracy: 0.6197 - val_loss: 0.2717 - val_accuracy: 0.5724\n",
      "Epoch 8/200\n",
      "9033/9033 [==============================] - ETA: 0s - loss: 0.2382 - accuracy: 0.6329\n",
      "Epoch 00008: val_accuracy did not improve from 0.57241\n",
      "9033/9033 [==============================] - 545s 60ms/step - loss: 0.2382 - accuracy: 0.6329 - val_loss: 0.3237 - val_accuracy: 0.5146\n",
      "Epoch 9/200\n",
      "9033/9033 [==============================] - ETA: 0s - loss: 0.2320 - accuracy: 0.6483\n",
      "Epoch 00009: val_accuracy did not improve from 0.57241\n",
      "9033/9033 [==============================] - 544s 60ms/step - loss: 0.2320 - accuracy: 0.6483 - val_loss: 0.3028 - val_accuracy: 0.5104\n",
      "Epoch 10/200\n",
      "9033/9033 [==============================] - ETA: 0s - loss: 0.2266 - accuracy: 0.6585\n",
      "Epoch 00010: val_accuracy improved from 0.57241 to 0.63628, saving model to /home/ys587/__Data/__whistle/__whistle_30_species/__fit_result_species/20210523_204759/fold0/epoch_10_valloss_0.2354_valacc_0.6363.hdf5\n",
      "9033/9033 [==============================] - 545s 60ms/step - loss: 0.2266 - accuracy: 0.6585 - val_loss: 0.2354 - val_accuracy: 0.6363\n",
      "Epoch 11/200\n",
      "9033/9033 [==============================] - ETA: 0s - loss: 0.2215 - accuracy: 0.6687\n",
      "Epoch 00011: val_accuracy did not improve from 0.63628\n",
      "9033/9033 [==============================] - 544s 60ms/step - loss: 0.2215 - accuracy: 0.6687 - val_loss: 0.2697 - val_accuracy: 0.5810\n",
      "Epoch 12/200\n",
      "9033/9033 [==============================] - ETA: 0s - loss: 0.2172 - accuracy: 0.6781\n",
      "Epoch 00012: val_accuracy improved from 0.63628 to 0.64469, saving model to /home/ys587/__Data/__whistle/__whistle_30_species/__fit_result_species/20210523_204759/fold0/epoch_12_valloss_0.2381_valacc_0.6447.hdf5\n",
      "9033/9033 [==============================] - 545s 60ms/step - loss: 0.2172 - accuracy: 0.6781 - val_loss: 0.2381 - val_accuracy: 0.6447\n",
      "Epoch 13/200\n",
      "9033/9033 [==============================] - ETA: 0s - loss: 0.2132 - accuracy: 0.6879\n",
      "Epoch 00013: val_accuracy improved from 0.64469 to 0.64961, saving model to /home/ys587/__Data/__whistle/__whistle_30_species/__fit_result_species/20210523_204759/fold0/epoch_13_valloss_0.2310_valacc_0.6496.hdf5\n",
      "9033/9033 [==============================] - 544s 60ms/step - loss: 0.2132 - accuracy: 0.6879 - val_loss: 0.2310 - val_accuracy: 0.6496\n",
      "Epoch 14/200\n",
      "9033/9033 [==============================] - ETA: 0s - loss: 0.2096 - accuracy: 0.6943\n",
      "Epoch 00014: val_accuracy improved from 0.64961 to 0.65366, saving model to /home/ys587/__Data/__whistle/__whistle_30_species/__fit_result_species/20210523_204759/fold0/epoch_14_valloss_0.2239_valacc_0.6537.hdf5\n",
      "9033/9033 [==============================] - 545s 60ms/step - loss: 0.2096 - accuracy: 0.6943 - val_loss: 0.2239 - val_accuracy: 0.6537\n",
      "Epoch 15/200\n",
      "9033/9033 [==============================] - ETA: 0s - loss: 0.2055 - accuracy: 0.7032\n",
      "Epoch 00015: val_accuracy did not improve from 0.65366\n",
      "9033/9033 [==============================] - 544s 60ms/step - loss: 0.2055 - accuracy: 0.7032 - val_loss: 0.2563 - val_accuracy: 0.6018\n",
      "Epoch 16/200\n",
      "9033/9033 [==============================] - ETA: 0s - loss: 0.2027 - accuracy: 0.7096\n",
      "Epoch 00016: val_accuracy did not improve from 0.65366\n",
      "9033/9033 [==============================] - 544s 60ms/step - loss: 0.2027 - accuracy: 0.7096 - val_loss: 0.2345 - val_accuracy: 0.6401\n",
      "Epoch 17/200\n",
      "9033/9033 [==============================] - ETA: 0s - loss: 0.1991 - accuracy: 0.7177\n",
      "Epoch 00017: val_accuracy did not improve from 0.65366\n",
      "9033/9033 [==============================] - 544s 60ms/step - loss: 0.1991 - accuracy: 0.7177 - val_loss: 0.2486 - val_accuracy: 0.6321\n",
      "Epoch 18/200\n",
      "9033/9033 [==============================] - ETA: 0s - loss: 0.1964 - accuracy: 0.7238\n",
      "Epoch 00018: val_accuracy improved from 0.65366 to 0.71280, saving model to /home/ys587/__Data/__whistle/__whistle_30_species/__fit_result_species/20210523_204759/fold0/epoch_18_valloss_0.2037_valacc_0.7128.hdf5\n",
      "9033/9033 [==============================] - 544s 60ms/step - loss: 0.1964 - accuracy: 0.7238 - val_loss: 0.2037 - val_accuracy: 0.7128\n",
      "Epoch 19/200\n",
      "9033/9033 [==============================] - ETA: 0s - loss: 0.1939 - accuracy: 0.7286\n",
      "Epoch 00019: val_accuracy did not improve from 0.71280\n",
      "9033/9033 [==============================] - 544s 60ms/step - loss: 0.1939 - accuracy: 0.7286 - val_loss: 0.3078 - val_accuracy: 0.5485\n",
      "Epoch 20/200\n",
      "9033/9033 [==============================] - ETA: 0s - loss: 0.1912 - accuracy: 0.7348\n",
      "Epoch 00020: val_accuracy did not improve from 0.71280\n",
      "9033/9033 [==============================] - 544s 60ms/step - loss: 0.1912 - accuracy: 0.7348 - val_loss: 0.2611 - val_accuracy: 0.6158\n",
      "Epoch 21/200\n",
      "9033/9033 [==============================] - ETA: 0s - loss: 0.1890 - accuracy: 0.7409\n",
      "Epoch 00021: val_accuracy improved from 0.71280 to 0.72165, saving model to /home/ys587/__Data/__whistle/__whistle_30_species/__fit_result_species/20210523_204759/fold0/epoch_21_valloss_0.2024_valacc_0.7216.hdf5\n",
      "9033/9033 [==============================] - 544s 60ms/step - loss: 0.1890 - accuracy: 0.7409 - val_loss: 0.2024 - val_accuracy: 0.7216\n",
      "Epoch 22/200\n",
      "9033/9033 [==============================] - ETA: 0s - loss: 0.1873 - accuracy: 0.7448\n",
      "Epoch 00022: val_accuracy did not improve from 0.72165\n",
      "9033/9033 [==============================] - 544s 60ms/step - loss: 0.1873 - accuracy: 0.7448 - val_loss: 0.2412 - val_accuracy: 0.6582\n",
      "Epoch 23/200\n",
      "9033/9033 [==============================] - ETA: 0s - loss: 0.1849 - accuracy: 0.7498\n",
      "Epoch 00023: val_accuracy did not improve from 0.72165\n",
      "9033/9033 [==============================] - 544s 60ms/step - loss: 0.1849 - accuracy: 0.7498 - val_loss: 0.2228 - val_accuracy: 0.6968\n",
      "Epoch 24/200\n",
      "9033/9033 [==============================] - ETA: 0s - loss: 0.1825 - accuracy: 0.7551\n",
      "Epoch 00024: val_accuracy did not improve from 0.72165\n",
      "9033/9033 [==============================] - 544s 60ms/step - loss: 0.1825 - accuracy: 0.7551 - val_loss: 0.2127 - val_accuracy: 0.7101\n",
      "Epoch 25/200\n",
      "9033/9033 [==============================] - ETA: 0s - loss: 0.1801 - accuracy: 0.7617\n",
      "Epoch 00025: val_accuracy did not improve from 0.72165\n",
      "9033/9033 [==============================] - 544s 60ms/step - loss: 0.1801 - accuracy: 0.7617 - val_loss: 0.2325 - val_accuracy: 0.6731\n",
      "Epoch 26/200\n",
      "9033/9033 [==============================] - ETA: 0s - loss: 0.1789 - accuracy: 0.7628\n",
      "Epoch 00026: val_accuracy did not improve from 0.72165\n",
      "9033/9033 [==============================] - 544s 60ms/step - loss: 0.1789 - accuracy: 0.7628 - val_loss: 0.2109 - val_accuracy: 0.7099\n",
      "Epoch 27/200\n",
      "9033/9033 [==============================] - ETA: 0s - loss: 0.1770 - accuracy: 0.7672\n",
      "Epoch 00027: val_accuracy did not improve from 0.72165\n",
      "9033/9033 [==============================] - 544s 60ms/step - loss: 0.1770 - accuracy: 0.7672 - val_loss: 0.2228 - val_accuracy: 0.6924\n",
      "Epoch 28/200\n",
      "9033/9033 [==============================] - ETA: 0s - loss: 0.1755 - accuracy: 0.7725\n",
      "Epoch 00028: val_accuracy did not improve from 0.72165\n",
      "9033/9033 [==============================] - 544s 60ms/step - loss: 0.1755 - accuracy: 0.7725 - val_loss: 0.2146 - val_accuracy: 0.7127\n",
      "Epoch 29/200\n",
      "9033/9033 [==============================] - ETA: 0s - loss: 0.1734 - accuracy: 0.7767\n",
      "Epoch 00029: val_accuracy did not improve from 0.72165\n",
      "9033/9033 [==============================] - 544s 60ms/step - loss: 0.1734 - accuracy: 0.7767 - val_loss: 0.2148 - val_accuracy: 0.7215\n",
      "Epoch 30/200\n",
      "9033/9033 [==============================] - ETA: 0s - loss: 0.1716 - accuracy: 0.7810\n",
      "Epoch 00030: val_accuracy did not improve from 0.72165\n",
      "9033/9033 [==============================] - 544s 60ms/step - loss: 0.1716 - accuracy: 0.7810 - val_loss: 0.2142 - val_accuracy: 0.7172\n",
      "Epoch 31/200\n",
      "9033/9033 [==============================] - ETA: 0s - loss: 0.1700 - accuracy: 0.7842\n",
      "Epoch 00031: val_accuracy did not improve from 0.72165\n",
      "9033/9033 [==============================] - 544s 60ms/step - loss: 0.1700 - accuracy: 0.7842 - val_loss: 0.2627 - val_accuracy: 0.6615\n",
      "Epoch 32/200\n",
      "9033/9033 [==============================] - ETA: 0s - loss: 0.1693 - accuracy: 0.7866\n",
      "Epoch 00032: val_accuracy did not improve from 0.72165\n",
      "9033/9033 [==============================] - 544s 60ms/step - loss: 0.1693 - accuracy: 0.7866 - val_loss: 0.2154 - val_accuracy: 0.7210\n",
      "Epoch 33/200\n",
      "9033/9033 [==============================] - ETA: 0s - loss: 0.1674 - accuracy: 0.7917\n",
      "Epoch 00033: val_accuracy did not improve from 0.72165\n",
      "9033/9033 [==============================] - 544s 60ms/step - loss: 0.1674 - accuracy: 0.7917 - val_loss: 0.2493 - val_accuracy: 0.6799\n",
      "Epoch 34/200\n",
      "9033/9033 [==============================] - ETA: 0s - loss: 0.1663 - accuracy: 0.7942\n",
      "Epoch 00034: val_accuracy did not improve from 0.72165\n",
      "9033/9033 [==============================] - 544s 60ms/step - loss: 0.1663 - accuracy: 0.7942 - val_loss: 0.2329 - val_accuracy: 0.7063\n",
      "Epoch 35/200\n",
      "9033/9033 [==============================] - ETA: 0s - loss: 0.1652 - accuracy: 0.7978\n",
      "Epoch 00035: val_accuracy improved from 0.72165 to 0.73554, saving model to /home/ys587/__Data/__whistle/__whistle_30_species/__fit_result_species/20210523_204759/fold0/epoch_35_valloss_0.2086_valacc_0.7355.hdf5\n",
      "9033/9033 [==============================] - 544s 60ms/step - loss: 0.1652 - accuracy: 0.7978 - val_loss: 0.2086 - val_accuracy: 0.7355\n",
      "Epoch 36/200\n",
      "9033/9033 [==============================] - ETA: 0s - loss: 0.1634 - accuracy: 0.8019\n",
      "Epoch 00036: val_accuracy improved from 0.73554 to 0.75916, saving model to /home/ys587/__Data/__whistle/__whistle_30_species/__fit_result_species/20210523_204759/fold0/epoch_36_valloss_0.1969_valacc_0.7592.hdf5\n",
      "9033/9033 [==============================] - 544s 60ms/step - loss: 0.1634 - accuracy: 0.8019 - val_loss: 0.1969 - val_accuracy: 0.7592\n",
      "Epoch 37/200\n",
      "9033/9033 [==============================] - ETA: 0s - loss: 0.1624 - accuracy: 0.8047\n",
      "Epoch 00037: val_accuracy did not improve from 0.75916\n",
      "9033/9033 [==============================] - 544s 60ms/step - loss: 0.1624 - accuracy: 0.8047 - val_loss: 0.2329 - val_accuracy: 0.7067\n",
      "Epoch 38/200\n",
      "9033/9033 [==============================] - ETA: 0s - loss: 0.1609 - accuracy: 0.8065\n",
      "Epoch 00038: val_accuracy did not improve from 0.75916\n",
      "9033/9033 [==============================] - 544s 60ms/step - loss: 0.1609 - accuracy: 0.8065 - val_loss: 0.2395 - val_accuracy: 0.6859\n",
      "Epoch 39/200\n",
      "9033/9033 [==============================] - ETA: 0s - loss: 0.1599 - accuracy: 0.8106\n",
      "Epoch 00039: val_accuracy did not improve from 0.75916\n",
      "9033/9033 [==============================] - 544s 60ms/step - loss: 0.1599 - accuracy: 0.8106 - val_loss: 0.3345 - val_accuracy: 0.5788\n",
      "Epoch 40/200\n",
      "9033/9033 [==============================] - ETA: 0s - loss: 0.1586 - accuracy: 0.8134\n",
      "Epoch 00040: val_accuracy did not improve from 0.75916\n",
      "9033/9033 [==============================] - 544s 60ms/step - loss: 0.1586 - accuracy: 0.8134 - val_loss: 0.2337 - val_accuracy: 0.7129\n",
      "Epoch 41/200\n",
      "9033/9033 [==============================] - ETA: 0s - loss: 0.1581 - accuracy: 0.8152\n",
      "Epoch 00041: val_accuracy did not improve from 0.75916\n",
      "9033/9033 [==============================] - 544s 60ms/step - loss: 0.1581 - accuracy: 0.8152 - val_loss: 0.2053 - val_accuracy: 0.7484\n",
      "Epoch 42/200\n",
      "9033/9033 [==============================] - ETA: 0s - loss: 0.1566 - accuracy: 0.8183\n",
      "Epoch 00042: val_accuracy did not improve from 0.75916\n",
      "9033/9033 [==============================] - 544s 60ms/step - loss: 0.1566 - accuracy: 0.8183 - val_loss: 0.2085 - val_accuracy: 0.7526\n",
      "Epoch 43/200\n",
      "9033/9033 [==============================] - ETA: 0s - loss: 0.1557 - accuracy: 0.8194\n",
      "Epoch 00043: val_accuracy did not improve from 0.75916\n",
      "9033/9033 [==============================] - 544s 60ms/step - loss: 0.1557 - accuracy: 0.8194 - val_loss: 0.2474 - val_accuracy: 0.6949\n",
      "Epoch 44/200\n",
      "9033/9033 [==============================] - ETA: 0s - loss: 0.1539 - accuracy: 0.8233\n",
      "Epoch 00044: val_accuracy improved from 0.75916 to 0.76415, saving model to /home/ys587/__Data/__whistle/__whistle_30_species/__fit_result_species/20210523_204759/fold0/epoch_44_valloss_0.1960_valacc_0.7641.hdf5\n",
      "9033/9033 [==============================] - 544s 60ms/step - loss: 0.1539 - accuracy: 0.8233 - val_loss: 0.1960 - val_accuracy: 0.7641\n",
      "Epoch 45/200\n",
      "9033/9033 [==============================] - ETA: 0s - loss: 0.1535 - accuracy: 0.8260\n",
      "Epoch 00045: val_accuracy did not improve from 0.76415\n",
      "9033/9033 [==============================] - 544s 60ms/step - loss: 0.1535 - accuracy: 0.8260 - val_loss: 0.2211 - val_accuracy: 0.7339\n",
      "Epoch 46/200\n",
      "9033/9033 [==============================] - ETA: 0s - loss: 0.1526 - accuracy: 0.8279\n",
      "Epoch 00046: val_accuracy did not improve from 0.76415\n",
      "9033/9033 [==============================] - 544s 60ms/step - loss: 0.1526 - accuracy: 0.8279 - val_loss: 0.2112 - val_accuracy: 0.7469\n",
      "Epoch 47/200\n",
      "9033/9033 [==============================] - ETA: 0s - loss: 0.1510 - accuracy: 0.8303\n",
      "Epoch 00047: val_accuracy did not improve from 0.76415\n",
      "9033/9033 [==============================] - 544s 60ms/step - loss: 0.1510 - accuracy: 0.8303 - val_loss: 0.2108 - val_accuracy: 0.7471\n",
      "Epoch 48/200\n",
      "9033/9033 [==============================] - ETA: 0s - loss: 0.1500 - accuracy: 0.8329\n",
      "Epoch 00048: val_accuracy did not improve from 0.76415\n",
      "9033/9033 [==============================] - 544s 60ms/step - loss: 0.1500 - accuracy: 0.8329 - val_loss: 0.2172 - val_accuracy: 0.7412\n",
      "Epoch 49/200\n",
      "9033/9033 [==============================] - ETA: 0s - loss: 0.1486 - accuracy: 0.8354\n",
      "Epoch 00049: val_accuracy did not improve from 0.76415\n",
      "9033/9033 [==============================] - 544s 60ms/step - loss: 0.1486 - accuracy: 0.8354 - val_loss: 0.2105 - val_accuracy: 0.7616\n",
      "Epoch 50/200\n",
      "9033/9033 [==============================] - ETA: 0s - loss: 0.1478 - accuracy: 0.8387\n",
      "Epoch 00050: val_accuracy did not improve from 0.76415\n",
      "9033/9033 [==============================] - 543s 60ms/step - loss: 0.1478 - accuracy: 0.8387 - val_loss: 0.2123 - val_accuracy: 0.7486\n",
      "Epoch 51/200\n",
      "9033/9033 [==============================] - ETA: 0s - loss: 0.1474 - accuracy: 0.8383\n",
      "Epoch 00051: val_accuracy did not improve from 0.76415\n",
      "9033/9033 [==============================] - 544s 60ms/step - loss: 0.1474 - accuracy: 0.8383 - val_loss: 0.2126 - val_accuracy: 0.7526\n",
      "Epoch 52/200\n",
      "9033/9033 [==============================] - ETA: 0s - loss: 0.1456 - accuracy: 0.8424\n",
      "Epoch 00052: val_accuracy did not improve from 0.76415\n",
      "9033/9033 [==============================] - 543s 60ms/step - loss: 0.1456 - accuracy: 0.8424 - val_loss: 0.2150 - val_accuracy: 0.7448\n",
      "Epoch 53/200\n",
      "9033/9033 [==============================] - ETA: 0s - loss: 0.1448 - accuracy: 0.8443\n",
      "Epoch 00053: val_accuracy did not improve from 0.76415\n",
      "9033/9033 [==============================] - 543s 60ms/step - loss: 0.1448 - accuracy: 0.8443 - val_loss: 0.2344 - val_accuracy: 0.7322\n",
      "Epoch 54/200\n",
      "9033/9033 [==============================] - ETA: 0s - loss: 0.1441 - accuracy: 0.8456\n",
      "Epoch 00054: val_accuracy did not improve from 0.76415\n",
      "9033/9033 [==============================] - 544s 60ms/step - loss: 0.1441 - accuracy: 0.8456 - val_loss: 0.2128 - val_accuracy: 0.7615\n",
      "Epoch 55/200\n",
      "9033/9033 [==============================] - ETA: 0s - loss: 0.1433 - accuracy: 0.8489\n",
      "Epoch 00055: val_accuracy did not improve from 0.76415\n",
      "9033/9033 [==============================] - 544s 60ms/step - loss: 0.1433 - accuracy: 0.8489 - val_loss: 0.2136 - val_accuracy: 0.7473\n",
      "Epoch 56/200\n",
      "9033/9033 [==============================] - ETA: 0s - loss: 0.1412 - accuracy: 0.8518\n",
      "Epoch 00056: val_accuracy did not improve from 0.76415\n",
      "9033/9033 [==============================] - 543s 60ms/step - loss: 0.1412 - accuracy: 0.8518 - val_loss: 0.2159 - val_accuracy: 0.7527\n",
      "Epoch 57/200\n",
      "9033/9033 [==============================] - ETA: 0s - loss: 0.1409 - accuracy: 0.8524\n",
      "Epoch 00057: val_accuracy did not improve from 0.76415\n",
      "9033/9033 [==============================] - 543s 60ms/step - loss: 0.1409 - accuracy: 0.8524 - val_loss: 0.2113 - val_accuracy: 0.7565\n",
      "Epoch 58/200\n",
      "9033/9033 [==============================] - ETA: 0s - loss: 0.1401 - accuracy: 0.8549\n",
      "Epoch 00058: val_accuracy did not improve from 0.76415\n",
      "9033/9033 [==============================] - 544s 60ms/step - loss: 0.1401 - accuracy: 0.8549 - val_loss: 0.2209 - val_accuracy: 0.7446\n",
      "Epoch 59/200\n",
      "9033/9033 [==============================] - ETA: 0s - loss: 0.1389 - accuracy: 0.8572\n",
      "Epoch 00059: val_accuracy improved from 0.76415 to 0.77243, saving model to /home/ys587/__Data/__whistle/__whistle_30_species/__fit_result_species/20210523_204759/fold0/epoch_59_valloss_0.2022_valacc_0.7724.hdf5\n",
      "9033/9033 [==============================] - 544s 60ms/step - loss: 0.1389 - accuracy: 0.8572 - val_loss: 0.2022 - val_accuracy: 0.7724\n",
      "Epoch 60/200\n",
      "9033/9033 [==============================] - ETA: 0s - loss: 0.1384 - accuracy: 0.8584\n",
      "Epoch 00060: val_accuracy did not improve from 0.77243\n",
      "9033/9033 [==============================] - 544s 60ms/step - loss: 0.1384 - accuracy: 0.8584 - val_loss: 0.2234 - val_accuracy: 0.7502\n",
      "Epoch 61/200\n",
      "9033/9033 [==============================] - ETA: 0s - loss: 0.1371 - accuracy: 0.8615\n",
      "Epoch 00061: val_accuracy did not improve from 0.77243\n",
      "9033/9033 [==============================] - 544s 60ms/step - loss: 0.1371 - accuracy: 0.8615 - val_loss: 0.2609 - val_accuracy: 0.7047\n",
      "Epoch 62/200\n",
      "9033/9033 [==============================] - ETA: 0s - loss: 0.1356 - accuracy: 0.8632\n",
      "Epoch 00062: val_accuracy did not improve from 0.77243\n",
      "9033/9033 [==============================] - 544s 60ms/step - loss: 0.1356 - accuracy: 0.8632 - val_loss: 0.2160 - val_accuracy: 0.7644\n",
      "Epoch 63/200\n",
      "9033/9033 [==============================] - ETA: 0s - loss: 0.1353 - accuracy: 0.8647\n",
      "Epoch 00063: val_accuracy did not improve from 0.77243\n",
      "9033/9033 [==============================] - 543s 60ms/step - loss: 0.1353 - accuracy: 0.8647 - val_loss: 0.2223 - val_accuracy: 0.7496\n",
      "Epoch 64/200\n",
      "9033/9033 [==============================] - ETA: 0s - loss: 0.1337 - accuracy: 0.8679\n",
      "Epoch 00064: val_accuracy did not improve from 0.77243\n",
      "9033/9033 [==============================] - 543s 60ms/step - loss: 0.1337 - accuracy: 0.8679 - val_loss: 0.2118 - val_accuracy: 0.7610\n",
      "Epoch 65/200\n",
      "9033/9033 [==============================] - ETA: 0s - loss: 0.1333 - accuracy: 0.8682\n",
      "Epoch 00065: val_accuracy did not improve from 0.77243\n",
      "9033/9033 [==============================] - 543s 60ms/step - loss: 0.1333 - accuracy: 0.8682 - val_loss: 0.2156 - val_accuracy: 0.7694\n",
      "Epoch 66/200\n",
      "9033/9033 [==============================] - ETA: 0s - loss: 0.1323 - accuracy: 0.8708\n",
      "Epoch 00066: val_accuracy did not improve from 0.77243\n",
      "9033/9033 [==============================] - 543s 60ms/step - loss: 0.1323 - accuracy: 0.8708 - val_loss: 0.2168 - val_accuracy: 0.7634\n",
      "Epoch 67/200\n",
      "9033/9033 [==============================] - ETA: 0s - loss: 0.1319 - accuracy: 0.8730\n",
      "Epoch 00067: val_accuracy did not improve from 0.77243\n",
      "9033/9033 [==============================] - 543s 60ms/step - loss: 0.1319 - accuracy: 0.8730 - val_loss: 0.2271 - val_accuracy: 0.7507\n",
      "Epoch 68/200\n",
      "9033/9033 [==============================] - ETA: 0s - loss: 0.1306 - accuracy: 0.8740\n",
      "Epoch 00068: val_accuracy did not improve from 0.77243\n",
      "9033/9033 [==============================] - 544s 60ms/step - loss: 0.1306 - accuracy: 0.8740 - val_loss: 0.2310 - val_accuracy: 0.7439\n",
      "Epoch 69/200\n",
      "9033/9033 [==============================] - ETA: 0s - loss: 0.1300 - accuracy: 0.8752\n",
      "Epoch 00069: val_accuracy did not improve from 0.77243\n",
      "9033/9033 [==============================] - 543s 60ms/step - loss: 0.1300 - accuracy: 0.8752 - val_loss: 0.2415 - val_accuracy: 0.7436\n",
      "Epoch 70/200\n",
      "9033/9033 [==============================] - ETA: 0s - loss: 0.1294 - accuracy: 0.8768\n",
      "Epoch 00070: val_accuracy did not improve from 0.77243\n",
      "9033/9033 [==============================] - 544s 60ms/step - loss: 0.1294 - accuracy: 0.8768 - val_loss: 0.2169 - val_accuracy: 0.7588\n",
      "Epoch 71/200\n",
      "9033/9033 [==============================] - ETA: 0s - loss: 0.1281 - accuracy: 0.8793\n",
      "Epoch 00071: val_accuracy did not improve from 0.77243\n",
      "9033/9033 [==============================] - 543s 60ms/step - loss: 0.1281 - accuracy: 0.8793 - val_loss: 0.2277 - val_accuracy: 0.7497\n",
      "Epoch 72/200\n",
      "9033/9033 [==============================] - ETA: 0s - loss: 0.1274 - accuracy: 0.8803\n",
      "Epoch 00072: val_accuracy did not improve from 0.77243\n",
      "9033/9033 [==============================] - 544s 60ms/step - loss: 0.1274 - accuracy: 0.8803 - val_loss: 0.2421 - val_accuracy: 0.7327\n",
      "Epoch 73/200\n",
      "9033/9033 [==============================] - ETA: 0s - loss: 0.1261 - accuracy: 0.8825\n",
      "Epoch 00073: val_accuracy did not improve from 0.77243\n",
      "9033/9033 [==============================] - 543s 60ms/step - loss: 0.1261 - accuracy: 0.8825 - val_loss: 0.2145 - val_accuracy: 0.7627\n",
      "Epoch 74/200\n",
      "9033/9033 [==============================] - ETA: 0s - loss: 0.1256 - accuracy: 0.8841\n",
      "Epoch 00074: val_accuracy did not improve from 0.77243\n",
      "9033/9033 [==============================] - 544s 60ms/step - loss: 0.1256 - accuracy: 0.8841 - val_loss: 0.2265 - val_accuracy: 0.7648\n",
      "Epoch 75/200\n",
      "9033/9033 [==============================] - ETA: 0s - loss: 0.1243 - accuracy: 0.8866\n",
      "Epoch 00075: val_accuracy did not improve from 0.77243\n",
      "9033/9033 [==============================] - 543s 60ms/step - loss: 0.1243 - accuracy: 0.8866 - val_loss: 0.2213 - val_accuracy: 0.7634\n",
      "Epoch 76/200\n",
      "9033/9033 [==============================] - ETA: 0s - loss: 0.1234 - accuracy: 0.8877\n",
      "Epoch 00076: val_accuracy did not improve from 0.77243\n",
      "9033/9033 [==============================] - 544s 60ms/step - loss: 0.1234 - accuracy: 0.8877 - val_loss: 0.2175 - val_accuracy: 0.7714\n",
      "Epoch 77/200\n",
      "9033/9033 [==============================] - ETA: 0s - loss: 0.1223 - accuracy: 0.8901\n",
      "Epoch 00077: val_accuracy did not improve from 0.77243\n",
      "9033/9033 [==============================] - 543s 60ms/step - loss: 0.1223 - accuracy: 0.8901 - val_loss: 0.2363 - val_accuracy: 0.7489\n",
      "Epoch 78/200\n",
      "9033/9033 [==============================] - ETA: 0s - loss: 0.1218 - accuracy: 0.8909\n",
      "Epoch 00078: val_accuracy did not improve from 0.77243\n",
      "9033/9033 [==============================] - 544s 60ms/step - loss: 0.1218 - accuracy: 0.8909 - val_loss: 0.2208 - val_accuracy: 0.7671\n",
      "Epoch 79/200\n",
      "9033/9033 [==============================] - ETA: 0s - loss: 0.1210 - accuracy: 0.8918\n",
      "Epoch 00079: val_accuracy did not improve from 0.77243\n",
      "9033/9033 [==============================] - 543s 60ms/step - loss: 0.1210 - accuracy: 0.8918 - val_loss: 0.2191 - val_accuracy: 0.7654\n",
      "Epoch 00079: early stopping\n",
      "Best model:0.7724\n",
      "/home/ys587/__Data/__whistle/__whistle_30_species/__fit_result_species/20210523_204759/fold0/epoch_59_valloss_0.2022_valacc_0.7724.hdf5\n",
      "Fold 1:\n",
      "train_set\n",
      "[    0     1     2 ... 20071 20072 20073]\n",
      "test_set\n",
      "[  432   433   434 ... 18456 18457 18458]\n",
      "The shape of feas_orig: (20074, 101, 128)\n",
      "\n",
      "4015\n",
      "(4015, 101, 128)\n",
      "\n",
      "The shape of feas_aug: (200740, 101, 128)\n",
      "\n",
      "16059\n",
      "(160590, 101, 128)\n",
      "\n",
      "feature train shape: (160590, 101, 128)\n",
      "feature test shape: (4015, 101, 128)\n",
      "label train shape: (160590,)\n",
      "label test shape: (4015,)\n",
      "dim_time: 101\n",
      "dim_freq: 128\n",
      "Epoch 1/200\n",
      "   2/9033 [..............................] - ETA: 22:18 - loss: 1.0213 - accuracy: 0.0625WARNING:tensorflow:Method (on_train_batch_end) is slow compared to the batch update (0.120568). Check your callbacks.\n",
      "9033/9033 [==============================] - ETA: 0s - loss: 0.4830 - accuracy: 0.3084\n",
      "Epoch 00001: val_accuracy improved from -inf to 0.44030, saving model to /home/ys587/__Data/__whistle/__whistle_30_species/__fit_result_species/20210523_204759/fold1/epoch_01_valloss_0.3288_valacc_0.4403.hdf5\n",
      "9033/9033 [==============================] - 535s 59ms/step - loss: 0.4830 - accuracy: 0.3084 - val_loss: 0.3288 - val_accuracy: 0.4403\n",
      "Epoch 2/200\n",
      "9033/9033 [==============================] - ETA: 0s - loss: 0.3224 - accuracy: 0.4600\n",
      "Epoch 00002: val_accuracy did not improve from 0.44030\n",
      "9033/9033 [==============================] - 534s 59ms/step - loss: 0.3224 - accuracy: 0.4600 - val_loss: 0.3965 - val_accuracy: 0.3696\n",
      "Epoch 3/200\n",
      "9033/9033 [==============================] - ETA: 0s - loss: 0.2944 - accuracy: 0.5219\n",
      "Epoch 00003: val_accuracy improved from 0.44030 to 0.54767, saving model to /home/ys587/__Data/__whistle/__whistle_30_species/__fit_result_species/20210523_204759/fold1/epoch_03_valloss_0.2763_valacc_0.5477.hdf5\n",
      "9033/9033 [==============================] - 534s 59ms/step - loss: 0.2944 - accuracy: 0.5219 - val_loss: 0.2763 - val_accuracy: 0.5477\n",
      "Epoch 4/200\n",
      "9033/9033 [==============================] - ETA: 0s - loss: 0.2785 - accuracy: 0.5554\n",
      "Epoch 00004: val_accuracy did not improve from 0.54767\n",
      "9033/9033 [==============================] - 534s 59ms/step - loss: 0.2785 - accuracy: 0.5554 - val_loss: 0.3023 - val_accuracy: 0.4955\n",
      "Epoch 5/200\n",
      "9033/9033 [==============================] - ETA: 0s - loss: 0.2681 - accuracy: 0.5765\n",
      "Epoch 00005: val_accuracy improved from 0.54767 to 0.57565, saving model to /home/ys587/__Data/__whistle/__whistle_30_species/__fit_result_species/20210523_204759/fold1/epoch_05_valloss_0.2619_valacc_0.5756.hdf5\n",
      "9033/9033 [==============================] - 534s 59ms/step - loss: 0.2681 - accuracy: 0.5765 - val_loss: 0.2619 - val_accuracy: 0.5756\n",
      "Epoch 6/200\n",
      "9033/9033 [==============================] - ETA: 0s - loss: 0.2598 - accuracy: 0.5932\n",
      "Epoch 00006: val_accuracy did not improve from 0.57565\n",
      "9033/9033 [==============================] - 534s 59ms/step - loss: 0.2598 - accuracy: 0.5932 - val_loss: 0.2829 - val_accuracy: 0.5436\n",
      "Epoch 7/200\n",
      "9033/9033 [==============================] - ETA: 0s - loss: 0.2527 - accuracy: 0.6058\n",
      "Epoch 00007: val_accuracy did not improve from 0.57565\n",
      "9033/9033 [==============================] - 534s 59ms/step - loss: 0.2527 - accuracy: 0.6058 - val_loss: 0.2758 - val_accuracy: 0.5500\n",
      "Epoch 8/200\n",
      "9033/9033 [==============================] - ETA: 0s - loss: 0.2464 - accuracy: 0.6189\n",
      "Epoch 00008: val_accuracy did not improve from 0.57565\n",
      "9033/9033 [==============================] - 533s 59ms/step - loss: 0.2464 - accuracy: 0.6189 - val_loss: 0.2816 - val_accuracy: 0.5383\n",
      "Epoch 9/200\n",
      "9033/9033 [==============================] - ETA: 0s - loss: 0.2406 - accuracy: 0.6304\n",
      "Epoch 00009: val_accuracy improved from 0.57565 to 0.60693, saving model to /home/ys587/__Data/__whistle/__whistle_30_species/__fit_result_species/20210523_204759/fold1/epoch_09_valloss_0.2481_valacc_0.6069.hdf5\n",
      "9033/9033 [==============================] - 534s 59ms/step - loss: 0.2406 - accuracy: 0.6304 - val_loss: 0.2481 - val_accuracy: 0.6069\n",
      "Epoch 10/200\n",
      "9033/9033 [==============================] - ETA: 0s - loss: 0.2350 - accuracy: 0.6431\n",
      "Epoch 00010: val_accuracy did not improve from 0.60693\n",
      "9033/9033 [==============================] - 533s 59ms/step - loss: 0.2350 - accuracy: 0.6431 - val_loss: 0.2518 - val_accuracy: 0.5991\n",
      "Epoch 11/200\n",
      "9033/9033 [==============================] - ETA: 0s - loss: 0.2312 - accuracy: 0.6495\n",
      "Epoch 00011: val_accuracy did not improve from 0.60693\n",
      "9033/9033 [==============================] - 533s 59ms/step - loss: 0.2312 - accuracy: 0.6495 - val_loss: 0.2494 - val_accuracy: 0.6007\n",
      "Epoch 12/200\n",
      "9033/9033 [==============================] - ETA: 0s - loss: 0.2260 - accuracy: 0.6602\n",
      "Epoch 00012: val_accuracy did not improve from 0.60693\n",
      "9033/9033 [==============================] - 533s 59ms/step - loss: 0.2260 - accuracy: 0.6602 - val_loss: 0.3271 - val_accuracy: 0.4926\n",
      "Epoch 13/200\n",
      "9033/9033 [==============================] - ETA: 0s - loss: 0.2222 - accuracy: 0.6695\n",
      "Epoch 00013: val_accuracy improved from 0.60693 to 0.67254, saving model to /home/ys587/__Data/__whistle/__whistle_30_species/__fit_result_species/20210523_204759/fold1/epoch_13_valloss_0.2201_valacc_0.6725.hdf5\n",
      "9033/9033 [==============================] - 534s 59ms/step - loss: 0.2222 - accuracy: 0.6695 - val_loss: 0.2201 - val_accuracy: 0.6725\n",
      "Epoch 14/200\n",
      "9033/9033 [==============================] - ETA: 0s - loss: 0.2185 - accuracy: 0.6762\n",
      "Epoch 00014: val_accuracy improved from 0.67254 to 0.67410, saving model to /home/ys587/__Data/__whistle/__whistle_30_species/__fit_result_species/20210523_204759/fold1/epoch_14_valloss_0.2157_valacc_0.6741.hdf5\n",
      "9033/9033 [==============================] - 534s 59ms/step - loss: 0.2185 - accuracy: 0.6762 - val_loss: 0.2157 - val_accuracy: 0.6741\n",
      "Epoch 15/200\n",
      "9033/9033 [==============================] - ETA: 0s - loss: 0.2157 - accuracy: 0.6822\n",
      "Epoch 00015: val_accuracy improved from 0.67410 to 0.68787, saving model to /home/ys587/__Data/__whistle/__whistle_30_species/__fit_result_species/20210523_204759/fold1/epoch_15_valloss_0.2109_valacc_0.6879.hdf5\n",
      "9033/9033 [==============================] - 534s 59ms/step - loss: 0.2157 - accuracy: 0.6822 - val_loss: 0.2109 - val_accuracy: 0.6879\n",
      "Epoch 16/200\n",
      "9033/9033 [==============================] - ETA: 0s - loss: 0.2122 - accuracy: 0.6895\n",
      "Epoch 00016: val_accuracy did not improve from 0.68787\n",
      "9033/9033 [==============================] - 533s 59ms/step - loss: 0.2122 - accuracy: 0.6895 - val_loss: 0.2641 - val_accuracy: 0.5806\n",
      "Epoch 17/200\n",
      "9033/9033 [==============================] - ETA: 0s - loss: 0.2091 - accuracy: 0.6970\n",
      "Epoch 00017: val_accuracy did not improve from 0.68787\n",
      "9033/9033 [==============================] - 533s 59ms/step - loss: 0.2091 - accuracy: 0.6970 - val_loss: 0.2217 - val_accuracy: 0.6669\n",
      "Epoch 18/200\n",
      "9033/9033 [==============================] - ETA: 0s - loss: 0.2061 - accuracy: 0.7024\n",
      "Epoch 00018: val_accuracy did not improve from 0.68787\n",
      "9033/9033 [==============================] - 533s 59ms/step - loss: 0.2061 - accuracy: 0.7024 - val_loss: 0.2213 - val_accuracy: 0.6699\n",
      "Epoch 19/200\n",
      "9033/9033 [==============================] - ETA: 0s - loss: 0.2036 - accuracy: 0.7089\n",
      "Epoch 00019: val_accuracy did not improve from 0.68787\n",
      "9033/9033 [==============================] - 533s 59ms/step - loss: 0.2036 - accuracy: 0.7089 - val_loss: 0.2381 - val_accuracy: 0.6484\n",
      "Epoch 20/200\n",
      "9033/9033 [==============================] - ETA: 0s - loss: 0.2008 - accuracy: 0.7136\n",
      "Epoch 00020: val_accuracy did not improve from 0.68787\n",
      "9033/9033 [==============================] - 531s 59ms/step - loss: 0.2008 - accuracy: 0.7136 - val_loss: 0.2289 - val_accuracy: 0.6702\n",
      "Epoch 21/200\n",
      "9033/9033 [==============================] - ETA: 0s - loss: 0.1982 - accuracy: 0.7201\n",
      "Epoch 00021: val_accuracy improved from 0.68787 to 0.71255, saving model to /home/ys587/__Data/__whistle/__whistle_30_species/__fit_result_species/20210523_204759/fold1/epoch_21_valloss_0.2022_valacc_0.7125.hdf5\n",
      "9033/9033 [==============================] - 530s 59ms/step - loss: 0.1982 - accuracy: 0.7201 - val_loss: 0.2022 - val_accuracy: 0.7125\n",
      "Epoch 22/200\n",
      "9033/9033 [==============================] - ETA: 0s - loss: 0.1957 - accuracy: 0.7256\n",
      "Epoch 00022: val_accuracy did not improve from 0.71255\n",
      "9033/9033 [==============================] - 530s 59ms/step - loss: 0.1957 - accuracy: 0.7256 - val_loss: 0.2337 - val_accuracy: 0.6494\n",
      "Epoch 23/200\n",
      "9033/9033 [==============================] - ETA: 0s - loss: 0.1934 - accuracy: 0.7302\n",
      "Epoch 00023: val_accuracy did not improve from 0.71255\n",
      "9033/9033 [==============================] - 529s 59ms/step - loss: 0.1934 - accuracy: 0.7302 - val_loss: 0.2372 - val_accuracy: 0.6626\n",
      "Epoch 24/200\n",
      "9033/9033 [==============================] - ETA: 0s - loss: 0.1914 - accuracy: 0.7362\n",
      "Epoch 00024: val_accuracy did not improve from 0.71255\n",
      "9033/9033 [==============================] - 528s 58ms/step - loss: 0.1914 - accuracy: 0.7362 - val_loss: 0.2093 - val_accuracy: 0.7064\n",
      "Epoch 25/200\n",
      "9033/9033 [==============================] - ETA: 0s - loss: 0.1892 - accuracy: 0.7401\n",
      "Epoch 00025: val_accuracy did not improve from 0.71255\n",
      "9033/9033 [==============================] - 528s 58ms/step - loss: 0.1892 - accuracy: 0.7401 - val_loss: 0.2174 - val_accuracy: 0.6884\n",
      "Epoch 26/200\n",
      "9033/9033 [==============================] - ETA: 0s - loss: 0.1878 - accuracy: 0.7433\n",
      "Epoch 00026: val_accuracy did not improve from 0.71255\n",
      "9033/9033 [==============================] - 528s 58ms/step - loss: 0.1878 - accuracy: 0.7433 - val_loss: 0.3102 - val_accuracy: 0.6050\n",
      "Epoch 27/200\n",
      "9033/9033 [==============================] - ETA: 0s - loss: 0.1852 - accuracy: 0.7498\n",
      "Epoch 00027: val_accuracy improved from 0.71255 to 0.72782, saving model to /home/ys587/__Data/__whistle/__whistle_30_species/__fit_result_species/20210523_204759/fold1/epoch_27_valloss_0.2007_valacc_0.7278.hdf5\n",
      "9033/9033 [==============================] - 529s 59ms/step - loss: 0.1852 - accuracy: 0.7498 - val_loss: 0.2007 - val_accuracy: 0.7278\n",
      "Epoch 28/200\n",
      "9033/9033 [==============================] - ETA: 0s - loss: 0.1835 - accuracy: 0.7530\n",
      "Epoch 00028: val_accuracy improved from 0.72782 to 0.73268, saving model to /home/ys587/__Data/__whistle/__whistle_30_species/__fit_result_species/20210523_204759/fold1/epoch_28_valloss_0.1969_valacc_0.7327.hdf5\n",
      "9033/9033 [==============================] - 529s 59ms/step - loss: 0.1835 - accuracy: 0.7530 - val_loss: 0.1969 - val_accuracy: 0.7327\n",
      "Epoch 29/200\n",
      "9033/9033 [==============================] - ETA: 0s - loss: 0.1824 - accuracy: 0.7574\n",
      "Epoch 00029: val_accuracy did not improve from 0.73268\n",
      "9033/9033 [==============================] - 528s 58ms/step - loss: 0.1824 - accuracy: 0.7574 - val_loss: 0.2075 - val_accuracy: 0.7145\n",
      "Epoch 30/200\n",
      "9033/9033 [==============================] - ETA: 0s - loss: 0.1805 - accuracy: 0.7607\n",
      "Epoch 00030: val_accuracy did not improve from 0.73268\n",
      "9033/9033 [==============================] - 529s 59ms/step - loss: 0.1805 - accuracy: 0.7607 - val_loss: 0.2266 - val_accuracy: 0.6853\n",
      "Epoch 31/200\n",
      "9033/9033 [==============================] - ETA: 0s - loss: 0.1788 - accuracy: 0.7646\n",
      "Epoch 00031: val_accuracy did not improve from 0.73268\n",
      "9033/9033 [==============================] - 529s 59ms/step - loss: 0.1788 - accuracy: 0.7646 - val_loss: 0.2251 - val_accuracy: 0.6853\n",
      "Epoch 32/200\n",
      "9033/9033 [==============================] - ETA: 0s - loss: 0.1779 - accuracy: 0.7668\n",
      "Epoch 00032: val_accuracy did not improve from 0.73268\n",
      "9033/9033 [==============================] - 529s 59ms/step - loss: 0.1779 - accuracy: 0.7668 - val_loss: 0.2125 - val_accuracy: 0.7134\n",
      "Epoch 33/200\n",
      "9033/9033 [==============================] - ETA: 0s - loss: 0.1755 - accuracy: 0.7716\n",
      "Epoch 00033: val_accuracy did not improve from 0.73268\n",
      "9033/9033 [==============================] - 529s 59ms/step - loss: 0.1755 - accuracy: 0.7716 - val_loss: 0.2180 - val_accuracy: 0.7058\n",
      "Epoch 34/200\n",
      "9033/9033 [==============================] - ETA: 0s - loss: 0.1743 - accuracy: 0.7770\n",
      "Epoch 00034: val_accuracy did not improve from 0.73268\n",
      "9033/9033 [==============================] - 529s 59ms/step - loss: 0.1743 - accuracy: 0.7770 - val_loss: 0.2547 - val_accuracy: 0.6680\n",
      "Epoch 35/200\n",
      "9033/9033 [==============================] - ETA: 0s - loss: 0.1728 - accuracy: 0.7792\n",
      "Epoch 00035: val_accuracy did not improve from 0.73268\n",
      "9033/9033 [==============================] - 529s 59ms/step - loss: 0.1728 - accuracy: 0.7792 - val_loss: 0.2301 - val_accuracy: 0.6978\n",
      "Epoch 36/200\n",
      "9033/9033 [==============================] - ETA: 0s - loss: 0.1710 - accuracy: 0.7832\n",
      "Epoch 00036: val_accuracy improved from 0.73268 to 0.73922, saving model to /home/ys587/__Data/__whistle/__whistle_30_species/__fit_result_species/20210523_204759/fold1/epoch_36_valloss_0.2008_valacc_0.7392.hdf5\n",
      "9033/9033 [==============================] - 531s 59ms/step - loss: 0.1710 - accuracy: 0.7832 - val_loss: 0.2008 - val_accuracy: 0.7392\n",
      "Epoch 37/200\n",
      "9033/9033 [==============================] - ETA: 0s - loss: 0.1703 - accuracy: 0.7858\n",
      "Epoch 00037: val_accuracy did not improve from 0.73922\n",
      "9033/9033 [==============================] - 529s 59ms/step - loss: 0.1703 - accuracy: 0.7858 - val_loss: 0.2125 - val_accuracy: 0.7178\n",
      "Epoch 38/200\n",
      "9033/9033 [==============================] - ETA: 0s - loss: 0.1688 - accuracy: 0.7886\n",
      "Epoch 00038: val_accuracy did not improve from 0.73922\n",
      "9033/9033 [==============================] - 529s 59ms/step - loss: 0.1688 - accuracy: 0.7886 - val_loss: 0.2142 - val_accuracy: 0.7145\n",
      "Epoch 39/200\n",
      "9033/9033 [==============================] - ETA: 0s - loss: 0.1675 - accuracy: 0.7923\n",
      "Epoch 00039: val_accuracy did not improve from 0.73922\n",
      "9033/9033 [==============================] - 529s 59ms/step - loss: 0.1675 - accuracy: 0.7923 - val_loss: 0.2100 - val_accuracy: 0.7320\n",
      "Epoch 40/200\n",
      "9033/9033 [==============================] - ETA: 0s - loss: 0.1664 - accuracy: 0.7940\n",
      "Epoch 00040: val_accuracy did not improve from 0.73922\n",
      "9033/9033 [==============================] - 529s 59ms/step - loss: 0.1664 - accuracy: 0.7940 - val_loss: 0.2164 - val_accuracy: 0.7204\n",
      "Epoch 41/200\n",
      "9033/9033 [==============================] - ETA: 0s - loss: 0.1652 - accuracy: 0.7966\n",
      "Epoch 00041: val_accuracy did not improve from 0.73922\n",
      "9033/9033 [==============================] - 529s 59ms/step - loss: 0.1652 - accuracy: 0.7966 - val_loss: 0.2416 - val_accuracy: 0.6834\n",
      "Epoch 42/200\n",
      "9033/9033 [==============================] - ETA: 0s - loss: 0.1639 - accuracy: 0.8006\n",
      "Epoch 00042: val_accuracy did not improve from 0.73922\n",
      "9033/9033 [==============================] - 530s 59ms/step - loss: 0.1639 - accuracy: 0.8006 - val_loss: 0.2147 - val_accuracy: 0.7226\n",
      "Epoch 43/200\n",
      "9033/9033 [==============================] - ETA: 0s - loss: 0.1635 - accuracy: 0.8026\n",
      "Epoch 00043: val_accuracy did not improve from 0.73922\n",
      "9033/9033 [==============================] - 533s 59ms/step - loss: 0.1635 - accuracy: 0.8026 - val_loss: 0.2394 - val_accuracy: 0.7066\n",
      "Epoch 44/200\n",
      "9033/9033 [==============================] - ETA: 0s - loss: 0.1619 - accuracy: 0.8050\n",
      "Epoch 00044: val_accuracy improved from 0.73922 to 0.74084, saving model to /home/ys587/__Data/__whistle/__whistle_30_species/__fit_result_species/20210523_204759/fold1/epoch_44_valloss_0.2132_valacc_0.7408.hdf5\n",
      "9033/9033 [==============================] - 533s 59ms/step - loss: 0.1619 - accuracy: 0.8050 - val_loss: 0.2132 - val_accuracy: 0.7408\n",
      "Epoch 45/200\n",
      "9033/9033 [==============================] - ETA: 0s - loss: 0.1613 - accuracy: 0.8072\n",
      "Epoch 00045: val_accuracy did not improve from 0.74084\n",
      "9033/9033 [==============================] - 533s 59ms/step - loss: 0.1613 - accuracy: 0.8072 - val_loss: 0.2185 - val_accuracy: 0.7272\n",
      "Epoch 46/200\n",
      "9033/9033 [==============================] - ETA: 0s - loss: 0.1595 - accuracy: 0.8114\n",
      "Epoch 00046: val_accuracy did not improve from 0.74084\n",
      "9033/9033 [==============================] - 532s 59ms/step - loss: 0.1595 - accuracy: 0.8114 - val_loss: 0.2243 - val_accuracy: 0.7245\n",
      "Epoch 47/200\n",
      "9033/9033 [==============================] - ETA: 0s - loss: 0.1581 - accuracy: 0.8142\n",
      "Epoch 00047: val_accuracy did not improve from 0.74084\n",
      "9033/9033 [==============================] - 533s 59ms/step - loss: 0.1581 - accuracy: 0.8142 - val_loss: 0.2080 - val_accuracy: 0.7392\n",
      "Epoch 48/200\n",
      "9033/9033 [==============================] - ETA: 0s - loss: 0.1575 - accuracy: 0.8161\n",
      "Epoch 00048: val_accuracy did not improve from 0.74084\n",
      "9033/9033 [==============================] - 531s 59ms/step - loss: 0.1575 - accuracy: 0.8161 - val_loss: 0.2250 - val_accuracy: 0.7127\n",
      "Epoch 49/200\n",
      "9033/9033 [==============================] - ETA: 0s - loss: 0.1557 - accuracy: 0.8185\n",
      "Epoch 00049: val_accuracy improved from 0.74084 to 0.75093, saving model to /home/ys587/__Data/__whistle/__whistle_30_species/__fit_result_species/20210523_204759/fold1/epoch_49_valloss_0.2078_valacc_0.7509.hdf5\n",
      "9033/9033 [==============================] - 530s 59ms/step - loss: 0.1557 - accuracy: 0.8185 - val_loss: 0.2078 - val_accuracy: 0.7509\n",
      "Epoch 50/200\n",
      "9033/9033 [==============================] - ETA: 0s - loss: 0.1550 - accuracy: 0.8208\n",
      "Epoch 00050: val_accuracy did not improve from 0.75093\n",
      "9033/9033 [==============================] - 529s 59ms/step - loss: 0.1550 - accuracy: 0.8208 - val_loss: 0.2221 - val_accuracy: 0.7347\n",
      "Epoch 51/200\n",
      "9033/9033 [==============================] - ETA: 0s - loss: 0.1536 - accuracy: 0.8244\n",
      "Epoch 00051: val_accuracy did not improve from 0.75093\n",
      "9033/9033 [==============================] - 529s 59ms/step - loss: 0.1536 - accuracy: 0.8244 - val_loss: 0.2151 - val_accuracy: 0.7453\n",
      "Epoch 52/200\n",
      "9033/9033 [==============================] - ETA: 0s - loss: 0.1527 - accuracy: 0.8263\n",
      "Epoch 00052: val_accuracy did not improve from 0.75093\n",
      "9033/9033 [==============================] - 530s 59ms/step - loss: 0.1527 - accuracy: 0.8263 - val_loss: 0.2240 - val_accuracy: 0.7347\n",
      "Epoch 53/200\n",
      "9033/9033 [==============================] - ETA: 0s - loss: 0.1520 - accuracy: 0.8276\n",
      "Epoch 00053: val_accuracy did not improve from 0.75093\n",
      "9033/9033 [==============================] - 530s 59ms/step - loss: 0.1520 - accuracy: 0.8276 - val_loss: 0.2097 - val_accuracy: 0.7434\n",
      "Epoch 54/200\n",
      "9033/9033 [==============================] - ETA: 0s - loss: 0.1510 - accuracy: 0.8296\n",
      "Epoch 00054: val_accuracy did not improve from 0.75093\n",
      "9033/9033 [==============================] - 532s 59ms/step - loss: 0.1510 - accuracy: 0.8296 - val_loss: 0.2252 - val_accuracy: 0.7175\n",
      "Epoch 55/200\n",
      "9033/9033 [==============================] - ETA: 0s - loss: 0.1491 - accuracy: 0.8329\n",
      "Epoch 00055: val_accuracy did not improve from 0.75093\n",
      "9033/9033 [==============================] - 532s 59ms/step - loss: 0.1491 - accuracy: 0.8329 - val_loss: 0.2188 - val_accuracy: 0.7344\n",
      "Epoch 56/200\n",
      "9033/9033 [==============================] - ETA: 0s - loss: 0.1489 - accuracy: 0.8349\n",
      "Epoch 00056: val_accuracy did not improve from 0.75093\n",
      "9033/9033 [==============================] - 533s 59ms/step - loss: 0.1489 - accuracy: 0.8349 - val_loss: 0.2157 - val_accuracy: 0.7455\n",
      "Epoch 57/200\n",
      "9033/9033 [==============================] - ETA: 0s - loss: 0.1472 - accuracy: 0.8382\n",
      "Epoch 00057: val_accuracy did not improve from 0.75093\n",
      "9033/9033 [==============================] - 533s 59ms/step - loss: 0.1472 - accuracy: 0.8382 - val_loss: 0.2313 - val_accuracy: 0.7213\n",
      "Epoch 58/200\n",
      "9033/9033 [==============================] - ETA: 0s - loss: 0.1465 - accuracy: 0.8390\n",
      "Epoch 00058: val_accuracy did not improve from 0.75093\n",
      "9033/9033 [==============================] - 530s 59ms/step - loss: 0.1465 - accuracy: 0.8390 - val_loss: 0.2226 - val_accuracy: 0.7441\n",
      "Epoch 59/200\n",
      "9033/9033 [==============================] - ETA: 0s - loss: 0.1458 - accuracy: 0.8407\n",
      "Epoch 00059: val_accuracy did not improve from 0.75093\n",
      "9033/9033 [==============================] - 529s 59ms/step - loss: 0.1458 - accuracy: 0.8407 - val_loss: 0.2169 - val_accuracy: 0.7411\n",
      "Epoch 60/200\n",
      "9033/9033 [==============================] - ETA: 0s - loss: 0.1440 - accuracy: 0.8449\n",
      "Epoch 00060: val_accuracy improved from 0.75093 to 0.75542, saving model to /home/ys587/__Data/__whistle/__whistle_30_species/__fit_result_species/20210523_204759/fold1/epoch_60_valloss_0.2125_valacc_0.7554.hdf5\n",
      "9033/9033 [==============================] - 529s 59ms/step - loss: 0.1440 - accuracy: 0.8449 - val_loss: 0.2125 - val_accuracy: 0.7554\n",
      "Epoch 61/200\n",
      "9033/9033 [==============================] - ETA: 0s - loss: 0.1434 - accuracy: 0.8463\n",
      "Epoch 00061: val_accuracy did not improve from 0.75542\n",
      "9033/9033 [==============================] - 529s 59ms/step - loss: 0.1434 - accuracy: 0.8463 - val_loss: 0.2125 - val_accuracy: 0.7534\n",
      "Epoch 62/200\n",
      "9033/9033 [==============================] - ETA: 0s - loss: 0.1425 - accuracy: 0.8477\n",
      "Epoch 00062: val_accuracy did not improve from 0.75542\n",
      "9033/9033 [==============================] - 529s 59ms/step - loss: 0.1425 - accuracy: 0.8477 - val_loss: 0.2261 - val_accuracy: 0.7471\n",
      "Epoch 63/200\n",
      "9033/9033 [==============================] - ETA: 0s - loss: 0.1410 - accuracy: 0.8513\n",
      "Epoch 00063: val_accuracy did not improve from 0.75542\n",
      "9033/9033 [==============================] - 529s 59ms/step - loss: 0.1410 - accuracy: 0.8513 - val_loss: 0.2173 - val_accuracy: 0.7412\n",
      "Epoch 64/200\n",
      "9033/9033 [==============================] - ETA: 0s - loss: 0.1397 - accuracy: 0.8537\n",
      "Epoch 00064: val_accuracy did not improve from 0.75542\n",
      "9033/9033 [==============================] - 530s 59ms/step - loss: 0.1397 - accuracy: 0.8537 - val_loss: 0.2191 - val_accuracy: 0.7438\n",
      "Epoch 65/200\n",
      "9033/9033 [==============================] - ETA: 0s - loss: 0.1387 - accuracy: 0.8554\n",
      "Epoch 00065: val_accuracy did not improve from 0.75542\n",
      "9033/9033 [==============================] - 532s 59ms/step - loss: 0.1387 - accuracy: 0.8554 - val_loss: 0.2321 - val_accuracy: 0.7333\n",
      "Epoch 66/200\n",
      "9033/9033 [==============================] - ETA: 0s - loss: 0.1382 - accuracy: 0.8573\n",
      "Epoch 00066: val_accuracy did not improve from 0.75542\n",
      "9033/9033 [==============================] - 533s 59ms/step - loss: 0.1382 - accuracy: 0.8573 - val_loss: 0.2181 - val_accuracy: 0.7553\n",
      "Epoch 67/200\n",
      "9033/9033 [==============================] - ETA: 0s - loss: 0.1367 - accuracy: 0.8590\n",
      "Epoch 00067: val_accuracy improved from 0.75542 to 0.75904, saving model to /home/ys587/__Data/__whistle/__whistle_30_species/__fit_result_species/20210523_204759/fold1/epoch_67_valloss_0.2158_valacc_0.7590.hdf5\n",
      "9033/9033 [==============================] - 533s 59ms/step - loss: 0.1367 - accuracy: 0.8590 - val_loss: 0.2158 - val_accuracy: 0.7590\n",
      "Epoch 68/200\n",
      "9033/9033 [==============================] - ETA: 0s - loss: 0.1358 - accuracy: 0.8620\n",
      "Epoch 00068: val_accuracy did not improve from 0.75904\n",
      "9033/9033 [==============================] - 533s 59ms/step - loss: 0.1358 - accuracy: 0.8620 - val_loss: 0.2203 - val_accuracy: 0.7514\n",
      "Epoch 69/200\n",
      "9033/9033 [==============================] - ETA: 0s - loss: 0.1349 - accuracy: 0.8633\n",
      "Epoch 00069: val_accuracy did not improve from 0.75904\n",
      "9033/9033 [==============================] - 533s 59ms/step - loss: 0.1349 - accuracy: 0.8633 - val_loss: 0.2216 - val_accuracy: 0.7501\n",
      "Epoch 70/200\n",
      "9033/9033 [==============================] - ETA: 0s - loss: 0.1342 - accuracy: 0.8660\n",
      "Epoch 00070: val_accuracy did not improve from 0.75904\n",
      "9033/9033 [==============================] - 532s 59ms/step - loss: 0.1342 - accuracy: 0.8660 - val_loss: 0.2274 - val_accuracy: 0.7531\n",
      "Epoch 71/200\n",
      "9033/9033 [==============================] - ETA: 0s - loss: 0.1332 - accuracy: 0.8683\n",
      "Epoch 00071: val_accuracy did not improve from 0.75904\n",
      "9033/9033 [==============================] - 533s 59ms/step - loss: 0.1332 - accuracy: 0.8683 - val_loss: 0.2303 - val_accuracy: 0.7431\n",
      "Epoch 72/200\n",
      "9033/9033 [==============================] - ETA: 0s - loss: 0.1321 - accuracy: 0.8706\n",
      "Epoch 00072: val_accuracy improved from 0.75904 to 0.76003, saving model to /home/ys587/__Data/__whistle/__whistle_30_species/__fit_result_species/20210523_204759/fold1/epoch_72_valloss_0.2149_valacc_0.7600.hdf5\n",
      "9033/9033 [==============================] - 533s 59ms/step - loss: 0.1321 - accuracy: 0.8706 - val_loss: 0.2149 - val_accuracy: 0.7600\n",
      "Epoch 73/200\n",
      "9033/9033 [==============================] - ETA: 0s - loss: 0.1312 - accuracy: 0.8710\n",
      "Epoch 00073: val_accuracy did not improve from 0.76003\n",
      "9033/9033 [==============================] - 533s 59ms/step - loss: 0.1312 - accuracy: 0.8710 - val_loss: 0.2204 - val_accuracy: 0.7545\n",
      "Epoch 74/200\n",
      "9033/9033 [==============================] - ETA: 0s - loss: 0.1298 - accuracy: 0.8739\n",
      "Epoch 00074: val_accuracy did not improve from 0.76003\n",
      "9033/9033 [==============================] - 533s 59ms/step - loss: 0.1298 - accuracy: 0.8739 - val_loss: 0.2263 - val_accuracy: 0.7446\n",
      "Epoch 75/200\n",
      "9033/9033 [==============================] - ETA: 0s - loss: 0.1295 - accuracy: 0.8747\n",
      "Epoch 00075: val_accuracy did not improve from 0.76003\n",
      "9033/9033 [==============================] - 533s 59ms/step - loss: 0.1295 - accuracy: 0.8747 - val_loss: 0.2831 - val_accuracy: 0.7096\n",
      "Epoch 76/200\n",
      "9033/9033 [==============================] - ETA: 0s - loss: 0.1275 - accuracy: 0.8782\n",
      "Epoch 00076: val_accuracy did not improve from 0.76003\n",
      "9033/9033 [==============================] - 533s 59ms/step - loss: 0.1275 - accuracy: 0.8782 - val_loss: 0.2269 - val_accuracy: 0.7483\n",
      "Epoch 77/200\n",
      "9033/9033 [==============================] - ETA: 0s - loss: 0.1275 - accuracy: 0.8785\n",
      "Epoch 00077: val_accuracy did not improve from 0.76003\n",
      "9033/9033 [==============================] - 533s 59ms/step - loss: 0.1275 - accuracy: 0.8785 - val_loss: 0.2260 - val_accuracy: 0.7509\n",
      "Epoch 78/200\n",
      "9033/9033 [==============================] - ETA: 0s - loss: 0.1264 - accuracy: 0.8811\n",
      "Epoch 00078: val_accuracy did not improve from 0.76003\n",
      "9033/9033 [==============================] - 533s 59ms/step - loss: 0.1264 - accuracy: 0.8811 - val_loss: 0.2488 - val_accuracy: 0.7434\n",
      "Epoch 79/200\n",
      "9033/9033 [==============================] - ETA: 0s - loss: 0.1254 - accuracy: 0.8827\n",
      "Epoch 00079: val_accuracy did not improve from 0.76003\n",
      "9033/9033 [==============================] - 532s 59ms/step - loss: 0.1254 - accuracy: 0.8827 - val_loss: 0.2395 - val_accuracy: 0.7244\n",
      "Epoch 80/200\n",
      "9033/9033 [==============================] - ETA: 0s - loss: 0.1243 - accuracy: 0.8847\n",
      "Epoch 00080: val_accuracy did not improve from 0.76003\n",
      "9033/9033 [==============================] - 532s 59ms/step - loss: 0.1243 - accuracy: 0.8847 - val_loss: 0.2272 - val_accuracy: 0.7568\n",
      "Epoch 81/200\n",
      "9033/9033 [==============================] - ETA: 0s - loss: 0.1230 - accuracy: 0.8864\n",
      "Epoch 00081: val_accuracy did not improve from 0.76003\n",
      "9033/9033 [==============================] - 533s 59ms/step - loss: 0.1230 - accuracy: 0.8864 - val_loss: 0.2404 - val_accuracy: 0.7299\n",
      "Epoch 82/200\n",
      "9033/9033 [==============================] - ETA: 0s - loss: 0.1228 - accuracy: 0.8874\n",
      "Epoch 00082: val_accuracy did not improve from 0.76003\n",
      "9033/9033 [==============================] - 532s 59ms/step - loss: 0.1228 - accuracy: 0.8874 - val_loss: 0.2271 - val_accuracy: 0.7526\n",
      "Epoch 83/200\n",
      "9033/9033 [==============================] - ETA: 0s - loss: 0.1214 - accuracy: 0.8899\n",
      "Epoch 00083: val_accuracy did not improve from 0.76003\n",
      "9033/9033 [==============================] - 532s 59ms/step - loss: 0.1214 - accuracy: 0.8899 - val_loss: 0.2284 - val_accuracy: 0.7564\n",
      "Epoch 84/200\n",
      "9033/9033 [==============================] - ETA: 0s - loss: 0.1209 - accuracy: 0.8917\n",
      "Epoch 00084: val_accuracy did not improve from 0.76003\n",
      "9033/9033 [==============================] - 533s 59ms/step - loss: 0.1209 - accuracy: 0.8917 - val_loss: 0.2432 - val_accuracy: 0.7449\n",
      "Epoch 85/200\n",
      "9033/9033 [==============================] - ETA: 0s - loss: 0.1197 - accuracy: 0.8930\n",
      "Epoch 00085: val_accuracy did not improve from 0.76003\n",
      "9033/9033 [==============================] - 532s 59ms/step - loss: 0.1197 - accuracy: 0.8930 - val_loss: 0.2603 - val_accuracy: 0.7231\n",
      "Epoch 86/200\n",
      "9033/9033 [==============================] - ETA: 0s - loss: 0.1192 - accuracy: 0.8943\n",
      "Epoch 00086: val_accuracy did not improve from 0.76003\n",
      "9033/9033 [==============================] - 532s 59ms/step - loss: 0.1192 - accuracy: 0.8943 - val_loss: 0.2476 - val_accuracy: 0.7290\n",
      "Epoch 87/200\n",
      "9033/9033 [==============================] - ETA: 0s - loss: 0.1185 - accuracy: 0.8959\n",
      "Epoch 00087: val_accuracy did not improve from 0.76003\n",
      "9033/9033 [==============================] - 532s 59ms/step - loss: 0.1185 - accuracy: 0.8959 - val_loss: 0.2459 - val_accuracy: 0.7424\n",
      "Epoch 88/200\n",
      "9033/9033 [==============================] - ETA: 0s - loss: 0.1173 - accuracy: 0.8971\n",
      "Epoch 00088: val_accuracy did not improve from 0.76003\n",
      "9033/9033 [==============================] - 532s 59ms/step - loss: 0.1173 - accuracy: 0.8971 - val_loss: 0.2539 - val_accuracy: 0.7254\n",
      "Epoch 89/200\n",
      "9033/9033 [==============================] - ETA: 0s - loss: 0.1161 - accuracy: 0.9000\n",
      "Epoch 00089: val_accuracy did not improve from 0.76003\n",
      "9033/9033 [==============================] - 532s 59ms/step - loss: 0.1161 - accuracy: 0.9000 - val_loss: 0.2305 - val_accuracy: 0.7522\n",
      "Epoch 90/200\n",
      "9033/9033 [==============================] - ETA: 0s - loss: 0.1159 - accuracy: 0.9000\n",
      "Epoch 00090: val_accuracy did not improve from 0.76003\n",
      "9033/9033 [==============================] - 532s 59ms/step - loss: 0.1159 - accuracy: 0.9000 - val_loss: 0.2714 - val_accuracy: 0.7164\n",
      "Epoch 91/200\n",
      "9033/9033 [==============================] - ETA: 0s - loss: 0.1147 - accuracy: 0.9014\n",
      "Epoch 00091: val_accuracy did not improve from 0.76003\n",
      "9033/9033 [==============================] - 532s 59ms/step - loss: 0.1147 - accuracy: 0.9014 - val_loss: 0.2574 - val_accuracy: 0.7376\n",
      "Epoch 92/200\n",
      "9033/9033 [==============================] - ETA: 0s - loss: 0.1140 - accuracy: 0.9042\n",
      "Epoch 00092: val_accuracy did not improve from 0.76003\n",
      "9033/9033 [==============================] - 532s 59ms/step - loss: 0.1140 - accuracy: 0.9042 - val_loss: 0.2608 - val_accuracy: 0.7294\n",
      "Epoch 00092: early stopping\n",
      "Best model:0.76\n",
      "/home/ys587/__Data/__whistle/__whistle_30_species/__fit_result_species/20210523_204759/fold1/epoch_72_valloss_0.2149_valacc_0.7600.hdf5\n",
      "Fold 2:\n",
      "train_set\n",
      "[    0     1     2 ... 20071 20072 20073]\n",
      "test_set\n",
      "[  864   865   866 ... 18994 18995 18996]\n",
      "The shape of feas_orig: (20074, 101, 128)\n",
      "\n",
      "4015\n",
      "(4015, 101, 128)\n",
      "\n",
      "The shape of feas_aug: (200740, 101, 128)\n",
      "\n",
      "16059\n",
      "(160590, 101, 128)\n",
      "\n",
      "feature train shape: (160590, 101, 128)\n",
      "feature test shape: (4015, 101, 128)\n",
      "label train shape: (160590,)\n",
      "label test shape: (4015,)\n",
      "dim_time: 101\n",
      "dim_freq: 128\n",
      "Epoch 1/200\n",
      "   2/9033 [..............................] - ETA: 22:09 - loss: 1.0223 - accuracy: 0.0938WARNING:tensorflow:Method (on_train_batch_end) is slow compared to the batch update (0.119781). Check your callbacks.\n",
      "9033/9033 [==============================] - ETA: 0s - loss: 0.4864 - accuracy: 0.2947\n",
      "Epoch 00001: val_accuracy improved from -inf to 0.38248, saving model to /home/ys587/__Data/__whistle/__whistle_30_species/__fit_result_species/20210523_204759/fold2/epoch_01_valloss_0.3421_valacc_0.3825.hdf5\n",
      "9033/9033 [==============================] - 537s 59ms/step - loss: 0.4864 - accuracy: 0.2947 - val_loss: 0.3421 - val_accuracy: 0.3825\n",
      "Epoch 2/200\n",
      "9033/9033 [==============================] - ETA: 0s - loss: 0.3291 - accuracy: 0.4364\n",
      "Epoch 00002: val_accuracy improved from 0.38248 to 0.44535, saving model to /home/ys587/__Data/__whistle/__whistle_30_species/__fit_result_species/20210523_204759/fold2/epoch_02_valloss_0.3168_valacc_0.4454.hdf5\n",
      "9033/9033 [==============================] - 536s 59ms/step - loss: 0.3291 - accuracy: 0.4364 - val_loss: 0.3168 - val_accuracy: 0.4454\n",
      "Epoch 3/200\n",
      "9033/9033 [==============================] - ETA: 0s - loss: 0.3058 - accuracy: 0.4884\n",
      "Epoch 00003: val_accuracy did not improve from 0.44535\n",
      "9033/9033 [==============================] - 535s 59ms/step - loss: 0.3058 - accuracy: 0.4884 - val_loss: 0.3231 - val_accuracy: 0.4285\n",
      "Epoch 4/200\n",
      "9033/9033 [==============================] - ETA: 0s - loss: 0.2904 - accuracy: 0.5216\n",
      "Epoch 00004: val_accuracy improved from 0.44535 to 0.45165, saving model to /home/ys587/__Data/__whistle/__whistle_30_species/__fit_result_species/20210523_204759/fold2/epoch_04_valloss_0.3178_valacc_0.4516.hdf5\n",
      "9033/9033 [==============================] - 536s 59ms/step - loss: 0.2904 - accuracy: 0.5216 - val_loss: 0.3178 - val_accuracy: 0.4516\n",
      "Epoch 5/200\n",
      "9033/9033 [==============================] - ETA: 0s - loss: 0.2798 - accuracy: 0.5462\n",
      "Epoch 00005: val_accuracy improved from 0.45165 to 0.48579, saving model to /home/ys587/__Data/__whistle/__whistle_30_species/__fit_result_species/20210523_204759/fold2/epoch_05_valloss_0.3070_valacc_0.4858.hdf5\n",
      "9033/9033 [==============================] - 536s 59ms/step - loss: 0.2798 - accuracy: 0.5462 - val_loss: 0.3070 - val_accuracy: 0.4858\n",
      "Epoch 6/200\n",
      "9033/9033 [==============================] - ETA: 0s - loss: 0.2708 - accuracy: 0.5675\n",
      "Epoch 00006: val_accuracy improved from 0.48579 to 0.49614, saving model to /home/ys587/__Data/__whistle/__whistle_30_species/__fit_result_species/20210523_204759/fold2/epoch_06_valloss_0.2979_valacc_0.4961.hdf5\n",
      "9033/9033 [==============================] - 536s 59ms/step - loss: 0.2708 - accuracy: 0.5675 - val_loss: 0.2979 - val_accuracy: 0.4961\n",
      "Epoch 7/200\n",
      "9033/9033 [==============================] - ETA: 0s - loss: 0.2626 - accuracy: 0.5862\n",
      "Epoch 00007: val_accuracy did not improve from 0.49614\n",
      "9033/9033 [==============================] - 536s 59ms/step - loss: 0.2626 - accuracy: 0.5862 - val_loss: 0.3072 - val_accuracy: 0.4716\n",
      "Epoch 8/200\n",
      "9033/9033 [==============================] - ETA: 0s - loss: 0.2557 - accuracy: 0.6017\n",
      "Epoch 00008: val_accuracy improved from 0.49614 to 0.56188, saving model to /home/ys587/__Data/__whistle/__whistle_30_species/__fit_result_species/20210523_204759/fold2/epoch_08_valloss_0.2689_valacc_0.5619.hdf5\n",
      "9033/9033 [==============================] - 536s 59ms/step - loss: 0.2557 - accuracy: 0.6017 - val_loss: 0.2689 - val_accuracy: 0.5619\n",
      "Epoch 9/200\n",
      "9033/9033 [==============================] - ETA: 0s - loss: 0.2493 - accuracy: 0.6152\n",
      "Epoch 00009: val_accuracy improved from 0.56188 to 0.61721, saving model to /home/ys587/__Data/__whistle/__whistle_30_species/__fit_result_species/20210523_204759/fold2/epoch_09_valloss_0.2415_valacc_0.6172.hdf5\n",
      "9033/9033 [==============================] - 536s 59ms/step - loss: 0.2493 - accuracy: 0.6152 - val_loss: 0.2415 - val_accuracy: 0.6172\n",
      "Epoch 10/200\n",
      "9033/9033 [==============================] - ETA: 0s - loss: 0.2436 - accuracy: 0.6282\n",
      "Epoch 00010: val_accuracy did not improve from 0.61721\n",
      "9033/9033 [==============================] - 535s 59ms/step - loss: 0.2436 - accuracy: 0.6282 - val_loss: 0.2533 - val_accuracy: 0.6073\n",
      "Epoch 11/200\n",
      "9033/9033 [==============================] - ETA: 0s - loss: 0.2385 - accuracy: 0.6389\n",
      "Epoch 00011: val_accuracy improved from 0.61721 to 0.62930, saving model to /home/ys587/__Data/__whistle/__whistle_30_species/__fit_result_species/20210523_204759/fold2/epoch_11_valloss_0.2367_valacc_0.6293.hdf5\n",
      "9033/9033 [==============================] - 536s 59ms/step - loss: 0.2385 - accuracy: 0.6389 - val_loss: 0.2367 - val_accuracy: 0.6293\n",
      "Epoch 12/200\n",
      "9033/9033 [==============================] - ETA: 0s - loss: 0.2343 - accuracy: 0.6457\n",
      "Epoch 00012: val_accuracy improved from 0.62930 to 0.64020, saving model to /home/ys587/__Data/__whistle/__whistle_30_species/__fit_result_species/20210523_204759/fold2/epoch_12_valloss_0.2403_valacc_0.6402.hdf5\n",
      "9033/9033 [==============================] - 536s 59ms/step - loss: 0.2343 - accuracy: 0.6457 - val_loss: 0.2403 - val_accuracy: 0.6402\n",
      "Epoch 13/200\n",
      "9033/9033 [==============================] - ETA: 0s - loss: 0.2301 - accuracy: 0.6562\n",
      "Epoch 00013: val_accuracy did not improve from 0.64020\n",
      "9033/9033 [==============================] - 535s 59ms/step - loss: 0.2301 - accuracy: 0.6562 - val_loss: 0.2849 - val_accuracy: 0.5584\n",
      "Epoch 14/200\n",
      "9033/9033 [==============================] - ETA: 0s - loss: 0.2261 - accuracy: 0.6649\n",
      "Epoch 00014: val_accuracy did not improve from 0.64020\n",
      "9033/9033 [==============================] - 535s 59ms/step - loss: 0.2261 - accuracy: 0.6649 - val_loss: 0.2408 - val_accuracy: 0.6202\n",
      "Epoch 15/200\n",
      "9033/9033 [==============================] - ETA: 0s - loss: 0.2227 - accuracy: 0.6718\n",
      "Epoch 00015: val_accuracy did not improve from 0.64020\n",
      "9033/9033 [==============================] - 535s 59ms/step - loss: 0.2227 - accuracy: 0.6718 - val_loss: 0.2661 - val_accuracy: 0.5867\n",
      "Epoch 16/200\n",
      "9033/9033 [==============================] - ETA: 0s - loss: 0.2193 - accuracy: 0.6789\n",
      "Epoch 00016: val_accuracy did not improve from 0.64020\n",
      "9033/9033 [==============================] - 535s 59ms/step - loss: 0.2193 - accuracy: 0.6789 - val_loss: 0.2894 - val_accuracy: 0.5577\n",
      "Epoch 17/200\n",
      "9033/9033 [==============================] - ETA: 0s - loss: 0.2162 - accuracy: 0.6861\n",
      "Epoch 00017: val_accuracy improved from 0.64020 to 0.65379, saving model to /home/ys587/__Data/__whistle/__whistle_30_species/__fit_result_species/20210523_204759/fold2/epoch_17_valloss_0.2349_valacc_0.6538.hdf5\n",
      "9033/9033 [==============================] - 536s 59ms/step - loss: 0.2162 - accuracy: 0.6861 - val_loss: 0.2349 - val_accuracy: 0.6538\n",
      "Epoch 18/200\n",
      "9033/9033 [==============================] - ETA: 0s - loss: 0.2132 - accuracy: 0.6908\n",
      "Epoch 00018: val_accuracy improved from 0.65379 to 0.66538, saving model to /home/ys587/__Data/__whistle/__whistle_30_species/__fit_result_species/20210523_204759/fold2/epoch_18_valloss_0.2290_valacc_0.6654.hdf5\n",
      "9033/9033 [==============================] - 536s 59ms/step - loss: 0.2132 - accuracy: 0.6908 - val_loss: 0.2290 - val_accuracy: 0.6654\n",
      "Epoch 19/200\n",
      "9033/9033 [==============================] - ETA: 0s - loss: 0.2105 - accuracy: 0.6985\n",
      "Epoch 00019: val_accuracy did not improve from 0.66538\n",
      "9033/9033 [==============================] - 535s 59ms/step - loss: 0.2105 - accuracy: 0.6985 - val_loss: 0.2787 - val_accuracy: 0.5722\n",
      "Epoch 20/200\n",
      "9033/9033 [==============================] - ETA: 0s - loss: 0.2075 - accuracy: 0.7048\n",
      "Epoch 00020: val_accuracy did not improve from 0.66538\n",
      "9033/9033 [==============================] - 535s 59ms/step - loss: 0.2075 - accuracy: 0.7048 - val_loss: 0.2434 - val_accuracy: 0.6509\n",
      "Epoch 21/200\n",
      "9033/9033 [==============================] - ETA: 0s - loss: 0.2057 - accuracy: 0.7095\n",
      "Epoch 00021: val_accuracy did not improve from 0.66538\n",
      "9033/9033 [==============================] - 535s 59ms/step - loss: 0.2057 - accuracy: 0.7095 - val_loss: 0.2296 - val_accuracy: 0.6545\n",
      "Epoch 22/200\n",
      "9033/9033 [==============================] - ETA: 0s - loss: 0.2033 - accuracy: 0.7153\n",
      "Epoch 00022: val_accuracy did not improve from 0.66538\n",
      "9033/9033 [==============================] - 535s 59ms/step - loss: 0.2033 - accuracy: 0.7153 - val_loss: 0.2689 - val_accuracy: 0.6001\n",
      "Epoch 23/200\n",
      "9033/9033 [==============================] - ETA: 0s - loss: 0.2006 - accuracy: 0.7203\n",
      "Epoch 00023: val_accuracy improved from 0.66538 to 0.70457, saving model to /home/ys587/__Data/__whistle/__whistle_30_species/__fit_result_species/20210523_204759/fold2/epoch_23_valloss_0.2228_valacc_0.7046.hdf5\n",
      "9033/9033 [==============================] - 535s 59ms/step - loss: 0.2006 - accuracy: 0.7203 - val_loss: 0.2228 - val_accuracy: 0.7046\n",
      "Epoch 24/200\n",
      "9033/9033 [==============================] - ETA: 0s - loss: 0.1981 - accuracy: 0.7259\n",
      "Epoch 00024: val_accuracy did not improve from 0.70457\n",
      "9033/9033 [==============================] - 535s 59ms/step - loss: 0.1981 - accuracy: 0.7259 - val_loss: 0.2426 - val_accuracy: 0.6459\n",
      "Epoch 25/200\n",
      "9033/9033 [==============================] - ETA: 0s - loss: 0.1965 - accuracy: 0.7293\n",
      "Epoch 00025: val_accuracy did not improve from 0.70457\n",
      "9033/9033 [==============================] - 535s 59ms/step - loss: 0.1965 - accuracy: 0.7293 - val_loss: 0.2271 - val_accuracy: 0.6816\n",
      "Epoch 26/200\n",
      "9033/9033 [==============================] - ETA: 0s - loss: 0.1945 - accuracy: 0.7347\n",
      "Epoch 00026: val_accuracy did not improve from 0.70457\n",
      "9033/9033 [==============================] - 535s 59ms/step - loss: 0.1945 - accuracy: 0.7347 - val_loss: 0.2400 - val_accuracy: 0.6568\n",
      "Epoch 27/200\n",
      "9033/9033 [==============================] - ETA: 0s - loss: 0.1927 - accuracy: 0.7392\n",
      "Epoch 00027: val_accuracy did not improve from 0.70457\n",
      "9033/9033 [==============================] - 535s 59ms/step - loss: 0.1927 - accuracy: 0.7392 - val_loss: 0.2226 - val_accuracy: 0.6931\n",
      "Epoch 28/200\n",
      "9033/9033 [==============================] - ETA: 0s - loss: 0.1905 - accuracy: 0.7437\n",
      "Epoch 00028: val_accuracy did not improve from 0.70457\n",
      "9033/9033 [==============================] - 535s 59ms/step - loss: 0.1905 - accuracy: 0.7437 - val_loss: 0.2437 - val_accuracy: 0.6702\n",
      "Epoch 29/200\n",
      "9033/9033 [==============================] - ETA: 0s - loss: 0.1883 - accuracy: 0.7475\n",
      "Epoch 00029: val_accuracy did not improve from 0.70457\n",
      "9033/9033 [==============================] - 535s 59ms/step - loss: 0.1883 - accuracy: 0.7475 - val_loss: 0.2426 - val_accuracy: 0.6709\n",
      "Epoch 30/200\n",
      "9033/9033 [==============================] - ETA: 0s - loss: 0.1874 - accuracy: 0.7516\n",
      "Epoch 00030: val_accuracy improved from 0.70457 to 0.71367, saving model to /home/ys587/__Data/__whistle/__whistle_30_species/__fit_result_species/20210523_204759/fold2/epoch_30_valloss_0.2152_valacc_0.7137.hdf5\n",
      "9033/9033 [==============================] - 535s 59ms/step - loss: 0.1874 - accuracy: 0.7516 - val_loss: 0.2152 - val_accuracy: 0.7137\n",
      "Epoch 31/200\n",
      "9033/9033 [==============================] - ETA: 0s - loss: 0.1851 - accuracy: 0.7562\n",
      "Epoch 00031: val_accuracy did not improve from 0.71367\n",
      "9033/9033 [==============================] - 535s 59ms/step - loss: 0.1851 - accuracy: 0.7562 - val_loss: 0.2192 - val_accuracy: 0.7031\n",
      "Epoch 32/200\n",
      "9033/9033 [==============================] - ETA: 0s - loss: 0.1835 - accuracy: 0.7603\n",
      "Epoch 00032: val_accuracy improved from 0.71367 to 0.71517, saving model to /home/ys587/__Data/__whistle/__whistle_30_species/__fit_result_species/20210523_204759/fold2/epoch_32_valloss_0.2170_valacc_0.7152.hdf5\n",
      "9033/9033 [==============================] - 535s 59ms/step - loss: 0.1835 - accuracy: 0.7603 - val_loss: 0.2170 - val_accuracy: 0.7152\n",
      "Epoch 33/200\n",
      "9033/9033 [==============================] - ETA: 0s - loss: 0.1822 - accuracy: 0.7646\n",
      "Epoch 00033: val_accuracy did not improve from 0.71517\n",
      "9033/9033 [==============================] - 534s 59ms/step - loss: 0.1822 - accuracy: 0.7646 - val_loss: 0.2435 - val_accuracy: 0.6537\n",
      "Epoch 34/200\n",
      "9033/9033 [==============================] - ETA: 0s - loss: 0.1811 - accuracy: 0.7669\n",
      "Epoch 00034: val_accuracy did not improve from 0.71517\n",
      "9033/9033 [==============================] - 534s 59ms/step - loss: 0.1811 - accuracy: 0.7669 - val_loss: 0.2351 - val_accuracy: 0.6932\n",
      "Epoch 35/200\n",
      "9033/9033 [==============================] - ETA: 0s - loss: 0.1793 - accuracy: 0.7712\n",
      "Epoch 00035: val_accuracy improved from 0.71517 to 0.71797, saving model to /home/ys587/__Data/__whistle/__whistle_30_species/__fit_result_species/20210523_204759/fold2/epoch_35_valloss_0.2231_valacc_0.7180.hdf5\n",
      "9033/9033 [==============================] - 535s 59ms/step - loss: 0.1793 - accuracy: 0.7712 - val_loss: 0.2231 - val_accuracy: 0.7180\n",
      "Epoch 36/200\n",
      "9033/9033 [==============================] - ETA: 0s - loss: 0.1778 - accuracy: 0.7748\n",
      "Epoch 00036: val_accuracy did not improve from 0.71797\n",
      "9033/9033 [==============================] - 534s 59ms/step - loss: 0.1778 - accuracy: 0.7748 - val_loss: 0.2162 - val_accuracy: 0.7131\n",
      "Epoch 37/200\n",
      "9033/9033 [==============================] - ETA: 0s - loss: 0.1761 - accuracy: 0.7777\n",
      "Epoch 00037: val_accuracy improved from 0.71797 to 0.72445, saving model to /home/ys587/__Data/__whistle/__whistle_30_species/__fit_result_species/20210523_204759/fold2/epoch_37_valloss_0.2167_valacc_0.7245.hdf5\n",
      "9033/9033 [==============================] - 535s 59ms/step - loss: 0.1761 - accuracy: 0.7777 - val_loss: 0.2167 - val_accuracy: 0.7245\n",
      "Epoch 38/200\n",
      "9033/9033 [==============================] - ETA: 0s - loss: 0.1751 - accuracy: 0.7816\n",
      "Epoch 00038: val_accuracy did not improve from 0.72445\n",
      "9033/9033 [==============================] - 535s 59ms/step - loss: 0.1751 - accuracy: 0.7816 - val_loss: 0.2151 - val_accuracy: 0.7220\n",
      "Epoch 39/200\n",
      "9033/9033 [==============================] - ETA: 0s - loss: 0.1734 - accuracy: 0.7850\n",
      "Epoch 00039: val_accuracy did not improve from 0.72445\n",
      "9033/9033 [==============================] - 534s 59ms/step - loss: 0.1734 - accuracy: 0.7850 - val_loss: 0.2318 - val_accuracy: 0.7019\n",
      "Epoch 40/200\n",
      "9033/9033 [==============================] - ETA: 0s - loss: 0.1726 - accuracy: 0.7861\n",
      "Epoch 00040: val_accuracy did not improve from 0.72445\n",
      "9033/9033 [==============================] - 535s 59ms/step - loss: 0.1726 - accuracy: 0.7861 - val_loss: 0.2301 - val_accuracy: 0.6992\n",
      "Epoch 41/200\n",
      "9033/9033 [==============================] - ETA: 0s - loss: 0.1709 - accuracy: 0.7896\n",
      "Epoch 00041: val_accuracy did not improve from 0.72445\n",
      "9033/9033 [==============================] - 534s 59ms/step - loss: 0.1709 - accuracy: 0.7896 - val_loss: 0.2291 - val_accuracy: 0.7114\n",
      "Epoch 42/200\n",
      "9033/9033 [==============================] - ETA: 0s - loss: 0.1699 - accuracy: 0.7932\n",
      "Epoch 00042: val_accuracy did not improve from 0.72445\n",
      "9033/9033 [==============================] - 534s 59ms/step - loss: 0.1699 - accuracy: 0.7932 - val_loss: 0.2137 - val_accuracy: 0.7225\n",
      "Epoch 43/200\n",
      "9033/9033 [==============================] - ETA: 0s - loss: 0.1687 - accuracy: 0.7972\n",
      "Epoch 00043: val_accuracy improved from 0.72445 to 0.72969, saving model to /home/ys587/__Data/__whistle/__whistle_30_species/__fit_result_species/20210523_204759/fold2/epoch_43_valloss_0.2173_valacc_0.7297.hdf5\n",
      "9033/9033 [==============================] - 535s 59ms/step - loss: 0.1687 - accuracy: 0.7972 - val_loss: 0.2173 - val_accuracy: 0.7297\n",
      "Epoch 44/200\n",
      "9033/9033 [==============================] - ETA: 0s - loss: 0.1672 - accuracy: 0.8001\n",
      "Epoch 00044: val_accuracy did not improve from 0.72969\n",
      "9033/9033 [==============================] - 534s 59ms/step - loss: 0.1672 - accuracy: 0.8001 - val_loss: 0.2452 - val_accuracy: 0.6947\n",
      "Epoch 45/200\n",
      "9033/9033 [==============================] - ETA: 0s - loss: 0.1662 - accuracy: 0.8028\n",
      "Epoch 00045: val_accuracy did not improve from 0.72969\n",
      "9033/9033 [==============================] - 534s 59ms/step - loss: 0.1662 - accuracy: 0.8028 - val_loss: 0.2426 - val_accuracy: 0.6770\n",
      "Epoch 46/200\n",
      "9033/9033 [==============================] - ETA: 0s - loss: 0.1649 - accuracy: 0.8041\n",
      "Epoch 00046: val_accuracy improved from 0.72969 to 0.73068, saving model to /home/ys587/__Data/__whistle/__whistle_30_species/__fit_result_species/20210523_204759/fold2/epoch_46_valloss_0.2227_valacc_0.7307.hdf5\n",
      "9033/9033 [==============================] - 535s 59ms/step - loss: 0.1649 - accuracy: 0.8041 - val_loss: 0.2227 - val_accuracy: 0.7307\n",
      "Epoch 47/200\n",
      "9033/9033 [==============================] - ETA: 0s - loss: 0.1636 - accuracy: 0.8078\n",
      "Epoch 00047: val_accuracy improved from 0.73068 to 0.73318, saving model to /home/ys587/__Data/__whistle/__whistle_30_species/__fit_result_species/20210523_204759/fold2/epoch_47_valloss_0.2139_valacc_0.7332.hdf5\n",
      "9033/9033 [==============================] - 535s 59ms/step - loss: 0.1636 - accuracy: 0.8078 - val_loss: 0.2139 - val_accuracy: 0.7332\n",
      "Epoch 48/200\n",
      "9033/9033 [==============================] - ETA: 0s - loss: 0.1626 - accuracy: 0.8111\n",
      "Epoch 00048: val_accuracy did not improve from 0.73318\n",
      "9033/9033 [==============================] - 534s 59ms/step - loss: 0.1626 - accuracy: 0.8111 - val_loss: 0.2204 - val_accuracy: 0.7288\n",
      "Epoch 49/200\n",
      "9033/9033 [==============================] - ETA: 0s - loss: 0.1612 - accuracy: 0.8134\n",
      "Epoch 00049: val_accuracy did not improve from 0.73318\n",
      "9033/9033 [==============================] - 534s 59ms/step - loss: 0.1612 - accuracy: 0.8134 - val_loss: 0.2298 - val_accuracy: 0.7229\n",
      "Epoch 50/200\n",
      "9033/9033 [==============================] - ETA: 0s - loss: 0.1596 - accuracy: 0.8173\n",
      "Epoch 00050: val_accuracy improved from 0.73318 to 0.74065, saving model to /home/ys587/__Data/__whistle/__whistle_30_species/__fit_result_species/20210523_204759/fold2/epoch_50_valloss_0.2180_valacc_0.7407.hdf5\n",
      "9033/9033 [==============================] - 535s 59ms/step - loss: 0.1596 - accuracy: 0.8173 - val_loss: 0.2180 - val_accuracy: 0.7407\n",
      "Epoch 51/200\n",
      "9033/9033 [==============================] - ETA: 0s - loss: 0.1583 - accuracy: 0.8190\n",
      "Epoch 00051: val_accuracy improved from 0.74065 to 0.75380, saving model to /home/ys587/__Data/__whistle/__whistle_30_species/__fit_result_species/20210523_204759/fold2/epoch_51_valloss_0.2162_valacc_0.7538.hdf5\n",
      "9033/9033 [==============================] - 535s 59ms/step - loss: 0.1583 - accuracy: 0.8190 - val_loss: 0.2162 - val_accuracy: 0.7538\n",
      "Epoch 52/200\n",
      "9033/9033 [==============================] - ETA: 0s - loss: 0.1573 - accuracy: 0.8219\n",
      "Epoch 00052: val_accuracy did not improve from 0.75380\n",
      "9033/9033 [==============================] - 534s 59ms/step - loss: 0.1573 - accuracy: 0.8219 - val_loss: 0.2267 - val_accuracy: 0.7331\n",
      "Epoch 53/200\n",
      "9033/9033 [==============================] - ETA: 0s - loss: 0.1565 - accuracy: 0.8237\n",
      "Epoch 00053: val_accuracy did not improve from 0.75380\n",
      "9033/9033 [==============================] - 534s 59ms/step - loss: 0.1565 - accuracy: 0.8237 - val_loss: 0.2324 - val_accuracy: 0.7238\n",
      "Epoch 54/200\n",
      "9033/9033 [==============================] - ETA: 0s - loss: 0.1551 - accuracy: 0.8258\n",
      "Epoch 00054: val_accuracy did not improve from 0.75380\n",
      "9033/9033 [==============================] - 534s 59ms/step - loss: 0.1551 - accuracy: 0.8258 - val_loss: 0.2227 - val_accuracy: 0.7347\n",
      "Epoch 55/200\n",
      "9033/9033 [==============================] - ETA: 0s - loss: 0.1539 - accuracy: 0.8298\n",
      "Epoch 00055: val_accuracy did not improve from 0.75380\n",
      "9033/9033 [==============================] - 534s 59ms/step - loss: 0.1539 - accuracy: 0.8298 - val_loss: 0.2209 - val_accuracy: 0.7395\n",
      "Epoch 56/200\n",
      "9033/9033 [==============================] - ETA: 0s - loss: 0.1533 - accuracy: 0.8309\n",
      "Epoch 00056: val_accuracy did not improve from 0.75380\n",
      "9033/9033 [==============================] - 534s 59ms/step - loss: 0.1533 - accuracy: 0.8309 - val_loss: 0.2223 - val_accuracy: 0.7296\n",
      "Epoch 57/200\n",
      "9033/9033 [==============================] - ETA: 0s - loss: 0.1517 - accuracy: 0.8341\n",
      "Epoch 00057: val_accuracy did not improve from 0.75380\n",
      "9033/9033 [==============================] - 534s 59ms/step - loss: 0.1517 - accuracy: 0.8341 - val_loss: 0.2182 - val_accuracy: 0.7342\n",
      "Epoch 58/200\n",
      "9033/9033 [==============================] - ETA: 0s - loss: 0.1507 - accuracy: 0.8361\n",
      "Epoch 00058: val_accuracy did not improve from 0.75380\n",
      "9033/9033 [==============================] - 534s 59ms/step - loss: 0.1507 - accuracy: 0.8361 - val_loss: 0.2209 - val_accuracy: 0.7352\n",
      "Epoch 59/200\n",
      "9033/9033 [==============================] - ETA: 0s - loss: 0.1495 - accuracy: 0.8386\n",
      "Epoch 00059: val_accuracy did not improve from 0.75380\n",
      "9033/9033 [==============================] - 534s 59ms/step - loss: 0.1495 - accuracy: 0.8386 - val_loss: 0.2399 - val_accuracy: 0.7169\n",
      "Epoch 60/200\n",
      "9033/9033 [==============================] - ETA: 0s - loss: 0.1487 - accuracy: 0.8406\n",
      "Epoch 00060: val_accuracy did not improve from 0.75380\n",
      "9033/9033 [==============================] - 534s 59ms/step - loss: 0.1487 - accuracy: 0.8406 - val_loss: 0.2233 - val_accuracy: 0.7412\n",
      "Epoch 61/200\n",
      "9033/9033 [==============================] - ETA: 0s - loss: 0.1469 - accuracy: 0.8444\n",
      "Epoch 00061: val_accuracy did not improve from 0.75380\n",
      "9033/9033 [==============================] - 534s 59ms/step - loss: 0.1469 - accuracy: 0.8444 - val_loss: 0.2222 - val_accuracy: 0.7369\n",
      "Epoch 62/200\n",
      "9033/9033 [==============================] - ETA: 0s - loss: 0.1463 - accuracy: 0.8461\n",
      "Epoch 00062: val_accuracy did not improve from 0.75380\n",
      "9033/9033 [==============================] - 534s 59ms/step - loss: 0.1463 - accuracy: 0.8461 - val_loss: 0.2242 - val_accuracy: 0.7490\n",
      "Epoch 63/200\n",
      "9033/9033 [==============================] - ETA: 0s - loss: 0.1451 - accuracy: 0.8474\n",
      "Epoch 00063: val_accuracy did not improve from 0.75380\n",
      "9033/9033 [==============================] - 534s 59ms/step - loss: 0.1451 - accuracy: 0.8474 - val_loss: 0.2335 - val_accuracy: 0.7360\n",
      "Epoch 64/200\n",
      "9033/9033 [==============================] - ETA: 0s - loss: 0.1435 - accuracy: 0.8517\n",
      "Epoch 00064: val_accuracy did not improve from 0.75380\n",
      "9033/9033 [==============================] - 534s 59ms/step - loss: 0.1435 - accuracy: 0.8517 - val_loss: 0.2232 - val_accuracy: 0.7435\n",
      "Epoch 65/200\n",
      "9033/9033 [==============================] - ETA: 0s - loss: 0.1431 - accuracy: 0.8518\n",
      "Epoch 00065: val_accuracy did not improve from 0.75380\n",
      "9033/9033 [==============================] - 534s 59ms/step - loss: 0.1431 - accuracy: 0.8518 - val_loss: 0.2293 - val_accuracy: 0.7339\n",
      "Epoch 66/200\n",
      "9033/9033 [==============================] - ETA: 0s - loss: 0.1415 - accuracy: 0.8553\n",
      "Epoch 00066: val_accuracy did not improve from 0.75380\n",
      "9033/9033 [==============================] - 534s 59ms/step - loss: 0.1415 - accuracy: 0.8553 - val_loss: 0.2206 - val_accuracy: 0.7465\n",
      "Epoch 67/200\n",
      "9033/9033 [==============================] - ETA: 0s - loss: 0.1398 - accuracy: 0.8585\n",
      "Epoch 00067: val_accuracy did not improve from 0.75380\n",
      "9033/9033 [==============================] - 534s 59ms/step - loss: 0.1398 - accuracy: 0.8585 - val_loss: 0.2256 - val_accuracy: 0.7528\n",
      "Epoch 68/200\n",
      "9033/9033 [==============================] - ETA: 0s - loss: 0.1397 - accuracy: 0.8592\n",
      "Epoch 00068: val_accuracy did not improve from 0.75380\n",
      "9033/9033 [==============================] - 534s 59ms/step - loss: 0.1397 - accuracy: 0.8592 - val_loss: 0.2374 - val_accuracy: 0.7410\n",
      "Epoch 69/200\n",
      "9033/9033 [==============================] - ETA: 0s - loss: 0.1383 - accuracy: 0.8611\n",
      "Epoch 00069: val_accuracy did not improve from 0.75380\n",
      "9033/9033 [==============================] - 534s 59ms/step - loss: 0.1383 - accuracy: 0.8611 - val_loss: 0.2328 - val_accuracy: 0.7376\n",
      "Epoch 70/200\n",
      "9033/9033 [==============================] - ETA: 0s - loss: 0.1376 - accuracy: 0.8631\n",
      "Epoch 00070: val_accuracy did not improve from 0.75380\n",
      "9033/9033 [==============================] - 534s 59ms/step - loss: 0.1376 - accuracy: 0.8631 - val_loss: 0.2394 - val_accuracy: 0.7377\n",
      "Epoch 71/200\n",
      "9033/9033 [==============================] - ETA: 0s - loss: 0.1359 - accuracy: 0.8672\n",
      "Epoch 00071: val_accuracy did not improve from 0.75380\n",
      "9033/9033 [==============================] - 534s 59ms/step - loss: 0.1359 - accuracy: 0.8672 - val_loss: 0.2356 - val_accuracy: 0.7380\n",
      "Epoch 00071: early stopping\n",
      "Best model:0.7538\n",
      "/home/ys587/__Data/__whistle/__whistle_30_species/__fit_result_species/20210523_204759/fold2/epoch_51_valloss_0.2162_valacc_0.7538.hdf5\n",
      "Fold 3:\n",
      "train_set\n",
      "[    0     1     2 ... 20071 20072 20073]\n",
      "test_set\n",
      "[ 1296  1297  1298 ... 19533 19534 19535]\n",
      "The shape of feas_orig: (20074, 101, 128)\n",
      "\n",
      "4015\n",
      "(4015, 101, 128)\n",
      "\n",
      "The shape of feas_aug: (200740, 101, 128)\n",
      "\n",
      "16059\n",
      "(160590, 101, 128)\n",
      "\n",
      "feature train shape: (160590, 101, 128)\n",
      "feature test shape: (4015, 101, 128)\n",
      "label train shape: (160590,)\n",
      "label test shape: (4015,)\n",
      "dim_time: 101\n",
      "dim_freq: 128\n",
      "Epoch 1/200\n",
      "   2/9033 [..............................] - ETA: 39:10 - loss: 1.2305 - accuracy: 0.1562WARNING:tensorflow:Method (on_train_batch_end) is slow compared to the batch update (0.192440). Check your callbacks.\n",
      "9033/9033 [==============================] - ETA: 0s - loss: 0.4872 - accuracy: 0.2697\n",
      "Epoch 00001: val_accuracy improved from -inf to 0.30166, saving model to /home/ys587/__Data/__whistle/__whistle_30_species/__fit_result_species/20210523_204759/fold3/epoch_01_valloss_0.3669_valacc_0.3017.hdf5\n",
      "9033/9033 [==============================] - 533s 59ms/step - loss: 0.4872 - accuracy: 0.2697 - val_loss: 0.3669 - val_accuracy: 0.3017\n",
      "Epoch 2/200\n",
      "9033/9033 [==============================] - ETA: 0s - loss: 0.3291 - accuracy: 0.4211\n",
      "Epoch 00002: val_accuracy improved from 0.30166 to 0.47507, saving model to /home/ys587/__Data/__whistle/__whistle_30_species/__fit_result_species/20210523_204759/fold3/epoch_02_valloss_0.2998_valacc_0.4751.hdf5\n",
      "9033/9033 [==============================] - 533s 59ms/step - loss: 0.3291 - accuracy: 0.4211 - val_loss: 0.2998 - val_accuracy: 0.4751\n",
      "Epoch 3/200\n",
      "9033/9033 [==============================] - ETA: 0s - loss: 0.3046 - accuracy: 0.4856\n",
      "Epoch 00003: val_accuracy improved from 0.47507 to 0.49583, saving model to /home/ys587/__Data/__whistle/__whistle_30_species/__fit_result_species/20210523_204759/fold3/epoch_03_valloss_0.2994_valacc_0.4958.hdf5\n",
      "9033/9033 [==============================] - 533s 59ms/step - loss: 0.3046 - accuracy: 0.4856 - val_loss: 0.2994 - val_accuracy: 0.4958\n",
      "Epoch 4/200\n",
      "9033/9033 [==============================] - ETA: 0s - loss: 0.2879 - accuracy: 0.5279\n",
      "Epoch 00004: val_accuracy did not improve from 0.49583\n",
      "9033/9033 [==============================] - 532s 59ms/step - loss: 0.2879 - accuracy: 0.5279 - val_loss: 0.3502 - val_accuracy: 0.4066\n",
      "Epoch 5/200\n",
      "9033/9033 [==============================] - ETA: 0s - loss: 0.2762 - accuracy: 0.5559\n",
      "Epoch 00005: val_accuracy did not improve from 0.49583\n",
      "9033/9033 [==============================] - 532s 59ms/step - loss: 0.2762 - accuracy: 0.5559 - val_loss: 0.3546 - val_accuracy: 0.4133\n",
      "Epoch 6/200\n",
      "9033/9033 [==============================] - ETA: 0s - loss: 0.2665 - accuracy: 0.5793\n",
      "Epoch 00006: val_accuracy improved from 0.49583 to 0.51826, saving model to /home/ys587/__Data/__whistle/__whistle_30_species/__fit_result_species/20210523_204759/fold3/epoch_06_valloss_0.2945_valacc_0.5183.hdf5\n",
      "9033/9033 [==============================] - 533s 59ms/step - loss: 0.2665 - accuracy: 0.5793 - val_loss: 0.2945 - val_accuracy: 0.5183\n",
      "Epoch 7/200\n",
      "9033/9033 [==============================] - ETA: 0s - loss: 0.2583 - accuracy: 0.5966\n",
      "Epoch 00007: val_accuracy did not improve from 0.51826\n",
      "9033/9033 [==============================] - 532s 59ms/step - loss: 0.2583 - accuracy: 0.5966 - val_loss: 0.3414 - val_accuracy: 0.4723\n",
      "Epoch 8/200\n",
      "9033/9033 [==============================] - ETA: 0s - loss: 0.2509 - accuracy: 0.6140\n",
      "Epoch 00008: val_accuracy did not improve from 0.51826\n",
      "9033/9033 [==============================] - 532s 59ms/step - loss: 0.2509 - accuracy: 0.6140 - val_loss: 0.2979 - val_accuracy: 0.5166\n",
      "Epoch 9/200\n",
      "9033/9033 [==============================] - ETA: 0s - loss: 0.2448 - accuracy: 0.6276\n",
      "Epoch 00009: val_accuracy improved from 0.51826 to 0.60101, saving model to /home/ys587/__Data/__whistle/__whistle_30_species/__fit_result_species/20210523_204759/fold3/epoch_09_valloss_0.2531_valacc_0.6010.hdf5\n",
      "9033/9033 [==============================] - 533s 59ms/step - loss: 0.2448 - accuracy: 0.6276 - val_loss: 0.2531 - val_accuracy: 0.6010\n",
      "Epoch 10/200\n",
      "9033/9033 [==============================] - ETA: 0s - loss: 0.2391 - accuracy: 0.6394\n",
      "Epoch 00010: val_accuracy improved from 0.60101 to 0.61297, saving model to /home/ys587/__Data/__whistle/__whistle_30_species/__fit_result_species/20210523_204759/fold3/epoch_10_valloss_0.2481_valacc_0.6130.hdf5\n",
      "9033/9033 [==============================] - 533s 59ms/step - loss: 0.2391 - accuracy: 0.6394 - val_loss: 0.2481 - val_accuracy: 0.6130\n",
      "Epoch 11/200\n",
      "9033/9033 [==============================] - ETA: 0s - loss: 0.2341 - accuracy: 0.6496\n",
      "Epoch 00011: val_accuracy improved from 0.61297 to 0.64469, saving model to /home/ys587/__Data/__whistle/__whistle_30_species/__fit_result_species/20210523_204759/fold3/epoch_11_valloss_0.2320_valacc_0.6447.hdf5\n",
      "9033/9033 [==============================] - 532s 59ms/step - loss: 0.2341 - accuracy: 0.6496 - val_loss: 0.2320 - val_accuracy: 0.6447\n",
      "Epoch 12/200\n",
      "9033/9033 [==============================] - ETA: 0s - loss: 0.2297 - accuracy: 0.6600\n",
      "Epoch 00012: val_accuracy improved from 0.64469 to 0.66276, saving model to /home/ys587/__Data/__whistle/__whistle_30_species/__fit_result_species/20210523_204759/fold3/epoch_12_valloss_0.2224_valacc_0.6628.hdf5\n",
      "9033/9033 [==============================] - 532s 59ms/step - loss: 0.2297 - accuracy: 0.6600 - val_loss: 0.2224 - val_accuracy: 0.6628\n",
      "Epoch 13/200\n",
      "9033/9033 [==============================] - ETA: 0s - loss: 0.2254 - accuracy: 0.6687\n",
      "Epoch 00013: val_accuracy did not improve from 0.66276\n",
      "9033/9033 [==============================] - 532s 59ms/step - loss: 0.2254 - accuracy: 0.6687 - val_loss: 0.2384 - val_accuracy: 0.6270\n",
      "Epoch 14/200\n",
      "9033/9033 [==============================] - ETA: 0s - loss: 0.2217 - accuracy: 0.6761\n",
      "Epoch 00014: val_accuracy improved from 0.66276 to 0.70065, saving model to /home/ys587/__Data/__whistle/__whistle_30_species/__fit_result_species/20210523_204759/fold3/epoch_14_valloss_0.2058_valacc_0.7006.hdf5\n",
      "9033/9033 [==============================] - 532s 59ms/step - loss: 0.2217 - accuracy: 0.6761 - val_loss: 0.2058 - val_accuracy: 0.7006\n",
      "Epoch 15/200\n",
      "4540/9033 [==============>...............] - ETA: 4:16 - loss: 0.2168 - accuracy: 0.6859"
     ]
    }
   ],
   "source": [
    "# k-fold split\n",
    "fea_temp_orig = np.load(os.path.join(feature_path, 'all_orig.npz'))\n",
    "# feas_orig = fea_temp_orig['feas_orig']\n",
    "labels_orig = fea_temp_orig['labels_orig']\n",
    "del fea_temp_orig\n",
    "\n",
    "random_list = [0, 10, 20, 30, 40]\n",
    "fold_id = 0\n",
    "for train_set, test_set in skf.split(np.arange(labels_orig.shape[0]), labels_orig):\n",
    "    print('Fold '+str(fold_id)+':')\n",
    "    print('train_set')\n",
    "    print(train_set)\n",
    "    print('test_set')\n",
    "    print(test_set)\n",
    "    \n",
    "    # (a) testing\n",
    "    # loading\n",
    "    fea_temp_orig = np.load(os.path.join(feature_path, 'all_orig.npz'))\n",
    "    feas_orig = fea_temp_orig['feas_orig']\n",
    "    labels_orig = fea_temp_orig['labels_orig']\n",
    "    print('The shape of feas_orig: ', end='')\n",
    "    print(feas_orig.shape)\n",
    "    \n",
    "    # fea_test = feas_orig[test_set, :, :]  ## << ==\n",
    "    fea_test = feas_orig[list(test_set), :, :]  ## replace ndarray by list\n",
    "    label_test = labels_orig[list(test_set)]\n",
    "    label_test = np.array([species_dict[ll] for ll in label_test])\n",
    "    print('')\n",
    "    print(len(test_set))\n",
    "    print(fea_test.shape)\n",
    "    print('')\n",
    "    \n",
    "    del feas_orig, labels_orig\n",
    "\n",
    "    # (b) training\n",
    "    # loading\n",
    "    fea_temp_aug = np.load(os.path.join(feature_path, 'all_aug.npz'))\n",
    "    feas_aug = fea_temp_aug['feas_aug']\n",
    "    labels_aug = fea_temp_aug['labels_aug']\n",
    "    print('The shape of feas_aug: ', end='')\n",
    "    print(feas_aug.shape)\n",
    "\n",
    "    # augmented features & labels\n",
    "    fea_ind_aug = []\n",
    "    for ff in list(train_set):\n",
    "        for ii in range(copies_of_aug):\n",
    "            fea_ind_aug.append(ff*copies_of_aug+ii)\n",
    "        \n",
    "    fea_train = feas_aug[fea_ind_aug, :, :]\n",
    "    label_train = labels_aug[fea_ind_aug]\n",
    "    label_train = np.array([species_dict[ll] for ll in label_train])\n",
    "    print('')\n",
    "    print(len(train_set))\n",
    "    print(fea_train.shape)\n",
    "    print('')\n",
    "    \n",
    "    del feas_aug, labels_aug\n",
    "    \n",
    "    # summary\n",
    "    print('feature train shape: '+str(fea_train.shape))\n",
    "    print('feature test shape: '+str(fea_test.shape))\n",
    "    print('label train shape: '+str(label_train.shape))\n",
    "    print('label test shape: '+str(label_test.shape))\n",
    "\n",
    "    dim_time = fea_train.shape[1]\n",
    "    dim_freq = fea_train.shape[2]\n",
    "    print('dim_time: '+str(dim_time))\n",
    "    print('dim_freq: '+str(dim_freq))\n",
    "    \n",
    "    # shuffle features & labels\n",
    "    fea_train, label_train = shuffle(fea_train, label_train, random_state=random_list[fold_id])\n",
    "    fea_test, label_test = shuffle(fea_test, label_test, random_state=random_list[fold_id])\n",
    "    \n",
    "    fea_train = np.expand_dims(fea_train, axis=3)\n",
    "    fea_test = np.expand_dims(fea_test, axis=3)\n",
    "    \n",
    "    fea_train, fea_validate, label_train, label_validate = train_test_split(fea_train, label_train, test_size=0.10, random_state=random_list[fold_id])\n",
    "\n",
    "    train_generator = DataGenerator(fea_train, label_train, batch_size=batch_size, num_classes=num_species)\n",
    "    del fea_train\n",
    "    validate_generator = DataGenerator(fea_validate, label_validate, batch_size=batch_size, num_classes=num_species)\n",
    "    del fea_validate\n",
    "    \n",
    "    # deployment folder\n",
    "    fit_result_path2 = os.path.join(fit_result_path1, 'fold'+str(fold_id))\n",
    "    if not os.path.exists(fit_result_path2):\n",
    "        makedirs(fit_result_path2)\n",
    "        \n",
    "    # class weight\n",
    "    weights = compute_class_weight(class_weight='balanced', classes=np.unique(label_train), y=label_train)\n",
    "\n",
    "    class_weights = dict()\n",
    "    for ii in range(num_species):\n",
    "        class_weights[ii] = weights[ii]\n",
    "        \n",
    "    ### Training the model\n",
    "    # model = model_cnn14_attention_multi(dim_time, dim_freq, num_species, model_type='feature_level_attention', conv_dim=conv_dim, pool_size=pool_size, pool_stride=pool_stride, hidden_units=hidden_units, l2_regu=l2_regu, drop_rate=drop_rate)\n",
    "    model = model_cnn14_spp(dim_time, dim_freq, num_species, conv_dim=conv_dim, pool_size=pool_size, pool_stride=pool_stride, hidden_units=hidden_units, l2_regu=l2_regu, drop_rate=drop_rate)\n",
    "    # loss = categorical_crossentropy\n",
    "    loss = binary_crossentropy\n",
    "    # model.compile(optimizer=tf.keras.optimizers.Adam(learning_rate=learning_rate_fn), loss=loss, metrics=['accuracy'])\n",
    "    model.compile(optimizer=tf.keras.optimizers.Adam(learning_rate=learning_rate), loss=loss, metrics=['accuracy'])\n",
    "    # model.summary()\n",
    "\n",
    "    # With classes\n",
    "    # history = model.fit(fea_train, to_categorical(label_train), class_weight=class_weights, validation_split=0.3, batch_size=batch_size, epochs=num_epoch, callbacks=[EarlyStopping(patience=num_patience), ModelCheckpoint(filepath=os.path.join(fit_result_path, '{epoch:02d}-{val_loss:.4f}.hdf5'), verbose=1, monitor=\"val_loss\", save_best_only=True)])\n",
    "    # history = model.fit(train_generator, validation_data=validate_generator, class_weight=class_weights, epochs=num_epoch, callbacks=[EarlyStopping(patience=num_patience, monitor='val_loss', mode='min', verbose=1), TensorBoard(log_dir=fit_result_path1), ModelCheckpoint(filepath=os.path.join(fit_result_path1, '{epoch:02d}-{val_loss:.4f}.hdf5'), verbose=1, monitor=\"val_loss\", save_best_only=True)])\n",
    "    # history = model.fit(train_generator, validation_data=validate_generator, class_weight=class_weights, epochs=num_epoch, callbacks=[EarlyStopping(patience=num_patience, monitor='val_loss', mode='min', verbose=1), TensorBoard(log_dir=fit_result_path2), ModelCheckpoint(filepath=os.path.join(fit_result_path2, 'epoch_{epoch:02d}_valloss_{val_loss:.4f}_valacc_{val_accuracy:.4f}.hdf5' ), verbose=1, monitor=\"val_loss\", save_best_only=True)])\n",
    "    # history = model.fit(train_generator, validation_data=validate_generator, class_weight=class_weights, epochs=num_epoch, callbacks=[EarlyStopping(patience=num_patience, monitor='val_loss', mode='min', verbose=1), TensorBoard(log_dir=fit_result_path2), ModelCheckpoint(filepath=os.path.join(fit_result_path2, 'epoch_{epoch:02d}_valloss_{val_loss:.4f}_valacc_{val_accuracy:.4f}.hdf5' ), verbose=1, monitor=\"val_accuracy\", save_best_only=True)])\n",
    "    history = model.fit(train_generator, validation_data=validate_generator, class_weight=class_weights, epochs=num_epoch, callbacks=[EarlyStopping(patience=num_patience, monitor='val_accuracy', mode='max', verbose=1), TensorBoard(log_dir=fit_result_path2), ModelCheckpoint(filepath=os.path.join(fit_result_path2, 'epoch_{epoch:02d}_valloss_{val_loss:.4f}_valacc_{val_accuracy:.4f}.hdf5' ), verbose=1, monitor=\"val_accuracy\", save_best_only=True)])\n",
    "\n",
    "    # Testing\n",
    "    the_best_model, _ = find_best_model(fit_result_path2, purge=False)\n",
    "    model = load_model(the_best_model)\n",
    "    label_pred = model.predict(fea_test)\n",
    "\n",
    "    # save the testing results\n",
    "    np.savez(os.path.join(fit_result_path1, 'fold'+str(fold_id)+'_test_results.npz'), label_test=label_test, label_pred=label_pred)\n",
    "    \n",
    "    label_pred_all.append(label_pred)\n",
    "    label_test_all.append(label_test)\n",
    "    \n",
    "    del train_generator, validate_generator\n",
    "    \n",
    "    fold_id += 1"
   ]
  },
  {
   "cell_type": "code",
   "execution_count": null,
   "metadata": {
    "scrolled": true
   },
   "outputs": [],
   "source": [
    "model.summary()"
   ]
  },
  {
   "cell_type": "code",
   "execution_count": null,
   "metadata": {},
   "outputs": [],
   "source": [
    "label_pred_all = np.concatenate(label_pred_all)\n",
    "label_test_all = np.concatenate(label_test_all)"
   ]
  },
  {
   "cell_type": "code",
   "execution_count": null,
   "metadata": {},
   "outputs": [],
   "source": [
    "label_test_all.shape"
   ]
  },
  {
   "cell_type": "markdown",
   "metadata": {},
   "source": [
    "## Confusion matrix"
   ]
  },
  {
   "cell_type": "code",
   "execution_count": null,
   "metadata": {},
   "outputs": [],
   "source": [
    "np.set_printoptions(linewidth=200, precision=2, suppress=True)"
   ]
  },
  {
   "cell_type": "code",
   "execution_count": null,
   "metadata": {},
   "outputs": [],
   "source": [
    "print(\"Confusion matrix:\")\n",
    "# cm = confusion_matrix(label_train[:label_train_pred.shape[0]], np.argmax(label_train_pred, axis=1), labels=species_id)\n",
    "cm = confusion_matrix(label_test_all, np.argmax(label_pred_all, axis=1), labels=species_id)\n",
    "\n",
    "print(species_list)\n",
    "print('')\n",
    "print(cm)\n",
    "print('')\n",
    "\n",
    "cm2 = cm*1.0\n",
    "for ii in range(cm.shape[0]):\n",
    "    cm_row = cm[ii, :]*1.0\n",
    "\n",
    "    cm_row_sum = cm_row.sum()\n",
    "    if cm_row_sum != 0:\n",
    "        cm2[ii, :] = cm_row / cm_row_sum\n",
    "    else:\n",
    "        cm2[ii, :] = np.zeros(cm.shape[1])\n",
    "\n",
    "print(cm2)"
   ]
  },
  {
   "cell_type": "code",
   "execution_count": null,
   "metadata": {},
   "outputs": [],
   "source": [
    "from sklearn.metrics import plot_confusion_matrix\n",
    "from sklearn.metrics._plot.confusion_matrix import ConfusionMatrixDisplay\n",
    "\n",
    "disp = ConfusionMatrixDisplay(confusion_matrix=cm, display_labels=species_list)\n",
    "disp2 = ConfusionMatrixDisplay(confusion_matrix=cm2, display_labels=species_list)"
   ]
  },
  {
   "cell_type": "code",
   "execution_count": null,
   "metadata": {},
   "outputs": [],
   "source": [
    "fig, ax = plt.subplots(figsize=[15, 15])\n",
    "disp.plot(include_values=True,\n",
    "                     cmap='viridis', ax=ax, xticks_rotation='horizontal',\n",
    "                     values_format=None, colorbar=True)\n"
   ]
  },
  {
   "cell_type": "code",
   "execution_count": null,
   "metadata": {},
   "outputs": [],
   "source": [
    "fig, ax = plt.subplots(figsize=[15, 15])\n",
    "disp2.plot(include_values=True,\n",
    "                     cmap='viridis', ax=ax, xticks_rotation='horizontal',\n",
    "                     values_format='.2f', colorbar=True)"
   ]
  },
  {
   "cell_type": "code",
   "execution_count": null,
   "metadata": {},
   "outputs": [],
   "source": []
  },
  {
   "cell_type": "code",
   "execution_count": null,
   "metadata": {},
   "outputs": [],
   "source": []
  },
  {
   "cell_type": "code",
   "execution_count": null,
   "metadata": {},
   "outputs": [],
   "source": []
  },
  {
   "cell_type": "code",
   "execution_count": null,
   "metadata": {},
   "outputs": [],
   "source": []
  },
  {
   "cell_type": "code",
   "execution_count": null,
   "metadata": {},
   "outputs": [],
   "source": []
  },
  {
   "cell_type": "raw",
   "metadata": {},
   "source": [
    "# for ee in ['STAR2000', 'STAR2003', 'STAR2006', 'HICEAS2002', 'PICEAS2005']:\n",
    "for ee in ['STAR2000']:\n",
    "    print(ee)\n",
    "    \n",
    "    # (a) testing\n",
    "    df_species_test = df_species[(df_species['deployment'] == ee)]\n",
    "    print(df_species_test.shape)\n",
    "    \n",
    "    # original features & labels\n",
    "    fea_ind_orig = np.array(df_species_test.index)\n",
    "    fea_test = feas_orig[fea_ind_orig, :, :]\n",
    "    label_test = labels_orig[fea_ind_orig]\n",
    "    label_test = np.array([species_dict[ll] for ll in label_test])\n",
    "    print(fea_test.shape)\n",
    "    \n",
    "    # (b) training\n",
    "    df_species_train = df_species[(df_species['deployment'] != ee)]\n",
    "    print(df_species_train.shape)\n",
    "    \n",
    "    # original features & labels\n",
    "    fea_ind_orig = np.array(df_species_train.index)\n",
    "    #  fea_orig_curr = feas_orig[fea_ind_orig, :, :]\n",
    "    # labels_orig_curr = labels_orig[fea_ind_orig]\n",
    "    # print(fea_orig_curr.shape)\n",
    "\n",
    "    # augmented features & labels\n",
    "    fea_ind_aug = []\n",
    "    for ff in list(fea_ind_orig):\n",
    "        for ii in range(10):\n",
    "            fea_ind_aug.append(ff*10+ii)\n",
    "        \n",
    "    fea_train = feas_aug[fea_ind_aug, :, :]\n",
    "    label_train = labels_aug[fea_ind_aug]\n",
    "    label_train = np.array([species_dict[ll] for ll in label_train])\n",
    "    print(fea_train.shape)    \n",
    "    \n",
    "    print('feature train shape: '+str(fea_train.shape))\n",
    "    print('feature test shape: '+str(fea_test.shape))\n",
    "    print('label train shape: '+str(label_train.shape))\n",
    "    print('label test shape: '+str(label_test.shape))\n",
    "\n",
    "    dim_time = fea_train.shape[1]\n",
    "    dim_freq = fea_train.shape[2]\n",
    "    print('dim_time: '+str(dim_time))\n",
    "    print('dim_freq: '+str(dim_freq))\n",
    "    \n",
    "    # shuffle features & labels\n",
    "    fea_train, label_train = shuffle(fea_train, label_train, random_state=0)\n",
    "    fea_test, label_test = shuffle(fea_test, label_test, random_state=0)\n",
    "    \n",
    "    fea_train = np.expand_dims(fea_train, axis=3)\n",
    "    fea_test = np.expand_dims(fea_test, axis=3)\n",
    "    \n",
    "    fea_train, fea_validate, label_train, label_validate = train_test_split(fea_train, label_train, test_size=0.10, random_state=42+4)\n",
    "\n",
    "    train_generator = DataGenerator(fea_train, label_train, batch_size=batch_size, num_classes=num_species)\n",
    "    del fea_train\n",
    "    validate_generator = DataGenerator(fea_validate, label_validate, batch_size=batch_size, num_classes=num_species)\n",
    "    del fea_validate\n",
    "    \n",
    "    # deployment folder\n",
    "    fit_result_path2 = os.path.join(fit_result_path1, ee)\n",
    "    if not os.path.exists(fit_result_path2):\n",
    "        makedirs(fit_result_path2)\n",
    "        \n",
    "    # class weight\n",
    "    weights = compute_class_weight(class_weight='balanced', classes=np.unique(label_train), y=label_train)\n",
    "\n",
    "    class_weights = dict()\n",
    "    for ii in range(num_species):\n",
    "        class_weights[ii] = weights[ii]\n"
   ]
  },
  {
   "cell_type": "raw",
   "metadata": {},
   "source": [
    "### Training the model\n",
    "model = model_cnn14_attention_multi(dim_time, dim_freq, num_species, model_type='feature_level_attention', conv_dim=conv_dim, pool_size=pool_size, pool_stride=pool_stride, hidden_units=hidden_units, l2_regu=l2_regu, drop_rate=drop_rate)\n",
    "# model = model_cnn14_spp(dim_time, dim_freq, num_species, conv_dim=conv_dim, pool_size=pool_size, pool_stride=pool_stride, hidden_units=hidden_units, l2_regu=l2_regu, drop_rate=drop_rate)\n",
    "# loss = categorical_crossentropy\n",
    "loss = binary_crossentropy\n",
    "# model.compile(optimizer=tf.keras.optimizers.Adam(learning_rate=learning_rate_fn), loss=loss, metrics=['accuracy'])\n",
    "model.compile(optimizer=tf.keras.optimizers.Adam(learning_rate=learning_rate), loss=loss, metrics=['accuracy'])\n",
    "model.summary()\n",
    "\n",
    "# With classes\n",
    "# history = model.fit(fea_train, to_categorical(label_train), class_weight=class_weights, validation_split=0.3, batch_size=batch_size, epochs=num_epoch, callbacks=[EarlyStopping(patience=num_patience), ModelCheckpoint(filepath=os.path.join(fit_result_path, '{epoch:02d}-{val_loss:.4f}.hdf5'), verbose=1, monitor=\"val_loss\", save_best_only=True)])\n",
    "# history = model.fit(train_generator, validation_data=validate_generator, class_weight=class_weights, epochs=num_epoch, callbacks=[EarlyStopping(patience=num_patience, monitor='val_loss', mode='min', verbose=1), TensorBoard(log_dir=fit_result_path1), ModelCheckpoint(filepath=os.path.join(fit_result_path1, '{epoch:02d}-{val_loss:.4f}.hdf5'), verbose=1, monitor=\"val_loss\", save_best_only=True)])\n",
    "# history = model.fit(train_generator, validation_data=validate_generator, class_weight=class_weights, epochs=num_epoch, callbacks=[EarlyStopping(patience=num_patience, monitor='val_loss', mode='min', verbose=1), TensorBoard(log_dir=fit_result_path2), ModelCheckpoint(filepath=os.path.join(fit_result_path2, 'epoch_{epoch:02d}_valloss_{val_loss:.4f}_valacc_{val_accuracy:.4f}.hdf5' ), verbose=1, monitor=\"val_loss\", save_best_only=True)])\n",
    "# history = model.fit(train_generator, validation_data=validate_generator, class_weight=class_weights, epochs=num_epoch, callbacks=[EarlyStopping(patience=num_patience, monitor='val_loss', mode='min', verbose=1), TensorBoard(log_dir=fit_result_path2), ModelCheckpoint(filepath=os.path.join(fit_result_path2, 'epoch_{epoch:02d}_valloss_{val_loss:.4f}_valacc_{val_accuracy:.4f}.hdf5' ), verbose=1, monitor=\"val_accuracy\", save_best_only=True)])\n",
    "history = model.fit(train_generator, validation_data=validate_generator, class_weight=class_weights, epochs=num_epoch, callbacks=[EarlyStopping(patience=num_patience, monitor='val_accuracy', mode='max', verbose=1), TensorBoard(log_dir=fit_result_path2), ModelCheckpoint(filepath=os.path.join(fit_result_path2, 'epoch_{epoch:02d}_valloss_{val_loss:.4f}_valacc_{val_accuracy:.4f}.hdf5' ), verbose=1, monitor=\"val_accuracy\", save_best_only=True)])"
   ]
  },
  {
   "cell_type": "raw",
   "metadata": {},
   "source": [
    "# Testing\n",
    "the_best_model, _ = find_best_model(fit_result_path2, purge=False)\n",
    "model = load_model(the_best_model)\n",
    "label_pred = model.predict(fea_test)\n",
    "\n",
    "label_pred_all.append(label_pred)\n",
    "label_test_all.append(label_test)"
   ]
  },
  {
   "cell_type": "raw",
   "metadata": {},
   "source": [
    "# boundaries = [20, 40, 60, 80]\n",
    "boundaries = [100, 200, 300, 400]\n",
    "values = [1.0e-3, 3.33e-4, 1.0e-4, 3.33e-5, 1.0e-5]\n",
    "learning_rate_fn = PiecewiseConstantDecay(boundaries, values)"
   ]
  },
  {
   "cell_type": "raw",
   "metadata": {},
   "source": [
    "# Training data\n",
    "fea_temp = np.load(os.path.join(feature_path, 'oswald_STAR2000_orig.npz'))\n",
    "# fea_temp = np.load(os.path.join(feature_path, 'oswald_STAR2003_orig.npz'))\n",
    "# fea_temp = np.load(os.path.join(feature_path, 'oswald_STAR2006_orig.npz'))\n",
    "# fea_temp = np.load(os.path.join(feature_path, 'oswald_HICEAS2002_orig.npz'))\n",
    "# fea_temp = np.load(os.path.join(feature_path, 'oswald_PICEAS2005_orig.npz'))\n",
    "    \n",
    "fea_train = fea_temp['feas_orig']\n",
    "label_train_list = fea_temp['labels_orig']\n",
    "del fea_temp\n",
    "\n",
    "fea_train = fea_train[:,:100,:]\n",
    "label_train = np.zeros(len(label_train_list))\n",
    "for ii in range(len(label_train_list)):\n",
    "    label_train[ii] = species_dict[label_train_list[ii]]"
   ]
  },
  {
   "cell_type": "raw",
   "metadata": {},
   "source": [
    "np.set_printoptions(linewidth=200, precision=2, suppress=True)"
   ]
  },
  {
   "cell_type": "raw",
   "metadata": {},
   "source": [
    "print(\"Confusion matrix:\")\n",
    "cm = confusion_matrix(label_train[:label_train_pred.shape[0]], np.argmax(label_train_pred, axis=1), labels=species_id)\n",
    "\n",
    "print(species_list)\n",
    "print('')\n",
    "print(cm)\n",
    "print('')\n",
    "\n",
    "cm2 = cm*1.0\n",
    "for ii in range(cm.shape[0]):\n",
    "    cm_row = cm[ii, :]*1.0\n",
    "\n",
    "    cm_row_sum = cm_row.sum()\n",
    "    if cm_row_sum != 0:\n",
    "        cm2[ii, :] = cm_row / cm_row_sum\n",
    "    else:\n",
    "        cm2[ii, :] = np.zeros(cm.shape[1])\n",
    "\n",
    "print(cm2)"
   ]
  },
  {
   "cell_type": "raw",
   "metadata": {},
   "source": [
    "from sklearn.metrics import plot_confusion_matrix\n",
    "from sklearn.metrics._plot.confusion_matrix import ConfusionMatrixDisplay\n",
    "disp = ConfusionMatrixDisplay(confusion_matrix=cm, display_labels=species_list)\n",
    "disp2 = ConfusionMatrixDisplay(confusion_matrix=cm2, display_labels=species_list)"
   ]
  },
  {
   "cell_type": "raw",
   "metadata": {},
   "source": [
    "fig, ax = plt.subplots(figsize=[15, 15])\n",
    "disp.plot(include_values=True,\n",
    "                     cmap='viridis', ax=ax, xticks_rotation='horizontal',\n",
    "                     values_format=None, colorbar=True)\n"
   ]
  },
  {
   "cell_type": "raw",
   "metadata": {},
   "source": [
    "fig, ax = plt.subplots(figsize=[15, 15])\n",
    "disp2.plot(include_values=True,\n",
    "                     cmap='viridis', ax=ax, xticks_rotation='horizontal',\n",
    "                     values_format='.2f', colorbar=True)"
   ]
  },
  {
   "cell_type": "raw",
   "metadata": {},
   "source": [
    "## top k accuracy score"
   ]
  },
  {
   "cell_type": "raw",
   "metadata": {},
   "source": [
    "from sklearn.metrics import top_k_accuracy_score"
   ]
  },
  {
   "cell_type": "raw",
   "metadata": {},
   "source": [
    "top_k = []\n",
    "for kk in range(1, num_species+1):\n",
    "    print('k='+str(kk)+':  ')\n",
    "    this_acc = top_k_accuracy_score(label_train[:label_train_pred.shape[0]], label_train_pred, k=kk, labels=list(range(num_species)))\n",
    "    print(this_acc)\n",
    "    top_k.append(this_acc)"
   ]
  },
  {
   "cell_type": "raw",
   "metadata": {},
   "source": [
    "# %matplotlib inline\n",
    "fig = plt.figure()\n",
    "ax = fig.subplots()\n",
    "ax.bar(list(range(1, num_species+1)), top_k)\n",
    "ax.grid(axis='y')"
   ]
  },
  {
   "cell_type": "code",
   "execution_count": null,
   "metadata": {},
   "outputs": [],
   "source": []
  },
  {
   "cell_type": "code",
   "execution_count": null,
   "metadata": {},
   "outputs": [],
   "source": []
  },
  {
   "cell_type": "code",
   "execution_count": null,
   "metadata": {},
   "outputs": [],
   "source": []
  },
  {
   "cell_type": "raw",
   "metadata": {},
   "source": [
    "deployment = ['STAR2000', 'STAR2003', 'STAR2006', 'HICEAS2002', 'PICEAS2005']  # oswald_STAR2000_orig.npz, oswald_STAR2000_aug.npz\n",
    "feature_path = '/home/ys587/__Data/__whistle/__whislte_30_species/__dataset/20210223_augment_all_three_noise_mixed'\n",
    "# feature_path = '/home/ys587/__Data/__whistle/__whislte_30_species/__dataset/20210308_augment_all_three_noise_mixed_class_balanced_min_5'\n"
   ]
  },
  {
   "cell_type": "raw",
   "metadata": {},
   "source": [
    "if False:\n",
    "    for ee in deployment:\n",
    "        print(ee)\n",
    "        ee_others = [ee2 for ee2 in deployment if (ee2 != ee) ]\n",
    "        fea_train_files_tot = []\n",
    "        for ee2 in ee_others:\n",
    "            fea_train_files_tot.append('oswald_'+ee2+'_orig.npz')\n",
    "            fea_train_files_tot.append('oswald_'+ee2+'_aug.npz')\n",
    "\n",
    "        # Training data\n",
    "        fea_train_list = []\n",
    "        label_train_list = []\n",
    "        for ii in range(len(fea_train_files_tot)):\n",
    "            ff = fea_train_files_tot[ii]\n",
    "            print(ff)\n",
    "            fea_temp = np.load(os.path.join(feature_path, ff))\n",
    "            print(fea_temp.files)\n",
    "\n",
    "            if ii == 0:\n",
    "                fea_train = fea_temp['feas_orig']\n",
    "                label_train = fea_temp['labels_orig']\n",
    "                print(fea_train.shape)\n",
    "                print(label_train.shape)\n",
    "            elif ii % 2 == 0:  # even\n",
    "                fea_train = np.concatenate([fea_train, fea_temp['feas_orig']])\n",
    "                label_train = np.concatenate([label_train, fea_temp['labels_orig']])\n",
    "                print(fea_train.shape)\n",
    "                print(label_train.shape)\n",
    "            else:\n",
    "                fea_train = np.concatenate([fea_train, fea_temp['feas_aug']])\n",
    "                label_train = np.concatenate([label_train, fea_temp['labels_aug']])\n",
    "                print(fea_train.shape)\n",
    "                print(label_train.shape)\n",
    "        print(fea_train.shape)\n",
    "        print(label_train.shape)\n",
    "        np.savez(os.path.join(feature_path, './train_oswald_no_'+ee+'.npz'), fea_train=fea_train, label_train=label_train)\n",
    "        print('')"
   ]
  },
  {
   "cell_type": "raw",
   "metadata": {},
   "source": [
    "### cnn4 + attention\n",
    "# model = model_cnn_attention(dim_time, dim_freq, num_species, model_type='decision_level_max_pooling', conv_dim=conv_dim, l2_regu=l2_regu, drop_rate=drop_rate)\n",
    "# model = model_cnn_attention(dim_time, dim_freq, num_species, model_type='decision_level_multi_attention', conv_dim=conv_dim, l2_regu=l2_regu, drop_rate=drop_rate)\n",
    "# model = model_cnn_attention(dim_time, dim_freq, num_species, model_type='feature_level_attention', conv_dim=conv_dim, l2_regu=l2_regu, drop_rate=drop_rate)\n",
    "\n",
    "# vggish\n",
    "# model = model_vggish(dim_time, dim_freq, num_species, conv_dim=conv_dim, fcn_dim=fcn_dim)\n",
    "\n",
    "# cnn10\n",
    "# model = model_cnn10(dim_time, dim_freq, num_species, conv_dim=conv_dim, fcn_dim=fcn_dim, l2_regu=l2_regu, drop_rate=drop_rate)\n",
    "\n",
    "# cnn14\n",
    "# model = model_cnn14(dim_time, dim_freq, num_species, conv_dim=conv_dim, fcn_dim=fcn_dim, l2_regu=l2_regu, drop_rate=drop_rate)\n",
    "\n",
    "# cnn14 attention\n",
    "# model = model_cnn14_attention(dim_time, dim_freq, num_species, model_type='feature_level_attention', conv_dim=conv_dim, pool_size=pool_size, pool_stride=pool_stride, hidden_units=hidden_units, l2_regu=l2_regu, drop_rate=drop_rate)\n",
    "# model = model_cnn14_bigru_attention(dim_time, dim_freq, num_species, model_type='feature_level_attention', conv_dim=conv_dim, rnn_dim=rnn_dim, hidden_units=hidden_units, l2_regu=l2_regu, drop_rate=drop_rate)\n",
    "\n",
    "# model = model_cnn14_attention_multi(dim_time, dim_freq, num_species, model_type='feature_level_attention', conv_dim=conv_dim, pool_size=pool_size, pool_stride=pool_stride, hidden_units=hidden_units, l2_regu=l2_regu, drop_rate=drop_rate)\n",
    "# model = model_cnn14_spp(dim_time, dim_freq, num_species, conv_dim=conv_dim, pool_size=pool_size, pool_stride=pool_stride, hidden_units=hidden_units, l2_regu=l2_regu, drop_rate=drop_rate)\n",
    "# loss = CategoricalCrossentropy()\n",
    "# model.compile(optimizer=tf.keras.optimizers.Adam(learning_rate=learning_rate), loss=loss, metrics=['accuracy'])\n",
    "\n"
   ]
  },
  {
   "cell_type": "raw",
   "metadata": {},
   "source": [
    "# Cross validation"
   ]
  },
  {
   "cell_type": "raw",
   "metadata": {},
   "source": [
    "## STAR2000"
   ]
  },
  {
   "cell_type": "raw",
   "metadata": {},
   "source": []
  },
  {
   "cell_type": "raw",
   "metadata": {},
   "source": [
    "ee = deployment[0]\n",
    "print(ee)"
   ]
  },
  {
   "cell_type": "raw",
   "metadata": {},
   "source": [
    "# Training data\n",
    "fea_temp = np.load(os.path.join(feature_path, 'train_oswald_no_'+ee+'.npz'))\n",
    "fea_train = fea_temp['fea_train']\n",
    "label_train_list = fea_temp['label_train']\n",
    "del fea_temp\n",
    "\n",
    "fea_train = fea_train[:,:100,:]\n",
    "label_train = np.zeros(len(label_train_list))\n",
    "for ii in range(len(label_train_list)):\n",
    "    label_train[ii] = species_dict[label_train_list[ii]]"
   ]
  },
  {
   "cell_type": "raw",
   "metadata": {},
   "source": [
    "# Testing data\n",
    "fea_temp = np.load(os.path.join(feature_path, 'oswald_'+ee+'_orig.npz'))\n",
    "fea_test = fea_temp['feas_orig']\n",
    "label_test_list = fea_temp['labels_orig']\n",
    "\n",
    "fea_test = fea_test[:,:100,:]\n",
    "label_test = np.zeros(len(label_test_list))\n",
    "for ii in range(len(label_test_list)):\n",
    "    label_test[ii] = species_dict[label_test_list[ii]]"
   ]
  },
  {
   "cell_type": "raw",
   "metadata": {},
   "source": [
    "Counter(label_train_list)"
   ]
  },
  {
   "cell_type": "raw",
   "metadata": {},
   "source": [
    "Counter(label_test.tolist())"
   ]
  },
  {
   "cell_type": "raw",
   "metadata": {},
   "source": []
  },
  {
   "cell_type": "code",
   "execution_count": null,
   "metadata": {},
   "outputs": [],
   "source": []
  },
  {
   "cell_type": "code",
   "execution_count": null,
   "metadata": {},
   "outputs": [],
   "source": []
  },
  {
   "cell_type": "code",
   "execution_count": null,
   "metadata": {},
   "outputs": [],
   "source": []
  },
  {
   "cell_type": "code",
   "execution_count": null,
   "metadata": {},
   "outputs": [],
   "source": []
  },
  {
   "cell_type": "code",
   "execution_count": null,
   "metadata": {},
   "outputs": [],
   "source": []
  },
  {
   "cell_type": "raw",
   "metadata": {},
   "source": [
    "# data cleaning. Remove those not trained well\n",
    "np.savez(os.path.join(feature_path, 'train_oswald_no_'+ee+'_label_correct.npz'), label_train=label_train, label_train_pred=label_train_pred )"
   ]
  },
  {
   "cell_type": "raw",
   "metadata": {},
   "source": [
    "label_train = label_train[:label_train_pred.shape[0]]"
   ]
  },
  {
   "cell_type": "raw",
   "metadata": {},
   "source": [
    "label_train.shape"
   ]
  },
  {
   "cell_type": "raw",
   "metadata": {},
   "source": [
    "label_train_pred[0, :]"
   ]
  },
  {
   "cell_type": "raw",
   "metadata": {},
   "source": []
  },
  {
   "cell_type": "raw",
   "metadata": {},
   "source": [
    "# testing\n",
    "label_pred = model.predict(fea_test)\n",
    "# label_pred = model.predict(test_generator)"
   ]
  },
  {
   "cell_type": "raw",
   "metadata": {},
   "source": [
    "np.set_printoptions(linewidth=200, precision=2, suppress=True)"
   ]
  },
  {
   "cell_type": "raw",
   "metadata": {},
   "source": [
    "print(\"Confusion matrix:\")\n",
    "cm = confusion_matrix(label_test, np.argmax(label_pred, axis=1), labels=species_id)\n",
    "\n",
    "print(species_list)\n",
    "print('')\n",
    "print(cm)\n",
    "print('')\n",
    "\n",
    "cm2 = cm*1.0\n",
    "for ii in range(cm.shape[0]):\n",
    "    cm_row = cm[ii, :]*1.0\n",
    "\n",
    "    cm_row_sum = cm_row.sum()\n",
    "    if cm_row_sum != 0:\n",
    "        cm2[ii, :] = cm_row / cm_row_sum\n",
    "    else:\n",
    "        cm2[ii, :] = np.zeros(cm.shape[1])\n",
    "\n",
    "print(cm2)"
   ]
  },
  {
   "cell_type": "raw",
   "metadata": {},
   "source": [
    "from sklearn.metrics import plot_confusion_matrix\n",
    "from sklearn.metrics._plot.confusion_matrix import ConfusionMatrixDisplay\n",
    "disp = ConfusionMatrixDisplay(confusion_matrix=cm, display_labels=species_list)\n",
    "disp2 = ConfusionMatrixDisplay(confusion_matrix=cm2, display_labels=species_list)"
   ]
  },
  {
   "cell_type": "raw",
   "metadata": {},
   "source": [
    "fig, ax = plt.subplots(figsize=[15, 15])\n",
    "disp.plot(include_values=True,\n",
    "                     cmap='viridis', ax=ax, xticks_rotation='horizontal',\n",
    "                     values_format=None, colorbar=True)\n"
   ]
  },
  {
   "cell_type": "raw",
   "metadata": {},
   "source": [
    "fig, ax = plt.subplots(figsize=[15, 15])\n",
    "disp2.plot(include_values=True,\n",
    "                     cmap='viridis', ax=ax, xticks_rotation='horizontal',\n",
    "                     values_format='.2f', colorbar=True)"
   ]
  },
  {
   "cell_type": "raw",
   "metadata": {},
   "source": [
    "from sklearn.metrics import classification_report\n",
    "# >>> target_names = ['class 0', 'class 1', 'class 2']\n",
    "print(classification_report(label_test, np.argmax(label_pred, axis=1), target_names=list(range(num_species))))"
   ]
  },
  {
   "cell_type": "raw",
   "metadata": {},
   "source": [
    "## top k accuracy score"
   ]
  },
  {
   "cell_type": "raw",
   "metadata": {},
   "source": [
    "from sklearn.metrics import top_k_accuracy_score"
   ]
  },
  {
   "cell_type": "raw",
   "metadata": {},
   "source": [
    "top_k = []\n",
    "for kk in range(1, num_species+1):\n",
    "    print('k='+str(kk)+':  ')\n",
    "    this_acc = top_k_accuracy_score(label_test, label_pred, k=kk, labels=list(range(num_species)))\n",
    "    print(this_acc)\n",
    "    top_k.append(this_acc)"
   ]
  },
  {
   "cell_type": "raw",
   "metadata": {},
   "source": [
    "# %matplotlib inline\n",
    "fig = plt.figure()\n",
    "ax = fig.subplots()\n",
    "ax.bar(list(range(1, num_species+1)), top_k)\n",
    "ax.grid(axis='y')"
   ]
  },
  {
   "cell_type": "raw",
   "metadata": {},
   "source": []
  },
  {
   "cell_type": "raw",
   "metadata": {},
   "source": [
    "## average_precision_score"
   ]
  },
  {
   "cell_type": "raw",
   "metadata": {},
   "source": [
    "from sklearn.metrics import average_precision_score\n",
    "from tensorflow.keras.utils import to_categorical"
   ]
  },
  {
   "cell_type": "raw",
   "metadata": {},
   "source": [
    "average_precision_score(to_categorical(label_test, num_classes=8), label_pred)"
   ]
  },
  {
   "cell_type": "raw",
   "metadata": {},
   "source": [
    "from collections import Counter\n",
    "Counter(label_test)"
   ]
  },
  {
   "cell_type": "raw",
   "metadata": {},
   "source": []
  },
  {
   "cell_type": "raw",
   "metadata": {},
   "source": [
    "## STAR2003"
   ]
  },
  {
   "cell_type": "raw",
   "metadata": {},
   "source": [
    "ee = deployment[1]\n",
    "print(ee)"
   ]
  },
  {
   "cell_type": "raw",
   "metadata": {},
   "source": [
    "# Training data\n",
    "fea_temp = np.load(os.path.join(feature_path, 'train_oswald_no_'+ee+'.npz'))\n",
    "fea_train = fea_temp['fea_train']\n",
    "label_train_list = fea_temp['label_train']\n",
    "del fea_temp"
   ]
  },
  {
   "cell_type": "raw",
   "metadata": {},
   "source": [
    "label_train = np.zeros(len(label_train_list))\n",
    "for ii in range(len(label_train_list)):\n",
    "    label_train[ii] = species_dict[label_train_list[ii]]"
   ]
  },
  {
   "cell_type": "raw",
   "metadata": {},
   "source": [
    "# Testing data\n",
    "fea_temp = np.load(os.path.join(feature_path, 'oswald_'+ee+'_orig.npz'))\n",
    "fea_test = fea_temp['feas_orig']\n",
    "label_test_list = fea_temp['labels_orig']\n",
    "\n",
    "fea_test = fea_test[:,:100,:]\n",
    "label_test = np.zeros(len(label_test_list))\n",
    "for ii in range(len(label_test_list)):\n",
    "    label_test[ii] = species_dict[label_test_list[ii]]"
   ]
  },
  {
   "cell_type": "raw",
   "metadata": {},
   "source": [
    "fea_train = fea_train[:,:100,:]"
   ]
  },
  {
   "cell_type": "raw",
   "metadata": {},
   "source": [
    "label_train = np.zeros(len(label_train_list))\n",
    "for ii in range(len(label_train_list)):\n",
    "    label_train[ii] = species_dict[label_train_list[ii]]"
   ]
  },
  {
   "cell_type": "raw",
   "metadata": {},
   "source": [
    "Counter(label_train_list)"
   ]
  },
  {
   "cell_type": "raw",
   "metadata": {},
   "source": [
    "Counter(label_test.tolist())"
   ]
  },
  {
   "cell_type": "raw",
   "metadata": {},
   "source": [
    "fit_result_path2 = os.path.join(fit_result_path1, ee)\n",
    "if not os.path.exists(fit_result_path2):\n",
    "    makedirs(fit_result_path2)"
   ]
  },
  {
   "cell_type": "raw",
   "metadata": {},
   "source": [
    "print('feature train shape: '+str(fea_train.shape))\n",
    "print('feature test shape: '+str(fea_test.shape))\n",
    "print('label train shape: '+str(label_train.shape))\n",
    "print('label test shape: '+str(label_test.shape))\n",
    "\n",
    "dim_time = fea_train.shape[1]\n",
    "dim_freq = fea_train.shape[2]\n",
    "print('dim_time: '+str(dim_time))\n",
    "print('dim_freq: '+str(dim_freq))"
   ]
  },
  {
   "cell_type": "raw",
   "metadata": {},
   "source": [
    "# shuffle features & labels\n",
    "fea_train, label_train = shuffle(fea_train, label_train, random_state=0)\n",
    "fea_test, label_test = shuffle(fea_test, label_test, random_state=0)"
   ]
  },
  {
   "cell_type": "raw",
   "metadata": {},
   "source": [
    "# class weight\n",
    "weights = compute_class_weight(class_weight='balanced', classes=np.unique(label_train), y=label_train)\n",
    "\n",
    "class_weights = dict()\n",
    "for ii in range(num_species):\n",
    "    class_weights[ii] = weights[ii]"
   ]
  },
  {
   "cell_type": "raw",
   "metadata": {},
   "source": [
    "fea_train = np.expand_dims(fea_train, axis=3)\n",
    "fea_test = np.expand_dims(fea_test, axis=3)"
   ]
  },
  {
   "cell_type": "raw",
   "metadata": {},
   "source": [
    "fea_train, fea_validate, label_train, label_validate = train_test_split(fea_train, label_train, test_size=0.10, random_state=42)\n",
    "\n",
    "train_generator = DataGenerator(fea_train, label_train, batch_size=batch_size, num_classes=num_species)\n",
    "del fea_train\n",
    "validate_generator = DataGenerator(fea_validate, label_validate, batch_size=batch_size, num_classes=num_species)\n",
    "del fea_validate\n",
    "\n",
    "# test_generator = DataGenerator(fea_test, label_test, batch_size=batch_size, num_classes=num_species)\n"
   ]
  },
  {
   "cell_type": "raw",
   "metadata": {},
   "source": [
    "### Training the model"
   ]
  },
  {
   "cell_type": "raw",
   "metadata": {},
   "source": [
    "# model = model_cnn14_attention_multi(dim_time, dim_freq, num_species, model_type='feature_level_attention', conv_dim=conv_dim, pool_size=pool_size, pool_stride=pool_stride, hidden_units=hidden_units, l2_regu=l2_regu, drop_rate=drop_rate)\n",
    "model = model_cnn14_spp(dim_time, dim_freq, num_species, conv_dim=conv_dim, pool_size=pool_size, pool_stride=pool_stride, hidden_units=hidden_units, l2_regu=l2_regu, drop_rate=drop_rate)\n",
    "# loss = CategoricalCrossentropy()\n",
    "loss = binary_crossentropy\n",
    "model.compile(optimizer=tf.keras.optimizers.Adam(learning_rate=learning_rate_fn), loss=loss, metrics=['accuracy'])\n",
    "\n",
    "# With classes\n",
    "# history = model.fit(fea_train, to_categorical(label_train), class_weight=class_weights, validation_split=0.3, batch_size=batch_size, epochs=num_epoch, callbacks=[EarlyStopping(patience=num_patience), ModelCheckpoint(filepath=os.path.join(fit_result_path, '{epoch:02d}-{val_loss:.4f}.hdf5'), verbose=1, monitor=\"val_loss\", save_best_only=True)])\n",
    "# history = model.fit(train_generator, validation_data=validate_generator, class_weight=class_weights, epochs=num_epoch, callbacks=[EarlyStopping(patience=num_patience, monitor='val_loss', mode='min', verbose=1), TensorBoard(log_dir=fit_result_path1), ModelCheckpoint(filepath=os.path.join(fit_result_path1, '{epoch:02d}-{val_loss:.4f}.hdf5'), verbose=1, monitor=\"val_loss\", save_best_only=True)])\n",
    "# history = model.fit(train_generator, validation_data=validate_generator, class_weight=class_weights, epochs=num_epoch, callbacks=[EarlyStopping(patience=num_patience, monitor='val_loss', mode='min', verbose=1), TensorBoard(log_dir=fit_result_path2), ModelCheckpoint(filepath=os.path.join(fit_result_path2, 'epoch_{epoch:02d}_valloss_{val_loss:.4f}_valacc_{val_accuracy:.4f}.hdf5' ), verbose=1, monitor=\"val_accuracy\", save_best_only=True)])\n",
    "history = model.fit(train_generator, validation_data=validate_generator, class_weight=class_weights, epochs=num_epoch, callbacks=[EarlyStopping(patience=num_patience, monitor='val_accuracy', mode='max', verbose=1), TensorBoard(log_dir=fit_result_path2), ModelCheckpoint(filepath=os.path.join(fit_result_path2, 'epoch_{epoch:02d}_valloss_{val_loss:.4f}_valacc_{val_accuracy:.4f}.hdf5' ), verbose=1, monitor=\"val_accuracy\", save_best_only=True)])"
   ]
  },
  {
   "cell_type": "raw",
   "metadata": {},
   "source": [
    "# fit_result_path1 = '/home/ys587/__Data/__whistle/__whislte_30_species/__fit_result_species/20210210_224527'\n",
    "the_best_model, _ = find_best_model(fit_result_path2, purge=False)"
   ]
  },
  {
   "cell_type": "raw",
   "metadata": {},
   "source": [
    "model = load_model(the_best_model)\n",
    "model.summary()"
   ]
  },
  {
   "cell_type": "raw",
   "metadata": {},
   "source": [
    "label_pred = model.predict(fea_test)\n",
    "# label_pred = model.predict(test_generator)"
   ]
  },
  {
   "cell_type": "raw",
   "metadata": {},
   "source": [
    "np.set_printoptions(linewidth=200, precision=2, suppress=True)"
   ]
  },
  {
   "cell_type": "raw",
   "metadata": {},
   "source": [
    "print(\"Confusion matrix:\")\n",
    "cm = confusion_matrix(label_test, np.argmax(label_pred, axis=1), labels=species_id)\n",
    "\n",
    "print(species_list)\n",
    "print('')\n",
    "print(cm)\n",
    "print('')\n",
    "\n",
    "cm2 = cm*1.0\n",
    "for ii in range(cm.shape[0]):\n",
    "    cm_row = cm[ii, :]*1.0\n",
    "\n",
    "    cm_row_sum = cm_row.sum()\n",
    "    if cm_row_sum != 0:\n",
    "        cm2[ii, :] = cm_row / cm_row_sum\n",
    "    else:\n",
    "        cm2[ii, :] = np.zeros(cm.shape[1])\n",
    "\n",
    "print(cm2)"
   ]
  },
  {
   "cell_type": "raw",
   "metadata": {},
   "source": [
    "from sklearn.metrics import plot_confusion_matrix\n",
    "from sklearn.metrics._plot.confusion_matrix import ConfusionMatrixDisplay\n",
    "disp = ConfusionMatrixDisplay(confusion_matrix=cm, display_labels=species_list)\n",
    "disp2 = ConfusionMatrixDisplay(confusion_matrix=cm2, display_labels=species_list)"
   ]
  },
  {
   "cell_type": "raw",
   "metadata": {},
   "source": [
    "fig, ax = plt.subplots(figsize=[15, 15])\n",
    "disp.plot(include_values=True,\n",
    "                     cmap='viridis', ax=ax, xticks_rotation='horizontal',\n",
    "                     values_format=None, colorbar=True)\n"
   ]
  },
  {
   "cell_type": "raw",
   "metadata": {},
   "source": [
    "fig, ax = plt.subplots(figsize=[15, 15])\n",
    "disp2.plot(include_values=True,\n",
    "                     cmap='viridis', ax=ax, xticks_rotation='horizontal',\n",
    "                     values_format='.2f', colorbar=True)"
   ]
  },
  {
   "cell_type": "raw",
   "metadata": {},
   "source": [
    "## STAR2006"
   ]
  },
  {
   "cell_type": "raw",
   "metadata": {},
   "source": [
    "ee = deployment[2]\n",
    "print(ee)"
   ]
  },
  {
   "cell_type": "raw",
   "metadata": {},
   "source": [
    "# Training data\n",
    "fea_temp = np.load(os.path.join(feature_path, 'train_oswald_no_'+ee+'.npz'))\n",
    "fea_train = fea_temp['fea_train']\n",
    "label_train_list = fea_temp['label_train']\n",
    "del fea_temp"
   ]
  },
  {
   "cell_type": "raw",
   "metadata": {},
   "source": [
    "label_train = np.zeros(len(label_train_list))\n",
    "for ii in range(len(label_train_list)):\n",
    "    label_train[ii] = species_dict[label_train_list[ii]]"
   ]
  },
  {
   "cell_type": "raw",
   "metadata": {},
   "source": [
    "# Testing data\n",
    "fea_temp = np.load(os.path.join(feature_path, 'oswald_'+ee+'_orig.npz'))\n",
    "fea_test = fea_temp['feas_orig']\n",
    "label_test_list = fea_temp['labels_orig']\n",
    "\n",
    "fea_test = fea_test[:,:100,:]\n",
    "label_test = np.zeros(len(label_test_list))\n",
    "for ii in range(len(label_test_list)):\n",
    "    label_test[ii] = species_dict[label_test_list[ii]]"
   ]
  },
  {
   "cell_type": "raw",
   "metadata": {},
   "source": [
    "fea_train = fea_train[:,:100,:]"
   ]
  },
  {
   "cell_type": "raw",
   "metadata": {},
   "source": [
    "label_train = np.zeros(len(label_train_list))\n",
    "for ii in range(len(label_train_list)):\n",
    "    label_train[ii] = species_dict[label_train_list[ii]]"
   ]
  },
  {
   "cell_type": "raw",
   "metadata": {},
   "source": [
    "Counter(label_train_list)"
   ]
  },
  {
   "cell_type": "raw",
   "metadata": {},
   "source": [
    "Counter(label_test.tolist())"
   ]
  },
  {
   "cell_type": "raw",
   "metadata": {},
   "source": [
    "fit_result_path2 = os.path.join(fit_result_path1, ee)\n",
    "if not os.path.exists(fit_result_path2):\n",
    "    makedirs(fit_result_path2)"
   ]
  },
  {
   "cell_type": "raw",
   "metadata": {},
   "source": [
    "print('feature train shape: '+str(fea_train.shape))\n",
    "print('feature test shape: '+str(fea_test.shape))\n",
    "print('label train shape: '+str(label_train.shape))\n",
    "print('label test shape: '+str(label_test.shape))\n",
    "\n",
    "dim_time = fea_train.shape[1]\n",
    "dim_freq = fea_train.shape[2]\n",
    "print('dim_time: '+str(dim_time))\n",
    "print('dim_freq: '+str(dim_freq))"
   ]
  },
  {
   "cell_type": "raw",
   "metadata": {},
   "source": [
    "# shuffle features & labels\n",
    "fea_train, label_train = shuffle(fea_train, label_train, random_state=0)\n",
    "fea_test, label_test = shuffle(fea_test, label_test, random_state=0)"
   ]
  },
  {
   "cell_type": "raw",
   "metadata": {},
   "source": [
    "# class weight\n",
    "weights = compute_class_weight(class_weight='balanced', classes=np.unique(label_train), y=label_train)\n",
    "\n",
    "class_weights = dict()\n",
    "for ii in range(num_species):\n",
    "    class_weights[ii] = weights[ii]"
   ]
  },
  {
   "cell_type": "raw",
   "metadata": {},
   "source": [
    "fea_train = np.expand_dims(fea_train, axis=3)\n",
    "fea_test = np.expand_dims(fea_test, axis=3)"
   ]
  },
  {
   "cell_type": "raw",
   "metadata": {},
   "source": [
    "fea_train, fea_validate, label_train, label_validate = train_test_split(fea_train, label_train, test_size=0.10, random_state=42)\n",
    "\n",
    "train_generator = DataGenerator(fea_train, label_train, batch_size=batch_size, num_classes=num_species)\n",
    "del fea_train\n",
    "validate_generator = DataGenerator(fea_validate, label_validate, batch_size=batch_size, num_classes=num_species)\n",
    "del fea_validate\n",
    "\n",
    "# test_generator = DataGenerator(fea_test, label_test, batch_size=batch_size, num_classes=num_species)\n"
   ]
  },
  {
   "cell_type": "raw",
   "metadata": {},
   "source": [
    "### Training the model"
   ]
  },
  {
   "cell_type": "raw",
   "metadata": {},
   "source": [
    "# model = model_cnn14_attention_multi(dim_time, dim_freq, num_species, model_type='feature_level_attention', conv_dim=conv_dim, pool_size=pool_size, pool_stride=pool_stride, hidden_units=hidden_units, l2_regu=l2_regu, drop_rate=drop_rate)\n",
    "model = model_cnn14_spp(dim_time, dim_freq, num_species, conv_dim=conv_dim, pool_size=pool_size, pool_stride=pool_stride, hidden_units=hidden_units, l2_regu=l2_regu, drop_rate=drop_rate)\n",
    "# loss = CategoricalCrossentropy()\n",
    "loss = binary_crossentropy\n",
    "model.compile(optimizer=tf.keras.optimizers.Adam(learning_rate=learning_rate_fn), loss=loss, metrics=['accuracy'])\n",
    "\n",
    "# With classes\n",
    "# history = model.fit(fea_train, to_categorical(label_train), class_weight=class_weights, validation_split=0.3, batch_size=batch_size, epochs=num_epoch, callbacks=[EarlyStopping(patience=num_patience), ModelCheckpoint(filepath=os.path.join(fit_result_path, '{epoch:02d}-{val_loss:.4f}.hdf5'), verbose=1, monitor=\"val_loss\", save_best_only=True)])\n",
    "# history = model.fit(train_generator, validation_data=validate_generator, class_weight=class_weights, epochs=num_epoch, callbacks=[EarlyStopping(patience=num_patience, monitor='val_loss', mode='min', verbose=1), TensorBoard(log_dir=fit_result_path1), ModelCheckpoint(filepath=os.path.join(fit_result_path1, '{epoch:02d}-{val_loss:.4f}.hdf5'), verbose=1, monitor=\"val_loss\", save_best_only=True)])\n",
    "# history = model.fit(train_generator, validation_data=validate_generator, class_weight=class_weights, epochs=num_epoch, callbacks=[EarlyStopping(patience=num_patience, monitor='val_loss', mode='min', verbose=1), TensorBoard(log_dir=fit_result_path2), ModelCheckpoint(filepath=os.path.join(fit_result_path2, 'epoch_{epoch:02d}_valloss_{val_loss:.4f}_valacc_{val_accuracy:.4f}.hdf5' ), verbose=1, monitor=\"val_accuracy\", save_best_only=True)])\n",
    "history = model.fit(train_generator, validation_data=validate_generator, class_weight=class_weights, epochs=num_epoch, callbacks=[EarlyStopping(patience=num_patience, monitor='val_accuracy', mode='max', verbose=1), TensorBoard(log_dir=fit_result_path2), ModelCheckpoint(filepath=os.path.join(fit_result_path2, 'epoch_{epoch:02d}_valloss_{val_loss:.4f}_valacc_{val_accuracy:.4f}.hdf5' ), verbose=1, monitor=\"val_accuracy\", save_best_only=True)])"
   ]
  },
  {
   "cell_type": "raw",
   "metadata": {},
   "source": [
    "# fit_result_path1 = '/home/ys587/__Data/__whistle/__whislte_30_species/__fit_result_species/20210210_224527'\n",
    "the_best_model, _ = find_best_model(fit_result_path2, purge=False)"
   ]
  },
  {
   "cell_type": "raw",
   "metadata": {},
   "source": [
    "model = load_model(the_best_model)\n",
    "model.summary()"
   ]
  },
  {
   "cell_type": "raw",
   "metadata": {},
   "source": [
    "label_pred = model.predict(fea_test)\n",
    "# label_pred = model.predict(test_generator)"
   ]
  },
  {
   "cell_type": "raw",
   "metadata": {},
   "source": [
    "np.set_printoptions(linewidth=200, precision=2, suppress=True)"
   ]
  },
  {
   "cell_type": "raw",
   "metadata": {},
   "source": [
    "print(\"Confusion matrix:\")\n",
    "cm = confusion_matrix(label_test, np.argmax(label_pred, axis=1), labels=species_id)\n",
    "\n",
    "print(species_list)\n",
    "print('')\n",
    "print(cm)\n",
    "print('')\n",
    "\n",
    "cm2 = cm*1.0\n",
    "for ii in range(cm.shape[0]):\n",
    "    cm_row = cm[ii, :]*1.0\n",
    "\n",
    "    cm_row_sum = cm_row.sum()\n",
    "    if cm_row_sum != 0:\n",
    "        cm2[ii, :] = cm_row / cm_row_sum\n",
    "    else:\n",
    "        cm2[ii, :] = np.zeros(cm.shape[1])\n",
    "\n",
    "print(cm2)"
   ]
  },
  {
   "cell_type": "raw",
   "metadata": {},
   "source": [
    "from sklearn.metrics import plot_confusion_matrix\n",
    "from sklearn.metrics._plot.confusion_matrix import ConfusionMatrixDisplay\n",
    "disp = ConfusionMatrixDisplay(confusion_matrix=cm, display_labels=species_list)\n",
    "disp2 = ConfusionMatrixDisplay(confusion_matrix=cm2, display_labels=species_list)"
   ]
  },
  {
   "cell_type": "raw",
   "metadata": {},
   "source": [
    "fig, ax = plt.subplots(figsize=[15, 15])\n",
    "disp.plot(include_values=True,\n",
    "                     cmap='viridis', ax=ax, xticks_rotation='horizontal',\n",
    "                     values_format=None, colorbar=True)\n"
   ]
  },
  {
   "cell_type": "raw",
   "metadata": {},
   "source": [
    "fig, ax = plt.subplots(figsize=[15, 15])\n",
    "disp2.plot(include_values=True,\n",
    "                     cmap='viridis', ax=ax, xticks_rotation='horizontal',\n",
    "                     values_format='.2f', colorbar=True)"
   ]
  },
  {
   "cell_type": "raw",
   "metadata": {},
   "source": [
    "## HICEAS2002"
   ]
  },
  {
   "cell_type": "raw",
   "metadata": {},
   "source": [
    "ee = deployment[3]\n",
    "print(ee)"
   ]
  },
  {
   "cell_type": "raw",
   "metadata": {},
   "source": [
    "# Training data\n",
    "fea_temp = np.load(os.path.join(feature_path, 'train_oswald_no_'+ee+'.npz'))\n",
    "fea_train = fea_temp['fea_train']\n",
    "label_train_list = fea_temp['label_train']\n",
    "del fea_temp"
   ]
  },
  {
   "cell_type": "raw",
   "metadata": {},
   "source": [
    "label_train = np.zeros(len(label_train_list))\n",
    "for ii in range(len(label_train_list)):\n",
    "    label_train[ii] = species_dict[label_train_list[ii]]"
   ]
  },
  {
   "cell_type": "raw",
   "metadata": {},
   "source": [
    "# Testing data\n",
    "fea_temp = np.load(os.path.join(feature_path, 'oswald_'+ee+'_orig.npz'))\n",
    "fea_test = fea_temp['feas_orig']\n",
    "label_test_list = fea_temp['labels_orig']\n",
    "\n",
    "fea_test = fea_test[:,:100,:]\n",
    "label_test = np.zeros(len(label_test_list))\n",
    "for ii in range(len(label_test_list)):\n",
    "    label_test[ii] = species_dict[label_test_list[ii]]"
   ]
  },
  {
   "cell_type": "raw",
   "metadata": {},
   "source": [
    "fea_train = fea_train[:,:100,:]"
   ]
  },
  {
   "cell_type": "raw",
   "metadata": {},
   "source": [
    "label_train = np.zeros(len(label_train_list))\n",
    "for ii in range(len(label_train_list)):\n",
    "    label_train[ii] = species_dict[label_train_list[ii]]"
   ]
  },
  {
   "cell_type": "raw",
   "metadata": {},
   "source": [
    "Counter(label_train_list)"
   ]
  },
  {
   "cell_type": "raw",
   "metadata": {},
   "source": [
    "Counter(label_test.tolist())"
   ]
  },
  {
   "cell_type": "raw",
   "metadata": {},
   "source": [
    "fit_result_path2 = os.path.join(fit_result_path1, ee)\n",
    "if not os.path.exists(fit_result_path2):\n",
    "    makedirs(fit_result_path2)"
   ]
  },
  {
   "cell_type": "raw",
   "metadata": {},
   "source": [
    "print('feature train shape: '+str(fea_train.shape))\n",
    "print('feature test shape: '+str(fea_test.shape))\n",
    "print('label train shape: '+str(label_train.shape))\n",
    "print('label test shape: '+str(label_test.shape))\n",
    "\n",
    "dim_time = fea_train.shape[1]\n",
    "dim_freq = fea_train.shape[2]\n",
    "print('dim_time: '+str(dim_time))\n",
    "print('dim_freq: '+str(dim_freq))"
   ]
  },
  {
   "cell_type": "raw",
   "metadata": {},
   "source": [
    "# shuffle features & labels\n",
    "fea_train, label_train = shuffle(fea_train, label_train, random_state=0)\n",
    "fea_test, label_test = shuffle(fea_test, label_test, random_state=0)"
   ]
  },
  {
   "cell_type": "raw",
   "metadata": {},
   "source": [
    "# class weight\n",
    "weights = compute_class_weight(class_weight='balanced', classes=np.unique(label_train), y=label_train)\n",
    "\n",
    "class_weights = dict()\n",
    "for ii in range(num_species):\n",
    "    class_weights[ii] = weights[ii]"
   ]
  },
  {
   "cell_type": "raw",
   "metadata": {},
   "source": [
    "fea_train = np.expand_dims(fea_train, axis=3)\n",
    "fea_test = np.expand_dims(fea_test, axis=3)"
   ]
  },
  {
   "cell_type": "raw",
   "metadata": {},
   "source": [
    "fea_train, fea_validate, label_train, label_validate = train_test_split(fea_train, label_train, test_size=0.10, random_state=42)\n",
    "\n",
    "train_generator = DataGenerator(fea_train, label_train, batch_size=batch_size, num_classes=num_species)\n",
    "del fea_train\n",
    "validate_generator = DataGenerator(fea_validate, label_validate, batch_size=batch_size, num_classes=num_species)\n",
    "del fea_validate\n",
    "\n",
    "# test_generator = DataGenerator(fea_test, label_test, batch_size=batch_size, num_classes=num_species)\n"
   ]
  },
  {
   "cell_type": "raw",
   "metadata": {},
   "source": [
    "### Training the model"
   ]
  },
  {
   "cell_type": "raw",
   "metadata": {},
   "source": [
    "# model = model_cnn14_attention_multi(dim_time, dim_freq, num_species, model_type='feature_level_attention', conv_dim=conv_dim, pool_size=pool_size, pool_stride=pool_stride, hidden_units=hidden_units, l2_regu=l2_regu, drop_rate=drop_rate)\n",
    "model = model_cnn14_spp(dim_time, dim_freq, num_species, conv_dim=conv_dim, pool_size=pool_size, pool_stride=pool_stride, hidden_units=hidden_units, l2_regu=l2_regu, drop_rate=drop_rate)\n",
    "# loss = CategoricalCrossentropy()\n",
    "loss = binary_crossentropy\n",
    "model.compile(optimizer=tf.keras.optimizers.Adam(learning_rate=learning_rate_fn), loss=loss, metrics=['accuracy'])\n",
    "\n",
    "# With classes\n",
    "# history = model.fit(fea_train, to_categorical(label_train), class_weight=class_weights, validation_split=0.3, batch_size=batch_size, epochs=num_epoch, callbacks=[EarlyStopping(patience=num_patience), ModelCheckpoint(filepath=os.path.join(fit_result_path, '{epoch:02d}-{val_loss:.4f}.hdf5'), verbose=1, monitor=\"val_loss\", save_best_only=True)])\n",
    "# history = model.fit(train_generator, validation_data=validate_generator, class_weight=class_weights, epochs=num_epoch, callbacks=[EarlyStopping(patience=num_patience, monitor='val_loss', mode='min', verbose=1), TensorBoard(log_dir=fit_result_path1), ModelCheckpoint(filepath=os.path.join(fit_result_path1, '{epoch:02d}-{val_loss:.4f}.hdf5'), verbose=1, monitor=\"val_loss\", save_best_only=True)])\n",
    "# history = model.fit(train_generator, validation_data=validate_generator, class_weight=class_weights, epochs=num_epoch, callbacks=[EarlyStopping(patience=num_patience, monitor='val_loss', mode='min', verbose=1), TensorBoard(log_dir=fit_result_path2), ModelCheckpoint(filepath=os.path.join(fit_result_path2, 'epoch_{epoch:02d}_valloss_{val_loss:.4f}_valacc_{val_accuracy:.4f}.hdf5' ), verbose=1, monitor=\"val_accuracy\", save_best_only=True)])\n",
    "history = model.fit(train_generator, validation_data=validate_generator, class_weight=class_weights, epochs=num_epoch, callbacks=[EarlyStopping(patience=num_patience, monitor='val_accuracy', mode='max', verbose=1), TensorBoard(log_dir=fit_result_path2), ModelCheckpoint(filepath=os.path.join(fit_result_path2, 'epoch_{epoch:02d}_valloss_{val_loss:.4f}_valacc_{val_accuracy:.4f}.hdf5' ), verbose=1, monitor=\"val_accuracy\", save_best_only=True)])"
   ]
  },
  {
   "cell_type": "raw",
   "metadata": {},
   "source": [
    "# fit_result_path1 = '/home/ys587/__Data/__whistle/__whislte_30_species/__fit_result_species/20210210_224527'\n",
    "the_best_model, _ = find_best_model(fit_result_path2, purge=False)"
   ]
  },
  {
   "cell_type": "raw",
   "metadata": {},
   "source": [
    "model = load_model(the_best_model)\n",
    "model.summary()"
   ]
  },
  {
   "cell_type": "raw",
   "metadata": {},
   "source": [
    "label_pred = model.predict(fea_test)\n",
    "# label_pred = model.predict(test_generator)"
   ]
  },
  {
   "cell_type": "raw",
   "metadata": {},
   "source": [
    "np.set_printoptions(linewidth=200, precision=2, suppress=True)"
   ]
  },
  {
   "cell_type": "raw",
   "metadata": {},
   "source": [
    "print(\"Confusion matrix:\")\n",
    "cm = confusion_matrix(label_test, np.argmax(label_pred, axis=1), labels=species_id)\n",
    "\n",
    "print(species_list)\n",
    "print('')\n",
    "print(cm)\n",
    "print('')\n",
    "\n",
    "cm2 = cm*1.0\n",
    "for ii in range(cm.shape[0]):\n",
    "    cm_row = cm[ii, :]*1.0\n",
    "\n",
    "    cm_row_sum = cm_row.sum()\n",
    "    if cm_row_sum != 0:\n",
    "        cm2[ii, :] = cm_row / cm_row_sum\n",
    "    else:\n",
    "        cm2[ii, :] = np.zeros(cm.shape[1])\n",
    "\n",
    "print(cm2)"
   ]
  },
  {
   "cell_type": "raw",
   "metadata": {},
   "source": [
    "from sklearn.metrics import plot_confusion_matrix\n",
    "from sklearn.metrics._plot.confusion_matrix import ConfusionMatrixDisplay\n",
    "disp = ConfusionMatrixDisplay(confusion_matrix=cm, display_labels=species_list)\n",
    "disp2 = ConfusionMatrixDisplay(confusion_matrix=cm2, display_labels=species_list)"
   ]
  },
  {
   "cell_type": "raw",
   "metadata": {},
   "source": [
    "fig, ax = plt.subplots(figsize=[15, 15])\n",
    "disp.plot(include_values=True,\n",
    "                     cmap='viridis', ax=ax, xticks_rotation='horizontal',\n",
    "                     values_format=None, colorbar=True)\n"
   ]
  },
  {
   "cell_type": "raw",
   "metadata": {},
   "source": [
    "fig, ax = plt.subplots(figsize=[15, 15])\n",
    "disp2.plot(include_values=True,\n",
    "                     cmap='viridis', ax=ax, xticks_rotation='horizontal',\n",
    "                     values_format='.2f', colorbar=True)"
   ]
  },
  {
   "cell_type": "raw",
   "metadata": {},
   "source": [
    "## PICES2005"
   ]
  },
  {
   "cell_type": "raw",
   "metadata": {},
   "source": [
    "ee = deployment[4]\n",
    "print(ee)"
   ]
  },
  {
   "cell_type": "raw",
   "metadata": {},
   "source": [
    "# Training data\n",
    "fea_temp = np.load(os.path.join(feature_path, 'train_oswald_no_'+ee+'.npz'))\n",
    "fea_train = fea_temp['fea_train']\n",
    "label_train_list = fea_temp['label_train']\n",
    "del fea_temp"
   ]
  },
  {
   "cell_type": "raw",
   "metadata": {},
   "source": [
    "label_train = np.zeros(len(label_train_list))\n",
    "for ii in range(len(label_train_list)):\n",
    "    label_train[ii] = species_dict[label_train_list[ii]]"
   ]
  },
  {
   "cell_type": "raw",
   "metadata": {},
   "source": [
    "# Testing data\n",
    "fea_temp = np.load(os.path.join(feature_path, 'oswald_'+ee+'_orig.npz'))\n",
    "fea_test = fea_temp['feas_orig']\n",
    "label_test_list = fea_temp['labels_orig']\n",
    "\n",
    "fea_test = fea_test[:,:100,:]\n",
    "label_test = np.zeros(len(label_test_list))\n",
    "for ii in range(len(label_test_list)):\n",
    "    label_test[ii] = species_dict[label_test_list[ii]]"
   ]
  },
  {
   "cell_type": "raw",
   "metadata": {},
   "source": [
    "fea_train = fea_train[:,:100,:]"
   ]
  },
  {
   "cell_type": "raw",
   "metadata": {},
   "source": [
    "label_train = np.zeros(len(label_train_list))\n",
    "for ii in range(len(label_train_list)):\n",
    "    label_train[ii] = species_dict[label_train_list[ii]]"
   ]
  },
  {
   "cell_type": "raw",
   "metadata": {},
   "source": [
    "Counter(label_train_list)"
   ]
  },
  {
   "cell_type": "raw",
   "metadata": {},
   "source": [
    "Counter(label_test.tolist())"
   ]
  },
  {
   "cell_type": "raw",
   "metadata": {},
   "source": [
    "fit_result_path2 = os.path.join(fit_result_path1, ee)\n",
    "if not os.path.exists(fit_result_path2):\n",
    "    makedirs(fit_result_path2)"
   ]
  },
  {
   "cell_type": "raw",
   "metadata": {},
   "source": [
    "print('feature train shape: '+str(fea_train.shape))\n",
    "print('feature test shape: '+str(fea_test.shape))\n",
    "print('label train shape: '+str(label_train.shape))\n",
    "print('label test shape: '+str(label_test.shape))\n",
    "\n",
    "dim_time = fea_train.shape[1]\n",
    "dim_freq = fea_train.shape[2]\n",
    "print('dim_time: '+str(dim_time))\n",
    "print('dim_freq: '+str(dim_freq))"
   ]
  },
  {
   "cell_type": "raw",
   "metadata": {},
   "source": [
    "# shuffle features & labels\n",
    "fea_train, label_train = shuffle(fea_train, label_train, random_state=0)\n",
    "fea_test, label_test = shuffle(fea_test, label_test, random_state=0)"
   ]
  },
  {
   "cell_type": "raw",
   "metadata": {},
   "source": [
    "# class weight\n",
    "weights = compute_class_weight(class_weight='balanced', classes=np.unique(label_train), y=label_train)\n",
    "\n",
    "class_weights = dict()\n",
    "for ii in range(num_species):\n",
    "    class_weights[ii] = weights[ii]"
   ]
  },
  {
   "cell_type": "raw",
   "metadata": {},
   "source": [
    "fea_train = np.expand_dims(fea_train, axis=3)\n",
    "fea_test = np.expand_dims(fea_test, axis=3)"
   ]
  },
  {
   "cell_type": "raw",
   "metadata": {},
   "source": [
    "fea_train, fea_validate, label_train, label_validate = train_test_split(fea_train, label_train, test_size=0.10, random_state=42)\n",
    "\n",
    "train_generator = DataGenerator(fea_train, label_train, batch_size=batch_size, num_classes=num_species)\n",
    "del fea_train\n",
    "validate_generator = DataGenerator(fea_validate, label_validate, batch_size=batch_size, num_classes=num_species)\n",
    "del fea_validate\n",
    "\n",
    "# test_generator = DataGenerator(fea_test, label_test, batch_size=batch_size, num_classes=num_species)\n"
   ]
  },
  {
   "cell_type": "raw",
   "metadata": {},
   "source": [
    "### Training the model"
   ]
  },
  {
   "cell_type": "raw",
   "metadata": {},
   "source": [
    "# model = model_cnn14_attention_multi(dim_time, dim_freq, num_species, model_type='feature_level_attention', conv_dim=conv_dim, pool_size=pool_size, pool_stride=pool_stride, hidden_units=hidden_units, l2_regu=l2_regu, drop_rate=drop_rate)\n",
    "model = model_cnn14_spp(dim_time, dim_freq, num_species, conv_dim=conv_dim, pool_size=pool_size, pool_stride=pool_stride, hidden_units=hidden_units, l2_regu=l2_regu, drop_rate=drop_rate)\n",
    "# loss = CategoricalCrossentropy()\n",
    "loss = binary_crossentropy\n",
    "model.compile(optimizer=tf.keras.optimizers.Adam(learning_rate=learning_rate_fn), loss=loss, metrics=['accuracy'])\n",
    "\n",
    "# With classes\n",
    "# history = model.fit(fea_train, to_categorical(label_train), class_weight=class_weights, validation_split=0.3, batch_size=batch_size, epochs=num_epoch, callbacks=[EarlyStopping(patience=num_patience), ModelCheckpoint(filepath=os.path.join(fit_result_path, '{epoch:02d}-{val_loss:.4f}.hdf5'), verbose=1, monitor=\"val_loss\", save_best_only=True)])\n",
    "# history = model.fit(train_generator, validation_data=validate_generator, class_weight=class_weights, epochs=num_epoch, callbacks=[EarlyStopping(patience=num_patience, monitor='val_loss', mode='min', verbose=1), TensorBoard(log_dir=fit_result_path1), ModelCheckpoint(filepath=os.path.join(fit_result_path1, '{epoch:02d}-{val_loss:.4f}.hdf5'), verbose=1, monitor=\"val_loss\", save_best_only=True)])\n",
    "# history = model.fit(train_generator, validation_data=validate_generator, class_weight=class_weights, epochs=num_epoch, callbacks=[EarlyStopping(patience=num_patience, monitor='val_loss', mode='min', verbose=1), TensorBoard(log_dir=fit_result_path2), ModelCheckpoint(filepath=os.path.join(fit_result_path2, 'epoch_{epoch:02d}_valloss_{val_loss:.4f}_valacc_{val_accuracy:.4f}.hdf5' ), verbose=1, monitor=\"val_accuracy\", save_best_only=True)])\n",
    "history = model.fit(train_generator, validation_data=validate_generator, class_weight=class_weights, epochs=num_epoch, callbacks=[EarlyStopping(patience=num_patience, monitor='val_accuracy', mode='max', verbose=1), TensorBoard(log_dir=fit_result_path2), ModelCheckpoint(filepath=os.path.join(fit_result_path2, 'epoch_{epoch:02d}_valloss_{val_loss:.4f}_valacc_{val_accuracy:.4f}.hdf5' ), verbose=1, monitor=\"val_accuracy\", save_best_only=True)])"
   ]
  },
  {
   "cell_type": "raw",
   "metadata": {},
   "source": [
    "# fit_result_path1 = '/home/ys587/__Data/__whistle/__whislte_30_species/__fit_result_species/20210210_224527'\n",
    "the_best_model, _ = find_best_model(fit_result_path2, purge=False)"
   ]
  },
  {
   "cell_type": "raw",
   "metadata": {},
   "source": [
    "model = load_model(the_best_model)\n",
    "model.summary()"
   ]
  },
  {
   "cell_type": "raw",
   "metadata": {},
   "source": [
    "label_pred = model.predict(fea_test)\n",
    "# label_pred = model.predict(test_generator)"
   ]
  },
  {
   "cell_type": "raw",
   "metadata": {},
   "source": [
    "np.set_printoptions(linewidth=200, precision=2, suppress=True)"
   ]
  },
  {
   "cell_type": "raw",
   "metadata": {},
   "source": [
    "print(\"Confusion matrix:\")\n",
    "cm = confusion_matrix(label_test, np.argmax(label_pred, axis=1), labels=species_id)\n",
    "\n",
    "print(species_list)\n",
    "print('')\n",
    "print(cm)\n",
    "print('')\n",
    "\n",
    "cm2 = cm*1.0\n",
    "for ii in range(cm.shape[0]):\n",
    "    cm_row = cm[ii, :]*1.0\n",
    "\n",
    "    cm_row_sum = cm_row.sum()\n",
    "    if cm_row_sum != 0:\n",
    "        cm2[ii, :] = cm_row / cm_row_sum\n",
    "    else:\n",
    "        cm2[ii, :] = np.zeros(cm.shape[1])\n",
    "\n",
    "print(cm2)"
   ]
  },
  {
   "cell_type": "raw",
   "metadata": {},
   "source": [
    "from sklearn.metrics import plot_confusion_matrix\n",
    "from sklearn.metrics._plot.confusion_matrix import ConfusionMatrixDisplay\n",
    "disp = ConfusionMatrixDisplay(confusion_matrix=cm, display_labels=species_list)\n",
    "disp2 = ConfusionMatrixDisplay(confusion_matrix=cm2, display_labels=species_list)"
   ]
  },
  {
   "cell_type": "raw",
   "metadata": {},
   "source": [
    "fig, ax = plt.subplots(figsize=[15, 15])\n",
    "disp.plot(include_values=True,\n",
    "                     cmap='viridis', ax=ax, xticks_rotation='horizontal',\n",
    "                     values_format=None, colorbar=True)\n"
   ]
  },
  {
   "cell_type": "raw",
   "metadata": {},
   "source": [
    "fig, ax = plt.subplots(figsize=[15, 15])\n",
    "disp2.plot(include_values=True,\n",
    "                     cmap='viridis', ax=ax, xticks_rotation='horizontal',\n",
    "                     values_format='.2f', colorbar=True)"
   ]
  },
  {
   "cell_type": "code",
   "execution_count": null,
   "metadata": {},
   "outputs": [],
   "source": []
  },
  {
   "cell_type": "code",
   "execution_count": null,
   "metadata": {},
   "outputs": [],
   "source": []
  },
  {
   "cell_type": "code",
   "execution_count": null,
   "metadata": {},
   "outputs": [],
   "source": []
  },
  {
   "cell_type": "code",
   "execution_count": null,
   "metadata": {},
   "outputs": [],
   "source": []
  },
  {
   "cell_type": "code",
   "execution_count": null,
   "metadata": {},
   "outputs": [],
   "source": []
  },
  {
   "cell_type": "code",
   "execution_count": null,
   "metadata": {},
   "outputs": [],
   "source": []
  }
 ],
 "metadata": {
  "kernelspec": {
   "display_name": "Python 3",
   "language": "python",
   "name": "python3"
  },
  "language_info": {
   "codemirror_mode": {
    "name": "ipython",
    "version": 3
   },
   "file_extension": ".py",
   "mimetype": "text/x-python",
   "name": "python",
   "nbconvert_exporter": "python",
   "pygments_lexer": "ipython3",
   "version": "3.8.6"
  }
 },
 "nbformat": 4,
 "nbformat_minor": 4
}
