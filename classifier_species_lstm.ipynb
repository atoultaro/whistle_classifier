{
 "cells": [
  {
   "cell_type": "markdown",
   "metadata": {},
   "source": [
    "# Training species classifier Expt 3: cross-validation of Oswald data\n",
    "# Mar 23, 2021: LSTM\n",
    "# Replace categorical cross-entropy by binary cross-entropy\n",
    "## Spatial Pyramid Pooling (SPP): [1, 1], [1, 2], [1, 4], [1, 8]\n",
    "## The augemented noise is from the all five deployments.\n",
    "## Trained on PICEAS2005 & STAR2000 whereas tested on HICEAS2002, STAR2003 & STAR2006"
   ]
  },
  {
   "cell_type": "code",
   "execution_count": 1,
   "metadata": {},
   "outputs": [],
   "source": [
    "import numpy as np\n",
    "from itertools import permutations\n",
    "import random\n",
    "import os\n",
    "import glob\n",
    "import pickle\n",
    "import matplotlib.pyplot as plt\n",
    "import matplotlib.patheffects as PathEffects\n",
    "import pandas as pd\n",
    "from os import makedirs\n",
    "from datetime import datetime\n",
    "from collections import Counter\n",
    "\n",
    "from math import floor\n",
    "\n",
    "from sklearn.model_selection import train_test_split\n",
    "from sklearn.utils import shuffle\n",
    "from sklearn.utils.class_weight import compute_class_weight\n",
    "from sklearn.metrics import roc_curve\n",
    "from sklearn.neighbors import KNeighborsClassifier\n",
    "from sklearn.metrics import confusion_matrix, classification_report\n",
    "\n",
    "# from MulticoreTSNE import MulticoreTSNE as TSNE\n",
    "# from sklearn.manifold import TSNE\n",
    "import seaborn as sns\n",
    "\n",
    "from tensorflow.keras.utils import Sequence\n",
    "from tensorflow.keras.layers import Input, Dense, BatchNormalization, Dropout, Activation\n",
    "from tensorflow.keras.layers import Conv2D, Lambda, Flatten, MaxPooling2D, Concatenate, LSTM, Reshape, Lambda, ConvLSTM2D, GlobalAveragePooling2D, GlobalMaxPooling2D\n",
    "from tensorflow.keras.layers import Bidirectional, LSTM, GRU\n",
    "from tensorflow.keras.models import Model, Sequential\n",
    "from tensorflow.keras.regularizers import l2\n",
    "from tensorflow.keras import backend as K\n",
    "\n",
    "from tensorflow.keras.optimizers.schedules import ExponentialDecay, PiecewiseConstantDecay\n",
    "from tensorflow.keras.optimizers import SGD,Adam\n",
    "from tensorflow.keras.losses import binary_crossentropy, categorical_crossentropy  # CategoricalCrossentropy\n",
    "from tensorflow.keras.callbacks import ModelCheckpoint, TensorBoard, EarlyStopping\n",
    "from tensorflow.keras.utils import to_categorical\n",
    "from tensorflow.keras.models import load_model\n",
    "import tensorflow_addons.layers.spatial_pyramid_pooling as spp\n",
    "# import tensorflow_datasets as tfds\n",
    "from tensorflow.math import l2_normalize\n",
    "\n",
    "import tensorflow as tf"
   ]
  },
  {
   "cell_type": "code",
   "execution_count": 2,
   "metadata": {},
   "outputs": [],
   "source": [
    "%matplotlib inline\n",
    "import warnings\n",
    "warnings.filterwarnings(\"ignore\", category=DeprecationWarning)"
   ]
  },
  {
   "cell_type": "code",
   "execution_count": 3,
   "metadata": {},
   "outputs": [],
   "source": [
    "# Hyper parameters\n",
    "# learning_rate = 1.0e-3\n",
    "conv_dim = 16\n",
    "rnn_dim = 16\n",
    "pool_size = 2\n",
    "pool_stride = 1  # stride over time\n",
    "l2_regu = 0.0000\n",
    "drop_rate = 0.2\n",
    "hidden_units = 128\n",
    "fcn_dim = 128\n",
    "\n",
    "# learning_rate = 1.e-4\n",
    "# conv_dim = 64\n",
    "# rnn_dim = 16\n",
    "# pool_size = 2\n",
    "# pool_stride = 2\n",
    "# l2_regu = 0.00\n",
    "# drop_rate = 0.2\n",
    "# # drop_rate = 0.5\n",
    "# hidden_units = 512\n",
    "# fcn_dim = 512\n",
    "\n",
    "num_epoch = 400\n",
    "# batch_size = 128\n",
    "batch_size = 64  # rnn\n",
    "# batch_size = 32  # for cnn14+attention\n",
    "# batch_size = 16  # for cnn14+spp\n",
    "\n",
    "num_patience = 10"
   ]
  },
  {
   "cell_type": "code",
   "execution_count": 4,
   "metadata": {},
   "outputs": [],
   "source": [
    "# boundaries = [20, 40, 60, 80]\n",
    "boundaries = [num_epoch, 10200, 10300, 10400]\n",
    "# values = [1.0e-3, 3.33e-4, 1.0e-4, 3.33e-5, 1.0e-5]\n",
    "values = [3.33e-3, 1.0e-3, 3.33e-4, 1.0e-4, 3.33e-5]\n",
    "learning_rate_fn = PiecewiseConstantDecay(boundaries, values)"
   ]
  },
  {
   "cell_type": "code",
   "execution_count": 5,
   "metadata": {},
   "outputs": [],
   "source": [
    "# data_type_dict = {1: 'universal', 2: 'file', 3: 'encounter', 4: 'domain'}\n",
    "# data_type = 2\n",
    "\n",
    "work_path = '/home/ys587/__Data/__whistle/__whislte_30_species'\n",
    "fit_result_path =  os.path.join(work_path, '__fit_result_species')\n",
    "# feature_path = os.path.join(work_path, '__feature_species')\n",
    "feature_path = os.path.join(work_path, '__dataset/20210210')"
   ]
  },
  {
   "cell_type": "code",
   "execution_count": null,
   "metadata": {},
   "outputs": [],
   "source": []
  },
  {
   "cell_type": "code",
   "execution_count": 6,
   "metadata": {},
   "outputs": [],
   "source": [
    "species_dict = {'BD': 0, 'CD': 1, 'STR': 2, 'SPT': 3, 'SPIN': 4, 'PLT': 5, 'RT': 6,  'FKW': 7}\n",
    "num_species = len(species_dict)\n",
    "# species_dict = {'BD': 0, 'MH': 1, 'CD': 2, 'STR': 3, 'SPT': 4, 'SPIN': 5, 'PLT': 6, 'RD': 7, 'RT': 8,\n",
    "#                 'WSD': 9, 'FKW': 10, 'BEL': 11, 'KW': 12, 'WBD': 13, 'DUSK': 14, 'FRA': 15, 'PKW': 16, 'LPLT': 17,\n",
    "#                 'CLY': 18, 'SPE': 19, 'ASP': 20}\n",
    "species_list = list(species_dict.keys())\n",
    "species_id = list(species_dict.values())"
   ]
  },
  {
   "cell_type": "markdown",
   "metadata": {},
   "source": [
    "## Combine features"
   ]
  },
  {
   "cell_type": "code",
   "execution_count": 7,
   "metadata": {},
   "outputs": [],
   "source": [
    "deployment = ['STAR2000', 'STAR2003', 'STAR2006', 'HICEAS2002', 'PICEAS2005']  # oswald_STAR2000_orig.npz, oswald_STAR2000_aug.npz\n",
    "feature_path = '/home/ys587/__Data/__whistle/__whislte_30_species/__dataset/20210223_augment_all_three_noise_mixed'\n",
    "# feature_path = '/home/ys587/__Data/__whistle/__whislte_30_species/__dataset/20210308_augment_all_three_noise_mixed_class_balanced_min_5'\n"
   ]
  },
  {
   "cell_type": "code",
   "execution_count": 8,
   "metadata": {
    "scrolled": true
   },
   "outputs": [],
   "source": [
    "if False:\n",
    "    for ee in deployment:\n",
    "        print(ee)\n",
    "        ee_others = [ee2 for ee2 in deployment if (ee2 != ee) ]\n",
    "        fea_train_files_tot = []\n",
    "        for ee2 in ee_others:\n",
    "            fea_train_files_tot.append('oswald_'+ee2+'_orig.npz')\n",
    "            fea_train_files_tot.append('oswald_'+ee2+'_aug.npz')\n",
    "\n",
    "        # Training data\n",
    "        fea_train_list = []\n",
    "        label_train_list = []\n",
    "        for ii in range(len(fea_train_files_tot)):\n",
    "            ff = fea_train_files_tot[ii]\n",
    "            print(ff)\n",
    "            fea_temp = np.load(os.path.join(feature_path, ff))\n",
    "            print(fea_temp.files)\n",
    "\n",
    "            if ii == 0:\n",
    "                fea_train = fea_temp['feas_orig']\n",
    "                label_train = fea_temp['labels_orig']\n",
    "                print(fea_train.shape)\n",
    "                print(label_train.shape)\n",
    "            elif ii % 2 == 0:  # even\n",
    "                fea_train = np.concatenate([fea_train, fea_temp['feas_orig']])\n",
    "                label_train = np.concatenate([label_train, fea_temp['labels_orig']])\n",
    "                print(fea_train.shape)\n",
    "                print(label_train.shape)\n",
    "            else:\n",
    "                fea_train = np.concatenate([fea_train, fea_temp['feas_aug']])\n",
    "                label_train = np.concatenate([label_train, fea_temp['labels_aug']])\n",
    "                print(fea_train.shape)\n",
    "                print(label_train.shape)\n",
    "        print(fea_train.shape)\n",
    "        print(label_train.shape)\n",
    "        np.savez(os.path.join(feature_path, './train_oswald_no_'+ee+'.npz'), fea_train=fea_train, label_train=label_train)\n",
    "        print('')"
   ]
  },
  {
   "cell_type": "code",
   "execution_count": 9,
   "metadata": {},
   "outputs": [],
   "source": [
    "# data generator\n",
    "class DataGenerator(tf.keras.utils.Sequence):\n",
    "    def __init__(self, feature, label, batch_size=32, num_classes=None, shuffle=True):\n",
    "        self.batch_size = batch_size\n",
    "        self.X = feature\n",
    "        self.X_dim = len(feature.shape)\n",
    "        self.y = to_categorical(label, num_classes)\n",
    "        self.indices = np.arange(self.y.shape[0])\n",
    "        self.num_classes = num_classes\n",
    "        self.shuffle = shuffle\n",
    "        \n",
    "        # self.index = np.arange(len(self.indices))\n",
    "        #self.df = dataframe\n",
    "        #self.indices = self.df.index.tolist()        \n",
    "        # self.x_col = x_col\n",
    "        # self.y_col = y_col\n",
    "        \n",
    "        self.on_epoch_end()\n",
    "\n",
    "    def __len__(self):\n",
    "        return int(floor(len(self.indices)/self.batch_size))\n",
    "        # return label.shape[0]\n",
    "\n",
    "    def __getitem__(self, index):\n",
    "        # index = self.index[index * self.batch_size:(index + 1) * self.batch_size]\n",
    "        # batch = [self.indices[k] for k in index]\n",
    "        batch = list(range(index*self.batch_size, (index+1)*self.batch_size))\n",
    "        \n",
    "        X, y = self.__get_data(batch)\n",
    "        return X, y\n",
    "\n",
    "    def on_epoch_end(self):\n",
    "        if self.shuffle == True:\n",
    "            np.random.shuffle(self.indices)\n",
    "\n",
    "    def __get_data(self, batch):\n",
    "        y = np.zeros((self.batch_size, self.y.shape[1]))\n",
    "        \n",
    "        if self.X_dim == 3:\n",
    "            X = np.zeros((self.batch_size, self.X.shape[1], self.X.shape[2]))\n",
    "            for i, id in enumerate(batch):\n",
    "                X[i,:, :] = self.X[id, :, :]  # logic\n",
    "                y[i, :] = self.y[id, :] # labels\n",
    "                \n",
    "        elif self.X_dim == 4:\n",
    "            X = np.zeros((self.batch_size, self.X.shape[1], self.X.shape[2], self.X.shape[3]))\n",
    "            for i, id in enumerate(batch):\n",
    "                X[i,:, :, :] = self.X[id, :, :, :]  # logic\n",
    "                y[i, :] = self.y[id, :] # labels\n",
    "\n",
    "        return X, y"
   ]
  },
  {
   "cell_type": "markdown",
   "metadata": {},
   "source": [
    "## Models"
   ]
  },
  {
   "cell_type": "code",
   "execution_count": 10,
   "metadata": {},
   "outputs": [],
   "source": [
    "# RNN / LSTM \n",
    "def model_conv_lstm(time_steps, freq_bins, classes_num, conv_dim=64, rnn_dim=128, pool_size=2, pool_stride=2, hidden_units=512, l2_regu=0., drop_rate=0., multilabel=True):\n",
    "    input_layer = Input(shape=(time_steps, freq_bins, 1), name='input')\n",
    "    # group 1\n",
    "    y = Conv2D(conv_dim, kernel_size=(3, 3), strides=(1, 1), padding='same', kernel_regularizer=l2(l2_regu))(input_layer)\n",
    "    y = BatchNormalization()(y)\n",
    "    y = Activation(activation='relu')(y)\n",
    "    y = Conv2D(conv_dim, kernel_size=(3, 3), strides=(1, 1), padding='same', kernel_regularizer=l2(l2_regu))(y)\n",
    "    y = BatchNormalization()(y)\n",
    "    y = Activation(activation='relu')(y)\n",
    "    y = MaxPooling2D(pool_size=(pool_size, 2), strides=(2, 2), padding='same')(y)\n",
    "    y = Dropout(drop_rate)(y)\n",
    "    \n",
    "    # group 2\n",
    "    y = Conv2D(conv_dim*2, kernel_size=(3, 3), strides=(1, 1), padding='same', kernel_regularizer=l2(l2_regu))(y)\n",
    "    y = BatchNormalization()(y)\n",
    "    y = Activation(activation='relu')(y)\n",
    "    y = Conv2D(conv_dim*2, kernel_size=(3, 3), strides=(1, 1), padding='same', kernel_regularizer=l2(l2_regu))(y)\n",
    "    y = BatchNormalization()(y)\n",
    "    y = Activation(activation='relu')(y)\n",
    "    y = MaxPooling2D(pool_size=(pool_size, 2), strides=(1, 2), padding='same')(y)\n",
    "    y = Dropout(drop_rate)(y)\n",
    "    \n",
    "    # group 3\n",
    "    y = Conv2D(conv_dim*4, kernel_size=(3, 3), strides=(1, 1), padding='same', kernel_regularizer=l2(l2_regu))(y)\n",
    "    y = BatchNormalization()(y)\n",
    "    y = Activation(activation='relu')(y)\n",
    "    y = Conv2D(conv_dim*4, kernel_size=(3, 3), strides=(1, 1), padding='same', kernel_regularizer=l2(l2_regu))(y)\n",
    "    y = BatchNormalization()(y)\n",
    "    y = Activation(activation='relu')(y)\n",
    "    y = MaxPooling2D(pool_size=(pool_size, 2), strides=(1, 2), padding='same')(y)\n",
    "    y = Dropout(drop_rate)(y)\n",
    "    \n",
    "#     # group 4 \n",
    "#     y = Conv2D(conv_dim*8, kernel_size=(3, 3), strides=(1, 1), padding='same', kernel_regularizer=l2(l2_regu))(y)\n",
    "#     y = BatchNormalization()(y)\n",
    "#     y = Activation(activation='relu')(y)\n",
    "#     y = Conv2D(conv_dim*8, kernel_size=(3, 3), strides=(1, 1), padding='same', kernel_regularizer=l2(l2_regu))(y)\n",
    "#     y = BatchNormalization()(y)\n",
    "#     y = Activation(activation='relu')(y)\n",
    "#     y = MaxPooling2D(pool_size=(pool_size, 2), strides=(pool_stride, 2), padding='same')(y)\n",
    "#     y = Dropout(drop_rate)(y)\n",
    "\n",
    "#     # group 5\n",
    "#     y = Conv2D(conv_dim*16, kernel_size=(3, 3), strides=(1, 1), padding='same', kernel_regularizer=l2(l2_regu))(y)\n",
    "#     y = BatchNormalization()(y)\n",
    "#     y = Activation(activation='relu')(y)\n",
    "#     y = Conv2D(conv_dim*16, kernel_size=(3, 3), strides=(1, 1), padding='same', kernel_regularizer=l2(l2_regu))(y)\n",
    "#     y = BatchNormalization()(y)\n",
    "#     y = Activation(activation='relu')(y)\n",
    "\n",
    "    \n",
    "#     dim_cnn = K.int_shape(y)\n",
    "#     y = spp.SpatialPyramidPooling2D(bins=[[time_steps, 1], [time_steps, 2], [time_steps, 4]], data_format='channels_last')(y)\n",
    "#     y = Reshape((time_steps, 7*dim_cnn[3]))(y)\n",
    "    \n",
    "    dim_cnn = K.int_shape(y)\n",
    "    y = Reshape((dim_cnn[1], dim_cnn[2]*dim_cnn[3]))(y)\n",
    "    \n",
    "    # y = Reshape(time_steps, 7, )(y)\n",
    "    # dim_spp = K.int_shape(y)\n",
    "    # y = Reshape((dim_spp[1]*dim_spp[2], ))(y)\n",
    "    # dim_cnn = K.int_shape(y)\n",
    "    # y = Reshape((dim_cnn[1], dim_cnn[2]*dim_cnn[3]))(y)\n",
    "    \n",
    "    \n",
    "    #y = LSTM(hidden_units, activation='relu', return_sequences=True, dropout=drop_rate, recurrent_dropout=drop_rate)(y)\n",
    "    #y = LSTM(hidden_units, activation='relu', dropout=drop_rate, recurrent_dropout=drop_rate)(y)\n",
    "    y = GRU(hidden_units, activation='relu', return_sequences=True, dropout=drop_rate)(y)\n",
    "    y = GRU(hidden_units, activation='relu')(y)\n",
    "    x = Dense(classes_num, activation='sigmoid')(y)\n",
    "\n",
    "#     # FC block\n",
    "#     a1 = Dense(hidden_units)(y)\n",
    "#     a1 = BatchNormalization()(a1)\n",
    "#     a1 = Activation('relu')(a1)\n",
    "#     a1 = Dropout(drop_rate)(a1)\n",
    "\n",
    "#     a2 = Dense(hidden_units)(a1)\n",
    "#     a2 = BatchNormalization()(a2)\n",
    "#     a2 = Activation('relu')(a2)\n",
    "#     a2 = Dropout(drop_rate)(a2)\n",
    "\n",
    "#     a3 = Dense(hidden_units)(a2)\n",
    "#     a3 = BatchNormalization()(a3)\n",
    "#     a3 = Activation('relu')(a3)\n",
    "#     a3 = Dropout(drop_rate)(a3)\n",
    "    \n",
    "#     y = Dense(hidden_units, activation='relu', name='cnn14_fcn')(y)  # original 512\n",
    "#      y = Dense(hidden_units, activation='relu', name='cnn14_fcn2')(y)  # original 512\n",
    "    # x = Dense(classes_num, activation='softmax')(y)\n",
    "#     x = Dense(classes_num, activation='sigmoid')(y)\n",
    "    # x = Dense(classes_num, activation='sigmoid')(a3)\n",
    "    \n",
    "    # Build model\n",
    "    model = Model(inputs=input_layer, outputs=x)\n",
    "    \n",
    "    return model"
   ]
  },
  {
   "cell_type": "markdown",
   "metadata": {},
   "source": [
    "# Model compile, class weight & fitting"
   ]
  },
  {
   "cell_type": "code",
   "execution_count": 11,
   "metadata": {},
   "outputs": [],
   "source": [
    "# def find_best_model(model_folder, remove_others=False):\n",
    "#     model_list = glob.glob(model_folder+'/*.hdf5')\n",
    "#     model_list.sort()\n",
    "#     the_best_model = model_list[-1]\n",
    "    \n",
    "#     if remove_others==True:\n",
    "#         for mm in model_list[:-1]:\n",
    "#             os.remove(mm)\n",
    "            \n",
    "#     print(the_best_model)\n",
    "    \n",
    "#     return the_best_model\n",
    "import re\n",
    "\n",
    "def find_best_model(classifier_path, fmt='epoch_\\d+_valloss_(\\d+.\\d{4})_valacc_(\\d+.\\d{4}).hdf5', is_max=True, purge=True):\n",
    "    \"\"\"\n",
    "    Return the path to the model with the best accuracy, given the path to\n",
    "    all the trained classifiers\n",
    "    Args:\n",
    "        classifier_path: path to all the trained classifiers\n",
    "        fmt: e.g. \"epoch_\\d+_[0-1].\\d+_(\\d+.\\d{4}).hdf5\"\n",
    "        'epoch_\\d+_valloss_(\\d+.\\d{4})_valacc_\\d+.\\d{4}.hdf5'\n",
    "        is_max: use max; otherwise, min\n",
    "        purge: True to purge models files except the best one\n",
    "    Return:\n",
    "        the path of the model with the best accuracy\n",
    "    \"\"\"\n",
    "    # list all files ending with .hdf5\n",
    "    day_list = sorted(glob.glob(os.path.join(classifier_path + '/', '*.hdf5')))\n",
    "\n",
    "    # re the last 4 digits for accuracy\n",
    "    hdf5_filename = []\n",
    "    hdf5_accu = np.zeros(len(day_list))\n",
    "    for dd in range(len(day_list)):\n",
    "        filename = os.path.basename(day_list[dd])\n",
    "        hdf5_filename.append(filename)\n",
    "        # m = re.search(\"_F1_(0.\\d{4}).hdf5\", filename)\n",
    "        # m = re.search(\"_([0-1].\\d{4}).hdf5\", filename)\n",
    "        # m = re.search(\"epoch_\\d+_[0-1].\\d+_(\\d+.\\d{4}).hdf5\", filename)\n",
    "        m = re.search(fmt, filename)\n",
    "        try:\n",
    "            #  hdf5_accu[dd] = float(m.groups()[0])\n",
    "            hdf5_accu[dd] = float(m.groups()[1])\n",
    "        except:\n",
    "            continue\n",
    "\n",
    "    # select the laregest one and write to the variable classifier_file\n",
    "    if len(hdf5_accu) == 0:\n",
    "        best_model_path = ''\n",
    "        best_accu = 0\n",
    "    else:\n",
    "        if is_max is True:\n",
    "            ind_max = np.argmax(hdf5_accu)\n",
    "        else: # use min instead\n",
    "            ind_max = np.argmin(hdf5_accu)\n",
    "        best_model_path = day_list[int(ind_max)]\n",
    "        best_accu = hdf5_accu[ind_max]\n",
    "        # purge all model files except the best_model\n",
    "        if purge:\n",
    "            for ff in day_list:\n",
    "                if ff != best_model_path:\n",
    "                    os.remove(ff)\n",
    "    print('Best model:'+str(best_accu))\n",
    "    print(best_model_path)\n",
    "    return best_model_path, best_accu\n"
   ]
  },
  {
   "cell_type": "code",
   "execution_count": 12,
   "metadata": {},
   "outputs": [],
   "source": [
    "### cnn4 + attention\n",
    "# model = model_cnn_attention(dim_time, dim_freq, num_species, model_type='decision_level_max_pooling', conv_dim=conv_dim, l2_regu=l2_regu, drop_rate=drop_rate)\n",
    "# model = model_cnn_attention(dim_time, dim_freq, num_species, model_type='decision_level_multi_attention', conv_dim=conv_dim, l2_regu=l2_regu, drop_rate=drop_rate)\n",
    "# model = model_cnn_attention(dim_time, dim_freq, num_species, model_type='feature_level_attention', conv_dim=conv_dim, l2_regu=l2_regu, drop_rate=drop_rate)\n",
    "\n",
    "# vggish\n",
    "# model = model_vggish(dim_time, dim_freq, num_species, conv_dim=conv_dim, fcn_dim=fcn_dim)\n",
    "\n",
    "# cnn10\n",
    "# model = model_cnn10(dim_time, dim_freq, num_species, conv_dim=conv_dim, fcn_dim=fcn_dim, l2_regu=l2_regu, drop_rate=drop_rate)\n",
    "\n",
    "# cnn14\n",
    "# model = model_cnn14(dim_time, dim_freq, num_species, conv_dim=conv_dim, fcn_dim=fcn_dim, l2_regu=l2_regu, drop_rate=drop_rate)\n",
    "\n",
    "# cnn14 attention\n",
    "# model = model_cnn14_attention(dim_time, dim_freq, num_species, model_type='feature_level_attention', conv_dim=conv_dim, pool_size=pool_size, pool_stride=pool_stride, hidden_units=hidden_units, l2_regu=l2_regu, drop_rate=drop_rate)\n",
    "# model = model_cnn14_bigru_attention(dim_time, dim_freq, num_species, model_type='feature_level_attention', conv_dim=conv_dim, rnn_dim=rnn_dim, hidden_units=hidden_units, l2_regu=l2_regu, drop_rate=drop_rate)\n",
    "\n",
    "# model = model_cnn14_attention_multi(dim_time, dim_freq, num_species, model_type='feature_level_attention', conv_dim=conv_dim, pool_size=pool_size, pool_stride=pool_stride, hidden_units=hidden_units, l2_regu=l2_regu, drop_rate=drop_rate)\n",
    "# model = model_cnn14_spp(dim_time, dim_freq, num_species, conv_dim=conv_dim, pool_size=pool_size, pool_stride=pool_stride, hidden_units=hidden_units, l2_regu=l2_regu, drop_rate=drop_rate)\n",
    "# loss = CategoricalCrossentropy()\n",
    "# model.compile(optimizer=tf.keras.optimizers.Adam(learning_rate=learning_rate), loss=loss, metrics=['accuracy'])\n",
    "\n"
   ]
  },
  {
   "cell_type": "markdown",
   "metadata": {},
   "source": [
    "# Cross validation"
   ]
  },
  {
   "cell_type": "code",
   "execution_count": 13,
   "metadata": {},
   "outputs": [],
   "source": [
    "today = datetime.now()\n",
    "# create a folder based on date & time\n",
    "fit_result_path1 = os.path.join(fit_result_path, today.strftime('%Y%m%d_%H%M%S'))"
   ]
  },
  {
   "cell_type": "markdown",
   "metadata": {},
   "source": [
    "## STAR2000"
   ]
  },
  {
   "cell_type": "code",
   "execution_count": 14,
   "metadata": {},
   "outputs": [
    {
     "name": "stdout",
     "output_type": "stream",
     "text": [
      "STAR2000\n"
     ]
    }
   ],
   "source": [
    "ee = deployment[0]\n",
    "print(ee)"
   ]
  },
  {
   "cell_type": "code",
   "execution_count": 15,
   "metadata": {},
   "outputs": [],
   "source": [
    "# Training data\n",
    "fea_temp = np.load(os.path.join(feature_path, 'train_oswald_no_'+ee+'.npz'))\n",
    "fea_train = fea_temp['fea_train']\n",
    "label_train_list = fea_temp['label_train']\n",
    "del fea_temp\n",
    "\n",
    "fea_train = fea_train[:,:100,:]\n",
    "label_train = np.zeros(len(label_train_list))\n",
    "for ii in range(len(label_train_list)):\n",
    "    label_train[ii] = species_dict[label_train_list[ii]]"
   ]
  },
  {
   "cell_type": "code",
   "execution_count": 16,
   "metadata": {},
   "outputs": [],
   "source": [
    "# Testing data\n",
    "fea_temp = np.load(os.path.join(feature_path, 'oswald_'+ee+'_orig.npz'))\n",
    "fea_test = fea_temp['feas_orig']\n",
    "label_test_list = fea_temp['labels_orig']\n",
    "\n",
    "fea_test = fea_test[:,:100,:]\n",
    "label_test = np.zeros(len(label_test_list))\n",
    "for ii in range(len(label_test_list)):\n",
    "    label_test[ii] = species_dict[label_test_list[ii]]"
   ]
  },
  {
   "cell_type": "code",
   "execution_count": 17,
   "metadata": {
    "scrolled": true
   },
   "outputs": [
    {
     "data": {
      "text/plain": [
       "Counter({'BD': 10740,\n",
       "         'CD': 4656,\n",
       "         'FKW': 19080,\n",
       "         'SPIN': 3264,\n",
       "         'SPT': 8556,\n",
       "         'STR': 8352,\n",
       "         'PLT': 11856,\n",
       "         'RT': 7410})"
      ]
     },
     "execution_count": 17,
     "metadata": {},
     "output_type": "execute_result"
    }
   ],
   "source": [
    "Counter(label_train_list)"
   ]
  },
  {
   "cell_type": "code",
   "execution_count": 18,
   "metadata": {},
   "outputs": [
    {
     "data": {
      "text/plain": [
       "Counter({0.0: 121, 1.0: 3964, 5.0: 31, 6.0: 76, 4.0: 491, 3.0: 845, 2.0: 1140})"
      ]
     },
     "execution_count": 18,
     "metadata": {},
     "output_type": "execute_result"
    }
   ],
   "source": [
    "Counter(label_test.tolist())"
   ]
  },
  {
   "cell_type": "code",
   "execution_count": 19,
   "metadata": {},
   "outputs": [],
   "source": [
    "fit_result_path2 = os.path.join(fit_result_path1, ee)\n",
    "if not os.path.exists(fit_result_path2):\n",
    "    makedirs(fit_result_path2)"
   ]
  },
  {
   "cell_type": "code",
   "execution_count": 20,
   "metadata": {},
   "outputs": [
    {
     "name": "stdout",
     "output_type": "stream",
     "text": [
      "feature train shape: (73914, 100, 128)\n",
      "feature test shape: (6668, 100, 128)\n",
      "label train shape: (73914,)\n",
      "label test shape: (6668,)\n",
      "dim_time: 100\n",
      "dim_freq: 128\n"
     ]
    }
   ],
   "source": [
    "print('feature train shape: '+str(fea_train.shape))\n",
    "print('feature test shape: '+str(fea_test.shape))\n",
    "print('label train shape: '+str(label_train.shape))\n",
    "print('label test shape: '+str(label_test.shape))\n",
    "\n",
    "dim_time = fea_train.shape[1]\n",
    "dim_freq = fea_train.shape[2]\n",
    "print('dim_time: '+str(dim_time))\n",
    "print('dim_freq: '+str(dim_freq))"
   ]
  },
  {
   "cell_type": "code",
   "execution_count": 21,
   "metadata": {},
   "outputs": [],
   "source": [
    "# shuffle features & labels\n",
    "fea_train, label_train = shuffle(fea_train, label_train, random_state=0)\n",
    "fea_test, label_test = shuffle(fea_test, label_test, random_state=0)"
   ]
  },
  {
   "cell_type": "code",
   "execution_count": 22,
   "metadata": {},
   "outputs": [],
   "source": [
    "# class weight\n",
    "weights = compute_class_weight(class_weight='balanced', classes=np.unique(label_train), y=label_train)\n",
    "\n",
    "class_weights = dict()\n",
    "for ii in range(num_species):\n",
    "    class_weights[ii] = weights[ii]"
   ]
  },
  {
   "cell_type": "code",
   "execution_count": 23,
   "metadata": {},
   "outputs": [],
   "source": [
    "fea_train = np.expand_dims(fea_train, axis=3)\n",
    "fea_test = np.expand_dims(fea_test, axis=3)"
   ]
  },
  {
   "cell_type": "code",
   "execution_count": 24,
   "metadata": {},
   "outputs": [],
   "source": [
    "fea_train, fea_validate, label_train, label_validate = train_test_split(fea_train, label_train, test_size=0.10, random_state=42+4)\n",
    "\n",
    "train_generator = DataGenerator(fea_train, label_train, batch_size=batch_size, num_classes=num_species)\n",
    "del fea_train\n",
    "validate_generator = DataGenerator(fea_validate, label_validate, batch_size=batch_size, num_classes=num_species)\n",
    "del fea_validate\n",
    "\n",
    "# test_generator = DataGenerator(fea_test, label_test, batch_size=batch_size, num_classes=num_species)\n"
   ]
  },
  {
   "cell_type": "markdown",
   "metadata": {},
   "source": [
    "### Training the model"
   ]
  },
  {
   "cell_type": "code",
   "execution_count": 25,
   "metadata": {},
   "outputs": [
    {
     "name": "stdout",
     "output_type": "stream",
     "text": [
      "WARNING:tensorflow:Layer gru will not use cuDNN kernel since it doesn't meet the cuDNN kernel criteria. It will use generic GPU kernel as fallback when running on GPU\n",
      "WARNING:tensorflow:Layer gru_1 will not use cuDNN kernel since it doesn't meet the cuDNN kernel criteria. It will use generic GPU kernel as fallback when running on GPU\n",
      "Model: \"model\"\n",
      "_________________________________________________________________\n",
      "Layer (type)                 Output Shape              Param #   \n",
      "=================================================================\n",
      "input (InputLayer)           [(None, 100, 128, 1)]     0         \n",
      "_________________________________________________________________\n",
      "conv2d (Conv2D)              (None, 100, 128, 16)      160       \n",
      "_________________________________________________________________\n",
      "batch_normalization (BatchNo (None, 100, 128, 16)      64        \n",
      "_________________________________________________________________\n",
      "activation (Activation)      (None, 100, 128, 16)      0         \n",
      "_________________________________________________________________\n",
      "conv2d_1 (Conv2D)            (None, 100, 128, 16)      2320      \n",
      "_________________________________________________________________\n",
      "batch_normalization_1 (Batch (None, 100, 128, 16)      64        \n",
      "_________________________________________________________________\n",
      "activation_1 (Activation)    (None, 100, 128, 16)      0         \n",
      "_________________________________________________________________\n",
      "max_pooling2d (MaxPooling2D) (None, 50, 64, 16)        0         \n",
      "_________________________________________________________________\n",
      "dropout (Dropout)            (None, 50, 64, 16)        0         \n",
      "_________________________________________________________________\n",
      "conv2d_2 (Conv2D)            (None, 50, 64, 32)        4640      \n",
      "_________________________________________________________________\n",
      "batch_normalization_2 (Batch (None, 50, 64, 32)        128       \n",
      "_________________________________________________________________\n",
      "activation_2 (Activation)    (None, 50, 64, 32)        0         \n",
      "_________________________________________________________________\n",
      "conv2d_3 (Conv2D)            (None, 50, 64, 32)        9248      \n",
      "_________________________________________________________________\n",
      "batch_normalization_3 (Batch (None, 50, 64, 32)        128       \n",
      "_________________________________________________________________\n",
      "activation_3 (Activation)    (None, 50, 64, 32)        0         \n",
      "_________________________________________________________________\n",
      "max_pooling2d_1 (MaxPooling2 (None, 50, 32, 32)        0         \n",
      "_________________________________________________________________\n",
      "dropout_1 (Dropout)          (None, 50, 32, 32)        0         \n",
      "_________________________________________________________________\n",
      "conv2d_4 (Conv2D)            (None, 50, 32, 64)        18496     \n",
      "_________________________________________________________________\n",
      "batch_normalization_4 (Batch (None, 50, 32, 64)        256       \n",
      "_________________________________________________________________\n",
      "activation_4 (Activation)    (None, 50, 32, 64)        0         \n",
      "_________________________________________________________________\n",
      "conv2d_5 (Conv2D)            (None, 50, 32, 64)        36928     \n",
      "_________________________________________________________________\n",
      "batch_normalization_5 (Batch (None, 50, 32, 64)        256       \n",
      "_________________________________________________________________\n",
      "activation_5 (Activation)    (None, 50, 32, 64)        0         \n",
      "_________________________________________________________________\n",
      "max_pooling2d_2 (MaxPooling2 (None, 50, 16, 64)        0         \n",
      "_________________________________________________________________\n",
      "dropout_2 (Dropout)          (None, 50, 16, 64)        0         \n",
      "_________________________________________________________________\n",
      "reshape (Reshape)            (None, 50, 1024)          0         \n",
      "_________________________________________________________________\n",
      "gru (GRU)                    (None, 50, 128)           443136    \n",
      "_________________________________________________________________\n",
      "gru_1 (GRU)                  (None, 128)               99072     \n",
      "_________________________________________________________________\n",
      "dense (Dense)                (None, 8)                 1032      \n",
      "=================================================================\n",
      "Total params: 615,928\n",
      "Trainable params: 615,480\n",
      "Non-trainable params: 448\n",
      "_________________________________________________________________\n"
     ]
    }
   ],
   "source": [
    "# model = model_cnn14_attention_multi(dim_time, dim_freq, num_species, model_type='feature_level_attention', conv_dim=conv_dim, pool_size=pool_size, pool_stride=pool_stride, hidden_units=hidden_units, l2_regu=l2_regu, drop_rate=drop_rate)\n",
    "model = model_conv_lstm(dim_time, dim_freq, num_species, conv_dim=conv_dim, pool_size=pool_size, pool_stride=pool_stride, hidden_units=hidden_units, l2_regu=l2_regu, drop_rate=drop_rate)\n",
    "# loss = categorical_crossentropy\n",
    "loss = binary_crossentropy\n",
    "model.compile(optimizer=tf.keras.optimizers.Adam(learning_rate=learning_rate_fn), loss=loss, metrics=['accuracy'])\n",
    "# model.compile(optimizer=tf.keras.optimizers.Adam(learning_rate=learning_rate), loss=loss, metrics=['accuracy'])\n",
    "model.summary()"
   ]
  },
  {
   "cell_type": "code",
   "execution_count": 26,
   "metadata": {
    "scrolled": true
   },
   "outputs": [
    {
     "name": "stdout",
     "output_type": "stream",
     "text": [
      "Epoch 1/400\n",
      "1039/1039 [==============================] - ETA: 0s - loss: 0.3541 - accuracy: 0.2333\n",
      "Epoch 00001: val_accuracy improved from -inf to 0.34185, saving model to /home/ys587/__Data/__whistle/__whislte_30_species/__fit_result_species/20210322_202847/STAR2000/epoch_01_valloss_0.3254_valacc_0.3418.hdf5\n",
      "1039/1039 [==============================] - 267s 257ms/step - loss: 0.3541 - accuracy: 0.2333 - val_loss: 0.3254 - val_accuracy: 0.3418\n",
      "Epoch 2/400\n",
      "1039/1039 [==============================] - ETA: 0s - loss: 0.3009 - accuracy: 0.4178\n",
      "Epoch 00002: val_accuracy improved from 0.34185 to 0.44321, saving model to /home/ys587/__Data/__whistle/__whislte_30_species/__fit_result_species/20210322_202847/STAR2000/epoch_02_valloss_0.2836_valacc_0.4432.hdf5\n",
      "1039/1039 [==============================] - 266s 256ms/step - loss: 0.3009 - accuracy: 0.4178 - val_loss: 0.2836 - val_accuracy: 0.4432\n",
      "Epoch 3/400\n",
      "1039/1039 [==============================] - ETA: 0s - loss: 0.2735 - accuracy: 0.4860\n",
      "Epoch 00003: val_accuracy did not improve from 0.44321\n",
      "1039/1039 [==============================] - 266s 256ms/step - loss: 0.2735 - accuracy: 0.4860 - val_loss: 0.2806 - val_accuracy: 0.4385\n",
      "Epoch 4/400\n",
      "1039/1039 [==============================] - ETA: 0s - loss: 0.2576 - accuracy: 0.5247\n",
      "Epoch 00004: val_accuracy improved from 0.44321 to 0.50476, saving model to /home/ys587/__Data/__whistle/__whislte_30_species/__fit_result_species/20210322_202847/STAR2000/epoch_04_valloss_0.2525_valacc_0.5048.hdf5\n",
      "1039/1039 [==============================] - 266s 256ms/step - loss: 0.2576 - accuracy: 0.5247 - val_loss: 0.2525 - val_accuracy: 0.5048\n",
      "Epoch 5/400\n",
      "1039/1039 [==============================] - ETA: 0s - loss: 0.2450 - accuracy: 0.5525\n",
      "Epoch 00005: val_accuracy did not improve from 0.50476\n",
      "1039/1039 [==============================] - 266s 256ms/step - loss: 0.2450 - accuracy: 0.5525 - val_loss: 0.3135 - val_accuracy: 0.4082\n",
      "Epoch 6/400\n",
      "1039/1039 [==============================] - ETA: 0s - loss: 0.2353 - accuracy: 0.5747\n",
      "Epoch 00006: val_accuracy improved from 0.50476 to 0.56508, saving model to /home/ys587/__Data/__whistle/__whislte_30_species/__fit_result_species/20210322_202847/STAR2000/epoch_06_valloss_0.2361_valacc_0.5651.hdf5\n",
      "1039/1039 [==============================] - 266s 256ms/step - loss: 0.2353 - accuracy: 0.5747 - val_loss: 0.2361 - val_accuracy: 0.5651\n",
      "Epoch 7/400\n",
      "1039/1039 [==============================] - ETA: 0s - loss: 0.2273 - accuracy: 0.5914\n",
      "Epoch 00007: val_accuracy improved from 0.56508 to 0.59538, saving model to /home/ys587/__Data/__whistle/__whislte_30_species/__fit_result_species/20210322_202847/STAR2000/epoch_07_valloss_0.2187_valacc_0.5954.hdf5\n",
      "1039/1039 [==============================] - 266s 256ms/step - loss: 0.2273 - accuracy: 0.5914 - val_loss: 0.2187 - val_accuracy: 0.5954\n",
      "Epoch 8/400\n",
      "1039/1039 [==============================] - ETA: 0s - loss: 0.2196 - accuracy: 0.6102\n",
      "Epoch 00008: val_accuracy did not improve from 0.59538\n",
      "1039/1039 [==============================] - 266s 256ms/step - loss: 0.2196 - accuracy: 0.6102 - val_loss: 0.2762 - val_accuracy: 0.5003\n",
      "Epoch 9/400\n",
      "1039/1039 [==============================] - ETA: 0s - loss: 0.2131 - accuracy: 0.6221\n",
      "Epoch 00009: val_accuracy improved from 0.59538 to 0.59973, saving model to /home/ys587/__Data/__whistle/__whislte_30_species/__fit_result_species/20210322_202847/STAR2000/epoch_09_valloss_0.2161_valacc_0.5997.hdf5\n",
      "1039/1039 [==============================] - 266s 256ms/step - loss: 0.2131 - accuracy: 0.6221 - val_loss: 0.2161 - val_accuracy: 0.5997\n",
      "Epoch 10/400\n",
      "1039/1039 [==============================] - ETA: 0s - loss: 0.2057 - accuracy: 0.6385\n",
      "Epoch 00010: val_accuracy improved from 0.59973 to 0.64334, saving model to /home/ys587/__Data/__whistle/__whislte_30_species/__fit_result_species/20210322_202847/STAR2000/epoch_10_valloss_0.1968_valacc_0.6433.hdf5\n",
      "1039/1039 [==============================] - 267s 257ms/step - loss: 0.2057 - accuracy: 0.6385 - val_loss: 0.1968 - val_accuracy: 0.6433\n",
      "Epoch 11/400\n",
      "1039/1039 [==============================] - ETA: 0s - loss: 0.1882 - accuracy: 0.6700\n",
      "Epoch 00011: val_accuracy improved from 0.64334 to 0.64823, saving model to /home/ys587/__Data/__whistle/__whislte_30_species/__fit_result_species/20210322_202847/STAR2000/epoch_11_valloss_0.1965_valacc_0.6482.hdf5\n",
      "1039/1039 [==============================] - 266s 256ms/step - loss: 0.1882 - accuracy: 0.6700 - val_loss: 0.1965 - val_accuracy: 0.6482\n",
      "Epoch 12/400\n",
      "1039/1039 [==============================] - ETA: 0s - loss: 0.1860 - accuracy: 0.6742\n",
      "Epoch 00012: val_accuracy improved from 0.64823 to 0.64946, saving model to /home/ys587/__Data/__whistle/__whislte_30_species/__fit_result_species/20210322_202847/STAR2000/epoch_12_valloss_0.1949_valacc_0.6495.hdf5\n",
      "1039/1039 [==============================] - 267s 257ms/step - loss: 0.1860 - accuracy: 0.6742 - val_loss: 0.1949 - val_accuracy: 0.6495\n",
      "Epoch 13/400\n",
      "1039/1039 [==============================] - ETA: 0s - loss: 0.1850 - accuracy: 0.6754\n",
      "Epoch 00013: val_accuracy did not improve from 0.64946\n",
      "1039/1039 [==============================] - 266s 256ms/step - loss: 0.1850 - accuracy: 0.6754 - val_loss: 0.1952 - val_accuracy: 0.6469\n",
      "Epoch 14/400\n",
      "1039/1039 [==============================] - ETA: 0s - loss: 0.1840 - accuracy: 0.6772\n",
      "Epoch 00014: val_accuracy did not improve from 0.64946\n",
      "1039/1039 [==============================] - 267s 257ms/step - loss: 0.1840 - accuracy: 0.6772 - val_loss: 0.1951 - val_accuracy: 0.6482\n",
      "Epoch 15/400\n",
      "1039/1039 [==============================] - ETA: 0s - loss: 0.1833 - accuracy: 0.6799\n",
      "Epoch 00015: val_accuracy did not improve from 0.64946\n",
      "1039/1039 [==============================] - 266s 256ms/step - loss: 0.1833 - accuracy: 0.6799 - val_loss: 0.1966 - val_accuracy: 0.6448\n",
      "Epoch 16/400\n",
      "1039/1039 [==============================] - ETA: 0s - loss: 0.1817 - accuracy: 0.6813\n",
      "Epoch 00016: val_accuracy improved from 0.64946 to 0.65190, saving model to /home/ys587/__Data/__whistle/__whislte_30_species/__fit_result_species/20210322_202847/STAR2000/epoch_16_valloss_0.1928_valacc_0.6519.hdf5\n",
      "1039/1039 [==============================] - 267s 257ms/step - loss: 0.1817 - accuracy: 0.6813 - val_loss: 0.1928 - val_accuracy: 0.6519\n",
      "Epoch 17/400\n",
      "1039/1039 [==============================] - ETA: 0s - loss: 0.1814 - accuracy: 0.6823\n",
      "Epoch 00017: val_accuracy did not improve from 0.65190\n",
      "1039/1039 [==============================] - 266s 256ms/step - loss: 0.1814 - accuracy: 0.6823 - val_loss: 0.1935 - val_accuracy: 0.6504\n",
      "Epoch 18/400\n",
      "1039/1039 [==============================] - ETA: 0s - loss: 0.1810 - accuracy: 0.6827\n",
      "Epoch 00018: val_accuracy did not improve from 0.65190\n",
      "1039/1039 [==============================] - 267s 257ms/step - loss: 0.1810 - accuracy: 0.6827 - val_loss: 0.1946 - val_accuracy: 0.6481\n",
      "Epoch 19/400\n",
      "1039/1039 [==============================] - ETA: 0s - loss: 0.1801 - accuracy: 0.6861\n",
      "Epoch 00019: val_accuracy did not improve from 0.65190\n",
      "1039/1039 [==============================] - 267s 257ms/step - loss: 0.1801 - accuracy: 0.6861 - val_loss: 0.1935 - val_accuracy: 0.6499\n",
      "Epoch 20/400\n",
      "1039/1039 [==============================] - ETA: 0s - loss: 0.1802 - accuracy: 0.6838\n",
      "Epoch 00020: val_accuracy did not improve from 0.65190\n",
      "1039/1039 [==============================] - 266s 256ms/step - loss: 0.1802 - accuracy: 0.6838 - val_loss: 0.1937 - val_accuracy: 0.6512\n",
      "Epoch 21/400\n",
      "1039/1039 [==============================] - ETA: 0s - loss: 0.1796 - accuracy: 0.6863\n",
      "Epoch 00021: val_accuracy did not improve from 0.65190\n",
      "1039/1039 [==============================] - 266s 256ms/step - loss: 0.1796 - accuracy: 0.6863 - val_loss: 0.1945 - val_accuracy: 0.6482\n",
      "Epoch 22/400\n",
      "1039/1039 [==============================] - ETA: 0s - loss: 0.1786 - accuracy: 0.6892\n",
      "Epoch 00022: val_accuracy did not improve from 0.65190\n",
      "1039/1039 [==============================] - 266s 256ms/step - loss: 0.1786 - accuracy: 0.6892 - val_loss: 0.1940 - val_accuracy: 0.6514\n",
      "Epoch 23/400\n",
      "1039/1039 [==============================] - ETA: 0s - loss: 0.1780 - accuracy: 0.6887\n",
      "Epoch 00023: val_accuracy improved from 0.65190 to 0.65679, saving model to /home/ys587/__Data/__whistle/__whislte_30_species/__fit_result_species/20210322_202847/STAR2000/epoch_23_valloss_0.1926_valacc_0.6568.hdf5\n",
      "1039/1039 [==============================] - 267s 257ms/step - loss: 0.1780 - accuracy: 0.6887 - val_loss: 0.1926 - val_accuracy: 0.6568\n",
      "Epoch 24/400\n",
      "1039/1039 [==============================] - ETA: 0s - loss: 0.1770 - accuracy: 0.6902\n",
      "Epoch 00024: val_accuracy did not improve from 0.65679\n",
      "1039/1039 [==============================] - 266s 256ms/step - loss: 0.1770 - accuracy: 0.6902 - val_loss: 0.1960 - val_accuracy: 0.6471\n",
      "Epoch 25/400\n",
      "1039/1039 [==============================] - ETA: 0s - loss: 0.1772 - accuracy: 0.6899\n",
      "Epoch 00025: val_accuracy did not improve from 0.65679\n",
      "1039/1039 [==============================] - 266s 256ms/step - loss: 0.1772 - accuracy: 0.6899 - val_loss: 0.1919 - val_accuracy: 0.6530\n",
      "Epoch 26/400\n",
      "1039/1039 [==============================] - ETA: 0s - loss: 0.1763 - accuracy: 0.6924\n",
      "Epoch 00026: val_accuracy did not improve from 0.65679\n",
      "1039/1039 [==============================] - 266s 256ms/step - loss: 0.1763 - accuracy: 0.6924 - val_loss: 0.1964 - val_accuracy: 0.6466\n",
      "Epoch 27/400\n",
      "1039/1039 [==============================] - ETA: 0s - loss: 0.1760 - accuracy: 0.6927\n",
      "Epoch 00027: val_accuracy did not improve from 0.65679\n",
      "1039/1039 [==============================] - 266s 256ms/step - loss: 0.1760 - accuracy: 0.6927 - val_loss: 0.1950 - val_accuracy: 0.6469\n",
      "Epoch 28/400\n",
      "1039/1039 [==============================] - ETA: 0s - loss: 0.1755 - accuracy: 0.6926\n",
      "Epoch 00028: val_accuracy did not improve from 0.65679\n",
      "1039/1039 [==============================] - 266s 256ms/step - loss: 0.1755 - accuracy: 0.6926 - val_loss: 0.1938 - val_accuracy: 0.6535\n",
      "Epoch 29/400\n",
      "1039/1039 [==============================] - ETA: 0s - loss: 0.1753 - accuracy: 0.6954\n",
      "Epoch 00029: val_accuracy did not improve from 0.65679\n",
      "1039/1039 [==============================] - 266s 256ms/step - loss: 0.1753 - accuracy: 0.6954 - val_loss: 0.1929 - val_accuracy: 0.6537\n",
      "Epoch 30/400\n",
      "1039/1039 [==============================] - ETA: 0s - loss: 0.1749 - accuracy: 0.6943\n",
      "Epoch 00030: val_accuracy did not improve from 0.65679\n",
      "1039/1039 [==============================] - 266s 256ms/step - loss: 0.1749 - accuracy: 0.6943 - val_loss: 0.1952 - val_accuracy: 0.6503\n",
      "Epoch 31/400\n",
      "1039/1039 [==============================] - ETA: 0s - loss: 0.1741 - accuracy: 0.6966\n",
      "Epoch 00031: val_accuracy did not improve from 0.65679\n",
      "1039/1039 [==============================] - 267s 257ms/step - loss: 0.1741 - accuracy: 0.6966 - val_loss: 0.1930 - val_accuracy: 0.6545\n",
      "Epoch 32/400\n",
      "1039/1039 [==============================] - ETA: 0s - loss: 0.1735 - accuracy: 0.6954\n",
      "Epoch 00032: val_accuracy did not improve from 0.65679\n",
      "1039/1039 [==============================] - 266s 256ms/step - loss: 0.1735 - accuracy: 0.6954 - val_loss: 0.1927 - val_accuracy: 0.6548\n",
      "Epoch 33/400\n",
      "1039/1039 [==============================] - ETA: 0s - loss: 0.1736 - accuracy: 0.6967\n",
      "Epoch 00033: val_accuracy did not improve from 0.65679\n",
      "1039/1039 [==============================] - 267s 257ms/step - loss: 0.1736 - accuracy: 0.6967 - val_loss: 0.1945 - val_accuracy: 0.6501\n",
      "Epoch 00033: early stopping\n"
     ]
    }
   ],
   "source": [
    "# With classes\n",
    "# history = model.fit(fea_train, to_categorical(label_train), class_weight=class_weights, validation_split=0.3, batch_size=batch_size, epochs=num_epoch, callbacks=[EarlyStopping(patience=num_patience), ModelCheckpoint(filepath=os.path.join(fit_result_path, '{epoch:02d}-{val_loss:.4f}.hdf5'), verbose=1, monitor=\"val_loss\", save_best_only=True)])\n",
    "# history = model.fit(train_generator, validation_data=validate_generator, class_weight=class_weights, epochs=num_epoch, callbacks=[EarlyStopping(patience=num_patience, monitor='val_loss', mode='min', verbose=1), TensorBoard(log_dir=fit_result_path1), ModelCheckpoint(filepath=os.path.join(fit_result_path1, '{epoch:02d}-{val_loss:.4f}.hdf5'), verbose=1, monitor=\"val_loss\", save_best_only=True)])\n",
    "# history = model.fit(train_generator, validation_data=validate_generator, class_weight=class_weights, epochs=num_epoch, callbacks=[EarlyStopping(patience=num_patience, monitor='val_loss', mode='min', verbose=1), TensorBoard(log_dir=fit_result_path2), ModelCheckpoint(filepath=os.path.join(fit_result_path2, 'epoch_{epoch:02d}_valloss_{val_loss:.4f}_valacc_{val_accuracy:.4f}.hdf5' ), verbose=1, monitor=\"val_loss\", save_best_only=True)])\n",
    "# history = model.fit(train_generator, validation_data=validate_generator, class_weight=class_weights, epochs=num_epoch, callbacks=[EarlyStopping(patience=num_patience, monitor='val_loss', mode='min', verbose=1), TensorBoard(log_dir=fit_result_path2), ModelCheckpoint(filepath=os.path.join(fit_result_path2, 'epoch_{epoch:02d}_valloss_{val_loss:.4f}_valacc_{val_accuracy:.4f}.hdf5' ), verbose=1, monitor=\"val_accuracy\", save_best_only=True)])\n",
    "history = model.fit(train_generator, validation_data=validate_generator, class_weight=class_weights, epochs=num_epoch, callbacks=[EarlyStopping(patience=num_patience, monitor='val_accuracy', mode='max', verbose=1), TensorBoard(log_dir=fit_result_path2), ModelCheckpoint(filepath=os.path.join(fit_result_path2, 'epoch_{epoch:02d}_valloss_{val_loss:.4f}_valacc_{val_accuracy:.4f}.hdf5' ), verbose=1, monitor=\"val_accuracy\", save_best_only=True)])"
   ]
  },
  {
   "cell_type": "code",
   "execution_count": 27,
   "metadata": {},
   "outputs": [
    {
     "name": "stdout",
     "output_type": "stream",
     "text": [
      "Best model:0.6568\n",
      "/home/ys587/__Data/__whistle/__whislte_30_species/__fit_result_species/20210322_202847/STAR2000/epoch_23_valloss_0.1926_valacc_0.6568.hdf5\n"
     ]
    }
   ],
   "source": [
    "# fit_result_path2 = '/home/ys587/__Data/__whistle/__whislte_30_species/__fit_result_species/20210310_095616/STAR2000'\n",
    "the_best_model, _ = find_best_model(fit_result_path2, purge=False)"
   ]
  },
  {
   "cell_type": "code",
   "execution_count": 28,
   "metadata": {
    "scrolled": true
   },
   "outputs": [
    {
     "name": "stdout",
     "output_type": "stream",
     "text": [
      "WARNING:tensorflow:Layer gru will not use cuDNN kernel since it doesn't meet the cuDNN kernel criteria. It will use generic GPU kernel as fallback when running on GPU\n",
      "WARNING:tensorflow:Layer gru_1 will not use cuDNN kernel since it doesn't meet the cuDNN kernel criteria. It will use generic GPU kernel as fallback when running on GPU\n",
      "Model: \"model\"\n",
      "_________________________________________________________________\n",
      "Layer (type)                 Output Shape              Param #   \n",
      "=================================================================\n",
      "input (InputLayer)           [(None, 100, 128, 1)]     0         \n",
      "_________________________________________________________________\n",
      "conv2d (Conv2D)              (None, 100, 128, 16)      160       \n",
      "_________________________________________________________________\n",
      "batch_normalization (BatchNo (None, 100, 128, 16)      64        \n",
      "_________________________________________________________________\n",
      "activation (Activation)      (None, 100, 128, 16)      0         \n",
      "_________________________________________________________________\n",
      "conv2d_1 (Conv2D)            (None, 100, 128, 16)      2320      \n",
      "_________________________________________________________________\n",
      "batch_normalization_1 (Batch (None, 100, 128, 16)      64        \n",
      "_________________________________________________________________\n",
      "activation_1 (Activation)    (None, 100, 128, 16)      0         \n",
      "_________________________________________________________________\n",
      "max_pooling2d (MaxPooling2D) (None, 50, 64, 16)        0         \n",
      "_________________________________________________________________\n",
      "dropout (Dropout)            (None, 50, 64, 16)        0         \n",
      "_________________________________________________________________\n",
      "conv2d_2 (Conv2D)            (None, 50, 64, 32)        4640      \n",
      "_________________________________________________________________\n",
      "batch_normalization_2 (Batch (None, 50, 64, 32)        128       \n",
      "_________________________________________________________________\n",
      "activation_2 (Activation)    (None, 50, 64, 32)        0         \n",
      "_________________________________________________________________\n",
      "conv2d_3 (Conv2D)            (None, 50, 64, 32)        9248      \n",
      "_________________________________________________________________\n",
      "batch_normalization_3 (Batch (None, 50, 64, 32)        128       \n",
      "_________________________________________________________________\n",
      "activation_3 (Activation)    (None, 50, 64, 32)        0         \n",
      "_________________________________________________________________\n",
      "max_pooling2d_1 (MaxPooling2 (None, 50, 32, 32)        0         \n",
      "_________________________________________________________________\n",
      "dropout_1 (Dropout)          (None, 50, 32, 32)        0         \n",
      "_________________________________________________________________\n",
      "conv2d_4 (Conv2D)            (None, 50, 32, 64)        18496     \n",
      "_________________________________________________________________\n",
      "batch_normalization_4 (Batch (None, 50, 32, 64)        256       \n",
      "_________________________________________________________________\n",
      "activation_4 (Activation)    (None, 50, 32, 64)        0         \n",
      "_________________________________________________________________\n",
      "conv2d_5 (Conv2D)            (None, 50, 32, 64)        36928     \n",
      "_________________________________________________________________\n",
      "batch_normalization_5 (Batch (None, 50, 32, 64)        256       \n",
      "_________________________________________________________________\n",
      "activation_5 (Activation)    (None, 50, 32, 64)        0         \n",
      "_________________________________________________________________\n",
      "max_pooling2d_2 (MaxPooling2 (None, 50, 16, 64)        0         \n",
      "_________________________________________________________________\n",
      "dropout_2 (Dropout)          (None, 50, 16, 64)        0         \n",
      "_________________________________________________________________\n",
      "reshape (Reshape)            (None, 50, 1024)          0         \n",
      "_________________________________________________________________\n",
      "gru (GRU)                    (None, 50, 128)           443136    \n",
      "_________________________________________________________________\n",
      "gru_1 (GRU)                  (None, 128)               99072     \n",
      "_________________________________________________________________\n",
      "dense (Dense)                (None, 8)                 1032      \n",
      "=================================================================\n",
      "Total params: 615,928\n",
      "Trainable params: 615,480\n",
      "Non-trainable params: 448\n",
      "_________________________________________________________________\n"
     ]
    }
   ],
   "source": [
    "model = load_model(the_best_model)\n",
    "model.summary()"
   ]
  },
  {
   "cell_type": "code",
   "execution_count": null,
   "metadata": {},
   "outputs": [],
   "source": []
  },
  {
   "cell_type": "raw",
   "metadata": {},
   "source": [
    "# Testing"
   ]
  },
  {
   "cell_type": "raw",
   "metadata": {},
   "source": [
    "5mrt# Training data\n",
    "fea_temp = np.load(os.path.join(feature_path, 'oswald_STAR2000_orig.npz'))\n",
    "# fea_temp = np.load(os.path.join(feature_path, 'oswald_STAR2003_orig.npz'))\n",
    "# fea_temp = np.load(os.path.join(feature_path, 'oswald_STAR2006_orig.npz'))\n",
    "# fea_temp = np.load(os.path.join(feature_path, 'oswald_HICEAS2002_orig.npz'))\n",
    "# fea_temp = np.load(os.path.join(feature_path, 'oswald_PICEAS2005_orig.npz'))\n",
    "    \n",
    "fea_train = fea_temp['feas_orig']\n",
    "label_train_list = fea_temp['labels_orig']\n",
    "del fea_temp\n",
    "\n",
    "fea_train = fea_train[:,:100,:]\n",
    "label_train = np.zeros(len(label_train_list))\n",
    "for ii in range(len(label_train_list)):\n",
    "    label_train[ii] = species_dict[label_train_list[ii]]"
   ]
  },
  {
   "cell_type": "raw",
   "metadata": {},
   "source": [
    "# testing the training data\n",
    "label_train_pred = model.predict(fea_train)"
   ]
  },
  {
   "cell_type": "raw",
   "metadata": {},
   "source": [
    "np.set_printoptions(linewidth=200, precision=2, suppress=True)"
   ]
  },
  {
   "cell_type": "raw",
   "metadata": {},
   "source": [
    "print(\"Confusion matrix:\")\n",
    "cm = confusion_matrix(label_train[:label_train_pred.shape[0]], np.argmax(label_train_pred, axis=1), labels=species_id)\n",
    "\n",
    "print(species_list)\n",
    "print('')\n",
    "print(cm)\n",
    "print('')\n",
    "\n",
    "cm2 = cm*1.0\n",
    "for ii in range(cm.shape[0]):\n",
    "    cm_row = cm[ii, :]*1.0\n",
    "\n",
    "    cm_row_sum = cm_row.sum()\n",
    "    if cm_row_sum != 0:\n",
    "        cm2[ii, :] = cm_row / cm_row_sum\n",
    "    else:\n",
    "        cm2[ii, :] = np.zeros(cm.shape[1])\n",
    "\n",
    "print(cm2)"
   ]
  },
  {
   "cell_type": "raw",
   "metadata": {},
   "source": [
    "from sklearn.metrics import plot_confusion_matrix\n",
    "from sklearn.metrics._plot.confusion_matrix import ConfusionMatrixDisplay\n",
    "disp = ConfusionMatrixDisplay(confusion_matrix=cm, display_labels=species_list)\n",
    "disp2 = ConfusionMatrixDisplay(confusion_matrix=cm2, display_labels=species_list)"
   ]
  },
  {
   "cell_type": "raw",
   "metadata": {},
   "source": [
    "fig, ax = plt.subplots(figsize=[15, 15])\n",
    "disp.plot(include_values=True,\n",
    "                     cmap='viridis', ax=ax, xticks_rotation='horizontal',\n",
    "                     values_format=None, colorbar=True)\n"
   ]
  },
  {
   "cell_type": "raw",
   "metadata": {},
   "source": [
    "fig, ax = plt.subplots(figsize=[15, 15])\n",
    "disp2.plot(include_values=True,\n",
    "                     cmap='viridis', ax=ax, xticks_rotation='horizontal',\n",
    "                     values_format='.2f', colorbar=True)"
   ]
  },
  {
   "cell_type": "raw",
   "metadata": {},
   "source": [
    "## top k accuracy score"
   ]
  },
  {
   "cell_type": "raw",
   "metadata": {},
   "source": [
    "from sklearn.metrics import top_k_accuracy_score"
   ]
  },
  {
   "cell_type": "raw",
   "metadata": {},
   "source": [
    "top_k = []\n",
    "for kk in range(1, num_species+1):\n",
    "    print('k='+str(kk)+':  ')\n",
    "    this_acc = top_k_accuracy_score(label_train[:label_train_pred.shape[0]], label_train_pred, k=kk, labels=list(range(num_species)))\n",
    "    print(this_acc)\n",
    "    top_k.append(this_acc)"
   ]
  },
  {
   "cell_type": "raw",
   "metadata": {},
   "source": [
    "# %matplotlib inline\n",
    "fig = plt.figure()\n",
    "ax = fig.subplots()\n",
    "ax.bar(list(range(1, num_species+1)), top_k)\n",
    "ax.grid(axis='y')"
   ]
  },
  {
   "cell_type": "raw",
   "metadata": {},
   "source": []
  },
  {
   "cell_type": "raw",
   "metadata": {},
   "source": [
    "# data cleaning. Remove those not trained well\n",
    "np.savez(os.path.join(feature_path, 'train_oswald_no_'+ee+'_label_correct.npz'), label_train=label_train, label_train_pred=label_train_pred )"
   ]
  },
  {
   "cell_type": "raw",
   "metadata": {},
   "source": [
    "label_train = label_train[:label_train_pred.shape[0]]"
   ]
  },
  {
   "cell_type": "raw",
   "metadata": {},
   "source": [
    "label_train.shape"
   ]
  },
  {
   "cell_type": "raw",
   "metadata": {},
   "source": [
    "label_train_pred[0, :]"
   ]
  },
  {
   "cell_type": "code",
   "execution_count": null,
   "metadata": {},
   "outputs": [],
   "source": []
  },
  {
   "cell_type": "code",
   "execution_count": 29,
   "metadata": {},
   "outputs": [],
   "source": [
    "# testing\n",
    "label_pred = model.predict(fea_test)\n",
    "# label_pred = model.predict(test_generator)"
   ]
  },
  {
   "cell_type": "code",
   "execution_count": 30,
   "metadata": {},
   "outputs": [],
   "source": [
    "np.set_printoptions(linewidth=200, precision=2, suppress=True)"
   ]
  },
  {
   "cell_type": "code",
   "execution_count": 31,
   "metadata": {},
   "outputs": [
    {
     "name": "stdout",
     "output_type": "stream",
     "text": [
      "Confusion matrix:\n",
      "['BD', 'CD', 'STR', 'SPT', 'SPIN', 'PLT', 'RT', 'FKW']\n",
      "\n",
      "[[  39   23    5   28    2    6   13    5]\n",
      " [ 732 1992  270  376   91  343  154    6]\n",
      " [ 314  266  142  247   40   86   31   14]\n",
      " [ 106  376    9  202   12  122   15    3]\n",
      " [ 234   38   25  110   73    8    2    1]\n",
      " [   0    0    0    0    0   29    0    2]\n",
      " [  16    4    8    3    0    6   38    1]\n",
      " [   0    0    0    0    0    0    0    0]]\n",
      "\n",
      "[[0.32 0.19 0.04 0.23 0.02 0.05 0.11 0.04]\n",
      " [0.18 0.5  0.07 0.09 0.02 0.09 0.04 0.  ]\n",
      " [0.28 0.23 0.12 0.22 0.04 0.08 0.03 0.01]\n",
      " [0.13 0.44 0.01 0.24 0.01 0.14 0.02 0.  ]\n",
      " [0.48 0.08 0.05 0.22 0.15 0.02 0.   0.  ]\n",
      " [0.   0.   0.   0.   0.   0.94 0.   0.06]\n",
      " [0.21 0.05 0.11 0.04 0.   0.08 0.5  0.01]\n",
      " [0.   0.   0.   0.   0.   0.   0.   0.  ]]\n"
     ]
    }
   ],
   "source": [
    "print(\"Confusion matrix:\")\n",
    "cm = confusion_matrix(label_test, np.argmax(label_pred, axis=1), labels=species_id)\n",
    "\n",
    "print(species_list)\n",
    "print('')\n",
    "print(cm)\n",
    "print('')\n",
    "\n",
    "cm2 = cm*1.0\n",
    "for ii in range(cm.shape[0]):\n",
    "    cm_row = cm[ii, :]*1.0\n",
    "\n",
    "    cm_row_sum = cm_row.sum()\n",
    "    if cm_row_sum != 0:\n",
    "        cm2[ii, :] = cm_row / cm_row_sum\n",
    "    else:\n",
    "        cm2[ii, :] = np.zeros(cm.shape[1])\n",
    "\n",
    "print(cm2)"
   ]
  },
  {
   "cell_type": "code",
   "execution_count": 32,
   "metadata": {},
   "outputs": [],
   "source": [
    "from sklearn.metrics import plot_confusion_matrix\n",
    "from sklearn.metrics._plot.confusion_matrix import ConfusionMatrixDisplay\n",
    "disp = ConfusionMatrixDisplay(confusion_matrix=cm, display_labels=species_list)\n",
    "disp2 = ConfusionMatrixDisplay(confusion_matrix=cm2, display_labels=species_list)"
   ]
  },
  {
   "cell_type": "code",
   "execution_count": 33,
   "metadata": {},
   "outputs": [
    {
     "data": {
      "text/plain": [
       "<sklearn.metrics._plot.confusion_matrix.ConfusionMatrixDisplay at 0x7fc2cd9e2cd0>"
      ]
     },
     "execution_count": 33,
     "metadata": {},
     "output_type": "execute_result"
    },
    {
     "data": {
      "image/png": "[encoded data removed]",
      "text/plain": [
       "<Figure size 1080x1080 with 2 Axes>"
      ]
     },
     "metadata": {
      "needs_background": "light"
     },
     "output_type": "display_data"
    }
   ],
   "source": [
    "fig, ax = plt.subplots(figsize=[15, 15])\n",
    "disp.plot(include_values=True,\n",
    "                     cmap='viridis', ax=ax, xticks_rotation='horizontal',\n",
    "                     values_format=None, colorbar=True)\n"
   ]
  },
  {
   "cell_type": "code",
   "execution_count": 34,
   "metadata": {},
   "outputs": [
    {
     "data": {
      "text/plain": [
       "<sklearn.metrics._plot.confusion_matrix.ConfusionMatrixDisplay at 0x7fc2cd9e2d00>"
      ]
     },
     "execution_count": 34,
     "metadata": {},
     "output_type": "execute_result"
    },
    {
     "data": {
      "image/png": "[encoded data removed]",
      "text/plain": [
       "<Figure size 1080x1080 with 2 Axes>"
      ]
     },
     "metadata": {
      "needs_background": "light"
     },
     "output_type": "display_data"
    }
   ],
   "source": [
    "fig, ax = plt.subplots(figsize=[15, 15])\n",
    "disp2.plot(include_values=True,\n",
    "                     cmap='viridis', ax=ax, xticks_rotation='horizontal',\n",
    "                     values_format='.2f', colorbar=True)"
   ]
  },
  {
   "cell_type": "raw",
   "metadata": {},
   "source": [
    "from sklearn.metrics import classification_report\n",
    "# >>> target_names = ['class 0', 'class 1', 'class 2']\n",
    "print(classification_report(label_test, np.argmax(label_pred, axis=1), target_names=list(range(num_species))))"
   ]
  },
  {
   "cell_type": "markdown",
   "metadata": {},
   "source": [
    "## top k accuracy score"
   ]
  },
  {
   "cell_type": "code",
   "execution_count": 35,
   "metadata": {},
   "outputs": [],
   "source": [
    "from sklearn.metrics import top_k_accuracy_score"
   ]
  },
  {
   "cell_type": "code",
   "execution_count": 36,
   "metadata": {},
   "outputs": [
    {
     "name": "stdout",
     "output_type": "stream",
     "text": [
      "k=1:  \n",
      "0.3771745650869826\n",
      "k=2:  \n",
      "0.5487402519496101\n",
      "k=3:  \n",
      "0.6985602879424115\n",
      "k=4:  \n",
      "0.8165866826634673\n",
      "k=5:  \n",
      "0.9251649670065987\n",
      "k=6:  \n",
      "0.9646070785842832\n",
      "k=7:  \n",
      "0.987252549490102\n",
      "k=8:  \n",
      "1.0\n"
     ]
    },
    {
     "name": "stderr",
     "output_type": "stream",
     "text": [
      "/home/ys587/miniconda3/envs/whistle_classifier/lib/python3.8/site-packages/sklearn/metrics/_ranking.py:1693: UndefinedMetricWarning: 'k' (8) greater than or equal to 'n_classes' (8) will result in a perfect score and is therefore meaningless.\n",
      "  warnings.warn(\n"
     ]
    }
   ],
   "source": [
    "top_k = []\n",
    "for kk in range(1, num_species+1):\n",
    "    print('k='+str(kk)+':  ')\n",
    "    this_acc = top_k_accuracy_score(label_test, label_pred, k=kk, labels=list(range(num_species)))\n",
    "    print(this_acc)\n",
    "    top_k.append(this_acc)"
   ]
  },
  {
   "cell_type": "code",
   "execution_count": 37,
   "metadata": {},
   "outputs": [
    {
     "data": {
      "image/png": "[encoded data removed]",
      "text/plain": [
       "<Figure size 432x288 with 1 Axes>"
      ]
     },
     "metadata": {
      "needs_background": "light"
     },
     "output_type": "display_data"
    }
   ],
   "source": [
    "# %matplotlib inline\n",
    "fig = plt.figure()\n",
    "ax = fig.subplots()\n",
    "ax.bar(list(range(1, num_species+1)), top_k)\n",
    "ax.grid(axis='y')"
   ]
  },
  {
   "cell_type": "code",
   "execution_count": null,
   "metadata": {},
   "outputs": [],
   "source": []
  },
  {
   "cell_type": "markdown",
   "metadata": {},
   "source": [
    "## average_precision_score"
   ]
  },
  {
   "cell_type": "raw",
   "metadata": {},
   "source": [
    "from sklearn.metrics import average_precision_score\n",
    "from tensorflow.keras.utils import to_categorical"
   ]
  },
  {
   "cell_type": "raw",
   "metadata": {},
   "source": [
    "average_precision_score(to_categorical(label_test, num_classes=8), label_pred)"
   ]
  },
  {
   "cell_type": "raw",
   "metadata": {},
   "source": [
    "from collections import Counter\n",
    "Counter(label_test)"
   ]
  },
  {
   "cell_type": "code",
   "execution_count": null,
   "metadata": {},
   "outputs": [],
   "source": []
  },
  {
   "cell_type": "markdown",
   "metadata": {},
   "source": [
    "## STAR2003"
   ]
  },
  {
   "cell_type": "code",
   "execution_count": 38,
   "metadata": {},
   "outputs": [
    {
     "name": "stdout",
     "output_type": "stream",
     "text": [
      "STAR2003\n"
     ]
    }
   ],
   "source": [
    "ee = deployment[1]\n",
    "print(ee)"
   ]
  },
  {
   "cell_type": "code",
   "execution_count": 39,
   "metadata": {},
   "outputs": [],
   "source": [
    "# Training data\n",
    "fea_temp = np.load(os.path.join(feature_path, 'train_oswald_no_'+ee+'.npz'))\n",
    "fea_train = fea_temp['fea_train']\n",
    "label_train_list = fea_temp['label_train']\n",
    "del fea_temp"
   ]
  },
  {
   "cell_type": "code",
   "execution_count": 40,
   "metadata": {},
   "outputs": [],
   "source": [
    "label_train = np.zeros(len(label_train_list))\n",
    "for ii in range(len(label_train_list)):\n",
    "    label_train[ii] = species_dict[label_train_list[ii]]"
   ]
  },
  {
   "cell_type": "code",
   "execution_count": 41,
   "metadata": {},
   "outputs": [],
   "source": [
    "# Testing data\n",
    "fea_temp = np.load(os.path.join(feature_path, 'oswald_'+ee+'_orig.npz'))\n",
    "fea_test = fea_temp['feas_orig']\n",
    "label_test_list = fea_temp['labels_orig']\n",
    "\n",
    "fea_test = fea_test[:,:100,:]\n",
    "label_test = np.zeros(len(label_test_list))\n",
    "for ii in range(len(label_test_list)):\n",
    "    label_test[ii] = species_dict[label_test_list[ii]]"
   ]
  },
  {
   "cell_type": "code",
   "execution_count": 42,
   "metadata": {},
   "outputs": [],
   "source": [
    "fea_train = fea_train[:,:100,:]"
   ]
  },
  {
   "cell_type": "code",
   "execution_count": 43,
   "metadata": {},
   "outputs": [],
   "source": [
    "label_train = np.zeros(len(label_train_list))\n",
    "for ii in range(len(label_train_list)):\n",
    "    label_train[ii] = species_dict[label_train_list[ii]]"
   ]
  },
  {
   "cell_type": "code",
   "execution_count": 44,
   "metadata": {
    "scrolled": true
   },
   "outputs": [
    {
     "data": {
      "text/plain": [
       "Counter({'BD': 10080,\n",
       "         'CD': 23928,\n",
       "         'PLT': 12042,\n",
       "         'RT': 7866,\n",
       "         'SPIN': 5904,\n",
       "         'SPT': 11154,\n",
       "         'STR': 14868,\n",
       "         'FKW': 17460})"
      ]
     },
     "execution_count": 44,
     "metadata": {},
     "output_type": "execute_result"
    }
   ],
   "source": [
    "Counter(label_train_list)"
   ]
  },
  {
   "cell_type": "code",
   "execution_count": 45,
   "metadata": {},
   "outputs": [
    {
     "data": {
      "text/plain": [
       "Counter({0.0: 231, 1.0: 752, 7.0: 270, 4.0: 51, 3.0: 412, 2.0: 54})"
      ]
     },
     "execution_count": 45,
     "metadata": {},
     "output_type": "execute_result"
    }
   ],
   "source": [
    "Counter(label_test.tolist())"
   ]
  },
  {
   "cell_type": "code",
   "execution_count": 46,
   "metadata": {},
   "outputs": [],
   "source": [
    "fit_result_path2 = os.path.join(fit_result_path1, ee)\n",
    "if not os.path.exists(fit_result_path2):\n",
    "    makedirs(fit_result_path2)"
   ]
  },
  {
   "cell_type": "code",
   "execution_count": 47,
   "metadata": {},
   "outputs": [
    {
     "name": "stdout",
     "output_type": "stream",
     "text": [
      "feature train shape: (103302, 100, 128)\n",
      "feature test shape: (1770, 100, 128)\n",
      "label train shape: (103302,)\n",
      "label test shape: (1770,)\n",
      "dim_time: 100\n",
      "dim_freq: 128\n"
     ]
    }
   ],
   "source": [
    "print('feature train shape: '+str(fea_train.shape))\n",
    "print('feature test shape: '+str(fea_test.shape))\n",
    "print('label train shape: '+str(label_train.shape))\n",
    "print('label test shape: '+str(label_test.shape))\n",
    "\n",
    "dim_time = fea_train.shape[1]\n",
    "dim_freq = fea_train.shape[2]\n",
    "print('dim_time: '+str(dim_time))\n",
    "print('dim_freq: '+str(dim_freq))"
   ]
  },
  {
   "cell_type": "code",
   "execution_count": 48,
   "metadata": {},
   "outputs": [],
   "source": [
    "# shuffle features & labels\n",
    "fea_train, label_train = shuffle(fea_train, label_train, random_state=0)\n",
    "fea_test, label_test = shuffle(fea_test, label_test, random_state=0)"
   ]
  },
  {
   "cell_type": "code",
   "execution_count": 49,
   "metadata": {},
   "outputs": [],
   "source": [
    "# class weight\n",
    "weights = compute_class_weight(class_weight='balanced', classes=np.unique(label_train), y=label_train)\n",
    "\n",
    "class_weights = dict()\n",
    "for ii in range(num_species):\n",
    "    class_weights[ii] = weights[ii]"
   ]
  },
  {
   "cell_type": "code",
   "execution_count": 50,
   "metadata": {},
   "outputs": [],
   "source": [
    "fea_train = np.expand_dims(fea_train, axis=3)\n",
    "fea_test = np.expand_dims(fea_test, axis=3)"
   ]
  },
  {
   "cell_type": "code",
   "execution_count": 51,
   "metadata": {},
   "outputs": [],
   "source": [
    "fea_train, fea_validate, label_train, label_validate = train_test_split(fea_train, label_train, test_size=0.10, random_state=42)\n",
    "\n",
    "train_generator = DataGenerator(fea_train, label_train, batch_size=batch_size, num_classes=num_species)\n",
    "del fea_train\n",
    "validate_generator = DataGenerator(fea_validate, label_validate, batch_size=batch_size, num_classes=num_species)\n",
    "del fea_validate\n",
    "\n",
    "# test_generator = DataGenerator(fea_test, label_test, batch_size=batch_size, num_classes=num_species)\n"
   ]
  },
  {
   "cell_type": "markdown",
   "metadata": {},
   "source": [
    "### Training the model"
   ]
  },
  {
   "cell_type": "code",
   "execution_count": 52,
   "metadata": {
    "scrolled": true
   },
   "outputs": [
    {
     "name": "stdout",
     "output_type": "stream",
     "text": [
      "WARNING:tensorflow:Layer gru_2 will not use cuDNN kernel since it doesn't meet the cuDNN kernel criteria. It will use generic GPU kernel as fallback when running on GPU\n",
      "WARNING:tensorflow:Layer gru_3 will not use cuDNN kernel since it doesn't meet the cuDNN kernel criteria. It will use generic GPU kernel as fallback when running on GPU\n",
      "Epoch 1/400\n",
      "1452/1452 [==============================] - ETA: 0s - loss: 0.3433 - accuracy: 0.2703\n",
      "Epoch 00001: val_accuracy improved from -inf to 0.40518, saving model to /home/ys587/__Data/__whistle/__whislte_30_species/__fit_result_species/20210322_202847/STAR2003/epoch_01_valloss_0.2921_valacc_0.4052.hdf5\n",
      "1452/1452 [==============================] - 373s 257ms/step - loss: 0.3433 - accuracy: 0.2703 - val_loss: 0.2921 - val_accuracy: 0.4052\n",
      "Epoch 2/400\n",
      "1452/1452 [==============================] - ETA: 0s - loss: 0.2864 - accuracy: 0.4450\n",
      "Epoch 00002: val_accuracy improved from 0.40518 to 0.50330, saving model to /home/ys587/__Data/__whistle/__whislte_30_species/__fit_result_species/20210322_202847/STAR2003/epoch_02_valloss_0.2534_valacc_0.5033.hdf5\n",
      "1452/1452 [==============================] - 372s 256ms/step - loss: 0.2864 - accuracy: 0.4450 - val_loss: 0.2534 - val_accuracy: 0.5033\n",
      "Epoch 3/400\n",
      "1452/1452 [==============================] - ETA: 0s - loss: 0.2553 - accuracy: 0.5191\n",
      "Epoch 00003: val_accuracy did not improve from 0.50330\n",
      "1452/1452 [==============================] - 372s 256ms/step - loss: 0.2553 - accuracy: 0.5191 - val_loss: 0.2975 - val_accuracy: 0.4396\n",
      "Epoch 4/400\n",
      "1452/1452 [==============================] - ETA: 0s - loss: 0.2370 - accuracy: 0.5603\n",
      "Epoch 00004: val_accuracy did not improve from 0.50330\n",
      "1452/1452 [==============================] - 372s 256ms/step - loss: 0.2370 - accuracy: 0.5603 - val_loss: 0.2732 - val_accuracy: 0.4814\n",
      "Epoch 5/400\n",
      "1452/1452 [==============================] - ETA: 0s - loss: 0.2242 - accuracy: 0.5913\n",
      "Epoch 00005: val_accuracy improved from 0.50330 to 0.55153, saving model to /home/ys587/__Data/__whistle/__whislte_30_species/__fit_result_species/20210322_202847/STAR2003/epoch_05_valloss_0.2417_valacc_0.5515.hdf5\n",
      "1452/1452 [==============================] - 372s 256ms/step - loss: 0.2242 - accuracy: 0.5913 - val_loss: 0.2417 - val_accuracy: 0.5515\n",
      "Epoch 6/400\n",
      "1452/1452 [==============================] - ETA: 0s - loss: 0.2141 - accuracy: 0.6112\n",
      "Epoch 00006: val_accuracy improved from 0.55153 to 0.55716, saving model to /home/ys587/__Data/__whistle/__whislte_30_species/__fit_result_species/20210322_202847/STAR2003/epoch_06_valloss_0.2347_valacc_0.5572.hdf5\n",
      "1452/1452 [==============================] - 372s 256ms/step - loss: 0.2141 - accuracy: 0.6112 - val_loss: 0.2347 - val_accuracy: 0.5572\n",
      "Epoch 7/400\n",
      "1452/1452 [==============================] - ETA: 0s - loss: 0.2060 - accuracy: 0.6271\n",
      "Epoch 00007: val_accuracy did not improve from 0.55716\n",
      "1452/1452 [==============================] - 372s 256ms/step - loss: 0.2060 - accuracy: 0.6271 - val_loss: 0.2565 - val_accuracy: 0.5185\n",
      "Epoch 8/400\n",
      "1452/1452 [==============================] - ETA: 0s - loss: 0.1883 - accuracy: 0.6615\n",
      "Epoch 00008: val_accuracy improved from 0.55716 to 0.63606, saving model to /home/ys587/__Data/__whistle/__whislte_30_species/__fit_result_species/20210322_202847/STAR2003/epoch_08_valloss_0.1942_valacc_0.6361.hdf5\n",
      "1452/1452 [==============================] - 372s 256ms/step - loss: 0.1883 - accuracy: 0.6615 - val_loss: 0.1942 - val_accuracy: 0.6361\n",
      "Epoch 9/400\n",
      "1452/1452 [==============================] - ETA: 0s - loss: 0.1850 - accuracy: 0.6684\n",
      "Epoch 00009: val_accuracy improved from 0.63606 to 0.64325, saving model to /home/ys587/__Data/__whistle/__whislte_30_species/__fit_result_species/20210322_202847/STAR2003/epoch_09_valloss_0.1917_valacc_0.6432.hdf5\n",
      "1452/1452 [==============================] - 372s 256ms/step - loss: 0.1850 - accuracy: 0.6684 - val_loss: 0.1917 - val_accuracy: 0.6432\n",
      "Epoch 10/400\n",
      "1452/1452 [==============================] - ETA: 0s - loss: 0.1835 - accuracy: 0.6699\n",
      "Epoch 00010: val_accuracy improved from 0.64325 to 0.64392, saving model to /home/ys587/__Data/__whistle/__whislte_30_species/__fit_result_species/20210322_202847/STAR2003/epoch_10_valloss_0.1904_valacc_0.6439.hdf5\n",
      "1452/1452 [==============================] - 372s 256ms/step - loss: 0.1835 - accuracy: 0.6699 - val_loss: 0.1904 - val_accuracy: 0.6439\n",
      "Epoch 11/400\n",
      "1452/1452 [==============================] - ETA: 0s - loss: 0.1826 - accuracy: 0.6723\n",
      "Epoch 00011: val_accuracy improved from 0.64392 to 0.64664, saving model to /home/ys587/__Data/__whistle/__whislte_30_species/__fit_result_species/20210322_202847/STAR2003/epoch_11_valloss_0.1908_valacc_0.6466.hdf5\n",
      "1452/1452 [==============================] - 373s 257ms/step - loss: 0.1826 - accuracy: 0.6723 - val_loss: 0.1908 - val_accuracy: 0.6466\n",
      "Epoch 12/400\n",
      "1452/1452 [==============================] - ETA: 0s - loss: 0.1819 - accuracy: 0.6735\n",
      "Epoch 00012: val_accuracy did not improve from 0.64664\n",
      "1452/1452 [==============================] - 373s 257ms/step - loss: 0.1819 - accuracy: 0.6735 - val_loss: 0.1902 - val_accuracy: 0.6446\n",
      "Epoch 13/400\n",
      "1452/1452 [==============================] - ETA: 0s - loss: 0.1811 - accuracy: 0.6732\n",
      "Epoch 00013: val_accuracy improved from 0.64664 to 0.64703, saving model to /home/ys587/__Data/__whistle/__whislte_30_species/__fit_result_species/20210322_202847/STAR2003/epoch_13_valloss_0.1895_valacc_0.6470.hdf5\n",
      "1452/1452 [==============================] - 373s 257ms/step - loss: 0.1811 - accuracy: 0.6732 - val_loss: 0.1895 - val_accuracy: 0.6470\n",
      "Epoch 14/400\n",
      "1452/1452 [==============================] - ETA: 0s - loss: 0.1803 - accuracy: 0.6761\n",
      "Epoch 00014: val_accuracy improved from 0.64703 to 0.65363, saving model to /home/ys587/__Data/__whistle/__whislte_30_species/__fit_result_species/20210322_202847/STAR2003/epoch_14_valloss_0.1876_valacc_0.6536.hdf5\n",
      "1452/1452 [==============================] - 373s 257ms/step - loss: 0.1803 - accuracy: 0.6761 - val_loss: 0.1876 - val_accuracy: 0.6536\n",
      "Epoch 15/400\n",
      "1452/1452 [==============================] - ETA: 0s - loss: 0.1794 - accuracy: 0.6765\n",
      "Epoch 00015: val_accuracy did not improve from 0.65363\n",
      "1452/1452 [==============================] - 372s 256ms/step - loss: 0.1794 - accuracy: 0.6765 - val_loss: 0.1884 - val_accuracy: 0.6506\n",
      "Epoch 16/400\n",
      "1452/1452 [==============================] - ETA: 0s - loss: 0.1789 - accuracy: 0.6776\n",
      "Epoch 00016: val_accuracy did not improve from 0.65363\n",
      "1452/1452 [==============================] - 372s 256ms/step - loss: 0.1789 - accuracy: 0.6776 - val_loss: 0.1879 - val_accuracy: 0.6505\n",
      "Epoch 17/400\n",
      "1452/1452 [==============================] - ETA: 0s - loss: 0.1785 - accuracy: 0.6802\n",
      "Epoch 00017: val_accuracy did not improve from 0.65363\n",
      "1452/1452 [==============================] - 372s 256ms/step - loss: 0.1785 - accuracy: 0.6802 - val_loss: 0.1887 - val_accuracy: 0.6479\n",
      "Epoch 18/400\n",
      "1452/1452 [==============================] - ETA: 0s - loss: 0.1775 - accuracy: 0.6808\n",
      "Epoch 00018: val_accuracy did not improve from 0.65363\n",
      "1452/1452 [==============================] - 372s 256ms/step - loss: 0.1775 - accuracy: 0.6808 - val_loss: 0.1897 - val_accuracy: 0.6479\n",
      "Epoch 19/400\n",
      "1452/1452 [==============================] - ETA: 0s - loss: 0.1774 - accuracy: 0.6804\n",
      "Epoch 00019: val_accuracy did not improve from 0.65363\n",
      "1452/1452 [==============================] - 372s 256ms/step - loss: 0.1774 - accuracy: 0.6804 - val_loss: 0.1886 - val_accuracy: 0.6499\n",
      "Epoch 20/400\n",
      "1452/1452 [==============================] - ETA: 0s - loss: 0.1773 - accuracy: 0.6810\n",
      "Epoch 00020: val_accuracy did not improve from 0.65363\n",
      "1452/1452 [==============================] - 372s 256ms/step - loss: 0.1773 - accuracy: 0.6810 - val_loss: 0.1892 - val_accuracy: 0.6499\n",
      "Epoch 21/400\n",
      "1452/1452 [==============================] - ETA: 0s - loss: 0.1763 - accuracy: 0.6814\n",
      "Epoch 00021: val_accuracy did not improve from 0.65363\n",
      "1452/1452 [==============================] - 371s 256ms/step - loss: 0.1763 - accuracy: 0.6814 - val_loss: 0.1877 - val_accuracy: 0.6534\n",
      "Epoch 22/400\n",
      "1452/1452 [==============================] - ETA: 0s - loss: 0.1757 - accuracy: 0.6833\n",
      "Epoch 00022: val_accuracy did not improve from 0.65363\n",
      "1452/1452 [==============================] - 372s 256ms/step - loss: 0.1757 - accuracy: 0.6833 - val_loss: 0.1879 - val_accuracy: 0.6510\n",
      "Epoch 23/400\n",
      "1452/1452 [==============================] - ETA: 0s - loss: 0.1751 - accuracy: 0.6844\n",
      "Epoch 00023: val_accuracy did not improve from 0.65363\n",
      "1452/1452 [==============================] - 373s 257ms/step - loss: 0.1751 - accuracy: 0.6844 - val_loss: 0.1882 - val_accuracy: 0.6509\n",
      "Epoch 24/400\n",
      "1452/1452 [==============================] - ETA: 0s - loss: 0.1748 - accuracy: 0.6847\n",
      "Epoch 00024: val_accuracy improved from 0.65363 to 0.65392, saving model to /home/ys587/__Data/__whistle/__whislte_30_species/__fit_result_species/20210322_202847/STAR2003/epoch_24_valloss_0.1870_valacc_0.6539.hdf5\n",
      "1452/1452 [==============================] - 372s 256ms/step - loss: 0.1748 - accuracy: 0.6847 - val_loss: 0.1870 - val_accuracy: 0.6539\n",
      "Epoch 25/400\n",
      "1452/1452 [==============================] - ETA: 0s - loss: 0.1740 - accuracy: 0.6866\n",
      "Epoch 00025: val_accuracy improved from 0.65392 to 0.65557, saving model to /home/ys587/__Data/__whistle/__whislte_30_species/__fit_result_species/20210322_202847/STAR2003/epoch_25_valloss_0.1858_valacc_0.6556.hdf5\n",
      "1452/1452 [==============================] - 373s 257ms/step - loss: 0.1740 - accuracy: 0.6866 - val_loss: 0.1858 - val_accuracy: 0.6556\n",
      "Epoch 26/400\n",
      "1452/1452 [==============================] - ETA: 0s - loss: 0.1739 - accuracy: 0.6866\n",
      "Epoch 00026: val_accuracy improved from 0.65557 to 0.65790, saving model to /home/ys587/__Data/__whistle/__whislte_30_species/__fit_result_species/20210322_202847/STAR2003/epoch_26_valloss_0.1856_valacc_0.6579.hdf5\n",
      "1452/1452 [==============================] - 373s 257ms/step - loss: 0.1739 - accuracy: 0.6866 - val_loss: 0.1856 - val_accuracy: 0.6579\n",
      "Epoch 27/400\n",
      "1452/1452 [==============================] - ETA: 0s - loss: 0.1734 - accuracy: 0.6873\n",
      "Epoch 00027: val_accuracy did not improve from 0.65790\n",
      "1452/1452 [==============================] - 372s 256ms/step - loss: 0.1734 - accuracy: 0.6873 - val_loss: 0.1859 - val_accuracy: 0.6567\n",
      "Epoch 28/400\n",
      "1452/1452 [==============================] - ETA: 0s - loss: 0.1728 - accuracy: 0.6888\n",
      "Epoch 00028: val_accuracy did not improve from 0.65790\n",
      "1452/1452 [==============================] - 373s 257ms/step - loss: 0.1728 - accuracy: 0.6888 - val_loss: 0.1869 - val_accuracy: 0.6537\n",
      "Epoch 29/400\n",
      "1452/1452 [==============================] - ETA: 0s - loss: 0.1723 - accuracy: 0.6891\n",
      "Epoch 00029: val_accuracy improved from 0.65790 to 0.65994, saving model to /home/ys587/__Data/__whistle/__whislte_30_species/__fit_result_species/20210322_202847/STAR2003/epoch_29_valloss_0.1851_valacc_0.6599.hdf5\n",
      "1452/1452 [==============================] - 373s 257ms/step - loss: 0.1723 - accuracy: 0.6891 - val_loss: 0.1851 - val_accuracy: 0.6599\n",
      "Epoch 30/400\n",
      "1452/1452 [==============================] - ETA: 0s - loss: 0.1716 - accuracy: 0.6911\n",
      "Epoch 00030: val_accuracy did not improve from 0.65994\n",
      "1452/1452 [==============================] - 372s 257ms/step - loss: 0.1716 - accuracy: 0.6911 - val_loss: 0.1866 - val_accuracy: 0.6548\n",
      "Epoch 31/400\n",
      "1452/1452 [==============================] - ETA: 0s - loss: 0.1710 - accuracy: 0.6916\n",
      "Epoch 00031: val_accuracy did not improve from 0.65994\n",
      "1452/1452 [==============================] - 372s 256ms/step - loss: 0.1710 - accuracy: 0.6916 - val_loss: 0.1875 - val_accuracy: 0.6533\n",
      "Epoch 32/400\n",
      "1452/1452 [==============================] - ETA: 0s - loss: 0.1708 - accuracy: 0.6922\n",
      "Epoch 00032: val_accuracy did not improve from 0.65994\n",
      "1452/1452 [==============================] - 373s 257ms/step - loss: 0.1708 - accuracy: 0.6922 - val_loss: 0.1860 - val_accuracy: 0.6577\n",
      "Epoch 33/400\n",
      "1452/1452 [==============================] - ETA: 0s - loss: 0.1702 - accuracy: 0.6929\n",
      "Epoch 00033: val_accuracy did not improve from 0.65994\n",
      "1452/1452 [==============================] - 373s 257ms/step - loss: 0.1702 - accuracy: 0.6929 - val_loss: 0.1882 - val_accuracy: 0.6514\n",
      "Epoch 34/400\n",
      "1452/1452 [==============================] - ETA: 0s - loss: 0.1700 - accuracy: 0.6930\n",
      "Epoch 00034: val_accuracy improved from 0.65994 to 0.66159, saving model to /home/ys587/__Data/__whistle/__whislte_30_species/__fit_result_species/20210322_202847/STAR2003/epoch_34_valloss_0.1849_valacc_0.6616.hdf5\n",
      "1452/1452 [==============================] - 372s 256ms/step - loss: 0.1700 - accuracy: 0.6930 - val_loss: 0.1849 - val_accuracy: 0.6616\n",
      "Epoch 35/400\n",
      "1452/1452 [==============================] - ETA: 0s - loss: 0.1694 - accuracy: 0.6946\n",
      "Epoch 00035: val_accuracy did not improve from 0.66159\n",
      "1452/1452 [==============================] - 372s 256ms/step - loss: 0.1694 - accuracy: 0.6946 - val_loss: 0.1859 - val_accuracy: 0.6586\n",
      "Epoch 36/400\n",
      "1452/1452 [==============================] - ETA: 0s - loss: 0.1693 - accuracy: 0.6945\n",
      "Epoch 00036: val_accuracy did not improve from 0.66159\n",
      "1452/1452 [==============================] - 372s 256ms/step - loss: 0.1693 - accuracy: 0.6945 - val_loss: 0.1845 - val_accuracy: 0.6607\n",
      "Epoch 37/400\n",
      "1452/1452 [==============================] - ETA: 0s - loss: 0.1686 - accuracy: 0.6964\n",
      "Epoch 00037: val_accuracy improved from 0.66159 to 0.66178, saving model to /home/ys587/__Data/__whistle/__whislte_30_species/__fit_result_species/20210322_202847/STAR2003/epoch_37_valloss_0.1850_valacc_0.6618.hdf5\n",
      "1452/1452 [==============================] - 372s 256ms/step - loss: 0.1686 - accuracy: 0.6964 - val_loss: 0.1850 - val_accuracy: 0.6618\n",
      "Epoch 38/400\n",
      "1452/1452 [==============================] - ETA: 0s - loss: 0.1681 - accuracy: 0.6952\n",
      "Epoch 00038: val_accuracy improved from 0.66178 to 0.66236, saving model to /home/ys587/__Data/__whistle/__whislte_30_species/__fit_result_species/20210322_202847/STAR2003/epoch_38_valloss_0.1848_valacc_0.6624.hdf5\n",
      "1452/1452 [==============================] - 373s 257ms/step - loss: 0.1681 - accuracy: 0.6952 - val_loss: 0.1848 - val_accuracy: 0.6624\n",
      "Epoch 39/400\n",
      "1452/1452 [==============================] - ETA: 0s - loss: 0.1678 - accuracy: 0.6972\n",
      "Epoch 00039: val_accuracy did not improve from 0.66236\n",
      "1452/1452 [==============================] - 373s 257ms/step - loss: 0.1678 - accuracy: 0.6972 - val_loss: 0.1849 - val_accuracy: 0.6594\n",
      "Epoch 40/400\n",
      "1452/1452 [==============================] - ETA: 0s - loss: 0.1671 - accuracy: 0.6981\n",
      "Epoch 00040: val_accuracy improved from 0.66236 to 0.66566, saving model to /home/ys587/__Data/__whistle/__whislte_30_species/__fit_result_species/20210322_202847/STAR2003/epoch_40_valloss_0.1828_valacc_0.6657.hdf5\n",
      "1452/1452 [==============================] - 372s 256ms/step - loss: 0.1671 - accuracy: 0.6981 - val_loss: 0.1828 - val_accuracy: 0.6657\n",
      "Epoch 41/400\n",
      "1452/1452 [==============================] - ETA: 0s - loss: 0.1667 - accuracy: 0.6998\n",
      "Epoch 00041: val_accuracy did not improve from 0.66566\n",
      "1452/1452 [==============================] - 373s 257ms/step - loss: 0.1667 - accuracy: 0.6998 - val_loss: 0.1852 - val_accuracy: 0.6598\n",
      "Epoch 42/400\n",
      "1452/1452 [==============================] - ETA: 0s - loss: 0.1661 - accuracy: 0.7005\n",
      "Epoch 00042: val_accuracy did not improve from 0.66566\n",
      "1452/1452 [==============================] - 373s 257ms/step - loss: 0.1661 - accuracy: 0.7005 - val_loss: 0.1840 - val_accuracy: 0.6639\n",
      "Epoch 43/400\n",
      "1452/1452 [==============================] - ETA: 0s - loss: 0.1659 - accuracy: 0.7013\n",
      "Epoch 00043: val_accuracy did not improve from 0.66566\n",
      "1452/1452 [==============================] - 373s 257ms/step - loss: 0.1659 - accuracy: 0.7013 - val_loss: 0.1845 - val_accuracy: 0.6629\n",
      "Epoch 44/400\n",
      "1452/1452 [==============================] - ETA: 0s - loss: 0.1656 - accuracy: 0.7017\n",
      "Epoch 00044: val_accuracy did not improve from 0.66566\n",
      "1452/1452 [==============================] - 373s 257ms/step - loss: 0.1656 - accuracy: 0.7017 - val_loss: 0.1855 - val_accuracy: 0.6639\n",
      "Epoch 45/400\n",
      "1452/1452 [==============================] - ETA: 0s - loss: 0.1650 - accuracy: 0.7025\n",
      "Epoch 00045: val_accuracy improved from 0.66566 to 0.66722, saving model to /home/ys587/__Data/__whistle/__whislte_30_species/__fit_result_species/20210322_202847/STAR2003/epoch_45_valloss_0.1830_valacc_0.6672.hdf5\n",
      "1452/1452 [==============================] - 373s 257ms/step - loss: 0.1650 - accuracy: 0.7025 - val_loss: 0.1830 - val_accuracy: 0.6672\n",
      "Epoch 46/400\n",
      "1452/1452 [==============================] - ETA: 0s - loss: 0.1647 - accuracy: 0.7016\n",
      "Epoch 00046: val_accuracy did not improve from 0.66722\n",
      "1452/1452 [==============================] - 372s 256ms/step - loss: 0.1647 - accuracy: 0.7016 - val_loss: 0.1832 - val_accuracy: 0.6669\n",
      "Epoch 47/400\n",
      "1452/1452 [==============================] - ETA: 0s - loss: 0.1644 - accuracy: 0.7035\n",
      "Epoch 00047: val_accuracy did not improve from 0.66722\n",
      "1452/1452 [==============================] - 373s 257ms/step - loss: 0.1644 - accuracy: 0.7035 - val_loss: 0.1838 - val_accuracy: 0.6664\n",
      "Epoch 48/400\n",
      "1452/1452 [==============================] - ETA: 0s - loss: 0.1643 - accuracy: 0.7038\n",
      "Epoch 00048: val_accuracy improved from 0.66722 to 0.67061, saving model to /home/ys587/__Data/__whistle/__whislte_30_species/__fit_result_species/20210322_202847/STAR2003/epoch_48_valloss_0.1810_valacc_0.6706.hdf5\n",
      "1452/1452 [==============================] - 373s 257ms/step - loss: 0.1643 - accuracy: 0.7038 - val_loss: 0.1810 - val_accuracy: 0.6706\n",
      "Epoch 49/400\n",
      "1452/1452 [==============================] - ETA: 0s - loss: 0.1634 - accuracy: 0.7047\n",
      "Epoch 00049: val_accuracy did not improve from 0.67061\n",
      "1452/1452 [==============================] - 373s 257ms/step - loss: 0.1634 - accuracy: 0.7047 - val_loss: 0.1830 - val_accuracy: 0.6652\n",
      "Epoch 50/400\n",
      "1452/1452 [==============================] - ETA: 0s - loss: 0.1627 - accuracy: 0.7057\n",
      "Epoch 00050: val_accuracy did not improve from 0.67061\n",
      "1452/1452 [==============================] - 373s 257ms/step - loss: 0.1627 - accuracy: 0.7057 - val_loss: 0.1846 - val_accuracy: 0.6628\n",
      "Epoch 51/400\n",
      "1452/1452 [==============================] - ETA: 0s - loss: 0.1630 - accuracy: 0.7051\n",
      "Epoch 00051: val_accuracy did not improve from 0.67061\n",
      "1452/1452 [==============================] - 373s 257ms/step - loss: 0.1630 - accuracy: 0.7051 - val_loss: 0.1824 - val_accuracy: 0.6683\n",
      "Epoch 52/400\n",
      "1452/1452 [==============================] - ETA: 0s - loss: 0.1621 - accuracy: 0.7066\n",
      "Epoch 00052: val_accuracy did not improve from 0.67061\n",
      "1452/1452 [==============================] - 373s 257ms/step - loss: 0.1621 - accuracy: 0.7066 - val_loss: 0.1834 - val_accuracy: 0.6666\n",
      "Epoch 53/400\n",
      "1452/1452 [==============================] - ETA: 0s - loss: 0.1617 - accuracy: 0.7078\n",
      "Epoch 00053: val_accuracy did not improve from 0.67061\n",
      "1452/1452 [==============================] - 373s 257ms/step - loss: 0.1617 - accuracy: 0.7078 - val_loss: 0.1827 - val_accuracy: 0.6692\n",
      "Epoch 54/400\n",
      "1452/1452 [==============================] - ETA: 0s - loss: 0.1613 - accuracy: 0.7101\n",
      "Epoch 00054: val_accuracy did not improve from 0.67061\n",
      "1452/1452 [==============================] - 373s 257ms/step - loss: 0.1613 - accuracy: 0.7101 - val_loss: 0.1825 - val_accuracy: 0.6686\n",
      "Epoch 55/400\n",
      "1452/1452 [==============================] - ETA: 0s - loss: 0.1614 - accuracy: 0.7089\n",
      "Epoch 00055: val_accuracy did not improve from 0.67061\n",
      "1452/1452 [==============================] - 373s 257ms/step - loss: 0.1614 - accuracy: 0.7089 - val_loss: 0.1840 - val_accuracy: 0.6636\n",
      "Epoch 56/400\n",
      "1452/1452 [==============================] - ETA: 0s - loss: 0.1603 - accuracy: 0.7089\n",
      "Epoch 00056: val_accuracy improved from 0.67061 to 0.67149, saving model to /home/ys587/__Data/__whistle/__whislte_30_species/__fit_result_species/20210322_202847/STAR2003/epoch_56_valloss_0.1832_valacc_0.6715.hdf5\n",
      "1452/1452 [==============================] - 373s 257ms/step - loss: 0.1603 - accuracy: 0.7089 - val_loss: 0.1832 - val_accuracy: 0.6715\n",
      "Epoch 57/400\n",
      "1452/1452 [==============================] - ETA: 0s - loss: 0.1602 - accuracy: 0.7103\n",
      "Epoch 00057: val_accuracy did not improve from 0.67149\n",
      "1452/1452 [==============================] - 373s 257ms/step - loss: 0.1602 - accuracy: 0.7103 - val_loss: 0.1828 - val_accuracy: 0.6680\n",
      "Epoch 58/400\n",
      "1452/1452 [==============================] - ETA: 0s - loss: 0.1599 - accuracy: 0.7105\n",
      "Epoch 00058: val_accuracy did not improve from 0.67149\n",
      "1452/1452 [==============================] - 372s 256ms/step - loss: 0.1599 - accuracy: 0.7105 - val_loss: 0.1834 - val_accuracy: 0.6680\n",
      "Epoch 59/400\n",
      "1452/1452 [==============================] - ETA: 0s - loss: 0.1594 - accuracy: 0.7118\n",
      "Epoch 00059: val_accuracy did not improve from 0.67149\n",
      "1452/1452 [==============================] - 373s 257ms/step - loss: 0.1594 - accuracy: 0.7118 - val_loss: 0.1832 - val_accuracy: 0.6682\n",
      "Epoch 60/400\n",
      "1452/1452 [==============================] - ETA: 0s - loss: 0.1587 - accuracy: 0.7125\n",
      "Epoch 00060: val_accuracy did not improve from 0.67149\n",
      "1452/1452 [==============================] - 373s 257ms/step - loss: 0.1587 - accuracy: 0.7125 - val_loss: 0.1838 - val_accuracy: 0.6686\n",
      "Epoch 61/400\n",
      "1452/1452 [==============================] - ETA: 0s - loss: 0.1583 - accuracy: 0.7139\n",
      "Epoch 00061: val_accuracy did not improve from 0.67149\n",
      "1452/1452 [==============================] - 374s 257ms/step - loss: 0.1583 - accuracy: 0.7139 - val_loss: 0.1857 - val_accuracy: 0.6624\n",
      "Epoch 62/400\n",
      "1452/1452 [==============================] - ETA: 0s - loss: 0.1582 - accuracy: 0.7146\n",
      "Epoch 00062: val_accuracy improved from 0.67149 to 0.67323, saving model to /home/ys587/__Data/__whistle/__whislte_30_species/__fit_result_species/20210322_202847/STAR2003/epoch_62_valloss_0.1819_valacc_0.6732.hdf5\n",
      "1452/1452 [==============================] - 373s 257ms/step - loss: 0.1582 - accuracy: 0.7146 - val_loss: 0.1819 - val_accuracy: 0.6732\n",
      "Epoch 63/400\n",
      "1452/1452 [==============================] - ETA: 0s - loss: 0.1582 - accuracy: 0.7149\n",
      "Epoch 00063: val_accuracy did not improve from 0.67323\n",
      "1452/1452 [==============================] - 373s 257ms/step - loss: 0.1582 - accuracy: 0.7149 - val_loss: 0.1849 - val_accuracy: 0.6627\n",
      "Epoch 64/400\n",
      "1452/1452 [==============================] - ETA: 0s - loss: 0.1574 - accuracy: 0.7151\n",
      "Epoch 00064: val_accuracy improved from 0.67323 to 0.67411, saving model to /home/ys587/__Data/__whistle/__whislte_30_species/__fit_result_species/20210322_202847/STAR2003/epoch_64_valloss_0.1810_valacc_0.6741.hdf5\n",
      "1452/1452 [==============================] - 373s 257ms/step - loss: 0.1574 - accuracy: 0.7151 - val_loss: 0.1810 - val_accuracy: 0.6741\n",
      "Epoch 65/400\n",
      "1452/1452 [==============================] - ETA: 0s - loss: 0.1573 - accuracy: 0.7144\n",
      "Epoch 00065: val_accuracy did not improve from 0.67411\n",
      "1452/1452 [==============================] - 373s 257ms/step - loss: 0.1573 - accuracy: 0.7144 - val_loss: 0.1836 - val_accuracy: 0.6704\n",
      "Epoch 66/400\n",
      "1452/1452 [==============================] - ETA: 0s - loss: 0.1568 - accuracy: 0.7162\n",
      "Epoch 00066: val_accuracy did not improve from 0.67411\n",
      "1452/1452 [==============================] - 373s 257ms/step - loss: 0.1568 - accuracy: 0.7162 - val_loss: 0.1832 - val_accuracy: 0.6680\n",
      "Epoch 67/400\n",
      "1452/1452 [==============================] - ETA: 0s - loss: 0.1562 - accuracy: 0.7179\n",
      "Epoch 00067: val_accuracy did not improve from 0.67411\n",
      "1452/1452 [==============================] - 373s 257ms/step - loss: 0.1562 - accuracy: 0.7179 - val_loss: 0.1831 - val_accuracy: 0.6686\n",
      "Epoch 68/400\n",
      "1452/1452 [==============================] - ETA: 0s - loss: 0.1557 - accuracy: 0.7165\n",
      "Epoch 00068: val_accuracy did not improve from 0.67411\n",
      "1452/1452 [==============================] - 373s 257ms/step - loss: 0.1557 - accuracy: 0.7165 - val_loss: 0.1822 - val_accuracy: 0.6703\n",
      "Epoch 69/400\n",
      "1452/1452 [==============================] - ETA: 0s - loss: 0.1552 - accuracy: 0.7184\n",
      "Epoch 00069: val_accuracy did not improve from 0.67411\n",
      "1452/1452 [==============================] - 373s 257ms/step - loss: 0.1552 - accuracy: 0.7184 - val_loss: 0.1826 - val_accuracy: 0.6687\n",
      "Epoch 70/400\n",
      "1452/1452 [==============================] - ETA: 0s - loss: 0.1548 - accuracy: 0.7195\n",
      "Epoch 00070: val_accuracy did not improve from 0.67411\n",
      "1452/1452 [==============================] - 373s 257ms/step - loss: 0.1548 - accuracy: 0.7195 - val_loss: 0.1826 - val_accuracy: 0.6700\n",
      "Epoch 71/400\n",
      "1452/1452 [==============================] - ETA: 0s - loss: 0.1551 - accuracy: 0.7205\n",
      "Epoch 00071: val_accuracy did not improve from 0.67411\n",
      "1452/1452 [==============================] - 373s 257ms/step - loss: 0.1551 - accuracy: 0.7205 - val_loss: 0.1834 - val_accuracy: 0.6693\n",
      "Epoch 72/400\n",
      "1452/1452 [==============================] - ETA: 0s - loss: 0.1541 - accuracy: 0.7211\n",
      "Epoch 00072: val_accuracy did not improve from 0.67411\n",
      "1452/1452 [==============================] - 373s 257ms/step - loss: 0.1541 - accuracy: 0.7211 - val_loss: 0.1832 - val_accuracy: 0.6697\n",
      "Epoch 73/400\n",
      "1452/1452 [==============================] - ETA: 0s - loss: 0.1537 - accuracy: 0.7218\n",
      "Epoch 00073: val_accuracy did not improve from 0.67411\n",
      "1452/1452 [==============================] - 373s 257ms/step - loss: 0.1537 - accuracy: 0.7218 - val_loss: 0.1820 - val_accuracy: 0.6725\n",
      "Epoch 74/400\n",
      "1452/1452 [==============================] - ETA: 0s - loss: 0.1536 - accuracy: 0.7224\n",
      "Epoch 00074: val_accuracy did not improve from 0.67411\n",
      "1452/1452 [==============================] - 373s 257ms/step - loss: 0.1536 - accuracy: 0.7224 - val_loss: 0.1829 - val_accuracy: 0.6712\n",
      "Epoch 00074: early stopping\n"
     ]
    }
   ],
   "source": [
    "# model = model_cnn14_attention_multi(dim_time, dim_freq, num_species, model_type='feature_level_attention', conv_dim=conv_dim, pool_size=pool_size, pool_stride=pool_stride, hidden_units=hidden_units, l2_regu=l2_regu, drop_rate=drop_rate)\n",
    "# model = model_cnn14_spp(dim_time, dim_freq, num_species, conv_dim=conv_dim, pool_size=pool_size, pool_stride=pool_stride, hidden_units=hidden_units, l2_regu=l2_regu, drop_rate=drop_rate)\n",
    "model = model_conv_lstm(dim_time, dim_freq, num_species, conv_dim=conv_dim, pool_size=pool_size, pool_stride=pool_stride, hidden_units=hidden_units, l2_regu=l2_regu, drop_rate=drop_rate)\n",
    "# loss = CategoricalCrossentropy()\n",
    "loss = binary_crossentropy\n",
    "model.compile(optimizer=tf.keras.optimizers.Adam(learning_rate=learning_rate_fn), loss=loss, metrics=['accuracy'])\n",
    "\n",
    "# With classes\n",
    "# history = model.fit(fea_train, to_categorical(label_train), class_weight=class_weights, validation_split=0.3, batch_size=batch_size, epochs=num_epoch, callbacks=[EarlyStopping(patience=num_patience), ModelCheckpoint(filepath=os.path.join(fit_result_path, '{epoch:02d}-{val_loss:.4f}.hdf5'), verbose=1, monitor=\"val_loss\", save_best_only=True)])\n",
    "# history = model.fit(train_generator, validation_data=validate_generator, class_weight=class_weights, epochs=num_epoch, callbacks=[EarlyStopping(patience=num_patience, monitor='val_loss', mode='min', verbose=1), TensorBoard(log_dir=fit_result_path1), ModelCheckpoint(filepath=os.path.join(fit_result_path1, '{epoch:02d}-{val_loss:.4f}.hdf5'), verbose=1, monitor=\"val_loss\", save_best_only=True)])\n",
    "# history = model.fit(train_generator, validation_data=validate_generator, class_weight=class_weights, epochs=num_epoch, callbacks=[EarlyStopping(patience=num_patience, monitor='val_loss', mode='min', verbose=1), TensorBoard(log_dir=fit_result_path2), ModelCheckpoint(filepath=os.path.join(fit_result_path2, 'epoch_{epoch:02d}_valloss_{val_loss:.4f}_valacc_{val_accuracy:.4f}.hdf5' ), verbose=1, monitor=\"val_accuracy\", save_best_only=True)])\n",
    "history = model.fit(train_generator, validation_data=validate_generator, class_weight=class_weights, epochs=num_epoch, callbacks=[EarlyStopping(patience=num_patience, monitor='val_accuracy', mode='max', verbose=1), TensorBoard(log_dir=fit_result_path2), ModelCheckpoint(filepath=os.path.join(fit_result_path2, 'epoch_{epoch:02d}_valloss_{val_loss:.4f}_valacc_{val_accuracy:.4f}.hdf5' ), verbose=1, monitor=\"val_accuracy\", save_best_only=True)])"
   ]
  },
  {
   "cell_type": "code",
   "execution_count": 53,
   "metadata": {},
   "outputs": [
    {
     "name": "stdout",
     "output_type": "stream",
     "text": [
      "Best model:0.6741\n",
      "/home/ys587/__Data/__whistle/__whislte_30_species/__fit_result_species/20210322_202847/STAR2003/epoch_64_valloss_0.1810_valacc_0.6741.hdf5\n"
     ]
    }
   ],
   "source": [
    "# fit_result_path1 = '/home/ys587/__Data/__whistle/__whislte_30_species/__fit_result_species/20210210_224527'\n",
    "the_best_model, _ = find_best_model(fit_result_path2, purge=False)"
   ]
  },
  {
   "cell_type": "code",
   "execution_count": 54,
   "metadata": {
    "scrolled": true
   },
   "outputs": [
    {
     "name": "stdout",
     "output_type": "stream",
     "text": [
      "WARNING:tensorflow:Layer gru_2 will not use cuDNN kernel since it doesn't meet the cuDNN kernel criteria. It will use generic GPU kernel as fallback when running on GPU\n",
      "WARNING:tensorflow:Layer gru_3 will not use cuDNN kernel since it doesn't meet the cuDNN kernel criteria. It will use generic GPU kernel as fallback when running on GPU\n",
      "Model: \"model_1\"\n",
      "_________________________________________________________________\n",
      "Layer (type)                 Output Shape              Param #   \n",
      "=================================================================\n",
      "input (InputLayer)           [(None, 100, 128, 1)]     0         \n",
      "_________________________________________________________________\n",
      "conv2d_6 (Conv2D)            (None, 100, 128, 16)      160       \n",
      "_________________________________________________________________\n",
      "batch_normalization_6 (Batch (None, 100, 128, 16)      64        \n",
      "_________________________________________________________________\n",
      "activation_6 (Activation)    (None, 100, 128, 16)      0         \n",
      "_________________________________________________________________\n",
      "conv2d_7 (Conv2D)            (None, 100, 128, 16)      2320      \n",
      "_________________________________________________________________\n",
      "batch_normalization_7 (Batch (None, 100, 128, 16)      64        \n",
      "_________________________________________________________________\n",
      "activation_7 (Activation)    (None, 100, 128, 16)      0         \n",
      "_________________________________________________________________\n",
      "max_pooling2d_3 (MaxPooling2 (None, 50, 64, 16)        0         \n",
      "_________________________________________________________________\n",
      "dropout_3 (Dropout)          (None, 50, 64, 16)        0         \n",
      "_________________________________________________________________\n",
      "conv2d_8 (Conv2D)            (None, 50, 64, 32)        4640      \n",
      "_________________________________________________________________\n",
      "batch_normalization_8 (Batch (None, 50, 64, 32)        128       \n",
      "_________________________________________________________________\n",
      "activation_8 (Activation)    (None, 50, 64, 32)        0         \n",
      "_________________________________________________________________\n",
      "conv2d_9 (Conv2D)            (None, 50, 64, 32)        9248      \n",
      "_________________________________________________________________\n",
      "batch_normalization_9 (Batch (None, 50, 64, 32)        128       \n",
      "_________________________________________________________________\n",
      "activation_9 (Activation)    (None, 50, 64, 32)        0         \n",
      "_________________________________________________________________\n",
      "max_pooling2d_4 (MaxPooling2 (None, 50, 32, 32)        0         \n",
      "_________________________________________________________________\n",
      "dropout_4 (Dropout)          (None, 50, 32, 32)        0         \n",
      "_________________________________________________________________\n",
      "conv2d_10 (Conv2D)           (None, 50, 32, 64)        18496     \n",
      "_________________________________________________________________\n",
      "batch_normalization_10 (Batc (None, 50, 32, 64)        256       \n",
      "_________________________________________________________________\n",
      "activation_10 (Activation)   (None, 50, 32, 64)        0         \n",
      "_________________________________________________________________\n",
      "conv2d_11 (Conv2D)           (None, 50, 32, 64)        36928     \n",
      "_________________________________________________________________\n",
      "batch_normalization_11 (Batc (None, 50, 32, 64)        256       \n",
      "_________________________________________________________________\n",
      "activation_11 (Activation)   (None, 50, 32, 64)        0         \n",
      "_________________________________________________________________\n",
      "max_pooling2d_5 (MaxPooling2 (None, 50, 16, 64)        0         \n",
      "_________________________________________________________________\n",
      "dropout_5 (Dropout)          (None, 50, 16, 64)        0         \n",
      "_________________________________________________________________\n",
      "reshape_1 (Reshape)          (None, 50, 1024)          0         \n",
      "_________________________________________________________________\n",
      "gru_2 (GRU)                  (None, 50, 128)           443136    \n",
      "_________________________________________________________________\n",
      "gru_3 (GRU)                  (None, 128)               99072     \n",
      "_________________________________________________________________\n",
      "dense_1 (Dense)              (None, 8)                 1032      \n",
      "=================================================================\n",
      "Total params: 615,928\n",
      "Trainable params: 615,480\n",
      "Non-trainable params: 448\n",
      "_________________________________________________________________\n"
     ]
    }
   ],
   "source": [
    "model = load_model(the_best_model)\n",
    "model.summary()"
   ]
  },
  {
   "cell_type": "code",
   "execution_count": 55,
   "metadata": {},
   "outputs": [],
   "source": [
    "label_pred = model.predict(fea_test)\n",
    "# label_pred = model.predict(test_generator)"
   ]
  },
  {
   "cell_type": "code",
   "execution_count": 56,
   "metadata": {},
   "outputs": [],
   "source": [
    "np.set_printoptions(linewidth=200, precision=2, suppress=True)"
   ]
  },
  {
   "cell_type": "code",
   "execution_count": 57,
   "metadata": {},
   "outputs": [
    {
     "name": "stdout",
     "output_type": "stream",
     "text": [
      "Confusion matrix:\n",
      "['BD', 'CD', 'STR', 'SPT', 'SPIN', 'PLT', 'RT', 'FKW']\n",
      "\n",
      "[[ 18   6 103  57  22  10  14   1]\n",
      " [ 27 219 273 116   9  65  33  10]\n",
      " [  0   2  30   5   1   3  10   3]\n",
      " [  2  35 211 108   2  47   5   2]\n",
      " [  1   1  15  22   8   0   2   2]\n",
      " [  0   0   0   0   0   0   0   0]\n",
      " [  0   0   0   0   0   0   0   0]\n",
      " [  0   0   1   1   2  21  55 190]]\n",
      "\n",
      "[[0.08 0.03 0.45 0.25 0.1  0.04 0.06 0.  ]\n",
      " [0.04 0.29 0.36 0.15 0.01 0.09 0.04 0.01]\n",
      " [0.   0.04 0.56 0.09 0.02 0.06 0.19 0.06]\n",
      " [0.   0.08 0.51 0.26 0.   0.11 0.01 0.  ]\n",
      " [0.02 0.02 0.29 0.43 0.16 0.   0.04 0.04]\n",
      " [0.   0.   0.   0.   0.   0.   0.   0.  ]\n",
      " [0.   0.   0.   0.   0.   0.   0.   0.  ]\n",
      " [0.   0.   0.   0.   0.01 0.08 0.2  0.7 ]]\n"
     ]
    }
   ],
   "source": [
    "print(\"Confusion matrix:\")\n",
    "cm = confusion_matrix(label_test, np.argmax(label_pred, axis=1), labels=species_id)\n",
    "\n",
    "print(species_list)\n",
    "print('')\n",
    "print(cm)\n",
    "print('')\n",
    "\n",
    "cm2 = cm*1.0\n",
    "for ii in range(cm.shape[0]):\n",
    "    cm_row = cm[ii, :]*1.0\n",
    "\n",
    "    cm_row_sum = cm_row.sum()\n",
    "    if cm_row_sum != 0:\n",
    "        cm2[ii, :] = cm_row / cm_row_sum\n",
    "    else:\n",
    "        cm2[ii, :] = np.zeros(cm.shape[1])\n",
    "\n",
    "print(cm2)"
   ]
  },
  {
   "cell_type": "code",
   "execution_count": 58,
   "metadata": {},
   "outputs": [],
   "source": [
    "from sklearn.metrics import plot_confusion_matrix\n",
    "from sklearn.metrics._plot.confusion_matrix import ConfusionMatrixDisplay\n",
    "disp = ConfusionMatrixDisplay(confusion_matrix=cm, display_labels=species_list)\n",
    "disp2 = ConfusionMatrixDisplay(confusion_matrix=cm2, display_labels=species_list)"
   ]
  },
  {
   "cell_type": "code",
   "execution_count": 59,
   "metadata": {},
   "outputs": [
    {
     "data": {
      "text/plain": [
       "<sklearn.metrics._plot.confusion_matrix.ConfusionMatrixDisplay at 0x7fc22c7efd30>"
      ]
     },
     "execution_count": 59,
     "metadata": {},
     "output_type": "execute_result"
    },
    {
     "data": {
      "image/png": "[encoded data removed]",
      "text/plain": [
       "<Figure size 1080x1080 with 2 Axes>"
      ]
     },
     "metadata": {
      "needs_background": "light"
     },
     "output_type": "display_data"
    }
   ],
   "source": [
    "fig, ax = plt.subplots(figsize=[15, 15])\n",
    "disp.plot(include_values=True,\n",
    "                     cmap='viridis', ax=ax, xticks_rotation='horizontal',\n",
    "                     values_format=None, colorbar=True)\n"
   ]
  },
  {
   "cell_type": "code",
   "execution_count": 60,
   "metadata": {},
   "outputs": [
    {
     "data": {
      "text/plain": [
       "<sklearn.metrics._plot.confusion_matrix.ConfusionMatrixDisplay at 0x7fc22c7effd0>"
      ]
     },
     "execution_count": 60,
     "metadata": {},
     "output_type": "execute_result"
    },
    {
     "data": {
      "image/png": "[encoded data removed]",
      "text/plain": [
       "<Figure size 1080x1080 with 2 Axes>"
      ]
     },
     "metadata": {
      "needs_background": "light"
     },
     "output_type": "display_data"
    }
   ],
   "source": [
    "fig, ax = plt.subplots(figsize=[15, 15])\n",
    "disp2.plot(include_values=True,\n",
    "                     cmap='viridis', ax=ax, xticks_rotation='horizontal',\n",
    "                     values_format='.2f', colorbar=True)"
   ]
  },
  {
   "cell_type": "markdown",
   "metadata": {},
   "source": [
    "## STAR2006"
   ]
  },
  {
   "cell_type": "code",
   "execution_count": 61,
   "metadata": {},
   "outputs": [
    {
     "name": "stdout",
     "output_type": "stream",
     "text": [
      "STAR2006\n"
     ]
    }
   ],
   "source": [
    "ee = deployment[2]\n",
    "print(ee)"
   ]
  },
  {
   "cell_type": "code",
   "execution_count": 62,
   "metadata": {},
   "outputs": [],
   "source": [
    "# Training data\n",
    "fea_temp = np.load(os.path.join(feature_path, 'train_oswald_no_'+ee+'.npz'))\n",
    "fea_train = fea_temp['fea_train']\n",
    "label_train_list = fea_temp['label_train']\n",
    "del fea_temp"
   ]
  },
  {
   "cell_type": "code",
   "execution_count": 63,
   "metadata": {},
   "outputs": [],
   "source": [
    "label_train = np.zeros(len(label_train_list))\n",
    "for ii in range(len(label_train_list)):\n",
    "    label_train[ii] = species_dict[label_train_list[ii]]"
   ]
  },
  {
   "cell_type": "code",
   "execution_count": 64,
   "metadata": {},
   "outputs": [],
   "source": [
    "# Testing data\n",
    "fea_temp = np.load(os.path.join(feature_path, 'oswald_'+ee+'_orig.npz'))\n",
    "fea_test = fea_temp['feas_orig']\n",
    "label_test_list = fea_temp['labels_orig']\n",
    "\n",
    "fea_test = fea_test[:,:100,:]\n",
    "label_test = np.zeros(len(label_test_list))\n",
    "for ii in range(len(label_test_list)):\n",
    "    label_test[ii] = species_dict[label_test_list[ii]]"
   ]
  },
  {
   "cell_type": "code",
   "execution_count": 65,
   "metadata": {},
   "outputs": [],
   "source": [
    "fea_train = fea_train[:,:100,:]"
   ]
  },
  {
   "cell_type": "code",
   "execution_count": 66,
   "metadata": {},
   "outputs": [],
   "source": [
    "label_train = np.zeros(len(label_train_list))\n",
    "for ii in range(len(label_train_list)):\n",
    "    label_train[ii] = species_dict[label_train_list[ii]]"
   ]
  },
  {
   "cell_type": "code",
   "execution_count": 67,
   "metadata": {
    "scrolled": true
   },
   "outputs": [
    {
     "data": {
      "text/plain": [
       "Counter({'BD': 11466,\n",
       "         'CD': 28296,\n",
       "         'PLT': 8250,\n",
       "         'RT': 7590,\n",
       "         'SPIN': 6198,\n",
       "         'SPT': 12744,\n",
       "         'STR': 10692,\n",
       "         'FKW': 13662})"
      ]
     },
     "execution_count": 67,
     "metadata": {},
     "output_type": "execute_result"
    }
   ],
   "source": [
    "Counter(label_train_list)"
   ]
  },
  {
   "cell_type": "code",
   "execution_count": 68,
   "metadata": {},
   "outputs": [
    {
     "data": {
      "text/plain": [
       "Counter({1.0: 24, 7.0: 903, 5.0: 632, 6.0: 46, 4.0: 2, 3.0: 147, 2.0: 750})"
      ]
     },
     "execution_count": 68,
     "metadata": {},
     "output_type": "execute_result"
    }
   ],
   "source": [
    "Counter(label_test.tolist())"
   ]
  },
  {
   "cell_type": "code",
   "execution_count": 69,
   "metadata": {},
   "outputs": [],
   "source": [
    "fit_result_path2 = os.path.join(fit_result_path1, ee)\n",
    "if not os.path.exists(fit_result_path2):\n",
    "    makedirs(fit_result_path2)"
   ]
  },
  {
   "cell_type": "code",
   "execution_count": 70,
   "metadata": {},
   "outputs": [
    {
     "name": "stdout",
     "output_type": "stream",
     "text": [
      "feature train shape: (98898, 100, 128)\n",
      "feature test shape: (2504, 100, 128)\n",
      "label train shape: (98898,)\n",
      "label test shape: (2504,)\n",
      "dim_time: 100\n",
      "dim_freq: 128\n"
     ]
    }
   ],
   "source": [
    "print('feature train shape: '+str(fea_train.shape))\n",
    "print('feature test shape: '+str(fea_test.shape))\n",
    "print('label train shape: '+str(label_train.shape))\n",
    "print('label test shape: '+str(label_test.shape))\n",
    "\n",
    "dim_time = fea_train.shape[1]\n",
    "dim_freq = fea_train.shape[2]\n",
    "print('dim_time: '+str(dim_time))\n",
    "print('dim_freq: '+str(dim_freq))"
   ]
  },
  {
   "cell_type": "code",
   "execution_count": 71,
   "metadata": {},
   "outputs": [],
   "source": [
    "# shuffle features & labels\n",
    "fea_train, label_train = shuffle(fea_train, label_train, random_state=0)\n",
    "fea_test, label_test = shuffle(fea_test, label_test, random_state=0)"
   ]
  },
  {
   "cell_type": "code",
   "execution_count": 72,
   "metadata": {},
   "outputs": [],
   "source": [
    "# class weight\n",
    "weights = compute_class_weight(class_weight='balanced', classes=np.unique(label_train), y=label_train)\n",
    "\n",
    "class_weights = dict()\n",
    "for ii in range(num_species):\n",
    "    class_weights[ii] = weights[ii]"
   ]
  },
  {
   "cell_type": "code",
   "execution_count": 73,
   "metadata": {},
   "outputs": [],
   "source": [
    "fea_train = np.expand_dims(fea_train, axis=3)\n",
    "fea_test = np.expand_dims(fea_test, axis=3)"
   ]
  },
  {
   "cell_type": "code",
   "execution_count": 74,
   "metadata": {},
   "outputs": [],
   "source": [
    "fea_train, fea_validate, label_train, label_validate = train_test_split(fea_train, label_train, test_size=0.10, random_state=42)\n",
    "\n",
    "train_generator = DataGenerator(fea_train, label_train, batch_size=batch_size, num_classes=num_species)\n",
    "del fea_train\n",
    "validate_generator = DataGenerator(fea_validate, label_validate, batch_size=batch_size, num_classes=num_species)\n",
    "del fea_validate\n",
    "\n",
    "# test_generator = DataGenerator(fea_test, label_test, batch_size=batch_size, num_classes=num_species)\n"
   ]
  },
  {
   "cell_type": "markdown",
   "metadata": {},
   "source": [
    "### Training the model"
   ]
  },
  {
   "cell_type": "code",
   "execution_count": 75,
   "metadata": {
    "scrolled": true
   },
   "outputs": [
    {
     "name": "stdout",
     "output_type": "stream",
     "text": [
      "WARNING:tensorflow:Layer gru_4 will not use cuDNN kernel since it doesn't meet the cuDNN kernel criteria. It will use generic GPU kernel as fallback when running on GPU\n",
      "WARNING:tensorflow:Layer gru_5 will not use cuDNN kernel since it doesn't meet the cuDNN kernel criteria. It will use generic GPU kernel as fallback when running on GPU\n",
      "Epoch 1/400\n",
      "1390/1390 [==============================] - ETA: 0s - loss: 0.3444 - accuracy: 0.2644\n",
      "Epoch 00001: val_accuracy improved from -inf to 0.36739, saving model to /home/ys587/__Data/__whistle/__whislte_30_species/__fit_result_species/20210322_202847/STAR2006/epoch_01_valloss_0.3088_valacc_0.3674.hdf5\n",
      "1390/1390 [==============================] - 356s 256ms/step - loss: 0.3444 - accuracy: 0.2644 - val_loss: 0.3088 - val_accuracy: 0.3674\n",
      "Epoch 2/400\n",
      "1390/1390 [==============================] - ETA: 0s - loss: 0.2797 - accuracy: 0.4424\n",
      "Epoch 00002: val_accuracy improved from 0.36739 to 0.46236, saving model to /home/ys587/__Data/__whistle/__whislte_30_species/__fit_result_species/20210322_202847/STAR2006/epoch_02_valloss_0.2678_valacc_0.4624.hdf5\n",
      "1390/1390 [==============================] - 355s 256ms/step - loss: 0.2797 - accuracy: 0.4424 - val_loss: 0.2678 - val_accuracy: 0.4624\n",
      "Epoch 3/400\n",
      "1390/1390 [==============================] - ETA: 0s - loss: 0.2549 - accuracy: 0.5016\n",
      "Epoch 00003: val_accuracy improved from 0.46236 to 0.50325, saving model to /home/ys587/__Data/__whistle/__whislte_30_species/__fit_result_species/20210322_202847/STAR2006/epoch_03_valloss_0.2540_valacc_0.5032.hdf5\n",
      "1390/1390 [==============================] - 355s 256ms/step - loss: 0.2549 - accuracy: 0.5016 - val_loss: 0.2540 - val_accuracy: 0.5032\n",
      "Epoch 4/400\n",
      "1390/1390 [==============================] - ETA: 0s - loss: 0.2397 - accuracy: 0.5353\n",
      "Epoch 00004: val_accuracy improved from 0.50325 to 0.52547, saving model to /home/ys587/__Data/__whistle/__whislte_30_species/__fit_result_species/20210322_202847/STAR2006/epoch_04_valloss_0.2458_valacc_0.5255.hdf5\n",
      "1390/1390 [==============================] - 355s 256ms/step - loss: 0.2397 - accuracy: 0.5353 - val_loss: 0.2458 - val_accuracy: 0.5255\n",
      "Epoch 5/400\n",
      "1390/1390 [==============================] - ETA: 0s - loss: 0.2281 - accuracy: 0.5609\n",
      "Epoch 00005: val_accuracy did not improve from 0.52547\n",
      "1390/1390 [==============================] - 355s 255ms/step - loss: 0.2281 - accuracy: 0.5609 - val_loss: 0.2440 - val_accuracy: 0.5225\n",
      "Epoch 6/400\n",
      "1390/1390 [==============================] - ETA: 0s - loss: 0.2203 - accuracy: 0.5768\n",
      "Epoch 00006: val_accuracy did not improve from 0.52547\n",
      "1390/1390 [==============================] - 356s 256ms/step - loss: 0.2203 - accuracy: 0.5768 - val_loss: 0.2585 - val_accuracy: 0.4966\n",
      "Epoch 7/400\n",
      "1390/1390 [==============================] - ETA: 0s - loss: 0.2127 - accuracy: 0.5925\n",
      "Epoch 00007: val_accuracy improved from 0.52547 to 0.58056, saving model to /home/ys587/__Data/__whistle/__whislte_30_species/__fit_result_species/20210322_202847/STAR2006/epoch_07_valloss_0.2206_valacc_0.5806.hdf5\n",
      "1390/1390 [==============================] - 355s 256ms/step - loss: 0.2127 - accuracy: 0.5925 - val_loss: 0.2206 - val_accuracy: 0.5806\n",
      "Epoch 8/400\n",
      "1390/1390 [==============================] - ETA: 0s - loss: 0.2003 - accuracy: 0.6173\n",
      "Epoch 00008: val_accuracy improved from 0.58056 to 0.61587, saving model to /home/ys587/__Data/__whistle/__whislte_30_species/__fit_result_species/20210322_202847/STAR2006/epoch_08_valloss_0.2038_valacc_0.6159.hdf5\n",
      "1390/1390 [==============================] - 355s 256ms/step - loss: 0.2003 - accuracy: 0.6173 - val_loss: 0.2038 - val_accuracy: 0.6159\n",
      "Epoch 9/400\n",
      "1390/1390 [==============================] - ETA: 0s - loss: 0.1910 - accuracy: 0.6338\n",
      "Epoch 00009: val_accuracy improved from 0.61587 to 0.61729, saving model to /home/ys587/__Data/__whistle/__whislte_30_species/__fit_result_species/20210322_202847/STAR2006/epoch_09_valloss_0.2034_valacc_0.6173.hdf5\n",
      "1390/1390 [==============================] - 355s 256ms/step - loss: 0.1910 - accuracy: 0.6338 - val_loss: 0.2034 - val_accuracy: 0.6173\n",
      "Epoch 10/400\n",
      "1390/1390 [==============================] - ETA: 0s - loss: 0.1896 - accuracy: 0.6369\n",
      "Epoch 00010: val_accuracy improved from 0.61729 to 0.61769, saving model to /home/ys587/__Data/__whistle/__whislte_30_species/__fit_result_species/20210322_202847/STAR2006/epoch_10_valloss_0.2031_valacc_0.6177.hdf5\n",
      "1390/1390 [==============================] - 355s 256ms/step - loss: 0.1896 - accuracy: 0.6369 - val_loss: 0.2031 - val_accuracy: 0.6177\n",
      "Epoch 11/400\n",
      "1390/1390 [==============================] - ETA: 0s - loss: 0.1890 - accuracy: 0.6367\n",
      "Epoch 00011: val_accuracy improved from 0.61769 to 0.62622, saving model to /home/ys587/__Data/__whistle/__whislte_30_species/__fit_result_species/20210322_202847/STAR2006/epoch_11_valloss_0.2002_valacc_0.6262.hdf5\n",
      "1390/1390 [==============================] - 355s 256ms/step - loss: 0.1890 - accuracy: 0.6367 - val_loss: 0.2002 - val_accuracy: 0.6262\n",
      "Epoch 12/400\n",
      "1390/1390 [==============================] - ETA: 0s - loss: 0.1877 - accuracy: 0.6406\n",
      "Epoch 00012: val_accuracy did not improve from 0.62622\n",
      "1390/1390 [==============================] - 356s 256ms/step - loss: 0.1877 - accuracy: 0.6406 - val_loss: 0.2019 - val_accuracy: 0.6226\n",
      "Epoch 13/400\n",
      "1390/1390 [==============================] - ETA: 0s - loss: 0.1866 - accuracy: 0.6430\n",
      "Epoch 00013: val_accuracy did not improve from 0.62622\n",
      "1390/1390 [==============================] - 355s 256ms/step - loss: 0.1866 - accuracy: 0.6430 - val_loss: 0.2020 - val_accuracy: 0.6220\n",
      "Epoch 14/400\n",
      "1390/1390 [==============================] - ETA: 0s - loss: 0.1863 - accuracy: 0.6421\n",
      "Epoch 00014: val_accuracy did not improve from 0.62622\n",
      "1390/1390 [==============================] - 355s 255ms/step - loss: 0.1863 - accuracy: 0.6421 - val_loss: 0.2021 - val_accuracy: 0.6206\n",
      "Epoch 15/400\n",
      "1390/1390 [==============================] - ETA: 0s - loss: 0.1854 - accuracy: 0.6446\n",
      "Epoch 00015: val_accuracy did not improve from 0.62622\n",
      "1390/1390 [==============================] - 355s 256ms/step - loss: 0.1854 - accuracy: 0.6446 - val_loss: 0.2010 - val_accuracy: 0.6249\n",
      "Epoch 16/400\n",
      "1390/1390 [==============================] - ETA: 0s - loss: 0.1848 - accuracy: 0.6454\n",
      "Epoch 00016: val_accuracy did not improve from 0.62622\n",
      "1390/1390 [==============================] - 356s 256ms/step - loss: 0.1848 - accuracy: 0.6454 - val_loss: 0.2001 - val_accuracy: 0.6242\n",
      "Epoch 17/400\n",
      "1390/1390 [==============================] - ETA: 0s - loss: 0.1842 - accuracy: 0.6477\n",
      "Epoch 00017: val_accuracy did not improve from 0.62622\n",
      "1390/1390 [==============================] - 355s 255ms/step - loss: 0.1842 - accuracy: 0.6477 - val_loss: 0.1999 - val_accuracy: 0.6248\n",
      "Epoch 18/400\n",
      "1390/1390 [==============================] - ETA: 0s - loss: 0.1840 - accuracy: 0.6470\n",
      "Epoch 00018: val_accuracy improved from 0.62622 to 0.62642, saving model to /home/ys587/__Data/__whistle/__whislte_30_species/__fit_result_species/20210322_202847/STAR2006/epoch_18_valloss_0.2011_valacc_0.6264.hdf5\n",
      "1390/1390 [==============================] - 355s 256ms/step - loss: 0.1840 - accuracy: 0.6470 - val_loss: 0.2011 - val_accuracy: 0.6264\n",
      "Epoch 19/400\n",
      "1390/1390 [==============================] - ETA: 0s - loss: 0.1831 - accuracy: 0.6486\n",
      "Epoch 00019: val_accuracy did not improve from 0.62642\n",
      "1390/1390 [==============================] - 355s 256ms/step - loss: 0.1831 - accuracy: 0.6486 - val_loss: 0.2027 - val_accuracy: 0.6204\n",
      "Epoch 20/400\n",
      "1390/1390 [==============================] - ETA: 0s - loss: 0.1828 - accuracy: 0.6494\n",
      "Epoch 00020: val_accuracy improved from 0.62642 to 0.62825, saving model to /home/ys587/__Data/__whistle/__whislte_30_species/__fit_result_species/20210322_202847/STAR2006/epoch_20_valloss_0.1992_valacc_0.6282.hdf5\n",
      "1390/1390 [==============================] - 360s 259ms/step - loss: 0.1828 - accuracy: 0.6494 - val_loss: 0.1992 - val_accuracy: 0.6282\n",
      "Epoch 21/400\n",
      "1390/1390 [==============================] - ETA: 0s - loss: 0.1825 - accuracy: 0.6501\n",
      "Epoch 00021: val_accuracy did not improve from 0.62825\n",
      "1390/1390 [==============================] - 355s 255ms/step - loss: 0.1825 - accuracy: 0.6501 - val_loss: 0.2010 - val_accuracy: 0.6264\n",
      "Epoch 22/400\n",
      "1390/1390 [==============================] - ETA: 0s - loss: 0.1818 - accuracy: 0.6521\n",
      "Epoch 00022: val_accuracy improved from 0.62825 to 0.62896, saving model to /home/ys587/__Data/__whistle/__whislte_30_species/__fit_result_species/20210322_202847/STAR2006/epoch_22_valloss_0.1997_valacc_0.6290.hdf5\n",
      "1390/1390 [==============================] - 355s 255ms/step - loss: 0.1818 - accuracy: 0.6521 - val_loss: 0.1997 - val_accuracy: 0.6290\n",
      "Epoch 23/400\n",
      "1390/1390 [==============================] - ETA: 0s - loss: 0.1813 - accuracy: 0.6544\n",
      "Epoch 00023: val_accuracy did not improve from 0.62896\n",
      "1390/1390 [==============================] - 355s 256ms/step - loss: 0.1813 - accuracy: 0.6544 - val_loss: 0.2001 - val_accuracy: 0.6281\n",
      "Epoch 24/400\n",
      "1390/1390 [==============================] - ETA: 0s - loss: 0.1808 - accuracy: 0.6536\n",
      "Epoch 00024: val_accuracy did not improve from 0.62896\n",
      "1390/1390 [==============================] - 355s 256ms/step - loss: 0.1808 - accuracy: 0.6536 - val_loss: 0.1998 - val_accuracy: 0.6267\n",
      "Epoch 25/400\n",
      "1390/1390 [==============================] - ETA: 0s - loss: 0.1806 - accuracy: 0.6543\n",
      "Epoch 00025: val_accuracy did not improve from 0.62896\n",
      "1390/1390 [==============================] - 356s 256ms/step - loss: 0.1806 - accuracy: 0.6543 - val_loss: 0.1994 - val_accuracy: 0.6265\n",
      "Epoch 26/400\n",
      "1390/1390 [==============================] - ETA: 0s - loss: 0.1801 - accuracy: 0.6558\n",
      "Epoch 00026: val_accuracy did not improve from 0.62896\n",
      "1390/1390 [==============================] - 355s 256ms/step - loss: 0.1801 - accuracy: 0.6558 - val_loss: 0.1998 - val_accuracy: 0.6276\n",
      "Epoch 27/400\n",
      "1390/1390 [==============================] - ETA: 0s - loss: 0.1792 - accuracy: 0.6579\n",
      "Epoch 00027: val_accuracy improved from 0.62896 to 0.62936, saving model to /home/ys587/__Data/__whistle/__whislte_30_species/__fit_result_species/20210322_202847/STAR2006/epoch_27_valloss_0.1994_valacc_0.6294.hdf5\n",
      "1390/1390 [==============================] - 355s 256ms/step - loss: 0.1792 - accuracy: 0.6579 - val_loss: 0.1994 - val_accuracy: 0.6294\n",
      "Epoch 28/400\n",
      "1390/1390 [==============================] - ETA: 0s - loss: 0.1790 - accuracy: 0.6564\n",
      "Epoch 00028: val_accuracy did not improve from 0.62936\n",
      "1390/1390 [==============================] - 357s 257ms/step - loss: 0.1790 - accuracy: 0.6564 - val_loss: 0.1994 - val_accuracy: 0.6266\n",
      "Epoch 29/400\n",
      "1390/1390 [==============================] - ETA: 0s - loss: 0.1784 - accuracy: 0.6588\n",
      "Epoch 00029: val_accuracy did not improve from 0.62936\n",
      "1390/1390 [==============================] - 357s 257ms/step - loss: 0.1784 - accuracy: 0.6588 - val_loss: 0.1994 - val_accuracy: 0.6266\n",
      "Epoch 30/400\n",
      "1390/1390 [==============================] - ETA: 0s - loss: 0.1784 - accuracy: 0.6594\n",
      "Epoch 00030: val_accuracy did not improve from 0.62936\n",
      "1390/1390 [==============================] - 356s 256ms/step - loss: 0.1784 - accuracy: 0.6594 - val_loss: 0.1992 - val_accuracy: 0.6276\n",
      "Epoch 31/400\n",
      "1390/1390 [==============================] - ETA: 0s - loss: 0.1772 - accuracy: 0.6618\n",
      "Epoch 00031: val_accuracy improved from 0.62936 to 0.63393, saving model to /home/ys587/__Data/__whistle/__whislte_30_species/__fit_result_species/20210322_202847/STAR2006/epoch_31_valloss_0.1986_valacc_0.6339.hdf5\n",
      "1390/1390 [==============================] - 356s 256ms/step - loss: 0.1772 - accuracy: 0.6618 - val_loss: 0.1986 - val_accuracy: 0.6339\n",
      "Epoch 32/400\n",
      "1390/1390 [==============================] - ETA: 0s - loss: 0.1774 - accuracy: 0.6615\n",
      "Epoch 00032: val_accuracy did not improve from 0.63393\n",
      "1390/1390 [==============================] - 356s 256ms/step - loss: 0.1774 - accuracy: 0.6615 - val_loss: 0.1971 - val_accuracy: 0.6335\n",
      "Epoch 33/400\n",
      "1390/1390 [==============================] - ETA: 0s - loss: 0.1770 - accuracy: 0.6624\n",
      "Epoch 00033: val_accuracy did not improve from 0.63393\n",
      "1390/1390 [==============================] - 356s 256ms/step - loss: 0.1770 - accuracy: 0.6624 - val_loss: 0.1967 - val_accuracy: 0.6324\n",
      "Epoch 34/400\n",
      "1390/1390 [==============================] - ETA: 0s - loss: 0.1766 - accuracy: 0.6613\n",
      "Epoch 00034: val_accuracy improved from 0.63393 to 0.63768, saving model to /home/ys587/__Data/__whistle/__whislte_30_species/__fit_result_species/20210322_202847/STAR2006/epoch_34_valloss_0.1962_valacc_0.6377.hdf5\n",
      "1390/1390 [==============================] - 356s 256ms/step - loss: 0.1766 - accuracy: 0.6613 - val_loss: 0.1962 - val_accuracy: 0.6377\n",
      "Epoch 35/400\n",
      "1390/1390 [==============================] - ETA: 0s - loss: 0.1760 - accuracy: 0.6647\n",
      "Epoch 00035: val_accuracy did not improve from 0.63768\n",
      "1390/1390 [==============================] - 357s 257ms/step - loss: 0.1760 - accuracy: 0.6647 - val_loss: 0.1990 - val_accuracy: 0.6294\n",
      "Epoch 36/400\n",
      "1390/1390 [==============================] - ETA: 0s - loss: 0.1754 - accuracy: 0.6639\n",
      "Epoch 00036: val_accuracy did not improve from 0.63768\n",
      "1390/1390 [==============================] - 356s 256ms/step - loss: 0.1754 - accuracy: 0.6639 - val_loss: 0.1987 - val_accuracy: 0.6309\n",
      "Epoch 37/400\n",
      "1390/1390 [==============================] - ETA: 0s - loss: 0.1752 - accuracy: 0.6652\n",
      "Epoch 00037: val_accuracy did not improve from 0.63768\n",
      "1390/1390 [==============================] - 356s 256ms/step - loss: 0.1752 - accuracy: 0.6652 - val_loss: 0.1976 - val_accuracy: 0.6334\n",
      "Epoch 38/400\n",
      "1390/1390 [==============================] - ETA: 0s - loss: 0.1743 - accuracy: 0.6662\n",
      "Epoch 00038: val_accuracy did not improve from 0.63768\n",
      "1390/1390 [==============================] - 356s 256ms/step - loss: 0.1743 - accuracy: 0.6662 - val_loss: 0.1963 - val_accuracy: 0.6349\n",
      "Epoch 39/400\n",
      "1390/1390 [==============================] - ETA: 0s - loss: 0.1739 - accuracy: 0.6675\n",
      "Epoch 00039: val_accuracy did not improve from 0.63768\n",
      "1390/1390 [==============================] - 356s 256ms/step - loss: 0.1739 - accuracy: 0.6675 - val_loss: 0.1972 - val_accuracy: 0.6375\n",
      "Epoch 40/400\n",
      "1390/1390 [==============================] - ETA: 0s - loss: 0.1739 - accuracy: 0.6671\n",
      "Epoch 00040: val_accuracy improved from 0.63768 to 0.63880, saving model to /home/ys587/__Data/__whistle/__whislte_30_species/__fit_result_species/20210322_202847/STAR2006/epoch_40_valloss_0.1965_valacc_0.6388.hdf5\n",
      "1390/1390 [==============================] - 357s 256ms/step - loss: 0.1739 - accuracy: 0.6671 - val_loss: 0.1965 - val_accuracy: 0.6388\n",
      "Epoch 41/400\n",
      "1390/1390 [==============================] - ETA: 0s - loss: 0.1730 - accuracy: 0.6687\n",
      "Epoch 00041: val_accuracy did not improve from 0.63880\n",
      "1390/1390 [==============================] - 356s 256ms/step - loss: 0.1730 - accuracy: 0.6687 - val_loss: 0.1965 - val_accuracy: 0.6355\n",
      "Epoch 42/400\n",
      "1390/1390 [==============================] - ETA: 0s - loss: 0.1728 - accuracy: 0.6696\n",
      "Epoch 00042: val_accuracy did not improve from 0.63880\n",
      "1390/1390 [==============================] - 356s 256ms/step - loss: 0.1728 - accuracy: 0.6696 - val_loss: 0.1968 - val_accuracy: 0.6352\n",
      "Epoch 43/400\n",
      "1390/1390 [==============================] - ETA: 0s - loss: 0.1725 - accuracy: 0.6687\n",
      "Epoch 00043: val_accuracy did not improve from 0.63880\n",
      "1390/1390 [==============================] - 357s 256ms/step - loss: 0.1725 - accuracy: 0.6687 - val_loss: 0.1979 - val_accuracy: 0.6344\n",
      "Epoch 44/400\n",
      "1390/1390 [==============================] - ETA: 0s - loss: 0.1722 - accuracy: 0.6709\n",
      "Epoch 00044: val_accuracy did not improve from 0.63880\n",
      "1390/1390 [==============================] - 357s 257ms/step - loss: 0.1722 - accuracy: 0.6709 - val_loss: 0.1962 - val_accuracy: 0.6374\n",
      "Epoch 45/400\n",
      "1390/1390 [==============================] - ETA: 0s - loss: 0.1718 - accuracy: 0.6705\n",
      "Epoch 00045: val_accuracy did not improve from 0.63880\n",
      "1390/1390 [==============================] - 356s 256ms/step - loss: 0.1718 - accuracy: 0.6705 - val_loss: 0.1979 - val_accuracy: 0.6337\n",
      "Epoch 46/400\n",
      "1390/1390 [==============================] - ETA: 0s - loss: 0.1716 - accuracy: 0.6731\n",
      "Epoch 00046: val_accuracy did not improve from 0.63880\n",
      "1390/1390 [==============================] - 356s 256ms/step - loss: 0.1716 - accuracy: 0.6731 - val_loss: 0.1976 - val_accuracy: 0.6348\n",
      "Epoch 47/400\n",
      "1390/1390 [==============================] - ETA: 0s - loss: 0.1709 - accuracy: 0.6730\n",
      "Epoch 00047: val_accuracy improved from 0.63880 to 0.64062, saving model to /home/ys587/__Data/__whistle/__whislte_30_species/__fit_result_species/20210322_202847/STAR2006/epoch_47_valloss_0.1961_valacc_0.6406.hdf5\n",
      "1390/1390 [==============================] - 357s 257ms/step - loss: 0.1709 - accuracy: 0.6730 - val_loss: 0.1961 - val_accuracy: 0.6406\n",
      "Epoch 48/400\n",
      "1390/1390 [==============================] - ETA: 0s - loss: 0.1703 - accuracy: 0.6747\n",
      "Epoch 00048: val_accuracy did not improve from 0.64062\n",
      "1390/1390 [==============================] - 356s 256ms/step - loss: 0.1703 - accuracy: 0.6747 - val_loss: 0.1977 - val_accuracy: 0.6373\n",
      "Epoch 49/400\n",
      "1390/1390 [==============================] - ETA: 0s - loss: 0.1702 - accuracy: 0.6758\n",
      "Epoch 00049: val_accuracy improved from 0.64062 to 0.64123, saving model to /home/ys587/__Data/__whistle/__whislte_30_species/__fit_result_species/20210322_202847/STAR2006/epoch_49_valloss_0.1960_valacc_0.6412.hdf5\n",
      "1390/1390 [==============================] - 357s 257ms/step - loss: 0.1702 - accuracy: 0.6758 - val_loss: 0.1960 - val_accuracy: 0.6412\n",
      "Epoch 50/400\n",
      "1390/1390 [==============================] - ETA: 0s - loss: 0.1699 - accuracy: 0.6746\n",
      "Epoch 00050: val_accuracy did not improve from 0.64123\n",
      "1390/1390 [==============================] - 358s 257ms/step - loss: 0.1699 - accuracy: 0.6746 - val_loss: 0.1954 - val_accuracy: 0.6399\n",
      "Epoch 51/400\n",
      "1390/1390 [==============================] - ETA: 0s - loss: 0.1693 - accuracy: 0.6761\n",
      "Epoch 00051: val_accuracy did not improve from 0.64123\n",
      "1390/1390 [==============================] - 361s 259ms/step - loss: 0.1693 - accuracy: 0.6761 - val_loss: 0.1973 - val_accuracy: 0.6380\n",
      "Epoch 52/400\n",
      "1390/1390 [==============================] - ETA: 0s - loss: 0.1691 - accuracy: 0.6772\n",
      "Epoch 00052: val_accuracy did not improve from 0.64123\n",
      "1390/1390 [==============================] - 355s 256ms/step - loss: 0.1691 - accuracy: 0.6772 - val_loss: 0.1953 - val_accuracy: 0.6405\n",
      "Epoch 53/400\n",
      "1390/1390 [==============================] - ETA: 0s - loss: 0.1690 - accuracy: 0.6772\n",
      "Epoch 00053: val_accuracy improved from 0.64123 to 0.64225, saving model to /home/ys587/__Data/__whistle/__whislte_30_species/__fit_result_species/20210322_202847/STAR2006/epoch_53_valloss_0.1953_valacc_0.6422.hdf5\n",
      "1390/1390 [==============================] - 356s 256ms/step - loss: 0.1690 - accuracy: 0.6772 - val_loss: 0.1953 - val_accuracy: 0.6422\n",
      "Epoch 54/400\n",
      "1215/1390 [=========================>....] - ETA: 44s - loss: 0.1680 - accuracy: 0.6799"
     ]
    },
    {
     "ename": "KeyboardInterrupt",
     "evalue": "",
     "output_type": "error",
     "traceback": [
      "\u001b[0;31m---------------------------------------------------------------------------\u001b[0m",
      "\u001b[0;31mKeyboardInterrupt\u001b[0m                         Traceback (most recent call last)",
      "\u001b[0;32m<ipython-input-75-907bd260352e>\u001b[0m in \u001b[0;36m<module>\u001b[0;34m\u001b[0m\n\u001b[1;32m     10\u001b[0m \u001b[0;31m# history = model.fit(train_generator, validation_data=validate_generator, class_weight=class_weights, epochs=num_epoch, callbacks=[EarlyStopping(patience=num_patience, monitor='val_loss', mode='min', verbose=1), TensorBoard(log_dir=fit_result_path1), ModelCheckpoint(filepath=os.path.join(fit_result_path1, '{epoch:02d}-{val_loss:.4f}.hdf5'), verbose=1, monitor=\"val_loss\", save_best_only=True)])\u001b[0m\u001b[0;34m\u001b[0m\u001b[0;34m\u001b[0m\u001b[0;34m\u001b[0m\u001b[0m\n\u001b[1;32m     11\u001b[0m \u001b[0;31m# history = model.fit(train_generator, validation_data=validate_generator, class_weight=class_weights, epochs=num_epoch, callbacks=[EarlyStopping(patience=num_patience, monitor='val_loss', mode='min', verbose=1), TensorBoard(log_dir=fit_result_path2), ModelCheckpoint(filepath=os.path.join(fit_result_path2, 'epoch_{epoch:02d}_valloss_{val_loss:.4f}_valacc_{val_accuracy:.4f}.hdf5' ), verbose=1, monitor=\"val_accuracy\", save_best_only=True)])\u001b[0m\u001b[0;34m\u001b[0m\u001b[0;34m\u001b[0m\u001b[0;34m\u001b[0m\u001b[0m\n\u001b[0;32m---> 12\u001b[0;31m \u001b[0mhistory\u001b[0m \u001b[0;34m=\u001b[0m \u001b[0mmodel\u001b[0m\u001b[0;34m.\u001b[0m\u001b[0mfit\u001b[0m\u001b[0;34m(\u001b[0m\u001b[0mtrain_generator\u001b[0m\u001b[0;34m,\u001b[0m \u001b[0mvalidation_data\u001b[0m\u001b[0;34m=\u001b[0m\u001b[0mvalidate_generator\u001b[0m\u001b[0;34m,\u001b[0m \u001b[0mclass_weight\u001b[0m\u001b[0;34m=\u001b[0m\u001b[0mclass_weights\u001b[0m\u001b[0;34m,\u001b[0m \u001b[0mepochs\u001b[0m\u001b[0;34m=\u001b[0m\u001b[0mnum_epoch\u001b[0m\u001b[0;34m,\u001b[0m \u001b[0mcallbacks\u001b[0m\u001b[0;34m=\u001b[0m\u001b[0;34m[\u001b[0m\u001b[0mEarlyStopping\u001b[0m\u001b[0;34m(\u001b[0m\u001b[0mpatience\u001b[0m\u001b[0;34m=\u001b[0m\u001b[0mnum_patience\u001b[0m\u001b[0;34m,\u001b[0m \u001b[0mmonitor\u001b[0m\u001b[0;34m=\u001b[0m\u001b[0;34m'val_accuracy'\u001b[0m\u001b[0;34m,\u001b[0m \u001b[0mmode\u001b[0m\u001b[0;34m=\u001b[0m\u001b[0;34m'max'\u001b[0m\u001b[0;34m,\u001b[0m \u001b[0mverbose\u001b[0m\u001b[0;34m=\u001b[0m\u001b[0;36m1\u001b[0m\u001b[0;34m)\u001b[0m\u001b[0;34m,\u001b[0m \u001b[0mTensorBoard\u001b[0m\u001b[0;34m(\u001b[0m\u001b[0mlog_dir\u001b[0m\u001b[0;34m=\u001b[0m\u001b[0mfit_result_path2\u001b[0m\u001b[0;34m)\u001b[0m\u001b[0;34m,\u001b[0m \u001b[0mModelCheckpoint\u001b[0m\u001b[0;34m(\u001b[0m\u001b[0mfilepath\u001b[0m\u001b[0;34m=\u001b[0m\u001b[0mos\u001b[0m\u001b[0;34m.\u001b[0m\u001b[0mpath\u001b[0m\u001b[0;34m.\u001b[0m\u001b[0mjoin\u001b[0m\u001b[0;34m(\u001b[0m\u001b[0mfit_result_path2\u001b[0m\u001b[0;34m,\u001b[0m \u001b[0;34m'epoch_{epoch:02d}_valloss_{val_loss:.4f}_valacc_{val_accuracy:.4f}.hdf5'\u001b[0m \u001b[0;34m)\u001b[0m\u001b[0;34m,\u001b[0m \u001b[0mverbose\u001b[0m\u001b[0;34m=\u001b[0m\u001b[0;36m1\u001b[0m\u001b[0;34m,\u001b[0m \u001b[0mmonitor\u001b[0m\u001b[0;34m=\u001b[0m\u001b[0;34m\"val_accuracy\"\u001b[0m\u001b[0;34m,\u001b[0m \u001b[0msave_best_only\u001b[0m\u001b[0;34m=\u001b[0m\u001b[0;32mTrue\u001b[0m\u001b[0;34m)\u001b[0m\u001b[0;34m]\u001b[0m\u001b[0;34m)\u001b[0m\u001b[0;34m\u001b[0m\u001b[0;34m\u001b[0m\u001b[0m\n\u001b[0m",
      "\u001b[0;32m~/miniconda3/envs/whistle_classifier/lib/python3.8/site-packages/tensorflow/python/keras/engine/training.py\u001b[0m in \u001b[0;36m_method_wrapper\u001b[0;34m(self, *args, **kwargs)\u001b[0m\n\u001b[1;32m     64\u001b[0m   \u001b[0;32mdef\u001b[0m \u001b[0m_method_wrapper\u001b[0m\u001b[0;34m(\u001b[0m\u001b[0mself\u001b[0m\u001b[0;34m,\u001b[0m \u001b[0;34m*\u001b[0m\u001b[0margs\u001b[0m\u001b[0;34m,\u001b[0m \u001b[0;34m**\u001b[0m\u001b[0mkwargs\u001b[0m\u001b[0;34m)\u001b[0m\u001b[0;34m:\u001b[0m\u001b[0;34m\u001b[0m\u001b[0;34m\u001b[0m\u001b[0m\n\u001b[1;32m     65\u001b[0m     \u001b[0;32mif\u001b[0m \u001b[0;32mnot\u001b[0m \u001b[0mself\u001b[0m\u001b[0;34m.\u001b[0m\u001b[0m_in_multi_worker_mode\u001b[0m\u001b[0;34m(\u001b[0m\u001b[0;34m)\u001b[0m\u001b[0;34m:\u001b[0m  \u001b[0;31m# pylint: disable=protected-access\u001b[0m\u001b[0;34m\u001b[0m\u001b[0;34m\u001b[0m\u001b[0m\n\u001b[0;32m---> 66\u001b[0;31m       \u001b[0;32mreturn\u001b[0m \u001b[0mmethod\u001b[0m\u001b[0;34m(\u001b[0m\u001b[0mself\u001b[0m\u001b[0;34m,\u001b[0m \u001b[0;34m*\u001b[0m\u001b[0margs\u001b[0m\u001b[0;34m,\u001b[0m \u001b[0;34m**\u001b[0m\u001b[0mkwargs\u001b[0m\u001b[0;34m)\u001b[0m\u001b[0;34m\u001b[0m\u001b[0;34m\u001b[0m\u001b[0m\n\u001b[0m\u001b[1;32m     67\u001b[0m \u001b[0;34m\u001b[0m\u001b[0m\n\u001b[1;32m     68\u001b[0m     \u001b[0;31m# Running inside `run_distribute_coordinator` already.\u001b[0m\u001b[0;34m\u001b[0m\u001b[0;34m\u001b[0m\u001b[0;34m\u001b[0m\u001b[0m\n",
      "\u001b[0;32m~/miniconda3/envs/whistle_classifier/lib/python3.8/site-packages/tensorflow/python/keras/engine/training.py\u001b[0m in \u001b[0;36mfit\u001b[0;34m(self, x, y, batch_size, epochs, verbose, callbacks, validation_split, validation_data, shuffle, class_weight, sample_weight, initial_epoch, steps_per_epoch, validation_steps, validation_batch_size, validation_freq, max_queue_size, workers, use_multiprocessing)\u001b[0m\n\u001b[1;32m    846\u001b[0m                 batch_size=batch_size):\n\u001b[1;32m    847\u001b[0m               \u001b[0mcallbacks\u001b[0m\u001b[0;34m.\u001b[0m\u001b[0mon_train_batch_begin\u001b[0m\u001b[0;34m(\u001b[0m\u001b[0mstep\u001b[0m\u001b[0;34m)\u001b[0m\u001b[0;34m\u001b[0m\u001b[0;34m\u001b[0m\u001b[0m\n\u001b[0;32m--> 848\u001b[0;31m               \u001b[0mtmp_logs\u001b[0m \u001b[0;34m=\u001b[0m \u001b[0mtrain_function\u001b[0m\u001b[0;34m(\u001b[0m\u001b[0miterator\u001b[0m\u001b[0;34m)\u001b[0m\u001b[0;34m\u001b[0m\u001b[0;34m\u001b[0m\u001b[0m\n\u001b[0m\u001b[1;32m    849\u001b[0m               \u001b[0;31m# Catch OutOfRangeError for Datasets of unknown size.\u001b[0m\u001b[0;34m\u001b[0m\u001b[0;34m\u001b[0m\u001b[0;34m\u001b[0m\u001b[0m\n\u001b[1;32m    850\u001b[0m               \u001b[0;31m# This blocks until the batch has finished executing.\u001b[0m\u001b[0;34m\u001b[0m\u001b[0;34m\u001b[0m\u001b[0;34m\u001b[0m\u001b[0m\n",
      "\u001b[0;32m~/miniconda3/envs/whistle_classifier/lib/python3.8/site-packages/tensorflow/python/eager/def_function.py\u001b[0m in \u001b[0;36m__call__\u001b[0;34m(self, *args, **kwds)\u001b[0m\n\u001b[1;32m    578\u001b[0m         \u001b[0mxla_context\u001b[0m\u001b[0;34m.\u001b[0m\u001b[0mExit\u001b[0m\u001b[0;34m(\u001b[0m\u001b[0;34m)\u001b[0m\u001b[0;34m\u001b[0m\u001b[0;34m\u001b[0m\u001b[0m\n\u001b[1;32m    579\u001b[0m     \u001b[0;32melse\u001b[0m\u001b[0;34m:\u001b[0m\u001b[0;34m\u001b[0m\u001b[0;34m\u001b[0m\u001b[0m\n\u001b[0;32m--> 580\u001b[0;31m       \u001b[0mresult\u001b[0m \u001b[0;34m=\u001b[0m \u001b[0mself\u001b[0m\u001b[0;34m.\u001b[0m\u001b[0m_call\u001b[0m\u001b[0;34m(\u001b[0m\u001b[0;34m*\u001b[0m\u001b[0margs\u001b[0m\u001b[0;34m,\u001b[0m \u001b[0;34m**\u001b[0m\u001b[0mkwds\u001b[0m\u001b[0;34m)\u001b[0m\u001b[0;34m\u001b[0m\u001b[0;34m\u001b[0m\u001b[0m\n\u001b[0m\u001b[1;32m    581\u001b[0m \u001b[0;34m\u001b[0m\u001b[0m\n\u001b[1;32m    582\u001b[0m     \u001b[0;32mif\u001b[0m \u001b[0mtracing_count\u001b[0m \u001b[0;34m==\u001b[0m \u001b[0mself\u001b[0m\u001b[0;34m.\u001b[0m\u001b[0m_get_tracing_count\u001b[0m\u001b[0;34m(\u001b[0m\u001b[0;34m)\u001b[0m\u001b[0;34m:\u001b[0m\u001b[0;34m\u001b[0m\u001b[0;34m\u001b[0m\u001b[0m\n",
      "\u001b[0;32m~/miniconda3/envs/whistle_classifier/lib/python3.8/site-packages/tensorflow/python/eager/def_function.py\u001b[0m in \u001b[0;36m_call\u001b[0;34m(self, *args, **kwds)\u001b[0m\n\u001b[1;32m    609\u001b[0m       \u001b[0;31m# In this case we have created variables on the first call, so we run the\u001b[0m\u001b[0;34m\u001b[0m\u001b[0;34m\u001b[0m\u001b[0;34m\u001b[0m\u001b[0m\n\u001b[1;32m    610\u001b[0m       \u001b[0;31m# defunned version which is guaranteed to never create variables.\u001b[0m\u001b[0;34m\u001b[0m\u001b[0;34m\u001b[0m\u001b[0;34m\u001b[0m\u001b[0m\n\u001b[0;32m--> 611\u001b[0;31m       \u001b[0;32mreturn\u001b[0m \u001b[0mself\u001b[0m\u001b[0;34m.\u001b[0m\u001b[0m_stateless_fn\u001b[0m\u001b[0;34m(\u001b[0m\u001b[0;34m*\u001b[0m\u001b[0margs\u001b[0m\u001b[0;34m,\u001b[0m \u001b[0;34m**\u001b[0m\u001b[0mkwds\u001b[0m\u001b[0;34m)\u001b[0m  \u001b[0;31m# pylint: disable=not-callable\u001b[0m\u001b[0;34m\u001b[0m\u001b[0;34m\u001b[0m\u001b[0m\n\u001b[0m\u001b[1;32m    612\u001b[0m     \u001b[0;32melif\u001b[0m \u001b[0mself\u001b[0m\u001b[0;34m.\u001b[0m\u001b[0m_stateful_fn\u001b[0m \u001b[0;32mis\u001b[0m \u001b[0;32mnot\u001b[0m \u001b[0;32mNone\u001b[0m\u001b[0;34m:\u001b[0m\u001b[0;34m\u001b[0m\u001b[0;34m\u001b[0m\u001b[0m\n\u001b[1;32m    613\u001b[0m       \u001b[0;31m# Release the lock early so that multiple threads can perform the call\u001b[0m\u001b[0;34m\u001b[0m\u001b[0;34m\u001b[0m\u001b[0;34m\u001b[0m\u001b[0m\n",
      "\u001b[0;32m~/miniconda3/envs/whistle_classifier/lib/python3.8/site-packages/tensorflow/python/eager/function.py\u001b[0m in \u001b[0;36m__call__\u001b[0;34m(self, *args, **kwargs)\u001b[0m\n\u001b[1;32m   2418\u001b[0m     \u001b[0;32mwith\u001b[0m \u001b[0mself\u001b[0m\u001b[0;34m.\u001b[0m\u001b[0m_lock\u001b[0m\u001b[0;34m:\u001b[0m\u001b[0;34m\u001b[0m\u001b[0;34m\u001b[0m\u001b[0m\n\u001b[1;32m   2419\u001b[0m       \u001b[0mgraph_function\u001b[0m\u001b[0;34m,\u001b[0m \u001b[0margs\u001b[0m\u001b[0;34m,\u001b[0m \u001b[0mkwargs\u001b[0m \u001b[0;34m=\u001b[0m \u001b[0mself\u001b[0m\u001b[0;34m.\u001b[0m\u001b[0m_maybe_define_function\u001b[0m\u001b[0;34m(\u001b[0m\u001b[0margs\u001b[0m\u001b[0;34m,\u001b[0m \u001b[0mkwargs\u001b[0m\u001b[0;34m)\u001b[0m\u001b[0;34m\u001b[0m\u001b[0;34m\u001b[0m\u001b[0m\n\u001b[0;32m-> 2420\u001b[0;31m     \u001b[0;32mreturn\u001b[0m \u001b[0mgraph_function\u001b[0m\u001b[0;34m.\u001b[0m\u001b[0m_filtered_call\u001b[0m\u001b[0;34m(\u001b[0m\u001b[0margs\u001b[0m\u001b[0;34m,\u001b[0m \u001b[0mkwargs\u001b[0m\u001b[0;34m)\u001b[0m  \u001b[0;31m# pylint: disable=protected-access\u001b[0m\u001b[0;34m\u001b[0m\u001b[0;34m\u001b[0m\u001b[0m\n\u001b[0m\u001b[1;32m   2421\u001b[0m \u001b[0;34m\u001b[0m\u001b[0m\n\u001b[1;32m   2422\u001b[0m   \u001b[0;34m@\u001b[0m\u001b[0mproperty\u001b[0m\u001b[0;34m\u001b[0m\u001b[0;34m\u001b[0m\u001b[0m\n",
      "\u001b[0;32m~/miniconda3/envs/whistle_classifier/lib/python3.8/site-packages/tensorflow/python/eager/function.py\u001b[0m in \u001b[0;36m_filtered_call\u001b[0;34m(self, args, kwargs)\u001b[0m\n\u001b[1;32m   1659\u001b[0m       \u001b[0;31m`\u001b[0m\u001b[0margs\u001b[0m\u001b[0;31m`\u001b[0m \u001b[0;32mand\u001b[0m\u001b[0;31m \u001b[0m\u001b[0;31m`\u001b[0m\u001b[0mkwargs\u001b[0m\u001b[0;31m`\u001b[0m\u001b[0;34m.\u001b[0m\u001b[0;34m\u001b[0m\u001b[0;34m\u001b[0m\u001b[0m\n\u001b[1;32m   1660\u001b[0m     \"\"\"\n\u001b[0;32m-> 1661\u001b[0;31m     return self._call_flat(\n\u001b[0m\u001b[1;32m   1662\u001b[0m         (t for t in nest.flatten((args, kwargs), expand_composites=True)\n\u001b[1;32m   1663\u001b[0m          if isinstance(t, (ops.Tensor,\n",
      "\u001b[0;32m~/miniconda3/envs/whistle_classifier/lib/python3.8/site-packages/tensorflow/python/eager/function.py\u001b[0m in \u001b[0;36m_call_flat\u001b[0;34m(self, args, captured_inputs, cancellation_manager)\u001b[0m\n\u001b[1;32m   1743\u001b[0m         and executing_eagerly):\n\u001b[1;32m   1744\u001b[0m       \u001b[0;31m# No tape is watching; skip to running the function.\u001b[0m\u001b[0;34m\u001b[0m\u001b[0;34m\u001b[0m\u001b[0;34m\u001b[0m\u001b[0m\n\u001b[0;32m-> 1745\u001b[0;31m       return self._build_call_outputs(self._inference_function.call(\n\u001b[0m\u001b[1;32m   1746\u001b[0m           ctx, args, cancellation_manager=cancellation_manager))\n\u001b[1;32m   1747\u001b[0m     forward_backward = self._select_forward_and_backward_functions(\n",
      "\u001b[0;32m~/miniconda3/envs/whistle_classifier/lib/python3.8/site-packages/tensorflow/python/eager/function.py\u001b[0m in \u001b[0;36mcall\u001b[0;34m(self, ctx, args, cancellation_manager)\u001b[0m\n\u001b[1;32m    591\u001b[0m       \u001b[0;32mwith\u001b[0m \u001b[0m_InterpolateFunctionError\u001b[0m\u001b[0;34m(\u001b[0m\u001b[0mself\u001b[0m\u001b[0;34m)\u001b[0m\u001b[0;34m:\u001b[0m\u001b[0;34m\u001b[0m\u001b[0;34m\u001b[0m\u001b[0m\n\u001b[1;32m    592\u001b[0m         \u001b[0;32mif\u001b[0m \u001b[0mcancellation_manager\u001b[0m \u001b[0;32mis\u001b[0m \u001b[0;32mNone\u001b[0m\u001b[0;34m:\u001b[0m\u001b[0;34m\u001b[0m\u001b[0;34m\u001b[0m\u001b[0m\n\u001b[0;32m--> 593\u001b[0;31m           outputs = execute.execute(\n\u001b[0m\u001b[1;32m    594\u001b[0m               \u001b[0mstr\u001b[0m\u001b[0;34m(\u001b[0m\u001b[0mself\u001b[0m\u001b[0;34m.\u001b[0m\u001b[0msignature\u001b[0m\u001b[0;34m.\u001b[0m\u001b[0mname\u001b[0m\u001b[0;34m)\u001b[0m\u001b[0;34m,\u001b[0m\u001b[0;34m\u001b[0m\u001b[0;34m\u001b[0m\u001b[0m\n\u001b[1;32m    595\u001b[0m               \u001b[0mnum_outputs\u001b[0m\u001b[0;34m=\u001b[0m\u001b[0mself\u001b[0m\u001b[0;34m.\u001b[0m\u001b[0m_num_outputs\u001b[0m\u001b[0;34m,\u001b[0m\u001b[0;34m\u001b[0m\u001b[0;34m\u001b[0m\u001b[0m\n",
      "\u001b[0;32m~/miniconda3/envs/whistle_classifier/lib/python3.8/site-packages/tensorflow/python/eager/execute.py\u001b[0m in \u001b[0;36mquick_execute\u001b[0;34m(op_name, num_outputs, inputs, attrs, ctx, name)\u001b[0m\n\u001b[1;32m     57\u001b[0m   \u001b[0;32mtry\u001b[0m\u001b[0;34m:\u001b[0m\u001b[0;34m\u001b[0m\u001b[0;34m\u001b[0m\u001b[0m\n\u001b[1;32m     58\u001b[0m     \u001b[0mctx\u001b[0m\u001b[0;34m.\u001b[0m\u001b[0mensure_initialized\u001b[0m\u001b[0;34m(\u001b[0m\u001b[0;34m)\u001b[0m\u001b[0;34m\u001b[0m\u001b[0;34m\u001b[0m\u001b[0m\n\u001b[0;32m---> 59\u001b[0;31m     tensors = pywrap_tfe.TFE_Py_Execute(ctx._handle, device_name, op_name,\n\u001b[0m\u001b[1;32m     60\u001b[0m                                         inputs, attrs, num_outputs)\n\u001b[1;32m     61\u001b[0m   \u001b[0;32mexcept\u001b[0m \u001b[0mcore\u001b[0m\u001b[0;34m.\u001b[0m\u001b[0m_NotOkStatusException\u001b[0m \u001b[0;32mas\u001b[0m \u001b[0me\u001b[0m\u001b[0;34m:\u001b[0m\u001b[0;34m\u001b[0m\u001b[0;34m\u001b[0m\u001b[0m\n",
      "\u001b[0;31mKeyboardInterrupt\u001b[0m: "
     ]
    }
   ],
   "source": [
    "# model = model_cnn14_attention_multi(dim_time, dim_freq, num_species, model_type='feature_level_attention', conv_dim=conv_dim, pool_size=pool_size, pool_stride=pool_stride, hidden_units=hidden_units, l2_regu=l2_regu, drop_rate=drop_rate)\n",
    "# model = model_cnn14_spp(dim_time, dim_freq, num_species, conv_dim=conv_dim, pool_size=pool_size, pool_stride=pool_stride, hidden_units=hidden_units, l2_regu=l2_regu, drop_rate=drop_rate)\n",
    "model = model_conv_lstm(dim_time, dim_freq, num_species, conv_dim=conv_dim, pool_size=pool_size, pool_stride=pool_stride, hidden_units=hidden_units, l2_regu=l2_regu, drop_rate=drop_rate)\n",
    "# loss = CategoricalCrossentropy()\n",
    "loss = binary_crossentropy\n",
    "model.compile(optimizer=tf.keras.optimizers.Adam(learning_rate=learning_rate_fn), loss=loss, metrics=['accuracy'])\n",
    "\n",
    "# With classes\n",
    "# history = model.fit(fea_train, to_categorical(label_train), class_weight=class_weights, validation_split=0.3, batch_size=batch_size, epochs=num_epoch, callbacks=[EarlyStopping(patience=num_patience), ModelCheckpoint(filepath=os.path.join(fit_result_path, '{epoch:02d}-{val_loss:.4f}.hdf5'), verbose=1, monitor=\"val_loss\", save_best_only=True)])\n",
    "# history = model.fit(train_generator, validation_data=validate_generator, class_weight=class_weights, epochs=num_epoch, callbacks=[EarlyStopping(patience=num_patience, monitor='val_loss', mode='min', verbose=1), TensorBoard(log_dir=fit_result_path1), ModelCheckpoint(filepath=os.path.join(fit_result_path1, '{epoch:02d}-{val_loss:.4f}.hdf5'), verbose=1, monitor=\"val_loss\", save_best_only=True)])\n",
    "# history = model.fit(train_generator, validation_data=validate_generator, class_weight=class_weights, epochs=num_epoch, callbacks=[EarlyStopping(patience=num_patience, monitor='val_loss', mode='min', verbose=1), TensorBoard(log_dir=fit_result_path2), ModelCheckpoint(filepath=os.path.join(fit_result_path2, 'epoch_{epoch:02d}_valloss_{val_loss:.4f}_valacc_{val_accuracy:.4f}.hdf5' ), verbose=1, monitor=\"val_accuracy\", save_best_only=True)])\n",
    "history = model.fit(train_generator, validation_data=validate_generator, class_weight=class_weights, epochs=num_epoch, callbacks=[EarlyStopping(patience=num_patience, monitor='val_accuracy', mode='max', verbose=1), TensorBoard(log_dir=fit_result_path2), ModelCheckpoint(filepath=os.path.join(fit_result_path2, 'epoch_{epoch:02d}_valloss_{val_loss:.4f}_valacc_{val_accuracy:.4f}.hdf5' ), verbose=1, monitor=\"val_accuracy\", save_best_only=True)])"
   ]
  },
  {
   "cell_type": "code",
   "execution_count": 76,
   "metadata": {},
   "outputs": [
    {
     "name": "stdout",
     "output_type": "stream",
     "text": [
      "Best model:0.6422\n",
      "/home/ys587/__Data/__whistle/__whislte_30_species/__fit_result_species/20210322_202847/STAR2006/epoch_53_valloss_0.1953_valacc_0.6422.hdf5\n"
     ]
    }
   ],
   "source": [
    "# fit_result_path1 = '/home/ys587/__Data/__whistle/__whislte_30_species/__fit_result_species/20210210_224527'\n",
    "the_best_model, _ = find_best_model(fit_result_path2, purge=False)"
   ]
  },
  {
   "cell_type": "code",
   "execution_count": 77,
   "metadata": {
    "scrolled": true
   },
   "outputs": [
    {
     "name": "stdout",
     "output_type": "stream",
     "text": [
      "WARNING:tensorflow:Layer gru_4 will not use cuDNN kernel since it doesn't meet the cuDNN kernel criteria. It will use generic GPU kernel as fallback when running on GPU\n",
      "WARNING:tensorflow:Layer gru_5 will not use cuDNN kernel since it doesn't meet the cuDNN kernel criteria. It will use generic GPU kernel as fallback when running on GPU\n",
      "Model: \"model_2\"\n",
      "_________________________________________________________________\n",
      "Layer (type)                 Output Shape              Param #   \n",
      "=================================================================\n",
      "input (InputLayer)           [(None, 100, 128, 1)]     0         \n",
      "_________________________________________________________________\n",
      "conv2d_12 (Conv2D)           (None, 100, 128, 16)      160       \n",
      "_________________________________________________________________\n",
      "batch_normalization_12 (Batc (None, 100, 128, 16)      64        \n",
      "_________________________________________________________________\n",
      "activation_12 (Activation)   (None, 100, 128, 16)      0         \n",
      "_________________________________________________________________\n",
      "conv2d_13 (Conv2D)           (None, 100, 128, 16)      2320      \n",
      "_________________________________________________________________\n",
      "batch_normalization_13 (Batc (None, 100, 128, 16)      64        \n",
      "_________________________________________________________________\n",
      "activation_13 (Activation)   (None, 100, 128, 16)      0         \n",
      "_________________________________________________________________\n",
      "max_pooling2d_6 (MaxPooling2 (None, 50, 64, 16)        0         \n",
      "_________________________________________________________________\n",
      "dropout_6 (Dropout)          (None, 50, 64, 16)        0         \n",
      "_________________________________________________________________\n",
      "conv2d_14 (Conv2D)           (None, 50, 64, 32)        4640      \n",
      "_________________________________________________________________\n",
      "batch_normalization_14 (Batc (None, 50, 64, 32)        128       \n",
      "_________________________________________________________________\n",
      "activation_14 (Activation)   (None, 50, 64, 32)        0         \n",
      "_________________________________________________________________\n",
      "conv2d_15 (Conv2D)           (None, 50, 64, 32)        9248      \n",
      "_________________________________________________________________\n",
      "batch_normalization_15 (Batc (None, 50, 64, 32)        128       \n",
      "_________________________________________________________________\n",
      "activation_15 (Activation)   (None, 50, 64, 32)        0         \n",
      "_________________________________________________________________\n",
      "max_pooling2d_7 (MaxPooling2 (None, 50, 32, 32)        0         \n",
      "_________________________________________________________________\n",
      "dropout_7 (Dropout)          (None, 50, 32, 32)        0         \n",
      "_________________________________________________________________\n",
      "conv2d_16 (Conv2D)           (None, 50, 32, 64)        18496     \n",
      "_________________________________________________________________\n",
      "batch_normalization_16 (Batc (None, 50, 32, 64)        256       \n",
      "_________________________________________________________________\n",
      "activation_16 (Activation)   (None, 50, 32, 64)        0         \n",
      "_________________________________________________________________\n",
      "conv2d_17 (Conv2D)           (None, 50, 32, 64)        36928     \n",
      "_________________________________________________________________\n",
      "batch_normalization_17 (Batc (None, 50, 32, 64)        256       \n",
      "_________________________________________________________________\n",
      "activation_17 (Activation)   (None, 50, 32, 64)        0         \n",
      "_________________________________________________________________\n",
      "max_pooling2d_8 (MaxPooling2 (None, 50, 16, 64)        0         \n",
      "_________________________________________________________________\n",
      "dropout_8 (Dropout)          (None, 50, 16, 64)        0         \n",
      "_________________________________________________________________\n",
      "reshape_2 (Reshape)          (None, 50, 1024)          0         \n",
      "_________________________________________________________________\n",
      "gru_4 (GRU)                  (None, 50, 128)           443136    \n",
      "_________________________________________________________________\n",
      "gru_5 (GRU)                  (None, 128)               99072     \n",
      "_________________________________________________________________\n",
      "dense_2 (Dense)              (None, 8)                 1032      \n",
      "=================================================================\n",
      "Total params: 615,928\n",
      "Trainable params: 615,480\n",
      "Non-trainable params: 448\n",
      "_________________________________________________________________\n"
     ]
    }
   ],
   "source": [
    "model = load_model(the_best_model)\n",
    "model.summary()"
   ]
  },
  {
   "cell_type": "code",
   "execution_count": 78,
   "metadata": {},
   "outputs": [],
   "source": [
    "label_pred = model.predict(fea_test)\n",
    "# label_pred = model.predict(test_generator)"
   ]
  },
  {
   "cell_type": "code",
   "execution_count": 79,
   "metadata": {},
   "outputs": [],
   "source": [
    "np.set_printoptions(linewidth=200, precision=2, suppress=True)"
   ]
  },
  {
   "cell_type": "code",
   "execution_count": 80,
   "metadata": {},
   "outputs": [
    {
     "name": "stdout",
     "output_type": "stream",
     "text": [
      "Confusion matrix:\n",
      "['BD', 'CD', 'STR', 'SPT', 'SPIN', 'PLT', 'RT', 'FKW']\n",
      "\n",
      "[[  0   0   0   0   0   0   0   0]\n",
      " [  6   4   7   0   1   4   2   0]\n",
      " [ 72  71 403  79  88  23   9   5]\n",
      " [112   0   9   6  19   0   1   0]\n",
      " [  0   0   0   1   1   0   0   0]\n",
      " [152  22  26   6  26 294  72  34]\n",
      " [  6   1   3   0   5   7  20   4]\n",
      " [ 14   7  23   6   4  64  45 740]]\n",
      "\n",
      "[[0.   0.   0.   0.   0.   0.   0.   0.  ]\n",
      " [0.25 0.17 0.29 0.   0.04 0.17 0.08 0.  ]\n",
      " [0.1  0.09 0.54 0.11 0.12 0.03 0.01 0.01]\n",
      " [0.76 0.   0.06 0.04 0.13 0.   0.01 0.  ]\n",
      " [0.   0.   0.   0.5  0.5  0.   0.   0.  ]\n",
      " [0.24 0.03 0.04 0.01 0.04 0.47 0.11 0.05]\n",
      " [0.13 0.02 0.07 0.   0.11 0.15 0.43 0.09]\n",
      " [0.02 0.01 0.03 0.01 0.   0.07 0.05 0.82]]\n"
     ]
    }
   ],
   "source": [
    "print(\"Confusion matrix:\")\n",
    "cm = confusion_matrix(label_test, np.argmax(label_pred, axis=1), labels=species_id)\n",
    "\n",
    "print(species_list)\n",
    "print('')\n",
    "print(cm)\n",
    "print('')\n",
    "\n",
    "cm2 = cm*1.0\n",
    "for ii in range(cm.shape[0]):\n",
    "    cm_row = cm[ii, :]*1.0\n",
    "\n",
    "    cm_row_sum = cm_row.sum()\n",
    "    if cm_row_sum != 0:\n",
    "        cm2[ii, :] = cm_row / cm_row_sum\n",
    "    else:\n",
    "        cm2[ii, :] = np.zeros(cm.shape[1])\n",
    "\n",
    "print(cm2)"
   ]
  },
  {
   "cell_type": "code",
   "execution_count": 81,
   "metadata": {},
   "outputs": [],
   "source": [
    "from sklearn.metrics import plot_confusion_matrix\n",
    "from sklearn.metrics._plot.confusion_matrix import ConfusionMatrixDisplay\n",
    "disp = ConfusionMatrixDisplay(confusion_matrix=cm, display_labels=species_list)\n",
    "disp2 = ConfusionMatrixDisplay(confusion_matrix=cm2, display_labels=species_list)"
   ]
  },
  {
   "cell_type": "code",
   "execution_count": 82,
   "metadata": {},
   "outputs": [
    {
     "data": {
      "text/plain": [
       "<sklearn.metrics._plot.confusion_matrix.ConfusionMatrixDisplay at 0x7fc2318f5c70>"
      ]
     },
     "execution_count": 82,
     "metadata": {},
     "output_type": "execute_result"
    },
    {
     "data": {
      "image/png": "[encoded data removed]",
      "text/plain": [
       "<Figure size 1080x1080 with 2 Axes>"
      ]
     },
     "metadata": {
      "needs_background": "light"
     },
     "output_type": "display_data"
    }
   ],
   "source": [
    "fig, ax = plt.subplots(figsize=[15, 15])\n",
    "disp.plot(include_values=True,\n",
    "                     cmap='viridis', ax=ax, xticks_rotation='horizontal',\n",
    "                     values_format=None, colorbar=True)\n"
   ]
  },
  {
   "cell_type": "code",
   "execution_count": 83,
   "metadata": {},
   "outputs": [
    {
     "data": {
      "text/plain": [
       "<sklearn.metrics._plot.confusion_matrix.ConfusionMatrixDisplay at 0x7fc2318f5ca0>"
      ]
     },
     "execution_count": 83,
     "metadata": {},
     "output_type": "execute_result"
    },
    {
     "data": {
      "image/png": "[encoded data removed]",
      "text/plain": [
       "<Figure size 1080x1080 with 2 Axes>"
      ]
     },
     "metadata": {
      "needs_background": "light"
     },
     "output_type": "display_data"
    }
   ],
   "source": [
    "fig, ax = plt.subplots(figsize=[15, 15])\n",
    "disp2.plot(include_values=True,\n",
    "                     cmap='viridis', ax=ax, xticks_rotation='horizontal',\n",
    "                     values_format='.2f', colorbar=True)"
   ]
  },
  {
   "cell_type": "markdown",
   "metadata": {},
   "source": [
    "## HICEAS2002"
   ]
  },
  {
   "cell_type": "code",
   "execution_count": null,
   "metadata": {},
   "outputs": [],
   "source": [
    "ee = deployment[3]\n",
    "print(ee)"
   ]
  },
  {
   "cell_type": "code",
   "execution_count": null,
   "metadata": {},
   "outputs": [],
   "source": [
    "# Training data\n",
    "fea_temp = np.load(os.path.join(feature_path, 'train_oswald_no_'+ee+'.npz'))\n",
    "fea_train = fea_temp['fea_train']\n",
    "label_train_list = fea_temp['label_train']\n",
    "del fea_temp"
   ]
  },
  {
   "cell_type": "code",
   "execution_count": null,
   "metadata": {},
   "outputs": [],
   "source": [
    "label_train = np.zeros(len(label_train_list))\n",
    "for ii in range(len(label_train_list)):\n",
    "    label_train[ii] = species_dict[label_train_list[ii]]"
   ]
  },
  {
   "cell_type": "code",
   "execution_count": null,
   "metadata": {},
   "outputs": [],
   "source": [
    "# Testing data\n",
    "fea_temp = np.load(os.path.join(feature_path, 'oswald_'+ee+'_orig.npz'))\n",
    "fea_test = fea_temp['feas_orig']\n",
    "label_test_list = fea_temp['labels_orig']\n",
    "\n",
    "fea_test = fea_test[:,:100,:]\n",
    "label_test = np.zeros(len(label_test_list))\n",
    "for ii in range(len(label_test_list)):\n",
    "    label_test[ii] = species_dict[label_test_list[ii]]"
   ]
  },
  {
   "cell_type": "code",
   "execution_count": null,
   "metadata": {},
   "outputs": [],
   "source": [
    "fea_train = fea_train[:,:100,:]"
   ]
  },
  {
   "cell_type": "code",
   "execution_count": null,
   "metadata": {},
   "outputs": [],
   "source": [
    "label_train = np.zeros(len(label_train_list))\n",
    "for ii in range(len(label_train_list)):\n",
    "    label_train[ii] = species_dict[label_train_list[ii]]"
   ]
  },
  {
   "cell_type": "code",
   "execution_count": null,
   "metadata": {
    "scrolled": true
   },
   "outputs": [],
   "source": [
    "Counter(label_train_list)"
   ]
  },
  {
   "cell_type": "code",
   "execution_count": null,
   "metadata": {},
   "outputs": [],
   "source": [
    "Counter(label_test.tolist())"
   ]
  },
  {
   "cell_type": "code",
   "execution_count": null,
   "metadata": {},
   "outputs": [],
   "source": [
    "fit_result_path2 = os.path.join(fit_result_path1, ee)\n",
    "if not os.path.exists(fit_result_path2):\n",
    "    makedirs(fit_result_path2)"
   ]
  },
  {
   "cell_type": "code",
   "execution_count": null,
   "metadata": {},
   "outputs": [],
   "source": [
    "print('feature train shape: '+str(fea_train.shape))\n",
    "print('feature test shape: '+str(fea_test.shape))\n",
    "print('label train shape: '+str(label_train.shape))\n",
    "print('label test shape: '+str(label_test.shape))\n",
    "\n",
    "dim_time = fea_train.shape[1]\n",
    "dim_freq = fea_train.shape[2]\n",
    "print('dim_time: '+str(dim_time))\n",
    "print('dim_freq: '+str(dim_freq))"
   ]
  },
  {
   "cell_type": "code",
   "execution_count": null,
   "metadata": {},
   "outputs": [],
   "source": [
    "# shuffle features & labels\n",
    "fea_train, label_train = shuffle(fea_train, label_train, random_state=0)\n",
    "fea_test, label_test = shuffle(fea_test, label_test, random_state=0)"
   ]
  },
  {
   "cell_type": "code",
   "execution_count": null,
   "metadata": {},
   "outputs": [],
   "source": [
    "# class weight\n",
    "weights = compute_class_weight(class_weight='balanced', classes=np.unique(label_train), y=label_train)\n",
    "\n",
    "class_weights = dict()\n",
    "for ii in range(num_species):\n",
    "    class_weights[ii] = weights[ii]"
   ]
  },
  {
   "cell_type": "code",
   "execution_count": null,
   "metadata": {},
   "outputs": [],
   "source": [
    "fea_train = np.expand_dims(fea_train, axis=3)\n",
    "fea_test = np.expand_dims(fea_test, axis=3)"
   ]
  },
  {
   "cell_type": "code",
   "execution_count": null,
   "metadata": {},
   "outputs": [],
   "source": [
    "fea_train, fea_validate, label_train, label_validate = train_test_split(fea_train, label_train, test_size=0.10, random_state=42)\n",
    "\n",
    "train_generator = DataGenerator(fea_train, label_train, batch_size=batch_size, num_classes=num_species)\n",
    "del fea_train\n",
    "validate_generator = DataGenerator(fea_validate, label_validate, batch_size=batch_size, num_classes=num_species)\n",
    "del fea_validate\n",
    "\n",
    "# test_generator = DataGenerator(fea_test, label_test, batch_size=batch_size, num_classes=num_species)\n"
   ]
  },
  {
   "cell_type": "markdown",
   "metadata": {},
   "source": [
    "### Training the model"
   ]
  },
  {
   "cell_type": "code",
   "execution_count": null,
   "metadata": {
    "scrolled": true
   },
   "outputs": [],
   "source": [
    "# model = model_cnn14_attention_multi(dim_time, dim_freq, num_species, model_type='feature_level_attention', conv_dim=conv_dim, pool_size=pool_size, pool_stride=pool_stride, hidden_units=hidden_units, l2_regu=l2_regu, drop_rate=drop_rate)\n",
    "# model = model_cnn14_spp(dim_time, dim_freq, num_species, conv_dim=conv_dim, pool_size=pool_size, pool_stride=pool_stride, hidden_units=hidden_units, l2_regu=l2_regu, drop_rate=drop_rate)\n",
    "model = model_conv_lstm(dim_time, dim_freq, num_species, conv_dim=conv_dim, pool_size=pool_size, pool_stride=pool_stride, hidden_units=hidden_units, l2_regu=l2_regu, drop_rate=drop_rate)\n",
    "# loss = CategoricalCrossentropy()\n",
    "loss = binary_crossentropy\n",
    "model.compile(optimizer=tf.keras.optimizers.Adam(learning_rate=learning_rate_fn), loss=loss, metrics=['accuracy'])\n",
    "\n",
    "# With classes\n",
    "# history = model.fit(fea_train, to_categorical(label_train), class_weight=class_weights, validation_split=0.3, batch_size=batch_size, epochs=num_epoch, callbacks=[EarlyStopping(patience=num_patience), ModelCheckpoint(filepath=os.path.join(fit_result_path, '{epoch:02d}-{val_loss:.4f}.hdf5'), verbose=1, monitor=\"val_loss\", save_best_only=True)])\n",
    "# history = model.fit(train_generator, validation_data=validate_generator, class_weight=class_weights, epochs=num_epoch, callbacks=[EarlyStopping(patience=num_patience, monitor='val_loss', mode='min', verbose=1), TensorBoard(log_dir=fit_result_path1), ModelCheckpoint(filepath=os.path.join(fit_result_path1, '{epoch:02d}-{val_loss:.4f}.hdf5'), verbose=1, monitor=\"val_loss\", save_best_only=True)])\n",
    "# history = model.fit(train_generator, validation_data=validate_generator, class_weight=class_weights, epochs=num_epoch, callbacks=[EarlyStopping(patience=num_patience, monitor='val_loss', mode='min', verbose=1), TensorBoard(log_dir=fit_result_path2), ModelCheckpoint(filepath=os.path.join(fit_result_path2, 'epoch_{epoch:02d}_valloss_{val_loss:.4f}_valacc_{val_accuracy:.4f}.hdf5' ), verbose=1, monitor=\"val_accuracy\", save_best_only=True)])\n",
    "history = model.fit(train_generator, validation_data=validate_generator, class_weight=class_weights, epochs=num_epoch, callbacks=[EarlyStopping(patience=num_patience, monitor='val_accuracy', mode='max', verbose=1), TensorBoard(log_dir=fit_result_path2), ModelCheckpoint(filepath=os.path.join(fit_result_path2, 'epoch_{epoch:02d}_valloss_{val_loss:.4f}_valacc_{val_accuracy:.4f}.hdf5' ), verbose=1, monitor=\"val_accuracy\", save_best_only=True)])"
   ]
  },
  {
   "cell_type": "code",
   "execution_count": null,
   "metadata": {},
   "outputs": [],
   "source": [
    "# fit_result_path1 = '/home/ys587/__Data/__whistle/__whislte_30_species/__fit_result_species/20210210_224527'\n",
    "the_best_model, _ = find_best_model(fit_result_path2, purge=False)"
   ]
  },
  {
   "cell_type": "code",
   "execution_count": null,
   "metadata": {
    "scrolled": true
   },
   "outputs": [],
   "source": [
    "model = load_model(the_best_model)\n",
    "model.summary()"
   ]
  },
  {
   "cell_type": "code",
   "execution_count": null,
   "metadata": {},
   "outputs": [],
   "source": [
    "label_pred = model.predict(fea_test)\n",
    "# label_pred = model.predict(test_generator)"
   ]
  },
  {
   "cell_type": "code",
   "execution_count": null,
   "metadata": {},
   "outputs": [],
   "source": [
    "np.set_printoptions(linewidth=200, precision=2, suppress=True)"
   ]
  },
  {
   "cell_type": "code",
   "execution_count": null,
   "metadata": {},
   "outputs": [],
   "source": [
    "print(\"Confusion matrix:\")\n",
    "cm = confusion_matrix(label_test, np.argmax(label_pred, axis=1), labels=species_id)\n",
    "\n",
    "print(species_list)\n",
    "print('')\n",
    "print(cm)\n",
    "print('')\n",
    "\n",
    "cm2 = cm*1.0\n",
    "for ii in range(cm.shape[0]):\n",
    "    cm_row = cm[ii, :]*1.0\n",
    "\n",
    "    cm_row_sum = cm_row.sum()\n",
    "    if cm_row_sum != 0:\n",
    "        cm2[ii, :] = cm_row / cm_row_sum\n",
    "    else:\n",
    "        cm2[ii, :] = np.zeros(cm.shape[1])\n",
    "\n",
    "print(cm2)"
   ]
  },
  {
   "cell_type": "code",
   "execution_count": null,
   "metadata": {},
   "outputs": [],
   "source": [
    "from sklearn.metrics import plot_confusion_matrix\n",
    "from sklearn.metrics._plot.confusion_matrix import ConfusionMatrixDisplay\n",
    "disp = ConfusionMatrixDisplay(confusion_matrix=cm, display_labels=species_list)\n",
    "disp2 = ConfusionMatrixDisplay(confusion_matrix=cm2, display_labels=species_list)"
   ]
  },
  {
   "cell_type": "code",
   "execution_count": null,
   "metadata": {},
   "outputs": [],
   "source": [
    "fig, ax = plt.subplots(figsize=[15, 15])\n",
    "disp.plot(include_values=True,\n",
    "                     cmap='viridis', ax=ax, xticks_rotation='horizontal',\n",
    "                     values_format=None, colorbar=True)\n"
   ]
  },
  {
   "cell_type": "code",
   "execution_count": null,
   "metadata": {},
   "outputs": [],
   "source": [
    "fig, ax = plt.subplots(figsize=[15, 15])\n",
    "disp2.plot(include_values=True,\n",
    "                     cmap='viridis', ax=ax, xticks_rotation='horizontal',\n",
    "                     values_format='.2f', colorbar=True)"
   ]
  },
  {
   "cell_type": "markdown",
   "metadata": {},
   "source": [
    "## PICES2005"
   ]
  },
  {
   "cell_type": "code",
   "execution_count": null,
   "metadata": {},
   "outputs": [],
   "source": [
    "ee = deployment[4]\n",
    "print(ee)"
   ]
  },
  {
   "cell_type": "code",
   "execution_count": null,
   "metadata": {},
   "outputs": [],
   "source": [
    "# Training data\n",
    "fea_temp = np.load(os.path.join(feature_path, 'train_oswald_no_'+ee+'.npz'))\n",
    "fea_train = fea_temp['fea_train']\n",
    "label_train_list = fea_temp['label_train']\n",
    "del fea_temp"
   ]
  },
  {
   "cell_type": "code",
   "execution_count": null,
   "metadata": {},
   "outputs": [],
   "source": [
    "label_train = np.zeros(len(label_train_list))\n",
    "for ii in range(len(label_train_list)):\n",
    "    label_train[ii] = species_dict[label_train_list[ii]]"
   ]
  },
  {
   "cell_type": "code",
   "execution_count": null,
   "metadata": {},
   "outputs": [],
   "source": [
    "# Testing data\n",
    "fea_temp = np.load(os.path.join(feature_path, 'oswald_'+ee+'_orig.npz'))\n",
    "fea_test = fea_temp['feas_orig']\n",
    "label_test_list = fea_temp['labels_orig']\n",
    "\n",
    "fea_test = fea_test[:,:100,:]\n",
    "label_test = np.zeros(len(label_test_list))\n",
    "for ii in range(len(label_test_list)):\n",
    "    label_test[ii] = species_dict[label_test_list[ii]]"
   ]
  },
  {
   "cell_type": "code",
   "execution_count": null,
   "metadata": {},
   "outputs": [],
   "source": [
    "fea_train = fea_train[:,:100,:]"
   ]
  },
  {
   "cell_type": "code",
   "execution_count": null,
   "metadata": {},
   "outputs": [],
   "source": [
    "label_train = np.zeros(len(label_train_list))\n",
    "for ii in range(len(label_train_list)):\n",
    "    label_train[ii] = species_dict[label_train_list[ii]]"
   ]
  },
  {
   "cell_type": "code",
   "execution_count": null,
   "metadata": {
    "scrolled": true
   },
   "outputs": [],
   "source": [
    "Counter(label_train_list)"
   ]
  },
  {
   "cell_type": "code",
   "execution_count": null,
   "metadata": {},
   "outputs": [],
   "source": [
    "Counter(label_test.tolist())"
   ]
  },
  {
   "cell_type": "code",
   "execution_count": null,
   "metadata": {},
   "outputs": [],
   "source": [
    "fit_result_path2 = os.path.join(fit_result_path1, ee)\n",
    "if not os.path.exists(fit_result_path2):\n",
    "    makedirs(fit_result_path2)"
   ]
  },
  {
   "cell_type": "code",
   "execution_count": null,
   "metadata": {},
   "outputs": [],
   "source": [
    "print('feature train shape: '+str(fea_train.shape))\n",
    "print('feature test shape: '+str(fea_test.shape))\n",
    "print('label train shape: '+str(label_train.shape))\n",
    "print('label test shape: '+str(label_test.shape))\n",
    "\n",
    "dim_time = fea_train.shape[1]\n",
    "dim_freq = fea_train.shape[2]\n",
    "print('dim_time: '+str(dim_time))\n",
    "print('dim_freq: '+str(dim_freq))"
   ]
  },
  {
   "cell_type": "code",
   "execution_count": null,
   "metadata": {},
   "outputs": [],
   "source": [
    "# shuffle features & labels\n",
    "fea_train, label_train = shuffle(fea_train, label_train, random_state=0)\n",
    "fea_test, label_test = shuffle(fea_test, label_test, random_state=0)"
   ]
  },
  {
   "cell_type": "code",
   "execution_count": null,
   "metadata": {},
   "outputs": [],
   "source": [
    "# class weight\n",
    "weights = compute_class_weight(class_weight='balanced', classes=np.unique(label_train), y=label_train)\n",
    "\n",
    "class_weights = dict()\n",
    "for ii in range(num_species):\n",
    "    class_weights[ii] = weights[ii]"
   ]
  },
  {
   "cell_type": "code",
   "execution_count": null,
   "metadata": {},
   "outputs": [],
   "source": [
    "fea_train = np.expand_dims(fea_train, axis=3)\n",
    "fea_test = np.expand_dims(fea_test, axis=3)"
   ]
  },
  {
   "cell_type": "code",
   "execution_count": null,
   "metadata": {},
   "outputs": [],
   "source": [
    "fea_train, fea_validate, label_train, label_validate = train_test_split(fea_train, label_train, test_size=0.10, random_state=42)\n",
    "\n",
    "train_generator = DataGenerator(fea_train, label_train, batch_size=batch_size, num_classes=num_species)\n",
    "del fea_train\n",
    "validate_generator = DataGenerator(fea_validate, label_validate, batch_size=batch_size, num_classes=num_species)\n",
    "del fea_validate\n",
    "\n",
    "# test_generator = DataGenerator(fea_test, label_test, batch_size=batch_size, num_classes=num_species)\n"
   ]
  },
  {
   "cell_type": "markdown",
   "metadata": {},
   "source": [
    "### Training the model"
   ]
  },
  {
   "cell_type": "code",
   "execution_count": null,
   "metadata": {
    "scrolled": true
   },
   "outputs": [],
   "source": [
    "# model = model_cnn14_attention_multi(dim_time, dim_freq, num_species, model_type='feature_level_attention', conv_dim=conv_dim, pool_size=pool_size, pool_stride=pool_stride, hidden_units=hidden_units, l2_regu=l2_regu, drop_rate=drop_rate)\n",
    "# model = model_cnn14_spp(dim_time, dim_freq, num_species, conv_dim=conv_dim, pool_size=pool_size, pool_stride=pool_stride, hidden_units=hidden_units, l2_regu=l2_regu, drop_rate=drop_rate)\n",
    "model = model_conv_lstm(dim_time, dim_freq, num_species, conv_dim=conv_dim, pool_size=pool_size, pool_stride=pool_stride, hidden_units=hidden_units, l2_regu=l2_regu, drop_rate=drop_rate)\n",
    "# loss = CategoricalCrossentropy()\n",
    "loss = binary_crossentropy\n",
    "model.compile(optimizer=tf.keras.optimizers.Adam(learning_rate=learning_rate_fn), loss=loss, metrics=['accuracy'])\n",
    "\n",
    "# With classes\n",
    "# history = model.fit(fea_train, to_categorical(label_train), class_weight=class_weights, validation_split=0.3, batch_size=batch_size, epochs=num_epoch, callbacks=[EarlyStopping(patience=num_patience), ModelCheckpoint(filepath=os.path.join(fit_result_path, '{epoch:02d}-{val_loss:.4f}.hdf5'), verbose=1, monitor=\"val_loss\", save_best_only=True)])\n",
    "# history = model.fit(train_generator, validation_data=validate_generator, class_weight=class_weights, epochs=num_epoch, callbacks=[EarlyStopping(patience=num_patience, monitor='val_loss', mode='min', verbose=1), TensorBoard(log_dir=fit_result_path1), ModelCheckpoint(filepath=os.path.join(fit_result_path1, '{epoch:02d}-{val_loss:.4f}.hdf5'), verbose=1, monitor=\"val_loss\", save_best_only=True)])\n",
    "# history = model.fit(train_generator, validation_data=validate_generator, class_weight=class_weights, epochs=num_epoch, callbacks=[EarlyStopping(patience=num_patience, monitor='val_loss', mode='min', verbose=1), TensorBoard(log_dir=fit_result_path2), ModelCheckpoint(filepath=os.path.join(fit_result_path2, 'epoch_{epoch:02d}_valloss_{val_loss:.4f}_valacc_{val_accuracy:.4f}.hdf5' ), verbose=1, monitor=\"val_accuracy\", save_best_only=True)])\n",
    "history = model.fit(train_generator, validation_data=validate_generator, class_weight=class_weights, epochs=num_epoch, callbacks=[EarlyStopping(patience=num_patience, monitor='val_accuracy', mode='max', verbose=1), TensorBoard(log_dir=fit_result_path2), ModelCheckpoint(filepath=os.path.join(fit_result_path2, 'epoch_{epoch:02d}_valloss_{val_loss:.4f}_valacc_{val_accuracy:.4f}.hdf5' ), verbose=1, monitor=\"val_accuracy\", save_best_only=True)])"
   ]
  },
  {
   "cell_type": "code",
   "execution_count": null,
   "metadata": {},
   "outputs": [],
   "source": [
    "# fit_result_path1 = '/home/ys587/__Data/__whistle/__whislte_30_species/__fit_result_species/20210210_224527'\n",
    "the_best_model, _ = find_best_model(fit_result_path2, purge=False)"
   ]
  },
  {
   "cell_type": "code",
   "execution_count": null,
   "metadata": {
    "scrolled": true
   },
   "outputs": [],
   "source": [
    "model = load_model(the_best_model)\n",
    "model.summary()"
   ]
  },
  {
   "cell_type": "code",
   "execution_count": null,
   "metadata": {},
   "outputs": [],
   "source": [
    "label_pred = model.predict(fea_test)\n",
    "# label_pred = model.predict(test_generator)"
   ]
  },
  {
   "cell_type": "code",
   "execution_count": null,
   "metadata": {},
   "outputs": [],
   "source": [
    "np.set_printoptions(linewidth=200, precision=2, suppress=True)"
   ]
  },
  {
   "cell_type": "code",
   "execution_count": null,
   "metadata": {},
   "outputs": [],
   "source": [
    "print(\"Confusion matrix:\")\n",
    "cm = confusion_matrix(label_test, np.argmax(label_pred, axis=1), labels=species_id)\n",
    "\n",
    "print(species_list)\n",
    "print('')\n",
    "print(cm)\n",
    "print('')\n",
    "\n",
    "cm2 = cm*1.0\n",
    "for ii in range(cm.shape[0]):\n",
    "    cm_row = cm[ii, :]*1.0\n",
    "\n",
    "    cm_row_sum = cm_row.sum()\n",
    "    if cm_row_sum != 0:\n",
    "        cm2[ii, :] = cm_row / cm_row_sum\n",
    "    else:\n",
    "        cm2[ii, :] = np.zeros(cm.shape[1])\n",
    "\n",
    "print(cm2)"
   ]
  },
  {
   "cell_type": "code",
   "execution_count": null,
   "metadata": {},
   "outputs": [],
   "source": [
    "from sklearn.metrics import plot_confusion_matrix\n",
    "from sklearn.metrics._plot.confusion_matrix import ConfusionMatrixDisplay\n",
    "disp = ConfusionMatrixDisplay(confusion_matrix=cm, display_labels=species_list)\n",
    "disp2 = ConfusionMatrixDisplay(confusion_matrix=cm2, display_labels=species_list)"
   ]
  },
  {
   "cell_type": "code",
   "execution_count": null,
   "metadata": {},
   "outputs": [],
   "source": [
    "fig, ax = plt.subplots(figsize=[15, 15])\n",
    "disp.plot(include_values=True,\n",
    "                     cmap='viridis', ax=ax, xticks_rotation='horizontal',\n",
    "                     values_format=None, colorbar=True)\n"
   ]
  },
  {
   "cell_type": "code",
   "execution_count": null,
   "metadata": {},
   "outputs": [],
   "source": [
    "fig, ax = plt.subplots(figsize=[15, 15])\n",
    "disp2.plot(include_values=True,\n",
    "                     cmap='viridis', ax=ax, xticks_rotation='horizontal',\n",
    "                     values_format='.2f', colorbar=True)"
   ]
  },
  {
   "cell_type": "code",
   "execution_count": null,
   "metadata": {},
   "outputs": [],
   "source": []
  },
  {
   "cell_type": "code",
   "execution_count": null,
   "metadata": {},
   "outputs": [],
   "source": []
  },
  {
   "cell_type": "code",
   "execution_count": null,
   "metadata": {},
   "outputs": [],
   "source": []
  },
  {
   "cell_type": "code",
   "execution_count": null,
   "metadata": {},
   "outputs": [],
   "source": []
  },
  {
   "cell_type": "code",
   "execution_count": null,
   "metadata": {},
   "outputs": [],
   "source": []
  },
  {
   "cell_type": "code",
   "execution_count": null,
   "metadata": {},
   "outputs": [],
   "source": []
  }
 ],
 "metadata": {
  "kernelspec": {
   "display_name": "Python 3",
   "language": "python",
   "name": "python3"
  },
  "language_info": {
   "codemirror_mode": {
    "name": "ipython",
    "version": 3
   },
   "file_extension": ".py",
   "mimetype": "text/x-python",
   "name": "python",
   "nbconvert_exporter": "python",
   "pygments_lexer": "ipython3",
   "version": "3.8.6"
  }
 },
 "nbformat": 4,
 "nbformat_minor": 4
}
